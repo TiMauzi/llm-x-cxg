{
 "cells": [
  {
   "cell_type": "code",
   "execution_count": 1,
   "id": "initial_id",
   "metadata": {
    "collapsed": true,
    "ExecuteTime": {
     "end_time": "2023-10-07T19:17:58.001826700Z",
     "start_time": "2023-10-07T19:17:56.378066800Z"
    }
   },
   "outputs": [],
   "source": [
    "import os\n",
    "\n",
    "import numpy as np\n",
    "import pandas as pd\n",
    "import xml.etree.ElementTree as ET"
   ]
  },
  {
   "cell_type": "markdown",
   "source": [
    "### Konstruktikon:"
   ],
   "metadata": {
    "collapsed": false
   },
   "id": "d6b8ae702f33cd2f"
  },
  {
   "cell_type": "code",
   "execution_count": 2,
   "outputs": [
    {
     "data": {
      "text/plain": "                                                                                       text  \\\nuid                                                                                           \n57B9D1BEB68F44E7A51D1920F1EA6951E39469B5  Und dann ist da noch das generelle Problem mit...   \nD86B38CFA5D2458D9F3615EDD55C9308DF423DB0  »Ohne Europa sind viele Fragen nicht mehr seri...   \n7B3FAB8B01ED862D3D3FA18531B0904BCF24DFF0  Dies lässt sich damit begründen , dass vor und...   \nB003E526D0AA301DA46458D32A82CEEFD7ADADA5  Dennoch hat Hamas es nicht geschafft , ihre mi...   \nC3FFF1CA55CA8FF0A806C33E14A0FB331582698E  Abermillionen rings um die Welt , die das Spek...   \n...                                                                                     ...   \nB5CB5D20EFEDAF65D460621CD3D554622B9EE1E9  \" \" Aber da wird geredet und geredet und , sob...   \n32E879397C3BA674F547058D7CB2B781C55FE1AC  Das erfüllt einen mit Stolz \" \" , sagte Neid u...   \nF0F280AA87B32AF6C4122E5B9C7906A31E88E555  Hier wird getankt , und erst in der Morgenfrüh...   \n549AF1E5C1904364885CE7F8DE324A9E6323629F                                Jetzt wird gewartet   \n877AE69E0356C28DF846CEB9F5C68232C26D99DE  Immerhin wird geskypt , auch das ein schönes D...   \n\n                                                                                contextleft  \\\nuid                                                                                           \n57B9D1BEB68F44E7A51D1920F1EA6951E39469B5  \"\"Wir haben die Gaza-Offensive nicht begonnen,...   \nD86B38CFA5D2458D9F3615EDD55C9308DF423DB0  Die Zeit nationaler Alleingänge sei längst vor...   \n7B3FAB8B01ED862D3D3FA18531B0904BCF24DFF0  Wenn Alexander das Heer nicht geführt hätte, d...   \nB003E526D0AA301DA46458D32A82CEEFD7ADADA5  DerCouncil of Foreign Relations schätzt das jä...   \nC3FFF1CA55CA8FF0A806C33E14A0FB331582698E  Nichts hätte die Mär vom Niedergang der Superm...   \n...                                                                                     ...   \nB5CB5D20EFEDAF65D460621CD3D554622B9EE1E9    Zuerst hat er Flirtportale im Netz ausprobiert.   \n32E879397C3BA674F547058D7CB2B781C55FE1AC  Das ist ja das Besondere, wenn man so ein Turn...   \nF0F280AA87B32AF6C4122E5B9C7906A31E88E555  Schließlich schafft es der Wagen wieder auf di...   \n549AF1E5C1904364885CE7F8DE324A9E6323629F  Auch dass man bereits Kompromissmöglichkeiten ...   \n877AE69E0356C28DF846CEB9F5C68232C26D99DE  Das kannst du doch nicht machen, Frau Kommissa...   \n\n                                                                               contextright  \\\nuid                                                                                           \n57B9D1BEB68F44E7A51D1920F1EA6951E39469B5  Der ehemalige Ministerpräsident Hanija gehört ...   \nD86B38CFA5D2458D9F3615EDD55C9308DF423DB0  Die Frage ist: Kann es Europa gelingen, sich i...   \n7B3FAB8B01ED862D3D3FA18531B0904BCF24DFF0  Ganz anders ist die Beweislage für den ersten ...   \nB003E526D0AA301DA46458D32A82CEEFD7ADADA5  Es ist in erster Linie die politische Führung,...   \nC3FFF1CA55CA8FF0A806C33E14A0FB331582698E  Doch wie schon die Wahl Obamas global war, ist...   \n...                                                                                     ...   \nB5CB5D20EFEDAF65D460621CD3D554622B9EE1E9  Also geht er, der Computerfreak, lieber den al...   \n32E879397C3BA674F547058D7CB2B781C55FE1AC  Das taten die Spielerinnen schon im legendären...   \nF0F280AA87B32AF6C4122E5B9C7906A31E88E555  Von dort geht es gleich ins Berchtesgadener La...   \n549AF1E5C1904364885CE7F8DE324A9E6323629F  Doch was genau gesprochen wurde, blieb auch am...   \n877AE69E0356C28DF846CEB9F5C68232C26D99DE  Der Fall entwickelt sich als Reise in die Verg...   \n\n                                          construction_id     category  \\\nuid                                                                      \n57B9D1BEB68F44E7A51D1920F1EA6951E39469B5               10     Negation   \nD86B38CFA5D2458D9F3615EDD55C9308DF423DB0               10     Negation   \n7B3FAB8B01ED862D3D3FA18531B0904BCF24DFF0               10     Negation   \nB003E526D0AA301DA46458D32A82CEEFD7ADADA5               10     Negation   \nC3FFF1CA55CA8FF0A806C33E14A0FB331582698E               10     Negation   \n...                                                   ...          ...   \nB5CB5D20EFEDAF65D460621CD3D554622B9EE1E9              993  Eigenschaft   \n32E879397C3BA674F547058D7CB2B781C55FE1AC              993  Eigenschaft   \nF0F280AA87B32AF6C4122E5B9C7906A31E88E555              993  Eigenschaft   \n549AF1E5C1904364885CE7F8DE324A9E6323629F              993  Eigenschaft   \n877AE69E0356C28DF846CEB9F5C68232C26D99DE              993  Eigenschaft   \n\n                                                             name  \nuid                                                                \n57B9D1BEB68F44E7A51D1920F1EA6951E39469B5  NEG_X_geschweige_denn_Y  \nD86B38CFA5D2458D9F3615EDD55C9308DF423DB0  NEG_X_geschweige_denn_Y  \n7B3FAB8B01ED862D3D3FA18531B0904BCF24DFF0  NEG_X_geschweige_denn_Y  \nB003E526D0AA301DA46458D32A82CEEFD7ADADA5  NEG_X_geschweige_denn_Y  \nC3FFF1CA55CA8FF0A806C33E14A0FB331582698E  NEG_X_geschweige_denn_Y  \n...                                                           ...  \nB5CB5D20EFEDAF65D460621CD3D554622B9EE1E9       Intransitiv_passiv  \n32E879397C3BA674F547058D7CB2B781C55FE1AC       Intransitiv_passiv  \nF0F280AA87B32AF6C4122E5B9C7906A31E88E555       Intransitiv_passiv  \n549AF1E5C1904364885CE7F8DE324A9E6323629F       Intransitiv_passiv  \n877AE69E0356C28DF846CEB9F5C68232C26D99DE       Intransitiv_passiv  \n\n[10268 rows x 6 columns]",
      "text/html": "<div>\n<style scoped>\n    .dataframe tbody tr th:only-of-type {\n        vertical-align: middle;\n    }\n\n    .dataframe tbody tr th {\n        vertical-align: top;\n    }\n\n    .dataframe thead th {\n        text-align: right;\n    }\n</style>\n<table border=\"1\" class=\"dataframe\">\n  <thead>\n    <tr style=\"text-align: right;\">\n      <th></th>\n      <th>text</th>\n      <th>contextleft</th>\n      <th>contextright</th>\n      <th>construction_id</th>\n      <th>category</th>\n      <th>name</th>\n    </tr>\n    <tr>\n      <th>uid</th>\n      <th></th>\n      <th></th>\n      <th></th>\n      <th></th>\n      <th></th>\n      <th></th>\n    </tr>\n  </thead>\n  <tbody>\n    <tr>\n      <th>57B9D1BEB68F44E7A51D1920F1EA6951E39469B5</th>\n      <td>Und dann ist da noch das generelle Problem mit...</td>\n      <td>\"\"Wir haben die Gaza-Offensive nicht begonnen,...</td>\n      <td>Der ehemalige Ministerpräsident Hanija gehört ...</td>\n      <td>10</td>\n      <td>Negation</td>\n      <td>NEG_X_geschweige_denn_Y</td>\n    </tr>\n    <tr>\n      <th>D86B38CFA5D2458D9F3615EDD55C9308DF423DB0</th>\n      <td>»Ohne Europa sind viele Fragen nicht mehr seri...</td>\n      <td>Die Zeit nationaler Alleingänge sei längst vor...</td>\n      <td>Die Frage ist: Kann es Europa gelingen, sich i...</td>\n      <td>10</td>\n      <td>Negation</td>\n      <td>NEG_X_geschweige_denn_Y</td>\n    </tr>\n    <tr>\n      <th>7B3FAB8B01ED862D3D3FA18531B0904BCF24DFF0</th>\n      <td>Dies lässt sich damit begründen , dass vor und...</td>\n      <td>Wenn Alexander das Heer nicht geführt hätte, d...</td>\n      <td>Ganz anders ist die Beweislage für den ersten ...</td>\n      <td>10</td>\n      <td>Negation</td>\n      <td>NEG_X_geschweige_denn_Y</td>\n    </tr>\n    <tr>\n      <th>B003E526D0AA301DA46458D32A82CEEFD7ADADA5</th>\n      <td>Dennoch hat Hamas es nicht geschafft , ihre mi...</td>\n      <td>DerCouncil of Foreign Relations schätzt das jä...</td>\n      <td>Es ist in erster Linie die politische Führung,...</td>\n      <td>10</td>\n      <td>Negation</td>\n      <td>NEG_X_geschweige_denn_Y</td>\n    </tr>\n    <tr>\n      <th>C3FFF1CA55CA8FF0A806C33E14A0FB331582698E</th>\n      <td>Abermillionen rings um die Welt , die das Spek...</td>\n      <td>Nichts hätte die Mär vom Niedergang der Superm...</td>\n      <td>Doch wie schon die Wahl Obamas global war, ist...</td>\n      <td>10</td>\n      <td>Negation</td>\n      <td>NEG_X_geschweige_denn_Y</td>\n    </tr>\n    <tr>\n      <th>...</th>\n      <td>...</td>\n      <td>...</td>\n      <td>...</td>\n      <td>...</td>\n      <td>...</td>\n      <td>...</td>\n    </tr>\n    <tr>\n      <th>B5CB5D20EFEDAF65D460621CD3D554622B9EE1E9</th>\n      <td>\" \" Aber da wird geredet und geredet und , sob...</td>\n      <td>Zuerst hat er Flirtportale im Netz ausprobiert.</td>\n      <td>Also geht er, der Computerfreak, lieber den al...</td>\n      <td>993</td>\n      <td>Eigenschaft</td>\n      <td>Intransitiv_passiv</td>\n    </tr>\n    <tr>\n      <th>32E879397C3BA674F547058D7CB2B781C55FE1AC</th>\n      <td>Das erfüllt einen mit Stolz \" \" , sagte Neid u...</td>\n      <td>Das ist ja das Besondere, wenn man so ein Turn...</td>\n      <td>Das taten die Spielerinnen schon im legendären...</td>\n      <td>993</td>\n      <td>Eigenschaft</td>\n      <td>Intransitiv_passiv</td>\n    </tr>\n    <tr>\n      <th>F0F280AA87B32AF6C4122E5B9C7906A31E88E555</th>\n      <td>Hier wird getankt , und erst in der Morgenfrüh...</td>\n      <td>Schließlich schafft es der Wagen wieder auf di...</td>\n      <td>Von dort geht es gleich ins Berchtesgadener La...</td>\n      <td>993</td>\n      <td>Eigenschaft</td>\n      <td>Intransitiv_passiv</td>\n    </tr>\n    <tr>\n      <th>549AF1E5C1904364885CE7F8DE324A9E6323629F</th>\n      <td>Jetzt wird gewartet</td>\n      <td>Auch dass man bereits Kompromissmöglichkeiten ...</td>\n      <td>Doch was genau gesprochen wurde, blieb auch am...</td>\n      <td>993</td>\n      <td>Eigenschaft</td>\n      <td>Intransitiv_passiv</td>\n    </tr>\n    <tr>\n      <th>877AE69E0356C28DF846CEB9F5C68232C26D99DE</th>\n      <td>Immerhin wird geskypt , auch das ein schönes D...</td>\n      <td>Das kannst du doch nicht machen, Frau Kommissa...</td>\n      <td>Der Fall entwickelt sich als Reise in die Verg...</td>\n      <td>993</td>\n      <td>Eigenschaft</td>\n      <td>Intransitiv_passiv</td>\n    </tr>\n  </tbody>\n</table>\n<p>10268 rows × 6 columns</p>\n</div>"
     },
     "execution_count": 2,
     "metadata": {},
     "output_type": "execute_result"
    }
   ],
   "source": [
    "def parse_sentences(xml_file):\n",
    "    tree = ET.parse(xml_file)\n",
    "    root = tree.getroot()\n",
    "\n",
    "    construction_id = root.attrib.get('id')\n",
    "    try:\n",
    "        category, name = root.attrib.get('name').split(':')\n",
    "    except ValueError:\n",
    "        category = root.attrib.get('name')\n",
    "        name = None\n",
    "\n",
    "    sentences_data = []\n",
    "    \n",
    "    for sentence in root.findall('.//sentence'):\n",
    "        if sentence.attrib.get('uid') is None:\n",
    "            continue\n",
    "        uid = sentence.attrib.get('uid')\n",
    "        text = sentence.find('.//text').text.strip()\n",
    "        contextleft = sentence.find('.//contextleft').text.strip()\n",
    "        contextright = sentence.find('.//contextright').text.strip()\n",
    "        \n",
    "        sentences_data.append({\n",
    "            'uid': uid,\n",
    "            'text': text,\n",
    "            'contextleft': contextleft,\n",
    "            'contextright': contextright,\n",
    "            'construction_id': int(construction_id),\n",
    "            'category': category,\n",
    "            'name': name,\n",
    "        })\n",
    "\n",
    "    return sentences_data\n",
    "\n",
    "kee_list = []\n",
    "xml_directory = '../data/constructicon/construction'\n",
    "\n",
    "for filename in os.listdir(xml_directory):\n",
    "    if filename.endswith('.xml'):\n",
    "        xml_file = os.path.join(xml_directory, filename)\n",
    "        data = parse_sentences(xml_file)\n",
    "        if data:\n",
    "            kee_list += data\n",
    "\n",
    "sentences = pd.DataFrame.from_dict(kee_list)\n",
    "sentences.set_index('uid', inplace=True)\n",
    "sentences"
   ],
   "metadata": {
    "collapsed": false,
    "ExecuteTime": {
     "end_time": "2023-10-07T19:18:09.795805Z",
     "start_time": "2023-10-07T19:17:58.011828300Z"
    }
   },
   "id": "a90cdfcb72562113"
  },
  {
   "cell_type": "code",
   "execution_count": 3,
   "outputs": [
    {
     "data": {
      "text/plain": "                             category                     name\nconstruction_id                                               \n10                           Negation  NEG_X_geschweige_denn_Y\n100                    Äquativ_Plural               gleich_ADJ\n1004                Superlativ_Klimax          ADJ1_ADJ1-er_NP\n1006                       Superlativ         PRÄP_ADJ-ster_NP\n101                           Äquativ               ADJ_wie_NP\n...                               ...                      ...\n98                            Äquativ            so_ADJ_wie_XP\n980                   Quantifizierung        CARD_KATEGORIE_NP\n985              Relation_zweistellig          Transitiv_aktiv\n99                         Komparativ             ADJ-er_als_X\n993                       Eigenschaft       Intransitiv_passiv\n\n[330 rows x 2 columns]",
      "text/html": "<div>\n<style scoped>\n    .dataframe tbody tr th:only-of-type {\n        vertical-align: middle;\n    }\n\n    .dataframe tbody tr th {\n        vertical-align: top;\n    }\n\n    .dataframe thead th {\n        text-align: right;\n    }\n</style>\n<table border=\"1\" class=\"dataframe\">\n  <thead>\n    <tr style=\"text-align: right;\">\n      <th></th>\n      <th>category</th>\n      <th>name</th>\n    </tr>\n    <tr>\n      <th>construction_id</th>\n      <th></th>\n      <th></th>\n    </tr>\n  </thead>\n  <tbody>\n    <tr>\n      <th>10</th>\n      <td>Negation</td>\n      <td>NEG_X_geschweige_denn_Y</td>\n    </tr>\n    <tr>\n      <th>100</th>\n      <td>Äquativ_Plural</td>\n      <td>gleich_ADJ</td>\n    </tr>\n    <tr>\n      <th>1004</th>\n      <td>Superlativ_Klimax</td>\n      <td>ADJ1_ADJ1-er_NP</td>\n    </tr>\n    <tr>\n      <th>1006</th>\n      <td>Superlativ</td>\n      <td>PRÄP_ADJ-ster_NP</td>\n    </tr>\n    <tr>\n      <th>101</th>\n      <td>Äquativ</td>\n      <td>ADJ_wie_NP</td>\n    </tr>\n    <tr>\n      <th>...</th>\n      <td>...</td>\n      <td>...</td>\n    </tr>\n    <tr>\n      <th>98</th>\n      <td>Äquativ</td>\n      <td>so_ADJ_wie_XP</td>\n    </tr>\n    <tr>\n      <th>980</th>\n      <td>Quantifizierung</td>\n      <td>CARD_KATEGORIE_NP</td>\n    </tr>\n    <tr>\n      <th>985</th>\n      <td>Relation_zweistellig</td>\n      <td>Transitiv_aktiv</td>\n    </tr>\n    <tr>\n      <th>99</th>\n      <td>Komparativ</td>\n      <td>ADJ-er_als_X</td>\n    </tr>\n    <tr>\n      <th>993</th>\n      <td>Eigenschaft</td>\n      <td>Intransitiv_passiv</td>\n    </tr>\n  </tbody>\n</table>\n<p>330 rows × 2 columns</p>\n</div>"
     },
     "execution_count": 3,
     "metadata": {},
     "output_type": "execute_result"
    }
   ],
   "source": [
    "constructions = sentences[['construction_id', 'category', 'name']].drop_duplicates()\n",
    "constructions.set_index('construction_id', inplace=True)\n",
    "constructions"
   ],
   "metadata": {
    "collapsed": false,
    "ExecuteTime": {
     "end_time": "2023-10-07T19:18:09.808668800Z",
     "start_time": "2023-10-07T19:18:09.789803800Z"
    }
   },
   "id": "1a8068e6b81ce76f"
  },
  {
   "cell_type": "code",
   "execution_count": 4,
   "outputs": [
    {
     "data": {
      "text/plain": "category\nQuantifizierung                     14\nIntensivierung                      14\nKategorisierung                     13\nExklamativ                          13\nÄquativ                             12\n                                    ..\nReflexives_Partikelverb              1\nReflexiver_Weg                       1\nKonkretisierung_exhaustiv            1\nKonkretisierung_exemplifizierend     1\nKorrelation_Affirmation              1\nName: count, Length: 181, dtype: int64"
     },
     "execution_count": 4,
     "metadata": {},
     "output_type": "execute_result"
    }
   ],
   "source": [
    "constructions['category'].value_counts()"
   ],
   "metadata": {
    "collapsed": false,
    "ExecuteTime": {
     "end_time": "2023-10-07T19:18:09.837848900Z",
     "start_time": "2023-10-07T19:18:09.811668100Z"
    }
   },
   "id": "f31634988893993d"
  },
  {
   "cell_type": "code",
   "execution_count": 5,
   "outputs": [
    {
     "data": {
      "text/plain": "               kee_name  construction_id  ke_id           ke_name ke_coretype  \\\nkee_id                                                                          \n1       geschweige_denn               10      1      Fokuskontext        CORE   \n1       geschweige_denn               10      2   Erstes_Konjunkt        CORE   \n1       geschweige_denn               10      3  Zweites_Konjunkt        CORE   \n1       geschweige_denn               10   2350           Negator        CORE   \n1       geschweige_denn               10      1      Fokuskontext        None   \n...                 ...              ...    ...               ...         ...   \n643                  er               99    336         Dimension        CORE   \n643                  er               99    337        Bezugswert        CORE   \n643                  er               99    338   Quantifizierung     NONCORE   \n643                  er               99    333        Annäherung     NONCORE   \n643                  er               99    334      Verglichenes        CORE   \n\n       ke_attributes  \nkee_id                \n1                     \n1                     \n1                 []  \n1                     \n1               None  \n...              ...  \n643                   \n643                   \n643                   \n643                   \n643                   \n\n[1988 rows x 6 columns]",
      "text/html": "<div>\n<style scoped>\n    .dataframe tbody tr th:only-of-type {\n        vertical-align: middle;\n    }\n\n    .dataframe tbody tr th {\n        vertical-align: top;\n    }\n\n    .dataframe thead th {\n        text-align: right;\n    }\n</style>\n<table border=\"1\" class=\"dataframe\">\n  <thead>\n    <tr style=\"text-align: right;\">\n      <th></th>\n      <th>kee_name</th>\n      <th>construction_id</th>\n      <th>ke_id</th>\n      <th>ke_name</th>\n      <th>ke_coretype</th>\n      <th>ke_attributes</th>\n    </tr>\n    <tr>\n      <th>kee_id</th>\n      <th></th>\n      <th></th>\n      <th></th>\n      <th></th>\n      <th></th>\n      <th></th>\n    </tr>\n  </thead>\n  <tbody>\n    <tr>\n      <th>1</th>\n      <td>geschweige_denn</td>\n      <td>10</td>\n      <td>1</td>\n      <td>Fokuskontext</td>\n      <td>CORE</td>\n      <td></td>\n    </tr>\n    <tr>\n      <th>1</th>\n      <td>geschweige_denn</td>\n      <td>10</td>\n      <td>2</td>\n      <td>Erstes_Konjunkt</td>\n      <td>CORE</td>\n      <td></td>\n    </tr>\n    <tr>\n      <th>1</th>\n      <td>geschweige_denn</td>\n      <td>10</td>\n      <td>3</td>\n      <td>Zweites_Konjunkt</td>\n      <td>CORE</td>\n      <td>[]</td>\n    </tr>\n    <tr>\n      <th>1</th>\n      <td>geschweige_denn</td>\n      <td>10</td>\n      <td>2350</td>\n      <td>Negator</td>\n      <td>CORE</td>\n      <td></td>\n    </tr>\n    <tr>\n      <th>1</th>\n      <td>geschweige_denn</td>\n      <td>10</td>\n      <td>1</td>\n      <td>Fokuskontext</td>\n      <td>None</td>\n      <td>None</td>\n    </tr>\n    <tr>\n      <th>...</th>\n      <td>...</td>\n      <td>...</td>\n      <td>...</td>\n      <td>...</td>\n      <td>...</td>\n      <td>...</td>\n    </tr>\n    <tr>\n      <th>643</th>\n      <td>er</td>\n      <td>99</td>\n      <td>336</td>\n      <td>Dimension</td>\n      <td>CORE</td>\n      <td></td>\n    </tr>\n    <tr>\n      <th>643</th>\n      <td>er</td>\n      <td>99</td>\n      <td>337</td>\n      <td>Bezugswert</td>\n      <td>CORE</td>\n      <td></td>\n    </tr>\n    <tr>\n      <th>643</th>\n      <td>er</td>\n      <td>99</td>\n      <td>338</td>\n      <td>Quantifizierung</td>\n      <td>NONCORE</td>\n      <td></td>\n    </tr>\n    <tr>\n      <th>643</th>\n      <td>er</td>\n      <td>99</td>\n      <td>333</td>\n      <td>Annäherung</td>\n      <td>NONCORE</td>\n      <td></td>\n    </tr>\n    <tr>\n      <th>643</th>\n      <td>er</td>\n      <td>99</td>\n      <td>334</td>\n      <td>Verglichenes</td>\n      <td>CORE</td>\n      <td></td>\n    </tr>\n  </tbody>\n</table>\n<p>1988 rows × 6 columns</p>\n</div>"
     },
     "execution_count": 5,
     "metadata": {},
     "output_type": "execute_result"
    }
   ],
   "source": [
    "def parse_kee(xml_file):\n",
    "    tree = ET.parse(xml_file)\n",
    "    root = tree.getroot()\n",
    "\n",
    "    construction_id = root.attrib.get('id')\n",
    "\n",
    "    ke_data = []\n",
    "    \n",
    "    for ke in root.findall('.//ke'):\n",
    "        ke_data.append({\n",
    "            'ke_id': int(ke.attrib.get(\"id\")),\n",
    "            'ke_name': ke.attrib.get(\"name\"),\n",
    "            'ke_coretype': ke.attrib.get(\"coretype\"),\n",
    "            'ke_attributes': ke.attrib.get(\"attributes\")\n",
    "        })\n",
    "\n",
    "    kee_data = []\n",
    "    \n",
    "    for kee in root.findall('.//kee'):\n",
    "        for ke in ke_data:\n",
    "            kee_data.append({\n",
    "                'kee_id': int(kee.attrib.get(\"id\")),\n",
    "                'kee_name': kee.attrib.get(\"name\"),\n",
    "                'construction_id': int(construction_id)\n",
    "            } | ke)\n",
    "\n",
    "    return kee_data\n",
    "\n",
    "kee_list = []\n",
    "xml_directory = '../data/constructicon/construction'\n",
    "\n",
    "for filename in os.listdir(xml_directory):\n",
    "    if filename.endswith('.xml'):\n",
    "        xml_file = os.path.join(xml_directory, filename)\n",
    "        data = parse_kee(xml_file)\n",
    "        if data:\n",
    "            kee_list += data\n",
    "\n",
    "kees = pd.DataFrame.from_dict(kee_list)\n",
    "kees.set_index('kee_id', inplace=True)\n",
    "kees"
   ],
   "metadata": {
    "collapsed": false,
    "ExecuteTime": {
     "end_time": "2023-10-07T19:18:15.736249500Z",
     "start_time": "2023-10-07T19:18:09.826524200Z"
    }
   },
   "id": "b39ac2bcf3e57d23"
  },
  {
   "cell_type": "code",
   "execution_count": 6,
   "outputs": [
    {
     "data": {
      "text/plain": "ke_name\nVerglichenes        108\nDimension            78\nBezugskontext        78\nBezugswert           77\nAntezedens           64\n                   ... \nZugeordnetes          1\nVon_X_Geäußertes      1\nSprecher_X            1\nSprecher              1\nDirektiv              1\nName: count, Length: 247, dtype: int64"
     },
     "execution_count": 6,
     "metadata": {},
     "output_type": "execute_result"
    }
   ],
   "source": [
    "kees['ke_name'].value_counts()"
   ],
   "metadata": {
    "collapsed": false,
    "ExecuteTime": {
     "end_time": "2023-10-07T19:18:15.750177Z",
     "start_time": "2023-10-07T19:18:15.738249800Z"
    }
   },
   "id": "4884c67fb347be9b"
  },
  {
   "cell_type": "code",
   "execution_count": 7,
   "outputs": [
    {
     "data": {
      "text/plain": "kee_name\n(_)                      75\nKlammern                 52\nvon                      41\nsein                     38\nund                      36\n                         ..\npar_excellence            1\nwie_es_im_Buche_steht     1\nzu_Tode                   1\nwie_viel_Uhr              1\nnicht_un-                 1\nName: count, Length: 372, dtype: int64"
     },
     "execution_count": 7,
     "metadata": {},
     "output_type": "execute_result"
    }
   ],
   "source": [
    "kees['kee_name'].value_counts()"
   ],
   "metadata": {
    "collapsed": false,
    "ExecuteTime": {
     "end_time": "2023-10-07T19:18:15.765814900Z",
     "start_time": "2023-10-07T19:18:15.749176600Z"
    }
   },
   "id": "8cdb48cc8c9d60a6"
  },
  {
   "cell_type": "markdown",
   "source": [
    "Die KEEs sind markiert wie folgt:\n",
    "\n",
    "```\n",
    "            <annotationset>\n",
    "            ...\n",
    "                <layer name=\"KEE-Negation:NEG_X_geschweige_denn_Y\" descriptor=\"KEE-Negation:NEG_X_geschweige_denn_Y\">\n",
    "                    <label start=\"72\" end=\"87\" name=\"geschweige_denn\" refid=\"GC_KEE:1\" itype=\"null\" groupid=\"0\"></label>\n",
    "                </layer>\n",
    "            ...\n",
    "            </annotationset>\n",
    "```"
   ],
   "metadata": {
    "collapsed": false
   },
   "id": "95c34b3628b665cd"
  },
  {
   "cell_type": "code",
   "execution_count": 8,
   "outputs": [],
   "source": [
    "# TODO Datensatz erstellen gemäß csv bei Pseudowords: KE maskieren, KEE desambiguieren"
   ],
   "metadata": {
    "collapsed": false,
    "ExecuteTime": {
     "end_time": "2023-10-07T19:18:15.791608200Z",
     "start_time": "2023-10-07T19:18:15.763293800Z"
    }
   },
   "id": "de5369dfbf87c48c"
  },
  {
   "cell_type": "code",
   "execution_count": 18,
   "outputs": [
    {
     "data": {
      "text/plain": "                                          constr_id  \\\nuid                                                   \n57B9D1BEB68F44E7A51D1920F1EA6951E39469B5         10   \nD86B38CFA5D2458D9F3615EDD55C9308DF423DB0         10   \n7B3FAB8B01ED862D3D3FA18531B0904BCF24DFF0         10   \nB003E526D0AA301DA46458D32A82CEEFD7ADADA5         10   \nC3FFF1CA55CA8FF0A806C33E14A0FB331582698E         10   \n...                                             ...   \nB5CB5D20EFEDAF65D460621CD3D554622B9EE1E9        993   \n32E879397C3BA674F547058D7CB2B781C55FE1AC        993   \nF0F280AA87B32AF6C4122E5B9C7906A31E88E555        993   \n549AF1E5C1904364885CE7F8DE324A9E6323629F        993   \n877AE69E0356C28DF846CEB9F5C68232C26D99DE        993   \n\n                                                                                       text  \\\nuid                                                                                           \n57B9D1BEB68F44E7A51D1920F1EA6951E39469B5  Und dann ist da noch das generelle Problem mit...   \nD86B38CFA5D2458D9F3615EDD55C9308DF423DB0  »Ohne Europa sind viele Fragen nicht mehr seri...   \n7B3FAB8B01ED862D3D3FA18531B0904BCF24DFF0  Dies lässt sich damit begründen , dass vor und...   \nB003E526D0AA301DA46458D32A82CEEFD7ADADA5  Dennoch hat Hamas es nicht geschafft , ihre mi...   \nC3FFF1CA55CA8FF0A806C33E14A0FB331582698E  Abermillionen rings um die Welt , die das Spek...   \n...                                                                                     ...   \nB5CB5D20EFEDAF65D460621CD3D554622B9EE1E9  \" \" Aber da wird geredet und geredet und , sob...   \n32E879397C3BA674F547058D7CB2B781C55FE1AC  Das erfüllt einen mit Stolz \" \" , sagte Neid u...   \nF0F280AA87B32AF6C4122E5B9C7906A31E88E555  Hier wird getankt , und erst in der Morgenfrüh...   \n549AF1E5C1904364885CE7F8DE324A9E6323629F                                Jetzt wird gewartet   \n877AE69E0356C28DF846CEB9F5C68232C26D99DE  Immerhin wird geskypt , auch das ein schönes D...   \n\n                                                       kees      kees_idx  \\\nuid                                                                         \n57B9D1BEB68F44E7A51D1920F1EA6951E39469B5  [geschweige denn]  [(128, 143)]   \nD86B38CFA5D2458D9F3615EDD55C9308DF423DB0  [geschweige denn]    [(72, 87)]   \n7B3FAB8B01ED862D3D3FA18531B0904BCF24DFF0  [geschweige denn]  [(126, 141)]   \nB003E526D0AA301DA46458D32A82CEEFD7ADADA5  [geschweige denn]    [(83, 98)]   \nC3FFF1CA55CA8FF0A806C33E14A0FB331582698E  [geschweige denn]  [(183, 198)]   \n...                                                     ...           ...   \nB5CB5D20EFEDAF65D460621CD3D554622B9EE1E9                 []            []   \n32E879397C3BA674F547058D7CB2B781C55FE1AC                 []            []   \nF0F280AA87B32AF6C4122E5B9C7906A31E88E555                 []            []   \n549AF1E5C1904364885CE7F8DE324A9E6323629F                 []            []   \n877AE69E0356C28DF846CEB9F5C68232C26D99DE                 []            []   \n\n                                                                                        kes  \\\nuid                                                                                           \n57B9D1BEB68F44E7A51D1920F1EA6951E39469B5  [dass, nicht, jeder Sprecher und Führer , der ...   \nD86B38CFA5D2458D9F3615EDD55C9308DF423DB0  [»Ohne Europa sind viele Fragen, nicht, mehr s...   \n7B3FAB8B01ED862D3D3FA18531B0904BCF24DFF0  [dass vor und neben Alexander – soweit wir wis...   \nB003E526D0AA301DA46458D32A82CEEFD7ADADA5  [Dennoch hat Hamas es, nicht, geschafft, ihre ...   \nC3FFF1CA55CA8FF0A806C33E14A0FB331582698E  [Abermillionen rings um die Welt , die das Spe...   \n...                                                                                     ...   \nB5CB5D20EFEDAF65D460621CD3D554622B9EE1E9                                     [wird geredet]   \n32E879397C3BA674F547058D7CB2B781C55FE1AC                                     [wird getanzt]   \nF0F280AA87B32AF6C4122E5B9C7906A31E88E555                                     [wird getankt]   \n549AF1E5C1904364885CE7F8DE324A9E6323629F                                    [wird gewartet]   \n877AE69E0356C28DF846CEB9F5C68232C26D99DE                                     [wird geskypt]   \n\n                                                                                    kes_idx  \nuid                                                                                          \n57B9D1BEB68F44E7A51D1920F1EA6951E39469B5  [(55, 59), (60, 65), (66, 110), (111, 125), (1...  \nD86B38CFA5D2458D9F3615EDD55C9308DF423DB0  [(0, 30), (31, 36), (37, 48), (49, 69), (88, 97)]  \n7B3FAB8B01ED862D3D3FA18531B0904BCF24DFF0  [(34, 84), (85, 89), (90, 97), (98, 123), (142...  \nB003E526D0AA301DA46458D32A82CEEFD7ADADA5  [(0, 20), (21, 26), (27, 36), (39, 80), (99, 1...  \nC3FFF1CA55CA8FF0A806C33E14A0FB331582698E         [(0, 92), (93, 98), (99, 180), (201, 246)]  \n...                                                                                     ...  \nB5CB5D20EFEDAF65D460621CD3D554622B9EE1E9                                         [(12, 24)]  \n32E879397C3BA674F547058D7CB2B781C55FE1AC                                       [(105, 117)]  \nF0F280AA87B32AF6C4122E5B9C7906A31E88E555                                          [(5, 17)]  \n549AF1E5C1904364885CE7F8DE324A9E6323629F                                          [(6, 19)]  \n877AE69E0356C28DF846CEB9F5C68232C26D99DE                                          [(9, 21)]  \n\n[10268 rows x 6 columns]",
      "text/html": "<div>\n<style scoped>\n    .dataframe tbody tr th:only-of-type {\n        vertical-align: middle;\n    }\n\n    .dataframe tbody tr th {\n        vertical-align: top;\n    }\n\n    .dataframe thead th {\n        text-align: right;\n    }\n</style>\n<table border=\"1\" class=\"dataframe\">\n  <thead>\n    <tr style=\"text-align: right;\">\n      <th></th>\n      <th>constr_id</th>\n      <th>text</th>\n      <th>kees</th>\n      <th>kees_idx</th>\n      <th>kes</th>\n      <th>kes_idx</th>\n    </tr>\n    <tr>\n      <th>uid</th>\n      <th></th>\n      <th></th>\n      <th></th>\n      <th></th>\n      <th></th>\n      <th></th>\n    </tr>\n  </thead>\n  <tbody>\n    <tr>\n      <th>57B9D1BEB68F44E7A51D1920F1EA6951E39469B5</th>\n      <td>10</td>\n      <td>Und dann ist da noch das generelle Problem mit...</td>\n      <td>[geschweige denn]</td>\n      <td>[(128, 143)]</td>\n      <td>[dass, nicht, jeder Sprecher und Führer , der ...</td>\n      <td>[(55, 59), (60, 65), (66, 110), (111, 125), (1...</td>\n    </tr>\n    <tr>\n      <th>D86B38CFA5D2458D9F3615EDD55C9308DF423DB0</th>\n      <td>10</td>\n      <td>»Ohne Europa sind viele Fragen nicht mehr seri...</td>\n      <td>[geschweige denn]</td>\n      <td>[(72, 87)]</td>\n      <td>[»Ohne Europa sind viele Fragen, nicht, mehr s...</td>\n      <td>[(0, 30), (31, 36), (37, 48), (49, 69), (88, 97)]</td>\n    </tr>\n    <tr>\n      <th>7B3FAB8B01ED862D3D3FA18531B0904BCF24DFF0</th>\n      <td>10</td>\n      <td>Dies lässt sich damit begründen , dass vor und...</td>\n      <td>[geschweige denn]</td>\n      <td>[(126, 141)]</td>\n      <td>[dass vor und neben Alexander – soweit wir wis...</td>\n      <td>[(34, 84), (85, 89), (90, 97), (98, 123), (142...</td>\n    </tr>\n    <tr>\n      <th>B003E526D0AA301DA46458D32A82CEEFD7ADADA5</th>\n      <td>10</td>\n      <td>Dennoch hat Hamas es nicht geschafft , ihre mi...</td>\n      <td>[geschweige denn]</td>\n      <td>[(83, 98)]</td>\n      <td>[Dennoch hat Hamas es, nicht, geschafft, ihre ...</td>\n      <td>[(0, 20), (21, 26), (27, 36), (39, 80), (99, 1...</td>\n    </tr>\n    <tr>\n      <th>C3FFF1CA55CA8FF0A806C33E14A0FB331582698E</th>\n      <td>10</td>\n      <td>Abermillionen rings um die Welt , die das Spek...</td>\n      <td>[geschweige denn]</td>\n      <td>[(183, 198)]</td>\n      <td>[Abermillionen rings um die Welt , die das Spe...</td>\n      <td>[(0, 92), (93, 98), (99, 180), (201, 246)]</td>\n    </tr>\n    <tr>\n      <th>...</th>\n      <td>...</td>\n      <td>...</td>\n      <td>...</td>\n      <td>...</td>\n      <td>...</td>\n      <td>...</td>\n    </tr>\n    <tr>\n      <th>B5CB5D20EFEDAF65D460621CD3D554622B9EE1E9</th>\n      <td>993</td>\n      <td>\" \" Aber da wird geredet und geredet und , sob...</td>\n      <td>[]</td>\n      <td>[]</td>\n      <td>[wird geredet]</td>\n      <td>[(12, 24)]</td>\n    </tr>\n    <tr>\n      <th>32E879397C3BA674F547058D7CB2B781C55FE1AC</th>\n      <td>993</td>\n      <td>Das erfüllt einen mit Stolz \" \" , sagte Neid u...</td>\n      <td>[]</td>\n      <td>[]</td>\n      <td>[wird getanzt]</td>\n      <td>[(105, 117)]</td>\n    </tr>\n    <tr>\n      <th>F0F280AA87B32AF6C4122E5B9C7906A31E88E555</th>\n      <td>993</td>\n      <td>Hier wird getankt , und erst in der Morgenfrüh...</td>\n      <td>[]</td>\n      <td>[]</td>\n      <td>[wird getankt]</td>\n      <td>[(5, 17)]</td>\n    </tr>\n    <tr>\n      <th>549AF1E5C1904364885CE7F8DE324A9E6323629F</th>\n      <td>993</td>\n      <td>Jetzt wird gewartet</td>\n      <td>[]</td>\n      <td>[]</td>\n      <td>[wird gewartet]</td>\n      <td>[(6, 19)]</td>\n    </tr>\n    <tr>\n      <th>877AE69E0356C28DF846CEB9F5C68232C26D99DE</th>\n      <td>993</td>\n      <td>Immerhin wird geskypt , auch das ein schönes D...</td>\n      <td>[]</td>\n      <td>[]</td>\n      <td>[wird geskypt]</td>\n      <td>[(9, 21)]</td>\n    </tr>\n  </tbody>\n</table>\n<p>10268 rows × 6 columns</p>\n</div>"
     },
     "execution_count": 18,
     "metadata": {},
     "output_type": "execute_result"
    }
   ],
   "source": [
    "def parse_masked_sentences(xml_file):\n",
    "    tree = ET.parse(xml_file)\n",
    "    root = tree.getroot()\n",
    "    \n",
    "    sentences_data = []\n",
    "    \n",
    "    constr_id = int(root.attrib.get('id'))\n",
    "    \n",
    "    for sentence in root.findall('.//sentence'):\n",
    "        if sentence.attrib.get('uid') is None:\n",
    "            continue\n",
    "        \n",
    "        uid = sentence.attrib.get('uid')\n",
    "        text = sentence.find('.//text').text.strip()\n",
    "        \n",
    "        kees = []\n",
    "        kees_idx = []\n",
    "        kes = []\n",
    "        kes_idx = []\n",
    "        \n",
    "        # Loop through annotations:\n",
    "        for layer in sentence.findall('.//layer'):\n",
    "            layer_name = layer.attrib.get('name')\n",
    "            \n",
    "            # Get the KEE annotations:\n",
    "            if \"KE-\" in layer_name or \"KEE-\" in layer_name:\n",
    "                # Loop over all KEEs or KEs:\n",
    "                for label in layer.findall('.//label'):\n",
    "                    start = int(label.attrib.get('start'))\n",
    "                    end = int(label.attrib.get('end'))\n",
    "                    if \"KEE-\" in layer_name:\n",
    "                        kees.append(text[start:end])  # Read the KEE\n",
    "                        kees_idx.append((start, end))  # Log the position of the KEE\n",
    "                    else:\n",
    "                        kes.append(text[start:end])  # Read the KE\n",
    "                        kes_idx.append((start, end))  # Log the position of the KE\n",
    "        \n",
    "        sentences_data.append({\n",
    "            'uid': uid,\n",
    "            'constr_id': constr_id,\n",
    "            'text': text,\n",
    "            'kees': kees,\n",
    "            'kees_idx': kees_idx,\n",
    "            'kes': kes,\n",
    "            'kes_idx': kes_idx\n",
    "        })\n",
    "    return sentences_data\n",
    "    \n",
    "sentence_list = []\n",
    "xml_directory = '../data/constructicon/construction'\n",
    "\n",
    "for filename in os.listdir(xml_directory):\n",
    "    if filename.endswith('.xml'):\n",
    "        xml_file = os.path.join(xml_directory, filename)\n",
    "        data = parse_masked_sentences(xml_file)\n",
    "        if data:\n",
    "            sentence_list += data\n",
    "\n",
    "sentences = pd.DataFrame.from_dict(sentence_list)\n",
    "sentences.set_index('uid', inplace=True)\n",
    "sentences    "
   ],
   "metadata": {
    "collapsed": false,
    "ExecuteTime": {
     "end_time": "2023-10-07T19:55:24.019794600Z",
     "start_time": "2023-10-07T19:55:17.401170200Z"
    }
   },
   "id": "f2d0119da82288b8"
  }
 ],
 "metadata": {
  "kernelspec": {
   "display_name": "Python 3",
   "language": "python",
   "name": "python3"
  },
  "language_info": {
   "codemirror_mode": {
    "name": "ipython",
    "version": 2
   },
   "file_extension": ".py",
   "mimetype": "text/x-python",
   "name": "python",
   "nbconvert_exporter": "python",
   "pygments_lexer": "ipython2",
   "version": "2.7.6"
  }
 },
 "nbformat": 4,
 "nbformat_minor": 5
}
