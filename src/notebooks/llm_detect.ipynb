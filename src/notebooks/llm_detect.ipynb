{
  "nbformat": 4,
  "nbformat_minor": 0,
  "metadata": {
    "colab": {
      "provenance": [],
      "gpuType": "T4"
    },
    "kernelspec": {
      "name": "python3",
      "display_name": "Python 3"
    },
    "language_info": {
      "name": "python"
    },
    "accelerator": "GPU",
    "widgets": {
      "application/vnd.jupyter.widget-state+json": {
        "3e5e51e4ce5b4042be7aded719f78b4c": {
          "model_module": "@jupyter-widgets/controls",
          "model_name": "HBoxModel",
          "model_module_version": "1.5.0",
          "state": {
            "_dom_classes": [],
            "_model_module": "@jupyter-widgets/controls",
            "_model_module_version": "1.5.0",
            "_model_name": "HBoxModel",
            "_view_count": null,
            "_view_module": "@jupyter-widgets/controls",
            "_view_module_version": "1.5.0",
            "_view_name": "HBoxView",
            "box_style": "",
            "children": [
              "IPY_MODEL_11548ee79db34a0b9f1b18ef7815fd5e",
              "IPY_MODEL_094bcb94f0d84981843a710b26ab0de7",
              "IPY_MODEL_f170a60c787a4f3f9c4cffed2b9d3f58"
            ],
            "layout": "IPY_MODEL_32144d8dcda2463382c6591f3fdd23bf"
          }
        },
        "11548ee79db34a0b9f1b18ef7815fd5e": {
          "model_module": "@jupyter-widgets/controls",
          "model_name": "HTMLModel",
          "model_module_version": "1.5.0",
          "state": {
            "_dom_classes": [],
            "_model_module": "@jupyter-widgets/controls",
            "_model_module_version": "1.5.0",
            "_model_name": "HTMLModel",
            "_view_count": null,
            "_view_module": "@jupyter-widgets/controls",
            "_view_module_version": "1.5.0",
            "_view_name": "HTMLView",
            "description": "",
            "description_tooltip": null,
            "layout": "IPY_MODEL_4f02e6fdaa4d488bb8e7e4aae78a1ee4",
            "placeholder": "​",
            "style": "IPY_MODEL_66099686473f48d4b99301deda82928a",
            "value": "(…)/gptq-4bit-32g-actorder_True/config.json: 100%"
          }
        },
        "094bcb94f0d84981843a710b26ab0de7": {
          "model_module": "@jupyter-widgets/controls",
          "model_name": "FloatProgressModel",
          "model_module_version": "1.5.0",
          "state": {
            "_dom_classes": [],
            "_model_module": "@jupyter-widgets/controls",
            "_model_module_version": "1.5.0",
            "_model_name": "FloatProgressModel",
            "_view_count": null,
            "_view_module": "@jupyter-widgets/controls",
            "_view_module_version": "1.5.0",
            "_view_name": "ProgressView",
            "bar_style": "success",
            "description": "",
            "description_tooltip": null,
            "layout": "IPY_MODEL_acd79a884cce4513b6a8a33e31a79ed1",
            "max": 898,
            "min": 0,
            "orientation": "horizontal",
            "style": "IPY_MODEL_5619433d5bcb439e92c549950e1b26f4",
            "value": 898
          }
        },
        "f170a60c787a4f3f9c4cffed2b9d3f58": {
          "model_module": "@jupyter-widgets/controls",
          "model_name": "HTMLModel",
          "model_module_version": "1.5.0",
          "state": {
            "_dom_classes": [],
            "_model_module": "@jupyter-widgets/controls",
            "_model_module_version": "1.5.0",
            "_model_name": "HTMLModel",
            "_view_count": null,
            "_view_module": "@jupyter-widgets/controls",
            "_view_module_version": "1.5.0",
            "_view_name": "HTMLView",
            "description": "",
            "description_tooltip": null,
            "layout": "IPY_MODEL_7aad6c349dd44a6cbd13438e559492f7",
            "placeholder": "​",
            "style": "IPY_MODEL_ee435b8b5e064ff6b9ce36ebc81e18e6",
            "value": " 898/898 [00:00&lt;00:00, 44.4kB/s]"
          }
        },
        "32144d8dcda2463382c6591f3fdd23bf": {
          "model_module": "@jupyter-widgets/base",
          "model_name": "LayoutModel",
          "model_module_version": "1.2.0",
          "state": {
            "_model_module": "@jupyter-widgets/base",
            "_model_module_version": "1.2.0",
            "_model_name": "LayoutModel",
            "_view_count": null,
            "_view_module": "@jupyter-widgets/base",
            "_view_module_version": "1.2.0",
            "_view_name": "LayoutView",
            "align_content": null,
            "align_items": null,
            "align_self": null,
            "border": null,
            "bottom": null,
            "display": null,
            "flex": null,
            "flex_flow": null,
            "grid_area": null,
            "grid_auto_columns": null,
            "grid_auto_flow": null,
            "grid_auto_rows": null,
            "grid_column": null,
            "grid_gap": null,
            "grid_row": null,
            "grid_template_areas": null,
            "grid_template_columns": null,
            "grid_template_rows": null,
            "height": null,
            "justify_content": null,
            "justify_items": null,
            "left": null,
            "margin": null,
            "max_height": null,
            "max_width": null,
            "min_height": null,
            "min_width": null,
            "object_fit": null,
            "object_position": null,
            "order": null,
            "overflow": null,
            "overflow_x": null,
            "overflow_y": null,
            "padding": null,
            "right": null,
            "top": null,
            "visibility": null,
            "width": null
          }
        },
        "4f02e6fdaa4d488bb8e7e4aae78a1ee4": {
          "model_module": "@jupyter-widgets/base",
          "model_name": "LayoutModel",
          "model_module_version": "1.2.0",
          "state": {
            "_model_module": "@jupyter-widgets/base",
            "_model_module_version": "1.2.0",
            "_model_name": "LayoutModel",
            "_view_count": null,
            "_view_module": "@jupyter-widgets/base",
            "_view_module_version": "1.2.0",
            "_view_name": "LayoutView",
            "align_content": null,
            "align_items": null,
            "align_self": null,
            "border": null,
            "bottom": null,
            "display": null,
            "flex": null,
            "flex_flow": null,
            "grid_area": null,
            "grid_auto_columns": null,
            "grid_auto_flow": null,
            "grid_auto_rows": null,
            "grid_column": null,
            "grid_gap": null,
            "grid_row": null,
            "grid_template_areas": null,
            "grid_template_columns": null,
            "grid_template_rows": null,
            "height": null,
            "justify_content": null,
            "justify_items": null,
            "left": null,
            "margin": null,
            "max_height": null,
            "max_width": null,
            "min_height": null,
            "min_width": null,
            "object_fit": null,
            "object_position": null,
            "order": null,
            "overflow": null,
            "overflow_x": null,
            "overflow_y": null,
            "padding": null,
            "right": null,
            "top": null,
            "visibility": null,
            "width": null
          }
        },
        "66099686473f48d4b99301deda82928a": {
          "model_module": "@jupyter-widgets/controls",
          "model_name": "DescriptionStyleModel",
          "model_module_version": "1.5.0",
          "state": {
            "_model_module": "@jupyter-widgets/controls",
            "_model_module_version": "1.5.0",
            "_model_name": "DescriptionStyleModel",
            "_view_count": null,
            "_view_module": "@jupyter-widgets/base",
            "_view_module_version": "1.2.0",
            "_view_name": "StyleView",
            "description_width": ""
          }
        },
        "acd79a884cce4513b6a8a33e31a79ed1": {
          "model_module": "@jupyter-widgets/base",
          "model_name": "LayoutModel",
          "model_module_version": "1.2.0",
          "state": {
            "_model_module": "@jupyter-widgets/base",
            "_model_module_version": "1.2.0",
            "_model_name": "LayoutModel",
            "_view_count": null,
            "_view_module": "@jupyter-widgets/base",
            "_view_module_version": "1.2.0",
            "_view_name": "LayoutView",
            "align_content": null,
            "align_items": null,
            "align_self": null,
            "border": null,
            "bottom": null,
            "display": null,
            "flex": null,
            "flex_flow": null,
            "grid_area": null,
            "grid_auto_columns": null,
            "grid_auto_flow": null,
            "grid_auto_rows": null,
            "grid_column": null,
            "grid_gap": null,
            "grid_row": null,
            "grid_template_areas": null,
            "grid_template_columns": null,
            "grid_template_rows": null,
            "height": null,
            "justify_content": null,
            "justify_items": null,
            "left": null,
            "margin": null,
            "max_height": null,
            "max_width": null,
            "min_height": null,
            "min_width": null,
            "object_fit": null,
            "object_position": null,
            "order": null,
            "overflow": null,
            "overflow_x": null,
            "overflow_y": null,
            "padding": null,
            "right": null,
            "top": null,
            "visibility": null,
            "width": null
          }
        },
        "5619433d5bcb439e92c549950e1b26f4": {
          "model_module": "@jupyter-widgets/controls",
          "model_name": "ProgressStyleModel",
          "model_module_version": "1.5.0",
          "state": {
            "_model_module": "@jupyter-widgets/controls",
            "_model_module_version": "1.5.0",
            "_model_name": "ProgressStyleModel",
            "_view_count": null,
            "_view_module": "@jupyter-widgets/base",
            "_view_module_version": "1.2.0",
            "_view_name": "StyleView",
            "bar_color": null,
            "description_width": ""
          }
        },
        "7aad6c349dd44a6cbd13438e559492f7": {
          "model_module": "@jupyter-widgets/base",
          "model_name": "LayoutModel",
          "model_module_version": "1.2.0",
          "state": {
            "_model_module": "@jupyter-widgets/base",
            "_model_module_version": "1.2.0",
            "_model_name": "LayoutModel",
            "_view_count": null,
            "_view_module": "@jupyter-widgets/base",
            "_view_module_version": "1.2.0",
            "_view_name": "LayoutView",
            "align_content": null,
            "align_items": null,
            "align_self": null,
            "border": null,
            "bottom": null,
            "display": null,
            "flex": null,
            "flex_flow": null,
            "grid_area": null,
            "grid_auto_columns": null,
            "grid_auto_flow": null,
            "grid_auto_rows": null,
            "grid_column": null,
            "grid_gap": null,
            "grid_row": null,
            "grid_template_areas": null,
            "grid_template_columns": null,
            "grid_template_rows": null,
            "height": null,
            "justify_content": null,
            "justify_items": null,
            "left": null,
            "margin": null,
            "max_height": null,
            "max_width": null,
            "min_height": null,
            "min_width": null,
            "object_fit": null,
            "object_position": null,
            "order": null,
            "overflow": null,
            "overflow_x": null,
            "overflow_y": null,
            "padding": null,
            "right": null,
            "top": null,
            "visibility": null,
            "width": null
          }
        },
        "ee435b8b5e064ff6b9ce36ebc81e18e6": {
          "model_module": "@jupyter-widgets/controls",
          "model_name": "DescriptionStyleModel",
          "model_module_version": "1.5.0",
          "state": {
            "_model_module": "@jupyter-widgets/controls",
            "_model_module_version": "1.5.0",
            "_model_name": "DescriptionStyleModel",
            "_view_count": null,
            "_view_module": "@jupyter-widgets/base",
            "_view_module_version": "1.2.0",
            "_view_name": "StyleView",
            "description_width": ""
          }
        },
        "66be984837b64ae99802b8e59c31b12c": {
          "model_module": "@jupyter-widgets/controls",
          "model_name": "HBoxModel",
          "model_module_version": "1.5.0",
          "state": {
            "_dom_classes": [],
            "_model_module": "@jupyter-widgets/controls",
            "_model_module_version": "1.5.0",
            "_model_name": "HBoxModel",
            "_view_count": null,
            "_view_module": "@jupyter-widgets/controls",
            "_view_module_version": "1.5.0",
            "_view_name": "HBoxView",
            "box_style": "",
            "children": [
              "IPY_MODEL_ee9d79e9d2be4995b6dbaa60e6e83aa4",
              "IPY_MODEL_769c37090534409f93ed5c726b955352",
              "IPY_MODEL_57f1fc4712d04e00bc938100910f857c"
            ],
            "layout": "IPY_MODEL_1381dbafa533401183a8df0e1492cd72"
          }
        },
        "ee9d79e9d2be4995b6dbaa60e6e83aa4": {
          "model_module": "@jupyter-widgets/controls",
          "model_name": "HTMLModel",
          "model_module_version": "1.5.0",
          "state": {
            "_dom_classes": [],
            "_model_module": "@jupyter-widgets/controls",
            "_model_module_version": "1.5.0",
            "_model_name": "HTMLModel",
            "_view_count": null,
            "_view_module": "@jupyter-widgets/controls",
            "_view_module_version": "1.5.0",
            "_view_name": "HTMLView",
            "description": "",
            "description_tooltip": null,
            "layout": "IPY_MODEL_a75a765810a843ada4ec17b09202aae2",
            "placeholder": "​",
            "style": "IPY_MODEL_d58c865cb52c4c96a772492998cbea3e",
            "value": "model.safetensors: 100%"
          }
        },
        "769c37090534409f93ed5c726b955352": {
          "model_module": "@jupyter-widgets/controls",
          "model_name": "FloatProgressModel",
          "model_module_version": "1.5.0",
          "state": {
            "_dom_classes": [],
            "_model_module": "@jupyter-widgets/controls",
            "_model_module_version": "1.5.0",
            "_model_name": "FloatProgressModel",
            "_view_count": null,
            "_view_module": "@jupyter-widgets/controls",
            "_view_module_version": "1.5.0",
            "_view_name": "ProgressView",
            "bar_style": "success",
            "description": "",
            "description_tooltip": null,
            "layout": "IPY_MODEL_c039f1357df344d59a13518513acd2c7",
            "max": 8118203032,
            "min": 0,
            "orientation": "horizontal",
            "style": "IPY_MODEL_b21e7c43d7ae49a5a9a64f61e3e778bc",
            "value": 8118203032
          }
        },
        "57f1fc4712d04e00bc938100910f857c": {
          "model_module": "@jupyter-widgets/controls",
          "model_name": "HTMLModel",
          "model_module_version": "1.5.0",
          "state": {
            "_dom_classes": [],
            "_model_module": "@jupyter-widgets/controls",
            "_model_module_version": "1.5.0",
            "_model_name": "HTMLModel",
            "_view_count": null,
            "_view_module": "@jupyter-widgets/controls",
            "_view_module_version": "1.5.0",
            "_view_name": "HTMLView",
            "description": "",
            "description_tooltip": null,
            "layout": "IPY_MODEL_c994c7f5b8cf4836adb56b3f68c8b5ca",
            "placeholder": "​",
            "style": "IPY_MODEL_f06b9ad194d343f9b99dfe27670428f4",
            "value": " 8.12G/8.12G [02:51&lt;00:00, 49.9MB/s]"
          }
        },
        "1381dbafa533401183a8df0e1492cd72": {
          "model_module": "@jupyter-widgets/base",
          "model_name": "LayoutModel",
          "model_module_version": "1.2.0",
          "state": {
            "_model_module": "@jupyter-widgets/base",
            "_model_module_version": "1.2.0",
            "_model_name": "LayoutModel",
            "_view_count": null,
            "_view_module": "@jupyter-widgets/base",
            "_view_module_version": "1.2.0",
            "_view_name": "LayoutView",
            "align_content": null,
            "align_items": null,
            "align_self": null,
            "border": null,
            "bottom": null,
            "display": null,
            "flex": null,
            "flex_flow": null,
            "grid_area": null,
            "grid_auto_columns": null,
            "grid_auto_flow": null,
            "grid_auto_rows": null,
            "grid_column": null,
            "grid_gap": null,
            "grid_row": null,
            "grid_template_areas": null,
            "grid_template_columns": null,
            "grid_template_rows": null,
            "height": null,
            "justify_content": null,
            "justify_items": null,
            "left": null,
            "margin": null,
            "max_height": null,
            "max_width": null,
            "min_height": null,
            "min_width": null,
            "object_fit": null,
            "object_position": null,
            "order": null,
            "overflow": null,
            "overflow_x": null,
            "overflow_y": null,
            "padding": null,
            "right": null,
            "top": null,
            "visibility": null,
            "width": null
          }
        },
        "a75a765810a843ada4ec17b09202aae2": {
          "model_module": "@jupyter-widgets/base",
          "model_name": "LayoutModel",
          "model_module_version": "1.2.0",
          "state": {
            "_model_module": "@jupyter-widgets/base",
            "_model_module_version": "1.2.0",
            "_model_name": "LayoutModel",
            "_view_count": null,
            "_view_module": "@jupyter-widgets/base",
            "_view_module_version": "1.2.0",
            "_view_name": "LayoutView",
            "align_content": null,
            "align_items": null,
            "align_self": null,
            "border": null,
            "bottom": null,
            "display": null,
            "flex": null,
            "flex_flow": null,
            "grid_area": null,
            "grid_auto_columns": null,
            "grid_auto_flow": null,
            "grid_auto_rows": null,
            "grid_column": null,
            "grid_gap": null,
            "grid_row": null,
            "grid_template_areas": null,
            "grid_template_columns": null,
            "grid_template_rows": null,
            "height": null,
            "justify_content": null,
            "justify_items": null,
            "left": null,
            "margin": null,
            "max_height": null,
            "max_width": null,
            "min_height": null,
            "min_width": null,
            "object_fit": null,
            "object_position": null,
            "order": null,
            "overflow": null,
            "overflow_x": null,
            "overflow_y": null,
            "padding": null,
            "right": null,
            "top": null,
            "visibility": null,
            "width": null
          }
        },
        "d58c865cb52c4c96a772492998cbea3e": {
          "model_module": "@jupyter-widgets/controls",
          "model_name": "DescriptionStyleModel",
          "model_module_version": "1.5.0",
          "state": {
            "_model_module": "@jupyter-widgets/controls",
            "_model_module_version": "1.5.0",
            "_model_name": "DescriptionStyleModel",
            "_view_count": null,
            "_view_module": "@jupyter-widgets/base",
            "_view_module_version": "1.2.0",
            "_view_name": "StyleView",
            "description_width": ""
          }
        },
        "c039f1357df344d59a13518513acd2c7": {
          "model_module": "@jupyter-widgets/base",
          "model_name": "LayoutModel",
          "model_module_version": "1.2.0",
          "state": {
            "_model_module": "@jupyter-widgets/base",
            "_model_module_version": "1.2.0",
            "_model_name": "LayoutModel",
            "_view_count": null,
            "_view_module": "@jupyter-widgets/base",
            "_view_module_version": "1.2.0",
            "_view_name": "LayoutView",
            "align_content": null,
            "align_items": null,
            "align_self": null,
            "border": null,
            "bottom": null,
            "display": null,
            "flex": null,
            "flex_flow": null,
            "grid_area": null,
            "grid_auto_columns": null,
            "grid_auto_flow": null,
            "grid_auto_rows": null,
            "grid_column": null,
            "grid_gap": null,
            "grid_row": null,
            "grid_template_areas": null,
            "grid_template_columns": null,
            "grid_template_rows": null,
            "height": null,
            "justify_content": null,
            "justify_items": null,
            "left": null,
            "margin": null,
            "max_height": null,
            "max_width": null,
            "min_height": null,
            "min_width": null,
            "object_fit": null,
            "object_position": null,
            "order": null,
            "overflow": null,
            "overflow_x": null,
            "overflow_y": null,
            "padding": null,
            "right": null,
            "top": null,
            "visibility": null,
            "width": null
          }
        },
        "b21e7c43d7ae49a5a9a64f61e3e778bc": {
          "model_module": "@jupyter-widgets/controls",
          "model_name": "ProgressStyleModel",
          "model_module_version": "1.5.0",
          "state": {
            "_model_module": "@jupyter-widgets/controls",
            "_model_module_version": "1.5.0",
            "_model_name": "ProgressStyleModel",
            "_view_count": null,
            "_view_module": "@jupyter-widgets/base",
            "_view_module_version": "1.2.0",
            "_view_name": "StyleView",
            "bar_color": null,
            "description_width": ""
          }
        },
        "c994c7f5b8cf4836adb56b3f68c8b5ca": {
          "model_module": "@jupyter-widgets/base",
          "model_name": "LayoutModel",
          "model_module_version": "1.2.0",
          "state": {
            "_model_module": "@jupyter-widgets/base",
            "_model_module_version": "1.2.0",
            "_model_name": "LayoutModel",
            "_view_count": null,
            "_view_module": "@jupyter-widgets/base",
            "_view_module_version": "1.2.0",
            "_view_name": "LayoutView",
            "align_content": null,
            "align_items": null,
            "align_self": null,
            "border": null,
            "bottom": null,
            "display": null,
            "flex": null,
            "flex_flow": null,
            "grid_area": null,
            "grid_auto_columns": null,
            "grid_auto_flow": null,
            "grid_auto_rows": null,
            "grid_column": null,
            "grid_gap": null,
            "grid_row": null,
            "grid_template_areas": null,
            "grid_template_columns": null,
            "grid_template_rows": null,
            "height": null,
            "justify_content": null,
            "justify_items": null,
            "left": null,
            "margin": null,
            "max_height": null,
            "max_width": null,
            "min_height": null,
            "min_width": null,
            "object_fit": null,
            "object_position": null,
            "order": null,
            "overflow": null,
            "overflow_x": null,
            "overflow_y": null,
            "padding": null,
            "right": null,
            "top": null,
            "visibility": null,
            "width": null
          }
        },
        "f06b9ad194d343f9b99dfe27670428f4": {
          "model_module": "@jupyter-widgets/controls",
          "model_name": "DescriptionStyleModel",
          "model_module_version": "1.5.0",
          "state": {
            "_model_module": "@jupyter-widgets/controls",
            "_model_module_version": "1.5.0",
            "_model_name": "DescriptionStyleModel",
            "_view_count": null,
            "_view_module": "@jupyter-widgets/base",
            "_view_module_version": "1.2.0",
            "_view_name": "StyleView",
            "description_width": ""
          }
        },
        "2f01595fd8964aaaa4b873af314b0af9": {
          "model_module": "@jupyter-widgets/controls",
          "model_name": "HBoxModel",
          "model_module_version": "1.5.0",
          "state": {
            "_dom_classes": [],
            "_model_module": "@jupyter-widgets/controls",
            "_model_module_version": "1.5.0",
            "_model_name": "HBoxModel",
            "_view_count": null,
            "_view_module": "@jupyter-widgets/controls",
            "_view_module_version": "1.5.0",
            "_view_name": "HBoxView",
            "box_style": "",
            "children": [
              "IPY_MODEL_f0cc60d4e67642f8811334fc674b5486",
              "IPY_MODEL_f2ec57af7f534f019156771a4d5e42f7",
              "IPY_MODEL_f4055051fde3416b992112465471fa41"
            ],
            "layout": "IPY_MODEL_1f0d8a84bb0c430581281b8285d8b9ad"
          }
        },
        "f0cc60d4e67642f8811334fc674b5486": {
          "model_module": "@jupyter-widgets/controls",
          "model_name": "HTMLModel",
          "model_module_version": "1.5.0",
          "state": {
            "_dom_classes": [],
            "_model_module": "@jupyter-widgets/controls",
            "_model_module_version": "1.5.0",
            "_model_name": "HTMLModel",
            "_view_count": null,
            "_view_module": "@jupyter-widgets/controls",
            "_view_module_version": "1.5.0",
            "_view_name": "HTMLView",
            "description": "",
            "description_tooltip": null,
            "layout": "IPY_MODEL_5b5cc303e6ca49e98b48ac44892f12cf",
            "placeholder": "​",
            "style": "IPY_MODEL_f14897a96d614363a2b549eebb556264",
            "value": "(…)32g-actorder_True/generation_config.json: 100%"
          }
        },
        "f2ec57af7f534f019156771a4d5e42f7": {
          "model_module": "@jupyter-widgets/controls",
          "model_name": "FloatProgressModel",
          "model_module_version": "1.5.0",
          "state": {
            "_dom_classes": [],
            "_model_module": "@jupyter-widgets/controls",
            "_model_module_version": "1.5.0",
            "_model_name": "FloatProgressModel",
            "_view_count": null,
            "_view_module": "@jupyter-widgets/controls",
            "_view_module_version": "1.5.0",
            "_view_name": "ProgressView",
            "bar_style": "success",
            "description": "",
            "description_tooltip": null,
            "layout": "IPY_MODEL_af25fd02bd2b42378a9c8aa8660b9412",
            "max": 132,
            "min": 0,
            "orientation": "horizontal",
            "style": "IPY_MODEL_9b90fc5a81d0466788f2d6f24955a4b8",
            "value": 132
          }
        },
        "f4055051fde3416b992112465471fa41": {
          "model_module": "@jupyter-widgets/controls",
          "model_name": "HTMLModel",
          "model_module_version": "1.5.0",
          "state": {
            "_dom_classes": [],
            "_model_module": "@jupyter-widgets/controls",
            "_model_module_version": "1.5.0",
            "_model_name": "HTMLModel",
            "_view_count": null,
            "_view_module": "@jupyter-widgets/controls",
            "_view_module_version": "1.5.0",
            "_view_name": "HTMLView",
            "description": "",
            "description_tooltip": null,
            "layout": "IPY_MODEL_2cb4a912e8ec45dc81f4300c7b0c0c77",
            "placeholder": "​",
            "style": "IPY_MODEL_e86b4443fafd4e87ac2d43ed88b32a58",
            "value": " 132/132 [00:00&lt;00:00, 7.66kB/s]"
          }
        },
        "1f0d8a84bb0c430581281b8285d8b9ad": {
          "model_module": "@jupyter-widgets/base",
          "model_name": "LayoutModel",
          "model_module_version": "1.2.0",
          "state": {
            "_model_module": "@jupyter-widgets/base",
            "_model_module_version": "1.2.0",
            "_model_name": "LayoutModel",
            "_view_count": null,
            "_view_module": "@jupyter-widgets/base",
            "_view_module_version": "1.2.0",
            "_view_name": "LayoutView",
            "align_content": null,
            "align_items": null,
            "align_self": null,
            "border": null,
            "bottom": null,
            "display": null,
            "flex": null,
            "flex_flow": null,
            "grid_area": null,
            "grid_auto_columns": null,
            "grid_auto_flow": null,
            "grid_auto_rows": null,
            "grid_column": null,
            "grid_gap": null,
            "grid_row": null,
            "grid_template_areas": null,
            "grid_template_columns": null,
            "grid_template_rows": null,
            "height": null,
            "justify_content": null,
            "justify_items": null,
            "left": null,
            "margin": null,
            "max_height": null,
            "max_width": null,
            "min_height": null,
            "min_width": null,
            "object_fit": null,
            "object_position": null,
            "order": null,
            "overflow": null,
            "overflow_x": null,
            "overflow_y": null,
            "padding": null,
            "right": null,
            "top": null,
            "visibility": null,
            "width": null
          }
        },
        "5b5cc303e6ca49e98b48ac44892f12cf": {
          "model_module": "@jupyter-widgets/base",
          "model_name": "LayoutModel",
          "model_module_version": "1.2.0",
          "state": {
            "_model_module": "@jupyter-widgets/base",
            "_model_module_version": "1.2.0",
            "_model_name": "LayoutModel",
            "_view_count": null,
            "_view_module": "@jupyter-widgets/base",
            "_view_module_version": "1.2.0",
            "_view_name": "LayoutView",
            "align_content": null,
            "align_items": null,
            "align_self": null,
            "border": null,
            "bottom": null,
            "display": null,
            "flex": null,
            "flex_flow": null,
            "grid_area": null,
            "grid_auto_columns": null,
            "grid_auto_flow": null,
            "grid_auto_rows": null,
            "grid_column": null,
            "grid_gap": null,
            "grid_row": null,
            "grid_template_areas": null,
            "grid_template_columns": null,
            "grid_template_rows": null,
            "height": null,
            "justify_content": null,
            "justify_items": null,
            "left": null,
            "margin": null,
            "max_height": null,
            "max_width": null,
            "min_height": null,
            "min_width": null,
            "object_fit": null,
            "object_position": null,
            "order": null,
            "overflow": null,
            "overflow_x": null,
            "overflow_y": null,
            "padding": null,
            "right": null,
            "top": null,
            "visibility": null,
            "width": null
          }
        },
        "f14897a96d614363a2b549eebb556264": {
          "model_module": "@jupyter-widgets/controls",
          "model_name": "DescriptionStyleModel",
          "model_module_version": "1.5.0",
          "state": {
            "_model_module": "@jupyter-widgets/controls",
            "_model_module_version": "1.5.0",
            "_model_name": "DescriptionStyleModel",
            "_view_count": null,
            "_view_module": "@jupyter-widgets/base",
            "_view_module_version": "1.2.0",
            "_view_name": "StyleView",
            "description_width": ""
          }
        },
        "af25fd02bd2b42378a9c8aa8660b9412": {
          "model_module": "@jupyter-widgets/base",
          "model_name": "LayoutModel",
          "model_module_version": "1.2.0",
          "state": {
            "_model_module": "@jupyter-widgets/base",
            "_model_module_version": "1.2.0",
            "_model_name": "LayoutModel",
            "_view_count": null,
            "_view_module": "@jupyter-widgets/base",
            "_view_module_version": "1.2.0",
            "_view_name": "LayoutView",
            "align_content": null,
            "align_items": null,
            "align_self": null,
            "border": null,
            "bottom": null,
            "display": null,
            "flex": null,
            "flex_flow": null,
            "grid_area": null,
            "grid_auto_columns": null,
            "grid_auto_flow": null,
            "grid_auto_rows": null,
            "grid_column": null,
            "grid_gap": null,
            "grid_row": null,
            "grid_template_areas": null,
            "grid_template_columns": null,
            "grid_template_rows": null,
            "height": null,
            "justify_content": null,
            "justify_items": null,
            "left": null,
            "margin": null,
            "max_height": null,
            "max_width": null,
            "min_height": null,
            "min_width": null,
            "object_fit": null,
            "object_position": null,
            "order": null,
            "overflow": null,
            "overflow_x": null,
            "overflow_y": null,
            "padding": null,
            "right": null,
            "top": null,
            "visibility": null,
            "width": null
          }
        },
        "9b90fc5a81d0466788f2d6f24955a4b8": {
          "model_module": "@jupyter-widgets/controls",
          "model_name": "ProgressStyleModel",
          "model_module_version": "1.5.0",
          "state": {
            "_model_module": "@jupyter-widgets/controls",
            "_model_module_version": "1.5.0",
            "_model_name": "ProgressStyleModel",
            "_view_count": null,
            "_view_module": "@jupyter-widgets/base",
            "_view_module_version": "1.2.0",
            "_view_name": "StyleView",
            "bar_color": null,
            "description_width": ""
          }
        },
        "2cb4a912e8ec45dc81f4300c7b0c0c77": {
          "model_module": "@jupyter-widgets/base",
          "model_name": "LayoutModel",
          "model_module_version": "1.2.0",
          "state": {
            "_model_module": "@jupyter-widgets/base",
            "_model_module_version": "1.2.0",
            "_model_name": "LayoutModel",
            "_view_count": null,
            "_view_module": "@jupyter-widgets/base",
            "_view_module_version": "1.2.0",
            "_view_name": "LayoutView",
            "align_content": null,
            "align_items": null,
            "align_self": null,
            "border": null,
            "bottom": null,
            "display": null,
            "flex": null,
            "flex_flow": null,
            "grid_area": null,
            "grid_auto_columns": null,
            "grid_auto_flow": null,
            "grid_auto_rows": null,
            "grid_column": null,
            "grid_gap": null,
            "grid_row": null,
            "grid_template_areas": null,
            "grid_template_columns": null,
            "grid_template_rows": null,
            "height": null,
            "justify_content": null,
            "justify_items": null,
            "left": null,
            "margin": null,
            "max_height": null,
            "max_width": null,
            "min_height": null,
            "min_width": null,
            "object_fit": null,
            "object_position": null,
            "order": null,
            "overflow": null,
            "overflow_x": null,
            "overflow_y": null,
            "padding": null,
            "right": null,
            "top": null,
            "visibility": null,
            "width": null
          }
        },
        "e86b4443fafd4e87ac2d43ed88b32a58": {
          "model_module": "@jupyter-widgets/controls",
          "model_name": "DescriptionStyleModel",
          "model_module_version": "1.5.0",
          "state": {
            "_model_module": "@jupyter-widgets/controls",
            "_model_module_version": "1.5.0",
            "_model_name": "DescriptionStyleModel",
            "_view_count": null,
            "_view_module": "@jupyter-widgets/base",
            "_view_module_version": "1.2.0",
            "_view_name": "StyleView",
            "description_width": ""
          }
        },
        "a5529232de0a49d5a5fcadb432d88182": {
          "model_module": "@jupyter-widgets/controls",
          "model_name": "HBoxModel",
          "model_module_version": "1.5.0",
          "state": {
            "_dom_classes": [],
            "_model_module": "@jupyter-widgets/controls",
            "_model_module_version": "1.5.0",
            "_model_name": "HBoxModel",
            "_view_count": null,
            "_view_module": "@jupyter-widgets/controls",
            "_view_module_version": "1.5.0",
            "_view_name": "HBoxView",
            "box_style": "",
            "children": [
              "IPY_MODEL_b6765091ac9941ae87d23144cf313348",
              "IPY_MODEL_cae3bc5d476f424692c93168504a25db",
              "IPY_MODEL_81d7648dde054ac7b145b57c64029cec"
            ],
            "layout": "IPY_MODEL_dcb4cb3fbb2b4a8dbb3f75693e029635"
          }
        },
        "b6765091ac9941ae87d23144cf313348": {
          "model_module": "@jupyter-widgets/controls",
          "model_name": "HTMLModel",
          "model_module_version": "1.5.0",
          "state": {
            "_dom_classes": [],
            "_model_module": "@jupyter-widgets/controls",
            "_model_module_version": "1.5.0",
            "_model_name": "HTMLModel",
            "_view_count": null,
            "_view_module": "@jupyter-widgets/controls",
            "_view_module_version": "1.5.0",
            "_view_name": "HTMLView",
            "description": "",
            "description_tooltip": null,
            "layout": "IPY_MODEL_1498a34875d44868a6ed6dd2756697df",
            "placeholder": "​",
            "style": "IPY_MODEL_b6852f4f57b3490ca7c0087666b31fb2",
            "value": "(…)-GPTQ/resolve/main/tokenizer_config.json: 100%"
          }
        },
        "cae3bc5d476f424692c93168504a25db": {
          "model_module": "@jupyter-widgets/controls",
          "model_name": "FloatProgressModel",
          "model_module_version": "1.5.0",
          "state": {
            "_dom_classes": [],
            "_model_module": "@jupyter-widgets/controls",
            "_model_module_version": "1.5.0",
            "_model_name": "FloatProgressModel",
            "_view_count": null,
            "_view_module": "@jupyter-widgets/controls",
            "_view_module_version": "1.5.0",
            "_view_name": "ProgressView",
            "bar_style": "success",
            "description": "",
            "description_tooltip": null,
            "layout": "IPY_MODEL_758580e9bbca4b4d9eb9b23d0c83c79f",
            "max": 746,
            "min": 0,
            "orientation": "horizontal",
            "style": "IPY_MODEL_260e71c12e494390832a04d7ab7b1d93",
            "value": 746
          }
        },
        "81d7648dde054ac7b145b57c64029cec": {
          "model_module": "@jupyter-widgets/controls",
          "model_name": "HTMLModel",
          "model_module_version": "1.5.0",
          "state": {
            "_dom_classes": [],
            "_model_module": "@jupyter-widgets/controls",
            "_model_module_version": "1.5.0",
            "_model_name": "HTMLModel",
            "_view_count": null,
            "_view_module": "@jupyter-widgets/controls",
            "_view_module_version": "1.5.0",
            "_view_name": "HTMLView",
            "description": "",
            "description_tooltip": null,
            "layout": "IPY_MODEL_cfbaab2b15124bbbb388ae8cf5368009",
            "placeholder": "​",
            "style": "IPY_MODEL_824871bdb9ab494c9bfc50d56a1b4164",
            "value": " 746/746 [00:00&lt;00:00, 50.3kB/s]"
          }
        },
        "dcb4cb3fbb2b4a8dbb3f75693e029635": {
          "model_module": "@jupyter-widgets/base",
          "model_name": "LayoutModel",
          "model_module_version": "1.2.0",
          "state": {
            "_model_module": "@jupyter-widgets/base",
            "_model_module_version": "1.2.0",
            "_model_name": "LayoutModel",
            "_view_count": null,
            "_view_module": "@jupyter-widgets/base",
            "_view_module_version": "1.2.0",
            "_view_name": "LayoutView",
            "align_content": null,
            "align_items": null,
            "align_self": null,
            "border": null,
            "bottom": null,
            "display": null,
            "flex": null,
            "flex_flow": null,
            "grid_area": null,
            "grid_auto_columns": null,
            "grid_auto_flow": null,
            "grid_auto_rows": null,
            "grid_column": null,
            "grid_gap": null,
            "grid_row": null,
            "grid_template_areas": null,
            "grid_template_columns": null,
            "grid_template_rows": null,
            "height": null,
            "justify_content": null,
            "justify_items": null,
            "left": null,
            "margin": null,
            "max_height": null,
            "max_width": null,
            "min_height": null,
            "min_width": null,
            "object_fit": null,
            "object_position": null,
            "order": null,
            "overflow": null,
            "overflow_x": null,
            "overflow_y": null,
            "padding": null,
            "right": null,
            "top": null,
            "visibility": null,
            "width": null
          }
        },
        "1498a34875d44868a6ed6dd2756697df": {
          "model_module": "@jupyter-widgets/base",
          "model_name": "LayoutModel",
          "model_module_version": "1.2.0",
          "state": {
            "_model_module": "@jupyter-widgets/base",
            "_model_module_version": "1.2.0",
            "_model_name": "LayoutModel",
            "_view_count": null,
            "_view_module": "@jupyter-widgets/base",
            "_view_module_version": "1.2.0",
            "_view_name": "LayoutView",
            "align_content": null,
            "align_items": null,
            "align_self": null,
            "border": null,
            "bottom": null,
            "display": null,
            "flex": null,
            "flex_flow": null,
            "grid_area": null,
            "grid_auto_columns": null,
            "grid_auto_flow": null,
            "grid_auto_rows": null,
            "grid_column": null,
            "grid_gap": null,
            "grid_row": null,
            "grid_template_areas": null,
            "grid_template_columns": null,
            "grid_template_rows": null,
            "height": null,
            "justify_content": null,
            "justify_items": null,
            "left": null,
            "margin": null,
            "max_height": null,
            "max_width": null,
            "min_height": null,
            "min_width": null,
            "object_fit": null,
            "object_position": null,
            "order": null,
            "overflow": null,
            "overflow_x": null,
            "overflow_y": null,
            "padding": null,
            "right": null,
            "top": null,
            "visibility": null,
            "width": null
          }
        },
        "b6852f4f57b3490ca7c0087666b31fb2": {
          "model_module": "@jupyter-widgets/controls",
          "model_name": "DescriptionStyleModel",
          "model_module_version": "1.5.0",
          "state": {
            "_model_module": "@jupyter-widgets/controls",
            "_model_module_version": "1.5.0",
            "_model_name": "DescriptionStyleModel",
            "_view_count": null,
            "_view_module": "@jupyter-widgets/base",
            "_view_module_version": "1.2.0",
            "_view_name": "StyleView",
            "description_width": ""
          }
        },
        "758580e9bbca4b4d9eb9b23d0c83c79f": {
          "model_module": "@jupyter-widgets/base",
          "model_name": "LayoutModel",
          "model_module_version": "1.2.0",
          "state": {
            "_model_module": "@jupyter-widgets/base",
            "_model_module_version": "1.2.0",
            "_model_name": "LayoutModel",
            "_view_count": null,
            "_view_module": "@jupyter-widgets/base",
            "_view_module_version": "1.2.0",
            "_view_name": "LayoutView",
            "align_content": null,
            "align_items": null,
            "align_self": null,
            "border": null,
            "bottom": null,
            "display": null,
            "flex": null,
            "flex_flow": null,
            "grid_area": null,
            "grid_auto_columns": null,
            "grid_auto_flow": null,
            "grid_auto_rows": null,
            "grid_column": null,
            "grid_gap": null,
            "grid_row": null,
            "grid_template_areas": null,
            "grid_template_columns": null,
            "grid_template_rows": null,
            "height": null,
            "justify_content": null,
            "justify_items": null,
            "left": null,
            "margin": null,
            "max_height": null,
            "max_width": null,
            "min_height": null,
            "min_width": null,
            "object_fit": null,
            "object_position": null,
            "order": null,
            "overflow": null,
            "overflow_x": null,
            "overflow_y": null,
            "padding": null,
            "right": null,
            "top": null,
            "visibility": null,
            "width": null
          }
        },
        "260e71c12e494390832a04d7ab7b1d93": {
          "model_module": "@jupyter-widgets/controls",
          "model_name": "ProgressStyleModel",
          "model_module_version": "1.5.0",
          "state": {
            "_model_module": "@jupyter-widgets/controls",
            "_model_module_version": "1.5.0",
            "_model_name": "ProgressStyleModel",
            "_view_count": null,
            "_view_module": "@jupyter-widgets/base",
            "_view_module_version": "1.2.0",
            "_view_name": "StyleView",
            "bar_color": null,
            "description_width": ""
          }
        },
        "cfbaab2b15124bbbb388ae8cf5368009": {
          "model_module": "@jupyter-widgets/base",
          "model_name": "LayoutModel",
          "model_module_version": "1.2.0",
          "state": {
            "_model_module": "@jupyter-widgets/base",
            "_model_module_version": "1.2.0",
            "_model_name": "LayoutModel",
            "_view_count": null,
            "_view_module": "@jupyter-widgets/base",
            "_view_module_version": "1.2.0",
            "_view_name": "LayoutView",
            "align_content": null,
            "align_items": null,
            "align_self": null,
            "border": null,
            "bottom": null,
            "display": null,
            "flex": null,
            "flex_flow": null,
            "grid_area": null,
            "grid_auto_columns": null,
            "grid_auto_flow": null,
            "grid_auto_rows": null,
            "grid_column": null,
            "grid_gap": null,
            "grid_row": null,
            "grid_template_areas": null,
            "grid_template_columns": null,
            "grid_template_rows": null,
            "height": null,
            "justify_content": null,
            "justify_items": null,
            "left": null,
            "margin": null,
            "max_height": null,
            "max_width": null,
            "min_height": null,
            "min_width": null,
            "object_fit": null,
            "object_position": null,
            "order": null,
            "overflow": null,
            "overflow_x": null,
            "overflow_y": null,
            "padding": null,
            "right": null,
            "top": null,
            "visibility": null,
            "width": null
          }
        },
        "824871bdb9ab494c9bfc50d56a1b4164": {
          "model_module": "@jupyter-widgets/controls",
          "model_name": "DescriptionStyleModel",
          "model_module_version": "1.5.0",
          "state": {
            "_model_module": "@jupyter-widgets/controls",
            "_model_module_version": "1.5.0",
            "_model_name": "DescriptionStyleModel",
            "_view_count": null,
            "_view_module": "@jupyter-widgets/base",
            "_view_module_version": "1.2.0",
            "_view_name": "StyleView",
            "description_width": ""
          }
        },
        "f0ed9adf57064d4e8ca2bb23d089843d": {
          "model_module": "@jupyter-widgets/controls",
          "model_name": "HBoxModel",
          "model_module_version": "1.5.0",
          "state": {
            "_dom_classes": [],
            "_model_module": "@jupyter-widgets/controls",
            "_model_module_version": "1.5.0",
            "_model_name": "HBoxModel",
            "_view_count": null,
            "_view_module": "@jupyter-widgets/controls",
            "_view_module_version": "1.5.0",
            "_view_name": "HBoxView",
            "box_style": "",
            "children": [
              "IPY_MODEL_17ef9cdbda3f4ec8a220299a762115e3",
              "IPY_MODEL_6a09b0eb549e44d595dc307816c23978",
              "IPY_MODEL_eadf10a2ddef40778d500410fb806670"
            ],
            "layout": "IPY_MODEL_29c6b9134b514526b2dff9a55e7118b8"
          }
        },
        "17ef9cdbda3f4ec8a220299a762115e3": {
          "model_module": "@jupyter-widgets/controls",
          "model_name": "HTMLModel",
          "model_module_version": "1.5.0",
          "state": {
            "_dom_classes": [],
            "_model_module": "@jupyter-widgets/controls",
            "_model_module_version": "1.5.0",
            "_model_name": "HTMLModel",
            "_view_count": null,
            "_view_module": "@jupyter-widgets/controls",
            "_view_module_version": "1.5.0",
            "_view_name": "HTMLView",
            "description": "",
            "description_tooltip": null,
            "layout": "IPY_MODEL_e973b624c0ac4fe2baff3c5e24226610",
            "placeholder": "​",
            "style": "IPY_MODEL_81f5c23e8da446c3aca894f8e786a02d",
            "value": "tokenizer.model: 100%"
          }
        },
        "6a09b0eb549e44d595dc307816c23978": {
          "model_module": "@jupyter-widgets/controls",
          "model_name": "FloatProgressModel",
          "model_module_version": "1.5.0",
          "state": {
            "_dom_classes": [],
            "_model_module": "@jupyter-widgets/controls",
            "_model_module_version": "1.5.0",
            "_model_name": "FloatProgressModel",
            "_view_count": null,
            "_view_module": "@jupyter-widgets/controls",
            "_view_module_version": "1.5.0",
            "_view_name": "ProgressView",
            "bar_style": "success",
            "description": "",
            "description_tooltip": null,
            "layout": "IPY_MODEL_c54fd375291d41a1a4009fc7433585c7",
            "max": 568229,
            "min": 0,
            "orientation": "horizontal",
            "style": "IPY_MODEL_72c282d50d1545f786498b6e65acb674",
            "value": 568229
          }
        },
        "eadf10a2ddef40778d500410fb806670": {
          "model_module": "@jupyter-widgets/controls",
          "model_name": "HTMLModel",
          "model_module_version": "1.5.0",
          "state": {
            "_dom_classes": [],
            "_model_module": "@jupyter-widgets/controls",
            "_model_module_version": "1.5.0",
            "_model_name": "HTMLModel",
            "_view_count": null,
            "_view_module": "@jupyter-widgets/controls",
            "_view_module_version": "1.5.0",
            "_view_name": "HTMLView",
            "description": "",
            "description_tooltip": null,
            "layout": "IPY_MODEL_9c6ae46d9bf24a8cb9a24313a7596800",
            "placeholder": "​",
            "style": "IPY_MODEL_b68e1c96127146aba76db512df65042e",
            "value": " 568k/568k [00:00&lt;00:00, 2.34MB/s]"
          }
        },
        "29c6b9134b514526b2dff9a55e7118b8": {
          "model_module": "@jupyter-widgets/base",
          "model_name": "LayoutModel",
          "model_module_version": "1.2.0",
          "state": {
            "_model_module": "@jupyter-widgets/base",
            "_model_module_version": "1.2.0",
            "_model_name": "LayoutModel",
            "_view_count": null,
            "_view_module": "@jupyter-widgets/base",
            "_view_module_version": "1.2.0",
            "_view_name": "LayoutView",
            "align_content": null,
            "align_items": null,
            "align_self": null,
            "border": null,
            "bottom": null,
            "display": null,
            "flex": null,
            "flex_flow": null,
            "grid_area": null,
            "grid_auto_columns": null,
            "grid_auto_flow": null,
            "grid_auto_rows": null,
            "grid_column": null,
            "grid_gap": null,
            "grid_row": null,
            "grid_template_areas": null,
            "grid_template_columns": null,
            "grid_template_rows": null,
            "height": null,
            "justify_content": null,
            "justify_items": null,
            "left": null,
            "margin": null,
            "max_height": null,
            "max_width": null,
            "min_height": null,
            "min_width": null,
            "object_fit": null,
            "object_position": null,
            "order": null,
            "overflow": null,
            "overflow_x": null,
            "overflow_y": null,
            "padding": null,
            "right": null,
            "top": null,
            "visibility": null,
            "width": null
          }
        },
        "e973b624c0ac4fe2baff3c5e24226610": {
          "model_module": "@jupyter-widgets/base",
          "model_name": "LayoutModel",
          "model_module_version": "1.2.0",
          "state": {
            "_model_module": "@jupyter-widgets/base",
            "_model_module_version": "1.2.0",
            "_model_name": "LayoutModel",
            "_view_count": null,
            "_view_module": "@jupyter-widgets/base",
            "_view_module_version": "1.2.0",
            "_view_name": "LayoutView",
            "align_content": null,
            "align_items": null,
            "align_self": null,
            "border": null,
            "bottom": null,
            "display": null,
            "flex": null,
            "flex_flow": null,
            "grid_area": null,
            "grid_auto_columns": null,
            "grid_auto_flow": null,
            "grid_auto_rows": null,
            "grid_column": null,
            "grid_gap": null,
            "grid_row": null,
            "grid_template_areas": null,
            "grid_template_columns": null,
            "grid_template_rows": null,
            "height": null,
            "justify_content": null,
            "justify_items": null,
            "left": null,
            "margin": null,
            "max_height": null,
            "max_width": null,
            "min_height": null,
            "min_width": null,
            "object_fit": null,
            "object_position": null,
            "order": null,
            "overflow": null,
            "overflow_x": null,
            "overflow_y": null,
            "padding": null,
            "right": null,
            "top": null,
            "visibility": null,
            "width": null
          }
        },
        "81f5c23e8da446c3aca894f8e786a02d": {
          "model_module": "@jupyter-widgets/controls",
          "model_name": "DescriptionStyleModel",
          "model_module_version": "1.5.0",
          "state": {
            "_model_module": "@jupyter-widgets/controls",
            "_model_module_version": "1.5.0",
            "_model_name": "DescriptionStyleModel",
            "_view_count": null,
            "_view_module": "@jupyter-widgets/base",
            "_view_module_version": "1.2.0",
            "_view_name": "StyleView",
            "description_width": ""
          }
        },
        "c54fd375291d41a1a4009fc7433585c7": {
          "model_module": "@jupyter-widgets/base",
          "model_name": "LayoutModel",
          "model_module_version": "1.2.0",
          "state": {
            "_model_module": "@jupyter-widgets/base",
            "_model_module_version": "1.2.0",
            "_model_name": "LayoutModel",
            "_view_count": null,
            "_view_module": "@jupyter-widgets/base",
            "_view_module_version": "1.2.0",
            "_view_name": "LayoutView",
            "align_content": null,
            "align_items": null,
            "align_self": null,
            "border": null,
            "bottom": null,
            "display": null,
            "flex": null,
            "flex_flow": null,
            "grid_area": null,
            "grid_auto_columns": null,
            "grid_auto_flow": null,
            "grid_auto_rows": null,
            "grid_column": null,
            "grid_gap": null,
            "grid_row": null,
            "grid_template_areas": null,
            "grid_template_columns": null,
            "grid_template_rows": null,
            "height": null,
            "justify_content": null,
            "justify_items": null,
            "left": null,
            "margin": null,
            "max_height": null,
            "max_width": null,
            "min_height": null,
            "min_width": null,
            "object_fit": null,
            "object_position": null,
            "order": null,
            "overflow": null,
            "overflow_x": null,
            "overflow_y": null,
            "padding": null,
            "right": null,
            "top": null,
            "visibility": null,
            "width": null
          }
        },
        "72c282d50d1545f786498b6e65acb674": {
          "model_module": "@jupyter-widgets/controls",
          "model_name": "ProgressStyleModel",
          "model_module_version": "1.5.0",
          "state": {
            "_model_module": "@jupyter-widgets/controls",
            "_model_module_version": "1.5.0",
            "_model_name": "ProgressStyleModel",
            "_view_count": null,
            "_view_module": "@jupyter-widgets/base",
            "_view_module_version": "1.2.0",
            "_view_name": "StyleView",
            "bar_color": null,
            "description_width": ""
          }
        },
        "9c6ae46d9bf24a8cb9a24313a7596800": {
          "model_module": "@jupyter-widgets/base",
          "model_name": "LayoutModel",
          "model_module_version": "1.2.0",
          "state": {
            "_model_module": "@jupyter-widgets/base",
            "_model_module_version": "1.2.0",
            "_model_name": "LayoutModel",
            "_view_count": null,
            "_view_module": "@jupyter-widgets/base",
            "_view_module_version": "1.2.0",
            "_view_name": "LayoutView",
            "align_content": null,
            "align_items": null,
            "align_self": null,
            "border": null,
            "bottom": null,
            "display": null,
            "flex": null,
            "flex_flow": null,
            "grid_area": null,
            "grid_auto_columns": null,
            "grid_auto_flow": null,
            "grid_auto_rows": null,
            "grid_column": null,
            "grid_gap": null,
            "grid_row": null,
            "grid_template_areas": null,
            "grid_template_columns": null,
            "grid_template_rows": null,
            "height": null,
            "justify_content": null,
            "justify_items": null,
            "left": null,
            "margin": null,
            "max_height": null,
            "max_width": null,
            "min_height": null,
            "min_width": null,
            "object_fit": null,
            "object_position": null,
            "order": null,
            "overflow": null,
            "overflow_x": null,
            "overflow_y": null,
            "padding": null,
            "right": null,
            "top": null,
            "visibility": null,
            "width": null
          }
        },
        "b68e1c96127146aba76db512df65042e": {
          "model_module": "@jupyter-widgets/controls",
          "model_name": "DescriptionStyleModel",
          "model_module_version": "1.5.0",
          "state": {
            "_model_module": "@jupyter-widgets/controls",
            "_model_module_version": "1.5.0",
            "_model_name": "DescriptionStyleModel",
            "_view_count": null,
            "_view_module": "@jupyter-widgets/base",
            "_view_module_version": "1.2.0",
            "_view_name": "StyleView",
            "description_width": ""
          }
        },
        "4fd15f8134ec4b8ea733eb8a7de9dba7": {
          "model_module": "@jupyter-widgets/controls",
          "model_name": "HBoxModel",
          "model_module_version": "1.5.0",
          "state": {
            "_dom_classes": [],
            "_model_module": "@jupyter-widgets/controls",
            "_model_module_version": "1.5.0",
            "_model_name": "HBoxModel",
            "_view_count": null,
            "_view_module": "@jupyter-widgets/controls",
            "_view_module_version": "1.5.0",
            "_view_name": "HBoxView",
            "box_style": "",
            "children": [
              "IPY_MODEL_00fca8702bc340e9a28b127dfdeed100",
              "IPY_MODEL_86b5efd0b0aa4d559e9cbbcabd970c0b",
              "IPY_MODEL_80eec0df041743d18678ee18a7727f8d"
            ],
            "layout": "IPY_MODEL_fb626067f3ff4c15abf30a9a8072d501"
          }
        },
        "00fca8702bc340e9a28b127dfdeed100": {
          "model_module": "@jupyter-widgets/controls",
          "model_name": "HTMLModel",
          "model_module_version": "1.5.0",
          "state": {
            "_dom_classes": [],
            "_model_module": "@jupyter-widgets/controls",
            "_model_module_version": "1.5.0",
            "_model_name": "HTMLModel",
            "_view_count": null,
            "_view_module": "@jupyter-widgets/controls",
            "_view_module_version": "1.5.0",
            "_view_name": "HTMLView",
            "description": "",
            "description_tooltip": null,
            "layout": "IPY_MODEL_8ad5531aff6a47d3a88905deee51b711",
            "placeholder": "​",
            "style": "IPY_MODEL_db4b0b5ff1e941538e2fcb4f2755d8bb",
            "value": "(…)tant-v4-GPTQ/resolve/main/tokenizer.json: 100%"
          }
        },
        "86b5efd0b0aa4d559e9cbbcabd970c0b": {
          "model_module": "@jupyter-widgets/controls",
          "model_name": "FloatProgressModel",
          "model_module_version": "1.5.0",
          "state": {
            "_dom_classes": [],
            "_model_module": "@jupyter-widgets/controls",
            "_model_module_version": "1.5.0",
            "_model_name": "FloatProgressModel",
            "_view_count": null,
            "_view_module": "@jupyter-widgets/controls",
            "_view_module_version": "1.5.0",
            "_view_name": "ProgressView",
            "bar_style": "success",
            "description": "",
            "description_tooltip": null,
            "layout": "IPY_MODEL_f94d0cc4ea2c419e9e90b58a6655b6d3",
            "max": 1956326,
            "min": 0,
            "orientation": "horizontal",
            "style": "IPY_MODEL_526f37b9bb7d408aa9a6bc90b81453cd",
            "value": 1956326
          }
        },
        "80eec0df041743d18678ee18a7727f8d": {
          "model_module": "@jupyter-widgets/controls",
          "model_name": "HTMLModel",
          "model_module_version": "1.5.0",
          "state": {
            "_dom_classes": [],
            "_model_module": "@jupyter-widgets/controls",
            "_model_module_version": "1.5.0",
            "_model_name": "HTMLModel",
            "_view_count": null,
            "_view_module": "@jupyter-widgets/controls",
            "_view_module_version": "1.5.0",
            "_view_name": "HTMLView",
            "description": "",
            "description_tooltip": null,
            "layout": "IPY_MODEL_3e2f8a223b554951876090277eb809d4",
            "placeholder": "​",
            "style": "IPY_MODEL_68f36d8222fb4ff7a8ea66ae7219f24f",
            "value": " 1.96M/1.96M [00:00&lt;00:00, 14.3MB/s]"
          }
        },
        "fb626067f3ff4c15abf30a9a8072d501": {
          "model_module": "@jupyter-widgets/base",
          "model_name": "LayoutModel",
          "model_module_version": "1.2.0",
          "state": {
            "_model_module": "@jupyter-widgets/base",
            "_model_module_version": "1.2.0",
            "_model_name": "LayoutModel",
            "_view_count": null,
            "_view_module": "@jupyter-widgets/base",
            "_view_module_version": "1.2.0",
            "_view_name": "LayoutView",
            "align_content": null,
            "align_items": null,
            "align_self": null,
            "border": null,
            "bottom": null,
            "display": null,
            "flex": null,
            "flex_flow": null,
            "grid_area": null,
            "grid_auto_columns": null,
            "grid_auto_flow": null,
            "grid_auto_rows": null,
            "grid_column": null,
            "grid_gap": null,
            "grid_row": null,
            "grid_template_areas": null,
            "grid_template_columns": null,
            "grid_template_rows": null,
            "height": null,
            "justify_content": null,
            "justify_items": null,
            "left": null,
            "margin": null,
            "max_height": null,
            "max_width": null,
            "min_height": null,
            "min_width": null,
            "object_fit": null,
            "object_position": null,
            "order": null,
            "overflow": null,
            "overflow_x": null,
            "overflow_y": null,
            "padding": null,
            "right": null,
            "top": null,
            "visibility": null,
            "width": null
          }
        },
        "8ad5531aff6a47d3a88905deee51b711": {
          "model_module": "@jupyter-widgets/base",
          "model_name": "LayoutModel",
          "model_module_version": "1.2.0",
          "state": {
            "_model_module": "@jupyter-widgets/base",
            "_model_module_version": "1.2.0",
            "_model_name": "LayoutModel",
            "_view_count": null,
            "_view_module": "@jupyter-widgets/base",
            "_view_module_version": "1.2.0",
            "_view_name": "LayoutView",
            "align_content": null,
            "align_items": null,
            "align_self": null,
            "border": null,
            "bottom": null,
            "display": null,
            "flex": null,
            "flex_flow": null,
            "grid_area": null,
            "grid_auto_columns": null,
            "grid_auto_flow": null,
            "grid_auto_rows": null,
            "grid_column": null,
            "grid_gap": null,
            "grid_row": null,
            "grid_template_areas": null,
            "grid_template_columns": null,
            "grid_template_rows": null,
            "height": null,
            "justify_content": null,
            "justify_items": null,
            "left": null,
            "margin": null,
            "max_height": null,
            "max_width": null,
            "min_height": null,
            "min_width": null,
            "object_fit": null,
            "object_position": null,
            "order": null,
            "overflow": null,
            "overflow_x": null,
            "overflow_y": null,
            "padding": null,
            "right": null,
            "top": null,
            "visibility": null,
            "width": null
          }
        },
        "db4b0b5ff1e941538e2fcb4f2755d8bb": {
          "model_module": "@jupyter-widgets/controls",
          "model_name": "DescriptionStyleModel",
          "model_module_version": "1.5.0",
          "state": {
            "_model_module": "@jupyter-widgets/controls",
            "_model_module_version": "1.5.0",
            "_model_name": "DescriptionStyleModel",
            "_view_count": null,
            "_view_module": "@jupyter-widgets/base",
            "_view_module_version": "1.2.0",
            "_view_name": "StyleView",
            "description_width": ""
          }
        },
        "f94d0cc4ea2c419e9e90b58a6655b6d3": {
          "model_module": "@jupyter-widgets/base",
          "model_name": "LayoutModel",
          "model_module_version": "1.2.0",
          "state": {
            "_model_module": "@jupyter-widgets/base",
            "_model_module_version": "1.2.0",
            "_model_name": "LayoutModel",
            "_view_count": null,
            "_view_module": "@jupyter-widgets/base",
            "_view_module_version": "1.2.0",
            "_view_name": "LayoutView",
            "align_content": null,
            "align_items": null,
            "align_self": null,
            "border": null,
            "bottom": null,
            "display": null,
            "flex": null,
            "flex_flow": null,
            "grid_area": null,
            "grid_auto_columns": null,
            "grid_auto_flow": null,
            "grid_auto_rows": null,
            "grid_column": null,
            "grid_gap": null,
            "grid_row": null,
            "grid_template_areas": null,
            "grid_template_columns": null,
            "grid_template_rows": null,
            "height": null,
            "justify_content": null,
            "justify_items": null,
            "left": null,
            "margin": null,
            "max_height": null,
            "max_width": null,
            "min_height": null,
            "min_width": null,
            "object_fit": null,
            "object_position": null,
            "order": null,
            "overflow": null,
            "overflow_x": null,
            "overflow_y": null,
            "padding": null,
            "right": null,
            "top": null,
            "visibility": null,
            "width": null
          }
        },
        "526f37b9bb7d408aa9a6bc90b81453cd": {
          "model_module": "@jupyter-widgets/controls",
          "model_name": "ProgressStyleModel",
          "model_module_version": "1.5.0",
          "state": {
            "_model_module": "@jupyter-widgets/controls",
            "_model_module_version": "1.5.0",
            "_model_name": "ProgressStyleModel",
            "_view_count": null,
            "_view_module": "@jupyter-widgets/base",
            "_view_module_version": "1.2.0",
            "_view_name": "StyleView",
            "bar_color": null,
            "description_width": ""
          }
        },
        "3e2f8a223b554951876090277eb809d4": {
          "model_module": "@jupyter-widgets/base",
          "model_name": "LayoutModel",
          "model_module_version": "1.2.0",
          "state": {
            "_model_module": "@jupyter-widgets/base",
            "_model_module_version": "1.2.0",
            "_model_name": "LayoutModel",
            "_view_count": null,
            "_view_module": "@jupyter-widgets/base",
            "_view_module_version": "1.2.0",
            "_view_name": "LayoutView",
            "align_content": null,
            "align_items": null,
            "align_self": null,
            "border": null,
            "bottom": null,
            "display": null,
            "flex": null,
            "flex_flow": null,
            "grid_area": null,
            "grid_auto_columns": null,
            "grid_auto_flow": null,
            "grid_auto_rows": null,
            "grid_column": null,
            "grid_gap": null,
            "grid_row": null,
            "grid_template_areas": null,
            "grid_template_columns": null,
            "grid_template_rows": null,
            "height": null,
            "justify_content": null,
            "justify_items": null,
            "left": null,
            "margin": null,
            "max_height": null,
            "max_width": null,
            "min_height": null,
            "min_width": null,
            "object_fit": null,
            "object_position": null,
            "order": null,
            "overflow": null,
            "overflow_x": null,
            "overflow_y": null,
            "padding": null,
            "right": null,
            "top": null,
            "visibility": null,
            "width": null
          }
        },
        "68f36d8222fb4ff7a8ea66ae7219f24f": {
          "model_module": "@jupyter-widgets/controls",
          "model_name": "DescriptionStyleModel",
          "model_module_version": "1.5.0",
          "state": {
            "_model_module": "@jupyter-widgets/controls",
            "_model_module_version": "1.5.0",
            "_model_name": "DescriptionStyleModel",
            "_view_count": null,
            "_view_module": "@jupyter-widgets/base",
            "_view_module_version": "1.2.0",
            "_view_name": "StyleView",
            "description_width": ""
          }
        },
        "ecdf33bb11364b72abb7bff25267c1ed": {
          "model_module": "@jupyter-widgets/controls",
          "model_name": "HBoxModel",
          "model_module_version": "1.5.0",
          "state": {
            "_dom_classes": [],
            "_model_module": "@jupyter-widgets/controls",
            "_model_module_version": "1.5.0",
            "_model_name": "HBoxModel",
            "_view_count": null,
            "_view_module": "@jupyter-widgets/controls",
            "_view_module_version": "1.5.0",
            "_view_name": "HBoxView",
            "box_style": "",
            "children": [
              "IPY_MODEL_cd9e4e1d426b4f76814ff525f31abdc6",
              "IPY_MODEL_2da4fa5ea47b450c98679571de930ea7",
              "IPY_MODEL_566e9446d5e44912b09167c4acc7d45a"
            ],
            "layout": "IPY_MODEL_aeefe1112cc14a988fec8a109343f8fc"
          }
        },
        "cd9e4e1d426b4f76814ff525f31abdc6": {
          "model_module": "@jupyter-widgets/controls",
          "model_name": "HTMLModel",
          "model_module_version": "1.5.0",
          "state": {
            "_dom_classes": [],
            "_model_module": "@jupyter-widgets/controls",
            "_model_module_version": "1.5.0",
            "_model_name": "HTMLModel",
            "_view_count": null,
            "_view_module": "@jupyter-widgets/controls",
            "_view_module_version": "1.5.0",
            "_view_name": "HTMLView",
            "description": "",
            "description_tooltip": null,
            "layout": "IPY_MODEL_403386e7604e40ca88580b485771f2f6",
            "placeholder": "​",
            "style": "IPY_MODEL_6b7ae4fddbe8478e9f2153710599489d",
            "value": "(…)PTQ/resolve/main/special_tokens_map.json: 100%"
          }
        },
        "2da4fa5ea47b450c98679571de930ea7": {
          "model_module": "@jupyter-widgets/controls",
          "model_name": "FloatProgressModel",
          "model_module_version": "1.5.0",
          "state": {
            "_dom_classes": [],
            "_model_module": "@jupyter-widgets/controls",
            "_model_module_version": "1.5.0",
            "_model_name": "FloatProgressModel",
            "_view_count": null,
            "_view_module": "@jupyter-widgets/controls",
            "_view_module_version": "1.5.0",
            "_view_name": "ProgressView",
            "bar_style": "success",
            "description": "",
            "description_tooltip": null,
            "layout": "IPY_MODEL_cdd26eb03b0940c39ce3123b2c57ae3e",
            "max": 434,
            "min": 0,
            "orientation": "horizontal",
            "style": "IPY_MODEL_5386ef389f0b40fcbfd5ef39421a9225",
            "value": 434
          }
        },
        "566e9446d5e44912b09167c4acc7d45a": {
          "model_module": "@jupyter-widgets/controls",
          "model_name": "HTMLModel",
          "model_module_version": "1.5.0",
          "state": {
            "_dom_classes": [],
            "_model_module": "@jupyter-widgets/controls",
            "_model_module_version": "1.5.0",
            "_model_name": "HTMLModel",
            "_view_count": null,
            "_view_module": "@jupyter-widgets/controls",
            "_view_module_version": "1.5.0",
            "_view_name": "HTMLView",
            "description": "",
            "description_tooltip": null,
            "layout": "IPY_MODEL_1d08281a7cf846f1b260e9a4ca8216a6",
            "placeholder": "​",
            "style": "IPY_MODEL_ade0ee8ffb974be185beb358c953370b",
            "value": " 434/434 [00:00&lt;00:00, 26.8kB/s]"
          }
        },
        "aeefe1112cc14a988fec8a109343f8fc": {
          "model_module": "@jupyter-widgets/base",
          "model_name": "LayoutModel",
          "model_module_version": "1.2.0",
          "state": {
            "_model_module": "@jupyter-widgets/base",
            "_model_module_version": "1.2.0",
            "_model_name": "LayoutModel",
            "_view_count": null,
            "_view_module": "@jupyter-widgets/base",
            "_view_module_version": "1.2.0",
            "_view_name": "LayoutView",
            "align_content": null,
            "align_items": null,
            "align_self": null,
            "border": null,
            "bottom": null,
            "display": null,
            "flex": null,
            "flex_flow": null,
            "grid_area": null,
            "grid_auto_columns": null,
            "grid_auto_flow": null,
            "grid_auto_rows": null,
            "grid_column": null,
            "grid_gap": null,
            "grid_row": null,
            "grid_template_areas": null,
            "grid_template_columns": null,
            "grid_template_rows": null,
            "height": null,
            "justify_content": null,
            "justify_items": null,
            "left": null,
            "margin": null,
            "max_height": null,
            "max_width": null,
            "min_height": null,
            "min_width": null,
            "object_fit": null,
            "object_position": null,
            "order": null,
            "overflow": null,
            "overflow_x": null,
            "overflow_y": null,
            "padding": null,
            "right": null,
            "top": null,
            "visibility": null,
            "width": null
          }
        },
        "403386e7604e40ca88580b485771f2f6": {
          "model_module": "@jupyter-widgets/base",
          "model_name": "LayoutModel",
          "model_module_version": "1.2.0",
          "state": {
            "_model_module": "@jupyter-widgets/base",
            "_model_module_version": "1.2.0",
            "_model_name": "LayoutModel",
            "_view_count": null,
            "_view_module": "@jupyter-widgets/base",
            "_view_module_version": "1.2.0",
            "_view_name": "LayoutView",
            "align_content": null,
            "align_items": null,
            "align_self": null,
            "border": null,
            "bottom": null,
            "display": null,
            "flex": null,
            "flex_flow": null,
            "grid_area": null,
            "grid_auto_columns": null,
            "grid_auto_flow": null,
            "grid_auto_rows": null,
            "grid_column": null,
            "grid_gap": null,
            "grid_row": null,
            "grid_template_areas": null,
            "grid_template_columns": null,
            "grid_template_rows": null,
            "height": null,
            "justify_content": null,
            "justify_items": null,
            "left": null,
            "margin": null,
            "max_height": null,
            "max_width": null,
            "min_height": null,
            "min_width": null,
            "object_fit": null,
            "object_position": null,
            "order": null,
            "overflow": null,
            "overflow_x": null,
            "overflow_y": null,
            "padding": null,
            "right": null,
            "top": null,
            "visibility": null,
            "width": null
          }
        },
        "6b7ae4fddbe8478e9f2153710599489d": {
          "model_module": "@jupyter-widgets/controls",
          "model_name": "DescriptionStyleModel",
          "model_module_version": "1.5.0",
          "state": {
            "_model_module": "@jupyter-widgets/controls",
            "_model_module_version": "1.5.0",
            "_model_name": "DescriptionStyleModel",
            "_view_count": null,
            "_view_module": "@jupyter-widgets/base",
            "_view_module_version": "1.2.0",
            "_view_name": "StyleView",
            "description_width": ""
          }
        },
        "cdd26eb03b0940c39ce3123b2c57ae3e": {
          "model_module": "@jupyter-widgets/base",
          "model_name": "LayoutModel",
          "model_module_version": "1.2.0",
          "state": {
            "_model_module": "@jupyter-widgets/base",
            "_model_module_version": "1.2.0",
            "_model_name": "LayoutModel",
            "_view_count": null,
            "_view_module": "@jupyter-widgets/base",
            "_view_module_version": "1.2.0",
            "_view_name": "LayoutView",
            "align_content": null,
            "align_items": null,
            "align_self": null,
            "border": null,
            "bottom": null,
            "display": null,
            "flex": null,
            "flex_flow": null,
            "grid_area": null,
            "grid_auto_columns": null,
            "grid_auto_flow": null,
            "grid_auto_rows": null,
            "grid_column": null,
            "grid_gap": null,
            "grid_row": null,
            "grid_template_areas": null,
            "grid_template_columns": null,
            "grid_template_rows": null,
            "height": null,
            "justify_content": null,
            "justify_items": null,
            "left": null,
            "margin": null,
            "max_height": null,
            "max_width": null,
            "min_height": null,
            "min_width": null,
            "object_fit": null,
            "object_position": null,
            "order": null,
            "overflow": null,
            "overflow_x": null,
            "overflow_y": null,
            "padding": null,
            "right": null,
            "top": null,
            "visibility": null,
            "width": null
          }
        },
        "5386ef389f0b40fcbfd5ef39421a9225": {
          "model_module": "@jupyter-widgets/controls",
          "model_name": "ProgressStyleModel",
          "model_module_version": "1.5.0",
          "state": {
            "_model_module": "@jupyter-widgets/controls",
            "_model_module_version": "1.5.0",
            "_model_name": "ProgressStyleModel",
            "_view_count": null,
            "_view_module": "@jupyter-widgets/base",
            "_view_module_version": "1.2.0",
            "_view_name": "StyleView",
            "bar_color": null,
            "description_width": ""
          }
        },
        "1d08281a7cf846f1b260e9a4ca8216a6": {
          "model_module": "@jupyter-widgets/base",
          "model_name": "LayoutModel",
          "model_module_version": "1.2.0",
          "state": {
            "_model_module": "@jupyter-widgets/base",
            "_model_module_version": "1.2.0",
            "_model_name": "LayoutModel",
            "_view_count": null,
            "_view_module": "@jupyter-widgets/base",
            "_view_module_version": "1.2.0",
            "_view_name": "LayoutView",
            "align_content": null,
            "align_items": null,
            "align_self": null,
            "border": null,
            "bottom": null,
            "display": null,
            "flex": null,
            "flex_flow": null,
            "grid_area": null,
            "grid_auto_columns": null,
            "grid_auto_flow": null,
            "grid_auto_rows": null,
            "grid_column": null,
            "grid_gap": null,
            "grid_row": null,
            "grid_template_areas": null,
            "grid_template_columns": null,
            "grid_template_rows": null,
            "height": null,
            "justify_content": null,
            "justify_items": null,
            "left": null,
            "margin": null,
            "max_height": null,
            "max_width": null,
            "min_height": null,
            "min_width": null,
            "object_fit": null,
            "object_position": null,
            "order": null,
            "overflow": null,
            "overflow_x": null,
            "overflow_y": null,
            "padding": null,
            "right": null,
            "top": null,
            "visibility": null,
            "width": null
          }
        },
        "ade0ee8ffb974be185beb358c953370b": {
          "model_module": "@jupyter-widgets/controls",
          "model_name": "DescriptionStyleModel",
          "model_module_version": "1.5.0",
          "state": {
            "_model_module": "@jupyter-widgets/controls",
            "_model_module_version": "1.5.0",
            "_model_name": "DescriptionStyleModel",
            "_view_count": null,
            "_view_module": "@jupyter-widgets/base",
            "_view_module_version": "1.2.0",
            "_view_name": "StyleView",
            "description_width": ""
          }
        }
      }
    }
  },
  "cells": [
    {
      "cell_type": "code",
      "source": [
        "!nvidia-smi"
      ],
      "metadata": {
        "colab": {
          "base_uri": "https://localhost:8080/"
        },
        "id": "MLytI65hYIQD",
        "outputId": "77b5f289-76fd-4cfb-f2b0-e54e9a92c566"
      },
      "execution_count": 1,
      "outputs": [
        {
          "output_type": "stream",
          "name": "stdout",
          "text": [
            "Tue Nov 14 23:36:37 2023       \n",
            "+-----------------------------------------------------------------------------+\n",
            "| NVIDIA-SMI 525.105.17   Driver Version: 525.105.17   CUDA Version: 12.0     |\n",
            "|-------------------------------+----------------------+----------------------+\n",
            "| GPU  Name        Persistence-M| Bus-Id        Disp.A | Volatile Uncorr. ECC |\n",
            "| Fan  Temp  Perf  Pwr:Usage/Cap|         Memory-Usage | GPU-Util  Compute M. |\n",
            "|                               |                      |               MIG M. |\n",
            "|===============================+======================+======================|\n",
            "|   0  Tesla T4            Off  | 00000000:00:04.0 Off |                    0 |\n",
            "| N/A   75C    P8    12W /  70W |      0MiB / 15360MiB |      0%      Default |\n",
            "|                               |                      |                  N/A |\n",
            "+-------------------------------+----------------------+----------------------+\n",
            "                                                                               \n",
            "+-----------------------------------------------------------------------------+\n",
            "| Processes:                                                                  |\n",
            "|  GPU   GI   CI        PID   Type   Process name                  GPU Memory |\n",
            "|        ID   ID                                                   Usage      |\n",
            "|=============================================================================|\n",
            "|  No running processes found                                                 |\n",
            "+-----------------------------------------------------------------------------+\n"
          ]
        }
      ]
    },
    {
      "cell_type": "code",
      "execution_count": 2,
      "metadata": {
        "id": "zkHXdgjjg82h",
        "colab": {
          "base_uri": "https://localhost:8080/"
        },
        "outputId": "41b70d8d-712d-4b48-fde8-687b3dc7ea3b"
      },
      "outputs": [
        {
          "output_type": "stream",
          "name": "stdout",
          "text": [
            "Requirement already satisfied: transformers==4.33.2 in /usr/local/lib/python3.10/dist-packages (4.33.2)\n",
            "Requirement already satisfied: filelock in /usr/local/lib/python3.10/dist-packages (from transformers==4.33.2) (3.13.1)\n",
            "Requirement already satisfied: huggingface-hub<1.0,>=0.15.1 in /usr/local/lib/python3.10/dist-packages (from transformers==4.33.2) (0.19.1)\n",
            "Requirement already satisfied: numpy>=1.17 in /usr/local/lib/python3.10/dist-packages (from transformers==4.33.2) (1.23.5)\n",
            "Requirement already satisfied: packaging>=20.0 in /usr/local/lib/python3.10/dist-packages (from transformers==4.33.2) (23.2)\n",
            "Requirement already satisfied: pyyaml>=5.1 in /usr/local/lib/python3.10/dist-packages (from transformers==4.33.2) (6.0.1)\n",
            "Requirement already satisfied: regex!=2019.12.17 in /usr/local/lib/python3.10/dist-packages (from transformers==4.33.2) (2023.6.3)\n",
            "Requirement already satisfied: requests in /usr/local/lib/python3.10/dist-packages (from transformers==4.33.2) (2.31.0)\n",
            "Requirement already satisfied: tokenizers!=0.11.3,<0.14,>=0.11.1 in /usr/local/lib/python3.10/dist-packages (from transformers==4.33.2) (0.13.3)\n",
            "Requirement already satisfied: safetensors>=0.3.1 in /usr/local/lib/python3.10/dist-packages (from transformers==4.33.2) (0.4.0)\n",
            "Requirement already satisfied: tqdm>=4.27 in /usr/local/lib/python3.10/dist-packages (from transformers==4.33.2) (4.66.1)\n",
            "Requirement already satisfied: fsspec>=2023.5.0 in /usr/local/lib/python3.10/dist-packages (from huggingface-hub<1.0,>=0.15.1->transformers==4.33.2) (2023.6.0)\n",
            "Requirement already satisfied: typing-extensions>=3.7.4.3 in /usr/local/lib/python3.10/dist-packages (from huggingface-hub<1.0,>=0.15.1->transformers==4.33.2) (4.5.0)\n",
            "Requirement already satisfied: charset-normalizer<4,>=2 in /usr/local/lib/python3.10/dist-packages (from requests->transformers==4.33.2) (3.3.2)\n",
            "Requirement already satisfied: idna<4,>=2.5 in /usr/local/lib/python3.10/dist-packages (from requests->transformers==4.33.2) (3.4)\n",
            "Requirement already satisfied: urllib3<3,>=1.21.1 in /usr/local/lib/python3.10/dist-packages (from requests->transformers==4.33.2) (2.0.7)\n",
            "Requirement already satisfied: certifi>=2017.4.17 in /usr/local/lib/python3.10/dist-packages (from requests->transformers==4.33.2) (2023.7.22)\n",
            "Requirement already satisfied: optimum==1.13.2 in /usr/local/lib/python3.10/dist-packages (1.13.2)\n",
            "Requirement already satisfied: coloredlogs in /usr/local/lib/python3.10/dist-packages (from optimum==1.13.2) (15.0.1)\n",
            "Requirement already satisfied: sympy in /usr/local/lib/python3.10/dist-packages (from optimum==1.13.2) (1.12)\n",
            "Requirement already satisfied: transformers[sentencepiece]>=4.26.0 in /usr/local/lib/python3.10/dist-packages (from optimum==1.13.2) (4.33.2)\n",
            "Requirement already satisfied: torch>=1.9 in /usr/local/lib/python3.10/dist-packages (from optimum==1.13.2) (2.1.0+cu118)\n",
            "Requirement already satisfied: packaging in /usr/local/lib/python3.10/dist-packages (from optimum==1.13.2) (23.2)\n",
            "Requirement already satisfied: numpy in /usr/local/lib/python3.10/dist-packages (from optimum==1.13.2) (1.23.5)\n",
            "Requirement already satisfied: huggingface-hub>=0.8.0 in /usr/local/lib/python3.10/dist-packages (from optimum==1.13.2) (0.19.1)\n",
            "Requirement already satisfied: datasets in /usr/local/lib/python3.10/dist-packages (from optimum==1.13.2) (2.14.6)\n",
            "Requirement already satisfied: filelock in /usr/local/lib/python3.10/dist-packages (from huggingface-hub>=0.8.0->optimum==1.13.2) (3.13.1)\n",
            "Requirement already satisfied: fsspec>=2023.5.0 in /usr/local/lib/python3.10/dist-packages (from huggingface-hub>=0.8.0->optimum==1.13.2) (2023.6.0)\n",
            "Requirement already satisfied: requests in /usr/local/lib/python3.10/dist-packages (from huggingface-hub>=0.8.0->optimum==1.13.2) (2.31.0)\n",
            "Requirement already satisfied: tqdm>=4.42.1 in /usr/local/lib/python3.10/dist-packages (from huggingface-hub>=0.8.0->optimum==1.13.2) (4.66.1)\n",
            "Requirement already satisfied: pyyaml>=5.1 in /usr/local/lib/python3.10/dist-packages (from huggingface-hub>=0.8.0->optimum==1.13.2) (6.0.1)\n",
            "Requirement already satisfied: typing-extensions>=3.7.4.3 in /usr/local/lib/python3.10/dist-packages (from huggingface-hub>=0.8.0->optimum==1.13.2) (4.5.0)\n",
            "Requirement already satisfied: networkx in /usr/local/lib/python3.10/dist-packages (from torch>=1.9->optimum==1.13.2) (3.2.1)\n",
            "Requirement already satisfied: jinja2 in /usr/local/lib/python3.10/dist-packages (from torch>=1.9->optimum==1.13.2) (3.1.2)\n",
            "Requirement already satisfied: triton==2.1.0 in /usr/local/lib/python3.10/dist-packages (from torch>=1.9->optimum==1.13.2) (2.1.0)\n",
            "Requirement already satisfied: regex!=2019.12.17 in /usr/local/lib/python3.10/dist-packages (from transformers[sentencepiece]>=4.26.0->optimum==1.13.2) (2023.6.3)\n",
            "Requirement already satisfied: tokenizers!=0.11.3,<0.14,>=0.11.1 in /usr/local/lib/python3.10/dist-packages (from transformers[sentencepiece]>=4.26.0->optimum==1.13.2) (0.13.3)\n",
            "Requirement already satisfied: safetensors>=0.3.1 in /usr/local/lib/python3.10/dist-packages (from transformers[sentencepiece]>=4.26.0->optimum==1.13.2) (0.4.0)\n",
            "Requirement already satisfied: sentencepiece!=0.1.92,>=0.1.91 in /usr/local/lib/python3.10/dist-packages (from transformers[sentencepiece]>=4.26.0->optimum==1.13.2) (0.1.99)\n",
            "Requirement already satisfied: protobuf in /usr/local/lib/python3.10/dist-packages (from transformers[sentencepiece]>=4.26.0->optimum==1.13.2) (3.20.3)\n",
            "Requirement already satisfied: humanfriendly>=9.1 in /usr/local/lib/python3.10/dist-packages (from coloredlogs->optimum==1.13.2) (10.0)\n",
            "Requirement already satisfied: pyarrow>=8.0.0 in /usr/local/lib/python3.10/dist-packages (from datasets->optimum==1.13.2) (9.0.0)\n",
            "Requirement already satisfied: dill<0.3.8,>=0.3.0 in /usr/local/lib/python3.10/dist-packages (from datasets->optimum==1.13.2) (0.3.7)\n",
            "Requirement already satisfied: pandas in /usr/local/lib/python3.10/dist-packages (from datasets->optimum==1.13.2) (1.5.3)\n",
            "Requirement already satisfied: xxhash in /usr/local/lib/python3.10/dist-packages (from datasets->optimum==1.13.2) (3.4.1)\n",
            "Requirement already satisfied: multiprocess in /usr/local/lib/python3.10/dist-packages (from datasets->optimum==1.13.2) (0.70.15)\n",
            "Requirement already satisfied: aiohttp in /usr/local/lib/python3.10/dist-packages (from datasets->optimum==1.13.2) (3.8.6)\n",
            "Requirement already satisfied: mpmath>=0.19 in /usr/local/lib/python3.10/dist-packages (from sympy->optimum==1.13.2) (1.3.0)\n",
            "Requirement already satisfied: attrs>=17.3.0 in /usr/local/lib/python3.10/dist-packages (from aiohttp->datasets->optimum==1.13.2) (23.1.0)\n",
            "Requirement already satisfied: charset-normalizer<4.0,>=2.0 in /usr/local/lib/python3.10/dist-packages (from aiohttp->datasets->optimum==1.13.2) (3.3.2)\n",
            "Requirement already satisfied: multidict<7.0,>=4.5 in /usr/local/lib/python3.10/dist-packages (from aiohttp->datasets->optimum==1.13.2) (6.0.4)\n",
            "Requirement already satisfied: async-timeout<5.0,>=4.0.0a3 in /usr/local/lib/python3.10/dist-packages (from aiohttp->datasets->optimum==1.13.2) (4.0.3)\n",
            "Requirement already satisfied: yarl<2.0,>=1.0 in /usr/local/lib/python3.10/dist-packages (from aiohttp->datasets->optimum==1.13.2) (1.9.2)\n",
            "Requirement already satisfied: frozenlist>=1.1.1 in /usr/local/lib/python3.10/dist-packages (from aiohttp->datasets->optimum==1.13.2) (1.4.0)\n",
            "Requirement already satisfied: aiosignal>=1.1.2 in /usr/local/lib/python3.10/dist-packages (from aiohttp->datasets->optimum==1.13.2) (1.3.1)\n",
            "Requirement already satisfied: idna<4,>=2.5 in /usr/local/lib/python3.10/dist-packages (from requests->huggingface-hub>=0.8.0->optimum==1.13.2) (3.4)\n",
            "Requirement already satisfied: urllib3<3,>=1.21.1 in /usr/local/lib/python3.10/dist-packages (from requests->huggingface-hub>=0.8.0->optimum==1.13.2) (2.0.7)\n",
            "Requirement already satisfied: certifi>=2017.4.17 in /usr/local/lib/python3.10/dist-packages (from requests->huggingface-hub>=0.8.0->optimum==1.13.2) (2023.7.22)\n",
            "Requirement already satisfied: MarkupSafe>=2.0 in /usr/local/lib/python3.10/dist-packages (from jinja2->torch>=1.9->optimum==1.13.2) (2.1.3)\n",
            "Requirement already satisfied: python-dateutil>=2.8.1 in /usr/local/lib/python3.10/dist-packages (from pandas->datasets->optimum==1.13.2) (2.8.2)\n",
            "Requirement already satisfied: pytz>=2020.1 in /usr/local/lib/python3.10/dist-packages (from pandas->datasets->optimum==1.13.2) (2023.3.post1)\n",
            "Requirement already satisfied: six>=1.5 in /usr/local/lib/python3.10/dist-packages (from python-dateutil>=2.8.1->pandas->datasets->optimum==1.13.2) (1.16.0)\n",
            "Looking in indexes: https://pypi.org/simple, https://huggingface.github.io/autogptq-index/whl/cu118/\n",
            "Requirement already satisfied: auto-gptq in /usr/local/lib/python3.10/dist-packages (0.5.1+cu118)\n",
            "Requirement already satisfied: accelerate>=0.22.0 in /usr/local/lib/python3.10/dist-packages (from auto-gptq) (0.24.1)\n",
            "Requirement already satisfied: datasets in /usr/local/lib/python3.10/dist-packages (from auto-gptq) (2.14.6)\n",
            "Requirement already satisfied: sentencepiece in /usr/local/lib/python3.10/dist-packages (from auto-gptq) (0.1.99)\n",
            "Requirement already satisfied: numpy in /usr/local/lib/python3.10/dist-packages (from auto-gptq) (1.23.5)\n",
            "Requirement already satisfied: rouge in /usr/local/lib/python3.10/dist-packages (from auto-gptq) (1.0.1)\n",
            "Requirement already satisfied: gekko in /usr/local/lib/python3.10/dist-packages (from auto-gptq) (1.0.6)\n",
            "Requirement already satisfied: torch>=1.13.0 in /usr/local/lib/python3.10/dist-packages (from auto-gptq) (2.1.0+cu118)\n",
            "Requirement already satisfied: safetensors in /usr/local/lib/python3.10/dist-packages (from auto-gptq) (0.4.0)\n",
            "Requirement already satisfied: transformers>=4.31.0 in /usr/local/lib/python3.10/dist-packages (from auto-gptq) (4.33.2)\n",
            "Requirement already satisfied: peft>=0.5.0 in /usr/local/lib/python3.10/dist-packages (from auto-gptq) (0.6.2)\n",
            "Requirement already satisfied: tqdm in /usr/local/lib/python3.10/dist-packages (from auto-gptq) (4.66.1)\n",
            "Requirement already satisfied: packaging>=20.0 in /usr/local/lib/python3.10/dist-packages (from accelerate>=0.22.0->auto-gptq) (23.2)\n",
            "Requirement already satisfied: psutil in /usr/local/lib/python3.10/dist-packages (from accelerate>=0.22.0->auto-gptq) (5.9.5)\n",
            "Requirement already satisfied: pyyaml in /usr/local/lib/python3.10/dist-packages (from accelerate>=0.22.0->auto-gptq) (6.0.1)\n",
            "Requirement already satisfied: huggingface-hub in /usr/local/lib/python3.10/dist-packages (from accelerate>=0.22.0->auto-gptq) (0.19.1)\n",
            "Requirement already satisfied: filelock in /usr/local/lib/python3.10/dist-packages (from torch>=1.13.0->auto-gptq) (3.13.1)\n",
            "Requirement already satisfied: typing-extensions in /usr/local/lib/python3.10/dist-packages (from torch>=1.13.0->auto-gptq) (4.5.0)\n",
            "Requirement already satisfied: sympy in /usr/local/lib/python3.10/dist-packages (from torch>=1.13.0->auto-gptq) (1.12)\n",
            "Requirement already satisfied: networkx in /usr/local/lib/python3.10/dist-packages (from torch>=1.13.0->auto-gptq) (3.2.1)\n",
            "Requirement already satisfied: jinja2 in /usr/local/lib/python3.10/dist-packages (from torch>=1.13.0->auto-gptq) (3.1.2)\n",
            "Requirement already satisfied: fsspec in /usr/local/lib/python3.10/dist-packages (from torch>=1.13.0->auto-gptq) (2023.6.0)\n",
            "Requirement already satisfied: triton==2.1.0 in /usr/local/lib/python3.10/dist-packages (from torch>=1.13.0->auto-gptq) (2.1.0)\n",
            "Requirement already satisfied: regex!=2019.12.17 in /usr/local/lib/python3.10/dist-packages (from transformers>=4.31.0->auto-gptq) (2023.6.3)\n",
            "Requirement already satisfied: requests in /usr/local/lib/python3.10/dist-packages (from transformers>=4.31.0->auto-gptq) (2.31.0)\n",
            "Requirement already satisfied: tokenizers!=0.11.3,<0.14,>=0.11.1 in /usr/local/lib/python3.10/dist-packages (from transformers>=4.31.0->auto-gptq) (0.13.3)\n",
            "Requirement already satisfied: pyarrow>=8.0.0 in /usr/local/lib/python3.10/dist-packages (from datasets->auto-gptq) (9.0.0)\n",
            "Requirement already satisfied: dill<0.3.8,>=0.3.0 in /usr/local/lib/python3.10/dist-packages (from datasets->auto-gptq) (0.3.7)\n",
            "Requirement already satisfied: pandas in /usr/local/lib/python3.10/dist-packages (from datasets->auto-gptq) (1.5.3)\n",
            "Requirement already satisfied: xxhash in /usr/local/lib/python3.10/dist-packages (from datasets->auto-gptq) (3.4.1)\n",
            "Requirement already satisfied: multiprocess in /usr/local/lib/python3.10/dist-packages (from datasets->auto-gptq) (0.70.15)\n",
            "Requirement already satisfied: aiohttp in /usr/local/lib/python3.10/dist-packages (from datasets->auto-gptq) (3.8.6)\n",
            "Requirement already satisfied: six in /usr/local/lib/python3.10/dist-packages (from rouge->auto-gptq) (1.16.0)\n",
            "Requirement already satisfied: attrs>=17.3.0 in /usr/local/lib/python3.10/dist-packages (from aiohttp->datasets->auto-gptq) (23.1.0)\n",
            "Requirement already satisfied: charset-normalizer<4.0,>=2.0 in /usr/local/lib/python3.10/dist-packages (from aiohttp->datasets->auto-gptq) (3.3.2)\n",
            "Requirement already satisfied: multidict<7.0,>=4.5 in /usr/local/lib/python3.10/dist-packages (from aiohttp->datasets->auto-gptq) (6.0.4)\n",
            "Requirement already satisfied: async-timeout<5.0,>=4.0.0a3 in /usr/local/lib/python3.10/dist-packages (from aiohttp->datasets->auto-gptq) (4.0.3)\n",
            "Requirement already satisfied: yarl<2.0,>=1.0 in /usr/local/lib/python3.10/dist-packages (from aiohttp->datasets->auto-gptq) (1.9.2)\n",
            "Requirement already satisfied: frozenlist>=1.1.1 in /usr/local/lib/python3.10/dist-packages (from aiohttp->datasets->auto-gptq) (1.4.0)\n",
            "Requirement already satisfied: aiosignal>=1.1.2 in /usr/local/lib/python3.10/dist-packages (from aiohttp->datasets->auto-gptq) (1.3.1)\n",
            "Requirement already satisfied: idna<4,>=2.5 in /usr/local/lib/python3.10/dist-packages (from requests->transformers>=4.31.0->auto-gptq) (3.4)\n",
            "Requirement already satisfied: urllib3<3,>=1.21.1 in /usr/local/lib/python3.10/dist-packages (from requests->transformers>=4.31.0->auto-gptq) (2.0.7)\n",
            "Requirement already satisfied: certifi>=2017.4.17 in /usr/local/lib/python3.10/dist-packages (from requests->transformers>=4.31.0->auto-gptq) (2023.7.22)\n",
            "Requirement already satisfied: MarkupSafe>=2.0 in /usr/local/lib/python3.10/dist-packages (from jinja2->torch>=1.13.0->auto-gptq) (2.1.3)\n",
            "Requirement already satisfied: python-dateutil>=2.8.1 in /usr/local/lib/python3.10/dist-packages (from pandas->datasets->auto-gptq) (2.8.2)\n",
            "Requirement already satisfied: pytz>=2020.1 in /usr/local/lib/python3.10/dist-packages (from pandas->datasets->auto-gptq) (2023.3.post1)\n",
            "Requirement already satisfied: mpmath>=0.19 in /usr/local/lib/python3.10/dist-packages (from sympy->torch>=1.13.0->auto-gptq) (1.3.0)\n"
          ]
        }
      ],
      "source": [
        "!pip3 install transformers==4.33.2\n",
        "!pip3 install optimum==1.13.2\n",
        "!pip3 install auto-gptq --extra-index-url https://huggingface.github.io/autogptq-index/whl/cu118/"
      ]
    },
    {
      "cell_type": "code",
      "source": [
        "from transformers import AutoModelForCausalLM, AutoTokenizer, pipeline"
      ],
      "metadata": {
        "id": "s4gw-wd1g9sK"
      },
      "execution_count": 3,
      "outputs": []
    },
    {
      "cell_type": "code",
      "source": [
        "model_name_or_path = 'TheBloke/Llama-2-13B-German-Assistant-v4-GPTQ'  # \"TheBloke/Llama-2-13B-chat-GPTQ\"\n",
        "model = AutoModelForCausalLM.from_pretrained(model_name_or_path,\n",
        "                                             device_map='auto',\n",
        "                                             trust_remote_code=False,\n",
        "                                             revision=\"gptq-4bit-32g-actorder_True\")\n",
        "tokenizer = AutoTokenizer.from_pretrained(model_name_or_path)"
      ],
      "metadata": {
        "id": "O00St_JBhAJs",
        "colab": {
          "base_uri": "https://localhost:8080/",
          "height": 465,
          "referenced_widgets": [
            "3e5e51e4ce5b4042be7aded719f78b4c",
            "11548ee79db34a0b9f1b18ef7815fd5e",
            "094bcb94f0d84981843a710b26ab0de7",
            "f170a60c787a4f3f9c4cffed2b9d3f58",
            "32144d8dcda2463382c6591f3fdd23bf",
            "4f02e6fdaa4d488bb8e7e4aae78a1ee4",
            "66099686473f48d4b99301deda82928a",
            "acd79a884cce4513b6a8a33e31a79ed1",
            "5619433d5bcb439e92c549950e1b26f4",
            "7aad6c349dd44a6cbd13438e559492f7",
            "ee435b8b5e064ff6b9ce36ebc81e18e6",
            "66be984837b64ae99802b8e59c31b12c",
            "ee9d79e9d2be4995b6dbaa60e6e83aa4",
            "769c37090534409f93ed5c726b955352",
            "57f1fc4712d04e00bc938100910f857c",
            "1381dbafa533401183a8df0e1492cd72",
            "a75a765810a843ada4ec17b09202aae2",
            "d58c865cb52c4c96a772492998cbea3e",
            "c039f1357df344d59a13518513acd2c7",
            "b21e7c43d7ae49a5a9a64f61e3e778bc",
            "c994c7f5b8cf4836adb56b3f68c8b5ca",
            "f06b9ad194d343f9b99dfe27670428f4",
            "2f01595fd8964aaaa4b873af314b0af9",
            "f0cc60d4e67642f8811334fc674b5486",
            "f2ec57af7f534f019156771a4d5e42f7",
            "f4055051fde3416b992112465471fa41",
            "1f0d8a84bb0c430581281b8285d8b9ad",
            "5b5cc303e6ca49e98b48ac44892f12cf",
            "f14897a96d614363a2b549eebb556264",
            "af25fd02bd2b42378a9c8aa8660b9412",
            "9b90fc5a81d0466788f2d6f24955a4b8",
            "2cb4a912e8ec45dc81f4300c7b0c0c77",
            "e86b4443fafd4e87ac2d43ed88b32a58",
            "a5529232de0a49d5a5fcadb432d88182",
            "b6765091ac9941ae87d23144cf313348",
            "cae3bc5d476f424692c93168504a25db",
            "81d7648dde054ac7b145b57c64029cec",
            "dcb4cb3fbb2b4a8dbb3f75693e029635",
            "1498a34875d44868a6ed6dd2756697df",
            "b6852f4f57b3490ca7c0087666b31fb2",
            "758580e9bbca4b4d9eb9b23d0c83c79f",
            "260e71c12e494390832a04d7ab7b1d93",
            "cfbaab2b15124bbbb388ae8cf5368009",
            "824871bdb9ab494c9bfc50d56a1b4164",
            "f0ed9adf57064d4e8ca2bb23d089843d",
            "17ef9cdbda3f4ec8a220299a762115e3",
            "6a09b0eb549e44d595dc307816c23978",
            "eadf10a2ddef40778d500410fb806670",
            "29c6b9134b514526b2dff9a55e7118b8",
            "e973b624c0ac4fe2baff3c5e24226610",
            "81f5c23e8da446c3aca894f8e786a02d",
            "c54fd375291d41a1a4009fc7433585c7",
            "72c282d50d1545f786498b6e65acb674",
            "9c6ae46d9bf24a8cb9a24313a7596800",
            "b68e1c96127146aba76db512df65042e",
            "4fd15f8134ec4b8ea733eb8a7de9dba7",
            "00fca8702bc340e9a28b127dfdeed100",
            "86b5efd0b0aa4d559e9cbbcabd970c0b",
            "80eec0df041743d18678ee18a7727f8d",
            "fb626067f3ff4c15abf30a9a8072d501",
            "8ad5531aff6a47d3a88905deee51b711",
            "db4b0b5ff1e941538e2fcb4f2755d8bb",
            "f94d0cc4ea2c419e9e90b58a6655b6d3",
            "526f37b9bb7d408aa9a6bc90b81453cd",
            "3e2f8a223b554951876090277eb809d4",
            "68f36d8222fb4ff7a8ea66ae7219f24f",
            "ecdf33bb11364b72abb7bff25267c1ed",
            "cd9e4e1d426b4f76814ff525f31abdc6",
            "2da4fa5ea47b450c98679571de930ea7",
            "566e9446d5e44912b09167c4acc7d45a",
            "aeefe1112cc14a988fec8a109343f8fc",
            "403386e7604e40ca88580b485771f2f6",
            "6b7ae4fddbe8478e9f2153710599489d",
            "cdd26eb03b0940c39ce3123b2c57ae3e",
            "5386ef389f0b40fcbfd5ef39421a9225",
            "1d08281a7cf846f1b260e9a4ca8216a6",
            "ade0ee8ffb974be185beb358c953370b"
          ]
        },
        "outputId": "a922ffa5-dc4e-405d-a2dd-f4a996f0f6a6"
      },
      "execution_count": 4,
      "outputs": [
        {
          "output_type": "display_data",
          "data": {
            "text/plain": [
              "(…)/gptq-4bit-32g-actorder_True/config.json:   0%|          | 0.00/898 [00:00<?, ?B/s]"
            ],
            "application/vnd.jupyter.widget-view+json": {
              "version_major": 2,
              "version_minor": 0,
              "model_id": "3e5e51e4ce5b4042be7aded719f78b4c"
            }
          },
          "metadata": {}
        },
        {
          "output_type": "display_data",
          "data": {
            "text/plain": [
              "model.safetensors:   0%|          | 0.00/8.12G [00:00<?, ?B/s]"
            ],
            "application/vnd.jupyter.widget-view+json": {
              "version_major": 2,
              "version_minor": 0,
              "model_id": "66be984837b64ae99802b8e59c31b12c"
            }
          },
          "metadata": {}
        },
        {
          "output_type": "display_data",
          "data": {
            "text/plain": [
              "(…)32g-actorder_True/generation_config.json:   0%|          | 0.00/132 [00:00<?, ?B/s]"
            ],
            "application/vnd.jupyter.widget-view+json": {
              "version_major": 2,
              "version_minor": 0,
              "model_id": "2f01595fd8964aaaa4b873af314b0af9"
            }
          },
          "metadata": {}
        },
        {
          "output_type": "display_data",
          "data": {
            "text/plain": [
              "(…)-GPTQ/resolve/main/tokenizer_config.json:   0%|          | 0.00/746 [00:00<?, ?B/s]"
            ],
            "application/vnd.jupyter.widget-view+json": {
              "version_major": 2,
              "version_minor": 0,
              "model_id": "a5529232de0a49d5a5fcadb432d88182"
            }
          },
          "metadata": {}
        },
        {
          "output_type": "display_data",
          "data": {
            "text/plain": [
              "tokenizer.model:   0%|          | 0.00/568k [00:00<?, ?B/s]"
            ],
            "application/vnd.jupyter.widget-view+json": {
              "version_major": 2,
              "version_minor": 0,
              "model_id": "f0ed9adf57064d4e8ca2bb23d089843d"
            }
          },
          "metadata": {}
        },
        {
          "output_type": "display_data",
          "data": {
            "text/plain": [
              "(…)tant-v4-GPTQ/resolve/main/tokenizer.json:   0%|          | 0.00/1.96M [00:00<?, ?B/s]"
            ],
            "application/vnd.jupyter.widget-view+json": {
              "version_major": 2,
              "version_minor": 0,
              "model_id": "4fd15f8134ec4b8ea733eb8a7de9dba7"
            }
          },
          "metadata": {}
        },
        {
          "output_type": "display_data",
          "data": {
            "text/plain": [
              "(…)PTQ/resolve/main/special_tokens_map.json:   0%|          | 0.00/434 [00:00<?, ?B/s]"
            ],
            "application/vnd.jupyter.widget-view+json": {
              "version_major": 2,
              "version_minor": 0,
              "model_id": "ecdf33bb11364b72abb7bff25267c1ed"
            }
          },
          "metadata": {}
        }
      ]
    },
    {
      "cell_type": "code",
      "source": [
        "import pickle\n",
        "\n",
        "with open(\"definitions.pickle\", \"rb\") as file:\n",
        "    definitions = pickle.load(file)\n",
        "\n",
        "definitions"
      ],
      "metadata": {
        "colab": {
          "base_uri": "https://localhost:8080/"
        },
        "id": "H76qqrTyWJq6",
        "outputId": "78e98e1c-566b-40f7-818f-9eb445176a6e"
      },
      "execution_count": 5,
      "outputs": [
        {
          "output_type": "execute_result",
          "data": {
            "text/plain": [
              "['Die \"Negation:NEG_XgeschweigedennY-Konstruktion\" korreliert zwei Propositionen, die jeweils einen Punkt auf einem pragmatisch definiertem Maßstab markieren. Die erste Proposition ist pragmatisch stärker als die zweite Proposition; so zieht, pragmatisch betrachtet, die Wahrheit der ersten Proposition automatisch die Wahrheit der zweiten Proposition nach sich. Einfacher ausgedrückt: Ist die erste Proposition wahr, so muss die zweite Proposition ebenfalls wahr sein. Die erste Proposition ist darüber hinaus auch informativer als die zweite Proposition, da die erstgenannte pragmatisch betrachtet die letztgenannte einschließt, während diese wiederum die diskursrelevantere der beiden Propositionen ist. Die Konstruktion umfasst das konstruktionsevozierende Element (KEE) \"geschweige_denn\", die internen Kern-Konstruktionselemente (Kern-KE) \"Erstes_Konjunkt\" und \"Zweites_Konjunkt\" sowie die externen Kern-KE \"Negator\" und \"Fokuskontext\". Das \"Erste_Konjunkt\" geht dem \"KEE\" voraus, auf welches das \"Zweite_Konjunkt\" folgt. Der informationsstrukturelle Fokus liegt auf dem \"Ersten_Konjunkt\", das die Basis für den entstehenden Kontrast zwischen den zwei Propositionen bildet. Das \"Erste_Konjunkt\" und das \"Zweite_Konjunkt\" bilden jeweils einen Teil der beiden Propositionen ab, wobei das \"Erste_Konjunkt\" meist zusätzlih vom \"Negator\" negiert wird. Der \"Fokuskontext\" indiziert in der Regel den Rest der Proposition. Werden beide Konjunkte im Wechsel mit dem \"Fokuskontext\" kombiniert, können die einander gegenübergestellten Propositionen vollständig wiederhergestellt (oder: vervollständigt) werden. Im Gegensatz zum \"Ersten_Konjunkt\" und \"Zweiten_Konjunkt\" muss der \"Fokuskontext\" nicht zwangsläufig realisiert werden – wird der \"Fokuskontext\" nicht realisiert, drücken die beiden Konjunkte jeweils vollständige Propositionen aus. \" Die zwei gegenübergestellten Propositionen sind hier die beiden Aussagen, dass die meisten von ihnen zuvor noch nie einen Computer a) gesehen und b) bedient haben. Die Verwendung der \"Negation:NEG_XgeschweigedennY-Konstruktion\" erfordert die Einstufung von Sehen und Bedienen auf einer \\'pragmatischen Skala\\', was dazu führt, dass die Aussage Die meisten von ihnen haben zuvor noch nie einen Computer bedient als \\'größere\\' Behauptung betrachtet werden muss als Die meisten von ihnen haben zuvor noch nie einen Computer gesehen. Mit anderen Worten: Wenn die meisten von ihnen einen Computer zuvor noch nie gesehen haben, dann haben sie ihn ganz sicher auch nicht bedient bzw. wenn sie einen Computer noch nie gesehen haben, können sie diesen auch nicht bedient haben. Proposition a) schließt Proposition b) somit aus. Unter dem Aspekt der Negation wird die erste Proposition Die meisten von ihnen haben zuvor noch nie einen Computer gesehen damit zur stärkeren der beiden kontrastierten Propositionen.',\n",
              " 'Die \"Äquativ_Plural-Konstruktion\" gehört zu den Vergleichskonstruktionen und zeigt die Gleichheit zweier Entitäten an, die hinsichtlich eines bestimmten Wertes eines spezifischen Attributs auf einer Skala miteinander verglichen werden. Der Vergleichsausdruck besteht aus dem konstruktionsevozierenden Element (KEE) \"gleich\", das angibt, um welche Art des Vergleichs es sich handelt (hier: Gleichheit und nicht Ungleichheit), und den beiden Kern-Konstruktionselementen (KE) \"Verglichene_Entitäten\" und \"Dimension\". Dabei umfasst das KE \"Verglichene_Entitäten\" diejenigen Einheiten, die hinsichtlich eines bestimmten Wertes einer durch die Vergleichskategorie definierten Skala gleichgesetzt werden. Die Skala wird dabei durch die \"Dimension\" angezeigt (X und Y sind gleich groß vergleicht zum Beispiel X und Y auf einer Skala in Bezug auf \\'Größe\\'). Die \"Dimension\" gibt also genauer an, in welcher Hinsicht sich die Einheiten (\"Verglichene_Entitäten\") gleichen.',\n",
              " 'Die \"Superlativ_Klimax:ADJ1_ADJ1-er_NP-Konstruktion\" gehört zu der Familie der Vergleichskonstruktionen und weist einem Wert die höchste Stufe auf einer Skala zu. Die Zuweisung erfolgt primär durch die Wiederholung der in höchstem Maße zutreffenden Eigenschaft; zunächst im Positiv und dann im Komparativ. Anstelle einer Superlativform steht zuletzt die polar eingeordnete Entität. Die Zuweisung erfolgt auch durch den Vergleich der Entität mit einer immer impliziten Gesamtheit. Die \"Dimension\" benennt die Skala des Vergleichs, d.h. die Skala, auf der einem Wert die höchste Stufe zugewiesen wird. Das konstruktionsevozierende Element (KEE) \"-er\" bildet gemeinsam mit der wiederholten \"Dimension\" den Komparativ; durch die Struktur der Konstruktion, die der klassischen dreiteiligen Steigerungsform von Verben (X, X-er, am X-sten) nachempfunden ist, wird die superlative Bedeutung, die das dritte Verb innehat, auf das \"Verglichene\" übertragen, das an seiner Stelle steht. Neben den internen Kern-Konstruktionselementen (Kern-KE) \"Dimension\" und \"Verglichenes\" besteht die Konstruktion aus einer immer nullinstantiierten weil nie ausgedrückten \"Vergleichsmenge\", auf die implizit verwiesen wird. \" Groß, größer, RTL lässt sich paraphrasieren mit RTL ist am größten [von allen].',\n",
              " 'Die \"Superlativ:PRÄP_ADJ-ster_NP-Konstruktion\" gehört zu der Familie der Vergleichskonstruktionen und weist einem Wert die höchste Stufe auf einer Skala zu. Die Zuweisung erfolgt durch den Vergleich einer Entität mit einer impliziten Gesamtheit. Die \"Präposition\" steht stets vor der meist als Adjektiv realisierten \"Dimension\", an die das konstruktionsevozierende Element (KEE) \"(e)st\" angehangen wird. Die \"Dimension\" benennt die Skala des Vergleichs, d.h. die Skala, auf der einem Wert die höchste Stufe zugewiesen wird. Neben der \"Präposition\", dem \"KEE\" und der \"Dimension\" besteht die Konstruktion aus zwei weiteren Kern-Konstruktionselementen (Kern-KE): dem \"Verglichenen\" (die Entität, der eine durch die \"Dimension\" ausgedrückte Eigenschaft in vollem Ausmaß zugewiesen wird) und der \"Vergleichsmenge\" (die stets implizite Menge an Entitäten, die über die selbe Eigenschaft in geringerem Ausmaß verfügen).',\n",
              " 'Die \"Äquativ:ADJwieNP-Konstruktion\" gehört zu den Vergleichskonstruktionen und zeigt die Gleichheit zweier Werte auf einer Skala an. Die Besonderheit der Konstruktion besteht darin, dass einer Entität ein Wert auf der Skala zugewiesen wird, der vom durchschnittlich erwartbaren Wert abweicht. Der Vergleichsausdruck besteht aus dem konstruktionsevozierenden Element (KEE) \"wie\", das angibt, um welche Art des Vergleichs es sich handelt (hier: Gleichheit und nicht Ungleichheit) und den drei Kern-Konstruktionselementen (KE) \"Dimension\", \"Verglichenes\" und \"Bezugswert\". Das \"Verglichene\" und der \"Bezugswert\" sind die Einheiten, die in Bezug auf bestimmte Werte spezifischer Attribute auf einer Skala verglichen werden. Die Skala wird durch die \"Dimension\" angezeigt (X ist groß wie Y vergleicht z. B. X und Y auf einer Skala in Bezug auf \\'Größe\\'). Die \"Dimension\" gibt also genauer an, in welcher Hinsicht das Element im Fokus (\"Verglichenes\") zu einem bestehenden Wert (\"Bezugswert\") gleichgesetzt wird.',\n",
              " 'Bei der in der Forschung als „w-Schlagzeile“ (Oppenrieder 1989) bzw. „w-Überschrift“ (Finkbeiner 2018) bezeichneten Satztyp-Konstruktion \"w-Überschrift:w-VL-Satz\" handelt es sich um selbstständige, d.h. in uneingebetteter Verwendung auftretende w-Verbletzt-Sätze mit spezifischer Illokution, die ausschließlich auf das Überschriftenformat restringiert sind (vgl. Külpmann/Finkbeiner/Stawecki 2021). Neben spezifischen Formmerkmalen wie topologischen Eigenschaften (Endstellung des finiten Verbs), kategorialen Eigenschaften (initialer w-Ausdruck, Fehlen einer spezifischen Modalpartikelselektion), intonatorischen Eigenschaften (fallende Intonation bei mündlicher Realisierung) und semantischen Eigenschaften (präsupponierte Proposition), die die Konstruktion (Kxn) in ihrem Zusammenspiel determinieren, wird deren selbstständige Verwendbarkeit und Illokutionsfähigkeit durch ihre Bindung an die sequenzielle Position der Überschrift lizensiert (vgl. Finkbeiner 2018: 21). Damit fungiert das Merkmal der Überschrift-Position, das je nach Medium eine unterschliche Ausprägungsform aufweisen kann (z.B. Text<sub>Überschrift</sub>, Film<sub>Überschrift</sub>, Musik<sub>Überschrift</sub>) als satzexterner Lizensierungsmechanismus, der der w-Überschrift ihr pragmatisches Potenzial verleiht und dafür sorgt, dass der betreffende w-Verbletzt-Satz auch dann den Überschriften-Kontext „projiziert“, wenn man ihn in Isolation – d.h. ohne begleitenden Text – präsentiert (vgl. Külpmann/Finkbeiner/Stawecki 2021: 137). Die Überschrift-Position wird dabei insbesondere durch graphematische und typographische Mittel (vgl. Gallmann 1985: 10f.) indiziert, so ist der w-VL-Satz durch Anfangsgroßschreibung ausgezeichnet, weist als Grenzsignal das Zeilenende auf und setzt sich vom Fließtext über die Darstellung in einer eigenen Zeile hinaus durch Schriftgröße und Schriftstärke ab. Als Teil einer Überschrift-Text-Konfiguration sind w-Überschriften sprachliche Ausdrücke, die auf ein nachfolgendes komplexes Diskurssegment (nämlich den Text) verweisen. Ihre Besonderheit besteht darin, wiederaufgreifende Sprechakte bzw. ‚Meta-Sprechakte‘ zu konstituieren, die ein Scharnier zwischen einer im Diskurs \"latenten Leserfrage\" (anadeiktische Komponente) und einer nachfolgenden Text-Antwort (katadeiktische Komponente) bilden (vgl. Finkbeiner 2018: 28-30). Dieser Meta-Sprechakt, den Textproduzenten durch die typographische Auszeichnung des w-VL-Satzes als Überschrift vollziehen („Überschriften-Illokution“, vgl. Finkbeiner 2021), entspricht dem Typ „Mitteilung“ und lässt sich wie folgt umreißen: \\'Der Textproduzent sagt, dass der Textrezipient im folgenden Text erfahren wird, X<sub>[w-VL-Satz]</sub>.\\' (vgl. Finkbeiner 2018: 22). Während die anadeiktische Komponente strukturell induziert ist, indem analog zu zitierenden Verwendungen die Verbletztstellung in Kombination mit der fallenden Intonation die wiederaufgreifende Lesart eines latenten Leserinteresses nahelegt, das sich in einer Art „Wissenslücke“ auf Seiten des Adressaten manifestiert, welche formal durch das initiale w-Element markiert wird, ist die katadeiktische Komponente hingegen kontextuell induziert, indem die Überschrift zu der Implikatur einlädt, dass der begleitende Text die durch den w-Ausdruck angezeigte Wissenslücke des Lesers schließen wird, d.h. in Aussicht stellt, dass dort etwas über den durch das w-Element gekennzeichneten Teil der Proposition ausgesagt wird. Im Kontext der Überschrift wird die strukturell vorhandene Antworterwartung somit auf den Bezugstext verlagert und damit ein Anreiz geschaffen, den Text zu lesen (vgl. Finkbeiner 2018: 29-33).',\n",
              " 'Die \"Äquativ:ein_N_wie_ein_N-Konstruktion\" gehört zu den Vergleichskonstruktionen und zeigt die Gleichheit zweier Entitäten an. Der Vergleichsausdruck besteht aus dem konstruktionsevozierenden Element (KEE) \"wie\", das angibt, um welche Art des Vergleichs es sich handelt (hier: Gleichheit und nicht Ungleichheit), und den beiden Kern-Konstruktionselementen (KE) \"Verglichenes\" und \"Bezugswert\". Das \"Verglichene\" und der \"Bezugswert\" sind die Einheiten, die in Bezug auf einen bestimmten Wert auf einer Skala gleichgesetzt werden. Die Skala wird durch die \"Dimension\" angezeigt, die bei dieser Konstruktion aber \"immer\" als Nullinstantiierung auftritt. Die \"Dimension\" gibt an, in welcher Hinsicht das Element im Fokus (\"Verglichenes\") zu einem bestehenden Wert (\"Bezugswert\") gleichgesetzt wird (Ein Mann wie ein Bär vergleicht z.B. Mann und Bär auf einer Skala hinsichtlich möglicher Dimensionen wie \\'Größe\\', \\'Masse\\', \\'Haarigkeit\\', \\'Wildheit\\' etc.).',\n",
              " 'Die satzwertige Konstruktion \"Exklamativ:XP_Hauptsache_YP\" rückt einen für den Sprecher bedeutenden Sachverhalt im Hinblick auf einen Stimulus in den Fokus, der in Kontrast zu einem zuvor genannten, als weniger bedeutsam beurteilten Sachverhalt gestellt wird. Für die Konstruktion sind zwei häufige Strukturtypen zu verzeichnen: Für den ersten Strukturtyp ist kennzeichnend, dass er neben dem konstruktionsevozierenden Element (KEE) \"Hauptsache\" mit \"Sachverhalt_A\" und \"Sachverhalt_B_Stimulus\" zwei Kern-KE umfasst, bei dem \"Sachverhalt_A\" dem \"KEE\" syntagmatisch vorangeht und \"Sachverhalt_B_Stimulus\" dem \"KEE\" nachgeschaltet ist. Dabei bringt die Konstruktion zum Ausdruck, dass der zweitgenannte \"Sachverhalt_B_Stimulus\" unabhängig von der (meist negativen) Bewertung des vorgelagerten \"Sachverhalts_A\" positiv zu bewerten ist (vgl. Steyer/Hein 2018: 113). Der zweite Strukturtyp ist dadurch gekennzeichnet, dass das KEE \"Hauptsache\" am Satzanfang steht, wodurch das Kern-KE \"Sachverhalt_A\" im Skopus selbst nicht realisiert ist, sondern stattdessen ein anaphorischer Bezug zu einem im vorausgehenden Satz ausgedrückten Sachverhalt hergestellt wird. Die Musterfunktion bleibt dabei identisch.',\n",
              " 'Die \"Reduplikation_Kontinuität:von_NP1_zu_NP1-Konstruktion\" gehört zu der Familie der Reduplikationsstrukturen mit Doppelpräposition und wird verwendet, um eine kontinuierliche Abfolge identischer Entitäten zu betonen. Die Konstruktion ist teilschematisch und besteht aus den internen Kern-Konstruktionselementen (KE) \"Konnekt_1\" und \"Konnekt_2\" sowie dem diskontinuierlichen KEE \"von_zu\", welches die beiden KE miteinander verbindet. So folgt auf die Präposition von unmittelbar das KE \"Konnekt_1\", woran sich die Präposition zu anschließt, auf die wiederum das KE \"Konnekt_2\" folgt. Die KE \"Konnekt_1\" und \"Konnekt_2\" werden durch zwei identische Nomen im Singular und ohne Artikel realisiert, die prototypisch auf zeitliche Einheiten (z. B. Jahr, Tag, Woche usw.) verweisen.',\n",
              " 'Die \"Reduplikation_Gleichstellung:von_N1_zu_N1\" gehört zu der Familie der Reduplikationsstrukturen mit Doppelpräposition und wird verwendet, um die kategoriale Gleichstellung von Personen im Rahmen von mitteilungsbezogenen Äußerungen zu betonen. Die Konstruktion besteht aus dem diskontinuierlichen Konstruktionsevozierenden Element (KEE) \"von_zu\" und den beiden internen Kern-Konstruktionselementen (Kern-KE) \"Konnekt_1\" und \"Konnekt_2\". Auf die Präposition von folgt unmittelbar das KE \"Konnekt_1\", an das sich die Präposition zu, gefolgt von dem KE \"Konnekt_2\" anschließt. Die KE \"Konnekt_1\" und \"Konnekt_2\" werden durch zwei identische Substantive im Singular realisiert, die auf personenbezogene Kategorien,. meist gesellschaftlich festgelegte Rollen, referieren. Mit diesen zwei internen KE korrespondieren die externen KE \"Entität_1\" und \"Entität_2\", die außerhalb des lizenzierten Bereichs der Kxn auftreten. Es handelt sich hier also um diejenigen Personen, denen eine bestimmte Kategorie bzw. eine bestimmte gesellschaftliche Rolle zugeschrieben wird. Werden \"Entität_1\" und \"Entität_2\" nicht separat realisiert, sondern zusammengefasst, wird stattdessen das externen Kern-KE \"Entitäten\" annotiert, das ebenfalls außerhalb des von der Kxn lizenzierten Bereichs liegt. Alle Substantive, die in diese Konstruktion eintreten, können ebenfalls in der [https://gsw.phil.hhu.de/constructicon/construction?id=1034|Reduplikation_Kontinuität:von_N1_zu_N1-Konstruktion] realisiert werden. Andersherum gilt dies jedoch nur für auf Menschen referierende oder menschlich konzeptualisierbare Ausdrücke.',\n",
              " 'Die \"Äquativ:dasselbeNP-Konstruktion\" gehört zu den Vergleichskonstruktionen und zeigt die Gleichheit zweier Werte auf einer Skala an. Der Vergleichsausdruck besteht aus einem der drei konstruktionsevozierenden Elemente (KEE) \"dasselbe\", \"das gleiche\" oder \"das nämliche\", die anzeigen, um welche Art des Vergleichs es sich handelt (hier: Gleichheit und nicht Ungleichheit). Neben diesen drei lemmatisierten Grundformen sind ebenso deren flektierten Varianten durch die Konstruktion lizenziert (z.B. \"die\"selbe, \"der\" gleiche, \"die\" nämliche\"n\"), wovon im Annotationsreport exemplarisch allerdings nur die jeweilige Grundform berücksichtigt wurde. Neben dem \"KEE\" besteht der Vergleichsausdruck außerdem aus drei Kern-Konstruktionselementen (KE). Das KE \"Verglichenes\" umfasst diejenige Einheit, die im Fokus des Vergleichs steht und zu einem bereits bestehenden Wert (dem KE \"Bezugswert\") gleichgesetzt wird. Das KE \"Dimension\" benennt dabei die Skala des Vergleichs, d.h. sie gibt genauer an, im Zuge welcher kategorialen Einordnung \"Verglichenes\" und \"Bezugswert\" einem Vergleich unterzogen werden (X hat dasselbe Gewicht wie Y vergleicht z.B. X und Y durch die Einordnung in die gleiche Kategorie \\'Gewicht\\').',\n",
              " 'Die Konstruktion \"Spezifizierung_Entität:Satzwertige_Partizipphrase\" gehört zu der Familie der Spezifizierungskonstruktionen. Die Kxn wird verwendet, um einen Nebensatz, genauer einen Relativsatz, in verkürzter Form an einen Hauptsatz anzuschließen. Durch das Partizip I oder II ermöglicht die Konstruktion eine Redundanzvermeidung. Der betreffende Satzteil kommt somit ohne Subjekt, das im HS vorhanden ist, und ohne finites Verb aus. Daneben wird die Konstruktion zum Beispiel auch aus stilistischen Gründen zur Kürzung eines Nebensatzes verwendet. Die externen Kern-Konstruktionselemente (Kern-KE) \"Spezifiziertes\" und \"Spezifizierendes\" stellen die obligatorischen Elemente dieser Konstruktion dar.',\n",
              " 'Die \"Intensivierung:ART_EN_ART_NP-Konstruktion\" gehört zu der Familie der Intensivierungskonstruktionen und weist einer \"Entität\" eine herausragende Stellung in einem bestimmten Themenfeld zu, indem die Stellung dieser \"Entität\" über einen herausragenden Begriff eines anderen Themenfeldes definiert wird. Die Konstruktion besteht aus vier verschiedenen Kern-Konstruktionselementen (Kern-KE): Das interne Kern-KE \"Determinierer\", welches den lizensierten Bereich der Konstruktion einleitet, das interne Kern-KE \"Gradierte_Dimension\", welches direkt auf den \"Determinierer\" folgt, das interne Kern-KE \"Gradierungsmenge\", welches direkt auf die \"Gradierte_Dimension\" folgt und das externe Kern-KE \"Entität\". Der \"Determinierer\" leitet dabei die Konstruktion ein, die \"Gradierungsmenge\" beschreibt die Menge, zu der die \"Entität\" gehört und die \"Gradierte_Dimension\" beschreibt den herausragenden Begriff aus einer zweiten Menge, über welche die \"Entität\" definiert wird.',\n",
              " 'Die \"Intensivierung:ART_HERRSCHERTITEL_ART_NP-Konstruktion\" gehört zu der Familie der Intensivierungskonstruktionen und weist einer \"Entität\" eine herausragende Stellung in einem bestimmten Themenfeld zu, indem die Stellung dieser \"Entität\" über den Begriff eines Herrschertitels wie KönigIn oder KaiserIn definiert wird. Die Konstruktion besteht aus vier verschiedenen Kern-Konstruktionselementen (Kern-KE): Das interne Kern-KE \"Determinierer\", welches den lizensierten Bereich der Konstruktion einleitet, das darauf folgende interne Kern-KE \"Gradierte_Dimension\", das interne Kern-KE \"Gradierungsmenge\", welches den lizensierten Bereich der Konstruktion abschließt und das externe Kern-KE \"Entität\". Der \"Determinierer\" leitet dabei die Konstruktion ein, die \"Gradierte_Dimension\" ist der Begriff, über welchen die \"Entität\" definiert wird und die \"Gradierungsmenge\" beschreibt die Menge, zu der die \"Entität\" gehört.',\n",
              " 'Die \"Negation:NEG_Xund_wohl_kaumY-Konstruktion\" verknüpft zwei Propositionen miteinander: Mit der zweiten Proposition bringt der Sprachbenutzer stets eine Vermutung zum Ausdruck, welche (kommentierend) Bezug auf die erste Proposition bzw. Teile der ersten Proposition nimmt. Nach Einschätzung des Sprachbenutzers ist es vor dem Hintergrund der ersten Proposition unwahrscheinlich, dass die zweite Proposition zutrifft. Da die zweite Proposition eindeutig als Hypothese gekennzeichnet ist, die auf der Grundlage des Sprecher-/Schreiberwissens getroffen wurde, erhebt sie keinen Wahrheitsanspruch und wird insofern relativiert. Die Konstruktion umfasst das konstruktionsevozierende Element (KEE) \"und wohl kaum\", die internen Kern-Konstruktionselemente (Kern-KE) \"Erstes_Konjunkt\" und \"Zweites_Konjunkt\" sowie das externe Kern-KE \"Fokuskontext\". Das \"Erste_Konjunkt\" geht dem \"KEE\" voraus, auf welches das \"Zweite_Konjunkt\" folgt. Das \"Erste_Konjunkt\" und das \"Zweite_Konjunkt\" bilden jeweils einen Teil der beiden Propositionen ab. Das dritte KE, der \"Fokuskontext\", indiziert in der Regel den Rest der Proposition. Werden beide Konjunkte im Wechsel mit dem \"Fokuskontext\" kombiniert, können die einander gegenübergestellten Propositionen vollständig wiederhergestellt (oder: vervollständigt) werden. Im Gegensatz zum \"Ersten_Konjunkt\" und \"Zweiten_Konjunkt\" muss der \"Fokuskontext\" nicht zwangsläufig realisiert werden. Darüber hinaus tritt neben den KE die Negation (in all ihren möglichen Formen) als korrelierendes Element (\"KorE\") auf. Da \"und wohl kaum\" als KEE bereits eine Negation inkorporiert, werden \"KorE\" entweder im Rahmen des \"Fokuskontexts\", des \"Ersten_Konjunkts\" oder außerhalb der KE im Matrixsatz realisiert. Diese zusätzliche Negation taucht häufig in Kombination mit der \"Negation:NEG_Xund_wohl_kaumY-Konstruktion\" auf, stellt aber kein obligatorisches Konstruktionselement dar. Während die meisten Konstruktionen der Negationsfamilie von KEE eingeleitet werden, die einen expliziten Negationsausdruck (z.B. die Negationspartikel nicht) enthalten, wird im Rahmen der \"Negation:NEG_Xund_wohl_kaumY-Konstruktion\" die Negation implizit über den Ausdruck kaum als Träger negativer Wahrscheinlichkeit vermittelt. Die Kombination aus der Abtönungspartikel wohl mit dem Ausdruck kaum, bewirkt, dass der Geltungsanspruch der zweiten Proposition, welcher durch kaum als unwahrscheinlich gekennzeichnet ist, als subjektive Einschätzung des Sprachproduzenten und somit als Vermutung charakterisiert wird. \" Die zwei verknüpften Propositionen sind hier die beiden Aussagen, dass das Ganze a) ziemlich blöd gelaufen und b) nicht mehr zu ändern ist. Durch die Verwendung der \"Negation:NEG_Xund_wohl_kaumY-Konstruktion\" gibt der Sprachbenutzer eine persönliche Einschätzung (Das Ganze ist nicht mehr zu ändern) zur Aussage Das Ganze ist ziemlich blöd gelaufen ab. Mit anderen Worten: Das Ganze ist ziemlich blöd gelaufen und (seines Erachtens) wahrscheinlich auch nicht mehr zu ändern.',\n",
              " 'Die Konstruktion \"Korrelativer_Komparativ\" zeigt ein proportionales Verhältnis zweier unterschiedlicher Skalen an, die durch die beiden obligatorisch realisierten Komparative in der Konstruktion aufgerufen werden und so in ein vergleichendes Verhältnis treten. Die Skalen steigen proportional zueinander an oder ab. Die Konstruktion stellt eine Mischung aus Vergleichs- und Konditionalkonstruktionen dar. Die Konstruktion besteht aus zwei konstruktionsevozierenden Elementen und den fünf Kern-Konstruktionselementen \"Bezugswert\", \"Vergleichswert_Kondition\", \"Vergleichswert_Konsequenz\", \"Verglichenes_Kondition\" und \"Verglichenes_Konsequenz\". Auf das erste KEE (z. B.\"je\") folgt unmittelbar das KE \"Verglichenes_Kondition\", auf das zweite KEE (z. B. \"desto\") das KE \"Verglichenes_Konsequenz\".',\n",
              " 'Die \"Exklamativ:V1-Konstruktion\" bringt eine durch Überraschung geprägte Emotion des Sprechers im Hinblick auf einen \"Stimulus\" zum Ausdruck. Die Form dieses Exklamativs entspricht anderen Verbalphrasen (VP) mit einem finiten Verb in Erstposition. Die Konstruktion wird durch ein finites Verb in Erstposition (das interne Konstruktionselelement \"Verb_finit\") in Kombination mit dem ebenfalls internen KE \"Stimulus\" evoziert. Das finite Verb bildet den Einstieg in die Konstruktion, worauf der \"Stimulus\" folgt. Dieser wird in Form der restlichen VP realisiert. Auf das finite Verb in Erstposition, überwiegend eine Form von sein oder haben, folgt unmittelbar ein Demonstrativpronomen in Form von der, die, das, dieser, diese oder dieses, danach steht ein Adverb. Dieses kann entweder alleine oder in Verbindung mit einer Nominalphrase (NP) realisiert werden, die voran oder nachgestellt wird. Der informationsstrukturelle und prosodische Fokus liegt auf dem \"Stimulus\". Ebenso wie bei [https://gsw.phil.hhu.de/constructicon/construction?id=21|dass_VL-Exklamativ] lässt die \"Exklamativ:V1-Konstruktion\" nur eine Fakt-Lesart zu.',\n",
              " 'Die Konstruktion \"Referenz_Altersgruppe:Generation_XY\" findet Verwendung, wenn auf eine bestimmte Alterskohorte in der Bevölkerung verwiesen werden soll. Sie besteht aus dem konstruktionsevozierenden Element \"Generation\" - in der Regel mit vorangehendem \"bestimmtem Artikel\" - und, darauf folgend, einem die jeweilige Alterskohorte \"charakterisierenden Element\", das u.a. aus Majuskeln in Buchstabenlesung, Nummern, Appellativa oder Eigennamen bestehen kann. Die Konstruktion ist typisch für soziologische und journalistische Texte. Manchmal ist die \"Generation\" als Teilgruppe der Bevölkerung der Gesamtgesellschaft (eines Landes oder sonstigen politisch-kulturellen Einheit) zu verstehen, manchmal auch als Teilgruppe kleinerer Verbünde. \" \" \"',\n",
              " 'Die \"Additiv_Koordination:sowohlXalsauchY\" umfasst zwei Propositionen, welche additiv miteinander verknüpft und dabei gleichzeitig gleich gewichtet sind. Dementsprechend tritt die erste Proposition immer nur gemeinsam mit der zweiten Proposition auf. Die Propositionen besitzen insofern einen identischen informationsstrukturellen Status – beide tragen Fokusakzente. Da die Propositionen gleichwertig sind, ist ein Austausch der Konjunkte ohne Bedeutungsverlust möglich. Die Konstruktion besteht aus dem konstruktionsevozierenden Element (KEE) \"sowohl_als_auch\", den internen Kern-Konstruktionselementen (Kern-KE) \"Erstes_Konjunkt\" und \"Zweites_Konjunkt\" und dem externen Kern-KE \"Fokuskontext\". Dabei bilden die KE \"Erstes_Konjunkt\" und \"Zweites_Konjunkt\" jeweils einen Teil der beiden Propositionen ab. Das KE \"Fokuskontext\" indiziert in der Regel den Rest der Proposition. Werden die KE \"Erstes_Konjunkt\" und \"Zweites_Konjunkt\" im Wechsel mit dem \"Fokuskontext\" kombiniert, können die einander gegenübergestellten Propositionen vollständig wiederhergestellt (oder: vervollständigt) werden. Im Gegensatz zu den KE \"Erstes_Konjunkt\" und \"Zweites_Konjunkt\" kann der \"Fokuskontext\" auch nullinstanziiert bleiben. Wenn der \"Fokuskontext\" nicht realisiert wird, drücken die beiden Konjunkte jeweils vollständige Propositionen aus.',\n",
              " 'Die \"Tautologie_Hendiadyoin:XP1_und_XP2-Konstruktion\" gehört zur Familie der Tautologien und stellt einen festgelegten Ausdruck dar, der durch die Kombination zweier unterschiedlicher Wörter derselben Wortart entsteht, die durch den Konnektor und verbunden werden. In einigen Fällen entsteht durch diese Verbindung eine neue Bedeutung, in den meisten Fällen soll durch diese Dopplung gleichbedeutender Begriffe jedoch das Gemeinte besonders betont und hervorgehoben werden. Die Konstruktion setzt sich zusammen aus den Konstruktionselementen \"Kategorie_eins\", \"Kategorie_zwei\" und dem \"KEE\".',\n",
              " 'Die \"Tautologie:X1_oder_nicht_X1-Konstruktion\" gehört zu den Tautologiekonstruktionen und stellt die logisch wahre, tautologische Aussage auf, dass etwas entweder ist oder nicht ist. Eine Aussage, die diese Konstruktion beinhaltet, ist in allen möglichen Äußerungskontexten wahr. Die Konstruktion setzt sich zusammen aus dem konstruktionsevozierenden Element (KEE) \"oder_nicht\" und dem internen Kern-Konstruktionselement (Kern-KE) \"Kategorie\" Die \"Kategorie\" ist das, was existiert/vorliegt oder nicht existiert/vorliegt).',\n",
              " 'Die \"Negation:wederXPnochXP-Konstruktion\" umfasst zwei Propositionen, die negativ-additiv miteinander verknüpft sind. Im Gegensatz zu anderen Konstruktionen der Negationsfamilie sind die Propositionen im Falle der \"Negation:wederXPnochXP-Konstruktion\" gleich gewichtet, das heißt, dass sowohl die erste Proposition als auch die zweite Proposition gleichermaßen ausgeschlossen werden. Die Propositionen besitzen insofern einen identischen informationsstrukturellen Status – beide tragen Fokusakzente. Die Konstruktion, welche durch das konstruktionsevozierende Element (KEE) \"weder noch\" eingeleitet wird, besteht aus den drei Konstruktionselementen (KE) \"Erstes_Konjunkt\", \"Zweites_Konjunkt\" und \"Fokuskontext\". Das \"Erste_Konjunkt\" wird von weder und noch – dem \"KEE\" – umschlossen, während das \"Zweite_Konjunkt\" auf noch folgt. Das \"Erste_Konjunkt\" und das \"Zweites_Konjunkt\" bilden jeweils einen Teil der beiden Propositionen ab. Das dritte KE, der \"Fokuskontext\", indiziert in der Regel den Rest der Proposition. Werden \"Erstes_Konjunkt\" und \"Zweites_Konjunkt\" im Wechsel mit dem \"Fokuskontext\" kombiniert, können die einander gegenübergestellten Propositionen vollständig wiederhergestellt (oder: vervollständigt) werden. Im Gegensatz zum \"Ersten_Konjunkt\" und \"Zweiten_Konjunkt\" muss der \"Fokuskontext\" nicht zwangsläufig realisiert werden – wird der \"Fokuskontext\" nicht realisiert, drücken die beiden Konjunkte jeweils vollständige Propositionen aus. \" Die Propositionen Das Auswärtige Amt wollte diese Informationen zunächst nicht bestätigen und Das Auswärtige Amt wollte diese Informationen zunächst nicht dementieren werden hier durch die Verwendung der \"Negation:wederXPnochXP-Konstruktion\" miteinander verknüpft und damit gleichermaßen ausgeschlossen. Da die Propositionen gleichwertig sind, ist ein Austausch der Konjunkte ohne Bedeutungsverlust möglich.',\n",
              " 'Die \"Optativ:V.conj.-II-Konstruktion\" gehört zu der Familie der Optativkonstruktionen und \"drückt [...] im Allgemeinen einen Wunsch nach etwas Kontrafaktischem aus\" (Grosz 2013: 147). Die Verbmorphologie dieser Konstruktion ist \"konjunktivisch\". Obligatorische Elemente sind die beiden Kern-Konstruktionselemente (Kern-KE) \"Verb_conj.-II\" und \"Subjekt\".',\n",
              " 'Die \"Äquativ_Gleichsetzunggenauso/ebensoNPwieNP-Konstruktion\" gehört zu den Vergleichskonstruktionen und setzt zwei Entitäten bezüglich einer \"Kategorie\" gleich. Der Vergleichsausdruck besteht aus dem KEE \"ebenso\" oder \"genauso\" und einem \"Bezugswert\". Der \"Bezugswert\" wird mit dem \"Verglichenen\" bezüglich einer \"Kategorie\" gleichgesetzt. \"Bezugswert\", \"Kategorie\" und \"Verglichenes\" sind Kern-KE.',\n",
              " 'Die \"Äquativ_partielle_Gleichheitähnlich-Konstruktion\" gehört zu den Vergleichskonstruktionen und zeigt die partielle Gleichheit zweier Entitäten an, die hinsichtlich eines bestimmten Wertes eines spezifischen Attributs auf einer Skala miteinander verglichen werden. Wie bei anderen Vergleichskonstruktionen auch, wird dabei eine zu vergleichende Entität (\"Verglichenes\") hinsichtlich einer Vergleichskategorie (\"Dimension\") mit dem bestimmten Wert einer festgelegten Vergleichsgröße (\"Bezugswert\") in Bezug gesetzt, mit der Besonderheit, dass die hinsichtlich der Vergleichskategorie angegebenen Skalenwerte der beiden verglichenen Entitäten weder absolut deckungsgleich (Vergleichsart: Gleichheit) noch markant verschieden (Vergleichsart: Ungleichheit), sondern gerade durch eine auffallende Ähnlichkeit zueinander (Vergleichsart: partielle_Gleichheit) gekennzeichnet sind. Diese partielle Gleichheit wird durch das konstruktionsevozierende Element (KEE) \"ähnlich\" zum Ausdruck gebracht.',\n",
              " 'Die \"Durchschnittliche_Kosten:ZeitproX-Konstruktion\" gehört zu Familie der \"Relativer_Wert-Konstruktionen\" und zeigt \"Kosten\" an, die in einem (wiederholten) \"Zeitraum\" oder zum Beispiel für eine \"Dienstleistung\" anfallen.',\n",
              " 'Die Konstruktion \"Äquativ:Präp_NPist_es_wiePräp_NP\" gehört zu den Vergleichskonstruktionen und zeigt die Gleichheit zweier jeweils als Präpositionalphrase ausgedrückter Sachverhalte auf einer Skala an. Die Konstruktion besteht aus den Kern-Konstruktionselementen (Kern-KE) \"Verglichenes\" und \"Bezugswert\". Das \"Verglichene\" tritt vor dem konstruktionsevozierenden Element (KEE) \"ist es wie\" auf, der \"Bezugswert\" nach ihm.',\n",
              " 'Die \"Tautologie_Pleonasmus-Konstruktion\" gehört zu den Tautologiekonstruktionen und stellt eine Dopplung eines Wortes dar, indem sie einen Zusatz enthält, der eine offensichtliche Eigenschaft dieses Wortes wiederholt. Die Konstruktion setzt sich zusammen aus dem Konstruktionselement \"Kategorie\" und entweder einem \"Zusatz\", einem \"Fremdwort\" oder einer \"Abkürzung\".',\n",
              " 'Die Konstruktion \"Äquativ:einXvoneinemY\" gehört zu den Vergleichskonstruktionen und zeigt die Gleichheit zweier Werte an. Die gleichgesetzten Instanzen sind realisiert als die Kern-Konstruktionselemente (Kern-KE) \"Entität\" und \"Verglichenes\". Bei dem dritten KE \"Bezugswert\" handelt es sich um einen festgelegten Wert, der das KE \"Entität\" spezifiziert. Das \"Verglichene\" wird in Form einer Präpositionalphrase realisiert, der der \"Bezugswert\" vorangeht. Evoziert wird die \"Äquativ:einXvoneinemY-Konstruktion\" von dem konstruktionsevozierenden Element (KEE) \"ein_von_einem\" bzw. \"ein_von_einer\".',\n",
              " 'Die \"Äquativ_Komposition:N-artig-Konstruktion\" gehört zu den Vergleichskonstruktionen und zeigt die Gleichheit zweier Werte auf einer Skala an. Der Vergleichsausdruck besteht aus den Kern-Konstruktionselementen (Kern-KE) \"Verglichenes\", \"Bezugswert\" und \"Dimension\". Das konstruktionsevozierende Element (KEE) wird durch das Suffix \"-artig\" wiedergegeben.',\n",
              " 'Die \"Tautologie:X1_X1sein_lassen-Konstruktion\" gehört zu den Tautologiekonstruktionen und wird durch die Verbindung eines Artikels, zweier identischer Substantive, dem infinitiven Wort sein und einer Form des Wortes lassen realisiert. Die Konstruktion drückt entweder die Aussage aus, dass sich der Status einer Entität nicht ändert, oder eine implizite Aufforderung, genau dies zuzulassen. Tautologisch wird die Aussage bzw. die Aufforderung dadurch, dass es keines äußeren Eingreifens bedarf, um den Status der Entität nicht zu ändern. Desweiteren wird die Konstruktion genutzt, um wiederum entweder die Aussage zu treffen, dass eine Entität aus dem thematischen Kontext ausgeklammert wird oder die Aufforderung dazu, dies zu tun. Die Konstruktion besteht aus dem Konstruktionsevozierenden Element (KEE) \"sein_lassen\" und den internen Kern-Konstruktionselementen (Kern-KE) \"Kategorie\" und \"Determinierer\". Die Konstruktion liegt in zwei Formen vor: Während in der ersten Form die Konstruktion durch den \"Determinierer\" eingeleitet wird, fehlt dieser in der zweiten Form.',\n",
              " 'Die \"Äquativ:eine_ArtX-Konstruktion\" gehört zu den Vergleichskonstruktionen und zeigt die Gleichheit zweier Werte an. Bestandteile der Konstruktion sind die Kern-Konstruktionselemente (KE) \"Verglichenes\" und \"Bezugswert\" sowie das Konstruktionsevozierende Element (KEE) \"eine Art\".',\n",
              " 'Die \"Optativ:WennV.conj.-II-Konstruktion\" gehört zu der Familie der Optativkonstruktionen und \"drückt [...] im Allgemeinen einen Wunsch nach etwas Kontrafaktischem aus\" (Grosz 2013: 147). Die Verbmorphologie dieser Konstruktion ist \"konjunktivisch\". Obligatorische Bestandteile dieser Konstruktion sind das konstruktionsevozierende Element (KEE) \"wenn\" sowie die beiden internen Konstruktionselement (KE) \"Verb_conj.-II\" und \"Subjekt\".',\n",
              " 'Die \"Exklamativ:was_für_ART.indef_N-Konstruktion\" bringt eine durch Überraschung geprägte Emotion des Sprechers im Hinblick auf einen \"Stimulus\" zum Ausdruck. Die Konstruktion setzt sich aus dem konstruktionsevozierenden Element (KEE) \"was_für\" sowie dem internen Kern-Konstruktionselement (KE) \"Stimulus\" zusammen. Die Mehrworteinheit \"was_für\" (Interrrogativpronomen) bildet den Einstieg in die Konstruktion, worauf der \"Stimulus\", der sich aus Indefinitpronomen (plus Adjektiv) plus Nomen zusammensetzt, folgt. Der informationsstrukturelle und prosodische Fokus liegt auf dem \"Stimulus\", wobei durch die semantische Funktion des \"KEE\" eine Skala-Lesart evoziert wird. Der Fokus der Überraschung liegt auf einer gradierbaren Eigenschaft des Nomens, häufig tritt ein das Nomen modifizierendes, gradierbares Adjektiv auf.',\n",
              " 'Die Konstruktion \"Äquativ:Ein_X1_ohne_Y1_ist_wie_ein_X2_ohne_Y2\" gehört zu den Vergleichskonstruktionen und zeigt die Gleichheit zweier Konstituenten auf einer Skala an. Die Konstruktion besteht aus den Konstruktionselementen (KE) \"Verglichenes\" und \"Bezugswert\" und dem konstruktionsevozierenden Element (KEE) \"ist wie\". Das \"Verglichene\" geht dem KEE \"ist wie\" voraus, der \"Bezugswert\" wird hinter ihm realisiert. Es gibt keine explizite Dimension, sodass das \"Verglichene\" mit dem \"Bezugswert\" im Hinblick auf eine nicht näher spezifizierte Eigenschaft gleichgesetzt wird. Sowohl das \"Verglichene\" als auch der \"Bezugswert\" implizieren eine gewisse Problematik, die aus dem Fehlen der in XP1 und XP2 ausgedrückten Attribute hervorgerufen wird.',\n",
              " 'Die \"Intensivierung_Prototyp:sogehtNP-Konstruktion\" gehört sowohl zu den Intensivierungs- als auch den Prototypkonstruktionen, einer Untergruppe der Intensivierungskonstruktionen. Sie wird genutzt, um eine Entität als den Prototypen einer Kategorie festzulegen. Diese Festlegung wird vollzogen, indem direkt auf die Entität gezeigt wird. Dies gibt der Konstruktion einen deiktischen Charakter. Charakteristisches Merkmal der Konstruktion ist der Nullartikel bei der NP. Die Konstruktion besteht aus dem konstruktionsevozierenden Element (KEE) \"so_geht\" bzw. \"so_muss\" und dem internen Kern-Konstruktionselement (Kern-KE) \"Intensivierte_Kategorie\".',\n",
              " 'Die \"Expressivität:Der_Moment_wennS-Konstruktion\" wird genutzt, um einerseits eine Situation zu beschreiben und andererseits ein mit dieser Situation verbundenes Gefühl auszudrücken. Es handelt sich bei der Konstruktion um eine Expressive Nebensatzkonstruktion oder ENK. Die Konstruktion besteht aus dem konstruktionevozierenden Element \"Der_Moment\" (bzw. \"Dieser_Moment\" / \"Jener_Moment\" / \"Der_Augenblick\" / \"Dieser_Augenblick\" / \"Das_Gefühl\" / \"Dieses_Gefühl\") und aus dem internen Kern-Konstruktionselement (Kern-KE) \"Attributiver_Nebensatz\". Des Weiteren kann die Konstruktion das korrelierende Element (KorE) \"Ergänzendes_Adjektivattribut\" beinhalten.',\n",
              " 'Die \"Kategorisierung_exklamativ:esistzumN-Konstruktion\" gehört zur Familie der Kategorisierungskonstruktionen und drückt typischerweise ausschließlich negative Emotionen des Sprechers oder der Sprecherin im Hinblick auf eine bestimmte Situation oder einen bestimmten Sachverhalt aus; eine Person X bewertet eine Situation Y also als negativ. Die Konstruktion setzt sich zusammen aus dem konstruktionsevozierenden Element (KEE) \"das_ist_zum\"/\"es_ist_zum\" und dem internen Kern-Konstruktionselement (Kern-KE) \"substantiviertes_Emotionsverb\".',\n",
              " 'Die \"Expressivität:alsobS-Konstruktion\" gehört zur Familie der Expressivitätskonstruktionen und bringt unterschiedliche negative Emotionen eines Sprechers oder einer Sprecherin zum Ausdruck. Dazu zählen u. a. Wut, Empörung, Ärger, Enttäuschung und leichter Unmut. Gleichzeitig können mit als ob-Sätzen auch Selbstzweifel oder Skepsis ausgedrückt werden. Eine positive Stimmung kann mit dieser Konstruktion nicht vermittelt werden, es sei denn, die Äußerung wird in einen ironischen oder sarkastischen Kontext gebettet. Mit Hilfe dieser Konstruktion gibt ein Sprecher oder eine Sprecherin zu verstehen, dass der auf das \"KEE\" folgende Satz nicht der Fall ist. Die Konstruktion setzt sich zusammen aus dem konstruktionsevozierenden Element (kee::755]KEE\") und dem darauffolgenden internen Kern-Konstruktionselement (Kern-KE) \"Satz\".',\n",
              " 'Die \"Gegenüberstellung_Situationswechsel:rausausNPreininNP-Konstruktion\" gehört zur Familie der Gegenüberstellungskonstruktionen und beschreibt einen Wechsel von Umständen. Dieser Wechsel findet zielgerichtet statt und verfolgt eine bestimmte Absicht. Sie setzt sich zusammen aus dem konstruktionsevozierenden Element \"KEE\" sowie den internen Kern-Konstruktionselementen (Kern-KE) \"Situation_alt\" und \"Situation_neu\", welche die sich verändernden Umstände angeben.',\n",
              " 'Die \"Äquativ:XgleichtY-Konstruktion\" gehört zu den Vergleichskonstruktionen und zeigt die Gleichheit zweier Entitäten an. Der Vergleichsausdruck besteht aus den Kern-Konstruktionselementen (Kern-KE) \"Verglichenes\",\"Bezugswert\" und \"Dimension\". Das Verb \"gleichen\" fungiert als konstruktionsevozierendes Element (KEE).',\n",
              " 'Bei der \"Diminutiv:N-lein-Konstruktion\" handelt es sich um eine Verkleinerungs- bzw. Verniedlichungsform eines Substantivs, die mittels Derivation zustande kommt. Die Konstruktion besteht aus dem konstruktionsevozierenden Element (KEE) -\"lein\" sowie dem internen Kern-Konstruktionselement (Kern-KE) \"Diminuiertes\".',\n",
              " 'Bei der \"Diminutiv:N-chen-Konstruktion\" handelt es sich um eine Verkleinerungs- bzw. Verniedlichungsform eines Substantivs, die mittels Derivation zustande kommt. Die Konstruktion besteht aus dem konstruktionsevozierenden Element (KEE) \"-chen\" sowie dem internen Kern-Konstruktionselement (Kern-KE) \"Diminutiertes\".',\n",
              " 'Die meist als Prädikativum verwendete Konstruktion\" Intensivierung_Attribut_nachgestellt:NPpur\" gehört zu der Familie der Intensivierungskonstruktionen und gibt an, dass etwas in hohem Maße vorliegt. Sie beinhaltet das als Nomen realisierte, interne Kern-Konstruktionselement (Kern-KE) \"Intensiviertes\", auf das unmittelbar das konstruktionsevozierende Element (KEE) \"pur\" folgt.',\n",
              " 'Die Konstruktion\" Intensivierung_Attribut_nachgestellt:NPsatt\" gehört zu der Familie der Intensivierungskonstruktionen und gibt an, dass etwas in ausreichendem bzw. hohem Maße vorliegt. Sie beinhaltet das als Nomen realisierte, interne Kern-Konstruktionselement (Kern-KE) \"Intensiviertes\", auf das unmittelbar das konstruktionsevozierende Element (KEE) \"satt\" folgt.',\n",
              " 'Die \"Generalisierung:jedermannsN-Konstruktion\" wird im deutschen Sprachgebrauch häufig zur Verallgemeinerung einer bestimmten Sache herangezogen. Feste Bestandteile dieser Konstruktion sind das konstruktionsevozierende Element (KEE) \"jedermanns\" sowie das interne Kern-Konstruktionselement (Kern-KE) \"Bezugswort\".',\n",
              " 'Die \"Äquativ_Schlussfolgerung_hypothetisch:VPals_obVP-Konstruktion\" gehört zu den Vergleichskonstruktionen und zeigt einen hypothetischen Vergleich zwischen \"Verglichenem\" und \"Bezugswert\" an. Hypothetisch ist der Vergleich deshalb, weil sich die beiden KE in der Realität nicht auf dem gleichen Punkt der Skala befinden. Die Konstruktion beinhaltet das konstruktionsevozierende Element (KEE) \"als ob\", auf das stets das satzförmige Kern-Konstruktionselement (Kern-KE) \"Bezugswert\" folgt, sowie das Kern-KE \"Verglichenes\".',\n",
              " 'Bei der \"Diminutiv:X-i-Konstruktion\" handelt es sich um eine Verkleinerungs- bzw. Verniedlichungsform, die mittels Derivation zustande kommt. Die Konstruktion besteht aus dem konstruktionsevozierenden Element (KEE) \"-i\" sowie dem internen Kern-Konstruktionselement (Kern-KE) \"Diminuiertes\".',\n",
              " 'Die meist als Prädikativum verwendete Konstruktion \"Prototyp_Attribut_nachgestellt:NPparexcellence\" ist ein Mitglied der Prototyp-Bedeutungsfamilie, einer Untergruppe der Intensivierungskonstruktionen. Das Subjekt, über das eine Aussage mittels dieser Konstruktion gemacht wird, repräsentiert eine prototypische Einheit (Hyponym) der zu intensivierenden Nominalphrase (Hyperonym) (vgl. Mollica/ Stumpf 2022: 91). Die Konstruktion beinhaltet das als nominale Einheit realisierte, interne Kern-Konstruktionselement (Kern-KE) \"Intensiviertes\", auf das unmittelbar das konstruktionsevozierende Element (KEE) \"parexcellence\" folgt.',\n",
              " 'Die meist als Prädikativum verwendete Konstruktion \"Prototyp_Attribut_nachgestellt:NPwieesimBuchesteht\" ist ein Mitglied der Prototyp-Bedeutungsfamilie, eine Untergruppe der Intensivierungskonstruktionen. Das Subjekt, über das eine Aussage mittels dieser Konstruktion gemacht wird, repräsentiert eine prototypische Einheit (Hyponym) der zu intensivierenden Nominalphrase (Hyperonym) (vgl. Mollica/ Stumpf 2022: 91). Die Konstruktion beinhaltet das als nominale Einheit realisierte interne Kern-Konstruktionselement (Kern-KE) \"Intensiviertes\", worauf das konstruktionsevozierende Element (KEE) \"wie_es_im_Buche_steht\" folgt. Die beiden Elemente werden meist durch ein Komma getrennt.',\n",
              " 'Die Konstruktion \"Intensivierung:zuTodeX\" gehört zu der Gruppe der Intensivierungskonstruktionen und hat folgende Funktion: Zum Einen kann sie eine \"Intensivierung der Verbbedeutung\" (Stumpf 2016) herbeiführen. Dabei wird die Bedeutung des Verbs durch den Zusatz \"zu Tode\" \"in äußerstem Maße/extrem\" (Stumpf 2016) dargestellt, z.B. \" Zum Anderen \"[wird] die Verbbedeutung [...] durch zu häufige Anwendung der \"Tätigkeit\" wirkungslos gemacht, mit dem Resultat eines unbefriedigenden Endzustands\" (Stumpf 2016). Dazu zählen beispielsweise Wendungen wie zu Tode diskutieren, rationalisieren oder sparen, was auch eine Form der Intensivierung darstellt. \"',\n",
              " 'Die Konstruktion \"Intensivierung_Schlussfolgerung:soADJPdassXP\" gehört zu der Familie der Intensivierungskonstruktionen und zeigt eine Intensivierung/Verstärkung und die sich daraus ergebende Konsequenz an. Die Konstruktion (Kxn) besteht aus dem externen Kern-Konstruktionselement (Kern-KE) \"Gradiertes\", den internen Kern-KE \"Dimension\" und \"Konsequenz\" sowie dem konstruktionsevozierenden Element (KEE) \"sodass\". Sie zeigt eine Intensivierung einer \"Dimension\", die sich auf eine \"Entität\" bezieht. Aus der Intensivierung ergibt sich eine Schlussfolgerung, die \"Konsequenz\". \"',\n",
              " 'Die \"Reduplikation_Irrelevanz:N1hinN1her-Konstruktion\" ist hinsichtlich ihrer Semantik nicht eindeutig zu beschreiben, da je nach Kontext unterschiedliche Interpretationen in Frage kommen (vgl. Finkbeiner 2015: 90). Finkbeiner (2017) spricht deshalb von einem \"nonsentential sentence\" (211), dem erst gemeinsam mit einem Hauptsatz eine spezifische Bedeutung zuteil wird. Grundsätzlich wird auf die Konstruktion zurückgegriffen, um die Unerheblichkeit einer bestimmten Sache hinsichtlich eines konkreten Kontextes zu verdeutlichen. Die Konstruktion besteht aus zwei identischen Substantiven, dem \"ersten Konjunkt\" und dem \"zweiten Konjunkt\", sowie dem konstruktionsevozierenden Element (KEE) \"hin_her\".',\n",
              " 'Die \"Äquativ:Xwie_wennY-Konstruktion\" gehört zu den Vergleichskonstruktionen und zeigt die Gleichheit zweier Werte auf einer Skala an. Obligatorische Elemente dieser Vergleichskonstruktion sind die Kern-Konstruktionselemente (Kern-KE) \"Verglichenes\", \"Dimension\" und \"Bezugswert\" sowie das konstruktionsevozierende Element (KEE) \"wie wenn.\".',\n",
              " 'Die \"Äquativ_partielle_Gleichheit_ähnlich_Plural-Konstruktion\" gehört zu den Vergleichskonstruktionen und stellt gewissermaßen die Schnittstelle zwischen den beiden Schwesterkonstruktionen \"Äquativ_partielle_Gleichheitähnlich\" und \"Äquativ_Plural\" dar. Denn zum einen zeigt die Konstruktion die Gleichheit zweier Entitäten an, die hinsichtlich eines bestimmten Wertes eines spezifischen Attributs auf einer Skala (\"Dimension\") miteinander verglichen werden, wobei diese Gleichheit keine absolute (Vergleichsart: Gleichheit), sondern eine partielle (Vergleichsart: partielle_Gleichheit) darstellt, die durch das konstruktionsevozierende Element (KEE) \"ähnlich\" zum Ausdruck gebracht wird. Darin besteht die Schnittstelle zur Konstruktion \"Äquativ_partielle_Gleichheitähnlich\". Zum anderen sind im Gegensatz zu anderen Vergleichskonstruktionen die verglichenen Entitäten nicht gesplittet aufgeführt – nämlich in eine hinsichtlich der Vergleichskategorie festgelegten Vergleichsgröße (Konstruktionselement (KE) \"Bezugswert\") einerseits und einer zu diesem Bezugswert zu vergleichenden Entität (KE \"Verglichenes\") andererseits –, sondern sie werden gemeinsam als Einheit realisiert, die eine entsprechende Pluralmarkierung aufweist (KE \"Verglichene_Entitäten\"). Die bei Schwesterkonstruktionen üblichen KE \"Verglichenes\" und \"Bezugswert\" sind in dieser Konstruktion also ersetzt durch das KE \"Verglichene_Entitäten\", worin die Schnittstelle zur Konstruktion \"Äquativ_Plural\" besteht.',\n",
              " 'Die \"Reduplikation_Nähe:Farbez._in_Farbbez.-Konstruktion\" gehört zur Familie der Reduplikationsstrukturen mit Präposition und wird verwendet, um die Nähe von Farbtönen zu betonen. Letztere zeichnet aus, dass sie „nur in Nuancen voneinander abweichen[] und einen harmonischen Zusammenklang darstellen[]“ (Dudenredaktion o. J.). Diese Definition, die sich auf Duden online lediglich auf die dort als Redensart kategorisierte Mehrworteinheit Ton in Ton bezieht, trifft auf alle Farbbezeichnungen zu, die in diese Konstruktion eintreten können. Die Konstruktion ist teilschematisch. Auf das interne Kern-Konstruktionselement \"Konnekt_1\" folgt das \"KEE\", die Präposition in, welche das einzige lexikalisch feste Element der Konstruktion darstellt. An dieses schließt sich unmittelbar das interne Kern-KE \"Konnekt_2\" an. \"Konnekt_1\" und \"Konnekt_2\" werden durch zwei identische Farbbezeichnungen, häufig Farbadjektive, realisiert. Außerhalb des von der Konstruktion lizenzierten Bereichs tritt das externe KE \"Entität\" auf, welches in der Regel dasjenige Referenzobjekt bezeichnet, das farblich näher bestimmt wird.',\n",
              " 'Die \"Exklamativ:wie_ADJ-Konstruktion\" bringt eine durch Überraschung geprägte Emotion des Sprechers im Hinblick auf einen Stimulus zum Ausdruck. Die Konstruktion setzt sich aus dem konstruktionsevozierenden Element (KEE) \"wie\" sowie dem internen Kern-Konstruktionselement (KE) \"Bewertung\" zusammen. Hinzukommt das interne Kern-KE \"Stimulus\", das im Rahmen dieser elliptischen Kxn allerdings stets nullinstanziiert ist. Das Interrogativpronomen wie bildet den Einstieg in die Konstruktion, worauf das interne Kern-Konstruktionselement (KE) \"Bewertung\" in Form eines Adjektivs folgt. Der informationsstrukturelle und prosodische Fokus liegt auf der \"Bewertung\" des nullinstanziierten \"Stimulus\", wobei durch die semantische Funktion des \"KEE\" eine Skala-Lesart evoziert wird.',\n",
              " 'Bei der Konstruktion (Kxn) \"Kategorisierung_Trendwechsel:Xist_das_was_früherYwar\" handelt es sich um eine satzwertige Prädikativkonstruktion, die dazu dient, anzuzeigen, dass zum jetzigen Sprechzeitpunkt mit \"Trend_neu\" eine Entität bzw. ein Sachverhalt einen äquivalenten Status bzw. eine äquivalente Funktion zu dem besitzt, was hinsichtlich einer bestimmten \"Eigenschaft\" zu einem früheren Zeitpunkt mit \"Trend_alt\" eine andere Entität bzw. ein anderer Sachverhalt inne hatte. Evoziert wird diese Trendwechsel anzeigende Kxn durch die nicht-adjazente Mehrwortverbindung \"ist_das_was_früher_war\". Durch eine Form der 3. Person Präsens des Kopulaverbs sein wird dabei eine Beziehung zwischen dem grammatischen Subjekt – dem Kern-KE \"Trend_neu\" – und dem Prädikativum gestiftet, welches kategorial durch eine Relativphrase der Form das, was früher Y war realisiert ist und auf das Kern-KE \"prädizierte_Eigenschaft\" verweist. Die \"prädizierte Eigenschaft\", hinsichtlicher derer mit \"Trend_neu\" und \"Trend_alt\" die im Subjekt und im Prädikativum benannten Entitäten bzw. Sachverhalte als Äquivalente zueinander in Verbindung gebracht werden, ist entweder explizit benannt oder vom Rezipienten inferentiell zu erschließen: \"',\n",
              " 'Die \"Kategorisierung:Das_Leben_ist_keinNP-Konstruktion\" wird formal gebildet, indem dem Begriff Das Leben ein bestimmter Begriff gegenübergestellt und die Nicht-Identität der beiden Begriffe hervorgehoben wird. Genutzt wird die Konstruktion, um die Verschiedenheit zwischen dem Leben und einem (meist) semantisch kompatiblen Begriff deutlich zu machen. Die Konstruktion besteht aus dem konstruktionsevozierenden Element (KEE) \"das_Leben_ist_kein\" und aus dem internen Kern-Konstruktionselement (Kern-KE) \"Ausgeschlossenes\". Sie kann des Weiteren die korrelierenden Elemente (KorE) \"eben\", \"halt\", \"nun_einmal\", \"nun_mal\" und \"schließlich\" enthalten.',\n",
              " 'Die \"Kategorisierung:NPist_kein_Ponyhof-Konstruktion\" wird formal gebildet, indem einem bestimmten Begriff der Begriff Ponyhof gegenübergestellt und die Nicht-Identität der beiden Begriffe hevorgehoben wird. Nach Steffens/Al-Wadi (2014) wird der Phraseologismus etwas ist kein Ponyhof, was so viel wie etwas ist nicht nur ein Vergnügen bedeutet, häufig als Mahnung verstanden. Die Konstruktion besteht aus dem konstruktionsevozierenden Element (KEE) \"ist_kein_Ponyhof\" und dem internen Kern-Konstruktionselement (Kern-KE) \"Entität\". Des Weiteren kann die Konstruktion die korrelierenden Elemente (KorE) \"eben\", \"halt\", \"nun_mal\" und \"schließlich\" enthalten.',\n",
              " 'Die \"Exklamativ:welch_(ART.indef_)N-Konstruktion\" bringt eine durch Überraschung geprägte Emotion des Sprechers im Hinblick auf einen \"Stimulus\" zum Ausdruck. Die Konstruktion setzt sich aus dem konstruktionsevozierenden Element (KEE) \"welch\" sowie dem internen Kern-Konstruktionselement (KE) \"Stimulus\" zusammen. Das Interrogativpronomen \"welch\" bildet den Einstieg in die Konstruktion (Kxn), worauf der \"Stimulus\" folgt. Die Kxn wird in Form einer Nominalphrase (NP), welche sich aus \"KEE\" plus (Indefinitpronomen plus) (Adjektiv plus) Nomen zusammensetzen kann, realisiert. Der informationsstrukturelle und prosodische Fokus der Überraschung liegt auf dem \"Stimulus\", die semantische Funktion des \"KEE\" evoziert eine Skala-Lesart. Häufig modifiziert ein gradierbares Adjektiv das Nomen, die graduierbare Eigenschaft kann allerdings auch in der Semantik des Nomens selbst angelegt sein.',\n",
              " 'Die Konstruktion \"Intensivierung_Attribut_nachgestellt:NPbrutal\" gehört zu der Familie der Intensivierungskonstruktionen und gibt auf deskriptiv-wertende Weise an, dass etwas in hohem Maße vorliegt. Sie beinhaltet das als Nomen realisierte, interne Kern-Konstruktionselement (Kern-KE) \"Intensiviertes\", auf das unmittelbar das konstruktionsevozierende Element (KEE) \"brutal\" folgt.',\n",
              " 'Die Konstruktion \"Intensivierung:VPbisderArztkommt\" gehört zu der Familie der Intensivierungskonstruktionen und gibt an, dass etwas in hohem Maße ausgeführt wird. Sie beinhaltet das als Verbalphrase realisierte, interne Kern-Konstruktionselement (Kern-KE) \"Intensiviertes\", auf das unmittelbar das konstruktionsevozierende Element (KEE) \"bisderArztkommt\" folgt.',\n",
              " 'Die \"Irrelevanz:N1hinN2her-Konstruktion\" ist hinsichtlich ihrer Semantik nicht eindeutig zu beschreiben, da je nach Kontext unterschiedliche Interpretationen in Frage kommen (vgl. Finkbeiner 2015: 90). Finkbeiner (2017) spricht deshalb von einem \"nonsentential sentence\" (211), dem erst gemeinsam mit einem Hauptsatz eine spezifische Bedeutung zuteil wird. Grundsätzlich wird auf die Konstruktion zurückgegriffen, um die Unerheblichkeit zweier Sachen hinsichtlich eines konkreten Kontextes zu verdeutlichen. Die Konstruktion besteht aus den beiden internen Kern-Konstruktionselementen (Kern-KE) \"erstes Konjunkt\" und \"zweites Konjunkt\" sowie dem konstruktionsevozierenden Element (KEE) \"hin_her\"',\n",
              " 'Die \"Diminutiv:X-eln-Konstruktion\" gehört zu der Familie der Diminutivkonstruktionen und zeigt an, dass es sich um eine Verkleinerungs- bzw. Verniedlichungsform eines Basiswortes handelt, welche mittels Derivation zustande kommt. Die Konstruktion besteht aus dem konstruktionsevozierenden Element (KEE) \"-eln\" sowie dem internen Kern-Konstruktionselement (Kern-KE) \"Diminuiertes\".',\n",
              " 'Die Konstruktion \"Intensivierung_Attribut_nachgestellt:NP_INTENSIVIERUNG\" gehört zu der Familie der Intensivierungskonstruktionen und gibt an, dass etwas in hohem Maße vorliegt. Sie beinhaltet das als Nominalphrase realisierte, interne Kern-Konstruktionselement (Kern-KE) \"Intensiviertes\", auf das unmittelbar das interne Kern-KE \"Intensivierung\" folgt.',\n",
              " 'Bei der Konstruktion \"Diminutiv:ADJ-lich\" handelt es sich um eine Abschwächungs- bzw. Annäherungsform eines Adjektivs, die mittels Derivation zustande kommt. Die Konstruktion besteht aus dem konstruktionsevozierenden Element (KEE) \"-lich\", sowie dem internen Kern-Konstruktionselement (Kern-KE) \"Diminuiertes\".',\n",
              " 'Die\" Diminutiv_Redundanz:X-x1-x2-Konstruktion\" gehört zu den Diminutiv-Konstruktionen und zeigt an, dass es sich bei der vorliegenden Form um eine doppelte bzw. dreifache Verkleinerung handelt, die mittels Derivation zustande kommt. Die Konstruktion besteht aus dem internen Kern-Konstruktionselement (Kern-KE) \"Diminuiertes\" und dem konstruktionsevozierenden Element (KEE) \"-elchen\", \"-ilein\", \"-ileinchen\" oder \"-leinchen\".',\n",
              " 'Die \"Expressivität_Negation:keinXfür_niemand-Konstruktion\" gehört zu den \"Negationskonstruktionen\" und ist formal ein Aussagesatz, welcher in vielfältiger Weise genutzt werden kann. Gemein ist diesen Verwendungsweisen jedoch, dass einer personifizierten Menge eine bestimmte Entität abgesprochen wird. Entscheidend für die Realisierung der Konstruktion ist die unflektierte Form des Indefinitpronomens niemand. Die Konstruktion besteht aus dem konstruktionsevozierenden Element (KEE) \"kein_für_niemand\" und dem internen Kern-Konstruktionselement (Kern-KE) \"Negiertes\".',\n",
              " 'Die \"Intensivierung_Komparativ:Reden_ist_SilberXist_Gold-Konstruktion\" gehört zu der Familie der \"Intensivierungskonstruktionen\" wird genutzt, um einen Begriff mithilfe eines Vergleichs mit dem Begriff \\'Reden\\' in seiner Bedeutung hervorzuheben. Nach Mellado Blanco (2018: 197) \"[bringt] [d]as Muster [...] auf einer graduellen Wertskala zwischen \\'gut\\' und \\'besser\\' zum Ausdruck, dass der durch den Slot X bezeichnete Vorgang bzw. Sachverhalt besser bzw. situationsangemessener als das Reden ist.\" Die Konstruktion besteht aus dem konstruktionsevozierenden Element (KEE) \"Reden_ist_Silber...ist_Gold\" und dem internen Kern-Konstruktionselement (Kern-KE) \"Intensiviertes\".',\n",
              " 'Die meist als Prädikativum verwendete Konstruktion \"Prototyp_Attribut_nachgestellt:NPschlechthin\" ist ein Mitglied der Prototyp-Bedeutungsfamilie, einer Untergruppe der Intensivierungskonstruktionen. Das Subjekt, über das eine Aussage mittels dieser Konstruktion gemacht wird, repräsentiert eine prototypische Einheit (Hyponym) der zu intensivierenden Nominalphrase (Hyperonym) (vgl. Mollica/ Stumpf 2022: 91). Die Konstruktion beinhaltet das als nominale Einheit realisierte, interne Kern-Konstruktionselement (Kern-KE) \"Intensiviertes\", auf das unmittelbar das konstruktionsevozierende Element (KEE) \"schlechthin\" folgt.',\n",
              " 'Die \"Reflexive_Bewegung:NP_VP_REFL_PP-Konstruktion\" \"ist eine Argumentstruktur-Konstruktion, die die (reale oder metaphorische) ,Bewegung\\' einer Entität [...] ausdrückt.\" (Willich 2022:2f.) Obligatorische Elemente dieser Konstruktion sind das interne Kern-Konstruktionselement (Kern-KE) \"Ereignis\", die beiden externen Kern-KE \"Bewegendes\" und \"Weg\" sowie das Konstruktionsevozierende Element (KEE) Reflexivum, welches durch ein Reflexivpronomen wie \"sich\" realisiert wird.',\n",
              " 'Die \"Reflexives_Partikelverb:NP_VP_REFL_PART-Konstruktion\" \"ist eine Argumentstruktur-Konstruktion, die die (reale oder metaphorische) ,Bewegung\\' einer Entität [...] ausdrückt.\" (Willich 2022:15) Obligatorische Elemente dieser Konstruktion sind das interne Kern-Konstruktionselement (Kern-KE) \"Ereignis\", das externe Kern-KE \"Bewegendes\" sowie die beiden konstruktionsevozierenden Elemente (KEE) \"Richtung\" und Reflexivum, welches durch ein Reflexivpronomen wie \"mich\", \"sich\" etc. realisiert werden kann.',\n",
              " 'Die \"Reflexive_Weg:NP_VP_REFL_NP-Konstruktion\" \"ist eine Argumentstruktur-Konstruktion, die die (reale oder metaphorische) ,Bewegung\\' einer Entität [...] ausdrückt.\" (Willich 2022:27) Obligatorische Elemente dieser Konstruktion sind das interne Kern-Konstruktionselement (Kern-KE) \"Ereignis\", das externe Kern-KE \"Bewegendes\", das konstruktionsevozierende Element (KEE) Reflexivum, welches durch ein Reflexivpronomen wie \"sich\" realisiert wird, sowie das korrelierende Element (KorE) \"Weg\".',\n",
              " 'Die \"Zuordnung:XkannY-Konstruktion\" wird dazu genutzt, die Fähigkeit oder Eigenschaft einer Entität hervorzuheben. Die Konstruktion besteht aus dem konstruktionsevozierenden Element (KEE) \"kann\", den internen Kern-Konstruktionselementen (Kern-KE) \"Eigenname\" und \"Zugeordnetes\" und kann die Nicht-Kern-KE \"auch\", \"doch\" und \"nicht\" beinhalten. Entscheidend für die Konstruktion ist der lexikalisch feste Bestandteil können (realisiert in der 1. Person Singular: kann), welcher valenztheoretisch eine Nominativ- und eine Akkusativergänzung fordert und die Realisierung des die Akkusativergänzung einnehmenden Substantivs ohne Artikel. (Stumpf 2015b)',\n",
              " 'Die Konstruktion \"Prototyp_Kompositum:Muster-N\" ist ein Mitglied der Prototyp-Bedeutungsfamilie, einer Untergruppe der Intensivierungskonstruktionen. Das Subjekt, über das eine Aussage mittels dieser Konstruktion gemacht wird, repräsentiert eine vorbildliche, bzw. prototypische Einheit (Hyponym) des zu intensivierenden Kompositionszweitglieds (Hyperonym) (vgl. Mollica/ Stumpf 2022: 91). Das Kompositum setzt sich aus dem konstruktionsevozierenden Element (KEE) \"Muster-\" und dem als Nomen realisierten internen Kern-Konstruktionselement (Kern-KE) \"Intensiviertes\" zusammen. Zudem können die Nicht-Kern-KE \"Spezifizierung\", \"Prototypische_Entität\" und \"Kategorie\" auftreten. Die beiden Bestandteile des Kompositums können zusammen oder mit einem Bindestrich voneinander getrennt geschrieben werden. Bei der Realisierung mit dem Bindestrich wird das \"Intensivierte\" groß geschrieben.',\n",
              " 'Die Konstruktion \"Konkretisierung_exhaustiv:Klammern\" besteht aus einem \"Bezugsausdruck\", dem ein in \"Klammern\" eingeschlossener \"weiterer Ausdruck\" folgt. Der \"Klammerausdruck\" gibt exhaustiv die Gattungen oder Entitäten an, die sich dem \"Bezugsausdruck\" subsummieren lassen. Erfolgt die Angabe der Unterkategorien nicht erschöpfend, so liegt eine der Schwesterkonstruktionen (\"Konkretisierung_exemplifizierend:Klammern\" oder \"Konkretisierung_restriktiv:Klammern\" vor. Die Konstruktion erbt von der Konstruktion \"Attribution:Klammern\" die Eigenschaft, dass ein - i.d.R. nominaler - Kopf durch einen unmittelbar nachgestellten Ausdruck erweitert wird (vgl. Ziem et al. 2023). Sie kann syntaktisch selbständig (etwa in listenhaften Aufzählungen) vorkommen, wird aber vor allem als Satzglied oder Satzgliedteil geschriebener Sätze realisiert. In letzterem Falle fungiert die Konstruktion als sekundäre Prädikation. Weiterhin erbt sie von der die Familie der Klammerkonstruktionen konstituierenden Konstruktion \"Sekundäre_Information:Klammern\" die informationsstrukturelle Instruktion an den Leser, dem eingeklammerten Ausdruck nachrangige Wichtigkeit (im Vergleich mit der \"Klammerumgebung\") zuzuweisen (vgl. Ziem et al. 2023).',\n",
              " 'Die \"Exklamativ:was_VL-Konstruktion\" bringt eine durch Überraschung geprägte Emotion des Sprechers im Hinblick auf einen \"Stimulus\" zum Ausdruck. Die Konstruktion setzt sich aus dem konstruktionsevozierenden Element (KEE) \"was\" sowie dem Konstruktionselement (KE) \"Stimulus\" zusammen. Das Interrogativpronomen \"was\" bildet den Einstieg in die Konstruktion (Kxn), worauf der \"Stimulus\" folgt. Die Kxn wird in Form einer Verbalphrase (VP) mit dem finiten Verb in Endstellung realisiert. Der informationsstrukturelle und prosodische Fokus liegt auf dem \"Stimulus\", wobei die semantische Funktion des \"KEE\" eine Skala-Lesart evoziert, auch wenn die Kxn keine graduierbaren oder quantifizierbaren Elemente enthält. Im Gegensatz zum [https://gsw.phil.hhu.de/constructicon/construction?id=14|wie_ADJ-Exklamativ] liegt der Fokus hier also nicht auf dem gradierbaren Zustand selbst, sondern auf dem denotierten Sachverhalt.',\n",
              " 'Die Konstruktion \"Konkretisierung_exemplifizierend:Klammern\" besteht aus einem \"Bezugsausdruck\", dem ein in \"Klammern\" eingeschlossener \"weiterer Ausdruck\" folgt. Der \"Klammerausdruck\" gibt eine oder mehrere, aber nicht alle der Gattungen oder Entitäten an, die sich dem \"Bezugsausdruck\" subsummieren lassen. (Erfolgt die Angabe der Unterkategorien hingegen erschöpfend, so liegt eine Instanz der Schwesterkonstruktion \"Konkretisierung_exhaustiv:Klammern\" vor.) Die Konstruktion erbt von der übergeordneten Konstruktion \"Attribution:Klammern\" die Eigenschaft, dass ein - i.d.R. nominaler - \"Kopf\" durch einen unmittelbar nachgestellten \"Ausdruck\" in \"Klammern\" erweitert wird. Sie wird vor allem als Satzglied oder Satzgliedteil geschriebener Sätze realisiert, kann aber auch syntaktisch selbständig (etwa in listenhaften Aufzählungen) vorkommen. In ersterem Falle fungiert die Konstruktion als eine (auf die schriftliche Modalität beschränkte) Möglichkeit, eine sekundäre Prädikation zu realisieren. Weiterhin erbt sie von der die Familie der Klammerkonstruktionen konstituierenden Konstruktion \"Sekundäre_Information:Klammern\" die informationsstrukturelle Information, das der \"eingeklammerten Ausdruck\" im Vergleich mit dem \"Umgebungstext\"von nachrangiger Wichtigkeit ist (vgl. Ziem et al. 2023).',\n",
              " 'Die Konstruktion \"Konkretisierung_restriktiv:Klammern\" besteht aus einem \"Bezugsausdruck\", der durch einen nachfolgenden \"Ausdruck\" in \"Klammern\" präzisiert wird. Dabei wird die Extension des Bezugsausdrucks eingeschränkt bzw. werden dem Bezugsausdruck semantische Merkmale hinzugefügt. Die Konstruktion ähnelt somit einer selbstinitiierten Selbstreparatur, wobei die Denotation des \"Reparandums\" (= des \"Bezugsausdrucks\") durch die Denotation der \"Reparatur\" (= des \"Klammerausdrucks\") nicht aufgehoben, sondern nur eingeschränkt wird. Die Konstruktion erbt von der übergeordneten Konstruktion \"Attribution:Klammern\" die Eigenschaft, dass ein - i.d.R. nominaler - \"Kopf\" durch einen unmittelbar nachgestellten \"Ausdruck\" in \"Klammern\" erweitert wird (vgl. Ziem et al. 2023). Sie wird vor allem als Satzglied oder Satzgliedteil geschriebener Sätze realisiert, kann aber auch syntaktisch selbständig (etwa in listenhaften Aufzählungen) vorkommen. In ersterem Falle fungiert die Konstruktion als eine (auf die schriftliche Modalität beschränkte) Möglichkeit, eine sekundäre Prädikation zu realisieren. Weiterhin erbt sie von der die Familie der Klammerkonstruktionen konstituierenden Konstruktion \"Sekundäre_Information:Klammern\" die informationsstrukturelle Information, dass der Informationswert des \"eingeklammerten Ausdrucks\" im Vergleich mit dem Informationswert der \"Klammerumgebung\" nachrangig ist (vgl. Ziem et al. 2023). Der Konstruktion entsprechen echte - d.h. nicht bloß graphematische, sondern auch mündlich realisierbare - Parenthesen, in denen der \"Klammerausdruck\" durch Ausdrücke wie nämlich oder und zwar eingeleitet wird.',\n",
              " 'Die \"Passe-partout-Kompositum:X-ding-Konstruktion\" bezeichnet \"teillexikalisierte Komposita, die als festes Determinatum ein Passe-partout-Wort aufweisen, d.h. ein Wort, das durch einen hohen Grad an semantischer Vagheit gekennzeichnet ist\" (Stumpf 2021a:35). Die Konstruktion wird vorwiegend im mündlichen Sprachgebrauch verwendet und kann je nach Kontext unterschiedliche Funktionen erfüllen (bezüglich der spezifischen Funktionen vgl. Stumpf 2021a:54-74). Feste Bestandteile sind das konstruktionsevozierende Element (KEE) \"ding\" (oder die Varianten \"kram\", \"sache\", \"teil\", \"zeug\") sowie das externe Kern-Konstruktionselement (Kern-KE) \"Bezugsglied\".',\n",
              " 'Die Konstruktion \"Koordination_morphologisch:Klammern\" stellt eine Möglichkeit dar, in der geschriebenen Sprache auf ökonomische Weise zwei Wörter mit geteilten Bestandteilen sowie einem nicht geteilten Bestandteil semantisch zu koordinieren. Dies geschieht, indem der nicht geteilte Bestandteil - der \"Klammerausdruck\" - von \"Klammern\" eingeschlossen wird und damit von dem geteilten Bestandteil als \"ausgeklammertem Wortteil\" abgegrenzt wird. Die Interpretation kann, je nach Kontext, additiv (entsprechend der Koordination mit und) oder alternativ (entsprechend der Koordination mit oder) sein. Es handelt sich somit um eine formale (morphologische) Subordination, funktional jedoch eine Koordination der beiden Bestandteile (bzw. ihrer Denotation).',\n",
              " 'Die \"Negation:von_wegenX-Konstruktion\" gehört zu der Familie der Negationskonstruktionen und wird genutzt, um eine Aussage zu negieren und im Zuge dessen die Erwartungshaltung einer Person, welche mit dieser Aussage einhergeht, zu brechen. Aussage und Erwartungshaltung können die einer sprechenden, angesprochenen oder auch einer dritten Person sein. Die Konstruktion wird häufig in ironischer Absicht gebraucht und als Ausruf verwendet. Die Konstruktion besteht aus dem konstruktionsevozierenden Element (KEE) \"vonwegen\" und dem internen Kern-Konstruktionselement (Kern-KE) \"Negiertes\".',\n",
              " 'Die Konstruktion \"Gegenüberstellung:allenXzumTrotz\" \"ist eine lexikalisch teilspezifizierte Mehrworteinheit [...], die feste lexikalische Komponenten einerseits und variable Slots andererseits [enthält]\" (Speyer 2011). Sie beschreibt etwas (eine Situation oder einen Umstand), das nicht eingetroffen ist, obwohl es auf den ersten Blick so schien. Dabei kann die Erwartung entweder positiv, wobei der tatsächliche Ausgang dann eher negativ ist, oder negativ sein und der Ausgang dann eher positiv. Die Konstruktion setzt sich zusammen aus dem konstruktionsevozierenden Element (KEE) \"allen_zum_Trotz\", das die feste lexikalische Komponente darstellt, dem internen Kern-Konstruktionselement (Kern-KE) \"Umstand\", das den variablen Slot darstellt und dem externen Konstruktionselement \"Resultat\", das den unerwarteten positiven oder negativen Ausgang der Situation beschreibt.',\n",
              " 'Die Konstruktion \"Direktiv:jetztheißtesX\" gehört zu der Familie der Direktivkonstruktionen und drückt eine Aufforderung, bzw. Ermutigung des Sprechers/der Sprecherin zu einer Handlung aus. Sie beinhaltet das konstruktionsevozierende Element (KEE) \"jetztheißtes\", auf das das interne Kern-Konstruktionselement (Kern-KE) \"Direktiv\" folgt.',\n",
              " 'Die Konstruktion \"Reduplikation_Wortbildung_Ablautdoppelung:X-X\" gehört zu der Familie der Reduplikationskonstruktionen. Sie setzt sich aus den beiden externen Kern-Konstruktionselementen (Kern-KE) \"Basis\" und \"Reduplikant\" zusammen, wobei zwischen den beiden fast identischen Elementen ein Vokalwechsel stattfindet. Am häufigsten ist der Wechsel von i zu a zu finden. Die Reihenfolge der Kern-KE ist dabei nicht festgelegt. Die Konstruktion spiegelt in ihrem umgangsprachlichen Ton in der Regel eine Sprecher*inneneinstellung zu einem gewissen Thema wider.',\n",
              " 'Die Konstruktion \"Reduplikation_Wortbildung_Reimdoppelung:X-X\" gehört zu der Familie der Reduplikationskonstruktionen. Sie setzt sich aus den beiden externen Kern-Konstruktionselementen (Kern-KE) \"Basis\" und \"Reduplikant\" zusammen, wobei zwischen den beiden fast identischen Elementen ein Wechsel der Anlautkonsonanten stattfindet. Häufig steht die \"Basis\" an erster Stelle, jedoch nicht immer. Zudem können in seltenen Fällen Fugenelemente dazutreten. \" Die Konstruktion spiegelt in ihrem umgangsprachlichen Ton in der Regel eine Sprecher*inneneinstellung zu einem gewissen Thema wider.',\n",
              " 'Bei der Konstruktion \"Einordnung_Gattung:Klammern\" werden als Zusatzinformation zu einem auf eine Entität oder Gattung referierenden \"Bezugsausdruck\" eine Gattung genannt, unter die sich diese subsummieren lässt. Der die Gattung nennende \"Ausdruck\" wird in \"Klammern\" direkt hinter dem \"Bezugsausdruck\" aufgeführt. Von ihrer Mutterkonstruktion \"Attribution:Klammern\" erbt die Konstruktion die phrasenstrukturellen Eigenschaften, d.h. dass der Kopf der öffnenden Klammer vorausgeht und durch die eingeklammerte Phrase modifiziert wird (Ziem et al. 2023). Von der die gesamte Familie der syntaktischen Klammerkonstruktionen konstituierenden Konstruktion \"Sekundäre_Information:Klammern\" erbt die Konstruktion die Eigenschaft, dass der \"Klammerausdruck\" im Verhältnis zum Text außerhalb der Klammern, der \"Klammerumgebung\", als informationell nachrangig interpretiert wird (Ziem et al. 2023).',\n",
              " 'Mit der Konstruktion Einordnung_Nation:Klammern können auf Personen referierende Ausdrücke mit der Zusatzinformation versehen werden, welcher Nation sie angehören oder mit welcher Nation sie in dem entsprechenden Kontext assoziiert sind. Der auf die Nation verweisende \"Ausdruck\" wird in \"Klammern\" unmittelbar hinter dem auf die Person verweisenden \"Bezugsausdruck\" aufgeführt. Von der Konstruktion \"Attribution:Klammern\" erbt die Konstruktion die phrasenstrukturellen Eigenschaften, d.h. dass der Kopf der öffnenden Klammer vorausgeht und durch die eingeklammerte Phrase modifiziert wird (Ziem et al. 2023), von ihrer Mutterkonstruktion \"Einordnung:Klammern\" das Bedeutungsschema, dass hier durch den \"Klammerausdruck\" eine Kategorisierung des \"Bezugsausdrucks\" vorgenommen wird. Von der die gesamte Familie der syntaktischen Klammerkonstruktionen konstituierenden Konstruktion \"Sekundäre_Information:Klammern\" erbt die Konstruktion die Eigenschaft, dass der \"Klammerausdruck\" im Verhältnis zum Text außerhalb der Klammern, der \"Klammerumgebung\", als informationell nachrangig interpretiert wird (Ziem et al. 2023).',\n",
              " 'Mit der Konstruktion Einordnung_Urheberschaft:Klammern können auf künstlerische Werke referierende Ausdrücke und Zitate mit der Zusatzinformation versehen werden, wer sie erschaffen oder konzipiert hat bzw. wem sie zugeschrieben werden. Der auf den Urheber verweisende \"Ausdruck\" wird in \"Klammern\" unmittelbar hinter dem auf das Werk verweisenden \"Bezugsausdruck\" aufgeführt. Von der Konstruktion \"Attribution:Klammern\" erbt die Konstruktion die phrasenstrukturellen Eigenschaften, d.h. dass der Kopf der öffnenden Klammer vorausgeht und durch die eingeklammerte Phrase modifiziert wird (Ziem et al. 2023), von ihrer Mutterkonstruktion \"Einordnung:Klammern\" das Bedeutungsschema, dass hier durch den Klammerausdruck eine Kategorisierung des Bezugsausdrucks vorgenommen wird. Von der die gesamte Familie der syntaktischen Klammerkonstruktionen konstituierenden Konstruktion \"Sekundäre_Information:Klammern\" erbt die Konstruktion die Eigenschaft, dass der \"Klammerausdruck\" im Verhältnis zum Text außerhalb der Klammern, der \"Klammerumgebung\", als informationell nachrangig interpretiert wird (Ziem et al. 2023).',\n",
              " 'Mit der Konstruktion \"Entsprechung_Zeitangabe:Klammern\" kann eine Menge, ein Datum oder eine Uhrzeit unmittelbar im Anschluss auf eine alternative Weise ausgedrückt werden. Dem \"Ausdruck\", der die Zeit- oder Mengenangabe einführt, folgt dabei unmittelbar der alternative \"Ausdruck\" in Klammern. In der Regel erfolgt eine der beiden Angaben verbal, die andere numerisch (meist in arabischen Ziffern). Von der Konstruktion \"Attribution:Klammern\" erbt die Konstruktion die phrasenstrukturellen Eigenschaften, d.h. dass der Kopf der öffnenden Klammer vorausgeht und durch die eingeklammerte Phrase modifiziert wird (Ziem et al. 2023), von ihrer Mutterkonstruktion \"Entsprechung:Klammern\" das Bedeutungsschema, dass \"Bezugsausdruck\" und \"Klammerausdruck\" auf dasselbe referieren. Von der die gesamte Familie der syntaktischen Klammerkonstruktionen konstituierenden Konstruktion \"Sekundäre_Information:Klammern\" erbt die Konstruktion die Eigenschaft, dass der \"Klammerausdruck\" im Verhältnis zum Text außerhalb der Klammern, der \"Klammerumgebung\", als informationell nachrangig interpretiert wird (Ziem et al. 2023).',\n",
              " 'Mit der Konstruktion \"Zuordnung:Klammern\" können auf Entitäten (seltener: Gattungen) referierenden \"Bezugsausdrücken\" Werte oder mit ihnen im Zusammenhang stehende andere Entitäten oder Gattungen zugeordnet werden. Der Zusammenhang kann ständiger Natur sein oder nur für den jeweiligen Kontext gelten. Der \"Ausdruck\", mit dem der Wert oder die assoziierte Entität ausgedrückt wird, steht in \"Klammern\" unmittelbar hinterseinem \"Bezugsausdruck\". Die Konstruktion wird sehr häufig mehrfach in einem Satz oder Textausschnitt verwendet, wobei dann typisch ist, dass die \"Bezugsausdrücke\" und die \"Klammerausdrücke\" jeweils von derselben Art sind. Von seiner Mutterkonstruktion \"Attribution:Klammern\" erbt die Konstruktion die phrasenstrukturellen Eigenschaften, d.h. dass der Kopf der öffnenden Klammer vorausgeht und durch die eingeklammerte Phrase modifiziert wird (Ziem et al. 2023). Von der die gesamte Familie der syntaktischen Klammerkonstruktionen konstituierenden Konstruktion \"Sekundäre_Information:Klammern\" erbt die Konstruktion die Eigenschaft, dass der \"Klammerausdruck\" im Verhältnis zum Text außerhalb der Klammern, der \"Klammerumgebung\", als informationell nachrangig interpretiert wird (Ziem et al. 2023).',\n",
              " 'Die Konstruktion \"Kategorisierung:leckerN\" gehört zu der Familie der Prädikationskonstruktionen und weist einer Entität die Eigenschaft \"lecker\" zu - sowohl im wörtlichen als auch im übertragenen Sinn. Die Konstruktion wird „in der Regel zur Kontextualisierung von Informalität und somit besonders der Beschreibung privater, familiärer und persönlicher Interaktionskontexte“ (Stumpf 2015a: 142) verwendet. Sie setzt sich aus dem konstruktionsevozierenden Element (KEE) \"lecker\" und dem internen Kern-Konstruktionselement (Kern-KE) \"Bezugsnomen\" zusammen.',\n",
              " 'Bei der \"Passe-partout-Phrasem:X_Kopula_ART_Y-ding-Konstruktion\" handelt es sich um ein in eine [https://preview.gsw.phil.hhu.de/constructicon/construction?id=395|Prädikativkonstruktion] eingebettetes Kompositum mit fixem Zweitglied. Mittels der Konstruktion \"werden zwei Entitäten (X und Y) syntaktisch und semantisch miteinander verbunden, um (aus Sicht der Produzent/-innen) (stereo)typische Merkmale der Entität, die in die Y-Stelle tritt, zu versprachlichen\" (Stumpf 2021a:24). Obligatorische Elemente dieser Konstruktion sind die beiden konstruktionsevozierenden Elemente (KEE) Kopulaverb (\"sein\", \"werden\" oder \"bleiben\") und Passe-partout-Wort (\"ding\", \"kram\", \"sache\", \"teil\" oder \"zeug\") sowie die internen Kern-Konstruktionselemente (Kern-KE) \"Bezugsglied\" und \"Referent\".',\n",
              " 'Die \"Prototyp:Inbegriff_NP.GEN-Konstruktion\" gehört sowohl zu den Intensivierungs- als auch den Prototypkonstruktionen, einer Untergruppe der Intensivierungskonstruktionen. Sie wird genutzt, um eine Entität als den Prototypen einer Kategorie festzulegen, wobei die prototypischen Merkmale dieser Kategorie gleichzeitig intensiviert werden. Die Konstruktion besteht aus dem konstruktionsevozierenden Element (KEE) \"Inbegriff\", dem internen Kern-Konstruktionselement (Kern-KE) \"Intensivierte_Kategorie\" und dem externen Kern-KE \"Prototypische_Entität\". Des Weiteren kann das korrelierende Element (KorE) \"Determinierer\" realisiert werden.',\n",
              " 'Die \"Prototyp:die_Mutter_allerNP-Konstruktion\" gehört sowohl zu den Intensivierungs- als auch den Prototypkonstruktionen, einer Untergruppe der Intensivierungskonstruktionen. Sie wird genutzt, um eine Entität als den Prototypen einer Kategorie festzulegen, wobei die prototypischen Merkmale dieser Kategorie gleichzeitig intensiviert werden. Die Konstruktion besteht aus dem konstruktionsevozierenden Element (KEE) \"die_Mutter_aller\", dem internen Kern-Konstruktionselement (Kern-KE) \"Intensivierte_Kategorie\" und dem externen Kern-KE \"Prototypische_Entität\".',\n",
              " 'Die \"Prototyp_Kompositum:Standard-N-Konstruktion\" gehört sowohl zu den Intensivierungs- als auch den Prototypkonstruktionen, einer Untergruppe der Intensivierungskonstruktionen. Sie wird genutzt, um eine Entität als den Prototypen einer Kategorie festzulegen, wobei die prototypischen Merkmale dieser Kategorie gleichzeitig intensiviert werden. Die Konstruktion besteht aus dem konstruktionsevozierenden Element (KEE) \"Standard\", dem internen Kern-Konstruktionselement (Kern-KE) \"Intensiviertes\" und den Nicht-Kern-KE \"Kategorie\", \"Prototypische_Entität\" und \"Spezifizierung\".',\n",
              " 'Die \"Negation_Litotes:nicht_un-ADJ-Konstruktion\" gehört zu den Negationskonstruktionen und wird genutzt, um eine doppelte Verneinung auszudrücken, bei welcher sich die beiden Negierungen gegenseitig aufheben. Die Bedeutung des durch die doppelte Negation entstandenen Begriffs ist dabei jedoch meist nicht identisch mit der Bedeutung des ursprünglichen Begriffs, sondern im Verhältnis zu diesem verstärkt oder abgeschwächt. Die doppelte Verneinung dient des Weiteren auch dazu, einen negierten Begriff in einer bestimmten Situation abzulehnen. Die Konstruktion besteht aus dem konstruktionsevozierenden Element (KEE) \"nicht_un-\" / \"kein_un-\" / \"nicht\" / \"kein\" / \"nicht_ohne\" / \"keineswegs_un-\" / \"kaum_un-\" und dem internen Kern-Konstruktionselement (Kern-KE) \"Negiertes\".',\n",
              " 'Die \"Kategorisierung:keinN1ist_auch_einN1-Konstruktion\" wird genutzt, [...] um Ablehnung, Kritik und/oder auch Ironie, gelegentlich auch Zustimmung, zum Ausdruck zu bringen\" (Mollica 2018: 214). Gebildet wird die Konstruktion durch die \"[...] Verneinung eines Substantivs in Subjektposition [...] im Vorfeld, das im Mittelfeld als Prädikativkomplement [...] gleich wieder affirmiert wird\" (Mollica 2018: 207). Die Konstruktion besteht aus dem konstruktionsevozierenden Element (KEE) \"kein_ist_auch_ein\" und dem internen Kern-Konstruktionselement (Kern-KE) \"Kategorie\".',\n",
              " 'Die \"Exklamativ:wieADJ_Kopula_PRON.dem-Konstruktion\" gehört zu der Familie der Exklamativkonstruktionen und drückt als solche „die Einstellung des Sprechers zu einem bestimmten Aspekt der dargestellten Welt aus“ (Auer 2016:73). Kennzeichnend für die vorliegende Konstruktion ist die Überraschung des Sprechers bezüglich der durch das Adjektiv ausgedrückten Eigenschaft des Subjekts (vgl. Auer 2016:83). Zu den obligatorischen Elementen dieser Konstruktion gehören die beiden internen Kern-Konstruktionselemente (Kern-KE) \"Bewertung\" und \"Bewertetes\" sowie das konstruktionsevozierende Element (KEE) \"wie\".',\n",
              " 'Die \"Konjunktiv_Präteritumperfekt:V.conj-II_Partizip-II-Konstruktion\" gehört zu den Konjunktivkonstruktionen und wird neben der Bildung der indirekten Rede dazu verwendet, die Irrealität einer Handlung in der Vergangenheit anzuzeigen. Obligatorische Bestandteile dieser Konstruktion sind das externe Kern-Konstruktionselement (Kern-KE) \"Subjekt\", das interne Kern-KE \"Verbstamm\" sowie die konstruktionsevozierenden Elemente (KEE). Bei den KEE handelt es sich um die Konjunktiv-II-Form des Hilfsverbs haben (\"hätten\") oder sein (\"wären\") sowie um das zur Bildung des Partizips II verwendete Präfix \"ge\" und die dazugehörige Endung \"en\" oder \"et\" bzw. \"t\".',\n",
              " 'Die \"Korrelativer_Äquativ:soADV_VPsoADV_VP-Konstruktion\" zeigt ein proportionales Verhältnis zweier unterschiedlicher Skalen an. Der erste Teilsatz ruft dabei die Skala auf, mit der der zweite Teilsatz korreliert. Die Konstruktion besteht aus dem konstruktionsevozierenden Element (KEE) \"so_so\", welches beide Teilsätze einleitet. \"Dimension\" und \"Verglichenes\" bilden die internen Kern-Konstruktionselemente (Kern-KE) des ersten Teilsatzes, \"Korrelierende_Dimension\" und \"Korrelierendes_Verglichenes\" die interne Kern-KE des zweiten.',\n",
              " 'Bei der Konstruktion (Kxn) \"Komparativ_Präferenz:besserXPals:_YP\" handelt es sich um ein sog. ‚Spruch-‘ bzw. ‚Sprichwortmuster‘ (Steyer/Hein 2018; Steyer 2010, 2012), welches neben einem kleinen Set an usuellen Sprichwort-Realisierungen (z.B. Besser spät als nie, Besser zu früh als zu spät) eine große Menge an okkasionellen, nicht-sprichwörtlichen Bildungen lizensiert. SprecherInnen bedienen sich dieses syntaktisch elliptischen, häufig selbstständig genutzten Musters, um eine Präferenzrelation eines Sachverhalts gegenüber einem anderen auszudrücken und eine entsprechende Aussage gleichsam als Erfahrungserkenntnis zu positionieren (vgl. Besser mehrere dünne Schichten übereinanderstreifen als wenige dicke). Die Kxn besteht insgesamt aus drei obligatorischen Elementen: dem nicht-adjazenten konstruktionsevozierenden Element (KEE) \"besser_als\" sowie den beiden internen Kern-Konstruktionselementen (Kern-KE) \"Sachverhalt_präferiert\" und \"Sachverhalt_dispräferiert\". Letztere werden über das KEE zueinander in Relation gesetzt, indem sie auf einer Werteskala unterschiedlich verortetet werden: So wird mit \"Sachverhalt_präferiert\" etwas bezeichnet, das dem mit \"Sachverhalt_dispräferiert\" Bezeichneten vorzuziehen ist und daher auf der Skala weiter oben rangiert. Die gemeinsame abstrakte Musterbedeutung lässt sich nach Permjakov (2000: 75) wie folgt formulieren: \"Wenn eine Sache eine bestimmte Eigenschaft hat, und eine andere Sache hat eine andere Eigenschaft oder dieselbe zu einem unterschiedlichen Grad, so ist eine der Sachen der anderen vorzuziehen.\" Die folgenden Belege illustrieren, dass sich der Kxn in vielen Fällen überdies folgende – graduelle – Konnotation zuschreiben lässt: \\'X ist zwar auch nicht perfekt, aber immer noch positiver als Y.\\' (Steyer/Hein 2018: 118; Steyer 2019: 134). \"',\n",
              " 'Die \"Tautologie_nostalgisch:alsNP1nochNP1war\"-Konstruktion\" gehört zur Familie der Tautologie-Konstruktionen und wird verwendet, um sich an eine bestimmte Zeit zu erinnern, in der die \"Kategorie\" mit positiven Eigenschaften verknüpft wurde. Durch die Verwendung dieser Konstruktion wird impliziert, dass die \"Kategorie\" diese positiven Eigenschaften nun nicht mehr besitzt. Die Konstruktion wird daher vor allem nostalgisch gebraucht. Sie setzt sich zusammen aus dem konstruktionsevozierenden Element (KEE) \"als_noch_war\" und dem internen Konstruktionselement \"Kategorie\".',\n",
              " 'Die \"Indirekte_Redewiedergabe:vonwegenX-Konstruktion\" wird genutzt, um indirekte Rede wiederzugeben. Die Konstruktion wird häufig in ironischer Absicht gebraucht. Die Konstruktion besteht aus dem konstruktionsevozierenden Element (KEE) \"vonwegen\" und dem internen Kern-Konstruktionselement (Kern-KE) \"Indirekte_Rede\".',\n",
              " 'Die \"Korrelativer_Äquativ:VPin_dem_MaßeXP-Konstruktion\" gehört zu den Vergleichskonstruktionen und zeigt die Gleichheit zweier Werte auf einer Skala an. Zu den obligatorischen Elementen dieser Konstruktion gehört das konstruktionsevozierende Element (KEE), bestehend aus der Präposition in, dem Artikel dem sowie dem Substantiv Maß, Ausmaß oder Umfang (vgl. \"in_dem_Maße\"). Wahlweise findet sich in+dem durch die Kontraktion im ersetzt und durch gleichen oder selben erweitert (vgl. \"im_gleichen_Umfang\"). Neben dem KEE gibt es außerdem das interne Kern-Konstruktionselement (Kern-KE) \"Bezugswert\" sowie das externe Kern-KE \"Verglichenes\".',\n",
              " 'Die \"Tautologie:entwederXoder_nicht-Konstruktion\" ist eine disjunktive tautologische Äußerung und gehört zur Familie der Tautologien. Sie wird verwendet, um zu vermitteln, dass alternative Disjunkte nicht relevant sind. Das heißt, ein Sprecher kann implizieren, dass Alternativen zu einer Aussage nicht in Betracht gezogen werden sollten bzw. können (vgl. Ward/Hirschberg, 1991). Die Konstruktion setzt sich zusammen aus dem konstruktionsevozierenden Element (KEE) \"entweder_oder_nicht\" und dem internen Kern-Konstruktionselement (Kern-KE) \"Disjunkt\".',\n",
              " 'Bei der Konstruktion (Kxn) \"Prädikation_Negation:NegPROistADJ\" handelt es sich um ein sog. ‚Spruch-‘ bzw. ‚Sprichwortmuster‘ (Steyer/Hein 2018; Steyer 2010, 2012), das einerseits zwei usuelle Sprichwort-Realisierungen lizensiert, nämlich Niemand ist unersetzlich und das aus dem Angloamerikanischen lehnübersetze Sprichwort Niemand ist perfekt (‚Nobody is perfect‘), und andererseits eingeschränkt produktiv verwendet werden kann, um eine bestimmte Menge an okkasionellen, nicht-sprichwörtlichen Bildungen zu generieren. Die satzwertige Kxn besteht aus insgesamt zwei obligatorischen Elementen, nämlich dem konstruktionsevozierenden Element (KEE) \"niemand_ist\" bzw. \"keinerist\", das aus einem Negationspronomen und der Flektionsform von sein in der 3. Person Singular besteht, sowie dem prädikativ verwendeten und zumeist als Adjektiv realisierten internen Kern-Konstruktionselement (Kern-KE) \"Eigenschaft_negiert\". SprecherInnen bedienen sich dieses Sprichwortmusters, um in Form eines allgemeinen Weisheitssatzes zum Ausdruck zu bringen, dass ein Mensch normalerweise nicht im Stande ist, die mit dem KE \"Eigenschaft_negiert\" bezeichnete Eigenschaft vollumfänglich aufzuweisen. Das Set dieser realiter nicht vollumfänglich vorliegenden Eigenschaften ist dabei nicht beliebig, sondern auf drei signifikante Füllergruppen beschränkt: Die beiden prototypischen Füllergruppen sind semantisch stark an den Sprichwort-Realisierungen angelehnt und lassen sich den Wortfeldern \\'Perfektion\\' (z.B. vollkommen, makellos, unfehlbar …) und \\'Unersetzbarkeit\\' (z.B. unersetzbar, unentbehrlich, unkündbar …) zuordnen. Ihre Funktion ist BERUHIGUNG oder TROST im Falle von \\'Perfektion\\' und ERMAHNUNG im Falle von \\'Unersetzbarkeit\\' (vgl. Steyer 2019: 129): \" Davon lässt sich eine weniger frequent realisierte Füllergruppe abgrenzen, die sich in Umkehrung zur ersten Füllergruppe dem Wortfeld \\'Defektibilität\\' zuordnen lässt. Insofern zugehörige Füller Eigenschaften konzeptualisieren, die negativ konnotiert sind (z.B. falsch, nutzlos, unbegabt …), wird mit entsprechenden Konstruktionsrealisierungen zum Ausdruck gebracht, dass dadurch, dass kein Mensch die betreffende Eigenschaft vollumfänglich aufweist, jeder Mensch wertvoll ist und sich seine Fähig- und Fertigkeiten stets gewinnbringend einsetzen lassen. Die illokutiven Funktionen der mit dieser dritten Füllergruppen realisierten Instanziierungen sind immer TROST, ZUSPRUCH oder ERMUTIGUNG: \"',\n",
              " 'Die Konstruktion NP_des_kleinen_Mannes gehört zu der Familie der Prädikakationskonstruktionen. Sie beinhaltet das externe Kern-Konstruktionselement (Kern-KE) \"Referent\", sowie das interne Kern-KE \"Antezedens\", auf das unmittelbar das konstruktionsevozierende Element (KEE) \"des_kleinen_Mannes\" folgt. „Die Bedeutung dieser Konstruktion lässt sich wie folgt umschreiben: Ein X (z. B. ein Hund) ist die für den Normalbürger bestimmte Entsprechung eines höherwertigen, nur für wenige bestimmten Y (z. B. ein Pferd). Die beiden Leerstellen – hier angegeben durch X und Y – sind im Prinzip frei besetzbar. [...] Für die Besetzung der Leerstellen sind allerdings zwei Eigenschaften zentral: (1) Beide Substantive gehören zum selben Wortfeld und (2) beide stehen in einer Abstufungsrelation, wobei das erste Substantiv als in irgendeiner Weise schwächer zu gelten hat bzw. im Vergleich zum ersten Element weniger wert ist als das zweite“ (Harm 2023: kleiner Mann (kleine Leute)).',\n",
              " 'Die \"Interrogativ_Vergewisserungssignal:XP_X-Konstruktion\" gehört zu der Familie der Interrogativkonstruktionen und dient dazu, \"die Aufmerksamkeit des Hörers sowie seine Zustimmung zum zuvor Gesagten [zu] überprüfen\" (Nömer 2020:10). Die Konstruktion besteht aus den beiden internen Kern-Konstruktionselementen (Kern-KE) \"Bezugskontext\" und \"Vergewisserungssignal\".',\n",
              " 'Die \"Konzessiv:soVP_VP-Konstruktion\" stellt eine Form des Adverbialsatzes dar und markiert eine Einschränkung des im Hauptsatz ausgedrückten Sachverhalts. Obligatorische Bestandteile dieser Konstruktion sind das konstruktionsevozierende Element (KEE) \"so\", das interne Kern-Konstruktionselement (Kern-KE) \"Konzessive_Dimension\" sowie die beiden externen Kern-KE \"Einräumung\" und \"Sachverhalt\".',\n",
              " 'Die \"Kategorisierung:keinN1ist_auch_einN2-Konstruktion\" wird gebildet, indem zwei – häufig in einem Zusammenhang stehende – Entitäten gegenübergestellt werden und die Nicht-Existenz der ersten Entität mit der Existenz der zweiten Entität identifiziert wird. \"Die Bedeutung/Funktion dieser PhK [Phrasemkonstruktion] könnte lauten: Wenn N1 nicht eintritt, dann gilt N2\" (Mollica 2018: 216). Genutzt wird die Konstruktion, um auszusagen, dass entgegen der Annahme, dass die Existenz des ersten Begriffs essentiell für die Existenz des zweiten Begriffs ist, gerade die Abwesenheit des ersten Begriffs wiederum auch die Existenz des zweiten Begriffs bedingen kann. Die Konstruktion besteht aus dem konstruktionsevozierenden Element (KEE) \"kein_ist_auch_ein\" und den internen Kern-Konstruktionselementen (Kern-KE) \"Kategorie_1\" und \"Kategorie_2\".',\n",
              " 'Die \"Personenreferenz_abwertend:x-ling-Konstruktion\" kennzeichnet eine primär pejorative Personenbezeichnung, die mittels Derivation zustande kommt. Obligatorische Elemente der Konstruktion sind das konstruktionsevozierende Elemente (KEE) \"ling\" sowie das interne Kern-Konstruktionselement (Kern-KE) \"Bewertetes\".',\n",
              " 'Die \"Interrogativ:wasistmitNP-Konstruktion\" gehört zu der Familie der Interrogativkonstruktionen und fragt danach, was etwas oder jemanden anbelangt. Obligatorische Bestandteile dieser Konstruktion sind das konstruktionsevozierende Element (KEE) \"was_ist_mit\" sowie das interne Kern-Konstruktionselement (Kern-KE) \"Bezugskontext\".',\n",
              " 'Die \"Interrogativ_rhetorisch:NPundX-Konstruktion\" gehört zu der Familie der Interrogativkonstruktionen und signalisiert Überraschung, Skepsis, Unglauben oder Verachtung in Bezug auf eine zuvor ausgedrückte (implizite oder explizite) Proposition (vgl. Lambrecht 1990:220; Fleischer 1997:133). Bestandteile der Konstruktion sind das konstruktionsevozierende Element (KEE) \"und\" sowie die beiden internen Kern-Konstruktionselemente (Kern-KE) \"Bezugsgröße\" und \"Bezugskontext\".',\n",
              " 'Die \"Intensivierung:sowasvonX-Konstruktion\" gehört zu den Intensivierungskonstruktionen und wird genutzt, um zu \"[...] signalisier[en], dass der Referent in hohem Maße die in der X-Position beschriebene Eigenschaft besitzt[...]\" (Brône/Schoonjans 2022: 506). Die Konstruktion drückt den hohen Grad einer Bewertung aus, welche von einer großen Zahl verschiedener Slot-Filler realisiert werden kann (vgl. Habermann/Herbst 2022). Die Konstruktion besteht aus dem konstruktionsevozierenden Element (KEE) \"so_was_von\" / \"sowas_von\" / \"so_etwas_von\", dem internen Kern-Konstruktionselement (Kern-KE) \"Intensivierter_Bewerter\" und dem Nicht-Kern-KE \"Zusätzlicher_Intensivierer\". Die Konstruktion kann des Weiteren das korrelierende Element (KorE) \"Sprechereinstellung\" enthalten.',\n",
              " 'Die \"Gegenüberstellung:XistkeinY-Konstruktion\" wird formal gebildet, indem einem Begriff ein anderer gegenübergestellt und die Nicht-Identität der beiden Begriffe hervorgehoben wird. Genutzt wird die Konstruktion, um die Verschiedenheit von zwei (meist) semantisch kompatiblen Begriffen deutlich zu machen. Die Konstruktion besteht aus dem konstruktionsevozierenden Element (KEE) \"ist_kein\" und den internen Kern-Konstruktionselementen (Kern-KE) \"Ausgeschlossener_Begriff\" und \"Begriff\". Des Weiteren kann die Konstruktion die korrelierenden Elemente (KorE) \"eben\", \"halt\", \"nun_einmal\", \"nun_mal\" und \"schließlich\" enthalten.',\n",
              " 'Die \"Intensivierung_Komparativ:Xist_SilberYist_Gold-Konstruktion\" gehört zu der Familie der \"Intensivierungskonstruktionen\" wird genutzt, um einen Begriff mithilfe eines Vergleichs mit einem weiteren Begriff in seiner Bedeutung hervorzuheben. Das Muster hat \"die denotative Bedeutung \\'X mag auf den ersten Blick gut sein, aber Y ist besser als X\\' [...]\" (Mellado Blanco 2018: 196). Die Konstruktion besteht aus dem konstruktionsevozierenden Element (KEE) \"ist_Silber...ist_Gold\" und den internen Kern-Konstruktionselementen (Kern-KE) \"Intensiviertes\" und \"Bezugswert\".',\n",
              " 'Die \"Exklamativ:dieserN-Konstruktion\" bringt eine durch Überraschung geprägte Emotion des Sprechers im Hinblick auf einen \"Stimulus\" zum Ausdruck. Die Konstruktion setzt sich aus dem konstruktionsevozierenden Element (KEE), der flektierten Form des Demonstrativpronomens \"dieser\", sowie dem Konstruktionselement (KE) \"Stimulus\" zusammen. Das \"KEE\" bildet den Einstieg in die Kxn, worauf der \"Stimulus\" folgt. Dieser wird in Form eines Nomens, das alleine stehen oder durch ein Adjektiv modifiziert werden kann, realisiert. Das \"KEE\" ist hier also Teil der Nominalphrase (NP). Der informationsstrukturelle und prosodische Fokus liegt auf dem \"Stimulus\", wobei durch die semantische Funktion des \"KEE\" eine Skala-Lesart evoziert wird. Oftmals wird das Nomen der NP durch ein gradierbares Adjektiv modifiziert. Die syntaktische Form dieser Kxn ist sehr fest.',\n",
              " 'Die Konstruktion \"Relativierung:kaumADJ\" gehört zu der Familie der Relativierungskonstruktionen und signalisiert eine starke Abschwächung der \"Dimension\". Sie setzt sich aus dem konstruktionsevozierenden Element (KEE) \"kaum\", dem internen Kern-Konstruktionselement (Kern-KE) \"Dimension\" und dem externen Kern-KE \"Gradiertes\" zusammen.',\n",
              " 'Die Konstruktion \"Intensivierung:sehrV\" gehört zu der Familie der Intensivierungskonstruktionen und signalisiert eine Verstärkung des an die Intensitätspartikel anknüpfenden Verbs. Die Konstruktion setzt sich aus dem konstruktionsevozierenden Element (KEE) \"sehr\", dem internen Kern-Konstruktionselement (Kern-KE) \"Gradierte_Dimension\" und dem externen Kern-KE \"Entität\" zusammen.',\n",
              " 'Die \"Exklamativ:Allein_STIMULUS-Konstruktion\" bringt eine durch Überraschung geprägte Emotion des Sprechers in Hinblick auf einen \"Stimulus\" zum Ausdruck. Impliziert wird dabei immer, dass es noch andere Aspekte gibt, die eine Überraschung hervorrufen, der \"Stimulus\" jedoch als alleiniger Auslöser dieser Emotion ausreicht. Die Konstruktion (Kxn) setzt sich aus dem konstruktionsevozierenden Element (KEE), der Fokuspartikel \"allein\", sowie dem internen Konstruktionselement (KE) \"Stimulus\" zusammen. Das \"KEE\" bildet den Einstieg in die Konstruktion, worauf der \"Stimulus\" folgt. Der lizenzierte Bereich (\"KEE\"Stimulus\") der Kxn kann in Form einer Nominalphrase (NP), die aus Pronomen/Artikel (plus Adjektiv) plus Nomen besteht, oder einer Verbalphrase (VP) realisiert werden. Der informationsstrukturelle und prosodische Fokus liegt auf dem \"Stimulus\", der den Auslöser der Überraschung darstellt. Je nach Form des \"Stimulus\" evoziert die Kxn eine Fakt- oder Skala-Lesart. Bei der Form „\"Allein\" plus NP“, die die Skala-Lesart evoziert, ist das Nomen in der NP meist nicht durch ein gradierbares Adjektiv modifiziert, die Eigenschaft im Fokus der Überraschung bleibt unspezifisch.',\n",
              " 'Die Konstruktion \"Kategorisierung_Determinativkompositum:X_Y\" liefert den Bauplan für eines der häufigsten deutschen Wortbildungsmuster. Sie legt fest, dass der Erstbestandteil - das \"Determinans\" - den Zweitbestandteil - das \"Determinatum\" - genauer bestimmt. Dies kann in semantisch vielfältiger HInsicht geschehen; so kann das \"Determinans\" Bestimmungen des Besitzes, der Zugehörigkeit, der lokalen, temporalen oder kausalen Einordnung oder der Materialbeschaffenheit des Denotats des \"Determinatums\" angeben. Einen Sonderfall bilden die sog. Rektionskomposita. die den mit einem deverbalen Zweitglied assoziierten Frame evozieren, in dessen Rahmen dann auch das Erstglied interpretiert wird. Im Einklang mit der Kopf-rechts-Regel ist das Determinatum auch in grammatischer Hinsicht der Kopf der Bildung (Fleischer/Barz 2012). Die Konstruktion gehört zur Familie der Komposita, bei denen beide Bestandteile Wurzeln oder Wörter sind. Das Muster ist rekursiv anwendbar, d.h. nach ihm gebildete Wörter können wiederum zum KE eines neuen Kompositums werden. Entsprechend sind polymorphematische Komposita möglich und gängig (Fleischer/Barz 2012). Die Verzweigung ist entsprechend binär; polymorphematische Komposita können sowohl eine symmetrisch als auch eine asymmetrische Verzweigungsstruktur (ohne Richtungsfestlegung) aufweisen (vgl. Fleischer/Barz 2012) . Determinativkomposition stellt die Hauptgruppe der Komposition dar; das Muster ist im Gegenwartsdeutschen uneingeschränkt produktiv (Günther 1981). Die Hauptbetonung liegt auf der Iktussilbe des Erstbestandteils (vgl. Uhmann 2015 [1997]); für Komposita mit vier oder mehr Bestandteilen gelten allerdings abweichende Regeln (Fleischer/Barz 2012). Als Wortbildungsprodukte werden Determinativkomposita, allgemeinen Grundsätzen der Getrennt- und Zusammenschreibung des Deutschen folgend, obligatorisch zusammengeschrieben. In informellen und konzeptionell mündlichen Textsorten sowie in Werbedruckerzeugnissen lässt sich ein Trend zur nicht-orthographischen Getrenntschreibung von Determinativkomposita beobachten (vgl. Symanczyk Joppe 2018a, 2018b, 2020).',\n",
              " 'Die \"Exklamativ:dass_VL-Konstruktion\" bringt eine durch Überraschung geprägte Emotion des Sprechers im Hinblick auf einen \"Stimulus\" zum Ausdruck. Die syntaktische Form dieses Exklamativs entspricht einem eingeleiteten oder alleinstehenden dass-Nebensatz. Die Konstruktion (Kxn) setzt sich aus dem konstruktionsevozierenden Element (KEE) \"dass\" sowie dem Konstruktionselement (KE) \"Stimulus\" zusammen. Das KEE, die Konjunktion \"dass\", bildet den Einstieg in die Konstruktion, worauf der \"Stimulus\" folgt. Der lizenzierte Bereich der Kxn wird in Form einer Verbalphrase (VP) mit finitem Verb in Endstellung realisiert. Der informationsstrukturelle und prosodische Fokus liegt auf dem \"Stimulus\", wobei die Kxn durch die semantische Funktion des \"KEE\" eine Fakt-Lesart evoziert.',\n",
              " 'Die \"so_ART.indef_N-Konstruktion\" bringt eine durch Überraschung geprägte Emotion des Sprechers im Hinblick auf einen \"Stimulus\" zum Ausdruck. Die Konstruktion (Kxn) setzt sich aus dem konstruktionsevozierenden Element (KEE) \"so\" sowie dem Konstruktionselement (KE) \"Stimulus\" zusammen. Das Adverb \"so\" bildet den Einstieg in die Konstruktion, worauf der \"Stimulus\" folgt. Die Kxn wird in Form einer Nominalphrase (NP) realisiert, die aus dem \"KEE \" plus Indefinitpronomen plus (Adjektiv plus) Nomen besteht. Der informationsstrukturelle und prosodische Fokus liegt auf dem \"Stimulus\", wobei durch die semantische Funktion des \"KEE\" eine Skala-Lesart evoziert wird. Oftmals tritt auch ein das Nomen modifizierendes, gradierbares Adjektiv in der NP auf.',\n",
              " 'Die \"Gegenüberstellung:V1_V1-Konstruktion\" stellt zwei Sachverhalte mit gegensätzlichen Inhalten/Propositionen in einer parallelen Struktur gegenüber. Die Form des Satzgefüges entspricht zwei Sätzen mit Verberststellung, aufgrund derer die adversative Lesart zustande kommt. Die Konstruktion (Kxn) besteht aus den internen Kern-Konstruktionselementen (Kern-KE) \"Sachverhalt_1\" und \"Sachverhalt_2\". Sie kann durch verschiedene \"KorE\" verstärkt werden, beispielsweise \"so\" oder \"früher_heute\".',\n",
              " 'Die Konstruktion \"Spezifizierung_Sachverhalt:Satzwertige_Partizipphrase\" gehört zu der Familie der Spezifizierungskonstruktionen. Die Kxn wird verwendet, um einen Nebensatz, genauer verschiedene Formen des Adverbialsatzes, in verkürzter Form an einen Hauptsatz anzuschließen. Durch das Partizip I oder II ermöglicht die Konstruktion eine Redundanzvermeidung. Der betreffende Satzteil kommt somit ohne Subjekt, das im HS vorhanden ist, und ohne finites Verb aus. Daneben wird die Konstruktion zum Beispiel auch aus stilistischen Gründen zur Kürzung eines Nebensatzes verwendet. Die externen Kern-Konstruktionselemente (Kern-KE) \"Spezifiziertes\" und \"Spezifizierendes\" stellen die obligatorischen Elemente dieser Konstruktion dar.',\n",
              " 'Bei der \"Gegenüberstellung_Hauptsatz_Adversativsatz-Konstruktion\" handelt es sich um eine Variante des Adversativsatzes. Sie zeigt zwei gegensätzliche Propositionen an. Die Form des Satzgefüges mit einem \"Adversativsatz\" entspricht einem \"Hauptsatz\" sowie einem \"Nebensatz\", dem der adversative Konnektor vorangestellt wird. Die Konstruktion (Kxn) setzt sich aus einem der konstruktionsevozierenden Elementen (KEE) \"anstatt zu\", \"statt zu\", \"wogegen\", \"wohingegen\" oder \"während\" sowie den Konstruktionselementen (KE) \"Hauptsatz\" und \"Nebensatz\" zusammen. Das KEE bildet gemeinsam mit dem Sachverhalt_Adversativsatz den lizenzierten Bereich. Bei diesem handelt es sich um einen Adverbialsatz. Die \"KEE\" werden auf Position 0 im \"Nebensatz\" realisiert. Die Reihenfolge des \"Hauptsatzes\" und \"Nebensatzes\" ist variabel.',\n",
              " 'Die \"Reduplikation_Nähe_N1_PRÄP_N1-Konstruktion\" gehört zur Familie der Reduplikationsstrukturen mit Präposition und wird verwendet, um die besondere Nähe von zwei oder mehr Instanzen darzustellen. Die Konstruktion erfüllt die Funktion einer Intensivierung, im vorliegenden Fall bezogen auf Nähe im räumlichen oder metaphorischen Sinne. Die Konstruktion ist teilschematisch. Die Kern-Konstruktionselemente (Kern-KE) \"Konnekt_1\" und \"Konnekt_2\" werden durch zwei identische, zählbare Nomen realisiert. Beide Nomen treten im Singular und ohne Artikel auf. Die Verbindung der beiden Kern-KE erfolgt immer durch das \"KEE\", die Präposition an, welche das einzige lexikalisch feste Element der Konstruktion darstellt. Sofern die Instanziierungen von \"Konnekt_1\" und \"Konnekt_2\" ein Teilelement von mindestens zwei unkoordinierten Ganzen bilden oder stellvertretend für diese stehen, werden jene zusätzlich zu \"Konnekt_1\" und \"Konnekt_2\" in Form der externen Kern-KE \"Figur\" und \"Hintergrund\" realisiert. Treten die beiden Entitäten nicht separat, sondern koordiniert bzw. zusammengefasst auf, wird stattdessen das externen Kern-KE \"Figuren\" annotiert. Weder \"Figur\" und \"Hintergrund\" noch die \"Figuren\" liegen im lizenzierten Bereich der Konstruktion. Zudem können sie nur unter der Voraussetzung wegfallen, dass die jeweiligen Referenten aus dem Kontext erschließbar sind. Je schwieriger von \"Konnekt_1\" und \"Konnekt_2\" auf die \"Figuren\" geschlossen werden kann, desto wahrscheinlicher ist eine idiomatische Lesart. Die syntaktischen Beschränkungen der Konstruktion hängen von den konkreten Nomen in \"Konnekt_1\" und \"Konnekt_2\" ab. Eine attributive Modifizierung ist in bestimmten Fällen möglich, jedoch nicht üblich.',\n",
              " 'Die \"Reduplikation_Kontinuität:N1_PRÄP_N1-Konstruktion\" gehört zur Familie der Reduplikationsstrukturen mit Doppelpräposition und wird verwendet, um eine kontinuierliche Abfolge identischer Entitäten zu betonen. Die Konstruktion ist teilschematisch. Die internen Kern-Konstruktionselemente \"Konnekt_1\" und \"Konnekt_2\" werden durch zwei identische zählbare Nomen realisiert. Die Verbindung der beiden erfolgt immer durch das \"KEE\", die Präpositionen auf, für oder um, welche jeweils das einzige lexikalisch feste Element der Konstruktion darstellen. Im Falle der KEE \"auf\" und \"für\" treten die Nomen in den Slots \"Konnekt_1\" und \"Konnekt_2\" stets im Singular und ohne Artikel auf. Ausschließlich dann, wenn die Kxn mit dem KEE \"um\" realisiert wird, können die in \"Konnekt_1\" und \"Konnekt_2\" realisierten Nomen im Singular oder Plural stehen. Unabhängig vom konkreten \"KEE\" ist eine Modifizierung von \"Konnekt_1\" und \"Konnekt_2\" nur in seltenen Fällen möglich, jedoch nicht üblich.',\n",
              " 'Die \"Negation_Schlussfolgerung:nurweilX_NEG_Y-Konstruktion\" dient dazu, ein im Diskurskontext unterstelltes kausales Verhältnis zwischen zwei Propositionen zu negieren. Die Konstruktion markiert dabei das Grund-Relat als nicht hinreichend für die versprachlichte Folge bzw. Schlussfolgerung. Diese nicht zutreffende bzw. nicht aus der ersten Proposition ableitbare Folge ist oftmals die diskursrelevantere der beiden Propositionen. Die Konstruktion hat kein festes lexikalisches KEE, sondern ergibt sich strukturell aus der Abfolge der KEs, die jeweils unterschiedlich realisiert werden können. Der erste Teil der Struktur besteht aus einer \"Fokuspartikel\", die \\'Ausschließlichkeit\\' signalisiert, gefolgt von einem \"Kausalmarker\", nach dem ein \"nicht_hinreichender_Grund\" steht. Den zweiten Teil der Struktur bildet die \"nicht_zutreffende_Folge\", die von einem \"Negator\" als solche markiert wird.',\n",
              " 'Mit der Konstruktion \"Entsprechung:Klammern\" wird verkürzt ausgedrückt, dass einem Begriff oder Wert ein anderer Begriff oder Wert entspricht. Dabei wird der erste Wert als \"Bezugsausdruck\" eines ihm unmittelbar folgenden \"Ausdrucks\" realisiert, der auf den zweiten Wert verweist. Der zweite Ausdruck steht in \"Klammern\". Wenn Instanzen der Konstruktion in einen Fließtext eingebettet werden, so übernehmen die \"Klammern \" - wie bei der Mutterkonstruktion \"Attribution:Klammern\" - die Funktion, den \"Klammerausdruck\" als Erweiterung seines \"Bezugsausdruck\" zu kennzeichnen (vgl. Ziem et al. 2023). Von der die Familie der syntaktischen Klammerkonstruktionen konstituierenden Konstruktion \"Sekundäre_Information:Klammern\" erbt die Konstruktion die Eigenschaft, dass der \"Klammerausdruck\" im Verhältnis zum Text außerhalb der Klammern, der \"Klammerumgebung\", als informationell nachrangig interpretiert wird (vgl. Ziem et al. 2023). Die Gleichsetzung findet in dieser Konstruktion vor allem auf sprachlicher Ebene, und zwar primär durch Abkürzungen und Übersetzungen, statt. Dabei kann die Gleichsetzung in beide Richtungen erfolgen: Der abgekürzte bzw. übersetzte Begriff kann sowohl die Position des \"Bezugsausdrucks\" als auch die des \"Klammerausdrucks\" einnehmen. Eine wichtige Funktion der Konstruktion kann also sowohl in der Nennung alternativer Begriffe als auch in der Erläuterung von Begriffen gesehen werden. Die Gleichsetzung kann auch zwischen nicht-sprachlichen Entitäten vorgenommen werden, etwa wenn einem Wert, der in einer bestimmten Einheit ausgedrückt wird, derselbe Wert in einer anderen Einheit zugeordnet wird. Mischformen treten z.B. dort auf, wo auf einen bestimmten Zeitpunkt Bezug genommen wird, der sich sowohl als syntaktische Fügung (nächste Woche Donnerstag, der zweite Weihnachtsfeiertag) als auch durch eine entsprechende Datumsangabe ausdrücken lässt.',\n",
              " 'Die \"Komparativ:ADJ-eralsNP-Konstruktion\" gehört zu den Vergleichskonstruktionen und zeigt die Ungleichheit zweier Werte auf einer Skala an. Der Vergleichsausdruck umfasst das interne Kern-KE \"Dimension\" sowie die externen Kern-KE \"Verglichenes\" und die Nicht-Kern-KE \"Annäherung\" und \"Quantifizierung\".',\n",
              " 'Die \"Konjunktiv:würdeV.inf-Konstruktion\" gehört zu den Konjunktivkonstruktionen und wird neben der Bildung der indirekten Rede dazu verwendet, die Potenzialität bzw. Irrealität einer Aussage anzuzeigen (vgl. Sode 2023:9). Die würde-Form wird in der Standardsprache vornehmlich dann gebraucht, wenn die synthetische Konjunktiv II-Form mit der Präteritumform im Indikativ identisch ist. Die Konstruktion setzt sich aus dem externen Kern-Konstruktionselement (Kern-KE) \"Subjekt\", dem internen Kern-KE \"Verbstamm\" sowie dem konstruktionsevozierenden Element (KEE) zusammen. Das KEE besteht aus dem konjugierten Hilfsverb \"würden\" und der Infinitivendung \"-en\". Im Falle des Partizips II wird das KEE durch die Zirkumfixe \"ge-en\" oder \"ge-t\" realisiert.',\n",
              " 'Die \"Superlativ:am_meisten/wenigstenADJ-Konstruktion\" gehört zu der Familie der Vergleichskonstruktionen und weist einem Wert die höchste oder niedrigste Stufe auf einer Skala zu. Die Zuweisung erfolgt durch den Vergleich einer Entität mit anderen Entitäten beziehungsweise einer (impliziten) Gesamtheit. Das konstruktionsevozierende Element (KEE) \"am meisten\" / \"am wenigsten\" wird stets vor der \"Dimension\" realisiert. Die \"Dimension\" benennt die Skala des Vergleichs, d.h. die Skala, auf der einem Wert die höchste Stufe zugewiesen wird. Neben dem \"KEE\" und der \"Dimension\" besteht die Konstruktion aus zwei weiteren Kern-Konstruktionselementen (Kern-KE): dem \"Verglichenen\" (die Entität, der eine Eigenschaft im vollen Ausmaß zugewiesen wird) und der \"Vergleichsmenge\" (die Menge an Entitäten, die über die selbe Eigenschaft in geringerem Ausmaß verfügen), welche allerdings häufig impliziert bleibt. \"',\n",
              " 'Die \"Superlativ:am_meisten/wenigstenV-Konstruktion\" gehört zu der Familie der Vergleichskonstruktionen und weist einem Wert die höchste oder niedrigste Stufe auf einer Skala zu. Die Zuweisung erfolgt durch den Vergleich einer Handlung einer Entität mit anderen handelnden Entitäten beziehungsweise einer (impliziten) Gesamtheit. Das konstruktionsevozierende Element (KEE) \"am meisten\"/\"am wenigsten\" wird meist direkt vor der \"Verglichenen_Dimension\" realisiert. Die \"Verglichene_Dimension\" benennt die Skala des Vergleichs, d.h. die Skala, auf der einem Wert die höchste Stufe zugewiesen wird. Außerdem benennt die \"Verglichene_Dimension\" gleichzeitig auch die Handlung, die verglichen wird. Neben dem \"KEE\" und der \"Verglichenen_Dimension\" besteht die Konstruktion aus zwei weiteren Kern-Konstruktionselementen (Kern-KE): der \"Entität\" (die Einheit, die die in vollem/niedrigem Ausmaß zutreffende Handlung ausführt) und der \"Vergleichsmenge\" (die Menge an Entitäten, die die selbe Handlung in geringerem Ausmaß ausführen). \"',\n",
              " 'Die \"Superlativ:ART_meist-V.part.perf-Konstruktion\" gehört zu der Familie der Vergleichskonstruktionen und weist einem Wert die höchste Stufe auf einer Skala zu. Die Zuweisung erfolgt durch den Vergleich einer Entität mit anderen Entitäten beziehungsweise einer (impliziten) Gesamtheit. Der \"Determinierer\" steht stets vor dem KEE \"meist-\" (seltener: \"best-\", \"häufigst-\"), an das die meist als Adjektiv realisierte \"Dimension\" angehangen wird. Die \"Dimension\" benennt die Skala des Vergleichs, d.h. die Skala, auf der einem Wert die höchste Stufe zugewiesen wird. Neben dem \"Determinierer\", dem \"KEE\" und der \"Dimension\" besteht die Konstruktion aus zwei weiteren Kern-Konstruktionselementen (Kern-KE): dem \"Verglichenen\" (die Entität, der eine durch die \"Dimension\" ausgedrückte Eigenschaft in vollem Ausmaß zugewiesen wird) und der \"Vergleichsmenge\" (die Menge an Entitäten, die über die selbe Eigenschaft in geringerem Ausmaß verfügen). \"',\n",
              " 'Die \"Negation:NEG_Xund_schon_gar_nichtY-Konstruktion\" korreliert zwei Propositionen, die jeweils einen Punkt auf einem pragmatisch definiertem Maßstab markieren. Die erste Proposition ist pragmatisch stärker als die zweite Proposition; so zieht, pragmatisch betrachtet, die Wahrheit der ersten Proposition automatisch die Wahrheit der zweiten Proposition nach sich. Einfacher ausgedrückt: Ist die erste Proposition wahr, so muss die zweite Proposition ebenfalls wahr sein. Die erste Proposition ist darüber hinaus auch informativer als die zweite Proposition, da die erstgenannte pragmatisch betrachtet die letztgenannte einschließt, während diese wiederum die diskursrelevantere der beiden Propositionen ist. Die Konstruktion umfasst das konstruktionsevozierende Element (KEE) \"und schon gar nicht\"/\"und_erst_recht_nicht\", die internen Kern-Konstruktionselemente (Kern-KE) \"Negation\", \"Erstes_Konjunkt\" und \"Zweites_Konjunkt\" sowie das externe Kern-KE \"Fokuskontext\". Das \"Erste_Konjunkt\" geht dem \"KEE\" voraus, auf welches das \"Zweite_Konjunkt\" folgt. Der informationsstrukturelle Fokus liegt auf dem \"Ersten_Konjunkt\", das die Basis für den entstehenden Kontrast zwischen den zwei Propositionen bildet. Das \"Erste_Konjunkt\" und das \"Zweite_Konjunkt\" bilden jeweils einen Teil der beiden Propositionen ab. Das dritte KE, der \"Fokuskontext\", indiziert in der Regel den Rest der Proposition. Werden beide Konjunkte im Wechsel mit dem \"Fokuskontext\" kombiniert, können die einander gegenübergestellten Propositionen vollständig wiederhergestellt (oder: vervollständigt) werden. Im Gegensatz zum \"Ersten_Konjunkt\" und \"Zweiten_Konjunkt\" muss der \"Fokuskontext\" nicht zwangsläufig realisiert werden - wird der \"Fokuskontext\" nicht realisiert, drücken die beiden Konjunkte meist jeweils vollständige Propositionen aus. Darüber hinaus tritt das Kern-KE \"Negator\" auf. Der \"Negator\" negiert stets das \"Erste_Konjunkt\". \" Die zwei gegenübergestellten Propositionen sind hier die beiden Aussagen, dass Rösler nicht a) nach Berlin und b) ins Gesundheitsministerium wollte. Die Verwendung der \"Negation:NEG_Xund_schon_gar_nichtY-Konstruktion\" erfordert die Einstufung von Berlin (i.S.v. „Politik auf Bundesebene machen“) und Gesundheitsministerium (i.S.v. „Das Amt des Gesundheitsministers übernehmen“) auf einer \\'pragmatischen Skala\\', was dazu führt, dass die Aussage Rösler wollte nicht ins Gesundheitsministerium als \\'größere‘ Behauptung betrachtet werden muss als Rösler wollte nicht nach Berlin. Mit anderen Worten: Wenn Rösler schon nicht nach Berlin wollte, wollte er sicherlich nicht ins Gesundheitsministerium. Unter dem Aspekt der Negation wird die erste Proposition Rösler wollte nicht nach Berlin damit zur stärkeren der beiden kontrastierten Propositionen.',\n",
              " 'Die \"Superlativ:am_ADJ-sten-Konstruktion\" gehört zu der Familie der Vergleichskonstruktionen und weist einem Wert die höchste Stufe auf einer Skala zu. Die Zuweisung erfolgt durch den Vergleich einer Entität / Handlung einer Entität mit anderen Entitäten beziehungsweise einer (impliziten) Gesamtheit. Das konstruktionsevozierende Element (KEE) \"am_sten\" bildet gemeinsam mit der meist als Adjektiv realisierten \"Dimension\" den Superlativ. Die \"Dimension\" benennt die Skala des Vergleichs, d.h. die Skala, auf der einem Wert die höchste Stufe zugewiesen wird. Neben dem \"KEE\" und der \"Dimension\" besteht die Konstruktion aus zwei weiteren Kern-Konstruktionselementen (KE): dem \"Verglichenen\" (die Entität / Handlung, der eine Eigenschaft in vollem Ausmaß zugewiesen wird) und der \"Vergleichsmenge\" (die Menge an Entitäten, die über die selbe Eigenschaft in geringerem Ausmaß verfügen).',\n",
              " 'Die \"Zeitdeixis:inderSPEZIFIZIERUNG_ZEITEINHEIT-Konstruktion\" gehört zu den \"Zeitdeixis-Konstruktionen\" und dient dazu, deiktisch auf eine Zeitspanne Bezug zu nehmen, welche vom deiktischen Zentrum des Sprechers aus betrachtet in der Vergangenheit, Gegenwart oder Zukunft liegen kann. Die Konstruktion besteht aus dem Konstruktionsevozierenden Element (KEE) \"KEE\", den internen Kern-Konstruktionselementen (Kern-KE) \"Spezifizierung\" und \"Zeiteinheit\" und dem Nicht-Kern-Konstruktionselement (Nicht-Kern-KE) \"Quantifizierung\". Das \"KEE\" ist der erste, die \"Spezifizierung\" der zweite und die \"Zeiteinheit\" der dritte Bestandteil der lizensierten Reihenfolge der Konstruktion. Die \"Quantifizierung\" kann zusätzlich zwischen der \"Spezifizierung\" und der \"Zeiteinheit\" realisiert werden.',\n",
              " 'Die \"Zeitdeixis_Quantifizierung:bisvorNUM_ZEITEINHEIT-Konstruktion\" gehört zu den \"Zeitdeixis-\" und \"Quantifizierungs-Konstruktionen\" und dient der deiktischen Angabe einer Zeitspanne, die in der Vergangenheit endete. Die Konstruktion besteht aus dem Konstruktionsevozierenden Element (KEE) \"bis_vor\", den internen Kern-Konstruktionselementen (Kern-KE) \"Quantifizierung\" und \"Zeiteinheit\" und den Nicht-Kern-Konstruktionselementen (Nicht-Kern-KE) \"Annäherung\" und \"Intensivierung\". Das \"KEE\" ist der erste, die \"Quantifizierung\" der zweite und die \"Zeiteinheit\" der dritte Bestandteil der lizensierten Reihenfolge der Konstruktion. Zusätzlich kann die \"Annäherung\" zwischen dem \"KEE\" und der \"Quantifizierung\" und die \"Intensivierung\" vor dem \"KEE\" oder hinter der \"Zeiteinheit\" realisiert werden.',\n",
              " 'Bei der \"Gegenüberstellung:V2_V2-Konstruktion\" handelt es sich um eine Gegenüberstellung zweier Sachverhalte mit gegensätzlichen Inhalten/Propositionen. Die Form des Satzgefüges entspricht zwei Sätzen mit Verbzweitstellung. Diese Struktur bedingt die adversative Lesart. Die Konstruktion(Kxn) besteht aus den internen Kern-Konstruktionselementen (Kern-KE) \"Sachverhalt_1\" und \"Sachverhalt_2\". \"',\n",
              " 'Mit dieser Konstruktion drückt ein Sprecher aus, dass eine \"Information \" als gemeinsames Vorwissen der \"Kommunikationsbeteiligten \" und damit Teil des Common Ground gilt.',\n",
              " 'Die \"Konjunktiv:V.conj-II-Konstruktion\" gehört zu den Konjunktivkonstruktionen und wird neben der Bildung der indirekten Rede dazu verwendet, die Potenzialität bzw. Irrealität einer Aussage anzuzeigen (vgl. Sode 2023:9). Am gebräuchlichsten ist die Verwendung des Konjunktivs II in Konditionalsätzen (vgl. Sode 2023:36). Darüber hinaus kommt er in irrealen Vergleichs- oder Wunschsätzen vor (vgl. Sode 2023:37f.). Obligatorische Bestandteile dieser Konstruktion sind das externe Kern-Konstruktionselement (Kern-KE) \"Subjekt\", das interne Kern-KE \"Präteritalstamm\" sowie das konstruktionsevozierende Element (KEE), welches durch die Endungen \"e\", \"en\", \"est\" oder \"et\" realisiert wird.',\n",
              " 'Die \"Phrasenkompositum-Konstruktion\" gehört zur Familie der Determinativkomposita, bei denen ein Grundwort als Zweitbestandteil (Kern-Konstruktionselement \"Determinatum\") durch einen Erstbestandteil (Kern-Konstruktionselement \"Determinans\") semantisch näher bestimmt wird. Bei Phrasenkomposita wird das \"Determinatum\" durch eine Phrase realisiert (für eine ausführliche Beschreibung des Bildungstyps vgl. Hein 2015). Die Konstruktion besteht aus den Kern-Konstruktionselementen (Kern-KE) \"Determinans\" und \"Determinatum\". Die Konstruktionselemente werden stets in dieser Reihenfolge realisiert. Bei schriftlicher Realisierung kann das \"Determinans\" oder auch das ganze Phrasenkompositum in Anführungszeichen gesetzt werden. \"Die orthographische Norm sieht vor, dass zwischen den KE und innerhalb der Bestandteile des \"Erstglieds\" Bindestriche gesetzt werden (Amtliche Regeln 2018, §44). \" In Textsorten mit niedriger Orientierung an der orthographischen Norm (Chats, Internetthreads etc.) ist auch die Schreibung mit Spatium zwischen den KE gebräuchlich (vgl. z.B. Symanczyk Joppe 2018a, 2018b, 2021): \"',\n",
              " 'Mit der Konstruktion \"Einordnung:Klammern\" wird in verkürzter Form ein \"Bezugsausdruck\" durch einen \"weiteren Ausdruck\" inhaltlich erklärt oder verortet. Dabei folgt auf den \"Bezugsausdruck\" der \"weitere Begriff\" in \"Klammern\". Von ihrer Mutterkonstruktion \"Attribution:Klammern\" erbt die Konstruktion die phrasenstrukturellen Eigenschaften, d.h. dass der Kopf der öffnenden Klammer vorausgeht und durch die eingeklammerte Phrase modifiziert wird. Von der die gesamte Familie der Klammerkonstruktionen konstituierenden Konstruktion \"Sekundäre_Information:Klammern\" wird die Eigenschaft vererbt, dass der \"Klammerausdruck\" im Verhältnis zum Text außerhalb der Klammern, der \"Klammerumgebung\", als informationell nachrangig interpretiert wird (vgl. Ziem et al. 2023). Wie bei der Mutterkonstruktion \"Attribution:Klammern\" besteht eine Beschränkung auf die schriftliche Modalität.',\n",
              " 'Mit der auf die schriftliche Modalität beschränkten Konstruktion \"Konkretisierung:Klammern\" wird in verkürzter Form ein \"Bezugsausdruck\" durch einen unmittelbar folgenden weiteren \"Ausdruck\" in \"Klammern\" konkretisiert, präzisiert oder exemplifiziert. Die Konstruktion erbt von ihrer Mutterkonstruktion \"Attribution:Klammern\" die Eigenschaft, dass ein - i.d.R. nominaler - Kopf durch einen unmittelbar nachgestellten Ausdruck erweitert wird (vgl. Ziem et al. 2023). Sie kann syntaktisch selbständig (etwa in listenhaften Aufzählungen) vorkommen, wird aber vor allem als Satzglied oder Satzgliedteil geschriebener Sätze realisiert. In letzterem Falle fungiert die Konstruktion als sekundäre Prädikation. Weiterhin erbt sie von der die Familie der Klammerkonstruktionen konstituierenden Konstruktion \"Sekundäre_Information:Klammern\" die informationsstrukturelle Instruktion an den Leser, dem \"Klammerausdruck\" nachrangige Wichtigkeit im Vergleich mit der \"Klammerumgebung\" zuzuweisen (vgl. Ziem et al. 2023). Die Konkretisierung kann die Form einer erschöpfenden Aufzählung der unter das Bezugsausdrucksdenotat fallenden Gattungen oder Entitäten haben (vgl. die Tochterkonstruktion \"Konkretisierung_exhaustiv:Klammern\") oder sich, zum Zwecke der Illustration oder Exemplifikation, auf einzelne daraus beschränken (vgl. \"Konkretisierung_exemplifizierend:Klammern\"). Weiterhin ist es möglich, dass die Extension des \"Bezugsausdrucks\" durch den \"Klammerausdruck\" eingeschränkt wird (vgl. \"Konkretisierung_restriktiv:Klammern\").',\n",
              " 'Mit der Konstruktion \"Verweis:Klammern\" wird in verkürzter Form dargestellt darauf verwiesen, wo eine Entität oder eine Aussage zu finden ist. Dabei folgt auf den \"Bezugsausdruck\", der auf das zu Verortende verweist, in \"Klammern\" als \"Klammerausdruck\" der Verweis auf den Ort. \" Von ihrer Mutterkonstruktion \"Attribution:Klammern\" erbt die Konstruktion die phrasenstrukturellen Eigenschaften, d.h. dass der Kopf der öffnenden Klammer vorausgeht und durch die eingeklammerte Phrase modifiziert wird (vgl. Ziem et al. 2023). Von der die gesamte Familie der syntaktischen Klammerkonstruktionen konstituierenden Konstruktion \"Sekundäre_Information:Klammern\" erbt die Konstruktion die Eigenschaft, dass der \"Klammerausdruck\" im Verhältnis zum Text außerhalb der Klammern, der \"Klammerumgebung\", als informationell nachrangig interpretiert wird (vgl. Ziem et al. 2023).',\n",
              " 'Mit der Konstruktion \"Attribution:Klammern\" wird in verkürzter Form eine \"sprachliche oder inhaltliche Angabe\" über einen \"Bezugsausdruck\" gemacht. Die \"Angabe\" folgt dabei i.d.R. unmittelbar auf das \"Bezugswort\" und wird von \"einer öffnenden und einer schließenden Klammer\" umschlossen. Im Einklang mit der Mutterkonstruktion \"Sekundäre_Information: Klammern\" haben die \"Klammern\" die Funktion, den \"Klammerausdruck\" bzw. dessen Denotation als im Zusammenhang nachrangige Information zu markieren. Ist der \"Bezugsausdruck\" ein Satzglied oder Satzgliedteil, so entspricht die Konstruktion einer sekundären Prädikation, in welcher entweder der \"Bezugsausdruck\" vor der öffnenden Klammer eine Argumentstelle des vom \"Klammerausdruck\" denotierten Prädikats füllt oder umgekehrt. Die Konstruktion hat den Status einer Phrase; der \"Bezugsausdruck\" bildet den Kopf der Phrase. Die konstruktionsevozierenden \"Klammern\" können somit als Elemente einer graphematischen Syntax aufgefasst werden. Da der \"Bezugsausdruck\" in den meisten Fällen nominal ist, stellt seine Erweiterung durch die Konstruktion eine Form der Attribution dar. Dabei können - trotz Fehlen eines entsprechenden Verbs - allein durch die Filler der KE und das Verhältnis zwischen diesen - verschiedene Frames aufgerufen werden (vgl. Ziem et al 2023). Die \"Attribution:Klammern\"-Konstruktion hat mehrere Tochterkonstruktionen. Als welche davon die Konstruktion interpretiert wird, hängt wesentlich von der Interpretation der beiden Kernelemente ab: * Handelt es sich bei beiden KE um Werte oder wird eines der KE explizit (z.B. durch Anführungszeichen oder sprachlichen Systemwechsel) als sprachlicher Ausdruck ausgezeichnet, so erfolgt i.d.R. eine Interpretation als \"Entsprechung:Klammern\". \" * Verweist der \"eingeklammerte Ausdruck\" auf eine Eigenschaft des Denotats des \"Bezugsausdrucks X\" oder auf einen mit ihm assozierten Begriff, so erfolgt i.d.R. eine Interpretation als \"Einordnung:Klammern\". \" * Gibt der \"eingeklammerte Ausdruck\" Hyponyme des Denotats des \"Bezugsausdrucks X\" an oder referiert auf Gattungen/Entitäten, auf welche die im \"Bezugsausdrucks X\" eingeführte Eigenschaft zutrifft, so erfolgt i.d.R. eine Interpretation als \"Konkretisierung:Klammern\". \" * Werden Bezugswörtern Werte zugeordnet (zum Beispiel in mehreren koordinierten Klammerkonstruktionen), so erfolgt eine Interpretation als Zuordnung:Klammern. \" Aufgrund der Knappheit der Konstruktion wird sie häufig in Aufzählungen (Listen u.Ä.) verwendet.',\n",
              " 'Die Konstruktion \"Direkte_Rede_Ebenenwechsel:Klammern\" findet Anwendung, wenn dialogische Sprache (Interviews, Schauspiele) mithilfe der \"Direkte_Rede:SprecherIn_Doppelpunkt_Turn\"-Konstruktion verschriftet wird. Die \"Klammern\" markieren in dieser Konstruktion, dass der \"Klammerausdruck\" nicht Teil der ihn umgebenden \"direkten Rede\" ist. Die Konstruktion ist auf die schriftliche Modalität beschränkt. Der \"Klammerausdruck\" kann paraverbale (leise) und nonverbale (lacht) Informationen enthalten. In vielen Fällen wird eine an der entsprechenden Stelle des Redebeitrags stattfindende Handlung der \"sprechende Person\" thematisiert. Oft expliziert der \"Klammerausdruck\" auch, auf welche Weise der nachfolgender Teil von deren Redebeitrag realisiert wird. Im Gegensatz zu den Graphematischen Parenthesen der Konstruktionsfamilie \"Attribution:Klammern\" steht das \"eingeklammerte Element\" in dieser Konstruktion häufig vom \"Bezugswort\" getrennt; Vorrang hat, dass die Chronologie der Rede und des para-/nonverbalen Signals korrekt wiedergegeben wird.',\n",
              " '\"Bei der \"Direkte_Rede:SprecherIn_Doppelpunkt_Turn-Konstruktion\" handelt es sich um eine textsortenspezifische Konstruktion, die konstitutiv für dialogische Textsorten (Interview, Bühnenstück) ist. Bei dieser Konstruktion wird absatzinitial \"ein Sprecher oder eine Sprecherin\" genannt, gefolgt von einem \"Doppelpunkt\" und dem kompletten \"Turn des/der Sprechenden\". Graphisch wird der Turn dabei meist eingeschoben oder in einem neuen Absatz realisiert. Die Hauptfunktion der Konstruktion besteht darin, verkürzt und übersichtlich die Urheber von Redebeiträgen zu kennzeichnen. Entsprechend tritt sie meist nicht isoliert auf, sondern findet meist in größeren Textteilen oder im gesamten Text durchweg Anwendung. \"',\n",
              " 'Die \"Durchschnittlicher_Wert:WERT_PRÄP_EINHEIT-Konstruktion\" ist die Mutter der \"Durchschnittlicher_Wert-Familie\" und zeigt an, dass eine gewisse Situation (ein Zustand, ein Verbrauch oder Kosten) in einer bestimmten Periode eintritt. Mithilfe der Konstruktion kann z. B. eine Frequenz angegeben werden, in der ein Zustand eintritt, oder eine Strecke, die in einer gewissen Zeit zurückgelegt wird. Die \"Durchschnittlicher_Wert-Konstruktion\" verfügt über das konstruktionsevozierende Element (KEE) am, auf, im, in der, je oder pro und die Kern-Konstruktionselemente (Kern-KE) \"Wert\" und \"Messbare_Einheit\". \"',\n",
              " 'Mit der Konstruktion \"Kommentar:Klammern\" kann Überraschung oder kritische Distanz gegenüber einem Sachverhalt oder einem Teilaspekt des Sachverhalts ausgedrückt werden. Die Konstruktion besteht aus einem \"Bezugsausdruck\" als Stimulus, auf den unmittelbar ein oder mehrere Frage- und/oder Ausrufezeichen in \"Klammern\" folgen. Ein Ausrufezeichen als \"Klammerausdruck\" markiert den \"Bezugsausdruck\" als bemerkenswert, hervorhebenswert oder Überraschung auslösend. Ein Fragezeichen als \"Klammerausdruck\" markiert den \"Bezugsausdruck\" als zweifelhaft oder erklärungsbedürftig. Die Formseite der Konstruktion ist in der Schrift anzusiedeln; es gibt kein direktes lautliches Äquivalent. Sie entspricht der Modifizierung durch lexikalisches Material wie überraschend, bemerkenswert oder unglaublich . Von ihrer Mutterkonstruktion \"Attribution:Klammern\" erbt die Konstruktion die phrasenstrukturellen Eigenschaften, d.h. dass der Kopf der öffnenden Klammer vorausgeht und durch die eingeklammerte Phrase modifiziert wird. Von der die gesamte Familie der syntaktischen Klammerkonstruktionen konstituierenden Konstruktion \"Sekundäre_Information:Klammern\" erbt die Konstruktion die Eigenschaft, dass der \"Klammerausdruck\" im Verhältnis zum Text außerhalb der Klammern, der \"Klammerumgebung\", als informationell nachrangig interpretiert wird (vgl. Ziem et al. 2023).',\n",
              " 'Die Konstruktion \"Gegenüberstellung:es_gab_eine_Zeit_XP\" besteht aus einer Form von \"es gibt mit einer zählbaren Realisierung des Nomens Zeit als Objekt\" (typischerweise indefinit, mit indefinitem Artikel oder im artikellosen Plural) sowie einer \"genaueren Bestimmung der Zeitspanne\". Zur Bedeutung der Konstruktion gehört ferner eine \"zweite, gegenübergestellte Zeitspanne\", die in den meisten Fällen nullinstantiiert ist. Diese kann als durch diese Konstruktion konventionalisierte konversationelle Implikatur angesehen werden.',\n",
              " 'Die \"Relative_Frequenz-Konstruktion\" gehört zur Familie der \" Relativer_Wert-Konstruktionen\" und zeigt ein Ereignis an, das zu einer gewissen \"Zeit\" in einer bestimmten \"Frequenz\" eintritt.',\n",
              " 'Die \"Superlativ:NP_ohnegleichen-Konstruktion\" gehört zu der Familie der Vergleichskonstruktionen und weist einem Wert die höchste Stufe auf einer Skala zu. Die Zuweisung erfolgt durch den Vergleich einer Entität mit einer impliziten Gesamtheit. Die superlative Lesart wird durch die Verwendung des konstruktionsevozierenden Elements (KEE) \"ohnegleichen\" oder \"sondergleichen\" hervorgerufen, das direkt hinter dem internen Kern-Konstruktionselement (Kern-KE) \"Verglichene_Dimension\" realisiert wird. Die \"Verglichene_Dimension\" benennt die Skala des Vergleichs (d.h. die Skala, auf der einem Wert die höchste Stufe zugewiesen wird) und die Instanz, die auf dieser Skala polar eingeordnet wird. Zusätzlich umfasst die Konstruktion das externe Kern-KE \"Entität\". Der \"Entität\" wird die durch die \"Verglichene_Dimension\" realisierte Eigenschaft/Fähigkeit/Beschreibung in vollem Ausmaß zugewiesen.',\n",
              " 'Die \"Durchschnittlicher_Kraftstoffverbrauch:VERBRAUCH_pro_DISTANZ-Konstruktion\" gehört zur Familie der \"Durchschnittlicher_Wert-Konstruktionen\". Sie zeigt einen \"Verbrauch\" in Bezug auf eine \"Distanz\" an. Die Treibstoffart (z. B. Benzin, Kerosin) bleibt dabei häufig ungenannt.',\n",
              " 'Die \"Superlativ:ART_NP1_der_NP1s-Konstruktion\" gehört zu der Familie der Vergleichskonstruktionen und weist einem Wert die höchste Stufe auf einer Skala zu. Die Zuweisung erfolgt durch den Vergleich einer Entität mit einer Menge von gleich benannten Entitäten. Die Konstruktion umfasst drei interne Kern-Konstruktionselemente (Kern-KE): Der \"Determinierer\" wird stets vor der \"Verglichenen_Dimension\" realisiert. Die \"Verglichene_Dimension\" benennt die Skala des Vergleichs (d.h. die Skala, auf der einem Wert die höchste Stufe zugewiesen wird) und die Instanz, die auf dieser Skala polar eingeordnet wird. Direkt hinter der \"Verglichenen_Dimension\" steht stets die \"Vergleichsmenge\". Als \"Vergleichsmenge\" wird das gleiche Nomen wie in der \"Verglichenen_Dimension\" realisiert; allerdings steht das als \"Vergleichsmenge\" realisierte Nomen immer im Genitiv Plural. Zusätzlich umfasst die Konstruktion das externe Kern-KE \"Entität\". Der \"Entität\" wird die durch die \"Verglichene_Dimension\" realisierte Eigenschaft/Beschreibung in vollem Ausmaß zugewiesen.',\n",
              " 'Die \"Superlativ_Komposition:ADJ-st-EINHEIT-Konstruktion\" gehört zu der Familie der Vergleichskonstruktionen und weist einem Wert die höchste Stufe auf einer Skala zu. Die Zuweisung erfolgt durch den Vergleich einer messbaren Einheit mit einer impliziten Gesamtheit entsprechender Werte. Die Konstruktion besteht aus den internen Kern-Konstruktionselementen (Kern-KE) \"Intensivierung\" und \"Verglichene_Dimension\". Die \"Intensivierung\" ist stets ein Adjektiv, an das das Superlativmorphem \"-st\" angehangen wird. Sie bildet das Erstglied des Kompositums. Das Zweitglied bildet die \"Verglichene_Dimension\", die die Einheit des verglichenen Wertes, der in vollem Ausmaß vorliegt, festlegt. Damit benennt die \"Verglichene_Dimension\" gleichzeitig die Skala des Vergleichs, d.h. die Skala, auf der einem Wert die höchste Stufe zugewiesen wird. Die Konstruktion verfügt zusätzlich über das externe Kern-KE \"Wert\". Als \"Wert\" kann die Einheit, die auf der Skala polar einzuordnen ist, spezifiziert werden.',\n",
              " 'Die \"Superlativ:INTENSIVIERUNG_NP-Konstruktion\" gehört zu der Familie der Vergleichskonstruktionen und weist einem Wert die höchste Stufe auf einer Skala zu. Die Zuweisung erfolgt durch den Vergleich einer Eigenschaft, Fähigkeit oder Beschreibung einer Entität mit einer impliziten Gesamtheit. Die superlative Lesart wird durch die \"Intensivierung\" (eine Intensitätspartikel oder ein Adjektiv in der Funktion einer Intensitätspartikel mit impliziter superlativer Lesart) ausgelöst, die vor der \"Verglichenen_Dimension\" realisiert wird. Die \"Verglichene_Dimension\" benennt die Skala des Vergleichs (d.h. die Skala, auf der einem Wert die höchste Stufe zugewiesen wird) und die Instanz, die auf dieser Skala polar eingeordnet wird. Zusätzlich umfasst die Konstruktion das externe Kern-Konstruktionselement (Kern-KE) \"Entität\". Der \"Entität\" wird die durch die \"Verglichene_Dimension\" realisierte Eigenschaft, Fähigkeit oder Beschreibung in vollem Ausmaß zugewiesen.',\n",
              " 'Die \"Superlativ:INTENSIVIERUNG_ADJ-Konstruktion\" gehört zu der Familie der Vergleichskonstruktionen und weist einem Wert die höchste Stufe auf einer Skala zu. Die Zuweisung erfolgt durch den Vergleich einer Entität / Handlung einer Entität mit einer impliziten Gesamtheit. Die superlative Lesart wird durch die \"Intensivierung\" (eine Intensitätspartikel oder ein Adjektiv in der Funktion einer Intensitätspartikel mit impliziter superlativer Lesart) ausgelöst, die vor der \"Dimension\" realisiert wird. Die \"Dimension\" benennt die Skala des Vergleichs, d.h. die Skala, auf der einem Wert die höchste Stufe zugewiesen wird. Zusätzlich umfasst die Konstruktion das externe Kern-Konstruktionselement (Kern-KE) \"Verglichenes\" (die Entität / Handlung, der eine Eigenschaft in vollem Ausmaß zugewiesen wird) und das Nicht-Kern-KE \"Annäherung\", das die superlative Lesart relativieren kann.',\n",
              " 'Die \"Durchschnittliche_Geschwindigkeit:STRECKE_Präp_ZEIT-Konstruktion\" gehört zur Familie der \"Relativer_Wert-Konstruktionen\" und zeigt die Geschwindigkeit in Bezug auf eine räumliche Distanz an, die während einzelner (wiederholter) Zeitabschnitte zurückgelegt werden würde. Das Anzeigen der Geschwindigkeit erfolgt durch die Angabe einer \"Strecke\", die mithilfe eines der KEE \"pro\", \"in der\", \"am\" oder \"im\" mit einer Einheit der \"Zeit\" in Bezug gesetzt wird.',\n",
              " 'Die \"Superlativ:ADJ-st_ADJ-Konstruktion\" gehört zu der Familie der Vergleichskonstruktionen und weist einem Wert die höchste Stufe auf einer Skala zu. Die Zuweisung erfolgt durch den Vergleich einer Entität / Handlung einer Entität mit einer impliziten Gesamtheit. Die Konstruktion besteht aus den internen Kern-Konstruktionselementen (Kern-KE) \"Intensivierung\" und \"Dimension\". Die \"Dimension\" gibt an, welche Eigenschaft in vollem Ausmaß vorliegt und benennt somit die Skala des Vergleichs, d.h. die Skala, auf der einem Wert die höchste Stufe zugewiesen wird. An die \"Intensivierung\" wird das Superlativmorphem \"-st\" angehangen. Die Eigenschaft, die im vollen Ausmaß vorliegt, wird selbst also nicht gesteigert. Stattdessen wird ein gesteigertes Adjektiv direkt vor der Eigenschaft realisiert und die superlative Bedeutung so auf die \"Dimension\" übertragen. Zusätzlich umfasst die Konstruktion das externe Kern-KE \"Verglichenes\" (die Entität oder Handlung einer Entität, der eine Eigenschaft in vollem Ausmaß zugewiesen wird).',\n",
              " 'Die \"Superlativ_Wortbildung:INTENSIVIERUNG-ADJ-Konstruktion\" gehört zu der Familie der Vergleichskonstruktionen und weist einem Wert die höchste Stufe auf einer Skala zu. Die Zuweisung erfolgt durch den Vergleich einer Entität mit einer impliziten Gesamtheit. Die superlative Lesart entsteht in den meisten Fällen durch die Komposition aus einer Intensitätspartikel, der \"Intensivierung\", und der \"Dimension\", die meist als Adjektiv realisiert wird. Die \"Dimension\" gibt an, welche Eigenschaft in vollem Ausmaß vorliegt und benennt somit die Skala des Vergleichs, d.h. die Skala, auf der einem Wert die höchste Stufe zugewiesen wird. Neben diesen beiden internen Kern-Konstruktionselementen (Kern-KE) besteht die Konstruktion aus einem externen Kern-KE, dem \"Verglichenen\". Das \"Verglichene\" ist die Entität, der eine durch die \"Dimension\" ausgedrückte Eigenschaft in vollem Ausmaß zugewiesen wird.',\n",
              " 'Mit der Konstruktion (Kxn) \"Personenreferenz_expressiv:Vorname_Zitat_Nachname\", die zu den Personennamen-Kxn, genauer zu der Unterklasse der Mittelnamen-Kxn gehört (vgl. Finkbeiner/Meibauer 2016: 55), lässt sich auf scherzhaft-pejorative Weise auf eine Person Bezug nehmen, indem zwischen deren \"Vor-\" und \"Nachnamen\" ein diese Person charakterisierendes, in der Regel durch \"Anführungszeichen\" markiertes \"Zitat\" eingeschoben wird, wobei dieses nicht zwangsläufig von ihr selbst stammen muss bzw. auch fiktiver Natur sein kann. Das Besondere an der Kxn besteht somit darin, dass an der ‚Mittelnamenposition‘ eine syntaktische Einheit an einer Stelle eingefügt werden kann, die normalerweise nur für Eigennamen (und somit v.a. nicht-phrasale Kategorien) reserviert ist (z.B. Wolfgang [u]Amadeus[/u] Mozart, vgl. Finkbeiner/Meibauer 2016: 37). Die allgemeine pragmatische Funktion dieser Kxn besteht darin, die Aufmerksamkeit auf eine bestimmte stereotype Eigenschaft des Namenträgers zu lenken, die durch die zitierte (originale oder fiktive) Äußerung angedeutet wird. Wenn ein Sprecher z.B. Oliver \"ich-will-den-Erfolg-sofort\" Kahn äußert, bezieht er sich nicht nur auf Oliver Kahn, sondern vermittelt auch, dass Oliver Kahn ein sehr ehrgeiziger oder ungeduldiger Mensch ist. Relevant für eine gelungene Verwendung der Kxn ist das gemeinsame Hintergrundwissens von Sprecher und Hörer (vgl. Finkbeiner/Meibauer 2016: 50f): So kann es notwendig sein, dass das relevante Wissen über den Namensträger bzw. die Verwendungssituation, in der die als Zitat gekennzeichnete Äußerung getätigt wurde (wer spricht wann, wo, zu wem?) dem Hörer bereits vor der betreffenden Äußerung zur Verfügung steht. \" \"',\n",
              " 'Die \"Superlativ:ART_ADJ-(e)st-Konstruktion\" gehört zu der Familie der Vergleichskonstruktionen und weist einem Wert die höchste Stufe auf einer Skala zu. Die Zuweisung erfolgt durch den Vergleich einer Entität mit anderen Entitäten beziehungsweise einer (impliziten) Gesamtheit. Der \"Determinierer\" steht stets vor der meist als Adjektiv realisierten \"Dimension\", an die das konstruktionsevozierende Element (KEE) \"(e)st\" angehangen wird. Die \"Dimension\" benennt die Skala des Vergleichs, d.h. die Skala, auf der einem Wert die höchste Stufe zugewiesen wird. Neben dem \"Determinierer\", dem \"KEE\" und der \"Dimension\" besteht die Konstruktion aus zwei weiteren Kern-Konstruktionselementen (Kern-KE): dem \"Verglichenen\" (die Entität, der eine durch die \"Dimension\" ausgedrückte Eigenschaft in vollem Ausmaß zugewiesen wird) und der \"Vergleichsmenge\" (die Menge an Entitäten, die über die selbe Eigenschaft in geringerem Ausmaß verfügen). \"',\n",
              " 'Die Konstruktion \"Intensivierung_Elativkompositum:Mords-N-Konstruktion\" zeichnet sich in semantischer Hinsicht dadurch aus, dass das Konstruktionsevozierende Element (KEE) \"Mords-\" das interne Kern-Konstruktionselement (Kern-KE) \"intensivierte_Konstituente\" intensiviert, verstärkt oder als besonders groß bzw. gewichtig ausweist. Die beiden Bestandteile der Komposition können zusammen- oder getrennt voneinander geschrieben werden. Werden sie getrennt voneinander geschrieben, wird das \"KEE\" klein geschrieben. Die Interpretation des stets als nominale Einheit realisierten KE \"intensivierte_Konstituente\" ist v.a. augmentativ: \" Von Determinativkomposita unterscheiden sich Elativkomposita formseitig durch ihr Betonungsmuster: Während bei Determinativkomposita der Hauptakzent auf dem Erstbestandteil liegt, ist beim Elativkompositum der Zweitbestandteil mindestens genauso prominent. Es kann dabei - je nach Lage des Wortakzents bei den Kompositumsbestandteilen - zu Akzentzusammenstößen (beat clashes) kommen (vgl. Uhmann 1997: 131-135). Dieses Muster ist im Deutschen recht ungewöhnlich und findet für gewöhnlich Anwendung, wenn einer Konstituente besonders starke Emphase verliehen wird.',\n",
              " 'Die Konstruktion \"Intensivierung_Elativkompositum:sau-X\" zeichnet sich in semantischer Hinsicht dadurch aus, dass das Konstruktionsevozierende Element (KEE) \"sau-\" das interne Kern-Konstruktionselement (Kern-KE) \"intensivierte_Konstituente\" intensiviert oder verstärkt. Intensivierung ist typisch für Komposita mit adjektivischem Zweitbestandteil wie der vorliegenden Konstruktion: \" Von Determinativkomposita unterscheiden sich Elativkomposita formseitig durch ihr Betonungsmuster: Während bei Determinativkomposita der Hauptakzent auf dem Erstbestandteil liegt, ist beim Elativkompositum der Zweitbestandteil mindestens genauso prominent. Es kann dabei - je nach Lage des Wortakzents bei den Kompositumsbestandteilen - zu Akzentzusammenstößen (beat clashes) kommen (vgl. Uhmann 1997: 131-135). Dieses Muster ist im Deutschen recht ungewöhnlich und findet für gewöhnlich Anwendung, wenn einer Konstituente besonders starke Emphase verliehen wird.',\n",
              " 'Die Konstruktion \"Intensivierung_Elativkompositum:Riesen-N\" zeichnet sich in semantischer Hinsicht dadurch aus, dass das Konstruktionsevozierende Element (KEE) \"Riesen-\" das interne Kern-Konstruktionselement (Kern-KE) \"Intensivierte_Konstituente\" als besonders groß bzw. gewichtig ausweist. Die beiden Bestandteile des Kompositums können zusammen- oder mit einem Bindestrich voneinander getrennt geschrieben werden. Die Interpretation des stets als nominale Einheit realisierten KE \"Intensivierte_Konstituente\" ist v.a. augmentativ: \" Von Determinativkomposita unterscheiden sich Elativkomposita formseitig durch ihr Betonungsmuster: Während bei Determinativkomposita der Hauptakzent auf dem Erstbestandteil liegt, ist beim Elativkompositum der Zweitbestandteil mindestens genauso prominent. Es kann dabei - je nach Lage des Wortakzents bei den Kompositumsbestandteilen - zu Akzentzusammenstößen (beat clashes) kommen (vgl. Uhmann 1997: 131-135). Dieses Muster ist im Deutschen recht ungewöhnlich und findet für gewöhnlich Anwendung, wenn einer Konstituente besonders starke Emphase verliehen wird.',\n",
              " 'Die \"Exklamativ:ART_N-Konstruktion\" bringt eine Emotion in Hinblick auf einen \"Stimulus\" zum Ausdruck. Die Konstruktion setzt sich aus den Kern-Konstruktionselementen (Kern-KE) \"Artikel\" und \"Stimulus\" zusammen. Ein bestimmter oder unbestimmter \"Artikel\" bildet den Einstieg in die Konstruktion, worauf der \"Stimulus\" (also das, was emotional hervorgehoben wird) folgt.',\n",
              " 'Die Konstruktion \"Intensivierung_Elativkompositum:X-Y\" zeichnet sich in semantischer Hinsicht dadurch aus, dass der \"Erstbestandteil\" den \"Zweitbestandteil\" intensiviert, verstärkt oder als besonders groß bzw. gewichtig ausweist. Intensivierung ist dabei typisch für Komposita mit adjektivischem Zweitbestandteil: \" Bei nominalem Zweitbestandteil ist die Interpretation v.a. augmentativ: \" Von Determinativkomposita unterscheiden sich Elativkomposita formseitig durch ihr Betonungsmuster: Während bei Determinativkomposita der Hauptakzent auf dem Erstbestandteil liegt, ist beim Elativkompositum der Zweitbestandteil mindestens genauso prominent. Es kann dabei - je nach Lage des Wortakzents bei den Kompositumsbestandteilen - zu Akzentzusammenstößen (beat clashes) kommen (vgl. Uhmann 2015[1997]: 131-135). Dieses Muster ist im Deutschen recht ungewöhnlich und findet für gewöhnlich Anwendung, wenn einer Konstituente besonders starke Emphase verliehen wird.',\n",
              " 'Die Konstruktion \"Äquativ:ein_NPunter_denNP\" gehört der Familie der Vergleichkonstruktionen und der Kategorie Gleichheit an. Dadurch dass das KEE \"unter_den\" eine Hervorhebung des \"Verglichenen\" aus der \"Vergleichsmenge\" anzeigt, kommt ein superlativischer Charakter zustande. Die Konstruktion besteht aus einem \"Verglichenen\" und einer Komparationsbasis, die wiederum aus einem \"Bezugswert\" und einer \"Vergleichsmenge\" besteht. Zusammen mit dem KEE \"unter_den\" evozieren diese internen Kern-Konstruktionselemente (Kern-KE) die Konstruktion. Die Besonderheit dieser zweiteiligen Komparationsbasis besteht darin, dass der \"Bezugswert\" das \"Verglichene\" hinsichtlich eines bestimmten Aspekts als herausragend prädiziert, während die \"Vergleichsmenge\" anzeigt, in welchem Rahmen, also im Bezug auf welche Entitäten, der Vergleich gültig ist. Dabei ist das Verglichene stets ein Repräsentant der in der \"Vergleichsmenge\" ausgedrückten Gruppe.',\n",
              " 'Die \"Kausaler_Konnektor:weil-Konstruktion\" dient der Verknüpfung zweier separater Inhalte zu einem Kausalgefüge. Das Konstruktionsevozierende Element (KEE) \"weil\" bildet gemeinsam mit dem unmittelbar darauffolgenden Konstruktionselement (KE) \"Grund\" eine Konnektorphrase. Sie kann dem KE \"Folge\" voran- oder nachgestellt sein oder darin integriert werden. Ebenfalls möglich ist die Realisierung des KE \"Grund\" als Antwort auf eine warum-Frage. Daneben kann das Nicht-Kern-KE \"Modifikator\" verwendet werden, um die Geltung des KE \"Grund\" zu modifizieren. Optional kann zusätzlich das Korrelierende Element (KorE) \"Korrelat\" realisiert werden, das in das KE \"Folge\" integriert wird oder ihm unmittelbar folgt.',\n",
              " 'Die Konstruktion \"Äquativ:einem_NPgleich\" gehört zu den Vergleichskonstruktionen und zeigt die Gleichheit der zwei Entitäten \"Verglichenes\" und \"Bezugswert\" hinsichtlich einer oder mehrerer Eigenschaften an. Sie verfügt über die Kern-Konstruktionselemente (Kern-KE) \"Verglichenes\" und \"Bezugswert\" sowie über das konstruktionsevozierende Element (KEE) \"gleich\". Dabei stehen \"Bezugswert\" und \"KEE\" in Form eines Einschubs zusammen im Satz. Meist ist das \"Verglichene\" der Parenthese nachgestellt.',\n",
              " 'Die Konstruktion \"Äquativ:einemNPgleichkommen\" gehört zu den Vergleichskonstruktionen und stellt eine Gleichheit von zwei Entitäten dar. Sie verfügt über die Kern-Konstruktionselemente (Kern-KE) \"Verglichenes\" und \"Bezugswert\" sowie über das konstruktionsevozierende Element (KEE) \"gleichkommen\".',\n",
              " 'Bei der Konstruktion \"Additiv_Koordinativkomposita:X-X\" handelt es sich um einen Untertyp der Komposita, bei dem \"Erst-\" und \"Zweitbestandteil\" semantisch in einem additiven Verhältnis stehen (im Gegensatz zu den Determinativkomposita, bei denen der Erst- den Zweitbestandteil semantisch spezifiziert und den Elativkomposita, bei denen der erste den zweiten Bestandteil intensiviert). Charakteristisch für diesen Bildungstyp ist, dass Erst- und Zweitbestandteil derselben Wortart angehören; in semantischer Hinsicht sind sie Kohyponyme bzw. \"von der gleichen semantischen Bezeichnungsklasse\" (Pittner 1991: 268).',\n",
              " 'Die \"Kausaler_Konnektor:weilX\"-Konstruktion\" dient der Verknüpfung zweier separater Inhalte zu einem Kausalgefüge. Das Konstruktionsevozierende Element (KEE) \"weil\" bildet gemeinsam mit dem unmittelbar darauffolgenden Konstruktionselement (KE) \"Grund\" eine Konnektorphrase. Sie folgt unmittelbar auf das KE \"Folge\" oder stellt eine Antwort auf eine darin geäußerte Frage dar. Das KE \"Grund\" transportiert expressive Komponenten, die nicht innerhalb der Konstruktion selbst expliziert werden, sondern aus dem Kontext erschlossen werden müssen. Unterstützend können die Korrelierenden Elemente (KorE) \"wegen\" sowie \"und_so\" vor bzw. nach dem KE \"Grund\" platziert werden.',\n",
              " 'Die \"Intensivierung:INTENSIVIERUNG_N-Konstruktion\" gehört zu der Familie der Intensivierungskonstruktionen und zeigt eine Verstärkung der an die \"Intensivierung\" anknüpfenden \"Gradierten_Dimension\" an. Obligatorische Bestandteile dieser Konstruktion sind die drei internen Kern-Konstruktionselemente (Kern-KE) \"Intensivierung\", \"Gradierte_Dimension\" und \"Entität\".',\n",
              " 'Die <strong>Intensivierung:<em>mit_Abstand</em>_ADJ.sup-Konstruktion</strong> gehört zu der Familie der Intensivierungskonstruktionen. Mit ihr wird eine superlative Eigenschaft in Bezug auf eine Entität oder Handlung einer Entität noch weiter gesteigert und somit intensiviert, um von möglichen Alternativen nach unten hin abzugrenzen und eine noch stärkere Polarität zu erzeugen. Die Intensivierung des superlativen Adjektivs, des internen Kern-Konstruktionselements (Kern-KE) \"Dimension\", wird durch das Konstruktionsevozierende Element (KEE) \"KEE\" ausgelöst, das stets vor der \"Dimension\" realisiert wird. Zusätzlich umfasst die Konstruktion das externe Kern-KE \"Gradiertes\", auf das sich die durch das \"KEE\" intensivierte \"Dimension\" bezieht.',\n",
              " 'Die \"Tautologie:X1istX1-Konstruktion\" gehört zu den Tautologiekonstruktionen und stellt die logisch wahre, tautologische Aussage auf, dass X mit sich selbst identisch ist. Die Konstruktion besteht aus den beiden internen Kern-Konstruktionselementen (Kern-KE) \"Kategorie\" und \"Kopula\". Dabei können diese beiden KE jedoch auch abwechselnd wiederholt realisiert werden, wodurch die Konstruktion verlängert und die Aussage der Konstruktion verstärkt wird. Die Konstruktion wird, obgleich der eigentliche Informationsinhalt der Aussage null ist, genutzt, um zum Ausdruck zu bringen, dass es einen oder mehrere Aspekte von Mitgliedern der \"Kategorie\" gibt, die nicht geändert werden können, womit eine Aufforderung zur oder ein Eingeständnis von Akzeptanz einhergeht. Welche Aspekte relevant sind, ist kontextabhängig. Nach Stumpf (2015) \"[...] dient [die Konstruktion] in bestimmten Gesprächssituationen \\'zur Legitimierung von Handeln\\' (Gülich 1978: 21) bzw. zu Verstärkung einer Aussage[.]\"',\n",
              " 'Die \"Konjunktiv:V.conj-I-Konstruktion\" gehört zu den Konjunktivkonstruktionen und dient neben der Bildung der indirekten Rede dazu, \"Aufforderungen, Erlaubnisse, Wünsche, Empfehlungen oder Setzungen von Annahmen aus[zu]drücken.\" (Sode 2023:21) Obligatorische Bestandteile dieser Konstruktion sind das externe Kern-Konstruktionselement (Kern-KE) \"Subjekt\", das interne Kern-KE \"Präsensstamm\" sowie das Konstruktionsevozierende Element (KEE), welches durch die Endungen \"e\", \"en\", \"est\" oder \"et\" realisiert wird.',\n",
              " 'Die <strong>Intensivierung:<em>ganz_und_gar</em>_ADJ-Konstruktion</strong> gehört gemeinsam mit der <strong>Intensivierung:<em>ganz_und_gar</em>_NP-Konstruktion</strong> zu der Gruppe der Intensivierungskonstruktionen. In ihr wird eine Eigenschaft in Bezug auf einen Begriff oder eine Tätigkeit intensiviert, indem die Vollständigkeit der Gültigkeit maximal betont wird. Die Intensivierung des Adjektivs, des internen Kern-Konstruktionselements (Kern-KEs) \"Dimension\" wird durch das Konstruktionsevozierende Element (KEE) \"KEE\" ausgelöst, das stets vor der \"Dimension\" realisiert wird. Zusätzlich umfasst die Konstruktion das externe Kern-KE \"Gradiertes\", auf welches sich die durch das \"KEE\" intensivierte \"Dimension\" bezieht.',\n",
              " 'Die \"Intensivierung:so_ADJ-Konstruktion\" gehört zu den Intensivierungskonstruktionen und signalisiert eine Verstärkung des an die Intensitätspartikel \"so\" anknüpfenden Adjektivs oder Adverbs. Einer Entität wird eine skalierbare Eigenschaft zugeschrieben und zugleich als eine Eigenschaft ausgewiesen, die in einem größeren Maße die Entität charakterisiert, als es standardmäßig erwartbar wäre. Im Unterschied zu Vergleichskonstruktionen bleibt der erwartbare Standard bzw. der Vergleichswert implizit und wird nicht realisiert. Die Konstruktion besteht aus zwei Kern-Konstruktionselementen (Kern-KE). Auf das konstruktionsevozierende Element (KEE), den adverbialen Modifikator \"so\", folgt eine skalierbare Prädikation (\"Dimension\"), auf die wiederum meist das \"Gradierte\" folgt, also die Bezugseinheit, die über eine Eigenschaft verfügt.',\n",
              " 'Die \"Intensivierung:INTENSIVIERUNG_ADJ-Konstruktion\" gehört zu den Intensivierungskonstruktionen und signalisiert eine Verstärkung des an die Intensitätspartikel anknüpfenden Adjektivs. Die Konstruktion besteht aus den beiden internen Kern-Konstruktionselementen (Kern-KE) \"Intensivierung\" und \"Dimension\" sowie aus dem externen Kern-KE \"Gradiertes\".',\n",
              " 'Die \"Intensivierung_Reduplikation:ADJ1_ADJ1_NP-Konstruktion\" gehört zu der Familie der Intensivierungskonstruktionen und signalisiert eine semantische Verstärkung des an die beiden identischen Adjektive anschließenden Substantivs. Obligatorische Elemente dieser Konstruktion sind die internen Kern-Konstruktionselemente (Kern-KE) \"Intensivierte_Dimension\" und \"Gradiertes\".',\n",
              " 'Die <strong>Intensivierung_Hervorhebung:ART_NP1_ART_NP2-Konstruktion</strong> gehört zu der Familie der Intensivierungskonstruktionen und signalisiert unter Angabe einer \"Zeiteinheit\" die Verstärkung der \"Gradierten_Dimension\". Die Konstruktion besteht aus den drei internen Kern-Konstruktionselementen (KE) \"Determinierer\", \"Gradierte_Dimension\" sowie \"Zeiteinheit\" und dem externen Kern-KE \"Entität\".',\n",
              " 'Die<strong> Intensivierung:PRÄP_<em>aller</em>_NP-Konstruktion</strong> gehört zu der Familie der Intensivierungskonstruktionen und zeigt eine Verstärkung des an das konstruktionsevozierende Element \"KEE\" anknüpfende Nomens an. Die Konstruktion besteht aus den beiden internen Kern-Konstruktionselementen (Kern-KE) \"Präposition\" und \"Gradierte_Dimension\" sowie dem konstruktionsevozierenden Element (KEE) \"KEE\".',\n",
              " 'Die Konstruktion \"Relativierung:einbisschenADJ\" gehört zu der Familie der Relativierungskonstruktionen und signalisiert eine Abschwächung der \"Dimension\". Die Konstruktion besteht aus dem konstruktionsevozierenden Element (KEE) \"ein_bisschen\" (oder alternativ \"ein_wenig\"), dem internen Kern-Konstruktionselement (Kern-KE) \"Dimension\" und dem externe Kern-KE \"Gradiertes\".',\n",
              " 'Die \"Intensivierung:INTENSIVIERUNG_V-Konstruktion\" gehört zu der Familie der Intensivierungskonstruktionen und signalisiert eine Verstärkung des an die Intensitätspartikel anknüpfenden Verbs. Die Konstruktion besteht aus den internen Kern-Konstruktionselementen (Kern-KE) \"Intensivierung\" und \"Gradierte_Dimension\" sowie aus dem externen Kern-KE \"Entität\".',\n",
              " 'Die <strong>Intensivierung:<em>ganz_und_gar</em>_NP-Konstruktion</strong> gehört gemeinsam mit der <strong>Intensivierung:<em>ganz_und_gar</em>_ADJ-Konstruktion</strong> zu der Gruppe der Intensivierungskonstruktionen. In ihr wird ein Begriff, welcher sich auf einen anderen bezieht, intensiviert, indem die Vollständigkeit der Gültigkeit maximal betont wird. Die Intensivierung des Nomens, des internen Kern-Konstruktionselements (Kern-KEs) \"Gradierte_Dimension\", wird durch das Konstruktionsevozierende Element (KEE) \"KEE\" ausgelöst, das stets vor dem KE \"Gradierte_Dimension\" realisiert wird. Zusätzlich enthält die Konstruktion das externe Kern-KE \"Entität\", auf welches sich die, durch das \"KEE\" intensivierte, \"Gradierte_Dimension\" bezieht.',\n",
              " 'Bei der verblosen Konstruktion \"Kategorisierung_exklamativ:du_NP\" werden einer Person oder Personengruppe Eigenschaften zugeschrieben, mit weit stärkerer Emphase als bei entsprechenden regulären Prädikationen mit Kopulaverb und Artikel. Die Form besteht aus einem \"Personalpronomen\", das von einem \"Nomen\" gefolgt wird. Typisch in der Verschriftung ist - wie bei anderen Exklamativa - ein finales Ausrufezeichen.',\n",
              " 'Die \"Exklamativ:solch_(Art.indef_)N-Konstruktion\" bringt eine durch Überraschung geprägte Emotion des Sprechers im Hinblick auf einen \"Stimulus\" zum Ausdruck. Die Konstruktion setzt sich aus dem konstruktionsevozierenden Element (KEE) \"solch\" und dem Konstruktionselement (KE) \"Stimulus\" zusammen. Das Demonstrativpronomen \"solch\" bildet den Einstieg in die Konstruktion, worauf der \"Stimulus\" folgt. Dieser wird in Form eines Nomens, das alleine stehen oder in Kombination mit einem Indefinitpronomen (plus Adjektiv) auftreten kann, realisiert. Die syntaktische Form der Konstruktion ist sehr fest: Das \"KEE\" bildet zusammen mit dem \"Stimulus\" eine Nominalphrase (NP). Der informationsstrukturelle und prosodische Fokus liegt auf dem \"Stimulus\" und evoziert eine Skala-Lesart, da der Fokus der Überraschung auf einem Element und seiner gradierbaren Eigenschaft liegt. Die gradierbare Eigenschaft ist in dieser Konstruktion oftmals in das Nomen integriert, da dieses an sich schon eine (meist negative) Konnotation beinhaltet.',\n",
              " 'Die \"Reduplikation_Konkurrenz:N1_gegen_N1-Konstruktion\" gehört zur Familie der Reduplikationsstrukturen mit Präposition und wird verwendet, um zu betonen, dass zwei oder mehr Instanzen miteinander konkurrieren. Die Konstruktion ist teilschematisch. Die Kern-Konstruktionselemente (Kern-KE) \"Konnekt_1\" und \"Konnekt_2\" werden durch zwei identische Nomen realisiert. Die Nomen, die in diese Konstruktion eintreten können, sind zählbar und treten stets im Singular sowie ohne Artikel auf. Die Verbindung der beiden erfolgt immer durch das \"KEE\", hier die Präposition gegen, die das einzige lexikalisch feste Element der Konstruktion darstellt.',\n",
              " 'Die \"Relativierung:RELATIVIERUNG_ADJ-Konstruktion\" gehört zu der Familie der Relativierungskonstruktionen. Durch sie wird eine Eigenschaft abgeschwächt. Die Relativierung des Adjektivs, des internen Kern-Konstruktionselements (KE) \"Dimension\", wird durch das interne Kern-KE \"Relativierung\" ausgelöst, das stets vor der \"Dimension\" realisiert wird. Zusätzlich enthält die Konstruktion das externe Kern-KE \"Gradiertes\", auf das sich die durch die \"Relativierung\" abgeschwächte \"Dimension\" bezieht.',\n",
              " 'Die \"Relativierung:RELATIVIERUNG_V-Konstruktion\" gehört zu der Familie der Relativierungskonstruktionen. In ihr wird eine Tätigkeit abgeschwächt. Die Relativierung des Verbs, des internen Kern-Konstruktionselements (Kern-KE) \"Gradierte_Dimension\", wird durch das interne Kern-KE \"Relativierung\" ausgelöst, das stets vor dem internen Kern-KE \"Gradierte_Dimension\" realisiert wird. Zusätzlich enthält die Konstruktion das externe Kern-KE \"Entität\", auf das sich die durch die \"Relativierung\" abgeschwächte \"Gradierte_Dimension\" bezieht.',\n",
              " 'Die \"Reduplikation_Quantifizierung:N1_über_N1-Konstruktion\" gehört zur Familie der Reduplikationsstrukturen mit Präposition und wird verwendet, um darzustellen, dass Instanzen in hoher Anzahl vorliegen. Die Konstruktion ist teilschematisch. Die KE \"Konnekt_1\" und \"Konnekt_2\" werden durch zwei identische Nomen realisiert. Beide Nomen treten im Plural und ohne Artikel auf. Die Verbindung der beiden erfolgt immer durch das \"KEE\", hier die Präposition über, die das einzig lexikalisch feste Element der Konstruktion darstellt. Das Nomen, das in \"Konnekt_1\" und \"Konnekt_2\" realisiert wird, gibt den Gegenstand der Quantifizierung an, die durch die Konstruktion ausgelöst wird.',\n",
              " 'Die \"Zeitdeixis_Quantifizierung:inNUM_ZEITEINHEIT-Konstruktion\" gehört zu den \"Zeitdeixis-\" und \"Quantifizierungs-Konstruktionen\" und dient der Bezugnahme auf einen Zeitpunkt, welcher vom deiktischen Zentrum aus betrachtet in der Zukunft liegt. Mit der Konstruktion wird die Zeitspanne zwischen dem relevanten deiktischen Zentrum und dem zukünftigen Zeitpunkt angegeben. Die Konstruktion besteht aus dem Konstruktionsevozierenden Element (KEE) \"KEE\", den internen Kern-Konstruktionselementen (Kern-KE) \"Quantifizierung\" und \"Zeiteinheit\" und den Nicht-Kern-Konstruktionselementen (Nicht-Kern-KE) \"Annäherung\" und \"Intensivierung\". Das \"KEE\" ist der erste, die \"Quantifizierung\" der zweite und die \"Zeiteinheit\" der dritte Bestandteil der lizensierten Reihenfolge der Konstruktion. Zusätzlich kann die \"Annäherung\" zwischen dem \"KEE\" und der \"Quantifizierung\" und die \"Intensivierung\" vor dem \"KEE\" oder hinter der \"Zeiteinheit\" realisiert werden.',\n",
              " 'Bei der Konstruktion (Kxn) \"Kategorisierung_Trendwechsel:XistdasneueY\" handelt es sich um eine satzwertige Prädikativkonstruktion, bei der eine Eigenschaft über einen Referenten prädiziert wird, der durch das Subjekt des Satzes bezeichnet wird. Dabei wird über das Kopulaverb sein eine Beziehung zwischen der Subjekt-NP \"X\" und dem Prädikativum gestiftet, das kategorial durch eine NP der Form \"das neue Y\" realisiert ist. Bedeutungsseitig kodiert die Kxn einen Trendwechsel, indem sie angibt, dass innerhalb einer bestimmten \"Kategorie\" mit X (\"Trend_neu\") etwas in Mode kommt bzw. üblich wird, das vorher Y (\"Trend_alt\") war, d.h. heute die Popularität besitzt, die früher Y hatte. Die \"Kategorie\", der die im Subjekt und im Prädikativum benannten Referenten als gemeinsame Vertreter angehören, wird in der Regel nicht explizit benannt, sondern muss vom Rezipienten inferiert werden (z.B. ‚Haarfarbe‘ in Grau ist das neue Blond). Die Kxn besitzt die abstrakte Bedeutung: \\'X ist das, was (in der zu inferierenden Kategorie) früher Y war\\'. Grau ist das neue Blond bedeutet demnach, dass Grau das ist, was als Haarfarbentrend früher Blond war, d.h. dass Grau Blond als Haarfarbentrend abgelöst hat (vgl. Weber 2019: 149).',\n",
              " 'Die \"Quantifizierung:CARD_NP-Konstruktion\" gehört zu der Familie der Quantifizierungskonstruktionen und gibt unter Angabe einer Kardinalzahl die konkrete Menge einer Entität an. Die Konstruktion besteht aus den beiden internen Kern-Konstruktionselementen (Kern-KE) \"Quantifizierung\" und \"Quantifiziertes\".',\n",
              " 'Die \"Prädikation_Gegenüberstellung:XP1stattXP2-Konstruktion\" gehört zu den Prädikationskonstruktionen und weist ein Merkmal in Abgrenzung zu einem anderen Merkmal, das nicht zutrifft, zu. Die Konstruktion umfasst das externe Kern-Konstruktionselement (Kern-KE) \"Prädiziertes\" sowie die internen Kern-KE \"Merkmal_präferiert\" und \"Merkmal_dispräferiert\" und das konstruktionsevozierende Element (KEE) \"anstatt\" oder \"statt\". Das KEE \"statt\"/\"anstatt\" evoziert gemeinsam mit den Kern-KE und der Struktur, in der die Kern-KE auftreten, die Konstruktionsbedeutung.',\n",
              " 'Die Konstruktion \"Sekundäre_Information:Klammern\" stellt die Primärfunktion von \"Klammern\" im Deutschen und verwandten Sprachen dar: Die Kennzeichnung des \"eingeklammerten Inhalts\" als informationswertig sekundär im Vergleich zu dem \"Text außerhalb der Klammern\" (vgl. Ziem et al. 2023). Die \"Sekundäre_Information:Klammern\"-Konstruktion konstituiert eine weit verzweigte Familie: Die Realisierungsmöglichkeiten in Bezug auf Form und Position des \"Klammerausdrucks\" sind vielfältig. Teilweise besitzen die Tochterkonstruktionen gesprochensprachliche Äquivalente (v.a. \"Parenthese:Klammern\"), teils sind die entstehenden Syntagmen auf die schriftliche Modalität beschränkt (\"Attribution:Klammern\", \"Direkte_Rede_Ebenenwechsel:Klammern\").',\n",
              " 'Der Einschluss von Parenthesen (i.e. Einschüben in den Satz, vgl. Zifonun et al. 1997) kann durch Klammern erfolgen, wenn mit dem Inhalt der \"Klammern\" eine Zusatzinformation zum Inhalt des \"Matrixsatzes\" geliefert wird. Relativsätzen etwa können durch einschließende Klammern abgesetzt werden, wenn sie nicht restriktiv sind. Ansonsten erfolgt die Kennzeichnung der \"Parenthese\" i.d.R. durch Kommata, evtl. auch mit Gedankenstrichen als Diskontinuitätsmarkern (vgl. Bredel 2008: passim). Von ihrer Mutterkonstruktion \"Sekundäre_Information:Klammern\" erbt die Konstruktion die Eigenschaft, dass der \"Klammerausdruck\" im Verhältnis zum Text außerhalb der Klammern, der \"Klammerumgebung\", als informationell nachrangig interpretiert wird.',\n",
              " 'Textabschnitte im Umfang eines oder mehrerer Hauptsätze können in \"Klammern\" gesetzt werden, um auszudrücken, dass sie nicht zum Hauptgegenstand des sie \"einbettenden Textes\" gehören, sondern vielmehr Zusatzinformationen liefern (vgl. z.B. Amtliches Regelwerk 2018: §87). Diese Markierung des \"Klammerausdrucks\" als informationell nachrangig steht im Einklang mit den Eigenschaften der die Familie der syntaktischen Klammerkonstruktionen konstituierenden Konstruktion \"Sekundäre_Information:Klammern\". Mitunter werden ganze Absätze eingeklammert. Die Positionierung des \"Klammerausdrucks\" erfolgt in der Konstruktion \"Texteinschub:Klammern\" nicht satzintern wie bei der ihrer Schwesterkonstruktion \"Parenthese:Klammern\"-Konstruktion, sondern zwischen Hauptsätzen.',\n",
              " 'Die Konstruktion \"Mitgliedschaft:Klammern\" gehört zu durch die \"Attribution:Klammern\"-Konstruktion konstitiuierten Familie der \"Graphematischen Parenthesen\", d.h. einem auf die schriftliche Modalität beschränkten Bauschema zur Erweiterung von \"Köpfen\"durch nachgestellte \"Ausdrücke\" in \"Klammern\". Die Familie erbt wiederum von der übergeordneten Konstruktion \"Sekundäre_Information:Klammern\" die Markierung des \"Klammerausdruck\" als von nachrangiger Wichtigkeit im Vergleich zum die \"Klammern\" \"umgebenden Text\" (vgl. Ziem et al. 2023). In der Konstruktion \"Mitgliedschaft:Klammern\" referiert der \"Bezugsausdruck\" auf eine Person, der \"Klammerausdruck\" führt eine im Textzusammenhang relevante Organisation auf, der die Person angehört. Eine häufige Realisierung ist die Angabe der Parteizugehörigkeit eines Politikers bzw. einer Politikerin.',\n",
              " 'Die \"Negation_Gegenüberstellung:NEG_XsondernY-Konstruktion\" gehört zu den Negationskonstruktionen und stellt zwei Aussagen gegenüber, von denen eine zutreffend und eine nicht zutreffend ist. Die Konstruktion besteht aus dem konstruktionsevozierenden Element (KEE) \"nicht_sondern\" (bzw. \"kein_sondern\", oder \"nicht_aber\") und den internen Kern-Konstruktionselementen (Kern-KE) \"Merkmal_präferiert\" und \"Merkmal_dispräferiert\".',\n",
              " 'Die \"Prädikation_Gegenüberstellung_Negation:XP1und_nichtXP2-Konstruktion\" gehört zu den Prädikationskonstruktionen und weist ein Merkmal in Abgrenzung zu einem anderen Merkmal, das nicht zutrifft, auf. Die Konstruktion verfügt über die internen Kern-Konstruktionselemente (Kern-KE) \"Merkmal_präferiert\", \"Merkmal_dispräferiert\" und das \"Prädizierte\", das durch die Merkmale näher beschrieben wird. Das konstruktionsevozierende Element (KEE) \"und_nicht\" evoziert gemeinsam mit den Kern-KE und der Struktur, in der die Kern-KE auftreten, die Konstruktionsbedeutung.',\n",
              " 'Bei der Konstruktion \"Einordnung_Lebensdaten:Klammern\" werden als Zusatzinformation zu einem auf eine Person referierenden \"Bezugsausdruck\" deren Lebensdaten genannt. Der die Lebensdaten nennende \"Ausdruck\" wird in \"Klammern\" direkt hinter dem \"Bezugsausdruck\" aufgeführt. Besonders häufig ist die Schreibung mit Gedankenstrich zwischen Geburts- und Todesdatum; es gibt jedoch diverse Varianten (s. KE \"Klammerausdruck\"). \" Die Konstruktion erbt ihr Interpretationsschema von ihrer Mutterkonstruktion \"Einordnung:Klammern\", in welcher der \"Klammerausdruck\" Zusatzinformationen gibt, die der historischen, kulturellen, systemischen etc. Einordnung des Denotats des \"Bezugsausdrucks\" dienen. Von deren Mutter - \"Attribution:Klammern\" - wiederum erbt sie die die Eigenschaft, dass ein - i.d.R. nominaler - \"Kopf\" durch einen unmittelbar nachgestellten \"Klammerausdruck\" erweitert wird (vgl. Ziem et al. 2023). Sie wird vor allem als Satzglied oder Satzgliedteil geschriebener Sätze realisiert, kann aber auch syntaktisch selbständig (etwa in listenhaften Aufzählungen) vorkommen. In ersterem Falle fungiert die Konstruktion als eine (auf die schriftliche Modalität beschränkte) Möglichkeit, eine sekundäre Prädikation zu realisieren. Weiterhin erbt sie von der die Familie der Klammerkonstruktionen konstituierenden Konstruktion \"Sekundäre_Information:Klammern\" die informationsstrukturelle Information, das der \"Klammerausdruck\" im Vergleich zu der \"Klammerumgebung\" von nachrangiger Wichtigkeit ist (vgl. Ziem et al. 2023).',\n",
              " 'In der Konstruktion \"Ereigniszeit:Klammern\" wird als Zusatzinformation zu einem \"Ereignis\" das \"Datum\", zu dem dieses Ereignis stattfand, genannt, letzteres in \"Klammern\" und dem \"Bezugsausdruck\" unmittelbar folgend. Je nach Ereignistyp kann es sich bei der im \"Klammerausdruck\" genannten Ereigniszeit um einen Zeitpunkt oder eine Zeitspanne handeln. Von der Konstruktion \"Attribution:Klammern\" erbt die Konstruktion die phrasenstrukturellen Eigenschaften, d.h. dass der Kopf der öffnenden Klammer vorausgeht und durch die eingeklammerte Phrase modifiziert wird; von ihrer Mutterkonstruktion \"Einordnung:Klammern\" erbt sie die semantische Grundkonstellation zwischen \"Bezugsausdruck\" und \"Klammerausdruck\". Von der die gesamte Familie der Klammerkonstruktionen konstituierenden Konstruktion \"Sekundäre_Information:Klammern\" wird die Eigenschaft vererbt, dass der \"Klammerausdruck\" im Verhältnis zum Text außerhalb der Klammern, der \"Klammerumgebung\", als informationell nachrangig interpretiert wird (vgl. Ziem et al. 2023).',\n",
              " 'Bei der Konstruktion \"Einordnung_Markenangabe\" folgt einen \"Bezugsausdruck\", der auf die Typbezeichnung oder den Namen eines Produkts verweist, ein in \"Klammern\" stehender \"Ausdruck\", der den Hersteller bzw. Anbieter, die Firma oder die Marke des besagten Produkts angibt. Die Konstruktion ist der Konstruktion \"Attribution:Klammern\" - darunter der Konstruktion \"Einordnung:Klammern\" - untergeordnet. Von ersterer erbt sie den phrasenstrukturellen Bauplan, dass ein i.d.R. nominaler Kopf von einem unmittelbar anschließenden Ausdruck in \"Klammern\" erweitert wird, der den Kopf modifiziert. Von \"Einordnung:Klammern\" erbt die Konstruktion das Deutungsschema, dass hier eine Kategorisierung des Denotats des erweiterten Wortes vorgenommen wird (vgl. Ziem et al. 2023). Die Konstruktion ist Teil der verzweigten Familie der durch \"Sekundäre_Information:Klammern\" konstituierten Familie der syntaktisch-pragmatischen Klammerkonstruktionen, die die informationsstrukturelle Anweisung an den Leser teilen, den eingeklammerten Ausdruck als im Vergleich zum \"umgebenden Text\" nachrangige Information zu werten (vgl. Ziem et al. 2023).',\n",
              " 'Mit der Konstruktion \"Ortsangabe:Klammern\" kann ein als Ortsangabe fungierender \"Bezugsausdruck\", dessen Referenz typischerweise wenig bekannt oder mehrdeutig ist, mit der Zusatzinformation versehen werden, in welcher geographischen Region der betreffende Ort anzusiedeln ist. Der die auf die zusätzliche lokale Information verweisende \"Ausdruck\" steht in \"Klammern\" unmittelbar hinter seinem \"Bezugsausdruck\". Die Konstruktion ist der Konstruktion \"Attribution:Klammern\" - darunter der Konstruktion \"Einordnung:Klammern\" - untergeordnet (vgl. Ziem et al. 2023). Von ersterer erbt sie den phrasenstrukturellen Bauplan, dass ein i.d.R. nominaler Kopf von einem unmittelbar anschließenden Ausdruck in \"Klammern\" erweitert wird, der den Kopf modifiziert. Von \"Einordnung:Klammern\" erbt die Konstruktion das Deutungsschema, dass hier eine Kategorisierung des Denotats des erweiterten Wortes vorgenommen wird. Die Konstruktion ist Teil der verzweigten Familie der durch \"Sekundäre_Information:Klammern\" konstituierten Familie der Klammerkonstruktionen, die die pragmatisch-informationsstrukturelle Anweisung an den Leser teilen, den \"eingeklammerten Ausdruck\" als im Vergleich mit dem \"umgebenden Text\" informationell nachrangig zu werten (vgl. Ziem et al. 2023).',\n",
              " 'Bei der Konstruktion \"Abkürzungseinführung:Klammern\" folgt auf einen Begriff als \"Bezugsausdruck\" unmittelbar anschließend dessen Abkürzung in \"Klammern\". In der Regel findet die Konstruktion bei der ersten Instanz des \"Bezugsausdrucks\" innerhalb eines Textes Anwendung; bei folgenden Instanzen wird dann nur noch die im \"Klammerausdruck\" eingeführte Abkürzung verwendet. Die Konstruktion \"Abkürzungseinführung:Klammern\" gehört zu der Konstruktionsfamilie \"Entsprechung:Klammern\", deren Töchter sich durch eine sprachliche oder wertbezogene Äquivalenzbeziehung zwischen den Kernelementen auszeichnen. Die Mutterkonstruktion \"Entsprechung:Klammern\" ist wiederum eine Tochter der Konstruktion \"Attribution:Klammern\" und erbt von dieser die syntaktische Eigenschaft, die Erweiterung vor allem nominaler Köpfe durch unmittelbar nachgestellte Klammerausdrücke festzulegen (vgl. Ziem 2023 et al.). Wie alle Mitglieder der Konstruktionsfamilie \"Attribution:Klammern\" haben Konstrukte nach dem Muster der \"Abkürzungseinführung:Klammern\"-Konstruktion keine vollwertigen gesprochensprachlichen Äquivalente. Von der die gesamte Familie der syntaktischen Klammerkonstruktionen konstituierenden Konstruktion \"Sekundäre_Information:Klammern\" erbt die Konstruktion die Eigenschaft , dass der \"Klammerausdruck\" im Verhältnis zum Text außerhalb der Klammern, der \"Klammerumgebung\", als informationell nachrangig interpretiert wird.',\n",
              " 'Die Konstruktion \"Abkürzungserläuterung:Klammern\" besteht aus einem aus einer Abkürzung bestehenden \"Bezugsausdruck\", auf den unmittelbar \"seine Vollform\", in \"Klammern\" eingeschlossen, folgt. Die Konstruktion gehört zu der Konstruktionsfamilie \"Entsprechung:Klammern\", deren Töchter sich durch eine sprachliche oder wertbezogene Äquivalenzbeziehung zwischen den Kernelementen auszeichnen. Die Mutterkonstruktion \"Entsprechung:Klammern\" ist wiederum eine Tochter der Konstruktion \"Attribution:Klammern\" und erbt von dieser die syntaktische Eigenschaft, die Erweiterung vor allem nominaler Köpfe durch unmittelbar nachgestellte Klammerausdrücke festzulegen (vgl. Ziem et al. 2023). Das KE \"Bezugswort\" bildet den vorangestellten Kopf der Phrase, das KE \"Klammerausdruck\" dessen Attribut. Wie alle Mitglieder dieser Konstruktionsfamilie haben Konstrukte nach dem Muster der \"Abkürzungseinführung:Klammern\"-Konstruktion keine vollwertigen gesprochensprachlichen Äquivalente. Von der die gesamte Familie der syntaktischen Klammerkonstruktionen konstituierenden Konstruktion \"Sekundäre_Information:Klammern\" wird die Eigenschaft vererbt, dass der \"Klammerausdruck\" im Verhältnis zum Text außerhalb der Klammern, der \"Klammerumgebung\", als informationell nachrangig interpretiert wird.',\n",
              " 'In der Konstruktion \"Übersetzung:Klammern\" folgt unmittelbar auf einen \"Bezugsausdruck\" ein zweiter \"Ausdruck\" in \"Klammern\". Der \"Klammerausdruck\" stellt dabei die Übersetzung des \"Bezugsausdruck\" in eine andere Sprache\" dar. In der Regel ist einer der beiden gleichbedeutenden Begriffe - entweder der \"Bezugsausdruck\" oder der \"Klammerausdruck\"] - in derselben Sprache, in der auch der Rest des Textes geschrieben ist. Die Konstruktion gehört zu der Konstruktionsfamilie \"Entsprechung:Klammern\", deren Töchter sich durch eine sprachliche oder wertbezogene Äquivalenzbeziehung zwischen den Kernelementen auszeichnen. Die Mutterkonstruktion \"Entsprechung:Klammern\" ist wiederum eine Tochter der Konstruktion \"Attribution:Klammern\" und erbt von dieser die syntaktische Eigenschaft, die Erweiterung vor allem nominaler Köpfe durch unmittelbar nachgestellte Klammerausdrücke vorzunehmen (vgl. Ziem et al. 2023). Bei der Konstruktion \"Entsprechung_Übersetzung:Klammern\" bildet der \"Bezugsausdruck\" den vorangestellten Kopf der Phrase, der \"Klammerausdruck\" dessen Attribut. Wie alle Mitglieder dieser Konstruktionsfamilie haben Konstrukte nach dem Muster der \"Entsprechung_Übersetzung:Klammern\"-Konstruktion keine vollwertigen gesprochensprachlichen Äquivalente. Von der die gesamte Familie der syntaktischen Klammerkonstruktionen konstituierenden Konstruktion \"Sekundäre_Information:Klammern\" erbt die Konstruktion die Eigenschaft, dass der \"Klammerausdruck\" im Verhältnis zum Text außerhalb der Klammern, der \"Klammerumgebung\", als informationell nachrangig interpretiert wird (vgl. Ziem et al. 2023).',\n",
              " 'In der Konstruktion \"Entsprechung_Äquivalenz:Klammern\" wird unmittelbar an einen \"Bezugsausdruck\" ein zweiter \"Ausdruck\" in \"Klammern\" angeschlossen. Der \"Bezugsausdruck\" gibt einen Wert in einer aus Leserperspektive weniger geläufigen Einheit an; im Klammerausdruck wird dieser Wert in einer aus Leserperspektive geläufigeren Einheit angegeben. Die Einheiten drücken dieselbe Dimension (Wert, Menge etc.) aus. Ein Sonderfall ist die Anwendung der Konstruktion in übersetzten Kochrezepten; hier ist die geteilte Dimension die Zutatenmenge, die aber zum Beispiel einen Bezugswert in einem Hohlraummaß wie den US-amerikanischen cups im \"Klammerausdruck\" in Gewichtseinheiten wie Gramm ausdrücken kann. Die Konstruktion gehört zu der Konstruktionsfamilie \"Entsprechung:Klammern\", deren Töchter sich durch eine sprachliche oder wertbezogene Äquivalenzbeziehung zwischen den Kernelementen auszeichnen. Die Mutterkonstruktion \"Entsprechung:Klammern\" ist wiederum eine Tochter der Konstruktion \"Attribution:Klammern\" und erbt von dieser die syntaktische Eigenschaft, die Erweiterung vor allem nominaler Köpfe durch unmittelbar nachgestellte Klammerausdrücke zu regulieren. Bei der Konstruktion \"Entsprechung_Äquivalenz:Klammern\" bildet das KE \"Bezugsausdruck\" den vorangestellten Kopf der Phrase, das KE \"Klammerausdruck\", eingeschlossen von \"paarigen Klammern\", dessen Attribut (vgl. Ziem et al. 2023). Wie alle Mitglieder dieser Konstruktionsfamilie haben Konstrukte nach dem Muster der \"Entsprechung_Äquivalenz:Klammern\"-Konstruktion keine vollwertigen gesprochensprachlichen Äquivalente. Von der die gesamte Familie der syntaktischen Klammerkonstruktionen konstituierenden Konstruktion \"Sekundäre_Information:Klammern\" erbt die Konstruktion die Eigenschaft, dass der \"Klammerausdruck\" im Verhältnis zum Text außerhalb der Klammern, der \"Klammerumgebung\", als informationell nachrangig interpretiert wird.',\n",
              " 'Die \"Quantifizierung:ORD_NP-Konstruktion\" gehört zu den Quantifizierungskonstruktionen und beschreibt eine Zahl, die zum Beispiel eine Reihenfolge oder eine Stelle kennzeichnet, an der etwas in einer geordneten Menge steht. Sie besteht aus den Kern-Konstruktionselementen (Kern-KE) \"Quantifizierung\" und \"Quantifiziertes\".',\n",
              " 'Bei \"Korrelation_Negation:keinXohneY\" handelt es sich um eine verfestigte, nicht völlig kompositionelle und produktive Phrasem-Konstruktion (PhK) des Deutschen, die neben einem kleinen Set an usuellen Sprichwort-Realisierungen eine große Menge an okkasionellen Bildungen lizensiert. Aus syntaktischer Sicht handelt es sich um ein satzwertiges, verbloses Strukturmuster der Form kein N1 ohne N2, bei dem zwei funktionale Positionen (kein, ohne) lexikalisch gefüllt und zwei nominale Positionen (N1, N2) offen sind. Aus semantischer Sicht bringt die PhK eine Korrelation zwischen zwei Entitäten oder Sachverhalten zum Ausdruck, die einer negierten Existenzquantifikation entspricht: So gibt es kein Z, für das nicht gilt: Wenn Z die Eigenschaft X hat, hat Z auch die Eigenschaft Y (z.B. für Keine Rosen ohne Dornen: Es gibt kein Z, für das nicht gilt: Wenn Z eine Rose ist, dann hat Z Dornen) (vgl. Finkbeiner 2022: 60/67).',\n",
              " 'Die \"Komparativ:ADJ1-eralsADJ1-Konstruktion\" gehört zu den Vergleichskonstruktionen. Die Konstruktion wird formal mit einem Komparativ realisiert, hat allerdings eine superlativische Bedeutung. Wie bei anderen Vergleichskonstruktionen setzt sich auch diese aus den drei Kern-Konstruktionselementen (KE) \"Verglichenes\", \"Bezugswert\" und \"Dimension\" zusammen. Genauer wird dabei eine zu vergleichende Entität, das \"Verglichene\", hinsichtlich eines konkreten Attributs (der \"Dimension\" des Vergleichs) zu einem \"Bezugswert\" auf einer imaginären Skala in Relation gesetzt. Die \"Dimension\" benennt dabei die Skala, die dem Vergleich zugrundeliegt. Dadurch, dass das die \"Dimension\" anzeigende Adjektiv im Komparativ nicht zugleich als \"Bezugswert\" fungiert und mithin den Orientierungswert für den Vergleich markieren kann, erhält die Konstruktion die für sie spezifische metasprachliche Funktion. Ihre Funktion besteht darin, auf der durch die \"Dimension\" angezeigten imaginären Skala auf einen Wertebereich zu verweisen, der jenseits des \"Bezugswertes\" liegt, den die verwendete lexikalische Kategorie benennt: Heller als hell bedeutet demnach \\'heller als der Wert, den das Adjektiv hell auf der Skala markiert\\'. Der angezeigte Bereich gilt in der Folge als exorbitant hoch. So wird die durch das Adjektiv kodierte Eigenschaft dem \"Verglichenen\" in einem besonders hohen Maße attestiert; so ist \\'ein Licht, das heller ist als hell\\', besonders hell.',\n",
              " 'Bei \"Disjunktion_Doppeltitel:XoderY\" handelt es sich um eine Konstruktion, welche in ihrer spezifischen Funktionalität ausschließlich als Titel erscheint und damit als kommunikative Ressource der geschriebenen Sprache fungiert. Als Titel bzw. Überschrift stellen Instanzen des Musters Leseanleitungen dar, deren Besonderheit darin besteht, dass sie in Form der Disjunktion zwei Möglichkeiten präsentieren, unter denen der nachfolgende Text zu lesen ist (vgl. Finkbeiner/Tienken 2018: 268). Diese metalinguistische Interpretation ergibt sich daraus, dass die Koordinationsphrase, in der der Konnektor \"oder\" mit \"Disjunkt_1\" und \"Disjunkt_2\" zwei voneinander unabhängige Phrasen verknüpft, nicht propositional im Sinne einer Alternativfrage interpretiert wird, als sei eine Wahl zwischen zwei Sachverhalten bzw. Entitäten zu treffen (im Sinne von: In diesem Text geht es entweder um Christoph Columbus oder um Die Entdeckung Amerikas), sondern vielmehr so, dass die Disjunkte zwei Formulierungsalternativen für ein- und denselben Sachverhalt bereitstellen, die als äquivalent gelten und gleichermaßen zutreffen (im Sinne von: In diesem Text geht es um Christoph Columbus oder anders gesagt um Die Entdeckung Amerikas) (vgl. Finkbeiner/Tienken 2018: 260). Neben der spezifischen Kontext-Restriktion, als Titelformat ausschließlich an die sequenzielle Position der Überschrift gebunden zu sein, ist die Kxn in dreifacher Hinsicht restringiert (vgl. Finkbeiner/Tienken 2018: 259-262): 1) Zum einen liegt eine Nicht-Gleichartigkeitsbeschränkung der Disjunkte vor, insofern diese in der Regel durch unterschiedliche syntaktische Phrasenstrukturen (z.B. EN und NP oder NP und w-VL-Satz) oder bei einer identischen Phrasenstruktur (z.B. NP und NP) durch unterschiedliche Mikrostrukturen realisiert werden (z.B. eine NP mit präpositionalem Attribut und eine NP mit Genitivattribut). \"2) Zweitens gibt es eine klare Restriktion hinsichtlich der Reihenfolge der Disjunkte: So fungiert innerhalb der Kxn das beim linearen Lesen später aufgenommene zweite Disjunkt als explizierender Zusatz zum ersten Disjunkt. Der Y-Slot zeichnet sich somit durch ein semantisches Explikationspotenzial zum X-Slot aus, was tendenziell mit einer syntaktisch größeren Komplexität von \"Disjunkt_2\" einhergeht (z.B. EN vor NP oder NP vor w-VL-Satz). \"3) Da sich die Disjunkte normalerweise auf denselben generellen Aspekt des Bezugstextes (meistens das Thema) beziehen, unterliegen sie drittens einer Äquivalenzbeschränkung. Kombinationen von Disjunkten, die auf unterschiedliche Eigenschaften des Textes bezogen sind (z.B. thematische Charakterisierung und Textsortencharakterisierung) werden von der Kxn nicht lizensiert (vgl. Der Fall Ecstasy oder Eine Essaysammlung). \"',\n",
              " 'Bei \"Korrelation_Affirmation:WoXist, istY\" handelt es sich um eine verfestigte, nicht völlig kompositionelle und produktive Phrasem-Konstruktion (PhK) des Deutschen, die neben einem kleinen Set an usuellen Sprichwort-Realisierungen eine große Menge an okkasionellen Bildungen lizensiert. Aus syntaktischer Sicht handelt es sich um ein satzwertiges Strukturmuster der Form Wo X ist, ist Y, das aus zwei Teilsätzen (lokaler Adverbialsatz und Hauptsatz) besteht. Während mit dem Adverb \"wo\", und den beiden Verbformen \"ist\" drei Positionen lexikalisch gefüllt sind, welche im Verbund die PhK evozieren, fungieren mit X (\"Entität_1\") und Y (\"Entität_2\") zwei nominale Positionen als variabel, aber nicht beliebig zu besetzende Slots. Aus semantischer Sicht bringt die PhK eine Korrelation zwischen zwei Entitäten oder Sachverhalten zum Ausdruck, die einer affirmativen Existenzquantifikation entspricht: So gilt: \\'Wenn es (irgendwo) X gibt, dann gibt es (dort) typischerweise auch Y\\' (z.B. für Wo Licht ist, ist auch Schatten: Wenn es irgendwo Licht gibt, dann muss es dort auch Schatten geben, bzw. im übertragenen Sinne: Wenn es etwas Positives gibt, dann gibt es typischerweise auch etwas Negatives) (vgl. Steyer 2012: 309).',\n",
              " 'Die \"Äquativ:soADJwieXP-Konstruktion\" gehört zu den Vergleichskonstruktionen und zeigt die Gleichheit zweier Werte auf einer Skala an. Das konstruktionsevozierende Element (KEE) kann entweder durch \"so\", \"genauso\", \"ebenso\"oder (selten) \"gleich\" realisiert werden und gibt an, um welche Art des Vergleichs es sich handelt (hier: Gleichheit und nicht Ungleichheit). Neben dem KEE besteht der Vergleichsausdruck außerdem aus drei Kern-Konstruktionselementen (KE). Das KE \"Verglichenes\" umfasst diejenige Einheit, die im Fokus des Vergleichs steht und zu einem bereits bestehenden Wert gleichgesetzt wird (zu dem KE \"Bezugswert\"). Das KE \"Dimension\" benennt dabei die Skala des Vergleichs, d.h. es gibt genauer an, in welcher Hinsicht \"Verglichenes\" und \"Bezugswert\" gleichgesetzt werden (X ist so groß wie Y vergleicht z. B. X und Y auf einer Skala in Bezug auf \\'Größe\\').',\n",
              " 'Die \"Komparativ:ADJ-eralsX-Konstruktion\" gehört zu den Vergleichskonstruktionen und zeigt die Ungleichheit zweier Werte auf einer Skala an. Der Vergleichsausdruck besteht aus dem internen Kern-KE \"Dimension\" und dem daran angehängten Suffix -er. Das \"KEE\" gibt an, um welche Art des Vergleichs es sich handelt (hier: Ungleichheit und nicht Gleichheit). Die Konstruktion umfasst außerdem die externen Konstruktionselemente \"Verglichenes\" und \"Bezugswert\". Dies sind die Einheiten, die in Bezug auf bestimmte Werte spezifischer Attribute auf einer Skala verglichen werden. Die Skala wird durch die \"Dimension\" angezeigt (X ist größer als Y vergleicht z. B. X und Y auf einer Skala in Bezug auf Größe).']"
            ]
          },
          "metadata": {},
          "execution_count": 5
        }
      ]
    },
    {
      "cell_type": "code",
      "source": [
        "import re\n",
        "from tqdm import tqdm\n",
        "\n",
        "def generate_examples(definition: str, temperature=0.75, top_p=0.95, top_k=1, max_new_tokens=1024):\n",
        "    prompt = lambda definition: f'''Nenne fünf konkrete Beispiele für eine vordefinierte Satzkonstruktion. Der User definiert die Konstruktion. Alle Sätze müssen zur definierten Konstruktion passen. Gib nur die Sätze in einer Python-Liste aus. \\n\\n### User: Dies ist die Definition:\\n{definition} \\n\\n### Assistant: Ausgabe: \\n[\"'''\n",
        "    #prompt = lambda definition: f'''[INST] <<SYS>>\n",
        "    #Tell me five example sentences for a predefined German construction.\n",
        "    #The definition will be provided in German.\n",
        "    #Only output the example sentence.\n",
        "    #Output the example sentences in a Python list.\n",
        "    #Here are the construction definitions in German:\n",
        "    #{definitions}\n",
        "    #<</SYS>>\n",
        "    #Output: [\"'''\n",
        "\n",
        "    prompt_length = len(prompt(definition))\n",
        "\n",
        "    input_ids = tokenizer(prompt(definition), return_tensors='pt').input_ids.cuda()\n",
        "    output = \"\"\n",
        "    #while '.' not in output:\n",
        "    output = model.generate(inputs=input_ids, temperature=0.75, do_sample=True, top_p=0.95, top_k=1, max_new_tokens=1024)\n",
        "    output = tokenizer.decode(output[0])[prompt_length:].strip()\n",
        "    #    print(\"\\t\" + output)\n",
        "    return output\n",
        "\n",
        "examples = []\n",
        "for definition in tqdm(definitions):\n",
        "    example = generate_examples(definition, temperature=0.95, max_new_tokens=300,\n",
        "                                top_k=5)\n",
        "    example = re.findall('\\[\\\".*\\\"\\]', example)\n",
        "    try:\n",
        "        print(example[0])\n",
        "        examples.append(eval(example[0]))  # one is enough\n",
        "    except:\n",
        "        print([])\n",
        "        examples.append([])\n",
        "\n",
        "with open(\"examples.pickle\", \"wb\") as file:\n",
        "    pickle.dump(examples, file)"
      ],
      "metadata": {
        "id": "7tap32gHBHoA",
        "colab": {
          "base_uri": "https://localhost:8080/"
        },
        "outputId": "76419d05-e846-4c1b-8a8b-d65ad915c7e1"
      },
      "execution_count": 6,
      "outputs": [
        {
          "output_type": "stream",
          "name": "stderr",
          "text": [
            "  0%|          | 1/221 [00:06<23:47,  6.49s/it]"
          ]
        },
        {
          "output_type": "stream",
          "name": "stdout",
          "text": [
            "[\"Die meisten von ihnen haben zuvor noch nie einen Computer gesehen\", \"Die meisten von ihnen haben zuvor noch nie einen Computer bedient\"]\n"
          ]
        },
        {
          "output_type": "stream",
          "name": "stderr",
          "text": [
            "\r  1%|          | 2/221 [00:14<27:33,  7.55s/it]"
          ]
        },
        {
          "output_type": "stream",
          "name": "stdout",
          "text": [
            "[\"Die Kern-Konstruktionselemente sind 'Verglichene_Entitäten' und 'Dimension'\", \"Die Skala wird durch die 'Dimension' angegeben\", \"Die Konstruktion zeigt die Gleichheit zweier Entitäten an, die hinsichtlich eines bestimmten Wertes eines spezifischen Attributs auf einer Skala miteinander verglichen werden\", \"Die Konstruktion gehört zu den Vergleichskonstruktionen\", \"Die Konstruktion zeigt die Gleichheit zweier Entitäten an, die hinsichtlich eines bestimmten Wertes eines spezifischen Attributs auf einer Skala miteinander verglichen werden\"]\n"
          ]
        },
        {
          "output_type": "stream",
          "name": "stderr",
          "text": [
            "\r  1%|▏         | 3/221 [00:16<17:56,  4.94s/it]"
          ]
        },
        {
          "output_type": "stream",
          "name": "stdout",
          "text": [
            "[\"Groß\", \"Größer\", \"Am größten\"]\n"
          ]
        },
        {
          "output_type": "stream",
          "name": "stderr",
          "text": [
            "\r  2%|▏         | 4/221 [00:19<15:38,  4.33s/it]"
          ]
        },
        {
          "output_type": "stream",
          "name": "stdout",
          "text": [
            "[\"Die höchste Stufe auf der Skala\", \"Ein Wert\", \"Ein Vergleich\", \"Eine Entität\", \"Eine Eigenschaft\"]\n"
          ]
        },
        {
          "output_type": "stream",
          "name": "stderr",
          "text": [
            "\r  2%|▏         | 5/221 [00:23<15:05,  4.19s/it]"
          ]
        },
        {
          "output_type": "stream",
          "name": "stdout",
          "text": [
            "[\"Die Blätter sind grün wie die Wurzeln\", \"Das Auto fährt schnell wie ein Flugzeug\", \"Das Haus ist groß wie ein Schiff\", \"Das Kind ist schlau wie ein Elefant\", \"Das Essen schmeckt süß wie Honig\"]\n"
          ]
        },
        {
          "output_type": "stream",
          "name": "stderr",
          "text": [
            "\r  3%|▎         | 6/221 [00:29<16:45,  4.68s/it]"
          ]
        },
        {
          "output_type": "stream",
          "name": "stdout",
          "text": [
            "[\"w-Überschrift:w-VL-Satz\", \"w-VL-Satz\", \"w-VL-Satz\", \"w-VL-Satz\", \"w-VL-Satz\"]\n"
          ]
        },
        {
          "output_type": "stream",
          "name": "stderr",
          "text": [
            "\r  3%|▎         | 7/221 [00:33<15:42,  4.41s/it]"
          ]
        },
        {
          "output_type": "stream",
          "name": "stdout",
          "text": [
            "[\"Ein Mann wie ein Bär\", \"Ein Mann wie ein Elefant\", \"Ein Mann wie ein Affe\", \"Ein Mann wie ein Löwe\", \"Ein Mann wie ein Zwerg\"]\n"
          ]
        },
        {
          "output_type": "stream",
          "name": "stderr",
          "text": [
            "\r  4%|▎         | 8/221 [00:36<14:30,  4.09s/it]"
          ]
        },
        {
          "output_type": "stream",
          "name": "stdout",
          "text": [
            "[\"Exklamativ:Hauptsache_Sachverhalt_A_Stimulus\", \"Exklamativ:Hauptsache_Sachverhalt_B_Stimulus\"]\n"
          ]
        },
        {
          "output_type": "stream",
          "name": "stderr",
          "text": [
            "\r  4%|▍         | 9/221 [00:44<17:58,  5.09s/it]"
          ]
        },
        {
          "output_type": "stream",
          "name": "stdout",
          "text": [
            "[\"Die Reduplikation_Kontinuität:von_NP1_zu_NP1-Konstruktion\", \"Reduplikation_Kontinuität:von_NP1_zu_NP1-Konstruktion\", \"Reduplikation_Kontinuität:von_NP1_zu_NP1-Konstruktion\", \"Reduplikation_Kontinuität:von_NP1_zu_NP1-Konstruktion\", \"Reduplikation_Kontinuität:von_NP1_zu_NP1-Konstruktion\"]\n"
          ]
        },
        {
          "output_type": "stream",
          "name": "stderr",
          "text": [
            "\r  5%|▍         | 10/221 [00:48<17:04,  4.86s/it]"
          ]
        },
        {
          "output_type": "stream",
          "name": "stdout",
          "text": [
            "[\"Entität_1\", \"Entität_2\", \"Konnekt_1\", \"Konnekt_2\", \"Reduplikation_Kontinuität:von_N1_zu_N1\"]\n"
          ]
        },
        {
          "output_type": "stream",
          "name": "stderr",
          "text": [
            "\r  5%|▍         | 11/221 [00:53<16:54,  4.83s/it]"
          ]
        },
        {
          "output_type": "stream",
          "name": "stdout",
          "text": [
            "[\"Das Auto hat dasselbe Gewicht wie das Auto\", \"Das Auto hat das gleiche Gewicht wie das Auto\", \"Das Auto hat das nämliche Gewicht wie das Auto\", \"Das Auto hat dasselbe Gewicht wie das Auto\", \"Das Auto hat das gleiche Gewicht wie das Auto\"]\n"
          ]
        },
        {
          "output_type": "stream",
          "name": "stderr",
          "text": [
            "\r  5%|▌         | 12/221 [00:54<13:24,  3.85s/it]"
          ]
        },
        {
          "output_type": "stream",
          "name": "stdout",
          "text": [
            "[\"Spezifizierung_Entität:Satzwertige_Partizipphrase\"]\n"
          ]
        },
        {
          "output_type": "stream",
          "name": "stderr",
          "text": [
            "\r  6%|▌         | 13/221 [00:59<14:31,  4.19s/it]"
          ]
        },
        {
          "output_type": "stream",
          "name": "stdout",
          "text": [
            "[\"Die ART-Entität hat eine herausragende Rolle in der Kunst\", \"Die ART-Entität hat eine herausragende Rolle in der Musik\", \"Die ART-Entität hat eine herausragende Rolle in der Architektur\", \"Die ART-Entität hat eine herausragende Rolle in der Malerei\", \"Die ART-Entität hat eine herausragende Rolle in der Mode\"]\n"
          ]
        },
        {
          "output_type": "stream",
          "name": "stderr",
          "text": [
            "\r  6%|▋         | 14/221 [01:03<13:46,  3.99s/it]"
          ]
        },
        {
          "output_type": "stream",
          "name": "stdout",
          "text": [
            "[\"Die Herrscherin des Königreichs\", \"Die Kaiserin des Imperiums\", \"Die Königin der Nation\", \"Die Kaiserin der Welt\", \"Die Königin der Künste\"]\n"
          ]
        },
        {
          "output_type": "stream",
          "name": "stderr",
          "text": [
            "\r  7%|▋         | 15/221 [01:06<13:05,  3.81s/it]"
          ]
        },
        {
          "output_type": "stream",
          "name": "stdout",
          "text": [
            "[\"Das Ganze ist ziemlich blöd gelaufen und wohl kaum noch zu ändern.\"]\n"
          ]
        },
        {
          "output_type": "stream",
          "name": "stderr",
          "text": [
            "\r  7%|▋         | 16/221 [01:10<12:53,  3.77s/it]"
          ]
        },
        {
          "output_type": "stream",
          "name": "stdout",
          "text": [
            "[\"Die Skalen steigen proportional zueinander an\", \"Die Skalen sinken proportional zueinander ab\", \"Die Skalen sind proportional zueinander\", \"Die Skalen sind invers proportional zueinander\", \"Die Skalen sind proportional zueinander\"]\n"
          ]
        },
        {
          "output_type": "stream",
          "name": "stderr",
          "text": [
            "\r  8%|▊         | 17/221 [01:13<11:43,  3.45s/it]"
          ]
        },
        {
          "output_type": "stream",
          "name": "stdout",
          "text": [
            "[\"Exklamativ:V1-Konstruktion\", \"Stimulus\", \"Demonstrativpronomen\", \"Adverb\", \"Nominalphrase\"]\n"
          ]
        },
        {
          "output_type": "stream",
          "name": "stderr",
          "text": [
            "\r  8%|▊         | 18/221 [01:15<10:17,  3.04s/it]"
          ]
        },
        {
          "output_type": "stream",
          "name": "stdout",
          "text": [
            "[\"Generation_XY\", \"Generation_Z\", \"Generation_Alpha\", \"Generation_X\", \"Generation_Y\"]\n"
          ]
        },
        {
          "output_type": "stream",
          "name": "stderr",
          "text": [
            "\r  9%|▊         | 19/221 [01:16<08:58,  2.67s/it]"
          ]
        },
        {
          "output_type": "stream",
          "name": "stdout",
          "text": [
            "[\"Sowohl X als auch Y\", \"X und Y\"]\n"
          ]
        },
        {
          "output_type": "stream",
          "name": "stderr",
          "text": [
            "\r  9%|▉         | 20/221 [01:24<14:13,  4.25s/it]"
          ]
        },
        {
          "output_type": "stream",
          "name": "stdout",
          "text": [
            "[\"Die Tautologie_Hendiadyoin:XP1_und_XP2-Konstruktion\", \"Die Tautologie_Hendiadyoin:XP1_und_XP2-Konstruktion\", \"Die Tautologie_Hendiadyoin:XP1_und_XP2-Konstruktion\", \"Die Tautologie_Hendiadyoin:XP1_und_XP2-Konstruktion\", \"Die Tautologie_Hendiadyoin:XP1_und_XP2-Konstruktion\"]\n"
          ]
        },
        {
          "output_type": "stream",
          "name": "stderr",
          "text": [
            "\r 10%|▉         | 21/221 [01:26<11:19,  3.40s/it]"
          ]
        },
        {
          "output_type": "stream",
          "name": "stdout",
          "text": [
            "[\"X1 ist oder nicht X1\", \"X1 ist oder nicht X1\"]\n"
          ]
        },
        {
          "output_type": "stream",
          "name": "stderr",
          "text": [
            "\r 10%|▉         | 22/221 [01:31<12:59,  3.92s/it]"
          ]
        },
        {
          "output_type": "stream",
          "name": "stdout",
          "text": [
            "[\"Das Auswärtige Amt wollte diese Informationen zunächst nicht bestätigen und Das Auswärtige Amt wollte diese Informationen zunächst nicht dementieren werden\", \"Das Auswärtige Amt wollte diese Informationen zunächst nicht bestätigen und Das Auswärtige Amt wollte diese Informationen zunächst nicht dementieren werden\"]\n"
          ]
        },
        {
          "output_type": "stream",
          "name": "stderr",
          "text": [
            "\r 10%|█         | 23/221 [01:39<17:23,  5.27s/it]"
          ]
        },
        {
          "output_type": "stream",
          "name": "stdout",
          "text": [
            "[\"Ich möchte etwas Kontrafaktisches tun\", \"Ich möchte etwas Kontrafaktisches tun, aber ich kann es nicht tun\", \"Ich möchte etwas Kontrafaktisches tun, aber ich kann es nicht tun, weil ich es nicht tun kann\", \"Ich möchte etwas Kontrafaktisches tun, aber ich kann es nicht tun, weil ich es nicht tun kann, weil ich es nicht tun kann\", \"Ich möchte etwas Kontrafaktisches tun, aber ich kann es nicht tun, weil ich es nicht tun kann, weil ich es nicht tun kann, weil ich es nicht tun kann\"]\n"
          ]
        },
        {
          "output_type": "stream",
          "name": "stderr",
          "text": [
            "\r 11%|█         | 24/221 [01:43<16:05,  4.90s/it]"
          ]
        },
        {
          "output_type": "stream",
          "name": "stdout",
          "text": [
            "[\"Die Katze ist ebenso schwarz wie der Hund\", \"Das Auto ist genauso schnell wie das Motorrad\", \"Das Haus ist ebenso alt wie das Nachbarhaus\", \"Das Kind ist genauso groß wie das andere Kind\", \"Das Buch ist ebenso schwer wie das Tablet\"]\n"
          ]
        },
        {
          "output_type": "stream",
          "name": "stderr",
          "text": [
            "\r 11%|█▏        | 25/221 [02:00<27:48,  8.51s/it]"
          ]
        },
        {
          "output_type": "stream",
          "name": "stdout",
          "text": [
            "[\"Die Äquativ_partielle_Gleichheitähnlich-Konstruktion zeigt die partielle Gleichheit zweier Entitäten an, die hinsichtlich eines bestimmten Wertes eines spezifischen Attributs auf einer Skala miteinander verglichen werden.\", \"Die Äquativ_partielle_Gleichheitähnlich-Konstruktion gehört zu den Vergleichskonstruktionen.\", \"Die Äquativ_partielle_Gleichheitähnlich-Konstruktion zeigt die partielle Gleichheit zweier Entitäten an, die hinsichtlich eines bestimmten Wertes eines spezifischen Attributs auf einer Skala miteinander verglichen werden.\", \"Die Äquativ_partielle_Gleichheitähnlich-Konstruktion zeigt die partielle Gleichheit zweier Entitäten an, die hinsichtlich eines bestimmten Wertes eines spezifischen Attributs auf einer Skala miteinander verglichen werden.\", \"Die Äquativ_partielle_Gleichheitähnlich-Konstruktion zeigt die partielle Gleichheit zweier Entitäten an, die hinsichtlich eines bestimmten Wertes eines spezifischen Attributs auf einer Skala miteinander verglichen werden.\"]\n"
          ]
        },
        {
          "output_type": "stream",
          "name": "stderr",
          "text": [
            "\r 12%|█▏        | 26/221 [02:06<24:53,  7.66s/it]"
          ]
        },
        {
          "output_type": "stream",
          "name": "stdout",
          "text": [
            "[\"Die Kosten betrugen 10 € pro Stunde.\", \"Die Kosten betrugen 2 € pro Minute.\", \"Die Kosten betrugen 5 € pro Dienstleistung.\", \"Die Kosten betrugen 1 € pro Sekunde.\", \"Die Kosten betrugen 1 € pro Minute.\"]\n"
          ]
        },
        {
          "output_type": "stream",
          "name": "stderr",
          "text": [
            "\r 12%|█▏        | 27/221 [02:12<22:48,  7.05s/it]"
          ]
        },
        {
          "output_type": "stream",
          "name": "stdout",
          "text": [
            "[\"Äquativ:Präp_NPist_es_wiePräp_NP\", \"Äquativ:Präp_NPist_es_wiePräp_NP\", \"Äquativ:Präp_NPist_es_wiePräp_NP\", \"Äquativ:Präp_NPist_es_wiePräp_NP\", \"Äquativ:Präp_NPist_es_wiePräp_NP\"]\n"
          ]
        },
        {
          "output_type": "stream",
          "name": "stderr",
          "text": [
            "\r 13%|█▎        | 28/221 [02:17<21:07,  6.57s/it]"
          ]
        },
        {
          "output_type": "stream",
          "name": "stdout",
          "text": [
            "[\"Das Wort 'Tautologie' ist eine Tautologie\", \"Das Wort 'Pleonasmus' ist eine Tautologie\", \"Das Wort 'Kategorie' ist eine Tautologie\", \"Das Wort 'Zusatz' ist eine Tautologie\", \"Das Wort 'Fremdwort' ist eine Tautologie\", \"Das Wort 'Abkürzung' ist eine Tautologie\"]\n"
          ]
        },
        {
          "output_type": "stream",
          "name": "stderr",
          "text": [
            "\r 13%|█▎        | 29/221 [02:22<19:33,  6.11s/it]"
          ]
        },
        {
          "output_type": "stream",
          "name": "stdout",
          "text": [
            "[\"Äquativ: ein X voneinem Y\", \"Äquativ: ein X voneinem Y\", \"Äquativ: ein X voneinem Y\", \"Äquativ: ein X voneinem Y\", \"Äquativ: ein X voneinem Y\"]\n"
          ]
        },
        {
          "output_type": "stream",
          "name": "stderr",
          "text": [
            "\r 14%|█▎        | 30/221 [02:31<22:10,  6.97s/it]"
          ]
        },
        {
          "output_type": "stream",
          "name": "stdout",
          "text": [
            "[\"Die Äquativ_Komposition:N-artig-Konstruktion zeigt die Gleichheit zweier Werte auf einer Skala an.\", \"Die Äquativ_Komposition:N-artig-Konstruktion zeigt die Gleichheit zweier Werte auf einer Skala an.\", \"Die Äquativ_Komposition:N-artig-Konstruktion zeigt die Gleichheit zweier Werte auf einer Skala an.\", \"Die Äquativ_Komposition:N-artig-Konstruktion zeigt die Gleichheit zweier Werte auf einer Skala an.\", \"Die Äquativ_Komposition:N-artig-Konstruktion zeigt die Gleichheit zweier Werte auf einer Skala an.\"]\n"
          ]
        },
        {
          "output_type": "stream",
          "name": "stderr",
          "text": [
            "\r 14%|█▍        | 31/221 [02:50<33:36, 10.62s/it]"
          ]
        },
        {
          "output_type": "stream",
          "name": "stdout",
          "text": [
            "[\"Die Tautologie:X1_X1sein_lassen-Konstruktion gehört zu den Tautologiekonstruktionen und wird durch die Verbindung eines Artikels, zweier identischer Substantive, dem infinitiven Wort sein und einer Form des Wortes lassen realisiert.\", \"Die Konstruktion drückt entweder die Aussage aus, dass sich der Status einer Entität nicht ändert, oder eine implizite Aufforderung, genau dies zuzulassen.\", \"Tautologisch wird die Aussage bzw. die Aufforderung dadurch, dass es keines äußeren Eingreifens bedarf, um den Status der Entität nicht zu ändern.\", \"Desweiteren wird die Konstruktion genutzt, um wiederum entweder die Aussage zu treffen, dass eine Entität aus dem thematischen Kontext ausgeklammert wird oder die Aufforderung dazu, dies zu tun.\", \"Die Konstruktion besteht aus dem Konstruktionsevozierenden Element (KEE) \"sein_lassen\" und den internen Kern-Konstruktionselementen (Kern-KE) \"Kategorie\" und \"Determinierer\".\", \"Die Konstruktion liegt in zwei Formen vor: Während in der ersten Form die Konstruktion durch den \"Determinierer\" eingeleitet wird, fehlt dieser in der zweiten Form.\"]\n",
            "[]\n"
          ]
        },
        {
          "output_type": "stream",
          "name": "stderr",
          "text": [
            "\r 14%|█▍        | 32/221 [02:58<30:29,  9.68s/it]"
          ]
        },
        {
          "output_type": "stream",
          "name": "stdout",
          "text": [
            "[\"Die Äquativ:eine_ArtX-Konstruktion zeigt die Gleichheit zweier Werte an.\", \"Die Äquativ:eine_ArtX-Konstruktion zeigt die Gleichheit zweier Werte an.\", \"Die Äquativ:eine_ArtX-Konstruktion zeigt die Gleichheit zweier Werte an.\", \"Die Äquativ:eine_ArtX-Konstruktion zeigt die Gleichheit zweier Werte an.\", \"Die Äquativ:eine_ArtX-Konstruktion zeigt die Gleichheit zweier Werte an.\"]\n"
          ]
        },
        {
          "output_type": "stream",
          "name": "stderr",
          "text": [
            "\r 15%|█▍        | 33/221 [03:01<24:03,  7.68s/it]"
          ]
        },
        {
          "output_type": "stream",
          "name": "stdout",
          "text": [
            "[\"Wenn du das möchtest\", \"Wenn du das möchtest\", \"Wenn du das möchtest\", \"Wenn du das möchtest\", \"Wenn du das möchtest\"]\n"
          ]
        },
        {
          "output_type": "stream",
          "name": "stderr",
          "text": [
            "\r 15%|█▌        | 34/221 [03:05<20:17,  6.51s/it]"
          ]
        },
        {
          "output_type": "stream",
          "name": "stdout",
          "text": [
            "[\"Exklamativ:was_für_ART.indef_N-Konstruktion\", \"was_für_Stimulus\", \"was_für_gradierbares_Adjektiv\"]\n"
          ]
        },
        {
          "output_type": "stream",
          "name": "stderr",
          "text": [
            "\r 16%|█▌        | 35/221 [03:07<16:43,  5.40s/it]"
          ]
        },
        {
          "output_type": "stream",
          "name": "stdout",
          "text": [
            "[\"Äquativ: Ein_X1_ohne_Y1_ist_wie_ein_X2_ohne_Y2\"]\n"
          ]
        },
        {
          "output_type": "stream",
          "name": "stderr",
          "text": [
            "\r 16%|█▋        | 36/221 [03:10<13:55,  4.52s/it]"
          ]
        },
        {
          "output_type": "stream",
          "name": "stdout",
          "text": [
            "[\"So geht die Intensivierung der Kategorie 'Prototyp'\", \"So muss die Intensivierung der Kategorie 'Prototyp'\"]\n"
          ]
        },
        {
          "output_type": "stream",
          "name": "stderr",
          "text": [
            "\r 17%|█▋        | 37/221 [03:15<14:05,  4.59s/it]"
          ]
        },
        {
          "output_type": "stream",
          "name": "stdout",
          "text": [
            "[\"Der Moment, als ich das erste Mal mein Kind sah\", \"Der Moment, als ich mein Auto gekauft habe\", \"Der Moment, als ich mein Abschlussprüfung bestand\", \"Der Moment, als ich mein erstes Marathonlauf absolviert habe\", \"Der Moment, als ich mein erstes Skifahren lernte\"]\n"
          ]
        },
        {
          "output_type": "stream",
          "name": "stderr",
          "text": [
            "\r 17%|█▋        | 38/221 [03:18<12:48,  4.20s/it]"
          ]
        },
        {
          "output_type": "stream",
          "name": "stdout",
          "text": [
            "[\"Das ist zum Negativen\", \"Das ist zum Unangenehmen\", \"Das ist zum Enttäuschen\", \"Das ist zum Frustrierenden\", \"Das ist zum Erregenden\"]\n"
          ]
        },
        {
          "output_type": "stream",
          "name": "stderr",
          "text": [
            "\r 18%|█▊        | 39/221 [03:24<14:08,  4.66s/it]"
          ]
        },
        {
          "output_type": "stream",
          "name": "stdout",
          "text": [
            "[\"Die Expressivität:alsobS-Konstruktion\", \"Wut\", \"Empörung\", \"Ärger\", \"Enttäuschung\", \"leichter Unmut\", \"Selbstzweifel\", \"Skepsis\", \"ironisch\", \"sarkastisch\", \"KEE\", \"Satz\"]\n"
          ]
        },
        {
          "output_type": "stream",
          "name": "stderr",
          "text": [
            "\r 18%|█▊        | 40/221 [03:27<13:12,  4.38s/it]"
          ]
        },
        {
          "output_type": "stream",
          "name": "stdout",
          "text": [
            "[\"Die Situation war alt, jetzt ist sie neu.\", \"Die Situation war neu, jetzt ist sie alt.\", \"Die Situation war alt, jetzt ist sie alt.\", \"Die Situation war neu, jetzt ist sie neu.\", \"Die Situation war alt, jetzt ist sie alt.\"]\n"
          ]
        },
        {
          "output_type": "stream",
          "name": "stderr",
          "text": [
            "\r 19%|█▊        | 41/221 [03:37<17:38,  5.88s/it]"
          ]
        },
        {
          "output_type": "stream",
          "name": "stdout",
          "text": [
            "[\"Die Äquativ:XgleichtY-Konstruktion zeigt die Gleichheit zweier Entitäten an.\", \"Die Äquativ:XgleichtY-Konstruktion besteht aus den Kern-Konstruktionselementen Verglichenes, Bezugswert und Dimension.\", \"Die Äquativ:XgleichtY-Konstruktion verwendet das Verb gleichen als konstruktionsevozierendes Element.\", \"Die Äquativ:XgleichtY-Konstruktion gehört zu den Vergleichskonstruktionen.\", \"Die Äquativ:XgleichtY-Konstruktion zeigt die Gleichheit zweier Entitäten an.\"]\n"
          ]
        },
        {
          "output_type": "stream",
          "name": "stderr",
          "text": [
            "\r 19%|█▉        | 42/221 [03:40<15:35,  5.22s/it]"
          ]
        },
        {
          "output_type": "stream",
          "name": "stdout",
          "text": [
            "[\"Diminutiv:lein-Konstruktion\", \"Diminutiv:lein-Konstruktion\", \"Diminutiv:lein-Konstruktion\", \"Diminutiv:lein-Konstruktion\", \"Diminutiv:lein-Konstruktion\"]\n"
          ]
        },
        {
          "output_type": "stream",
          "name": "stderr",
          "text": [
            "\r 19%|█▉        | 43/221 [03:44<13:37,  4.59s/it]"
          ]
        },
        {
          "output_type": "stream",
          "name": "stdout",
          "text": [
            "[\"Diminutiv\", \"Diminutiertes\", \"Diminutiv-chen\", \"Diminutiv-chen-Konstruktion\", \"Diminutiv-chen-Konstruktionsevozierender-Element\"]\n"
          ]
        },
        {
          "output_type": "stream",
          "name": "stderr",
          "text": [
            "\r 20%|█▉        | 44/221 [03:46<11:53,  4.03s/it]"
          ]
        },
        {
          "output_type": "stream",
          "name": "stdout",
          "text": [
            "[\"Intensiviert pur\", \"Intensiviert sehr\", \"Intensiviert sehr\", \"Intensiviert sehr\", \"Intensiviert sehr\"]\n"
          ]
        },
        {
          "output_type": "stream",
          "name": "stderr",
          "text": [
            "\r 20%|██        | 45/221 [03:50<11:42,  3.99s/it]"
          ]
        },
        {
          "output_type": "stream",
          "name": "stdout",
          "text": [
            "[\"Intensiviertes satt\", \"Intensiviertes satt\", \"Intensiviertes satt\", \"Intensiviertes satt\", \"Intensiviertes satt\"]\n"
          ]
        },
        {
          "output_type": "stream",
          "name": "stderr",
          "text": [
            "\r 21%|██        | 46/221 [03:55<12:40,  4.35s/it]"
          ]
        },
        {
          "output_type": "stream",
          "name": "stdout",
          "text": [
            "[\"Jedermanns N-Konstruktion\", \"Jedermanns N-Konstruktion\", \"Jedermanns N-Konstruktion\", \"Jedermanns N-Konstruktion\", \"Jedermanns N-Konstruktion\"]\n"
          ]
        },
        {
          "output_type": "stream",
          "name": "stderr",
          "text": [
            "\r 21%|██▏       | 47/221 [04:02<14:55,  5.14s/it]"
          ]
        },
        {
          "output_type": "stream",
          "name": "stdout",
          "text": [
            "[\"Als ob der Vergleich zwischen dem Verglichenen und dem Beziehungswert äquivalent wäre\", \"Als ob der Vergleich zwischen dem Verglichenen und dem Beziehungswert äquivalent wäre\", \"Als ob der Vergleich zwischen dem Verglichenen und dem Beziehungswert äquivalent wäre\", \"Als ob der Vergleich zwischen dem Verglichenen und dem Beziehungswert äquivalent wäre\", \"Als ob der Vergleich zwischen dem Verglichenen und dem Beziehungswert äquivalent wäre\"]\n"
          ]
        },
        {
          "output_type": "stream",
          "name": "stderr",
          "text": [
            "\r 22%|██▏       | 48/221 [04:06<13:45,  4.77s/it]"
          ]
        },
        {
          "output_type": "stream",
          "name": "stdout",
          "text": [
            "[\"Diminuiertes X\", \"Diminuiertes X-i\", \"Diminuiertes X-i-i\", \"Diminuiertes X-i-i-i\", \"Diminuiertes X-i-i-i-i\"]\n"
          ]
        },
        {
          "output_type": "stream",
          "name": "stderr",
          "text": [
            "\r 22%|██▏       | 49/221 [04:13<14:58,  5.23s/it]"
          ]
        },
        {
          "output_type": "stream",
          "name": "stdout",
          "text": [
            "[\"Prototyp_Attribut_nachgestellt:NPparexcellence\", \"Prototyp_Attribut_nachgestellt:NPparexcellence\", \"Prototyp_Attribut_nachgestellt:NPparexcellence\", \"Prototyp_Attribut_nachgestellt:NPparexcellence\", \"Prototyp_Attribut_nachgestellt:NPparexcellence\"]\n"
          ]
        },
        {
          "output_type": "stream",
          "name": "stderr",
          "text": [
            "\r 23%|██▎       | 50/221 [04:18<15:26,  5.42s/it]"
          ]
        },
        {
          "output_type": "stream",
          "name": "stdout",
          "text": [
            "[\"Prototyp_Attribut_nachgestellt:NPwieesimBuchesteht\", \"Prototyp_Attribut_nachgestellt:NPwieesimBuchesteht\", \"Prototyp_Attribut_nachgestellt:NPwieesimBuchesteht\", \"Prototyp_Attribut_nachgestellt:NPwieesimBuchesteht\", \"Prototyp_Attribut_nachgestellt:NPwieesimBuchesteht\"]\n"
          ]
        },
        {
          "output_type": "stream",
          "name": "stderr",
          "text": [
            "\r 23%|██▎       | 51/221 [04:23<14:16,  5.04s/it]"
          ]
        },
        {
          "output_type": "stream",
          "name": "stdout",
          "text": [
            "[\"Intensivierung:zuTodeX\", \"Intensivierung:zuTodeX\", \"Intensivierung:zuTodeX\", \"Intensivierung:zuTodeX\", \"Intensivierung:zuTodeX\"]\n"
          ]
        },
        {
          "output_type": "stream",
          "name": "stderr",
          "text": [
            "\r 24%|██▎       | 52/221 [04:29<15:24,  5.47s/it]"
          ]
        },
        {
          "output_type": "stream",
          "name": "stdout",
          "text": [
            "[\"Intensivierung_Schlussfolgerung:soADJPdassXP\", \"Intensivierung_Schlussfolgerung:soADJPdassXP\", \"Intensivierung_Schlussfolgerung:soADJPdassXP\", \"Intensivierung_Schlussfolgerung:soADJPdassXP\", \"Intensivierung_Schlussfolgerung:soADJPdassXP\"]\n"
          ]
        },
        {
          "output_type": "stream",
          "name": "stderr",
          "text": [
            "\r 24%|██▍       | 53/221 [04:36<16:41,  5.96s/it]"
          ]
        },
        {
          "output_type": "stream",
          "name": "stdout",
          "text": [
            "[\"Die Reduplikation_Irrelevanz:N1hinN1her-Konstruktion\", \"Reduplikation_Irrelevanz:N1hinN1her-Konstruktion\", \"Reduplikation_Irrelevanz:N1hinN1her-Konstruktion\", \"Reduplikation_Irrelevanz:N1hinN1her-Konstruktion\", \"Reduplikation_Irrelevanz:N1hinN1her-Konstruktion\"]\n"
          ]
        },
        {
          "output_type": "stream",
          "name": "stderr",
          "text": [
            "\r 24%|██▍       | 54/221 [04:40<15:09,  5.44s/it]"
          ]
        },
        {
          "output_type": "stream",
          "name": "stdout",
          "text": [
            "[\"Äquativ:X wie wenn Y\", \"Äquativ:X wie wenn Y\", \"Äquativ:X wie wenn Y\", \"Äquativ:X wie wenn Y\", \"Äquativ:X wie wenn Y\"]\n"
          ]
        },
        {
          "output_type": "stream",
          "name": "stderr",
          "text": [
            "\r 25%|██▍       | 55/221 [05:15<39:42, 14.35s/it]"
          ]
        },
        {
          "output_type": "stream",
          "name": "stdout",
          "text": [
            "[]\n"
          ]
        },
        {
          "output_type": "stream",
          "name": "stderr",
          "text": [
            "\r 25%|██▌       | 56/221 [05:19<30:17, 11.01s/it]"
          ]
        },
        {
          "output_type": "stream",
          "name": "stdout",
          "text": [
            "[\"Die Farbe des Himmels ist blau.\", \"Das Wasser ist grün.\", \"Der Himmel ist blau.\", \"Das Gras ist grün.\", \"Das Wasser ist blau.\"]\n"
          ]
        },
        {
          "output_type": "stream",
          "name": "stderr",
          "text": [
            "\r 26%|██▌       | 57/221 [05:25<25:55,  9.48s/it]"
          ]
        },
        {
          "output_type": "stream",
          "name": "stdout",
          "text": [
            "[\"Exklamativ: wie_ADJ-Konstruktion\", \"Exklamativ: wie_ADJ-Konstruktion\", \"Exklamativ: wie_ADJ-Konstruktion\", \"Exklamativ: wie_ADJ-Konstruktion\", \"Exklamativ: wie_ADJ-Konstruktion\"]\n"
          ]
        },
        {
          "output_type": "stream",
          "name": "stderr",
          "text": [
            "\r 26%|██▌       | 58/221 [05:27<19:50,  7.30s/it]"
          ]
        },
        {
          "output_type": "stream",
          "name": "stdout",
          "text": [
            "[\"Kategorisierung_Trendwechsel:Xist_das_was_früherYwar\"]\n"
          ]
        },
        {
          "output_type": "stream",
          "name": "stderr",
          "text": [
            "\r 27%|██▋       | 59/221 [05:31<17:09,  6.35s/it]"
          ]
        },
        {
          "output_type": "stream",
          "name": "stdout",
          "text": [
            "[\"Das Leben ist kein NP-Konstruktion\", \"Das Leben ist kein NP-Konstruktion\", \"Das Leben ist kein NP-Konstruktion\", \"Das Leben ist kein NP-Konstruktion\", \"Das Leben ist kein NP-Konstruktion\"]\n"
          ]
        },
        {
          "output_type": "stream",
          "name": "stderr",
          "text": [
            "\r 27%|██▋       | 60/221 [05:35<15:10,  5.66s/it]"
          ]
        },
        {
          "output_type": "stream",
          "name": "stdout",
          "text": [
            "[\"Ist_kein_Ponyhof\", \"Ist_kein_Ponyhof_eben\", \"Ist_kein_Ponyhof_halt\", \"Ist_kein_Ponyhof_nun_mal\", \"Ist_kein_Ponyhof_schließlich\"]\n"
          ]
        },
        {
          "output_type": "stream",
          "name": "stderr",
          "text": [
            "\r 28%|██▊       | 61/221 [05:42<16:33,  6.21s/it]"
          ]
        },
        {
          "output_type": "stream",
          "name": "stdout",
          "text": [
            "[\"Exklamativ:welch_(ART.indef_)N-Konstruktion\", \"Exklamativ:welch_(ART.indef_)N-Konstruktion\", \"Exklamativ:welch_(ART.indef_)N-Konstruktion\", \"Exklamativ:welch_(ART.indef_)N-Konstruktion\", \"Exklamativ:welch_(ART.indef_)N-Konstruktion\"]\n"
          ]
        },
        {
          "output_type": "stream",
          "name": "stderr",
          "text": [
            "\r 28%|██▊       | 62/221 [05:45<13:42,  5.17s/it]"
          ]
        },
        {
          "output_type": "stream",
          "name": "stdout",
          "text": [
            "[\"Intensiviertes brutal\", \"Intensiviertes brutal\", \"Intensiviertes brutal\", \"Intensiviertes brutal\", \"Intensiviertes brutal\"]\n"
          ]
        },
        {
          "output_type": "stream",
          "name": "stderr",
          "text": [
            "\r 29%|██▊       | 63/221 [05:49<12:40,  4.81s/it]"
          ]
        },
        {
          "output_type": "stream",
          "name": "stdout",
          "text": [
            "[\"Intensiviert der Arzt bis zur Krankheit\", \"Intensiviert der Arzt bis zur Behandlung\", \"Intensiviert der Arzt bis zur Heilung\", \"Intensiviert der Arzt bis zur Genesung\", \"Intensiviert der Arzt bis zur Entlassung\"]\n"
          ]
        },
        {
          "output_type": "stream",
          "name": "stderr",
          "text": [
            "\r 29%|██▉       | 64/221 [05:54<12:52,  4.92s/it]"
          ]
        },
        {
          "output_type": "stream",
          "name": "stdout",
          "text": [
            "[\"Irrelevanz:N1hinN2her\", \"Irrelevanz:N1hinN2her\", \"Irrelevanz:N1hinN2her\", \"Irrelevanz:N1hinN2her\", \"Irrelevanz:N1hinN2her\"]\n"
          ]
        },
        {
          "output_type": "stream",
          "name": "stderr",
          "text": [
            "\r 29%|██▉       | 65/221 [05:59<12:38,  4.86s/it]"
          ]
        },
        {
          "output_type": "stream",
          "name": "stdout",
          "text": [
            "[\"Diminutiv:X-eln-Konstruktion\", \"Diminutiv:X-eln-Konstruktion\", \"Diminutiv:X-eln-Konstruktion\", \"Diminutiv:X-eln-Konstruktion\", \"Diminutiv:X-eln-Konstruktion\"]\n"
          ]
        },
        {
          "output_type": "stream",
          "name": "stderr",
          "text": [
            "\r 30%|██▉       | 66/221 [06:01<10:09,  3.93s/it]"
          ]
        },
        {
          "output_type": "stream",
          "name": "stdout",
          "text": [
            "[\"Intensivierung\", \"Attribut\", \"nachgestellt\", \"NP\", \"Intensiviertes\"]\n"
          ]
        },
        {
          "output_type": "stream",
          "name": "stderr",
          "text": [
            "\r 30%|███       | 67/221 [06:04<09:32,  3.72s/it]"
          ]
        },
        {
          "output_type": "stream",
          "name": "stdout",
          "text": [
            "[\"Diminutiv:ADJ-lich\", \"Diminutiv:ADJ-lich\", \"Diminutiv:ADJ-lich\", \"Diminutiv:ADJ-lich\", \"Diminutiv:ADJ-lich\"]\n"
          ]
        },
        {
          "output_type": "stream",
          "name": "stderr",
          "text": [
            "\r 31%|███       | 68/221 [06:12<12:36,  4.94s/it]"
          ]
        },
        {
          "output_type": "stream",
          "name": "stdout",
          "text": [
            "[\"Diminutiv_Redundanz:X-x1-x2-Konstruktion\", \"Diminutiv_Redundanz:X-x1-x2-Konstruktion\", \"Diminutiv_Redundanz:X-x1-x2-Konstruktion\", \"Diminutiv_Redundanz:X-x1-x2-Konstruktion\", \"Diminutiv_Redundanz:X-x1-x2-Konstruktion\"]\n"
          ]
        },
        {
          "output_type": "stream",
          "name": "stderr",
          "text": [
            "\r 31%|███       | 69/221 [06:14<10:43,  4.23s/it]"
          ]
        },
        {
          "output_type": "stream",
          "name": "stdout",
          "text": [
            "[\"Kein X für niemand\", \"Kein X für niemand\", \"Kein X für niemand\", \"Kein X für niemand\", \"Kein X für niemand\"]\n"
          ]
        },
        {
          "output_type": "stream",
          "name": "stderr",
          "text": [
            "\r 32%|███▏      | 70/221 [06:20<11:42,  4.65s/it]"
          ]
        },
        {
          "output_type": "stream",
          "name": "stdout",
          "text": [
            "[\"Intensiviertes_Reden_ist_SilberXist_Gold\", \"Intensiviertes_Reden_ist_SilberXist_Gold\", \"Intensiviertes_Reden_ist_SilberXist_Gold\", \"Intensiviertes_Reden_ist_SilberXist_Gold\", \"Intensiviertes_Reden_ist_SilberXist_Gold\"]\n"
          ]
        },
        {
          "output_type": "stream",
          "name": "stderr",
          "text": [
            "\r 32%|███▏      | 71/221 [06:27<13:24,  5.36s/it]"
          ]
        },
        {
          "output_type": "stream",
          "name": "stdout",
          "text": [
            "[\"Prototyp_Attribut_nachgestellt:NPschlechthin\", \"Prototyp_Attribut_nachgestellt:NPschlechthin\", \"Prototyp_Attribut_nachgestellt:NPschlechthin\", \"Prototyp_Attribut_nachgestellt:NPschlechthin\", \"Prototyp_Attribut_nachgestellt:NPschlechthin\"]\n"
          ]
        },
        {
          "output_type": "stream",
          "name": "stderr",
          "text": [
            "\r 33%|███▎      | 72/221 [06:31<12:12,  4.92s/it]"
          ]
        },
        {
          "output_type": "stream",
          "name": "stdout",
          "text": [
            "[\"Die Bewegung des Ereignisses ist reflexiv.\", \"Der Weg des Bewegenden ist reflexiv.\", \"Die Bewegung des Weges ist reflexiv.\", \"Das Ereignis bewegt sich reflexiv.\", \"Der Weg des Ereignisses ist reflexiv.\"]\n"
          ]
        },
        {
          "output_type": "stream",
          "name": "stderr",
          "text": [
            "\r 33%|███▎      | 73/221 [06:34<10:31,  4.27s/it]"
          ]
        },
        {
          "output_type": "stream",
          "name": "stdout",
          "text": [
            "[\"Ich bewege mich selbst\", \"Sie bewegt sich selbst\", \"Es bewegt sich selbst\", \"Es bewegt sich selbst\", \"Es bewegt sich selbst\"]\n"
          ]
        },
        {
          "output_type": "stream",
          "name": "stderr",
          "text": [
            "\r 33%|███▎      | 74/221 [06:36<09:06,  3.72s/it]"
          ]
        },
        {
          "output_type": "stream",
          "name": "stdout",
          "text": [
            "[\"Die Bewegung des Selbst\", \"Die Bewegung des Selbst\", \"Die Bewegung des Selbst\", \"Die Bewegung des Selbst\", \"Die Bewegung des Selbst\"]\n"
          ]
        },
        {
          "output_type": "stream",
          "name": "stderr",
          "text": [
            "\r 34%|███▍      | 75/221 [06:41<09:43,  4.00s/it]"
          ]
        },
        {
          "output_type": "stream",
          "name": "stdout",
          "text": [
            "[\"Die Katze kann auch schnurren\", \"Der Hund kann nicht schnurren\", \"Das Auto kann auch schnurren\", \"Das Auto kann nicht schnurren\", \"Das Auto kann auch schnurren\"]\n"
          ]
        },
        {
          "output_type": "stream",
          "name": "stderr",
          "text": [
            "\r 34%|███▍      | 76/221 [06:47<11:16,  4.67s/it]"
          ]
        },
        {
          "output_type": "stream",
          "name": "stdout",
          "text": [
            "[\"Prototyp_Kompositum:Muster-N\", \"Prototyp_Kompositum:Muster-Intensiviert\", \"Prototyp_Kompositum:Muster-Intensiviert_Spezifiziert\", \"Prototyp_Kompositum:Muster-Intensiviert_Prototypische_Entität\", \"Prototyp_Kompositum:Muster-Intensiviert_Kategorie\"]\n"
          ]
        },
        {
          "output_type": "stream",
          "name": "stderr",
          "text": [
            "\r 35%|███▍      | 77/221 [06:50<09:57,  4.15s/it]"
          ]
        },
        {
          "output_type": "stream",
          "name": "stdout",
          "text": [
            "[\"Die Katze schläft\", \"Der Hund bellt\", \"Das Auto fährt schnell\", \"Die Blume blüht\", \"Das Haus steht\"]\n"
          ]
        },
        {
          "output_type": "stream",
          "name": "stderr",
          "text": [
            "\r 35%|███▌      | 78/221 [07:51<50:38, 21.25s/it]"
          ]
        },
        {
          "output_type": "stream",
          "name": "stdout",
          "text": [
            "[\"Was ist das stimulierende Element?\"]\n"
          ]
        },
        {
          "output_type": "stream",
          "name": "stderr",
          "text": [
            "\r 36%|███▌      | 79/221 [07:55<37:41, 15.93s/it]"
          ]
        },
        {
          "output_type": "stream",
          "name": "stdout",
          "text": [
            "[\"Die Katze schläft\", \"Der Hund bellt\", \"Das Auto fährt schnell\", \"Die Blume blüht\", \"Das Haus steht\"]\n"
          ]
        },
        {
          "output_type": "stream",
          "name": "stderr",
          "text": [
            "\r 36%|███▌      | 80/221 [08:00<29:48, 12.69s/it]"
          ]
        },
        {
          "output_type": "stream",
          "name": "stdout",
          "text": [
            "[\"Konkretisierung_restriktiv:Klammern\", \"Attribution:Klammern\", \"Sekundäre_Information:Klammern\", \"Konkretisierung_restriktiv:Klammern\", \"Attribution:Klammern\"]\n"
          ]
        },
        {
          "output_type": "stream",
          "name": "stderr",
          "text": [
            "\r 37%|███▋      | 81/221 [08:05<24:13, 10.38s/it]"
          ]
        },
        {
          "output_type": "stream",
          "name": "stdout",
          "text": [
            "[\"Das Passe-partout-ding-Konstruktum\", \"Das Passe-partout-kram-Konstruktum\", \"Das Passe-partout-sache-Konstruktum\", \"Das Passe-partout-teil-Konstruktum\", \"Das Passe-partout-zeug-Konstruktum\"]\n"
          ]
        },
        {
          "output_type": "stream",
          "name": "stderr",
          "text": [
            "\r 37%|███▋      | 82/221 [08:08<19:12,  8.29s/it]"
          ]
        },
        {
          "output_type": "stream",
          "name": "stdout",
          "text": [
            "[\"Klammern\", \"Koordination_morphologisch\", \"Klammern\", \"Koordination_morphologisch\", \"Klammern\"]\n"
          ]
        },
        {
          "output_type": "stream",
          "name": "stderr",
          "text": [
            "\r 38%|███▊      | 83/221 [08:15<18:14,  7.93s/it]"
          ]
        },
        {
          "output_type": "stream",
          "name": "stdout",
          "text": [
            "[\"Negation:von_wegenX-Konstruktion\", \"Negation:von_wegenX-Konstruktion\", \"Negation:von_wegenX-Konstruktion\", \"Negation:von_wegenX-Konstruktion\", \"Negation:von_wegenX-Konstruktion\"]\n"
          ]
        },
        {
          "output_type": "stream",
          "name": "stderr",
          "text": [
            "\r 38%|███▊      | 84/221 [08:20<15:35,  6.83s/it]"
          ]
        },
        {
          "output_type": "stream",
          "name": "stdout",
          "text": [
            "[\"Gegenüberstellung:allenXzumTrotz\", \"Gegenüberstellung:allenXzumTrotz\", \"Gegenüberstellung:allenXzumTrotz\", \"Gegenüberstellung:allenXzumTrotz\", \"Gegenüberstellung:allenXzumTrotz\"]\n"
          ]
        },
        {
          "output_type": "stream",
          "name": "stderr",
          "text": [
            "\r 38%|███▊      | 85/221 [08:23<13:14,  5.84s/it]"
          ]
        },
        {
          "output_type": "stream",
          "name": "stdout",
          "text": [
            "[\"Direktiv:jetztheißtesX\", \"Direktiv:jetztheißtesY\", \"Direktiv:jetztheißtesZ\", \"Direktiv:jetztheißtesA\", \"Direktiv:jetztheißtesB\"]\n"
          ]
        },
        {
          "output_type": "stream",
          "name": "stderr",
          "text": [
            "\r 39%|███▉      | 86/221 [08:30<14:07,  6.27s/it]"
          ]
        },
        {
          "output_type": "stream",
          "name": "stdout",
          "text": [
            "[\"Reduplikation_Wortbildung_Ablautdoppelung:X-X\", \"Reduplikation_Wortbildung_Ablautdoppelung:X-X\", \"Reduplikation_Wortbildung_Ablautdoppelung:X-X\", \"Reduplikation_Wortbildung_Ablautdoppelung:X-X\", \"Reduplikation_Wortbildung_Ablautdoppelung:X-X\"]\n"
          ]
        },
        {
          "output_type": "stream",
          "name": "stderr",
          "text": [
            "\r 39%|███▉      | 87/221 [08:36<13:37,  6.10s/it]"
          ]
        },
        {
          "output_type": "stream",
          "name": "stdout",
          "text": [
            "[\"Reduplikation_Wortbildung_Reimdoppelung:X-X\", \"Reduplikation_Wortbildung_Reimdoppelung:X-X\", \"Reduplikation_Wortbildung_Reimdoppelung:X-X\", \"Reduplikation_Wortbildung_Reimdoppelung:X-X\", \"Reduplikation_Wortbildung_Reimdoppelung:X-X\"]\n"
          ]
        },
        {
          "output_type": "stream",
          "name": "stderr",
          "text": [
            "\r 40%|███▉      | 88/221 [08:39<11:08,  5.03s/it]"
          ]
        },
        {
          "output_type": "stream",
          "name": "stdout",
          "text": [
            "[\"Einordnung_Gattung:Klammern\", \"Attribution:Klammern\", \"Sekundäre_Information:Klammern\"]\n"
          ]
        },
        {
          "output_type": "stream",
          "name": "stderr",
          "text": [
            "\r 40%|████      | 89/221 [08:43<10:18,  4.69s/it]"
          ]
        },
        {
          "output_type": "stream",
          "name": "stdout",
          "text": [
            "[\"Einordnung:Klammern\", \"Attribution:Klammern\", \"Sekundäre_Information:Klammern\", \"Einordnung:Klammern\", \"Attribution:Klammern\"]\n"
          ]
        },
        {
          "output_type": "stream",
          "name": "stderr",
          "text": [
            "\r 41%|████      | 90/221 [08:47<10:09,  4.66s/it]"
          ]
        },
        {
          "output_type": "stream",
          "name": "stdout",
          "text": [
            "[\"Attribution:Klammern\", \"Einordnung:Klammern\", \"Sekundäre_Information:Klammern\", \"Attribution:Klammern\", \"Einordnung:Klammern\"]\n"
          ]
        },
        {
          "output_type": "stream",
          "name": "stderr",
          "text": [
            "\r 41%|████      | 91/221 [08:50<09:11,  4.24s/it]"
          ]
        },
        {
          "output_type": "stream",
          "name": "stdout",
          "text": [
            "[\"Entsprechung_Zeitangabe:Klammern\", \"Entsprechung:Klammern\", \"Attribution:Klammern\", \"Sekundäre_Information:Klammern\"]\n"
          ]
        },
        {
          "output_type": "stream",
          "name": "stderr",
          "text": [
            "\r 42%|████▏     | 92/221 [08:54<08:36,  4.00s/it]"
          ]
        },
        {
          "output_type": "stream",
          "name": "stdout",
          "text": [
            "[\"Zuordnung:Klammern\", \"Zuordnung:Klammern\", \"Zuordnung:Klammern\", \"Zuordnung:Klammern\", \"Zuordnung:Klammern\"]\n"
          ]
        },
        {
          "output_type": "stream",
          "name": "stderr",
          "text": [
            "\r 42%|████▏     | 93/221 [08:58<08:32,  4.01s/it]"
          ]
        },
        {
          "output_type": "stream",
          "name": "stdout",
          "text": [
            "[\"Das Essen war lecker.\", \"Das Essen war nicht lecker.\", \"Das Essen schmeckte lecker.\", \"Das Essen schmeckte nicht lecker.\", \"Das Essen schmeckte lecker im übertragenen Sinn.\"]\n"
          ]
        },
        {
          "output_type": "stream",
          "name": "stderr",
          "text": [
            "\r 43%|████▎     | 94/221 [09:14<16:11,  7.65s/it]"
          ]
        },
        {
          "output_type": "stream",
          "name": "stdout",
          "text": [
            "[]\n"
          ]
        },
        {
          "output_type": "stream",
          "name": "stderr",
          "text": [
            "\r 43%|████▎     | 95/221 [09:22<16:07,  7.68s/it]"
          ]
        },
        {
          "output_type": "stream",
          "name": "stdout",
          "text": [
            "[]\n"
          ]
        },
        {
          "output_type": "stream",
          "name": "stderr",
          "text": [
            "\r 43%|████▎     | 96/221 [09:29<15:26,  7.42s/it]"
          ]
        },
        {
          "output_type": "stream",
          "name": "stdout",
          "text": [
            "[\"Die Mutter aller NP-Konstruktionen ist der Prototyp aller Intensivierungs- und Prototypkonstruktionen.\", \"Die Intensivierte Kategorie ist der Prototyp der prototypischen Entität.\", \"Die prototypische Entität ist der Prototyp der Intensivierten Kategorie.\", \"Die Intensivierte Kategorie ist der Prototyp der prototypischen Entität.\", \"Die prototypische Entität ist der Prototyp der Intensivierten Kategorie.\"]\n"
          ]
        },
        {
          "output_type": "stream",
          "name": "stderr",
          "text": [
            "\r 44%|████▍     | 97/221 [09:40<17:44,  8.58s/it]"
          ]
        },
        {
          "output_type": "stream",
          "name": "stdout",
          "text": [
            "[]\n"
          ]
        },
        {
          "output_type": "stream",
          "name": "stderr",
          "text": [
            "\r 44%|████▍     | 98/221 [09:44<14:40,  7.16s/it]"
          ]
        },
        {
          "output_type": "stream",
          "name": "stdout",
          "text": [
            "[\"Nicht_un-unrein\", \"Nicht_un-unbesorgt\", \"Nicht_un-unzufrieden\", \"Nicht_un-unbequem\", \"Nicht_un-unangenehm\"]\n"
          ]
        },
        {
          "output_type": "stream",
          "name": "stderr",
          "text": [
            "\r 45%|████▍     | 99/221 [09:48<12:58,  6.38s/it]"
          ]
        },
        {
          "output_type": "stream",
          "name": "stdout",
          "text": [
            "[\"Kein N1 ist auch ein N1\", \"Kein N1 ist auch ein N1\", \"Kein N1 ist auch ein N1\", \"Kein N1 ist auch ein N1\", \"Kein N1 ist auch ein N1\"]\n"
          ]
        },
        {
          "output_type": "stream",
          "name": "stderr",
          "text": [
            "\r 45%|████▌     | 100/221 [09:54<12:17,  6.09s/it]"
          ]
        },
        {
          "output_type": "stream",
          "name": "stdout",
          "text": [
            "[\"Exklamativ: wie ADJ_Kopula_PRON.dem\", \"Exklamativ: wie ADJ_Kopula_PRON.dem\", \"Exklamativ: wie ADJ_Kopula_PRON.dem\", \"Exklamativ: wie ADJ_Kopula_PRON.dem\", \"Exklamativ: wie ADJ_Kopula_PRON.dem\"]\n"
          ]
        },
        {
          "output_type": "stream",
          "name": "stderr",
          "text": [
            "\r 46%|████▌     | 101/221 [09:56<10:12,  5.10s/it]"
          ]
        },
        {
          "output_type": "stream",
          "name": "stdout",
          "text": [
            "[\"Ich habe gehabt\", \"Du hättest gehabt\", \"Er hatte gehabt\", \"Wir hatten gehabt\", \"Sie hatten gehabt\"]\n"
          ]
        },
        {
          "output_type": "stream",
          "name": "stderr",
          "text": [
            "\r 46%|████▌     | 102/221 [10:08<13:51,  6.99s/it]"
          ]
        },
        {
          "output_type": "stream",
          "name": "stdout",
          "text": [
            "[\"Die Korrelativer_Äquativ:soADV_VPsoADV_VP-Konstruktion zeigt ein proportionales Verhältnis zweier unterschiedlicher Skalen an.\", \"Die Skala, mit der der zweite Teilsatz korreliert, wird durch den ersten Teilsatz aufgerufen.\", \"Die internen Kern-Konstruktionselemente des ersten Teilsatzes sind 'Dimension' und 'Verglichenes'.\", \"Die internen Kern-Konstruktionselemente des zweiten Teilsatzes sind 'Korrelierende_Dimension' und 'Korrelierendes_Verglichenes'.\", \"Die Konstruktion besteht aus dem konstruktionsevozierenden Element 'so_so', welches beide Teilsätze einleitet.\"]\n"
          ]
        },
        {
          "output_type": "stream",
          "name": "stderr",
          "text": [
            "\r 47%|████▋     | 103/221 [10:15<13:56,  7.09s/it]"
          ]
        },
        {
          "output_type": "stream",
          "name": "stdout",
          "text": [
            "[\"Besser spät als nie\", \"Besser zu früh als zu spät\", \"Besser mehrere dünne Schichten übereinanderstreifen als wenige dicke\", \"X ist zwar auch nicht perfekt, aber immer noch positiver als Y.\", \"Wenn eine Sache eine bestimmte Eigenschaft hat, und eine andere Sache hat eine andere Eigenschaft oder dieselbe zu einem unterschiedlichen Grad, so ist eine der Sachen der anderen vorzuziehen\"]\n"
          ]
        },
        {
          "output_type": "stream",
          "name": "stderr",
          "text": [
            "\r 47%|████▋     | 104/221 [10:18<11:27,  5.87s/it]"
          ]
        },
        {
          "output_type": "stream",
          "name": "stdout",
          "text": [
            "[\"Als noch war\", \"Kategorie\", \"positive Eigenschaften\", \"nicht mehr besitzt\", \"nostalgisch\"]\n"
          ]
        },
        {
          "output_type": "stream",
          "name": "stderr",
          "text": [
            "\r 48%|████▊     | 105/221 [10:22<10:26,  5.40s/it]"
          ]
        },
        {
          "output_type": "stream",
          "name": "stdout",
          "text": [
            "[\"Indirekte_Redewiedergabe:vonwegenX\", \"Indirekte_Redewiedergabe:vonwegenX\", \"Indirekte_Redewiedergabe:vonwegenX\", \"Indirekte_Redewiedergabe:vonwegenX\", \"Indirekte_Redewiedergabe:vonwegenX\"]\n"
          ]
        },
        {
          "output_type": "stream",
          "name": "stderr",
          "text": [
            "\r 48%|████▊     | 106/221 [10:26<09:24,  4.91s/it]"
          ]
        },
        {
          "output_type": "stream",
          "name": "stdout",
          "text": [
            "[\"Die Maße sind gleich.\", \"Das Ausmaß beträgt 10.\", \"Das Gewicht beträgt 50 kg.\", \"Das Volumen beträgt 100 Liter.\", \"Das Gewicht beträgt 100 kg.\"]\n"
          ]
        },
        {
          "output_type": "stream",
          "name": "stderr",
          "text": [
            "\r 48%|████▊     | 107/221 [10:29<08:04,  4.25s/it]"
          ]
        },
        {
          "output_type": "stream",
          "name": "stdout",
          "text": [
            "[\"Entweder X oder nicht\", \"Entweder X oder nicht\", \"Entweder X oder nicht\", \"Entweder X oder nicht\", \"Entweder X oder nicht\"]\n"
          ]
        },
        {
          "output_type": "stream",
          "name": "stderr",
          "text": [
            "\r 49%|████▉     | 108/221 [10:34<08:30,  4.52s/it]"
          ]
        },
        {
          "output_type": "stream",
          "name": "stdout",
          "text": [
            "[\"Niemand ist unersetzlich\", \"Keiner ist perfekt\", \"Niemand ist perfekt\", \"Keiner ist perfekt\", \"Keiner ist perfekt\"]\n"
          ]
        },
        {
          "output_type": "stream",
          "name": "stderr",
          "text": [
            "\r 49%|████▉     | 109/221 [10:37<07:24,  3.97s/it]"
          ]
        },
        {
          "output_type": "stream",
          "name": "stdout",
          "text": [
            "[\"Ein kleiner Mann ist die für den Normalbürger bestimmte Entsprechung eines höherwertigen, nur für wenige bestimmte Pferde.\"]\n"
          ]
        },
        {
          "output_type": "stream",
          "name": "stderr",
          "text": [
            "\r 50%|████▉     | 110/221 [10:43<08:33,  4.63s/it]"
          ]
        },
        {
          "output_type": "stream",
          "name": "stdout",
          "text": [
            "[\"Interrogativ_Vergewisserungssignal:XP_X-Konstruktion\", \"Interrogativ_Vergewisserungssignal:XP_X-Konstruktion\", \"Interrogativ_Vergewisserungssignal:XP_X-Konstruktion\", \"Interrogativ_Vergewisserungssignal:XP_X-Konstruktion\", \"Interrogativ_Vergewisserungssignal:XP_X-Konstruktion\"]\n"
          ]
        },
        {
          "output_type": "stream",
          "name": "stderr",
          "text": [
            "\r 50%|█████     | 111/221 [10:46<07:24,  4.04s/it]"
          ]
        },
        {
          "output_type": "stream",
          "name": "stdout",
          "text": [
            "[\"So VP VP\", \"So VP VP\", \"So VP VP\", \"So VP VP\", \"So VP VP\"]\n"
          ]
        },
        {
          "output_type": "stream",
          "name": "stderr",
          "text": [
            "\r 51%|█████     | 112/221 [10:50<07:19,  4.03s/it]"
          ]
        },
        {
          "output_type": "stream",
          "name": "stdout",
          "text": [
            "[\"Kein N1 ist auch ein N2\", \"N1 ist nicht ein N2\", \"N1 ist kein N2\", \"N2 ist kein N1\", \"N1 ist kein N2\"]\n"
          ]
        },
        {
          "output_type": "stream",
          "name": "stderr",
          "text": [
            "\r 51%|█████     | 113/221 [10:54<07:38,  4.25s/it]"
          ]
        },
        {
          "output_type": "stream",
          "name": "stdout",
          "text": [
            "[\"Personenreferenz_abwertend:ling-Konstruktion\", \"Personenreferenz_abwertend:ling-Konstruktion\", \"Personenreferenz_abwertend:ling-Konstruktion\", \"Personenreferenz_abwertend:ling-Konstruktion\", \"Personenreferenz_abwertend:ling-Konstruktion\"]\n"
          ]
        },
        {
          "output_type": "stream",
          "name": "stderr",
          "text": [
            "\r 52%|█████▏    | 114/221 [10:57<06:53,  3.86s/it]"
          ]
        },
        {
          "output_type": "stream",
          "name": "stdout",
          "text": [
            "[\"Was ist mit dem Auto?\"]\n"
          ]
        },
        {
          "output_type": "stream",
          "name": "stderr",
          "text": [
            "\r 52%|█████▏    | 115/221 [11:02<07:18,  4.14s/it]"
          ]
        },
        {
          "output_type": "stream",
          "name": "stdout",
          "text": [
            "[\"Interrogativ_rhetorisch:NPundX\", \"Interrogativ_rhetorisch:NPundX\", \"Interrogativ_rhetorisch:NPundX\", \"Interrogativ_rhetorisch:NPundX\", \"Interrogativ_rhetorisch:NPundX\"]\n"
          ]
        },
        {
          "output_type": "stream",
          "name": "stderr",
          "text": [
            "\r 52%|█████▏    | 116/221 [11:06<06:58,  3.99s/it]"
          ]
        },
        {
          "output_type": "stream",
          "name": "stdout",
          "text": [
            "[\"Intensivierter Bewerter\", \"so etwas von\", \"Zusätzlicher Intensivierer\", \"Sprechereinstellung\", \"Intensivierung: so etwas von X\"]\n"
          ]
        },
        {
          "output_type": "stream",
          "name": "stderr",
          "text": [
            "\r 53%|█████▎    | 117/221 [11:09<06:21,  3.67s/it]"
          ]
        },
        {
          "output_type": "stream",
          "name": "stdout",
          "text": [
            "[\"Die Katze ist kein Hund\", \"Die Blume ist kein Baum\", \"Die Woche ist kein Monat\", \"Die Farbe ist kein Geruch\", \"Die Zahl ist kein Buchstabe\"]\n"
          ]
        },
        {
          "output_type": "stream",
          "name": "stderr",
          "text": [
            "\r 53%|█████▎    | 118/221 [11:17<08:35,  5.01s/it]"
          ]
        },
        {
          "output_type": "stream",
          "name": "stdout",
          "text": [
            "[\"Intensiviert_Silber_Gold_Komparativ:Xist_SilberYist_Gold\", \"Intensiviert_Silber_Gold_Komparativ:Xist_SilberYist_Gold\", \"Intensiviert_Silber_Gold_Komparativ:Xist_SilberYist_Gold\", \"Intensiviert_Silber_Gold_Komparativ:Xist_SilberYist_Gold\", \"Intensiviert_Silber_Gold_Komparativ:Xist_SilberYist_Gold\"]\n"
          ]
        },
        {
          "output_type": "stream",
          "name": "stderr",
          "text": [
            "\r 54%|█████▍    | 119/221 [11:22<08:48,  5.19s/it]"
          ]
        },
        {
          "output_type": "stream",
          "name": "stdout",
          "text": [
            "[\"Exklamativ:dieserN-Konstruktion\", \"Exklamativ:dieserN-Konstruktion\", \"Exklamativ:dieserN-Konstruktion\", \"Exklamativ:dieserN-Konstruktion\", \"Exklamativ:dieserN-Konstruktion\"]\n"
          ]
        },
        {
          "output_type": "stream",
          "name": "stderr",
          "text": [
            "\r 54%|█████▍    | 120/221 [11:24<06:41,  3.98s/it]"
          ]
        },
        {
          "output_type": "stream",
          "name": "stdout",
          "text": [
            "[\"kaum\", \"Dimension\", \"Gradiertes\"]\n"
          ]
        },
        {
          "output_type": "stream",
          "name": "stderr",
          "text": [
            "\r 55%|█████▍    | 121/221 [11:26<06:01,  3.62s/it]"
          ]
        },
        {
          "output_type": "stream",
          "name": "stdout",
          "text": [
            "[\"Intensivierung: sehr V\", \"Intensivierung: sehr V\", \"Intensivierung: sehr V\", \"Intensivierung: sehr V\", \"Intensivierung: sehr V\"]\n"
          ]
        },
        {
          "output_type": "stream",
          "name": "stderr",
          "text": [
            "\r 55%|█████▌    | 122/221 [11:29<05:19,  3.23s/it]"
          ]
        },
        {
          "output_type": "stream",
          "name": "stdout",
          "text": [
            "[\"Allein\", \"Stimulus\", \"Allein\", \"Stimulus\", \"Allein\", \"Stimulus\"]\n"
          ]
        },
        {
          "output_type": "stream",
          "name": "stderr",
          "text": [
            "\r 56%|█████▌    | 123/221 [11:35<06:53,  4.22s/it]"
          ]
        },
        {
          "output_type": "stream",
          "name": "stdout",
          "text": [
            "[\"Determinativkompositum:Kategorisierung\", \"Determinativkompositum:Rektion\", \"Determinativkompositum:Polymorphematik\", \"Determinativkompositum:Symantik\", \"Determinativkompositum:Informell\"]\n"
          ]
        },
        {
          "output_type": "stream",
          "name": "stderr",
          "text": [
            "\r 56%|█████▌    | 124/221 [11:38<06:18,  3.90s/it]"
          ]
        },
        {
          "output_type": "stream",
          "name": "stdout",
          "text": [
            "[\"Dass ich eine Katze habe\", \"Dass der Hund bellt\", \"Dass der Regen heiß ist\", \"Dass der Kaffee schwarz ist\", \"Dass der Computer schnell ist\"]\n"
          ]
        },
        {
          "output_type": "stream",
          "name": "stderr",
          "text": [
            "\r 57%|█████▋    | 125/221 [11:43<06:30,  4.07s/it]"
          ]
        },
        {
          "output_type": "stream",
          "name": "stdout",
          "text": [
            "[\"So_ART.indef_N-Konstruktion\", \"so_ART.indef_N-Konstruktion\", \"so_ART.indef_N-Konstruktion\", \"so_ART.indef_N-Konstruktion\", \"so_ART.indef_N-Konstruktion\"]\n"
          ]
        },
        {
          "output_type": "stream",
          "name": "stderr",
          "text": [
            "\r 57%|█████▋    | 126/221 [11:46<05:53,  3.72s/it]"
          ]
        },
        {
          "output_type": "stream",
          "name": "stdout",
          "text": [
            "[\"Gegenüberstellung:V1_V1-Konstruktion\", \"Sachverhalt_1\", \"Sachverhalt_2\", \"so\", \"früher_heute\"]\n"
          ]
        },
        {
          "output_type": "stream",
          "name": "stderr",
          "text": [
            "\r 57%|█████▋    | 127/221 [11:51<06:23,  4.08s/it]"
          ]
        },
        {
          "output_type": "stream",
          "name": "stdout",
          "text": [
            "[\"Spezifiziertes Adverbialsatz\", \"Spezifizierendes Adverbialsatz\", \"Spezifizierter Adverbialsatz\", \"Spezifizierende Adverbialsatz\", \"Spezifizierter Adverbialsatz\"]\n"
          ]
        },
        {
          "output_type": "stream",
          "name": "stderr",
          "text": [
            "\r 58%|█████▊    | 128/221 [11:53<05:26,  3.51s/it]"
          ]
        },
        {
          "output_type": "stream",
          "name": "stdout",
          "text": [
            "[\"Adversativsatz\", \"anstatt zu\", \"Hauptsatz\", \"Nebensatz\", \"wogegen\"]\n"
          ]
        },
        {
          "output_type": "stream",
          "name": "stderr",
          "text": [
            "\r 58%|█████▊    | 129/221 [12:05<09:30,  6.20s/it]"
          ]
        },
        {
          "output_type": "stream",
          "name": "stdout",
          "text": [
            "[\"Die Konstruktion besteht aus zwei identischen, zählbaren Nomen im Singular und ohne Artikel.\", \"Die Konstruktion verwendet die Präposition \"an\" als einziges lexikalisch feste Element.\", \"Die Konstruktion kann zusätzlich die externen Kern-KE \"Figur\" und \"Hintergrund\" realisieren, wenn die Instanziierungen von \"Konnekt_1\" und \"Konnekt_2\" ein Teilelement von mindestens zwei unkoordinierten Ganzen bilden oder stellvertretend für diese stehen.\", \"Die Konstruktion kann auch attributive Modifizierungen in bestimmten Fällen ermöglichen.\", \"Die syntaktischen Beschränkungen der Konstruktion hängen von den konkreten Nomen in \"Konnekt_1\" und \"Konnekt_2\" ab.\"]\n",
            "[]\n"
          ]
        },
        {
          "output_type": "stream",
          "name": "stderr",
          "text": [
            "\r 59%|█████▉    | 130/221 [12:13<09:59,  6.59s/it]"
          ]
        },
        {
          "output_type": "stream",
          "name": "stdout",
          "text": [
            "[\"Die Reduplikation_Kontinuität:N1_PRÄP_N1-Konstruktion\", \"Reduplikation_Kontinuität:N1_PRÄP_N1-Konstruktion\", \"Reduplikation_Kontinuität:N1_PRÄP_N1-Konstruktion\", \"Reduplikation_Kontinuität:N1_PRÄP_N1-Konstruktion\", \"Reduplikation_Kontinuität:N1_PRÄP_N1-Konstruktion\"]\n"
          ]
        },
        {
          "output_type": "stream",
          "name": "stderr",
          "text": [
            "\r 59%|█████▉    | 131/221 [12:16<08:19,  5.55s/it]"
          ]
        },
        {
          "output_type": "stream",
          "name": "stdout",
          "text": [
            "[\"Negation_Schlussfolgerung:nurweilX_NEG_Y-Konstruktion\", \"nurweilX_NEG_Y-Konstruktion\"]\n"
          ]
        },
        {
          "output_type": "stream",
          "name": "stderr",
          "text": [
            "\r 60%|█████▉    | 132/221 [12:21<07:58,  5.38s/it]"
          ]
        },
        {
          "output_type": "stream",
          "name": "stdout",
          "text": [
            "[\"Entsprechung:Klammern\", \"Entsprechung:Klammern\", \"Entsprechung:Klammern\", \"Entsprechung:Klammern\", \"Entsprechung:Klammern\"]\n"
          ]
        },
        {
          "output_type": "stream",
          "name": "stderr",
          "text": [
            "\r 60%|██████    | 133/221 [12:25<07:08,  4.87s/it]"
          ]
        },
        {
          "output_type": "stream",
          "name": "stdout",
          "text": [
            "[\"Die Tiere sind größer als die Pflanzen.\", \"Das Auto ist schneller als das Fahrrad.\", \"Das Haus ist größer als das Auto.\", \"Das Kind ist schneller als der Erwachsene.\", \"Das Essen ist schneller als das Wasser.\"]\n"
          ]
        },
        {
          "output_type": "stream",
          "name": "stderr",
          "text": [
            "\r 61%|██████    | 134/221 [12:31<07:40,  5.29s/it]"
          ]
        },
        {
          "output_type": "stream",
          "name": "stdout",
          "text": [
            "[\"Wenn er würde gehen, würde ich mit ihm gehen.\", \"Wenn sie würde kommen, würde ich sie treffen.\", \"Wenn er würde essen, würde ich mit ihm essen.\", \"Wenn sie würde schlafen, würde ich sie nicht stören.\", \"Wenn er würde lachen, würde ich ihn nicht stören.\"]\n"
          ]
        },
        {
          "output_type": "stream",
          "name": "stderr",
          "text": [
            "\r 61%|██████    | 135/221 [12:35<06:52,  4.79s/it]"
          ]
        },
        {
          "output_type": "stream",
          "name": "stdout",
          "text": [
            "[\"Die meisten Menschen haben eine gute Laune.\", \"Das Auto hat am wenigsten Benzin verbraucht.\", \"Das Haus hat am meisten Licht.\"]\n"
          ]
        },
        {
          "output_type": "stream",
          "name": "stderr",
          "text": [
            "\r 62%|██████▏   | 136/221 [12:41<07:30,  5.30s/it]"
          ]
        },
        {
          "output_type": "stream",
          "name": "stdout",
          "text": [
            "[\"Die Superlativ:am_meisten/wenigstenV-Konstruktion\", \"Superlativ:am_meisten/wenigstenV-Konstruktion\", \"Superlativ:am_meisten/wenigstenV-Konstruktion\", \"Superlativ:am_meisten/wenigstenV-Konstruktion\", \"Superlativ:am_meisten/wenigstenV-Konstruktion\"]\n"
          ]
        },
        {
          "output_type": "stream",
          "name": "stderr",
          "text": [
            "\r 62%|██████▏   | 137/221 [13:42<30:37, 21.88s/it]"
          ]
        },
        {
          "output_type": "stream",
          "name": "stdout",
          "text": [
            "[]\n"
          ]
        },
        {
          "output_type": "stream",
          "name": "stderr",
          "text": [
            "\r 62%|██████▏   | 138/221 [13:47<23:16, 16.83s/it]"
          ]
        },
        {
          "output_type": "stream",
          "name": "stdout",
          "text": [
            "[\"Negation:NEG_Xund_schon_gar_nichtY-Konstruktion\", \"Erstes_Konjunkt\", \"Zweites_Konjunkt\", \"Fokuskontext\", \"Negator\"]\n"
          ]
        },
        {
          "output_type": "stream",
          "name": "stderr",
          "text": [
            "\r 63%|██████▎   | 139/221 [13:52<18:24, 13.47s/it]"
          ]
        },
        {
          "output_type": "stream",
          "name": "stdout",
          "text": [
            "[\"Die Blume ist die schönste in der Gartenanlage.\", \"Das Auto ist das schnellste in der Stadt.\", \"Das Buch ist das längste in der Bibliothek.\", \"Das Kind ist das klügste in der Klasse.\", \"Das Haus ist das teuerste in der Nachbarschaft.\"]\n"
          ]
        },
        {
          "output_type": "stream",
          "name": "stderr",
          "text": [
            "\r 63%|██████▎   | 140/221 [13:55<13:58, 10.35s/it]"
          ]
        },
        {
          "output_type": "stream",
          "name": "stdout",
          "text": [
            "[\"Zeitdeixis:inderSPEZIFIZIERUNG_ZEITEINHEIT-Konstruktion\", \"Spezifizierung\", \"Zeiteinheit\", \"Quantifizierung\"]\n"
          ]
        },
        {
          "output_type": "stream",
          "name": "stderr",
          "text": [
            "\r 64%|██████▍   | 141/221 [13:58<10:45,  8.07s/it]"
          ]
        },
        {
          "output_type": "stream",
          "name": "stdout",
          "text": [
            "[\"bis vor 10 Minuten\", \"bis vor 5 Stunden\", \"bis vor 1 Tag\", \"bis vor 1 Woche\", \"bis vor 1 Monat\"]\n"
          ]
        },
        {
          "output_type": "stream",
          "name": "stderr",
          "text": [
            "\r 64%|██████▍   | 142/221 [14:00<08:17,  6.30s/it]"
          ]
        },
        {
          "output_type": "stream",
          "name": "stdout",
          "text": [
            "[\"Gegenüberstellung:V2_V2-Konstruktion\", \"Sachverhalt_1\", \"Sachverhalt_2\"]\n"
          ]
        },
        {
          "output_type": "stream",
          "name": "stderr",
          "text": [
            "\r 65%|██████▍   | 143/221 [14:03<06:54,  5.32s/it]"
          ]
        },
        {
          "output_type": "stream",
          "name": "stdout",
          "text": [
            "[\"Information is common knowledge between communicators.\", \"Information is shared knowledge between communicators.\", \"Information is mutual knowledge between communicators.\", \"Information is a shared understanding between communicators.\", \"Information is a common understanding between communicators.\"]\n"
          ]
        },
        {
          "output_type": "stream",
          "name": "stderr",
          "text": [
            "\r 65%|██████▌   | 144/221 [14:08<06:41,  5.21s/it]"
          ]
        },
        {
          "output_type": "stream",
          "name": "stdout",
          "text": [
            "[\"Ich bin ein echter Deutscher.\", \"Er hätte gerne ein Auto gehabt.\", \"Sie würde gerne in Deutschland leben.\", \"Er hätte gerne ein Auto gehabt.\", \"Sie würde gerne in Deutschland leben.\"]\n"
          ]
        },
        {
          "output_type": "stream",
          "name": "stderr",
          "text": [
            "\r 66%|██████▌   | 145/221 [14:11<05:31,  4.36s/it]"
          ]
        },
        {
          "output_type": "stream",
          "name": "stdout",
          "text": [
            "[\"Determinans\", \"Determinatum\", \"Determinans\", \"Determinatum\", \"Determinans\"]\n"
          ]
        },
        {
          "output_type": "stream",
          "name": "stderr",
          "text": [
            "\r 66%|██████▌   | 146/221 [14:14<05:05,  4.07s/it]"
          ]
        },
        {
          "output_type": "stream",
          "name": "stdout",
          "text": [
            "[\"Einordnung:Klammern\", \"Attribution:Klammern\", \"Sekundäre_Information:Klammern\", \"Attribut:Klammern\", \"Attribut:Klammern\"]\n"
          ]
        },
        {
          "output_type": "stream",
          "name": "stderr",
          "text": [
            "\r 67%|██████▋   | 147/221 [14:18<05:06,  4.15s/it]"
          ]
        },
        {
          "output_type": "stream",
          "name": "stdout",
          "text": [
            "[\"Konkretisierung:Klammern\", \"Konkretisierung_exhaustiv:Klammern\", \"Konkretisierung_exemplifizierend:Klammern\", \"Konkretisierung_restriktiv:Klammern\"]\n"
          ]
        },
        {
          "output_type": "stream",
          "name": "stderr",
          "text": [
            "\r 67%|██████▋   | 148/221 [14:23<05:05,  4.19s/it]"
          ]
        },
        {
          "output_type": "stream",
          "name": "stdout",
          "text": [
            "[\"Verweis:Klammern\", \"Attribution:Klammern\", \"Sekundäre_Information:Klammern\", \"Verweis:Klammern\", \"Attribution:Klammern\"]\n"
          ]
        },
        {
          "output_type": "stream",
          "name": "stderr",
          "text": [
            "\r 67%|██████▋   | 149/221 [14:27<05:10,  4.31s/it]"
          ]
        },
        {
          "output_type": "stream",
          "name": "stdout",
          "text": [
            "[\"Attribution:Klammern\", \"Entsprechung:Klammern\", \"Einordnung:Klammern\", \"Konkretisierung:Klammern\", \"Zuordnung:Klammern\"]\n"
          ]
        },
        {
          "output_type": "stream",
          "name": "stderr",
          "text": [
            "\r 68%|██████▊   | 150/221 [14:33<05:33,  4.70s/it]"
          ]
        },
        {
          "output_type": "stream",
          "name": "stdout",
          "text": [
            "[\"Direkte_Rede:SprecherIn_Doppelpunkt_Turn\", \"Direkte_Rede:SprecherIn_Doppelpunkt_Turn\", \"Direkte_Rede:SprecherIn_Doppelpunkt_Turn\", \"Direkte_Rede:SprecherIn_Doppelpunkt_Turn\", \"Direkte_Rede:SprecherIn_Doppelpunkt_Turn\"]\n"
          ]
        },
        {
          "output_type": "stream",
          "name": "stderr",
          "text": [
            "\r 68%|██████▊   | 151/221 [14:46<08:19,  7.14s/it]"
          ]
        },
        {
          "output_type": "stream",
          "name": "stdout",
          "text": [
            "[]\n"
          ]
        },
        {
          "output_type": "stream",
          "name": "stderr",
          "text": [
            "\r 69%|██████▉   | 152/221 [14:53<08:19,  7.24s/it]"
          ]
        },
        {
          "output_type": "stream",
          "name": "stdout",
          "text": [
            "[\"Der Durchschnittswert von 100 Liter Wasser beträgt 10 Liter pro Minute.\", \"Die durchschnittliche Temperatur beträgt 20 Grad Celsius pro Stunde.\", \"Die durchschnittliche Geschwindigkeit beträgt 60 km/h pro Stunde.\", \"Die durchschnittliche Menge an Energie beträgt 1000 Watt pro Minute.\", \"Die durchschnittliche Leistung beträgt 100 PS pro Minute.\"]\n"
          ]
        },
        {
          "output_type": "stream",
          "name": "stderr",
          "text": [
            "\r 69%|██████▉   | 153/221 [14:57<07:01,  6.19s/it]"
          ]
        },
        {
          "output_type": "stream",
          "name": "stdout",
          "text": [
            "[\"Kommentar:Klammern\", \"Kommentar:Klammern\", \"Kommentar:Klammern\", \"Kommentar:Klammern\", \"Kommentar:Klammern\"]\n"
          ]
        },
        {
          "output_type": "stream",
          "name": "stderr",
          "text": [
            "\r 70%|██████▉   | 154/221 [14:59<05:35,  5.01s/it]"
          ]
        },
        {
          "output_type": "stream",
          "name": "stdout",
          "text": [
            "[\"Es gab eine Zeit XP\", \"Es gab eine Zeit XP\", \"Es gab eine Zeit XP\", \"Es gab eine Zeit XP\", \"Es gab eine Zeit XP\"]\n"
          ]
        },
        {
          "output_type": "stream",
          "name": "stderr",
          "text": [
            "\r 70%|███████   | 155/221 [15:03<05:07,  4.66s/it]"
          ]
        },
        {
          "output_type": "stream",
          "name": "stdout",
          "text": [
            "[\"Die Relative_Frequenz-Konstruktion gehört zur Familie der Relativer_Wert-Konstruktionen\", \"Die Relative_Frequenz-Konstruktion zeigt ein Ereignis an, das zu einer bestimmten Zeit in einer bestimmten Frequenz eintritt\"]\n"
          ]
        },
        {
          "output_type": "stream",
          "name": "stderr",
          "text": [
            "\r 71%|███████   | 156/221 [15:09<05:28,  5.05s/it]"
          ]
        },
        {
          "output_type": "stream",
          "name": "stdout",
          "text": [
            "[\"Die höchste Stufe auf der Skala der Intelligenz\", \"Die höchste Stufe auf der Skala der Schönheit\", \"Die höchste Stufe auf der Skala der Reichtum\", \"Die höchste Stufe auf der Skala der Leistung\", \"Die höchste Stufe auf der Skala der Freundlichkeit\"]\n"
          ]
        },
        {
          "output_type": "stream",
          "name": "stderr",
          "text": [
            "\r 71%|███████   | 157/221 [15:16<06:03,  5.68s/it]"
          ]
        },
        {
          "output_type": "stream",
          "name": "stdout",
          "text": [
            "[\"Der Durchschnittliche Kraftstoffverbrauch pro Distanz beträgt 10 Liter pro 100 Kilometer.\", \"Der Durchschnittliche Kraftstoffverbrauch pro Distanz beträgt 12 Liter pro 100 Kilometer.\", \"Der Durchschnittliche Kraftstoffverbrauch pro Distanz beträgt 15 Liter pro 100 Kilometer.\", \"Der Durchschnittliche Kraftstoffverbrauch pro Distanz beträgt 18 Liter pro 100 Kilometer.\", \"Der Durchschnittliche Kraftstoffverbrauch pro Distanz beträgt 20 Liter pro 100 Kilometer.\"]\n"
          ]
        },
        {
          "output_type": "stream",
          "name": "stderr",
          "text": [
            "\r 71%|███████▏  | 158/221 [15:19<04:57,  4.73s/it]"
          ]
        },
        {
          "output_type": "stream",
          "name": "stdout",
          "text": [
            "[\"Die höchste Stufe auf der Skala\", \"Die Skala\", \"Die Instanz\", \"Die gleiche Menge\", \"Die Entität\"]\n"
          ]
        },
        {
          "output_type": "stream",
          "name": "stderr",
          "text": [
            "\r 72%|███████▏  | 159/221 [15:23<04:53,  4.73s/it]"
          ]
        },
        {
          "output_type": "stream",
          "name": "stdout",
          "text": [
            "[\"Die höchste Stufe auf der Skala\", \"Die höchste Stufe auf der Skala\", \"Die höchste Stufe auf der Skala\", \"Die höchste Stufe auf der Skala\", \"Die höchste Stufe auf der Skala\"]\n"
          ]
        },
        {
          "output_type": "stream",
          "name": "stderr",
          "text": [
            "\r 72%|███████▏  | 160/221 [15:29<05:08,  5.06s/it]"
          ]
        },
        {
          "output_type": "stream",
          "name": "stdout",
          "text": [
            "[\"Die Superlativ:INTENSIVIERUNG_NP-Konstruktion\", \"Superlativ:INTENSIVIERUNG_NP-Konstruktion\", \"Superlativ:INTENSIVIERUNG_NP-Konstruktion\", \"Superlativ:INTENSIVIERUNG_NP-Konstruktion\", \"Superlativ:INTENSIVIERUNG_NP-Konstruktion\"]\n"
          ]
        },
        {
          "output_type": "stream",
          "name": "stderr",
          "text": [
            "\r 73%|███████▎  | 161/221 [15:36<05:33,  5.56s/it]"
          ]
        },
        {
          "output_type": "stream",
          "name": "stdout",
          "text": [
            "[\"Die Superlativ:INTENSIVIERUNG_ADJ-Konstruktion\", \"Die Superlativ:INTENSIVIERUNG_ADJ-Konstruktion\", \"Die Superlativ:INTENSIVIERUNG_ADJ-Konstruktion\", \"Die Superlativ:INTENSIVIERUNG_ADJ-Konstruktion\", \"Die Superlativ:INTENSIVIERUNG_ADJ-Konstruktion\"]\n"
          ]
        },
        {
          "output_type": "stream",
          "name": "stderr",
          "text": [
            "\r 73%|███████▎  | 162/221 [15:41<05:25,  5.51s/it]"
          ]
        },
        {
          "output_type": "stream",
          "name": "stdout",
          "text": [
            "[\"Die Durchschnittsgeschwindigkeit beträgt 10 km/h\", \"Die Geschwindigkeit beträgt 20 km/h\", \"Die Geschwindigkeit beträgt 30 km/h\", \"Die Geschwindigkeit beträgt 40 km/h\", \"Die Geschwindigkeit beträgt 50 km/h\"]\n"
          ]
        },
        {
          "output_type": "stream",
          "name": "stderr",
          "text": [
            "\r 74%|███████▍  | 163/221 [15:44<04:28,  4.63s/it]"
          ]
        },
        {
          "output_type": "stream",
          "name": "stdout",
          "text": [
            "[\"Die höchste Stufe\", \"Die größte Leistung\", \"Die größte Leistung\", \"Die größte Leistung\", \"Die größte Leistung\"]\n"
          ]
        },
        {
          "output_type": "stream",
          "name": "stderr",
          "text": [
            "\r 74%|███████▍  | 164/221 [15:47<03:57,  4.17s/it]"
          ]
        },
        {
          "output_type": "stream",
          "name": "stdout",
          "text": [
            "[\"Die Superlativ_Wortbildung:INTENSIVIERUNG-ADJ-Konstruktion\", \"Superlative\", \"Intensivierung\", \"Dimension\", \"Verglichenes\"]\n"
          ]
        },
        {
          "output_type": "stream",
          "name": "stderr",
          "text": [
            "\r 75%|███████▍  | 165/221 [15:49<03:23,  3.63s/it]"
          ]
        },
        {
          "output_type": "stream",
          "name": "stdout",
          "text": [
            "[\"Personenreferenz_expressiv:Vorname_Zitat_Nachname\"]\n"
          ]
        },
        {
          "output_type": "stream",
          "name": "stderr",
          "text": [
            "\r 75%|███████▌  | 166/221 [15:54<03:36,  3.94s/it]"
          ]
        },
        {
          "output_type": "stream",
          "name": "stdout",
          "text": [
            "[\"Die höchste Stufe auf der Skala\", \"Die höchste Stufe auf der Skala\", \"Die höchste Stufe auf der Skala\", \"Die höchste Stufe auf der Skala\", \"Die höchste Stufe auf der Skala\"]\n"
          ]
        },
        {
          "output_type": "stream",
          "name": "stderr",
          "text": [
            "\r 76%|███████▌  | 167/221 [15:57<03:24,  3.78s/it]"
          ]
        },
        {
          "output_type": "stream",
          "name": "stdout",
          "text": [
            "[\"Intensivierte Konstituente\", \"Intensivierte Konstituente\", \"Intensivierte Konstituente\", \"Intensivierte Konstituente\", \"Intensivierte Konstituente\"]\n"
          ]
        },
        {
          "output_type": "stream",
          "name": "stderr",
          "text": [
            "\r 76%|███████▌  | 168/221 [16:01<03:25,  3.87s/it]"
          ]
        },
        {
          "output_type": "stream",
          "name": "stdout",
          "text": [
            "[\"Intensivierte Sau-Konstituente\", \"Intensivierte Sau-Konstituente\", \"Intensivierte Sau-Konstituente\", \"Intensivierte Sau-Konstituente\", \"Intensivierte Sau-Konstituente\"]\n"
          ]
        },
        {
          "output_type": "stream",
          "name": "stderr",
          "text": [
            "\r 76%|███████▋  | 169/221 [16:06<03:31,  4.06s/it]"
          ]
        },
        {
          "output_type": "stream",
          "name": "stdout",
          "text": [
            "[\"Intensivierte Riesen-Konstituente\", \"Riesen-Intensivierte Konstituente\", \"Intensivierte Riesen-Konstituente\", \"Riesen-Intensivierte Konstituente\", \"Intensivierte Riesen-Konstituente\"]\n"
          ]
        },
        {
          "output_type": "stream",
          "name": "stderr",
          "text": [
            "\r 77%|███████▋  | 170/221 [16:11<03:45,  4.41s/it]"
          ]
        },
        {
          "output_type": "stream",
          "name": "stdout",
          "text": [
            "[\"Exklamativ:ART_N-Konstruktion\", \"Exklamativ:ART_N-Konstruktion\", \"Exklamativ:ART_N-Konstruktion\", \"Exklamativ:ART_N-Konstruktion\", \"Exklamativ:ART_N-Konstruktion\"]\n"
          ]
        },
        {
          "output_type": "stream",
          "name": "stderr",
          "text": [
            "\r 77%|███████▋  | 171/221 [16:17<04:03,  4.87s/it]"
          ]
        },
        {
          "output_type": "stream",
          "name": "stdout",
          "text": [
            "[\"Intensivierung_Elativkompositum:Adjektiv_Nomen\", \"Intensivierung_Elativkompositum:Adjektiv_Adjektiv\", \"Intensivierung_Elativkompositum:Adjektiv_Adjektiv\", \"Intensivierung_Elativkompositum:Adjektiv_Adjektiv\", \"Intensivierung_Elativkompositum:Adjektiv_Adjektiv\"]\n"
          ]
        },
        {
          "output_type": "stream",
          "name": "stderr",
          "text": [
            "\r 78%|███████▊  | 172/221 [16:19<03:17,  4.04s/it]"
          ]
        },
        {
          "output_type": "stream",
          "name": "stdout",
          "text": [
            "[\"Äquativ:ein_NPunter_denNP\", \"Äquativ:ein_NPunter_denNP\"]\n"
          ]
        },
        {
          "output_type": "stream",
          "name": "stderr",
          "text": [
            "\r 78%|███████▊  | 173/221 [16:32<05:15,  6.56s/it]"
          ]
        },
        {
          "output_type": "stream",
          "name": "stdout",
          "text": [
            "[\"Die Kausaler_Konnektor:weil-Konstruktion dient der Verknüpfung zweier separater Inhalte zu einem Kausalgefüge.\", \"Das Konstruktionsevozierende Element (KEE) \\\"weil\\\" bildet gemeinsam mit dem unmittelbar darauffolgenden Konstruktionselement (KE) \\\"Grund\\\" eine Konnektorphrase.\", \"Ebenfalls möglich ist die Realisierung des KE \\\"Grund\\\" als Antwort auf eine warum-Frage.\", \"Das Nicht-Kern-KE \\\"Modifikator\\\" kann verwendet werden, um die Geltung des KE \\\"Grund\\\" zu modifizieren.\", \"Optional kann zusätzlich das Korrelierende Element (KorE) \\\"Korrelat\\\" realisiert werden, das in das KE \\\"Folge\\\" integriert wird oder ihm unmittelbar folgt.\"]\n"
          ]
        },
        {
          "output_type": "stream",
          "name": "stderr",
          "text": [
            "\r 79%|███████▊  | 174/221 [16:33<03:58,  5.08s/it]"
          ]
        },
        {
          "output_type": "stream",
          "name": "stdout",
          "text": [
            "[\"Äquativ:einem_NPgleich\", \"Äquativ:einem_NPgleich\"]\n"
          ]
        },
        {
          "output_type": "stream",
          "name": "stderr",
          "text": [
            "\r 79%|███████▉  | 175/221 [16:34<02:58,  3.87s/it]"
          ]
        },
        {
          "output_type": "stream",
          "name": "stdout",
          "text": [
            "[\"Äquativ:einemNPgleichkommen\"]\n"
          ]
        },
        {
          "output_type": "stream",
          "name": "stderr",
          "text": [
            "\r 80%|███████▉  | 176/221 [16:39<03:02,  4.05s/it]"
          ]
        },
        {
          "output_type": "stream",
          "name": "stdout",
          "text": [
            "[\"Erst-X-X\", \"Zweitbestandteil-X-X\", \"Erst-X-X-X\", \"Zweitbestandteil-X-X-X\", \"Erst-X-X-X-X\"]\n"
          ]
        },
        {
          "output_type": "stream",
          "name": "stderr",
          "text": [
            "\r 80%|████████  | 177/221 [16:43<03:00,  4.09s/it]"
          ]
        },
        {
          "output_type": "stream",
          "name": "stdout",
          "text": [
            "[\"Kausaler_Konnektor:weilX\", \"Kausaler_Konnektor:weilX\", \"Kausaler_Konnektor:weilX\", \"Kausaler_Konnektor:weilX\", \"Kausaler_Konnektor:weilX\"]\n"
          ]
        },
        {
          "output_type": "stream",
          "name": "stderr",
          "text": [
            "\r 81%|████████  | 178/221 [16:50<03:28,  4.84s/it]"
          ]
        },
        {
          "output_type": "stream",
          "name": "stdout",
          "text": [
            "[\"Intensivierung:INTENSIVIERUNG_N-Konstruktion\", \"Gradierte_Dimension:GRADIERT_DIMENSION_N-Konstruktion\", \"Entität:ENTITAT_N-Konstruktion\", \"Intensivierung:INTENSIVIERUNG_N-Konstruktion\", \"Gradierte_Dimension:GRADIERT_DIMENSION_N-Konstruktion\"]\n"
          ]
        },
        {
          "output_type": "stream",
          "name": "stderr",
          "text": [
            "\r 81%|████████  | 179/221 [17:08<06:10,  8.83s/it]"
          ]
        },
        {
          "output_type": "stream",
          "name": "stdout",
          "text": [
            "[]\n"
          ]
        },
        {
          "output_type": "stream",
          "name": "stderr",
          "text": [
            "\r 81%|████████▏ | 180/221 [17:12<05:00,  7.34s/it]"
          ]
        },
        {
          "output_type": "stream",
          "name": "stdout",
          "text": [
            "[\"X ist X\", \"X ist nicht X\", \"X ist X und X ist nicht X\", \"X ist X und X ist X\", \"X ist X und X ist nicht X\"]\n"
          ]
        },
        {
          "output_type": "stream",
          "name": "stderr",
          "text": [
            "\r 82%|████████▏ | 181/221 [17:14<03:49,  5.75s/it]"
          ]
        },
        {
          "output_type": "stream",
          "name": "stdout",
          "text": [
            "[\"Aufforderung\", \"Erlaubnis\", \"Wunsch\", \"Empfehlung\", \"Setzung\"]\n"
          ]
        },
        {
          "output_type": "stream",
          "name": "stderr",
          "text": [
            "\r 82%|████████▏ | 182/221 [17:35<06:42, 10.31s/it]"
          ]
        },
        {
          "output_type": "stream",
          "name": "stdout",
          "text": [
            "[]\n"
          ]
        },
        {
          "output_type": "stream",
          "name": "stderr",
          "text": [
            "\r 83%|████████▎ | 183/221 [17:37<04:57,  7.82s/it]"
          ]
        },
        {
          "output_type": "stream",
          "name": "stdout",
          "text": [
            "[\"so intensiv\", \"so intensiv\", \"so intensiv\", \"so intensiv\", \"so intensiv\"]\n"
          ]
        },
        {
          "output_type": "stream",
          "name": "stderr",
          "text": [
            "\r 83%|████████▎ | 184/221 [17:44<04:45,  7.71s/it]"
          ]
        },
        {
          "output_type": "stream",
          "name": "stdout",
          "text": [
            "[\"Intensivierung:INTENSIVIERUNG_ADJ-Konstruktion\", \"Intensivierung:INTENSIVIERUNG_ADJ-Konstruktion\", \"Intensivierung:INTENSIVIERUNG_ADJ-Konstruktion\", \"Intensivierung:INTENSIVIERUNG_ADJ-Konstruktion\", \"Intensivierung:INTENSIVIERUNG_ADJ-Konstruktion\"]\n"
          ]
        },
        {
          "output_type": "stream",
          "name": "stderr",
          "text": [
            "\r 84%|████████▎ | 185/221 [17:49<04:10,  6.96s/it]"
          ]
        },
        {
          "output_type": "stream",
          "name": "stdout",
          "text": [
            "[\"Intensivierte_Adjektive_Adjektive_Substantiv\", \"Intensivierte_Adjektive_Adjektive_Substantiv\", \"Intensivierte_Adjektive_Adjektive_Substantiv\", \"Intensivierte_Adjektive_Adjektive_Substantiv\", \"Intensivierte_Adjektive_Adjektive_Substantiv\"]\n"
          ]
        },
        {
          "output_type": "stream",
          "name": "stderr",
          "text": [
            "\r 84%|████████▍ | 186/221 [17:55<03:50,  6.59s/it]"
          ]
        },
        {
          "output_type": "stream",
          "name": "stdout",
          "text": [
            "[\"Die Intensivierung der Gradierten Dimension mit einer Zeiteinheit\", \"Die Intensivierung der Gradierten Dimension mit einer Zeiteinheit\", \"Die Intensivierung der Gradierten Dimension mit einer Zeiteinheit\", \"Die Intensivierung der Gradierten Dimension mit einer Zeiteinheit\", \"Die Intensivierung der Gradierten Dimension mit einer Zeiteinheit\"]\n"
          ]
        },
        {
          "output_type": "stream",
          "name": "stderr",
          "text": [
            "\r 85%|████████▍ | 187/221 [18:01<03:38,  6.44s/it]"
          ]
        },
        {
          "output_type": "stream",
          "name": "stdout",
          "text": [
            "[\"Die Intensivierung:PRÄP_aller_NP-Konstruktion\", \"Die Intensivierung:PRÄP_aller_NP-Konstruktion\", \"Die Intensivierung:PRÄP_aller_NP-Konstruktion\", \"Die Intensivierung:PRÄP_aller_NP-Konstruktion\", \"Die Intensivierung:PRÄP_aller_NP-Konstruktion\"]\n"
          ]
        },
        {
          "output_type": "stream",
          "name": "stderr",
          "text": [
            "\r 85%|████████▌ | 188/221 [18:04<02:55,  5.33s/it]"
          ]
        },
        {
          "output_type": "stream",
          "name": "stdout",
          "text": [
            "[\"Ein bisschen weniger\", \"Ein bisschen weniger\", \"Ein bisschen weniger\", \"Ein bisschen weniger\", \"Ein bisschen weniger\"]\n"
          ]
        },
        {
          "output_type": "stream",
          "name": "stderr",
          "text": [
            "\r 86%|████████▌ | 189/221 [18:11<03:03,  5.74s/it]"
          ]
        },
        {
          "output_type": "stream",
          "name": "stdout",
          "text": [
            "[\"Intensivierung:INTENSIVIERUNG_V-Konstruktion\", \"Intensivierung:INTENSIVIERUNG_V-Konstruktion\", \"Intensivierung:INTENSIVIERUNG_V-Konstruktion\", \"Intensivierung:INTENSIVIERUNG_V-Konstruktion\", \"Intensivierung:INTENSIVIERUNG_V-Konstruktion\"]\n"
          ]
        },
        {
          "output_type": "stream",
          "name": "stderr",
          "text": [
            "\r 86%|████████▌ | 190/221 [18:13<02:25,  4.69s/it]"
          ]
        },
        {
          "output_type": "stream",
          "name": "stdout",
          "text": [
            "[\"Ganz_und_gar_NP\", \"Ganz_und_gar_ADJ\"]\n"
          ]
        },
        {
          "output_type": "stream",
          "name": "stderr",
          "text": [
            "\r 86%|████████▋ | 191/221 [18:16<02:05,  4.18s/it]"
          ]
        },
        {
          "output_type": "stream",
          "name": "stdout",
          "text": [
            "[\"Ich bin der beste Spieler\", \"Sie ist die schönste Frau\", \"Er ist der lustigste Mann\", \"Sie sind die klügsten Schüler\", \"Er ist der erfolgreichste Geschäftsmann\"]\n"
          ]
        },
        {
          "output_type": "stream",
          "name": "stderr",
          "text": [
            "\r 87%|████████▋ | 192/221 [18:22<02:17,  4.74s/it]"
          ]
        },
        {
          "output_type": "stream",
          "name": "stdout",
          "text": [
            "[\"Exklamativ:solch_(Art.indef_)N-Konstruktion\", \"Exklamativ:solch_(Art.indef_)N-Konstruktion\", \"Exklamativ:solch_(Art.indef_)N-Konstruktion\", \"Exklamativ:solch_(Art.indef_)N-Konstruktion\", \"Exklamativ:solch_(Art.indef_)N-Konstruktion\"]\n"
          ]
        },
        {
          "output_type": "stream",
          "name": "stderr",
          "text": [
            "\r 87%|████████▋ | 193/221 [18:27<02:20,  5.01s/it]"
          ]
        },
        {
          "output_type": "stream",
          "name": "stdout",
          "text": [
            "[\"Die Konkurrenz zwischen den N1-Instanzen\", \"Die Konkurrenz zwischen den N1-Instanzen\", \"Die Konkurrenz zwischen den N1-Instanzen\", \"Die Konkurrenz zwischen den N1-Instanzen\", \"Die Konkurrenz zwischen den N1-Instanzen\"]\n"
          ]
        },
        {
          "output_type": "stream",
          "name": "stderr",
          "text": [
            "\r 88%|████████▊ | 194/221 [18:32<02:13,  4.96s/it]"
          ]
        },
        {
          "output_type": "stream",
          "name": "stdout",
          "text": [
            "[\"Die Relativierung des Adjektivs\", \"Die Relativierung des internen Kern-Konstruktionselements\", \"Die Relativierung des internen Kern-Konstruktionselements\", \"Die Relativierung des internen Kern-Konstruktionselements\", \"Die Relativierung des internen Kern-Konstruktionselements\"]\n"
          ]
        },
        {
          "output_type": "stream",
          "name": "stderr",
          "text": [
            "\r 88%|████████▊ | 195/221 [18:35<01:51,  4.27s/it]"
          ]
        },
        {
          "output_type": "stream",
          "name": "stdout",
          "text": [
            "[\"Die Relativierung des Verbs\", \"Die Gradierte Dimension\", \"Die Entität\", \"Die Relativierung\", \"Die internen Kern-Konstruktionselemente\"]\n"
          ]
        },
        {
          "output_type": "stream",
          "name": "stderr",
          "text": [
            "\r 89%|████████▊ | 196/221 [18:43<02:14,  5.38s/it]"
          ]
        },
        {
          "output_type": "stream",
          "name": "stdout",
          "text": [
            "[\"Die Reduplikation_Quantifizierung:N1_über_N1-Konstruktion\", \"Reduplikation_Quantifizierung:N1_über_N1-Konstruktion\", \"Reduplikation_Quantifizierung:N1_über_N1-Konstruktion\", \"Reduplikation_Quantifizierung:N1_über_N1-Konstruktion\", \"Reduplikation_Quantifizierung:N1_über_N1-Konstruktion\"]\n"
          ]
        },
        {
          "output_type": "stream",
          "name": "stderr",
          "text": [
            "\r 89%|████████▉ | 197/221 [18:46<01:54,  4.79s/it]"
          ]
        },
        {
          "output_type": "stream",
          "name": "stdout",
          "text": [
            "[\"Zeitdeixis_Quantifizierung:inNUM_ZEITEINHEIT-Konstruktion\", \"KEE\", \"Quantifizierung\", \"Zeiteinheit\", \"Annäherung\", \"Intensivierung\"]\n"
          ]
        },
        {
          "output_type": "stream",
          "name": "stderr",
          "text": [
            "\r 90%|████████▉ | 198/221 [18:51<01:46,  4.62s/it]"
          ]
        },
        {
          "output_type": "stream",
          "name": "stdout",
          "text": [
            "[\"Grau ist das neue Blond\", \"Haarfarbe in Grau ist das neue Blond\", \"Haarfarbe in Grau ist das neue Blond\", \"Haarfarbe in Grau ist das neue Blond\", \"Haarfarbe in Grau ist das neue Blond\"]\n"
          ]
        },
        {
          "output_type": "stream",
          "name": "stderr",
          "text": [
            "\r 90%|█████████ | 199/221 [18:55<01:42,  4.64s/it]"
          ]
        },
        {
          "output_type": "stream",
          "name": "stdout",
          "text": [
            "[\"Die Menge der Tiere beträgt 10\", \"Die Menge der Pflanzen beträgt 5\", \"Die Menge der Vögel beträgt 3\", \"Die Menge der Säugetiere beträgt 20\", \"Die Menge der Reptilien beträgt 8\"]\n"
          ]
        },
        {
          "output_type": "stream",
          "name": "stderr",
          "text": [
            "\r 90%|█████████ | 200/221 [18:59<01:29,  4.26s/it]"
          ]
        },
        {
          "output_type": "stream",
          "name": "stdout",
          "text": [
            "[\"XP1 statt XP2\", \"XP1 statt XP3\", \"XP1 statt XP4\", \"XP1 statt XP5\", \"XP1 statt XP6\"]\n"
          ]
        },
        {
          "output_type": "stream",
          "name": "stderr",
          "text": [
            "\r 91%|█████████ | 201/221 [19:04<01:29,  4.47s/it]"
          ]
        },
        {
          "output_type": "stream",
          "name": "stdout",
          "text": [
            "[\"Sekundäre_Information:Klammern\", \"Klammern:Sekundäre_Information\", \"Sekundäre_Information:Klammern:Klammern\", \"Klammern:Sekundäre_Information:Klammern\", \"Sekundäre_Information:Klammern:Klammern:Klammern\"]\n"
          ]
        },
        {
          "output_type": "stream",
          "name": "stderr",
          "text": [
            "\r 91%|█████████▏| 202/221 [19:16<02:09,  6.80s/it]"
          ]
        },
        {
          "output_type": "stream",
          "name": "stdout",
          "text": [
            "[]\n"
          ]
        },
        {
          "output_type": "stream",
          "name": "stderr",
          "text": [
            "\r 92%|█████████▏| 203/221 [19:26<02:20,  7.79s/it]"
          ]
        },
        {
          "output_type": "stream",
          "name": "stdout",
          "text": [
            "[\"Textabschnitte im Umfang eines oder mehrerer Hauptsätze können in \\\"Klammern\\\" gesetzt werden, um auszudrücken, dass sie nicht zum Hauptgegenstand des sie \\\"einbettenden Textes\\\" gehören, sondern vielmehr Zusatzinformationen liefern (vgl. z.B. Amtliches Regelwerk 2018: §87).\", \"Ganze Absätze können in Klammern gesetzt werden.\", \"Die Positionierung des \\\"Klammerausdrucks\\\" erfolgt in der Konstruktion \\\"Texteinschub:Klammern\\\" nicht satzintern wie bei der ihrer Schwesterkonstruktion \\\"Parenthese:Klammern\\\"-Konstruktion, sondern zwischen Hauptsätzen.\"]\n"
          ]
        },
        {
          "output_type": "stream",
          "name": "stderr",
          "text": [
            "\r 92%|█████████▏| 204/221 [19:30<01:51,  6.57s/it]"
          ]
        },
        {
          "output_type": "stream",
          "name": "stdout",
          "text": [
            "[\"Mitgliedschaft:Klammern\", \"Attribution:Klammern\", \"Graphematische Parenthesen\", \"Sekundäre_Information:Klammern\", \"Köpfen\"]\n"
          ]
        },
        {
          "output_type": "stream",
          "name": "stderr",
          "text": [
            "\r 93%|█████████▎| 205/221 [19:37<01:49,  6.85s/it]"
          ]
        },
        {
          "output_type": "stream",
          "name": "stdout",
          "text": [
            "[\"Nicht_sondern_Merkmal_präferiert_und_Merkmal_dispräferiert\", \"Nicht_sondern_Merkmal_präferiert_und_Merkmal_dispräferiert\", \"Nicht_sondern_Merkmal_präferiert_und_Merkmal_dispräferiert\", \"Nicht_sondern_Merkmal_präferiert_und_Merkmal_dispräferiert\", \"Nicht_sondern_Merkmal_präferiert_und_Merkmal_dispräferiert\"]\n"
          ]
        },
        {
          "output_type": "stream",
          "name": "stderr",
          "text": [
            "\r 93%|█████████▎| 206/221 [19:39<01:20,  5.34s/it]"
          ]
        },
        {
          "output_type": "stream",
          "name": "stdout",
          "text": [
            "[\"XP1 und nicht XP2\", \"XP1 und nicht XP2\"]\n"
          ]
        },
        {
          "output_type": "stream",
          "name": "stderr",
          "text": [
            "\r 94%|█████████▎| 207/221 [19:53<01:49,  7.82s/it]"
          ]
        },
        {
          "output_type": "stream",
          "name": "stdout",
          "text": [
            "[\"Einordnung_Lebensdaten: Geburtsdatum: 1990-01-01, Todesdatum: 2023-03-28\", \"Einordnung_Lebensdaten: Geburtsdatum: 1990-01-01, Todesdatum: 2023-03-28\", \"Einordnung_Lebensdaten: Geburtsdatum: 1990-01-01, Todesdatum: 2023-03-28\", \"Einordnung_Lebensdaten: Geburtsdatum: 1990-01-01, Todesdatum: 2023-03-28\", \"Einordnung_Lebensdaten: Geburtsdatum: 1990-01-01, Todesdatum: 2023-03-28\"]\n"
          ]
        },
        {
          "output_type": "stream",
          "name": "stderr",
          "text": [
            "\r 94%|█████████▍| 208/221 [19:56<01:25,  6.59s/it]"
          ]
        },
        {
          "output_type": "stream",
          "name": "stdout",
          "text": [
            "[\"Ereigniszeit:Klammern\", \"Attribution:Klammern\", \"Einordnung:Klammern\", \"Sekundäre_Information:Klammern\"]\n"
          ]
        },
        {
          "output_type": "stream",
          "name": "stderr",
          "text": [
            "\r 95%|█████████▍| 209/221 [20:00<01:09,  5.76s/it]"
          ]
        },
        {
          "output_type": "stream",
          "name": "stdout",
          "text": [
            "[\"Einordnung_Markenangabe\", \"Einordnung:Klammern\", \"Attribution:Klammern\", \"Sekundäre_Information:Klammern\", \"Klammern\"]\n"
          ]
        },
        {
          "output_type": "stream",
          "name": "stderr",
          "text": [
            "\r 95%|█████████▌| 210/221 [20:03<00:54,  4.97s/it]"
          ]
        },
        {
          "output_type": "stream",
          "name": "stdout",
          "text": [
            "[\"Ortsangabe:Klammern\", \"Attribution:Klammern\", \"Einordnung:Klammern\", \"Sekundäre_Information:Klammern\"]\n"
          ]
        },
        {
          "output_type": "stream",
          "name": "stderr",
          "text": [
            "\r 95%|█████████▌| 211/221 [20:37<02:15, 13.55s/it]"
          ]
        },
        {
          "output_type": "stream",
          "name": "stdout",
          "text": [
            "[\"Bei der Konstruktion \\\"Abkürzungseinführung:Klammern\\\" folgt auf einen Begriff als \\\"Bezugsausdruck\\\" unmittelbar anschließend dessen Abkürzung in \\\"Klammern\\\".\"]\n"
          ]
        },
        {
          "output_type": "stream",
          "name": "stderr",
          "text": [
            "\r 96%|█████████▌| 212/221 [20:43<01:42, 11.36s/it]"
          ]
        },
        {
          "output_type": "stream",
          "name": "stdout",
          "text": [
            "[\"Die Abkürzungserläuterung:Klammern\", \"Die Abkürzungserläuterung:Klammern\", \"Die Abkürzungserläuterung:Klammern\", \"Die Abkürzungserläuterung:Klammern\", \"Die Abkürzungserläuterung:Klammern\"]\n"
          ]
        },
        {
          "output_type": "stream",
          "name": "stderr",
          "text": [
            "\r 96%|█████████▋| 213/221 [21:03<01:51, 13.99s/it]"
          ]
        },
        {
          "output_type": "stream",
          "name": "stdout",
          "text": [
            "[]\n"
          ]
        },
        {
          "output_type": "stream",
          "name": "stderr",
          "text": [
            "\r 97%|█████████▋| 214/221 [21:42<02:30, 21.54s/it]"
          ]
        },
        {
          "output_type": "stream",
          "name": "stdout",
          "text": [
            "[]\n"
          ]
        },
        {
          "output_type": "stream",
          "name": "stderr",
          "text": [
            "\r 97%|█████████▋| 215/221 [21:49<01:42, 17.16s/it]"
          ]
        },
        {
          "output_type": "stream",
          "name": "stdout",
          "text": [
            "[\"Die Quantifizierung:ORD_NP-Konstruktion gehört zu den Quantifizierungskonstruktionen und beschreibt eine Zahl, die zum Beispiel eine Reihenfolge oder eine Stelle kennzeichnet, an der etwas in einer geordneten Menge steht.\", \"Die Quantifizierung:ORD_NP-Konstruktion besteht aus den Kern-Konstruktionselementen (Kern-KE) \"Quantifizierung\" und \"Quantifiziertes.\"]\n",
            "[]\n"
          ]
        },
        {
          "output_type": "stream",
          "name": "stderr",
          "text": [
            "\r 98%|█████████▊| 216/221 [21:52<01:04, 12.91s/it]"
          ]
        },
        {
          "output_type": "stream",
          "name": "stdout",
          "text": [
            "[\"Kein Mann ohne Kopf\", \"Kein Hund ohne Füße\", \"Kein Baum ohne Blätter\", \"Kein Vogel ohne Flügel\", \"Kein Reis ohne Mehl\"]\n"
          ]
        },
        {
          "output_type": "stream",
          "name": "stderr",
          "text": [
            "\r 98%|█████████▊| 217/221 [21:55<00:39,  9.86s/it]"
          ]
        },
        {
          "output_type": "stream",
          "name": "stdout",
          "text": [
            "[\"Heller als hell\", \"Größer als groß\", \"Schwerer als schwer\", \"Kleiner als klein\", \"Schönere als schön\"]\n"
          ]
        },
        {
          "output_type": "stream",
          "name": "stderr",
          "text": [
            "\r 99%|█████████▊| 218/221 [22:04<00:29,  9.74s/it]"
          ]
        },
        {
          "output_type": "stream",
          "name": "stdout",
          "text": [
            "[\"Disjunktion_Doppeltitel: Christoph Columbus oder Die Entdeckung Amerikas\", \"Disjunktion_Doppeltitel: Die Entdeckung Amerikas oder Christoph Columbus\", \"Disjunktion_Doppeltitel: Christoph Columbus oder Die Entdeckung Amerikas\", \"Disjunktion_Doppeltitel: Die Entdeckung Amerikas oder Christoph Columbus\", \"Disjunktion_Doppeltitel: Christoph Columbus oder Die Entdeckung Amerikas\"]\n"
          ]
        },
        {
          "output_type": "stream",
          "name": "stderr",
          "text": [
            "\r 99%|█████████▉| 219/221 [22:08<00:15,  7.76s/it]"
          ]
        },
        {
          "output_type": "stream",
          "name": "stdout",
          "text": [
            "[\"Wo Xist, ist Y\", \"Wo Xist, ist Y\", \"Wo Xist, ist Y\", \"Wo Xist, ist Y\", \"Wo Xist, ist Y\"]\n"
          ]
        },
        {
          "output_type": "stream",
          "name": "stderr",
          "text": [
            "\r100%|█████████▉| 220/221 [22:12<00:06,  6.65s/it]"
          ]
        },
        {
          "output_type": "stream",
          "name": "stdout",
          "text": [
            "[\"Die Blätter sind so grün wie die Wände\", \"Das Auto fährt so schnell wie das Motorrad\", \"Das Haus ist so alt wie das Rathaus\", \"Das Buch ist so schwer wie das Tablet\", \"Das Essen schmeckt so gut wie das Gebäck\"]\n"
          ]
        },
        {
          "output_type": "stream",
          "name": "stderr",
          "text": [
            "100%|██████████| 221/221 [22:18<00:00,  6.06s/it]"
          ]
        },
        {
          "output_type": "stream",
          "name": "stdout",
          "text": [
            "[\"Die Größe von X ist größer als die Größe von Y\", \"Die Größe von X ist kleiner als die Größe von Y\", \"Die Größe von X ist gleich der Größe von Y\", \"Die Größe von X ist größer als die Größe von Y\", \"Die Größe von X ist kleiner als die Größe von Y\"]\n"
          ]
        },
        {
          "output_type": "stream",
          "name": "stderr",
          "text": [
            "\n"
          ]
        }
      ]
    }
  ]
}