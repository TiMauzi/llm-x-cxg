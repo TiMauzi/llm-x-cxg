{
 "cells": [
  {
   "cell_type": "code",
   "execution_count": null,
   "id": "initial_id",
   "metadata": {
    "collapsed": true
   },
   "outputs": [],
   "source": [
    "import pickle\n",
    "import re\n",
    "\n",
    "import pandas as pd\n",
    "\n",
    "import nltk\n",
    "from nltk.corpus import stopwords\n",
    "nltk.download(\"stopwords\")\n",
    "\n",
    "from tqdm.notebook import tqdm\n",
    "tqdm.pandas()"
   ]
  },
  {
   "cell_type": "code",
   "execution_count": null,
   "outputs": [],
   "source": [
    "examples = {}\n",
    "\n",
    "for i in range(0, 5):\n",
    "    with open(\"../../out/definitions.pickle\", \"rb\") as definitions_file:\n",
    "        with open(f\"../../out/llama/examples_{i}_shot.pickle\", \"rb\") as examples_file:\n",
    "            examples[i] = {}\n",
    "            cur_definitions = pickle.load(definitions_file)\n",
    "            cur_examples = pickle.load(examples_file)\n",
    "            for (d, de) in cur_definitions.items():\n",
    "                # if i == 0:\n",
    "                #     examples[i][d] = (de, [], ex)\n",
    "                # else:\n",
    "                examples[i][d] = (de, *cur_examples[d])\n",
    "    examples[i] = pd.DataFrame.from_dict(examples[i], orient=\"index\", columns=[\"definition\", \"examples\", \"generated\"])\n",
    "    \n",
    "examples[0]"
   ],
   "metadata": {
    "collapsed": false
   },
   "id": "bc1199bc3ed27131"
  },
  {
   "cell_type": "markdown",
   "source": [
    "### Number of samples:"
   ],
   "metadata": {
    "collapsed": false
   },
   "id": "e2e4ba2002cf24b5"
  },
  {
   "cell_type": "code",
   "execution_count": null,
   "outputs": [],
   "source": [
    "def evaluate_string(s):\n",
    "    try:\n",
    "        evaluated_value = eval(s)\n",
    "        \n",
    "        if isinstance(evaluated_value, list):\n",
    "            \n",
    "            return [str(e) for e in evaluated_value]  # muss String sein!\n",
    "        \n",
    "    except:# (SyntaxError, ValueError):\n",
    "        return [s.replace(\"[\", \"\").replace(\"]\", \"\")]"
   ],
   "metadata": {
    "collapsed": false
   },
   "id": "15396b32d54de431"
  },
  {
   "cell_type": "code",
   "execution_count": null,
   "outputs": [],
   "source": [
    "for example_group in examples.values():\n",
    "    example_group['evaluated_generated'] = example_group['generated'].apply(evaluate_string)\n",
    "    example_group['num_generated'] = example_group['evaluated_generated'].apply(len)\n",
    "\n",
    "examples[0]"
   ],
   "metadata": {
    "collapsed": false
   },
   "id": "b942dabeea68e18a"
  },
  {
   "cell_type": "code",
   "execution_count": null,
   "outputs": [],
   "source": [
    "examples[4][\"num_generated\"].mean()"
   ],
   "metadata": {
    "collapsed": false
   },
   "id": "8de257898d03a33a"
  },
  {
   "cell_type": "code",
   "execution_count": null,
   "outputs": [],
   "source": [
    "examples[4][\"num_generated\"].mode()  # Häufigste Anzahl Beispielsätze (Modalwert)"
   ],
   "metadata": {
    "collapsed": false
   },
   "id": "677767b998e24664"
  },
  {
   "cell_type": "markdown",
   "source": [
    "### Number of unique samples:"
   ],
   "metadata": {
    "collapsed": false
   },
   "id": "95a1b21f45c21d4b"
  },
  {
   "cell_type": "code",
   "execution_count": null,
   "outputs": [],
   "source": [
    "for example_group in examples.values():\n",
    "    example_group['unique_generated'] = example_group['evaluated_generated'].apply(lambda x: (len(set(x))/len(x)) if len(x) > 0 else 0.0)"
   ],
   "metadata": {
    "collapsed": false
   },
   "id": "25aca6b94b741f22"
  },
  {
   "cell_type": "code",
   "execution_count": null,
   "outputs": [],
   "source": [
    "examples[0]"
   ],
   "metadata": {
    "collapsed": false
   },
   "id": "18cda87b8b05bbe6"
  },
  {
   "cell_type": "markdown",
   "source": [
    "For these outputs the number of generated samples and the number of unique samples differ:"
   ],
   "metadata": {
    "collapsed": false
   },
   "id": "e418ffdc947e7e35"
  },
  {
   "cell_type": "code",
   "execution_count": null,
   "outputs": [],
   "source": [
    "not_all_unique = examples[0][(0.0 < examples[0]['unique_generated']) & (examples[0]['unique_generated'] < 1.0)]\n",
    "print(len(not_all_unique) / len(examples[0]) * 100, \"%\")\n",
    "not_all_unique"
   ],
   "metadata": {
    "collapsed": false
   },
   "id": "9e48f0fc44393835"
  },
  {
   "cell_type": "markdown",
   "source": [
    "### Actually new content:"
   ],
   "metadata": {
    "collapsed": false
   },
   "id": "3825855d0dff5aef"
  },
  {
   "cell_type": "code",
   "execution_count": null,
   "outputs": [],
   "source": [
    "stopwords = {s.lower() for s in stopwords.words(\"german\")}  # Stoppwörter werden entfernt, weil die nichts über Wiederholungen aussagen\n",
    "\n",
    "def calculate_overlap(row):\n",
    "    generated_set = {w for w in \" \".join(row['evaluated_generated']).split() if w.lower() not in stopwords}\n",
    "    \n",
    "    if len(generated_set) > 0:\n",
    "        definition_overlap = len(generated_set.intersection({w for w in row['definition'].split() if w.lower() not in stopwords})) / len(generated_set)\n",
    "        examples_overlap = len(generated_set.intersection({w for w in \" \".join(row['examples']).split() if w.lower() not in stopwords})) / len(generated_set)\n",
    "        overlap = len(generated_set.intersection({w for w in row['definition'].split() if w.lower() not in stopwords} | {w for w in \" \".join(row['examples']).split() if w.lower() not in stopwords})) / len(generated_set)\n",
    "    else:\n",
    "        definition_overlap = 0.0\n",
    "        examples_overlap = 0.0\n",
    "        overlap = 0.0\n",
    "    \n",
    "    return definition_overlap, examples_overlap, overlap"
   ],
   "metadata": {
    "collapsed": false
   },
   "id": "66dd136e3f5bc078"
  },
  {
   "cell_type": "code",
   "execution_count": null,
   "outputs": [],
   "source": [
    "for example_group in examples.values():\n",
    "    example_group[['definition_overlap', 'examples_overlap', 'overlap']] = example_group.apply(calculate_overlap, axis=1, result_type='expand')"
   ],
   "metadata": {
    "collapsed": false
   },
   "id": "d8f77e6a2a128b3f"
  },
  {
   "cell_type": "code",
   "execution_count": null,
   "outputs": [],
   "source": [
    "examples[3]"
   ],
   "metadata": {
    "collapsed": false
   },
   "id": "ac99a014755acb4f"
  },
  {
   "cell_type": "code",
   "execution_count": null,
   "outputs": [],
   "source": [
    "examples[0][\"overlap\"].mean()"
   ],
   "metadata": {
    "collapsed": false
   },
   "id": "371c33ee51a9f645"
  },
  {
   "cell_type": "code",
   "execution_count": null,
   "outputs": [],
   "source": [
    "for i, example_group in examples.items():\n",
    "    example_group.to_csv(f\"../../out/llama/{i}_shot_data.tsv\", sep=\"\\t\", decimal=\",\")\n",
    "    example_group.to_excel(f\"../../out/llama/{i}_shot_data.xlsx\")"
   ],
   "metadata": {
    "collapsed": false
   },
   "id": "e974acebaa47744e"
  }
 ],
 "metadata": {
  "kernelspec": {
   "display_name": "Python 3",
   "language": "python",
   "name": "python3"
  },
  "language_info": {
   "codemirror_mode": {
    "name": "ipython",
    "version": 2
   },
   "file_extension": ".py",
   "mimetype": "text/x-python",
   "name": "python",
   "nbconvert_exporter": "python",
   "pygments_lexer": "ipython2",
   "version": "2.7.6"
  }
 },
 "nbformat": 4,
 "nbformat_minor": 5
}
