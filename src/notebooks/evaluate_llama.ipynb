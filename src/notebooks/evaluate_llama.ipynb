{
 "cells": [
  {
   "cell_type": "code",
   "execution_count": 1,
   "id": "initial_id",
   "metadata": {
    "collapsed": true,
    "ExecuteTime": {
     "end_time": "2023-12-19T15:19:15.265102200Z",
     "start_time": "2023-12-19T15:19:13.481585500Z"
    }
   },
   "outputs": [
    {
     "name": "stderr",
     "output_type": "stream",
     "text": [
      "[nltk_data] Downloading package stopwords to\n",
      "[nltk_data]     C:\\Users\\Tim\\AppData\\Roaming\\nltk_data...\n",
      "[nltk_data]   Package stopwords is already up-to-date!\n"
     ]
    }
   ],
   "source": [
    "import pickle\n",
    "import re\n",
    "\n",
    "import pandas as pd\n",
    "\n",
    "import nltk\n",
    "from nltk.corpus import stopwords\n",
    "nltk.download(\"stopwords\")\n",
    "\n",
    "from tqdm.notebook import tqdm\n",
    "tqdm.pandas()"
   ]
  },
  {
   "cell_type": "code",
   "execution_count": 2,
   "outputs": [
    {
     "data": {
      "text/plain": "                                             definition examples  \\\n10    Die \"Negation:NEG_XgeschweigedennY-Konstruktio...       []   \n100   Die \"Äquativ_Plural-Konstruktion\" gehört zu de...       []   \n1004  Die \"Superlativ_Klimax:ADJ1_ADJ1-er_NP-Konstru...       []   \n1006  Die \"Superlativ:PRÄP_ADJ-ster_NP-Konstruktion\"...       []   \n101   Die \"Äquativ:ADJwieNP-Konstruktion\" gehört zu ...       []   \n...                                                 ...      ...   \n97    Die \"Komparativ:ADJ1-eralsADJ1-Konstruktion\" g...       []   \n973   Bei \"Disjunktion_Doppeltitel:XoderY\" handelt e...       []   \n976   Bei \"Korrelation_Affirmation:WoXist, istY\" han...       []   \n98    Die \"Äquativ:soADJwieXP-Konstruktion\" gehört z...       []   \n99    Die \"Komparativ:ADJ-eralsX-Konstruktion\" gehör...       []   \n\n                                              generated  \n10    [\"Die meisten von ihnen haben zuvor noch nie e...  \n100   [\"Die beiden Pferde sind gleicher Größe.\", \"Di...  \n1004  [\"Michael is the tallest\", \"John has the short...  \n1006  [\"The athlete is the fastest runner on the tea...  \n101   [\"Das Auto fährt wie eine Lokomotive\", \"Das Ha...  \n...                                                 ...  \n97    [\"Ein Mann, der höher ist als der Frau\", \"Ein ...  \n973                                      [\"Xoder\", \"Y\"]  \n976   [\"Wo das Licht ist, ist auch die Dunkelheit\", ...  \n98    [\"Die 'äquativ' ist gleich 22\", \"Das Bild ist ...  \n99    [\"Das Gemüse ist ungleichwertig\", \"Die Mensche...  \n\n[211 rows x 3 columns]",
      "text/html": "<div>\n<style scoped>\n    .dataframe tbody tr th:only-of-type {\n        vertical-align: middle;\n    }\n\n    .dataframe tbody tr th {\n        vertical-align: top;\n    }\n\n    .dataframe thead th {\n        text-align: right;\n    }\n</style>\n<table border=\"1\" class=\"dataframe\">\n  <thead>\n    <tr style=\"text-align: right;\">\n      <th></th>\n      <th>definition</th>\n      <th>examples</th>\n      <th>generated</th>\n    </tr>\n  </thead>\n  <tbody>\n    <tr>\n      <th>10</th>\n      <td>Die \"Negation:NEG_XgeschweigedennY-Konstruktio...</td>\n      <td>[]</td>\n      <td>[\"Die meisten von ihnen haben zuvor noch nie e...</td>\n    </tr>\n    <tr>\n      <th>100</th>\n      <td>Die \"Äquativ_Plural-Konstruktion\" gehört zu de...</td>\n      <td>[]</td>\n      <td>[\"Die beiden Pferde sind gleicher Größe.\", \"Di...</td>\n    </tr>\n    <tr>\n      <th>1004</th>\n      <td>Die \"Superlativ_Klimax:ADJ1_ADJ1-er_NP-Konstru...</td>\n      <td>[]</td>\n      <td>[\"Michael is the tallest\", \"John has the short...</td>\n    </tr>\n    <tr>\n      <th>1006</th>\n      <td>Die \"Superlativ:PRÄP_ADJ-ster_NP-Konstruktion\"...</td>\n      <td>[]</td>\n      <td>[\"The athlete is the fastest runner on the tea...</td>\n    </tr>\n    <tr>\n      <th>101</th>\n      <td>Die \"Äquativ:ADJwieNP-Konstruktion\" gehört zu ...</td>\n      <td>[]</td>\n      <td>[\"Das Auto fährt wie eine Lokomotive\", \"Das Ha...</td>\n    </tr>\n    <tr>\n      <th>...</th>\n      <td>...</td>\n      <td>...</td>\n      <td>...</td>\n    </tr>\n    <tr>\n      <th>97</th>\n      <td>Die \"Komparativ:ADJ1-eralsADJ1-Konstruktion\" g...</td>\n      <td>[]</td>\n      <td>[\"Ein Mann, der höher ist als der Frau\", \"Ein ...</td>\n    </tr>\n    <tr>\n      <th>973</th>\n      <td>Bei \"Disjunktion_Doppeltitel:XoderY\" handelt e...</td>\n      <td>[]</td>\n      <td>[\"Xoder\", \"Y\"]</td>\n    </tr>\n    <tr>\n      <th>976</th>\n      <td>Bei \"Korrelation_Affirmation:WoXist, istY\" han...</td>\n      <td>[]</td>\n      <td>[\"Wo das Licht ist, ist auch die Dunkelheit\", ...</td>\n    </tr>\n    <tr>\n      <th>98</th>\n      <td>Die \"Äquativ:soADJwieXP-Konstruktion\" gehört z...</td>\n      <td>[]</td>\n      <td>[\"Die 'äquativ' ist gleich 22\", \"Das Bild ist ...</td>\n    </tr>\n    <tr>\n      <th>99</th>\n      <td>Die \"Komparativ:ADJ-eralsX-Konstruktion\" gehör...</td>\n      <td>[]</td>\n      <td>[\"Das Gemüse ist ungleichwertig\", \"Die Mensche...</td>\n    </tr>\n  </tbody>\n</table>\n<p>211 rows × 3 columns</p>\n</div>"
     },
     "execution_count": 2,
     "metadata": {},
     "output_type": "execute_result"
    }
   ],
   "source": [
    "examples = {}\n",
    "\n",
    "for i in range(0, 5):\n",
    "    with open(\"../../out/definitions.pickle\", \"rb\") as definitions_file:\n",
    "        with open(f\"../../out/llama/examples_{i}_shot.pickle\", \"rb\") as examples_file:\n",
    "            examples[i] = {}\n",
    "            cur_definitions = pickle.load(definitions_file)\n",
    "            cur_examples = pickle.load(examples_file)\n",
    "            for (d, de) in cur_definitions.items():\n",
    "                # if i == 0:\n",
    "                #     examples[i][d] = (de, [], ex)\n",
    "                # else:\n",
    "                examples[i][d] = (de, *cur_examples[d])\n",
    "    examples[i] = pd.DataFrame.from_dict(examples[i], orient=\"index\", columns=[\"definition\", \"examples\", \"generated\"])\n",
    "    \n",
    "examples[0]"
   ],
   "metadata": {
    "collapsed": false,
    "ExecuteTime": {
     "end_time": "2023-12-19T15:25:46.224756800Z",
     "start_time": "2023-12-19T15:25:46.193263Z"
    }
   },
   "id": "bc1199bc3ed27131"
  },
  {
   "cell_type": "markdown",
   "source": [
    "## Llama-2:\n",
    "### Anzahl Beispielsätze:"
   ],
   "metadata": {
    "collapsed": false
   },
   "id": "e2e4ba2002cf24b5"
  },
  {
   "cell_type": "code",
   "execution_count": 3,
   "outputs": [],
   "source": [
    "def evaluate_string(s):\n",
    "    try:\n",
    "        evaluated_value = eval(s)\n",
    "        \n",
    "        if isinstance(evaluated_value, list):\n",
    "            \n",
    "            return [str(e) for e in evaluated_value]  # muss String sein!\n",
    "        \n",
    "    except:# (SyntaxError, ValueError):\n",
    "        return [s.replace(\"[\", \"\").replace(\"]\", \"\")]"
   ],
   "metadata": {
    "collapsed": false,
    "ExecuteTime": {
     "end_time": "2023-12-19T15:26:17.843896800Z",
     "start_time": "2023-12-19T15:26:17.835239500Z"
    }
   },
   "id": "15396b32d54de431"
  },
  {
   "cell_type": "code",
   "execution_count": 4,
   "outputs": [
    {
     "data": {
      "text/plain": "                                             definition examples  \\\n10    Die \"Negation:NEG_XgeschweigedennY-Konstruktio...       []   \n100   Die \"Äquativ_Plural-Konstruktion\" gehört zu de...       []   \n1004  Die \"Superlativ_Klimax:ADJ1_ADJ1-er_NP-Konstru...       []   \n1006  Die \"Superlativ:PRÄP_ADJ-ster_NP-Konstruktion\"...       []   \n101   Die \"Äquativ:ADJwieNP-Konstruktion\" gehört zu ...       []   \n...                                                 ...      ...   \n97    Die \"Komparativ:ADJ1-eralsADJ1-Konstruktion\" g...       []   \n973   Bei \"Disjunktion_Doppeltitel:XoderY\" handelt e...       []   \n976   Bei \"Korrelation_Affirmation:WoXist, istY\" han...       []   \n98    Die \"Äquativ:soADJwieXP-Konstruktion\" gehört z...       []   \n99    Die \"Komparativ:ADJ-eralsX-Konstruktion\" gehör...       []   \n\n                                              generated  \\\n10    [\"Die meisten von ihnen haben zuvor noch nie e...   \n100   [\"Die beiden Pferde sind gleicher Größe.\", \"Di...   \n1004  [\"Michael is the tallest\", \"John has the short...   \n1006  [\"The athlete is the fastest runner on the tea...   \n101   [\"Das Auto fährt wie eine Lokomotive\", \"Das Ha...   \n...                                                 ...   \n97    [\"Ein Mann, der höher ist als der Frau\", \"Ein ...   \n973                                      [\"Xoder\", \"Y\"]   \n976   [\"Wo das Licht ist, ist auch die Dunkelheit\", ...   \n98    [\"Die 'äquativ' ist gleich 22\", \"Das Bild ist ...   \n99    [\"Das Gemüse ist ungleichwertig\", \"Die Mensche...   \n\n                                    evaluated_generated  num_generated  \n10    [Die meisten von ihnen haben zuvor noch nie ei...              2  \n100   [Die beiden Pferde sind gleicher Größe., Die b...              2  \n1004  [Michael is the tallest, John has the shortest...              3  \n1006   [The athlete is the fastest runner on the team.]              1  \n101   [Das Auto fährt wie eine Lokomotive, Das Haus ...              3  \n...                                                 ...            ...  \n97    [Ein Mann, der höher ist als der Frau, Ein Man...              3  \n973                                          [Xoder, Y]              2  \n976   [Wo das Licht ist, ist auch die Dunkelheit, Wo...              4  \n98    [Die 'äquativ' ist gleich 22, Das Bild ist äqu...              2  \n99    [Das Gemüse ist ungleichwertig, Die Menschen s...              7  \n\n[211 rows x 5 columns]",
      "text/html": "<div>\n<style scoped>\n    .dataframe tbody tr th:only-of-type {\n        vertical-align: middle;\n    }\n\n    .dataframe tbody tr th {\n        vertical-align: top;\n    }\n\n    .dataframe thead th {\n        text-align: right;\n    }\n</style>\n<table border=\"1\" class=\"dataframe\">\n  <thead>\n    <tr style=\"text-align: right;\">\n      <th></th>\n      <th>definition</th>\n      <th>examples</th>\n      <th>generated</th>\n      <th>evaluated_generated</th>\n      <th>num_generated</th>\n    </tr>\n  </thead>\n  <tbody>\n    <tr>\n      <th>10</th>\n      <td>Die \"Negation:NEG_XgeschweigedennY-Konstruktio...</td>\n      <td>[]</td>\n      <td>[\"Die meisten von ihnen haben zuvor noch nie e...</td>\n      <td>[Die meisten von ihnen haben zuvor noch nie ei...</td>\n      <td>2</td>\n    </tr>\n    <tr>\n      <th>100</th>\n      <td>Die \"Äquativ_Plural-Konstruktion\" gehört zu de...</td>\n      <td>[]</td>\n      <td>[\"Die beiden Pferde sind gleicher Größe.\", \"Di...</td>\n      <td>[Die beiden Pferde sind gleicher Größe., Die b...</td>\n      <td>2</td>\n    </tr>\n    <tr>\n      <th>1004</th>\n      <td>Die \"Superlativ_Klimax:ADJ1_ADJ1-er_NP-Konstru...</td>\n      <td>[]</td>\n      <td>[\"Michael is the tallest\", \"John has the short...</td>\n      <td>[Michael is the tallest, John has the shortest...</td>\n      <td>3</td>\n    </tr>\n    <tr>\n      <th>1006</th>\n      <td>Die \"Superlativ:PRÄP_ADJ-ster_NP-Konstruktion\"...</td>\n      <td>[]</td>\n      <td>[\"The athlete is the fastest runner on the tea...</td>\n      <td>[The athlete is the fastest runner on the team.]</td>\n      <td>1</td>\n    </tr>\n    <tr>\n      <th>101</th>\n      <td>Die \"Äquativ:ADJwieNP-Konstruktion\" gehört zu ...</td>\n      <td>[]</td>\n      <td>[\"Das Auto fährt wie eine Lokomotive\", \"Das Ha...</td>\n      <td>[Das Auto fährt wie eine Lokomotive, Das Haus ...</td>\n      <td>3</td>\n    </tr>\n    <tr>\n      <th>...</th>\n      <td>...</td>\n      <td>...</td>\n      <td>...</td>\n      <td>...</td>\n      <td>...</td>\n    </tr>\n    <tr>\n      <th>97</th>\n      <td>Die \"Komparativ:ADJ1-eralsADJ1-Konstruktion\" g...</td>\n      <td>[]</td>\n      <td>[\"Ein Mann, der höher ist als der Frau\", \"Ein ...</td>\n      <td>[Ein Mann, der höher ist als der Frau, Ein Man...</td>\n      <td>3</td>\n    </tr>\n    <tr>\n      <th>973</th>\n      <td>Bei \"Disjunktion_Doppeltitel:XoderY\" handelt e...</td>\n      <td>[]</td>\n      <td>[\"Xoder\", \"Y\"]</td>\n      <td>[Xoder, Y]</td>\n      <td>2</td>\n    </tr>\n    <tr>\n      <th>976</th>\n      <td>Bei \"Korrelation_Affirmation:WoXist, istY\" han...</td>\n      <td>[]</td>\n      <td>[\"Wo das Licht ist, ist auch die Dunkelheit\", ...</td>\n      <td>[Wo das Licht ist, ist auch die Dunkelheit, Wo...</td>\n      <td>4</td>\n    </tr>\n    <tr>\n      <th>98</th>\n      <td>Die \"Äquativ:soADJwieXP-Konstruktion\" gehört z...</td>\n      <td>[]</td>\n      <td>[\"Die 'äquativ' ist gleich 22\", \"Das Bild ist ...</td>\n      <td>[Die 'äquativ' ist gleich 22, Das Bild ist äqu...</td>\n      <td>2</td>\n    </tr>\n    <tr>\n      <th>99</th>\n      <td>Die \"Komparativ:ADJ-eralsX-Konstruktion\" gehör...</td>\n      <td>[]</td>\n      <td>[\"Das Gemüse ist ungleichwertig\", \"Die Mensche...</td>\n      <td>[Das Gemüse ist ungleichwertig, Die Menschen s...</td>\n      <td>7</td>\n    </tr>\n  </tbody>\n</table>\n<p>211 rows × 5 columns</p>\n</div>"
     },
     "execution_count": 4,
     "metadata": {},
     "output_type": "execute_result"
    }
   ],
   "source": [
    "for example_group in examples.values():\n",
    "    example_group['evaluated_generated'] = example_group['generated'].apply(evaluate_string)\n",
    "    example_group['num_generated'] = example_group['evaluated_generated'].apply(len)\n",
    "\n",
    "examples[0]"
   ],
   "metadata": {
    "collapsed": false,
    "ExecuteTime": {
     "end_time": "2023-12-19T15:26:18.313565500Z",
     "start_time": "2023-12-19T15:26:18.264305500Z"
    }
   },
   "id": "b942dabeea68e18a"
  },
  {
   "cell_type": "code",
   "execution_count": 13,
   "outputs": [
    {
     "data": {
      "text/plain": "4.009478672985782"
     },
     "execution_count": 13,
     "metadata": {},
     "output_type": "execute_result"
    }
   ],
   "source": [
    "examples[4][\"num_generated\"].mean()"
   ],
   "metadata": {
    "collapsed": false,
    "ExecuteTime": {
     "end_time": "2023-12-19T15:27:26.470035900Z",
     "start_time": "2023-12-19T15:27:26.465229400Z"
    }
   },
   "id": "8de257898d03a33a"
  },
  {
   "cell_type": "code",
   "execution_count": 14,
   "outputs": [
    {
     "data": {
      "text/plain": "0    4\nName: num_generated, dtype: int64"
     },
     "execution_count": 14,
     "metadata": {},
     "output_type": "execute_result"
    }
   ],
   "source": [
    "examples[4][\"num_generated\"].mode()  # Häufigste Anzahl Beispielsätze (Modalwert)"
   ],
   "metadata": {
    "collapsed": false,
    "ExecuteTime": {
     "end_time": "2023-12-19T15:27:28.996750600Z",
     "start_time": "2023-12-19T15:27:28.977672700Z"
    }
   },
   "id": "677767b998e24664"
  },
  {
   "cell_type": "markdown",
   "source": [
    "### Anzahl unterschiedlicher Beispielsätze"
   ],
   "metadata": {
    "collapsed": false
   },
   "id": "95a1b21f45c21d4b"
  },
  {
   "cell_type": "code",
   "execution_count": 15,
   "outputs": [],
   "source": [
    "for example_group in examples.values():\n",
    "    example_group['unique_generated'] = example_group['evaluated_generated'].apply(lambda x: (len(set(x))/len(x)) if len(x) > 0 else 0.0)"
   ],
   "metadata": {
    "collapsed": false,
    "ExecuteTime": {
     "end_time": "2023-12-19T15:27:38.915370500Z",
     "start_time": "2023-12-19T15:27:38.899655400Z"
    }
   },
   "id": "25aca6b94b741f22"
  },
  {
   "cell_type": "code",
   "execution_count": 16,
   "outputs": [
    {
     "data": {
      "text/plain": "                                             definition examples  \\\n10    Die \"Negation:NEG_XgeschweigedennY-Konstruktio...       []   \n100   Die \"Äquativ_Plural-Konstruktion\" gehört zu de...       []   \n1004  Die \"Superlativ_Klimax:ADJ1_ADJ1-er_NP-Konstru...       []   \n1006  Die \"Superlativ:PRÄP_ADJ-ster_NP-Konstruktion\"...       []   \n101   Die \"Äquativ:ADJwieNP-Konstruktion\" gehört zu ...       []   \n...                                                 ...      ...   \n97    Die \"Komparativ:ADJ1-eralsADJ1-Konstruktion\" g...       []   \n973   Bei \"Disjunktion_Doppeltitel:XoderY\" handelt e...       []   \n976   Bei \"Korrelation_Affirmation:WoXist, istY\" han...       []   \n98    Die \"Äquativ:soADJwieXP-Konstruktion\" gehört z...       []   \n99    Die \"Komparativ:ADJ-eralsX-Konstruktion\" gehör...       []   \n\n                                              generated  \\\n10    [\"Die meisten von ihnen haben zuvor noch nie e...   \n100   [\"Die beiden Pferde sind gleicher Größe.\", \"Di...   \n1004  [\"Michael is the tallest\", \"John has the short...   \n1006  [\"The athlete is the fastest runner on the tea...   \n101   [\"Das Auto fährt wie eine Lokomotive\", \"Das Ha...   \n...                                                 ...   \n97    [\"Ein Mann, der höher ist als der Frau\", \"Ein ...   \n973                                      [\"Xoder\", \"Y\"]   \n976   [\"Wo das Licht ist, ist auch die Dunkelheit\", ...   \n98    [\"Die 'äquativ' ist gleich 22\", \"Das Bild ist ...   \n99    [\"Das Gemüse ist ungleichwertig\", \"Die Mensche...   \n\n                                    evaluated_generated  num_generated  \\\n10    [Die meisten von ihnen haben zuvor noch nie ei...              2   \n100   [Die beiden Pferde sind gleicher Größe., Die b...              2   \n1004  [Michael is the tallest, John has the shortest...              3   \n1006   [The athlete is the fastest runner on the team.]              1   \n101   [Das Auto fährt wie eine Lokomotive, Das Haus ...              3   \n...                                                 ...            ...   \n97    [Ein Mann, der höher ist als der Frau, Ein Man...              3   \n973                                          [Xoder, Y]              2   \n976   [Wo das Licht ist, ist auch die Dunkelheit, Wo...              4   \n98    [Die 'äquativ' ist gleich 22, Das Bild ist äqu...              2   \n99    [Das Gemüse ist ungleichwertig, Die Menschen s...              7   \n\n      unique_generated  \n10                 1.0  \n100                1.0  \n1004               1.0  \n1006               1.0  \n101                1.0  \n...                ...  \n97                 1.0  \n973                1.0  \n976                1.0  \n98                 1.0  \n99                 1.0  \n\n[211 rows x 6 columns]",
      "text/html": "<div>\n<style scoped>\n    .dataframe tbody tr th:only-of-type {\n        vertical-align: middle;\n    }\n\n    .dataframe tbody tr th {\n        vertical-align: top;\n    }\n\n    .dataframe thead th {\n        text-align: right;\n    }\n</style>\n<table border=\"1\" class=\"dataframe\">\n  <thead>\n    <tr style=\"text-align: right;\">\n      <th></th>\n      <th>definition</th>\n      <th>examples</th>\n      <th>generated</th>\n      <th>evaluated_generated</th>\n      <th>num_generated</th>\n      <th>unique_generated</th>\n    </tr>\n  </thead>\n  <tbody>\n    <tr>\n      <th>10</th>\n      <td>Die \"Negation:NEG_XgeschweigedennY-Konstruktio...</td>\n      <td>[]</td>\n      <td>[\"Die meisten von ihnen haben zuvor noch nie e...</td>\n      <td>[Die meisten von ihnen haben zuvor noch nie ei...</td>\n      <td>2</td>\n      <td>1.0</td>\n    </tr>\n    <tr>\n      <th>100</th>\n      <td>Die \"Äquativ_Plural-Konstruktion\" gehört zu de...</td>\n      <td>[]</td>\n      <td>[\"Die beiden Pferde sind gleicher Größe.\", \"Di...</td>\n      <td>[Die beiden Pferde sind gleicher Größe., Die b...</td>\n      <td>2</td>\n      <td>1.0</td>\n    </tr>\n    <tr>\n      <th>1004</th>\n      <td>Die \"Superlativ_Klimax:ADJ1_ADJ1-er_NP-Konstru...</td>\n      <td>[]</td>\n      <td>[\"Michael is the tallest\", \"John has the short...</td>\n      <td>[Michael is the tallest, John has the shortest...</td>\n      <td>3</td>\n      <td>1.0</td>\n    </tr>\n    <tr>\n      <th>1006</th>\n      <td>Die \"Superlativ:PRÄP_ADJ-ster_NP-Konstruktion\"...</td>\n      <td>[]</td>\n      <td>[\"The athlete is the fastest runner on the tea...</td>\n      <td>[The athlete is the fastest runner on the team.]</td>\n      <td>1</td>\n      <td>1.0</td>\n    </tr>\n    <tr>\n      <th>101</th>\n      <td>Die \"Äquativ:ADJwieNP-Konstruktion\" gehört zu ...</td>\n      <td>[]</td>\n      <td>[\"Das Auto fährt wie eine Lokomotive\", \"Das Ha...</td>\n      <td>[Das Auto fährt wie eine Lokomotive, Das Haus ...</td>\n      <td>3</td>\n      <td>1.0</td>\n    </tr>\n    <tr>\n      <th>...</th>\n      <td>...</td>\n      <td>...</td>\n      <td>...</td>\n      <td>...</td>\n      <td>...</td>\n      <td>...</td>\n    </tr>\n    <tr>\n      <th>97</th>\n      <td>Die \"Komparativ:ADJ1-eralsADJ1-Konstruktion\" g...</td>\n      <td>[]</td>\n      <td>[\"Ein Mann, der höher ist als der Frau\", \"Ein ...</td>\n      <td>[Ein Mann, der höher ist als der Frau, Ein Man...</td>\n      <td>3</td>\n      <td>1.0</td>\n    </tr>\n    <tr>\n      <th>973</th>\n      <td>Bei \"Disjunktion_Doppeltitel:XoderY\" handelt e...</td>\n      <td>[]</td>\n      <td>[\"Xoder\", \"Y\"]</td>\n      <td>[Xoder, Y]</td>\n      <td>2</td>\n      <td>1.0</td>\n    </tr>\n    <tr>\n      <th>976</th>\n      <td>Bei \"Korrelation_Affirmation:WoXist, istY\" han...</td>\n      <td>[]</td>\n      <td>[\"Wo das Licht ist, ist auch die Dunkelheit\", ...</td>\n      <td>[Wo das Licht ist, ist auch die Dunkelheit, Wo...</td>\n      <td>4</td>\n      <td>1.0</td>\n    </tr>\n    <tr>\n      <th>98</th>\n      <td>Die \"Äquativ:soADJwieXP-Konstruktion\" gehört z...</td>\n      <td>[]</td>\n      <td>[\"Die 'äquativ' ist gleich 22\", \"Das Bild ist ...</td>\n      <td>[Die 'äquativ' ist gleich 22, Das Bild ist äqu...</td>\n      <td>2</td>\n      <td>1.0</td>\n    </tr>\n    <tr>\n      <th>99</th>\n      <td>Die \"Komparativ:ADJ-eralsX-Konstruktion\" gehör...</td>\n      <td>[]</td>\n      <td>[\"Das Gemüse ist ungleichwertig\", \"Die Mensche...</td>\n      <td>[Das Gemüse ist ungleichwertig, Die Menschen s...</td>\n      <td>7</td>\n      <td>1.0</td>\n    </tr>\n  </tbody>\n</table>\n<p>211 rows × 6 columns</p>\n</div>"
     },
     "execution_count": 16,
     "metadata": {},
     "output_type": "execute_result"
    }
   ],
   "source": [
    "examples[0]"
   ],
   "metadata": {
    "collapsed": false,
    "ExecuteTime": {
     "end_time": "2023-12-19T15:27:39.525339100Z",
     "start_time": "2023-12-19T15:27:39.500047800Z"
    }
   },
   "id": "18cda87b8b05bbe6"
  },
  {
   "cell_type": "markdown",
   "source": [
    "In diesen Ausgaben unterscheiden sich die Anzahl der generierten Beispiele und die Anzahl der tatsächlich unterschiedlichen Beispiele:"
   ],
   "metadata": {
    "collapsed": false
   },
   "id": "e418ffdc947e7e35"
  },
  {
   "cell_type": "code",
   "execution_count": 17,
   "outputs": [
    {
     "name": "stdout",
     "output_type": "stream",
     "text": [
      "6.6350710900473935 %\n"
     ]
    },
    {
     "data": {
      "text/plain": "                                             definition examples  \\\n1029  Bei der in der Forschung als „w-Schlagzeile“ (...       []   \n1054  Die \"Intensivierung:ART_HERRSCHERTITEL_ART_NP-...       []   \n1134  Die \"Additiv_Koordination:sowohlXalsauchY\" umf...       []   \n12    Die \"Negation:wederXPnochXP-Konstruktion\" umfa...       []   \n129   Die \"Äquativ:eine_ArtX-Konstruktion\" gehört zu...       []   \n1324  Die Konstruktion\" Intensivierung_Attribut_nach...       []   \n1346  Die meist als Prädikativum verwendete Konstruk...       []   \n1351  Die \"Reduplikation_Irrelevanz:N1hinN1her-Konst...       []   \n1777  Die \"Korrelativer_Äquativ:VPin_dem_MaßeXP-Kons...       []   \n1842  Die \"Personenreferenz_abwertend:x-ling-Konstru...       []   \n374   Die \"Negation_Schlussfolgerung:nurweilX_NEG_Y-...       []   \n639   Die \"Superlativ_Wortbildung:INTENSIVIERUNG-ADJ...       []   \n78    Die \"Exklamativ:solch_(Art.indef_)N-Konstrukti...       []   \n858   Die \"Zeitdeixis_Quantifizierung:inNUM_ZEITEINH...       []   \n\n                                              generated  \\\n1029  [\"Mehr Artikel anzeigen\", \"Kaufen\", \"Buch kauf...   \n1054  [\"Königin\", \"Kaiser\", \"Papst\", \"Königin\", \"Kai...   \n1134  [\"Dieses Auto fährt sowohl schnell als auch si...   \n12    [\"Es wird gesagt, dass jeder in den Bergen wei...   \n129   [\"Eine Art von Reis ist nach dem Kochen äquiva...   \n1324                  [\"intensivierte\", \"satt\", \"satt\"]   \n1346     [\"Prototyp-Buchesteht\", \"Prototyp-Buchesteht\"]   \n1351  [\"Dieser Konstrukt ist identisch mit diesem Ko...   \n1777  [\"In dem Maß des Gleichen\", \"Im selben Maß\", \"...   \n1842  [\"Abwertungs-lingua\", \"Abwertungs-Lingua\", \"Ab...   \n374   [\"Das Auto fährt nicht schnell genug.\", \"Das A...   \n639   [\"Wenn sie das Auto schnell fuhrten\", \"Er ist ...   \n78    [\"Das war solch ein unglücklicher Tag\", \"Das w...   \n858   [\"KEE\", \"Quantifizierung\", \"Zeiteinheit\", \"Ann...   \n\n                                    evaluated_generated  num_generated  \\\n1029  [Mehr Artikel anzeigen, Kaufen, Buch kaufen, B...              8   \n1054        [Königin, Kaiser, Papst, Königin, Kaiserin]              5   \n1134  [Dieses Auto fährt sowohl schnell als auch sic...              4   \n12    [Es wird gesagt, dass jeder in den Bergen weil...              2   \n129   [Eine Art von Reis ist nach dem Kochen äquival...              9   \n1324                        [intensivierte, satt, satt]              3   \n1346         [Prototyp-Buchesteht, Prototyp-Buchesteht]              2   \n1351  [Dieser Konstrukt ist identisch mit diesem Kon...              2   \n1777  [In dem Maß des Gleichen, Im selben Maß, In de...              9   \n1842  [Abwertungs-lingua, Abwertungs-Lingua, Abwertu...              6   \n374   [Das Auto fährt nicht schnell genug., Das Auto...              3   \n639   [Wenn sie das Auto schnell fuhrten, Er ist der...              9   \n78    [Das war solch ein unglücklicher Tag, Das war ...              2   \n858   [KEE, Quantifizierung, Zeiteinheit, Annäherung...              6   \n\n      unique_generated  \n1029          0.375000  \n1054          0.800000  \n1134          0.250000  \n12            0.500000  \n129           0.444444  \n1324          0.666667  \n1346          0.500000  \n1351          0.500000  \n1777          0.666667  \n1842          0.500000  \n374           0.666667  \n639           0.777778  \n78            0.500000  \n858           0.833333  ",
      "text/html": "<div>\n<style scoped>\n    .dataframe tbody tr th:only-of-type {\n        vertical-align: middle;\n    }\n\n    .dataframe tbody tr th {\n        vertical-align: top;\n    }\n\n    .dataframe thead th {\n        text-align: right;\n    }\n</style>\n<table border=\"1\" class=\"dataframe\">\n  <thead>\n    <tr style=\"text-align: right;\">\n      <th></th>\n      <th>definition</th>\n      <th>examples</th>\n      <th>generated</th>\n      <th>evaluated_generated</th>\n      <th>num_generated</th>\n      <th>unique_generated</th>\n    </tr>\n  </thead>\n  <tbody>\n    <tr>\n      <th>1029</th>\n      <td>Bei der in der Forschung als „w-Schlagzeile“ (...</td>\n      <td>[]</td>\n      <td>[\"Mehr Artikel anzeigen\", \"Kaufen\", \"Buch kauf...</td>\n      <td>[Mehr Artikel anzeigen, Kaufen, Buch kaufen, B...</td>\n      <td>8</td>\n      <td>0.375000</td>\n    </tr>\n    <tr>\n      <th>1054</th>\n      <td>Die \"Intensivierung:ART_HERRSCHERTITEL_ART_NP-...</td>\n      <td>[]</td>\n      <td>[\"Königin\", \"Kaiser\", \"Papst\", \"Königin\", \"Kai...</td>\n      <td>[Königin, Kaiser, Papst, Königin, Kaiserin]</td>\n      <td>5</td>\n      <td>0.800000</td>\n    </tr>\n    <tr>\n      <th>1134</th>\n      <td>Die \"Additiv_Koordination:sowohlXalsauchY\" umf...</td>\n      <td>[]</td>\n      <td>[\"Dieses Auto fährt sowohl schnell als auch si...</td>\n      <td>[Dieses Auto fährt sowohl schnell als auch sic...</td>\n      <td>4</td>\n      <td>0.250000</td>\n    </tr>\n    <tr>\n      <th>12</th>\n      <td>Die \"Negation:wederXPnochXP-Konstruktion\" umfa...</td>\n      <td>[]</td>\n      <td>[\"Es wird gesagt, dass jeder in den Bergen wei...</td>\n      <td>[Es wird gesagt, dass jeder in den Bergen weil...</td>\n      <td>2</td>\n      <td>0.500000</td>\n    </tr>\n    <tr>\n      <th>129</th>\n      <td>Die \"Äquativ:eine_ArtX-Konstruktion\" gehört zu...</td>\n      <td>[]</td>\n      <td>[\"Eine Art von Reis ist nach dem Kochen äquiva...</td>\n      <td>[Eine Art von Reis ist nach dem Kochen äquival...</td>\n      <td>9</td>\n      <td>0.444444</td>\n    </tr>\n    <tr>\n      <th>1324</th>\n      <td>Die Konstruktion\" Intensivierung_Attribut_nach...</td>\n      <td>[]</td>\n      <td>[\"intensivierte\", \"satt\", \"satt\"]</td>\n      <td>[intensivierte, satt, satt]</td>\n      <td>3</td>\n      <td>0.666667</td>\n    </tr>\n    <tr>\n      <th>1346</th>\n      <td>Die meist als Prädikativum verwendete Konstruk...</td>\n      <td>[]</td>\n      <td>[\"Prototyp-Buchesteht\", \"Prototyp-Buchesteht\"]</td>\n      <td>[Prototyp-Buchesteht, Prototyp-Buchesteht]</td>\n      <td>2</td>\n      <td>0.500000</td>\n    </tr>\n    <tr>\n      <th>1351</th>\n      <td>Die \"Reduplikation_Irrelevanz:N1hinN1her-Konst...</td>\n      <td>[]</td>\n      <td>[\"Dieser Konstrukt ist identisch mit diesem Ko...</td>\n      <td>[Dieser Konstrukt ist identisch mit diesem Kon...</td>\n      <td>2</td>\n      <td>0.500000</td>\n    </tr>\n    <tr>\n      <th>1777</th>\n      <td>Die \"Korrelativer_Äquativ:VPin_dem_MaßeXP-Kons...</td>\n      <td>[]</td>\n      <td>[\"In dem Maß des Gleichen\", \"Im selben Maß\", \"...</td>\n      <td>[In dem Maß des Gleichen, Im selben Maß, In de...</td>\n      <td>9</td>\n      <td>0.666667</td>\n    </tr>\n    <tr>\n      <th>1842</th>\n      <td>Die \"Personenreferenz_abwertend:x-ling-Konstru...</td>\n      <td>[]</td>\n      <td>[\"Abwertungs-lingua\", \"Abwertungs-Lingua\", \"Ab...</td>\n      <td>[Abwertungs-lingua, Abwertungs-Lingua, Abwertu...</td>\n      <td>6</td>\n      <td>0.500000</td>\n    </tr>\n    <tr>\n      <th>374</th>\n      <td>Die \"Negation_Schlussfolgerung:nurweilX_NEG_Y-...</td>\n      <td>[]</td>\n      <td>[\"Das Auto fährt nicht schnell genug.\", \"Das A...</td>\n      <td>[Das Auto fährt nicht schnell genug., Das Auto...</td>\n      <td>3</td>\n      <td>0.666667</td>\n    </tr>\n    <tr>\n      <th>639</th>\n      <td>Die \"Superlativ_Wortbildung:INTENSIVIERUNG-ADJ...</td>\n      <td>[]</td>\n      <td>[\"Wenn sie das Auto schnell fuhrten\", \"Er ist ...</td>\n      <td>[Wenn sie das Auto schnell fuhrten, Er ist der...</td>\n      <td>9</td>\n      <td>0.777778</td>\n    </tr>\n    <tr>\n      <th>78</th>\n      <td>Die \"Exklamativ:solch_(Art.indef_)N-Konstrukti...</td>\n      <td>[]</td>\n      <td>[\"Das war solch ein unglücklicher Tag\", \"Das w...</td>\n      <td>[Das war solch ein unglücklicher Tag, Das war ...</td>\n      <td>2</td>\n      <td>0.500000</td>\n    </tr>\n    <tr>\n      <th>858</th>\n      <td>Die \"Zeitdeixis_Quantifizierung:inNUM_ZEITEINH...</td>\n      <td>[]</td>\n      <td>[\"KEE\", \"Quantifizierung\", \"Zeiteinheit\", \"Ann...</td>\n      <td>[KEE, Quantifizierung, Zeiteinheit, Annäherung...</td>\n      <td>6</td>\n      <td>0.833333</td>\n    </tr>\n  </tbody>\n</table>\n</div>"
     },
     "execution_count": 17,
     "metadata": {},
     "output_type": "execute_result"
    }
   ],
   "source": [
    "not_all_unique = examples[0][(0.0 < examples[0]['unique_generated']) & (examples[0]['unique_generated'] < 1.0)]\n",
    "print(len(not_all_unique) / len(examples[0]) * 100, \"%\")\n",
    "not_all_unique"
   ],
   "metadata": {
    "collapsed": false,
    "ExecuteTime": {
     "end_time": "2023-12-19T15:28:19.584307800Z",
     "start_time": "2023-12-19T15:28:19.574694Z"
    }
   },
   "id": "9e48f0fc44393835"
  },
  {
   "cell_type": "markdown",
   "source": [
    "### Tatsächlich neue Inhalte:"
   ],
   "metadata": {
    "collapsed": false
   },
   "id": "3825855d0dff5aef"
  },
  {
   "cell_type": "code",
   "execution_count": 18,
   "outputs": [],
   "source": [
    "stopwords = {s.lower() for s in stopwords.words(\"german\")}  # Stoppwörter werden entfernt, weil die nichts über Wiederholungen aussagen\n",
    "\n",
    "def calculate_overlap(row):\n",
    "    generated_set = {w for w in \" \".join(row['evaluated_generated']).split() if w.lower() not in stopwords}\n",
    "    \n",
    "    if len(generated_set) > 0:\n",
    "        definition_overlap = len(generated_set.intersection({w for w in row['definition'].split() if w.lower() not in stopwords})) / len(generated_set)\n",
    "        examples_overlap = len(generated_set.intersection({w for w in \" \".join(row['examples']).split() if w.lower() not in stopwords})) / len(generated_set)\n",
    "        overlap = len(generated_set.intersection({w for w in row['definition'].split() if w.lower() not in stopwords} | {w for w in \" \".join(row['examples']).split() if w.lower() not in stopwords})) / len(generated_set)\n",
    "    else:\n",
    "        definition_overlap = 0.0\n",
    "        examples_overlap = 0.0\n",
    "        overlap = 0.0\n",
    "    \n",
    "    return definition_overlap, examples_overlap, overlap"
   ],
   "metadata": {
    "collapsed": false,
    "ExecuteTime": {
     "end_time": "2023-12-19T15:28:47.953469500Z",
     "start_time": "2023-12-19T15:28:47.947076900Z"
    }
   },
   "id": "66dd136e3f5bc078"
  },
  {
   "cell_type": "code",
   "execution_count": 19,
   "outputs": [],
   "source": [
    "for example_group in examples.values():\n",
    "    example_group[['definition_overlap', 'examples_overlap', 'overlap']] = example_group.apply(calculate_overlap, axis=1, result_type='expand')"
   ],
   "metadata": {
    "collapsed": false,
    "ExecuteTime": {
     "end_time": "2023-12-19T15:28:49.527034800Z",
     "start_time": "2023-12-19T15:28:49.370767300Z"
    }
   },
   "id": "d8f77e6a2a128b3f"
  },
  {
   "cell_type": "code",
   "execution_count": 27,
   "outputs": [
    {
     "data": {
      "text/plain": "                                             definition  \\\n10    Die \"Negation:NEG_XgeschweigedennY-Konstruktio...   \n100   Die \"Äquativ_Plural-Konstruktion\" gehört zu de...   \n1004  Die \"Superlativ_Klimax:ADJ1_ADJ1-er_NP-Konstru...   \n1006  Die \"Superlativ:PRÄP_ADJ-ster_NP-Konstruktion\"...   \n101   Die \"Äquativ:ADJwieNP-Konstruktion\" gehört zu ...   \n...                                                 ...   \n97    Die \"Komparativ:ADJ1-eralsADJ1-Konstruktion\" g...   \n973   Bei \"Disjunktion_Doppeltitel:XoderY\" handelt e...   \n976   Bei \"Korrelation_Affirmation:WoXist, istY\" han...   \n98    Die \"Äquativ:soADJwieXP-Konstruktion\" gehört z...   \n99    Die \"Komparativ:ADJ-eralsX-Konstruktion\" gehör...   \n\n                                               examples  \\\n10    ['Dennoch hat Hamas es nicht geschafft , ihre ...   \n100   ['Sicherheitsgefühl und objektive Sicherheit s...   \n1004  ['Gut , besser , \" \" Les Bleus \" \" :', '23. Ju...   \n1006  ['ZEIT : Die Aufnahmen zu Bowies letzten Platt...   \n101   ['Schnell wie der Blitz klettern sie aufs Dach...   \n...                                                 ...   \n97    ['Nämlich cooler als cool , bitteschön .', 'We...   \n973   ['Weinen wie die Holländer , oder : Wenn Angel...   \n976   ['Wo Energie ist , ist Wohlstand .', 'Wo viel ...   \n98    ['Baum : Ich mache das natürlich nicht mehr so...   \n99    ['Auch andere Unternehmen wie Uber kooperieren...   \n\n                                              generated  \\\n10    [\"Die meisten von ihnen haben zuvor noch nie e...   \n100   [\"Die Schülerzahlen im Jahrgang A und B sind g...   \n1004  [\"Besser\", \"Die besten\", \"Groß\", \"Größer\", \"Ni...   \n1006  [\"Er hat die Sache mit höchster Wichtigkeit er...   \n101   [\"Er hat sich hart trainiert, um ein marathonf...   \n...                                                 ...   \n97    [\"Habt ihr eine Chance gehabt, in einem warmen...   \n973   [\"Nietzsche - oder der Wille zur Macht\", \"Theo...   \n976   [\"Wo Licht ist, ist auch Schatten.\", \"Wo Wärme...   \n98    [\"Ich habe zuvor nur so geschaltet\", \"Ich lese...   \n99    [\"Der Apple-iPhone ist im Vergleich zum Samsun...   \n\n                                    evaluated_generated  num_generated  \\\n10    [Die meisten von ihnen haben zuvor noch nie ei...              3   \n100   [Die Schülerzahlen im Jahrgang A und B sind gl...             14   \n1004  [Besser, Die besten, Groß, Größer, Nie komplex...              7   \n1006  [Er hat die Sache mit höchster Wichtigkeit erl...              1   \n101   [Er hat sich hart trainiert, um ein marathonfä...              2   \n...                                                 ...            ...   \n97    [Habt ihr eine Chance gehabt, in einem warmen ...              3   \n973   [Nietzsche - oder der Wille zur Macht, Theorie...              3   \n976   [\"Wo Licht ist, ist auch Schatten.\", \"Wo Wärme...              1   \n98    [Ich habe zuvor nur so geschaltet, Ich lese ni...              4   \n99    [Der Apple-iPhone ist im Vergleich zum Samsung...              3   \n\n      unique_generated  definition_overlap  examples_overlap   overlap  \n10            1.000000            0.230769          0.038462  0.230769  \n100           0.071429            0.166667          0.333333  0.500000  \n1004          1.000000            0.000000          0.000000  0.000000  \n1006          1.000000            0.000000          0.000000  0.000000  \n101           1.000000            0.000000          0.000000  0.000000  \n...                ...                 ...               ...       ...  \n97            1.000000            0.076923          0.000000  0.076923  \n973           1.000000            0.000000          0.100000  0.100000  \n976           1.000000            0.166667          0.000000  0.166667  \n98            1.000000            0.000000          0.000000  0.000000  \n99            1.000000            0.000000          0.000000  0.000000  \n\n[211 rows x 9 columns]",
      "text/html": "<div>\n<style scoped>\n    .dataframe tbody tr th:only-of-type {\n        vertical-align: middle;\n    }\n\n    .dataframe tbody tr th {\n        vertical-align: top;\n    }\n\n    .dataframe thead th {\n        text-align: right;\n    }\n</style>\n<table border=\"1\" class=\"dataframe\">\n  <thead>\n    <tr style=\"text-align: right;\">\n      <th></th>\n      <th>definition</th>\n      <th>examples</th>\n      <th>generated</th>\n      <th>evaluated_generated</th>\n      <th>num_generated</th>\n      <th>unique_generated</th>\n      <th>definition_overlap</th>\n      <th>examples_overlap</th>\n      <th>overlap</th>\n    </tr>\n  </thead>\n  <tbody>\n    <tr>\n      <th>10</th>\n      <td>Die \"Negation:NEG_XgeschweigedennY-Konstruktio...</td>\n      <td>['Dennoch hat Hamas es nicht geschafft , ihre ...</td>\n      <td>[\"Die meisten von ihnen haben zuvor noch nie e...</td>\n      <td>[Die meisten von ihnen haben zuvor noch nie ei...</td>\n      <td>3</td>\n      <td>1.000000</td>\n      <td>0.230769</td>\n      <td>0.038462</td>\n      <td>0.230769</td>\n    </tr>\n    <tr>\n      <th>100</th>\n      <td>Die \"Äquativ_Plural-Konstruktion\" gehört zu de...</td>\n      <td>['Sicherheitsgefühl und objektive Sicherheit s...</td>\n      <td>[\"Die Schülerzahlen im Jahrgang A und B sind g...</td>\n      <td>[Die Schülerzahlen im Jahrgang A und B sind gl...</td>\n      <td>14</td>\n      <td>0.071429</td>\n      <td>0.166667</td>\n      <td>0.333333</td>\n      <td>0.500000</td>\n    </tr>\n    <tr>\n      <th>1004</th>\n      <td>Die \"Superlativ_Klimax:ADJ1_ADJ1-er_NP-Konstru...</td>\n      <td>['Gut , besser , \" \" Les Bleus \" \" :', '23. Ju...</td>\n      <td>[\"Besser\", \"Die besten\", \"Groß\", \"Größer\", \"Ni...</td>\n      <td>[Besser, Die besten, Groß, Größer, Nie komplex...</td>\n      <td>7</td>\n      <td>1.000000</td>\n      <td>0.000000</td>\n      <td>0.000000</td>\n      <td>0.000000</td>\n    </tr>\n    <tr>\n      <th>1006</th>\n      <td>Die \"Superlativ:PRÄP_ADJ-ster_NP-Konstruktion\"...</td>\n      <td>['ZEIT : Die Aufnahmen zu Bowies letzten Platt...</td>\n      <td>[\"Er hat die Sache mit höchster Wichtigkeit er...</td>\n      <td>[Er hat die Sache mit höchster Wichtigkeit erl...</td>\n      <td>1</td>\n      <td>1.000000</td>\n      <td>0.000000</td>\n      <td>0.000000</td>\n      <td>0.000000</td>\n    </tr>\n    <tr>\n      <th>101</th>\n      <td>Die \"Äquativ:ADJwieNP-Konstruktion\" gehört zu ...</td>\n      <td>['Schnell wie der Blitz klettern sie aufs Dach...</td>\n      <td>[\"Er hat sich hart trainiert, um ein marathonf...</td>\n      <td>[Er hat sich hart trainiert, um ein marathonfä...</td>\n      <td>2</td>\n      <td>1.000000</td>\n      <td>0.000000</td>\n      <td>0.000000</td>\n      <td>0.000000</td>\n    </tr>\n    <tr>\n      <th>...</th>\n      <td>...</td>\n      <td>...</td>\n      <td>...</td>\n      <td>...</td>\n      <td>...</td>\n      <td>...</td>\n      <td>...</td>\n      <td>...</td>\n      <td>...</td>\n    </tr>\n    <tr>\n      <th>97</th>\n      <td>Die \"Komparativ:ADJ1-eralsADJ1-Konstruktion\" g...</td>\n      <td>['Nämlich cooler als cool , bitteschön .', 'We...</td>\n      <td>[\"Habt ihr eine Chance gehabt, in einem warmen...</td>\n      <td>[Habt ihr eine Chance gehabt, in einem warmen ...</td>\n      <td>3</td>\n      <td>1.000000</td>\n      <td>0.076923</td>\n      <td>0.000000</td>\n      <td>0.076923</td>\n    </tr>\n    <tr>\n      <th>973</th>\n      <td>Bei \"Disjunktion_Doppeltitel:XoderY\" handelt e...</td>\n      <td>['Weinen wie die Holländer , oder : Wenn Angel...</td>\n      <td>[\"Nietzsche - oder der Wille zur Macht\", \"Theo...</td>\n      <td>[Nietzsche - oder der Wille zur Macht, Theorie...</td>\n      <td>3</td>\n      <td>1.000000</td>\n      <td>0.000000</td>\n      <td>0.100000</td>\n      <td>0.100000</td>\n    </tr>\n    <tr>\n      <th>976</th>\n      <td>Bei \"Korrelation_Affirmation:WoXist, istY\" han...</td>\n      <td>['Wo Energie ist , ist Wohlstand .', 'Wo viel ...</td>\n      <td>[\"Wo Licht ist, ist auch Schatten.\", \"Wo Wärme...</td>\n      <td>[\"Wo Licht ist, ist auch Schatten.\", \"Wo Wärme...</td>\n      <td>1</td>\n      <td>1.000000</td>\n      <td>0.166667</td>\n      <td>0.000000</td>\n      <td>0.166667</td>\n    </tr>\n    <tr>\n      <th>98</th>\n      <td>Die \"Äquativ:soADJwieXP-Konstruktion\" gehört z...</td>\n      <td>['Baum : Ich mache das natürlich nicht mehr so...</td>\n      <td>[\"Ich habe zuvor nur so geschaltet\", \"Ich lese...</td>\n      <td>[Ich habe zuvor nur so geschaltet, Ich lese ni...</td>\n      <td>4</td>\n      <td>1.000000</td>\n      <td>0.000000</td>\n      <td>0.000000</td>\n      <td>0.000000</td>\n    </tr>\n    <tr>\n      <th>99</th>\n      <td>Die \"Komparativ:ADJ-eralsX-Konstruktion\" gehör...</td>\n      <td>['Auch andere Unternehmen wie Uber kooperieren...</td>\n      <td>[\"Der Apple-iPhone ist im Vergleich zum Samsun...</td>\n      <td>[Der Apple-iPhone ist im Vergleich zum Samsung...</td>\n      <td>3</td>\n      <td>1.000000</td>\n      <td>0.000000</td>\n      <td>0.000000</td>\n      <td>0.000000</td>\n    </tr>\n  </tbody>\n</table>\n<p>211 rows × 9 columns</p>\n</div>"
     },
     "execution_count": 27,
     "metadata": {},
     "output_type": "execute_result"
    }
   ],
   "source": [
    "examples[3]"
   ],
   "metadata": {
    "collapsed": false,
    "ExecuteTime": {
     "end_time": "2023-12-19T15:59:54.023061800Z",
     "start_time": "2023-12-19T15:59:54.000158600Z"
    }
   },
   "id": "ac99a014755acb4f"
  },
  {
   "cell_type": "code",
   "execution_count": 21,
   "outputs": [
    {
     "data": {
      "text/plain": "0.04698239684300459"
     },
     "execution_count": 21,
     "metadata": {},
     "output_type": "execute_result"
    }
   ],
   "source": [
    "examples[0][\"overlap\"].mean()"
   ],
   "metadata": {
    "collapsed": false,
    "ExecuteTime": {
     "end_time": "2023-12-19T15:28:58.227648200Z",
     "start_time": "2023-12-19T15:28:58.207491100Z"
    }
   },
   "id": "371c33ee51a9f645"
  },
  {
   "cell_type": "code",
   "execution_count": 22,
   "outputs": [],
   "source": [
    "for i, example_group in examples.items():\n",
    "    example_group.to_csv(f\"../../out/llama/{i}_shot_data.tsv\", sep=\"\\t\", decimal=\",\")\n",
    "    example_group.to_excel(f\"../../out/llama/{i}_shot_data.xlsx\")"
   ],
   "metadata": {
    "collapsed": false,
    "ExecuteTime": {
     "end_time": "2023-12-19T15:28:59.555710700Z",
     "start_time": "2023-12-19T15:28:58.807556700Z"
    }
   },
   "id": "e974acebaa47744e"
  },
  {
   "cell_type": "code",
   "execution_count": null,
   "outputs": [],
   "source": [],
   "metadata": {
    "collapsed": false
   },
   "id": "b50a9c790c2fb393"
  }
 ],
 "metadata": {
  "kernelspec": {
   "display_name": "Python 3",
   "language": "python",
   "name": "python3"
  },
  "language_info": {
   "codemirror_mode": {
    "name": "ipython",
    "version": 2
   },
   "file_extension": ".py",
   "mimetype": "text/x-python",
   "name": "python",
   "nbconvert_exporter": "python",
   "pygments_lexer": "ipython2",
   "version": "2.7.6"
  }
 },
 "nbformat": 4,
 "nbformat_minor": 5
}
