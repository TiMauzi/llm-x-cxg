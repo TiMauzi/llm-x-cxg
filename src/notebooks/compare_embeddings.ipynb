{
 "cells": [
  {
   "cell_type": "code",
   "execution_count": 1,
   "id": "initial_id",
   "metadata": {
    "collapsed": true,
    "ExecuteTime": {
     "end_time": "2024-01-03T12:16:38.257377800Z",
     "start_time": "2024-01-03T12:16:22.423597700Z"
    }
   },
   "outputs": [],
   "source": [
    "import csv\n",
    "\n",
    "import numpy as np\n",
    "import pandas as pd\n",
    "import torch\n",
    "import torch.nn.functional as F\n",
    "from tqdm.notebook import tqdm, trange\n",
    "from transformers import BertForMaskedLM, BertTokenizer\n",
    "\n",
    "tqdm.pandas()"
   ]
  },
  {
   "cell_type": "code",
   "outputs": [
    {
     "data": {
      "text/plain": "        constr  fuzziness (common dep)  fuzziness (matches)  \\\n0           12                0.062500             0.857143   \n1           12                0.062500             0.857143   \n2           15                0.066667             0.857143   \n3           15                0.066667             0.857143   \n4           15                0.066667             0.714286   \n...        ...                     ...                  ...   \n353444    1986                0.176471             0.800000   \n353445    1986                0.176471             0.800000   \n353446    1986                0.176471             0.850000   \n353447    1986                0.176471             0.800000   \n353448    1986                0.176471             0.800000   \n\n                                                 sentence  \n0       Dieser hat allerdings weder die Möglichkeit , ...  \n1       Das gestrige Ereignis hatte weder verletzte Pe...  \n2                              Welch ein Image-Gewinn ...  \n3       Welch Wunder , dass die Macher nicht noch ein ...  \n4       Welch schönes Gefühl ist es , in Bobotemp-Shor...  \n...                                                   ...  \n353444  Da eine Bestätigung per E-Mail folgte , hatte ...  \n353445  Für die Konkurrenz der Deutschen Telekom wird ...  \n353446  Inlandsgespräche waren um 7,9 Prozent billiger...  \n353447  Ohne Hightech und neue Ideen hat auch das trad...  \n353448  Damals hatte der Kunde kaum Möglichkeiten , Pr...  \n\n[353449 rows x 4 columns]",
      "text/html": "<div>\n<style scoped>\n    .dataframe tbody tr th:only-of-type {\n        vertical-align: middle;\n    }\n\n    .dataframe tbody tr th {\n        vertical-align: top;\n    }\n\n    .dataframe thead th {\n        text-align: right;\n    }\n</style>\n<table border=\"1\" class=\"dataframe\">\n  <thead>\n    <tr style=\"text-align: right;\">\n      <th></th>\n      <th>constr</th>\n      <th>fuzziness (common dep)</th>\n      <th>fuzziness (matches)</th>\n      <th>sentence</th>\n    </tr>\n  </thead>\n  <tbody>\n    <tr>\n      <th>0</th>\n      <td>12</td>\n      <td>0.062500</td>\n      <td>0.857143</td>\n      <td>Dieser hat allerdings weder die Möglichkeit , ...</td>\n    </tr>\n    <tr>\n      <th>1</th>\n      <td>12</td>\n      <td>0.062500</td>\n      <td>0.857143</td>\n      <td>Das gestrige Ereignis hatte weder verletzte Pe...</td>\n    </tr>\n    <tr>\n      <th>2</th>\n      <td>15</td>\n      <td>0.066667</td>\n      <td>0.857143</td>\n      <td>Welch ein Image-Gewinn ...</td>\n    </tr>\n    <tr>\n      <th>3</th>\n      <td>15</td>\n      <td>0.066667</td>\n      <td>0.857143</td>\n      <td>Welch Wunder , dass die Macher nicht noch ein ...</td>\n    </tr>\n    <tr>\n      <th>4</th>\n      <td>15</td>\n      <td>0.066667</td>\n      <td>0.714286</td>\n      <td>Welch schönes Gefühl ist es , in Bobotemp-Shor...</td>\n    </tr>\n    <tr>\n      <th>...</th>\n      <td>...</td>\n      <td>...</td>\n      <td>...</td>\n      <td>...</td>\n    </tr>\n    <tr>\n      <th>353444</th>\n      <td>1986</td>\n      <td>0.176471</td>\n      <td>0.800000</td>\n      <td>Da eine Bestätigung per E-Mail folgte , hatte ...</td>\n    </tr>\n    <tr>\n      <th>353445</th>\n      <td>1986</td>\n      <td>0.176471</td>\n      <td>0.800000</td>\n      <td>Für die Konkurrenz der Deutschen Telekom wird ...</td>\n    </tr>\n    <tr>\n      <th>353446</th>\n      <td>1986</td>\n      <td>0.176471</td>\n      <td>0.850000</td>\n      <td>Inlandsgespräche waren um 7,9 Prozent billiger...</td>\n    </tr>\n    <tr>\n      <th>353447</th>\n      <td>1986</td>\n      <td>0.176471</td>\n      <td>0.800000</td>\n      <td>Ohne Hightech und neue Ideen hat auch das trad...</td>\n    </tr>\n    <tr>\n      <th>353448</th>\n      <td>1986</td>\n      <td>0.176471</td>\n      <td>0.800000</td>\n      <td>Damals hatte der Kunde kaum Möglichkeiten , Pr...</td>\n    </tr>\n  </tbody>\n</table>\n<p>353449 rows × 4 columns</p>\n</div>"
     },
     "execution_count": 2,
     "metadata": {},
     "output_type": "execute_result"
    }
   ],
   "source": [
    "matches = pd.read_csv(\"../../out/matches/matches_dep_constr.tsv\", sep=\"\\t\", header=0)\n",
    "matches"
   ],
   "metadata": {
    "collapsed": false,
    "ExecuteTime": {
     "end_time": "2024-01-03T12:16:40.225635Z",
     "start_time": "2024-01-03T12:16:38.255379700Z"
    }
   },
   "id": "959bd8c58a2b3474",
   "execution_count": 2
  },
  {
   "cell_type": "code",
   "outputs": [
    {
     "data": {
      "text/plain": "{10: {'denn', 'geschweige'},\n 100: {'gleich'},\n 1004: {'er'},\n 1006: {'st'},\n 101: {'wie'},\n 1029: {'Mit', 'wem', 'würden'},\n 103: {'wie'},\n 1033: {'Hauptsache'},\n 1034: {'Von', 'zu'},\n 1035: {'von', 'zu'},\n 104: {'das', 'nämliche'},\n 1043: set(),\n 1051: set(),\n 1054: set(),\n 11: {'kaum', 'und', 'wohl'},\n 111: {'Umso', 'je'},\n 112: set(),\n 1126: {'Generation'},\n 1134: {'Sowohl', 'als', 'auch'},\n 1140: {'und'},\n 1162: {'nicht', 'oder'},\n 12: {'noch', 'weder'},\n 1219: set(),\n 122: {'genauso'},\n 123: {'ähnlich'},\n 125: {'es', 'sei', 'wie'},\n 1257: set(),\n 127: {'ein', 'einem', 'von'},\n 128: {'artig'},\n 1289: {'lassen', 'sein'},\n 129: {'Art', 'eine'},\n 1291: {'Wenn'},\n 13: {'Was', 'für'},\n 130: {'wie', 'wäre'},\n 1300: {'So', 'geht'},\n 1301: {'Augenblick', 'Der'},\n 1313: {'Es', 'war', 'zum'},\n 1315: {'Als', 'ob'},\n 1316: {'Raus', 'aus', 'in', 'rein'},\n 132: {'gleicht'},\n 1320: {'lein'},\n 1322: {'chen'},\n 1323: {'pur'},\n 1324: {'satt'},\n 1329: {'jedermanns'},\n 133: {'als', 'ob'},\n 1337: {'i'},\n 1342: {'excellence', 'par'},\n 1346: {'Buche', 'er', 'im', 'steht', 'wie'},\n 1347: {'Tode', 'zu'},\n 135: {'dass', 'so'},\n 1351: {'her', 'hin'},\n 136: {'wenn', 'wie'},\n 139: {'ähnlich'},\n 14: {'Wie'},\n 1459: {',', 'das', 'früher', 'heute', 'ist', 'war', 'was'},\n 1461: {'Das', 'Leben', 'ist', 'kein'},\n 1462: {'Ponyhof', 'ist', 'kein'},\n 15: {'welch'},\n 1503: {'brutal'},\n 1509: {'Arzt', 'bis', 'der', 'kommen', 'musste'},\n 1511: {'her', 'hin'},\n 1514: {'eln'},\n 1517: set(),\n 1521: {'lich'},\n 1524: {'leinchen'},\n 1525: {'Kein', 'für', 'niemand'},\n 1554: {'Reden', 'gold', 'ist', 'silber', 'sind'},\n 1556: {'schlechthin'},\n 1573: {'sich'},\n 1574: {'uns', 'vor'},\n 1582: {'sich'},\n 1593: {'kann'},\n 1594: {'Muster'},\n 1597: {'(', ')'},\n 16: {'Was'},\n 1600: {'(', ')'},\n 1602: {'(', ')'},\n 1621: {'ding'},\n 1624: {'(', ')'},\n 1629: {'Von', 'wegen'},\n 1630: {'Trotz', 'allen', 'zum'},\n 1631: {'Jetzt', 'es', 'heisst'},\n 1634: set(),\n 1636: set(),\n 1637: {'(', ')'},\n 1639: {'(', ')'},\n 1641: {'(', ')'},\n 1643: {'(', ')'},\n 1645: {'(', ')'},\n 1649: {'lecker'},\n 1660: {'ist', 'kram'},\n 1671: {'Inbegriff'},\n 1681: {'Mutter', 'aller', 'die'},\n 1684: {'Standard'},\n 1690: {'keineswegs', 'un'},\n 1715: {'Keine', 'auch', 'eine', 'ist'},\n 1738: {'wie'},\n 1756: {'en', 'ge', 'hättest'},\n 1760: {'So', 'so'},\n 1762: {'als', 'besser'},\n 1770: {'als', 'noch', 'war'},\n 1772: {'Von', 'wegen'},\n 1777: {'Umfang', 'dem', 'in'},\n 1779: {'Entweder', 'nicht', 'oder'},\n 1792: {'ist', 'niemand'},\n 1802: set(),\n 1831: {'so'},\n 1835: {'Kein', 'auch', 'ein', 'ist'},\n 1842: {'ling'},\n 1846: {'ist', 'mit', 'was'},\n 1849: {'und'},\n 1881: {'ist', 'kein'},\n 1884: {'Gold', 'Silber', 'ist'},\n 19: {'Dieses'},\n 1986: {'kaum'},\n 1987: {'sehr'},\n 20: {'Allein'},\n 21: {'Dass'},\n 22: {'So'},\n 317: set(),\n 318: set(),\n 320: {'wohingegen'},\n 349: {'an'},\n 350: {'um'},\n 374: set(),\n 379: {'(', ')'},\n 381: {'er'},\n 392: {'en', 'würdest'},\n 488: {'Am', 'meisten'},\n 492: {'am', 'meisten'},\n 498: {'häufigst'},\n 5: {'erst', 'nicht', 'recht', 'und'},\n 500: {'am', 'sten'},\n 557: {'im'},\n 559: {'bis', 'vor'},\n 563: set(),\n 571: {'et'},\n 572: set(),\n 579: {'(', ')'},\n 581: {'(', ')'},\n 584: {'(', ')'},\n 590: {'(', ')'},\n 592: {'(', ')'},\n 595: {':'},\n 600: {'(', ')'},\n 605: {'Zeit', 'eine', 'es', 'gab'},\n 618: {'ohnegleichen'},\n 620: set(),\n 623: {'st'},\n 626: set(),\n 628: set(),\n 631: {'st'},\n 639: set(),\n 647: {'\"'},\n 65: {'st'},\n 651: {'Mords'},\n 653: {'sau'},\n 654: {'Riesen'},\n 663: set(),\n 671: {'den', 'unter'},\n 674: {'weil'},\n 675: {'gleich'},\n 676: {'gleichkommt'},\n 677: set(),\n 681: {'Weil'},\n 682: set(),\n 683: {'Abstand', 'mit'},\n 69: set(),\n 696: {'en'},\n 697: {'ganz', 'gar', 'und'},\n 74: {'so'},\n 742: set(),\n 756: set(),\n 757: set(),\n 758: {'aller'},\n 762: {'bisschen', 'ein'},\n 768: set(),\n 777: {'ganz', 'gar', 'und'},\n 778: set(),\n 78: {'Solche'},\n 83: {'gegen'},\n 839: set(),\n 840: set(),\n 85: {'über'},\n 858: {'In'},\n 875: {'-', 'das', 'neue'},\n 877: set(),\n 882: {'anstatt'},\n 886: {'(', ')'},\n 889: {'(', ')'},\n 892: set(),\n 900: {'(', ')'},\n 902: {'Keine', 'sondern'},\n 904: {'nicht', 'und'},\n 905: {'(', ')'},\n 907: {'(', ')'},\n 909: {'(', ')'},\n 911: {'(', ')'},\n 917: {'(', ')'},\n 919: {'(', ')'},\n 921: {'(', ')'},\n 923: {'(', ')'},\n 926: set(),\n 949: {'Kein', 'ohne'},\n 97: {'als'},\n 973: {':', 'oder'},\n 976: {'Wo', 'ist', 'sind'},\n 98: {'so'},\n 99: {'er'}}"
     },
     "execution_count": 3,
     "metadata": {},
     "output_type": "execute_result"
    }
   ],
   "source": [
    "with open(\"../../data/pseudowords/annotations.csv\", \"r\") as csv_file:\n",
    "    data = [row for row in csv.DictReader(csv_file)]\n",
    "    \n",
    "kelex_dict = {}\n",
    "for example in data:\n",
    "    kees = set()\n",
    "    for kee in eval(example[\"kees\"]):\n",
    "        kees |= set(kee.split())\n",
    "    kelex_dict[int(example[\"construction_id\"])] = kees\n",
    "\n",
    "kelex_dict"
   ],
   "metadata": {
    "collapsed": false,
    "ExecuteTime": {
     "end_time": "2024-01-03T12:16:40.722840Z",
     "start_time": "2024-01-03T12:16:40.227634600Z"
    }
   },
   "id": "e24dcbbb3879f23f",
   "execution_count": 3
  },
  {
   "cell_type": "code",
   "outputs": [
    {
     "data": {
      "text/plain": "['\"\"Was13',\n '\"647',\n '\"Wir-äh-spielen-äh-in-der-äh-Champions-League647',\n '(1597',\n '(1600',\n '(1602',\n '(1624',\n '(1637',\n '(1639',\n '(1641',\n '(1643',\n '(1645',\n '(379',\n '(579',\n '(581',\n '(584',\n '(590',\n '(592',\n '(600',\n '(886',\n '(889',\n '(892',\n '(900',\n '(905',\n '(907',\n '(909',\n '(911',\n '(917',\n '(919',\n '(921',\n '(923',\n ')1597',\n ')1600',\n ')1602',\n ')1624',\n ')1637',\n ')1639',\n ')1641',\n ')1643',\n ')1645',\n ')1792',\n ')379',\n ')579',\n ')581',\n ')584',\n ')590',\n ')592',\n ')600',\n ')886',\n ')889',\n ')892',\n ')900',\n ')905',\n ')907',\n ')909',\n ')911',\n ')917',\n ')919',\n ')921',\n ')923',\n ')«579',\n ',1459',\n ',973',\n '-128',\n '-651',\n '-654',\n '-875',\n '-973',\n ':595',\n ':875',\n ':973',\n 'Abstand683',\n 'Allein20',\n 'Aller1630',\n 'Als1315',\n 'Als133',\n 'Als1770',\n 'Am488',\n 'Am492',\n 'Am500',\n 'Amerika605',\n 'Anstatt320',\n 'Art129',\n 'Arzt1509',\n 'Augenblick1301',\n 'Ausmaß1777',\n 'BRUTAL1503',\n 'Besser1762',\n 'Bis559',\n 'Brutal1503',\n 'Buche1346',\n 'Das1313',\n 'Das1461',\n 'Dass21',\n 'Dasselbe104',\n 'Der1301',\n 'Desto111',\n 'Die1681',\n 'Diese19',\n 'Dieser1301',\n 'Dieser19',\n 'Dieses19',\n 'Entweder1779',\n 'Es1313',\n 'Es605',\n 'Gefühl1301',\n 'Generation1126',\n 'Geschweige10',\n 'Gleiche104',\n 'Gold1554',\n 'Gold1884',\n 'Hauptsache1033',\n 'Im557',\n 'In557',\n 'In858',\n 'Inbegriff1671',\n 'Ist1660',\n 'Je111',\n 'Jedermanns1329',\n 'Jener1301',\n 'Jetzt1631',\n 'Kein1525',\n 'Kein1715',\n 'Kein1835',\n 'Kein949',\n 'Keine(r1792',\n 'Keine1525',\n 'Keine1715',\n 'Keine1792',\n 'Keine1835',\n 'Keine902',\n 'Keine949',\n 'Keiner1792',\n 'Leben1461',\n 'Leben605',\n 'Lecker1649',\n 'Maß1777',\n 'Maße1777',\n 'Mit1029',\n 'Mit683',\n 'Moment1301',\n 'Mords651',\n 'Mutter1681',\n 'Neue875',\n 'Nicht1162',\n 'Nicht902',\n 'Niemand1792',\n 'Ponyhof1462',\n 'Raus1316',\n 'Reden1554',\n 'Riesen654',\n 'Silber1554',\n 'Silber1884',\n 'So1300',\n 'So1760',\n 'So1831',\n 'So22',\n 'So74',\n 'So98',\n 'Solch78',\n 'Solche78',\n 'Sowohl1134',\n 'Statt320',\n 'Tode1347',\n 'Trotz1630',\n 'Umfang1777',\n 'Umso111',\n 'Und11',\n 'Und5',\n 'Von1034',\n 'Von1629',\n 'Von1772',\n 'Warum1029',\n 'Was1029',\n 'Was13',\n 'Was16',\n 'Was1846',\n 'Weder12',\n 'Weil674',\n 'Weil681',\n 'Welch15',\n 'Wem1029',\n 'Wenn1291',\n 'Wer1029',\n 'Wie1029',\n 'Wie14',\n 'Wie1738',\n 'Wo1029',\n 'Wo976',\n 'Während320',\n 'Zeit605',\n 'Zeiten605',\n '[1643',\n ']1643',\n 'ab1574',\n 'aber902',\n 'allen1630',\n 'aller1630',\n 'aller1681',\n 'aller758',\n 'als1134',\n 'als133',\n 'als1762',\n 'als1770',\n 'als97',\n 'am488',\n 'am492',\n 'am500',\n 'an349',\n 'anstatt320',\n 'anstatt882',\n 'artig128',\n 'auch1134',\n 'auch1715',\n 'auch1835',\n 'auf1574',\n 'auf350',\n 'aufhübschen1029',\n 'aus1316',\n 'ausbreiten1029',\n 'auslöste1029',\n 'badete1029',\n 'bedeutet1029',\n 'besser1762',\n 'betreffen1029',\n 'bis1509',\n 'bis559',\n 'bisschen762',\n 'bleibt1660',\n 'braucht1029',\n 'bringt1029',\n 'brutal1503',\n 'darstellen1029',\n 'das104',\n 'das1301',\n 'das1459',\n 'das1461',\n 'das875',\n 'dass135',\n 'dasselbe104',\n 'dem1777',\n 'den557',\n 'den671',\n 'denn10',\n 'der1509',\n 'der1681',\n 'der557',\n 'der875',\n 'desto111',\n 'die1681',\n 'die875',\n 'diese605',\n 'dieses19',\n 'durch1574',\n 'ebenso122',\n 'ebenso98',\n 'ein127',\n 'ein1715',\n 'ein1835',\n 'ein762',\n 'einander1574',\n 'eine129',\n 'eine1715',\n 'eine1835',\n 'eine605',\n 'einem127',\n 'einer127',\n 'entweder1779',\n 'er1004',\n 'er1346',\n 'er99',\n 'erst5',\n 'erzeugt1029',\n 'es125',\n 'es1313',\n 'es1346',\n 'es1631',\n 'es605',\n 'euch1574',\n 'excellence1342',\n 'fahre1029',\n 'früher1459',\n 'für13',\n 'für1525',\n 'für350',\n 'gab605',\n 'ganz697',\n 'ganz777',\n 'gar5',\n 'gar697',\n 'gar777',\n 'geben605',\n 'gegeben605',\n 'gegen83',\n 'gehen1029',\n 'geht1300',\n 'genauso122',\n 'genauso98',\n 'geschweige10',\n 'gewesen1459',\n 'gibt605',\n 'gleich100',\n 'gleich675',\n 'gleich676',\n 'gleich98',\n 'gleiche104',\n 'gleichen1777',\n 'gleichkam676',\n 'gleichkommen676',\n 'gleichkommt676',\n 'gleichkäme676',\n 'gleicht132',\n 'gold1554',\n 'habe605',\n 'haben1029',\n 'haben605',\n 'hat605',\n 'hatte605',\n 'heisst1631',\n 'her1351',\n 'her1511',\n 'herunter1574',\n 'heute1459',\n 'hin1351',\n 'hin1511',\n 'hinaus1574',\n 'hindurch1574',\n 'hinunter1574',\n 'hätte1756',\n 'hätten1756',\n 'hättest1756',\n 'im1346',\n 'im1777',\n 'im557',\n 'in1316',\n 'in1777',\n 'in557',\n 'in605',\n 'in858',\n 'irrte1029',\n 'isst1029',\n 'ist1029',\n 'ist125',\n 'ist130',\n 'ist1313',\n 'ist1459',\n 'ist1461',\n 'ist1462',\n 'ist1554',\n 'ist1660',\n 'ist1715',\n 'ist1792',\n 'ist1835',\n 'ist1846',\n 'ist1881',\n 'ist1884',\n 'ist875',\n 'ist976',\n 'je111',\n 'jedermanns1329',\n 'jetzt1631',\n 'kam676',\n 'kann1593',\n 'kaum11',\n 'kaum1986',\n 'kein1461',\n 'kein1462',\n 'kein1525',\n 'kein1690',\n 'kein1715',\n 'kein1881',\n 'kein902',\n 'kein949',\n 'keine1461',\n 'keine1525',\n 'keine1715',\n 'keine1835',\n 'keine1881',\n 'keine605',\n 'keine902',\n 'keine949',\n 'keiner1792',\n 'kleiden1029',\n 'kommen1509',\n 'kommen676',\n 'kommt1509',\n 'kommt676',\n 'kostet1029',\n 'käme676',\n 'lachen1029',\n 'lassen1029',\n 'lassen1289',\n 'lebte1029',\n 'lecker1649',\n 'ließ1289',\n 'lässt1289',\n 'läuft1029',\n 'macht1029',\n 'machte1029',\n 'mag605',\n 'meinem605',\n 'meisten488',\n 'meisten492',\n 'mich1573',\n 'mich1574',\n 'mir1582',\n 'mit1846',\n 'mit683',\n 'mords651',\n 'muss1300',\n 'musste1509',\n 'müssen1029',\n 'neue875',\n 'neuen875',\n 'nicht.“1779',\n 'nicht1162',\n 'nicht1690',\n 'nicht1779',\n 'nicht5',\n 'nicht902',\n 'nicht904',\n 'niemand1525',\n 'niemand1792',\n 'noch12',\n 'noch1770',\n 'nämliche104',\n 'nützt1029',\n 'ob1315',\n 'ob133',\n 'oder1162',\n 'oder1779',\n 'oder973',\n 'ohne1690',\n 'ohne949',\n 'ohnegleichen618',\n 'par1342',\n 'pur.»1323',\n 'pur1323',\n 'pur«1323',\n 'raus1316',\n 'recht5',\n 'redet1029',\n 'rein1316',\n 'ruiniert1029',\n 'satt1324',\n 'schlechthin1556',\n 'schlechthin»1556',\n 'schon5',\n 'schufen1029',\n 'schützt1029',\n 'sehr1987',\n 'sei125',\n 'seien1660',\n 'sein1289',\n 'selben1777',\n 'sich1573',\n 'sich1574',\n 'sich1582',\n 'sie1346',\n 'silber1554',\n 'sind1029',\n 'sind130',\n 'sind1459',\n 'sind1554',\n 'sind1660',\n 'sind1881',\n 'sind875',\n 'sind976',\n 'so1134',\n 'so135',\n 'so1760',\n 'so1831',\n 'so74',\n 'so98',\n 'solch78',\n 'soll605',\n 'sollten1029',\n 'sondergleichen618',\n 'sondergleichen»618',\n 'sondern902',\n 'sowohl1134',\n 'stand1346',\n 'statt320',\n 'statt882',\n 'steht1346',\n 'um350',\n 'umso111',\n 'und1029',\n 'und11',\n 'und1140',\n 'und1849',\n 'und5',\n 'und697',\n 'und777',\n 'und904',\n 'uns1574',\n 'uns1582',\n 'unter671',\n 'verdient1029',\n 'verändern1029',\n 'von1034',\n 'von1035',\n 'von127',\n 'von1629',\n 'von1772',\n 'vor559',\n 'war1313',\n 'war1459',\n 'war1461',\n 'war1462',\n 'war1660',\n 'war1770',\n 'war1846',\n 'war1881',\n 'waren1459',\n 'waren1770',\n 'waren1881',\n 'was1029',\n 'was13',\n 'was1459',\n 'was1846',\n 'weder12',\n 'wegen1629',\n 'wegen1772',\n 'weil674',\n 'weil681',\n 'welch15',\n 'wem1029',\n 'wenig762',\n 'wenigsten488',\n 'wenigsten492',\n 'wenn1291',\n 'wenn136',\n 'werden1029',\n 'wie101',\n 'wie103',\n 'wie125',\n 'wie130',\n 'wie1346',\n 'wie136',\n 'wie1738',\n 'will1029',\n 'wird1029',\n 'wird1660',\n 'wird605',\n 'wissen1029',\n 'wo1029',\n 'wogegen320',\n 'wohingegen320',\n 'wohl11',\n 'wohl1134',\n 'wollen1029',\n 'wäre130',\n 'wäre1660',\n 'wäre1756']"
     },
     "execution_count": 4,
     "metadata": {},
     "output_type": "execute_result"
    }
   ],
   "source": [
    "# cf. evaluate_comapp_bert.ipynb\n",
    "\n",
    "pseudowords = []\n",
    "for i in range(15):\n",
    "    pseudowords.append(np.load(f\"../../data/pseudowords/bert/pseudowords_comapp_bert_{i*37}_{i*37+37}.npy\"))\n",
    "pseudowords = np.concatenate(pseudowords)\n",
    "\n",
    "csv_data = []\n",
    "for i in range(1, 16):\n",
    "    csv_data.append(pd.read_csv(f\"../../data/pseudowords/bert/order_bert_{i}.csv\", sep=\";\", index_col=0, header=None, quotechar=\"|\", names=[\"order\", \"label\"]))\n",
    "csv_data = pd.concat(csv_data)\n",
    "\n",
    "bert_tokens = [d[0] for d in csv_data.values]\n",
    "bert_tokens"
   ],
   "metadata": {
    "collapsed": false,
    "ExecuteTime": {
     "end_time": "2024-01-03T12:16:40.917855900Z",
     "start_time": "2024-01-03T12:16:40.633177700Z"
    }
   },
   "id": "851b7c703fd02695",
   "execution_count": 4
  },
  {
   "cell_type": "code",
   "outputs": [
    {
     "name": "stderr",
     "output_type": "stream",
     "text": [
      "Some weights of the model checkpoint at bert-base-german-cased were not used when initializing BertForMaskedLM: ['bert.pooler.dense.bias', 'cls.seq_relationship.weight', 'bert.pooler.dense.weight', 'cls.seq_relationship.bias']\n",
      "- This IS expected if you are initializing BertForMaskedLM from the checkpoint of a model trained on another task or with another architecture (e.g. initializing a BertForSequenceClassification model from a BertForPreTraining model).\n",
      "- This IS NOT expected if you are initializing BertForMaskedLM from the checkpoint of a model that you expect to be exactly identical (initializing a BertForSequenceClassification model from a BertForSequenceClassification model).\n"
     ]
    },
    {
     "data": {
      "text/plain": "Embedding(30555, 768)"
     },
     "execution_count": 5,
     "metadata": {},
     "output_type": "execute_result"
    }
   ],
   "source": [
    "model = BertForMaskedLM.from_pretrained('bert-base-german-cased', return_dict=True)\n",
    "tokenizer = BertTokenizer.from_pretrained('bert-base-german-cased')\n",
    "\n",
    "combined_embeddings = torch.cat((model.bert.embeddings.word_embeddings.weight, torch.tensor(pseudowords)), dim=0)\n",
    "model.bert.embeddings.word_embeddings = torch.nn.Embedding.from_pretrained(combined_embeddings)\n",
    "model.bert.embeddings.word_embeddings"
   ],
   "metadata": {
    "collapsed": false,
    "ExecuteTime": {
     "end_time": "2024-01-03T12:16:46.024372Z",
     "start_time": "2024-01-03T12:16:40.736917400Z"
    }
   },
   "id": "419603064ae92a15",
   "execution_count": 5
  },
  {
   "cell_type": "code",
   "outputs": [
    {
     "name": "stderr",
     "output_type": "stream",
     "text": [
      "You are resizing the embedding layer without providing a `pad_to_multiple_of` parameter. This means that the new embedding dimension will be 30555. This might induce some performance reduction as *Tensor Cores* will not be available. For more details about this, or help on choosing the correct value for resizing, refer to this guide: https://docs.nvidia.com/deeplearning/performance/dl-performance-matrix-multiplication/index.html#requirements-tc\n"
     ]
    },
    {
     "data": {
      "text/plain": "Embedding(30555, 768)"
     },
     "execution_count": 6,
     "metadata": {},
     "output_type": "execute_result"
    }
   ],
   "source": [
    "tokenizer.add_tokens(bert_tokens)\n",
    "model.resize_token_embeddings(len(tokenizer))"
   ],
   "metadata": {
    "collapsed": false,
    "ExecuteTime": {
     "end_time": "2024-01-03T12:16:46.156503400Z",
     "start_time": "2024-01-03T12:16:45.980362500Z"
    }
   },
   "id": "cf5cfc3ca11d6215",
   "execution_count": 6
  },
  {
   "cell_type": "markdown",
   "source": [
    "After everything has been prepared, we can create a list of the contextual embeddings for the standard BERT tokens and the pseudoword tokens."
   ],
   "metadata": {
    "collapsed": false
   },
   "id": "185ba1a6dbb81597"
  },
  {
   "cell_type": "code",
   "outputs": [
    {
     "data": {
      "text/plain": "  0%|          | 0/210 [00:00<?, ?it/s]",
      "application/vnd.jupyter.widget-view+json": {
       "version_major": 2,
       "version_minor": 0,
       "model_id": "422e28d27fc24e4b97a0aef38f488050"
      }
     },
     "metadata": {},
     "output_type": "display_data"
    },
    {
     "name": "stdout",
     "output_type": "stream",
     "text": [
      "st1006\n",
      "würden1029\n",
      "zu1034\n",
      "zu1035\n",
      "ähnlich123\n",
      "zum1313\n",
      "lein1320\n",
      "chen1322\n",
      "i1337\n",
      "zu1347\n",
      "ähnlich139\n",
      "eln1514\n",
      "lich1521\n",
      "leinchen1524\n",
      "vor1574\n",
      "Muster1594\n",
      "ding1621\n",
      "zum1630\n",
      "kram1660\n",
      "Standard1684\n",
      "keineswegs1690\n",
      "un1690\n",
      "en1756\n",
      "ge1756\n",
      "ling1842\n",
      "er381\n",
      "würdest392\n",
      "en392\n",
      "häufigst498\n",
      "sten500\n",
      "et571\n",
      "st623\n",
      "st631\n",
      "st65\n",
      "sau653\n",
      "en696\n",
      "über85\n"
     ]
    },
    {
     "data": {
      "text/plain": "dict_keys([10, 100, 1004, 1006, 101, 1029, 103, 1033, 1034, 1035, 104, 1043, 1051, 1054, 11, 111, 112, 1126, 1134, 1140, 1162, 12, 1219, 122, 123, 125, 1257, 127, 128, 1289, 129, 1291, 13, 130, 1300, 1301, 1313, 1315, 1316, 132, 1320, 1322, 1323, 1324, 1329, 133, 1337, 1342, 1346, 1347, 135, 1351, 136, 139, 14, 1459, 1461, 1462, 15, 1503, 1509, 1511, 1514, 1517, 1521, 1524, 1525, 1554, 1556, 1573, 1574, 1582, 1593, 1594, 1597, 16, 1600, 1602, 1621, 1624, 1629, 1630, 1631, 1634, 1636, 1637, 1639, 1641, 1643, 1645, 1649, 1660, 1671, 1681, 1684, 1690, 1715, 1738, 1756, 1760, 1762, 1770, 1772, 1777, 1779, 1792, 1802, 1831, 1835, 1842, 1846, 1849, 1881, 1884, 19, 1986, 1987, 20, 21, 22, 317, 318, 320, 349, 350, 374, 379, 381, 392, 488, 492, 498, 5, 500, 557, 559, 563, 571, 572, 579, 581, 584, 590, 592, 595, 600, 605, 618, 620, 623, 626, 628, 631, 639, 647, 65, 651, 653, 654, 663, 671, 674, 675, 676, 677, 681, 682, 683, 69, 696, 697, 74, 742, 756, 757, 758, 762, 768, 777, 778, 78, 83, 839, 840, 85, 858, 875, 877, 882, 886, 889, 892, 900, 902, 904, 905, 907, 909, 911, 917, 919, 921, 923, 926, 949, 97, 973, 976, 98, 99])"
     },
     "execution_count": 7,
     "metadata": {},
     "output_type": "execute_result"
    }
   ],
   "source": [
    "contextual_embeds = {}\n",
    "\n",
    "for constr, kelexes in tqdm(kelex_dict.items()):\n",
    "    contextual_embeds[constr] = {}\n",
    "    for kelex in kelexes:\n",
    "        if kelex + str(constr) in bert_tokens:\n",
    "            original_ids = tokenizer(kelex, return_tensors='pt')['input_ids']\n",
    "            pseudoword_ids = tokenizer(kelex + str(constr), return_tensors='pt')['input_ids']\n",
    "            with torch.no_grad():\n",
    "                original_outputs = model(original_ids, output_hidden_states=True)\n",
    "                pseudoword_outputs = model(pseudoword_ids, output_hidden_states=True)\n",
    "            original_contextual_embed = original_outputs.hidden_states[12][0][1:-1]\n",
    "            pseudoword_contextual_embed = pseudoword_outputs.hidden_states[12][0][1:-1]\n",
    "            contextual_embeds[constr][kelex] = (original_contextual_embed, pseudoword_contextual_embed)\n",
    "        else:\n",
    "            print(kelex + str(constr))\n",
    "\n",
    "contextual_embeds.keys()"
   ],
   "metadata": {
    "collapsed": false,
    "ExecuteTime": {
     "end_time": "2024-01-03T12:17:23.165951600Z",
     "start_time": "2024-01-03T12:16:46.022374600Z"
    }
   },
   "id": "710eba094aee385c",
   "execution_count": 7
  },
  {
   "cell_type": "code",
   "outputs": [
    {
     "data": {
      "text/plain": "(tensor([[-0.1567, -0.2954,  1.1641,  ..., -0.5217,  0.1245, -0.9498],\n         [-0.2695, -0.1156,  0.7473,  ...,  0.0997, -0.4645, -0.5735]]),\n tensor([[-5.9337e-01,  1.8925e-01,  8.8151e-01,  7.6941e-01, -1.0799e-01,\n          -5.4874e-02, -1.1751e+00, -7.0002e-01, -1.0662e-01,  3.7848e-01,\n          -2.2536e-01,  4.8179e-01,  4.9365e-01, -5.8546e-01,  1.5485e-01,\n           3.4184e-01,  2.3076e-01, -8.4451e-02, -1.3702e-01, -1.7958e-01,\n          -3.6692e-01, -5.9974e-01, -2.9299e-01, -2.8951e-01, -1.0670e+00,\n           2.8323e-01, -8.1848e-01, -8.2333e-01,  2.2542e-01,  1.1402e-01,\n           9.8367e-01, -3.2775e-01, -1.6153e-02,  4.4972e-01, -4.7634e-01,\n           3.5021e-01,  4.6307e-01,  8.4411e-02,  9.5915e-01, -8.9424e-01,\n           8.2238e-01,  4.6471e-01, -1.5551e-01, -2.2514e-01,  8.2434e-01,\n           2.2404e-01, -6.1623e-01,  4.6392e-01, -2.3587e-02,  4.7538e-01,\n          -9.8099e-01,  2.8590e-01,  4.8032e-01, -2.5809e-01, -1.6818e-01,\n           4.9187e-01, -3.0922e-01, -2.1858e-01,  7.8022e-01, -9.3906e-01,\n           2.2043e-01, -4.3398e-01,  5.4819e-01,  6.1383e-01, -1.0128e+00,\n           3.7289e-01,  3.7948e-01, -4.9096e-01, -1.0976e+00, -2.2375e-02,\n          -8.9166e-03, -7.5945e-02, -1.5136e+00,  7.3544e-02,  1.2090e-01,\n           2.0943e-01, -1.5084e-01, -3.6502e-01, -1.1762e+00,  5.7465e-01,\n           3.6008e-02, -2.7726e-01, -4.2338e-01, -1.1426e-01, -1.2132e+00,\n          -1.2050e-01,  1.8004e-02, -8.9500e-01, -2.8445e-02, -5.9571e-01,\n          -1.3774e-01, -1.2302e+00, -4.2697e-01,  3.2845e-01,  3.8475e-01,\n          -4.2210e-01, -6.7516e-01,  3.1697e-01,  2.1408e-01,  1.8813e-01,\n          -9.3751e-01, -2.1897e-01, -1.5693e-01, -1.8635e-01,  1.4081e+00,\n           3.6243e-01, -2.4626e-01,  1.1575e+00,  3.6554e-01, -8.5193e-01,\n          -9.4602e-01,  7.9004e-02,  1.9920e-01,  9.5636e-01,  1.5133e-01,\n           2.4743e-01, -7.3509e-02, -7.1963e-01,  4.6676e-01, -2.0845e-01,\n           6.9859e-01, -9.9897e-02,  5.2897e-01,  4.6574e-01, -8.1786e-03,\n           2.6049e-01,  7.9015e-02, -1.2088e+00,  2.8721e-01, -8.4973e-01,\n          -2.6882e-01, -3.4801e-01, -3.3640e-01, -4.4912e-01, -8.2942e-01,\n           3.6677e-01,  6.3148e-01, -4.0554e-01,  2.9154e-01, -1.4447e-02,\n           2.7107e-02, -5.9950e-01, -3.5153e-01,  1.5824e-01,  5.7044e-02,\n           7.8210e-01,  1.3652e-01, -7.0445e-01,  3.5560e-01,  6.4645e-01,\n          -1.0217e+00, -5.8322e-01, -4.4984e-01,  2.2737e-01,  1.2386e+00,\n           2.3921e-01, -3.2685e-01, -3.0819e-02, -4.8991e-01,  7.4911e-02,\n           3.9571e-01,  4.7448e-01,  5.6871e-01, -5.7162e-01,  1.7124e-01,\n          -8.3078e-02,  2.8854e-01, -1.0876e-01, -2.9817e-01,  3.8126e-01,\n          -5.7018e-01,  9.9338e-01, -6.2787e-01,  6.0593e-01, -2.2777e-02,\n          -1.4910e-01,  5.3761e-02,  3.5724e-01,  2.1295e+00, -6.8110e-01,\n          -2.9968e-01, -1.3882e+00, -6.0457e-02, -2.6636e-01,  1.2492e-01,\n          -4.5726e-01, -1.0945e+00,  9.4949e-02,  6.0824e-01,  1.7486e-01,\n          -5.0578e-01, -1.1241e+00,  8.5012e-01,  4.3728e-01, -1.8965e-01,\n          -3.3192e-02, -3.3354e-03, -3.1960e-01, -1.7141e+00,  3.4913e-01,\n          -8.9366e-02,  5.9826e-01,  8.9921e-01, -1.4538e-01,  8.1618e-01,\n           3.3478e-02, -7.8235e-01, -2.5643e-01, -7.6780e-01, -1.1206e+00,\n          -1.0514e+00, -2.1527e-01,  8.9073e-01, -9.0138e-01, -2.8484e-01,\n          -2.8631e-01, -4.6651e-02, -3.9825e-01, -8.8852e-04,  4.1442e-01,\n          -4.0478e-01,  8.1476e-01, -3.2538e-01,  7.3077e-02,  2.4064e-01,\n           8.1525e-01, -7.6364e-01, -8.5782e-01,  4.4362e-01,  4.0925e-01,\n           8.8974e-02, -6.4356e-01,  4.2022e-01, -3.4034e-01, -1.1698e-01,\n          -1.2032e-01,  1.9363e-01, -5.4612e-01,  8.3165e-01, -1.0051e+00,\n           2.3215e-01, -2.5853e-01,  3.2480e-01, -1.6757e-01,  7.5805e-01,\n           8.5651e-02,  6.6516e-01, -7.0333e-01,  1.3989e-01, -5.1393e-01,\n           1.6186e-02, -6.4724e-01,  8.0048e-01, -3.9571e-01,  4.4974e-01,\n           1.8317e-01, -5.7666e-01,  4.0178e-01, -6.3536e-02, -5.7692e-01,\n           3.0468e-02, -1.0275e+00, -3.9905e-01,  5.0795e-02,  3.4344e-01,\n           4.9012e-01, -1.1707e+00, -1.5324e-01, -1.2111e+00,  3.5588e-01,\n          -4.0304e-01, -3.4913e-01, -5.3791e-01,  6.1928e-02,  6.7610e-02,\n          -1.7188e-01,  2.0171e-02, -1.6247e-01,  8.7638e-02,  6.5883e-01,\n          -3.0752e-01,  1.0569e-01, -5.7579e-01, -3.4920e-01,  8.3945e-01,\n          -1.2029e-01, -3.6153e-01, -1.8788e-01,  3.8516e-01, -1.3845e-01,\n           4.0377e-01,  6.5635e-01,  1.5986e-01, -9.6944e-02, -5.1790e-01,\n           8.6940e-01, -1.0669e-01, -7.5189e-01, -3.1966e-01,  5.5383e-01,\n           5.0265e-01, -6.0007e-01,  8.4771e-02,  4.9764e-01,  1.0094e-01,\n          -5.1524e-02, -2.8435e-01,  7.1337e-01,  5.9957e-02, -1.5684e-01,\n          -1.0486e+00,  3.2095e-01, -9.2449e-01, -2.1990e-01,  3.8550e-02,\n           4.5887e-01, -5.2727e-02,  8.4331e-01,  5.9398e-01, -7.5750e-01,\n          -1.6285e+00,  8.2544e-01, -4.2629e-01, -6.7824e-01, -8.8428e-01,\n           3.0969e-01, -1.2001e+00, -3.7366e-01,  1.1412e+00, -3.3581e-01,\n           4.0620e-01, -3.2359e-01,  1.4325e-01,  5.4727e-01, -2.5283e-01,\n           4.4992e-01,  6.9063e-01,  4.5957e-01, -1.7816e-01, -1.0509e+00,\n          -1.0646e-02, -1.3381e+00, -5.2344e-01,  1.5140e-01,  4.6089e-01,\n          -9.7477e-02, -5.4186e-01,  6.1164e-01, -4.0121e-01, -5.8672e-02,\n           5.1117e-01,  2.9858e-01, -5.0909e-01, -4.0572e-01,  8.1338e-02,\n          -7.4369e-01, -3.0824e-01, -5.2488e-02, -1.1811e+00, -3.1639e-01,\n           5.6824e-02,  9.7214e-02, -2.7734e-01, -3.0977e-03, -5.2199e-01,\n          -3.3101e-03, -7.6350e-01,  1.6464e-01, -7.1812e-01,  3.3758e-01,\n          -2.1347e-01,  6.5619e-02, -2.8953e-01, -2.8788e-01,  7.4688e-02,\n          -1.7470e-01,  5.9131e-01,  8.1388e-01,  5.4038e-01, -2.6694e-02,\n          -5.0252e-01,  3.7967e-01,  5.8125e-01, -2.1664e-01, -4.8822e-01,\n          -1.0417e-01, -8.9912e-02, -1.6727e-01, -5.8544e-01, -5.5530e-01,\n          -1.3003e-01, -5.3505e-01,  8.3813e-02, -4.9289e-01, -5.9883e-01,\n           4.8788e-01,  1.2959e+00,  5.0156e-01, -1.3307e-01,  7.3024e-01,\n           4.1437e-01,  3.2204e-01,  1.9667e-01,  5.7877e-01, -3.5515e-01,\n          -2.7297e-01, -3.8503e-01, -7.8219e-01,  4.1422e-01, -5.6362e-01,\n          -2.6246e-01,  1.0369e-01,  1.2683e-01,  2.5396e-01, -3.3957e-01,\n           3.5721e-01,  4.1134e-01,  9.4351e-02,  7.1504e-01,  1.1353e-01,\n           8.7039e-03, -4.0866e-01, -9.9149e-02, -3.3981e-01, -7.2400e-01,\n          -2.4974e-01, -7.1124e-01,  1.4137e-01,  5.9237e-01, -3.4822e-01,\n          -3.6530e-01,  6.7532e-01,  5.9029e-01,  1.4997e-01,  1.2283e-02,\n           4.7353e-01, -1.6097e-03,  9.5271e-02,  1.2667e+00,  5.0407e-01,\n           5.6029e-01,  3.9364e-01,  1.8684e-01,  7.3477e-01,  2.6806e-01,\n          -6.6718e-01, -6.0434e-03, -2.9296e-01, -4.4245e-01,  7.4993e-01,\n           7.5623e-01,  1.2828e+00, -7.0118e-01, -3.0289e-01, -1.8245e-01,\n           1.6663e-03, -2.5939e-01,  7.3035e-01, -3.4439e-01, -3.6545e-01,\n          -4.5349e-01,  1.2712e-01,  1.0143e-01, -1.3811e-01,  4.4315e-01,\n          -5.9013e-01, -2.9894e-01, -1.6592e-01, -2.4264e-01, -7.6756e-01,\n           7.4701e-01,  4.3630e-01, -9.8380e-02, -4.7502e-01,  8.7842e-02,\n           8.6498e-01,  5.2957e-01,  9.3667e-02,  1.8069e-02, -9.2946e-01,\n           6.6038e-01, -7.0195e-01,  3.9515e-02, -4.2199e-01,  4.7890e-01,\n           1.9831e-01,  2.3906e-01,  1.3981e-01,  4.3487e-02, -8.0680e-01,\n          -1.4037e-01,  7.4668e-01,  1.0818e+00, -8.2976e-01, -9.3962e-01,\n           1.7862e-01,  3.9605e-01,  7.2949e-03,  1.1327e+00, -1.4441e-01,\n           8.8674e-02,  2.3101e-01,  1.2693e-01, -4.3397e-01,  4.3502e-01,\n          -8.9690e-02, -4.9671e-01, -5.7331e-01,  1.0279e-01, -6.6818e-01,\n           3.0491e-01, -1.7482e-01, -3.1352e-01,  8.1809e-01, -2.8073e-01,\n           3.6171e-02,  3.5264e-01, -6.9579e-01,  9.2029e-02,  7.1913e-03,\n          -8.4059e-01,  3.4331e-01,  2.3196e-01,  3.9174e-01,  7.6929e-01,\n          -2.1086e-01,  6.4109e-01,  8.4263e-01, -5.5859e-01, -4.7403e-01,\n           8.5694e-01,  8.4480e-01,  4.2182e-01, -2.7799e-01,  4.2308e-01,\n           1.2770e+00, -6.5948e-01, -8.4136e-01,  2.9594e-01, -2.7423e-01,\n          -1.1681e+00, -2.4293e-01, -4.1408e-01, -1.7367e-01, -1.2630e-01,\n          -8.0785e-01,  3.2958e-01,  6.6189e-01, -7.2004e-01, -1.5052e+00,\n           1.9441e-01, -6.2139e-01, -3.4523e-01, -1.8533e-01,  1.3615e+00,\n          -6.6062e-01, -1.3262e-03, -9.2366e-01, -1.3758e-01,  7.6073e-01,\n           7.1914e-01,  1.9552e-01, -8.2923e-01, -8.9717e-03, -3.5660e-01,\n           1.1936e+00, -6.5369e-01,  4.7962e-01,  2.6563e-01,  4.2624e-01,\n          -9.6838e-02, -7.8826e-01, -6.0936e-01, -2.7901e-01, -2.5071e-01,\n           2.2417e-02, -5.4845e-01, -9.6783e-01, -7.1951e-01, -9.2180e-02,\n          -3.4397e-01, -3.9222e-01,  8.2027e-01,  3.7486e-01,  5.0801e-01,\n           1.0126e-01,  4.6442e-01, -6.5013e-01, -3.5689e-01,  5.1706e-01,\n           1.9609e-01, -5.7574e-02,  3.6796e-01, -6.0013e-01,  3.4363e-01,\n          -4.0917e-01,  2.2649e-01, -4.1680e-01, -5.4775e-01, -1.1377e-01,\n           8.6229e-01, -1.3225e-01,  3.3116e-01,  6.0891e-01,  2.8036e-01,\n          -4.8297e-01, -1.3687e+00,  3.7935e-01, -2.0503e-01,  5.7737e-02,\n          -2.1926e-01,  2.6170e-01, -6.9667e-01, -1.1243e+00, -1.5489e-01,\n          -5.6460e-01, -2.9055e-01, -6.3390e-01,  8.2411e-01, -4.6756e-02,\n          -6.0242e-01,  1.7648e-01,  6.7669e-01,  1.6876e-01,  3.5049e-01,\n           1.0600e-01,  7.2982e-01,  4.0130e-01,  5.8142e-01,  3.9273e-01,\n           7.5821e-01, -1.0133e+00,  4.4532e-02,  5.0341e-01,  3.6993e-01,\n           1.5224e+01,  3.6583e-01,  7.1248e-02, -2.6409e-01,  7.0888e-01,\n           7.4276e-01,  7.6124e-01, -6.0629e-01,  3.8633e-01,  1.5290e-02,\n           1.7076e-01, -7.1894e-01,  1.9277e-01,  5.3040e-01, -8.3635e-03,\n           2.1696e-01, -3.3066e-01, -7.0073e-01,  5.3845e-01,  9.9956e-01,\n           8.3462e-01, -3.1332e-01,  5.1215e-01,  3.9710e-01,  5.2235e-01,\n           3.5323e-01, -1.3333e-02, -4.8045e-01,  5.2027e-01, -9.7945e-01,\n          -1.7871e+00, -6.7163e-01,  5.8745e-01, -1.1479e+00,  6.9230e-01,\n           3.5896e-01, -4.0830e-01, -3.1013e-01, -3.8601e-01, -2.9722e-01,\n          -5.3416e-02, -7.4913e-01,  9.2580e-01,  3.4297e-01,  5.0704e-02,\n          -4.8764e-01,  4.3023e-01,  2.2164e-01, -2.8014e-01, -5.6527e-02,\n          -7.2142e-01, -5.8168e-01,  5.7667e-01, -2.3378e-01,  5.2448e-01,\n          -1.0128e-01,  3.7204e-01, -1.0184e+00, -8.3595e-01,  6.1816e-01,\n          -5.6140e-01,  5.7716e-01,  9.8966e-02, -1.4001e-01,  1.0960e-01,\n          -1.2944e+00, -1.4532e-01, -3.3647e-01,  1.4727e+00, -4.6387e-01,\n          -1.5683e-01, -3.6060e-01, -1.0063e-01, -7.6082e-01,  1.0248e+00,\n          -5.2043e-01,  3.7602e-01,  1.1100e+00,  4.0829e-01,  2.9000e-01,\n           6.9899e-02,  6.3267e-01, -1.2496e-01, -2.9233e-01, -5.5601e-01,\n           7.0533e-01,  1.4821e-01, -4.1255e-01, -4.3124e-01,  9.3806e-02,\n           2.1972e+00, -4.6145e-01, -7.6729e-01,  4.7936e-03,  5.9119e-01,\n          -1.1687e-01,  8.5661e-01, -6.2849e-01,  6.3257e-01,  1.3599e+00,\n          -1.6794e-02,  1.0405e+00,  4.1156e-01, -1.4475e+00, -4.1889e-01,\n           6.6942e-01,  1.0971e-01, -2.9211e-01,  5.6318e-01,  2.5241e-01,\n           2.2793e-01, -4.1485e-01, -3.6546e-01,  5.0917e-01, -1.3826e-01,\n          -5.6210e-01, -7.4290e-01,  5.5090e-01,  5.1763e-01,  4.2788e-01,\n           1.4124e+00,  1.2565e+00, -2.3523e-01, -4.0675e-02,  1.3855e-01,\n           3.3233e-01,  1.2718e+00,  6.2038e-01,  1.5430e-01,  2.4454e-01,\n          -2.3608e-03, -7.6283e-01, -1.2250e+00]]))"
     },
     "execution_count": 8,
     "metadata": {},
     "output_type": "execute_result"
    }
   ],
   "source": [
    "contextual_embeds[10][\"geschweige\"]"
   ],
   "metadata": {
    "collapsed": false,
    "ExecuteTime": {
     "end_time": "2024-01-03T12:17:23.238528900Z",
     "start_time": "2024-01-03T12:17:23.167955700Z"
    }
   },
   "id": "e667595f81687afe",
   "execution_count": 8
  },
  {
   "cell_type": "markdown",
   "source": [
    "Now we can compare the distance of the pseudowords to a sentence with the distance of the original token(s) to the same sentence. Since one pseudoword token can be equivalent to multiple original tokens, we need to take the average distance from all original tokens to compare this average distance to the distance of the pseudoword token."
   ],
   "metadata": {
    "collapsed": false
   },
   "id": "4f3dcb1fd1bb88c8"
  },
  {
   "cell_type": "code",
   "outputs": [
    {
     "data": {
      "text/plain": "  0%|          | 0/353449 [00:00<?, ?it/s]",
      "application/vnd.jupyter.widget-view+json": {
       "version_major": 2,
       "version_minor": 0,
       "model_id": "0e4582854c7c44438a1e4c53e94f4e68"
      }
     },
     "metadata": {},
     "output_type": "display_data"
    },
    {
     "name": "stdout",
     "output_type": "stream",
     "text": [
      "::\n",
      "[{'constr': 12, 'kelex': 'noch', 'sentence': 'Das gestrige Ereignis hatte weder verletzte Personen zur Folge , noch kam die Produktionsstätte von Texas Instruments durch das Feuer direkt zu Schaden .', 'bert_sim': 0.46541234850883484, 'pseudword_sim': 0.4611941874027252, 'bert_euclidean': 23.424827575683594, 'pseudword_euclidean': 23.35661506652832, 'bert_manhattan': 505.57733154296875, 'pseudword_manhattan': 498.20782470703125}]\n",
      ":...::::::::::::::::::::::::::::::::::::::::::::::::::::::::::::::::::::::::::::::::::::::::::::::::::::::::::::::::::::::::::::::::::::::::::::::::::::::::::::::::::::::::::::::::::::::::::::::::::::::::::::::::::::::::::::::::::::::::::::::::::::::::::::::::::::::::::::::::::::::::::::::::::::::::::::::::::::::::...:::.:::::::.......::\n",
      "[{'constr': 100, 'kelex': 'gleich', 'sentence': ' Wir werden nicht allen 4,5 Millionen Teilnehmern gleich eine neue CD schicken  , so Kleuntje .', 'bert_sim': 0.679663360118866, 'pseudword_sim': 0.70242840051651, 'bert_euclidean': 17.539966583251953, 'pseudword_euclidean': 16.939151763916016, 'bert_manhattan': 384.6089782714844, 'pseudword_manhattan': 376.9936828613281}]\n",
      "\n",
      "[{'constr': 100, 'kelex': 'gleich', 'sentence': 'Der Preis liegt nach wie vor bei 2499 Mark , ebenfalls gleich bleiben die anderen Ausstattungsmerkmale wie 64 MByte Hauptspeicher und CD-ROM-Laufwerk .', 'bert_sim': 0.6023088693618774, 'pseudword_sim': 0.6821019053459167, 'bert_euclidean': 19.866689682006836, 'pseudword_euclidean': 17.80379867553711, 'bert_manhattan': 432.705810546875, 'pseudword_manhattan': 391.8462829589844}]\n",
      "\n",
      "[{'constr': 100, 'kelex': 'gleich', 'sentence': 'Mit dem Musikprogramm sollen sich Musikstücke einfach bearbeiten und auch gleich auf CD-ROM brennen lassen .', 'bert_sim': 0.6760278940200806, 'pseudword_sim': 0.6810569167137146, 'bert_euclidean': 17.627012252807617, 'pseudword_euclidean': 17.524328231811523, 'bert_manhattan': 388.38641357421875, 'pseudword_manhattan': 381.9747619628906}]\n",
      "\n",
      "[{'constr': 100, 'kelex': 'gleich', 'sentence': 'Da in der Übersicht auch die Laufzeit der Programminstanz angegeben ist , weiß man auch gleich , über welchen Zeitraum die Aufrufe erfolgten .', 'bert_sim': 0.6686749458312988, 'pseudword_sim': 0.6781051754951477, 'bert_euclidean': 18.012096405029297, 'pseudword_euclidean': 17.78765296936035, 'bert_manhattan': 397.1132507324219, 'pseudword_manhattan': 391.8561096191406}]\n",
      ":\n",
      "[{'constr': 100, 'kelex': 'gleich', 'sentence': 'Denn gleich um 50 Basispunkte , so verkündete Notenbank-Präsident Alan Greenspan , wird der so genannte Interbanken-Zinssatz für den Kreditverkehr zwischen Geschäftsbanken gesenkt : von 6,5 auf 6 Prozent .', 'bert_sim': 0.6537517309188843, 'pseudword_sim': 0.661337673664093, 'bert_euclidean': 18.502742767333984, 'pseudword_euclidean': 18.333011627197266, 'bert_manhattan': 410.8386535644531, 'pseudword_manhattan': 407.4126892089844}]\n",
      "\n",
      "[{'constr': 100, 'kelex': 'gleich', 'sentence': 'Bei gleich bleibender Technik dürfte sich in Deutschland der Stromverbrauch durch Nutzung des Internet in den nächsten 10 Jahren drastisch erhöhen .', 'bert_sim': 0.639329195022583, 'pseudword_sim': 0.7296930551528931, 'bert_euclidean': 18.637462615966797, 'pseudword_euclidean': 16.169681549072266, 'bert_manhattan': 404.4808654785156, 'pseudword_manhattan': 355.2559814453125}]\n",
      "\n",
      "[{'constr': 100, 'kelex': 'gleich', 'sentence': 'Das käme den Befugnissen einer Exekutive gleich .', 'bert_sim': 0.5097488164901733, 'pseudword_sim': 0.5488118529319763, 'bert_euclidean': 22.36985206604004, 'pseudword_euclidean': 21.504873275756836, 'bert_manhattan': 479.2053527832031, 'pseudword_manhattan': 467.3330383300781}]\n",
      "\n",
      "[{'constr': 100, 'kelex': 'gleich', 'sentence': 'Fehlende Kompatibilität der beiden Browser mit dem größten Verbreitungsgrad zwingt Designer dazu , sehr viel Zeit in das Fine-Tuning von Sites zu investieren , bis sie unter beiden Browsern gleich aussehen .', 'bert_sim': 0.6251557469367981, 'pseudword_sim': 0.7540024518966675, 'bert_euclidean': 18.99711036682129, 'pseudword_euclidean': 15.424633026123047, 'bert_manhattan': 415.6067199707031, 'pseudword_manhattan': 335.35888671875}]\n",
      "\n",
      "[{'constr': 100, 'kelex': 'gleich', 'sentence': 'Egal , ob der Anwalt nun auf Microsofts Angebot eingeht oder dem Unternehmen die einstweilige Verfügung zustellt , das Ergebnis bleibt sich gleich .', 'bert_sim': 0.618110716342926, 'pseudword_sim': 0.6725911498069763, 'bert_euclidean': 19.443925857543945, 'pseudword_euclidean': 18.042522430419922, 'bert_manhattan': 427.7355651855469, 'pseudword_manhattan': 401.5595397949219}]\n",
      ":\n",
      "[{'constr': 100, 'kelex': 'gleich', 'sentence': 'Man habe vergessen , dass Anfrage nicht gleich Auftrag sei .', 'bert_sim': 0.6521642208099365, 'pseudword_sim': 0.7200197577476501, 'bert_euclidean': 18.353275299072266, 'pseudword_euclidean': 16.50127601623535, 'bert_manhattan': 402.2633972167969, 'pseudword_manhattan': 366.45367431640625}]\n",
      "\n",
      "[{'constr': 100, 'kelex': 'gleich', 'sentence': 'Die Zahlen , die von der Branche angegeben werden , gehen nicht nur in Deutschland leicht in die Hunderttausende , sondern in den USA gleich in die Millionen .', 'bert_sim': 0.6194030046463013, 'pseudword_sim': 0.6662060618400574, 'bert_euclidean': 19.523876190185547, 'pseudword_euclidean': 18.32356834411621, 'bert_manhattan': 431.19879150390625, 'pseudword_manhattan': 403.3339538574219}]\n",
      "\n",
      "[{'constr': 100, 'kelex': 'gleich', 'sentence': 'Das komme einem \" Generalverdacht \" gegen alle Netzbürger gleich .', 'bert_sim': 0.4502732455730438, 'pseudword_sim': 0.47354644536972046, 'bert_euclidean': 24.015954971313477, 'pseudword_euclidean': 23.548175811767578, 'bert_manhattan': 503.67156982421875, 'pseudword_manhattan': 507.42950439453125}]\n",
      ":\n",
      "[{'constr': 100, 'kelex': 'gleich', 'sentence': 'Amazon.com , der weltweit größte Online-Buchhändler , hat mit einem Schlag gleich drei Internet-Händler aufgekauft : die Telebook Inc. , , Bookpages Limited und die Internet Movie Database .', 'bert_sim': 0.562195360660553, 'pseudword_sim': 0.6125221252441406, 'bert_euclidean': 20.74240493774414, 'pseudword_euclidean': 19.554454803466797, 'bert_manhattan': 460.9495849609375, 'pseudword_manhattan': 423.87921142578125}]\n",
      "\n",
      "[{'constr': 100, 'kelex': 'gleich', 'sentence': 'Man sollte trotzdem nicht gleich \" in Panik verfallen \" , stellte der Geheimdienstler dann aber klar .', 'bert_sim': 0.6713185906410217, 'pseudword_sim': 0.6730294823646545, 'bert_euclidean': 17.849483489990234, 'pseudword_euclidean': 17.83711814880371, 'bert_manhattan': 395.8858947753906, 'pseudword_manhattan': 400.6888732910156}]\n",
      ":\n",
      "[{'constr': 100, 'kelex': 'gleich', 'sentence': 'Eine neue Software tritt an , gleich mehrere Online-Tauschbörsen auszuwerten .', 'bert_sim': 0.6584835648536682, 'pseudword_sim': 0.7115117907524109, 'bert_euclidean': 18.026805877685547, 'pseudword_euclidean': 16.60262680053711, 'bert_manhattan': 398.13897705078125, 'pseudword_manhattan': 363.3926696777344}]\n",
      "\n",
      "[{'constr': 100, 'kelex': 'gleich', 'sentence': 'Strato dementierte gegenüber heise online schon aufkommende Gerüchte , der umstrittene Dienst sei gleich wieder ganz eingestellt worden .', 'bert_sim': 0.6266006231307983, 'pseudword_sim': 0.6310600638389587, 'bert_euclidean': 19.209327697753906, 'pseudword_euclidean': 19.129899978637695, 'bert_manhattan': 423.4571533203125, 'pseudword_manhattan': 421.54931640625}]\n",
      "\n",
      "[{'constr': 100, 'kelex': 'gleich', 'sentence': 'Offiziell ausgezeichnet sind diese Versionen als \" Opera 5 Beta 6 \" - Opera hat offensichtlich die Version 4 , deren letzten Beta 5 vor einiger Zeit erschien , in diesen Ausgaben übersprungen und die Entwicklung gleich zur Version 5 weitergetrieben .', 'bert_sim': 0.6412087678909302, 'pseudword_sim': 0.6653507351875305, 'bert_euclidean': 18.728185653686523, 'pseudword_euclidean': 18.122947692871094, 'bert_manhattan': 415.1812744140625, 'pseudword_manhattan': 405.1689758300781}]\n",
      "\n",
      "[{'constr': 100, 'kelex': 'gleich', 'sentence': 'Bei den 3D-Grafik-Beschleunigern präsentierten gleich drei Firmen neue Designs :', 'bert_sim': 0.6114199757575989, 'pseudword_sim': 0.622512698173523, 'bert_euclidean': 19.446062088012695, 'pseudword_euclidean': 19.204029083251953, 'bert_manhattan': 424.5583190917969, 'pseudword_manhattan': 428.0509948730469}]\n",
      "\n",
      "[{'constr': 100, 'kelex': 'gleich', 'sentence': 'Für die US-Studios sprachen gleich zwei Anwälte , während 2600.com nur von einer Juristin vertreten wurde .', 'bert_sim': 0.6630154252052307, 'pseudword_sim': 0.6712563633918762, 'bert_euclidean': 17.936115264892578, 'pseudword_euclidean': 17.751171112060547, 'bert_manhattan': 398.9920959472656, 'pseudword_manhattan': 394.9227294921875}]\n",
      "\n",
      "[{'constr': 100, 'kelex': 'gleich', 'sentence': 'Microsoft übersprang bei Word für Windows gleich drei Versionsnummern , als auf WinWord 2.0 überraschend die Version 6 folgte .', 'bert_sim': 0.634422242641449, 'pseudword_sim': 0.6907938718795776, 'bert_euclidean': 18.572702407836914, 'pseudword_euclidean': 17.116680145263672, 'bert_manhattan': 413.0612487792969, 'pseudword_manhattan': 380.8889465332031}]\n",
      "\n",
      "[{'constr': 100, 'kelex': 'gleich', 'sentence': 'Der Photoshop-Hersteller kündigte gleich zwei Schritte an , um Web-Grafiken kleiner zu machen .', 'bert_sim': 0.650715172290802, 'pseudword_sim': 0.6587331891059875, 'bert_euclidean': 18.287643432617188, 'pseudword_euclidean': 18.112783432006836, 'bert_manhattan': 401.7091369628906, 'pseudword_manhattan': 402.26885986328125}]\n",
      "\n",
      "[{'constr': 100, 'kelex': 'gleich', 'sentence': 'Laut Slashdot.org wenden sich die Anwälte meist direkt an die Hosts der betroffenen Webseiten , die in einigen Fällen die jeweilige Web-Domain gleich sperrten - vorauseilender Gehorsam .', 'bert_sim': 0.6664671301841736, 'pseudword_sim': 0.7129269242286682, 'bert_euclidean': 17.98430824279785, 'pseudword_euclidean': 16.719280242919922, 'bert_manhattan': 393.95660400390625, 'pseudword_manhattan': 367.4462890625}]\n",
      "\n",
      "[{'constr': 100, 'kelex': 'gleich', 'sentence': 'Der Verkauf US-amerikanischer US-DVDs in Deutschland verstößt gleich doppelt gegen deutsches Recht :', 'bert_sim': 0.6051914691925049, 'pseudword_sim': 0.7047184109687805, 'bert_euclidean': 19.82467269897461, 'pseudword_euclidean': 17.188745498657227, 'bert_manhattan': 433.57635498046875, 'pseudword_manhattan': 378.05633544921875}]\n",
      ":\n",
      "[{'constr': 100, 'kelex': 'gleich', 'sentence': 'So findet der Musikfreund den Titel seines Lieblingssongs und kann per Mausklick gleich die CD bestellen .', 'bert_sim': 0.6264001131057739, 'pseudword_sim': 0.6462143063545227, 'bert_euclidean': 19.08008575439453, 'pseudword_euclidean': 18.603891372680664, 'bert_manhattan': 422.1776428222656, 'pseudword_manhattan': 410.2401123046875}]\n",
      "\n",
      "[{'constr': 100, 'kelex': 'gleich', 'sentence': 'Um einige \" Kriminelle \" ausfindig zu machen , überwachen staatliche Organisationen gleich pauschal alle Bürger , wie zuletzt beim Super Bowl .', 'bert_sim': 0.6786366701126099, 'pseudword_sim': 0.7520291805267334, 'bert_euclidean': 17.581544876098633, 'pseudword_euclidean': 15.476983070373535, 'bert_manhattan': 395.04193115234375, 'pseudword_manhattan': 341.4402160644531}]\n",
      "\n",
      "[{'constr': 100, 'kelex': 'gleich', 'sentence': 'Auch das 12x-DVD-ROM-Laufwerk von Lite-On ist gleich geblieben .', 'bert_sim': 0.6245482563972473, 'pseudword_sim': 0.7311168909072876, 'bert_euclidean': 19.210372924804688, 'pseudword_euclidean': 16.297222137451172, 'bert_manhattan': 419.8975524902344, 'pseudword_manhattan': 358.15838623046875}]\n",
      ":\n",
      "[{'constr': 100, 'kelex': 'gleich', 'sentence': 'Nicht 2.7 heißt die Nachfolgerversion des Betriebssystems Solaris 2.6 von Sun Microsystems , sondern gleich Solaris 7 .', 'bert_sim': 0.6563642621040344, 'pseudword_sim': 0.6891136765480042, 'bert_euclidean': 18.3793888092041, 'pseudword_euclidean': 17.5169734954834, 'bert_manhattan': 404.6498718261719, 'pseudword_manhattan': 388.2922058105469}]\n",
      "\n",
      "[{'constr': 100, 'kelex': 'gleich', 'sentence': 'Wie der Reuters-Nachrichtendienst schon vor der heute stattfindenden Pressekonferenz berichtete , hat der Hersteller für sein 64-Bit-Unix gleich eine ganze Reihe von Versionssprüngen gemacht .', 'bert_sim': 0.6570813059806824, 'pseudword_sim': 0.6842458248138428, 'bert_euclidean': 18.16744041442871, 'pseudword_euclidean': 17.468158721923828, 'bert_manhattan': 401.5437316894531, 'pseudword_manhattan': 388.9747619628906}]\n",
      "\n",
      "[{'constr': 100, 'kelex': 'gleich', 'sentence': 'Geld verdienen mit Internet-Surfen - das haben vollmundig gleich mehrere Anbieter im vergangenen Jahr versprochen .', 'bert_sim': 0.6077984571456909, 'pseudword_sim': 0.6106091141700745, 'bert_euclidean': 19.465810775756836, 'pseudword_euclidean': 19.43419647216797, 'bert_manhattan': 432.7723083496094, 'pseudword_manhattan': 429.9544982910156}]\n",
      ":\n",
      "[{'constr': 100, 'kelex': 'gleich', 'sentence': 'Allerdings hingen an der E-Mail gleich noch sieben Zeilen Werbetext .', 'bert_sim': 0.640601634979248, 'pseudword_sim': 0.6649137735366821, 'bert_euclidean': 18.631328582763672, 'pseudword_euclidean': 18.02618408203125, 'bert_manhattan': 409.3545837402344, 'pseudword_manhattan': 401.4051208496094}]\n",
      "\n",
      "[{'constr': 100, 'kelex': 'gleich', 'sentence': 'Diesmal gibt es gleich eine ganze Fokus-Region :', 'bert_sim': 0.7195952534675598, 'pseudword_sim': 0.7371168732643127, 'bert_euclidean': 16.28119659423828, 'pseudword_euclidean': 15.79675006866455, 'bert_manhattan': 359.4747009277344, 'pseudword_manhattan': 349.00372314453125}]\n",
      "\n",
      "[{'constr': 100, 'kelex': 'gleich', 'sentence': 'IBM stellt damit nicht nur erstmals den Spitzenreiter , sondern konnte gleich neun Systeme unter den ersten 20 platzieren .', 'bert_sim': 0.6064472198486328, 'pseudword_sim': 0.6455507874488831, 'bert_euclidean': 19.438671112060547, 'pseudword_euclidean': 18.485511779785156, 'bert_manhattan': 419.76239013671875, 'pseudword_manhattan': 411.0268859863281}]\n",
      "\n",
      "[{'constr': 100, 'kelex': 'gleich', 'sentence': 'Zwar transferiert der Chip grundsätzlich immer gleich einen Burst von vier Daten , benötigt dafür aber zwei Takte .', 'bert_sim': 0.6909884810447693, 'pseudword_sim': 0.7494851350784302, 'bert_euclidean': 17.201587677001953, 'pseudword_euclidean': 15.520373344421387, 'bert_manhattan': 378.510009765625, 'pseudword_manhattan': 338.92626953125}]\n",
      "\n",
      "[{'constr': 100, 'kelex': 'gleich', 'sentence': 'Dieser wird mit der so genannten Embedded-DRAM-Technologie gleich mit auf den Prozessorchip integriert ( mehr dazu in Telepolis ) .', 'bert_sim': 0.6946167349815369, 'pseudword_sim': 0.6964622735977173, 'bert_euclidean': 17.31683921813965, 'pseudword_euclidean': 17.295982360839844, 'bert_manhattan': 383.4029541015625, 'pseudword_manhattan': 379.8603515625}]\n",
      ":\n",
      "[{'constr': 100, 'kelex': 'gleich', 'sentence': 'Eine neue größte bekannte Primzahl ermittelte der Linux-Cluster aus 450 Prozessoren an der ETH Zürich zwar nicht , aber er entdeckte eine Stelle jenseits von Hundert , wo gleich 18 Primzahlen in einem Intervall von nur 71 Zahlen zu finden sind .', 'bert_sim': 0.6615509390830994, 'pseudword_sim': 0.718459963798523, 'bert_euclidean': 17.981998443603516, 'pseudword_euclidean': 16.43471908569336, 'bert_manhattan': 391.8946838378906, 'pseudword_manhattan': 359.1529235839844}]\n",
      "\n",
      "[{'constr': 100, 'kelex': 'gleich', 'sentence': 'Als Alternative empfiehlt Intel den USB , wofür den OEMs gleich vier Buchsen nahegelegt werden .', 'bert_sim': 0.6554662585258484, 'pseudword_sim': 0.6905096173286438, 'bert_euclidean': 17.964876174926758, 'pseudword_euclidean': 17.062944412231445, 'bert_manhattan': 400.0990295410156, 'pseudword_manhattan': 378.12689208984375}]\n",
      "\n",
      "[{'constr': 100, 'kelex': 'gleich', 'sentence': 'Es handelt sich dabei nicht , wie häufig falsch zitiert , um einen Codenamen , sondern um eine Handelsmarke , die sogar gleich in drei Warenklassen eingetragen ist , wie ein Blick in die Trademark-Datenbank des amerikanischen Patentbüros USPTO offenbart .', 'bert_sim': 0.6740330457687378, 'pseudword_sim': 0.7462847232818604, 'bert_euclidean': 17.73591423034668, 'pseudword_euclidean': 15.680959701538086, 'bert_manhattan': 386.26824951171875, 'pseudword_manhattan': 344.3190002441406}]\n",
      "\n",
      "[{'constr': 100, 'kelex': 'gleich', 'sentence': 'Wahrscheinlich emuliert Crusoe gleich einen kompletten PC und nicht nur den Prozessor .', 'bert_sim': 0.7237461805343628, 'pseudword_sim': 0.7363594174385071, 'bert_euclidean': 16.120893478393555, 'pseudword_euclidean': 15.78142261505127, 'bert_manhattan': 359.0940246582031, 'pseudword_manhattan': 348.81842041015625}]\n",
      "\n",
      "[{'constr': 100, 'kelex': 'gleich', 'sentence': 'Es handelt sich gleich um eine ganze Familie von \" Mobilen Internet-Prozessoren \" , die zu drei Vierteln in Software und einem Viertel in Hardware die Arbeit von x86-Prozessoren erledigt .', 'bert_sim': 0.6623914837837219, 'pseudword_sim': 0.7007788419723511, 'bert_euclidean': 18.144487380981445, 'pseudword_euclidean': 17.116697311401367, 'bert_manhattan': 401.68719482421875, 'pseudword_manhattan': 379.5592956542969}]\n",
      "\n",
      "[{'constr': 100, 'kelex': 'gleich', 'sentence': 'Der Pentium 4 startet also gleich mit der Bürde eines recht dicken \" Specification Upgrades \" .', 'bert_sim': 0.7190276980400085, 'pseudword_sim': 0.7235277891159058, 'bert_euclidean': 16.356353759765625, 'pseudword_euclidean': 16.257343292236328, 'bert_manhattan': 364.3811340332031, 'pseudword_manhattan': 361.4516906738281}]\n",
      "\n",
      "[{'constr': 100, 'kelex': 'gleich', 'sentence': 'Aus dem Umfeld der Dresdener Fabrik von AMD tauchten am Wochenende verstärkt Informationen auf , die Chip-Schmiede könnte zur geplanten Vorstellung der nächsten Athlon-Prozessorgeneration Thunderbird gleich eine 1,5-GHz-Version aus dem Hut zaubern .', 'bert_sim': 0.6448041796684265, 'pseudword_sim': 0.655442476272583, 'bert_euclidean': 18.5177059173584, 'pseudword_euclidean': 18.274307250976562, 'bert_manhattan': 409.7057800292969, 'pseudword_manhattan': 402.66644287109375}]\n",
      ":\n",
      "[{'constr': 100, 'kelex': 'gleich', 'sentence': 'Da KPN Mehrheitseigner von E-Plus ist , Hutchison aber ebenso wie E-Plus bei der Versteigerung der deutschen UMTS-Frequenzen mitbieten will , würde KPN gleich zweimal an der Auktion teilnehmen , was nicht erlaubt ist .', 'bert_sim': 0.601517379283905, 'pseudword_sim': 0.6949849128723145, 'bert_euclidean': 19.691390991210938, 'pseudword_euclidean': 17.26628303527832, 'bert_manhattan': 436.1703186035156, 'pseudword_manhattan': 381.1256103515625}]\n",
      "\n",
      "[{'constr': 100, 'kelex': 'gleich', 'sentence': 'Eine E-Mail benötigte gleich einen ganzen Tag , um vom Ausgangskorb ins Internet zu gelangen .', 'bert_sim': 0.687669575214386, 'pseudword_sim': 0.7078320384025574, 'bert_euclidean': 17.24526023864746, 'pseudword_euclidean': 16.71324920654297, 'bert_manhattan': 379.9842224121094, 'pseudword_manhattan': 367.52447509765625}]\n",
      "\n",
      "[{'constr': 100, 'kelex': 'gleich', 'sentence': 'Mit dem AOL Instant Messenger ( AIM ) und ICQ verfügt der Konzern gleich über zwei derartige Systeme und ist mit fast 80 Millionen registrierten Messaging-Kunden der erfolgreichste Dienst dieser Art .', 'bert_sim': 0.6015899777412415, 'pseudword_sim': 0.6706263422966003, 'bert_euclidean': 19.817110061645508, 'pseudword_euclidean': 18.058330535888672, 'bert_manhattan': 429.6790466308594, 'pseudword_manhattan': 393.7612609863281}]\n",
      "\n",
      "[{'constr': 100, 'kelex': 'gleich', 'sentence': 'Die Firma Netzstatt richtet in diesem Jahr gleich mehrere Spiele-Meisterschaften aus , deren Gewinner mit hochwertigen Sachpreisen rechnen können .', 'bert_sim': 0.6556963324546814, 'pseudword_sim': 0.699725329875946, 'bert_euclidean': 18.100910186767578, 'pseudword_euclidean': 16.93889808654785, 'bert_manhattan': 396.9205017089844, 'pseudword_manhattan': 371.99700927734375}]\n",
      ":\n",
      "[{'constr': 100, 'kelex': 'gleich', 'sentence': 'Da die Briefwähler jedoch dazu angehalten werden , online und offline gleich abzustimmen , gelten für die Internet-Wahl zur Wahrung des Wahlgeheimnisses alle Belange des Datenschutzes .', 'bert_sim': 0.659777820110321, 'pseudword_sim': 0.7260088920593262, 'bert_euclidean': 18.10517692565918, 'pseudword_euclidean': 16.281949996948242, 'bert_manhattan': 398.2493591308594, 'pseudword_manhattan': 356.5789794921875}]\n",
      "\n",
      "[{'constr': 100, 'kelex': 'gleich', 'sentence': 'Die von der GSDI beauftragte Anwaltskanzlei Klinkert & Kollegen aus Hannover hatte diesen gleich lautende Abmahnungen nebst Kostennote über 1.286,21 Mark geschickt .', 'bert_sim': 0.6022950410842896, 'pseudword_sim': 0.654753565788269, 'bert_euclidean': 19.862926483154297, 'pseudword_euclidean': 18.546287536621094, 'bert_manhattan': 431.52081298828125, 'pseudword_manhattan': 410.7850341796875}]\n",
      "::\n",
      "[{'constr': 100, 'kelex': 'gleich', 'sentence': 'Offenbar sehen die Banker steuerliche Vorteile , wenn sie ihre Baan-Anteile statt etwaiger Kursverluste beim Aktienverkauf gleich vollständig als Wertverlust abschreiben .', 'bert_sim': 0.657943844795227, 'pseudword_sim': 0.7269662618637085, 'bert_euclidean': 18.30821990966797, 'pseudword_euclidean': 16.393600463867188, 'bert_manhattan': 397.9935607910156, 'pseudword_manhattan': 366.85296630859375}]\n",
      ":\n",
      "[{'constr': 100, 'kelex': 'gleich', 'sentence': 'Für annähernd 1000 US-Dollar kann man es auch unter Linux installieren und bekommt für diesen Preis den Source-Code gleich mit .', 'bert_sim': 0.6849598288536072, 'pseudword_sim': 0.6993290185928345, 'bert_euclidean': 17.533056259155273, 'pseudword_euclidean': 17.16155433654785, 'bert_manhattan': 394.969970703125, 'pseudword_manhattan': 381.8013916015625}]\n",
      ":\n",
      "[{'constr': 100, 'kelex': 'gleich', 'sentence': 'Er hält den Namen .COM einfach für praktischer als die üblichen Nachnamen , deren Bedeutung \" archäologischen Artefakten \" gleich käme .', 'bert_sim': 0.555508017539978, 'pseudword_sim': 0.5700777769088745, 'bert_euclidean': 21.209394454956055, 'pseudword_euclidean': 20.89841079711914, 'bert_manhattan': 466.3817443847656, 'pseudword_manhattan': 461.3970031738281}]\n",
      "\n",
      "[{'constr': 100, 'kelex': 'gleich', 'sentence': 'Die Comdex in Las Vegas bringt gleich mehrere Service-Angebote des Softwarehauses Be ans Licht .', 'bert_sim': 0.634800910949707, 'pseudword_sim': 0.6635462641716003, 'bert_euclidean': 18.703853607177734, 'pseudword_euclidean': 17.98921012878418, 'bert_manhattan': 412.8306579589844, 'pseudword_manhattan': 399.1972351074219}]\n",
      ":\n",
      "[{'constr': 100, 'kelex': 'gleich', 'sentence': \"Die c't-Redaktion hat herausgefunden , dass Tsadbot gleich nach dem Start Dutzende Bildchen auf der Festplatte ablegt und dabei weit über 100 kByte Internet-Traffic verursacht .\", 'bert_sim': 0.6202697157859802, 'pseudword_sim': 0.6286114454269409, 'bert_euclidean': 19.313631057739258, 'pseudword_euclidean': 19.13681411743164, 'bert_manhattan': 422.61993408203125, 'pseudword_manhattan': 416.7429504394531}]\n",
      ":\n",
      "[{'constr': 100, 'kelex': 'gleich', 'sentence': 'Die vorgestellte Stromquelle soll zehnmal so viel Energie liefern wie eine gleich große wiederaufladbare Batterie .', 'bert_sim': 0.6021244525909424, 'pseudword_sim': 0.7337683439254761, 'bert_euclidean': 19.933273315429688, 'pseudword_euclidean': 16.3543701171875, 'bert_manhattan': 435.2931213378906, 'pseudword_manhattan': 354.9421691894531}]\n",
      ":\n",
      "[{'constr': 100, 'kelex': 'gleich', 'sentence': 'Die beiden etwa gleich großen Unternehmen versprechen sich von der Fusion die üblichen synergistischen Effekte :', 'bert_sim': 0.519564151763916, 'pseudword_sim': 0.6454142332077026, 'bert_euclidean': 22.3373966217041, 'pseudword_euclidean': 19.25547218322754, 'bert_manhattan': 485.32672119140625, 'pseudword_manhattan': 417.2683410644531}]\n",
      "\n",
      "[{'constr': 100, 'kelex': 'gleich', 'sentence': 'Mit dem neuartigen Verkaufssystem Music Republic für Plattenläden fördern sie gleich beides :', 'bert_sim': 0.7183703184127808, 'pseudword_sim': 0.7649765014648438, 'bert_euclidean': 16.35462188720703, 'pseudword_euclidean': 14.97104549407959, 'bert_manhattan': 358.38348388671875, 'pseudword_manhattan': 328.32281494140625}]\n",
      "\n",
      "[{'constr': 100, 'kelex': 'gleich', 'sentence': 'Hat man sich seinen Account auf der Webseite einrichten lassen , bekommt man gleich Zugriff auf zwei Dienste :', 'bert_sim': 0.7097313404083252, 'pseudword_sim': 0.7550756335258484, 'bert_euclidean': 16.60129737854004, 'pseudword_euclidean': 15.281051635742188, 'bert_manhattan': 366.8056945800781, 'pseudword_manhattan': 335.9231872558594}]\n",
      "\n",
      "[{'constr': 100, 'kelex': 'gleich', 'sentence': 'Unter den Rednern finden sich gleich mehrere Träger des Turing Award der Association of Computing Machinery ( ACM ) , oft gleichgesetzt mit einem Nobelpreis der Informatik .', 'bert_sim': 0.6087726950645447, 'pseudword_sim': 0.6542704105377197, 'bert_euclidean': 19.519166946411133, 'pseudword_euclidean': 18.407577514648438, 'bert_manhattan': 430.599365234375, 'pseudword_manhattan': 402.1847229003906}]\n",
      "\n",
      "[{'constr': 100, 'kelex': 'gleich', 'sentence': 'Der Firmenzusammenschluss käme gegebenenfalls einem Aufkauf von Inprise durch Corel gleich , bei dem die Inprise-Aktionäre mit Corel-Aktien ausbezahlt würden .', 'bert_sim': 0.41458192467689514, 'pseudword_sim': 0.4412114918231964, 'bert_euclidean': 24.801895141601562, 'pseudword_euclidean': 24.279462814331055, 'bert_manhattan': 530.9111938476562, 'pseudword_manhattan': 518.6116333007812}]\n",
      ":\n",
      "[{'constr': 100, 'kelex': 'gleich', 'sentence': 'Einige haben die Lücke offenbar gleich genutzt , um unerwünschte Werbe-Mails zu verschicken .', 'bert_sim': 0.6880462169647217, 'pseudword_sim': 0.7228837013244629, 'bert_euclidean': 17.35397720336914, 'pseudword_euclidean': 16.389429092407227, 'bert_manhattan': 390.3936767578125, 'pseudword_manhattan': 355.8349609375}]\n",
      "::\n",
      "[{'constr': 100, 'kelex': 'gleich', 'sentence': 'Um mit dem Angebot nicht gleich wieder Pleite zu gehen , hat Klingenberg eine besondere Klausel in den Vertrag aufgenommen :', 'bert_sim': 0.6035839915275574, 'pseudword_sim': 0.6198971271514893, 'bert_euclidean': 19.958539962768555, 'pseudword_euclidean': 19.58077621459961, 'bert_manhattan': 430.5966796875, 'pseudword_manhattan': 430.9793395996094}]\n",
      "\n",
      "[{'constr': 100, 'kelex': 'gleich', 'sentence': 'Um das Verfahren zu beschleunigen , hatte das US-Justizministerium darauf gedrängt , die Verhandlung gleich vor dem Supreme Court fortzusetzen .', 'bert_sim': 0.6482109427452087, 'pseudword_sim': 0.6807868480682373, 'bert_euclidean': 18.415895462036133, 'pseudword_euclidean': 17.578062057495117, 'bert_manhattan': 406.93450927734375, 'pseudword_manhattan': 387.00115966796875}]\n",
      "\n",
      "[{'constr': 100, 'kelex': 'gleich', 'sentence': 'Die Zahl der \" Nutzer \" ist jedoch laut Regulierungsbehörde nicht gleich zu setzen mit der Zahl der Internetzugänge .', 'bert_sim': 0.44229528307914734, 'pseudword_sim': 0.5108426809310913, 'bert_euclidean': 24.343902587890625, 'pseudword_euclidean': 22.856876373291016, 'bert_manhattan': 507.1302795410156, 'pseudword_manhattan': 484.8934020996094}]\n",
      ":\n",
      "[{'constr': 100, 'kelex': 'gleich', 'sentence': 'Etwa gleich blieben die Anteile beim Online-Zugang über den Ausbildungsplatz ( 13,8 Prozent ) und über Internet-Cafes ( 13,7 Prozent ) .', 'bert_sim': 0.5531176924705505, 'pseudword_sim': 0.6488250494003296, 'bert_euclidean': 21.400136947631836, 'pseudword_euclidean': 19.02415657043457, 'bert_manhattan': 461.75384521484375, 'pseudword_manhattan': 407.179443359375}]\n",
      "\n",
      "[{'constr': 100, 'kelex': 'gleich', 'sentence': 'Mit dem SYM53C1030 hat LSI Logic einen Hostadapter-Chip angekündigt , der gleich zwei Ultra-320-SCSI-Kanäle an Bord hat .', 'bert_sim': 0.6649750471115112, 'pseudword_sim': 0.7243127822875977, 'bert_euclidean': 17.764577865600586, 'pseudword_euclidean': 16.148639678955078, 'bert_manhattan': 389.0354309082031, 'pseudword_manhattan': 360.8580627441406}]\n",
      "\n",
      "[{'constr': 100, 'kelex': 'gleich', 'sentence': 'Deswegen setzt LSI Logic gleich auf die nächste PCI-Generation und stattet den Chip mit einem PCI-X-Interface aus , das bei 133 MHz bis zu 1066 MByte/s übertragen kann .', 'bert_sim': 0.6519235968589783, 'pseudword_sim': 0.6813600063323975, 'bert_euclidean': 18.3655948638916, 'pseudword_euclidean': 17.607175827026367, 'bert_manhattan': 407.09991455078125, 'pseudword_manhattan': 384.5899963378906}]\n",
      "\n",
      "[{'constr': 100, 'kelex': 'gleich', 'sentence': 'Quantum und Fujitsu werden beispielsweise wahrscheinlich gleich den Schritt auf 40 GByte pro Scheibe machen und die 30er-Generation sozusagen überspringen .', 'bert_sim': 0.7128890752792358, 'pseudword_sim': 0.7096449732780457, 'bert_euclidean': 16.630985260009766, 'pseudword_euclidean': 16.75667381286621, 'bert_manhattan': 372.023193359375, 'pseudword_manhattan': 366.5356750488281}]\n",
      "\n",
      "[{'constr': 100, 'kelex': 'gleich', 'sentence': 'Das kommt einem kompletten Verkaufsverbot gleich , denn ohne den Hinweis , daß die Scheiben ins Zip-Drive passen , werden sie sich wohl schwerlich an den Mann bringen lassen .', 'bert_sim': 0.3585131764411926, 'pseudword_sim': 0.3820171058177948, 'bert_euclidean': 26.17245101928711, 'pseudword_euclidean': 25.738922119140625, 'bert_manhattan': 556.7534790039062, 'pseudword_manhattan': 549.3384399414062}]\n",
      ":\n",
      "[{'constr': 100, 'kelex': 'gleich', 'sentence': 'Die auf diese Weise ermittelten Daten wurden später per Hand in den Wahlserver eingetippt , und zwar gleich zweimal , um Flüchtigkeitsfehler zu vermeiden .', 'bert_sim': 0.5845794081687927, 'pseudword_sim': 0.6533422470092773, 'bert_euclidean': 20.288728713989258, 'pseudword_euclidean': 18.574888229370117, 'bert_manhattan': 445.2934875488281, 'pseudword_manhattan': 404.4179382324219}]\n",
      "\n",
      "[{'constr': 100, 'kelex': 'gleich', 'sentence': 'Er plädiert dafür , dass im Falle einer Fusion sämtliche Inhaltsbereiche in separate Firmen ausgegliedert oder gleich ganz verkauft werden .', 'bert_sim': 0.6272870302200317, 'pseudword_sim': 0.6695801019668579, 'bert_euclidean': 19.35991668701172, 'pseudword_euclidean': 18.26754379272461, 'bert_manhattan': 421.0810546875, 'pseudword_manhattan': 397.9748840332031}]\n",
      "\n",
      "[{'constr': 100, 'kelex': 'gleich', 'sentence': 'Anstatt jedoch wie die Konkurrenz niedliche Mecha-Spielzeuge zu bauen , gibt Fujitsu mit seinem humanoiden Läufer HOAP-1 ernsthaften Forschern ein Werkzeug an die Hand , mit dem sie sich einen Großteil der Konstruktion sparen und gleich zur \" Intelligenz \" übergehen können .', 'bert_sim': 0.6939295530319214, 'pseudword_sim': 0.7002230882644653, 'bert_euclidean': 17.124847412109375, 'pseudword_euclidean': 16.981430053710938, 'bert_manhattan': 381.5061950683594, 'pseudword_manhattan': 371.8388366699219}]\n",
      "\n",
      "[{'constr': 100, 'kelex': 'gleich', 'sentence': ' Geld machen zu Hause  brachte etwa keinen der gelben Würmer unter die Worte , während \" credit card \" gleich in vielen Variationen Ergebnisse lieferte ( siehe Bild ) .', 'bert_sim': 0.6778436303138733, 'pseudword_sim': 0.7060363292694092, 'bert_euclidean': 17.696945190429688, 'pseudword_euclidean': 16.93863296508789, 'bert_manhattan': 388.61932373046875, 'pseudword_manhattan': 374.34521484375}]\n",
      ":::\n",
      "[{'constr': 100, 'kelex': 'gleich', 'sentence': 'Die Studie stellt zwar weiterhin Web-Radios den \" normalen \" Radios gleich , die für die Ausstrahlung von Musik generell gebührenpflichtig sind .', 'bert_sim': 0.4362364709377289, 'pseudword_sim': 0.4633442759513855, 'bert_euclidean': 24.46625328063965, 'pseudword_euclidean': 23.918739318847656, 'bert_manhattan': 509.2482604980469, 'pseudword_manhattan': 503.2210693359375}]\n",
      "\n",
      "[{'constr': 100, 'kelex': 'gleich', 'sentence': 'Wolle man die revolutionäre Variante , so solle man lieber gleich fordern , dass alle Software mit Quelltext veröffentlicht werden muss , damit überall gleichermaßen einfach untersucht werden könne , ob eine Patentverletzung vorliegt .', 'bert_sim': 0.6924015283584595, 'pseudword_sim': 0.72107994556427, 'bert_euclidean': 17.200101852416992, 'pseudword_euclidean': 16.41163444519043, 'bert_manhattan': 380.1301574707031, 'pseudword_manhattan': 365.76617431640625}]\n",
      "\n",
      "[{'constr': 100, 'kelex': 'gleich', 'sentence': 'Einige Jahre nach dem Erscheinen von Myst und Riven sollen gleich zwei Spiele die Nachfolge der Erfolgstitel antreten .', 'bert_sim': 0.6379562616348267, 'pseudword_sim': 0.6496293544769287, 'bert_euclidean': 18.58557891845703, 'pseudword_euclidean': 18.320646286010742, 'bert_manhattan': 409.5999755859375, 'pseudword_manhattan': 400.8853454589844}]\n",
      "::\n",
      "[{'constr': 100, 'kelex': 'gleich', 'sentence': 'Die Terra/Lycos-Fusion kann vielleicht gleich auf einen neuen kompetenten Partner hoffen :', 'bert_sim': 0.6810171008110046, 'pseudword_sim': 0.6759741306304932, 'bert_euclidean': 17.60625457763672, 'pseudword_euclidean': 17.77815055847168, 'bert_manhattan': 395.8284912109375, 'pseudword_manhattan': 386.6759033203125}]\n",
      ":\n",
      "[{'constr': 100, 'kelex': 'gleich', 'sentence': 'Der billigeste Server von Sun dagegen kostet gleich über 2300 US-Dollar .', 'bert_sim': 0.6432047486305237, 'pseudword_sim': 0.670578122138977, 'bert_euclidean': 18.796533584594727, 'pseudword_euclidean': 18.097034454345703, 'bert_manhattan': 415.0836486816406, 'pseudword_manhattan': 395.7105407714844}]\n",
      "\n",
      "[{'constr': 100, 'kelex': 'gleich', 'sentence': 'Da NTT seinen 67-Prozent-Anteil an dem Mobilfunkunternehmen nicht verringern möchte , fehlen DoCoMo die Mittel , um interessante Unternehmen per Aktientausch gleich ganz zu übernehmen .', 'bert_sim': 0.6295031905174255, 'pseudword_sim': 0.6921582818031311, 'bert_euclidean': 19.11349868774414, 'pseudword_euclidean': 17.460914611816406, 'bert_manhattan': 420.06854248046875, 'pseudword_manhattan': 386.5675964355469}]\n",
      "\n",
      "[{'constr': 100, 'kelex': 'gleich', 'sentence': 'Unter Berücksichtigung des Aufschlags blieben Telefonate in ausländische Mobilfunknetze damit nahezu gleich teuer .', 'bert_sim': 0.560900866985321, 'pseudword_sim': 0.7316141724586487, 'bert_euclidean': 21.095115661621094, 'pseudword_euclidean': 16.55496597290039, 'bert_manhattan': 468.03875732421875, 'pseudword_manhattan': 354.5894470214844}]\n",
      ":\n",
      "[{'constr': 100, 'kelex': 'gleich', 'sentence': 'Würde die Telekom Debitel für noch weniger Geld Telefonminuten vermieten , könnten die Stuttgarter \" gleich eine Gelddruckmaschine anstellen \" , sagte Lissek .', 'bert_sim': 0.6973654627799988, 'pseudword_sim': 0.7101474404335022, 'bert_euclidean': 16.93285369873047, 'pseudword_euclidean': 16.60537338256836, 'bert_manhattan': 376.35614013671875, 'pseudword_manhattan': 369.15057373046875}]\n",
      "\n",
      "[{'constr': 100, 'kelex': 'gleich', 'sentence': 'Warum sollte man dann nicht gleich die 69 Mark zahlen und sich wenigstens noch ein wenig das Spektakel auf dem Hannoverschen Messegelände anschauen ?', 'bert_sim': 0.6228660941123962, 'pseudword_sim': 0.6274662017822266, 'bert_euclidean': 19.044300079345703, 'pseudword_euclidean': 18.965478897094727, 'bert_manhattan': 422.08782958984375, 'pseudword_manhattan': 421.8512878417969}]\n",
      "\n",
      "[{'constr': 100, 'kelex': 'gleich', 'sentence': 'Dazu besitzt das ATAPI-Laufwerk gleich zwei Laser-Dioden in seinem Pickup :', 'bert_sim': 0.6747033596038818, 'pseudword_sim': 0.7422961592674255, 'bert_euclidean': 17.485198974609375, 'pseudword_euclidean': 15.595760345458984, 'bert_manhattan': 389.2068786621094, 'pseudword_manhattan': 346.911865234375}]\n",
      "\n",
      "[{'constr': 100, 'kelex': 'gleich', 'sentence': 'Intel liefert ab Februar gleich zwei neue Mainboards mit dem i810E2 .', 'bert_sim': 0.6527742743492126, 'pseudword_sim': 0.6948924660682678, 'bert_euclidean': 18.159570693969727, 'pseudword_euclidean': 17.057830810546875, 'bert_manhattan': 398.3054504394531, 'pseudword_manhattan': 379.3387451171875}]\n",
      "\n",
      "[{'constr': 100, 'kelex': 'gleich', 'sentence': 'Stattdessen werden signifikante Ergebnisse unter den Teilnehmern gleich weitergeleitet , was die Forschungszeit noch weiter verkürzt .', 'bert_sim': 0.7035458087921143, 'pseudword_sim': 0.7333710193634033, 'bert_euclidean': 16.821510314941406, 'pseudword_euclidean': 15.985308647155762, 'bert_manhattan': 377.5094909667969, 'pseudword_manhattan': 352.4283752441406}]\n",
      "\n",
      "[{'constr': 100, 'kelex': 'gleich', 'sentence': 'Für per Netzwerk- und Breitbandkabel oder Satellit gelieferte Multimediadaten gibt es gleich zwei Schnittstellen , und zu guter Letzt ist auch ein kompletter 2D-Grafikchip mit 32-Bit-Farbverarbeitung eingebaut .', 'bert_sim': 0.6792700290679932, 'pseudword_sim': 0.7284376621246338, 'bert_euclidean': 17.385299682617188, 'pseudword_euclidean': 16.030826568603516, 'bert_manhattan': 381.7996826171875, 'pseudword_manhattan': 357.9704284667969}]\n",
      "\n",
      "[{'constr': 100, 'kelex': 'gleich', 'sentence': 'Dafür verlangt HP aber auch gleich satte 47 Prozent mehr Geld , nämlich 1249 US-Dollar .', 'bert_sim': 0.6565852165222168, 'pseudword_sim': 0.6686935424804688, 'bert_euclidean': 18.36768341064453, 'pseudword_euclidean': 18.07539939880371, 'bert_manhattan': 402.4461975097656, 'pseudword_manhattan': 394.1358337402344}]\n",
      "\n",
      "[{'constr': 100, 'kelex': 'gleich', 'sentence': 'Da dieser PC aufgrund der Legacy-Free-Architektur nur mit Windows 2000 ausgeliefert wird , steckt IBM gleich 128 MByte RAM hinein , während die Minimal-Ausstattung beim X40 64 MByte beträgt .', 'bert_sim': 0.6891962885856628, 'pseudword_sim': 0.7229247093200684, 'bert_euclidean': 17.13906478881836, 'pseudword_euclidean': 16.215980529785156, 'bert_manhattan': 382.3851623535156, 'pseudword_manhattan': 357.81732177734375}]\n",
      "\n",
      "[{'constr': 100, 'kelex': 'gleich', 'sentence': 'Das preiswerteste Modell mit 600-MHz-Pentium-III schlägt gleich mit 300 US-Dollar mehr zu Buche , kostet also insgesamt ungefähr 4550 Mark .', 'bert_sim': 0.6680021286010742, 'pseudword_sim': 0.6782568693161011, 'bert_euclidean': 18.030818939208984, 'pseudword_euclidean': 17.783973693847656, 'bert_manhattan': 402.33502197265625, 'pseudword_manhattan': 395.8370361328125}]\n",
      "\n",
      "[{'constr': 100, 'kelex': 'gleich', 'sentence': 'Der relativ günstige Preis erlaubt es , bei gestiegenen Hardwareanforderungen gleich komplett neue Geräte zu beschaffen .', 'bert_sim': 0.6769543886184692, 'pseudword_sim': 0.7531000375747681, 'bert_euclidean': 17.626989364624023, 'pseudword_euclidean': 15.443193435668945, 'bert_manhattan': 391.6031494140625, 'pseudword_manhattan': 349.0364074707031}]\n",
      "::\n",
      "[{'constr': 100, 'kelex': 'gleich', 'sentence': 'Ramtron hat sich von dem Infineon-Geld gleich einmal einen neuen Geschäftsführer geleistet :', 'bert_sim': 0.6112673878669739, 'pseudword_sim': 0.620692253112793, 'bert_euclidean': 19.49320411682129, 'pseudword_euclidean': 19.292753219604492, 'bert_manhattan': 431.8800048828125, 'pseudword_manhattan': 422.9723205566406}]\n",
      "\n",
      "[{'constr': 100, 'kelex': 'gleich', 'sentence': 'Damit liegt der gleich schnelle Xeon 1,7 GHz vor Prozessoren wie dem UltraSPARC III mit 900 MHz ( 427 ) und dem Alpha 21264A mit 866 MHz ( 571 ) , wobei diese beiden 64-Bit-Prozessoren in Teilbereichen allerdings deutlich mehr Leistung bieten .', 'bert_sim': 0.6015650033950806, 'pseudword_sim': 0.7372704148292542, 'bert_euclidean': 19.996044158935547, 'pseudword_euclidean': 16.289419174194336, 'bert_manhattan': 435.6241760253906, 'pseudword_manhattan': 355.4187927246094}]\n",
      "\n",
      "[{'constr': 100, 'kelex': 'gleich', 'sentence': 'Hewlett-Packard listet im Rahmen der Pavilion-Notebook-Baureihe gleich drei Modelle mit dem Athlon 4 mit 900 und 1000 MHz .', 'bert_sim': 0.6581727266311646, 'pseudword_sim': 0.6906247138977051, 'bert_euclidean': 18.068763732910156, 'pseudword_euclidean': 17.224811553955078, 'bert_manhattan': 395.7657470703125, 'pseudword_manhattan': 381.399658203125}]\n",
      "\n",
      "[{'constr': 100, 'kelex': 'gleich', 'sentence': 'Für den 2-GHz-Xeon verlangt Intel mit 615 US-Dollar nur 73 US-Dollar mehr als für einen gleich schnellen Pentium 4 .', 'bert_sim': 0.5737428069114685, 'pseudword_sim': 0.700981616973877, 'bert_euclidean': 20.795406341552734, 'pseudword_euclidean': 17.47277069091797, 'bert_manhattan': 454.28094482421875, 'pseudword_manhattan': 372.4169006347656}]\n",
      "\n",
      "[{'constr': 100, 'kelex': 'gleich', 'sentence': 'Von der Vorgängerversion VT82C693A unterscheidet sich der neue Baustein nur durch das AGP-4X-Interface ; alle anderen Eigenschaften , wie beispielsweise die Unterstützung von VC-SDRAM ( Virtual Channel SDRAM ) , bleiben gleich .', 'bert_sim': 0.6337283849716187, 'pseudword_sim': 0.732292652130127, 'bert_euclidean': 18.838361740112305, 'pseudword_euclidean': 16.141592025756836, 'bert_manhattan': 412.8208312988281, 'pseudword_manhattan': 354.1642761230469}]\n",
      "\n",
      "[{'constr': 100, 'kelex': 'gleich', 'sentence': 'Statt dessen wird das kommende \"Kansas\"-Design Motorolas G3-Prozessor verwenden , der dank direkt angebundenem Cache nach Pentium-Pro-Manier leistungsmäßig einem gleich schnell getakteten Pentium-II-System um bis zu 70% überlegen sein soll .', 'bert_sim': 0.5505759716033936, 'pseudword_sim': 0.6792822480201721, 'bert_euclidean': 21.4461727142334, 'pseudword_euclidean': 18.176454544067383, 'bert_manhattan': 465.6495666503906, 'pseudword_manhattan': 383.3133239746094}]\n",
      "\n",
      "[{'constr': 100, 'kelex': 'gleich', 'sentence': 'Wer über keinen Internet-Anschluß verfügt , kann seine Datenträger auch gleich im Fotoladen per PhotoNet-Order-Station ( Bild ) auslesen lassen .', 'bert_sim': 0.6614227890968323, 'pseudword_sim': 0.6555476188659668, 'bert_euclidean': 18.155546188354492, 'pseudword_euclidean': 18.34675407409668, 'bert_manhattan': 407.04736328125, 'pseudword_manhattan': 402.4940185546875}]\n",
      "::\n",
      "[{'constr': 100, 'kelex': 'gleich', 'sentence': 'Dabei bestehe aber die Gefahr , daß die Inhalte der Nachrichten gleich mit überprüft würden .', 'bert_sim': 0.6888032555580139, 'pseudword_sim': 0.7295119166374207, 'bert_euclidean': 17.425283432006836, 'pseudword_euclidean': 16.27912139892578, 'bert_manhattan': 387.9646911621094, 'pseudword_manhattan': 359.8871154785156}]\n",
      ":::\n",
      "[{'constr': 100, 'kelex': 'gleich', 'sentence': 'Um das Maß so richtig voll zu machen , packt IBM gleich vier solcher Power4-Chips , mithin 8 Prozessoren , auf ein Multi-Chip-Modul ( MCM ) zusammen .', 'bert_sim': 0.5740634202957153, 'pseudword_sim': 0.6236178874969482, 'bert_euclidean': 20.274280548095703, 'pseudword_euclidean': 19.097793579101562, 'bert_manhattan': 443.96337890625, 'pseudword_manhattan': 417.4676513671875}]\n",
      "\n",
      "[{'constr': 100, 'kelex': 'gleich', 'sentence': 'Von 3Dnow! nimmt der CX5 wieder Abschied , dafür wird er gleich zwei SSE-Einheiten aufweisen .', 'bert_sim': 0.6620322465896606, 'pseudword_sim': 0.7269715070724487, 'bert_euclidean': 17.828916549682617, 'pseudword_euclidean': 16.058523178100586, 'bert_manhattan': 397.45245361328125, 'pseudword_manhattan': 354.0567321777344}]\n",
      ":\n",
      "[{'constr': 100, 'kelex': 'gleich', 'sentence': 'Die beiden führenden US-Anbieter AMD und Intel lägen gleich auf , sagte Wagner .', 'bert_sim': 0.6568443775177002, 'pseudword_sim': 0.7664207220077515, 'bert_euclidean': 18.30162239074707, 'pseudword_euclidean': 15.136744499206543, 'bert_manhattan': 407.7640380859375, 'pseudword_manhattan': 335.17608642578125}]\n",
      "\n",
      "[{'constr': 100, 'kelex': 'gleich', 'sentence': 'Neben der \" Mastering Unit \" , welche die komponierten Werke gleich auf CD brennt , enthält das Paket die Light-Version von Steinbergs WaveLab zum Bearbeiten von WAV-Dateien .', 'bert_sim': 0.7007801532745361, 'pseudword_sim': 0.7472821474075317, 'bert_euclidean': 16.833467483520508, 'pseudword_euclidean': 15.502283096313477, 'bert_manhattan': 372.6306457519531, 'pseudword_manhattan': 340.59307861328125}]\n",
      "\n",
      "[{'constr': 100, 'kelex': 'gleich', 'sentence': 'Während in der ständig wachsenden Großstadt Los Angeles der Stromkonsum in den vergangenen sieben Jahren gleich hoch blieb , stieg er im Silicon Valley seit 1994 um sechs Prozent .', 'bert_sim': 0.5671663880348206, 'pseudword_sim': 0.7378226518630981, 'bert_euclidean': 20.956085205078125, 'pseudword_euclidean': 16.3736515045166, 'bert_manhattan': 459.3338317871094, 'pseudword_manhattan': 347.3063049316406}]\n",
      ":\n",
      "[{'constr': 100, 'kelex': 'gleich', 'sentence': 'Der 64-Bit-Prozessor mit der Typennummer 7500 soll demnach gleich mit 2 GHz Taktfrequenz starten .', 'bert_sim': 0.6976702213287354, 'pseudword_sim': 0.7428569793701172, 'bert_euclidean': 16.97410011291504, 'pseudword_euclidean': 15.68652629852295, 'bert_manhattan': 381.19549560546875, 'pseudword_manhattan': 349.9745178222656}]\n",
      "\n",
      "[{'constr': 100, 'kelex': 'gleich', 'sentence': '3DLabs Oxygen Premium weist nun gleich zwei ADC-Anschlüsse auf und dürfte damit höchsten Ansprüchen gerecht werden .', 'bert_sim': 0.6646924614906311, 'pseudword_sim': 0.7365126609802246, 'bert_euclidean': 17.793701171875, 'pseudword_euclidean': 15.806469917297363, 'bert_manhattan': 391.575927734375, 'pseudword_manhattan': 347.4044189453125}]\n",
      "\n",
      "[{'constr': 100, 'kelex': 'gleich', 'sentence': 'Wenn beispielsweise Buchbesprechungen in der elektronischen Ausgabe mit Links verknüpft würden , über die man die Bücher gleich bestellen könne , drohe die Möglichkeit , dass die Bücher möglicherweise positiver besprochen würden als sonst .', 'bert_sim': 0.6701114177703857, 'pseudword_sim': 0.6819984316825867, 'bert_euclidean': 17.848995208740234, 'pseudword_euclidean': 17.558895111083984, 'bert_manhattan': 391.78082275390625, 'pseudword_manhattan': 383.43536376953125}]\n",
      ":\n",
      "[{'constr': 100, 'kelex': 'gleich', 'sentence': '100hot Sites listet die Homepage von Mirabilis auf Platz 4 der meistbesuchten Websites , gleich hinter Yahoo , Netscape und Microsoft .', 'bert_sim': 0.6352483630180359, 'pseudword_sim': 0.6339932084083557, 'bert_euclidean': 19.053733825683594, 'pseudword_euclidean': 19.12070083618164, 'bert_manhattan': 427.7384948730469, 'pseudword_manhattan': 419.8858337402344}]\n",
      "\n",
      "[{'constr': 100, 'kelex': 'gleich', 'sentence': 'Der Verkaufspreis soll dem der Windows-Version entsprechen , die verwendeten Algorithmen seien gleich .', 'bert_sim': 0.6597689986228943, 'pseudword_sim': 0.77046138048172, 'bert_euclidean': 18.117544174194336, 'pseudword_euclidean': 14.91533088684082, 'bert_manhattan': 395.19952392578125, 'pseudword_manhattan': 331.6733093261719}]\n",
      ":\n",
      "[{'constr': 100, 'kelex': 'gleich', 'sentence': 'Eine pauschale Copyright-Abgabe für digitale Produkte komme einer Sonderbesteuerung gleich , sagte der Sprecher der Initiative , Norbert Eder .', 'bert_sim': 0.40820592641830444, 'pseudword_sim': 0.4549925923347473, 'bert_euclidean': 24.895435333251953, 'pseudword_euclidean': 23.942832946777344, 'bert_manhattan': 525.28662109375, 'pseudword_manhattan': 508.9095153808594}]\n",
      "\n",
      "[{'constr': 100, 'kelex': 'gleich', 'sentence': 'Dennoch seien Empfehlungen ergangen , die Preise in den ersten Tagen nicht gleich so weit zu senken .', 'bert_sim': 0.6072002053260803, 'pseudword_sim': 0.688880205154419, 'bert_euclidean': 19.701698303222656, 'pseudword_euclidean': 17.574716567993164, 'bert_manhattan': 424.9563903808594, 'pseudword_manhattan': 385.47369384765625}]\n",
      ":\n",
      "[{'constr': 100, 'kelex': 'gleich', 'sentence': 'Wegen eines Computerfehlers erhielten die beiden Betreiber einer Rolladenfirma 800 gleich lautende Mahnbriefe der Telekom .', 'bert_sim': 0.608098566532135, 'pseudword_sim': 0.7111611366271973, 'bert_euclidean': 19.570974349975586, 'pseudword_euclidean': 16.840776443481445, 'bert_manhattan': 426.9567565917969, 'pseudword_manhattan': 367.00732421875}]\n",
      "\n",
      "[{'constr': 100, 'kelex': 'gleich', 'sentence': 'Sie wäre gehalten , alle Softwareentwickler im Hinblick auf Lizenzierung und Zugang zu technischen Informationen gleich zu behandeln .', 'bert_sim': 0.5991159081459045, 'pseudword_sim': 0.6933950781822205, 'bert_euclidean': 20.146150588989258, 'pseudword_euclidean': 17.667667388916016, 'bert_manhattan': 440.8185119628906, 'pseudword_manhattan': 383.7018127441406}]\n",
      "\n",
      "[{'constr': 100, 'kelex': 'gleich', 'sentence': 'Die Preise für Ortsgespräche sind nur um 0,7 % gesunken , während die Anschluss- und Grundgebühren gleich blieben .', 'bert_sim': 0.6063589453697205, 'pseudword_sim': 0.7145074605941772, 'bert_euclidean': 19.657306671142578, 'pseudword_euclidean': 16.78106117248535, 'bert_manhattan': 424.2320861816406, 'pseudword_manhattan': 361.9954528808594}]\n",
      "\n",
      "[{'constr': 100, 'kelex': 'gleich', 'sentence': 'Hier trumpfte vor allem Black & White mit gleich sechs Awards für das beste PC-Spiel auf .', 'bert_sim': 0.6223825216293335, 'pseudword_sim': 0.6344293355941772, 'bert_euclidean': 19.327486038208008, 'pseudword_euclidean': 19.052888870239258, 'bert_manhattan': 426.33526611328125, 'pseudword_manhattan': 417.7397766113281}]\n",
      "\n",
      "[{'constr': 100, 'kelex': 'gleich', 'sentence': ' Selbstgebrannt bedeutet nicht gleich strafbar  , sagt er .', 'bert_sim': 0.6046470403671265, 'pseudword_sim': 0.6814124584197998, 'bert_euclidean': 19.907752990722656, 'pseudword_euclidean': 17.91431999206543, 'bert_manhattan': 426.2725830078125, 'pseudword_manhattan': 394.17938232421875}]\n",
      "::\n",
      "[{'constr': 100, 'kelex': 'gleich', 'sentence': 'OpenOffice lädt alle Interessierten ein , an dem Projekt mitzuwirken und Fehler in der Software aufspüren - ganz gleich , ob Programmierer oder Anwender .', 'bert_sim': 0.46200746297836304, 'pseudword_sim': 0.5197391510009766, 'bert_euclidean': 23.737918853759766, 'pseudword_euclidean': 22.480520248413086, 'bert_manhattan': 497.589599609375, 'pseudword_manhattan': 485.2278747558594}]\n",
      ":\n",
      "[{'constr': 100, 'kelex': 'gleich', 'sentence': 'Demzufolge rechnet man bei Cisco damit , dass der Umsatz gegenüber dem vierten Quartal gleich bleibt oder um höchstens 5 Prozent zurückgeht .', 'bert_sim': 0.6073322892189026, 'pseudword_sim': 0.7128698229789734, 'bert_euclidean': 19.63751220703125, 'pseudword_euclidean': 16.83285903930664, 'bert_manhattan': 426.3547058105469, 'pseudword_manhattan': 372.8529968261719}]\n",
      "\n",
      "[{'constr': 100, 'kelex': 'gleich', 'sentence': 'Das jetzt noch benutzte kleinere Modem vor dem Telefon oder Laptop könne künftig gleich in die Endgeräte eingebaut werden .', 'bert_sim': 0.7076401710510254, 'pseudword_sim': 0.7321905493736267, 'bert_euclidean': 16.762577056884766, 'pseudword_euclidean': 16.075420379638672, 'bert_manhattan': 374.8603210449219, 'pseudword_manhattan': 352.9270324707031}]\n",
      "\n",
      "[{'constr': 100, 'kelex': 'gleich', 'sentence': 'Das italienische Unternehmen gibt damit den Verfechtern der Powerline-Technik neuen Auftrieb , nachdem sich im Herbst letzten Jahres mit Nortel und BeWag gleich zwei Pioniere des 230-Volt-Surfens aus der Entwicklung zurückgezogen haben .', 'bert_sim': 0.48521122336387634, 'pseudword_sim': 0.5428104400634766, 'bert_euclidean': 22.670522689819336, 'pseudword_euclidean': 21.41006088256836, 'bert_manhattan': 495.6104431152344, 'pseudword_manhattan': 462.7471618652344}]\n",
      "\n",
      "[{'constr': 100, 'kelex': 'gleich', 'sentence': 'Die Gebühren beziehen sich auf eine Gesprächsminute und werden üblicherweise zwischen den beiden Firmen gleich aufgeteilt .', 'bert_sim': 0.643602728843689, 'pseudword_sim': 0.7571589350700378, 'bert_euclidean': 18.684627532958984, 'pseudword_euclidean': 15.462333679199219, 'bert_manhattan': 415.76483154296875, 'pseudword_manhattan': 340.361083984375}]\n",
      "\n",
      "[{'constr': 100, 'kelex': 'gleich', 'sentence': 'Nach dem heise online vorliegenden Beschluss listet die Behörde gleich mehrere Gründe für ihre Ablehnung auf .', 'bert_sim': 0.6528332829475403, 'pseudword_sim': 0.7137923240661621, 'bert_euclidean': 18.16961669921875, 'pseudword_euclidean': 16.531831741333008, 'bert_manhattan': 402.2779846191406, 'pseudword_manhattan': 365.95361328125}]\n",
      ":\n",
      "[{'constr': 100, 'kelex': 'gleich', 'sentence': 'Symmetrische Anwendungen , die also in beiden Richtungen gleich hohen Kapazitätsbedarf haben , können je Richtung zwei Kanäle mit maximal 28,8 kBit/s nutzen .', 'bert_sim': 0.5660412907600403, 'pseudword_sim': 0.7125891447067261, 'bert_euclidean': 20.82903480529785, 'pseudword_euclidean': 17.001943588256836, 'bert_manhattan': 452.81658935546875, 'pseudword_manhattan': 371.938720703125}]\n",
      "\n",
      "[{'constr': 100, 'kelex': 'gleich', 'sentence': 'SDSL befördert Daten anders als ADSL in beiden Richtungen gleich schnell .', 'bert_sim': 0.5982740521430969, 'pseudword_sim': 0.7714856266975403, 'bert_euclidean': 20.010887145996094, 'pseudword_euclidean': 15.145683288574219, 'bert_manhattan': 442.8157958984375, 'pseudword_manhattan': 335.64202880859375}]\n",
      "\n",
      "[{'constr': 100, 'kelex': 'gleich', 'sentence': 'Andere deutsche Mobilnetzbetreiber wollen HSCSD gar nicht anbieten , sondern gleich mit dem sogenannten General Packet Radio Service starten , das E-Plus ebenfalls anbieten will .', 'bert_sim': 0.6939103007316589, 'pseudword_sim': 0.7007930874824524, 'bert_euclidean': 17.148405075073242, 'pseudword_euclidean': 16.987850189208984, 'bert_manhattan': 379.2415771484375, 'pseudword_manhattan': 372.59466552734375}]\n",
      "\n",
      "[{'constr': 100, 'kelex': 'gleich', 'sentence': 'SDSL liefert in beiden Richtungen gleich hohe Geschwindigkeit und erreicht bis zu 2,3 MBit/s .', 'bert_sim': 0.6022876501083374, 'pseudword_sim': 0.7578213810920715, 'bert_euclidean': 19.785953521728516, 'pseudword_euclidean': 15.483877182006836, 'bert_manhattan': 436.8172912597656, 'pseudword_manhattan': 341.42327880859375}]\n",
      "\n",
      "[{'constr': 100, 'kelex': 'gleich', 'sentence': 'Als einziger Hersteller können die Amerikaner wie gemeldet gleich fünf GPRS-Geräte anbieten - mit dem ersten waren sie schon 2000 auf der CeBIT .', 'bert_sim': 0.6330005526542664, 'pseudword_sim': 0.6825750470161438, 'bert_euclidean': 18.703615188598633, 'pseudword_euclidean': 17.430572509765625, 'bert_manhattan': 413.3719482421875, 'pseudword_manhattan': 386.4707336425781}]\n",
      "\n",
      "[{'constr': 100, 'kelex': 'gleich', 'sentence': 'Unter den zahlreichen Bietern war das Unternehmen aber gleich in der ersten Runde ausgeschieden .', 'bert_sim': 0.6115776300430298, 'pseudword_sim': 0.621350884437561, 'bert_euclidean': 19.634910583496094, 'pseudword_euclidean': 19.422887802124023, 'bert_manhattan': 442.15155029296875, 'pseudword_manhattan': 429.82476806640625}]\n",
      "\n",
      "[{'constr': 100, 'kelex': 'gleich', 'sentence': 'Dabei handelte es sich oft aber keineswegs gleich um konkrete Hilfe .', 'bert_sim': 0.5843827724456787, 'pseudword_sim': 0.6707181930541992, 'bert_euclidean': 20.393129348754883, 'pseudword_euclidean': 18.196430206298828, 'bert_manhattan': 450.5367126464844, 'pseudword_manhattan': 403.808837890625}]\n",
      "\n",
      "[{'constr': 100, 'kelex': 'gleich', 'sentence': 'Es gab gleich um 5 Dollar nach und schloss bei 51,50 Dollar .', 'bert_sim': 0.6525741219520569, 'pseudword_sim': 0.6546556949615479, 'bert_euclidean': 18.47574234008789, 'pseudword_euclidean': 18.45460319519043, 'bert_manhattan': 410.531494140625, 'pseudword_manhattan': 412.4499206542969}]\n",
      "\n",
      "[{'constr': 100, 'kelex': 'gleich', 'sentence': 'Für das heute angesetzte Viertelfinale haben sich in der Königsklasse der mittelgroßen Roboter gleich drei Teams aus Deutschland qualifiziert :', 'bert_sim': 0.5561965703964233, 'pseudword_sim': 0.601463794708252, 'bert_euclidean': 20.929712295532227, 'pseudword_euclidean': 19.8746280670166, 'bert_manhattan': 458.0947265625, 'pseudword_manhattan': 436.4007263183594}]\n",
      "\n",
      "[{'constr': 100, 'kelex': 'gleich', 'sentence': 'Der Verbraucherschutzverein Berlin wirft AOL in 19 Punkten Verstöße gegen das Vertragsrecht sowie den Daten- und Kündigungsschutz vor und schickt die Abmahnung gleich hinterher .', 'bert_sim': 0.6873846054077148, 'pseudword_sim': 0.6841237545013428, 'bert_euclidean': 17.380455017089844, 'pseudword_euclidean': 17.50428009033203, 'bert_manhattan': 387.94989013671875, 'pseudword_manhattan': 385.1576232910156}]\n",
      "\n",
      "[{'constr': 100, 'kelex': 'gleich', 'sentence': 'Für alle stehen die Chancen , die gewünschten Domains zu bekommen , gleich .', 'bert_sim': 0.5940061807632446, 'pseudword_sim': 0.6555795073509216, 'bert_euclidean': 20.359439849853516, 'pseudword_euclidean': 18.797725677490234, 'bert_manhattan': 438.3158874511719, 'pseudword_manhattan': 410.5729064941406}]\n",
      "\n",
      "[{'constr': 100, 'kelex': 'gleich', 'sentence': 'Wie viel Zeit- und Kosten sich einsparen ließen , wenn man von vornherein gleich ganz auf Windows verzichtet hätte , verrät die Studie übrigens nicht .', 'bert_sim': 0.6358616948127747, 'pseudword_sim': 0.6981975436210632, 'bert_euclidean': 18.90760040283203, 'pseudword_euclidean': 17.25080680847168, 'bert_manhattan': 419.3260498046875, 'pseudword_manhattan': 381.0417175292969}]\n",
      "\n",
      "[{'constr': 100, 'kelex': 'gleich', 'sentence': 'In einer Pressekonferenz zerstreute Gates mittlerweile Befürchtungen , die Berufung Ballmers komme einem schrittweisen Rücktritt gleich .', 'bert_sim': 0.3738552927970886, 'pseudword_sim': 0.41356340050697327, 'bert_euclidean': 25.728845596313477, 'pseudword_euclidean': 24.952144622802734, 'bert_manhattan': 538.4113159179688, 'pseudword_manhattan': 528.8099975585938}]\n",
      ":::\n",
      "[{'constr': 100, 'kelex': 'gleich', 'sentence': 'Feiert der Nachbar dann zu laut , ließe er sich gleich online verklagen .', 'bert_sim': 0.6384994387626648, 'pseudword_sim': 0.6516868472099304, 'bert_euclidean': 18.667736053466797, 'pseudword_euclidean': 18.360511779785156, 'bert_manhattan': 409.3686828613281, 'pseudword_manhattan': 405.5262451171875}]\n",
      "\n",
      "[{'constr': 100, 'kelex': 'gleich', 'sentence': 'Bei in etwa gleich gebliebenem Umsatz ( 6,83 Milliarden Dollar ) konnte der Elektronikkonzern nur noch 326 Millionen Dollar auf der Gewinnseite verbuchen .', 'bert_sim': 0.505314290523529, 'pseudword_sim': 0.6069983839988708, 'bert_euclidean': 22.43121337890625, 'pseudword_euclidean': 20.045583724975586, 'bert_manhattan': 482.6212158203125, 'pseudword_manhattan': 430.8630676269531}]\n",
      "\n",
      "[{'constr': 100, 'kelex': 'gleich', 'sentence': 'Hinzu komme der noch einmal gleich große Bedarf der Anwenderbranchen .', 'bert_sim': 0.6033018827438354, 'pseudword_sim': 0.6979414820671082, 'bert_euclidean': 19.892396926879883, 'pseudword_euclidean': 17.40228843688965, 'bert_manhattan': 436.86041259765625, 'pseudword_manhattan': 385.6396789550781}]\n",
      ":::\n",
      "[{'constr': 100, 'kelex': 'gleich', 'sentence': 'Und natürlich stiegen nach Ankündigung des Erfolgs für den voraussichtlichen Sieger im Wettlauf um die Entschlüsselung des menschlichen Genoms gleich einmal die Aktien des Unternehmens um 50 Prozent .', 'bert_sim': 0.5873748660087585, 'pseudword_sim': 0.6081011891365051, 'bert_euclidean': 20.203336715698242, 'pseudword_euclidean': 19.72795867919922, 'bert_manhattan': 445.552490234375, 'pseudword_manhattan': 435.9407653808594}]\n",
      ":\n",
      "[{'constr': 100, 'kelex': 'gleich', 'sentence': 'Online-Wahlen hingegen , bei denen die Bürger praktisch von allen Computern , gleich ob sie zu Hause oder in der Arbeit stehen , wählen können , stellen für das Komitee noch ein erhebliches Risiko dar .', 'bert_sim': 0.3964241147041321, 'pseudword_sim': 0.42577043175697327, 'bert_euclidean': 25.49376678466797, 'pseudword_euclidean': 24.917037963867188, 'bert_manhattan': 529.430908203125, 'pseudword_manhattan': 530.1636352539062}]\n",
      ":\n",
      "[{'constr': 100, 'kelex': 'gleich', 'sentence': ' Das käme ja dem Abhören von Telefongesprächen gleich und dafür fehlt im Internet jede gesetzliche Grundlage  , verteidigt Willebrand das geplante Produkt .', 'bert_sim': 0.42877206206321716, 'pseudword_sim': 0.4588563144207001, 'bert_euclidean': 24.629287719726562, 'pseudword_euclidean': 24.02086639404297, 'bert_manhattan': 518.4015502929688, 'pseudword_manhattan': 513.9459228515625}]\n",
      "\n",
      "[{'constr': 100, 'kelex': 'gleich', 'sentence': 'Die Virtualisierung der Bildung erleichtert so auch den Zugang zu Informationen , die man für eigene Arbeiten heranziehen oder auch gleich kopieren kann .', 'bert_sim': 0.6657952070236206, 'pseudword_sim': 0.6763659119606018, 'bert_euclidean': 18.07232093811035, 'pseudword_euclidean': 17.818265914916992, 'bert_manhattan': 400.9831237792969, 'pseudword_manhattan': 389.91314697265625}]\n",
      "\n",
      "[{'constr': 100, 'kelex': 'gleich', 'sentence': 'Das waschbare Hemd kann überall und jederzeit getragen werden , gleich ob man sich in der Arbeit befindet , irgendwelchen Vergnügungen nachgeht oder im Bett schläft .', 'bert_sim': 0.46404507756233215, 'pseudword_sim': 0.5063042640686035, 'bert_euclidean': 23.78555679321289, 'pseudword_euclidean': 22.87861442565918, 'bert_manhattan': 511.5235290527344, 'pseudword_manhattan': 492.96148681640625}]\n",
      "\n",
      "[{'constr': 100, 'kelex': 'gleich', 'sentence': 'Peter van Roste , ein Vertreter des Verbands der Europäischen Internetprovider , sieht die Netzwirtschaft gleich doppelt betroffen von den Plänen der Kommission :', 'bert_sim': 0.5718796849250793, 'pseudword_sim': 0.7158994078636169, 'bert_euclidean': 20.608177185058594, 'pseudword_euclidean': 16.83479118347168, 'bert_manhattan': 452.10748291015625, 'pseudword_manhattan': 371.9671630859375}]\n",
      "::\n",
      "[{'constr': 100, 'kelex': 'gleich', 'sentence': 'Sollte die Klägerin in dem Prozeß Recht bekommen , warnt er , käme dies \" einem Maulkorb fürs Internet \" gleich .', 'bert_sim': 0.4959888458251953, 'pseudword_sim': 0.5041086077690125, 'bert_euclidean': 22.643932342529297, 'pseudword_euclidean': 22.502635955810547, 'bert_manhattan': 490.5086975097656, 'pseudword_manhattan': 491.71343994140625}]\n",
      ":\n",
      "[{'constr': 100, 'kelex': 'gleich', 'sentence': 'Kosten sollen sie im übrigen gleich viel wie die echten Models .', 'bert_sim': 0.5359095335006714, 'pseudword_sim': 0.6859877109527588, 'bert_euclidean': 21.93486976623535, 'pseudword_euclidean': 18.114805221557617, 'bert_manhattan': 473.5958251953125, 'pseudword_manhattan': 391.8424377441406}]\n",
      "\n",
      "[{'constr': 100, 'kelex': 'gleich', 'sentence': 'In Polen könnte es demnächst gleich zu zwei sehr verschiedenartigen Streiks kommen .', 'bert_sim': 0.6606897711753845, 'pseudword_sim': 0.6822103261947632, 'bert_euclidean': 18.16643524169922, 'pseudword_euclidean': 17.61561393737793, 'bert_manhattan': 399.72955322265625, 'pseudword_manhattan': 388.4453430175781}]\n",
      "\n",
      "[{'constr': 100, 'kelex': 'gleich', 'sentence': 'Kritiker sprangen jedoch gleich herbei und verdammten die Idee , weil sie nur eine neue Bürokratie entstehen lassen würde , während doch der freie Markt das viel besser und effektiver könne .', 'bert_sim': 0.6864665746688843, 'pseudword_sim': 0.6863340735435486, 'bert_euclidean': 17.36037254333496, 'pseudword_euclidean': 17.397966384887695, 'bert_manhattan': 387.8515930175781, 'pseudword_manhattan': 384.4425048828125}]\n",
      "\n",
      "[{'constr': 100, 'kelex': 'gleich', 'sentence': 'Aber daß ein Polizei-Offizier gleich 350 Menschen festnehmen würde , war wohl nicht vorgesehen und zeugt von der Überreaktion der Polizei .', 'bert_sim': 0.6853389739990234, 'pseudword_sim': 0.6962652802467346, 'bert_euclidean': 17.49958038330078, 'pseudword_euclidean': 17.226106643676758, 'bert_manhattan': 389.1474304199219, 'pseudword_manhattan': 377.5162048339844}]\n",
      "\n",
      "[{'constr': 100, 'kelex': 'gleich', 'sentence': 'Parität steht für die Spiegelsymmetrie , das heißt ein Prozess und sein Spiegelbild sind gleich wahrscheinlich .', 'bert_sim': 0.6839253902435303, 'pseudword_sim': 0.8006433248519897, 'bert_euclidean': 17.520435333251953, 'pseudword_euclidean': 13.94946575164795, 'bert_manhattan': 392.1006164550781, 'pseudword_manhattan': 308.55364990234375}]\n",
      ":\n",
      "[{'constr': 100, 'kelex': 'gleich', 'sentence': 'Also sperrt man gleich einmal den Account .', 'bert_sim': 0.6584142446517944, 'pseudword_sim': 0.6626961827278137, 'bert_euclidean': 18.061967849731445, 'pseudword_euclidean': 17.984514236450195, 'bert_manhattan': 397.3800048828125, 'pseudword_manhattan': 393.61865234375}]\n",
      ":\n",
      "[{'constr': 100, 'kelex': 'gleich', 'sentence': 'In Zukunft sollen die kreditgebenden Institute , über die die bargeldlosen Transaktionen ablaufen , die Steuern gleich auf die Preise für die digitalen Produkte draufschlagen , so die Japan Times , damit die Steuern an die Regierungen der Käuferländer ausgezahlt werden können .', 'bert_sim': 0.6645028591156006, 'pseudword_sim': 0.6882045865058899, 'bert_euclidean': 18.057762145996094, 'pseudword_euclidean': 17.442737579345703, 'bert_manhattan': 404.51544189453125, 'pseudword_manhattan': 386.32159423828125}]\n",
      "\n",
      "[{'constr': 100, 'kelex': 'gleich', 'sentence': 'Broomé setzt die gemessenen Alpha- und Theta-Wellen mit Hirnaktivität und emotionaler Erregung gleich .', 'bert_sim': 0.4499690532684326, 'pseudword_sim': 0.46365129947662354, 'bert_euclidean': 24.2667293548584, 'pseudword_euclidean': 24.00725555419922, 'bert_manhattan': 503.91668701171875, 'pseudword_manhattan': 509.71722412109375}]\n",
      "\n",
      "[{'constr': 100, 'kelex': 'gleich', 'sentence': 'Manche Leute müssen aber immer gleich übertreiben .', 'bert_sim': 0.7043972611427307, 'pseudword_sim': 0.7526999711990356, 'bert_euclidean': 16.80251121520996, 'pseudword_euclidean': 15.400205612182617, 'bert_manhattan': 366.88922119140625, 'pseudword_manhattan': 339.39117431640625}]\n",
      "\n",
      "[{'constr': 100, 'kelex': 'gleich', 'sentence': 'Außerdem hatte Mitnick noch seinen Gefängnisausweis angeboten , was eBay aber offenbar zu heiß wurde , weswegen man diese Auktion gleich vom Netz genommen hat .', 'bert_sim': 0.674462080001831, 'pseudword_sim': 0.6781514883041382, 'bert_euclidean': 17.709243774414062, 'pseudword_euclidean': 17.643041610717773, 'bert_manhattan': 394.4848937988281, 'pseudword_manhattan': 383.66448974609375}]\n",
      "::\n",
      "[{'constr': 100, 'kelex': 'gleich', 'sentence': \"Zwei weitere Auszeichnungen gab 's dann neben dem FSF Award auch gleich noch :\", 'bert_sim': 0.6049295663833618, 'pseudword_sim': 0.62278813123703, 'bert_euclidean': 19.792438507080078, 'pseudword_euclidean': 19.377363204956055, 'bert_manhattan': 434.73681640625, 'pseudword_manhattan': 426.3095397949219}]\n",
      "\n",
      "[{'constr': 100, 'kelex': 'gleich', 'sentence': 'Nach den Abkommen mit Hutchison und Cable & Wireless Optus kann Nokia gleich drei weitere Großaufträge für die Mobilfunknetze der dritten Generation an Land ziehen .', 'bert_sim': 0.6263182759284973, 'pseudword_sim': 0.653796374797821, 'bert_euclidean': 18.9335880279541, 'pseudword_euclidean': 18.261201858520508, 'bert_manhattan': 422.3580017089844, 'pseudword_manhattan': 407.73077392578125}]\n",
      ":::::\n",
      "[{'constr': 100, 'kelex': 'gleich', 'sentence': 'Denn man weiß ja nie , ob nicht selbst ernannte Internet-Säuberer gleich die Zerstörung des Rechners fordern , mit dem die Mail empfangen wurde .', 'bert_sim': 0.6347646117210388, 'pseudword_sim': 0.6446042060852051, 'bert_euclidean': 18.84769058227539, 'pseudword_euclidean': 18.62826919555664, 'bert_manhattan': 418.58782958984375, 'pseudword_manhattan': 405.78857421875}]\n",
      ":::\n",
      "[{'constr': 100, 'kelex': 'gleich', 'sentence': ' Das käme eigentlich einem Verrat gleich , da der Geheimdienst dann Hintertüren hätte einbauen können  , fürchtet Schmid .', 'bert_sim': 0.3957522213459015, 'pseudword_sim': 0.4337490200996399, 'bert_euclidean': 25.18804168701172, 'pseudword_euclidean': 24.434125900268555, 'bert_manhattan': 541.463134765625, 'pseudword_manhattan': 526.3286743164062}]\n",
      ":\n",
      "[{'constr': 100, 'kelex': 'gleich', 'sentence': 'Dabei will AT&T gleich GPRS mit etablieren , um schnellere Datentransfers über Mobilfunk zu ermöglichen .', 'bert_sim': 0.6998183727264404, 'pseudword_sim': 0.7113774418830872, 'bert_euclidean': 16.915857315063477, 'pseudword_euclidean': 16.620372772216797, 'bert_manhattan': 375.6751403808594, 'pseudword_manhattan': 368.7681579589844}]\n",
      "\n",
      "[{'constr': 100, 'kelex': 'gleich', 'sentence': 'Die Ritter der Virtualität satteln ihre Rosse und reiten in Hannover ein , um sich ganz real gleich über eine Woche oder mehrmals im Jahr zu treffen ?', 'bert_sim': 0.648811399936676, 'pseudword_sim': 0.6827940940856934, 'bert_euclidean': 18.493637084960938, 'pseudword_euclidean': 17.611637115478516, 'bert_manhattan': 404.02880859375, 'pseudword_manhattan': 383.8235778808594}]\n",
      "\n",
      "[{'constr': 100, 'kelex': 'gleich', 'sentence': 'In der letzten Woche konnte Corbis gleich drei Neuzugänge melden :', 'bert_sim': 0.6605973839759827, 'pseudword_sim': 0.6912835836410522, 'bert_euclidean': 17.932659149169922, 'pseudword_euclidean': 17.138174057006836, 'bert_manhattan': 398.0295715332031, 'pseudword_manhattan': 384.2294616699219}]\n",
      ":::\n",
      "[{'constr': 100, 'kelex': 'gleich', 'sentence': 'Wählen konnten die Jugendlichen bislang nur zwischen Bush und Gore , Ralph Nader ließ man praktischerweise gleich weg .', 'bert_sim': 0.6963092088699341, 'pseudword_sim': 0.7497698664665222, 'bert_euclidean': 16.95903968811035, 'pseudword_euclidean': 15.426132202148438, 'bert_manhattan': 376.3525085449219, 'pseudword_manhattan': 341.87908935546875}]\n",
      ":\n",
      "[{'constr': 100, 'kelex': 'gleich', 'sentence': 'Eine wiederaufladbare Batterie einschließlich Ladegerät will Panasonic gleich mitliefern .', 'bert_sim': 0.7134776711463928, 'pseudword_sim': 0.7107318639755249, 'bert_euclidean': 16.502092361450195, 'pseudword_euclidean': 16.61432456970215, 'bert_manhattan': 369.7587585449219, 'pseudword_manhattan': 369.3634033203125}]\n",
      ":::\n",
      "[{'constr': 100, 'kelex': 'gleich', 'sentence': 'Ein Beispiel für dafür lieferte Gastgeber Alcatel gleich mit :', 'bert_sim': 0.6884503364562988, 'pseudword_sim': 0.6888551115989685, 'bert_euclidean': 17.462066650390625, 'pseudword_euclidean': 17.48291015625, 'bert_manhattan': 388.7518310546875, 'pseudword_manhattan': 388.7145690917969}]\n",
      ":\n",
      "[{'constr': 100, 'kelex': 'gleich', 'sentence': 'Damals dachte noch niemand an gleich lautende Fernsehsendungen .', 'bert_sim': 0.6707303524017334, 'pseudword_sim': 0.746100127696991, 'bert_euclidean': 17.752349853515625, 'pseudword_euclidean': 15.621719360351562, 'bert_manhattan': 394.7392883300781, 'pseudword_manhattan': 342.88873291015625}]\n",
      "\n",
      "[{'constr': 100, 'kelex': 'gleich', 'sentence': 'Der PC-Hersteller erzielte mit 0,9 Prozent Zuwachs ein nahezu gleich gebliebenes Ergebnis .', 'bert_sim': 0.4957059919834137, 'pseudword_sim': 0.6292083859443665, 'bert_euclidean': 22.583736419677734, 'pseudword_euclidean': 19.419382095336914, 'bert_manhattan': 489.9085388183594, 'pseudword_manhattan': 417.802734375}]\n",
      "::\n",
      "[{'constr': 100, 'kelex': 'gleich', 'sentence': 'Die Schnittstellen von VB-Script nutzen diverse Anwendungsprogrammierer , auf allen Windows-Systemen sind sie gleich .', 'bert_sim': 0.6426191329956055, 'pseudword_sim': 0.7560227513313293, 'bert_euclidean': 18.668928146362305, 'pseudword_euclidean': 15.46273136138916, 'bert_manhattan': 406.668701171875, 'pseudword_manhattan': 340.50604248046875}]\n",
      "\n",
      "[{'constr': 100, 'kelex': 'gleich', 'sentence': 'Da freut sich natürlich auch der Viren-Entwickler - ob deshalb einheitliche APIs und Skript-Sprachen gleich des Teufels sind , wage ich doch sehr in Zweifel zu ziehen .', 'bert_sim': 0.6545547246932983, 'pseudword_sim': 0.7144618630409241, 'bert_euclidean': 18.341930389404297, 'pseudword_euclidean': 16.711427688598633, 'bert_manhattan': 400.8827209472656, 'pseudword_manhattan': 360.54058837890625}]\n",
      "\n",
      "[{'constr': 100, 'kelex': 'gleich', 'sentence': ' Jeder über 18 Jahre sollte eine Bürgerabgabe für den öffentlich-rechtlichen Rundfunk bezahlen , gleich ob er einen Fernseher oder PC hat  , erklärte Otto .', 'bert_sim': 0.46531420946121216, 'pseudword_sim': 0.509466826915741, 'bert_euclidean': 23.69399642944336, 'pseudword_euclidean': 22.74444007873535, 'bert_manhattan': 511.20404052734375, 'pseudword_manhattan': 493.7215576171875}]\n",
      "\n",
      "[{'constr': 100, 'kelex': 'gleich', 'sentence': 'MSI Microstar stellt gleich drei Mainboards mit VIAs neuem Chipsatz KT133 vor .', 'bert_sim': 0.6641470193862915, 'pseudword_sim': 0.6891144514083862, 'bert_euclidean': 17.9231014251709, 'pseudword_euclidean': 17.279006958007812, 'bert_manhattan': 395.5235900878906, 'pseudword_manhattan': 384.6273498535156}]\n",
      "\n",
      "[{'constr': 100, 'kelex': 'gleich', 'sentence': '50.000 US-Dollar muss jeder Bewerber oder jede Bewerbergruppe hinlegen , ganz gleich , wie viele TLDs beantragt werden .', 'bert_sim': 0.5086336731910706, 'pseudword_sim': 0.570339024066925, 'bert_euclidean': 22.587305068969727, 'pseudword_euclidean': 21.172170639038086, 'bert_manhattan': 481.48468017578125, 'pseudword_manhattan': 455.4958801269531}]\n",
      "\n",
      "[{'constr': 100, 'kelex': 'gleich', 'sentence': 'Dem Abgesandten der EU-Kommission legte der von den europäischen Surfern gewählte ICANN-Direktor Andy Müller-Maguhn daher nahe , am besten gleich einen alternativen Namensraum und Root-Server einzuführen .', 'bert_sim': 0.691471517086029, 'pseudword_sim': 0.7173311710357666, 'bert_euclidean': 17.28304672241211, 'pseudword_euclidean': 16.575843811035156, 'bert_manhattan': 383.65045166015625, 'pseudword_manhattan': 367.5365905761719}]\n",
      "\n",
      "[{'constr': 100, 'kelex': 'gleich', 'sentence': 'Dadurch werde aber auch der soziale Druck aufgebaut , \" gleich kommunizieren zu müssen \" , sagte Meyrowitz .', 'bert_sim': 0.722380518913269, 'pseudword_sim': 0.7941188216209412, 'bert_euclidean': 16.23276138305664, 'pseudword_euclidean': 14.008296012878418, 'bert_manhattan': 356.0812683105469, 'pseudword_manhattan': 306.19769287109375}]\n",
      ":\n",
      "[{'constr': 100, 'kelex': 'gleich', 'sentence': 'Die Vertreter hinter der SD Memory Card gehen noch einen Schritt weiter als Sony und wagen gleich den Sprung von 64 auf 256 MByte .', 'bert_sim': 0.6826083660125732, 'pseudword_sim': 0.6800284385681152, 'bert_euclidean': 17.466093063354492, 'pseudword_euclidean': 17.571176528930664, 'bert_manhattan': 393.0777587890625, 'pseudword_manhattan': 386.1378479003906}]\n",
      "\n",
      "[{'constr': 100, 'kelex': 'gleich', 'sentence': 'Dabei erledigt der Prozessor gleich den Downmix von Dolby Digital 5.1 auf Dolby Surround Pro Logic , wenn kein Multikanal-Ausgang zur Verfügung steht , oder gibt das Signal an einem S-P/DIF-Ausgang aus .', 'bert_sim': 0.7080861926078796, 'pseudword_sim': 0.7077640891075134, 'bert_euclidean': 16.750446319580078, 'pseudword_euclidean': 16.792194366455078, 'bert_manhattan': 371.92779541015625, 'pseudword_manhattan': 371.33709716796875}]\n",
      "\n",
      "[{'constr': 100, 'kelex': 'gleich', 'sentence': 'Davon ging die Hälfte gleich an Kleinanleger .', 'bert_sim': 0.6697338819503784, 'pseudword_sim': 0.7137253284454346, 'bert_euclidean': 17.842239379882812, 'pseudword_euclidean': 16.645601272583008, 'bert_manhattan': 397.5379638671875, 'pseudword_manhattan': 371.1349792480469}]\n",
      "\n",
      "[{'constr': 100, 'kelex': 'gleich', 'sentence': 'Dass jeder Interessent einmal ein solches Gerät in den Händen halten wollte und einige sie sogar gleich fallen ließen , machte einigen der Web-Tablets von Intel dann auch den Garaus .', 'bert_sim': 0.6795234084129333, 'pseudword_sim': 0.7126805186271667, 'bert_euclidean': 17.54715347290039, 'pseudword_euclidean': 16.648330688476562, 'bert_manhattan': 385.8376770019531, 'pseudword_manhattan': 373.0532531738281}]\n",
      "::\n",
      "[{'constr': 100, 'kelex': 'gleich', 'sentence': 'Groove verzichtet gleich ganz darauf :', 'bert_sim': 0.6904194951057434, 'pseudword_sim': 0.704015851020813, 'bert_euclidean': 17.242189407348633, 'pseudword_euclidean': 16.892759323120117, 'bert_manhattan': 382.4206237792969, 'pseudword_manhattan': 374.84674072265625}]\n",
      "\n",
      "[{'constr': 100, 'kelex': 'gleich', 'sentence': 'Stephanie Schleidt von Consors dagegen hält es für sinnvoll , wenn zum Beispiel Kunden , die sich am PC umfangreiche Informationen über ein Wertpapier geholt haben , später auf dem Weg von einem Termin zum anderen zunächst per Handy die Realtime-Kurse lesen können , um sich dann spontan für den Kauf oder Verkauf zu entscheiden - und ihn mittels des Mobiltelefons auch gleich einzuleiten .', 'bert_sim': 0.6386681199073792, 'pseudword_sim': 0.6418254375457764, 'bert_euclidean': 18.8948974609375, 'pseudword_euclidean': 18.84697914123535, 'bert_manhattan': 417.0200500488281, 'pseudword_manhattan': 409.87457275390625}]\n",
      "::\n",
      "[{'constr': 100, 'kelex': 'gleich', 'sentence': 'Das bislang übliche Verfahren berechnet diesen Modulus aus zwei etwa gleich großen Primzahlen mit jeweils 512 Bit Länge .', 'bert_sim': 0.4656064212322235, 'pseudword_sim': 0.6212623715400696, 'bert_euclidean': 23.744230270385742, 'pseudword_euclidean': 20.06949234008789, 'bert_manhattan': 504.9839172363281, 'pseudword_manhattan': 419.31134033203125}]\n",
      "\n",
      "[{'constr': 100, 'kelex': 'gleich', 'sentence': 'Die OECD-Lektion besonders gut gelernt zu haben scheint Dänemark , das mit 78 Prozent zusammen mit Italien gleich hinter den USA anschließt .', 'bert_sim': 0.5915655493736267, 'pseudword_sim': 0.6750427484512329, 'bert_euclidean': 20.106948852539062, 'pseudword_euclidean': 17.976530075073242, 'bert_manhattan': 446.9130554199219, 'pseudword_manhattan': 400.82940673828125}]\n",
      "\n",
      "[{'constr': 100, 'kelex': 'gleich', 'sentence': 'Setzt man die USA , die hierfür 0,482 Prozent ihres BIP ausgaben , gleich 100 , so erreicht Deutschland nur einen Ranking-Wert von 27 , da hier in 1999 nur 0,13 Prozent des BIP für Risikokapitalgaben bereitstanden .', 'bert_sim': 0.559418261051178, 'pseudword_sim': 0.6110516786575317, 'bert_euclidean': 21.129850387573242, 'pseudword_euclidean': 19.896873474121094, 'bert_manhattan': 458.4874267578125, 'pseudword_manhattan': 425.0086669921875}]\n",
      ":\n",
      "[{'constr': 100, 'kelex': 'gleich', 'sentence': 'Schließlich will die EU nicht riskieren , dass die neue Registry gleich am ersten Tag unter dem Ansturm der potenziellen .eu-Domaininhaber zusammenbricht .', 'bert_sim': 0.5837357044219971, 'pseudword_sim': 0.591900646686554, 'bert_euclidean': 20.40486717224121, 'pseudword_euclidean': 20.241491317749023, 'bert_manhattan': 450.00994873046875, 'pseudword_manhattan': 442.2898254394531}]\n",
      "\n",
      "[{'constr': 100, 'kelex': 'gleich', 'sentence': 'Ganz gleich , ob der PC gerade 20 wird , die Mauer vor 40 Jahren gebaut wurde , die Birne anging oder der hundertdreißigste Geburtstag von Karl Liebknecht ansteht , so gibt es auch Ereignisse , die in die Zukunft weisen .', 'bert_sim': 0.3944603502750397, 'pseudword_sim': 0.4509650766849518, 'bert_euclidean': 25.472721099853516, 'pseudword_euclidean': 24.312419891357422, 'bert_manhattan': 540.2974243164062, 'pseudword_manhattan': 522.2454223632812}]\n",
      "::::::\n",
      "[{'constr': 100, 'kelex': 'gleich', 'sentence': 'Statt vier oder fünf Unternehmen würden gleich sechs Betreiber den künftigen UMTS-Markt in Deutschland beackern .', 'bert_sim': 0.6615216732025146, 'pseudword_sim': 0.6761947274208069, 'bert_euclidean': 17.976306915283203, 'pseudword_euclidean': 17.61793327331543, 'bert_manhattan': 390.8835754394531, 'pseudword_manhattan': 384.3912658691406}]\n",
      "\n",
      "[{'constr': 100, 'kelex': 'gleich', 'sentence': 'Mit vier Pixelpipelines und jeweils zwei Textureinheiten zieht ATI ebenfalls mit dem Nvidia-Chip gleich .', 'bert_sim': 0.5028269290924072, 'pseudword_sim': 0.5347051024436951, 'bert_euclidean': 22.689043045043945, 'pseudword_euclidean': 21.994497299194336, 'bert_manhattan': 487.5271301269531, 'pseudword_manhattan': 469.73345947265625}]\n",
      "::\n",
      "[{'constr': 100, 'kelex': 'gleich', 'sentence': ' Da werden einfach gleich mal 100.000 US-Dollar gefordert , ohne den Nachweis zu führen , welcher Schaden entstanden ist  , sagte der US-amerikanische Rechtsanwalt Scott Evans bei der Diskussion .', 'bert_sim': 0.6535841226577759, 'pseudword_sim': 0.698604166507721, 'bert_euclidean': 18.238000869750977, 'pseudword_euclidean': 17.046634674072266, 'bert_manhattan': 398.25604248046875, 'pseudword_manhattan': 370.7069396972656}]\n",
      "::"
     ]
    }
   ],
   "source": [
    "sentence_slices_cache = (None, None, None)  # cache of sliced sentences\n",
    "\n",
    "def distances(row):\n",
    "    global contextual_embeds\n",
    "    global sentence_slices_cache\n",
    "    constr = row[\"constr\"]\n",
    "    sentence = row[\"sentence\"]\n",
    "    \n",
    "    return_row = []\n",
    "    sentence_ids = tokenizer(sentence, return_tensors='pt')['input_ids']\n",
    "    # first, check whether the construction has ke-lex and if any ke-lex is in the sentence:\n",
    "    if (constr not in contextual_embeds.keys()) or (not any([kelex in sentence for kelex in contextual_embeds[constr].keys()])):\n",
    "        print(\".\", end=\"\")\n",
    "        return pd.Series({'constr': row['constr'], 'kelex': None, 'sentence': row['sentence'], 'bert_sim': None, 'pseudword_sim': None, 'bert_euclidean': None, 'pseudword_euclidean': None, 'bert_manhattan': None, 'pseudword_manhattan': None})\n",
    "    with torch.no_grad():\n",
    "        if sentence_ids.size(-1) > 512:\n",
    "            if sentence_slices_cache[0] == sentence:\n",
    "                _, sentence_id_list, outputs_list = sentence_slices_cache  # load from cache\n",
    "            else:\n",
    "                # sliding window approach\n",
    "                sentence_slices_cache = (None, None, None)  # release cache\n",
    "                sentence_id_list = [sentence_ids[:, i:i + 512] for i in range(0, sentence_ids.size(-1)-512+1)]\n",
    "                outputs_list = [model(sentence_ids[:, i:i + 512], output_hidden_states=True) for i in trange(0, sentence_ids.size(-1)-512+1, desc=\"Slicing\")]\n",
    "                sentence_slices_cache = (sentence, sentence_id_list, outputs_list)\n",
    "        else:\n",
    "            sentence_id_list = [sentence_ids]\n",
    "            outputs_list = [model(sentence_ids, output_hidden_states=True)]\n",
    "    \n",
    "        for kelex, embeds in contextual_embeds[constr].items():\n",
    "            if kelex not in sentence:\n",
    "                continue\n",
    "            bert_sims = []\n",
    "            pseudoword_sims = []\n",
    "            bert_euclideans = []\n",
    "            pseudoword_euclideans = []\n",
    "            bert_manhattans = []\n",
    "            pseudoword_manhattans = []\n",
    "            for cur_sentence_ids, outputs in zip(sentence_id_list, outputs_list):\n",
    "                kelex_ids = [idx for idx, t in enumerate(cur_sentence_ids[0]) if t in tokenizer(kelex, return_tensors='pt')['input_ids'][0][1:-1]]\n",
    "                if len(kelex_ids) == 0:  # the KE-LEX is not in the current segment\n",
    "                    continue\n",
    "                sentence_contextual_embeds = outputs.hidden_states[12][0][kelex_ids]\n",
    "                \n",
    "                # Now let's compare BERT and pseudoword:\n",
    "                bert_sims.append(torch.mean(F.cosine_similarity(embeds[0], sentence_contextual_embeds, dim=-1)))\n",
    "                pseudoword_sims.append(torch.mean(F.cosine_similarity(embeds[1].expand_as(sentence_contextual_embeds), sentence_contextual_embeds, dim=-1)))\n",
    "                bert_euclideans.append(torch.mean(torch.norm(embeds[0]-sentence_contextual_embeds, p=2, dim=-1)))\n",
    "                pseudoword_euclideans.append(torch.mean(torch.norm(embeds[1].expand_as(sentence_contextual_embeds) - sentence_contextual_embeds, p=2, dim=-1)))\n",
    "                bert_manhattans.append(torch.mean(torch.norm(embeds[0]-sentence_contextual_embeds, p=1, dim=-1)))\n",
    "                pseudoword_manhattans.append(torch.mean(torch.norm(embeds[1].expand_as(sentence_contextual_embeds) - sentence_contextual_embeds, p=1, dim=-1)))\n",
    "                \n",
    "            bert_sim = torch.mean(torch.tensor(bert_sims))\n",
    "            pseudoword_sim = torch.mean(torch.tensor(pseudoword_sims))\n",
    "            bert_euclidean = torch.mean(torch.tensor(bert_euclideans))\n",
    "            pseudoword_euclidean = torch.mean(torch.tensor(pseudoword_euclideans))\n",
    "            bert_manhattan = torch.mean(torch.tensor(bert_manhattans))\n",
    "            pseudoword_manhattan = torch.mean(torch.tensor(pseudoword_manhattans))\n",
    "            return_row.append({'constr': row['constr'], 'kelex': kelex, 'sentence': row['sentence'], 'bert_sim': float(bert_sim), 'pseudword_sim': float(pseudoword_sim), 'bert_euclidean': float(bert_euclidean), 'pseudword_euclidean': float(pseudoword_euclidean), 'bert_manhattan': float(bert_manhattan), 'pseudword_manhattan': float(pseudoword_manhattan)})\n",
    "            \n",
    "            if any([pseudoword_sim >= bert_sim, pseudoword_euclidean <= bert_euclidean, pseudoword_manhattan <= bert_manhattan]):\n",
    "                print(\"\\n\" + str(return_row))\n",
    "            else:\n",
    "                print(\":\", end=\"\")\n",
    "        return pd.Series(return_row)\n",
    "\n",
    "similarities = matches.progress_apply(distances, axis=1)\n",
    "similarities"
   ],
   "metadata": {
    "collapsed": false,
    "is_executing": true,
    "ExecuteTime": {
     "start_time": "2024-01-03T12:17:23.224929900Z"
    }
   },
   "id": "36f0de68c5e5b325",
   "execution_count": null
  },
  {
   "cell_type": "code",
   "outputs": [],
   "source": [
    "similarities.to_csv(f\"../../out/comapp/similarities_bert.tsv\", sep=\"\\t\", decimal=\",\")\n",
    "similarities.to_excel(f\"../../out/comapp/similarities_bert.xlsx\")"
   ],
   "metadata": {
    "collapsed": false,
    "is_executing": true
   },
   "id": "5f5b96a5d081379c"
  }
 ],
 "metadata": {
  "kernelspec": {
   "display_name": "Python 3",
   "language": "python",
   "name": "python3"
  },
  "language_info": {
   "codemirror_mode": {
    "name": "ipython",
    "version": 2
   },
   "file_extension": ".py",
   "mimetype": "text/x-python",
   "name": "python",
   "nbconvert_exporter": "python",
   "pygments_lexer": "ipython2",
   "version": "2.7.6"
  }
 },
 "nbformat": 4,
 "nbformat_minor": 5
}
