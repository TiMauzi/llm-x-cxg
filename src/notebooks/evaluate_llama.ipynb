{
 "cells": [
  {
   "cell_type": "code",
   "execution_count": 1,
   "id": "initial_id",
   "metadata": {
    "collapsed": true,
    "ExecuteTime": {
     "end_time": "2023-12-17T20:13:33.028979500Z",
     "start_time": "2023-12-17T20:13:31.489267Z"
    }
   },
   "outputs": [
    {
     "name": "stderr",
     "output_type": "stream",
     "text": [
      "[nltk_data] Downloading package stopwords to\n",
      "[nltk_data]     C:\\Users\\Tim\\AppData\\Roaming\\nltk_data...\n",
      "[nltk_data]   Package stopwords is already up-to-date!\n"
     ]
    }
   ],
   "source": [
    "import pickle\n",
    "import re\n",
    "\n",
    "import pandas as pd\n",
    "\n",
    "import nltk\n",
    "from nltk.corpus import stopwords\n",
    "nltk.download(\"stopwords\")\n",
    "\n",
    "from tqdm.notebook import tqdm\n",
    "tqdm.pandas()"
   ]
  },
  {
   "cell_type": "code",
   "execution_count": 2,
   "outputs": [
    {
     "data": {
      "text/plain": "                                             definition examples  \\\n10    Die \"Negation:NEG_XgeschweigedennY-Konstruktio...       []   \n100   Die \"Äquativ_Plural-Konstruktion\" gehört zu de...       []   \n1004  Die \"Superlativ_Klimax:ADJ1_ADJ1-er_NP-Konstru...       []   \n1006  Die \"Superlativ:PRÄP_ADJ-ster_NP-Konstruktion\"...       []   \n101   Die \"Äquativ:ADJwieNP-Konstruktion\" gehört zu ...       []   \n...                                                 ...      ...   \n97    Die \"Komparativ:ADJ1-eralsADJ1-Konstruktion\" g...       []   \n973   Bei \"Disjunktion_Doppeltitel:XoderY\" handelt e...       []   \n976   Bei \"Korrelation_Affirmation:WoXist, istY\" han...       []   \n98    Die \"Äquativ:soADJwieXP-Konstruktion\" gehört z...       []   \n99    Die \"Komparativ:ADJ-eralsX-Konstruktion\" gehör...       []   \n\n                                              generated  \n10    [\"Die meisten von ihnen haben zuvor noch nie e...  \n100   [\"Die beiden Pferde sind gleicher Größe.\", \"Di...  \n1004  [\"Michael is the tallest\", \"John has the short...  \n1006  [\"The athlete is the fastest runner on the tea...  \n101   [\"Das Auto fährt wie eine Lokomotive\", \"Das Ha...  \n...                                                 ...  \n97    [\"Ein Mann, der höher ist als der Frau\", \"Ein ...  \n973                                      [\"Xoder\", \"Y\"]  \n976   [\"Wo das Licht ist, ist auch die Dunkelheit\", ...  \n98    [\"Die 'äquativ' ist gleich 22\", \"Das Bild ist ...  \n99    [\"Das Gemüse ist ungleichwertig\", \"Die Mensche...  \n\n[211 rows x 3 columns]",
      "text/html": "<div>\n<style scoped>\n    .dataframe tbody tr th:only-of-type {\n        vertical-align: middle;\n    }\n\n    .dataframe tbody tr th {\n        vertical-align: top;\n    }\n\n    .dataframe thead th {\n        text-align: right;\n    }\n</style>\n<table border=\"1\" class=\"dataframe\">\n  <thead>\n    <tr style=\"text-align: right;\">\n      <th></th>\n      <th>definition</th>\n      <th>examples</th>\n      <th>generated</th>\n    </tr>\n  </thead>\n  <tbody>\n    <tr>\n      <th>10</th>\n      <td>Die \"Negation:NEG_XgeschweigedennY-Konstruktio...</td>\n      <td>[]</td>\n      <td>[\"Die meisten von ihnen haben zuvor noch nie e...</td>\n    </tr>\n    <tr>\n      <th>100</th>\n      <td>Die \"Äquativ_Plural-Konstruktion\" gehört zu de...</td>\n      <td>[]</td>\n      <td>[\"Die beiden Pferde sind gleicher Größe.\", \"Di...</td>\n    </tr>\n    <tr>\n      <th>1004</th>\n      <td>Die \"Superlativ_Klimax:ADJ1_ADJ1-er_NP-Konstru...</td>\n      <td>[]</td>\n      <td>[\"Michael is the tallest\", \"John has the short...</td>\n    </tr>\n    <tr>\n      <th>1006</th>\n      <td>Die \"Superlativ:PRÄP_ADJ-ster_NP-Konstruktion\"...</td>\n      <td>[]</td>\n      <td>[\"The athlete is the fastest runner on the tea...</td>\n    </tr>\n    <tr>\n      <th>101</th>\n      <td>Die \"Äquativ:ADJwieNP-Konstruktion\" gehört zu ...</td>\n      <td>[]</td>\n      <td>[\"Das Auto fährt wie eine Lokomotive\", \"Das Ha...</td>\n    </tr>\n    <tr>\n      <th>...</th>\n      <td>...</td>\n      <td>...</td>\n      <td>...</td>\n    </tr>\n    <tr>\n      <th>97</th>\n      <td>Die \"Komparativ:ADJ1-eralsADJ1-Konstruktion\" g...</td>\n      <td>[]</td>\n      <td>[\"Ein Mann, der höher ist als der Frau\", \"Ein ...</td>\n    </tr>\n    <tr>\n      <th>973</th>\n      <td>Bei \"Disjunktion_Doppeltitel:XoderY\" handelt e...</td>\n      <td>[]</td>\n      <td>[\"Xoder\", \"Y\"]</td>\n    </tr>\n    <tr>\n      <th>976</th>\n      <td>Bei \"Korrelation_Affirmation:WoXist, istY\" han...</td>\n      <td>[]</td>\n      <td>[\"Wo das Licht ist, ist auch die Dunkelheit\", ...</td>\n    </tr>\n    <tr>\n      <th>98</th>\n      <td>Die \"Äquativ:soADJwieXP-Konstruktion\" gehört z...</td>\n      <td>[]</td>\n      <td>[\"Die 'äquativ' ist gleich 22\", \"Das Bild ist ...</td>\n    </tr>\n    <tr>\n      <th>99</th>\n      <td>Die \"Komparativ:ADJ-eralsX-Konstruktion\" gehör...</td>\n      <td>[]</td>\n      <td>[\"Das Gemüse ist ungleichwertig\", \"Die Mensche...</td>\n    </tr>\n  </tbody>\n</table>\n<p>211 rows × 3 columns</p>\n</div>"
     },
     "execution_count": 2,
     "metadata": {},
     "output_type": "execute_result"
    }
   ],
   "source": [
    "examples = {}\n",
    "\n",
    "for i in range(0, 5):\n",
    "    with open(\"../../out/definitions.pickle\", \"rb\") as definitions_file:\n",
    "        with open(f\"../../out/llama/examples_{i}_shot.pickle\", \"rb\") as examples_file:\n",
    "            examples[i] = {}\n",
    "            cur_definitions = pickle.load(definitions_file)\n",
    "            cur_examples = pickle.load(examples_file)\n",
    "            for (d, de) in cur_definitions.items():\n",
    "                # if i == 0:\n",
    "                #     examples[i][d] = (de, [], ex)\n",
    "                # else:\n",
    "                examples[i][d] = (de, *cur_examples[d])\n",
    "    examples[i] = pd.DataFrame.from_dict(examples[i], orient=\"index\", columns=[\"definition\", \"examples\", \"generated\"])\n",
    "    \n",
    "examples[0]"
   ],
   "metadata": {
    "collapsed": false,
    "ExecuteTime": {
     "end_time": "2023-12-17T20:13:33.063829500Z",
     "start_time": "2023-12-17T20:13:33.032980800Z"
    }
   },
   "id": "bc1199bc3ed27131"
  },
  {
   "cell_type": "markdown",
   "source": [
    "## Llama-2:\n",
    "### Anzahl Beispielsätze:"
   ],
   "metadata": {
    "collapsed": false
   },
   "id": "e2e4ba2002cf24b5"
  },
  {
   "cell_type": "code",
   "execution_count": 3,
   "outputs": [],
   "source": [
    "def evaluate_string(s):\n",
    "    try:\n",
    "        evaluated_value = eval(s)\n",
    "        \n",
    "        if isinstance(evaluated_value, list):\n",
    "            \n",
    "            return [str(e) for e in evaluated_value]  # muss String sein!\n",
    "        \n",
    "    except:# (SyntaxError, ValueError):\n",
    "        return [s.replace(\"[\", \"\").replace(\"]\", \"\")]"
   ],
   "metadata": {
    "collapsed": false,
    "ExecuteTime": {
     "end_time": "2023-12-17T20:13:33.064830800Z",
     "start_time": "2023-12-17T20:13:33.051853700Z"
    }
   },
   "id": "15396b32d54de431"
  },
  {
   "cell_type": "code",
   "execution_count": 4,
   "outputs": [
    {
     "data": {
      "text/plain": "                                             definition examples  \\\n10    Die \"Negation:NEG_XgeschweigedennY-Konstruktio...       []   \n100   Die \"Äquativ_Plural-Konstruktion\" gehört zu de...       []   \n1004  Die \"Superlativ_Klimax:ADJ1_ADJ1-er_NP-Konstru...       []   \n1006  Die \"Superlativ:PRÄP_ADJ-ster_NP-Konstruktion\"...       []   \n101   Die \"Äquativ:ADJwieNP-Konstruktion\" gehört zu ...       []   \n...                                                 ...      ...   \n97    Die \"Komparativ:ADJ1-eralsADJ1-Konstruktion\" g...       []   \n973   Bei \"Disjunktion_Doppeltitel:XoderY\" handelt e...       []   \n976   Bei \"Korrelation_Affirmation:WoXist, istY\" han...       []   \n98    Die \"Äquativ:soADJwieXP-Konstruktion\" gehört z...       []   \n99    Die \"Komparativ:ADJ-eralsX-Konstruktion\" gehör...       []   \n\n                                              generated  \\\n10    [\"Die meisten von ihnen haben zuvor noch nie e...   \n100   [\"Die beiden Pferde sind gleicher Größe.\", \"Di...   \n1004  [\"Michael is the tallest\", \"John has the short...   \n1006  [\"The athlete is the fastest runner on the tea...   \n101   [\"Das Auto fährt wie eine Lokomotive\", \"Das Ha...   \n...                                                 ...   \n97    [\"Ein Mann, der höher ist als der Frau\", \"Ein ...   \n973                                      [\"Xoder\", \"Y\"]   \n976   [\"Wo das Licht ist, ist auch die Dunkelheit\", ...   \n98    [\"Die 'äquativ' ist gleich 22\", \"Das Bild ist ...   \n99    [\"Das Gemüse ist ungleichwertig\", \"Die Mensche...   \n\n                                    evaluated_generated  num_generated  \n10    [Die meisten von ihnen haben zuvor noch nie ei...              2  \n100   [Die beiden Pferde sind gleicher Größe., Die b...              2  \n1004  [Michael is the tallest, John has the shortest...              3  \n1006   [The athlete is the fastest runner on the team.]              1  \n101   [Das Auto fährt wie eine Lokomotive, Das Haus ...              3  \n...                                                 ...            ...  \n97    [Ein Mann, der höher ist als der Frau, Ein Man...              3  \n973                                          [Xoder, Y]              2  \n976   [Wo das Licht ist, ist auch die Dunkelheit, Wo...              4  \n98    [Die 'äquativ' ist gleich 22, Das Bild ist äqu...              2  \n99    [Das Gemüse ist ungleichwertig, Die Menschen s...              7  \n\n[211 rows x 5 columns]",
      "text/html": "<div>\n<style scoped>\n    .dataframe tbody tr th:only-of-type {\n        vertical-align: middle;\n    }\n\n    .dataframe tbody tr th {\n        vertical-align: top;\n    }\n\n    .dataframe thead th {\n        text-align: right;\n    }\n</style>\n<table border=\"1\" class=\"dataframe\">\n  <thead>\n    <tr style=\"text-align: right;\">\n      <th></th>\n      <th>definition</th>\n      <th>examples</th>\n      <th>generated</th>\n      <th>evaluated_generated</th>\n      <th>num_generated</th>\n    </tr>\n  </thead>\n  <tbody>\n    <tr>\n      <th>10</th>\n      <td>Die \"Negation:NEG_XgeschweigedennY-Konstruktio...</td>\n      <td>[]</td>\n      <td>[\"Die meisten von ihnen haben zuvor noch nie e...</td>\n      <td>[Die meisten von ihnen haben zuvor noch nie ei...</td>\n      <td>2</td>\n    </tr>\n    <tr>\n      <th>100</th>\n      <td>Die \"Äquativ_Plural-Konstruktion\" gehört zu de...</td>\n      <td>[]</td>\n      <td>[\"Die beiden Pferde sind gleicher Größe.\", \"Di...</td>\n      <td>[Die beiden Pferde sind gleicher Größe., Die b...</td>\n      <td>2</td>\n    </tr>\n    <tr>\n      <th>1004</th>\n      <td>Die \"Superlativ_Klimax:ADJ1_ADJ1-er_NP-Konstru...</td>\n      <td>[]</td>\n      <td>[\"Michael is the tallest\", \"John has the short...</td>\n      <td>[Michael is the tallest, John has the shortest...</td>\n      <td>3</td>\n    </tr>\n    <tr>\n      <th>1006</th>\n      <td>Die \"Superlativ:PRÄP_ADJ-ster_NP-Konstruktion\"...</td>\n      <td>[]</td>\n      <td>[\"The athlete is the fastest runner on the tea...</td>\n      <td>[The athlete is the fastest runner on the team.]</td>\n      <td>1</td>\n    </tr>\n    <tr>\n      <th>101</th>\n      <td>Die \"Äquativ:ADJwieNP-Konstruktion\" gehört zu ...</td>\n      <td>[]</td>\n      <td>[\"Das Auto fährt wie eine Lokomotive\", \"Das Ha...</td>\n      <td>[Das Auto fährt wie eine Lokomotive, Das Haus ...</td>\n      <td>3</td>\n    </tr>\n    <tr>\n      <th>...</th>\n      <td>...</td>\n      <td>...</td>\n      <td>...</td>\n      <td>...</td>\n      <td>...</td>\n    </tr>\n    <tr>\n      <th>97</th>\n      <td>Die \"Komparativ:ADJ1-eralsADJ1-Konstruktion\" g...</td>\n      <td>[]</td>\n      <td>[\"Ein Mann, der höher ist als der Frau\", \"Ein ...</td>\n      <td>[Ein Mann, der höher ist als der Frau, Ein Man...</td>\n      <td>3</td>\n    </tr>\n    <tr>\n      <th>973</th>\n      <td>Bei \"Disjunktion_Doppeltitel:XoderY\" handelt e...</td>\n      <td>[]</td>\n      <td>[\"Xoder\", \"Y\"]</td>\n      <td>[Xoder, Y]</td>\n      <td>2</td>\n    </tr>\n    <tr>\n      <th>976</th>\n      <td>Bei \"Korrelation_Affirmation:WoXist, istY\" han...</td>\n      <td>[]</td>\n      <td>[\"Wo das Licht ist, ist auch die Dunkelheit\", ...</td>\n      <td>[Wo das Licht ist, ist auch die Dunkelheit, Wo...</td>\n      <td>4</td>\n    </tr>\n    <tr>\n      <th>98</th>\n      <td>Die \"Äquativ:soADJwieXP-Konstruktion\" gehört z...</td>\n      <td>[]</td>\n      <td>[\"Die 'äquativ' ist gleich 22\", \"Das Bild ist ...</td>\n      <td>[Die 'äquativ' ist gleich 22, Das Bild ist äqu...</td>\n      <td>2</td>\n    </tr>\n    <tr>\n      <th>99</th>\n      <td>Die \"Komparativ:ADJ-eralsX-Konstruktion\" gehör...</td>\n      <td>[]</td>\n      <td>[\"Das Gemüse ist ungleichwertig\", \"Die Mensche...</td>\n      <td>[Das Gemüse ist ungleichwertig, Die Menschen s...</td>\n      <td>7</td>\n    </tr>\n  </tbody>\n</table>\n<p>211 rows × 5 columns</p>\n</div>"
     },
     "execution_count": 4,
     "metadata": {},
     "output_type": "execute_result"
    }
   ],
   "source": [
    "for example_group in examples.values():\n",
    "    example_group['evaluated_generated'] = example_group['generated'].apply(evaluate_string)\n",
    "    example_group['num_generated'] = example_group['evaluated_generated'].apply(len)\n",
    "\n",
    "examples[0]"
   ],
   "metadata": {
    "collapsed": false,
    "ExecuteTime": {
     "end_time": "2023-12-17T20:13:33.118688900Z",
     "start_time": "2023-12-17T20:13:33.057295200Z"
    }
   },
   "id": "b942dabeea68e18a"
  },
  {
   "cell_type": "code",
   "execution_count": 5,
   "outputs": [
    {
     "data": {
      "text/plain": "2.829383886255924"
     },
     "execution_count": 5,
     "metadata": {},
     "output_type": "execute_result"
    }
   ],
   "source": [
    "examples[0][\"num_generated\"].mean()"
   ],
   "metadata": {
    "collapsed": false,
    "ExecuteTime": {
     "end_time": "2023-12-17T20:13:33.119756600Z",
     "start_time": "2023-12-17T20:13:33.090143100Z"
    }
   },
   "id": "8de257898d03a33a"
  },
  {
   "cell_type": "code",
   "execution_count": 6,
   "outputs": [
    {
     "data": {
      "text/plain": "0    3\nName: num_generated, dtype: int64"
     },
     "execution_count": 6,
     "metadata": {},
     "output_type": "execute_result"
    }
   ],
   "source": [
    "examples[0][\"num_generated\"].mode()  # Häufigste Anzahl Beispielsätze (Modalwert)"
   ],
   "metadata": {
    "collapsed": false,
    "ExecuteTime": {
     "end_time": "2023-12-17T20:13:33.147242500Z",
     "start_time": "2023-12-17T20:13:33.094140700Z"
    }
   },
   "id": "677767b998e24664"
  },
  {
   "cell_type": "markdown",
   "source": [
    "### Anzahl unterschiedlicher Beispielsätze"
   ],
   "metadata": {
    "collapsed": false
   },
   "id": "95a1b21f45c21d4b"
  },
  {
   "cell_type": "code",
   "execution_count": 7,
   "outputs": [],
   "source": [
    "for example_group in examples.values():\n",
    "    example_group['unique_generated'] = example_group['evaluated_generated'].apply(lambda x: (len(set(x))/len(x)) if len(x) > 0 else 0.0)"
   ],
   "metadata": {
    "collapsed": false,
    "ExecuteTime": {
     "end_time": "2023-12-17T20:13:33.149054400Z",
     "start_time": "2023-12-17T20:13:33.103613100Z"
    }
   },
   "id": "25aca6b94b741f22"
  },
  {
   "cell_type": "code",
   "execution_count": 8,
   "outputs": [
    {
     "data": {
      "text/plain": "                                             definition examples  \\\n10    Die \"Negation:NEG_XgeschweigedennY-Konstruktio...       []   \n100   Die \"Äquativ_Plural-Konstruktion\" gehört zu de...       []   \n1004  Die \"Superlativ_Klimax:ADJ1_ADJ1-er_NP-Konstru...       []   \n1006  Die \"Superlativ:PRÄP_ADJ-ster_NP-Konstruktion\"...       []   \n101   Die \"Äquativ:ADJwieNP-Konstruktion\" gehört zu ...       []   \n...                                                 ...      ...   \n97    Die \"Komparativ:ADJ1-eralsADJ1-Konstruktion\" g...       []   \n973   Bei \"Disjunktion_Doppeltitel:XoderY\" handelt e...       []   \n976   Bei \"Korrelation_Affirmation:WoXist, istY\" han...       []   \n98    Die \"Äquativ:soADJwieXP-Konstruktion\" gehört z...       []   \n99    Die \"Komparativ:ADJ-eralsX-Konstruktion\" gehör...       []   \n\n                                              generated  \\\n10    [\"Die meisten von ihnen haben zuvor noch nie e...   \n100   [\"Die beiden Pferde sind gleicher Größe.\", \"Di...   \n1004  [\"Michael is the tallest\", \"John has the short...   \n1006  [\"The athlete is the fastest runner on the tea...   \n101   [\"Das Auto fährt wie eine Lokomotive\", \"Das Ha...   \n...                                                 ...   \n97    [\"Ein Mann, der höher ist als der Frau\", \"Ein ...   \n973                                      [\"Xoder\", \"Y\"]   \n976   [\"Wo das Licht ist, ist auch die Dunkelheit\", ...   \n98    [\"Die 'äquativ' ist gleich 22\", \"Das Bild ist ...   \n99    [\"Das Gemüse ist ungleichwertig\", \"Die Mensche...   \n\n                                    evaluated_generated  num_generated  \\\n10    [Die meisten von ihnen haben zuvor noch nie ei...              2   \n100   [Die beiden Pferde sind gleicher Größe., Die b...              2   \n1004  [Michael is the tallest, John has the shortest...              3   \n1006   [The athlete is the fastest runner on the team.]              1   \n101   [Das Auto fährt wie eine Lokomotive, Das Haus ...              3   \n...                                                 ...            ...   \n97    [Ein Mann, der höher ist als der Frau, Ein Man...              3   \n973                                          [Xoder, Y]              2   \n976   [Wo das Licht ist, ist auch die Dunkelheit, Wo...              4   \n98    [Die 'äquativ' ist gleich 22, Das Bild ist äqu...              2   \n99    [Das Gemüse ist ungleichwertig, Die Menschen s...              7   \n\n      unique_generated  \n10                 1.0  \n100                1.0  \n1004               1.0  \n1006               1.0  \n101                1.0  \n...                ...  \n97                 1.0  \n973                1.0  \n976                1.0  \n98                 1.0  \n99                 1.0  \n\n[211 rows x 6 columns]",
      "text/html": "<div>\n<style scoped>\n    .dataframe tbody tr th:only-of-type {\n        vertical-align: middle;\n    }\n\n    .dataframe tbody tr th {\n        vertical-align: top;\n    }\n\n    .dataframe thead th {\n        text-align: right;\n    }\n</style>\n<table border=\"1\" class=\"dataframe\">\n  <thead>\n    <tr style=\"text-align: right;\">\n      <th></th>\n      <th>definition</th>\n      <th>examples</th>\n      <th>generated</th>\n      <th>evaluated_generated</th>\n      <th>num_generated</th>\n      <th>unique_generated</th>\n    </tr>\n  </thead>\n  <tbody>\n    <tr>\n      <th>10</th>\n      <td>Die \"Negation:NEG_XgeschweigedennY-Konstruktio...</td>\n      <td>[]</td>\n      <td>[\"Die meisten von ihnen haben zuvor noch nie e...</td>\n      <td>[Die meisten von ihnen haben zuvor noch nie ei...</td>\n      <td>2</td>\n      <td>1.0</td>\n    </tr>\n    <tr>\n      <th>100</th>\n      <td>Die \"Äquativ_Plural-Konstruktion\" gehört zu de...</td>\n      <td>[]</td>\n      <td>[\"Die beiden Pferde sind gleicher Größe.\", \"Di...</td>\n      <td>[Die beiden Pferde sind gleicher Größe., Die b...</td>\n      <td>2</td>\n      <td>1.0</td>\n    </tr>\n    <tr>\n      <th>1004</th>\n      <td>Die \"Superlativ_Klimax:ADJ1_ADJ1-er_NP-Konstru...</td>\n      <td>[]</td>\n      <td>[\"Michael is the tallest\", \"John has the short...</td>\n      <td>[Michael is the tallest, John has the shortest...</td>\n      <td>3</td>\n      <td>1.0</td>\n    </tr>\n    <tr>\n      <th>1006</th>\n      <td>Die \"Superlativ:PRÄP_ADJ-ster_NP-Konstruktion\"...</td>\n      <td>[]</td>\n      <td>[\"The athlete is the fastest runner on the tea...</td>\n      <td>[The athlete is the fastest runner on the team.]</td>\n      <td>1</td>\n      <td>1.0</td>\n    </tr>\n    <tr>\n      <th>101</th>\n      <td>Die \"Äquativ:ADJwieNP-Konstruktion\" gehört zu ...</td>\n      <td>[]</td>\n      <td>[\"Das Auto fährt wie eine Lokomotive\", \"Das Ha...</td>\n      <td>[Das Auto fährt wie eine Lokomotive, Das Haus ...</td>\n      <td>3</td>\n      <td>1.0</td>\n    </tr>\n    <tr>\n      <th>...</th>\n      <td>...</td>\n      <td>...</td>\n      <td>...</td>\n      <td>...</td>\n      <td>...</td>\n      <td>...</td>\n    </tr>\n    <tr>\n      <th>97</th>\n      <td>Die \"Komparativ:ADJ1-eralsADJ1-Konstruktion\" g...</td>\n      <td>[]</td>\n      <td>[\"Ein Mann, der höher ist als der Frau\", \"Ein ...</td>\n      <td>[Ein Mann, der höher ist als der Frau, Ein Man...</td>\n      <td>3</td>\n      <td>1.0</td>\n    </tr>\n    <tr>\n      <th>973</th>\n      <td>Bei \"Disjunktion_Doppeltitel:XoderY\" handelt e...</td>\n      <td>[]</td>\n      <td>[\"Xoder\", \"Y\"]</td>\n      <td>[Xoder, Y]</td>\n      <td>2</td>\n      <td>1.0</td>\n    </tr>\n    <tr>\n      <th>976</th>\n      <td>Bei \"Korrelation_Affirmation:WoXist, istY\" han...</td>\n      <td>[]</td>\n      <td>[\"Wo das Licht ist, ist auch die Dunkelheit\", ...</td>\n      <td>[Wo das Licht ist, ist auch die Dunkelheit, Wo...</td>\n      <td>4</td>\n      <td>1.0</td>\n    </tr>\n    <tr>\n      <th>98</th>\n      <td>Die \"Äquativ:soADJwieXP-Konstruktion\" gehört z...</td>\n      <td>[]</td>\n      <td>[\"Die 'äquativ' ist gleich 22\", \"Das Bild ist ...</td>\n      <td>[Die 'äquativ' ist gleich 22, Das Bild ist äqu...</td>\n      <td>2</td>\n      <td>1.0</td>\n    </tr>\n    <tr>\n      <th>99</th>\n      <td>Die \"Komparativ:ADJ-eralsX-Konstruktion\" gehör...</td>\n      <td>[]</td>\n      <td>[\"Das Gemüse ist ungleichwertig\", \"Die Mensche...</td>\n      <td>[Das Gemüse ist ungleichwertig, Die Menschen s...</td>\n      <td>7</td>\n      <td>1.0</td>\n    </tr>\n  </tbody>\n</table>\n<p>211 rows × 6 columns</p>\n</div>"
     },
     "execution_count": 8,
     "metadata": {},
     "output_type": "execute_result"
    }
   ],
   "source": [
    "examples[0]"
   ],
   "metadata": {
    "collapsed": false,
    "ExecuteTime": {
     "end_time": "2023-12-17T20:13:33.220372800Z",
     "start_time": "2023-12-17T20:13:33.117333100Z"
    }
   },
   "id": "18cda87b8b05bbe6"
  },
  {
   "cell_type": "markdown",
   "source": [
    "In diesen Ausgaben unterscheiden sich die Anzahl der generierten Beispiele und die Anzahl der tatsächlich unterschiedlichen Beispiele:"
   ],
   "metadata": {
    "collapsed": false
   },
   "id": "e418ffdc947e7e35"
  },
  {
   "cell_type": "code",
   "execution_count": 9,
   "outputs": [
    {
     "name": "stdout",
     "output_type": "stream",
     "text": [
      "6.6350710900473935 %\n"
     ]
    },
    {
     "data": {
      "text/plain": "                                             definition examples  \\\n1029  Bei der in der Forschung als „w-Schlagzeile“ (...       []   \n1054  Die \"Intensivierung:ART_HERRSCHERTITEL_ART_NP-...       []   \n1134  Die \"Additiv_Koordination:sowohlXalsauchY\" umf...       []   \n12    Die \"Negation:wederXPnochXP-Konstruktion\" umfa...       []   \n129   Die \"Äquativ:eine_ArtX-Konstruktion\" gehört zu...       []   \n1324  Die Konstruktion\" Intensivierung_Attribut_nach...       []   \n1346  Die meist als Prädikativum verwendete Konstruk...       []   \n1351  Die \"Reduplikation_Irrelevanz:N1hinN1her-Konst...       []   \n1777  Die \"Korrelativer_Äquativ:VPin_dem_MaßeXP-Kons...       []   \n1842  Die \"Personenreferenz_abwertend:x-ling-Konstru...       []   \n374   Die \"Negation_Schlussfolgerung:nurweilX_NEG_Y-...       []   \n639   Die \"Superlativ_Wortbildung:INTENSIVIERUNG-ADJ...       []   \n78    Die \"Exklamativ:solch_(Art.indef_)N-Konstrukti...       []   \n858   Die \"Zeitdeixis_Quantifizierung:inNUM_ZEITEINH...       []   \n\n                                              generated  \\\n1029  [\"Mehr Artikel anzeigen\", \"Kaufen\", \"Buch kauf...   \n1054  [\"Königin\", \"Kaiser\", \"Papst\", \"Königin\", \"Kai...   \n1134  [\"Dieses Auto fährt sowohl schnell als auch si...   \n12    [\"Es wird gesagt, dass jeder in den Bergen wei...   \n129   [\"Eine Art von Reis ist nach dem Kochen äquiva...   \n1324                  [\"intensivierte\", \"satt\", \"satt\"]   \n1346     [\"Prototyp-Buchesteht\", \"Prototyp-Buchesteht\"]   \n1351  [\"Dieser Konstrukt ist identisch mit diesem Ko...   \n1777  [\"In dem Maß des Gleichen\", \"Im selben Maß\", \"...   \n1842  [\"Abwertungs-lingua\", \"Abwertungs-Lingua\", \"Ab...   \n374   [\"Das Auto fährt nicht schnell genug.\", \"Das A...   \n639   [\"Wenn sie das Auto schnell fuhrten\", \"Er ist ...   \n78    [\"Das war solch ein unglücklicher Tag\", \"Das w...   \n858   [\"KEE\", \"Quantifizierung\", \"Zeiteinheit\", \"Ann...   \n\n                                    evaluated_generated  num_generated  \\\n1029  [Mehr Artikel anzeigen, Kaufen, Buch kaufen, B...              8   \n1054        [Königin, Kaiser, Papst, Königin, Kaiserin]              5   \n1134  [Dieses Auto fährt sowohl schnell als auch sic...              4   \n12    [Es wird gesagt, dass jeder in den Bergen weil...              2   \n129   [Eine Art von Reis ist nach dem Kochen äquival...              9   \n1324                        [intensivierte, satt, satt]              3   \n1346         [Prototyp-Buchesteht, Prototyp-Buchesteht]              2   \n1351  [Dieser Konstrukt ist identisch mit diesem Kon...              2   \n1777  [In dem Maß des Gleichen, Im selben Maß, In de...              9   \n1842  [Abwertungs-lingua, Abwertungs-Lingua, Abwertu...              6   \n374   [Das Auto fährt nicht schnell genug., Das Auto...              3   \n639   [Wenn sie das Auto schnell fuhrten, Er ist der...              9   \n78    [Das war solch ein unglücklicher Tag, Das war ...              2   \n858   [KEE, Quantifizierung, Zeiteinheit, Annäherung...              6   \n\n      unique_generated  \n1029          0.375000  \n1054          0.800000  \n1134          0.250000  \n12            0.500000  \n129           0.444444  \n1324          0.666667  \n1346          0.500000  \n1351          0.500000  \n1777          0.666667  \n1842          0.500000  \n374           0.666667  \n639           0.777778  \n78            0.500000  \n858           0.833333  ",
      "text/html": "<div>\n<style scoped>\n    .dataframe tbody tr th:only-of-type {\n        vertical-align: middle;\n    }\n\n    .dataframe tbody tr th {\n        vertical-align: top;\n    }\n\n    .dataframe thead th {\n        text-align: right;\n    }\n</style>\n<table border=\"1\" class=\"dataframe\">\n  <thead>\n    <tr style=\"text-align: right;\">\n      <th></th>\n      <th>definition</th>\n      <th>examples</th>\n      <th>generated</th>\n      <th>evaluated_generated</th>\n      <th>num_generated</th>\n      <th>unique_generated</th>\n    </tr>\n  </thead>\n  <tbody>\n    <tr>\n      <th>1029</th>\n      <td>Bei der in der Forschung als „w-Schlagzeile“ (...</td>\n      <td>[]</td>\n      <td>[\"Mehr Artikel anzeigen\", \"Kaufen\", \"Buch kauf...</td>\n      <td>[Mehr Artikel anzeigen, Kaufen, Buch kaufen, B...</td>\n      <td>8</td>\n      <td>0.375000</td>\n    </tr>\n    <tr>\n      <th>1054</th>\n      <td>Die \"Intensivierung:ART_HERRSCHERTITEL_ART_NP-...</td>\n      <td>[]</td>\n      <td>[\"Königin\", \"Kaiser\", \"Papst\", \"Königin\", \"Kai...</td>\n      <td>[Königin, Kaiser, Papst, Königin, Kaiserin]</td>\n      <td>5</td>\n      <td>0.800000</td>\n    </tr>\n    <tr>\n      <th>1134</th>\n      <td>Die \"Additiv_Koordination:sowohlXalsauchY\" umf...</td>\n      <td>[]</td>\n      <td>[\"Dieses Auto fährt sowohl schnell als auch si...</td>\n      <td>[Dieses Auto fährt sowohl schnell als auch sic...</td>\n      <td>4</td>\n      <td>0.250000</td>\n    </tr>\n    <tr>\n      <th>12</th>\n      <td>Die \"Negation:wederXPnochXP-Konstruktion\" umfa...</td>\n      <td>[]</td>\n      <td>[\"Es wird gesagt, dass jeder in den Bergen wei...</td>\n      <td>[Es wird gesagt, dass jeder in den Bergen weil...</td>\n      <td>2</td>\n      <td>0.500000</td>\n    </tr>\n    <tr>\n      <th>129</th>\n      <td>Die \"Äquativ:eine_ArtX-Konstruktion\" gehört zu...</td>\n      <td>[]</td>\n      <td>[\"Eine Art von Reis ist nach dem Kochen äquiva...</td>\n      <td>[Eine Art von Reis ist nach dem Kochen äquival...</td>\n      <td>9</td>\n      <td>0.444444</td>\n    </tr>\n    <tr>\n      <th>1324</th>\n      <td>Die Konstruktion\" Intensivierung_Attribut_nach...</td>\n      <td>[]</td>\n      <td>[\"intensivierte\", \"satt\", \"satt\"]</td>\n      <td>[intensivierte, satt, satt]</td>\n      <td>3</td>\n      <td>0.666667</td>\n    </tr>\n    <tr>\n      <th>1346</th>\n      <td>Die meist als Prädikativum verwendete Konstruk...</td>\n      <td>[]</td>\n      <td>[\"Prototyp-Buchesteht\", \"Prototyp-Buchesteht\"]</td>\n      <td>[Prototyp-Buchesteht, Prototyp-Buchesteht]</td>\n      <td>2</td>\n      <td>0.500000</td>\n    </tr>\n    <tr>\n      <th>1351</th>\n      <td>Die \"Reduplikation_Irrelevanz:N1hinN1her-Konst...</td>\n      <td>[]</td>\n      <td>[\"Dieser Konstrukt ist identisch mit diesem Ko...</td>\n      <td>[Dieser Konstrukt ist identisch mit diesem Kon...</td>\n      <td>2</td>\n      <td>0.500000</td>\n    </tr>\n    <tr>\n      <th>1777</th>\n      <td>Die \"Korrelativer_Äquativ:VPin_dem_MaßeXP-Kons...</td>\n      <td>[]</td>\n      <td>[\"In dem Maß des Gleichen\", \"Im selben Maß\", \"...</td>\n      <td>[In dem Maß des Gleichen, Im selben Maß, In de...</td>\n      <td>9</td>\n      <td>0.666667</td>\n    </tr>\n    <tr>\n      <th>1842</th>\n      <td>Die \"Personenreferenz_abwertend:x-ling-Konstru...</td>\n      <td>[]</td>\n      <td>[\"Abwertungs-lingua\", \"Abwertungs-Lingua\", \"Ab...</td>\n      <td>[Abwertungs-lingua, Abwertungs-Lingua, Abwertu...</td>\n      <td>6</td>\n      <td>0.500000</td>\n    </tr>\n    <tr>\n      <th>374</th>\n      <td>Die \"Negation_Schlussfolgerung:nurweilX_NEG_Y-...</td>\n      <td>[]</td>\n      <td>[\"Das Auto fährt nicht schnell genug.\", \"Das A...</td>\n      <td>[Das Auto fährt nicht schnell genug., Das Auto...</td>\n      <td>3</td>\n      <td>0.666667</td>\n    </tr>\n    <tr>\n      <th>639</th>\n      <td>Die \"Superlativ_Wortbildung:INTENSIVIERUNG-ADJ...</td>\n      <td>[]</td>\n      <td>[\"Wenn sie das Auto schnell fuhrten\", \"Er ist ...</td>\n      <td>[Wenn sie das Auto schnell fuhrten, Er ist der...</td>\n      <td>9</td>\n      <td>0.777778</td>\n    </tr>\n    <tr>\n      <th>78</th>\n      <td>Die \"Exklamativ:solch_(Art.indef_)N-Konstrukti...</td>\n      <td>[]</td>\n      <td>[\"Das war solch ein unglücklicher Tag\", \"Das w...</td>\n      <td>[Das war solch ein unglücklicher Tag, Das war ...</td>\n      <td>2</td>\n      <td>0.500000</td>\n    </tr>\n    <tr>\n      <th>858</th>\n      <td>Die \"Zeitdeixis_Quantifizierung:inNUM_ZEITEINH...</td>\n      <td>[]</td>\n      <td>[\"KEE\", \"Quantifizierung\", \"Zeiteinheit\", \"Ann...</td>\n      <td>[KEE, Quantifizierung, Zeiteinheit, Annäherung...</td>\n      <td>6</td>\n      <td>0.833333</td>\n    </tr>\n  </tbody>\n</table>\n</div>"
     },
     "execution_count": 9,
     "metadata": {},
     "output_type": "execute_result"
    }
   ],
   "source": [
    "not_all_unique = examples[0][(0.0 < examples[0]['unique_generated']) & (examples[0]['unique_generated'] < 1.0)]\n",
    "print(len(not_all_unique) / len(examples[0]) * 100, \"%\")\n",
    "not_all_unique"
   ],
   "metadata": {
    "collapsed": false,
    "ExecuteTime": {
     "end_time": "2023-12-17T20:13:33.221373900Z",
     "start_time": "2023-12-17T20:13:33.124512600Z"
    }
   },
   "id": "9e48f0fc44393835"
  },
  {
   "cell_type": "markdown",
   "source": [
    "### Tatsächlich neue Inhalte:"
   ],
   "metadata": {
    "collapsed": false
   },
   "id": "3825855d0dff5aef"
  },
  {
   "cell_type": "code",
   "execution_count": 10,
   "outputs": [],
   "source": [
    "stopwords = {s.lower() for s in stopwords.words(\"german\")}  # Stoppwörter werden entfernt, weil die nichts über Wiederholungen aussagen\n",
    "\n",
    "def calculate_overlap(row):\n",
    "    generated_set = {w for w in \" \".join(row['evaluated_generated']).split() if w.lower() not in stopwords}\n",
    "    \n",
    "    if len(generated_set) > 0:\n",
    "        definition_overlap = len(generated_set.intersection({w for w in row['definition'].split() if w.lower() not in stopwords})) / len(generated_set)\n",
    "        examples_overlap = len(generated_set.intersection({w for w in \" \".join(row['examples']).split() if w.lower() not in stopwords})) / len(generated_set)\n",
    "        overlap = len(generated_set.intersection({w for w in row['definition'].split() if w.lower() not in stopwords} | {w for w in \" \".join(row['examples']).split() if w.lower() not in stopwords})) / len(generated_set)\n",
    "    else:\n",
    "        definition_overlap = 0.0\n",
    "        examples_overlap = 0.0\n",
    "        overlap = 0.0\n",
    "    \n",
    "    return definition_overlap, examples_overlap, overlap"
   ],
   "metadata": {
    "collapsed": false,
    "ExecuteTime": {
     "end_time": "2023-12-17T20:13:33.222371500Z",
     "start_time": "2023-12-17T20:13:33.147242500Z"
    }
   },
   "id": "66dd136e3f5bc078"
  },
  {
   "cell_type": "code",
   "execution_count": 11,
   "outputs": [],
   "source": [
    "for example_group in examples.values():\n",
    "    example_group[['definition_overlap', 'examples_overlap', 'overlap']] = example_group.apply(calculate_overlap, axis=1, result_type='expand')"
   ],
   "metadata": {
    "collapsed": false,
    "ExecuteTime": {
     "end_time": "2023-12-17T20:13:33.389270Z",
     "start_time": "2023-12-17T20:13:33.153569500Z"
    }
   },
   "id": "d8f77e6a2a128b3f"
  },
  {
   "cell_type": "code",
   "execution_count": 12,
   "outputs": [
    {
     "data": {
      "text/plain": "                                             definition examples  \\\n10    Die \"Negation:NEG_XgeschweigedennY-Konstruktio...       []   \n100   Die \"Äquativ_Plural-Konstruktion\" gehört zu de...       []   \n1004  Die \"Superlativ_Klimax:ADJ1_ADJ1-er_NP-Konstru...       []   \n1006  Die \"Superlativ:PRÄP_ADJ-ster_NP-Konstruktion\"...       []   \n101   Die \"Äquativ:ADJwieNP-Konstruktion\" gehört zu ...       []   \n...                                                 ...      ...   \n97    Die \"Komparativ:ADJ1-eralsADJ1-Konstruktion\" g...       []   \n973   Bei \"Disjunktion_Doppeltitel:XoderY\" handelt e...       []   \n976   Bei \"Korrelation_Affirmation:WoXist, istY\" han...       []   \n98    Die \"Äquativ:soADJwieXP-Konstruktion\" gehört z...       []   \n99    Die \"Komparativ:ADJ-eralsX-Konstruktion\" gehör...       []   \n\n                                              generated  \\\n10    [\"Die meisten von ihnen haben zuvor noch nie e...   \n100   [\"Die beiden Pferde sind gleicher Größe.\", \"Di...   \n1004  [\"Michael is the tallest\", \"John has the short...   \n1006  [\"The athlete is the fastest runner on the tea...   \n101   [\"Das Auto fährt wie eine Lokomotive\", \"Das Ha...   \n...                                                 ...   \n97    [\"Ein Mann, der höher ist als der Frau\", \"Ein ...   \n973                                      [\"Xoder\", \"Y\"]   \n976   [\"Wo das Licht ist, ist auch die Dunkelheit\", ...   \n98    [\"Die 'äquativ' ist gleich 22\", \"Das Bild ist ...   \n99    [\"Das Gemüse ist ungleichwertig\", \"Die Mensche...   \n\n                                    evaluated_generated  num_generated  \\\n10    [Die meisten von ihnen haben zuvor noch nie ei...              2   \n100   [Die beiden Pferde sind gleicher Größe., Die b...              2   \n1004  [Michael is the tallest, John has the shortest...              3   \n1006   [The athlete is the fastest runner on the team.]              1   \n101   [Das Auto fährt wie eine Lokomotive, Das Haus ...              3   \n...                                                 ...            ...   \n97    [Ein Mann, der höher ist als der Frau, Ein Man...              3   \n973                                          [Xoder, Y]              2   \n976   [Wo das Licht ist, ist auch die Dunkelheit, Wo...              4   \n98    [Die 'äquativ' ist gleich 22, Das Bild ist äqu...              2   \n99    [Das Gemüse ist ungleichwertig, Die Menschen s...              7   \n\n      unique_generated  definition_overlap  examples_overlap   overlap  \n10                 1.0            1.000000               0.0  1.000000  \n100                1.0            0.166667               0.0  0.166667  \n1004               1.0            0.000000               0.0  0.000000  \n1006               1.0            0.000000               0.0  0.000000  \n101                1.0            0.000000               0.0  0.000000  \n...                ...                 ...               ...       ...  \n97                 1.0            0.142857               0.0  0.142857  \n973                1.0            0.000000               0.0  0.000000  \n976                1.0            0.222222               0.0  0.222222  \n98                 1.0            0.000000               0.0  0.000000  \n99                 1.0            0.000000               0.0  0.000000  \n\n[211 rows x 9 columns]",
      "text/html": "<div>\n<style scoped>\n    .dataframe tbody tr th:only-of-type {\n        vertical-align: middle;\n    }\n\n    .dataframe tbody tr th {\n        vertical-align: top;\n    }\n\n    .dataframe thead th {\n        text-align: right;\n    }\n</style>\n<table border=\"1\" class=\"dataframe\">\n  <thead>\n    <tr style=\"text-align: right;\">\n      <th></th>\n      <th>definition</th>\n      <th>examples</th>\n      <th>generated</th>\n      <th>evaluated_generated</th>\n      <th>num_generated</th>\n      <th>unique_generated</th>\n      <th>definition_overlap</th>\n      <th>examples_overlap</th>\n      <th>overlap</th>\n    </tr>\n  </thead>\n  <tbody>\n    <tr>\n      <th>10</th>\n      <td>Die \"Negation:NEG_XgeschweigedennY-Konstruktio...</td>\n      <td>[]</td>\n      <td>[\"Die meisten von ihnen haben zuvor noch nie e...</td>\n      <td>[Die meisten von ihnen haben zuvor noch nie ei...</td>\n      <td>2</td>\n      <td>1.0</td>\n      <td>1.000000</td>\n      <td>0.0</td>\n      <td>1.000000</td>\n    </tr>\n    <tr>\n      <th>100</th>\n      <td>Die \"Äquativ_Plural-Konstruktion\" gehört zu de...</td>\n      <td>[]</td>\n      <td>[\"Die beiden Pferde sind gleicher Größe.\", \"Di...</td>\n      <td>[Die beiden Pferde sind gleicher Größe., Die b...</td>\n      <td>2</td>\n      <td>1.0</td>\n      <td>0.166667</td>\n      <td>0.0</td>\n      <td>0.166667</td>\n    </tr>\n    <tr>\n      <th>1004</th>\n      <td>Die \"Superlativ_Klimax:ADJ1_ADJ1-er_NP-Konstru...</td>\n      <td>[]</td>\n      <td>[\"Michael is the tallest\", \"John has the short...</td>\n      <td>[Michael is the tallest, John has the shortest...</td>\n      <td>3</td>\n      <td>1.0</td>\n      <td>0.000000</td>\n      <td>0.0</td>\n      <td>0.000000</td>\n    </tr>\n    <tr>\n      <th>1006</th>\n      <td>Die \"Superlativ:PRÄP_ADJ-ster_NP-Konstruktion\"...</td>\n      <td>[]</td>\n      <td>[\"The athlete is the fastest runner on the tea...</td>\n      <td>[The athlete is the fastest runner on the team.]</td>\n      <td>1</td>\n      <td>1.0</td>\n      <td>0.000000</td>\n      <td>0.0</td>\n      <td>0.000000</td>\n    </tr>\n    <tr>\n      <th>101</th>\n      <td>Die \"Äquativ:ADJwieNP-Konstruktion\" gehört zu ...</td>\n      <td>[]</td>\n      <td>[\"Das Auto fährt wie eine Lokomotive\", \"Das Ha...</td>\n      <td>[Das Auto fährt wie eine Lokomotive, Das Haus ...</td>\n      <td>3</td>\n      <td>1.0</td>\n      <td>0.000000</td>\n      <td>0.0</td>\n      <td>0.000000</td>\n    </tr>\n    <tr>\n      <th>...</th>\n      <td>...</td>\n      <td>...</td>\n      <td>...</td>\n      <td>...</td>\n      <td>...</td>\n      <td>...</td>\n      <td>...</td>\n      <td>...</td>\n      <td>...</td>\n    </tr>\n    <tr>\n      <th>97</th>\n      <td>Die \"Komparativ:ADJ1-eralsADJ1-Konstruktion\" g...</td>\n      <td>[]</td>\n      <td>[\"Ein Mann, der höher ist als der Frau\", \"Ein ...</td>\n      <td>[Ein Mann, der höher ist als der Frau, Ein Man...</td>\n      <td>3</td>\n      <td>1.0</td>\n      <td>0.142857</td>\n      <td>0.0</td>\n      <td>0.142857</td>\n    </tr>\n    <tr>\n      <th>973</th>\n      <td>Bei \"Disjunktion_Doppeltitel:XoderY\" handelt e...</td>\n      <td>[]</td>\n      <td>[\"Xoder\", \"Y\"]</td>\n      <td>[Xoder, Y]</td>\n      <td>2</td>\n      <td>1.0</td>\n      <td>0.000000</td>\n      <td>0.0</td>\n      <td>0.000000</td>\n    </tr>\n    <tr>\n      <th>976</th>\n      <td>Bei \"Korrelation_Affirmation:WoXist, istY\" han...</td>\n      <td>[]</td>\n      <td>[\"Wo das Licht ist, ist auch die Dunkelheit\", ...</td>\n      <td>[Wo das Licht ist, ist auch die Dunkelheit, Wo...</td>\n      <td>4</td>\n      <td>1.0</td>\n      <td>0.222222</td>\n      <td>0.0</td>\n      <td>0.222222</td>\n    </tr>\n    <tr>\n      <th>98</th>\n      <td>Die \"Äquativ:soADJwieXP-Konstruktion\" gehört z...</td>\n      <td>[]</td>\n      <td>[\"Die 'äquativ' ist gleich 22\", \"Das Bild ist ...</td>\n      <td>[Die 'äquativ' ist gleich 22, Das Bild ist äqu...</td>\n      <td>2</td>\n      <td>1.0</td>\n      <td>0.000000</td>\n      <td>0.0</td>\n      <td>0.000000</td>\n    </tr>\n    <tr>\n      <th>99</th>\n      <td>Die \"Komparativ:ADJ-eralsX-Konstruktion\" gehör...</td>\n      <td>[]</td>\n      <td>[\"Das Gemüse ist ungleichwertig\", \"Die Mensche...</td>\n      <td>[Das Gemüse ist ungleichwertig, Die Menschen s...</td>\n      <td>7</td>\n      <td>1.0</td>\n      <td>0.000000</td>\n      <td>0.0</td>\n      <td>0.000000</td>\n    </tr>\n  </tbody>\n</table>\n<p>211 rows × 9 columns</p>\n</div>"
     },
     "execution_count": 12,
     "metadata": {},
     "output_type": "execute_result"
    }
   ],
   "source": [
    "examples[0]"
   ],
   "metadata": {
    "collapsed": false,
    "ExecuteTime": {
     "end_time": "2023-12-17T20:13:33.390269700Z",
     "start_time": "2023-12-17T20:13:33.315136Z"
    }
   },
   "id": "ac99a014755acb4f"
  },
  {
   "cell_type": "code",
   "execution_count": 13,
   "outputs": [
    {
     "data": {
      "text/plain": "0.04698239684300459"
     },
     "execution_count": 13,
     "metadata": {},
     "output_type": "execute_result"
    }
   ],
   "source": [
    "examples[0][\"overlap\"].mean()"
   ],
   "metadata": {
    "collapsed": false,
    "ExecuteTime": {
     "end_time": "2023-12-17T20:13:33.391270400Z",
     "start_time": "2023-12-17T20:13:33.330989700Z"
    }
   },
   "id": "371c33ee51a9f645"
  },
  {
   "cell_type": "code",
   "execution_count": 14,
   "outputs": [],
   "source": [
    "for i, example_group in examples.items():\n",
    "    example_group.to_csv(f\"../../out/llama/{i}_shot_data.tsv\", sep=\"\\t\", decimal=\",\")\n",
    "    example_group.to_excel(f\"../../out/llama/{i}_shot_data.xlsx\")"
   ],
   "metadata": {
    "collapsed": false,
    "ExecuteTime": {
     "end_time": "2023-12-17T20:13:34.099629400Z",
     "start_time": "2023-12-17T20:13:33.338018500Z"
    }
   },
   "id": "e974acebaa47744e"
  }
 ],
 "metadata": {
  "kernelspec": {
   "display_name": "Python 3",
   "language": "python",
   "name": "python3"
  },
  "language_info": {
   "codemirror_mode": {
    "name": "ipython",
    "version": 2
   },
   "file_extension": ".py",
   "mimetype": "text/x-python",
   "name": "python",
   "nbconvert_exporter": "python",
   "pygments_lexer": "ipython2",
   "version": "2.7.6"
  }
 },
 "nbformat": 4,
 "nbformat_minor": 5
}
