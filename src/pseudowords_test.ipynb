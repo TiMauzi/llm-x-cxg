{
 "cells": [
  {
   "cell_type": "code",
   "execution_count": 40,
   "id": "65a6106d5b15100f",
   "metadata": {
    "collapsed": true,
    "ExecuteTime": {
     "end_time": "2023-10-12T16:31:33.944507600Z",
     "start_time": "2023-10-12T16:31:33.921203600Z"
    }
   },
   "outputs": [],
   "source": [
    "import json\n",
    "\n",
    "import pandas as pd"
   ]
  },
  {
   "cell_type": "code",
   "execution_count": 41,
   "outputs": [
    {
     "data": {
      "text/plain": "0      The clip is about a horse. \n1      The clip is about a queen. \n2        The clip is about a cat. \n3       The clip is about a king. \n4     The clip is about a prince. \n                  ...             \n89     I ate salad with pleasure. \n90          I ate salad with him. \n91         I ate salad with John. \n92         I ate salad with Lisa. \n93          I ate salad with her. \nName: query, Length: 94, dtype: object"
     },
     "execution_count": 41,
     "metadata": {},
     "output_type": "execute_result"
    }
   ],
   "source": [
    "# Read the file \"../libs/pwibm/data/csv/MaPP_Dataset_final - Basic_portion.csv\" into a pandas DataFrame\n",
    "csv_df = pd.read_csv(\"../libs/pwibm/data/csv/MaPP_Dataset_final - Basic_portion.csv\")\n",
    "csv_sentences = csv_df[\"query\"]\n",
    "csv_sentences"
   ],
   "metadata": {
    "collapsed": false,
    "ExecuteTime": {
     "end_time": "2023-10-12T16:31:33.992469800Z",
     "start_time": "2023-10-12T16:31:33.927788400Z"
    }
   },
   "id": "initial_id"
  },
  {
   "cell_type": "code",
   "execution_count": 42,
   "outputs": [
    {
     "data": {
      "text/plain": "0       The event is in London.\n1         The event is in here.\n2       The event is in Paris. \n3       The event is in there. \n4      The event is in Canada. \n                ...            \n92          I will run the pub.\n93       I will run the event. \n94    I will run the business. \n95        I will run the race. \n96         I will run errands. \nName: target1, Length: 97, dtype: object"
     },
     "execution_count": 42,
     "metadata": {},
     "output_type": "execute_result"
    }
   ],
   "source": [
    "with open(\"../libs/pwibm/data/queries/single_target/MaPP_all.txt\", \"r\") as json_file:\n",
    "    data = json.load(json_file)\n",
    "txt_df = pd.DataFrame(data)\n",
    "txt_sentences = txt_df[\"target1\"]\n",
    "txt_sentences"
   ],
   "metadata": {
    "collapsed": false,
    "ExecuteTime": {
     "end_time": "2023-10-12T16:31:33.992469800Z",
     "start_time": "2023-10-12T16:31:33.944507600Z"
    }
   },
   "id": "39bf3d85a5574281"
  },
  {
   "cell_type": "code",
   "execution_count": 43,
   "outputs": [
    {
     "data": {
      "text/plain": "['I will run errands. ',\n 'I had troubles. ',\n 'I had energy. ',\n 'I will run the pub.',\n 'I had concerns. ',\n 'I had a dinner. ',\n 'I will run the show. ',\n 'I will run the bar. ',\n 'I ate salad with a colleague. ',\n 'I had problems. ',\n 'The dinner is on time. ',\n 'I had been. ',\n 'I ate salad with a friend. ',\n 'I had finished. ',\n 'I had motivation. ',\n 'I had a lunch. ',\n 'I will run the place. ',\n 'I had anxiety. ',\n 'I ate salad with abandon. ',\n 'I had hope. ',\n 'I had fun. ',\n 'I had joy. ',\n 'I had issues. ',\n 'I ate salad with joy. ',\n 'I will run the event. ']"
     },
     "execution_count": 43,
     "metadata": {},
     "output_type": "execute_result"
    }
   ],
   "source": [
    "# Find the missing sentences in the csv file by computing the difference between txt_sentences and csv_sentences\n",
    "different_sentences = list(set(txt_sentences) - set(csv_sentences))\n",
    "different_sentences"
   ],
   "metadata": {
    "collapsed": false,
    "ExecuteTime": {
     "end_time": "2023-10-12T16:31:33.992469800Z",
     "start_time": "2023-10-12T16:31:33.968687Z"
    }
   },
   "id": "53e26c8dadfab5d9"
  },
  {
   "cell_type": "code",
   "execution_count": 44,
   "outputs": [
    {
     "data": {
      "text/plain": "                           query                         target1\n25                 I had eaten.                              NaN\n27               I had a party.                              NaN\n31             I had a meeting.                              NaN\n32             I had a meeting.                              NaN\n38             I had a blister.                              NaN\n39               I had a fever.                              NaN\n40            I had a headache.                              NaN\n41                I had a cold.                              NaN\n42               I had a cough.                              NaN\n62        I will run the study.                              NaN\n63   I will run the restaurant.                              NaN\n64        I will run the store.                              NaN\n65           I will run the lab.                             NaN\n66         I will run the shop.                              NaN\n69      I will run the marathon                              NaN\n70         I will run the course                             NaN\n71          I will run the trail                             NaN\n72           I will run the mile                             NaN\n88      I ate salad with gusto.                              NaN\n89   I ate salad with pleasure.                              NaN\n90        I ate salad with him.                              NaN\n91       I ate salad with John.                              NaN\n94                           NaN                    I had been. \n95                           NaN                I had finished. \n96                           NaN                I had problems. \n97                           NaN                I had concerns. \n98                           NaN                I had troubles. \n99                           NaN                 I had anxiety. \n100                          NaN                  I had issues. \n101                          NaN                     I had fun. \n102                          NaN                     I had joy. \n103                          NaN                    I had hope. \n104                          NaN                  I had energy. \n105                          NaN              I had motivation. \n106                          NaN                I had a dinner. \n107                          NaN                 I had a lunch. \n108                          NaN      I ate salad with abandon. \n109                          NaN          I ate salad with joy. \n110                          NaN     I ate salad with a friend. \n111                          NaN  I ate salad with a colleague. \n112                          NaN         The dinner is on time. \n113                          NaN           I will run the show. \n114                          NaN          I will run the place. \n115                          NaN            I will run the bar. \n116                          NaN             I will run the pub.\n117                          NaN          I will run the event. \n118                          NaN            I will run errands. ",
      "text/html": "<div>\n<style scoped>\n    .dataframe tbody tr th:only-of-type {\n        vertical-align: middle;\n    }\n\n    .dataframe tbody tr th {\n        vertical-align: top;\n    }\n\n    .dataframe thead th {\n        text-align: right;\n    }\n</style>\n<table border=\"1\" class=\"dataframe\">\n  <thead>\n    <tr style=\"text-align: right;\">\n      <th></th>\n      <th>query</th>\n      <th>target1</th>\n    </tr>\n  </thead>\n  <tbody>\n    <tr>\n      <th>25</th>\n      <td>I had eaten.</td>\n      <td>NaN</td>\n    </tr>\n    <tr>\n      <th>27</th>\n      <td>I had a party.</td>\n      <td>NaN</td>\n    </tr>\n    <tr>\n      <th>31</th>\n      <td>I had a meeting.</td>\n      <td>NaN</td>\n    </tr>\n    <tr>\n      <th>32</th>\n      <td>I had a meeting.</td>\n      <td>NaN</td>\n    </tr>\n    <tr>\n      <th>38</th>\n      <td>I had a blister.</td>\n      <td>NaN</td>\n    </tr>\n    <tr>\n      <th>39</th>\n      <td>I had a fever.</td>\n      <td>NaN</td>\n    </tr>\n    <tr>\n      <th>40</th>\n      <td>I had a headache.</td>\n      <td>NaN</td>\n    </tr>\n    <tr>\n      <th>41</th>\n      <td>I had a cold.</td>\n      <td>NaN</td>\n    </tr>\n    <tr>\n      <th>42</th>\n      <td>I had a cough.</td>\n      <td>NaN</td>\n    </tr>\n    <tr>\n      <th>62</th>\n      <td>I will run the study.</td>\n      <td>NaN</td>\n    </tr>\n    <tr>\n      <th>63</th>\n      <td>I will run the restaurant.</td>\n      <td>NaN</td>\n    </tr>\n    <tr>\n      <th>64</th>\n      <td>I will run the store.</td>\n      <td>NaN</td>\n    </tr>\n    <tr>\n      <th>65</th>\n      <td>I will run the lab.</td>\n      <td>NaN</td>\n    </tr>\n    <tr>\n      <th>66</th>\n      <td>I will run the shop.</td>\n      <td>NaN</td>\n    </tr>\n    <tr>\n      <th>69</th>\n      <td>I will run the marathon</td>\n      <td>NaN</td>\n    </tr>\n    <tr>\n      <th>70</th>\n      <td>I will run the course</td>\n      <td>NaN</td>\n    </tr>\n    <tr>\n      <th>71</th>\n      <td>I will run the trail</td>\n      <td>NaN</td>\n    </tr>\n    <tr>\n      <th>72</th>\n      <td>I will run the mile</td>\n      <td>NaN</td>\n    </tr>\n    <tr>\n      <th>88</th>\n      <td>I ate salad with gusto.</td>\n      <td>NaN</td>\n    </tr>\n    <tr>\n      <th>89</th>\n      <td>I ate salad with pleasure.</td>\n      <td>NaN</td>\n    </tr>\n    <tr>\n      <th>90</th>\n      <td>I ate salad with him.</td>\n      <td>NaN</td>\n    </tr>\n    <tr>\n      <th>91</th>\n      <td>I ate salad with John.</td>\n      <td>NaN</td>\n    </tr>\n    <tr>\n      <th>94</th>\n      <td>NaN</td>\n      <td>I had been.</td>\n    </tr>\n    <tr>\n      <th>95</th>\n      <td>NaN</td>\n      <td>I had finished.</td>\n    </tr>\n    <tr>\n      <th>96</th>\n      <td>NaN</td>\n      <td>I had problems.</td>\n    </tr>\n    <tr>\n      <th>97</th>\n      <td>NaN</td>\n      <td>I had concerns.</td>\n    </tr>\n    <tr>\n      <th>98</th>\n      <td>NaN</td>\n      <td>I had troubles.</td>\n    </tr>\n    <tr>\n      <th>99</th>\n      <td>NaN</td>\n      <td>I had anxiety.</td>\n    </tr>\n    <tr>\n      <th>100</th>\n      <td>NaN</td>\n      <td>I had issues.</td>\n    </tr>\n    <tr>\n      <th>101</th>\n      <td>NaN</td>\n      <td>I had fun.</td>\n    </tr>\n    <tr>\n      <th>102</th>\n      <td>NaN</td>\n      <td>I had joy.</td>\n    </tr>\n    <tr>\n      <th>103</th>\n      <td>NaN</td>\n      <td>I had hope.</td>\n    </tr>\n    <tr>\n      <th>104</th>\n      <td>NaN</td>\n      <td>I had energy.</td>\n    </tr>\n    <tr>\n      <th>105</th>\n      <td>NaN</td>\n      <td>I had motivation.</td>\n    </tr>\n    <tr>\n      <th>106</th>\n      <td>NaN</td>\n      <td>I had a dinner.</td>\n    </tr>\n    <tr>\n      <th>107</th>\n      <td>NaN</td>\n      <td>I had a lunch.</td>\n    </tr>\n    <tr>\n      <th>108</th>\n      <td>NaN</td>\n      <td>I ate salad with abandon.</td>\n    </tr>\n    <tr>\n      <th>109</th>\n      <td>NaN</td>\n      <td>I ate salad with joy.</td>\n    </tr>\n    <tr>\n      <th>110</th>\n      <td>NaN</td>\n      <td>I ate salad with a friend.</td>\n    </tr>\n    <tr>\n      <th>111</th>\n      <td>NaN</td>\n      <td>I ate salad with a colleague.</td>\n    </tr>\n    <tr>\n      <th>112</th>\n      <td>NaN</td>\n      <td>The dinner is on time.</td>\n    </tr>\n    <tr>\n      <th>113</th>\n      <td>NaN</td>\n      <td>I will run the show.</td>\n    </tr>\n    <tr>\n      <th>114</th>\n      <td>NaN</td>\n      <td>I will run the place.</td>\n    </tr>\n    <tr>\n      <th>115</th>\n      <td>NaN</td>\n      <td>I will run the bar.</td>\n    </tr>\n    <tr>\n      <th>116</th>\n      <td>NaN</td>\n      <td>I will run the pub.</td>\n    </tr>\n    <tr>\n      <th>117</th>\n      <td>NaN</td>\n      <td>I will run the event.</td>\n    </tr>\n    <tr>\n      <th>118</th>\n      <td>NaN</td>\n      <td>I will run errands.</td>\n    </tr>\n  </tbody>\n</table>\n</div>"
     },
     "execution_count": 44,
     "metadata": {},
     "output_type": "execute_result"
    }
   ],
   "source": [
    "# Make a full outer join on csv_sentences and txt_sentences\n",
    "full_outer_join = pd.merge(csv_sentences, txt_sentences, how=\"outer\", left_on=\"query\", right_on=\"target1\")\n",
    "# Show only the rows that contain a NaN value\n",
    "full_outer_join[full_outer_join.isna().any(axis=1)]"
   ],
   "metadata": {
    "collapsed": false,
    "ExecuteTime": {
     "end_time": "2023-10-12T16:31:33.994890400Z",
     "start_time": "2023-10-12T16:31:33.977145500Z"
    }
   },
   "id": "f1ad92f4f0eee406"
  },
  {
   "cell_type": "code",
   "execution_count": 45,
   "outputs": [
    {
     "data": {
      "text/plain": "   query                         target1\n37   NaN                    I had been. \n39   NaN                I had finished. \n40   NaN                I had problems. \n41   NaN                I had concerns. \n42   NaN                I had troubles. \n43   NaN                 I had anxiety. \n44   NaN                  I had issues. \n45   NaN                     I had fun. \n46   NaN                     I had joy. \n47   NaN                    I had hope. \n48   NaN                  I had energy. \n49   NaN              I had motivation. \n55   NaN                I had a dinner. \n59   NaN                 I had a lunch. \n73   NaN      I ate salad with abandon. \n74   NaN          I ate salad with joy. \n75   NaN     I ate salad with a friend. \n76   NaN  I ate salad with a colleague. \n86   NaN         The dinner is on time. \n89   NaN           I will run the show. \n90   NaN          I will run the place. \n91   NaN            I will run the bar. \n92   NaN             I will run the pub.\n93   NaN          I will run the event. \n96   NaN            I will run errands. ",
      "text/html": "<div>\n<style scoped>\n    .dataframe tbody tr th:only-of-type {\n        vertical-align: middle;\n    }\n\n    .dataframe tbody tr th {\n        vertical-align: top;\n    }\n\n    .dataframe thead th {\n        text-align: right;\n    }\n</style>\n<table border=\"1\" class=\"dataframe\">\n  <thead>\n    <tr style=\"text-align: right;\">\n      <th></th>\n      <th>query</th>\n      <th>target1</th>\n    </tr>\n  </thead>\n  <tbody>\n    <tr>\n      <th>37</th>\n      <td>NaN</td>\n      <td>I had been.</td>\n    </tr>\n    <tr>\n      <th>39</th>\n      <td>NaN</td>\n      <td>I had finished.</td>\n    </tr>\n    <tr>\n      <th>40</th>\n      <td>NaN</td>\n      <td>I had problems.</td>\n    </tr>\n    <tr>\n      <th>41</th>\n      <td>NaN</td>\n      <td>I had concerns.</td>\n    </tr>\n    <tr>\n      <th>42</th>\n      <td>NaN</td>\n      <td>I had troubles.</td>\n    </tr>\n    <tr>\n      <th>43</th>\n      <td>NaN</td>\n      <td>I had anxiety.</td>\n    </tr>\n    <tr>\n      <th>44</th>\n      <td>NaN</td>\n      <td>I had issues.</td>\n    </tr>\n    <tr>\n      <th>45</th>\n      <td>NaN</td>\n      <td>I had fun.</td>\n    </tr>\n    <tr>\n      <th>46</th>\n      <td>NaN</td>\n      <td>I had joy.</td>\n    </tr>\n    <tr>\n      <th>47</th>\n      <td>NaN</td>\n      <td>I had hope.</td>\n    </tr>\n    <tr>\n      <th>48</th>\n      <td>NaN</td>\n      <td>I had energy.</td>\n    </tr>\n    <tr>\n      <th>49</th>\n      <td>NaN</td>\n      <td>I had motivation.</td>\n    </tr>\n    <tr>\n      <th>55</th>\n      <td>NaN</td>\n      <td>I had a dinner.</td>\n    </tr>\n    <tr>\n      <th>59</th>\n      <td>NaN</td>\n      <td>I had a lunch.</td>\n    </tr>\n    <tr>\n      <th>73</th>\n      <td>NaN</td>\n      <td>I ate salad with abandon.</td>\n    </tr>\n    <tr>\n      <th>74</th>\n      <td>NaN</td>\n      <td>I ate salad with joy.</td>\n    </tr>\n    <tr>\n      <th>75</th>\n      <td>NaN</td>\n      <td>I ate salad with a friend.</td>\n    </tr>\n    <tr>\n      <th>76</th>\n      <td>NaN</td>\n      <td>I ate salad with a colleague.</td>\n    </tr>\n    <tr>\n      <th>86</th>\n      <td>NaN</td>\n      <td>The dinner is on time.</td>\n    </tr>\n    <tr>\n      <th>89</th>\n      <td>NaN</td>\n      <td>I will run the show.</td>\n    </tr>\n    <tr>\n      <th>90</th>\n      <td>NaN</td>\n      <td>I will run the place.</td>\n    </tr>\n    <tr>\n      <th>91</th>\n      <td>NaN</td>\n      <td>I will run the bar.</td>\n    </tr>\n    <tr>\n      <th>92</th>\n      <td>NaN</td>\n      <td>I will run the pub.</td>\n    </tr>\n    <tr>\n      <th>93</th>\n      <td>NaN</td>\n      <td>I will run the event.</td>\n    </tr>\n    <tr>\n      <th>96</th>\n      <td>NaN</td>\n      <td>I will run errands.</td>\n    </tr>\n  </tbody>\n</table>\n</div>"
     },
     "execution_count": 45,
     "metadata": {},
     "output_type": "execute_result"
    }
   ],
   "source": [
    "# Do a right join\n",
    "right_join = pd.merge(csv_sentences, txt_sentences, how=\"right\", left_on=\"query\", right_on=\"target1\")\n",
    "right_join[right_join.isna().any(axis=1)]"
   ],
   "metadata": {
    "collapsed": false,
    "ExecuteTime": {
     "end_time": "2023-10-12T16:31:34.021027200Z",
     "start_time": "2023-10-12T16:31:33.994890400Z"
    }
   },
   "id": "fb89fbf11e9c7d6b"
  },
  {
   "cell_type": "code",
   "execution_count": 47,
   "outputs": [
    {
     "data": {
      "text/plain": "                            query       mask ambigous_word        sense  \\\n0     The clip is about a horse.       horse         about        topic   \n1     The clip is about a queen.       queen         about        topic   \n2       The clip is about a cat.         cat         about        topic   \n3      The clip is about a king.        king         about        topic   \n4    The clip is about a prince.      prince         about        topic   \n..                            ...        ...           ...          ...   \n92          I ate salad with joy.        joy          with      feeling   \n93        I ate salad with Lisa.        Lisa          with  accompanier   \n94         I ate salad with her.         her          with  accompanier   \n95     I ate salad with a friend.     friend          with  accompanier   \n96  I ate salad with a colleague.  colleague          with  accompanier   \n\n                 template  label Unnamed: 6  \n0   The clip is about (a)      1        NaN  \n1   The clip is about (a)      1        NaN  \n2   The clip is about (a)      1        NaN  \n3   The clip is about (a)      1        NaN  \n4   The clip is about (a)      1        NaN  \n..                    ...    ...        ...  \n92   I ate salad with (a)      2        NaN  \n93   I ate salad with (a)      3        NaN  \n94   I ate salad with (a)      3        NaN  \n95   I ate salad with (a)      3        NaN  \n96   I ate salad with (a)      3        NaN  \n\n[97 rows x 7 columns]",
      "text/html": "<div>\n<style scoped>\n    .dataframe tbody tr th:only-of-type {\n        vertical-align: middle;\n    }\n\n    .dataframe tbody tr th {\n        vertical-align: top;\n    }\n\n    .dataframe thead th {\n        text-align: right;\n    }\n</style>\n<table border=\"1\" class=\"dataframe\">\n  <thead>\n    <tr style=\"text-align: right;\">\n      <th></th>\n      <th>query</th>\n      <th>mask</th>\n      <th>ambigous_word</th>\n      <th>sense</th>\n      <th>template</th>\n      <th>label</th>\n      <th>Unnamed: 6</th>\n    </tr>\n  </thead>\n  <tbody>\n    <tr>\n      <th>0</th>\n      <td>The clip is about a horse.</td>\n      <td>horse</td>\n      <td>about</td>\n      <td>topic</td>\n      <td>The clip is about (a)</td>\n      <td>1</td>\n      <td>NaN</td>\n    </tr>\n    <tr>\n      <th>1</th>\n      <td>The clip is about a queen.</td>\n      <td>queen</td>\n      <td>about</td>\n      <td>topic</td>\n      <td>The clip is about (a)</td>\n      <td>1</td>\n      <td>NaN</td>\n    </tr>\n    <tr>\n      <th>2</th>\n      <td>The clip is about a cat.</td>\n      <td>cat</td>\n      <td>about</td>\n      <td>topic</td>\n      <td>The clip is about (a)</td>\n      <td>1</td>\n      <td>NaN</td>\n    </tr>\n    <tr>\n      <th>3</th>\n      <td>The clip is about a king.</td>\n      <td>king</td>\n      <td>about</td>\n      <td>topic</td>\n      <td>The clip is about (a)</td>\n      <td>1</td>\n      <td>NaN</td>\n    </tr>\n    <tr>\n      <th>4</th>\n      <td>The clip is about a prince.</td>\n      <td>prince</td>\n      <td>about</td>\n      <td>topic</td>\n      <td>The clip is about (a)</td>\n      <td>1</td>\n      <td>NaN</td>\n    </tr>\n    <tr>\n      <th>...</th>\n      <td>...</td>\n      <td>...</td>\n      <td>...</td>\n      <td>...</td>\n      <td>...</td>\n      <td>...</td>\n      <td>...</td>\n    </tr>\n    <tr>\n      <th>92</th>\n      <td>I ate salad with joy.</td>\n      <td>joy</td>\n      <td>with</td>\n      <td>feeling</td>\n      <td>I ate salad with (a)</td>\n      <td>2</td>\n      <td>NaN</td>\n    </tr>\n    <tr>\n      <th>93</th>\n      <td>I ate salad with Lisa.</td>\n      <td>Lisa</td>\n      <td>with</td>\n      <td>accompanier</td>\n      <td>I ate salad with (a)</td>\n      <td>3</td>\n      <td>NaN</td>\n    </tr>\n    <tr>\n      <th>94</th>\n      <td>I ate salad with her.</td>\n      <td>her</td>\n      <td>with</td>\n      <td>accompanier</td>\n      <td>I ate salad with (a)</td>\n      <td>3</td>\n      <td>NaN</td>\n    </tr>\n    <tr>\n      <th>95</th>\n      <td>I ate salad with a friend.</td>\n      <td>friend</td>\n      <td>with</td>\n      <td>accompanier</td>\n      <td>I ate salad with (a)</td>\n      <td>3</td>\n      <td>NaN</td>\n    </tr>\n    <tr>\n      <th>96</th>\n      <td>I ate salad with a colleague.</td>\n      <td>colleague</td>\n      <td>with</td>\n      <td>accompanier</td>\n      <td>I ate salad with (a)</td>\n      <td>3</td>\n      <td>NaN</td>\n    </tr>\n  </tbody>\n</table>\n<p>97 rows × 7 columns</p>\n</div>"
     },
     "execution_count": 47,
     "metadata": {},
     "output_type": "execute_result"
    }
   ],
   "source": [
    "# Open \"pseudowords/MaPP_Dataset.csv\" as a pandas DataFrame\n",
    "csv_df = pd.read_csv(\"./pseudowords/MaPP_Dataset.csv\")\n",
    "csv_df"
   ],
   "metadata": {
    "collapsed": false,
    "ExecuteTime": {
     "end_time": "2023-10-12T16:31:47.718312400Z",
     "start_time": "2023-10-12T16:31:47.702688900Z"
    }
   },
   "id": "aa0c691bb21e27bb"
  }
 ],
 "metadata": {
  "kernelspec": {
   "display_name": "Python 3",
   "language": "python",
   "name": "python3"
  },
  "language_info": {
   "codemirror_mode": {
    "name": "ipython",
    "version": 2
   },
   "file_extension": ".py",
   "mimetype": "text/x-python",
   "name": "python",
   "nbconvert_exporter": "python",
   "pygments_lexer": "ipython2",
   "version": "2.7.6"
  }
 },
 "nbformat": 4,
 "nbformat_minor": 5
}
