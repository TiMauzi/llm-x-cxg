{
 "cells": [
  {
   "cell_type": "code",
   "execution_count": null,
   "id": "initial_id",
   "metadata": {
    "collapsed": true
   },
   "outputs": [],
   "source": [
    "import os\n",
    "import time\n",
    "from pathlib import Path\n",
    "import requests\n",
    "\n",
    "import pandas as pd\n",
    "import xml.etree.ElementTree as ET\n",
    "from nltk import download\n",
    "from tqdm.auto import tqdm\n",
    "\n",
    "download('punkt')"
   ]
  },
  {
   "cell_type": "markdown",
   "source": [
    "### Read data from the German FrameNet Constructicon in order to do dependency analysis:"
   ],
   "metadata": {
    "collapsed": false
   },
   "id": "ef2bde0899c791f3"
  },
  {
   "cell_type": "code",
   "execution_count": null,
   "outputs": [],
   "source": [
    "def parse_sentences(xml_file):\n",
    "    tree = ET.parse(xml_file)\n",
    "    root = tree.getroot()\n",
    "\n",
    "    construction_id = root.attrib.get('id')\n",
    "    try:\n",
    "        category, name = root.attrib.get('name').split(':')\n",
    "    except ValueError:\n",
    "        category = root.attrib.get('name')\n",
    "        name = None\n",
    "\n",
    "    sentences_data = []\n",
    "    \n",
    "    for sentence in root.findall('.//sentence'):\n",
    "        if sentence.attrib.get('uid') is None:\n",
    "            continue\n",
    "        uid = sentence.attrib.get('uid')\n",
    "        text = sentence.find('.//text').text.strip()\n",
    "        \n",
    "        text_pos = []\n",
    "        text_xpos = []\n",
    "        text_dep = []\n",
    "        text_head = []\n",
    "        kees = []\n",
    "        \n",
    "        # Loop through annotations:\n",
    "        for layer in sentence.findall('.//layer'):\n",
    "            layer_name = layer.attrib.get('name')\n",
    "            \n",
    "            if \"KEE-\" in layer_name:\n",
    "                # Loop over all KEEs or KEs:\n",
    "                for label in layer.findall('.//label'):\n",
    "                    start = int(label.attrib.get('start'))\n",
    "                    end = int(label.attrib.get('end'))\n",
    "                    kees.append(text[start:end])  # Read the KEE\n",
    "            if \"UPOS\" == layer_name:\n",
    "                for label in layer.findall('.//label'):\n",
    "                    text_pos.append(label.attrib.get('name'))\n",
    "            elif \"XPOS\" == layer_name:\n",
    "                for label in layer.findall('.//label'):\n",
    "                    text_xpos.append(label.attrib.get('name'))\n",
    "            elif \"DEP_REL\" == layer_name:\n",
    "                for label in layer.findall('.//label'):\n",
    "                    text_dep.append(label.attrib.get('name'))\n",
    "            elif \"DEP_HEAD\" == layer_name:\n",
    "                for label in layer.findall('.//label'):\n",
    "                    idx = int(label.attrib.get('name')) - 1\n",
    "                    text_head.append(text.split()[idx].lower())\n",
    "        \n",
    "        \n",
    "        sentences_data.append({\n",
    "            'uid': uid,\n",
    "            'text': text,\n",
    "            \"pos_tags\": text_pos,\n",
    "            \"xpos_tags\": text_xpos,\n",
    "            \"dep_rels\": text_dep,\n",
    "            \"dep_heads\": text_head,\n",
    "            \"kees\": kees,\n",
    "            'construction_id': int(construction_id),\n",
    "            'category': category,\n",
    "            'name': name\n",
    "        })\n",
    "\n",
    "    return sentences_data\n",
    "\n",
    "kee_list = []\n",
    "xml_directory = '../../data/constructicon/construction'\n",
    "\n",
    "for filename in tqdm(list(os.listdir(xml_directory))):\n",
    "    if filename.endswith('.xml'):\n",
    "        constr_id = Path(filename).stem\n",
    "        if b\"fa-triangle-exclamation\" in requests.get(f\"https://gsw.phil.hhu.de/constructicon/construction?id={constr_id}\").content:\n",
    "            print(constr_id, \"does not exist online!\")\n",
    "            continue\n",
    "        xml_file = os.path.join(xml_directory, filename)\n",
    "        data = parse_sentences(xml_file)\n",
    "        if data:\n",
    "            kee_list += data\n",
    "        time.sleep(.5)\n",
    "\n",
    "sentences = pd.DataFrame.from_dict(kee_list)\n",
    "sentences.set_index('uid', inplace=True)\n",
    "sentences"
   ],
   "metadata": {
    "collapsed": false
   },
   "id": "a242c7acdc0e8190"
  },
  {
   "cell_type": "code",
   "execution_count": null,
   "outputs": [],
   "source": [
    "# Pickle contextleft and text with construction_id as index for generation purposes later:\n",
    "sentences.to_csv(\"../../data/pseudowords/annotations.csv\")"
   ],
   "metadata": {
    "collapsed": false
   },
   "id": "fcee43edc38c0ff3"
  }
 ],
 "metadata": {
  "kernelspec": {
   "display_name": "Python 3",
   "language": "python",
   "name": "python3"
  },
  "language_info": {
   "codemirror_mode": {
    "name": "ipython",
    "version": 2
   },
   "file_extension": ".py",
   "mimetype": "text/x-python",
   "name": "python",
   "nbconvert_exporter": "python",
   "pygments_lexer": "ipython2",
   "version": "2.7.6"
  }
 },
 "nbformat": 4,
 "nbformat_minor": 5
}
