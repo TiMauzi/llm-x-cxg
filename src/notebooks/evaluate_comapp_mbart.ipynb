{
 "cells": [
  {
   "cell_type": "code",
   "execution_count": 2,
   "outputs": [],
   "source": [
    "import itertools\n",
    "import json\n",
    "import pickle\n",
    "import re\n",
    "\n",
    "import numpy as np\n",
    "import pandas as pd\n",
    "import torch\n",
    "from transformers import MBartForConditionalGeneration, MBart50TokenizerFast\n",
    "\n",
    "from tqdm.notebook import tqdm\n",
    "tqdm.pandas()"
   ],
   "metadata": {
    "collapsed": false,
    "ExecuteTime": {
     "end_time": "2024-01-27T19:50:25.161649543Z",
     "start_time": "2024-01-27T19:50:25.155856813Z"
    }
   },
   "id": "863338ddbf31a6c5"
  },
  {
   "cell_type": "code",
   "execution_count": 3,
   "outputs": [
    {
     "data": {
      "text/plain": "                                                 example  \\\n0      Und dann ist da noch das generelle Problem mit...   \n1      Und dann ist da noch das generelle Problem mit...   \n2      Und dann ist da noch das generelle Problem mit...   \n3      Und dann ist da noch das generelle Problem mit...   \n4      Und dann ist da noch das generelle Problem mit...   \n...                                                  ...   \n12128  \" Eine low fee - Schule ist nicht automatisch ...   \n12129  \" Eine low fee - Schule ist nicht automatisch ...   \n12130  Im Gang sieht sie plötzlich Jamie , erkennt ih...   \n12131  An seiner Hand geht ein Mädchen , einen Kopf k...   \n12132  Rund 45 . 000 Dollar soll der Byton - SUV kost...   \n\n                                                     cue    pseudoword  \n0      Und dann ist da noch das generelle Problem mit...  geschweige10  \n1      Und dann ist da noch das generelle Problem mit...        denn10  \n2      Und dann ist da noch das generelle Problem mit...  geschweige10  \n3      Und dann ist da noch das generelle Problem mit...        denn10  \n4      Und dann ist da noch das generelle Problem mit...  geschweige10  \n...                                                  ...           ...  \n12128  \" Eine low fee - Schule ist nicht automatisch ...          er99  \n12129  \" Eine low fee - Schule ist nicht automatisch ...          er99  \n12130  Im Gang sieht sie plötzlich Jamie , erkennt ih...          er99  \n12131  An seiner Hand geht ein Mädchen , einen Kopf k...          er99  \n12132  Rund 45 . 000 Dollar soll der Byton - SUV kost...          er99  \n\n[12133 rows x 3 columns]",
      "text/html": "<div>\n<style scoped>\n    .dataframe tbody tr th:only-of-type {\n        vertical-align: middle;\n    }\n\n    .dataframe tbody tr th {\n        vertical-align: top;\n    }\n\n    .dataframe thead th {\n        text-align: right;\n    }\n</style>\n<table border=\"1\" class=\"dataframe\">\n  <thead>\n    <tr style=\"text-align: right;\">\n      <th></th>\n      <th>example</th>\n      <th>cue</th>\n      <th>pseudoword</th>\n    </tr>\n  </thead>\n  <tbody>\n    <tr>\n      <th>0</th>\n      <td>Und dann ist da noch das generelle Problem mit...</td>\n      <td>Und dann ist da noch das generelle Problem mit...</td>\n      <td>geschweige10</td>\n    </tr>\n    <tr>\n      <th>1</th>\n      <td>Und dann ist da noch das generelle Problem mit...</td>\n      <td>Und dann ist da noch das generelle Problem mit...</td>\n      <td>denn10</td>\n    </tr>\n    <tr>\n      <th>2</th>\n      <td>Und dann ist da noch das generelle Problem mit...</td>\n      <td>Und dann ist da noch das generelle Problem mit...</td>\n      <td>geschweige10</td>\n    </tr>\n    <tr>\n      <th>3</th>\n      <td>Und dann ist da noch das generelle Problem mit...</td>\n      <td>Und dann ist da noch das generelle Problem mit...</td>\n      <td>denn10</td>\n    </tr>\n    <tr>\n      <th>4</th>\n      <td>Und dann ist da noch das generelle Problem mit...</td>\n      <td>Und dann ist da noch das generelle Problem mit...</td>\n      <td>geschweige10</td>\n    </tr>\n    <tr>\n      <th>...</th>\n      <td>...</td>\n      <td>...</td>\n      <td>...</td>\n    </tr>\n    <tr>\n      <th>12128</th>\n      <td>\" Eine low fee - Schule ist nicht automatisch ...</td>\n      <td>\" Eine low fee - Schule ist nicht automatisch ...</td>\n      <td>er99</td>\n    </tr>\n    <tr>\n      <th>12129</th>\n      <td>\" Eine low fee - Schule ist nicht automatisch ...</td>\n      <td>\" Eine low fee - Schule ist nicht automatisch ...</td>\n      <td>er99</td>\n    </tr>\n    <tr>\n      <th>12130</th>\n      <td>Im Gang sieht sie plötzlich Jamie , erkennt ih...</td>\n      <td>Im Gang sieht sie plötzlich Jamie , erkennt ih...</td>\n      <td>er99</td>\n    </tr>\n    <tr>\n      <th>12131</th>\n      <td>An seiner Hand geht ein Mädchen , einen Kopf k...</td>\n      <td>An seiner Hand geht ein Mädchen , einen Kopf k...</td>\n      <td>er99</td>\n    </tr>\n    <tr>\n      <th>12132</th>\n      <td>Rund 45 . 000 Dollar soll der Byton - SUV kost...</td>\n      <td>Rund 45 . 000 Dollar soll der Byton - SUV kost...</td>\n      <td>er99</td>\n    </tr>\n  </tbody>\n</table>\n<p>12133 rows × 3 columns</p>\n</div>"
     },
     "execution_count": 3,
     "metadata": {},
     "output_type": "execute_result"
    }
   ],
   "source": [
    "with open(\"../../data/pseudowords/CoMaPP_all.json\") as json_file:\n",
    "    data = json.load(json_file)\n",
    "    \n",
    "data = [{\"example\": d[\"target1\"], \"cue\": \" \".join(d[\"target1\"].split()[:d[\"query_idx\"]]), \"pseudoword\": d[\"label\"]} for d in data]\n",
    "df = pd.DataFrame.from_dict(data).drop_duplicates(ignore_index=True)\n",
    "df"
   ],
   "metadata": {
    "collapsed": false,
    "ExecuteTime": {
     "end_time": "2024-01-27T19:50:25.356477442Z",
     "start_time": "2024-01-27T19:50:25.161599972Z"
    }
   },
   "id": "18bb06d46d72aab4"
  },
  {
   "cell_type": "code",
   "execution_count": 4,
   "outputs": [
    {
     "data": {
      "text/plain": "                                                 example  \\\nindex                                                      \n10     Und dann ist da noch das generelle Problem mit...   \n10     Und dann ist da noch das generelle Problem mit...   \n10     Und dann ist da noch das generelle Problem mit...   \n10     Und dann ist da noch das generelle Problem mit...   \n10     Und dann ist da noch das generelle Problem mit...   \n...                                                  ...   \n99     \" Eine low fee - Schule ist nicht automatisch ...   \n99     \" Eine low fee - Schule ist nicht automatisch ...   \n99     Im Gang sieht sie plötzlich Jamie , erkennt ih...   \n99     An seiner Hand geht ein Mädchen , einen Kopf k...   \n99     Rund 45 . 000 Dollar soll der Byton - SUV kost...   \n\n                                                     cue    pseudoword  \nindex                                                                   \n10     Und dann ist da noch das generelle Problem mit...  geschweige10  \n10     Und dann ist da noch das generelle Problem mit...        denn10  \n10     Und dann ist da noch das generelle Problem mit...  geschweige10  \n10     Und dann ist da noch das generelle Problem mit...        denn10  \n10     Und dann ist da noch das generelle Problem mit...  geschweige10  \n...                                                  ...           ...  \n99     \" Eine low fee - Schule ist nicht automatisch ...          er99  \n99     \" Eine low fee - Schule ist nicht automatisch ...          er99  \n99     Im Gang sieht sie plötzlich Jamie , erkennt ih...          er99  \n99     An seiner Hand geht ein Mädchen , einen Kopf k...          er99  \n99     Rund 45 . 000 Dollar soll der Byton - SUV kost...          er99  \n\n[12133 rows x 3 columns]",
      "text/html": "<div>\n<style scoped>\n    .dataframe tbody tr th:only-of-type {\n        vertical-align: middle;\n    }\n\n    .dataframe tbody tr th {\n        vertical-align: top;\n    }\n\n    .dataframe thead th {\n        text-align: right;\n    }\n</style>\n<table border=\"1\" class=\"dataframe\">\n  <thead>\n    <tr style=\"text-align: right;\">\n      <th></th>\n      <th>example</th>\n      <th>cue</th>\n      <th>pseudoword</th>\n    </tr>\n    <tr>\n      <th>index</th>\n      <th></th>\n      <th></th>\n      <th></th>\n    </tr>\n  </thead>\n  <tbody>\n    <tr>\n      <th>10</th>\n      <td>Und dann ist da noch das generelle Problem mit...</td>\n      <td>Und dann ist da noch das generelle Problem mit...</td>\n      <td>geschweige10</td>\n    </tr>\n    <tr>\n      <th>10</th>\n      <td>Und dann ist da noch das generelle Problem mit...</td>\n      <td>Und dann ist da noch das generelle Problem mit...</td>\n      <td>denn10</td>\n    </tr>\n    <tr>\n      <th>10</th>\n      <td>Und dann ist da noch das generelle Problem mit...</td>\n      <td>Und dann ist da noch das generelle Problem mit...</td>\n      <td>geschweige10</td>\n    </tr>\n    <tr>\n      <th>10</th>\n      <td>Und dann ist da noch das generelle Problem mit...</td>\n      <td>Und dann ist da noch das generelle Problem mit...</td>\n      <td>denn10</td>\n    </tr>\n    <tr>\n      <th>10</th>\n      <td>Und dann ist da noch das generelle Problem mit...</td>\n      <td>Und dann ist da noch das generelle Problem mit...</td>\n      <td>geschweige10</td>\n    </tr>\n    <tr>\n      <th>...</th>\n      <td>...</td>\n      <td>...</td>\n      <td>...</td>\n    </tr>\n    <tr>\n      <th>99</th>\n      <td>\" Eine low fee - Schule ist nicht automatisch ...</td>\n      <td>\" Eine low fee - Schule ist nicht automatisch ...</td>\n      <td>er99</td>\n    </tr>\n    <tr>\n      <th>99</th>\n      <td>\" Eine low fee - Schule ist nicht automatisch ...</td>\n      <td>\" Eine low fee - Schule ist nicht automatisch ...</td>\n      <td>er99</td>\n    </tr>\n    <tr>\n      <th>99</th>\n      <td>Im Gang sieht sie plötzlich Jamie , erkennt ih...</td>\n      <td>Im Gang sieht sie plötzlich Jamie , erkennt ih...</td>\n      <td>er99</td>\n    </tr>\n    <tr>\n      <th>99</th>\n      <td>An seiner Hand geht ein Mädchen , einen Kopf k...</td>\n      <td>An seiner Hand geht ein Mädchen , einen Kopf k...</td>\n      <td>er99</td>\n    </tr>\n    <tr>\n      <th>99</th>\n      <td>Rund 45 . 000 Dollar soll der Byton - SUV kost...</td>\n      <td>Rund 45 . 000 Dollar soll der Byton - SUV kost...</td>\n      <td>er99</td>\n    </tr>\n  </tbody>\n</table>\n<p>12133 rows × 3 columns</p>\n</div>"
     },
     "execution_count": 4,
     "metadata": {},
     "output_type": "execute_result"
    }
   ],
   "source": [
    "df['index'] = df['pseudoword'].str.extract('(\\d+)').astype(int)\n",
    "df.set_index('index', inplace=True)\n",
    "\n",
    "df"
   ],
   "metadata": {
    "collapsed": false,
    "ExecuteTime": {
     "end_time": "2024-01-27T19:50:25.555380525Z",
     "start_time": "2024-01-27T19:50:25.369005917Z"
    }
   },
   "id": "b7e1f6e88f687297"
  },
  {
   "cell_type": "code",
   "execution_count": 5,
   "outputs": [
    {
     "data": {
      "text/plain": "                                                 example  \\\nindex                                                      \n10     Und dann ist da noch das generelle Problem mit...   \n10     Und dann ist da noch das generelle Problem mit...   \n10     Und dann ist da noch das generelle Problem mit...   \n10     Und dann ist da noch das generelle Problem mit...   \n10     Und dann ist da noch das generelle Problem mit...   \n...                                                  ...   \n99     \" Eine low fee - Schule ist nicht automatisch ...   \n99     \" Eine low fee - Schule ist nicht automatisch ...   \n99     Im Gang sieht sie plötzlich Jamie , erkennt ih...   \n99     An seiner Hand geht ein Mädchen , einen Kopf k...   \n99     Rund 45 . 000 Dollar soll der Byton - SUV kost...   \n\n                                                     cue    pseudoword  \nindex                                                                   \n10     Und dann ist da noch das generelle Problem mit...  geschweige10  \n10     Und dann ist da noch das generelle Problem mit...        denn10  \n10     Und dann ist da noch das generelle Problem mit...  geschweige10  \n10     Und dann ist da noch das generelle Problem mit...        denn10  \n10     Und dann ist da noch das generelle Problem mit...  geschweige10  \n...                                                  ...           ...  \n99     \" Eine low fee - Schule ist nicht automatisch ...          er99  \n99     \" Eine low fee - Schule ist nicht automatisch ...          er99  \n99     Im Gang sieht sie plötzlich Jamie , erkennt ih...          er99  \n99     An seiner Hand geht ein Mädchen , einen Kopf k...          er99  \n99     Rund 45 . 000 Dollar soll der Byton - SUV kost...          er99  \n\n[12133 rows x 3 columns]",
      "text/html": "<div>\n<style scoped>\n    .dataframe tbody tr th:only-of-type {\n        vertical-align: middle;\n    }\n\n    .dataframe tbody tr th {\n        vertical-align: top;\n    }\n\n    .dataframe thead th {\n        text-align: right;\n    }\n</style>\n<table border=\"1\" class=\"dataframe\">\n  <thead>\n    <tr style=\"text-align: right;\">\n      <th></th>\n      <th>example</th>\n      <th>cue</th>\n      <th>pseudoword</th>\n    </tr>\n    <tr>\n      <th>index</th>\n      <th></th>\n      <th></th>\n      <th></th>\n    </tr>\n  </thead>\n  <tbody>\n    <tr>\n      <th>10</th>\n      <td>Und dann ist da noch das generelle Problem mit...</td>\n      <td>Und dann ist da noch das generelle Problem mit...</td>\n      <td>geschweige10</td>\n    </tr>\n    <tr>\n      <th>10</th>\n      <td>Und dann ist da noch das generelle Problem mit...</td>\n      <td>Und dann ist da noch das generelle Problem mit...</td>\n      <td>denn10</td>\n    </tr>\n    <tr>\n      <th>10</th>\n      <td>Und dann ist da noch das generelle Problem mit...</td>\n      <td>Und dann ist da noch das generelle Problem mit...</td>\n      <td>geschweige10</td>\n    </tr>\n    <tr>\n      <th>10</th>\n      <td>Und dann ist da noch das generelle Problem mit...</td>\n      <td>Und dann ist da noch das generelle Problem mit...</td>\n      <td>denn10</td>\n    </tr>\n    <tr>\n      <th>10</th>\n      <td>Und dann ist da noch das generelle Problem mit...</td>\n      <td>Und dann ist da noch das generelle Problem mit...</td>\n      <td>geschweige10</td>\n    </tr>\n    <tr>\n      <th>...</th>\n      <td>...</td>\n      <td>...</td>\n      <td>...</td>\n    </tr>\n    <tr>\n      <th>99</th>\n      <td>\" Eine low fee - Schule ist nicht automatisch ...</td>\n      <td>\" Eine low fee - Schule ist nicht automatisch ...</td>\n      <td>er99</td>\n    </tr>\n    <tr>\n      <th>99</th>\n      <td>\" Eine low fee - Schule ist nicht automatisch ...</td>\n      <td>\" Eine low fee - Schule ist nicht automatisch ...</td>\n      <td>er99</td>\n    </tr>\n    <tr>\n      <th>99</th>\n      <td>Im Gang sieht sie plötzlich Jamie , erkennt ih...</td>\n      <td>Im Gang sieht sie plötzlich Jamie , erkennt ih...</td>\n      <td>er99</td>\n    </tr>\n    <tr>\n      <th>99</th>\n      <td>An seiner Hand geht ein Mädchen , einen Kopf k...</td>\n      <td>An seiner Hand geht ein Mädchen , einen Kopf k...</td>\n      <td>er99</td>\n    </tr>\n    <tr>\n      <th>99</th>\n      <td>Rund 45 . 000 Dollar soll der Byton - SUV kost...</td>\n      <td>Rund 45 . 000 Dollar soll der Byton - SUV kost...</td>\n      <td>er99</td>\n    </tr>\n  </tbody>\n</table>\n<p>12133 rows × 3 columns</p>\n</div>"
     },
     "execution_count": 5,
     "metadata": {},
     "output_type": "execute_result"
    }
   ],
   "source": [
    "contextleft = pd.read_pickle(\"../../data/pseudowords/contextleft_text.pickle\")\n",
    "\n",
    "def update_cue(row):\n",
    "    output = row[['example', 'cue']]\n",
    "    if row['cue'] == '':  # if the string in cue is empty\n",
    "        # match the index of row with contextleft['construction_id'] and match contextleft['text'] with row['example'] and create matching_entry\n",
    "        matching_entry = contextleft.loc[(contextleft['construction_id'] == row.name) & (contextleft['text'] == row['example']), 'contextleft'].tolist()\n",
    "        if len(matching_entry) > 0:\n",
    "            output = [matching_entry[0] + \" \" + row['example'], matching_entry[0]]\n",
    "    return output\n",
    "\n",
    "# Add the left context if there is no cue up until the pseudoword.\n",
    "df[[\"example\", \"cue\"]] = df.apply(update_cue, axis=1)\n",
    "df"
   ],
   "metadata": {
    "collapsed": false,
    "ExecuteTime": {
     "end_time": "2024-01-27T19:50:32.085922388Z",
     "start_time": "2024-01-27T19:50:25.430274822Z"
    }
   },
   "id": "a898840ef3c9c442"
  },
  {
   "cell_type": "code",
   "execution_count": 6,
   "outputs": [
    {
     "data": {
      "text/plain": "                                                                   example  \\\nconstruction pseudoword                                                      \n5            Und5        [\"\"Nicht herauskaufen\"\", \"\"nicht erpressen las...   \n             erst5       [Trainer Lucien Favre hatte schon seine beiden...   \n             gar5        [Es hat Afghanistan nicht stabilisiert und sch...   \n             nicht5      [Es hat Afghanistan nicht stabilisiert und sch...   \n             recht5      [Trainer Lucien Favre hatte schon seine beiden...   \n...                                                                    ...   \n1884         Gold1884    [Schweigen ist Silber , reden ist Gold ., Schw...   \n             Silber1884  [Schweigen ist Silber , reden ist Gold ., Schw...   \n             ist1884     [Schweigen ist Silber , reden ist Gold ., Schw...   \n1986         kaum1986    [Die Vorhut vor 20.000 Jahren war für das Ries...   \n1987         sehr1987    [Solche Menschen können sich sehr wohlfühlen o...   \n\n                                                                       cue  \nconstruction pseudoword                                                     \n5            Und5        [\"\"Nicht herauskaufen\"\", \"\"nicht erpressen las...  \n             erst5       [Trainer Lucien Favre hatte schon seine beiden...  \n             gar5        [Es hat Afghanistan nicht stabilisiert, Es hat...  \n             nicht5      [Es, Es hat Afghanistan, Dass, Dass es in der ...  \n             recht5      [Trainer Lucien Favre hatte schon seine beiden...  \n...                                                                    ...  \n1884         Gold1884    [Schweigen ist Silber , reden ist, Schweigen i...  \n             Silber1884  [Schweigen ist, Schweigen ist, Angeben ist, Sc...  \n             ist1884     [Schweigen, Schweigen, Angeben, Schweigen, \" Q...  \n1986         kaum1986    [Die Vorhut vor 20.000 Jahren, Die Vorhut vor ...  \n1987         sehr1987    [Solche Menschen können, Solche Menschen könne...  \n\n[562 rows x 2 columns]",
      "text/html": "<div>\n<style scoped>\n    .dataframe tbody tr th:only-of-type {\n        vertical-align: middle;\n    }\n\n    .dataframe tbody tr th {\n        vertical-align: top;\n    }\n\n    .dataframe thead th {\n        text-align: right;\n    }\n</style>\n<table border=\"1\" class=\"dataframe\">\n  <thead>\n    <tr style=\"text-align: right;\">\n      <th></th>\n      <th></th>\n      <th>example</th>\n      <th>cue</th>\n    </tr>\n    <tr>\n      <th>construction</th>\n      <th>pseudoword</th>\n      <th></th>\n      <th></th>\n    </tr>\n  </thead>\n  <tbody>\n    <tr>\n      <th rowspan=\"5\" valign=\"top\">5</th>\n      <th>Und5</th>\n      <td>[\"\"Nicht herauskaufen\"\", \"\"nicht erpressen las...</td>\n      <td>[\"\"Nicht herauskaufen\"\", \"\"nicht erpressen las...</td>\n    </tr>\n    <tr>\n      <th>erst5</th>\n      <td>[Trainer Lucien Favre hatte schon seine beiden...</td>\n      <td>[Trainer Lucien Favre hatte schon seine beiden...</td>\n    </tr>\n    <tr>\n      <th>gar5</th>\n      <td>[Es hat Afghanistan nicht stabilisiert und sch...</td>\n      <td>[Es hat Afghanistan nicht stabilisiert, Es hat...</td>\n    </tr>\n    <tr>\n      <th>nicht5</th>\n      <td>[Es hat Afghanistan nicht stabilisiert und sch...</td>\n      <td>[Es, Es hat Afghanistan, Dass, Dass es in der ...</td>\n    </tr>\n    <tr>\n      <th>recht5</th>\n      <td>[Trainer Lucien Favre hatte schon seine beiden...</td>\n      <td>[Trainer Lucien Favre hatte schon seine beiden...</td>\n    </tr>\n    <tr>\n      <th>...</th>\n      <th>...</th>\n      <td>...</td>\n      <td>...</td>\n    </tr>\n    <tr>\n      <th rowspan=\"3\" valign=\"top\">1884</th>\n      <th>Gold1884</th>\n      <td>[Schweigen ist Silber , reden ist Gold ., Schw...</td>\n      <td>[Schweigen ist Silber , reden ist, Schweigen i...</td>\n    </tr>\n    <tr>\n      <th>Silber1884</th>\n      <td>[Schweigen ist Silber , reden ist Gold ., Schw...</td>\n      <td>[Schweigen ist, Schweigen ist, Angeben ist, Sc...</td>\n    </tr>\n    <tr>\n      <th>ist1884</th>\n      <td>[Schweigen ist Silber , reden ist Gold ., Schw...</td>\n      <td>[Schweigen, Schweigen, Angeben, Schweigen, \" Q...</td>\n    </tr>\n    <tr>\n      <th>1986</th>\n      <th>kaum1986</th>\n      <td>[Die Vorhut vor 20.000 Jahren war für das Ries...</td>\n      <td>[Die Vorhut vor 20.000 Jahren, Die Vorhut vor ...</td>\n    </tr>\n    <tr>\n      <th>1987</th>\n      <th>sehr1987</th>\n      <td>[Solche Menschen können sich sehr wohlfühlen o...</td>\n      <td>[Solche Menschen können, Solche Menschen könne...</td>\n    </tr>\n  </tbody>\n</table>\n<p>562 rows × 2 columns</p>\n</div>"
     },
     "execution_count": 6,
     "metadata": {},
     "output_type": "execute_result"
    }
   ],
   "source": [
    "df.reset_index(inplace=True)\n",
    "df.rename(columns={'index': 'construction'}, inplace=True)\n",
    "\n",
    "result_df = df.groupby(['construction', 'pseudoword']).agg({'example': list, 'cue': list})\n",
    "\n",
    "result_df"
   ],
   "metadata": {
    "collapsed": false,
    "ExecuteTime": {
     "end_time": "2024-01-27T19:50:32.199959629Z",
     "start_time": "2024-01-27T19:50:32.082442148Z"
    }
   },
   "id": "4a4e3d92707b4c4"
  },
  {
   "cell_type": "code",
   "execution_count": 7,
   "outputs": [
    {
     "data": {
      "text/plain": "                                             definition\n10    Die \"Negation:NEG_XgeschweigedennY-Konstruktio...\n100   Die \"Äquativ_Plural-Konstruktion\" gehört zu de...\n1004  Die \"Superlativ_Klimax:ADJ1_ADJ1-er_NP-Konstru...\n1006  Die \"Superlativ:PRÄP_ADJ-ster_NP-Konstruktion\"...\n101   Die \"Äquativ:ADJwieNP-Konstruktion\" gehört zu ...\n...                                                 ...\n97    Die \"Komparativ:ADJ1-eralsADJ1-Konstruktion\" g...\n973   Bei \"Disjunktion_Doppeltitel:XoderY\" handelt e...\n976   Bei \"Korrelation_Affirmation:WoXist, istY\" han...\n98    Die \"Äquativ:soADJwieXP-Konstruktion\" gehört z...\n99    Die \"Komparativ:ADJ-eralsX-Konstruktion\" gehör...\n\n[211 rows x 1 columns]",
      "text/html": "<div>\n<style scoped>\n    .dataframe tbody tr th:only-of-type {\n        vertical-align: middle;\n    }\n\n    .dataframe tbody tr th {\n        vertical-align: top;\n    }\n\n    .dataframe thead th {\n        text-align: right;\n    }\n</style>\n<table border=\"1\" class=\"dataframe\">\n  <thead>\n    <tr style=\"text-align: right;\">\n      <th></th>\n      <th>definition</th>\n    </tr>\n  </thead>\n  <tbody>\n    <tr>\n      <th>10</th>\n      <td>Die \"Negation:NEG_XgeschweigedennY-Konstruktio...</td>\n    </tr>\n    <tr>\n      <th>100</th>\n      <td>Die \"Äquativ_Plural-Konstruktion\" gehört zu de...</td>\n    </tr>\n    <tr>\n      <th>1004</th>\n      <td>Die \"Superlativ_Klimax:ADJ1_ADJ1-er_NP-Konstru...</td>\n    </tr>\n    <tr>\n      <th>1006</th>\n      <td>Die \"Superlativ:PRÄP_ADJ-ster_NP-Konstruktion\"...</td>\n    </tr>\n    <tr>\n      <th>101</th>\n      <td>Die \"Äquativ:ADJwieNP-Konstruktion\" gehört zu ...</td>\n    </tr>\n    <tr>\n      <th>...</th>\n      <td>...</td>\n    </tr>\n    <tr>\n      <th>97</th>\n      <td>Die \"Komparativ:ADJ1-eralsADJ1-Konstruktion\" g...</td>\n    </tr>\n    <tr>\n      <th>973</th>\n      <td>Bei \"Disjunktion_Doppeltitel:XoderY\" handelt e...</td>\n    </tr>\n    <tr>\n      <th>976</th>\n      <td>Bei \"Korrelation_Affirmation:WoXist, istY\" han...</td>\n    </tr>\n    <tr>\n      <th>98</th>\n      <td>Die \"Äquativ:soADJwieXP-Konstruktion\" gehört z...</td>\n    </tr>\n    <tr>\n      <th>99</th>\n      <td>Die \"Komparativ:ADJ-eralsX-Konstruktion\" gehör...</td>\n    </tr>\n  </tbody>\n</table>\n<p>211 rows × 1 columns</p>\n</div>"
     },
     "execution_count": 7,
     "metadata": {},
     "output_type": "execute_result"
    }
   ],
   "source": [
    "with open(\"../../out/definitions.pickle\", \"rb\") as definitions_file:\n",
    "    definitions = pd.DataFrame.from_dict(pickle.load(definitions_file), orient=\"index\", columns=[\"definition\"])\n",
    "    \n",
    "definitions"
   ],
   "metadata": {
    "collapsed": true,
    "ExecuteTime": {
     "end_time": "2024-01-27T19:50:32.308229836Z",
     "start_time": "2024-01-27T19:50:32.145740308Z"
    }
   },
   "id": "initial_id"
  },
  {
   "cell_type": "code",
   "execution_count": 8,
   "outputs": [
    {
     "data": {
      "text/plain": "                                                                   example  \\\nconstruction pseudoword                                                      \n5            Und5        [\"\"Nicht herauskaufen\"\", \"\"nicht erpressen las...   \n             erst5       [Trainer Lucien Favre hatte schon seine beiden...   \n             gar5        [Es hat Afghanistan nicht stabilisiert und sch...   \n             nicht5      [Es hat Afghanistan nicht stabilisiert und sch...   \n             recht5      [Trainer Lucien Favre hatte schon seine beiden...   \n...                                                                    ...   \n1884         Gold1884    [Schweigen ist Silber , reden ist Gold ., Schw...   \n             Silber1884  [Schweigen ist Silber , reden ist Gold ., Schw...   \n             ist1884     [Schweigen ist Silber , reden ist Gold ., Schw...   \n1986         kaum1986    [Die Vorhut vor 20.000 Jahren war für das Ries...   \n1987         sehr1987    [Solche Menschen können sich sehr wohlfühlen o...   \n\n                                                                       cue  \\\nconstruction pseudoword                                                      \n5            Und5        [\"\"Nicht herauskaufen\"\", \"\"nicht erpressen las...   \n             erst5       [Trainer Lucien Favre hatte schon seine beiden...   \n             gar5        [Es hat Afghanistan nicht stabilisiert, Es hat...   \n             nicht5      [Es, Es hat Afghanistan, Dass, Dass es in der ...   \n             recht5      [Trainer Lucien Favre hatte schon seine beiden...   \n...                                                                    ...   \n1884         Gold1884    [Schweigen ist Silber , reden ist, Schweigen i...   \n             Silber1884  [Schweigen ist, Schweigen ist, Angeben ist, Sc...   \n             ist1884     [Schweigen, Schweigen, Angeben, Schweigen, \" Q...   \n1986         kaum1986    [Die Vorhut vor 20.000 Jahren, Die Vorhut vor ...   \n1987         sehr1987    [Solche Menschen können, Solche Menschen könne...   \n\n                                                                definition  \nconstruction pseudoword                                                     \n5            Und5        Die \"Negation:NEG_Xund_schon_gar_nichtY-Konstr...  \n             erst5       Die \"Negation:NEG_Xund_schon_gar_nichtY-Konstr...  \n             gar5        Die \"Negation:NEG_Xund_schon_gar_nichtY-Konstr...  \n             nicht5      Die \"Negation:NEG_Xund_schon_gar_nichtY-Konstr...  \n             recht5      Die \"Negation:NEG_Xund_schon_gar_nichtY-Konstr...  \n...                                                                    ...  \n1884         Gold1884    Die \"Intensivierung_Komparativ:Xist_SilberYist...  \n             Silber1884  Die \"Intensivierung_Komparativ:Xist_SilberYist...  \n             ist1884     Die \"Intensivierung_Komparativ:Xist_SilberYist...  \n1986         kaum1986    Die Konstruktion \"Relativierung:kaumADJ\" gehör...  \n1987         sehr1987    Die Konstruktion \"Intensivierung:sehrV\" gehört...  \n\n[562 rows x 3 columns]",
      "text/html": "<div>\n<style scoped>\n    .dataframe tbody tr th:only-of-type {\n        vertical-align: middle;\n    }\n\n    .dataframe tbody tr th {\n        vertical-align: top;\n    }\n\n    .dataframe thead th {\n        text-align: right;\n    }\n</style>\n<table border=\"1\" class=\"dataframe\">\n  <thead>\n    <tr style=\"text-align: right;\">\n      <th></th>\n      <th></th>\n      <th>example</th>\n      <th>cue</th>\n      <th>definition</th>\n    </tr>\n    <tr>\n      <th>construction</th>\n      <th>pseudoword</th>\n      <th></th>\n      <th></th>\n      <th></th>\n    </tr>\n  </thead>\n  <tbody>\n    <tr>\n      <th rowspan=\"5\" valign=\"top\">5</th>\n      <th>Und5</th>\n      <td>[\"\"Nicht herauskaufen\"\", \"\"nicht erpressen las...</td>\n      <td>[\"\"Nicht herauskaufen\"\", \"\"nicht erpressen las...</td>\n      <td>Die \"Negation:NEG_Xund_schon_gar_nichtY-Konstr...</td>\n    </tr>\n    <tr>\n      <th>erst5</th>\n      <td>[Trainer Lucien Favre hatte schon seine beiden...</td>\n      <td>[Trainer Lucien Favre hatte schon seine beiden...</td>\n      <td>Die \"Negation:NEG_Xund_schon_gar_nichtY-Konstr...</td>\n    </tr>\n    <tr>\n      <th>gar5</th>\n      <td>[Es hat Afghanistan nicht stabilisiert und sch...</td>\n      <td>[Es hat Afghanistan nicht stabilisiert, Es hat...</td>\n      <td>Die \"Negation:NEG_Xund_schon_gar_nichtY-Konstr...</td>\n    </tr>\n    <tr>\n      <th>nicht5</th>\n      <td>[Es hat Afghanistan nicht stabilisiert und sch...</td>\n      <td>[Es, Es hat Afghanistan, Dass, Dass es in der ...</td>\n      <td>Die \"Negation:NEG_Xund_schon_gar_nichtY-Konstr...</td>\n    </tr>\n    <tr>\n      <th>recht5</th>\n      <td>[Trainer Lucien Favre hatte schon seine beiden...</td>\n      <td>[Trainer Lucien Favre hatte schon seine beiden...</td>\n      <td>Die \"Negation:NEG_Xund_schon_gar_nichtY-Konstr...</td>\n    </tr>\n    <tr>\n      <th>...</th>\n      <th>...</th>\n      <td>...</td>\n      <td>...</td>\n      <td>...</td>\n    </tr>\n    <tr>\n      <th rowspan=\"3\" valign=\"top\">1884</th>\n      <th>Gold1884</th>\n      <td>[Schweigen ist Silber , reden ist Gold ., Schw...</td>\n      <td>[Schweigen ist Silber , reden ist, Schweigen i...</td>\n      <td>Die \"Intensivierung_Komparativ:Xist_SilberYist...</td>\n    </tr>\n    <tr>\n      <th>Silber1884</th>\n      <td>[Schweigen ist Silber , reden ist Gold ., Schw...</td>\n      <td>[Schweigen ist, Schweigen ist, Angeben ist, Sc...</td>\n      <td>Die \"Intensivierung_Komparativ:Xist_SilberYist...</td>\n    </tr>\n    <tr>\n      <th>ist1884</th>\n      <td>[Schweigen ist Silber , reden ist Gold ., Schw...</td>\n      <td>[Schweigen, Schweigen, Angeben, Schweigen, \" Q...</td>\n      <td>Die \"Intensivierung_Komparativ:Xist_SilberYist...</td>\n    </tr>\n    <tr>\n      <th>1986</th>\n      <th>kaum1986</th>\n      <td>[Die Vorhut vor 20.000 Jahren war für das Ries...</td>\n      <td>[Die Vorhut vor 20.000 Jahren, Die Vorhut vor ...</td>\n      <td>Die Konstruktion \"Relativierung:kaumADJ\" gehör...</td>\n    </tr>\n    <tr>\n      <th>1987</th>\n      <th>sehr1987</th>\n      <td>[Solche Menschen können sich sehr wohlfühlen o...</td>\n      <td>[Solche Menschen können, Solche Menschen könne...</td>\n      <td>Die Konstruktion \"Intensivierung:sehrV\" gehört...</td>\n    </tr>\n  </tbody>\n</table>\n<p>562 rows × 3 columns</p>\n</div>"
     },
     "execution_count": 8,
     "metadata": {},
     "output_type": "execute_result"
    }
   ],
   "source": [
    "examples = pd.merge(result_df, definitions, how=\"inner\", left_on=\"construction\", right_index=True)\n",
    "examples"
   ],
   "metadata": {
    "collapsed": false,
    "ExecuteTime": {
     "end_time": "2024-01-27T19:50:32.312169015Z",
     "start_time": "2024-01-27T19:50:32.185368425Z"
    }
   },
   "id": "238d2238bbdd91d8"
  },
  {
   "cell_type": "markdown",
   "source": [
    "##### Generieren neuer Sätze:"
   ],
   "metadata": {
    "collapsed": false
   },
   "id": "5bc899cb800665fa"
  },
  {
   "cell_type": "code",
   "execution_count": 9,
   "outputs": [
    {
     "data": {
      "text/plain": "array([[ 0.01952364,  0.00048042,  0.05060846, ...,  0.04258203,\n         0.05651806,  0.02429085],\n       [-0.00994319, -0.00676309, -0.00601289, ..., -0.03203335,\n        -0.03284921,  0.00028247],\n       [-0.03243406, -0.00804963, -0.02258722, ...,  0.04839412,\n         0.0025557 ,  0.01301195],\n       ...,\n       [ 0.00162825,  0.01625418,  0.0080498 , ..., -0.01727665,\n         0.01961022, -0.00274661],\n       [ 0.00529211,  0.00459571,  0.01711997, ...,  0.01059076,\n        -0.01628351, -0.0441331 ],\n       [-0.03313114,  0.00591089, -0.00273072, ..., -0.03151482,\n         0.01069049,  0.00970152]], dtype=float32)"
     },
     "execution_count": 9,
     "metadata": {},
     "output_type": "execute_result"
    }
   ],
   "source": [
    "pseudowords = [\n",
    "    np.load(f\"../../data/pseudowords/mbart/pseudowords_comapp_0_69.npy\"),\n",
    "    np.load(f\"../../data/pseudowords/mbart/pseudowords_comapp_69_93.npy\"),\n",
    "    np.load(f\"../../data/pseudowords/mbart/pseudowords_comapp_93_165.npy\"),\n",
    "    np.load(f\"../../data/pseudowords/mbart/pseudowords_comapp_165_176.npy\"),\n",
    "    np.load(f\"../../data/pseudowords/mbart/pseudowords_comapp_176_281.npy\"),\n",
    "    np.load(f\"../../data/pseudowords/mbart/pseudowords_comapp_281_364.npy\"),\n",
    "    np.load(f\"../../data/pseudowords/mbart/pseudowords_comapp_364_437.npy\"),\n",
    "    np.load(f\"../../data/pseudowords/mbart/pseudowords_comapp_437_562.npy\")\n",
    "]\n",
    "pseudowords = np.concatenate(pseudowords)\n",
    "pseudowords"
   ],
   "metadata": {
    "collapsed": false,
    "ExecuteTime": {
     "end_time": "2024-01-27T19:50:32.360640546Z",
     "start_time": "2024-01-27T19:50:32.229189220Z"
    }
   },
   "id": "c9e6d940aa4aaace"
  },
  {
   "cell_type": "code",
   "execution_count": 10,
   "outputs": [
    {
     "data": {
      "text/plain": "            label\norder            \n0         \"\"Was13\n1            \"647\n3           (1597\n4           (1600\n5           (1602\n...           ...\n556     »Raus1316\n557    Ähnlich123\n559    ähnlich123\n560    ähnlich139\n561        über85\n\n[506 rows x 1 columns]",
      "text/html": "<div>\n<style scoped>\n    .dataframe tbody tr th:only-of-type {\n        vertical-align: middle;\n    }\n\n    .dataframe tbody tr th {\n        vertical-align: top;\n    }\n\n    .dataframe thead th {\n        text-align: right;\n    }\n</style>\n<table border=\"1\" class=\"dataframe\">\n  <thead>\n    <tr style=\"text-align: right;\">\n      <th></th>\n      <th>label</th>\n    </tr>\n    <tr>\n      <th>order</th>\n      <th></th>\n    </tr>\n  </thead>\n  <tbody>\n    <tr>\n      <th>0</th>\n      <td>\"\"Was13</td>\n    </tr>\n    <tr>\n      <th>1</th>\n      <td>\"647</td>\n    </tr>\n    <tr>\n      <th>3</th>\n      <td>(1597</td>\n    </tr>\n    <tr>\n      <th>4</th>\n      <td>(1600</td>\n    </tr>\n    <tr>\n      <th>5</th>\n      <td>(1602</td>\n    </tr>\n    <tr>\n      <th>...</th>\n      <td>...</td>\n    </tr>\n    <tr>\n      <th>556</th>\n      <td>»Raus1316</td>\n    </tr>\n    <tr>\n      <th>557</th>\n      <td>Ähnlich123</td>\n    </tr>\n    <tr>\n      <th>559</th>\n      <td>ähnlich123</td>\n    </tr>\n    <tr>\n      <th>560</th>\n      <td>ähnlich139</td>\n    </tr>\n    <tr>\n      <th>561</th>\n      <td>über85</td>\n    </tr>\n  </tbody>\n</table>\n<p>506 rows × 1 columns</p>\n</div>"
     },
     "execution_count": 10,
     "metadata": {},
     "output_type": "execute_result"
    }
   ],
   "source": [
    "csv_data = []\n",
    "# TODO mBART-Order laden\n",
    "for i in range(0, 8):\n",
    "    csv_data.append(pd.read_csv(f\"../../data/pseudowords/mbart/order_{i}.csv\", sep=\";\", index_col=0, header=None, quotechar=\"|\", names=[\"order\", \"label\"]))\n",
    "csv_data = pd.concat(csv_data)\n",
    "csv_data"
   ],
   "metadata": {
    "collapsed": false,
    "ExecuteTime": {
     "end_time": "2024-01-27T19:50:32.381607267Z",
     "start_time": "2024-01-27T19:50:32.230353817Z"
    }
   },
   "id": "621718c51c9db794"
  },
  {
   "cell_type": "code",
   "execution_count": 11,
   "outputs": [
    {
     "data": {
      "text/plain": "(['\"\"Was13',\n  '\"647',\n  '(1597',\n  '(1600',\n  '(1602',\n  '(1637',\n  '(1641',\n  '(1643',\n  '(379',\n  '(579',\n  '(581',\n  '(584',\n  '(590',\n  '(592',\n  '(600',\n  '(886',\n  '(892',\n  '(900',\n  '(905',\n  '(907',\n  '(909',\n  '(917',\n  '(919',\n  '(921',\n  ')1597',\n  ')1600',\n  ')1637',\n  ')1641',\n  ')1643',\n  ')1792',\n  ')379',\n  ')579',\n  ')581',\n  ')584',\n  ')590',\n  ')592',\n  ')600',\n  ')886',\n  ')892',\n  ')900',\n  ')907',\n  ')909',\n  ')917',\n  ')919',\n  ')921',\n  ')«579',\n  ',1459',\n  ',973',\n  '-128',\n  '-651',\n  '-654',\n  '-875',\n  '-973',\n  ':595',\n  ':875',\n  ':973',\n  'Abstand683',\n  'Allein20',\n  'Aller1630',\n  'Als1315',\n  'Als133',\n  'Als1770',\n  'Am488',\n  'Am492',\n  'Am500',\n  'Amerika605',\n  'genauso122',\n  'genauso98',\n  'geschweige10',\n  'gewesen1459',\n  'gibt605',\n  'gleich100',\n  'gleich675',\n  'gleich676',\n  'gleich98',\n  'gleiche104',\n  'gleichen1777',\n  'gleichkam676',\n  'gleichkommen676',\n  'gleichkommt676',\n  'gleichkäme676',\n  'gleicht132',\n  'gold1554',\n  'habe605',\n  'haben605',\n  'hat605',\n  'hatte605',\n  'heisst1631',\n  'her1351',\n  'her1511',\n  'herunter1574',\n  'heute1459',\n  'hin1351',\n  'hin1511',\n  'hinaus1574',\n  'hindurch1574',\n  'hinunter1574',\n  'hätte1756',\n  'hätten1756',\n  'hättest1756',\n  'im1346',\n  'im1777',\n  'im557',\n  'in1316',\n  'in1777',\n  'in557',\n  'in605',\n  'in858',\n  'ist125',\n  'ist130',\n  'ist1313',\n  'ist1459',\n  'ist1461',\n  'ist1462',\n  'ist1554',\n  'ist1660',\n  'ist1715',\n  'ist1792',\n  'ist1835',\n  'ist1846',\n  'ist1881',\n  'ist1884',\n  'ist875',\n  'ist976',\n  'je111',\n  'jedermanns1329',\n  'jetzt1631',\n  'kam676',\n  'kann1593',\n  'kaum11',\n  'kaum1986',\n  'kein1461',\n  'kein1462',\n  'kein1525',\n  'kein1690',\n  'kein1715',\n  'kein1881',\n  'kein902',\n  'kein949',\n  'keine1461',\n  'keine1525',\n  'keine1715',\n  'keine1835',\n  'keine1881',\n  'keine605',\n  'keine902',\n  'Anstatt320',\n  'Art129',\n  'Arzt1509',\n  'Augenblick1301',\n  'Ausmaß1777',\n  'BRUTAL1503',\n  'Besser1762',\n  'Bis559',\n  'Brutal1503',\n  'Buche1346',\n  'Das1313',\n  'Das1461',\n  'Dass21',\n  'Dasselbe104',\n  'Der1301',\n  'Desto111',\n  'Die1681',\n  'Diese19',\n  'Dieser1301',\n  'Dieser19',\n  'Dieses19',\n  'Entweder1779',\n  'Es1313',\n  'Es605',\n  'Gefühl1301',\n  'Generation1126',\n  'Geschweige10',\n  'Gold1554',\n  'Gold1884',\n  'Hauptsache1033',\n  'Im557',\n  'In557',\n  'In858',\n  'Inbegriff1671',\n  'Ist1660',\n  'Je111',\n  'Jedermanns1329',\n  'Jener1301',\n  'Jetzt1631',\n  'Kein1525',\n  'Kein1715',\n  'Kein1835',\n  'Kein949',\n  'Keine(r1792',\n  'Keine1525',\n  'Keine1715',\n  'Keine1792',\n  'Keine1835',\n  'Keine902',\n  'Keine949',\n  'Keiner1792',\n  'Leben1461',\n  'Leben605',\n  'Lecker1649',\n  'Maß1777',\n  'Maße1777',\n  'Mit683',\n  'Moment1301',\n  'Mords651',\n  'Mutter1681',\n  'Neue875',\n  'Nicht1162',\n  'Nicht902',\n  'Niemand1792',\n  'Ponyhof1462',\n  'Raus1316',\n  'Reden1554',\n  'Riesen654',\n  'Silber1554',\n  'Silber1884',\n  'So1300',\n  'So1760',\n  'So1831',\n  'So22',\n  'So74',\n  'So98',\n  'Solch78',\n  'Solche78',\n  'Sowohl1134',\n  'Statt320',\n  'Tode1347',\n  'Trotz1630',\n  'Umfang1777',\n  'Umso111',\n  'Und11',\n  'Und5',\n  'Von1034',\n  'Von1629',\n  'Von1772',\n  'Was13',\n  'Was16',\n  'Was1846',\n  'Weder12',\n  'keine949',\n  'keiner1792',\n  'kommen1509',\n  'kommen676',\n  'kommt1509',\n  'kommt676',\n  'käme676',\n  'lassen1289',\n  'lecker1649',\n  'ließ1289',\n  'lässt1289',\n  'mag605',\n  'meinem605',\n  'meisten488',\n  'meisten492',\n  'mich1573',\n  'mich1574',\n  'mir1582',\n  'mit1846',\n  'mit683',\n  'mords651',\n  'muss1300',\n  'musste1509',\n  'neue875',\n  'neuen875',\n  'nicht.“1779',\n  'nicht1162',\n  'nicht1690',\n  'nicht1779',\n  'nicht902',\n  'nicht904',\n  'niemand1525',\n  'niemand1792',\n  'noch12',\n  'noch1770',\n  'nämliche104',\n  'ob1315',\n  'ob133',\n  'oder1162',\n  'oder1779',\n  'oder973',\n  'ohne1690',\n  'ohne949',\n  'ohnegleichen618',\n  'par1342',\n  'pur.»1323',\n  'pur1323',\n  'pur«1323',\n  'raus1316',\n  'recht5',\n  'rein1316',\n  'satt1324',\n  'schlechthin1556',\n  'schlechthin»1556',\n  'schon5',\n  'sehr1987',\n  'sei125',\n  'seien1660',\n  'Weil674',\n  'Weil681',\n  'Welch15',\n  'Wenn1291',\n  'Wie14',\n  'Wie1738',\n  'Wo976',\n  'Während320',\n  'Zeit605',\n  'Zeiten605',\n  'ab1574',\n  'aber902',\n  'allen1630',\n  'aller1630',\n  'aller1681',\n  'aller758',\n  'als1134',\n  'als133',\n  'als1762',\n  'als1770',\n  'als97',\n  'am488',\n  'am492',\n  'am500',\n  'an349',\n  'anstatt320',\n  'anstatt882',\n  'artig128',\n  'auch1134',\n  'auch1715',\n  'auch1835',\n  'auf1574',\n  'auf350',\n  'aus1316',\n  'besser1762',\n  'bis1509',\n  'bis559',\n  'bisschen762',\n  'bleibt1660',\n  'brutal1503',\n  'das1301',\n  'das1461',\n  'das875',\n  'dass135',\n  'dasselbe104',\n  'dem1777',\n  'den557',\n  'den671',\n  'denn10',\n  'der1509',\n  'der1681',\n  'der557',\n  'der875',\n  'desto111',\n  'die875',\n  'diese605',\n  'dieses19',\n  'durch1574',\n  'ebenso122',\n  'ebenso98',\n  'ein127',\n  'ein1715',\n  'ein1835',\n  'ein762',\n  'einander1574',\n  'eine129',\n  'eine1715',\n  'eine1835',\n  'eine605',\n  'einem127',\n  'einer127',\n  'entweder1779',\n  'er1004',\n  'er1346',\n  'erst5',\n  'es125',\n  'es1313',\n  'es1346',\n  'es1631',\n  'es605',\n  'euch1574',\n  'excellence1342',\n  'früher1459',\n  'für13',\n  'für1525',\n  'für350',\n  'gab605',\n  'ganz697',\n  'ganz777',\n  'gar5',\n  'gar697',\n  'gar777',\n  'geben605',\n  'gegeben605',\n  'gegen83',\n  'geht1300',\n  'sein1289',\n  'selben1777',\n  'sich1573',\n  'sich1574',\n  'sich1582',\n  'sie1346',\n  'silber1554',\n  'sind130',\n  'sind1459',\n  'sind1554',\n  'sind1660',\n  'sind1881',\n  'sind875',\n  'sind976',\n  'so1134',\n  'so135',\n  'so1760',\n  'so1831',\n  'so74',\n  'so98',\n  'solch78',\n  'soll605',\n  'sondergleichen618',\n  'sondergleichen»618',\n  'sondern902',\n  'sowohl1134',\n  'stand1346',\n  'statt320',\n  'statt882',\n  'steht1346',\n  'um350',\n  'umso111',\n  'und11',\n  'und1140',\n  'und1849',\n  'und5',\n  'und697',\n  'und777',\n  'und904',\n  'uns1574',\n  'uns1582',\n  'unter671',\n  'von1034',\n  'von1035',\n  'von127',\n  'von1629',\n  'von1772',\n  'vor559',\n  'war1313',\n  'war1459',\n  'war1461',\n  'war1462',\n  'war1660',\n  'war1770',\n  'war1846',\n  'war1881',\n  'waren1459',\n  'waren1770',\n  'waren1881',\n  'was1029',\n  'was13',\n  'was1459',\n  'was1846',\n  'weder12',\n  'wegen1629',\n  'wegen1772',\n  'weil674',\n  'weil681',\n  'welch15',\n  'wenig762',\n  'wenigsten488',\n  'wenigsten492',\n  'wenn1291',\n  'wenn136',\n  'wie101',\n  'wie103',\n  'wie125',\n  'wie130',\n  'wie1346',\n  'wie136',\n  'wie1738',\n  'wird1660',\n  'wird605',\n  'wogegen320',\n  'wohingegen320',\n  'wohl11',\n  'wohl1134',\n  'wäre130',\n  'wäre1660',\n  'wäre1756',\n  'wäre1846',\n  'wären1756',\n  'wärest1756',\n  'wärst1756',\n  'würde392',\n  'würden392',\n  'würdest392',\n  'zu1034',\n  'zu1035',\n  'zu1347',\n  'zu1574',\n  'zu320',\n  'zum1313',\n  'zum1630',\n  '«Besser1762',\n  '«Keine949',\n  '«Raus1316',\n  '»Entweder1779',\n  '»Raus1316',\n  'Ähnlich123',\n  'ähnlich123',\n  'ähnlich139',\n  'über85'],\n 506)"
     },
     "execution_count": 11,
     "metadata": {},
     "output_type": "execute_result"
    }
   ],
   "source": [
    "mbart_tokens = [d[0] for d in csv_data.values]\n",
    "\n",
    "mbart_tokens, len(mbart_tokens)"
   ],
   "metadata": {
    "collapsed": false,
    "ExecuteTime": {
     "end_time": "2024-01-27T19:50:32.400012603Z",
     "start_time": "2024-01-27T19:50:32.230966369Z"
    }
   },
   "id": "d55848226af1aa95"
  },
  {
   "cell_type": "markdown",
   "source": [
    "Load the vanilla mbart model:"
   ],
   "metadata": {
    "collapsed": false
   },
   "id": "d1fd4b9029d49e1e"
  },
  {
   "cell_type": "code",
   "execution_count": 12,
   "outputs": [
    {
     "data": {
      "text/plain": "Embedding(250054, 1024, padding_idx=1)"
     },
     "execution_count": 12,
     "metadata": {},
     "output_type": "execute_result"
    }
   ],
   "source": [
    "model = MBartForConditionalGeneration.from_pretrained(\n",
    "    \"facebook/mbart-large-50\", return_dict=True\n",
    ") \n",
    "tokenizer = MBart50TokenizerFast.from_pretrained(\n",
    "    \"facebook/mbart-large-50\", src_lang=\"de_DE\", tgt_lang=\"de_DE\"\n",
    ")\n",
    "model.model.encoder.embed_tokens"
   ],
   "metadata": {
    "collapsed": false,
    "ExecuteTime": {
     "end_time": "2024-01-27T19:50:43.303604829Z",
     "start_time": "2024-01-27T19:50:32.272249025Z"
    }
   },
   "id": "e82730a36da5ce9c"
  },
  {
   "cell_type": "markdown",
   "source": [
    "Add to existing embeddings:"
   ],
   "metadata": {
    "collapsed": false
   },
   "id": "31cb60117910e817"
  },
  {
   "cell_type": "code",
   "execution_count": 13,
   "outputs": [
    {
     "data": {
      "text/plain": "Embedding(250560, 1024)"
     },
     "execution_count": 13,
     "metadata": {},
     "output_type": "execute_result"
    }
   ],
   "source": [
    "combined_embeddings = torch.cat((model.model.encoder.embed_tokens.weight, torch.tensor(pseudowords)), dim=0)\n",
    "model.model.encoder.embed_tokens = torch.nn.Embedding.from_pretrained(combined_embeddings)\n",
    "model.model.encoder.embed_tokens"
   ],
   "metadata": {
    "collapsed": false,
    "ExecuteTime": {
     "end_time": "2024-01-27T19:50:43.475897751Z",
     "start_time": "2024-01-27T19:50:43.306811891Z"
    }
   },
   "id": "de2759094c5daff5"
  },
  {
   "cell_type": "markdown",
   "source": [
    "Add to existing tokens:"
   ],
   "metadata": {
    "collapsed": false
   },
   "id": "36118990fc6027ce"
  },
  {
   "cell_type": "code",
   "execution_count": 14,
   "outputs": [
    {
     "data": {
      "text/plain": "Embedding(250560, 1024)"
     },
     "execution_count": 14,
     "metadata": {},
     "output_type": "execute_result"
    }
   ],
   "source": [
    "tokenizer.add_tokens(mbart_tokens)\n",
    "model.resize_token_embeddings(len(tokenizer))"
   ],
   "metadata": {
    "collapsed": false,
    "ExecuteTime": {
     "end_time": "2024-01-27T19:50:47.725982492Z",
     "start_time": "2024-01-27T19:50:43.527211410Z"
    }
   },
   "id": "5e0c6c41fda55604"
  },
  {
   "cell_type": "code",
   "outputs": [
    {
     "data": {
      "text/plain": "MBartForConditionalGeneration(\n  (model): MBartModel(\n    (shared): Embedding(250560, 1024)\n    (encoder): MBartEncoder(\n      (embed_tokens): Embedding(250560, 1024)\n      (embed_positions): MBartLearnedPositionalEmbedding(1026, 1024)\n      (layers): ModuleList(\n        (0-11): 12 x MBartEncoderLayer(\n          (self_attn): MBartAttention(\n            (k_proj): Linear(in_features=1024, out_features=1024, bias=True)\n            (v_proj): Linear(in_features=1024, out_features=1024, bias=True)\n            (q_proj): Linear(in_features=1024, out_features=1024, bias=True)\n            (out_proj): Linear(in_features=1024, out_features=1024, bias=True)\n          )\n          (self_attn_layer_norm): LayerNorm((1024,), eps=1e-05, elementwise_affine=True)\n          (activation_fn): GELUActivation()\n          (fc1): Linear(in_features=1024, out_features=4096, bias=True)\n          (fc2): Linear(in_features=4096, out_features=1024, bias=True)\n          (final_layer_norm): LayerNorm((1024,), eps=1e-05, elementwise_affine=True)\n        )\n      )\n      (layernorm_embedding): LayerNorm((1024,), eps=1e-05, elementwise_affine=True)\n      (layer_norm): LayerNorm((1024,), eps=1e-05, elementwise_affine=True)\n    )\n    (decoder): MBartDecoder(\n      (embed_tokens): Embedding(250560, 1024)\n      (embed_positions): MBartLearnedPositionalEmbedding(1026, 1024)\n      (layers): ModuleList(\n        (0-11): 12 x MBartDecoderLayer(\n          (self_attn): MBartAttention(\n            (k_proj): Linear(in_features=1024, out_features=1024, bias=True)\n            (v_proj): Linear(in_features=1024, out_features=1024, bias=True)\n            (q_proj): Linear(in_features=1024, out_features=1024, bias=True)\n            (out_proj): Linear(in_features=1024, out_features=1024, bias=True)\n          )\n          (activation_fn): GELUActivation()\n          (self_attn_layer_norm): LayerNorm((1024,), eps=1e-05, elementwise_affine=True)\n          (encoder_attn): MBartAttention(\n            (k_proj): Linear(in_features=1024, out_features=1024, bias=True)\n            (v_proj): Linear(in_features=1024, out_features=1024, bias=True)\n            (q_proj): Linear(in_features=1024, out_features=1024, bias=True)\n            (out_proj): Linear(in_features=1024, out_features=1024, bias=True)\n          )\n          (encoder_attn_layer_norm): LayerNorm((1024,), eps=1e-05, elementwise_affine=True)\n          (fc1): Linear(in_features=1024, out_features=4096, bias=True)\n          (fc2): Linear(in_features=4096, out_features=1024, bias=True)\n          (final_layer_norm): LayerNorm((1024,), eps=1e-05, elementwise_affine=True)\n        )\n      )\n      (layernorm_embedding): LayerNorm((1024,), eps=1e-05, elementwise_affine=True)\n      (layer_norm): LayerNorm((1024,), eps=1e-05, elementwise_affine=True)\n    )\n  )\n  (lm_head): Linear(in_features=1024, out_features=250560, bias=False)\n)"
     },
     "execution_count": 15,
     "metadata": {},
     "output_type": "execute_result"
    }
   ],
   "source": [
    "model.to(\"cuda:0\")"
   ],
   "metadata": {
    "collapsed": false,
    "ExecuteTime": {
     "end_time": "2024-01-27T19:50:48.920725343Z",
     "start_time": "2024-01-27T19:50:47.720705543Z"
    }
   },
   "id": "29a15c814c4d9e1e",
   "execution_count": 15
  },
  {
   "cell_type": "markdown",
   "source": [
    "Complete the cues:"
   ],
   "metadata": {
    "collapsed": false
   },
   "id": "2b006ebc8aa40484"
  },
  {
   "cell_type": "code",
   "execution_count": 16,
   "outputs": [
    {
     "data": {
      "text/plain": "  0%|          | 0/562 [00:00<?, ?it/s]",
      "application/vnd.jupyter.widget-view+json": {
       "version_major": 2,
       "version_minor": 0,
       "model_id": "c155a6a85ada422d9f4f48788b765b8e"
      }
     },
     "metadata": {},
     "output_type": "display_data"
    },
    {
     "name": "stdout",
     "output_type": "stream",
     "text": [
      "...:.........................................:....::..................................................................................................................:................................................................:........................:::::::::::::::::::::::::::::::::::::::.::::::::.....................................................................:.....................................................................:.................................:...................................................................................."
     ]
    },
    {
     "data": {
      "text/plain": "     construction  pseudoword  \\\n0               5        Und5   \n1               5       erst5   \n2               5        gar5   \n3               5      nicht5   \n4               5      recht5   \n..            ...         ...   \n557          1884    Gold1884   \n558          1884  Silber1884   \n559          1884     ist1884   \n560          1986    kaum1986   \n561          1987    sehr1987   \n\n                                          orig_example  \\\n0    [\"\"Nicht herauskaufen\"\", \"\"nicht erpressen las...   \n1    [Trainer Lucien Favre hatte schon seine beiden...   \n2    [Es hat Afghanistan nicht stabilisiert und sch...   \n3    [Es hat Afghanistan nicht stabilisiert und sch...   \n4    [Trainer Lucien Favre hatte schon seine beiden...   \n..                                                 ...   \n557  [Schweigen ist Silber , reden ist Gold ., Schw...   \n558  [Schweigen ist Silber , reden ist Gold ., Schw...   \n559  [Schweigen ist Silber , reden ist Gold ., Schw...   \n560  [Die Vorhut vor 20.000 Jahren war für das Ries...   \n561  [Solche Menschen können sich sehr wohlfühlen o...   \n\n                                             generated  \\\n0    ['\"\"Nicht herauskaufen\"\", \"\"nicht erpressen la...   \n1    ['Trainer Lucien Favre hatte schon seine beide...   \n2    ['Es hat Afghanistan nicht stabilisiert gar5 -...   \n3                                                        \n4    ['Trainer Lucien Favre hatte schon seine beide...   \n..                                                 ...   \n557  ['Schweigen ist Silber, reden ist ', 'Schweige...   \n558  ['Schweigen ist   ', 'Schweigen ist   ', 'Ange...   \n559  ['Schweigen ist1884 (Englisch)', 'Schweigen is...   \n560  ['Die Vorhut vor 20.000 Jahren   ', 'Vorhut vo...   \n561  ['Solche Menschen können   ', 'Solche Menschen...   \n\n                                                scores  \n0    [0.9136524200439453, 0.44515761733055115, 0.51...  \n1    [0.7875338792800903, 0.7785300612449646, 0.742...  \n2    [0.5824133157730103, 0.6445226073265076, 0.719...  \n3                                               [-1.0]  \n4    [0.7853999733924866, 0.8219645023345947, 0.791...  \n..                                                 ...  \n557  [0.7522048950195312, 0.8172914981842041, 0.784...  \n558  [0.7068747878074646, 0.7068747878074646, 0.643...  \n559  [0.4845588505268097, 0.4845588505268097, 0.498...  \n560  [0.6681877374649048, 0.5497788190841675, 0.670...  \n561  [0.6572356820106506, 0.7008771300315857, 0.700...  \n\n[562 rows x 5 columns]",
      "text/html": "<div>\n<style scoped>\n    .dataframe tbody tr th:only-of-type {\n        vertical-align: middle;\n    }\n\n    .dataframe tbody tr th {\n        vertical-align: top;\n    }\n\n    .dataframe thead th {\n        text-align: right;\n    }\n</style>\n<table border=\"1\" class=\"dataframe\">\n  <thead>\n    <tr style=\"text-align: right;\">\n      <th></th>\n      <th>construction</th>\n      <th>pseudoword</th>\n      <th>orig_example</th>\n      <th>generated</th>\n      <th>scores</th>\n    </tr>\n  </thead>\n  <tbody>\n    <tr>\n      <th>0</th>\n      <td>5</td>\n      <td>Und5</td>\n      <td>[\"\"Nicht herauskaufen\"\", \"\"nicht erpressen las...</td>\n      <td>['\"\"Nicht herauskaufen\"\", \"\"nicht erpressen la...</td>\n      <td>[0.9136524200439453, 0.44515761733055115, 0.51...</td>\n    </tr>\n    <tr>\n      <th>1</th>\n      <td>5</td>\n      <td>erst5</td>\n      <td>[Trainer Lucien Favre hatte schon seine beiden...</td>\n      <td>['Trainer Lucien Favre hatte schon seine beide...</td>\n      <td>[0.7875338792800903, 0.7785300612449646, 0.742...</td>\n    </tr>\n    <tr>\n      <th>2</th>\n      <td>5</td>\n      <td>gar5</td>\n      <td>[Es hat Afghanistan nicht stabilisiert und sch...</td>\n      <td>['Es hat Afghanistan nicht stabilisiert gar5 -...</td>\n      <td>[0.5824133157730103, 0.6445226073265076, 0.719...</td>\n    </tr>\n    <tr>\n      <th>3</th>\n      <td>5</td>\n      <td>nicht5</td>\n      <td>[Es hat Afghanistan nicht stabilisiert und sch...</td>\n      <td></td>\n      <td>[-1.0]</td>\n    </tr>\n    <tr>\n      <th>4</th>\n      <td>5</td>\n      <td>recht5</td>\n      <td>[Trainer Lucien Favre hatte schon seine beiden...</td>\n      <td>['Trainer Lucien Favre hatte schon seine beide...</td>\n      <td>[0.7853999733924866, 0.8219645023345947, 0.791...</td>\n    </tr>\n    <tr>\n      <th>...</th>\n      <td>...</td>\n      <td>...</td>\n      <td>...</td>\n      <td>...</td>\n      <td>...</td>\n    </tr>\n    <tr>\n      <th>557</th>\n      <td>1884</td>\n      <td>Gold1884</td>\n      <td>[Schweigen ist Silber , reden ist Gold ., Schw...</td>\n      <td>['Schweigen ist Silber, reden ist ', 'Schweige...</td>\n      <td>[0.7522048950195312, 0.8172914981842041, 0.784...</td>\n    </tr>\n    <tr>\n      <th>558</th>\n      <td>1884</td>\n      <td>Silber1884</td>\n      <td>[Schweigen ist Silber , reden ist Gold ., Schw...</td>\n      <td>['Schweigen ist   ', 'Schweigen ist   ', 'Ange...</td>\n      <td>[0.7068747878074646, 0.7068747878074646, 0.643...</td>\n    </tr>\n    <tr>\n      <th>559</th>\n      <td>1884</td>\n      <td>ist1884</td>\n      <td>[Schweigen ist Silber , reden ist Gold ., Schw...</td>\n      <td>['Schweigen ist1884 (Englisch)', 'Schweigen is...</td>\n      <td>[0.4845588505268097, 0.4845588505268097, 0.498...</td>\n    </tr>\n    <tr>\n      <th>560</th>\n      <td>1986</td>\n      <td>kaum1986</td>\n      <td>[Die Vorhut vor 20.000 Jahren war für das Ries...</td>\n      <td>['Die Vorhut vor 20.000 Jahren   ', 'Vorhut vo...</td>\n      <td>[0.6681877374649048, 0.5497788190841675, 0.670...</td>\n    </tr>\n    <tr>\n      <th>561</th>\n      <td>1987</td>\n      <td>sehr1987</td>\n      <td>[Solche Menschen können sich sehr wohlfühlen o...</td>\n      <td>['Solche Menschen können   ', 'Solche Menschen...</td>\n      <td>[0.6572356820106506, 0.7008771300315857, 0.700...</td>\n    </tr>\n  </tbody>\n</table>\n<p>562 rows × 5 columns</p>\n</div>"
     },
     "execution_count": 16,
     "metadata": {},
     "output_type": "execute_result"
    }
   ],
   "source": [
    "def complete_cues(row):\n",
    "    try:\n",
    "        output_texts = []\n",
    "        scores = []\n",
    "        for cue, example in zip(row[\"cue\"], row[\"example\"]):\n",
    "            assert row[\"pseudoword\"].iloc[0] in mbart_tokens  # skip pseudoword embeddings that haven't been learned\n",
    "            \n",
    "            input_text = cue + \" \" + row[\"pseudoword\"].iloc[0] + \" <mask>\"\n",
    "            target_length = int(1.5 * len(example))  # allow double the length of the original sentence\n",
    "            \n",
    "            outputs = tokenizer(input_text, return_tensors=\"pt\")\n",
    "            outputs = model.generate(outputs[\"input_ids\"].to(\"cuda:0\"), max_length=target_length, num_return_sequences=1, num_beams=10, output_scores=True, return_dict_in_generate=True)\n",
    "            output_text = tokenizer.batch_decode(outputs.sequences, skip_special_tokens=True)\n",
    "            score = torch.exp(outputs.sequences_scores)\n",
    "            output_texts += output_text\n",
    "            \n",
    "            scores.append(score)\n",
    "        print(\".\", end=\"\")\n",
    "        return pd.Series({\"construction\": row[\"construction\"], \"pseudoword\": row[\"pseudoword\"].iloc[0], \"orig_example\": row[\"example\"], \"generated\": str(output_texts), \"scores\": str([float(score) for score in scores])})\n",
    "    except Exception as e:\n",
    "        print(\":\", end=\"\")\n",
    "        return pd.Series({\"construction\": row[\"construction\"], \"pseudoword\": row[\"pseudoword\"].iloc[0], \"orig_example\": row[\"example\"], \"generated\": str(e), \"scores\": \"[-1.0]\"})\n",
    "\n",
    "examples_reset = examples.reset_index()\n",
    "pseudoword_output_scores = examples_reset[[\"construction\", \"pseudoword\", \"example\", \"cue\", \"pseudoword\"]].progress_apply(complete_cues, axis=1)\n",
    "pseudoword_output_scores"
   ],
   "metadata": {
    "collapsed": false,
    "ExecuteTime": {
     "end_time": "2024-01-27T20:56:23.051422333Z",
     "start_time": "2024-01-27T19:50:48.522551954Z"
    }
   },
   "id": "b7fc546c4aeb79b2"
  },
  {
   "cell_type": "code",
   "execution_count": 17,
   "outputs": [
    {
     "data": {
      "text/plain": "     pseudoword                                          generated  \\\n0          Und5  ['\"\"Nicht herauskaufen\"\", \"\"nicht erpressen la...   \n1         erst5  ['Trainer Lucien Favre hatte schon seine beide...   \n2          gar5  ['Es hat Afghanistan nicht stabilisiert gar5 -...   \n3        nicht5                                                      \n4        recht5  ['Trainer Lucien Favre hatte schon seine beide...   \n..          ...                                                ...   \n557    Gold1884  ['Schweigen ist Silber, reden ist ', 'Schweige...   \n558  Silber1884  ['Schweigen ist   ', 'Schweigen ist   ', 'Ange...   \n559     ist1884  ['Schweigen ist1884 (Englisch)', 'Schweigen is...   \n560    kaum1986  ['Die Vorhut vor 20.000 Jahren   ', 'Vorhut vo...   \n561    sehr1987  ['Solche Menschen können   ', 'Solche Menschen...   \n\n                                                scores  \n0    [0.9136524200439453, 0.44515761733055115, 0.51...  \n1    [0.7875338792800903, 0.7785300612449646, 0.742...  \n2    [0.5824133157730103, 0.6445226073265076, 0.719...  \n3                                               [-1.0]  \n4    [0.7853999733924866, 0.8219645023345947, 0.791...  \n..                                                 ...  \n557  [0.7522048950195312, 0.8172914981842041, 0.784...  \n558  [0.7068747878074646, 0.7068747878074646, 0.643...  \n559  [0.4845588505268097, 0.4845588505268097, 0.498...  \n560  [0.6681877374649048, 0.5497788190841675, 0.670...  \n561  [0.6572356820106506, 0.7008771300315857, 0.700...  \n\n[562 rows x 3 columns]",
      "text/html": "<div>\n<style scoped>\n    .dataframe tbody tr th:only-of-type {\n        vertical-align: middle;\n    }\n\n    .dataframe tbody tr th {\n        vertical-align: top;\n    }\n\n    .dataframe thead th {\n        text-align: right;\n    }\n</style>\n<table border=\"1\" class=\"dataframe\">\n  <thead>\n    <tr style=\"text-align: right;\">\n      <th></th>\n      <th>pseudoword</th>\n      <th>generated</th>\n      <th>scores</th>\n    </tr>\n  </thead>\n  <tbody>\n    <tr>\n      <th>0</th>\n      <td>Und5</td>\n      <td>['\"\"Nicht herauskaufen\"\", \"\"nicht erpressen la...</td>\n      <td>[0.9136524200439453, 0.44515761733055115, 0.51...</td>\n    </tr>\n    <tr>\n      <th>1</th>\n      <td>erst5</td>\n      <td>['Trainer Lucien Favre hatte schon seine beide...</td>\n      <td>[0.7875338792800903, 0.7785300612449646, 0.742...</td>\n    </tr>\n    <tr>\n      <th>2</th>\n      <td>gar5</td>\n      <td>['Es hat Afghanistan nicht stabilisiert gar5 -...</td>\n      <td>[0.5824133157730103, 0.6445226073265076, 0.719...</td>\n    </tr>\n    <tr>\n      <th>3</th>\n      <td>nicht5</td>\n      <td></td>\n      <td>[-1.0]</td>\n    </tr>\n    <tr>\n      <th>4</th>\n      <td>recht5</td>\n      <td>['Trainer Lucien Favre hatte schon seine beide...</td>\n      <td>[0.7853999733924866, 0.8219645023345947, 0.791...</td>\n    </tr>\n    <tr>\n      <th>...</th>\n      <td>...</td>\n      <td>...</td>\n      <td>...</td>\n    </tr>\n    <tr>\n      <th>557</th>\n      <td>Gold1884</td>\n      <td>['Schweigen ist Silber, reden ist ', 'Schweige...</td>\n      <td>[0.7522048950195312, 0.8172914981842041, 0.784...</td>\n    </tr>\n    <tr>\n      <th>558</th>\n      <td>Silber1884</td>\n      <td>['Schweigen ist   ', 'Schweigen ist   ', 'Ange...</td>\n      <td>[0.7068747878074646, 0.7068747878074646, 0.643...</td>\n    </tr>\n    <tr>\n      <th>559</th>\n      <td>ist1884</td>\n      <td>['Schweigen ist1884 (Englisch)', 'Schweigen is...</td>\n      <td>[0.4845588505268097, 0.4845588505268097, 0.498...</td>\n    </tr>\n    <tr>\n      <th>560</th>\n      <td>kaum1986</td>\n      <td>['Die Vorhut vor 20.000 Jahren   ', 'Vorhut vo...</td>\n      <td>[0.6681877374649048, 0.5497788190841675, 0.670...</td>\n    </tr>\n    <tr>\n      <th>561</th>\n      <td>sehr1987</td>\n      <td>['Solche Menschen können   ', 'Solche Menschen...</td>\n      <td>[0.6572356820106506, 0.7008771300315857, 0.700...</td>\n    </tr>\n  </tbody>\n</table>\n<p>562 rows × 3 columns</p>\n</div>"
     },
     "execution_count": 17,
     "metadata": {},
     "output_type": "execute_result"
    }
   ],
   "source": [
    "examples = pseudoword_output_scores[[\"pseudoword\", \"generated\", \"scores\"]]\n",
    "\n",
    "examples"
   ],
   "metadata": {
    "collapsed": false,
    "ExecuteTime": {
     "end_time": "2024-01-27T20:56:23.060792956Z",
     "start_time": "2024-01-27T20:56:23.057346519Z"
    }
   },
   "id": "14e01733b5a4aeba"
  },
  {
   "cell_type": "markdown",
   "source": [
    "#### Anzahl neuer Sätze"
   ],
   "metadata": {
    "collapsed": false
   },
   "id": "a64a06083f0ccd35"
  },
  {
   "cell_type": "code",
   "execution_count": 18,
   "outputs": [],
   "source": [
    "examples.to_csv(f\"../../out/comapp/mbart/data_mbart.tsv\", sep=\"\\t\", decimal=\",\")\n",
    "examples.to_excel(f\"../../out/comapp/mbart/data_mbart.xlsx\")"
   ],
   "metadata": {
    "collapsed": false,
    "ExecuteTime": {
     "end_time": "2024-01-27T20:56:23.329568232Z",
     "start_time": "2024-01-27T20:56:23.062450695Z"
    }
   },
   "id": "93ee2263ebe468ba"
  },
  {
   "cell_type": "code",
   "outputs": [],
   "source": [
    "pseudoword_output_scores.to_csv(\"../../out/comapp/mbart/data_mbart_complete.tsv\", sep=\"\\t\", decimal=\",\")"
   ],
   "metadata": {
    "collapsed": false,
    "ExecuteTime": {
     "end_time": "2024-01-27T20:56:23.374923201Z",
     "start_time": "2024-01-27T20:56:23.331939507Z"
    }
   },
   "id": "a890185b466ac02e",
   "execution_count": 19
  }
 ],
 "metadata": {
  "kernelspec": {
   "display_name": "Python 3",
   "language": "python",
   "name": "python3"
  },
  "language_info": {
   "codemirror_mode": {
    "name": "ipython",
    "version": 2
   },
   "file_extension": ".py",
   "mimetype": "text/x-python",
   "name": "python",
   "nbconvert_exporter": "python",
   "pygments_lexer": "ipython2",
   "version": "2.7.6"
  }
 },
 "nbformat": 4,
 "nbformat_minor": 5
}
