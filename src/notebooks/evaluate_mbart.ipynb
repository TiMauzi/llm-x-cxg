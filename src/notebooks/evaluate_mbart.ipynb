{
 "cells": [
  {
   "cell_type": "code",
   "execution_count": 1,
   "outputs": [
    {
     "name": "stderr",
     "output_type": "stream",
     "text": [
      "/tmp/ipykernel_4913/1377736200.py:7: DeprecationWarning: \n",
      "Pyarrow will become a required dependency of pandas in the next major release of pandas (pandas 3.0),\n",
      "(to allow more performant data types, such as the Arrow string type, and better interoperability with other libraries)\n",
      "but was not found to be installed on your system.\n",
      "If this would cause problems for you,\n",
      "please provide us feedback at https://github.com/pandas-dev/pandas/issues/54466\n",
      "        \n",
      "  import pandas as pd\n"
     ]
    }
   ],
   "source": [
    "import itertools\n",
    "import json\n",
    "import pickle\n",
    "import re\n",
    "\n",
    "import numpy as np\n",
    "import pandas as pd\n",
    "import torch\n",
    "from transformers import MBartForConditionalGeneration, MBart50TokenizerFast\n",
    "\n",
    "from tqdm.notebook import tqdm\n",
    "tqdm.pandas()"
   ],
   "metadata": {
    "collapsed": false,
    "ExecuteTime": {
     "end_time": "2024-01-27T00:46:27.728001500Z",
     "start_time": "2024-01-27T00:46:25.671550567Z"
    }
   },
   "id": "863338ddbf31a6c5"
  },
  {
   "cell_type": "code",
   "execution_count": 2,
   "outputs": [
    {
     "data": {
      "text/plain": "                                                 example  \\\n0      Und dann ist da noch das generelle Problem mit...   \n1      Und dann ist da noch das generelle Problem mit...   \n2      Und dann ist da noch das generelle Problem mit...   \n3      Und dann ist da noch das generelle Problem mit...   \n4      Und dann ist da noch das generelle Problem mit...   \n...                                                  ...   \n12128  \" Eine low fee - Schule ist nicht automatisch ...   \n12129  \" Eine low fee - Schule ist nicht automatisch ...   \n12130  Im Gang sieht sie plötzlich Jamie , erkennt ih...   \n12131  An seiner Hand geht ein Mädchen , einen Kopf k...   \n12132  Rund 45 . 000 Dollar soll der Byton - SUV kost...   \n\n                                                     cue    pseudoword  \n0      Und dann ist da noch das generelle Problem mit...  geschweige10  \n1      Und dann ist da noch das generelle Problem mit...        denn10  \n2      Und dann ist da noch das generelle Problem mit...  geschweige10  \n3      Und dann ist da noch das generelle Problem mit...        denn10  \n4      Und dann ist da noch das generelle Problem mit...  geschweige10  \n...                                                  ...           ...  \n12128  \" Eine low fee - Schule ist nicht automatisch ...          er99  \n12129  \" Eine low fee - Schule ist nicht automatisch ...          er99  \n12130  Im Gang sieht sie plötzlich Jamie , erkennt ih...          er99  \n12131  An seiner Hand geht ein Mädchen , einen Kopf k...          er99  \n12132  Rund 45 . 000 Dollar soll der Byton - SUV kost...          er99  \n\n[12133 rows x 3 columns]",
      "text/html": "<div>\n<style scoped>\n    .dataframe tbody tr th:only-of-type {\n        vertical-align: middle;\n    }\n\n    .dataframe tbody tr th {\n        vertical-align: top;\n    }\n\n    .dataframe thead th {\n        text-align: right;\n    }\n</style>\n<table border=\"1\" class=\"dataframe\">\n  <thead>\n    <tr style=\"text-align: right;\">\n      <th></th>\n      <th>example</th>\n      <th>cue</th>\n      <th>pseudoword</th>\n    </tr>\n  </thead>\n  <tbody>\n    <tr>\n      <th>0</th>\n      <td>Und dann ist da noch das generelle Problem mit...</td>\n      <td>Und dann ist da noch das generelle Problem mit...</td>\n      <td>geschweige10</td>\n    </tr>\n    <tr>\n      <th>1</th>\n      <td>Und dann ist da noch das generelle Problem mit...</td>\n      <td>Und dann ist da noch das generelle Problem mit...</td>\n      <td>denn10</td>\n    </tr>\n    <tr>\n      <th>2</th>\n      <td>Und dann ist da noch das generelle Problem mit...</td>\n      <td>Und dann ist da noch das generelle Problem mit...</td>\n      <td>geschweige10</td>\n    </tr>\n    <tr>\n      <th>3</th>\n      <td>Und dann ist da noch das generelle Problem mit...</td>\n      <td>Und dann ist da noch das generelle Problem mit...</td>\n      <td>denn10</td>\n    </tr>\n    <tr>\n      <th>4</th>\n      <td>Und dann ist da noch das generelle Problem mit...</td>\n      <td>Und dann ist da noch das generelle Problem mit...</td>\n      <td>geschweige10</td>\n    </tr>\n    <tr>\n      <th>...</th>\n      <td>...</td>\n      <td>...</td>\n      <td>...</td>\n    </tr>\n    <tr>\n      <th>12128</th>\n      <td>\" Eine low fee - Schule ist nicht automatisch ...</td>\n      <td>\" Eine low fee - Schule ist nicht automatisch ...</td>\n      <td>er99</td>\n    </tr>\n    <tr>\n      <th>12129</th>\n      <td>\" Eine low fee - Schule ist nicht automatisch ...</td>\n      <td>\" Eine low fee - Schule ist nicht automatisch ...</td>\n      <td>er99</td>\n    </tr>\n    <tr>\n      <th>12130</th>\n      <td>Im Gang sieht sie plötzlich Jamie , erkennt ih...</td>\n      <td>Im Gang sieht sie plötzlich Jamie , erkennt ih...</td>\n      <td>er99</td>\n    </tr>\n    <tr>\n      <th>12131</th>\n      <td>An seiner Hand geht ein Mädchen , einen Kopf k...</td>\n      <td>An seiner Hand geht ein Mädchen , einen Kopf k...</td>\n      <td>er99</td>\n    </tr>\n    <tr>\n      <th>12132</th>\n      <td>Rund 45 . 000 Dollar soll der Byton - SUV kost...</td>\n      <td>Rund 45 . 000 Dollar soll der Byton - SUV kost...</td>\n      <td>er99</td>\n    </tr>\n  </tbody>\n</table>\n<p>12133 rows × 3 columns</p>\n</div>"
     },
     "execution_count": 2,
     "metadata": {},
     "output_type": "execute_result"
    }
   ],
   "source": [
    "with open(\"../../data/pseudowords/CoMaPP_all.json\") as json_file:\n",
    "    data = json.load(json_file)\n",
    "    \n",
    "# d+1 since we are not replacing the ke-lex this time!\n",
    "data = [{\"example\": d[\"target1\"], \"cue\": \" \".join(d[\"target1\"].split()[:d[\"query_idx\"]+1]), \"pseudoword\": d[\"label\"]} for d in data]\n",
    "df = pd.DataFrame.from_dict(data).drop_duplicates(ignore_index=True)\n",
    "df"
   ],
   "metadata": {
    "collapsed": false,
    "ExecuteTime": {
     "end_time": "2024-01-27T00:46:27.875041549Z",
     "start_time": "2024-01-27T00:46:27.731635111Z"
    }
   },
   "id": "18bb06d46d72aab4"
  },
  {
   "cell_type": "code",
   "execution_count": 3,
   "outputs": [
    {
     "data": {
      "text/plain": "                                                 example  \\\nindex                                                      \n10     Und dann ist da noch das generelle Problem mit...   \n10     Und dann ist da noch das generelle Problem mit...   \n10     Und dann ist da noch das generelle Problem mit...   \n10     Und dann ist da noch das generelle Problem mit...   \n10     Und dann ist da noch das generelle Problem mit...   \n...                                                  ...   \n99     \" Eine low fee - Schule ist nicht automatisch ...   \n99     \" Eine low fee - Schule ist nicht automatisch ...   \n99     Im Gang sieht sie plötzlich Jamie , erkennt ih...   \n99     An seiner Hand geht ein Mädchen , einen Kopf k...   \n99     Rund 45 . 000 Dollar soll der Byton - SUV kost...   \n\n                                                     cue    pseudoword  \nindex                                                                   \n10     Und dann ist da noch das generelle Problem mit...  geschweige10  \n10     Und dann ist da noch das generelle Problem mit...        denn10  \n10     Und dann ist da noch das generelle Problem mit...  geschweige10  \n10     Und dann ist da noch das generelle Problem mit...        denn10  \n10     Und dann ist da noch das generelle Problem mit...  geschweige10  \n...                                                  ...           ...  \n99     \" Eine low fee - Schule ist nicht automatisch ...          er99  \n99     \" Eine low fee - Schule ist nicht automatisch ...          er99  \n99     Im Gang sieht sie plötzlich Jamie , erkennt ih...          er99  \n99     An seiner Hand geht ein Mädchen , einen Kopf k...          er99  \n99     Rund 45 . 000 Dollar soll der Byton - SUV kost...          er99  \n\n[12133 rows x 3 columns]",
      "text/html": "<div>\n<style scoped>\n    .dataframe tbody tr th:only-of-type {\n        vertical-align: middle;\n    }\n\n    .dataframe tbody tr th {\n        vertical-align: top;\n    }\n\n    .dataframe thead th {\n        text-align: right;\n    }\n</style>\n<table border=\"1\" class=\"dataframe\">\n  <thead>\n    <tr style=\"text-align: right;\">\n      <th></th>\n      <th>example</th>\n      <th>cue</th>\n      <th>pseudoword</th>\n    </tr>\n    <tr>\n      <th>index</th>\n      <th></th>\n      <th></th>\n      <th></th>\n    </tr>\n  </thead>\n  <tbody>\n    <tr>\n      <th>10</th>\n      <td>Und dann ist da noch das generelle Problem mit...</td>\n      <td>Und dann ist da noch das generelle Problem mit...</td>\n      <td>geschweige10</td>\n    </tr>\n    <tr>\n      <th>10</th>\n      <td>Und dann ist da noch das generelle Problem mit...</td>\n      <td>Und dann ist da noch das generelle Problem mit...</td>\n      <td>denn10</td>\n    </tr>\n    <tr>\n      <th>10</th>\n      <td>Und dann ist da noch das generelle Problem mit...</td>\n      <td>Und dann ist da noch das generelle Problem mit...</td>\n      <td>geschweige10</td>\n    </tr>\n    <tr>\n      <th>10</th>\n      <td>Und dann ist da noch das generelle Problem mit...</td>\n      <td>Und dann ist da noch das generelle Problem mit...</td>\n      <td>denn10</td>\n    </tr>\n    <tr>\n      <th>10</th>\n      <td>Und dann ist da noch das generelle Problem mit...</td>\n      <td>Und dann ist da noch das generelle Problem mit...</td>\n      <td>geschweige10</td>\n    </tr>\n    <tr>\n      <th>...</th>\n      <td>...</td>\n      <td>...</td>\n      <td>...</td>\n    </tr>\n    <tr>\n      <th>99</th>\n      <td>\" Eine low fee - Schule ist nicht automatisch ...</td>\n      <td>\" Eine low fee - Schule ist nicht automatisch ...</td>\n      <td>er99</td>\n    </tr>\n    <tr>\n      <th>99</th>\n      <td>\" Eine low fee - Schule ist nicht automatisch ...</td>\n      <td>\" Eine low fee - Schule ist nicht automatisch ...</td>\n      <td>er99</td>\n    </tr>\n    <tr>\n      <th>99</th>\n      <td>Im Gang sieht sie plötzlich Jamie , erkennt ih...</td>\n      <td>Im Gang sieht sie plötzlich Jamie , erkennt ih...</td>\n      <td>er99</td>\n    </tr>\n    <tr>\n      <th>99</th>\n      <td>An seiner Hand geht ein Mädchen , einen Kopf k...</td>\n      <td>An seiner Hand geht ein Mädchen , einen Kopf k...</td>\n      <td>er99</td>\n    </tr>\n    <tr>\n      <th>99</th>\n      <td>Rund 45 . 000 Dollar soll der Byton - SUV kost...</td>\n      <td>Rund 45 . 000 Dollar soll der Byton - SUV kost...</td>\n      <td>er99</td>\n    </tr>\n  </tbody>\n</table>\n<p>12133 rows × 3 columns</p>\n</div>"
     },
     "execution_count": 3,
     "metadata": {},
     "output_type": "execute_result"
    }
   ],
   "source": [
    "df['index'] = df['pseudoword'].str.extract('(\\d+)').astype(int)\n",
    "df.set_index('index', inplace=True)\n",
    "\n",
    "df"
   ],
   "metadata": {
    "collapsed": false,
    "ExecuteTime": {
     "end_time": "2024-01-27T00:46:27.940683448Z",
     "start_time": "2024-01-27T00:46:27.890967887Z"
    }
   },
   "id": "b7e1f6e88f687297"
  },
  {
   "cell_type": "code",
   "execution_count": 4,
   "outputs": [
    {
     "data": {
      "text/plain": "                                                 example  \\\nindex                                                      \n10     Und dann ist da noch das generelle Problem mit...   \n10     Und dann ist da noch das generelle Problem mit...   \n10     Und dann ist da noch das generelle Problem mit...   \n10     Und dann ist da noch das generelle Problem mit...   \n10     Und dann ist da noch das generelle Problem mit...   \n...                                                  ...   \n99     \" Eine low fee - Schule ist nicht automatisch ...   \n99     \" Eine low fee - Schule ist nicht automatisch ...   \n99     Im Gang sieht sie plötzlich Jamie , erkennt ih...   \n99     An seiner Hand geht ein Mädchen , einen Kopf k...   \n99     Rund 45 . 000 Dollar soll der Byton - SUV kost...   \n\n                                                     cue    pseudoword  \nindex                                                                   \n10     Und dann ist da noch das generelle Problem mit...  geschweige10  \n10     Und dann ist da noch das generelle Problem mit...        denn10  \n10     Und dann ist da noch das generelle Problem mit...  geschweige10  \n10     Und dann ist da noch das generelle Problem mit...        denn10  \n10     Und dann ist da noch das generelle Problem mit...  geschweige10  \n...                                                  ...           ...  \n99     \" Eine low fee - Schule ist nicht automatisch ...          er99  \n99     \" Eine low fee - Schule ist nicht automatisch ...          er99  \n99     Im Gang sieht sie plötzlich Jamie , erkennt ih...          er99  \n99     An seiner Hand geht ein Mädchen , einen Kopf k...          er99  \n99     Rund 45 . 000 Dollar soll der Byton - SUV kost...          er99  \n\n[12133 rows x 3 columns]",
      "text/html": "<div>\n<style scoped>\n    .dataframe tbody tr th:only-of-type {\n        vertical-align: middle;\n    }\n\n    .dataframe tbody tr th {\n        vertical-align: top;\n    }\n\n    .dataframe thead th {\n        text-align: right;\n    }\n</style>\n<table border=\"1\" class=\"dataframe\">\n  <thead>\n    <tr style=\"text-align: right;\">\n      <th></th>\n      <th>example</th>\n      <th>cue</th>\n      <th>pseudoword</th>\n    </tr>\n    <tr>\n      <th>index</th>\n      <th></th>\n      <th></th>\n      <th></th>\n    </tr>\n  </thead>\n  <tbody>\n    <tr>\n      <th>10</th>\n      <td>Und dann ist da noch das generelle Problem mit...</td>\n      <td>Und dann ist da noch das generelle Problem mit...</td>\n      <td>geschweige10</td>\n    </tr>\n    <tr>\n      <th>10</th>\n      <td>Und dann ist da noch das generelle Problem mit...</td>\n      <td>Und dann ist da noch das generelle Problem mit...</td>\n      <td>denn10</td>\n    </tr>\n    <tr>\n      <th>10</th>\n      <td>Und dann ist da noch das generelle Problem mit...</td>\n      <td>Und dann ist da noch das generelle Problem mit...</td>\n      <td>geschweige10</td>\n    </tr>\n    <tr>\n      <th>10</th>\n      <td>Und dann ist da noch das generelle Problem mit...</td>\n      <td>Und dann ist da noch das generelle Problem mit...</td>\n      <td>denn10</td>\n    </tr>\n    <tr>\n      <th>10</th>\n      <td>Und dann ist da noch das generelle Problem mit...</td>\n      <td>Und dann ist da noch das generelle Problem mit...</td>\n      <td>geschweige10</td>\n    </tr>\n    <tr>\n      <th>...</th>\n      <td>...</td>\n      <td>...</td>\n      <td>...</td>\n    </tr>\n    <tr>\n      <th>99</th>\n      <td>\" Eine low fee - Schule ist nicht automatisch ...</td>\n      <td>\" Eine low fee - Schule ist nicht automatisch ...</td>\n      <td>er99</td>\n    </tr>\n    <tr>\n      <th>99</th>\n      <td>\" Eine low fee - Schule ist nicht automatisch ...</td>\n      <td>\" Eine low fee - Schule ist nicht automatisch ...</td>\n      <td>er99</td>\n    </tr>\n    <tr>\n      <th>99</th>\n      <td>Im Gang sieht sie plötzlich Jamie , erkennt ih...</td>\n      <td>Im Gang sieht sie plötzlich Jamie , erkennt ih...</td>\n      <td>er99</td>\n    </tr>\n    <tr>\n      <th>99</th>\n      <td>An seiner Hand geht ein Mädchen , einen Kopf k...</td>\n      <td>An seiner Hand geht ein Mädchen , einen Kopf k...</td>\n      <td>er99</td>\n    </tr>\n    <tr>\n      <th>99</th>\n      <td>Rund 45 . 000 Dollar soll der Byton - SUV kost...</td>\n      <td>Rund 45 . 000 Dollar soll der Byton - SUV kost...</td>\n      <td>er99</td>\n    </tr>\n  </tbody>\n</table>\n<p>12133 rows × 3 columns</p>\n</div>"
     },
     "execution_count": 4,
     "metadata": {},
     "output_type": "execute_result"
    }
   ],
   "source": [
    "contextleft = pd.read_pickle(\"../../data/pseudowords/contextleft_text.pickle\")\n",
    "\n",
    "def update_cue(row):\n",
    "    output = row[['example', 'cue']]\n",
    "    if len(row['cue'].split()) == 1:  # if the string in cue is empty (except for the kelex)\n",
    "        # match the index of row with contextleft['construction_id'] and match contextleft['text'] with row['example'] and create matching_entry\n",
    "        matching_entry = contextleft.loc[(contextleft['construction_id'] == row.name) & (contextleft['text'] == row['example']), 'contextleft'].tolist()\n",
    "        if len(matching_entry) > 0:\n",
    "            # Add the left context to the example and to the cue:\n",
    "            output = [matching_entry[0] + \" \" + row['example'], matching_entry[0] + \" \" + row['cue']]\n",
    "    return output\n",
    "\n",
    "# Add the left context if there is no cue up until the pseudoword.\n",
    "df[[\"example\", \"cue\"]] = df.apply(update_cue, axis=1)\n",
    "df"
   ],
   "metadata": {
    "collapsed": false,
    "ExecuteTime": {
     "end_time": "2024-01-27T00:46:33.041638715Z",
     "start_time": "2024-01-27T00:46:27.898752797Z"
    }
   },
   "id": "a898840ef3c9c442"
  },
  {
   "cell_type": "code",
   "execution_count": 5,
   "outputs": [
    {
     "data": {
      "text/plain": "                                                                   example  \\\nconstruction pseudoword                                                      \n5            Und5        [\"\"Nicht herauskaufen\"\", \"\"nicht erpressen las...   \n             erst5       [Trainer Lucien Favre hatte schon seine beiden...   \n             gar5        [Es hat Afghanistan nicht stabilisiert und sch...   \n             nicht5      [Es hat Afghanistan nicht stabilisiert und sch...   \n             recht5      [Trainer Lucien Favre hatte schon seine beiden...   \n...                                                                    ...   \n1884         Gold1884    [Schweigen ist Silber , reden ist Gold ., Schw...   \n             Silber1884  [Schweigen ist Silber , reden ist Gold ., Schw...   \n             ist1884     [Schweigen ist Silber , reden ist Gold ., Schw...   \n1986         kaum1986    [Die Vorhut vor 20.000 Jahren war für das Ries...   \n1987         sehr1987    [Solche Menschen können sich sehr wohlfühlen o...   \n\n                                                                       cue  \nconstruction pseudoword                                                     \n5            Und5        [\"\"Nicht herauskaufen\"\", \"\"nicht erpressen las...  \n             erst5       [Trainer Lucien Favre hatte schon seine beiden...  \n             gar5        [Es hat Afghanistan nicht stabilisiert und, Es...  \n             nicht5      [Es hat, Es hat Afghanistan nicht, Dass es, Da...  \n             recht5      [Trainer Lucien Favre hatte schon seine beiden...  \n...                                                                    ...  \n1884         Gold1884    [Schweigen ist Silber , reden ist Gold, Schwei...  \n             Silber1884  [Schweigen ist Silber, Schweigen ist Silber, A...  \n             ist1884     [Schweigen ist, Schweigen ist, Angeben ist, Sc...  \n1986         kaum1986    [Die Vorhut vor 20.000 Jahren war, Die Vorhut ...  \n1987         sehr1987    [Solche Menschen können sich, Solche Menschen ...  \n\n[562 rows x 2 columns]",
      "text/html": "<div>\n<style scoped>\n    .dataframe tbody tr th:only-of-type {\n        vertical-align: middle;\n    }\n\n    .dataframe tbody tr th {\n        vertical-align: top;\n    }\n\n    .dataframe thead th {\n        text-align: right;\n    }\n</style>\n<table border=\"1\" class=\"dataframe\">\n  <thead>\n    <tr style=\"text-align: right;\">\n      <th></th>\n      <th></th>\n      <th>example</th>\n      <th>cue</th>\n    </tr>\n    <tr>\n      <th>construction</th>\n      <th>pseudoword</th>\n      <th></th>\n      <th></th>\n    </tr>\n  </thead>\n  <tbody>\n    <tr>\n      <th rowspan=\"5\" valign=\"top\">5</th>\n      <th>Und5</th>\n      <td>[\"\"Nicht herauskaufen\"\", \"\"nicht erpressen las...</td>\n      <td>[\"\"Nicht herauskaufen\"\", \"\"nicht erpressen las...</td>\n    </tr>\n    <tr>\n      <th>erst5</th>\n      <td>[Trainer Lucien Favre hatte schon seine beiden...</td>\n      <td>[Trainer Lucien Favre hatte schon seine beiden...</td>\n    </tr>\n    <tr>\n      <th>gar5</th>\n      <td>[Es hat Afghanistan nicht stabilisiert und sch...</td>\n      <td>[Es hat Afghanistan nicht stabilisiert und, Es...</td>\n    </tr>\n    <tr>\n      <th>nicht5</th>\n      <td>[Es hat Afghanistan nicht stabilisiert und sch...</td>\n      <td>[Es hat, Es hat Afghanistan nicht, Dass es, Da...</td>\n    </tr>\n    <tr>\n      <th>recht5</th>\n      <td>[Trainer Lucien Favre hatte schon seine beiden...</td>\n      <td>[Trainer Lucien Favre hatte schon seine beiden...</td>\n    </tr>\n    <tr>\n      <th>...</th>\n      <th>...</th>\n      <td>...</td>\n      <td>...</td>\n    </tr>\n    <tr>\n      <th rowspan=\"3\" valign=\"top\">1884</th>\n      <th>Gold1884</th>\n      <td>[Schweigen ist Silber , reden ist Gold ., Schw...</td>\n      <td>[Schweigen ist Silber , reden ist Gold, Schwei...</td>\n    </tr>\n    <tr>\n      <th>Silber1884</th>\n      <td>[Schweigen ist Silber , reden ist Gold ., Schw...</td>\n      <td>[Schweigen ist Silber, Schweigen ist Silber, A...</td>\n    </tr>\n    <tr>\n      <th>ist1884</th>\n      <td>[Schweigen ist Silber , reden ist Gold ., Schw...</td>\n      <td>[Schweigen ist, Schweigen ist, Angeben ist, Sc...</td>\n    </tr>\n    <tr>\n      <th>1986</th>\n      <th>kaum1986</th>\n      <td>[Die Vorhut vor 20.000 Jahren war für das Ries...</td>\n      <td>[Die Vorhut vor 20.000 Jahren war, Die Vorhut ...</td>\n    </tr>\n    <tr>\n      <th>1987</th>\n      <th>sehr1987</th>\n      <td>[Solche Menschen können sich sehr wohlfühlen o...</td>\n      <td>[Solche Menschen können sich, Solche Menschen ...</td>\n    </tr>\n  </tbody>\n</table>\n<p>562 rows × 2 columns</p>\n</div>"
     },
     "execution_count": 5,
     "metadata": {},
     "output_type": "execute_result"
    }
   ],
   "source": [
    "df.reset_index(inplace=True)\n",
    "df.rename(columns={'index': 'construction'}, inplace=True)\n",
    "\n",
    "result_df = df.groupby(['construction', 'pseudoword']).agg({'example': list, 'cue': list})\n",
    "\n",
    "result_df"
   ],
   "metadata": {
    "collapsed": false,
    "ExecuteTime": {
     "end_time": "2024-01-27T00:46:33.136707692Z",
     "start_time": "2024-01-27T00:46:33.036533115Z"
    }
   },
   "id": "4a4e3d92707b4c4"
  },
  {
   "cell_type": "code",
   "execution_count": 6,
   "outputs": [
    {
     "data": {
      "text/plain": "                                             definition\n10    Die \"Negation:NEG_XgeschweigedennY-Konstruktio...\n100   Die \"Äquativ_Plural-Konstruktion\" gehört zu de...\n1004  Die \"Superlativ_Klimax:ADJ1_ADJ1-er_NP-Konstru...\n1006  Die \"Superlativ:PRÄP_ADJ-ster_NP-Konstruktion\"...\n101   Die \"Äquativ:ADJwieNP-Konstruktion\" gehört zu ...\n...                                                 ...\n97    Die \"Komparativ:ADJ1-eralsADJ1-Konstruktion\" g...\n973   Bei \"Disjunktion_Doppeltitel:XoderY\" handelt e...\n976   Bei \"Korrelation_Affirmation:WoXist, istY\" han...\n98    Die \"Äquativ:soADJwieXP-Konstruktion\" gehört z...\n99    Die \"Komparativ:ADJ-eralsX-Konstruktion\" gehör...\n\n[211 rows x 1 columns]",
      "text/html": "<div>\n<style scoped>\n    .dataframe tbody tr th:only-of-type {\n        vertical-align: middle;\n    }\n\n    .dataframe tbody tr th {\n        vertical-align: top;\n    }\n\n    .dataframe thead th {\n        text-align: right;\n    }\n</style>\n<table border=\"1\" class=\"dataframe\">\n  <thead>\n    <tr style=\"text-align: right;\">\n      <th></th>\n      <th>definition</th>\n    </tr>\n  </thead>\n  <tbody>\n    <tr>\n      <th>10</th>\n      <td>Die \"Negation:NEG_XgeschweigedennY-Konstruktio...</td>\n    </tr>\n    <tr>\n      <th>100</th>\n      <td>Die \"Äquativ_Plural-Konstruktion\" gehört zu de...</td>\n    </tr>\n    <tr>\n      <th>1004</th>\n      <td>Die \"Superlativ_Klimax:ADJ1_ADJ1-er_NP-Konstru...</td>\n    </tr>\n    <tr>\n      <th>1006</th>\n      <td>Die \"Superlativ:PRÄP_ADJ-ster_NP-Konstruktion\"...</td>\n    </tr>\n    <tr>\n      <th>101</th>\n      <td>Die \"Äquativ:ADJwieNP-Konstruktion\" gehört zu ...</td>\n    </tr>\n    <tr>\n      <th>...</th>\n      <td>...</td>\n    </tr>\n    <tr>\n      <th>97</th>\n      <td>Die \"Komparativ:ADJ1-eralsADJ1-Konstruktion\" g...</td>\n    </tr>\n    <tr>\n      <th>973</th>\n      <td>Bei \"Disjunktion_Doppeltitel:XoderY\" handelt e...</td>\n    </tr>\n    <tr>\n      <th>976</th>\n      <td>Bei \"Korrelation_Affirmation:WoXist, istY\" han...</td>\n    </tr>\n    <tr>\n      <th>98</th>\n      <td>Die \"Äquativ:soADJwieXP-Konstruktion\" gehört z...</td>\n    </tr>\n    <tr>\n      <th>99</th>\n      <td>Die \"Komparativ:ADJ-eralsX-Konstruktion\" gehör...</td>\n    </tr>\n  </tbody>\n</table>\n<p>211 rows × 1 columns</p>\n</div>"
     },
     "execution_count": 6,
     "metadata": {},
     "output_type": "execute_result"
    }
   ],
   "source": [
    "with open(\"../../out/definitions.pickle\", \"rb\") as definitions_file:\n",
    "    definitions = pd.DataFrame.from_dict(pickle.load(definitions_file), orient=\"index\", columns=[\"definition\"])\n",
    "    \n",
    "definitions"
   ],
   "metadata": {
    "collapsed": true,
    "ExecuteTime": {
     "end_time": "2024-01-27T00:46:33.205431055Z",
     "start_time": "2024-01-27T00:46:33.103513829Z"
    }
   },
   "id": "initial_id"
  },
  {
   "cell_type": "code",
   "execution_count": 7,
   "outputs": [
    {
     "data": {
      "text/plain": "                                                                   example  \\\nconstruction pseudoword                                                      \n5            Und5        [\"\"Nicht herauskaufen\"\", \"\"nicht erpressen las...   \n             erst5       [Trainer Lucien Favre hatte schon seine beiden...   \n             gar5        [Es hat Afghanistan nicht stabilisiert und sch...   \n             nicht5      [Es hat Afghanistan nicht stabilisiert und sch...   \n             recht5      [Trainer Lucien Favre hatte schon seine beiden...   \n...                                                                    ...   \n1884         Gold1884    [Schweigen ist Silber , reden ist Gold ., Schw...   \n             Silber1884  [Schweigen ist Silber , reden ist Gold ., Schw...   \n             ist1884     [Schweigen ist Silber , reden ist Gold ., Schw...   \n1986         kaum1986    [Die Vorhut vor 20.000 Jahren war für das Ries...   \n1987         sehr1987    [Solche Menschen können sich sehr wohlfühlen o...   \n\n                                                                       cue  \\\nconstruction pseudoword                                                      \n5            Und5        [\"\"Nicht herauskaufen\"\", \"\"nicht erpressen las...   \n             erst5       [Trainer Lucien Favre hatte schon seine beiden...   \n             gar5        [Es hat Afghanistan nicht stabilisiert und, Es...   \n             nicht5      [Es hat, Es hat Afghanistan nicht, Dass es, Da...   \n             recht5      [Trainer Lucien Favre hatte schon seine beiden...   \n...                                                                    ...   \n1884         Gold1884    [Schweigen ist Silber , reden ist Gold, Schwei...   \n             Silber1884  [Schweigen ist Silber, Schweigen ist Silber, A...   \n             ist1884     [Schweigen ist, Schweigen ist, Angeben ist, Sc...   \n1986         kaum1986    [Die Vorhut vor 20.000 Jahren war, Die Vorhut ...   \n1987         sehr1987    [Solche Menschen können sich, Solche Menschen ...   \n\n                                                                definition  \nconstruction pseudoword                                                     \n5            Und5        Die \"Negation:NEG_Xund_schon_gar_nichtY-Konstr...  \n             erst5       Die \"Negation:NEG_Xund_schon_gar_nichtY-Konstr...  \n             gar5        Die \"Negation:NEG_Xund_schon_gar_nichtY-Konstr...  \n             nicht5      Die \"Negation:NEG_Xund_schon_gar_nichtY-Konstr...  \n             recht5      Die \"Negation:NEG_Xund_schon_gar_nichtY-Konstr...  \n...                                                                    ...  \n1884         Gold1884    Die \"Intensivierung_Komparativ:Xist_SilberYist...  \n             Silber1884  Die \"Intensivierung_Komparativ:Xist_SilberYist...  \n             ist1884     Die \"Intensivierung_Komparativ:Xist_SilberYist...  \n1986         kaum1986    Die Konstruktion \"Relativierung:kaumADJ\" gehör...  \n1987         sehr1987    Die Konstruktion \"Intensivierung:sehrV\" gehört...  \n\n[562 rows x 3 columns]",
      "text/html": "<div>\n<style scoped>\n    .dataframe tbody tr th:only-of-type {\n        vertical-align: middle;\n    }\n\n    .dataframe tbody tr th {\n        vertical-align: top;\n    }\n\n    .dataframe thead th {\n        text-align: right;\n    }\n</style>\n<table border=\"1\" class=\"dataframe\">\n  <thead>\n    <tr style=\"text-align: right;\">\n      <th></th>\n      <th></th>\n      <th>example</th>\n      <th>cue</th>\n      <th>definition</th>\n    </tr>\n    <tr>\n      <th>construction</th>\n      <th>pseudoword</th>\n      <th></th>\n      <th></th>\n      <th></th>\n    </tr>\n  </thead>\n  <tbody>\n    <tr>\n      <th rowspan=\"5\" valign=\"top\">5</th>\n      <th>Und5</th>\n      <td>[\"\"Nicht herauskaufen\"\", \"\"nicht erpressen las...</td>\n      <td>[\"\"Nicht herauskaufen\"\", \"\"nicht erpressen las...</td>\n      <td>Die \"Negation:NEG_Xund_schon_gar_nichtY-Konstr...</td>\n    </tr>\n    <tr>\n      <th>erst5</th>\n      <td>[Trainer Lucien Favre hatte schon seine beiden...</td>\n      <td>[Trainer Lucien Favre hatte schon seine beiden...</td>\n      <td>Die \"Negation:NEG_Xund_schon_gar_nichtY-Konstr...</td>\n    </tr>\n    <tr>\n      <th>gar5</th>\n      <td>[Es hat Afghanistan nicht stabilisiert und sch...</td>\n      <td>[Es hat Afghanistan nicht stabilisiert und, Es...</td>\n      <td>Die \"Negation:NEG_Xund_schon_gar_nichtY-Konstr...</td>\n    </tr>\n    <tr>\n      <th>nicht5</th>\n      <td>[Es hat Afghanistan nicht stabilisiert und sch...</td>\n      <td>[Es hat, Es hat Afghanistan nicht, Dass es, Da...</td>\n      <td>Die \"Negation:NEG_Xund_schon_gar_nichtY-Konstr...</td>\n    </tr>\n    <tr>\n      <th>recht5</th>\n      <td>[Trainer Lucien Favre hatte schon seine beiden...</td>\n      <td>[Trainer Lucien Favre hatte schon seine beiden...</td>\n      <td>Die \"Negation:NEG_Xund_schon_gar_nichtY-Konstr...</td>\n    </tr>\n    <tr>\n      <th>...</th>\n      <th>...</th>\n      <td>...</td>\n      <td>...</td>\n      <td>...</td>\n    </tr>\n    <tr>\n      <th rowspan=\"3\" valign=\"top\">1884</th>\n      <th>Gold1884</th>\n      <td>[Schweigen ist Silber , reden ist Gold ., Schw...</td>\n      <td>[Schweigen ist Silber , reden ist Gold, Schwei...</td>\n      <td>Die \"Intensivierung_Komparativ:Xist_SilberYist...</td>\n    </tr>\n    <tr>\n      <th>Silber1884</th>\n      <td>[Schweigen ist Silber , reden ist Gold ., Schw...</td>\n      <td>[Schweigen ist Silber, Schweigen ist Silber, A...</td>\n      <td>Die \"Intensivierung_Komparativ:Xist_SilberYist...</td>\n    </tr>\n    <tr>\n      <th>ist1884</th>\n      <td>[Schweigen ist Silber , reden ist Gold ., Schw...</td>\n      <td>[Schweigen ist, Schweigen ist, Angeben ist, Sc...</td>\n      <td>Die \"Intensivierung_Komparativ:Xist_SilberYist...</td>\n    </tr>\n    <tr>\n      <th>1986</th>\n      <th>kaum1986</th>\n      <td>[Die Vorhut vor 20.000 Jahren war für das Ries...</td>\n      <td>[Die Vorhut vor 20.000 Jahren war, Die Vorhut ...</td>\n      <td>Die Konstruktion \"Relativierung:kaumADJ\" gehör...</td>\n    </tr>\n    <tr>\n      <th>1987</th>\n      <th>sehr1987</th>\n      <td>[Solche Menschen können sich sehr wohlfühlen o...</td>\n      <td>[Solche Menschen können sich, Solche Menschen ...</td>\n      <td>Die Konstruktion \"Intensivierung:sehrV\" gehört...</td>\n    </tr>\n  </tbody>\n</table>\n<p>562 rows × 3 columns</p>\n</div>"
     },
     "execution_count": 7,
     "metadata": {},
     "output_type": "execute_result"
    }
   ],
   "source": [
    "examples = pd.merge(result_df, definitions, how=\"inner\", left_on=\"construction\", right_index=True)\n",
    "examples"
   ],
   "metadata": {
    "collapsed": false,
    "ExecuteTime": {
     "end_time": "2024-01-27T00:47:03.152711533Z",
     "start_time": "2024-01-27T00:47:03.105460306Z"
    }
   },
   "id": "238d2238bbdd91d8"
  },
  {
   "cell_type": "markdown",
   "source": [
    "##### Generieren neuer Sätze:"
   ],
   "metadata": {
    "collapsed": false
   },
   "id": "5bc899cb800665fa"
  },
  {
   "cell_type": "markdown",
   "source": [
    "Load the vanilla mbart model:"
   ],
   "metadata": {
    "collapsed": false
   },
   "id": "d1fd4b9029d49e1e"
  },
  {
   "cell_type": "code",
   "execution_count": 10,
   "outputs": [
    {
     "data": {
      "text/plain": "Embedding(250054, 1024, padding_idx=1)"
     },
     "execution_count": 10,
     "metadata": {},
     "output_type": "execute_result"
    }
   ],
   "source": [
    "model = MBartForConditionalGeneration.from_pretrained(\n",
    "    \"facebook/mbart-large-50\", return_dict=True\n",
    ") \n",
    "tokenizer = MBart50TokenizerFast.from_pretrained(\n",
    "    \"facebook/mbart-large-50\", src_lang=\"de_DE\", tgt_lang=\"de_DE\"\n",
    ")\n",
    "model.to(\"cuda:0\")\n",
    "model.model.encoder.embed_tokens"
   ],
   "metadata": {
    "collapsed": false,
    "ExecuteTime": {
     "end_time": "2024-01-27T00:49:33.920692392Z",
     "start_time": "2024-01-27T00:49:28.789566487Z"
    }
   },
   "id": "e82730a36da5ce9c"
  },
  {
   "cell_type": "markdown",
   "source": [
    "Complete the cues:"
   ],
   "metadata": {
    "collapsed": false
   },
   "id": "2b006ebc8aa40484"
  },
  {
   "cell_type": "code",
   "execution_count": null,
   "outputs": [
    {
     "data": {
      "text/plain": "  0%|          | 0/562 [00:00<?, ?it/s]",
      "application/vnd.jupyter.widget-view+json": {
       "version_major": 2,
       "version_minor": 0,
       "model_id": "044ae189435149db87972c76ee8efc5a"
      }
     },
     "metadata": {},
     "output_type": "display_data"
    },
    {
     "name": "stdout",
     "output_type": "stream",
     "text": [
      "Und5 ['\"\"Nicht herauskaufen\"\", \"\"nicht erpressen lassen\"\" wolle man sich. Und \"\"nicht erpressen lassen\"\".', 'Auch unter Schwarz-Gelb keiner wetten.', 'Er glaubt nicht an mehr Förderung, nicht an kleinere Klassen, nicht an individualisierteren Unterricht. Und er glaubt auch nicht an die Zukunft.', 'Vom Unfall kam er durch Zufall zum Einfall, nämlich zu den Grundlagen der Schwerkraft, ohne die nirgends auf der Welt ein Sack Reis umfällt. Und das ist der Grund, warum er so erfolgreich ist.', 'Nun allerdings sieht es nicht mehr wirklich nach Zukunft aus. Und das ist auch gut so.', 'Es ist ein Ton, auf den man sich in der Diskussion mit China einstellen muss, ohne sich allerdings daran gewöhnen zu dürfen. Und das ist auch gut so.', 'Der Landkreis Lüchow-Dannenberg ist eine der ärmsten Regionen Deutschlands', 'Sie will diese Höhle aus Blech nicht verlassen, die sie abschirmt vor der Welt da draußen. Und sie will sie nicht verlassen.', 'Damit wird wiederum nicht alles falsch, was danach geschah. Und auch nicht alles richtig.', 'So begegnen sich Freunde nicht. Und das ist gut so.', 'Aber bei ihren 13 Kindern und den Alltagssorgen konnte sie seinen späteren Ideen nicht mehr folgen. Und so entschied sie sich für ein neues Leben.', 'Nicht jeder darf gerettet werden. Und das ist gut so.', 'Keine trug Hosen. Und was ist das?', 'das neue Wollwaschmittel weicher als das alte', 'Selbst wenn sie am Ende doch noch über die 50-Prozent-Marke krabbelt – diese Angst wird die CSU so schnell nicht wieder vergessen. Und das ist gut so.', 'Spargel, das feinste der Gemüse, sollten wir nicht mit Kunstsaucen beleidigen. Und das ist auch gut so.', 'Fakt jedoch ist, dass selbst Ehefrauen sich häufig nicht trauen, nach dem genauen Einkommen des Partners zu fragen. Und das ist auch nicht gut.', 'Nicht Berlins Regierender Bürgermeister Klaus Wowereit, der machtstrategisch auf das unbeliebte Linksbündnis festgelegt ist. Und das ist auch gut so.'] [0.7326326966285706, 0.3384742736816406, 0.7120172381401062, 0.7419953942298889, 0.6813696026802063, 0.8040540218353271, 0.4504368305206299, 0.7203003764152527, 0.7156355381011963, 0.6614177823066711, 0.6869251728057861, 0.6314358115196228, 0.5758665204048157, 0.48452019691467285, 0.8304266333580017, 0.7603899836540222, 0.7529159784317017, 0.8075778484344482]\n",
      "erst5 ['Trainer Lucien Favre hatte schon seine beiden Stürmer ausgewechselt, als etwas passierte, was ihm nicht gefällt.', 'Trainer Lucien Favre hatte schon seine beiden Stürmer ausgewechselt, als etwas passierte, was im Normalfall nie passiert und erst dann passiert.', 'Tatsächlich sind wir uns niemals persönlich begegnet und werden uns nie begegnen.', 'Tatsächlich sind wir uns niemals persönlich begegnet und erst recht nicht in der Öffentlichkeit.', 'Die anonymen Großsiedlungen, die Autotrassen, die gesichtslose Architektur, alles habe Le Corbusier verschuldet, sein Modernewahn, seine Maßlosigkeit, die auf nichts Rücksicht nehmen wollte, nicht einmal auf sich selbst.', 'Die anonymen Großsiedlungen, die Autotrassen, die gesichtslose Architektur, alles habe Le Corbusier verschuldet, sein Modernewahn, seine Maßlosigkeit, die auf nichts Rücksicht nehmen wollte, nicht auf die Baugeschichte und erst recht nicht auf die Architektur.', 'Die anonymen Großsiedlungen, die Autotrassen, die gesichtslose Architektur, alles habe Le Corbusier verschuldet, sein Modernewahn, seine Maßlosigkeit, die auf nichts Rücksicht nehmen wollte, nicht auf die Baugeschichte, nicht auf die Architektur.', 'Der freie Herr Knigge hat kein eigenes Buch geschrieben.', 'Der freie Herr Knigge hat kein Benimmbuch geschrieben und erst recht nicht in Deutschland.', 'Der freie Herr Knigge hat kein Benimmbuch geschrieben und wird es auch nicht veröffentlichen.', 'Das ist für sie nicht schön - Seite 2', 'Das ist für sie nicht schön, und erst recht nicht für mich.', 'Die Folge war eine wenig unterhaltsam.', 'Die Folge war eine wenig erquickliche und erst recht unterhaltsame.', 'Und erst einmal Dankeschön!', 'Nie etwas davon gehört, dass für die große christliche Tradition, ob Thomas von Aquin oder Martin Luther, Schöpfung Freigabe in Eigendynamik bedeutet, weshalb eben gerade nicht alles, was die Natur tut, Gottes Wille ist, sondern der Wille Gottes.', 'Nie etwas davon gehört, dass für die große christliche Tradition, ob Thomas von Aquin oder Martin Luther, Schöpfung Freigabe in Eigendynamik bedeutet, weshalb eben gerade nicht alles, was die Natur tut, Gottes Wille ist, und erst recht nicht alles, was Menschen tun, Gottes Wille ist.', 'Nie etwas davon gehört, dass für die große christliche Tradition, ob Thomas von Aquin oder Martin Luther, Schöpfung Freigabe in Eigendynamik bedeutet, weshalb eben gerade nicht alles, was die Natur tut, Gottes Wille ist.', 'Und erst einmal Dankeschön!', 'Und erst einmal Dankeschön!', 'Und erst einmal Dankeschön!', 'Pianos Kirche sieht nicht aus wie eine Streichholzschachtel', 'Pianos Kirche sieht nicht aus wie eine Streichholzschachtel und erst recht nicht wie eine Kirche.', 'So bleibe keine Zeit zur Nachbereitung von Seminaren oder Vorlesungen – und schaffe mehr Zeit für mich selbst', 'So bleibe keine Zeit zur Nachbereitung von Seminaren oder Vorlesungen – und erst recht nicht zur Durchführung von Workshops.', 'So bleibe keine Zeit zur Nachbereitung von Speisen und Getränken', 'Die Häuptlinge wollen nicht noch mehr Sandelholz in der Schweiz kaufen', 'Die Häuptlinge wollen nicht noch mehr Sandelholz und erst recht nicht mehr Kohle.'] [0.7867358326911926, 0.8212453126907349, 0.6845927834510803, 0.7273724675178528, 0.8859593868255615, 0.9193562269210815, 0.8995181918144226, 0.5891931056976318, 0.6521007418632507, 0.6532667875289917, 0.5086116194725037, 0.7529900074005127, 0.5560513138771057, 0.6626803278923035, 0.3908149003982544, 0.8806812167167664, 0.8669889569282532, 0.9596267938613892, 0.3908149003982544, 0.3908149003982544, 0.3908149003982544, 0.8221959471702576, 0.8024712204933167, 0.644313633441925, 0.7537704706192017, 0.67995285987854, 0.6820526719093323, 0.7109004855155945]\n",
      "gar5 ['Es hat Afghanistan nicht stabilisiert und wird nicht stabilisiert.', 'Es hat Afghanistan nicht stabilisiert und schon gar nicht verbessert.', 'Dass es in der Familie nun knapper zugeht als früher', 'Dass es in der Familie nun knapper zugeht, ist aber nicht der wichtigste Unterschied und schon gar nicht der einzige.', 'Dass es in der Familie nun knapper zugeht, ist aber nicht der wichtigste Unterschied und schon gar nicht der einzige.', 'Dann die USA, die pro Kopf die mit Abstand meisten Emissionen produzieren, aber ihren Lebens- und Wirtschaftsstil nicht ändern wollen, jedenfalls nicht so schnell und schon gar nicht so lange.', 'Dann die USA, die pro Kopf die mit Abstand meisten Emissionen produzieren, aber ihren Lebens- und Wirtschaftsstil nicht ändern wollen, jedenfalls nicht so schnell und schon gar nicht so lange.', 'Und schon gar nicht, wenn man...', 'Denn den Rohbau des Modells SL in Bremen zu belassen, das Fahrzeug dann aber zur Montage nach Sindelfingen zu karren, klingt nicht gerade kostenoptimal und schon gar nicht wirtschaftlich.', 'Und schon gar nicht, wenn man...', 'Und schon gar nicht, wenn man...', 'Und nicht jeder hat ein Auto und schon gar nicht so viel Geld.', 'Und nicht jeder hat ein Auto und schon mal ein Auto gekauft.', 'Nachts traute sich niemand aus dem Haus und machte sich auf den Weg', 'Nachts traute sich niemand aus dem Haus und schon gar nicht in die Küche.', 'Und schon gar nicht, wenn man...', 'mit Ausnahme einer spießigen Bierbar.', 'mit Ausnahme einer spießigen Bierbar', 'mit Ausnahme einer spießigen Bierbar.', '»1989 ist im deutschen intellektuellen Bewusstsein kein so tiefer Einschnitt wie in dem des übrigen 20. Jahrhunderts.«', '»1989 ist im deutschen intellektuellen Bewusstsein kein so tiefer Einschnitt wie in dem des übrigen Europa, und schon gar nicht in dem der USA.«', '»1989 ist im deutschen intellektuellen Bewusstsein kein so tiefer Einschnitt wie in der Geschichte der Bundesrepublik Deutschland.«', 'Rösler wollte nicht nach Berlin, und schon gar nicht nach Hamburg', 'Rösler wollte nicht nach Berlin, und schon gar nicht nach Hamburg', 'Und schon gar nicht, wenn man...', 'Dies ist kein Plädoyer für Beliebigkeit.', 'Dies ist kein Plädoyer für Beliebigkeit und schon gar nicht für Bewunderung.', 'Dies ist kein Plädoyer für Beliebigkeit und Liebe.', 'Man weiß zwar noch nicht, was der Praktikant genau arbeiten soll.', 'Man weiß zwar noch nicht, was der Praktikant genau arbeiten soll und schon gar nicht, wie er sich verhalten soll.', 'Man weiß zwar noch nicht, was der Praktikant genau gemacht hat, aber es ist interessant.', 'Nicht jedoch beim Endkunden, und schon gar nicht beim Händler.', 'Nicht jedoch beim Endkunden, und schon gar nicht beim Händler.', 'Und schon gar nicht, wenn man...', 'Das Fünfparteiensystem ist nicht erst 2005, und auch nicht erst 2010 entstanden.', 'Das Fünfparteiensystem ist nicht erst 2005, und schon gar nicht mehr.', 'Das Fünfparteiensystem ist nicht erst 2005, und schon lange nicht mehr!', 'Eine Alternative dazu hat sich nicht konstituiert', 'Eine Alternative dazu hat sich nicht konstituiert ; und schon gar nicht in Deutschland.', 'Die Mittelschicht jammert keineswegs grundlos und fügt sich nicht ein.', 'Die Mittelschicht jammert keineswegs grundlos und schon gar nicht über die Zukunft.', 'Und es ist weder fair noch gerecht und auch nicht fair.', 'Und es ist weder fair noch gerecht und schon gar nicht fair.', 'Das aber wäre nicht im Interesse von Gastgeber Deutschland und Österreich.', 'Das aber wäre nicht im Interesse von Gastgeber Deutschland und schon gar nicht von uns.', 'Das aber wäre nicht im Interesse von Gastgeber', 'Nicht, weil da die Mieten so günstig sind und schon gar nicht, weil da die...', 'Nicht, weil da die Mieten so hoch sind.', 'Auch in seinem Grußwort geht es nicht um die Liebe', 'Auch in seinem Grußwort geht es nicht um Politik und schon gar nicht um Geld.', 'Auch in seinem Grußwort geht es nicht um Politik und schon gar nicht um Religion.', 'Und schon gar nicht, wenn man...', 'Er will nicht \"\"heranwachsen\"\", und schon gar nicht \"\"wachsen\"\".', 'Er will nicht \"\"heranwachsen\"\", und schon gar nicht \"\"wachsen\"\".', 'Der Bundestag konkurriere mit niemandem und nicht mit dem Volk.', 'Der Bundestag konkurriere mit niemandem und schon gar nicht mit der SPD.', 'Meist seien sie nicht sehr sachverständig und pflegen einen guten Umgang miteinander.', 'Meist seien sie nicht sehr sachverständig und schon gar nicht höflich.', 'Meist seien sie nicht sehr sachverständig und schon gar nicht höflich.', 'Nicht weil er den Nationalsozialismus, und schon gar nicht weil er den', 'Nicht weil er den Nationalsozialismus, sondern weil er,', 'Wir werden dich nicht wiederwählen, nein...', 'Wir werden dich nicht wiederwählen, nein...', 'Und schon gar nicht, wenn man...', 'Er verdankt ihn nicht dem Bewerbungstraining der Transfergesellschaft, nicht seinen Gewerkschaftskontakten und schon gar nicht seiner Familie.', 'Er verdankt ihn nicht dem Bewerbungstraining der Transfergesellschaft, nicht seinen Gewerkschaftskontakten und schon gar nicht seiner Familie.', 'Das ist nicht demokratisch – und schon gar nicht in Deutschland', 'Das ist nicht demokratisch – und schon gar nicht gut für die Demokratie', 'Und schon gar nicht, wenn man...', 'Und schon gar nicht, wenn man...', 'Und schon gar nicht, wenn man...', 'Kurz, nicht jeder Boden gibt alles Wünschenswerte gleichzeitig her – und schon gar nicht auf den ersten Blick.', 'Kurz, nicht jeder Boden gibt alles Wünschenswerte gleichzeitig her – und das ist auch gut so.', 'Kurz, nicht jeder Boden gibt alles Wünschenswerte gleichzeitig her – und schon gar nicht auf den Boden.', 'Frauen in der Musikgeschichte weniger sichtbar', 'Immer wieder geht es um die Frage, warum Frauen in der Musikgeschichte weniger sichtbar sind – zum Beispiel, weil es sich lange für eine Dame nicht schickte, überhaupt Geld zu verdienen, und schon gar nicht, Musik zu machen.', 'Immer wieder geht es um die Frage, warum Frauen in der Musikgeschichte weniger sichtbar sind – zum Beispiel, weil es sich lange für eine Dame nicht schickte, überhaupt Geld zu verdienen, oder, weil es Frauen in der Musikgeschichte nicht gab.', 'Und schon gar nicht, wenn man...', 'Und schon gar nicht, wenn man...', 'Nach 1200 Jahren Währungsgeschichte gilt also : Selbst der stärkste Euro wird das Pfund nicht kleinkriegen – das gilt auch für den Dollar.', 'Nach 1200 Jahren Währungsgeschichte gilt also : Selbst der stärkste Euro wird das Pfund nicht kleinkriegen – und das gilt auch für alle anderen Währungen.', 'Nach 1200 Jahren Währungsgeschichte gilt also : Selbst der stärkste Euro wird das Pfund nicht kleinkriegen – und schon gar nicht mit dem Dollar.', 'Hier kommt jemand, der sich nicht umrempeln und schon gar nicht umrempeln kann.', 'Hier kommt jemand, der sich nicht umrempeln und schon gar nicht umrempeln will.', 'Der Papst hat uns enttäuscht, er hat, aus Gründen...', 'Der Papst hat uns enttäuscht, er hat...', 'Und schon gar nicht, wenn man...', 'Ein Politiker wäre kein Politiker, und auch kein Politiker.', 'Ein Politiker wäre kein Politiker, und schon gar nicht ein Politiker.', 'Der Pfarrer schonte niemanden und verließ die Kirche.', 'Der Pfarrer schonte niemanden und schon gar nicht die Kinder.', 'Das Engagement der Wirtschaft kann und soll den Unterricht ersetzen', '\"\"Das Engagement der Wirtschaft kann und soll den Unterricht aber nicht ersetzen und schon gar nicht verbessern\"\"', 'Schon als Kind wollte ich nicht etwa Schauspielerin oder Moderatorin werden.', 'schon als Kind wollte ich nicht etwa Schauspielerin oder Moderatorin werden', 'Sie werden kein Interesse haben, ausgerechnet die atlantische Flanke der französischen Außenpolitik zu schwächen, und schon gar nicht die französische.', 'Sie werden kein Interesse haben, ausgerechnet die atlantische Flanke der französischen Außenpolitik zu schwächen, und schon gar nicht die amerikanische.', 'Sie werden kein Interesse haben, ausgerechnet die atlantische Flanke der Welt zu besuchen.'] [0.5909808874130249, 0.6491526365280151, 0.7403952479362488, 0.8278731107711792, 0.8333276510238647, 0.875328779220581, 0.8736729025840759, 0.38219308853149414, 0.9051724672317505, 0.38219308853149414, 0.38219308853149414, 0.6220470070838928, 0.4675293564796448, 0.6297632455825806, 0.7054022550582886, 0.38219308853149414, 0.34281039237976074, 0.2175983190536499, 0.24927635490894318, 0.803504467010498, 0.8049463033676147, 0.7469726800918579, 0.6421319246292114, 0.7063539028167725, 0.38219308853149414, 0.5208980441093445, 0.6691627502441406, 0.6551552414894104, 0.7480606436729431, 0.7183300852775574, 0.5878921151161194, 0.7380064129829407, 0.7355469465255737, 0.38219308853149414, 0.6737107634544373, 0.6635212302207947, 0.6894785165786743, 0.706851601600647, 0.7188083529472351, 0.583156943321228, 0.7126098275184631, 0.5059816837310791, 0.6688753962516785, 0.7248594760894775, 0.765556275844574, 0.7283227443695068, 0.6225990653038025, 0.6981396675109863, 0.6230858564376831, 0.737112283706665, 0.7643434405326843, 0.38219308853149414, 0.7984930872917175, 0.7837913036346436, 0.5598136186599731, 0.7604105472564697, 0.5631502270698547, 0.7216773629188538, 0.7383573651313782, 0.6365973353385925, 0.7098066806793213, 0.43309587240219116, 0.4408593475818634, 0.38219308853149414, 0.8178961277008057, 0.8344911336898804, 0.6879833936691284, 0.6383402943611145, 0.38219308853149414, 0.38219308853149414, 0.38219308853149414, 0.7411519289016724, 0.7724818587303162, 0.6432786583900452, 0.30683842301368713, 0.8388873934745789, 0.7617931962013245, 0.38219308853149414, 0.38219308853149414, 0.784494161605835, 0.8117237687110901, 0.8358324766159058, 0.6640974879264832, 0.6982123255729675, 0.46142274141311646, 0.43919071555137634, 0.38219308853149414, 0.5590900182723999, 0.7022452354431152, 0.6430874466896057, 0.6746078729629517, 0.34468168020248413, 0.7490218877792358, 0.7553296685218811, 0.367900013923645, 0.7844590544700623, 0.8016768097877502, 0.6702328324317932]\n",
      "nicht5 ['Es hat sich nicht gelohnt.', 'Es hat Afghanistan nicht geklappt.', 'Dass es sich nicht lohnt,...', 'Dass es in der Familie nun knapper zugeht, ist aber nicht das Problem.', 'Dann die USA, die pro Kopf die mit Abstand meisten Emissionen produzieren, aber ihren Lebens- und Wirtschaftsstil nicht ändern können.', 'Und schon gar nicht auf den ersten Blick', 'Denn den Rohbau des Modells SL in Bremen zu belassen, das Fahrzeug dann aber zur Montage nach Sindelfingen zu karren, klingt nicht nach einer guten Idee.', 'Und schon gar nicht auf den ersten Blick', 'Und schon gar nicht auf den ersten Blick', 'Und nicht nur das, sondern:', 'Nachts traute sich niemand aus dem Haus und schon ging es los', 'Nachts traute sich niemand aus dem Haus und schon gar nicht in die Küche.', 'Und schon gar nicht auf den ersten Blick', 'Mit Ausnahme der Kinderbetreuung.', 'mit Ausnahme einer spießigen Bierbar will hier nichts gemütlich sein', '»1989 ist im deutschen intellektuellen Bewusstsein kein so tiefer Einschnitt wie in dem des übrigen Europa »', '»1989 ist im deutschen intellektuellen Bewusstsein kein so tiefer Einschnitt wie in dem des übrigen Europa, und schon gar nicht in dem der USA.«', '»1989 ist im deutschen intellektuellen Bewusstsein kein so tiefer Einschnitt wie in dem Jahr, in dem die DDR gegründet wurde.«', 'Rösler wollte schon immer...', 'Rösler wollte nicht mehr arbeiten', 'Und schon gar nicht auf den ersten Blick', 'Dies ist kein Plädoyer für Beliebigkeit und schon gar nicht für Bewunderung.', 'Dies ist kein Plädoyer für Beliebigkeit und schon gar nicht für Bewunderung.', 'Dies ist kein Plädoyer für Beliebigkeit.', 'Man weiß nicht, was passiert.', 'Man weiß zwar noch nicht was es ist.', 'Nicht jedoch beim Endkunden, und schon gar nicht beim Händler.', 'Nicht jedoch beim Endkunden, und schon gar nicht beim Händler.', 'Und schon gar nicht auf den ersten Blick', 'Das Fünfparteiensystem - Wikipedia', 'Das Fünfparteiensystem ist nicht mehr zu retten', 'Eine Alternative zum Internet', 'Eine Alternative dazu hat sich nicht ergeben.', 'Die Mittelschicht jammert keineswegs grundlos und schon gar nicht von sich selbst.', 'Die Mittelschicht jammert keineswegs grundlos und schon gar nicht über ihre eigenen Fehler.', 'Und es ist weder fair noch gerecht und schon gar nicht gut.', 'Und es ist weder fair noch gerecht und schon gar nicht fair.', 'Das aber leider nicht funktioniert.', 'Das aber wäre nicht so einfach.', 'Nicht, weil da die Mieten so günstig sind und schon gar nicht, weil da die Mieten so günstig sind.', 'Nicht, weil da die Mieten so hoch sind.', 'Auch in anderen Sprachen erhältlich.', 'Auch in seinem Grußwort geht es nicht um die Liebe', 'Und schon gar nicht auf den ersten Blick', 'Er will mich nicht verletzen.', 'Er will nicht mit mir schlafen', 'Der Bundestag konkurriere mit niemandem und schon gar nicht mit der CDU.', 'Der Bundestag konkurriere mit niemandem und schon gar nicht mit der SPD.', 'Meist seien Sie hier: Home', 'Meist seien sie nicht in der Lage.', 'Nicht weil er den Nationalsozialismus, und schon gar nicht die Nazis, unterstützt hat.', 'Nicht weil er den Nationalsozialismus, und auch nicht weil er', 'Wir werden dich nicht mehr loslassen', 'Und schon gar nicht auf den ersten Blick', 'Er verdankt ihn nicht für seine Arbeit.', 'Das ist eine sehr gute Idee.', 'Das ist nicht das, was du willst', 'Und schon gar nicht auf den ersten Blick', 'Und schon gar nicht auf den ersten Blick', 'Und schon gar nicht auf den ersten Blick', 'Kurz, nicht allzu lang.', 'Immer wieder geht es um die Frage, warum Frauen in der Musikgeschichte weniger sichtbar sind – zum Beispiel, weil es sich um Männer handelt.', 'Immer wieder geht es um die Frage, warum Frauen in der Musikgeschichte weniger sichtbar sind – zum Beispiel, weil es sich lange für eine Dame nicht mehr um eine Frau handelt.', 'Und schon gar nicht auf den ersten Blick', 'Und schon gar nicht auf den ersten Blick', 'Nach 1200 Jahren Währungsgeschichte gilt also : Selbst der stärkste Euro wird niemals gebrochen.', 'Nach 1100 Jahren Währungsgeschichte gilt also :', 'nach 1200 Jahren Währungsgeschichte gilt also :', 'Hier kommt jemand, der sich nicht trauen kann', 'Hier kommt jemand, der sich nicht trauen kann', 'Der Papst hat uns enttäuscht, er hat, aus Gründen, die wir uns nicht vorstellen können,', 'Der Papst hat uns enttäuscht, er hat, aus Gründen, die wir nicht verstanden haben, die Welt verändert.', 'Und schon gar nicht auf den ersten Blick', 'Ein Politiker wäre kein Politiker, und schon gar nicht ein Politiker.', 'Ein Politiker wäre kein Politiker, und schon gar nicht ein Politiker.', 'Der Pfarrer schonte niemanden und schon gar keine Kinder.', 'Der Pfarrer schonte niemanden und schon gar nicht die Kinder', '\"\"Das Engagement der Wirtschaft kann und soll den Unterricht aber nicht beeinträchtigen\"\"', '\"\"Das Engagement der Wirtschaft kann und soll den Unterricht aber nicht beeinflussen\"\"', 'Schon als kleines Kind...', 'Schon als Kind wollte ich nicht mehr alleine sein', 'Sie werden kein Interesse haben, ausgerechnet die atlantische Flanke der französischen Außenpolitik zu schwächen, und schon gar nicht die amerikanische.', 'Sie werden kein Interesse haben, ausgerechnet die atlantische Flanke der französischen Außenpolitik zu schwächen, und schon gar nicht die französische Außenpolitik zu beeinflussen.', 'Sie werden kein Interesse haben, ausgerechnet die atlantische Flanke der französischen Marine zu besuchen.', 'Trainer Lucien Favre hatte schon seine beiden Stürmer ausgewechselt, als etwas passierte, was im Normalfall nicht passieren würde.', 'Trainer Lucien Favre hatte schon seine beiden Stürmer ausgewechselt, als etwas passierte, was im Normalfall nie passiert und erst recht nicht passieren würde.', 'Tatsächlich sind wir uns niemals persönlich begegnet und erst recht nicht in der Öffentlichkeit.', 'Tatsächlich sind wir uns niemals persönlich begegnet und erst recht nicht in der Öffentlichkeit.', 'Die anonymen Großsiedlungen, die Autotrassen, die gesichtslose Architektur, alles habe Le Corbusier verschuldet, sein Modernewahn, seine Maßlosigkeit, die auf nichts Rücksicht nehmen kann.', 'Die anonymen Großsiedlungen, die Autotrassen, die gesichtslose Architektur, alles habe Le Corbusier verschuldet, sein Modernewahn, seine Maßlosigkeit, die auf nichts Rücksicht nehmen wollte, nicht einmal auf sich selbst.', 'Der freie Herr Knigge hat kein Benimmbuch geschrieben - Wikipedia', 'Der freie Herr Knigge hat kein Benimmbuch geschrieben und erst recht nicht die Wahrheit gesagt.', 'Der freie Herr Knigge hat kein Benimmbuch geschrieben und erst recht nicht die Wahrheit gesagt.', 'Das ist eine sehr gute Idee.', 'Das ist für sie nicht mehr so einfach', 'Die Folge war eine wenig erquickliche und traurige Geschichte.', 'Die Folge war eine wenig erquickliche und erst recht nicht nachvollziehbar.', 'Und erst recht nicht auf den ersten Blick', 'Nie etwas davon gehört, dass für die große christliche Tradition, ob Thomas von Aquin oder Martin Luther, Schöpfung Freigabe in Eigendynamik bedeutet, weshalb eben die Schöpfung in Eigendynamik ist.', 'Nie etwas davon gehört, dass für die große christliche Tradition, ob Thomas von Aquin oder Martin Luther, Schöpfung Freigabe in Eigendynamik bedeutet, weshalb eben gerade nicht die Schöpfung in Eigendynamik ist.', 'Und erst recht nicht auf den ersten Blick', 'Und erst recht nicht auf den ersten Blick', 'Und erst recht nicht auf den ersten Blick', 'Pianos Kirche in Baden-Württemberg', 'Pianos Kirche sieht nicht so gut aus', 'So bleibe keine Zeit zur Nachbereitung von Seminaren oder Vorlesungen – und erst recht nicht zur Durchführung von Workshops.', 'So bleibe keine Zeit zur Nachbereitung von Seminaren oder Vorlesungen – und erst recht nicht zur Durchführung von Workshops.', 'So bleibe keine Zeit zur Nachbereitung von Seminaren oder Workshops', 'Die Häuptlinge in Deutschland', 'Die Häuptlinge wollen nicht in die Hölle'] [0.47445887327194214, 0.4824838936328888, 0.4030267596244812, 0.7561137676239014, 0.8804653286933899, 0.39586421847343445, 0.8460785150527954, 0.39586421847343445, 0.39586421847343445, 0.3459252715110779, 0.663943886756897, 0.6703867316246033, 0.39586421847343445, 0.2981092631816864, 0.41648274660110474, 0.8211297988891602, 0.7987127304077148, 0.6276972889900208, 0.5146859288215637, 0.5335173010826111, 0.39586421847343445, 0.6691627502441406, 0.6575223803520203, 0.5208980441093445, 0.406637579202652, 0.5108829736709595, 0.7083593606948853, 0.7380064129829407, 0.39586421847343445, 0.6950017213821411, 0.6011385917663574, 0.35245269536972046, 0.7037310600280762, 0.7423115968704224, 0.6833920478820801, 0.6766068935394287, 0.6574837565422058, 0.38676175475120544, 0.5315780639648438, 0.6035420894622803, 0.759551465511322, 0.38992148637771606, 0.6230858564376831, 0.39586421847343445, 0.3682629466056824, 0.4255829453468323, 0.757480263710022, 0.7211223244667053, 0.48472860455513, 0.4795145094394684, 0.6211788654327393, 0.6347825527191162, 0.5214119553565979, 0.39586421847343445, 0.49323931336402893, 0.31714263558387756, 0.3971335291862488, 0.39586421847343445, 0.39586421847343445, 0.39586421847343445, 0.4504031240940094, 0.7658159136772156, 0.8241943120956421, 0.39586421847343445, 0.39586421847343445, 0.6741167902946472, 0.44620686769485474, 0.47430145740509033, 0.5277093052864075, 0.5680382251739502, 0.7634032964706421, 0.6794493794441223, 0.39586421847343445, 0.7467687726020813, 0.6733793020248413, 0.6093106269836426, 0.6434634327888489, 0.6461305022239685, 0.6995762586593628, 0.4130495488643646, 0.5460311770439148, 0.8016768097877502, 0.7615063190460205, 0.744841992855072, 0.9228357076644897, 0.8681877255439758, 0.7721530199050903, 0.7561225891113281, 0.8940809369087219, 0.8859593868255615, 0.7301632165908813, 0.700717568397522, 0.6985329985618591, 0.31714263558387756, 0.4658859968185425, 0.6450252532958984, 0.7052014470100403, 0.4238675832748413, 0.7820892930030823, 0.7848029732704163, 0.4238675832748413, 0.4238675832748413, 0.4238675832748413, 0.5239598155021667, 0.7317269444465637, 0.7466987371444702, 0.7497792840003967, 0.8141435980796814, 0.5233946442604065, 0.6054548621177673]\n",
      "recht5 ['Trainer Lucien Favre hatte schon seine beiden Stürmer ausgewechselt, als etwas passierte, was im Laufe des Spiels passierte.', 'Trainer Lucien Favre hatte schon seine beiden Stürmer ausgewechselt, als etwas passierte, was im Normalfall nie passiert und erst recht nie passieren wird.', 'Tatsächlich sind wir uns niemals persönlich begegnet und erst recht nicht in der Öffentlichkeit.', 'Tatsächlich sind wir uns niemals persönlich begegnet und erst recht nicht in der Öffentlichkeit.', 'Die anonymen Großsiedlungen, die Autotrassen, die gesichtslose Architektur, alles habe Le Corbusier verschuldet, sein Modernewahn, seine Maßlosigkeit, die auf nichts Rücksicht nehmen wollte, nicht auf sich selbst, sondern auf die Welt.', 'Die anonymen Großsiedlungen, die Autotrassen, die gesichtslose Architektur, alles habe Le Corbusier verschuldet, sein Modernewahn, seine Maßlosigkeit, die auf nichts Rücksicht nehmen wollte, nicht auf die Baugeschichte und erst recht nicht auf die Architektur.', 'Die anonymen Großsiedlungen, die Autotrassen, die gesichtslose Architektur, alles habe Le Corbusier verschuldet, sein Modernewahn, seine Maßlosigkeit, die auf nichts Rücksicht nehmen wollte, nicht auf die Baugeschichte und nicht auf die Architektur.', 'Der freie Herr Knigge hat kein Benimmbuch geschrieben.', 'Der freie Herr Knigge hat kein Benimmbuch geschrieben und erst recht nicht die Wahrheit gesagt.', 'Der freie Herr Knigge hat kein Benimmbuch geschrieben und erst recht nicht in Deutschland.', 'Das ist für sie nicht schön, aber auch nicht schlecht.', 'Das ist für sie nicht schön, und erst recht nicht für mich.', 'Die Folge war eine wenig erquickliche Geschichte.', 'Die Folge war eine wenig erquickliche und erst recht unterhaltsame.', 'Und erst recht nicht, wenn man...', 'Nie etwas davon gehört, dass für die große christliche Tradition, ob Thomas von Aquin oder Martin Luther, Schöpfung Freigabe in Eigendynamik bedeutet, weshalb eben gerade nicht alles, was die Natur tut, Gottes Wille ist, und auch nicht alles, was Menschen tun, Gottes Wille ist.', 'Nie etwas davon gehört, dass für die große christliche Tradition, ob Thomas von Aquin oder Martin Luther, Schöpfung Freigabe in Eigendynamik bedeutet, weshalb eben gerade nicht alles, was die Natur tut, Gottes Wille ist, und erst recht nicht alles, was die Menschen tun, Gottes Wille ist.', 'Nie etwas davon gehört, dass für die große christliche Tradition, ob Thomas von Aquin oder Martin Luther, Schöpfung Freigabe in Eigendynamik bedeutet, weshalb eben gerade nicht alles, was die Natur tut, Gottes Wille ist, sondern der Wille Gottes.', 'Und erst recht nicht, wenn man...', 'Und erst recht nicht, wenn man...', 'Und erst recht nicht, wenn man...', 'Pianos Kirche sieht nicht aus wie eine Streichholzschachtel und ist aus Holz.', 'Pianos Kirche sieht nicht aus wie eine Streichholzschachtel und erst recht nicht wie eine Kirche.', 'So bleibe keine Zeit zur Nachbereitung von Seminaren oder Vorlesungen – und erst recht nicht zur Durchführung von Workshops.', 'So bleibe keine Zeit zur Nachbereitung von Seminaren oder Vorlesungen – und erst recht nicht zur Durchführung von Workshops.', 'So bleibe keine Zeit zur Nachbereitung von Seminaren', 'Die Häuptlinge wollen nicht noch mehr Sandelholz und Steine kaufen.', 'Die Häuptlinge wollen nicht noch mehr Sandelholz und erst recht nicht noch mehr Kohle.'] [0.7321943640708923, 0.8531233072280884, 0.7273724675178528, 0.7721530199050903, 0.8862688541412354, 0.9244052767753601, 0.9086936712265015, 0.6942757964134216, 0.6985329985618591, 0.6521007418632507, 0.5646606683731079, 0.7812045216560364, 0.644322395324707, 0.6568514704704285, 0.3683303892612457, 0.8446597456932068, 0.9011064171791077, 0.8806812167167664, 0.3683303892612457, 0.3683303892612457, 0.3683303892612457, 0.7324040532112122, 0.7954952120780945, 0.7537704706192017, 0.7466987371444702, 0.8237695097923279, 0.6234390139579773, 0.7156369090080261]\n"
     ]
    }
   ],
   "source": [
    "def complete_cues(row):\n",
    "    try:\n",
    "        output_texts = []\n",
    "        scores = []\n",
    "        for cue, example in zip(row[\"cue\"], row[\"example\"]):\n",
    "            input_text = cue + \" <mask>\"\n",
    "            \n",
    "            # print(tokenizer.tokenize(input_text))\n",
    "            \n",
    "            target_length = int(1.5 * len(example))  # allow double the length of the original sentence\n",
    "            \n",
    "            outputs = tokenizer(input_text, return_tensors=\"pt\")\n",
    "            outputs = model.generate(outputs[\"input_ids\"].to(\"cuda:0\"), max_length=target_length, num_return_sequences=1,\n",
    "                                     num_beams=10, output_scores=True, return_dict_in_generate=True)\n",
    "            output_text = tokenizer.batch_decode(outputs.sequences, skip_special_tokens=True)\n",
    "            score = torch.exp(outputs.sequences_scores)\n",
    "            output_texts += output_text\n",
    "            \n",
    "            scores.append(score)\n",
    "        print(row[\"pseudoword\"], str(output_texts), str([float(score) for score in scores]))\n",
    "        \n",
    "        return pd.DataFrame([str(output_texts), str([float(score) for score in scores])])\n",
    "    except Exception as e:\n",
    "        print(\".\", end=\"\")\n",
    "        return pd.DataFrame([row[\"pseudoword\"], str(e), \"[-1.0]\"])\n",
    "\n",
    "examples_reset = examples.reset_index()\n",
    "pseudoword_output_scores = examples_reset[[\"example\", \"cue\", \"pseudoword\"]].progress_apply(complete_cues, axis=1)\n",
    "pseudoword_output_scores"
   ],
   "metadata": {
    "collapsed": false,
    "is_executing": true,
    "ExecuteTime": {
     "start_time": "2024-01-27T00:50:36.208037683Z"
    }
   },
   "id": "b7fc546c4aeb79b2"
  },
  {
   "cell_type": "code",
   "execution_count": null,
   "outputs": [],
   "source": [
    "examples = pseudoword_output_scores[[\"pseudoword\", \"generated\", \"score\"]]\n",
    "\n",
    "examples"
   ],
   "metadata": {
    "collapsed": false,
    "is_executing": true
   },
   "id": "14e01733b5a4aeba"
  },
  {
   "cell_type": "markdown",
   "source": [
    "#### Anzahl neuer Sätze"
   ],
   "metadata": {
    "collapsed": false
   },
   "id": "a64a06083f0ccd35"
  },
  {
   "cell_type": "code",
   "execution_count": null,
   "outputs": [],
   "source": [
    "examples.to_csv(f\"../../out/comapp/mbart/data_mbart_vanilla.tsv\", sep=\"\\t\", decimal=\",\")\n",
    "examples.to_excel(f\"../../out/comapp/mbart/data_mbart_vanilla.xlsx\")"
   ],
   "metadata": {
    "collapsed": false,
    "is_executing": true
   },
   "id": "93ee2263ebe468ba"
  },
  {
   "cell_type": "code",
   "outputs": [],
   "source": [
    "pseudoword_output_scores.to_csv(\"../../out/comapp/mbart/data_mbart_vanilla_complete.tsv\", sep=\"\\t\", decimal=\",\")"
   ],
   "metadata": {
    "collapsed": false,
    "is_executing": true
   },
   "id": "a890185b466ac02e"
  }
 ],
 "metadata": {
  "kernelspec": {
   "display_name": "Python 3",
   "language": "python",
   "name": "python3"
  },
  "language_info": {
   "codemirror_mode": {
    "name": "ipython",
    "version": 2
   },
   "file_extension": ".py",
   "mimetype": "text/x-python",
   "name": "python",
   "nbconvert_exporter": "python",
   "pygments_lexer": "ipython2",
   "version": "2.7.6"
  }
 },
 "nbformat": 4,
 "nbformat_minor": 5
}
