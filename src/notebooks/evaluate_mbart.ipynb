{
 "cells": [
  {
   "cell_type": "code",
   "execution_count": 62,
   "outputs": [],
   "source": [
    "import itertools\n",
    "import json\n",
    "import pickle\n",
    "import re\n",
    "\n",
    "import numpy as np\n",
    "import pandas as pd\n",
    "import torch\n",
    "from transformers import MBartForConditionalGeneration, MBart50TokenizerFast\n",
    "\n",
    "from tqdm.notebook import tqdm\n",
    "tqdm.pandas()"
   ],
   "metadata": {
    "collapsed": false,
    "ExecuteTime": {
     "end_time": "2023-12-29T22:24:12.684487100Z",
     "start_time": "2023-12-29T22:24:12.543737400Z"
    }
   },
   "id": "863338ddbf31a6c5"
  },
  {
   "cell_type": "code",
   "execution_count": 63,
   "outputs": [
    {
     "data": {
      "text/plain": "                                                 example  \\\n0      Und dann ist da noch das generelle Problem mit...   \n1      Und dann ist da noch das generelle Problem mit...   \n2      Und dann ist da noch das generelle Problem mit...   \n3      Und dann ist da noch das generelle Problem mit...   \n4      Und dann ist da noch das generelle Problem mit...   \n...                                                  ...   \n12128  \" Eine low fee - Schule ist nicht automatisch ...   \n12129  \" Eine low fee - Schule ist nicht automatisch ...   \n12130  Im Gang sieht sie plötzlich Jamie , erkennt ih...   \n12131  An seiner Hand geht ein Mädchen , einen Kopf k...   \n12132  Rund 45 . 000 Dollar soll der Byton - SUV kost...   \n\n                                                     cue    pseudoword  \n0      Und dann ist da noch das generelle Problem mit...  geschweige10  \n1      Und dann ist da noch das generelle Problem mit...        denn10  \n2      Und dann ist da noch das generelle Problem mit...  geschweige10  \n3      Und dann ist da noch das generelle Problem mit...        denn10  \n4      Und dann ist da noch das generelle Problem mit...  geschweige10  \n...                                                  ...           ...  \n12128  \" Eine low fee - Schule ist nicht automatisch ...          er99  \n12129  \" Eine low fee - Schule ist nicht automatisch ...          er99  \n12130  Im Gang sieht sie plötzlich Jamie , erkennt ih...          er99  \n12131  An seiner Hand geht ein Mädchen , einen Kopf k...          er99  \n12132  Rund 45 . 000 Dollar soll der Byton - SUV kost...          er99  \n\n[12133 rows x 3 columns]",
      "text/html": "<div>\n<style scoped>\n    .dataframe tbody tr th:only-of-type {\n        vertical-align: middle;\n    }\n\n    .dataframe tbody tr th {\n        vertical-align: top;\n    }\n\n    .dataframe thead th {\n        text-align: right;\n    }\n</style>\n<table border=\"1\" class=\"dataframe\">\n  <thead>\n    <tr style=\"text-align: right;\">\n      <th></th>\n      <th>example</th>\n      <th>cue</th>\n      <th>pseudoword</th>\n    </tr>\n  </thead>\n  <tbody>\n    <tr>\n      <th>0</th>\n      <td>Und dann ist da noch das generelle Problem mit...</td>\n      <td>Und dann ist da noch das generelle Problem mit...</td>\n      <td>geschweige10</td>\n    </tr>\n    <tr>\n      <th>1</th>\n      <td>Und dann ist da noch das generelle Problem mit...</td>\n      <td>Und dann ist da noch das generelle Problem mit...</td>\n      <td>denn10</td>\n    </tr>\n    <tr>\n      <th>2</th>\n      <td>Und dann ist da noch das generelle Problem mit...</td>\n      <td>Und dann ist da noch das generelle Problem mit...</td>\n      <td>geschweige10</td>\n    </tr>\n    <tr>\n      <th>3</th>\n      <td>Und dann ist da noch das generelle Problem mit...</td>\n      <td>Und dann ist da noch das generelle Problem mit...</td>\n      <td>denn10</td>\n    </tr>\n    <tr>\n      <th>4</th>\n      <td>Und dann ist da noch das generelle Problem mit...</td>\n      <td>Und dann ist da noch das generelle Problem mit...</td>\n      <td>geschweige10</td>\n    </tr>\n    <tr>\n      <th>...</th>\n      <td>...</td>\n      <td>...</td>\n      <td>...</td>\n    </tr>\n    <tr>\n      <th>12128</th>\n      <td>\" Eine low fee - Schule ist nicht automatisch ...</td>\n      <td>\" Eine low fee - Schule ist nicht automatisch ...</td>\n      <td>er99</td>\n    </tr>\n    <tr>\n      <th>12129</th>\n      <td>\" Eine low fee - Schule ist nicht automatisch ...</td>\n      <td>\" Eine low fee - Schule ist nicht automatisch ...</td>\n      <td>er99</td>\n    </tr>\n    <tr>\n      <th>12130</th>\n      <td>Im Gang sieht sie plötzlich Jamie , erkennt ih...</td>\n      <td>Im Gang sieht sie plötzlich Jamie , erkennt ih...</td>\n      <td>er99</td>\n    </tr>\n    <tr>\n      <th>12131</th>\n      <td>An seiner Hand geht ein Mädchen , einen Kopf k...</td>\n      <td>An seiner Hand geht ein Mädchen , einen Kopf k...</td>\n      <td>er99</td>\n    </tr>\n    <tr>\n      <th>12132</th>\n      <td>Rund 45 . 000 Dollar soll der Byton - SUV kost...</td>\n      <td>Rund 45 . 000 Dollar soll der Byton - SUV kost...</td>\n      <td>er99</td>\n    </tr>\n  </tbody>\n</table>\n<p>12133 rows × 3 columns</p>\n</div>"
     },
     "execution_count": 63,
     "metadata": {},
     "output_type": "execute_result"
    }
   ],
   "source": [
    "with open(\"../../data/pseudowords/CoMaPP_all.json\") as json_file:\n",
    "    data = json.load(json_file)\n",
    "    \n",
    "# d+1 since we are not replacing the ke-lex this time!\n",
    "data = [{\"example\": d[\"target1\"], \"cue\": \" \".join(d[\"target1\"].split()[:d[\"query_idx\"]+1]), \"pseudoword\": d[\"label\"]} for d in data]\n",
    "df = pd.DataFrame.from_dict(data).drop_duplicates(ignore_index=True)\n",
    "df"
   ],
   "metadata": {
    "collapsed": false,
    "ExecuteTime": {
     "end_time": "2023-12-29T22:24:12.983005Z",
     "start_time": "2023-12-29T22:24:12.689975200Z"
    }
   },
   "id": "18bb06d46d72aab4"
  },
  {
   "cell_type": "code",
   "execution_count": 64,
   "outputs": [
    {
     "data": {
      "text/plain": "                                                 example  \\\nindex                                                      \n10     Und dann ist da noch das generelle Problem mit...   \n10     Und dann ist da noch das generelle Problem mit...   \n10     Und dann ist da noch das generelle Problem mit...   \n10     Und dann ist da noch das generelle Problem mit...   \n10     Und dann ist da noch das generelle Problem mit...   \n...                                                  ...   \n99     \" Eine low fee - Schule ist nicht automatisch ...   \n99     \" Eine low fee - Schule ist nicht automatisch ...   \n99     Im Gang sieht sie plötzlich Jamie , erkennt ih...   \n99     An seiner Hand geht ein Mädchen , einen Kopf k...   \n99     Rund 45 . 000 Dollar soll der Byton - SUV kost...   \n\n                                                     cue    pseudoword  \nindex                                                                   \n10     Und dann ist da noch das generelle Problem mit...  geschweige10  \n10     Und dann ist da noch das generelle Problem mit...        denn10  \n10     Und dann ist da noch das generelle Problem mit...  geschweige10  \n10     Und dann ist da noch das generelle Problem mit...        denn10  \n10     Und dann ist da noch das generelle Problem mit...  geschweige10  \n...                                                  ...           ...  \n99     \" Eine low fee - Schule ist nicht automatisch ...          er99  \n99     \" Eine low fee - Schule ist nicht automatisch ...          er99  \n99     Im Gang sieht sie plötzlich Jamie , erkennt ih...          er99  \n99     An seiner Hand geht ein Mädchen , einen Kopf k...          er99  \n99     Rund 45 . 000 Dollar soll der Byton - SUV kost...          er99  \n\n[12133 rows x 3 columns]",
      "text/html": "<div>\n<style scoped>\n    .dataframe tbody tr th:only-of-type {\n        vertical-align: middle;\n    }\n\n    .dataframe tbody tr th {\n        vertical-align: top;\n    }\n\n    .dataframe thead th {\n        text-align: right;\n    }\n</style>\n<table border=\"1\" class=\"dataframe\">\n  <thead>\n    <tr style=\"text-align: right;\">\n      <th></th>\n      <th>example</th>\n      <th>cue</th>\n      <th>pseudoword</th>\n    </tr>\n    <tr>\n      <th>index</th>\n      <th></th>\n      <th></th>\n      <th></th>\n    </tr>\n  </thead>\n  <tbody>\n    <tr>\n      <th>10</th>\n      <td>Und dann ist da noch das generelle Problem mit...</td>\n      <td>Und dann ist da noch das generelle Problem mit...</td>\n      <td>geschweige10</td>\n    </tr>\n    <tr>\n      <th>10</th>\n      <td>Und dann ist da noch das generelle Problem mit...</td>\n      <td>Und dann ist da noch das generelle Problem mit...</td>\n      <td>denn10</td>\n    </tr>\n    <tr>\n      <th>10</th>\n      <td>Und dann ist da noch das generelle Problem mit...</td>\n      <td>Und dann ist da noch das generelle Problem mit...</td>\n      <td>geschweige10</td>\n    </tr>\n    <tr>\n      <th>10</th>\n      <td>Und dann ist da noch das generelle Problem mit...</td>\n      <td>Und dann ist da noch das generelle Problem mit...</td>\n      <td>denn10</td>\n    </tr>\n    <tr>\n      <th>10</th>\n      <td>Und dann ist da noch das generelle Problem mit...</td>\n      <td>Und dann ist da noch das generelle Problem mit...</td>\n      <td>geschweige10</td>\n    </tr>\n    <tr>\n      <th>...</th>\n      <td>...</td>\n      <td>...</td>\n      <td>...</td>\n    </tr>\n    <tr>\n      <th>99</th>\n      <td>\" Eine low fee - Schule ist nicht automatisch ...</td>\n      <td>\" Eine low fee - Schule ist nicht automatisch ...</td>\n      <td>er99</td>\n    </tr>\n    <tr>\n      <th>99</th>\n      <td>\" Eine low fee - Schule ist nicht automatisch ...</td>\n      <td>\" Eine low fee - Schule ist nicht automatisch ...</td>\n      <td>er99</td>\n    </tr>\n    <tr>\n      <th>99</th>\n      <td>Im Gang sieht sie plötzlich Jamie , erkennt ih...</td>\n      <td>Im Gang sieht sie plötzlich Jamie , erkennt ih...</td>\n      <td>er99</td>\n    </tr>\n    <tr>\n      <th>99</th>\n      <td>An seiner Hand geht ein Mädchen , einen Kopf k...</td>\n      <td>An seiner Hand geht ein Mädchen , einen Kopf k...</td>\n      <td>er99</td>\n    </tr>\n    <tr>\n      <th>99</th>\n      <td>Rund 45 . 000 Dollar soll der Byton - SUV kost...</td>\n      <td>Rund 45 . 000 Dollar soll der Byton - SUV kost...</td>\n      <td>er99</td>\n    </tr>\n  </tbody>\n</table>\n<p>12133 rows × 3 columns</p>\n</div>"
     },
     "execution_count": 64,
     "metadata": {},
     "output_type": "execute_result"
    }
   ],
   "source": [
    "df['index'] = df['pseudoword'].str.extract('(\\d+)').astype(int)\n",
    "df.set_index('index', inplace=True)\n",
    "\n",
    "df"
   ],
   "metadata": {
    "collapsed": false,
    "ExecuteTime": {
     "end_time": "2023-12-29T22:24:13.009201200Z",
     "start_time": "2023-12-29T22:24:12.937222700Z"
    }
   },
   "id": "b7e1f6e88f687297"
  },
  {
   "cell_type": "code",
   "execution_count": 65,
   "outputs": [
    {
     "data": {
      "text/plain": "                                                 example  \\\nindex                                                      \n10     Und dann ist da noch das generelle Problem mit...   \n10     Und dann ist da noch das generelle Problem mit...   \n10     Und dann ist da noch das generelle Problem mit...   \n10     Und dann ist da noch das generelle Problem mit...   \n10     Und dann ist da noch das generelle Problem mit...   \n...                                                  ...   \n99     \" Eine low fee - Schule ist nicht automatisch ...   \n99     \" Eine low fee - Schule ist nicht automatisch ...   \n99     Im Gang sieht sie plötzlich Jamie , erkennt ih...   \n99     An seiner Hand geht ein Mädchen , einen Kopf k...   \n99     Rund 45 . 000 Dollar soll der Byton - SUV kost...   \n\n                                                     cue    pseudoword  \nindex                                                                   \n10     Und dann ist da noch das generelle Problem mit...  geschweige10  \n10     Und dann ist da noch das generelle Problem mit...        denn10  \n10     Und dann ist da noch das generelle Problem mit...  geschweige10  \n10     Und dann ist da noch das generelle Problem mit...        denn10  \n10     Und dann ist da noch das generelle Problem mit...  geschweige10  \n...                                                  ...           ...  \n99     \" Eine low fee - Schule ist nicht automatisch ...          er99  \n99     \" Eine low fee - Schule ist nicht automatisch ...          er99  \n99     Im Gang sieht sie plötzlich Jamie , erkennt ih...          er99  \n99     An seiner Hand geht ein Mädchen , einen Kopf k...          er99  \n99     Rund 45 . 000 Dollar soll der Byton - SUV kost...          er99  \n\n[12133 rows x 3 columns]",
      "text/html": "<div>\n<style scoped>\n    .dataframe tbody tr th:only-of-type {\n        vertical-align: middle;\n    }\n\n    .dataframe tbody tr th {\n        vertical-align: top;\n    }\n\n    .dataframe thead th {\n        text-align: right;\n    }\n</style>\n<table border=\"1\" class=\"dataframe\">\n  <thead>\n    <tr style=\"text-align: right;\">\n      <th></th>\n      <th>example</th>\n      <th>cue</th>\n      <th>pseudoword</th>\n    </tr>\n    <tr>\n      <th>index</th>\n      <th></th>\n      <th></th>\n      <th></th>\n    </tr>\n  </thead>\n  <tbody>\n    <tr>\n      <th>10</th>\n      <td>Und dann ist da noch das generelle Problem mit...</td>\n      <td>Und dann ist da noch das generelle Problem mit...</td>\n      <td>geschweige10</td>\n    </tr>\n    <tr>\n      <th>10</th>\n      <td>Und dann ist da noch das generelle Problem mit...</td>\n      <td>Und dann ist da noch das generelle Problem mit...</td>\n      <td>denn10</td>\n    </tr>\n    <tr>\n      <th>10</th>\n      <td>Und dann ist da noch das generelle Problem mit...</td>\n      <td>Und dann ist da noch das generelle Problem mit...</td>\n      <td>geschweige10</td>\n    </tr>\n    <tr>\n      <th>10</th>\n      <td>Und dann ist da noch das generelle Problem mit...</td>\n      <td>Und dann ist da noch das generelle Problem mit...</td>\n      <td>denn10</td>\n    </tr>\n    <tr>\n      <th>10</th>\n      <td>Und dann ist da noch das generelle Problem mit...</td>\n      <td>Und dann ist da noch das generelle Problem mit...</td>\n      <td>geschweige10</td>\n    </tr>\n    <tr>\n      <th>...</th>\n      <td>...</td>\n      <td>...</td>\n      <td>...</td>\n    </tr>\n    <tr>\n      <th>99</th>\n      <td>\" Eine low fee - Schule ist nicht automatisch ...</td>\n      <td>\" Eine low fee - Schule ist nicht automatisch ...</td>\n      <td>er99</td>\n    </tr>\n    <tr>\n      <th>99</th>\n      <td>\" Eine low fee - Schule ist nicht automatisch ...</td>\n      <td>\" Eine low fee - Schule ist nicht automatisch ...</td>\n      <td>er99</td>\n    </tr>\n    <tr>\n      <th>99</th>\n      <td>Im Gang sieht sie plötzlich Jamie , erkennt ih...</td>\n      <td>Im Gang sieht sie plötzlich Jamie , erkennt ih...</td>\n      <td>er99</td>\n    </tr>\n    <tr>\n      <th>99</th>\n      <td>An seiner Hand geht ein Mädchen , einen Kopf k...</td>\n      <td>An seiner Hand geht ein Mädchen , einen Kopf k...</td>\n      <td>er99</td>\n    </tr>\n    <tr>\n      <th>99</th>\n      <td>Rund 45 . 000 Dollar soll der Byton - SUV kost...</td>\n      <td>Rund 45 . 000 Dollar soll der Byton - SUV kost...</td>\n      <td>er99</td>\n    </tr>\n  </tbody>\n</table>\n<p>12133 rows × 3 columns</p>\n</div>"
     },
     "execution_count": 65,
     "metadata": {},
     "output_type": "execute_result"
    }
   ],
   "source": [
    "contextleft = pd.read_pickle(\"../../data/pseudowords/contextleft_text.pickle\")\n",
    "\n",
    "def update_cue(row):\n",
    "    output = row[['example', 'cue']]\n",
    "    if row['cue'] == '':  # if the string in cue is empty\n",
    "        # match the index of row with contextleft['construction_id'] and match contextleft['text'] with row['example'] and create matching_entry\n",
    "        matching_entry = contextleft.loc[(contextleft['construction_id'] == row.name) & (contextleft['text'] == row['example']), 'contextleft'].tolist()\n",
    "        if len(matching_entry) > 0:\n",
    "            output = [matching_entry[0] + \" \" + row['example'], matching_entry[0]]\n",
    "    return output\n",
    "\n",
    "# Add the left context if there is no cue up until the pseudoword.\n",
    "df[[\"example\", \"cue\"]] = df.apply(update_cue, axis=1)\n",
    "df"
   ],
   "metadata": {
    "collapsed": false,
    "ExecuteTime": {
     "end_time": "2023-12-29T22:24:20.909725300Z",
     "start_time": "2023-12-29T22:24:12.988239300Z"
    }
   },
   "id": "a898840ef3c9c442"
  },
  {
   "cell_type": "code",
   "execution_count": 66,
   "outputs": [
    {
     "data": {
      "text/plain": "                                                                   example  \\\nconstruction pseudoword                                                      \n5            Und5        [\"\"Nicht herauskaufen\"\", \"\"nicht erpressen las...   \n             erst5       [Trainer Lucien Favre hatte schon seine beiden...   \n             gar5        [Es hat Afghanistan nicht stabilisiert und sch...   \n             nicht5      [Es hat Afghanistan nicht stabilisiert und sch...   \n             recht5      [Trainer Lucien Favre hatte schon seine beiden...   \n...                                                                    ...   \n1884         Gold1884    [Schweigen ist Silber , reden ist Gold ., Schw...   \n             Silber1884  [Schweigen ist Silber , reden ist Gold ., Schw...   \n             ist1884     [Schweigen ist Silber , reden ist Gold ., Schw...   \n1986         kaum1986    [Die Vorhut vor 20.000 Jahren war für das Ries...   \n1987         sehr1987    [Solche Menschen können sich sehr wohlfühlen o...   \n\n                                                                       cue  \nconstruction pseudoword                                                     \n5            Und5        [\"\"Nicht herauskaufen\"\", \"\"nicht erpressen las...  \n             erst5       [Trainer Lucien Favre hatte schon seine beiden...  \n             gar5        [Es hat Afghanistan nicht stabilisiert, Es hat...  \n             nicht5      [Es, Es hat Afghanistan, Dass, Dass es in der ...  \n             recht5      [Trainer Lucien Favre hatte schon seine beiden...  \n...                                                                    ...  \n1884         Gold1884    [Schweigen ist Silber , reden ist, Schweigen i...  \n             Silber1884  [Schweigen ist, Schweigen ist, Angeben ist, Sc...  \n             ist1884     [Schweigen, Schweigen, Angeben, Schweigen, \" Q...  \n1986         kaum1986    [Die Vorhut vor 20.000 Jahren, Die Vorhut vor ...  \n1987         sehr1987    [Solche Menschen können, Solche Menschen könne...  \n\n[562 rows x 2 columns]",
      "text/html": "<div>\n<style scoped>\n    .dataframe tbody tr th:only-of-type {\n        vertical-align: middle;\n    }\n\n    .dataframe tbody tr th {\n        vertical-align: top;\n    }\n\n    .dataframe thead th {\n        text-align: right;\n    }\n</style>\n<table border=\"1\" class=\"dataframe\">\n  <thead>\n    <tr style=\"text-align: right;\">\n      <th></th>\n      <th></th>\n      <th>example</th>\n      <th>cue</th>\n    </tr>\n    <tr>\n      <th>construction</th>\n      <th>pseudoword</th>\n      <th></th>\n      <th></th>\n    </tr>\n  </thead>\n  <tbody>\n    <tr>\n      <th rowspan=\"5\" valign=\"top\">5</th>\n      <th>Und5</th>\n      <td>[\"\"Nicht herauskaufen\"\", \"\"nicht erpressen las...</td>\n      <td>[\"\"Nicht herauskaufen\"\", \"\"nicht erpressen las...</td>\n    </tr>\n    <tr>\n      <th>erst5</th>\n      <td>[Trainer Lucien Favre hatte schon seine beiden...</td>\n      <td>[Trainer Lucien Favre hatte schon seine beiden...</td>\n    </tr>\n    <tr>\n      <th>gar5</th>\n      <td>[Es hat Afghanistan nicht stabilisiert und sch...</td>\n      <td>[Es hat Afghanistan nicht stabilisiert, Es hat...</td>\n    </tr>\n    <tr>\n      <th>nicht5</th>\n      <td>[Es hat Afghanistan nicht stabilisiert und sch...</td>\n      <td>[Es, Es hat Afghanistan, Dass, Dass es in der ...</td>\n    </tr>\n    <tr>\n      <th>recht5</th>\n      <td>[Trainer Lucien Favre hatte schon seine beiden...</td>\n      <td>[Trainer Lucien Favre hatte schon seine beiden...</td>\n    </tr>\n    <tr>\n      <th>...</th>\n      <th>...</th>\n      <td>...</td>\n      <td>...</td>\n    </tr>\n    <tr>\n      <th rowspan=\"3\" valign=\"top\">1884</th>\n      <th>Gold1884</th>\n      <td>[Schweigen ist Silber , reden ist Gold ., Schw...</td>\n      <td>[Schweigen ist Silber , reden ist, Schweigen i...</td>\n    </tr>\n    <tr>\n      <th>Silber1884</th>\n      <td>[Schweigen ist Silber , reden ist Gold ., Schw...</td>\n      <td>[Schweigen ist, Schweigen ist, Angeben ist, Sc...</td>\n    </tr>\n    <tr>\n      <th>ist1884</th>\n      <td>[Schweigen ist Silber , reden ist Gold ., Schw...</td>\n      <td>[Schweigen, Schweigen, Angeben, Schweigen, \" Q...</td>\n    </tr>\n    <tr>\n      <th>1986</th>\n      <th>kaum1986</th>\n      <td>[Die Vorhut vor 20.000 Jahren war für das Ries...</td>\n      <td>[Die Vorhut vor 20.000 Jahren, Die Vorhut vor ...</td>\n    </tr>\n    <tr>\n      <th>1987</th>\n      <th>sehr1987</th>\n      <td>[Solche Menschen können sich sehr wohlfühlen o...</td>\n      <td>[Solche Menschen können, Solche Menschen könne...</td>\n    </tr>\n  </tbody>\n</table>\n<p>562 rows × 2 columns</p>\n</div>"
     },
     "execution_count": 66,
     "metadata": {},
     "output_type": "execute_result"
    }
   ],
   "source": [
    "df.reset_index(inplace=True)\n",
    "df.rename(columns={'index': 'construction'}, inplace=True)\n",
    "\n",
    "result_df = df.groupby(['construction', 'pseudoword']).agg({'example': list, 'cue': list})\n",
    "\n",
    "result_df"
   ],
   "metadata": {
    "collapsed": false,
    "ExecuteTime": {
     "end_time": "2023-12-29T22:24:21.025566300Z",
     "start_time": "2023-12-29T22:24:20.902730400Z"
    }
   },
   "id": "4a4e3d92707b4c4"
  },
  {
   "cell_type": "code",
   "execution_count": 67,
   "outputs": [
    {
     "data": {
      "text/plain": "                                             definition\n10    Die \"Negation:NEG_XgeschweigedennY-Konstruktio...\n100   Die \"Äquativ_Plural-Konstruktion\" gehört zu de...\n1004  Die \"Superlativ_Klimax:ADJ1_ADJ1-er_NP-Konstru...\n1006  Die \"Superlativ:PRÄP_ADJ-ster_NP-Konstruktion\"...\n101   Die \"Äquativ:ADJwieNP-Konstruktion\" gehört zu ...\n...                                                 ...\n97    Die \"Komparativ:ADJ1-eralsADJ1-Konstruktion\" g...\n973   Bei \"Disjunktion_Doppeltitel:XoderY\" handelt e...\n976   Bei \"Korrelation_Affirmation:WoXist, istY\" han...\n98    Die \"Äquativ:soADJwieXP-Konstruktion\" gehört z...\n99    Die \"Komparativ:ADJ-eralsX-Konstruktion\" gehör...\n\n[211 rows x 1 columns]",
      "text/html": "<div>\n<style scoped>\n    .dataframe tbody tr th:only-of-type {\n        vertical-align: middle;\n    }\n\n    .dataframe tbody tr th {\n        vertical-align: top;\n    }\n\n    .dataframe thead th {\n        text-align: right;\n    }\n</style>\n<table border=\"1\" class=\"dataframe\">\n  <thead>\n    <tr style=\"text-align: right;\">\n      <th></th>\n      <th>definition</th>\n    </tr>\n  </thead>\n  <tbody>\n    <tr>\n      <th>10</th>\n      <td>Die \"Negation:NEG_XgeschweigedennY-Konstruktio...</td>\n    </tr>\n    <tr>\n      <th>100</th>\n      <td>Die \"Äquativ_Plural-Konstruktion\" gehört zu de...</td>\n    </tr>\n    <tr>\n      <th>1004</th>\n      <td>Die \"Superlativ_Klimax:ADJ1_ADJ1-er_NP-Konstru...</td>\n    </tr>\n    <tr>\n      <th>1006</th>\n      <td>Die \"Superlativ:PRÄP_ADJ-ster_NP-Konstruktion\"...</td>\n    </tr>\n    <tr>\n      <th>101</th>\n      <td>Die \"Äquativ:ADJwieNP-Konstruktion\" gehört zu ...</td>\n    </tr>\n    <tr>\n      <th>...</th>\n      <td>...</td>\n    </tr>\n    <tr>\n      <th>97</th>\n      <td>Die \"Komparativ:ADJ1-eralsADJ1-Konstruktion\" g...</td>\n    </tr>\n    <tr>\n      <th>973</th>\n      <td>Bei \"Disjunktion_Doppeltitel:XoderY\" handelt e...</td>\n    </tr>\n    <tr>\n      <th>976</th>\n      <td>Bei \"Korrelation_Affirmation:WoXist, istY\" han...</td>\n    </tr>\n    <tr>\n      <th>98</th>\n      <td>Die \"Äquativ:soADJwieXP-Konstruktion\" gehört z...</td>\n    </tr>\n    <tr>\n      <th>99</th>\n      <td>Die \"Komparativ:ADJ-eralsX-Konstruktion\" gehör...</td>\n    </tr>\n  </tbody>\n</table>\n<p>211 rows × 1 columns</p>\n</div>"
     },
     "execution_count": 67,
     "metadata": {},
     "output_type": "execute_result"
    }
   ],
   "source": [
    "with open(\"../../out/definitions.pickle\", \"rb\") as definitions_file:\n",
    "    definitions = pd.DataFrame.from_dict(pickle.load(definitions_file), orient=\"index\", columns=[\"definition\"])\n",
    "    \n",
    "definitions"
   ],
   "metadata": {
    "collapsed": true,
    "ExecuteTime": {
     "end_time": "2023-12-29T22:24:21.026643100Z",
     "start_time": "2023-12-29T22:24:20.973230200Z"
    }
   },
   "id": "initial_id"
  },
  {
   "cell_type": "code",
   "execution_count": 68,
   "outputs": [
    {
     "data": {
      "text/plain": "                                                                   example  \\\nconstruction pseudoword                                                      \n5            Und5        [\"\"Nicht herauskaufen\"\", \"\"nicht erpressen las...   \n             erst5       [Trainer Lucien Favre hatte schon seine beiden...   \n             gar5        [Es hat Afghanistan nicht stabilisiert und sch...   \n             nicht5      [Es hat Afghanistan nicht stabilisiert und sch...   \n             recht5      [Trainer Lucien Favre hatte schon seine beiden...   \n...                                                                    ...   \n1884         Gold1884    [Schweigen ist Silber , reden ist Gold ., Schw...   \n             Silber1884  [Schweigen ist Silber , reden ist Gold ., Schw...   \n             ist1884     [Schweigen ist Silber , reden ist Gold ., Schw...   \n1986         kaum1986    [Die Vorhut vor 20.000 Jahren war für das Ries...   \n1987         sehr1987    [Solche Menschen können sich sehr wohlfühlen o...   \n\n                                                                       cue  \\\nconstruction pseudoword                                                      \n5            Und5        [\"\"Nicht herauskaufen\"\", \"\"nicht erpressen las...   \n             erst5       [Trainer Lucien Favre hatte schon seine beiden...   \n             gar5        [Es hat Afghanistan nicht stabilisiert, Es hat...   \n             nicht5      [Es, Es hat Afghanistan, Dass, Dass es in der ...   \n             recht5      [Trainer Lucien Favre hatte schon seine beiden...   \n...                                                                    ...   \n1884         Gold1884    [Schweigen ist Silber , reden ist, Schweigen i...   \n             Silber1884  [Schweigen ist, Schweigen ist, Angeben ist, Sc...   \n             ist1884     [Schweigen, Schweigen, Angeben, Schweigen, \" Q...   \n1986         kaum1986    [Die Vorhut vor 20.000 Jahren, Die Vorhut vor ...   \n1987         sehr1987    [Solche Menschen können, Solche Menschen könne...   \n\n                                                                definition  \nconstruction pseudoword                                                     \n5            Und5        Die \"Negation:NEG_Xund_schon_gar_nichtY-Konstr...  \n             erst5       Die \"Negation:NEG_Xund_schon_gar_nichtY-Konstr...  \n             gar5        Die \"Negation:NEG_Xund_schon_gar_nichtY-Konstr...  \n             nicht5      Die \"Negation:NEG_Xund_schon_gar_nichtY-Konstr...  \n             recht5      Die \"Negation:NEG_Xund_schon_gar_nichtY-Konstr...  \n...                                                                    ...  \n1884         Gold1884    Die \"Intensivierung_Komparativ:Xist_SilberYist...  \n             Silber1884  Die \"Intensivierung_Komparativ:Xist_SilberYist...  \n             ist1884     Die \"Intensivierung_Komparativ:Xist_SilberYist...  \n1986         kaum1986    Die Konstruktion \"Relativierung:kaumADJ\" gehör...  \n1987         sehr1987    Die Konstruktion \"Intensivierung:sehrV\" gehört...  \n\n[562 rows x 3 columns]",
      "text/html": "<div>\n<style scoped>\n    .dataframe tbody tr th:only-of-type {\n        vertical-align: middle;\n    }\n\n    .dataframe tbody tr th {\n        vertical-align: top;\n    }\n\n    .dataframe thead th {\n        text-align: right;\n    }\n</style>\n<table border=\"1\" class=\"dataframe\">\n  <thead>\n    <tr style=\"text-align: right;\">\n      <th></th>\n      <th></th>\n      <th>example</th>\n      <th>cue</th>\n      <th>definition</th>\n    </tr>\n    <tr>\n      <th>construction</th>\n      <th>pseudoword</th>\n      <th></th>\n      <th></th>\n      <th></th>\n    </tr>\n  </thead>\n  <tbody>\n    <tr>\n      <th rowspan=\"5\" valign=\"top\">5</th>\n      <th>Und5</th>\n      <td>[\"\"Nicht herauskaufen\"\", \"\"nicht erpressen las...</td>\n      <td>[\"\"Nicht herauskaufen\"\", \"\"nicht erpressen las...</td>\n      <td>Die \"Negation:NEG_Xund_schon_gar_nichtY-Konstr...</td>\n    </tr>\n    <tr>\n      <th>erst5</th>\n      <td>[Trainer Lucien Favre hatte schon seine beiden...</td>\n      <td>[Trainer Lucien Favre hatte schon seine beiden...</td>\n      <td>Die \"Negation:NEG_Xund_schon_gar_nichtY-Konstr...</td>\n    </tr>\n    <tr>\n      <th>gar5</th>\n      <td>[Es hat Afghanistan nicht stabilisiert und sch...</td>\n      <td>[Es hat Afghanistan nicht stabilisiert, Es hat...</td>\n      <td>Die \"Negation:NEG_Xund_schon_gar_nichtY-Konstr...</td>\n    </tr>\n    <tr>\n      <th>nicht5</th>\n      <td>[Es hat Afghanistan nicht stabilisiert und sch...</td>\n      <td>[Es, Es hat Afghanistan, Dass, Dass es in der ...</td>\n      <td>Die \"Negation:NEG_Xund_schon_gar_nichtY-Konstr...</td>\n    </tr>\n    <tr>\n      <th>recht5</th>\n      <td>[Trainer Lucien Favre hatte schon seine beiden...</td>\n      <td>[Trainer Lucien Favre hatte schon seine beiden...</td>\n      <td>Die \"Negation:NEG_Xund_schon_gar_nichtY-Konstr...</td>\n    </tr>\n    <tr>\n      <th>...</th>\n      <th>...</th>\n      <td>...</td>\n      <td>...</td>\n      <td>...</td>\n    </tr>\n    <tr>\n      <th rowspan=\"3\" valign=\"top\">1884</th>\n      <th>Gold1884</th>\n      <td>[Schweigen ist Silber , reden ist Gold ., Schw...</td>\n      <td>[Schweigen ist Silber , reden ist, Schweigen i...</td>\n      <td>Die \"Intensivierung_Komparativ:Xist_SilberYist...</td>\n    </tr>\n    <tr>\n      <th>Silber1884</th>\n      <td>[Schweigen ist Silber , reden ist Gold ., Schw...</td>\n      <td>[Schweigen ist, Schweigen ist, Angeben ist, Sc...</td>\n      <td>Die \"Intensivierung_Komparativ:Xist_SilberYist...</td>\n    </tr>\n    <tr>\n      <th>ist1884</th>\n      <td>[Schweigen ist Silber , reden ist Gold ., Schw...</td>\n      <td>[Schweigen, Schweigen, Angeben, Schweigen, \" Q...</td>\n      <td>Die \"Intensivierung_Komparativ:Xist_SilberYist...</td>\n    </tr>\n    <tr>\n      <th>1986</th>\n      <th>kaum1986</th>\n      <td>[Die Vorhut vor 20.000 Jahren war für das Ries...</td>\n      <td>[Die Vorhut vor 20.000 Jahren, Die Vorhut vor ...</td>\n      <td>Die Konstruktion \"Relativierung:kaumADJ\" gehör...</td>\n    </tr>\n    <tr>\n      <th>1987</th>\n      <th>sehr1987</th>\n      <td>[Solche Menschen können sich sehr wohlfühlen o...</td>\n      <td>[Solche Menschen können, Solche Menschen könne...</td>\n      <td>Die Konstruktion \"Intensivierung:sehrV\" gehört...</td>\n    </tr>\n  </tbody>\n</table>\n<p>562 rows × 3 columns</p>\n</div>"
     },
     "execution_count": 68,
     "metadata": {},
     "output_type": "execute_result"
    }
   ],
   "source": [
    "examples = pd.merge(result_df, definitions, how=\"inner\", left_on=\"construction\", right_index=True)\n",
    "examples"
   ],
   "metadata": {
    "collapsed": false,
    "ExecuteTime": {
     "end_time": "2023-12-29T22:24:21.049154400Z",
     "start_time": "2023-12-29T22:24:20.986049800Z"
    }
   },
   "id": "238d2238bbdd91d8"
  },
  {
   "cell_type": "markdown",
   "source": [
    "##### Generieren neuer Sätze:"
   ],
   "metadata": {
    "collapsed": false
   },
   "id": "5bc899cb800665fa"
  },
  {
   "cell_type": "markdown",
   "source": [
    "Load the vanilla mbart model:"
   ],
   "metadata": {
    "collapsed": false
   },
   "id": "d1fd4b9029d49e1e"
  },
  {
   "cell_type": "code",
   "execution_count": 72,
   "outputs": [
    {
     "name": "stderr",
     "output_type": "stream",
     "text": [
      "Some weights of the model checkpoint at bert-base-german-cased were not used when initializing BertForMaskedLM: ['cls.seq_relationship.bias', 'cls.seq_relationship.weight', 'bert.pooler.dense.weight', 'bert.pooler.dense.bias']\n",
      "- This IS expected if you are initializing BertForMaskedLM from the checkpoint of a model trained on another task or with another architecture (e.g. initializing a BertForSequenceClassification model from a BertForPreTraining model).\n",
      "- This IS NOT expected if you are initializing BertForMaskedLM from the checkpoint of a model that you expect to be exactly identical (initializing a BertForSequenceClassification model from a BertForSequenceClassification model).\n"
     ]
    },
    {
     "data": {
      "text/plain": "Embedding(30000, 768, padding_idx=0)"
     },
     "execution_count": 72,
     "metadata": {},
     "output_type": "execute_result"
    }
   ],
   "source": [
    "model = MBartForConditionalGeneration.from_pretrained(\n",
    "    \"facebook/mbart-large-50\", return_dict=True\n",
    ") \n",
    "tokenizer = MBart50TokenizerFast.from_pretrained(\n",
    "    \"facebook/mbart-large-50\", src_lang=\"de_DE\", tgt_lang=\"de_DE\"\n",
    ")\n",
    "model.model.encoder.embed_tokens"
   ],
   "metadata": {
    "collapsed": false,
    "ExecuteTime": {
     "end_time": "2023-12-29T22:24:23.670347300Z",
     "start_time": "2023-12-29T22:24:21.069513900Z"
    }
   },
   "id": "e82730a36da5ce9c"
  },
  {
   "cell_type": "markdown",
   "source": [
    "Complete the cues:"
   ],
   "metadata": {
    "collapsed": false
   },
   "id": "2b006ebc8aa40484"
  },
  {
   "cell_type": "code",
   "execution_count": 22,
   "outputs": [
    {
     "data": {
      "text/plain": "  0%|          | 0/562 [00:00<?, ?it/s]",
      "application/vnd.jupyter.widget-view+json": {
       "version_major": 2,
       "version_minor": 0,
       "model_id": "89c2961476a64b269e5e5fc9f6851ccb"
      }
     },
     "metadata": {},
     "output_type": "display_data"
    },
    {
     "name": "stdout",
     "output_type": "stream",
     "text": [
      "..."
     ]
    },
    {
     "name": "stderr",
     "output_type": "stream",
     "text": [
      "\n",
      "KeyboardInterrupt\n",
      "\n"
     ]
    }
   ],
   "source": [
    "def complete_cues(row):\n",
    "    try:\n",
    "        output_texts = []\n",
    "        scores = []\n",
    "        for cue, example in zip(row[\"cue\"], row[\"example\"]):\n",
    "            input_text = cue\n",
    "            \n",
    "            # print(tokenizer.tokenize(input_text))\n",
    "            \n",
    "            target_length = int(1.5 * len(example))  # allow double the length of the original sentence\n",
    "            \n",
    "            outputs = tokenizer(input_text, return_tensors=\"pt\")\n",
    "            outputs = model.generate(outputs[\"input_ids\"], max_length=target_length, num_return_sequences=1,\n",
    "                                     num_beams=10, output_scores=True, return_dict_in_generate=True)\n",
    "            output_text = tokenizer.batch_decode(outputs.sequences, skip_special_tokens=True)\n",
    "            score = torch.exp(outputs.sequences_scores)\n",
    "            output_texts += output_text\n",
    "            \n",
    "            scores.append(score)\n",
    "        print(row[\"pseudoword\"], str(output_texts), str([float(score) for score in scores]))\n",
    "        \n",
    "        return pd.DataFrame([str(output_texts), str([float(score) for score in scores])])\n",
    "    except Exception as e:\n",
    "        print(\".\", end=\"\")\n",
    "        return pd.DataFrame([row[\"pseudoword\"], str(e), \"[-1.0]\"])\n",
    "\n",
    "examples_reset = examples.reset_index()\n",
    "pseudoword_output_scores = examples_reset[[\"example\", \"cue\", \"pseudoword\"]].progress_apply(complete_cues, axis=1)\n",
    "pseudoword_output_scores"
   ],
   "metadata": {
    "collapsed": false,
    "ExecuteTime": {
     "end_time": "2023-12-13T13:40:44.543168331Z",
     "start_time": "2023-12-13T13:32:10.578758317Z"
    }
   },
   "id": "b7fc546c4aeb79b2"
  },
  {
   "cell_type": "code",
   "execution_count": null,
   "outputs": [],
   "source": [
    "examples = pseudoword_output_scores[[\"pseudoword\", \"generated\", \"score\"]]\n",
    "\n",
    "examples"
   ],
   "metadata": {
    "collapsed": false,
    "ExecuteTime": {
     "end_time": "2023-12-13T13:40:44.570861860Z",
     "start_time": "2023-12-13T13:40:44.554682211Z"
    }
   },
   "id": "14e01733b5a4aeba"
  },
  {
   "cell_type": "markdown",
   "source": [
    "#### Anzahl neuer Sätze"
   ],
   "metadata": {
    "collapsed": false
   },
   "id": "a64a06083f0ccd35"
  },
  {
   "cell_type": "code",
   "execution_count": null,
   "outputs": [],
   "source": [
    "examples.to_csv(f\"../../out/comapp/data_mbart_vanilla.tsv\", sep=\"\\t\", decimal=\",\")\n",
    "examples.to_excel(f\"../../out/comapp/data_mbart_vanilla.xlsx\")"
   ],
   "metadata": {
    "collapsed": false,
    "ExecuteTime": {
     "start_time": "2023-12-13T13:40:44.558426534Z"
    }
   },
   "id": "93ee2263ebe468ba"
  },
  {
   "cell_type": "code",
   "outputs": [],
   "source": [
    "pseudoword_output_scores.to_csv(\"../../out/comapp/data_mbart_vanilla_complete.tsv\", sep=\"\\t\", decimal=\",\")"
   ],
   "metadata": {
    "collapsed": false
   },
   "id": "a890185b466ac02e"
  }
 ],
 "metadata": {
  "kernelspec": {
   "display_name": "Python 3",
   "language": "python",
   "name": "python3"
  },
  "language_info": {
   "codemirror_mode": {
    "name": "ipython",
    "version": 2
   },
   "file_extension": ".py",
   "mimetype": "text/x-python",
   "name": "python",
   "nbconvert_exporter": "python",
   "pygments_lexer": "ipython2",
   "version": "2.7.6"
  }
 },
 "nbformat": 4,
 "nbformat_minor": 5
}
