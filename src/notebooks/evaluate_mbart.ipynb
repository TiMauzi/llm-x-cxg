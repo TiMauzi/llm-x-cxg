{
 "cells": [
  {
   "cell_type": "code",
   "execution_count": null,
   "outputs": [],
   "source": [
    "import itertools\n",
    "import json\n",
    "import pickle\n",
    "import re\n",
    "\n",
    "import numpy as np\n",
    "import pandas as pd\n",
    "import torch\n",
    "from transformers import MBartForConditionalGeneration, MBart50TokenizerFast\n",
    "\n",
    "from tqdm.notebook import tqdm\n",
    "tqdm.pandas()"
   ],
   "metadata": {
    "collapsed": false
   },
   "id": "863338ddbf31a6c5"
  },
  {
   "cell_type": "code",
   "execution_count": null,
   "outputs": [],
   "source": [
    "with open(\"../../data/pseudowords/CoMaPP_all.json\") as json_file:\n",
    "    data = json.load(json_file)\n",
    "    \n",
    "# d+1 since we are not replacing the ke-lex this time!\n",
    "data = [{\"example\": d[\"target1\"], \"cue\": \" \".join(d[\"target1\"].split()[:d[\"query_idx\"]+1]), \"pseudoword\": d[\"label\"]} for d in data]\n",
    "df = pd.DataFrame.from_dict(data).drop_duplicates(ignore_index=True)\n",
    "df"
   ],
   "metadata": {
    "collapsed": false
   },
   "id": "18bb06d46d72aab4"
  },
  {
   "cell_type": "code",
   "execution_count": null,
   "outputs": [],
   "source": [
    "df['index'] = df['pseudoword'].str.extract('(\\d+)').astype(int)\n",
    "df.set_index('index', inplace=True)\n",
    "\n",
    "df"
   ],
   "metadata": {
    "collapsed": false
   },
   "id": "b7e1f6e88f687297"
  },
  {
   "cell_type": "code",
   "execution_count": null,
   "outputs": [],
   "source": [
    "contextleft = pd.read_pickle(\"../../data/pseudowords/contextleft_text.pickle\")\n",
    "\n",
    "def update_cue(row):\n",
    "    output = row[['example', 'cue']]\n",
    "    if len(row['cue'].split()) == 1:  # if the string in cue is empty (except for the kelex)\n",
    "        # match the index of row with contextleft['construction_id'] and match contextleft['text'] with row['example'] and create matching_entry\n",
    "        matching_entry = contextleft.loc[(contextleft['construction_id'] == row.name) & (contextleft['text'] == row['example']), 'contextleft'].tolist()\n",
    "        if len(matching_entry) > 0:\n",
    "            # Add the left context to the example and to the cue:\n",
    "            output = [matching_entry[0] + \" \" + row['example'], matching_entry[0] + \" \" + row['cue']]\n",
    "    return output\n",
    "\n",
    "# Add the left context if there is no cue up until the pseudoword.\n",
    "df[[\"example\", \"cue\"]] = df.apply(update_cue, axis=1)\n",
    "df"
   ],
   "metadata": {
    "collapsed": false
   },
   "id": "a898840ef3c9c442"
  },
  {
   "cell_type": "code",
   "execution_count": null,
   "outputs": [],
   "source": [
    "df.reset_index(inplace=True)\n",
    "df.rename(columns={'index': 'construction'}, inplace=True)\n",
    "\n",
    "result_df = df.groupby(['construction', 'pseudoword']).agg({'example': list, 'cue': list})\n",
    "\n",
    "result_df"
   ],
   "metadata": {
    "collapsed": false
   },
   "id": "4a4e3d92707b4c4"
  },
  {
   "cell_type": "code",
   "execution_count": null,
   "outputs": [],
   "source": [
    "with open(\"../../out/definitions.pickle\", \"rb\") as definitions_file:\n",
    "    definitions = pd.DataFrame.from_dict(pickle.load(definitions_file), orient=\"index\", columns=[\"definition\"])\n",
    "    \n",
    "definitions"
   ],
   "metadata": {
    "collapsed": true
   },
   "id": "initial_id"
  },
  {
   "cell_type": "code",
   "execution_count": null,
   "outputs": [],
   "source": [
    "examples = pd.merge(result_df, definitions, how=\"inner\", left_on=\"construction\", right_index=True)\n",
    "examples"
   ],
   "metadata": {
    "collapsed": false
   },
   "id": "238d2238bbdd91d8"
  },
  {
   "cell_type": "markdown",
   "source": [
    "##### Generieren neuer Sätze:"
   ],
   "metadata": {
    "collapsed": false
   },
   "id": "5bc899cb800665fa"
  },
  {
   "cell_type": "markdown",
   "source": [
    "Load the vanilla mbart model:"
   ],
   "metadata": {
    "collapsed": false
   },
   "id": "d1fd4b9029d49e1e"
  },
  {
   "cell_type": "code",
   "execution_count": null,
   "outputs": [],
   "source": [
    "model = MBartForConditionalGeneration.from_pretrained(\n",
    "    \"facebook/mbart-large-50\", return_dict=True\n",
    ") \n",
    "tokenizer = MBart50TokenizerFast.from_pretrained(\n",
    "    \"facebook/mbart-large-50\", src_lang=\"de_DE\", tgt_lang=\"de_DE\"\n",
    ")\n",
    "model.to(\"cuda:0\")\n",
    "model.model.encoder.embed_tokens"
   ],
   "metadata": {
    "collapsed": false
   },
   "id": "e82730a36da5ce9c"
  },
  {
   "cell_type": "markdown",
   "source": [
    "Complete the cues:"
   ],
   "metadata": {
    "collapsed": false
   },
   "id": "2b006ebc8aa40484"
  },
  {
   "cell_type": "code",
   "execution_count": 20,
   "outputs": [
    {
     "data": {
      "text/plain": "  0%|          | 0/562 [00:00<?, ?it/s]",
      "application/vnd.jupyter.widget-view+json": {
       "version_major": 2,
       "version_minor": 0,
       "model_id": "76518a5c18f847e2a7f7f6fbacab66ad"
      }
     },
     "metadata": {},
     "output_type": "display_data"
    },
    {
     "name": "stdout",
     "output_type": "stream",
     "text": [
      ".................................................................................................................................................................................................................................................................................................................................................................................................................................................................................................................................................................................."
     ]
    },
    {
     "data": {
      "text/plain": "     construction  pseudoword  \\\n0               5        Und5   \n1               5       erst5   \n2               5        gar5   \n3               5      nicht5   \n4               5      recht5   \n..            ...         ...   \n557          1884    Gold1884   \n558          1884  Silber1884   \n559          1884     ist1884   \n560          1986    kaum1986   \n561          1987    sehr1987   \n\n                                          orig_example  \\\n0    [\"\"Nicht herauskaufen\"\", \"\"nicht erpressen las...   \n1    [Trainer Lucien Favre hatte schon seine beiden...   \n2    [Es hat Afghanistan nicht stabilisiert und sch...   \n3    [Es hat Afghanistan nicht stabilisiert und sch...   \n4    [Trainer Lucien Favre hatte schon seine beiden...   \n..                                                 ...   \n557  [Schweigen ist Silber , reden ist Gold ., Schw...   \n558  [Schweigen ist Silber , reden ist Gold ., Schw...   \n559  [Schweigen ist Silber , reden ist Gold ., Schw...   \n560  [Die Vorhut vor 20.000 Jahren war für das Ries...   \n561  [Solche Menschen können sich sehr wohlfühlen o...   \n\n                                             generated  \\\n0    ['\"\"Nicht herauskaufen\"\", \"\"nicht erpressen la...   \n1    ['Trainer Lucien Favre hatte schon seine beide...   \n2    ['Es hat Afghanistan nicht stabilisiert und wi...   \n3    ['Es hat sich nicht gelohnt.', 'Es hat Afghani...   \n4    ['Trainer Lucien Favre hatte schon seine beide...   \n..                                                 ...   \n557  ['Schweigen ist Silber, reden ist Gold - Seite...   \n558  ['Schweigen ist Silber und Gold', 'Schweigen i...   \n559  ['Schweigen ist besser als nichts', 'Schweigen...   \n560  ['Die Vorhut vor 20.000 Jahren war nicht mehr ...   \n561  ['Solche Menschen können sich nicht wehren!', ...   \n\n                                                scores  \n0    [0.7326326966285706, 0.3384742736816406, 0.712...  \n1    [0.7867358326911926, 0.8212453126907349, 0.684...  \n2    [0.5909808874130249, 0.6491526365280151, 0.740...  \n3    [0.47445887327194214, 0.4824838936328888, 0.40...  \n4    [0.7321943640708923, 0.8531233072280884, 0.727...  \n..                                                 ...  \n557  [0.648520290851593, 0.6625412106513977, 0.6627...  \n558  [0.5993227362632751, 0.5993227362632751, 0.541...  \n559  [0.4621695280075073, 0.4621695280075073, 0.487...  \n560  [0.5413929224014282, 0.7501695156097412, 0.599...  \n561  [0.562934160232544, 0.637725830078125, 0.70253...  \n\n[562 rows x 5 columns]",
      "text/html": "<div>\n<style scoped>\n    .dataframe tbody tr th:only-of-type {\n        vertical-align: middle;\n    }\n\n    .dataframe tbody tr th {\n        vertical-align: top;\n    }\n\n    .dataframe thead th {\n        text-align: right;\n    }\n</style>\n<table border=\"1\" class=\"dataframe\">\n  <thead>\n    <tr style=\"text-align: right;\">\n      <th></th>\n      <th>construction</th>\n      <th>pseudoword</th>\n      <th>orig_example</th>\n      <th>generated</th>\n      <th>scores</th>\n    </tr>\n  </thead>\n  <tbody>\n    <tr>\n      <th>0</th>\n      <td>5</td>\n      <td>Und5</td>\n      <td>[\"\"Nicht herauskaufen\"\", \"\"nicht erpressen las...</td>\n      <td>['\"\"Nicht herauskaufen\"\", \"\"nicht erpressen la...</td>\n      <td>[0.7326326966285706, 0.3384742736816406, 0.712...</td>\n    </tr>\n    <tr>\n      <th>1</th>\n      <td>5</td>\n      <td>erst5</td>\n      <td>[Trainer Lucien Favre hatte schon seine beiden...</td>\n      <td>['Trainer Lucien Favre hatte schon seine beide...</td>\n      <td>[0.7867358326911926, 0.8212453126907349, 0.684...</td>\n    </tr>\n    <tr>\n      <th>2</th>\n      <td>5</td>\n      <td>gar5</td>\n      <td>[Es hat Afghanistan nicht stabilisiert und sch...</td>\n      <td>['Es hat Afghanistan nicht stabilisiert und wi...</td>\n      <td>[0.5909808874130249, 0.6491526365280151, 0.740...</td>\n    </tr>\n    <tr>\n      <th>3</th>\n      <td>5</td>\n      <td>nicht5</td>\n      <td>[Es hat Afghanistan nicht stabilisiert und sch...</td>\n      <td>['Es hat sich nicht gelohnt.', 'Es hat Afghani...</td>\n      <td>[0.47445887327194214, 0.4824838936328888, 0.40...</td>\n    </tr>\n    <tr>\n      <th>4</th>\n      <td>5</td>\n      <td>recht5</td>\n      <td>[Trainer Lucien Favre hatte schon seine beiden...</td>\n      <td>['Trainer Lucien Favre hatte schon seine beide...</td>\n      <td>[0.7321943640708923, 0.8531233072280884, 0.727...</td>\n    </tr>\n    <tr>\n      <th>...</th>\n      <td>...</td>\n      <td>...</td>\n      <td>...</td>\n      <td>...</td>\n      <td>...</td>\n    </tr>\n    <tr>\n      <th>557</th>\n      <td>1884</td>\n      <td>Gold1884</td>\n      <td>[Schweigen ist Silber , reden ist Gold ., Schw...</td>\n      <td>['Schweigen ist Silber, reden ist Gold - Seite...</td>\n      <td>[0.648520290851593, 0.6625412106513977, 0.6627...</td>\n    </tr>\n    <tr>\n      <th>558</th>\n      <td>1884</td>\n      <td>Silber1884</td>\n      <td>[Schweigen ist Silber , reden ist Gold ., Schw...</td>\n      <td>['Schweigen ist Silber und Gold', 'Schweigen i...</td>\n      <td>[0.5993227362632751, 0.5993227362632751, 0.541...</td>\n    </tr>\n    <tr>\n      <th>559</th>\n      <td>1884</td>\n      <td>ist1884</td>\n      <td>[Schweigen ist Silber , reden ist Gold ., Schw...</td>\n      <td>['Schweigen ist besser als nichts', 'Schweigen...</td>\n      <td>[0.4621695280075073, 0.4621695280075073, 0.487...</td>\n    </tr>\n    <tr>\n      <th>560</th>\n      <td>1986</td>\n      <td>kaum1986</td>\n      <td>[Die Vorhut vor 20.000 Jahren war für das Ries...</td>\n      <td>['Die Vorhut vor 20.000 Jahren war nicht mehr ...</td>\n      <td>[0.5413929224014282, 0.7501695156097412, 0.599...</td>\n    </tr>\n    <tr>\n      <th>561</th>\n      <td>1987</td>\n      <td>sehr1987</td>\n      <td>[Solche Menschen können sich sehr wohlfühlen o...</td>\n      <td>['Solche Menschen können sich nicht wehren!', ...</td>\n      <td>[0.562934160232544, 0.637725830078125, 0.70253...</td>\n    </tr>\n  </tbody>\n</table>\n<p>562 rows × 5 columns</p>\n</div>"
     },
     "execution_count": 20,
     "metadata": {},
     "output_type": "execute_result"
    }
   ],
   "source": [
    "def complete_cues(row):\n",
    "    try:\n",
    "        output_texts = []\n",
    "        scores = []\n",
    "        for cue, example in zip(row[\"cue\"], row[\"example\"]):\n",
    "            input_text = cue + \" <mask>\"\n",
    "            \n",
    "            # print(tokenizer.tokenize(input_text))\n",
    "            \n",
    "            target_length = int(1.5 * len(example))  # allow double the length of the original sentence\n",
    "            \n",
    "            outputs = tokenizer(input_text, return_tensors=\"pt\")\n",
    "            outputs = model.generate(outputs[\"input_ids\"].to(\"cuda:0\"), max_length=target_length, num_return_sequences=1, num_beams=10, output_scores=True, return_dict_in_generate=True)\n",
    "            output_text = tokenizer.batch_decode(outputs.sequences, skip_special_tokens=True)\n",
    "            score = torch.exp(outputs.sequences_scores)\n",
    "            output_texts += output_text\n",
    "            \n",
    "            scores.append(score)\n",
    "        #print(row[\"pseudoword\"], str(output_texts), str([float(score) for score in scores]))\n",
    "        print(\".\", end=\"\")\n",
    "        return pd.Series({\"construction\": row[\"construction\"], \"pseudoword\": row[\"pseudoword\"].iloc[0], \"orig_example\": row[\"example\"], \"generated\": str(output_texts), \"scores\": str([float(score) for score in scores])})\n",
    "    except Exception as e:\n",
    "        print(\":\", end=\"\")\n",
    "        return pd.Series({\"construction\": row[\"construction\"], \"pseudoword\": row[\"pseudoword\"].iloc[0], \"orig_example\": row[\"example\"], \"generated\": str(e), \"scores\": \"[-1.0]\"})\n",
    "\n",
    "examples_reset = examples.reset_index()\n",
    "pseudoword_output_scores = examples_reset[[\"construction\", \"pseudoword\", \"example\", \"cue\", \"pseudoword\"]].progress_apply(complete_cues, axis=1)\n",
    "pseudoword_output_scores"
   ],
   "metadata": {
    "collapsed": false,
    "ExecuteTime": {
     "end_time": "2024-01-27T07:38:35.006983254Z",
     "start_time": "2024-01-27T06:28:23.666635820Z"
    }
   },
   "id": "b7fc546c4aeb79b2"
  },
  {
   "cell_type": "code",
   "execution_count": 22,
   "outputs": [
    {
     "data": {
      "text/plain": "     pseudoword                                          generated  \\\n0          Und5  ['\"\"Nicht herauskaufen\"\", \"\"nicht erpressen la...   \n1         erst5  ['Trainer Lucien Favre hatte schon seine beide...   \n2          gar5  ['Es hat Afghanistan nicht stabilisiert und wi...   \n3        nicht5  ['Es hat sich nicht gelohnt.', 'Es hat Afghani...   \n4        recht5  ['Trainer Lucien Favre hatte schon seine beide...   \n..          ...                                                ...   \n557    Gold1884  ['Schweigen ist Silber, reden ist Gold - Seite...   \n558  Silber1884  ['Schweigen ist Silber und Gold', 'Schweigen i...   \n559     ist1884  ['Schweigen ist besser als nichts', 'Schweigen...   \n560    kaum1986  ['Die Vorhut vor 20.000 Jahren war nicht mehr ...   \n561    sehr1987  ['Solche Menschen können sich nicht wehren!', ...   \n\n                                                scores  \n0    [0.7326326966285706, 0.3384742736816406, 0.712...  \n1    [0.7867358326911926, 0.8212453126907349, 0.684...  \n2    [0.5909808874130249, 0.6491526365280151, 0.740...  \n3    [0.47445887327194214, 0.4824838936328888, 0.40...  \n4    [0.7321943640708923, 0.8531233072280884, 0.727...  \n..                                                 ...  \n557  [0.648520290851593, 0.6625412106513977, 0.6627...  \n558  [0.5993227362632751, 0.5993227362632751, 0.541...  \n559  [0.4621695280075073, 0.4621695280075073, 0.487...  \n560  [0.5413929224014282, 0.7501695156097412, 0.599...  \n561  [0.562934160232544, 0.637725830078125, 0.70253...  \n\n[562 rows x 3 columns]",
      "text/html": "<div>\n<style scoped>\n    .dataframe tbody tr th:only-of-type {\n        vertical-align: middle;\n    }\n\n    .dataframe tbody tr th {\n        vertical-align: top;\n    }\n\n    .dataframe thead th {\n        text-align: right;\n    }\n</style>\n<table border=\"1\" class=\"dataframe\">\n  <thead>\n    <tr style=\"text-align: right;\">\n      <th></th>\n      <th>pseudoword</th>\n      <th>generated</th>\n      <th>scores</th>\n    </tr>\n  </thead>\n  <tbody>\n    <tr>\n      <th>0</th>\n      <td>Und5</td>\n      <td>['\"\"Nicht herauskaufen\"\", \"\"nicht erpressen la...</td>\n      <td>[0.7326326966285706, 0.3384742736816406, 0.712...</td>\n    </tr>\n    <tr>\n      <th>1</th>\n      <td>erst5</td>\n      <td>['Trainer Lucien Favre hatte schon seine beide...</td>\n      <td>[0.7867358326911926, 0.8212453126907349, 0.684...</td>\n    </tr>\n    <tr>\n      <th>2</th>\n      <td>gar5</td>\n      <td>['Es hat Afghanistan nicht stabilisiert und wi...</td>\n      <td>[0.5909808874130249, 0.6491526365280151, 0.740...</td>\n    </tr>\n    <tr>\n      <th>3</th>\n      <td>nicht5</td>\n      <td>['Es hat sich nicht gelohnt.', 'Es hat Afghani...</td>\n      <td>[0.47445887327194214, 0.4824838936328888, 0.40...</td>\n    </tr>\n    <tr>\n      <th>4</th>\n      <td>recht5</td>\n      <td>['Trainer Lucien Favre hatte schon seine beide...</td>\n      <td>[0.7321943640708923, 0.8531233072280884, 0.727...</td>\n    </tr>\n    <tr>\n      <th>...</th>\n      <td>...</td>\n      <td>...</td>\n      <td>...</td>\n    </tr>\n    <tr>\n      <th>557</th>\n      <td>Gold1884</td>\n      <td>['Schweigen ist Silber, reden ist Gold - Seite...</td>\n      <td>[0.648520290851593, 0.6625412106513977, 0.6627...</td>\n    </tr>\n    <tr>\n      <th>558</th>\n      <td>Silber1884</td>\n      <td>['Schweigen ist Silber und Gold', 'Schweigen i...</td>\n      <td>[0.5993227362632751, 0.5993227362632751, 0.541...</td>\n    </tr>\n    <tr>\n      <th>559</th>\n      <td>ist1884</td>\n      <td>['Schweigen ist besser als nichts', 'Schweigen...</td>\n      <td>[0.4621695280075073, 0.4621695280075073, 0.487...</td>\n    </tr>\n    <tr>\n      <th>560</th>\n      <td>kaum1986</td>\n      <td>['Die Vorhut vor 20.000 Jahren war nicht mehr ...</td>\n      <td>[0.5413929224014282, 0.7501695156097412, 0.599...</td>\n    </tr>\n    <tr>\n      <th>561</th>\n      <td>sehr1987</td>\n      <td>['Solche Menschen können sich nicht wehren!', ...</td>\n      <td>[0.562934160232544, 0.637725830078125, 0.70253...</td>\n    </tr>\n  </tbody>\n</table>\n<p>562 rows × 3 columns</p>\n</div>"
     },
     "execution_count": 22,
     "metadata": {},
     "output_type": "execute_result"
    }
   ],
   "source": [
    "examples = pseudoword_output_scores[[\"pseudoword\", \"generated\", \"scores\"]]\n",
    "\n",
    "examples"
   ],
   "metadata": {
    "collapsed": false,
    "ExecuteTime": {
     "end_time": "2024-01-27T12:16:58.531915636Z",
     "start_time": "2024-01-27T12:16:58.483720428Z"
    }
   },
   "id": "14e01733b5a4aeba"
  },
  {
   "cell_type": "markdown",
   "source": [
    "#### Anzahl neuer Sätze"
   ],
   "metadata": {
    "collapsed": false
   },
   "id": "a64a06083f0ccd35"
  },
  {
   "cell_type": "code",
   "execution_count": 23,
   "outputs": [],
   "source": [
    "examples.to_csv(f\"../../out/comapp/mbart/data_mbart_vanilla.tsv\", sep=\"\\t\", decimal=\",\")\n",
    "examples.to_excel(f\"../../out/comapp/mbart/data_mbart_vanilla.xlsx\")"
   ],
   "metadata": {
    "collapsed": false,
    "ExecuteTime": {
     "end_time": "2024-01-27T12:17:02.572048476Z",
     "start_time": "2024-01-27T12:17:02.323367674Z"
    }
   },
   "id": "93ee2263ebe468ba"
  },
  {
   "cell_type": "code",
   "outputs": [],
   "source": [
    "pseudoword_output_scores.to_csv(\"../../out/comapp/mbart/data_mbart_vanilla_complete.tsv\", sep=\"\\t\", decimal=\",\")"
   ],
   "metadata": {
    "collapsed": false,
    "ExecuteTime": {
     "end_time": "2024-01-27T12:17:04.239100915Z",
     "start_time": "2024-01-27T12:17:04.187106887Z"
    }
   },
   "id": "a890185b466ac02e",
   "execution_count": 24
  }
 ],
 "metadata": {
  "kernelspec": {
   "display_name": "Python 3",
   "language": "python",
   "name": "python3"
  },
  "language_info": {
   "codemirror_mode": {
    "name": "ipython",
    "version": 2
   },
   "file_extension": ".py",
   "mimetype": "text/x-python",
   "name": "python",
   "nbconvert_exporter": "python",
   "pygments_lexer": "ipython2",
   "version": "2.7.6"
  }
 },
 "nbformat": 4,
 "nbformat_minor": 5
}
