{
 "cells": [
  {
   "cell_type": "code",
   "execution_count": 9,
   "id": "initial_id",
   "metadata": {
    "collapsed": true,
    "ExecuteTime": {
     "end_time": "2023-12-16T14:19:42.762907200Z",
     "start_time": "2023-12-16T14:19:42.755614100Z"
    }
   },
   "outputs": [
    {
     "name": "stderr",
     "output_type": "stream",
     "text": [
      "[nltk_data] Downloading package punkt to\n",
      "[nltk_data]     C:\\Users\\Tim\\AppData\\Roaming\\nltk_data...\n",
      "[nltk_data]   Package punkt is already up-to-date!\n"
     ]
    },
    {
     "data": {
      "text/plain": "True"
     },
     "execution_count": 9,
     "metadata": {},
     "output_type": "execute_result"
    }
   ],
   "source": [
    "import json\n",
    "import os\n",
    "import pickle\n",
    "import re\n",
    "import time\n",
    "from pathlib import Path\n",
    "import requests\n",
    "\n",
    "import numpy as np\n",
    "import pandas as pd\n",
    "import xml.etree.ElementTree as ET\n",
    "from nltk import download\n",
    "from nltk.tokenize import word_tokenize\n",
    "import torch\n",
    "from tqdm.auto import tqdm\n",
    "from transformers import MBart50Tokenizer, MBartForConditionalGeneration\n",
    "from transformers import pipeline\n",
    "\n",
    "download('punkt')"
   ]
  },
  {
   "cell_type": "code",
   "execution_count": 10,
   "outputs": [
    {
     "data": {
      "text/plain": "  0%|          | 0/212 [00:00<?, ?it/s]",
      "application/vnd.jupyter.widget-view+json": {
       "version_major": 2,
       "version_minor": 0,
       "model_id": "b1d7e53ce16f4d0eb64e764937bc1f7b"
      }
     },
     "metadata": {},
     "output_type": "display_data"
    },
    {
     "name": "stdout",
     "output_type": "stream",
     "text": [
      "1286 does not exist online!\n"
     ]
    },
    {
     "data": {
      "text/plain": "                                                                                       text  \\\nuid                                                                                           \n57B9D1BEB68F44E7A51D1920F1EA6951E39469B5  Und dann ist da noch das generelle Problem mit...   \nD86B38CFA5D2458D9F3615EDD55C9308DF423DB0  »Ohne Europa sind viele Fragen nicht mehr seri...   \n7B3FAB8B01ED862D3D3FA18531B0904BCF24DFF0  Dies lässt sich damit begründen , dass vor und...   \nB003E526D0AA301DA46458D32A82CEEFD7ADADA5  Dennoch hat Hamas es nicht geschafft , ihre mi...   \nC3FFF1CA55CA8FF0A806C33E14A0FB331582698E  Abermillionen rings um die Welt , die das Spek...   \n...                                                                                     ...   \nABB2D854C007CDAF94AA0F10FD7CEC5E1BF51033  Vor dieser Zeit waren Immobilien in Deutschlan...   \nB8CBF505FD474F8EFBFF7FDDEC5DA1B3C775B622  Wichtiger als die Frage , wer sich aus diesem ...   \n3AE63AAADC213E35AD70B3A83D13415FA5EBE61F  Damit wäre der Geländewagen deutlich günstiger...   \n79339294317D620CA5F7C70A6F5DED39AAB8F0BD  Auch andere Unternehmen wie Uber kooperieren i...   \n572AF707F11010A60B24BC7700543A7BB090D905  Rund 45 . 000 Dollar soll der Byton - SUV kost...   \n\n                                                                                   pos_tags  \\\nuid                                                                                           \n57B9D1BEB68F44E7A51D1920F1EA6951E39469B5  [CCONJ, ADV, AUX, ADV, ADV, DET, ADJ, NOUN, AD...   \nD86B38CFA5D2458D9F3615EDD55C9308DF423DB0  [PUNCT, PROPN, AUX, ADJ, NOUN, PART, ADV, ADJ,...   \n7B3FAB8B01ED862D3D3FA18531B0904BCF24DFF0  [PRON, VERB, PRON, ADV, VERB, PUNCT, SCONJ, AD...   \nB003E526D0AA301DA46458D32A82CEEFD7ADADA5  [ADV, AUX, PROPN, PRON, PART, VERB, PUNCT, DET...   \nC3FFF1CA55CA8FF0A806C33E14A0FB331582698E  [NOUN, ADV, ADP, DET, NOUN, PUNCT, PRON, DET, ...   \n...                                                                                     ...   \nABB2D854C007CDAF94AA0F10FD7CEC5E1BF51033  [ADP, DET, NOUN, AUX, NOUN, ADP, PROPN, ADJ, A...   \nB8CBF505FD474F8EFBFF7FDDEC5DA1B3C775B622  [ADJ, ADP, DET, NOUN, PUNCT, PRON, PRON, ADP, ...   \n3AE63AAADC213E35AD70B3A83D13415FA5EBE61F  [ADV, AUX, DET, NOUN, ADJ, ADJ, ADP, ADJ, NOUN...   \n79339294317D620CA5F7C70A6F5DED39AAB8F0BD  [ADV, ADJ, NOUN, ADP, PROPN, VERB, ADV, ADP, P...   \n572AF707F11010A60B24BC7700543A7BB090D905  [ADV, NUM, NUM, NUM, NOUN, AUX, DET, NOUN, PUN...   \n\n                                         xpos_tags  \\\nuid                                                  \n57B9D1BEB68F44E7A51D1920F1EA6951E39469B5        []   \nD86B38CFA5D2458D9F3615EDD55C9308DF423DB0        []   \n7B3FAB8B01ED862D3D3FA18531B0904BCF24DFF0        []   \nB003E526D0AA301DA46458D32A82CEEFD7ADADA5        []   \nC3FFF1CA55CA8FF0A806C33E14A0FB331582698E        []   \n...                                            ...   \nABB2D854C007CDAF94AA0F10FD7CEC5E1BF51033        []   \nB8CBF505FD474F8EFBFF7FDDEC5DA1B3C775B622        []   \n3AE63AAADC213E35AD70B3A83D13415FA5EBE61F        []   \n79339294317D620CA5F7C70A6F5DED39AAB8F0BD        []   \n572AF707F11010A60B24BC7700543A7BB090D905        []   \n\n                                                                                   dep_rels  \\\nuid                                                                                           \n57B9D1BEB68F44E7A51D1920F1EA6951E39469B5  [CC, ADVMOD, COP, ROOT, ADVMOD, DET, AMOD, NSU...   \nD86B38CFA5D2458D9F3615EDD55C9308DF423DB0  [PUNCT, OBJ, CCOMP, DET, NSUBJ, ADVMOD:NEG, AD...   \n7B3FAB8B01ED862D3D3FA18531B0904BCF24DFF0  [NSUBJ, ROOT, OBJ, ADVMOD, XCOMP, PUNCT, MARK,...   \nB003E526D0AA301DA46458D32A82CEEFD7ADADA5  [ADVMOD, AUX, NSUBJ, EXPL, ADVMOD:NEG, ROOT, P...   \nC3FFF1CA55CA8FF0A806C33E14A0FB331582698E  [NSUBJ, ADVMOD, CASE, DET, NMOD, PUNCT, NSUBJ,...   \n...                                                                                     ...   \nABB2D854C007CDAF94AA0F10FD7CEC5E1BF51033  [CASE, DET, OBL, COP, NSUBJ, CASE, OBL, ADVMOD...   \nB8CBF505FD474F8EFBFF7FDDEC5DA1B3C775B622  [ROOT, CASE, DET, OBL, PUNCT, NSUBJ, IOBJ, CAS...   \n3AE63AAADC213E35AD70B3A83D13415FA5EBE61F  [ADVMOD, COP, DET, NSUBJ, ADVMOD, ROOT, CASE, ...   \n79339294317D620CA5F7C70A6F5DED39AAB8F0BD  [ADVMOD, AMOD, NSUBJ, CASE, NMOD, ROOT, ADVMOD...   \n572AF707F11010A60B24BC7700543A7BB090D905  [ADVMOD, NUMMOD, CC, CONJ, OBJ, AUX, DET, NSUB...   \n\n                                                                                  dep_heads  \\\nuid                                                                                           \n57B9D1BEB68F44E7A51D1920F1EA6951E39469B5  [4, 4, 4, 0, 4, 8, 8, 4, 10, 8, 25, 25, 25, 15...   \nD86B38CFA5D2458D9F3615EDD55C9308DF423DB0  [3, 3, 20, 5, 3, 3, 6, 3, 10, 3, 12, 3, 12, 3,...   \n7B3FAB8B01ED862D3D3FA18531B0904BCF24DFF0  [2, 0, 2, 2, 2, 22, 22, 22, 11, 11, 8, 2, 15, ...   \nB003E526D0AA301DA46458D32A82CEEFD7ADADA5  [6, 6, 6, 6, 6, 0, 11, 10, 10, 11, 6, 11, 11, ...   \nC3FFF1CA55CA8FF0A806C33E14A0FB331582698E  [16, 5, 5, 5, 1, 13, 13, 9, 13, 12, 12, 13, 5,...   \n...                                                                                     ...   \nABB2D854C007CDAF94AA0F10FD7CEC5E1BF51033  [3, 3, 9, 9, 9, 7, 9, 9, 0, 12, 12, 9, 16, 16,...   \nB8CBF505FD474F8EFBFF7FDDEC5DA1B3C775B622  [0, 4, 4, 1, 14, 14, 14, 11, 11, 11, 14, 13, 1...   \n3AE63AAADC213E35AD70B3A83D13415FA5EBE61F          [6, 6, 4, 6, 6, 0, 9, 9, 6, 12, 12, 9, 6]   \n79339294317D620CA5F7C70A6F5DED39AAB8F0BD  [3, 3, 6, 5, 3, 0, 6, 9, 6, 11, 6, 26, 26, 15,...   \n572AF707F11010A60B24BC7700543A7BB090D905  [5, 5, 4, 2, 11, 11, 8, 11, 11, 8, 0, 11, 16, ...   \n\n                                                       kees  construction_id  \\\nuid                                                                            \n57B9D1BEB68F44E7A51D1920F1EA6951E39469B5  [geschweige denn]               10   \nD86B38CFA5D2458D9F3615EDD55C9308DF423DB0  [geschweige denn]               10   \n7B3FAB8B01ED862D3D3FA18531B0904BCF24DFF0  [geschweige denn]               10   \nB003E526D0AA301DA46458D32A82CEEFD7ADADA5  [geschweige denn]               10   \nC3FFF1CA55CA8FF0A806C33E14A0FB331582698E  [geschweige denn]               10   \n...                                                     ...              ...   \nABB2D854C007CDAF94AA0F10FD7CEC5E1BF51033               [er]               99   \nB8CBF505FD474F8EFBFF7FDDEC5DA1B3C775B622               [er]               99   \n3AE63AAADC213E35AD70B3A83D13415FA5EBE61F               [er]               99   \n79339294317D620CA5F7C70A6F5DED39AAB8F0BD               [er]               99   \n572AF707F11010A60B24BC7700543A7BB090D905               [er]               99   \n\n                                            category                     name  \nuid                                                                            \n57B9D1BEB68F44E7A51D1920F1EA6951E39469B5    Negation  NEG_X_geschweige_denn_Y  \nD86B38CFA5D2458D9F3615EDD55C9308DF423DB0    Negation  NEG_X_geschweige_denn_Y  \n7B3FAB8B01ED862D3D3FA18531B0904BCF24DFF0    Negation  NEG_X_geschweige_denn_Y  \nB003E526D0AA301DA46458D32A82CEEFD7ADADA5    Negation  NEG_X_geschweige_denn_Y  \nC3FFF1CA55CA8FF0A806C33E14A0FB331582698E    Negation  NEG_X_geschweige_denn_Y  \n...                                              ...                      ...  \nABB2D854C007CDAF94AA0F10FD7CEC5E1BF51033  Komparativ             ADJ-er_als_X  \nB8CBF505FD474F8EFBFF7FDDEC5DA1B3C775B622  Komparativ             ADJ-er_als_X  \n3AE63AAADC213E35AD70B3A83D13415FA5EBE61F  Komparativ             ADJ-er_als_X  \n79339294317D620CA5F7C70A6F5DED39AAB8F0BD  Komparativ             ADJ-er_als_X  \n572AF707F11010A60B24BC7700543A7BB090D905  Komparativ             ADJ-er_als_X  \n\n[7028 rows x 9 columns]",
      "text/html": "<div>\n<style scoped>\n    .dataframe tbody tr th:only-of-type {\n        vertical-align: middle;\n    }\n\n    .dataframe tbody tr th {\n        vertical-align: top;\n    }\n\n    .dataframe thead th {\n        text-align: right;\n    }\n</style>\n<table border=\"1\" class=\"dataframe\">\n  <thead>\n    <tr style=\"text-align: right;\">\n      <th></th>\n      <th>text</th>\n      <th>pos_tags</th>\n      <th>xpos_tags</th>\n      <th>dep_rels</th>\n      <th>dep_heads</th>\n      <th>kees</th>\n      <th>construction_id</th>\n      <th>category</th>\n      <th>name</th>\n    </tr>\n    <tr>\n      <th>uid</th>\n      <th></th>\n      <th></th>\n      <th></th>\n      <th></th>\n      <th></th>\n      <th></th>\n      <th></th>\n      <th></th>\n      <th></th>\n    </tr>\n  </thead>\n  <tbody>\n    <tr>\n      <th>57B9D1BEB68F44E7A51D1920F1EA6951E39469B5</th>\n      <td>Und dann ist da noch das generelle Problem mit...</td>\n      <td>[CCONJ, ADV, AUX, ADV, ADV, DET, ADJ, NOUN, AD...</td>\n      <td>[]</td>\n      <td>[CC, ADVMOD, COP, ROOT, ADVMOD, DET, AMOD, NSU...</td>\n      <td>[4, 4, 4, 0, 4, 8, 8, 4, 10, 8, 25, 25, 25, 15...</td>\n      <td>[geschweige denn]</td>\n      <td>10</td>\n      <td>Negation</td>\n      <td>NEG_X_geschweige_denn_Y</td>\n    </tr>\n    <tr>\n      <th>D86B38CFA5D2458D9F3615EDD55C9308DF423DB0</th>\n      <td>»Ohne Europa sind viele Fragen nicht mehr seri...</td>\n      <td>[PUNCT, PROPN, AUX, ADJ, NOUN, PART, ADV, ADJ,...</td>\n      <td>[]</td>\n      <td>[PUNCT, OBJ, CCOMP, DET, NSUBJ, ADVMOD:NEG, AD...</td>\n      <td>[3, 3, 20, 5, 3, 3, 6, 3, 10, 3, 12, 3, 12, 3,...</td>\n      <td>[geschweige denn]</td>\n      <td>10</td>\n      <td>Negation</td>\n      <td>NEG_X_geschweige_denn_Y</td>\n    </tr>\n    <tr>\n      <th>7B3FAB8B01ED862D3D3FA18531B0904BCF24DFF0</th>\n      <td>Dies lässt sich damit begründen , dass vor und...</td>\n      <td>[PRON, VERB, PRON, ADV, VERB, PUNCT, SCONJ, AD...</td>\n      <td>[]</td>\n      <td>[NSUBJ, ROOT, OBJ, ADVMOD, XCOMP, PUNCT, MARK,...</td>\n      <td>[2, 0, 2, 2, 2, 22, 22, 22, 11, 11, 8, 2, 15, ...</td>\n      <td>[geschweige denn]</td>\n      <td>10</td>\n      <td>Negation</td>\n      <td>NEG_X_geschweige_denn_Y</td>\n    </tr>\n    <tr>\n      <th>B003E526D0AA301DA46458D32A82CEEFD7ADADA5</th>\n      <td>Dennoch hat Hamas es nicht geschafft , ihre mi...</td>\n      <td>[ADV, AUX, PROPN, PRON, PART, VERB, PUNCT, DET...</td>\n      <td>[]</td>\n      <td>[ADVMOD, AUX, NSUBJ, EXPL, ADVMOD:NEG, ROOT, P...</td>\n      <td>[6, 6, 6, 6, 6, 0, 11, 10, 10, 11, 6, 11, 11, ...</td>\n      <td>[geschweige denn]</td>\n      <td>10</td>\n      <td>Negation</td>\n      <td>NEG_X_geschweige_denn_Y</td>\n    </tr>\n    <tr>\n      <th>C3FFF1CA55CA8FF0A806C33E14A0FB331582698E</th>\n      <td>Abermillionen rings um die Welt , die das Spek...</td>\n      <td>[NOUN, ADV, ADP, DET, NOUN, PUNCT, PRON, DET, ...</td>\n      <td>[]</td>\n      <td>[NSUBJ, ADVMOD, CASE, DET, NMOD, PUNCT, NSUBJ,...</td>\n      <td>[16, 5, 5, 5, 1, 13, 13, 9, 13, 12, 12, 13, 5,...</td>\n      <td>[geschweige denn]</td>\n      <td>10</td>\n      <td>Negation</td>\n      <td>NEG_X_geschweige_denn_Y</td>\n    </tr>\n    <tr>\n      <th>...</th>\n      <td>...</td>\n      <td>...</td>\n      <td>...</td>\n      <td>...</td>\n      <td>...</td>\n      <td>...</td>\n      <td>...</td>\n      <td>...</td>\n      <td>...</td>\n    </tr>\n    <tr>\n      <th>ABB2D854C007CDAF94AA0F10FD7CEC5E1BF51033</th>\n      <td>Vor dieser Zeit waren Immobilien in Deutschlan...</td>\n      <td>[ADP, DET, NOUN, AUX, NOUN, ADP, PROPN, ADJ, A...</td>\n      <td>[]</td>\n      <td>[CASE, DET, OBL, COP, NSUBJ, CASE, OBL, ADVMOD...</td>\n      <td>[3, 3, 9, 9, 9, 7, 9, 9, 0, 12, 12, 9, 16, 16,...</td>\n      <td>[er]</td>\n      <td>99</td>\n      <td>Komparativ</td>\n      <td>ADJ-er_als_X</td>\n    </tr>\n    <tr>\n      <th>B8CBF505FD474F8EFBFF7FDDEC5DA1B3C775B622</th>\n      <td>Wichtiger als die Frage , wer sich aus diesem ...</td>\n      <td>[ADJ, ADP, DET, NOUN, PUNCT, PRON, PRON, ADP, ...</td>\n      <td>[]</td>\n      <td>[ROOT, CASE, DET, OBL, PUNCT, NSUBJ, IOBJ, CAS...</td>\n      <td>[0, 4, 4, 1, 14, 14, 14, 11, 11, 11, 14, 13, 1...</td>\n      <td>[er]</td>\n      <td>99</td>\n      <td>Komparativ</td>\n      <td>ADJ-er_als_X</td>\n    </tr>\n    <tr>\n      <th>3AE63AAADC213E35AD70B3A83D13415FA5EBE61F</th>\n      <td>Damit wäre der Geländewagen deutlich günstiger...</td>\n      <td>[ADV, AUX, DET, NOUN, ADJ, ADJ, ADP, ADJ, NOUN...</td>\n      <td>[]</td>\n      <td>[ADVMOD, COP, DET, NSUBJ, ADVMOD, ROOT, CASE, ...</td>\n      <td>[6, 6, 4, 6, 6, 0, 9, 9, 6, 12, 12, 9, 6]</td>\n      <td>[er]</td>\n      <td>99</td>\n      <td>Komparativ</td>\n      <td>ADJ-er_als_X</td>\n    </tr>\n    <tr>\n      <th>79339294317D620CA5F7C70A6F5DED39AAB8F0BD</th>\n      <td>Auch andere Unternehmen wie Uber kooperieren i...</td>\n      <td>[ADV, ADJ, NOUN, ADP, PROPN, VERB, ADV, ADP, P...</td>\n      <td>[]</td>\n      <td>[ADVMOD, AMOD, NSUBJ, CASE, NMOD, ROOT, ADVMOD...</td>\n      <td>[3, 3, 6, 5, 3, 0, 6, 9, 6, 11, 6, 26, 26, 15,...</td>\n      <td>[er]</td>\n      <td>99</td>\n      <td>Komparativ</td>\n      <td>ADJ-er_als_X</td>\n    </tr>\n    <tr>\n      <th>572AF707F11010A60B24BC7700543A7BB090D905</th>\n      <td>Rund 45 . 000 Dollar soll der Byton - SUV kost...</td>\n      <td>[ADV, NUM, NUM, NUM, NOUN, AUX, DET, NOUN, PUN...</td>\n      <td>[]</td>\n      <td>[ADVMOD, NUMMOD, CC, CONJ, OBJ, AUX, DET, NSUB...</td>\n      <td>[5, 5, 4, 2, 11, 11, 8, 11, 11, 8, 0, 11, 16, ...</td>\n      <td>[er]</td>\n      <td>99</td>\n      <td>Komparativ</td>\n      <td>ADJ-er_als_X</td>\n    </tr>\n  </tbody>\n</table>\n<p>7028 rows × 9 columns</p>\n</div>"
     },
     "execution_count": 10,
     "metadata": {},
     "output_type": "execute_result"
    }
   ],
   "source": [
    "def parse_sentences(xml_file):\n",
    "    tree = ET.parse(xml_file)\n",
    "    root = tree.getroot()\n",
    "\n",
    "    construction_id = root.attrib.get('id')\n",
    "    try:\n",
    "        category, name = root.attrib.get('name').split(':')\n",
    "    except ValueError:\n",
    "        category = root.attrib.get('name')\n",
    "        name = None\n",
    "\n",
    "    sentences_data = []\n",
    "    \n",
    "    for sentence in root.findall('.//sentence'):\n",
    "        if sentence.attrib.get('uid') is None:\n",
    "            continue\n",
    "        uid = sentence.attrib.get('uid')\n",
    "        text = sentence.find('.//text').text.strip()\n",
    "        \n",
    "        text_pos = []\n",
    "        text_xpos = []\n",
    "        text_dep = []\n",
    "        text_head = []\n",
    "        kees = []\n",
    "        \n",
    "        # Loop through annotations:\n",
    "        for layer in sentence.findall('.//layer'):\n",
    "            layer_name = layer.attrib.get('name')\n",
    "            \n",
    "            if \"KEE-\" in layer_name:\n",
    "                # Loop over all KEEs or KEs:\n",
    "                for label in layer.findall('.//label'):\n",
    "                    start = int(label.attrib.get('start'))\n",
    "                    end = int(label.attrib.get('end'))\n",
    "                    kees.append(text[start:end])  # Read the KEE\n",
    "            if \"UPOS\" == layer_name:\n",
    "                for label in layer.findall('.//label'):\n",
    "                    text_pos.append(label.attrib.get('name'))\n",
    "            elif \"XPOS\" == layer_name:\n",
    "                for label in layer.findall('.//label'):\n",
    "                    text_xpos.append(label.attrib.get('name'))\n",
    "            elif \"DEP_REL\" == layer_name:\n",
    "                for label in layer.findall('.//label'):\n",
    "                    text_dep.append(label.attrib.get('name'))\n",
    "            elif \"DEP_HEAD\" == layer_name:\n",
    "                for label in layer.findall('.//label'):\n",
    "                    text_head.append(label.attrib.get('name'))\n",
    "        \n",
    "        \n",
    "        sentences_data.append({\n",
    "            'uid': uid,\n",
    "            'text': text,\n",
    "            \"pos_tags\": text_pos,\n",
    "            \"xpos_tags\": text_xpos,\n",
    "            \"dep_rels\": text_dep,\n",
    "            \"dep_heads\": text_head,\n",
    "            \"kees\": kees,\n",
    "            'construction_id': int(construction_id),\n",
    "            'category': category,\n",
    "            'name': name\n",
    "        })\n",
    "\n",
    "    return sentences_data\n",
    "\n",
    "kee_list = []\n",
    "xml_directory = '../../data/constructicon/construction'\n",
    "\n",
    "for filename in tqdm(list(os.listdir(xml_directory))):\n",
    "    if filename.endswith('.xml'):\n",
    "        constr_id = Path(filename).stem\n",
    "        if b\"fa-triangle-exclamation\" in requests.get(f\"https://gsw.phil.hhu.de/constructicon/construction?id={constr_id}\").content:\n",
    "            print(constr_id, \"does not exist online!\")\n",
    "            continue\n",
    "        xml_file = os.path.join(xml_directory, filename)\n",
    "        data = parse_sentences(xml_file)\n",
    "        if data:\n",
    "            kee_list += data\n",
    "        time.sleep(.5)\n",
    "\n",
    "sentences = pd.DataFrame.from_dict(kee_list)\n",
    "sentences.set_index('uid', inplace=True)\n",
    "sentences"
   ],
   "metadata": {
    "collapsed": false,
    "ExecuteTime": {
     "end_time": "2023-12-16T14:25:37.389502700Z",
     "start_time": "2023-12-16T14:19:42.775850500Z"
    }
   },
   "id": "a242c7acdc0e8190"
  },
  {
   "cell_type": "code",
   "execution_count": 15,
   "outputs": [],
   "source": [
    "# Pickle contextleft and text with construction_id as index for generation purposes later:\n",
    "sentences.to_csv(\"../../data/pseudowords/annotations.csv\")"
   ],
   "metadata": {
    "collapsed": false,
    "ExecuteTime": {
     "end_time": "2023-12-16T14:41:35.205270500Z",
     "start_time": "2023-12-16T14:41:35.059759400Z"
    }
   },
   "id": "fcee43edc38c0ff3"
  }
 ],
 "metadata": {
  "kernelspec": {
   "display_name": "Python 3",
   "language": "python",
   "name": "python3"
  },
  "language_info": {
   "codemirror_mode": {
    "name": "ipython",
    "version": 2
   },
   "file_extension": ".py",
   "mimetype": "text/x-python",
   "name": "python",
   "nbconvert_exporter": "python",
   "pygments_lexer": "ipython2",
   "version": "2.7.6"
  }
 },
 "nbformat": 4,
 "nbformat_minor": 5
}
