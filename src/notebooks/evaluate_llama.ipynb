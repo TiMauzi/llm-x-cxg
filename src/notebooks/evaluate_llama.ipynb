{
 "cells": [
  {
   "cell_type": "code",
   "execution_count": 1,
   "id": "initial_id",
   "metadata": {
    "collapsed": true,
    "ExecuteTime": {
     "end_time": "2023-12-11T21:11:24.114887800Z",
     "start_time": "2023-12-11T21:11:18.610468800Z"
    }
   },
   "outputs": [
    {
     "name": "stderr",
     "output_type": "stream",
     "text": [
      "[nltk_data] Downloading package stopwords to\n",
      "[nltk_data]     C:\\Users\\Tim\\AppData\\Roaming\\nltk_data...\n",
      "[nltk_data]   Package stopwords is already up-to-date!\n"
     ]
    }
   ],
   "source": [
    "import pickle\n",
    "import re\n",
    "\n",
    "from Levenshtein import ratio\n",
    "import pandas as pd\n",
    "\n",
    "import nltk\n",
    "from nltk.corpus import stopwords\n",
    "nltk.download(\"stopwords\")\n",
    "\n",
    "from tqdm.notebook import tqdm\n",
    "tqdm.pandas()"
   ]
  },
  {
   "cell_type": "code",
   "execution_count": 2,
   "outputs": [
    {
     "data": {
      "text/plain": "                                             definition examples  \\\n10    Die \"Negation:NEG_XgeschweigedennY-Konstruktio...       []   \n100   Die \"Äquativ_Plural-Konstruktion\" gehört zu de...       []   \n1004  Die \"Superlativ_Klimax:ADJ1_ADJ1-er_NP-Konstru...       []   \n1006  Die \"Superlativ:PRÄP_ADJ-ster_NP-Konstruktion\"...       []   \n101   Die \"Äquativ:ADJwieNP-Konstruktion\" gehört zu ...       []   \n...                                                 ...      ...   \n97    Die \"Komparativ:ADJ1-eralsADJ1-Konstruktion\" g...       []   \n973   Bei \"Disjunktion_Doppeltitel:XoderY\" handelt e...       []   \n976   Bei \"Korrelation_Affirmation:WoXist, istY\" han...       []   \n98    Die \"Äquativ:soADJwieXP-Konstruktion\" gehört z...       []   \n99    Die \"Komparativ:ADJ-eralsX-Konstruktion\" gehör...       []   \n\n                                              generated  \n10    [\"Die meisten von ihnen haben zuvor noch nie e...  \n100   [\"Die Katsup-Bottel sind gleich stark wie die ...  \n1004  [\"Die meiste Zeit verbringen die Schüler im Kl...  \n1006  [\"Die Sache ist die beste, die ich je gemacht ...  \n101   [\"Das Auto fährt schnell wie ein Flugzeug.\", \"...  \n...                                                 ...  \n97    [\"Ein Mann, der im Vergleich zu seinem Bruder ...  \n973                                          [\"XoderY\"]  \n976   [\"Wo es regnet, ist es auch dunkel.\", \"Wo es l...  \n98                [\"X\", \"so\", \"so\", \"groß\", \"als\", \"Y\"]  \n99    [\"Das Auto ist grösser als das Motorrad.\", \"Da...  \n\n[211 rows x 3 columns]",
      "text/html": "<div>\n<style scoped>\n    .dataframe tbody tr th:only-of-type {\n        vertical-align: middle;\n    }\n\n    .dataframe tbody tr th {\n        vertical-align: top;\n    }\n\n    .dataframe thead th {\n        text-align: right;\n    }\n</style>\n<table border=\"1\" class=\"dataframe\">\n  <thead>\n    <tr style=\"text-align: right;\">\n      <th></th>\n      <th>definition</th>\n      <th>examples</th>\n      <th>generated</th>\n    </tr>\n  </thead>\n  <tbody>\n    <tr>\n      <th>10</th>\n      <td>Die \"Negation:NEG_XgeschweigedennY-Konstruktio...</td>\n      <td>[]</td>\n      <td>[\"Die meisten von ihnen haben zuvor noch nie e...</td>\n    </tr>\n    <tr>\n      <th>100</th>\n      <td>Die \"Äquativ_Plural-Konstruktion\" gehört zu de...</td>\n      <td>[]</td>\n      <td>[\"Die Katsup-Bottel sind gleich stark wie die ...</td>\n    </tr>\n    <tr>\n      <th>1004</th>\n      <td>Die \"Superlativ_Klimax:ADJ1_ADJ1-er_NP-Konstru...</td>\n      <td>[]</td>\n      <td>[\"Die meiste Zeit verbringen die Schüler im Kl...</td>\n    </tr>\n    <tr>\n      <th>1006</th>\n      <td>Die \"Superlativ:PRÄP_ADJ-ster_NP-Konstruktion\"...</td>\n      <td>[]</td>\n      <td>[\"Die Sache ist die beste, die ich je gemacht ...</td>\n    </tr>\n    <tr>\n      <th>101</th>\n      <td>Die \"Äquativ:ADJwieNP-Konstruktion\" gehört zu ...</td>\n      <td>[]</td>\n      <td>[\"Das Auto fährt schnell wie ein Flugzeug.\", \"...</td>\n    </tr>\n    <tr>\n      <th>...</th>\n      <td>...</td>\n      <td>...</td>\n      <td>...</td>\n    </tr>\n    <tr>\n      <th>97</th>\n      <td>Die \"Komparativ:ADJ1-eralsADJ1-Konstruktion\" g...</td>\n      <td>[]</td>\n      <td>[\"Ein Mann, der im Vergleich zu seinem Bruder ...</td>\n    </tr>\n    <tr>\n      <th>973</th>\n      <td>Bei \"Disjunktion_Doppeltitel:XoderY\" handelt e...</td>\n      <td>[]</td>\n      <td>[\"XoderY\"]</td>\n    </tr>\n    <tr>\n      <th>976</th>\n      <td>Bei \"Korrelation_Affirmation:WoXist, istY\" han...</td>\n      <td>[]</td>\n      <td>[\"Wo es regnet, ist es auch dunkel.\", \"Wo es l...</td>\n    </tr>\n    <tr>\n      <th>98</th>\n      <td>Die \"Äquativ:soADJwieXP-Konstruktion\" gehört z...</td>\n      <td>[]</td>\n      <td>[\"X\", \"so\", \"so\", \"groß\", \"als\", \"Y\"]</td>\n    </tr>\n    <tr>\n      <th>99</th>\n      <td>Die \"Komparativ:ADJ-eralsX-Konstruktion\" gehör...</td>\n      <td>[]</td>\n      <td>[\"Das Auto ist grösser als das Motorrad.\", \"Da...</td>\n    </tr>\n  </tbody>\n</table>\n<p>211 rows × 3 columns</p>\n</div>"
     },
     "execution_count": 2,
     "metadata": {},
     "output_type": "execute_result"
    }
   ],
   "source": [
    "examples = {}\n",
    "\n",
    "for i in range(0, 5):\n",
    "    with open(\"../../out/definitions.pickle\", \"rb\") as definitions_file:\n",
    "        with open(f\"../../out/llama/examples_{i}_shot_v4.pickle\", \"rb\") as examples_file:\n",
    "            examples[i] = {}\n",
    "            cur_definitions = pickle.load(definitions_file)\n",
    "            cur_examples = pickle.load(examples_file)\n",
    "            for (d, de), ex in zip(cur_definitions.items(), cur_examples):\n",
    "                if i == 0:\n",
    "                    examples[i][d] = (de, [], ex)\n",
    "                else:\n",
    "                    examples[i][d] = (de, *ex[:2])\n",
    "    examples[i] = pd.DataFrame.from_dict(examples[i], orient=\"index\", columns=[\"definition\", \"examples\", \"generated\"])\n",
    "    \n",
    "examples[0]"
   ],
   "metadata": {
    "collapsed": false,
    "ExecuteTime": {
     "end_time": "2023-12-11T21:11:24.152713500Z",
     "start_time": "2023-12-11T21:11:24.121103400Z"
    }
   },
   "id": "bc1199bc3ed27131"
  },
  {
   "cell_type": "markdown",
   "source": [
    "## Llama-2:\n",
    "### Anzahl Beispielsätze:"
   ],
   "metadata": {
    "collapsed": false
   },
   "id": "e2e4ba2002cf24b5"
  },
  {
   "cell_type": "code",
   "execution_count": 3,
   "outputs": [],
   "source": [
    "def evaluate_string(s):\n",
    "    try:\n",
    "        evaluated_value = eval(s)\n",
    "        \n",
    "        if isinstance(evaluated_value, list):\n",
    "            \n",
    "            return [str(e) for e in evaluated_value]  # muss String sein!\n",
    "        \n",
    "    except (SyntaxError, ValueError):\n",
    "        return [s.replace(\"[\", \"\").replace(\"]\", \"\")]"
   ],
   "metadata": {
    "collapsed": false,
    "ExecuteTime": {
     "end_time": "2023-12-11T21:11:24.169217600Z",
     "start_time": "2023-12-11T21:11:24.146478200Z"
    }
   },
   "id": "15396b32d54de431"
  },
  {
   "cell_type": "code",
   "execution_count": 4,
   "outputs": [
    {
     "data": {
      "text/plain": "                                             definition examples  \\\n10    Die \"Negation:NEG_XgeschweigedennY-Konstruktio...       []   \n100   Die \"Äquativ_Plural-Konstruktion\" gehört zu de...       []   \n1004  Die \"Superlativ_Klimax:ADJ1_ADJ1-er_NP-Konstru...       []   \n1006  Die \"Superlativ:PRÄP_ADJ-ster_NP-Konstruktion\"...       []   \n101   Die \"Äquativ:ADJwieNP-Konstruktion\" gehört zu ...       []   \n...                                                 ...      ...   \n97    Die \"Komparativ:ADJ1-eralsADJ1-Konstruktion\" g...       []   \n973   Bei \"Disjunktion_Doppeltitel:XoderY\" handelt e...       []   \n976   Bei \"Korrelation_Affirmation:WoXist, istY\" han...       []   \n98    Die \"Äquativ:soADJwieXP-Konstruktion\" gehört z...       []   \n99    Die \"Komparativ:ADJ-eralsX-Konstruktion\" gehör...       []   \n\n                                              generated  \\\n10    [\"Die meisten von ihnen haben zuvor noch nie e...   \n100   [\"Die Katsup-Bottel sind gleich stark wie die ...   \n1004  [\"Die meiste Zeit verbringen die Schüler im Kl...   \n1006  [\"Die Sache ist die beste, die ich je gemacht ...   \n101   [\"Das Auto fährt schnell wie ein Flugzeug.\", \"...   \n...                                                 ...   \n97    [\"Ein Mann, der im Vergleich zu seinem Bruder ...   \n973                                          [\"XoderY\"]   \n976   [\"Wo es regnet, ist es auch dunkel.\", \"Wo es l...   \n98                [\"X\", \"so\", \"so\", \"groß\", \"als\", \"Y\"]   \n99    [\"Das Auto ist grösser als das Motorrad.\", \"Da...   \n\n                                    evaluated_generated  num_generated  \n10    [Die meisten von ihnen haben zuvor noch nie ei...              2  \n100   [Die Katsup-Bottel sind gleich stark wie die K...              3  \n1004  [Die meiste Zeit verbringen die Schüler im Kla...              5  \n1006  [Die Sache ist die beste, die ich je gemacht h...              1  \n101   [Das Auto fährt schnell wie ein Flugzeug., Das...              6  \n...                                                 ...            ...  \n97    [Ein Mann, der im Vergleich zu seinem Bruder s...              4  \n973                                            [XoderY]              1  \n976   [Wo es regnet, ist es auch dunkel., Wo es leic...              5  \n98                            [X, so, so, groß, als, Y]              6  \n99    [Das Auto ist grösser als das Motorrad., Das H...              4  \n\n[211 rows x 5 columns]",
      "text/html": "<div>\n<style scoped>\n    .dataframe tbody tr th:only-of-type {\n        vertical-align: middle;\n    }\n\n    .dataframe tbody tr th {\n        vertical-align: top;\n    }\n\n    .dataframe thead th {\n        text-align: right;\n    }\n</style>\n<table border=\"1\" class=\"dataframe\">\n  <thead>\n    <tr style=\"text-align: right;\">\n      <th></th>\n      <th>definition</th>\n      <th>examples</th>\n      <th>generated</th>\n      <th>evaluated_generated</th>\n      <th>num_generated</th>\n    </tr>\n  </thead>\n  <tbody>\n    <tr>\n      <th>10</th>\n      <td>Die \"Negation:NEG_XgeschweigedennY-Konstruktio...</td>\n      <td>[]</td>\n      <td>[\"Die meisten von ihnen haben zuvor noch nie e...</td>\n      <td>[Die meisten von ihnen haben zuvor noch nie ei...</td>\n      <td>2</td>\n    </tr>\n    <tr>\n      <th>100</th>\n      <td>Die \"Äquativ_Plural-Konstruktion\" gehört zu de...</td>\n      <td>[]</td>\n      <td>[\"Die Katsup-Bottel sind gleich stark wie die ...</td>\n      <td>[Die Katsup-Bottel sind gleich stark wie die K...</td>\n      <td>3</td>\n    </tr>\n    <tr>\n      <th>1004</th>\n      <td>Die \"Superlativ_Klimax:ADJ1_ADJ1-er_NP-Konstru...</td>\n      <td>[]</td>\n      <td>[\"Die meiste Zeit verbringen die Schüler im Kl...</td>\n      <td>[Die meiste Zeit verbringen die Schüler im Kla...</td>\n      <td>5</td>\n    </tr>\n    <tr>\n      <th>1006</th>\n      <td>Die \"Superlativ:PRÄP_ADJ-ster_NP-Konstruktion\"...</td>\n      <td>[]</td>\n      <td>[\"Die Sache ist die beste, die ich je gemacht ...</td>\n      <td>[Die Sache ist die beste, die ich je gemacht h...</td>\n      <td>1</td>\n    </tr>\n    <tr>\n      <th>101</th>\n      <td>Die \"Äquativ:ADJwieNP-Konstruktion\" gehört zu ...</td>\n      <td>[]</td>\n      <td>[\"Das Auto fährt schnell wie ein Flugzeug.\", \"...</td>\n      <td>[Das Auto fährt schnell wie ein Flugzeug., Das...</td>\n      <td>6</td>\n    </tr>\n    <tr>\n      <th>...</th>\n      <td>...</td>\n      <td>...</td>\n      <td>...</td>\n      <td>...</td>\n      <td>...</td>\n    </tr>\n    <tr>\n      <th>97</th>\n      <td>Die \"Komparativ:ADJ1-eralsADJ1-Konstruktion\" g...</td>\n      <td>[]</td>\n      <td>[\"Ein Mann, der im Vergleich zu seinem Bruder ...</td>\n      <td>[Ein Mann, der im Vergleich zu seinem Bruder s...</td>\n      <td>4</td>\n    </tr>\n    <tr>\n      <th>973</th>\n      <td>Bei \"Disjunktion_Doppeltitel:XoderY\" handelt e...</td>\n      <td>[]</td>\n      <td>[\"XoderY\"]</td>\n      <td>[XoderY]</td>\n      <td>1</td>\n    </tr>\n    <tr>\n      <th>976</th>\n      <td>Bei \"Korrelation_Affirmation:WoXist, istY\" han...</td>\n      <td>[]</td>\n      <td>[\"Wo es regnet, ist es auch dunkel.\", \"Wo es l...</td>\n      <td>[Wo es regnet, ist es auch dunkel., Wo es leic...</td>\n      <td>5</td>\n    </tr>\n    <tr>\n      <th>98</th>\n      <td>Die \"Äquativ:soADJwieXP-Konstruktion\" gehört z...</td>\n      <td>[]</td>\n      <td>[\"X\", \"so\", \"so\", \"groß\", \"als\", \"Y\"]</td>\n      <td>[X, so, so, groß, als, Y]</td>\n      <td>6</td>\n    </tr>\n    <tr>\n      <th>99</th>\n      <td>Die \"Komparativ:ADJ-eralsX-Konstruktion\" gehör...</td>\n      <td>[]</td>\n      <td>[\"Das Auto ist grösser als das Motorrad.\", \"Da...</td>\n      <td>[Das Auto ist grösser als das Motorrad., Das H...</td>\n      <td>4</td>\n    </tr>\n  </tbody>\n</table>\n<p>211 rows × 5 columns</p>\n</div>"
     },
     "execution_count": 4,
     "metadata": {},
     "output_type": "execute_result"
    }
   ],
   "source": [
    "for example_group in examples.values():\n",
    "    example_group['evaluated_generated'] = example_group['generated'].apply(evaluate_string)\n",
    "    example_group['num_generated'] = example_group['evaluated_generated'].apply(len)\n",
    "\n",
    "examples[0]"
   ],
   "metadata": {
    "collapsed": false,
    "ExecuteTime": {
     "end_time": "2023-12-11T21:11:24.250743100Z",
     "start_time": "2023-12-11T21:11:24.152713500Z"
    }
   },
   "id": "b942dabeea68e18a"
  },
  {
   "cell_type": "code",
   "execution_count": 5,
   "outputs": [
    {
     "data": {
      "text/plain": "3.4739336492890995"
     },
     "execution_count": 5,
     "metadata": {},
     "output_type": "execute_result"
    }
   ],
   "source": [
    "examples[0][\"num_generated\"].mean()"
   ],
   "metadata": {
    "collapsed": false,
    "ExecuteTime": {
     "end_time": "2023-12-11T21:11:24.251741200Z",
     "start_time": "2023-12-11T21:11:24.191718400Z"
    }
   },
   "id": "8de257898d03a33a"
  },
  {
   "cell_type": "code",
   "execution_count": 6,
   "outputs": [
    {
     "data": {
      "text/plain": "0    3\nName: num_generated, dtype: int64"
     },
     "execution_count": 6,
     "metadata": {},
     "output_type": "execute_result"
    }
   ],
   "source": [
    "examples[0][\"num_generated\"].mode()  # Häufigste Anzahl Beispielsätze (Modalwert)"
   ],
   "metadata": {
    "collapsed": false,
    "ExecuteTime": {
     "end_time": "2023-12-11T21:11:24.251741200Z",
     "start_time": "2023-12-11T21:11:24.197854300Z"
    }
   },
   "id": "677767b998e24664"
  },
  {
   "cell_type": "markdown",
   "source": [
    "### Anzahl unterschiedlicher Beispielsätze"
   ],
   "metadata": {
    "collapsed": false
   },
   "id": "95a1b21f45c21d4b"
  },
  {
   "cell_type": "code",
   "execution_count": 7,
   "outputs": [],
   "source": [
    "for example_group in examples.values():\n",
    "    example_group['unique_generated'] = example_group['evaluated_generated'].apply(lambda x: len(set(x)))"
   ],
   "metadata": {
    "collapsed": false,
    "ExecuteTime": {
     "end_time": "2023-12-11T21:11:24.251741200Z",
     "start_time": "2023-12-11T21:11:24.204468100Z"
    }
   },
   "id": "25aca6b94b741f22"
  },
  {
   "cell_type": "code",
   "execution_count": 8,
   "outputs": [
    {
     "data": {
      "text/plain": "                                             definition examples  \\\n10    Die \"Negation:NEG_XgeschweigedennY-Konstruktio...       []   \n100   Die \"Äquativ_Plural-Konstruktion\" gehört zu de...       []   \n1004  Die \"Superlativ_Klimax:ADJ1_ADJ1-er_NP-Konstru...       []   \n1006  Die \"Superlativ:PRÄP_ADJ-ster_NP-Konstruktion\"...       []   \n101   Die \"Äquativ:ADJwieNP-Konstruktion\" gehört zu ...       []   \n...                                                 ...      ...   \n97    Die \"Komparativ:ADJ1-eralsADJ1-Konstruktion\" g...       []   \n973   Bei \"Disjunktion_Doppeltitel:XoderY\" handelt e...       []   \n976   Bei \"Korrelation_Affirmation:WoXist, istY\" han...       []   \n98    Die \"Äquativ:soADJwieXP-Konstruktion\" gehört z...       []   \n99    Die \"Komparativ:ADJ-eralsX-Konstruktion\" gehör...       []   \n\n                                              generated  \\\n10    [\"Die meisten von ihnen haben zuvor noch nie e...   \n100   [\"Die Katsup-Bottel sind gleich stark wie die ...   \n1004  [\"Die meiste Zeit verbringen die Schüler im Kl...   \n1006  [\"Die Sache ist die beste, die ich je gemacht ...   \n101   [\"Das Auto fährt schnell wie ein Flugzeug.\", \"...   \n...                                                 ...   \n97    [\"Ein Mann, der im Vergleich zu seinem Bruder ...   \n973                                          [\"XoderY\"]   \n976   [\"Wo es regnet, ist es auch dunkel.\", \"Wo es l...   \n98                [\"X\", \"so\", \"so\", \"groß\", \"als\", \"Y\"]   \n99    [\"Das Auto ist grösser als das Motorrad.\", \"Da...   \n\n                                    evaluated_generated  num_generated  \\\n10    [Die meisten von ihnen haben zuvor noch nie ei...              2   \n100   [Die Katsup-Bottel sind gleich stark wie die K...              3   \n1004  [Die meiste Zeit verbringen die Schüler im Kla...              5   \n1006  [Die Sache ist die beste, die ich je gemacht h...              1   \n101   [Das Auto fährt schnell wie ein Flugzeug., Das...              6   \n...                                                 ...            ...   \n97    [Ein Mann, der im Vergleich zu seinem Bruder s...              4   \n973                                            [XoderY]              1   \n976   [Wo es regnet, ist es auch dunkel., Wo es leic...              5   \n98                            [X, so, so, groß, als, Y]              6   \n99    [Das Auto ist grösser als das Motorrad., Das H...              4   \n\n      unique_generated  \n10                   2  \n100                  3  \n1004                 5  \n1006                 1  \n101                  6  \n...                ...  \n97                   4  \n973                  1  \n976                  5  \n98                   5  \n99                   4  \n\n[211 rows x 6 columns]",
      "text/html": "<div>\n<style scoped>\n    .dataframe tbody tr th:only-of-type {\n        vertical-align: middle;\n    }\n\n    .dataframe tbody tr th {\n        vertical-align: top;\n    }\n\n    .dataframe thead th {\n        text-align: right;\n    }\n</style>\n<table border=\"1\" class=\"dataframe\">\n  <thead>\n    <tr style=\"text-align: right;\">\n      <th></th>\n      <th>definition</th>\n      <th>examples</th>\n      <th>generated</th>\n      <th>evaluated_generated</th>\n      <th>num_generated</th>\n      <th>unique_generated</th>\n    </tr>\n  </thead>\n  <tbody>\n    <tr>\n      <th>10</th>\n      <td>Die \"Negation:NEG_XgeschweigedennY-Konstruktio...</td>\n      <td>[]</td>\n      <td>[\"Die meisten von ihnen haben zuvor noch nie e...</td>\n      <td>[Die meisten von ihnen haben zuvor noch nie ei...</td>\n      <td>2</td>\n      <td>2</td>\n    </tr>\n    <tr>\n      <th>100</th>\n      <td>Die \"Äquativ_Plural-Konstruktion\" gehört zu de...</td>\n      <td>[]</td>\n      <td>[\"Die Katsup-Bottel sind gleich stark wie die ...</td>\n      <td>[Die Katsup-Bottel sind gleich stark wie die K...</td>\n      <td>3</td>\n      <td>3</td>\n    </tr>\n    <tr>\n      <th>1004</th>\n      <td>Die \"Superlativ_Klimax:ADJ1_ADJ1-er_NP-Konstru...</td>\n      <td>[]</td>\n      <td>[\"Die meiste Zeit verbringen die Schüler im Kl...</td>\n      <td>[Die meiste Zeit verbringen die Schüler im Kla...</td>\n      <td>5</td>\n      <td>5</td>\n    </tr>\n    <tr>\n      <th>1006</th>\n      <td>Die \"Superlativ:PRÄP_ADJ-ster_NP-Konstruktion\"...</td>\n      <td>[]</td>\n      <td>[\"Die Sache ist die beste, die ich je gemacht ...</td>\n      <td>[Die Sache ist die beste, die ich je gemacht h...</td>\n      <td>1</td>\n      <td>1</td>\n    </tr>\n    <tr>\n      <th>101</th>\n      <td>Die \"Äquativ:ADJwieNP-Konstruktion\" gehört zu ...</td>\n      <td>[]</td>\n      <td>[\"Das Auto fährt schnell wie ein Flugzeug.\", \"...</td>\n      <td>[Das Auto fährt schnell wie ein Flugzeug., Das...</td>\n      <td>6</td>\n      <td>6</td>\n    </tr>\n    <tr>\n      <th>...</th>\n      <td>...</td>\n      <td>...</td>\n      <td>...</td>\n      <td>...</td>\n      <td>...</td>\n      <td>...</td>\n    </tr>\n    <tr>\n      <th>97</th>\n      <td>Die \"Komparativ:ADJ1-eralsADJ1-Konstruktion\" g...</td>\n      <td>[]</td>\n      <td>[\"Ein Mann, der im Vergleich zu seinem Bruder ...</td>\n      <td>[Ein Mann, der im Vergleich zu seinem Bruder s...</td>\n      <td>4</td>\n      <td>4</td>\n    </tr>\n    <tr>\n      <th>973</th>\n      <td>Bei \"Disjunktion_Doppeltitel:XoderY\" handelt e...</td>\n      <td>[]</td>\n      <td>[\"XoderY\"]</td>\n      <td>[XoderY]</td>\n      <td>1</td>\n      <td>1</td>\n    </tr>\n    <tr>\n      <th>976</th>\n      <td>Bei \"Korrelation_Affirmation:WoXist, istY\" han...</td>\n      <td>[]</td>\n      <td>[\"Wo es regnet, ist es auch dunkel.\", \"Wo es l...</td>\n      <td>[Wo es regnet, ist es auch dunkel., Wo es leic...</td>\n      <td>5</td>\n      <td>5</td>\n    </tr>\n    <tr>\n      <th>98</th>\n      <td>Die \"Äquativ:soADJwieXP-Konstruktion\" gehört z...</td>\n      <td>[]</td>\n      <td>[\"X\", \"so\", \"so\", \"groß\", \"als\", \"Y\"]</td>\n      <td>[X, so, so, groß, als, Y]</td>\n      <td>6</td>\n      <td>5</td>\n    </tr>\n    <tr>\n      <th>99</th>\n      <td>Die \"Komparativ:ADJ-eralsX-Konstruktion\" gehör...</td>\n      <td>[]</td>\n      <td>[\"Das Auto ist grösser als das Motorrad.\", \"Da...</td>\n      <td>[Das Auto ist grösser als das Motorrad., Das H...</td>\n      <td>4</td>\n      <td>4</td>\n    </tr>\n  </tbody>\n</table>\n<p>211 rows × 6 columns</p>\n</div>"
     },
     "execution_count": 8,
     "metadata": {},
     "output_type": "execute_result"
    }
   ],
   "source": [
    "examples[0]"
   ],
   "metadata": {
    "collapsed": false,
    "ExecuteTime": {
     "end_time": "2023-12-11T21:11:24.252739700Z",
     "start_time": "2023-12-11T21:11:24.222190200Z"
    }
   },
   "id": "18cda87b8b05bbe6"
  },
  {
   "cell_type": "markdown",
   "source": [
    "In diesen Ausgaben unterscheiden sich die Anzahl der generierten Beispiele und die Anzahl der tatsächlich unterschiedlichen Beispiele:"
   ],
   "metadata": {
    "collapsed": false
   },
   "id": "e418ffdc947e7e35"
  },
  {
   "cell_type": "code",
   "execution_count": 9,
   "outputs": [
    {
     "name": "stdout",
     "output_type": "stream",
     "text": [
      "9.47867298578199 %\n"
     ]
    },
    {
     "data": {
      "text/plain": "                                             definition examples  \\\n1043  Die Konstruktion \"Spezifizierung_Entität:Satzw...       []   \n1134  Die \"Additiv_Koordination:sowohlXalsauchY\" umf...       []   \n130   Die Konstruktion \"Äquativ:Ein_X1_ohne_Y1_ist_w...       []   \n1320  Bei der \"Diminutiv:N-lein-Konstruktion\" handel...       []   \n1461  Die \"Kategorisierung:Das_Leben_ist_keinNP-Kons...       []   \n1594  Die Konstruktion \"Prototyp_Kompositum:Muster-N...       []   \n1624  Die Konstruktion \"Koordination_morphologisch:K...       []   \n1637  Bei der Konstruktion \"Einordnung_Gattung:Klamm...       []   \n1639  Mit der Konstruktion Einordnung_Nation:Klammer...       []   \n1643  Mit der Konstruktion \"Entsprechung_Zeitangabe:...       []   \n1772  Die \"Indirekte_Redewiedergabe:vonwegenX-Konstr...       []   \n1849  Die \"Interrogativ_rhetorisch:NPundX-Konstrukti...       []   \n1987  Die Konstruktion \"Intensivierung:sehrV\" gehört...       []   \n21    Die \"Exklamativ:dass_VL-Konstruktion\" bringt e...       []   \n350   Die \"Reduplikation_Kontinuität:N1_PRÄP_N1-Kons...       []   \n392   Die \"Konjunktiv:würdeV.inf-Konstruktion\" gehör...       []   \n663   Die Konstruktion \"Intensivierung_Elativkomposi...       []   \n683   Die <strong>Intensivierung:<em>mit_Abstand</em...       []   \n757   Die <strong>Intensivierung_Hervorhebung:ART_NP...       []   \n98    Die \"Äquativ:soADJwieXP-Konstruktion\" gehört z...       []   \n\n                                              generated  \\\n1043  [\"Der junge Mann mit dem roten Mantel\", \"Der M...   \n1134  [\"Das Auto fährt sowohl autotox als hybrid.\", ...   \n130   [\"Das Leben ohne Konsum ist wie ein Leben ohne...   \n1320  [\"Die Katze fährt auf der Füße\", \"Das Auto fäh...   \n1461  [\"Das Leben ist kein Nicht-Identitäts-Konstruk...   \n1594  [\"Ein prototypisches Schreibtischmodell\", \"Ein...   \n1624  [\"Das gemusterte Bettmuster\", \"Das gemusterte ...   \n1637  [\"Die Katze ist ein Säugetier.\", \"Die Katze is...   \n1639  [\"Wir treffen uns jeden Samstag im Restaurant\"...   \n1643  [\"Die Uhrzeit, die ich an einem bestimmten Dat...   \n1772  [\"Ich habe vonwegen eine indirekte Rede wieder...   \n1849  [\"Was machst du denn hier?\", \"Du bist wirklich...   \n1987  [\"Sehr intensiv sein\", \"Sehr intensiv arbeiten...   \n21    [\"Dass der Job so schwierig ist\", \"Dass der Jo...   \n350   [\"Ich bin ein Reduplikationskonstrukt\", \"Ich b...   \n392   [\"Wenn ich krank werte\", \"Wenn er schwimmen wü...   \n663   [\"Intensivierung\", \"Elativkompositum\", \"X-Y\", ...   \n683   [\"Die intensivierte Intensität der Intensität ...   \n757   [\"Die Intensivierungskonstruktion\", \"Intensivi...   \n98                [\"X\", \"so\", \"so\", \"groß\", \"als\", \"Y\"]   \n\n                                    evaluated_generated  num_generated  \\\n1043  [Der junge Mann mit dem roten Mantel, Der Mann...              4   \n1134  [Das Auto fährt sowohl autotox als hybrid., Da...              6   \n130   [Das Leben ohne Konsum ist wie ein Leben ohne ...             14   \n1320  [Die Katze fährt auf der Füße, Das Auto fährt ...              4   \n1461  [Das Leben ist kein Nicht-Identitäts-Konstrukt...              6   \n1594  [Ein prototypisches Schreibtischmodell, Ein pr...              2   \n1624  [Das gemusterte Bettmuster, Das gemusterte Bet...              3   \n1637  [Die Katze ist ein Säugetier., Die Katze ist e...              2   \n1639  [Wir treffen uns jeden Samstag im Restaurant, ...              6   \n1643  [Die Uhrzeit, die ich an einem bestimmten Datu...              4   \n1772  [Ich habe vonwegen eine indirekte Rede wiederg...              3   \n1849  [Was machst du denn hier?, Du bist wirklich ei...              7   \n1987  [Sehr intensiv sein, Sehr intensiv arbeiten, S...             11   \n21    [Dass der Job so schwierig ist, Dass der Job s...              2   \n350   [Ich bin ein Reduplikationskonstrukt, Ich bin ...              7   \n392   [Wenn ich krank werte, Wenn er schwimmen würde...              5   \n663   [Intensivierung, Elativkompositum, X-Y, semant...             24   \n683   [Die intensivierte Intensität der Intensität m...              2   \n757   [Die Intensivierungskonstruktion, Intensivieru...              4   \n98                            [X, so, so, groß, als, Y]              6   \n\n      unique_generated  \n1043                 3  \n1134                 1  \n130                 10  \n1320                 2  \n1461                 1  \n1594                 1  \n1624                 1  \n1637                 1  \n1639                 4  \n1643                 3  \n1772                 2  \n1849                 4  \n1987                10  \n21                   1  \n350                  2  \n392                  4  \n663                 21  \n683                  1  \n757                  2  \n98                   5  ",
      "text/html": "<div>\n<style scoped>\n    .dataframe tbody tr th:only-of-type {\n        vertical-align: middle;\n    }\n\n    .dataframe tbody tr th {\n        vertical-align: top;\n    }\n\n    .dataframe thead th {\n        text-align: right;\n    }\n</style>\n<table border=\"1\" class=\"dataframe\">\n  <thead>\n    <tr style=\"text-align: right;\">\n      <th></th>\n      <th>definition</th>\n      <th>examples</th>\n      <th>generated</th>\n      <th>evaluated_generated</th>\n      <th>num_generated</th>\n      <th>unique_generated</th>\n    </tr>\n  </thead>\n  <tbody>\n    <tr>\n      <th>1043</th>\n      <td>Die Konstruktion \"Spezifizierung_Entität:Satzw...</td>\n      <td>[]</td>\n      <td>[\"Der junge Mann mit dem roten Mantel\", \"Der M...</td>\n      <td>[Der junge Mann mit dem roten Mantel, Der Mann...</td>\n      <td>4</td>\n      <td>3</td>\n    </tr>\n    <tr>\n      <th>1134</th>\n      <td>Die \"Additiv_Koordination:sowohlXalsauchY\" umf...</td>\n      <td>[]</td>\n      <td>[\"Das Auto fährt sowohl autotox als hybrid.\", ...</td>\n      <td>[Das Auto fährt sowohl autotox als hybrid., Da...</td>\n      <td>6</td>\n      <td>1</td>\n    </tr>\n    <tr>\n      <th>130</th>\n      <td>Die Konstruktion \"Äquativ:Ein_X1_ohne_Y1_ist_w...</td>\n      <td>[]</td>\n      <td>[\"Das Leben ohne Konsum ist wie ein Leben ohne...</td>\n      <td>[Das Leben ohne Konsum ist wie ein Leben ohne ...</td>\n      <td>14</td>\n      <td>10</td>\n    </tr>\n    <tr>\n      <th>1320</th>\n      <td>Bei der \"Diminutiv:N-lein-Konstruktion\" handel...</td>\n      <td>[]</td>\n      <td>[\"Die Katze fährt auf der Füße\", \"Das Auto fäh...</td>\n      <td>[Die Katze fährt auf der Füße, Das Auto fährt ...</td>\n      <td>4</td>\n      <td>2</td>\n    </tr>\n    <tr>\n      <th>1461</th>\n      <td>Die \"Kategorisierung:Das_Leben_ist_keinNP-Kons...</td>\n      <td>[]</td>\n      <td>[\"Das Leben ist kein Nicht-Identitäts-Konstruk...</td>\n      <td>[Das Leben ist kein Nicht-Identitäts-Konstrukt...</td>\n      <td>6</td>\n      <td>1</td>\n    </tr>\n    <tr>\n      <th>1594</th>\n      <td>Die Konstruktion \"Prototyp_Kompositum:Muster-N...</td>\n      <td>[]</td>\n      <td>[\"Ein prototypisches Schreibtischmodell\", \"Ein...</td>\n      <td>[Ein prototypisches Schreibtischmodell, Ein pr...</td>\n      <td>2</td>\n      <td>1</td>\n    </tr>\n    <tr>\n      <th>1624</th>\n      <td>Die Konstruktion \"Koordination_morphologisch:K...</td>\n      <td>[]</td>\n      <td>[\"Das gemusterte Bettmuster\", \"Das gemusterte ...</td>\n      <td>[Das gemusterte Bettmuster, Das gemusterte Bet...</td>\n      <td>3</td>\n      <td>1</td>\n    </tr>\n    <tr>\n      <th>1637</th>\n      <td>Bei der Konstruktion \"Einordnung_Gattung:Klamm...</td>\n      <td>[]</td>\n      <td>[\"Die Katze ist ein Säugetier.\", \"Die Katze is...</td>\n      <td>[Die Katze ist ein Säugetier., Die Katze ist e...</td>\n      <td>2</td>\n      <td>1</td>\n    </tr>\n    <tr>\n      <th>1639</th>\n      <td>Mit der Konstruktion Einordnung_Nation:Klammer...</td>\n      <td>[]</td>\n      <td>[\"Wir treffen uns jeden Samstag im Restaurant\"...</td>\n      <td>[Wir treffen uns jeden Samstag im Restaurant, ...</td>\n      <td>6</td>\n      <td>4</td>\n    </tr>\n    <tr>\n      <th>1643</th>\n      <td>Mit der Konstruktion \"Entsprechung_Zeitangabe:...</td>\n      <td>[]</td>\n      <td>[\"Die Uhrzeit, die ich an einem bestimmten Dat...</td>\n      <td>[Die Uhrzeit, die ich an einem bestimmten Datu...</td>\n      <td>4</td>\n      <td>3</td>\n    </tr>\n    <tr>\n      <th>1772</th>\n      <td>Die \"Indirekte_Redewiedergabe:vonwegenX-Konstr...</td>\n      <td>[]</td>\n      <td>[\"Ich habe vonwegen eine indirekte Rede wieder...</td>\n      <td>[Ich habe vonwegen eine indirekte Rede wiederg...</td>\n      <td>3</td>\n      <td>2</td>\n    </tr>\n    <tr>\n      <th>1849</th>\n      <td>Die \"Interrogativ_rhetorisch:NPundX-Konstrukti...</td>\n      <td>[]</td>\n      <td>[\"Was machst du denn hier?\", \"Du bist wirklich...</td>\n      <td>[Was machst du denn hier?, Du bist wirklich ei...</td>\n      <td>7</td>\n      <td>4</td>\n    </tr>\n    <tr>\n      <th>1987</th>\n      <td>Die Konstruktion \"Intensivierung:sehrV\" gehört...</td>\n      <td>[]</td>\n      <td>[\"Sehr intensiv sein\", \"Sehr intensiv arbeiten...</td>\n      <td>[Sehr intensiv sein, Sehr intensiv arbeiten, S...</td>\n      <td>11</td>\n      <td>10</td>\n    </tr>\n    <tr>\n      <th>21</th>\n      <td>Die \"Exklamativ:dass_VL-Konstruktion\" bringt e...</td>\n      <td>[]</td>\n      <td>[\"Dass der Job so schwierig ist\", \"Dass der Jo...</td>\n      <td>[Dass der Job so schwierig ist, Dass der Job s...</td>\n      <td>2</td>\n      <td>1</td>\n    </tr>\n    <tr>\n      <th>350</th>\n      <td>Die \"Reduplikation_Kontinuität:N1_PRÄP_N1-Kons...</td>\n      <td>[]</td>\n      <td>[\"Ich bin ein Reduplikationskonstrukt\", \"Ich b...</td>\n      <td>[Ich bin ein Reduplikationskonstrukt, Ich bin ...</td>\n      <td>7</td>\n      <td>2</td>\n    </tr>\n    <tr>\n      <th>392</th>\n      <td>Die \"Konjunktiv:würdeV.inf-Konstruktion\" gehör...</td>\n      <td>[]</td>\n      <td>[\"Wenn ich krank werte\", \"Wenn er schwimmen wü...</td>\n      <td>[Wenn ich krank werte, Wenn er schwimmen würde...</td>\n      <td>5</td>\n      <td>4</td>\n    </tr>\n    <tr>\n      <th>663</th>\n      <td>Die Konstruktion \"Intensivierung_Elativkomposi...</td>\n      <td>[]</td>\n      <td>[\"Intensivierung\", \"Elativkompositum\", \"X-Y\", ...</td>\n      <td>[Intensivierung, Elativkompositum, X-Y, semant...</td>\n      <td>24</td>\n      <td>21</td>\n    </tr>\n    <tr>\n      <th>683</th>\n      <td>Die &lt;strong&gt;Intensivierung:&lt;em&gt;mit_Abstand&lt;/em...</td>\n      <td>[]</td>\n      <td>[\"Die intensivierte Intensität der Intensität ...</td>\n      <td>[Die intensivierte Intensität der Intensität m...</td>\n      <td>2</td>\n      <td>1</td>\n    </tr>\n    <tr>\n      <th>757</th>\n      <td>Die &lt;strong&gt;Intensivierung_Hervorhebung:ART_NP...</td>\n      <td>[]</td>\n      <td>[\"Die Intensivierungskonstruktion\", \"Intensivi...</td>\n      <td>[Die Intensivierungskonstruktion, Intensivieru...</td>\n      <td>4</td>\n      <td>2</td>\n    </tr>\n    <tr>\n      <th>98</th>\n      <td>Die \"Äquativ:soADJwieXP-Konstruktion\" gehört z...</td>\n      <td>[]</td>\n      <td>[\"X\", \"so\", \"so\", \"groß\", \"als\", \"Y\"]</td>\n      <td>[X, so, so, groß, als, Y]</td>\n      <td>6</td>\n      <td>5</td>\n    </tr>\n  </tbody>\n</table>\n</div>"
     },
     "execution_count": 9,
     "metadata": {},
     "output_type": "execute_result"
    }
   ],
   "source": [
    "differing_lines = examples[0][examples[0]['num_generated'] != examples[0]['unique_generated']]\n",
    "print(len(differing_lines)/len(examples[0]) * 100, \"%\")\n",
    "differing_lines"
   ],
   "metadata": {
    "collapsed": false,
    "ExecuteTime": {
     "end_time": "2023-12-11T21:11:24.253746Z",
     "start_time": "2023-12-11T21:11:24.227160100Z"
    }
   },
   "id": "9e48f0fc44393835"
  },
  {
   "cell_type": "markdown",
   "source": [
    "### Tatsächlich neue Inhalte:"
   ],
   "metadata": {
    "collapsed": false
   },
   "id": "3825855d0dff5aef"
  },
  {
   "cell_type": "code",
   "execution_count": 10,
   "outputs": [],
   "source": [
    "stopwords = {s.lower() for s in stopwords.words(\"german\")}  # Stoppwörter werden entfernt, weil die nichts über Wiederholungen aussagen\n",
    "\n",
    "def calculate_overlap(row):\n",
    "    generated_set = {w for w in \" \".join(row['evaluated_generated']).split() if w.lower() not in stopwords}\n",
    "    \n",
    "    if len(generated_set) > 0:\n",
    "        definition_overlap = len(generated_set.intersection({w for w in row['definition'].split() if w.lower() not in stopwords})) / len(generated_set)\n",
    "        examples_overlap = len(generated_set.intersection({w for w in \" \".join(row['examples']).split() if w.lower() not in stopwords})) / len(generated_set)\n",
    "        overlap = len(generated_set.intersection({w for w in row['definition'].split() if w.lower() not in stopwords} | {w for w in \" \".join(row['examples']).split() if w.lower() not in stopwords})) / len(generated_set)\n",
    "    else:\n",
    "        definition_overlap = 0.0\n",
    "        examples_overlap = 0.0\n",
    "        overlap = 0.0\n",
    "    \n",
    "    return definition_overlap, examples_overlap, overlap"
   ],
   "metadata": {
    "collapsed": false,
    "ExecuteTime": {
     "end_time": "2023-12-11T21:11:24.318517800Z",
     "start_time": "2023-12-11T21:11:24.247731300Z"
    }
   },
   "id": "66dd136e3f5bc078"
  },
  {
   "cell_type": "code",
   "execution_count": 11,
   "outputs": [],
   "source": [
    "for example_group in examples.values():\n",
    "    example_group[['definition_overlap', 'examples_overlap', 'overlap']] = example_group.apply(calculate_overlap, axis=1, result_type='expand')"
   ],
   "metadata": {
    "collapsed": false,
    "ExecuteTime": {
     "end_time": "2023-12-11T21:11:24.516290Z",
     "start_time": "2023-12-11T21:11:24.260441300Z"
    }
   },
   "id": "d8f77e6a2a128b3f"
  },
  {
   "cell_type": "code",
   "execution_count": 21,
   "outputs": [
    {
     "data": {
      "text/plain": "                                             definition  \\\n10    Die \"Negation:NEG_XgeschweigedennY-Konstruktio...   \n100   Die \"Äquativ_Plural-Konstruktion\" gehört zu de...   \n1004  Die \"Superlativ_Klimax:ADJ1_ADJ1-er_NP-Konstru...   \n1006  Die \"Superlativ:PRÄP_ADJ-ster_NP-Konstruktion\"...   \n101   Die \"Äquativ:ADJwieNP-Konstruktion\" gehört zu ...   \n...                                                 ...   \n97    Die \"Komparativ:ADJ1-eralsADJ1-Konstruktion\" g...   \n973   Bei \"Disjunktion_Doppeltitel:XoderY\" handelt e...   \n976   Bei \"Korrelation_Affirmation:WoXist, istY\" han...   \n98    Die \"Äquativ:soADJwieXP-Konstruktion\" gehört z...   \n99    Die \"Komparativ:ADJ-eralsX-Konstruktion\" gehör...   \n\n                                               examples  \\\n10    ['Ohne seine suggestiv - erhabenen Orchesterko...   \n100   ['Sie fand es albern , ich hielt es für Kunst ...   \n1004  ['Wie die Ratskanzlei mitteilt , seien Patient...   \n1006  ['\" \" In dieser Jahreszeit ist die Aedes - Müc...   \n101   ['( darf ja im Grunde nichts schlechtes schrei...   \n...                                                 ...   \n97    ['Ihre Partei , die Union , wird abermals zur ...   \n973   ['Pfui ist das neue Hui , stern', 'Kate ist di...   \n976   ['Berlin/Offenbach ( dpa ) - Sommer im April :...   \n98    ['Der Sohn sei ständig » inmitten eines Ozeans...   \n99    ['Manche haben mich damals als »Wunderkind« be...   \n\n                                              generated  \\\n10    [\"Es ist schwer, die Trennung zwischen dem har...   \n100   [\"Der Computerprogrammierer hatte eine Woche l...   \n1004  [\"Es ist erforderlich\", \"Es ist hilfreich\", \"E...   \n1006  [\"Der Hund bellt am meisten und jagt am wenigs...   \n101   [\"Weil ich schlecht bin\", \"Dafür habe ich mich...   \n...                                                 ...   \n97    [\"Wenn sie mit Abstand hinsichtlich ihrer Leis...   \n973   [\"Grau ist das neue Blond\", \"Weiß ist das neue...   \n976   [\"Der Gebrauch von \"pur\" in \"Tinte pur\" signal...   \n98    [\"Die Kühe stehen auf dem Hof über die Hüte de...   \n99    [\"Manche halten mich für perfekt, aber niemand...   \n\n                                    evaluated_generated  num_generated  \\\n10    [Es ist schwer, die Trennung zwischen dem harm...              2   \n100   [Der Computerprogrammierer hatte eine Woche la...              2   \n1004  [Es ist erforderlich, Es ist hilfreich, Es ist...              7   \n1006  [Der Hund bellt am meisten und jagt am wenigst...              4   \n101   [Weil ich schlecht bin, Dafür habe ich mich et...              4   \n...                                                 ...            ...   \n97    [Wenn sie mit Abstand hinsichtlich ihrer Leist...              4   \n973   [Grau ist das neue Blond, Weiß ist das neue Sc...              5   \n976   [\"Der Gebrauch von \"pur\" in \"Tinte pur\" signal...              1   \n98    [Die Kühe stehen auf dem Hof über die Hüte der...              4   \n99    [Manche halten mich für perfekt, aber niemand ...              2   \n\n      unique_generated  definition_overlap  examples_overlap  overlap  \n10                   2               0.000               0.0    0.000  \n100                  2               0.000               0.0    0.000  \n1004                 7               0.000               0.0    0.000  \n1006                 4               0.000               0.0    0.000  \n101                  4               0.000               0.0    0.000  \n...                ...                 ...               ...      ...  \n97                   4               0.125               0.0    0.125  \n973                  5               0.000               0.0    0.000  \n976                  1               0.000               0.0    0.000  \n98                   4               0.000               0.0    0.000  \n99                   2               0.000               0.0    0.000  \n\n[211 rows x 9 columns]",
      "text/html": "<div>\n<style scoped>\n    .dataframe tbody tr th:only-of-type {\n        vertical-align: middle;\n    }\n\n    .dataframe tbody tr th {\n        vertical-align: top;\n    }\n\n    .dataframe thead th {\n        text-align: right;\n    }\n</style>\n<table border=\"1\" class=\"dataframe\">\n  <thead>\n    <tr style=\"text-align: right;\">\n      <th></th>\n      <th>definition</th>\n      <th>examples</th>\n      <th>generated</th>\n      <th>evaluated_generated</th>\n      <th>num_generated</th>\n      <th>unique_generated</th>\n      <th>definition_overlap</th>\n      <th>examples_overlap</th>\n      <th>overlap</th>\n    </tr>\n  </thead>\n  <tbody>\n    <tr>\n      <th>10</th>\n      <td>Die \"Negation:NEG_XgeschweigedennY-Konstruktio...</td>\n      <td>['Ohne seine suggestiv - erhabenen Orchesterko...</td>\n      <td>[\"Es ist schwer, die Trennung zwischen dem har...</td>\n      <td>[Es ist schwer, die Trennung zwischen dem harm...</td>\n      <td>2</td>\n      <td>2</td>\n      <td>0.000</td>\n      <td>0.0</td>\n      <td>0.000</td>\n    </tr>\n    <tr>\n      <th>100</th>\n      <td>Die \"Äquativ_Plural-Konstruktion\" gehört zu de...</td>\n      <td>['Sie fand es albern , ich hielt es für Kunst ...</td>\n      <td>[\"Der Computerprogrammierer hatte eine Woche l...</td>\n      <td>[Der Computerprogrammierer hatte eine Woche la...</td>\n      <td>2</td>\n      <td>2</td>\n      <td>0.000</td>\n      <td>0.0</td>\n      <td>0.000</td>\n    </tr>\n    <tr>\n      <th>1004</th>\n      <td>Die \"Superlativ_Klimax:ADJ1_ADJ1-er_NP-Konstru...</td>\n      <td>['Wie die Ratskanzlei mitteilt , seien Patient...</td>\n      <td>[\"Es ist erforderlich\", \"Es ist hilfreich\", \"E...</td>\n      <td>[Es ist erforderlich, Es ist hilfreich, Es ist...</td>\n      <td>7</td>\n      <td>7</td>\n      <td>0.000</td>\n      <td>0.0</td>\n      <td>0.000</td>\n    </tr>\n    <tr>\n      <th>1006</th>\n      <td>Die \"Superlativ:PRÄP_ADJ-ster_NP-Konstruktion\"...</td>\n      <td>['\" \" In dieser Jahreszeit ist die Aedes - Müc...</td>\n      <td>[\"Der Hund bellt am meisten und jagt am wenigs...</td>\n      <td>[Der Hund bellt am meisten und jagt am wenigst...</td>\n      <td>4</td>\n      <td>4</td>\n      <td>0.000</td>\n      <td>0.0</td>\n      <td>0.000</td>\n    </tr>\n    <tr>\n      <th>101</th>\n      <td>Die \"Äquativ:ADJwieNP-Konstruktion\" gehört zu ...</td>\n      <td>['( darf ja im Grunde nichts schlechtes schrei...</td>\n      <td>[\"Weil ich schlecht bin\", \"Dafür habe ich mich...</td>\n      <td>[Weil ich schlecht bin, Dafür habe ich mich et...</td>\n      <td>4</td>\n      <td>4</td>\n      <td>0.000</td>\n      <td>0.0</td>\n      <td>0.000</td>\n    </tr>\n    <tr>\n      <th>...</th>\n      <td>...</td>\n      <td>...</td>\n      <td>...</td>\n      <td>...</td>\n      <td>...</td>\n      <td>...</td>\n      <td>...</td>\n      <td>...</td>\n      <td>...</td>\n    </tr>\n    <tr>\n      <th>97</th>\n      <td>Die \"Komparativ:ADJ1-eralsADJ1-Konstruktion\" g...</td>\n      <td>['Ihre Partei , die Union , wird abermals zur ...</td>\n      <td>[\"Wenn sie mit Abstand hinsichtlich ihrer Leis...</td>\n      <td>[Wenn sie mit Abstand hinsichtlich ihrer Leist...</td>\n      <td>4</td>\n      <td>4</td>\n      <td>0.125</td>\n      <td>0.0</td>\n      <td>0.125</td>\n    </tr>\n    <tr>\n      <th>973</th>\n      <td>Bei \"Disjunktion_Doppeltitel:XoderY\" handelt e...</td>\n      <td>['Pfui ist das neue Hui , stern', 'Kate ist di...</td>\n      <td>[\"Grau ist das neue Blond\", \"Weiß ist das neue...</td>\n      <td>[Grau ist das neue Blond, Weiß ist das neue Sc...</td>\n      <td>5</td>\n      <td>5</td>\n      <td>0.000</td>\n      <td>0.0</td>\n      <td>0.000</td>\n    </tr>\n    <tr>\n      <th>976</th>\n      <td>Bei \"Korrelation_Affirmation:WoXist, istY\" han...</td>\n      <td>['Berlin/Offenbach ( dpa ) - Sommer im April :...</td>\n      <td>[\"Der Gebrauch von \"pur\" in \"Tinte pur\" signal...</td>\n      <td>[\"Der Gebrauch von \"pur\" in \"Tinte pur\" signal...</td>\n      <td>1</td>\n      <td>1</td>\n      <td>0.000</td>\n      <td>0.0</td>\n      <td>0.000</td>\n    </tr>\n    <tr>\n      <th>98</th>\n      <td>Die \"Äquativ:soADJwieXP-Konstruktion\" gehört z...</td>\n      <td>['Der Sohn sei ständig » inmitten eines Ozeans...</td>\n      <td>[\"Die Kühe stehen auf dem Hof über die Hüte de...</td>\n      <td>[Die Kühe stehen auf dem Hof über die Hüte der...</td>\n      <td>4</td>\n      <td>4</td>\n      <td>0.000</td>\n      <td>0.0</td>\n      <td>0.000</td>\n    </tr>\n    <tr>\n      <th>99</th>\n      <td>Die \"Komparativ:ADJ-eralsX-Konstruktion\" gehör...</td>\n      <td>['Manche haben mich damals als »Wunderkind« be...</td>\n      <td>[\"Manche halten mich für perfekt, aber niemand...</td>\n      <td>[Manche halten mich für perfekt, aber niemand ...</td>\n      <td>2</td>\n      <td>2</td>\n      <td>0.000</td>\n      <td>0.0</td>\n      <td>0.000</td>\n    </tr>\n  </tbody>\n</table>\n<p>211 rows × 9 columns</p>\n</div>"
     },
     "execution_count": 21,
     "metadata": {},
     "output_type": "execute_result"
    }
   ],
   "source": [
    "examples[4]"
   ],
   "metadata": {
    "collapsed": false,
    "ExecuteTime": {
     "end_time": "2023-12-11T21:26:09.595179400Z",
     "start_time": "2023-12-11T21:26:09.586384700Z"
    }
   },
   "id": "ac99a014755acb4f"
  },
  {
   "cell_type": "code",
   "execution_count": 20,
   "outputs": [
    {
     "data": {
      "text/plain": "0.021774893841015344"
     },
     "execution_count": 20,
     "metadata": {},
     "output_type": "execute_result"
    }
   ],
   "source": [
    "examples[4][\"overlap\"].mean()"
   ],
   "metadata": {
    "collapsed": false,
    "ExecuteTime": {
     "end_time": "2023-12-11T21:26:07.849095300Z",
     "start_time": "2023-12-11T21:26:07.839573900Z"
    }
   },
   "id": "371c33ee51a9f645"
  },
  {
   "cell_type": "code",
   "execution_count": 26,
   "outputs": [],
   "source": [
    "for i, example_group in examples.items():\n",
    "    example_group.to_csv(f\"../../out/llama/{i}_shot_data.tsv\", sep=\"\\t\", decimal=\",\")\n",
    "    example_group.to_excel(f\"../../out/llama/{i}_shot_data.xlsx\")"
   ],
   "metadata": {
    "collapsed": false,
    "ExecuteTime": {
     "end_time": "2023-12-11T21:42:35.072352100Z",
     "start_time": "2023-12-11T21:42:34.768094200Z"
    }
   },
   "id": "e974acebaa47744e"
  }
 ],
 "metadata": {
  "kernelspec": {
   "display_name": "Python 3",
   "language": "python",
   "name": "python3"
  },
  "language_info": {
   "codemirror_mode": {
    "name": "ipython",
    "version": 2
   },
   "file_extension": ".py",
   "mimetype": "text/x-python",
   "name": "python",
   "nbconvert_exporter": "python",
   "pygments_lexer": "ipython2",
   "version": "2.7.6"
  }
 },
 "nbformat": 4,
 "nbformat_minor": 5
}
