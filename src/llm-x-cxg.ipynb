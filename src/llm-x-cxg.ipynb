{
 "cells": [
  {
   "cell_type": "code",
   "execution_count": 61,
   "id": "initial_id",
   "metadata": {
    "collapsed": true,
    "ExecuteTime": {
     "end_time": "2023-10-02T18:10:34.339707200Z",
     "start_time": "2023-10-02T18:10:34.334514900Z"
    }
   },
   "outputs": [],
   "source": [
    "import os\n",
    "import pandas as pd\n",
    "import xml.etree.ElementTree as ET"
   ]
  },
  {
   "cell_type": "code",
   "execution_count": 62,
   "outputs": [
    {
     "data": {
      "text/plain": "                                                                                       text  \\\nuid                                                                                           \n57B9D1BEB68F44E7A51D1920F1EA6951E39469B5  Und dann ist da noch das generelle Problem mit...   \nD86B38CFA5D2458D9F3615EDD55C9308DF423DB0  »Ohne Europa sind viele Fragen nicht mehr seri...   \n7B3FAB8B01ED862D3D3FA18531B0904BCF24DFF0  Dies lässt sich damit begründen , dass vor und...   \nB003E526D0AA301DA46458D32A82CEEFD7ADADA5  Dennoch hat Hamas es nicht geschafft , ihre mi...   \nC3FFF1CA55CA8FF0A806C33E14A0FB331582698E  Abermillionen rings um die Welt , die das Spek...   \n...                                                                                     ...   \nB5CB5D20EFEDAF65D460621CD3D554622B9EE1E9  \" \" Aber da wird geredet und geredet und , sob...   \n32E879397C3BA674F547058D7CB2B781C55FE1AC  Das erfüllt einen mit Stolz \" \" , sagte Neid u...   \nF0F280AA87B32AF6C4122E5B9C7906A31E88E555  Hier wird getankt , und erst in der Morgenfrüh...   \n549AF1E5C1904364885CE7F8DE324A9E6323629F                                Jetzt wird gewartet   \n877AE69E0356C28DF846CEB9F5C68232C26D99DE  Immerhin wird geskypt , auch das ein schönes D...   \n\n                                                                                contextleft  \\\nuid                                                                                           \n57B9D1BEB68F44E7A51D1920F1EA6951E39469B5  \"\"Wir haben die Gaza-Offensive nicht begonnen,...   \nD86B38CFA5D2458D9F3615EDD55C9308DF423DB0  Die Zeit nationaler Alleingänge sei längst vor...   \n7B3FAB8B01ED862D3D3FA18531B0904BCF24DFF0  Wenn Alexander das Heer nicht geführt hätte, d...   \nB003E526D0AA301DA46458D32A82CEEFD7ADADA5  DerCouncil of Foreign Relations schätzt das jä...   \nC3FFF1CA55CA8FF0A806C33E14A0FB331582698E  Nichts hätte die Mär vom Niedergang der Superm...   \n...                                                                                     ...   \nB5CB5D20EFEDAF65D460621CD3D554622B9EE1E9    Zuerst hat er Flirtportale im Netz ausprobiert.   \n32E879397C3BA674F547058D7CB2B781C55FE1AC  Das ist ja das Besondere, wenn man so ein Turn...   \nF0F280AA87B32AF6C4122E5B9C7906A31E88E555  Schließlich schafft es der Wagen wieder auf di...   \n549AF1E5C1904364885CE7F8DE324A9E6323629F  Auch dass man bereits Kompromissmöglichkeiten ...   \n877AE69E0356C28DF846CEB9F5C68232C26D99DE  Das kannst du doch nicht machen, Frau Kommissa...   \n\n                                                                               contextright  \\\nuid                                                                                           \n57B9D1BEB68F44E7A51D1920F1EA6951E39469B5  Der ehemalige Ministerpräsident Hanija gehört ...   \nD86B38CFA5D2458D9F3615EDD55C9308DF423DB0  Die Frage ist: Kann es Europa gelingen, sich i...   \n7B3FAB8B01ED862D3D3FA18531B0904BCF24DFF0  Ganz anders ist die Beweislage für den ersten ...   \nB003E526D0AA301DA46458D32A82CEEFD7ADADA5  Es ist in erster Linie die politische Führung,...   \nC3FFF1CA55CA8FF0A806C33E14A0FB331582698E  Doch wie schon die Wahl Obamas global war, ist...   \n...                                                                                     ...   \nB5CB5D20EFEDAF65D460621CD3D554622B9EE1E9  Also geht er, der Computerfreak, lieber den al...   \n32E879397C3BA674F547058D7CB2B781C55FE1AC  Das taten die Spielerinnen schon im legendären...   \nF0F280AA87B32AF6C4122E5B9C7906A31E88E555  Von dort geht es gleich ins Berchtesgadener La...   \n549AF1E5C1904364885CE7F8DE324A9E6323629F  Doch was genau gesprochen wurde, blieb auch am...   \n877AE69E0356C28DF846CEB9F5C68232C26D99DE  Der Fall entwickelt sich als Reise in die Verg...   \n\n                                         construction_id  \nuid                                                       \n57B9D1BEB68F44E7A51D1920F1EA6951E39469B5              10  \nD86B38CFA5D2458D9F3615EDD55C9308DF423DB0              10  \n7B3FAB8B01ED862D3D3FA18531B0904BCF24DFF0              10  \nB003E526D0AA301DA46458D32A82CEEFD7ADADA5              10  \nC3FFF1CA55CA8FF0A806C33E14A0FB331582698E              10  \n...                                                  ...  \nB5CB5D20EFEDAF65D460621CD3D554622B9EE1E9             993  \n32E879397C3BA674F547058D7CB2B781C55FE1AC             993  \nF0F280AA87B32AF6C4122E5B9C7906A31E88E555             993  \n549AF1E5C1904364885CE7F8DE324A9E6323629F             993  \n877AE69E0356C28DF846CEB9F5C68232C26D99DE             993  \n\n[10268 rows x 4 columns]",
      "text/html": "<div>\n<style scoped>\n    .dataframe tbody tr th:only-of-type {\n        vertical-align: middle;\n    }\n\n    .dataframe tbody tr th {\n        vertical-align: top;\n    }\n\n    .dataframe thead th {\n        text-align: right;\n    }\n</style>\n<table border=\"1\" class=\"dataframe\">\n  <thead>\n    <tr style=\"text-align: right;\">\n      <th></th>\n      <th>text</th>\n      <th>contextleft</th>\n      <th>contextright</th>\n      <th>construction_id</th>\n    </tr>\n    <tr>\n      <th>uid</th>\n      <th></th>\n      <th></th>\n      <th></th>\n      <th></th>\n    </tr>\n  </thead>\n  <tbody>\n    <tr>\n      <th>57B9D1BEB68F44E7A51D1920F1EA6951E39469B5</th>\n      <td>Und dann ist da noch das generelle Problem mit...</td>\n      <td>\"\"Wir haben die Gaza-Offensive nicht begonnen,...</td>\n      <td>Der ehemalige Ministerpräsident Hanija gehört ...</td>\n      <td>10</td>\n    </tr>\n    <tr>\n      <th>D86B38CFA5D2458D9F3615EDD55C9308DF423DB0</th>\n      <td>»Ohne Europa sind viele Fragen nicht mehr seri...</td>\n      <td>Die Zeit nationaler Alleingänge sei längst vor...</td>\n      <td>Die Frage ist: Kann es Europa gelingen, sich i...</td>\n      <td>10</td>\n    </tr>\n    <tr>\n      <th>7B3FAB8B01ED862D3D3FA18531B0904BCF24DFF0</th>\n      <td>Dies lässt sich damit begründen , dass vor und...</td>\n      <td>Wenn Alexander das Heer nicht geführt hätte, d...</td>\n      <td>Ganz anders ist die Beweislage für den ersten ...</td>\n      <td>10</td>\n    </tr>\n    <tr>\n      <th>B003E526D0AA301DA46458D32A82CEEFD7ADADA5</th>\n      <td>Dennoch hat Hamas es nicht geschafft , ihre mi...</td>\n      <td>DerCouncil of Foreign Relations schätzt das jä...</td>\n      <td>Es ist in erster Linie die politische Führung,...</td>\n      <td>10</td>\n    </tr>\n    <tr>\n      <th>C3FFF1CA55CA8FF0A806C33E14A0FB331582698E</th>\n      <td>Abermillionen rings um die Welt , die das Spek...</td>\n      <td>Nichts hätte die Mär vom Niedergang der Superm...</td>\n      <td>Doch wie schon die Wahl Obamas global war, ist...</td>\n      <td>10</td>\n    </tr>\n    <tr>\n      <th>...</th>\n      <td>...</td>\n      <td>...</td>\n      <td>...</td>\n      <td>...</td>\n    </tr>\n    <tr>\n      <th>B5CB5D20EFEDAF65D460621CD3D554622B9EE1E9</th>\n      <td>\" \" Aber da wird geredet und geredet und , sob...</td>\n      <td>Zuerst hat er Flirtportale im Netz ausprobiert.</td>\n      <td>Also geht er, der Computerfreak, lieber den al...</td>\n      <td>993</td>\n    </tr>\n    <tr>\n      <th>32E879397C3BA674F547058D7CB2B781C55FE1AC</th>\n      <td>Das erfüllt einen mit Stolz \" \" , sagte Neid u...</td>\n      <td>Das ist ja das Besondere, wenn man so ein Turn...</td>\n      <td>Das taten die Spielerinnen schon im legendären...</td>\n      <td>993</td>\n    </tr>\n    <tr>\n      <th>F0F280AA87B32AF6C4122E5B9C7906A31E88E555</th>\n      <td>Hier wird getankt , und erst in der Morgenfrüh...</td>\n      <td>Schließlich schafft es der Wagen wieder auf di...</td>\n      <td>Von dort geht es gleich ins Berchtesgadener La...</td>\n      <td>993</td>\n    </tr>\n    <tr>\n      <th>549AF1E5C1904364885CE7F8DE324A9E6323629F</th>\n      <td>Jetzt wird gewartet</td>\n      <td>Auch dass man bereits Kompromissmöglichkeiten ...</td>\n      <td>Doch was genau gesprochen wurde, blieb auch am...</td>\n      <td>993</td>\n    </tr>\n    <tr>\n      <th>877AE69E0356C28DF846CEB9F5C68232C26D99DE</th>\n      <td>Immerhin wird geskypt , auch das ein schönes D...</td>\n      <td>Das kannst du doch nicht machen, Frau Kommissa...</td>\n      <td>Der Fall entwickelt sich als Reise in die Verg...</td>\n      <td>993</td>\n    </tr>\n  </tbody>\n</table>\n<p>10268 rows × 4 columns</p>\n</div>"
     },
     "execution_count": 62,
     "metadata": {},
     "output_type": "execute_result"
    }
   ],
   "source": [
    "def parse_sentences(xml_file):\n",
    "    tree = ET.parse(xml_file)\n",
    "    root = tree.getroot()\n",
    "\n",
    "    construction_id = root.attrib.get('id')\n",
    "\n",
    "    sentences_data = []\n",
    "    \n",
    "    for sentence in root.findall('.//sentence'):\n",
    "        if sentence.attrib.get('uid') is None:\n",
    "            continue\n",
    "        uid = sentence.attrib.get('uid')\n",
    "        text = sentence.find('.//text').text.strip()\n",
    "        contextleft = sentence.find('.//contextleft').text.strip()\n",
    "        contextright = sentence.find('.//contextright').text.strip()\n",
    "\n",
    "        sentences_data.append({\n",
    "            'uid': uid,\n",
    "            'text': text,\n",
    "            'contextleft': contextleft,\n",
    "            'contextright': contextright,\n",
    "            'construction_id': construction_id\n",
    "        })\n",
    "\n",
    "    return sentences_data\n",
    "\n",
    "kee_list = []\n",
    "xml_directory = '../data/constructicon/construction'\n",
    "\n",
    "for filename in os.listdir(xml_directory):\n",
    "    if filename.endswith('.xml'):\n",
    "        xml_file = os.path.join(xml_directory, filename)\n",
    "        data = parse_sentences(xml_file)\n",
    "        if data:\n",
    "            kee_list += data\n",
    "\n",
    "sentences = pd.DataFrame.from_dict(kee_list)\n",
    "sentences.set_index('uid', inplace=True)\n",
    "sentences"
   ],
   "metadata": {
    "collapsed": false,
    "ExecuteTime": {
     "end_time": "2023-10-02T18:10:41.563363300Z",
     "start_time": "2023-10-02T18:10:34.339707200Z"
    }
   },
   "id": "a90cdfcb72562113"
  },
  {
   "cell_type": "code",
   "execution_count": 63,
   "outputs": [
    {
     "data": {
      "text/plain": "                                   category                 name\nid                                                              \n1134                   Additiv_Koordination  sowohl_X_als_auch_Y\n677           Additiv_Koordinativkompositum                  X-X\n590                             Attribution             Klammern\n1521                              Diminutiv             ADJ-lich\n1322                              Diminutiv               N-chen\n...                                     ...                  ...\n128                     Äquativ_Komposition              N-artig\n123            Äquativ_partielle_Gleichheit   ähnlich_ADJ_wie_NP\n139     Äquativ_partielle_Gleichheit_Plural          ähnlich_ADJ\n100                          Äquativ_Plural           gleich_ADJ\n133   Äquativ_Schlussfolgerung_hypothetisch         VP_als_ob_VP\n\n[212 rows x 2 columns]",
      "text/html": "<div>\n<style scoped>\n    .dataframe tbody tr th:only-of-type {\n        vertical-align: middle;\n    }\n\n    .dataframe tbody tr th {\n        vertical-align: top;\n    }\n\n    .dataframe thead th {\n        text-align: right;\n    }\n</style>\n<table border=\"1\" class=\"dataframe\">\n  <thead>\n    <tr style=\"text-align: right;\">\n      <th></th>\n      <th>category</th>\n      <th>name</th>\n    </tr>\n    <tr>\n      <th>id</th>\n      <th></th>\n      <th></th>\n    </tr>\n  </thead>\n  <tbody>\n    <tr>\n      <th>1134</th>\n      <td>Additiv_Koordination</td>\n      <td>sowohl_X_als_auch_Y</td>\n    </tr>\n    <tr>\n      <th>677</th>\n      <td>Additiv_Koordinativkompositum</td>\n      <td>X-X</td>\n    </tr>\n    <tr>\n      <th>590</th>\n      <td>Attribution</td>\n      <td>Klammern</td>\n    </tr>\n    <tr>\n      <th>1521</th>\n      <td>Diminutiv</td>\n      <td>ADJ-lich</td>\n    </tr>\n    <tr>\n      <th>1322</th>\n      <td>Diminutiv</td>\n      <td>N-chen</td>\n    </tr>\n    <tr>\n      <th>...</th>\n      <td>...</td>\n      <td>...</td>\n    </tr>\n    <tr>\n      <th>128</th>\n      <td>Äquativ_Komposition</td>\n      <td>N-artig</td>\n    </tr>\n    <tr>\n      <th>123</th>\n      <td>Äquativ_partielle_Gleichheit</td>\n      <td>ähnlich_ADJ_wie_NP</td>\n    </tr>\n    <tr>\n      <th>139</th>\n      <td>Äquativ_partielle_Gleichheit_Plural</td>\n      <td>ähnlich_ADJ</td>\n    </tr>\n    <tr>\n      <th>100</th>\n      <td>Äquativ_Plural</td>\n      <td>gleich_ADJ</td>\n    </tr>\n    <tr>\n      <th>133</th>\n      <td>Äquativ_Schlussfolgerung_hypothetisch</td>\n      <td>VP_als_ob_VP</td>\n    </tr>\n  </tbody>\n</table>\n<p>212 rows × 2 columns</p>\n</div>"
     },
     "execution_count": 63,
     "metadata": {},
     "output_type": "execute_result"
    }
   ],
   "source": [
    "xml_file = '../data/constructicon/constructionindex.xml'\n",
    "\n",
    "tree = ET.parse(xml_file)\n",
    "root = tree.getroot()\n",
    "\n",
    "construction_list = []\n",
    "\n",
    "for construction in root.findall('.//construction'):\n",
    "    category, name = construction.attrib.get('name').split(':')\n",
    "    construction_list.append({\n",
    "        'id': construction.attrib.get('id'),\n",
    "        'category': category,\n",
    "        'name': name,\n",
    "    })\n",
    "    \n",
    "constructions = pd.DataFrame.from_dict(construction_list)\n",
    "constructions.set_index('id', inplace=True)\n",
    "constructions"
   ],
   "metadata": {
    "collapsed": false,
    "ExecuteTime": {
     "end_time": "2023-10-02T18:10:41.576590200Z",
     "start_time": "2023-10-02T18:10:41.566376100Z"
    }
   },
   "id": "1a8068e6b81ce76f"
  },
  {
   "cell_type": "code",
   "execution_count": 64,
   "outputs": [
    {
     "data": {
      "text/plain": "category\nIntensivierung                           13\nÄquativ                                  12\nExklamativ                               12\nSuperlativ                               11\nNegation                                  6\n                                         ..\nIrrelevanz                                1\nInterrogativ_Vergewisserungssignal        1\nInterrogativ                              1\nIntensivierung_Schlussfolgerung           1\nÄquativ_Schlussfolgerung_hypothetisch     1\nName: count, Length: 122, dtype: int64"
     },
     "execution_count": 64,
     "metadata": {},
     "output_type": "execute_result"
    }
   ],
   "source": [
    "constructions['category'].value_counts()"
   ],
   "metadata": {
    "collapsed": false,
    "ExecuteTime": {
     "end_time": "2023-10-02T18:10:41.582458500Z",
     "start_time": "2023-10-02T18:10:41.575588900Z"
    }
   },
   "id": "f31634988893993d"
  },
  {
   "cell_type": "code",
   "execution_count": 65,
   "outputs": [
    {
     "data": {
      "text/plain": "                name construction_id ke_id           ke_name ke_coretype  \\\nid                                                                         \n1    geschweige_denn              10     1      Fokuskontext        CORE   \n1    geschweige_denn              10     2   Erstes_Konjunkt        CORE   \n1    geschweige_denn              10     3  Zweites_Konjunkt        CORE   \n1    geschweige_denn              10  2350           Negator        CORE   \n1    geschweige_denn              10     1      Fokuskontext        None   \n..               ...             ...   ...               ...         ...   \n643               er              99   336         Dimension        CORE   \n643               er              99   337        Bezugswert        CORE   \n643               er              99   338   Quantifizierung     NONCORE   \n643               er              99   333        Annäherung     NONCORE   \n643               er              99   334      Verglichenes        CORE   \n\n    ke_attributes  \nid                 \n1                  \n1                  \n1              []  \n1                  \n1            None  \n..            ...  \n643                \n643                \n643                \n643                \n643                \n\n[1988 rows x 6 columns]",
      "text/html": "<div>\n<style scoped>\n    .dataframe tbody tr th:only-of-type {\n        vertical-align: middle;\n    }\n\n    .dataframe tbody tr th {\n        vertical-align: top;\n    }\n\n    .dataframe thead th {\n        text-align: right;\n    }\n</style>\n<table border=\"1\" class=\"dataframe\">\n  <thead>\n    <tr style=\"text-align: right;\">\n      <th></th>\n      <th>name</th>\n      <th>construction_id</th>\n      <th>ke_id</th>\n      <th>ke_name</th>\n      <th>ke_coretype</th>\n      <th>ke_attributes</th>\n    </tr>\n    <tr>\n      <th>id</th>\n      <th></th>\n      <th></th>\n      <th></th>\n      <th></th>\n      <th></th>\n      <th></th>\n    </tr>\n  </thead>\n  <tbody>\n    <tr>\n      <th>1</th>\n      <td>geschweige_denn</td>\n      <td>10</td>\n      <td>1</td>\n      <td>Fokuskontext</td>\n      <td>CORE</td>\n      <td></td>\n    </tr>\n    <tr>\n      <th>1</th>\n      <td>geschweige_denn</td>\n      <td>10</td>\n      <td>2</td>\n      <td>Erstes_Konjunkt</td>\n      <td>CORE</td>\n      <td></td>\n    </tr>\n    <tr>\n      <th>1</th>\n      <td>geschweige_denn</td>\n      <td>10</td>\n      <td>3</td>\n      <td>Zweites_Konjunkt</td>\n      <td>CORE</td>\n      <td>[]</td>\n    </tr>\n    <tr>\n      <th>1</th>\n      <td>geschweige_denn</td>\n      <td>10</td>\n      <td>2350</td>\n      <td>Negator</td>\n      <td>CORE</td>\n      <td></td>\n    </tr>\n    <tr>\n      <th>1</th>\n      <td>geschweige_denn</td>\n      <td>10</td>\n      <td>1</td>\n      <td>Fokuskontext</td>\n      <td>None</td>\n      <td>None</td>\n    </tr>\n    <tr>\n      <th>...</th>\n      <td>...</td>\n      <td>...</td>\n      <td>...</td>\n      <td>...</td>\n      <td>...</td>\n      <td>...</td>\n    </tr>\n    <tr>\n      <th>643</th>\n      <td>er</td>\n      <td>99</td>\n      <td>336</td>\n      <td>Dimension</td>\n      <td>CORE</td>\n      <td></td>\n    </tr>\n    <tr>\n      <th>643</th>\n      <td>er</td>\n      <td>99</td>\n      <td>337</td>\n      <td>Bezugswert</td>\n      <td>CORE</td>\n      <td></td>\n    </tr>\n    <tr>\n      <th>643</th>\n      <td>er</td>\n      <td>99</td>\n      <td>338</td>\n      <td>Quantifizierung</td>\n      <td>NONCORE</td>\n      <td></td>\n    </tr>\n    <tr>\n      <th>643</th>\n      <td>er</td>\n      <td>99</td>\n      <td>333</td>\n      <td>Annäherung</td>\n      <td>NONCORE</td>\n      <td></td>\n    </tr>\n    <tr>\n      <th>643</th>\n      <td>er</td>\n      <td>99</td>\n      <td>334</td>\n      <td>Verglichenes</td>\n      <td>CORE</td>\n      <td></td>\n    </tr>\n  </tbody>\n</table>\n<p>1988 rows × 6 columns</p>\n</div>"
     },
     "execution_count": 65,
     "metadata": {},
     "output_type": "execute_result"
    }
   ],
   "source": [
    "def parse_kee(xml_file):\n",
    "    tree = ET.parse(xml_file)\n",
    "    root = tree.getroot()\n",
    "\n",
    "    construction_id = root.attrib.get('id')\n",
    "\n",
    "    ke_data = []\n",
    "    \n",
    "    for ke in root.findall('.//ke'):\n",
    "        ke_data.append({\n",
    "            'ke_id': ke.attrib.get(\"id\"),\n",
    "            'ke_name': ke.attrib.get(\"name\"),\n",
    "            'ke_coretype': ke.attrib.get(\"coretype\"),\n",
    "            'ke_attributes': ke.attrib.get(\"attributes\")\n",
    "        })\n",
    "\n",
    "    kee_data = []\n",
    "    \n",
    "    for kee in root.findall('.//kee'):\n",
    "        for ke in ke_data:\n",
    "            kee_data.append({\n",
    "                'id': kee.attrib.get(\"id\"),\n",
    "                'name': kee.attrib.get(\"name\"),\n",
    "                'construction_id': construction_id\n",
    "            } | ke)\n",
    "\n",
    "    return kee_data\n",
    "\n",
    "kee_list = []\n",
    "xml_directory = '../data/constructicon/construction'\n",
    "\n",
    "for filename in os.listdir(xml_directory):\n",
    "    if filename.endswith('.xml'):\n",
    "        xml_file = os.path.join(xml_directory, filename)\n",
    "        data = parse_kee(xml_file)\n",
    "        if data:\n",
    "            kee_list += data\n",
    "\n",
    "kees = pd.DataFrame.from_dict(kee_list)\n",
    "kees.set_index('id', inplace=True)\n",
    "kees"
   ],
   "metadata": {
    "collapsed": false,
    "ExecuteTime": {
     "end_time": "2023-10-02T18:10:48.859220500Z",
     "start_time": "2023-10-02T18:10:41.585461600Z"
    }
   },
   "id": "b39ac2bcf3e57d23"
  },
  {
   "cell_type": "code",
   "execution_count": 66,
   "outputs": [
    {
     "data": {
      "text/plain": "ke_name\nVerglichenes        108\nDimension            78\nBezugskontext        78\nBezugswert           77\nAntezedens           64\n                   ... \nZugeordnetes          1\nVon_X_Geäußertes      1\nSprecher_X            1\nSprecher              1\nDirektiv              1\nName: count, Length: 247, dtype: int64"
     },
     "execution_count": 66,
     "metadata": {},
     "output_type": "execute_result"
    }
   ],
   "source": [
    "kees['ke_name'].value_counts()"
   ],
   "metadata": {
    "collapsed": false,
    "ExecuteTime": {
     "end_time": "2023-10-02T18:10:48.864824300Z",
     "start_time": "2023-10-02T18:10:48.855825800Z"
    }
   },
   "id": "4884c67fb347be9b"
  },
  {
   "cell_type": "code",
   "execution_count": 67,
   "outputs": [
    {
     "data": {
      "text/plain": "name\n(_)                      75\nKlammern                 52\nvon                      41\nsein                     38\nund                      36\n                         ..\npar_excellence            1\nwie_es_im_Buche_steht     1\nzu_Tode                   1\nwie_viel_Uhr              1\nnicht_un-                 1\nName: count, Length: 372, dtype: int64"
     },
     "execution_count": 67,
     "metadata": {},
     "output_type": "execute_result"
    }
   ],
   "source": [
    "kees['name'].value_counts()"
   ],
   "metadata": {
    "collapsed": false,
    "ExecuteTime": {
     "end_time": "2023-10-02T18:10:48.872602200Z",
     "start_time": "2023-10-02T18:10:48.860226500Z"
    }
   },
   "id": "8cdb48cc8c9d60a6"
  }
 ],
 "metadata": {
  "kernelspec": {
   "display_name": "Python 3",
   "language": "python",
   "name": "python3"
  },
  "language_info": {
   "codemirror_mode": {
    "name": "ipython",
    "version": 2
   },
   "file_extension": ".py",
   "mimetype": "text/x-python",
   "name": "python",
   "nbconvert_exporter": "python",
   "pygments_lexer": "ipython2",
   "version": "2.7.6"
  }
 },
 "nbformat": 4,
 "nbformat_minor": 5
}
