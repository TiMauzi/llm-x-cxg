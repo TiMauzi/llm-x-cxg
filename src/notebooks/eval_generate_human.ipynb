{
 "cells": [
  {
   "cell_type": "code",
   "execution_count": null,
   "id": "initial_id",
   "metadata": {
    "collapsed": true
   },
   "outputs": [],
   "source": [
    "import pandas as pd\n",
    "from transformers import BertTokenizer"
   ]
  },
  {
   "cell_type": "code",
   "outputs": [],
   "source": [
    "llama_data = {}\n",
    "for i in range(5):\n",
    "    llama_data[i] = pd.read_csv(f\"data/{i}_shot_data.tsv\", sep=\"\\t\", decimal=\",\", index_col=0)\n",
    "    llama_data[i][\"num_unique\"] = llama_data[i].apply(lambda row: int(row[\"num_generated\"] * row[\"unique_generated\"]), axis=1)"
   ],
   "metadata": {
    "collapsed": false
   },
   "id": "b0e97ccf9346d86f",
   "execution_count": null
  },
  {
   "cell_type": "code",
   "outputs": [],
   "source": [
    "mbart_data = pd.read_csv(\"data/data_mbart_complete2.tsv\", sep=\"\\t\", index_col=0)\n",
    "mbart_vanilla_data = pd.read_csv(\"data/data_mbart_vanilla_complete2.tsv\", sep=\"\\t\", index_col=0)"
   ],
   "metadata": {
    "collapsed": false
   },
   "id": "856819a782daf7a8",
   "execution_count": null
  },
  {
   "cell_type": "code",
   "outputs": [],
   "source": [
    "bsbbert_data = pd.read_csv(\"data/data_bsbbert_complete.tsv\", sep=\"\\t\", index_col=0)"
   ],
   "metadata": {
    "collapsed": false
   },
   "id": "b6a64c2938723a99",
   "execution_count": null
  },
  {
   "cell_type": "code",
   "outputs": [],
   "source": [
    "bsbbert_data"
   ],
   "metadata": {
    "collapsed": false
   },
   "id": "c5fdcdd33e7c8129",
   "execution_count": null
  },
  {
   "cell_type": "code",
   "outputs": [],
   "source": [
    "def evaluate_generated(row):\n",
    "    try:\n",
    "        new = eval(row[\"generated\"])\n",
    "    except:\n",
    "        new = []\n",
    "    return new"
   ],
   "metadata": {
    "collapsed": false
   },
   "id": "cb7237385e4e062e",
   "execution_count": null
  },
  {
   "cell_type": "code",
   "outputs": [],
   "source": [
    "mbart_data[\"evaluated_generated\"] = mbart_data.apply(evaluate_generated, axis=1)\n",
    "mbart_data"
   ],
   "metadata": {
    "collapsed": false
   },
   "id": "53482283d857b3b2",
   "execution_count": null
  },
  {
   "cell_type": "code",
   "outputs": [],
   "source": [
    "mbart_vanilla_data[\"evaluated_generated\"] = mbart_vanilla_data.apply(evaluate_generated, axis=1)\n",
    "mbart_vanilla_data"
   ],
   "metadata": {
    "collapsed": false
   },
   "id": "234516575dfe982d",
   "execution_count": null
  },
  {
   "cell_type": "code",
   "outputs": [],
   "source": [
    "for llama in llama_data.values():\n",
    "    llama[\"evaluated_generated\"] = llama.apply(evaluate_generated, axis=1)\n",
    "llama_data[0]"
   ],
   "metadata": {
    "collapsed": false
   },
   "id": "7f1a15e95f3b25ca",
   "execution_count": null
  },
  {
   "cell_type": "code",
   "outputs": [],
   "source": [
    "bsbbert_data[\"evaluated_generated\"] = bsbbert_data.apply(evaluate_generated, axis=1)\n",
    "bsbbert_data"
   ],
   "metadata": {
    "collapsed": false
   },
   "id": "d1eaa353f6052c0d",
   "execution_count": null
  },
  {
   "cell_type": "code",
   "outputs": [],
   "source": [
    "llama_subset = pd.concat((llama_data[0][[\"definition\", \"evaluated_generated\"]], llama_data[4][\"examples\"]), axis=1)\n",
    "llama_subset"
   ],
   "metadata": {
    "collapsed": false
   },
   "id": "561e66da9ccfe634",
   "execution_count": null
  },
  {
   "cell_type": "code",
   "outputs": [],
   "source": [
    "llama_subset_3 = pd.concat((llama_data[3][[\"definition\", \"evaluated_generated\"]], llama_data[4][\"examples\"]), axis=1)\n",
    "llama_subset_3"
   ],
   "metadata": {
    "collapsed": false
   },
   "id": "f33d1ff51180f2e4",
   "execution_count": null
  },
  {
   "cell_type": "code",
   "outputs": [],
   "source": [
    "mbart_merged = pd.merge(mbart_vanilla_data[[\"construction\", \"evaluated_generated\"]], mbart_data[[\"construction\", \"evaluated_generated\"]], on=\"construction\", how=\"inner\", suffixes=[\"_mbart_vanilla\", \"_mbart_pseudo\"])\n",
    "mbart_merged"
   ],
   "metadata": {
    "collapsed": false
   },
   "id": "ff54479cbe09e69a",
   "execution_count": null
  },
  {
   "cell_type": "code",
   "outputs": [],
   "source": [
    "final_merged = pd.merge(llama_subset, mbart_merged, left_index=True, right_on=\"construction\")\n",
    "final_merged = pd.merge(final_merged, bsbbert_data[[\"construction\", \"evaluated_generated\"]], on=\"construction\", suffixes=[\"_llama\", \"_bert\"])\n",
    "final_merged = pd.merge(final_merged, llama_subset_3[\"evaluated_generated\"], left_on=\"construction\", right_index=True)\n",
    "tokenizer = BertTokenizer.from_pretrained(\"dbmdz/bert-base-german-cased\")\n",
    "final_merged[\"evaluated_generated_bert\"] = final_merged.apply(lambda row: [tokenizer.convert_tokens_to_string([\" \".join([str(s) for s in n])]) for n in row[\"evaluated_generated_bert\"]], axis=1)\n",
    "final_merged.rename({\"evaluated_generated\": \"evaluated_generated_llama3\"}, axis=1, inplace=True)\n",
    "\n",
    "final_merged"
   ],
   "metadata": {
    "collapsed": false
   },
   "id": "ed3f21f350f3e02",
   "execution_count": null
  },
  {
   "cell_type": "code",
   "outputs": [],
   "source": [
    "llama_generated = final_merged[[\"construction\", \"evaluated_generated_llama\"]].explode(\"evaluated_generated_llama\").drop_duplicates()\n",
    "llama_generated.to_csv(f\"../../out/generated/llama_0_shot.tsv\", sep=\"\\t\", decimal=\",\", index=False)\n",
    "llama_generated"
   ],
   "metadata": {
    "collapsed": false
   },
   "id": "e68854aa2359c4bc",
   "execution_count": null
  },
  {
   "cell_type": "code",
   "outputs": [],
   "source": [
    "llama_generated3 = final_merged[[\"construction\", \"evaluated_generated_llama3\"]].explode(\"evaluated_generated_llama3\").drop_duplicates()\n",
    "llama_generated3.to_csv(f\"../../out/generated/llama_3_shot.tsv\", sep=\"\\t\", decimal=\",\", index=False)\n",
    "llama_generated3"
   ],
   "metadata": {
    "collapsed": false
   },
   "id": "b4020b556c387f32",
   "execution_count": null
  },
  {
   "cell_type": "code",
   "outputs": [],
   "source": [
    "mbart_vanilla_generated = final_merged[[\"construction\", \"evaluated_generated_mbart_vanilla\"]].explode(\"evaluated_generated_mbart_vanilla\").drop_duplicates()\n",
    "mbart_vanilla_generated.to_csv(f\"../../out/generated/mbart_vanilla.tsv\", sep=\"\\t\", decimal=\",\", index=False)\n",
    "mbart_vanilla_generated"
   ],
   "metadata": {
    "collapsed": false
   },
   "id": "4bc0737b0597d90a",
   "execution_count": null
  },
  {
   "cell_type": "code",
   "outputs": [],
   "source": [
    "mbart_pseudo_generated = final_merged[[\"construction\", \"evaluated_generated_mbart_pseudo\"]].explode(\"evaluated_generated_mbart_pseudo\").drop_duplicates()\n",
    "mbart_pseudo_generated.to_csv(f\"../../out/generated/mbart_pseudo.tsv\", sep=\"\\t\", decimal=\",\", index=False)\n",
    "mbart_pseudo_generated"
   ],
   "metadata": {
    "collapsed": false
   },
   "id": "f68bf61c3412dc20",
   "execution_count": null
  },
  {
   "cell_type": "code",
   "outputs": [],
   "source": [
    "bert_pseudo_generated = final_merged[[\"construction\", \"evaluated_generated_bert\"]].explode(\"evaluated_generated_bert\").drop_duplicates()\n",
    "bert_pseudo_generated.to_csv(f\"../../out/generated/bert_pseudo.tsv\", sep=\"\\t\", decimal=\",\", index=False)\n",
    "bert_pseudo_generated"
   ],
   "metadata": {
    "collapsed": false
   },
   "id": "c00782cf59be24c4",
   "execution_count": null
  }
 ],
 "metadata": {
  "kernelspec": {
   "display_name": "Python 3",
   "language": "python",
   "name": "python3"
  },
  "language_info": {
   "codemirror_mode": {
    "name": "ipython",
    "version": 2
   },
   "file_extension": ".py",
   "mimetype": "text/x-python",
   "name": "python",
   "nbconvert_exporter": "python",
   "pygments_lexer": "ipython2",
   "version": "2.7.6"
  }
 },
 "nbformat": 4,
 "nbformat_minor": 5
}
