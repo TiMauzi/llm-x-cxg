{
 "cells": [
  {
   "cell_type": "code",
   "execution_count": 94,
   "id": "initial_id",
   "metadata": {
    "collapsed": true,
    "ExecuteTime": {
     "end_time": "2024-01-31T16:16:57.443304706Z",
     "start_time": "2024-01-31T16:16:57.406800565Z"
    }
   },
   "outputs": [],
   "source": [
    "import pandas as pd\n",
    "import numpy as np"
   ]
  },
  {
   "cell_type": "code",
   "outputs": [],
   "source": [
    "llama_data = {}\n",
    "for i in range(5):\n",
    "    llama_data[i] = pd.read_csv(f\"data/{i}_shot_data.tsv\", sep=\"\\t\", decimal=\",\", index_col=0)\n",
    "    llama_data[i][\"num_unique\"] = llama_data[i].apply(lambda row: int(row[\"num_generated\"] * row[\"unique_generated\"]), axis=1)"
   ],
   "metadata": {
    "collapsed": false,
    "ExecuteTime": {
     "end_time": "2024-01-31T16:16:57.491195840Z",
     "start_time": "2024-01-31T16:16:57.443535830Z"
    }
   },
   "id": "b0e97ccf9346d86f",
   "execution_count": 95
  },
  {
   "cell_type": "code",
   "outputs": [],
   "source": [
    "mbart_data = pd.read_csv(\"data/data_mbart_complete2.tsv\", sep=\"\\t\", index_col=0)\n",
    "mbart_vanilla_data = pd.read_csv(\"data/data_mbart_vanilla_complete2.tsv\", sep=\"\\t\", index_col=0)"
   ],
   "metadata": {
    "collapsed": false,
    "ExecuteTime": {
     "end_time": "2024-01-31T16:16:57.616139680Z",
     "start_time": "2024-01-31T16:16:57.492063147Z"
    }
   },
   "id": "856819a782daf7a8",
   "execution_count": 96
  },
  {
   "cell_type": "code",
   "outputs": [
    {
     "data": {
      "text/plain": "                                             definition  \\\n10    Die \"Negation:NEG_XgeschweigedennY-Konstruktio...   \n100   Die \"Äquativ_Plural-Konstruktion\" gehört zu de...   \n1004  Die \"Superlativ_Klimax:ADJ1_ADJ1-er_NP-Konstru...   \n1006  Die \"Superlativ:PRÄP_ADJ-ster_NP-Konstruktion\"...   \n101   Die \"Äquativ:ADJwieNP-Konstruktion\" gehört zu ...   \n...                                                 ...   \n97    Die \"Komparativ:ADJ1-eralsADJ1-Konstruktion\" g...   \n973   Bei \"Disjunktion_Doppeltitel:XoderY\" handelt e...   \n976   Bei \"Korrelation_Affirmation:WoXist, istY\" han...   \n98    Die \"Äquativ:soADJwieXP-Konstruktion\" gehört z...   \n99    Die \"Komparativ:ADJ-eralsX-Konstruktion\" gehör...   \n\n                                               examples  \\\n10    ['Es ist ein Foto , nur ein Foto , schwarz - w...   \n100   ['Wir würdigen Freiheit und Toleranz , sie ver...   \n1004  ['Wissenschafter der Regierung sind zum Schlus...   \n1006  ['Der LSD - Rausch hat mich bisher am meisten ...   \n101   ['Weil Verschlüsselungstechnologie dabei eine ...   \n...                                                 ...   \n97    ['Und so schenkt er dem britischen Bond - Dars...   \n973           ['Rope Skipping : das neue Seilspringen']   \n976                      ['«Das ist Kommunismus pur.»']   \n98    ['\" \" \" Probleme über Probleme - die NFL versa...   \n99                           ['«Niemand ist perfekt .']   \n\n                                              generated  \\\n10    [\"Es ist ein schwarz-weißes Foto\", \"Es ist ein...   \n100   [\"Wir fördern den Schutz des Umwelt, während w...   \n1004  [\"Ich möchte gerne eine neue Jacke kaufen.\", \"...   \n1006  [\"Der Rauchsäule im Park ist am wenigsten ange...   \n101   [\"Weil der KE 'Grund' erfüllt ist\", \"Weil der ...   \n...                                                 ...   \n97    [\"Die mit Abstand lustigste Rolle\", \"Die mit A...   \n973   [\"Ihre Haare sind jetzt wie ein roter Faden\", ...   \n976   [\"Das ist eine Kumme pure Empörung\", \"Das ist ...   \n98    [\"Meine Kugeln über Kugeln - ich habe es immer...   \n99    [\"Keiner ist unersetzlich\", \"Niemand ist perfe...   \n\n                                    evaluated_generated  num_generated  \\\n10    ['Es ist ein schwarz-weißes Foto', 'Es ist ein...              2   \n100   ['\"Wir fördern den Schutz des Umwelt, während ...              1   \n1004  ['Ich möchte gerne eine neue Jacke kaufen.', '...              4   \n1006  ['Der Rauchsäule im Park ist am wenigsten ange...              2   \n101   [\"Weil der KE 'Grund' erfüllt ist\", \"Weil der ...              3   \n...                                                 ...            ...   \n97    ['Die mit Abstand lustigste Rolle', 'Die mit A...             10   \n973   ['Ihre Haare sind jetzt wie ein roter Faden', ...              2   \n976   ['Das ist eine Kumme pure Empörung', 'Das ist ...              2   \n98    ['Meine Kugeln über Kugeln - ich habe es immer...             19   \n99    ['Keiner ist unersetzlich', 'Niemand ist perfe...              3   \n\n      unique_generated  definition_overlap  examples_overlap   overlap  \\\n10                   2                 0.0          0.000000  0.000000   \n100                  1                 0.0          0.086957  0.086957   \n1004                 4                 0.0          0.000000  0.000000   \n1006                 2                 0.0          0.000000  0.000000   \n101                  3                 0.0          0.000000  0.000000   \n...                ...                 ...               ...       ...   \n97                  10                 0.0          0.000000  0.000000   \n973                  2                 0.0          0.000000  0.000000   \n976                  2                 0.0          0.000000  0.000000   \n98                   3                 0.0          0.200000  0.200000   \n99                   3                 0.0          0.000000  0.000000   \n\n      num_unique  \n10             4  \n100            1  \n1004          16  \n1006           4  \n101            9  \n...          ...  \n97           100  \n973            4  \n976            4  \n98            57  \n99             9  \n\n[211 rows x 10 columns]",
      "text/html": "<div>\n<style scoped>\n    .dataframe tbody tr th:only-of-type {\n        vertical-align: middle;\n    }\n\n    .dataframe tbody tr th {\n        vertical-align: top;\n    }\n\n    .dataframe thead th {\n        text-align: right;\n    }\n</style>\n<table border=\"1\" class=\"dataframe\">\n  <thead>\n    <tr style=\"text-align: right;\">\n      <th></th>\n      <th>definition</th>\n      <th>examples</th>\n      <th>generated</th>\n      <th>evaluated_generated</th>\n      <th>num_generated</th>\n      <th>unique_generated</th>\n      <th>definition_overlap</th>\n      <th>examples_overlap</th>\n      <th>overlap</th>\n      <th>num_unique</th>\n    </tr>\n  </thead>\n  <tbody>\n    <tr>\n      <th>10</th>\n      <td>Die \"Negation:NEG_XgeschweigedennY-Konstruktio...</td>\n      <td>['Es ist ein Foto , nur ein Foto , schwarz - w...</td>\n      <td>[\"Es ist ein schwarz-weißes Foto\", \"Es ist ein...</td>\n      <td>['Es ist ein schwarz-weißes Foto', 'Es ist ein...</td>\n      <td>2</td>\n      <td>2</td>\n      <td>0.0</td>\n      <td>0.000000</td>\n      <td>0.000000</td>\n      <td>4</td>\n    </tr>\n    <tr>\n      <th>100</th>\n      <td>Die \"Äquativ_Plural-Konstruktion\" gehört zu de...</td>\n      <td>['Wir würdigen Freiheit und Toleranz , sie ver...</td>\n      <td>[\"Wir fördern den Schutz des Umwelt, während w...</td>\n      <td>['\"Wir fördern den Schutz des Umwelt, während ...</td>\n      <td>1</td>\n      <td>1</td>\n      <td>0.0</td>\n      <td>0.086957</td>\n      <td>0.086957</td>\n      <td>1</td>\n    </tr>\n    <tr>\n      <th>1004</th>\n      <td>Die \"Superlativ_Klimax:ADJ1_ADJ1-er_NP-Konstru...</td>\n      <td>['Wissenschafter der Regierung sind zum Schlus...</td>\n      <td>[\"Ich möchte gerne eine neue Jacke kaufen.\", \"...</td>\n      <td>['Ich möchte gerne eine neue Jacke kaufen.', '...</td>\n      <td>4</td>\n      <td>4</td>\n      <td>0.0</td>\n      <td>0.000000</td>\n      <td>0.000000</td>\n      <td>16</td>\n    </tr>\n    <tr>\n      <th>1006</th>\n      <td>Die \"Superlativ:PRÄP_ADJ-ster_NP-Konstruktion\"...</td>\n      <td>['Der LSD - Rausch hat mich bisher am meisten ...</td>\n      <td>[\"Der Rauchsäule im Park ist am wenigsten ange...</td>\n      <td>['Der Rauchsäule im Park ist am wenigsten ange...</td>\n      <td>2</td>\n      <td>2</td>\n      <td>0.0</td>\n      <td>0.000000</td>\n      <td>0.000000</td>\n      <td>4</td>\n    </tr>\n    <tr>\n      <th>101</th>\n      <td>Die \"Äquativ:ADJwieNP-Konstruktion\" gehört zu ...</td>\n      <td>['Weil Verschlüsselungstechnologie dabei eine ...</td>\n      <td>[\"Weil der KE 'Grund' erfüllt ist\", \"Weil der ...</td>\n      <td>[\"Weil der KE 'Grund' erfüllt ist\", \"Weil der ...</td>\n      <td>3</td>\n      <td>3</td>\n      <td>0.0</td>\n      <td>0.000000</td>\n      <td>0.000000</td>\n      <td>9</td>\n    </tr>\n    <tr>\n      <th>...</th>\n      <td>...</td>\n      <td>...</td>\n      <td>...</td>\n      <td>...</td>\n      <td>...</td>\n      <td>...</td>\n      <td>...</td>\n      <td>...</td>\n      <td>...</td>\n      <td>...</td>\n    </tr>\n    <tr>\n      <th>97</th>\n      <td>Die \"Komparativ:ADJ1-eralsADJ1-Konstruktion\" g...</td>\n      <td>['Und so schenkt er dem britischen Bond - Dars...</td>\n      <td>[\"Die mit Abstand lustigste Rolle\", \"Die mit A...</td>\n      <td>['Die mit Abstand lustigste Rolle', 'Die mit A...</td>\n      <td>10</td>\n      <td>10</td>\n      <td>0.0</td>\n      <td>0.000000</td>\n      <td>0.000000</td>\n      <td>100</td>\n    </tr>\n    <tr>\n      <th>973</th>\n      <td>Bei \"Disjunktion_Doppeltitel:XoderY\" handelt e...</td>\n      <td>['Rope Skipping : das neue Seilspringen']</td>\n      <td>[\"Ihre Haare sind jetzt wie ein roter Faden\", ...</td>\n      <td>['Ihre Haare sind jetzt wie ein roter Faden', ...</td>\n      <td>2</td>\n      <td>2</td>\n      <td>0.0</td>\n      <td>0.000000</td>\n      <td>0.000000</td>\n      <td>4</td>\n    </tr>\n    <tr>\n      <th>976</th>\n      <td>Bei \"Korrelation_Affirmation:WoXist, istY\" han...</td>\n      <td>['«Das ist Kommunismus pur.»']</td>\n      <td>[\"Das ist eine Kumme pure Empörung\", \"Das ist ...</td>\n      <td>['Das ist eine Kumme pure Empörung', 'Das ist ...</td>\n      <td>2</td>\n      <td>2</td>\n      <td>0.0</td>\n      <td>0.000000</td>\n      <td>0.000000</td>\n      <td>4</td>\n    </tr>\n    <tr>\n      <th>98</th>\n      <td>Die \"Äquativ:soADJwieXP-Konstruktion\" gehört z...</td>\n      <td>['\" \" \" Probleme über Probleme - die NFL versa...</td>\n      <td>[\"Meine Kugeln über Kugeln - ich habe es immer...</td>\n      <td>['Meine Kugeln über Kugeln - ich habe es immer...</td>\n      <td>19</td>\n      <td>3</td>\n      <td>0.0</td>\n      <td>0.200000</td>\n      <td>0.200000</td>\n      <td>57</td>\n    </tr>\n    <tr>\n      <th>99</th>\n      <td>Die \"Komparativ:ADJ-eralsX-Konstruktion\" gehör...</td>\n      <td>['«Niemand ist perfekt .']</td>\n      <td>[\"Keiner ist unersetzlich\", \"Niemand ist perfe...</td>\n      <td>['Keiner ist unersetzlich', 'Niemand ist perfe...</td>\n      <td>3</td>\n      <td>3</td>\n      <td>0.0</td>\n      <td>0.000000</td>\n      <td>0.000000</td>\n      <td>9</td>\n    </tr>\n  </tbody>\n</table>\n<p>211 rows × 10 columns</p>\n</div>"
     },
     "execution_count": 97,
     "metadata": {},
     "output_type": "execute_result"
    }
   ],
   "source": [
    "llama_data[1]"
   ],
   "metadata": {
    "collapsed": false,
    "ExecuteTime": {
     "end_time": "2024-01-31T16:16:57.618959507Z",
     "start_time": "2024-01-31T16:16:57.545398060Z"
    }
   },
   "id": "c5fdcdd33e7c8129",
   "execution_count": 97
  },
  {
   "cell_type": "code",
   "outputs": [],
   "source": [
    "def evaluate_generated(row):\n",
    "    try:\n",
    "        new = eval(row[\"generated\"])\n",
    "    except:\n",
    "        new = []\n",
    "    return new"
   ],
   "metadata": {
    "collapsed": false,
    "ExecuteTime": {
     "end_time": "2024-01-31T16:16:57.673300653Z",
     "start_time": "2024-01-31T16:16:57.585726041Z"
    }
   },
   "id": "cb7237385e4e062e",
   "execution_count": 98
  },
  {
   "cell_type": "code",
   "outputs": [
    {
     "data": {
      "text/plain": "     construction  pseudoword  \\\n0               5        Und5   \n1               5       erst5   \n2               5        gar5   \n3               5      nicht5   \n4               5      recht5   \n..            ...         ...   \n501          1884    Gold1884   \n502          1884  Silber1884   \n503          1884     ist1884   \n504          1986    kaum1986   \n505          1987    sehr1987   \n\n                                          orig_example  \\\n0    ['\"\"Nicht herauskaufen\"\", \"\"nicht erpressen la...   \n1    ['Trainer Lucien Favre hatte schon seine beide...   \n2    ['Es hat Afghanistan nicht stabilisiert und sc...   \n3    ['Es hat Afghanistan nicht stabilisiert und sc...   \n4    ['Trainer Lucien Favre hatte schon seine beide...   \n..                                                 ...   \n501  ['Schweigen ist Silber , reden ist Gold .', 'S...   \n502  ['Schweigen ist Silber , reden ist Gold .', 'S...   \n503  ['Schweigen ist Silber , reden ist Gold .', 'S...   \n504  ['Die Vorhut vor 20.000 Jahren war für das Rie...   \n505  ['Solche Menschen können sich sehr wohlfühlen ...   \n\n                                             generated  \\\n0    ['... Mehrwertsteuer.......', 'Auf das schnell...   \n1    ['...........', 'Tatsächlich sind wir uns niem...   \n2    ['Es hat Afghanistan nicht stabilisiert und sc...   \n3                                                  NaN   \n4    ['............', 'Tatsächlich sind wir uns nie...   \n..                                                 ...   \n501  ['Schweigen ist Silber, reden ist Gold.....', ...   \n502  ['Schweigen ist... Gold...', 'Schweigen ist Go...   \n503  ['Schweigen... Gold....', 'Schweigen Gold!', '...   \n504  ['Die Vorhut vor 20.000 Jahren war für das Rie...   \n505  ['..........', '\" \" Das hat die Schüler nicht ...   \n\n                                                scores  \\\n0    [0.7702094316482544, 0.9311211109161377, 0.736...   \n1    [0.6238253712654114, 0.7992855310440063, 0.701...   \n2    [0.7928561568260193, 0.8251732587814331, 0.658...   \n3                                               [-1.0]   \n4    [0.6184999942779541, 0.8167852759361267, 0.695...   \n..                                                 ...   \n501  [0.8336131572723389, 0.8371401429176331, 0.801...   \n502  [0.7981865406036377, 0.7699515223503113, 0.754...   \n503  [0.8048365116119385, 0.7254974246025085, 0.690...   \n504  [0.8100022673606873, 0.847483217716217, 0.6762...   \n505  [0.738667368888855, 0.7296292781829834, 0.7682...   \n\n                                   evaluated_generated  \n0    [... Mehrwertsteuer......., Auf das schnelle V...  \n1    [..........., Tatsächlich sind wir uns niemals...  \n2    [Es hat Afghanistan nicht stabilisiert und sch...  \n3                                                   []  \n4    [............, Tatsächlich sind wir uns niemal...  \n..                                                 ...  \n501  [Schweigen ist Silber, reden ist Gold....., Sc...  \n502  [Schweigen ist... Gold..., Schweigen ist Gold!...  \n503  [Schweigen... Gold...., Schweigen Gold!, Angeb...  \n504  [Die Vorhut vor 20.000 Jahren war für das Ries...  \n505  [.........., \" \" Das hat die Schüler nicht rec...  \n\n[506 rows x 6 columns]",
      "text/html": "<div>\n<style scoped>\n    .dataframe tbody tr th:only-of-type {\n        vertical-align: middle;\n    }\n\n    .dataframe tbody tr th {\n        vertical-align: top;\n    }\n\n    .dataframe thead th {\n        text-align: right;\n    }\n</style>\n<table border=\"1\" class=\"dataframe\">\n  <thead>\n    <tr style=\"text-align: right;\">\n      <th></th>\n      <th>construction</th>\n      <th>pseudoword</th>\n      <th>orig_example</th>\n      <th>generated</th>\n      <th>scores</th>\n      <th>evaluated_generated</th>\n    </tr>\n  </thead>\n  <tbody>\n    <tr>\n      <th>0</th>\n      <td>5</td>\n      <td>Und5</td>\n      <td>['\"\"Nicht herauskaufen\"\", \"\"nicht erpressen la...</td>\n      <td>['... Mehrwertsteuer.......', 'Auf das schnell...</td>\n      <td>[0.7702094316482544, 0.9311211109161377, 0.736...</td>\n      <td>[... Mehrwertsteuer......., Auf das schnelle V...</td>\n    </tr>\n    <tr>\n      <th>1</th>\n      <td>5</td>\n      <td>erst5</td>\n      <td>['Trainer Lucien Favre hatte schon seine beide...</td>\n      <td>['...........', 'Tatsächlich sind wir uns niem...</td>\n      <td>[0.6238253712654114, 0.7992855310440063, 0.701...</td>\n      <td>[..........., Tatsächlich sind wir uns niemals...</td>\n    </tr>\n    <tr>\n      <th>2</th>\n      <td>5</td>\n      <td>gar5</td>\n      <td>['Es hat Afghanistan nicht stabilisiert und sc...</td>\n      <td>['Es hat Afghanistan nicht stabilisiert und sc...</td>\n      <td>[0.7928561568260193, 0.8251732587814331, 0.658...</td>\n      <td>[Es hat Afghanistan nicht stabilisiert und sch...</td>\n    </tr>\n    <tr>\n      <th>3</th>\n      <td>5</td>\n      <td>nicht5</td>\n      <td>['Es hat Afghanistan nicht stabilisiert und sc...</td>\n      <td>NaN</td>\n      <td>[-1.0]</td>\n      <td>[]</td>\n    </tr>\n    <tr>\n      <th>4</th>\n      <td>5</td>\n      <td>recht5</td>\n      <td>['Trainer Lucien Favre hatte schon seine beide...</td>\n      <td>['............', 'Tatsächlich sind wir uns nie...</td>\n      <td>[0.6184999942779541, 0.8167852759361267, 0.695...</td>\n      <td>[............, Tatsächlich sind wir uns niemal...</td>\n    </tr>\n    <tr>\n      <th>...</th>\n      <td>...</td>\n      <td>...</td>\n      <td>...</td>\n      <td>...</td>\n      <td>...</td>\n      <td>...</td>\n    </tr>\n    <tr>\n      <th>501</th>\n      <td>1884</td>\n      <td>Gold1884</td>\n      <td>['Schweigen ist Silber , reden ist Gold .', 'S...</td>\n      <td>['Schweigen ist Silber, reden ist Gold.....', ...</td>\n      <td>[0.8336131572723389, 0.8371401429176331, 0.801...</td>\n      <td>[Schweigen ist Silber, reden ist Gold....., Sc...</td>\n    </tr>\n    <tr>\n      <th>502</th>\n      <td>1884</td>\n      <td>Silber1884</td>\n      <td>['Schweigen ist Silber , reden ist Gold .', 'S...</td>\n      <td>['Schweigen ist... Gold...', 'Schweigen ist Go...</td>\n      <td>[0.7981865406036377, 0.7699515223503113, 0.754...</td>\n      <td>[Schweigen ist... Gold..., Schweigen ist Gold!...</td>\n    </tr>\n    <tr>\n      <th>503</th>\n      <td>1884</td>\n      <td>ist1884</td>\n      <td>['Schweigen ist Silber , reden ist Gold .', 'S...</td>\n      <td>['Schweigen... Gold....', 'Schweigen Gold!', '...</td>\n      <td>[0.8048365116119385, 0.7254974246025085, 0.690...</td>\n      <td>[Schweigen... Gold...., Schweigen Gold!, Angeb...</td>\n    </tr>\n    <tr>\n      <th>504</th>\n      <td>1986</td>\n      <td>kaum1986</td>\n      <td>['Die Vorhut vor 20.000 Jahren war für das Rie...</td>\n      <td>['Die Vorhut vor 20.000 Jahren war für das Rie...</td>\n      <td>[0.8100022673606873, 0.847483217716217, 0.6762...</td>\n      <td>[Die Vorhut vor 20.000 Jahren war für das Ries...</td>\n    </tr>\n    <tr>\n      <th>505</th>\n      <td>1987</td>\n      <td>sehr1987</td>\n      <td>['Solche Menschen können sich sehr wohlfühlen ...</td>\n      <td>['..........', '\" \" Das hat die Schüler nicht ...</td>\n      <td>[0.738667368888855, 0.7296292781829834, 0.7682...</td>\n      <td>[.........., \" \" Das hat die Schüler nicht rec...</td>\n    </tr>\n  </tbody>\n</table>\n<p>506 rows × 6 columns</p>\n</div>"
     },
     "execution_count": 99,
     "metadata": {},
     "output_type": "execute_result"
    }
   ],
   "source": [
    "mbart_data[\"evaluated_generated\"] = mbart_data.apply(evaluate_generated, axis=1)\n",
    "mbart_data"
   ],
   "metadata": {
    "collapsed": false,
    "ExecuteTime": {
     "end_time": "2024-01-31T16:16:57.674426984Z",
     "start_time": "2024-01-31T16:16:57.585853368Z"
    }
   },
   "id": "53482283d857b3b2",
   "execution_count": 99
  },
  {
   "cell_type": "code",
   "outputs": [
    {
     "data": {
      "text/plain": "     construction  pseudoword  \\\n0               5        Und5   \n1               5       erst5   \n2               5        gar5   \n3               5      nicht5   \n4               5      recht5   \n..            ...         ...   \n501          1884    Gold1884   \n502          1884  Silber1884   \n503          1884     ist1884   \n504          1986    kaum1986   \n505          1987    sehr1987   \n\n                                          orig_example  \\\n0    ['\"\"Nicht herauskaufen\"\", \"\"nicht erpressen la...   \n1    ['Trainer Lucien Favre hatte schon seine beide...   \n2    ['Es hat Afghanistan nicht stabilisiert und sc...   \n3    ['Es hat Afghanistan nicht stabilisiert und sc...   \n4    ['Trainer Lucien Favre hatte schon seine beide...   \n..                                                 ...   \n501  ['Schweigen ist Silber , reden ist Gold .', 'S...   \n502  ['Schweigen ist Silber , reden ist Gold .', 'S...   \n503  ['Schweigen ist Silber , reden ist Gold .', 'S...   \n504  ['Die Vorhut vor 20.000 Jahren war für das Rie...   \n505  ['Solche Menschen können sich sehr wohlfühlen ...   \n\n                                             generated  \\\n0    ['\"\"Nicht herauskaufen\"\", \"\"nicht erpressen la...   \n1    ['Trainer Lucien Favre hat seine beiden Stürme...   \n2    ['Es hat Afghanistan nicht stabilisiert und sc...   \n3    ['Es hat Afghanistan nicht befriedet.', ', abe...   \n4    ['Trainer Lucien Favre hat seine beiden Stürme...   \n..                                                 ...   \n501  ['Schweigen ist Silber, reden ist Gold', 'Schw...   \n502  ['Schweigen ist Silber, Schweigen ist Gold.', ...   \n503  ['Schweigen ist wie Gold.', 'Schweigen ist wie...   \n504  ['Die Vorhut vor 20.000 Jahren war für das Rie...   \n505  ['Solche Menschen können sich sehr', '\" \" Das ...   \n\n                                                scores  \\\n0    [0.623329758644104, 0.7097308039665222, 0.5912...   \n1    [0.4603891670703888, 0.6319332718849182, 0.565...   \n2    [0.9639642238616943, 0.4984430968761444, 0.944...   \n3    [0.7552201747894287, 0.4845995604991913, 0.874...   \n4    [0.4634501338005066, 0.5811089873313904, 0.563...   \n..                                                 ...   \n501  [0.8799072504043579, 0.8578562140464783, 0.912...   \n502  [0.8501437306404114, 0.8222342729568481, 0.793...   \n503  [0.7324506044387817, 0.7599738836288452, 0.599...   \n504  [0.9354256987571716, 0.5056698322296143, 0.492...   \n505  [0.8664955496788025, 0.8348168730735779, 0.584...   \n\n                                   evaluated_generated  \n0    [\"\"Nicht herauskaufen\"\", \"\"nicht erpressen las...  \n1    [Trainer Lucien Favre hat seine beiden Stürmer...  \n2    [Es hat Afghanistan nicht stabilisiert und sch...  \n3    [Es hat Afghanistan nicht befriedet., , aber n...  \n4    [Trainer Lucien Favre hat seine beiden Stürmer...  \n..                                                 ...  \n501  [Schweigen ist Silber, reden ist Gold, Schweig...  \n502  [Schweigen ist Silber, Schweigen ist Gold., Sc...  \n503  [Schweigen ist wie Gold., Schweigen ist wie Go...  \n504  [Die Vorhut vor 20.000 Jahren war für das Ries...  \n505  [Solche Menschen können sich sehr, \" \" Das hat...  \n\n[506 rows x 6 columns]",
      "text/html": "<div>\n<style scoped>\n    .dataframe tbody tr th:only-of-type {\n        vertical-align: middle;\n    }\n\n    .dataframe tbody tr th {\n        vertical-align: top;\n    }\n\n    .dataframe thead th {\n        text-align: right;\n    }\n</style>\n<table border=\"1\" class=\"dataframe\">\n  <thead>\n    <tr style=\"text-align: right;\">\n      <th></th>\n      <th>construction</th>\n      <th>pseudoword</th>\n      <th>orig_example</th>\n      <th>generated</th>\n      <th>scores</th>\n      <th>evaluated_generated</th>\n    </tr>\n  </thead>\n  <tbody>\n    <tr>\n      <th>0</th>\n      <td>5</td>\n      <td>Und5</td>\n      <td>['\"\"Nicht herauskaufen\"\", \"\"nicht erpressen la...</td>\n      <td>['\"\"Nicht herauskaufen\"\", \"\"nicht erpressen la...</td>\n      <td>[0.623329758644104, 0.7097308039665222, 0.5912...</td>\n      <td>[\"\"Nicht herauskaufen\"\", \"\"nicht erpressen las...</td>\n    </tr>\n    <tr>\n      <th>1</th>\n      <td>5</td>\n      <td>erst5</td>\n      <td>['Trainer Lucien Favre hatte schon seine beide...</td>\n      <td>['Trainer Lucien Favre hat seine beiden Stürme...</td>\n      <td>[0.4603891670703888, 0.6319332718849182, 0.565...</td>\n      <td>[Trainer Lucien Favre hat seine beiden Stürmer...</td>\n    </tr>\n    <tr>\n      <th>2</th>\n      <td>5</td>\n      <td>gar5</td>\n      <td>['Es hat Afghanistan nicht stabilisiert und sc...</td>\n      <td>['Es hat Afghanistan nicht stabilisiert und sc...</td>\n      <td>[0.9639642238616943, 0.4984430968761444, 0.944...</td>\n      <td>[Es hat Afghanistan nicht stabilisiert und sch...</td>\n    </tr>\n    <tr>\n      <th>3</th>\n      <td>5</td>\n      <td>nicht5</td>\n      <td>['Es hat Afghanistan nicht stabilisiert und sc...</td>\n      <td>['Es hat Afghanistan nicht befriedet.', ', abe...</td>\n      <td>[0.7552201747894287, 0.4845995604991913, 0.874...</td>\n      <td>[Es hat Afghanistan nicht befriedet., , aber n...</td>\n    </tr>\n    <tr>\n      <th>4</th>\n      <td>5</td>\n      <td>recht5</td>\n      <td>['Trainer Lucien Favre hatte schon seine beide...</td>\n      <td>['Trainer Lucien Favre hat seine beiden Stürme...</td>\n      <td>[0.4634501338005066, 0.5811089873313904, 0.563...</td>\n      <td>[Trainer Lucien Favre hat seine beiden Stürmer...</td>\n    </tr>\n    <tr>\n      <th>...</th>\n      <td>...</td>\n      <td>...</td>\n      <td>...</td>\n      <td>...</td>\n      <td>...</td>\n      <td>...</td>\n    </tr>\n    <tr>\n      <th>501</th>\n      <td>1884</td>\n      <td>Gold1884</td>\n      <td>['Schweigen ist Silber , reden ist Gold .', 'S...</td>\n      <td>['Schweigen ist Silber, reden ist Gold', 'Schw...</td>\n      <td>[0.8799072504043579, 0.8578562140464783, 0.912...</td>\n      <td>[Schweigen ist Silber, reden ist Gold, Schweig...</td>\n    </tr>\n    <tr>\n      <th>502</th>\n      <td>1884</td>\n      <td>Silber1884</td>\n      <td>['Schweigen ist Silber , reden ist Gold .', 'S...</td>\n      <td>['Schweigen ist Silber, Schweigen ist Gold.', ...</td>\n      <td>[0.8501437306404114, 0.8222342729568481, 0.793...</td>\n      <td>[Schweigen ist Silber, Schweigen ist Gold., Sc...</td>\n    </tr>\n    <tr>\n      <th>503</th>\n      <td>1884</td>\n      <td>ist1884</td>\n      <td>['Schweigen ist Silber , reden ist Gold .', 'S...</td>\n      <td>['Schweigen ist wie Gold.', 'Schweigen ist wie...</td>\n      <td>[0.7324506044387817, 0.7599738836288452, 0.599...</td>\n      <td>[Schweigen ist wie Gold., Schweigen ist wie Go...</td>\n    </tr>\n    <tr>\n      <th>504</th>\n      <td>1986</td>\n      <td>kaum1986</td>\n      <td>['Die Vorhut vor 20.000 Jahren war für das Rie...</td>\n      <td>['Die Vorhut vor 20.000 Jahren war für das Rie...</td>\n      <td>[0.9354256987571716, 0.5056698322296143, 0.492...</td>\n      <td>[Die Vorhut vor 20.000 Jahren war für das Ries...</td>\n    </tr>\n    <tr>\n      <th>505</th>\n      <td>1987</td>\n      <td>sehr1987</td>\n      <td>['Solche Menschen können sich sehr wohlfühlen ...</td>\n      <td>['Solche Menschen können sich sehr', '\" \" Das ...</td>\n      <td>[0.8664955496788025, 0.8348168730735779, 0.584...</td>\n      <td>[Solche Menschen können sich sehr, \" \" Das hat...</td>\n    </tr>\n  </tbody>\n</table>\n<p>506 rows × 6 columns</p>\n</div>"
     },
     "execution_count": 100,
     "metadata": {},
     "output_type": "execute_result"
    }
   ],
   "source": [
    "mbart_vanilla_data[\"evaluated_generated\"] = mbart_vanilla_data.apply(evaluate_generated, axis=1)\n",
    "mbart_vanilla_data"
   ],
   "metadata": {
    "collapsed": false,
    "ExecuteTime": {
     "end_time": "2024-01-31T16:16:57.737415045Z",
     "start_time": "2024-01-31T16:16:57.596980498Z"
    }
   },
   "id": "234516575dfe982d",
   "execution_count": 100
  },
  {
   "cell_type": "code",
   "outputs": [
    {
     "data": {
      "text/plain": "                                             definition examples  \\\n10    Die \"Negation:NEG_XgeschweigedennY-Konstruktio...       []   \n100   Die \"Äquativ_Plural-Konstruktion\" gehört zu de...       []   \n1004  Die \"Superlativ_Klimax:ADJ1_ADJ1-er_NP-Konstru...       []   \n1006  Die \"Superlativ:PRÄP_ADJ-ster_NP-Konstruktion\"...       []   \n101   Die \"Äquativ:ADJwieNP-Konstruktion\" gehört zu ...       []   \n...                                                 ...      ...   \n97    Die \"Komparativ:ADJ1-eralsADJ1-Konstruktion\" g...       []   \n973   Bei \"Disjunktion_Doppeltitel:XoderY\" handelt e...       []   \n976   Bei \"Korrelation_Affirmation:WoXist, istY\" han...       []   \n98    Die \"Äquativ:soADJwieXP-Konstruktion\" gehört z...       []   \n99    Die \"Komparativ:ADJ-eralsX-Konstruktion\" gehör...       []   \n\n                                              generated  \\\n10    [\"Die meisten von ihnen haben zuvor noch nie e...   \n100   [\"Die Katsup-Bottel sind gleich stark wie die ...   \n1004  [\"Die meiste Zeit verbringen die Schüler im Kl...   \n1006  [\"Die Sache ist die beste, die ich je gemacht ...   \n101   [\"Das Auto fährt schnell wie ein Flugzeug.\", \"...   \n...                                                 ...   \n97    [\"Ein Mann, der im Vergleich zu seinem Bruder ...   \n973                                          [\"XoderY\"]   \n976   [\"Wo es regnet, ist es auch dunkel.\", \"Wo es l...   \n98                [\"X\", \"so\", \"so\", \"groß\", \"als\", \"Y\"]   \n99    [\"Das Auto ist grösser als das Motorrad.\", \"Da...   \n\n                                    evaluated_generated  num_generated  \\\n10    [Die meisten von ihnen haben zuvor noch nie ei...              2   \n100   [Die Katsup-Bottel sind gleich stark wie die K...              3   \n1004  [Die meiste Zeit verbringen die Schüler im Kla...              5   \n1006  [Die Sache ist die beste, die ich je gemacht h...              1   \n101   [Das Auto fährt schnell wie ein Flugzeug., Das...              6   \n...                                                 ...            ...   \n97    [Ein Mann, der im Vergleich zu seinem Bruder s...              4   \n973                                            [XoderY]              1   \n976   [Wo es regnet, ist es auch dunkel., Wo es leic...              5   \n98                            [X, so, so, groß, als, Y]              6   \n99    [Das Auto ist grösser als das Motorrad., Das H...              4   \n\n      unique_generated  definition_overlap  examples_overlap   overlap  \\\n10                   2            0.833333               0.0  0.833333   \n100                  3            0.083333               0.0  0.083333   \n1004                 5            0.000000               0.0  0.000000   \n1006                 1            0.000000               0.0  0.000000   \n101                  6            0.052632               0.0  0.052632   \n...                ...                 ...               ...       ...   \n97                   4            0.066667               0.0  0.066667   \n973                  1            0.000000               0.0  0.000000   \n976                  5            0.100000               0.0  0.100000   \n98                   5            1.000000               0.0  1.000000   \n99                   4            0.000000               0.0  0.000000   \n\n      num_unique  \n10             4  \n100            9  \n1004          25  \n1006           1  \n101           36  \n...          ...  \n97            16  \n973            1  \n976           25  \n98            30  \n99            16  \n\n[211 rows x 10 columns]",
      "text/html": "<div>\n<style scoped>\n    .dataframe tbody tr th:only-of-type {\n        vertical-align: middle;\n    }\n\n    .dataframe tbody tr th {\n        vertical-align: top;\n    }\n\n    .dataframe thead th {\n        text-align: right;\n    }\n</style>\n<table border=\"1\" class=\"dataframe\">\n  <thead>\n    <tr style=\"text-align: right;\">\n      <th></th>\n      <th>definition</th>\n      <th>examples</th>\n      <th>generated</th>\n      <th>evaluated_generated</th>\n      <th>num_generated</th>\n      <th>unique_generated</th>\n      <th>definition_overlap</th>\n      <th>examples_overlap</th>\n      <th>overlap</th>\n      <th>num_unique</th>\n    </tr>\n  </thead>\n  <tbody>\n    <tr>\n      <th>10</th>\n      <td>Die \"Negation:NEG_XgeschweigedennY-Konstruktio...</td>\n      <td>[]</td>\n      <td>[\"Die meisten von ihnen haben zuvor noch nie e...</td>\n      <td>[Die meisten von ihnen haben zuvor noch nie ei...</td>\n      <td>2</td>\n      <td>2</td>\n      <td>0.833333</td>\n      <td>0.0</td>\n      <td>0.833333</td>\n      <td>4</td>\n    </tr>\n    <tr>\n      <th>100</th>\n      <td>Die \"Äquativ_Plural-Konstruktion\" gehört zu de...</td>\n      <td>[]</td>\n      <td>[\"Die Katsup-Bottel sind gleich stark wie die ...</td>\n      <td>[Die Katsup-Bottel sind gleich stark wie die K...</td>\n      <td>3</td>\n      <td>3</td>\n      <td>0.083333</td>\n      <td>0.0</td>\n      <td>0.083333</td>\n      <td>9</td>\n    </tr>\n    <tr>\n      <th>1004</th>\n      <td>Die \"Superlativ_Klimax:ADJ1_ADJ1-er_NP-Konstru...</td>\n      <td>[]</td>\n      <td>[\"Die meiste Zeit verbringen die Schüler im Kl...</td>\n      <td>[Die meiste Zeit verbringen die Schüler im Kla...</td>\n      <td>5</td>\n      <td>5</td>\n      <td>0.000000</td>\n      <td>0.0</td>\n      <td>0.000000</td>\n      <td>25</td>\n    </tr>\n    <tr>\n      <th>1006</th>\n      <td>Die \"Superlativ:PRÄP_ADJ-ster_NP-Konstruktion\"...</td>\n      <td>[]</td>\n      <td>[\"Die Sache ist die beste, die ich je gemacht ...</td>\n      <td>[Die Sache ist die beste, die ich je gemacht h...</td>\n      <td>1</td>\n      <td>1</td>\n      <td>0.000000</td>\n      <td>0.0</td>\n      <td>0.000000</td>\n      <td>1</td>\n    </tr>\n    <tr>\n      <th>101</th>\n      <td>Die \"Äquativ:ADJwieNP-Konstruktion\" gehört zu ...</td>\n      <td>[]</td>\n      <td>[\"Das Auto fährt schnell wie ein Flugzeug.\", \"...</td>\n      <td>[Das Auto fährt schnell wie ein Flugzeug., Das...</td>\n      <td>6</td>\n      <td>6</td>\n      <td>0.052632</td>\n      <td>0.0</td>\n      <td>0.052632</td>\n      <td>36</td>\n    </tr>\n    <tr>\n      <th>...</th>\n      <td>...</td>\n      <td>...</td>\n      <td>...</td>\n      <td>...</td>\n      <td>...</td>\n      <td>...</td>\n      <td>...</td>\n      <td>...</td>\n      <td>...</td>\n      <td>...</td>\n    </tr>\n    <tr>\n      <th>97</th>\n      <td>Die \"Komparativ:ADJ1-eralsADJ1-Konstruktion\" g...</td>\n      <td>[]</td>\n      <td>[\"Ein Mann, der im Vergleich zu seinem Bruder ...</td>\n      <td>[Ein Mann, der im Vergleich zu seinem Bruder s...</td>\n      <td>4</td>\n      <td>4</td>\n      <td>0.066667</td>\n      <td>0.0</td>\n      <td>0.066667</td>\n      <td>16</td>\n    </tr>\n    <tr>\n      <th>973</th>\n      <td>Bei \"Disjunktion_Doppeltitel:XoderY\" handelt e...</td>\n      <td>[]</td>\n      <td>[\"XoderY\"]</td>\n      <td>[XoderY]</td>\n      <td>1</td>\n      <td>1</td>\n      <td>0.000000</td>\n      <td>0.0</td>\n      <td>0.000000</td>\n      <td>1</td>\n    </tr>\n    <tr>\n      <th>976</th>\n      <td>Bei \"Korrelation_Affirmation:WoXist, istY\" han...</td>\n      <td>[]</td>\n      <td>[\"Wo es regnet, ist es auch dunkel.\", \"Wo es l...</td>\n      <td>[Wo es regnet, ist es auch dunkel., Wo es leic...</td>\n      <td>5</td>\n      <td>5</td>\n      <td>0.100000</td>\n      <td>0.0</td>\n      <td>0.100000</td>\n      <td>25</td>\n    </tr>\n    <tr>\n      <th>98</th>\n      <td>Die \"Äquativ:soADJwieXP-Konstruktion\" gehört z...</td>\n      <td>[]</td>\n      <td>[\"X\", \"so\", \"so\", \"groß\", \"als\", \"Y\"]</td>\n      <td>[X, so, so, groß, als, Y]</td>\n      <td>6</td>\n      <td>5</td>\n      <td>1.000000</td>\n      <td>0.0</td>\n      <td>1.000000</td>\n      <td>30</td>\n    </tr>\n    <tr>\n      <th>99</th>\n      <td>Die \"Komparativ:ADJ-eralsX-Konstruktion\" gehör...</td>\n      <td>[]</td>\n      <td>[\"Das Auto ist grösser als das Motorrad.\", \"Da...</td>\n      <td>[Das Auto ist grösser als das Motorrad., Das H...</td>\n      <td>4</td>\n      <td>4</td>\n      <td>0.000000</td>\n      <td>0.0</td>\n      <td>0.000000</td>\n      <td>16</td>\n    </tr>\n  </tbody>\n</table>\n<p>211 rows × 10 columns</p>\n</div>"
     },
     "execution_count": 101,
     "metadata": {},
     "output_type": "execute_result"
    }
   ],
   "source": [
    "for llama in llama_data.values():\n",
    "    llama[\"evaluated_generated\"] = llama.apply(evaluate_generated, axis=1)\n",
    "llama_data[0]"
   ],
   "metadata": {
    "collapsed": false,
    "ExecuteTime": {
     "end_time": "2024-01-31T16:16:57.738592295Z",
     "start_time": "2024-01-31T16:16:57.661801742Z"
    }
   },
   "id": "7f1a15e95f3b25ca",
   "execution_count": 101
  },
  {
   "cell_type": "code",
   "outputs": [
    {
     "data": {
      "text/plain": "                                             definition  \\\n10    Die \"Negation:NEG_XgeschweigedennY-Konstruktio...   \n100   Die \"Äquativ_Plural-Konstruktion\" gehört zu de...   \n1004  Die \"Superlativ_Klimax:ADJ1_ADJ1-er_NP-Konstru...   \n1006  Die \"Superlativ:PRÄP_ADJ-ster_NP-Konstruktion\"...   \n101   Die \"Äquativ:ADJwieNP-Konstruktion\" gehört zu ...   \n...                                                 ...   \n97    Die \"Komparativ:ADJ1-eralsADJ1-Konstruktion\" g...   \n973   Bei \"Disjunktion_Doppeltitel:XoderY\" handelt e...   \n976   Bei \"Korrelation_Affirmation:WoXist, istY\" han...   \n98    Die \"Äquativ:soADJwieXP-Konstruktion\" gehört z...   \n99    Die \"Komparativ:ADJ-eralsX-Konstruktion\" gehör...   \n\n                                    evaluated_generated  \\\n10    [Die meisten von ihnen haben zuvor noch nie ei...   \n100   [Die Katsup-Bottel sind gleich stark wie die K...   \n1004  [Die meiste Zeit verbringen die Schüler im Kla...   \n1006  [Die Sache ist die beste, die ich je gemacht h...   \n101   [Das Auto fährt schnell wie ein Flugzeug., Das...   \n...                                                 ...   \n97    [Ein Mann, der im Vergleich zu seinem Bruder s...   \n973                                            [XoderY]   \n976   [Wo es regnet, ist es auch dunkel., Wo es leic...   \n98                            [X, so, so, groß, als, Y]   \n99    [Das Auto ist grösser als das Motorrad., Das H...   \n\n                                               examples  \n10    ['Ohne seine suggestiv - erhabenen Orchesterko...  \n100   ['Sie fand es albern , ich hielt es für Kunst ...  \n1004  ['Wie die Ratskanzlei mitteilt , seien Patient...  \n1006  ['\" \" In dieser Jahreszeit ist die Aedes - Müc...  \n101   ['( darf ja im Grunde nichts schlechtes schrei...  \n...                                                 ...  \n97    ['Ihre Partei , die Union , wird abermals zur ...  \n973   ['Pfui ist das neue Hui , stern', 'Kate ist di...  \n976   ['Berlin/Offenbach ( dpa ) - Sommer im April :...  \n98    ['Der Sohn sei ständig » inmitten eines Ozeans...  \n99    ['Manche haben mich damals als »Wunderkind« be...  \n\n[211 rows x 3 columns]",
      "text/html": "<div>\n<style scoped>\n    .dataframe tbody tr th:only-of-type {\n        vertical-align: middle;\n    }\n\n    .dataframe tbody tr th {\n        vertical-align: top;\n    }\n\n    .dataframe thead th {\n        text-align: right;\n    }\n</style>\n<table border=\"1\" class=\"dataframe\">\n  <thead>\n    <tr style=\"text-align: right;\">\n      <th></th>\n      <th>definition</th>\n      <th>evaluated_generated</th>\n      <th>examples</th>\n    </tr>\n  </thead>\n  <tbody>\n    <tr>\n      <th>10</th>\n      <td>Die \"Negation:NEG_XgeschweigedennY-Konstruktio...</td>\n      <td>[Die meisten von ihnen haben zuvor noch nie ei...</td>\n      <td>['Ohne seine suggestiv - erhabenen Orchesterko...</td>\n    </tr>\n    <tr>\n      <th>100</th>\n      <td>Die \"Äquativ_Plural-Konstruktion\" gehört zu de...</td>\n      <td>[Die Katsup-Bottel sind gleich stark wie die K...</td>\n      <td>['Sie fand es albern , ich hielt es für Kunst ...</td>\n    </tr>\n    <tr>\n      <th>1004</th>\n      <td>Die \"Superlativ_Klimax:ADJ1_ADJ1-er_NP-Konstru...</td>\n      <td>[Die meiste Zeit verbringen die Schüler im Kla...</td>\n      <td>['Wie die Ratskanzlei mitteilt , seien Patient...</td>\n    </tr>\n    <tr>\n      <th>1006</th>\n      <td>Die \"Superlativ:PRÄP_ADJ-ster_NP-Konstruktion\"...</td>\n      <td>[Die Sache ist die beste, die ich je gemacht h...</td>\n      <td>['\" \" In dieser Jahreszeit ist die Aedes - Müc...</td>\n    </tr>\n    <tr>\n      <th>101</th>\n      <td>Die \"Äquativ:ADJwieNP-Konstruktion\" gehört zu ...</td>\n      <td>[Das Auto fährt schnell wie ein Flugzeug., Das...</td>\n      <td>['( darf ja im Grunde nichts schlechtes schrei...</td>\n    </tr>\n    <tr>\n      <th>...</th>\n      <td>...</td>\n      <td>...</td>\n      <td>...</td>\n    </tr>\n    <tr>\n      <th>97</th>\n      <td>Die \"Komparativ:ADJ1-eralsADJ1-Konstruktion\" g...</td>\n      <td>[Ein Mann, der im Vergleich zu seinem Bruder s...</td>\n      <td>['Ihre Partei , die Union , wird abermals zur ...</td>\n    </tr>\n    <tr>\n      <th>973</th>\n      <td>Bei \"Disjunktion_Doppeltitel:XoderY\" handelt e...</td>\n      <td>[XoderY]</td>\n      <td>['Pfui ist das neue Hui , stern', 'Kate ist di...</td>\n    </tr>\n    <tr>\n      <th>976</th>\n      <td>Bei \"Korrelation_Affirmation:WoXist, istY\" han...</td>\n      <td>[Wo es regnet, ist es auch dunkel., Wo es leic...</td>\n      <td>['Berlin/Offenbach ( dpa ) - Sommer im April :...</td>\n    </tr>\n    <tr>\n      <th>98</th>\n      <td>Die \"Äquativ:soADJwieXP-Konstruktion\" gehört z...</td>\n      <td>[X, so, so, groß, als, Y]</td>\n      <td>['Der Sohn sei ständig » inmitten eines Ozeans...</td>\n    </tr>\n    <tr>\n      <th>99</th>\n      <td>Die \"Komparativ:ADJ-eralsX-Konstruktion\" gehör...</td>\n      <td>[Das Auto ist grösser als das Motorrad., Das H...</td>\n      <td>['Manche haben mich damals als »Wunderkind« be...</td>\n    </tr>\n  </tbody>\n</table>\n<p>211 rows × 3 columns</p>\n</div>"
     },
     "execution_count": 102,
     "metadata": {},
     "output_type": "execute_result"
    }
   ],
   "source": [
    "llama_subset = pd.concat((llama_data[0][[\"definition\", \"evaluated_generated\"]], llama_data[4][\"examples\"]), axis=1)\n",
    "llama_subset"
   ],
   "metadata": {
    "collapsed": false,
    "ExecuteTime": {
     "end_time": "2024-01-31T16:16:57.784450642Z",
     "start_time": "2024-01-31T16:16:57.661962228Z"
    }
   },
   "id": "561e66da9ccfe634",
   "execution_count": 102
  },
  {
   "cell_type": "code",
   "outputs": [
    {
     "data": {
      "text/plain": "      construction                  evaluated_generated_mbart_vanilla  \\\n0                5  [\"\"Nicht herauskaufen\"\", \"\"nicht erpressen las...   \n1                5  [\"\"Nicht herauskaufen\"\", \"\"nicht erpressen las...   \n2                5  [\"\"Nicht herauskaufen\"\", \"\"nicht erpressen las...   \n3                5  [\"\"Nicht herauskaufen\"\", \"\"nicht erpressen las...   \n4                5  [\"\"Nicht herauskaufen\"\", \"\"nicht erpressen las...   \n...            ...                                                ...   \n2827          1884  [Schweigen ist wie Gold., Schweigen ist wie Go...   \n2828          1884  [Schweigen ist wie Gold., Schweigen ist wie Go...   \n2829          1884  [Schweigen ist wie Gold., Schweigen ist wie Go...   \n2830          1986  [Die Vorhut vor 20.000 Jahren war für das Ries...   \n2831          1987  [Solche Menschen können sich sehr, \" \" Das hat...   \n\n                       evaluated_generated_mbart_pseudo  \n0     [... Mehrwertsteuer......., Auf das schnelle V...  \n1     [..........., Tatsächlich sind wir uns niemals...  \n2     [Es hat Afghanistan nicht stabilisiert und sch...  \n3                                                    []  \n4     [............, Tatsächlich sind wir uns niemal...  \n...                                                 ...  \n2827  [Schweigen ist Silber, reden ist Gold....., Sc...  \n2828  [Schweigen ist... Gold..., Schweigen ist Gold!...  \n2829  [Schweigen... Gold...., Schweigen Gold!, Angeb...  \n2830  [Die Vorhut vor 20.000 Jahren war für das Ries...  \n2831  [.........., \" \" Das hat die Schüler nicht rec...  \n\n[2832 rows x 3 columns]",
      "text/html": "<div>\n<style scoped>\n    .dataframe tbody tr th:only-of-type {\n        vertical-align: middle;\n    }\n\n    .dataframe tbody tr th {\n        vertical-align: top;\n    }\n\n    .dataframe thead th {\n        text-align: right;\n    }\n</style>\n<table border=\"1\" class=\"dataframe\">\n  <thead>\n    <tr style=\"text-align: right;\">\n      <th></th>\n      <th>construction</th>\n      <th>evaluated_generated_mbart_vanilla</th>\n      <th>evaluated_generated_mbart_pseudo</th>\n    </tr>\n  </thead>\n  <tbody>\n    <tr>\n      <th>0</th>\n      <td>5</td>\n      <td>[\"\"Nicht herauskaufen\"\", \"\"nicht erpressen las...</td>\n      <td>[... Mehrwertsteuer......., Auf das schnelle V...</td>\n    </tr>\n    <tr>\n      <th>1</th>\n      <td>5</td>\n      <td>[\"\"Nicht herauskaufen\"\", \"\"nicht erpressen las...</td>\n      <td>[..........., Tatsächlich sind wir uns niemals...</td>\n    </tr>\n    <tr>\n      <th>2</th>\n      <td>5</td>\n      <td>[\"\"Nicht herauskaufen\"\", \"\"nicht erpressen las...</td>\n      <td>[Es hat Afghanistan nicht stabilisiert und sch...</td>\n    </tr>\n    <tr>\n      <th>3</th>\n      <td>5</td>\n      <td>[\"\"Nicht herauskaufen\"\", \"\"nicht erpressen las...</td>\n      <td>[]</td>\n    </tr>\n    <tr>\n      <th>4</th>\n      <td>5</td>\n      <td>[\"\"Nicht herauskaufen\"\", \"\"nicht erpressen las...</td>\n      <td>[............, Tatsächlich sind wir uns niemal...</td>\n    </tr>\n    <tr>\n      <th>...</th>\n      <td>...</td>\n      <td>...</td>\n      <td>...</td>\n    </tr>\n    <tr>\n      <th>2827</th>\n      <td>1884</td>\n      <td>[Schweigen ist wie Gold., Schweigen ist wie Go...</td>\n      <td>[Schweigen ist Silber, reden ist Gold....., Sc...</td>\n    </tr>\n    <tr>\n      <th>2828</th>\n      <td>1884</td>\n      <td>[Schweigen ist wie Gold., Schweigen ist wie Go...</td>\n      <td>[Schweigen ist... Gold..., Schweigen ist Gold!...</td>\n    </tr>\n    <tr>\n      <th>2829</th>\n      <td>1884</td>\n      <td>[Schweigen ist wie Gold., Schweigen ist wie Go...</td>\n      <td>[Schweigen... Gold...., Schweigen Gold!, Angeb...</td>\n    </tr>\n    <tr>\n      <th>2830</th>\n      <td>1986</td>\n      <td>[Die Vorhut vor 20.000 Jahren war für das Ries...</td>\n      <td>[Die Vorhut vor 20.000 Jahren war für das Ries...</td>\n    </tr>\n    <tr>\n      <th>2831</th>\n      <td>1987</td>\n      <td>[Solche Menschen können sich sehr, \" \" Das hat...</td>\n      <td>[.........., \" \" Das hat die Schüler nicht rec...</td>\n    </tr>\n  </tbody>\n</table>\n<p>2832 rows × 3 columns</p>\n</div>"
     },
     "execution_count": 103,
     "metadata": {},
     "output_type": "execute_result"
    }
   ],
   "source": [
    "mbart_merged = pd.merge(mbart_vanilla_data[[\"construction\", \"evaluated_generated\"]], mbart_data[[\"construction\", \"evaluated_generated\"]], on=\"construction\", how=\"inner\", suffixes=[\"_mbart_vanilla\", \"_mbart_pseudo\"])\n",
    "mbart_merged"
   ],
   "metadata": {
    "collapsed": false,
    "ExecuteTime": {
     "end_time": "2024-01-31T16:16:57.785236981Z",
     "start_time": "2024-01-31T16:16:57.709890021Z"
    }
   },
   "id": "ff54479cbe09e69a",
   "execution_count": 103
  },
  {
   "cell_type": "code",
   "outputs": [
    {
     "data": {
      "text/plain": "                                            definition  \\\n49   Die \"Negation:NEG_XgeschweigedennY-Konstruktio...   \n50   Die \"Negation:NEG_XgeschweigedennY-Konstruktio...   \n51   Die \"Negation:NEG_XgeschweigedennY-Konstruktio...   \n52   Die \"Negation:NEG_XgeschweigedennY-Konstruktio...   \n53   Die \"Negation:NEG_XgeschweigedennY-Konstruktio...   \n..                                                 ...   \n161  Die \"Äquativ:soADJwieXP-Konstruktion\" gehört z...   \n162  Die \"Äquativ:soADJwieXP-Konstruktion\" gehört z...   \n163  Die \"Äquativ:soADJwieXP-Konstruktion\" gehört z...   \n164  Die \"Äquativ:soADJwieXP-Konstruktion\" gehört z...   \n165  Die \"Komparativ:ADJ-eralsX-Konstruktion\" gehör...   \n\n                                   evaluated_generated  \\\n49   [Die meisten von ihnen haben zuvor noch nie ei...   \n50   [Die meisten von ihnen haben zuvor noch nie ei...   \n51   [Die meisten von ihnen haben zuvor noch nie ei...   \n52   [Die meisten von ihnen haben zuvor noch nie ei...   \n53   [Die meisten von ihnen haben zuvor noch nie ei...   \n..                                                 ...   \n161                          [X, so, so, groß, als, Y]   \n162                          [X, so, so, groß, als, Y]   \n163                          [X, so, so, groß, als, Y]   \n164                          [X, so, so, groß, als, Y]   \n165  [Das Auto ist grösser als das Motorrad., Das H...   \n\n                                              examples  construction  \\\n49   ['Ohne seine suggestiv - erhabenen Orchesterko...            10   \n50   ['Ohne seine suggestiv - erhabenen Orchesterko...            10   \n51   ['Ohne seine suggestiv - erhabenen Orchesterko...            10   \n52   ['Ohne seine suggestiv - erhabenen Orchesterko...            10   \n53   ['Ohne seine suggestiv - erhabenen Orchesterko...            10   \n..                                                 ...           ...   \n161  ['Der Sohn sei ständig » inmitten eines Ozeans...            98   \n162  ['Der Sohn sei ständig » inmitten eines Ozeans...            98   \n163  ['Der Sohn sei ständig » inmitten eines Ozeans...            98   \n164  ['Der Sohn sei ständig » inmitten eines Ozeans...            98   \n165  ['Manche haben mich damals als »Wunderkind« be...            99   \n\n                     evaluated_generated_mbart_vanilla  \\\n49   [Die Chance dazu haben sie, und sie haben sie ...   \n50   [Die Chance dazu haben sie, und sie haben sie ...   \n51   [Die Chance dazu haben sie, und sie haben sie ...   \n52   [Und dann ist da noch das generelle Problem mi...   \n53   [Und dann ist da noch das generelle Problem mi...   \n..                                                 ...   \n161  [Als Vorstandsvorsitzender verdient er grob 10...   \n162  [Als Vorstandsvorsitzender verdient er grob 10...   \n163  [Als Vorstandsvorsitzender verdient er grob 10...   \n164  [Als Vorstandsvorsitzender verdient er grob 10...   \n165  [im Gang sieht sie plötzlich Jamie, erkennt ih...   \n\n                      evaluated_generated_mbart_pseudo  \n49   [Die Chance dazu haben sie, und sie haben sie ...  \n50   [..........., »Ohne Europa sind viele Fragen n...  \n51   [............., »Ohne Europa sind viele Fragen...  \n52   [Die Chance dazu haben sie, und sie haben sie ...  \n53   [..........., »Ohne Europa sind viele Fragen n...  \n..                                                 ...  \n161  [Nun bleibt die Frage : Wird der Bitcoin - Kur...  \n162  [.........., Auch die zwischenmenschliche Kluf...  \n163  [Doch Spirale II, das ebenfalls aus dem Jahr 1...  \n164  [Als Vorstandsvorsitzender verdient er grob 10...  \n165                                                 []  \n\n[2832 rows x 6 columns]",
      "text/html": "<div>\n<style scoped>\n    .dataframe tbody tr th:only-of-type {\n        vertical-align: middle;\n    }\n\n    .dataframe tbody tr th {\n        vertical-align: top;\n    }\n\n    .dataframe thead th {\n        text-align: right;\n    }\n</style>\n<table border=\"1\" class=\"dataframe\">\n  <thead>\n    <tr style=\"text-align: right;\">\n      <th></th>\n      <th>definition</th>\n      <th>evaluated_generated</th>\n      <th>examples</th>\n      <th>construction</th>\n      <th>evaluated_generated_mbart_vanilla</th>\n      <th>evaluated_generated_mbart_pseudo</th>\n    </tr>\n  </thead>\n  <tbody>\n    <tr>\n      <th>49</th>\n      <td>Die \"Negation:NEG_XgeschweigedennY-Konstruktio...</td>\n      <td>[Die meisten von ihnen haben zuvor noch nie ei...</td>\n      <td>['Ohne seine suggestiv - erhabenen Orchesterko...</td>\n      <td>10</td>\n      <td>[Die Chance dazu haben sie, und sie haben sie ...</td>\n      <td>[Die Chance dazu haben sie, und sie haben sie ...</td>\n    </tr>\n    <tr>\n      <th>50</th>\n      <td>Die \"Negation:NEG_XgeschweigedennY-Konstruktio...</td>\n      <td>[Die meisten von ihnen haben zuvor noch nie ei...</td>\n      <td>['Ohne seine suggestiv - erhabenen Orchesterko...</td>\n      <td>10</td>\n      <td>[Die Chance dazu haben sie, und sie haben sie ...</td>\n      <td>[..........., »Ohne Europa sind viele Fragen n...</td>\n    </tr>\n    <tr>\n      <th>51</th>\n      <td>Die \"Negation:NEG_XgeschweigedennY-Konstruktio...</td>\n      <td>[Die meisten von ihnen haben zuvor noch nie ei...</td>\n      <td>['Ohne seine suggestiv - erhabenen Orchesterko...</td>\n      <td>10</td>\n      <td>[Die Chance dazu haben sie, und sie haben sie ...</td>\n      <td>[............., »Ohne Europa sind viele Fragen...</td>\n    </tr>\n    <tr>\n      <th>52</th>\n      <td>Die \"Negation:NEG_XgeschweigedennY-Konstruktio...</td>\n      <td>[Die meisten von ihnen haben zuvor noch nie ei...</td>\n      <td>['Ohne seine suggestiv - erhabenen Orchesterko...</td>\n      <td>10</td>\n      <td>[Und dann ist da noch das generelle Problem mi...</td>\n      <td>[Die Chance dazu haben sie, und sie haben sie ...</td>\n    </tr>\n    <tr>\n      <th>53</th>\n      <td>Die \"Negation:NEG_XgeschweigedennY-Konstruktio...</td>\n      <td>[Die meisten von ihnen haben zuvor noch nie ei...</td>\n      <td>['Ohne seine suggestiv - erhabenen Orchesterko...</td>\n      <td>10</td>\n      <td>[Und dann ist da noch das generelle Problem mi...</td>\n      <td>[..........., »Ohne Europa sind viele Fragen n...</td>\n    </tr>\n    <tr>\n      <th>...</th>\n      <td>...</td>\n      <td>...</td>\n      <td>...</td>\n      <td>...</td>\n      <td>...</td>\n      <td>...</td>\n    </tr>\n    <tr>\n      <th>161</th>\n      <td>Die \"Äquativ:soADJwieXP-Konstruktion\" gehört z...</td>\n      <td>[X, so, so, groß, als, Y]</td>\n      <td>['Der Sohn sei ständig » inmitten eines Ozeans...</td>\n      <td>98</td>\n      <td>[Als Vorstandsvorsitzender verdient er grob 10...</td>\n      <td>[Nun bleibt die Frage : Wird der Bitcoin - Kur...</td>\n    </tr>\n    <tr>\n      <th>162</th>\n      <td>Die \"Äquativ:soADJwieXP-Konstruktion\" gehört z...</td>\n      <td>[X, so, so, groß, als, Y]</td>\n      <td>['Der Sohn sei ständig » inmitten eines Ozeans...</td>\n      <td>98</td>\n      <td>[Als Vorstandsvorsitzender verdient er grob 10...</td>\n      <td>[.........., Auch die zwischenmenschliche Kluf...</td>\n    </tr>\n    <tr>\n      <th>163</th>\n      <td>Die \"Äquativ:soADJwieXP-Konstruktion\" gehört z...</td>\n      <td>[X, so, so, groß, als, Y]</td>\n      <td>['Der Sohn sei ständig » inmitten eines Ozeans...</td>\n      <td>98</td>\n      <td>[Als Vorstandsvorsitzender verdient er grob 10...</td>\n      <td>[Doch Spirale II, das ebenfalls aus dem Jahr 1...</td>\n    </tr>\n    <tr>\n      <th>164</th>\n      <td>Die \"Äquativ:soADJwieXP-Konstruktion\" gehört z...</td>\n      <td>[X, so, so, groß, als, Y]</td>\n      <td>['Der Sohn sei ständig » inmitten eines Ozeans...</td>\n      <td>98</td>\n      <td>[Als Vorstandsvorsitzender verdient er grob 10...</td>\n      <td>[Als Vorstandsvorsitzender verdient er grob 10...</td>\n    </tr>\n    <tr>\n      <th>165</th>\n      <td>Die \"Komparativ:ADJ-eralsX-Konstruktion\" gehör...</td>\n      <td>[Das Auto ist grösser als das Motorrad., Das H...</td>\n      <td>['Manche haben mich damals als »Wunderkind« be...</td>\n      <td>99</td>\n      <td>[im Gang sieht sie plötzlich Jamie, erkennt ih...</td>\n      <td>[]</td>\n    </tr>\n  </tbody>\n</table>\n<p>2832 rows × 6 columns</p>\n</div>"
     },
     "execution_count": 104,
     "metadata": {},
     "output_type": "execute_result"
    }
   ],
   "source": [
    "final_merged = pd.merge(llama_subset, mbart_merged, left_index=True, right_on=\"construction\")\n",
    "\n",
    "final_merged"
   ],
   "metadata": {
    "collapsed": false,
    "ExecuteTime": {
     "end_time": "2024-01-31T16:16:57.932051412Z",
     "start_time": "2024-01-31T16:16:57.757799885Z"
    }
   },
   "id": "ed3f21f350f3e02",
   "execution_count": 104
  },
  {
   "cell_type": "code",
   "outputs": [
    {
     "data": {
      "text/plain": "     construction                                evaluated_generated\n49             10  Die meisten von ihnen haben zuvor noch nie ein...\n49             10  Die meisten von ihnen haben zuvor noch nie ein...\n166           100  Die Katsup-Bottel sind gleich stark wie die Ke...\n166           100  Die Tafel ist gleichweit von der Mauer entfern...\n166           100          Die Schere ist gleichschärf wie die Zange\n..            ...                                                ...\n140            98                                                  Y\n165            99             Das Auto ist grösser als das Motorrad.\n165            99            Das Haus ist größter als das Apartment.\n165            99                Der Hund ist kleiner als der Katze.\n165            99         Das Kind ist schlanker als der Erwachsene.\n\n[495 rows x 2 columns]",
      "text/html": "<div>\n<style scoped>\n    .dataframe tbody tr th:only-of-type {\n        vertical-align: middle;\n    }\n\n    .dataframe tbody tr th {\n        vertical-align: top;\n    }\n\n    .dataframe thead th {\n        text-align: right;\n    }\n</style>\n<table border=\"1\" class=\"dataframe\">\n  <thead>\n    <tr style=\"text-align: right;\">\n      <th></th>\n      <th>construction</th>\n      <th>evaluated_generated</th>\n    </tr>\n  </thead>\n  <tbody>\n    <tr>\n      <th>49</th>\n      <td>10</td>\n      <td>Die meisten von ihnen haben zuvor noch nie ein...</td>\n    </tr>\n    <tr>\n      <th>49</th>\n      <td>10</td>\n      <td>Die meisten von ihnen haben zuvor noch nie ein...</td>\n    </tr>\n    <tr>\n      <th>166</th>\n      <td>100</td>\n      <td>Die Katsup-Bottel sind gleich stark wie die Ke...</td>\n    </tr>\n    <tr>\n      <th>166</th>\n      <td>100</td>\n      <td>Die Tafel ist gleichweit von der Mauer entfern...</td>\n    </tr>\n    <tr>\n      <th>166</th>\n      <td>100</td>\n      <td>Die Schere ist gleichschärf wie die Zange</td>\n    </tr>\n    <tr>\n      <th>...</th>\n      <td>...</td>\n      <td>...</td>\n    </tr>\n    <tr>\n      <th>140</th>\n      <td>98</td>\n      <td>Y</td>\n    </tr>\n    <tr>\n      <th>165</th>\n      <td>99</td>\n      <td>Das Auto ist grösser als das Motorrad.</td>\n    </tr>\n    <tr>\n      <th>165</th>\n      <td>99</td>\n      <td>Das Haus ist größter als das Apartment.</td>\n    </tr>\n    <tr>\n      <th>165</th>\n      <td>99</td>\n      <td>Der Hund ist kleiner als der Katze.</td>\n    </tr>\n    <tr>\n      <th>165</th>\n      <td>99</td>\n      <td>Das Kind ist schlanker als der Erwachsene.</td>\n    </tr>\n  </tbody>\n</table>\n<p>495 rows × 2 columns</p>\n</div>"
     },
     "execution_count": 105,
     "metadata": {},
     "output_type": "execute_result"
    }
   ],
   "source": [
    "llama_generated = final_merged[[\"construction\", \"evaluated_generated\"]].explode(\"evaluated_generated\").drop_duplicates()\n",
    "llama_generated.to_csv(f\"../../out/generated/llama_0_shot.tsv\", sep=\"\\t\", decimal=\",\", index=False)\n",
    "llama_generated"
   ],
   "metadata": {
    "collapsed": false,
    "ExecuteTime": {
     "end_time": "2024-01-31T16:16:57.932538090Z",
     "start_time": "2024-01-31T16:16:57.757973871Z"
    }
   },
   "id": "e68854aa2359c4bc",
   "execution_count": 105
  },
  {
   "cell_type": "code",
   "outputs": [
    {
     "data": {
      "text/plain": "     construction                  evaluated_generated_mbart_vanilla\n49             10  Die Chance dazu haben sie, und sie haben sie i...\n49             10               Sie kennen aber nicht ihre Ausgaben.\n49             10  Ein verbesserter Zugang zu einzelnen Abgeordne...\n52             10  Und dann ist da noch das generelle Problem mit...\n52             10  \"Ohne Europa sind viele Fragen nicht mehr seriös\"\n..            ...                                                ...\n160            98                   Der Baum, so wie er sein sollte.\n160            98                     Bei allen Abstimmungen, die so\n160            98                         Sie machen so , was nützt.\n165            99  im Gang sieht sie plötzlich Jamie, erkennt ihn...\n165            99    rund 45. 000 Dollar soll der Byton - SUV kosten\n\n[7992 rows x 2 columns]",
      "text/html": "<div>\n<style scoped>\n    .dataframe tbody tr th:only-of-type {\n        vertical-align: middle;\n    }\n\n    .dataframe tbody tr th {\n        vertical-align: top;\n    }\n\n    .dataframe thead th {\n        text-align: right;\n    }\n</style>\n<table border=\"1\" class=\"dataframe\">\n  <thead>\n    <tr style=\"text-align: right;\">\n      <th></th>\n      <th>construction</th>\n      <th>evaluated_generated_mbart_vanilla</th>\n    </tr>\n  </thead>\n  <tbody>\n    <tr>\n      <th>49</th>\n      <td>10</td>\n      <td>Die Chance dazu haben sie, und sie haben sie i...</td>\n    </tr>\n    <tr>\n      <th>49</th>\n      <td>10</td>\n      <td>Sie kennen aber nicht ihre Ausgaben.</td>\n    </tr>\n    <tr>\n      <th>49</th>\n      <td>10</td>\n      <td>Ein verbesserter Zugang zu einzelnen Abgeordne...</td>\n    </tr>\n    <tr>\n      <th>52</th>\n      <td>10</td>\n      <td>Und dann ist da noch das generelle Problem mit...</td>\n    </tr>\n    <tr>\n      <th>52</th>\n      <td>10</td>\n      <td>\"Ohne Europa sind viele Fragen nicht mehr seriös\"</td>\n    </tr>\n    <tr>\n      <th>...</th>\n      <td>...</td>\n      <td>...</td>\n    </tr>\n    <tr>\n      <th>160</th>\n      <td>98</td>\n      <td>Der Baum, so wie er sein sollte.</td>\n    </tr>\n    <tr>\n      <th>160</th>\n      <td>98</td>\n      <td>Bei allen Abstimmungen, die so</td>\n    </tr>\n    <tr>\n      <th>160</th>\n      <td>98</td>\n      <td>Sie machen so , was nützt.</td>\n    </tr>\n    <tr>\n      <th>165</th>\n      <td>99</td>\n      <td>im Gang sieht sie plötzlich Jamie, erkennt ihn...</td>\n    </tr>\n    <tr>\n      <th>165</th>\n      <td>99</td>\n      <td>rund 45. 000 Dollar soll der Byton - SUV kosten</td>\n    </tr>\n  </tbody>\n</table>\n<p>7992 rows × 2 columns</p>\n</div>"
     },
     "execution_count": 106,
     "metadata": {},
     "output_type": "execute_result"
    }
   ],
   "source": [
    "mbart_vanilla_generated = final_merged[[\"construction\", \"evaluated_generated_mbart_vanilla\"]].explode(\"evaluated_generated_mbart_vanilla\").drop_duplicates()\n",
    "mbart_vanilla_generated.to_csv(f\"../../out/generated/mbart_vanilla.tsv\", sep=\"\\t\", decimal=\",\", index=False)\n",
    "mbart_vanilla_generated"
   ],
   "metadata": {
    "collapsed": false,
    "ExecuteTime": {
     "end_time": "2024-01-31T16:16:57.958835116Z",
     "start_time": "2024-01-31T16:16:57.758119247Z"
    }
   },
   "id": "4bc0737b0597d90a",
   "execution_count": 106
  },
  {
   "cell_type": "code",
   "outputs": [
    {
     "data": {
      "text/plain": "     construction                   evaluated_generated_mbart_pseudo\n49             10  Die Chance dazu haben sie, und sie haben sie i...\n49             10            Sie kennen aber nicht ihren Kontostand.\n49             10                                     ..............\n50             10                                        ...........\n50             10  »Ohne Europa sind viele Fragen nicht mehr seri...\n..            ...                                                ...\n144            98                           Sind die Noaks Marcumar?\n144            98                           Der Baum,.. sollte......\n144            98           Bei allen Abstimmungen, die Bevölkerung.\n144            98                                  Sie machen nützt.\n165            99                                                NaN\n\n[7073 rows x 2 columns]",
      "text/html": "<div>\n<style scoped>\n    .dataframe tbody tr th:only-of-type {\n        vertical-align: middle;\n    }\n\n    .dataframe tbody tr th {\n        vertical-align: top;\n    }\n\n    .dataframe thead th {\n        text-align: right;\n    }\n</style>\n<table border=\"1\" class=\"dataframe\">\n  <thead>\n    <tr style=\"text-align: right;\">\n      <th></th>\n      <th>construction</th>\n      <th>evaluated_generated_mbart_pseudo</th>\n    </tr>\n  </thead>\n  <tbody>\n    <tr>\n      <th>49</th>\n      <td>10</td>\n      <td>Die Chance dazu haben sie, und sie haben sie i...</td>\n    </tr>\n    <tr>\n      <th>49</th>\n      <td>10</td>\n      <td>Sie kennen aber nicht ihren Kontostand.</td>\n    </tr>\n    <tr>\n      <th>49</th>\n      <td>10</td>\n      <td>..............</td>\n    </tr>\n    <tr>\n      <th>50</th>\n      <td>10</td>\n      <td>...........</td>\n    </tr>\n    <tr>\n      <th>50</th>\n      <td>10</td>\n      <td>»Ohne Europa sind viele Fragen nicht mehr seri...</td>\n    </tr>\n    <tr>\n      <th>...</th>\n      <td>...</td>\n      <td>...</td>\n    </tr>\n    <tr>\n      <th>144</th>\n      <td>98</td>\n      <td>Sind die Noaks Marcumar?</td>\n    </tr>\n    <tr>\n      <th>144</th>\n      <td>98</td>\n      <td>Der Baum,.. sollte......</td>\n    </tr>\n    <tr>\n      <th>144</th>\n      <td>98</td>\n      <td>Bei allen Abstimmungen, die Bevölkerung.</td>\n    </tr>\n    <tr>\n      <th>144</th>\n      <td>98</td>\n      <td>Sie machen nützt.</td>\n    </tr>\n    <tr>\n      <th>165</th>\n      <td>99</td>\n      <td>NaN</td>\n    </tr>\n  </tbody>\n</table>\n<p>7073 rows × 2 columns</p>\n</div>"
     },
     "execution_count": 107,
     "metadata": {},
     "output_type": "execute_result"
    }
   ],
   "source": [
    "mbart_pseudo_generated = final_merged[[\"construction\", \"evaluated_generated_mbart_pseudo\"]].explode(\"evaluated_generated_mbart_pseudo\").drop_duplicates()\n",
    "mbart_pseudo_generated.to_csv(f\"../../out/generated/mbart_pseudo.tsv\", sep=\"\\t\", decimal=\",\", index=False)\n",
    "mbart_pseudo_generated"
   ],
   "metadata": {
    "collapsed": false,
    "ExecuteTime": {
     "end_time": "2024-01-31T16:16:57.959844639Z",
     "start_time": "2024-01-31T16:16:57.805808706Z"
    }
   },
   "id": "f68bf61c3412dc20",
   "execution_count": 107
  }
 ],
 "metadata": {
  "kernelspec": {
   "display_name": "Python 3",
   "language": "python",
   "name": "python3"
  },
  "language_info": {
   "codemirror_mode": {
    "name": "ipython",
    "version": 2
   },
   "file_extension": ".py",
   "mimetype": "text/x-python",
   "name": "python",
   "nbconvert_exporter": "python",
   "pygments_lexer": "ipython2",
   "version": "2.7.6"
  }
 },
 "nbformat": 4,
 "nbformat_minor": 5
}
