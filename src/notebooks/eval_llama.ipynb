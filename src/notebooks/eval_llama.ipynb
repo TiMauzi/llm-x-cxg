{
 "cells": [
  {
   "cell_type": "code",
   "execution_count": null,
   "id": "initial_id",
   "metadata": {
    "collapsed": true
   },
   "outputs": [],
   "source": [
    "import pandas as pd\n",
    "import numpy as np\n",
    "import matplotlib.pyplot as plt\n",
    "import glob\n",
    "\n",
    "from tqdm.notebook import tqdm"
   ]
  },
  {
   "cell_type": "code",
   "outputs": [],
   "source": [
    "subset_dataframes = {}\n",
    "\n",
    "subset_pattern = f\"./data/result_*t_vs_*f_3attempts_llama.tsv\"\n",
    "# Get a list of files for the current subset pattern:\n",
    "subset_files = glob.glob(subset_pattern)\n",
    "for file_path in subset_files:\n",
    "    # Extract num_true and num_false from the file name:\n",
    "    num_true, num_false = map(int, (file_path.split('_')[1][0], file_path.split('_')[3][0]))\n",
    "    \n",
    "    df = pd.read_csv(file_path, sep='\\t', decimal=\",\", header=0)\n",
    "    subset_dataframes[(num_true, num_false)] = df"
   ],
   "metadata": {
    "collapsed": false
   },
   "id": "71a522ab19f15aee",
   "execution_count": null
  },
  {
   "cell_type": "code",
   "outputs": [],
   "source": [
    "subset_dataframes[(1, 1)]"
   ],
   "metadata": {
    "collapsed": false
   },
   "id": "5ad6d040fccf0bc2",
   "execution_count": null
  },
  {
   "cell_type": "code",
   "outputs": [],
   "source": [
    "colors_accuracy = \"Blues\"\n",
    "colors_f1 = \"YlOrBr\"\n",
    "valuefont = {'fontname': 'Libertinus Serif', 'fontweight': 'heavy'}\n",
    "captionfont = {'fontname': 'Libertinus Serif'}\n",
    "\n",
    "metrics = [(\"accuracy\", colors_accuracy), (\"f1\", colors_f1)]\n",
    "\n",
    "with_zeros = (0, 1) in subset_dataframes.keys() or (1, 0) in subset_dataframes.keys()\n",
    "\n",
    "# Loop over metrics (accuracy, f1)\n",
    "for k, (metric, cmap) in enumerate(metrics):\n",
    "    fig, ax = plt.subplots(1, 1, figsize=(5, 5))    \n",
    "    matrices = []\n",
    "    for num_true, num_false in tqdm(sorted(subset_dataframes.keys())):\n",
    "        metric_values = subset_dataframes[(num_true, num_false)][metric].values\n",
    "        matrices.append(metric_values)\n",
    "    if with_zeros:\n",
    "        matrices = [np.zeros_like(matrices[0])] + matrices\n",
    "\n",
    "    # Create an average matrix\n",
    "    average_matrix = np.array([np.nanmean(matrix) for matrix in matrices])\n",
    "    average_matrix = average_matrix.reshape((\n",
    "        len(set(num_true for num_true, _ in subset_dataframes.keys())),\n",
    "        len(set(num_false for _, num_false in subset_dataframes.keys()))\n",
    "    ))\n",
    "    \n",
    "    ax.ticklabel_format(useLocale=True)\n",
    "\n",
    "    ax.imshow(average_matrix, cmap=cmap, vmin=0)\n",
    "    ax.invert_yaxis()\n",
    "\n",
    "    for m in range(average_matrix.shape[0]):\n",
    "        for n in range(average_matrix.shape[1]):\n",
    "            if with_zeros and m == n == 0:\n",
    "                ax.text(0, 0, \"—\", ha='center', va='center', color='xkcd:almost black', **valuefont)\n",
    "            else:\n",
    "                value = average_matrix[m, n]\n",
    "                ax.text(n, m, f\"{value:.2%}\", ha='center', va='center', color='xkcd:almost black' if value < 0.4 else 'white', **valuefont)\n",
    "\n",
    "    ax.set_xticks(range(average_matrix.shape[1]))\n",
    "    ax.set_xticklabels(sorted(set(num_false for _, num_false in subset_dataframes.keys())), **captionfont)\n",
    "\n",
    "    ax.set_yticks(range(average_matrix.shape[0]))\n",
    "    ax.set_yticklabels(sorted(set(num_true for num_true, _ in subset_dataframes.keys())), **captionfont)\n",
    "    ax.set_xlabel(\"Inkorrekte Beispiele\", **captionfont)\n",
    "    ax.set_ylabel(\"Korrekte Beispiele\", **captionfont)\n",
    "    #axs[k].set_title(f\"Unbekannte Anzahl korrekter Beispiele ({metric.capitalize()})\", **captionfont)\n",
    "    fig.savefig(f\"eval_llama_{metric}.pdf\", bbox_inches='tight')\n",
    "\n",
    "# Adjust layout and show the plot\n",
    "plt.tight_layout()\n",
    "plt.show()"
   ],
   "metadata": {
    "collapsed": false
   },
   "id": "fe103e03c6eaff98",
   "execution_count": null
  }
 ],
 "metadata": {
  "kernelspec": {
   "display_name": "Python 3",
   "language": "python",
   "name": "python3"
  },
  "language_info": {
   "codemirror_mode": {
    "name": "ipython",
    "version": 2
   },
   "file_extension": ".py",
   "mimetype": "text/x-python",
   "name": "python",
   "nbconvert_exporter": "python",
   "pygments_lexer": "ipython2",
   "version": "2.7.6"
  }
 },
 "nbformat": 4,
 "nbformat_minor": 5
}
