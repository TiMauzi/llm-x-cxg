{
 "cells": [
  {
   "cell_type": "code",
   "execution_count": 10,
   "outputs": [],
   "source": [
    "import itertools\n",
    "import json\n",
    "import pickle\n",
    "import re\n",
    "\n",
    "import numpy as np\n",
    "import pandas as pd\n",
    "import torch\n",
    "from transformers import MBartForConditionalGeneration, MBart50TokenizerFast\n",
    "\n",
    "from tqdm.notebook import tqdm\n",
    "tqdm.pandas()"
   ],
   "metadata": {
    "collapsed": false,
    "ExecuteTime": {
     "end_time": "2024-01-29T15:38:33.868253671Z",
     "start_time": "2024-01-29T15:38:33.785287493Z"
    }
   },
   "id": "863338ddbf31a6c5"
  },
  {
   "cell_type": "code",
   "execution_count": 11,
   "outputs": [
    {
     "data": {
      "text/plain": "                                                example  \\\n0     Doch der theatralische Selbstmord von General ...   \n1     Doch der theatralische Selbstmord von General ...   \n2     Morgens beim Kaffee wird gemeinsam entschieden...   \n3     Morgens beim Kaffee wird gemeinsam entschieden...   \n4     Unter den Einwohnern der großen EU - Länder si...   \n...                                                 ...   \n8503  Protestzüge wälzen sich durch München , Eisner...   \n8504              Und in Sands bewege sich ja einiges .   \n8505              Ulrike beugt sich über die Partitur .   \n8506  Am Anfang gab es viel Widerstand , man holpert...   \n8507  Auf langen Zugfahrten klickt er sich deshalb d...   \n\n                                                    cue    pseudoword  \n0     Doch der theatralische Selbstmord von General ...         am488  \n1     Doch der theatralische Selbstmord von General ...  wenigsten488  \n2     Morgens beim Kaffee wird gemeinsam entschieden...         am488  \n3     Morgens beim Kaffee wird gemeinsam entschieden...  wenigsten488  \n4     Unter den Einwohnern der großen EU - Länder si...         am488  \n...                                                 ...           ...  \n8503                            Protestzüge wälzen sich      sich1573  \n8504                           Und in Sands bewege sich      sich1573  \n8505                                  Ulrike beugt sich      sich1573  \n8506  Am Anfang gab es viel Widerstand , man holpert...      sich1573  \n8507               Auf langen Zugfahrten klickt er sich      sich1573  \n\n[8508 rows x 3 columns]",
      "text/html": "<div>\n<style scoped>\n    .dataframe tbody tr th:only-of-type {\n        vertical-align: middle;\n    }\n\n    .dataframe tbody tr th {\n        vertical-align: top;\n    }\n\n    .dataframe thead th {\n        text-align: right;\n    }\n</style>\n<table border=\"1\" class=\"dataframe\">\n  <thead>\n    <tr style=\"text-align: right;\">\n      <th></th>\n      <th>example</th>\n      <th>cue</th>\n      <th>pseudoword</th>\n    </tr>\n  </thead>\n  <tbody>\n    <tr>\n      <th>0</th>\n      <td>Doch der theatralische Selbstmord von General ...</td>\n      <td>Doch der theatralische Selbstmord von General ...</td>\n      <td>am488</td>\n    </tr>\n    <tr>\n      <th>1</th>\n      <td>Doch der theatralische Selbstmord von General ...</td>\n      <td>Doch der theatralische Selbstmord von General ...</td>\n      <td>wenigsten488</td>\n    </tr>\n    <tr>\n      <th>2</th>\n      <td>Morgens beim Kaffee wird gemeinsam entschieden...</td>\n      <td>Morgens beim Kaffee wird gemeinsam entschieden...</td>\n      <td>am488</td>\n    </tr>\n    <tr>\n      <th>3</th>\n      <td>Morgens beim Kaffee wird gemeinsam entschieden...</td>\n      <td>Morgens beim Kaffee wird gemeinsam entschieden...</td>\n      <td>wenigsten488</td>\n    </tr>\n    <tr>\n      <th>4</th>\n      <td>Unter den Einwohnern der großen EU - Länder si...</td>\n      <td>Unter den Einwohnern der großen EU - Länder si...</td>\n      <td>am488</td>\n    </tr>\n    <tr>\n      <th>...</th>\n      <td>...</td>\n      <td>...</td>\n      <td>...</td>\n    </tr>\n    <tr>\n      <th>8503</th>\n      <td>Protestzüge wälzen sich durch München , Eisner...</td>\n      <td>Protestzüge wälzen sich</td>\n      <td>sich1573</td>\n    </tr>\n    <tr>\n      <th>8504</th>\n      <td>Und in Sands bewege sich ja einiges .</td>\n      <td>Und in Sands bewege sich</td>\n      <td>sich1573</td>\n    </tr>\n    <tr>\n      <th>8505</th>\n      <td>Ulrike beugt sich über die Partitur .</td>\n      <td>Ulrike beugt sich</td>\n      <td>sich1573</td>\n    </tr>\n    <tr>\n      <th>8506</th>\n      <td>Am Anfang gab es viel Widerstand , man holpert...</td>\n      <td>Am Anfang gab es viel Widerstand , man holpert...</td>\n      <td>sich1573</td>\n    </tr>\n    <tr>\n      <th>8507</th>\n      <td>Auf langen Zugfahrten klickt er sich deshalb d...</td>\n      <td>Auf langen Zugfahrten klickt er sich</td>\n      <td>sich1573</td>\n    </tr>\n  </tbody>\n</table>\n<p>8508 rows × 3 columns</p>\n</div>"
     },
     "execution_count": 11,
     "metadata": {},
     "output_type": "execute_result"
    }
   ],
   "source": [
    "with open(\"../../data/pseudowords/CoMaPP_all.json\") as json_file:\n",
    "    data = json.load(json_file)\n",
    "    \n",
    "# d+1 since we are not replacing the ke-lex this time!\n",
    "data = [{\"example\": d[\"target1\"], \"cue\": \" \".join(d[\"target1\"].split()[:d[\"query_idx\"]+1]), \"pseudoword\": d[\"label\"]} for d in data if d[\"target1\"].split()[d[\"query_idx\"]] in d[\"label\"]]\n",
    "df = pd.DataFrame.from_dict(data).drop_duplicates(ignore_index=True)\n",
    "df"
   ],
   "metadata": {
    "collapsed": false,
    "ExecuteTime": {
     "end_time": "2024-01-29T15:38:33.964487458Z",
     "start_time": "2024-01-29T15:38:33.826387394Z"
    }
   },
   "id": "18bb06d46d72aab4"
  },
  {
   "cell_type": "code",
   "execution_count": 12,
   "outputs": [
    {
     "data": {
      "text/plain": "                                                 example  \\\nindex                                                      \n488    Doch der theatralische Selbstmord von General ...   \n488    Doch der theatralische Selbstmord von General ...   \n488    Morgens beim Kaffee wird gemeinsam entschieden...   \n488    Morgens beim Kaffee wird gemeinsam entschieden...   \n488    Unter den Einwohnern der großen EU - Länder si...   \n...                                                  ...   \n1573   Protestzüge wälzen sich durch München , Eisner...   \n1573               Und in Sands bewege sich ja einiges .   \n1573               Ulrike beugt sich über die Partitur .   \n1573   Am Anfang gab es viel Widerstand , man holpert...   \n1573   Auf langen Zugfahrten klickt er sich deshalb d...   \n\n                                                     cue    pseudoword  \nindex                                                                   \n488    Doch der theatralische Selbstmord von General ...         am488  \n488    Doch der theatralische Selbstmord von General ...  wenigsten488  \n488    Morgens beim Kaffee wird gemeinsam entschieden...         am488  \n488    Morgens beim Kaffee wird gemeinsam entschieden...  wenigsten488  \n488    Unter den Einwohnern der großen EU - Länder si...         am488  \n...                                                  ...           ...  \n1573                             Protestzüge wälzen sich      sich1573  \n1573                            Und in Sands bewege sich      sich1573  \n1573                                   Ulrike beugt sich      sich1573  \n1573   Am Anfang gab es viel Widerstand , man holpert...      sich1573  \n1573                Auf langen Zugfahrten klickt er sich      sich1573  \n\n[8508 rows x 3 columns]",
      "text/html": "<div>\n<style scoped>\n    .dataframe tbody tr th:only-of-type {\n        vertical-align: middle;\n    }\n\n    .dataframe tbody tr th {\n        vertical-align: top;\n    }\n\n    .dataframe thead th {\n        text-align: right;\n    }\n</style>\n<table border=\"1\" class=\"dataframe\">\n  <thead>\n    <tr style=\"text-align: right;\">\n      <th></th>\n      <th>example</th>\n      <th>cue</th>\n      <th>pseudoword</th>\n    </tr>\n    <tr>\n      <th>index</th>\n      <th></th>\n      <th></th>\n      <th></th>\n    </tr>\n  </thead>\n  <tbody>\n    <tr>\n      <th>488</th>\n      <td>Doch der theatralische Selbstmord von General ...</td>\n      <td>Doch der theatralische Selbstmord von General ...</td>\n      <td>am488</td>\n    </tr>\n    <tr>\n      <th>488</th>\n      <td>Doch der theatralische Selbstmord von General ...</td>\n      <td>Doch der theatralische Selbstmord von General ...</td>\n      <td>wenigsten488</td>\n    </tr>\n    <tr>\n      <th>488</th>\n      <td>Morgens beim Kaffee wird gemeinsam entschieden...</td>\n      <td>Morgens beim Kaffee wird gemeinsam entschieden...</td>\n      <td>am488</td>\n    </tr>\n    <tr>\n      <th>488</th>\n      <td>Morgens beim Kaffee wird gemeinsam entschieden...</td>\n      <td>Morgens beim Kaffee wird gemeinsam entschieden...</td>\n      <td>wenigsten488</td>\n    </tr>\n    <tr>\n      <th>488</th>\n      <td>Unter den Einwohnern der großen EU - Länder si...</td>\n      <td>Unter den Einwohnern der großen EU - Länder si...</td>\n      <td>am488</td>\n    </tr>\n    <tr>\n      <th>...</th>\n      <td>...</td>\n      <td>...</td>\n      <td>...</td>\n    </tr>\n    <tr>\n      <th>1573</th>\n      <td>Protestzüge wälzen sich durch München , Eisner...</td>\n      <td>Protestzüge wälzen sich</td>\n      <td>sich1573</td>\n    </tr>\n    <tr>\n      <th>1573</th>\n      <td>Und in Sands bewege sich ja einiges .</td>\n      <td>Und in Sands bewege sich</td>\n      <td>sich1573</td>\n    </tr>\n    <tr>\n      <th>1573</th>\n      <td>Ulrike beugt sich über die Partitur .</td>\n      <td>Ulrike beugt sich</td>\n      <td>sich1573</td>\n    </tr>\n    <tr>\n      <th>1573</th>\n      <td>Am Anfang gab es viel Widerstand , man holpert...</td>\n      <td>Am Anfang gab es viel Widerstand , man holpert...</td>\n      <td>sich1573</td>\n    </tr>\n    <tr>\n      <th>1573</th>\n      <td>Auf langen Zugfahrten klickt er sich deshalb d...</td>\n      <td>Auf langen Zugfahrten klickt er sich</td>\n      <td>sich1573</td>\n    </tr>\n  </tbody>\n</table>\n<p>8508 rows × 3 columns</p>\n</div>"
     },
     "execution_count": 12,
     "metadata": {},
     "output_type": "execute_result"
    }
   ],
   "source": [
    "df['index'] = df['pseudoword'].str.extract('(\\d+)').astype(int)\n",
    "df.set_index('index', inplace=True)\n",
    "\n",
    "df"
   ],
   "metadata": {
    "collapsed": false,
    "ExecuteTime": {
     "end_time": "2024-01-29T15:38:34.057963799Z",
     "start_time": "2024-01-29T15:38:34.007150439Z"
    }
   },
   "id": "b7e1f6e88f687297"
  },
  {
   "cell_type": "code",
   "execution_count": 13,
   "outputs": [
    {
     "data": {
      "text/plain": "                                                 example  \\\nindex                                                      \n488    Doch der theatralische Selbstmord von General ...   \n488    Doch der theatralische Selbstmord von General ...   \n488    Morgens beim Kaffee wird gemeinsam entschieden...   \n488    Morgens beim Kaffee wird gemeinsam entschieden...   \n488    Unter den Einwohnern der großen EU - Länder si...   \n...                                                  ...   \n1573   Protestzüge wälzen sich durch München , Eisner...   \n1573               Und in Sands bewege sich ja einiges .   \n1573               Ulrike beugt sich über die Partitur .   \n1573   Am Anfang gab es viel Widerstand , man holpert...   \n1573   Auf langen Zugfahrten klickt er sich deshalb d...   \n\n                                                     cue    pseudoword  \nindex                                                                   \n488    Doch der theatralische Selbstmord von General ...         am488  \n488    Doch der theatralische Selbstmord von General ...  wenigsten488  \n488    Morgens beim Kaffee wird gemeinsam entschieden...         am488  \n488    Morgens beim Kaffee wird gemeinsam entschieden...  wenigsten488  \n488    Unter den Einwohnern der großen EU - Länder si...         am488  \n...                                                  ...           ...  \n1573                             Protestzüge wälzen sich      sich1573  \n1573                            Und in Sands bewege sich      sich1573  \n1573                                   Ulrike beugt sich      sich1573  \n1573   Am Anfang gab es viel Widerstand , man holpert...      sich1573  \n1573                Auf langen Zugfahrten klickt er sich      sich1573  \n\n[8508 rows x 3 columns]",
      "text/html": "<div>\n<style scoped>\n    .dataframe tbody tr th:only-of-type {\n        vertical-align: middle;\n    }\n\n    .dataframe tbody tr th {\n        vertical-align: top;\n    }\n\n    .dataframe thead th {\n        text-align: right;\n    }\n</style>\n<table border=\"1\" class=\"dataframe\">\n  <thead>\n    <tr style=\"text-align: right;\">\n      <th></th>\n      <th>example</th>\n      <th>cue</th>\n      <th>pseudoword</th>\n    </tr>\n    <tr>\n      <th>index</th>\n      <th></th>\n      <th></th>\n      <th></th>\n    </tr>\n  </thead>\n  <tbody>\n    <tr>\n      <th>488</th>\n      <td>Doch der theatralische Selbstmord von General ...</td>\n      <td>Doch der theatralische Selbstmord von General ...</td>\n      <td>am488</td>\n    </tr>\n    <tr>\n      <th>488</th>\n      <td>Doch der theatralische Selbstmord von General ...</td>\n      <td>Doch der theatralische Selbstmord von General ...</td>\n      <td>wenigsten488</td>\n    </tr>\n    <tr>\n      <th>488</th>\n      <td>Morgens beim Kaffee wird gemeinsam entschieden...</td>\n      <td>Morgens beim Kaffee wird gemeinsam entschieden...</td>\n      <td>am488</td>\n    </tr>\n    <tr>\n      <th>488</th>\n      <td>Morgens beim Kaffee wird gemeinsam entschieden...</td>\n      <td>Morgens beim Kaffee wird gemeinsam entschieden...</td>\n      <td>wenigsten488</td>\n    </tr>\n    <tr>\n      <th>488</th>\n      <td>Unter den Einwohnern der großen EU - Länder si...</td>\n      <td>Unter den Einwohnern der großen EU - Länder si...</td>\n      <td>am488</td>\n    </tr>\n    <tr>\n      <th>...</th>\n      <td>...</td>\n      <td>...</td>\n      <td>...</td>\n    </tr>\n    <tr>\n      <th>1573</th>\n      <td>Protestzüge wälzen sich durch München , Eisner...</td>\n      <td>Protestzüge wälzen sich</td>\n      <td>sich1573</td>\n    </tr>\n    <tr>\n      <th>1573</th>\n      <td>Und in Sands bewege sich ja einiges .</td>\n      <td>Und in Sands bewege sich</td>\n      <td>sich1573</td>\n    </tr>\n    <tr>\n      <th>1573</th>\n      <td>Ulrike beugt sich über die Partitur .</td>\n      <td>Ulrike beugt sich</td>\n      <td>sich1573</td>\n    </tr>\n    <tr>\n      <th>1573</th>\n      <td>Am Anfang gab es viel Widerstand , man holpert...</td>\n      <td>Am Anfang gab es viel Widerstand , man holpert...</td>\n      <td>sich1573</td>\n    </tr>\n    <tr>\n      <th>1573</th>\n      <td>Auf langen Zugfahrten klickt er sich deshalb d...</td>\n      <td>Auf langen Zugfahrten klickt er sich</td>\n      <td>sich1573</td>\n    </tr>\n  </tbody>\n</table>\n<p>8508 rows × 3 columns</p>\n</div>"
     },
     "execution_count": 13,
     "metadata": {},
     "output_type": "execute_result"
    }
   ],
   "source": [
    "contextleft = pd.read_pickle(\"../../data/pseudowords/contextleft_text.pickle\")\n",
    "\n",
    "def update_cue(row):\n",
    "    output = row[['example', 'cue']]\n",
    "    if len(row['cue'].split()) == 1:  # if the string in cue is empty (except for the kelex)\n",
    "        # match the index of row with contextleft['construction_id'] and match contextleft['text'] with row['example'] and create matching_entry\n",
    "        matching_entry = contextleft.loc[(contextleft['construction_id'] == row.name) & (contextleft['text'] == row['example']), 'contextleft'].tolist()\n",
    "        if len(matching_entry) > 0:\n",
    "            # Add the left context to the example and to the cue:\n",
    "            output = [matching_entry[0] + \" \" + row['example'], matching_entry[0] + \" \" + row['cue']]\n",
    "    return output\n",
    "\n",
    "# Add the left context if there is no cue up until the pseudoword.\n",
    "#df[[\"example\", \"cue\"]] = df.apply(update_cue, axis=1)\n",
    "df"
   ],
   "metadata": {
    "collapsed": false,
    "ExecuteTime": {
     "end_time": "2024-01-29T15:38:34.058570427Z",
     "start_time": "2024-01-29T15:38:34.007289826Z"
    }
   },
   "id": "a898840ef3c9c442"
  },
  {
   "cell_type": "code",
   "execution_count": 14,
   "outputs": [
    {
     "data": {
      "text/plain": "                                                                   example  \\\nconstruction pseudoword                                                      \n5            Und5        [Und schon gar nicht mit der Mehrwertsteuer .,...   \n             erst5       [Trainer Lucien Favre hatte schon seine beiden...   \n             gar5        [Es hat Afghanistan nicht stabilisiert und sch...   \n             nicht5      [Es hat Afghanistan nicht stabilisiert und sch...   \n             recht5      [Trainer Lucien Favre hatte schon seine beiden...   \n...                                                                    ...   \n1884         Gold1884    [Schweigen ist Silber , reden ist Gold ., Schw...   \n             Silber1884  [Schweigen ist Silber , reden ist Gold ., Schw...   \n             ist1884     [Schweigen ist Silber , reden ist Gold ., Schw...   \n1986         kaum1986    [Die Vorhut vor 20.000 Jahren war für das Ries...   \n1987         sehr1987    [Solche Menschen können sich sehr wohlfühlen o...   \n\n                                                                       cue  \nconstruction pseudoword                                                     \n5            Und5        [Und, Und, Und, Und, Und, Und, Und, Und, Und, ...  \n             erst5       [Trainer Lucien Favre hatte schon seine beiden...  \n             gar5        [Es hat Afghanistan nicht stabilisiert und sch...  \n             nicht5      [Es hat Afghanistan nicht, Dass es in der Fami...  \n             recht5      [Trainer Lucien Favre hatte schon seine beiden...  \n...                                                                    ...  \n1884         Gold1884    [Schweigen ist Silber , reden ist Gold, Schwei...  \n             Silber1884  [Schweigen ist Silber, Schweigen ist Silber, A...  \n             ist1884     [Schweigen ist, Schweigen ist, Angeben ist, Sc...  \n1986         kaum1986    [Die Vorhut vor 20.000 Jahren war für das Ries...  \n1987         sehr1987    [Solche Menschen können sich sehr, \" \" Das hat...  \n\n[506 rows x 2 columns]",
      "text/html": "<div>\n<style scoped>\n    .dataframe tbody tr th:only-of-type {\n        vertical-align: middle;\n    }\n\n    .dataframe tbody tr th {\n        vertical-align: top;\n    }\n\n    .dataframe thead th {\n        text-align: right;\n    }\n</style>\n<table border=\"1\" class=\"dataframe\">\n  <thead>\n    <tr style=\"text-align: right;\">\n      <th></th>\n      <th></th>\n      <th>example</th>\n      <th>cue</th>\n    </tr>\n    <tr>\n      <th>construction</th>\n      <th>pseudoword</th>\n      <th></th>\n      <th></th>\n    </tr>\n  </thead>\n  <tbody>\n    <tr>\n      <th rowspan=\"5\" valign=\"top\">5</th>\n      <th>Und5</th>\n      <td>[Und schon gar nicht mit der Mehrwertsteuer .,...</td>\n      <td>[Und, Und, Und, Und, Und, Und, Und, Und, Und, ...</td>\n    </tr>\n    <tr>\n      <th>erst5</th>\n      <td>[Trainer Lucien Favre hatte schon seine beiden...</td>\n      <td>[Trainer Lucien Favre hatte schon seine beiden...</td>\n    </tr>\n    <tr>\n      <th>gar5</th>\n      <td>[Es hat Afghanistan nicht stabilisiert und sch...</td>\n      <td>[Es hat Afghanistan nicht stabilisiert und sch...</td>\n    </tr>\n    <tr>\n      <th>nicht5</th>\n      <td>[Es hat Afghanistan nicht stabilisiert und sch...</td>\n      <td>[Es hat Afghanistan nicht, Dass es in der Fami...</td>\n    </tr>\n    <tr>\n      <th>recht5</th>\n      <td>[Trainer Lucien Favre hatte schon seine beiden...</td>\n      <td>[Trainer Lucien Favre hatte schon seine beiden...</td>\n    </tr>\n    <tr>\n      <th>...</th>\n      <th>...</th>\n      <td>...</td>\n      <td>...</td>\n    </tr>\n    <tr>\n      <th rowspan=\"3\" valign=\"top\">1884</th>\n      <th>Gold1884</th>\n      <td>[Schweigen ist Silber , reden ist Gold ., Schw...</td>\n      <td>[Schweigen ist Silber , reden ist Gold, Schwei...</td>\n    </tr>\n    <tr>\n      <th>Silber1884</th>\n      <td>[Schweigen ist Silber , reden ist Gold ., Schw...</td>\n      <td>[Schweigen ist Silber, Schweigen ist Silber, A...</td>\n    </tr>\n    <tr>\n      <th>ist1884</th>\n      <td>[Schweigen ist Silber , reden ist Gold ., Schw...</td>\n      <td>[Schweigen ist, Schweigen ist, Angeben ist, Sc...</td>\n    </tr>\n    <tr>\n      <th>1986</th>\n      <th>kaum1986</th>\n      <td>[Die Vorhut vor 20.000 Jahren war für das Ries...</td>\n      <td>[Die Vorhut vor 20.000 Jahren war für das Ries...</td>\n    </tr>\n    <tr>\n      <th>1987</th>\n      <th>sehr1987</th>\n      <td>[Solche Menschen können sich sehr wohlfühlen o...</td>\n      <td>[Solche Menschen können sich sehr, \" \" Das hat...</td>\n    </tr>\n  </tbody>\n</table>\n<p>506 rows × 2 columns</p>\n</div>"
     },
     "execution_count": 14,
     "metadata": {},
     "output_type": "execute_result"
    }
   ],
   "source": [
    "df.reset_index(inplace=True)\n",
    "df.rename(columns={'index': 'construction'}, inplace=True)\n",
    "\n",
    "result_df = df.groupby(['construction', 'pseudoword']).agg({'example': list, 'cue': list})\n",
    "\n",
    "result_df"
   ],
   "metadata": {
    "collapsed": false,
    "ExecuteTime": {
     "end_time": "2024-01-29T15:38:34.089065387Z",
     "start_time": "2024-01-29T15:38:34.010059301Z"
    }
   },
   "id": "4a4e3d92707b4c4"
  },
  {
   "cell_type": "code",
   "execution_count": 15,
   "outputs": [
    {
     "data": {
      "text/plain": "                                             definition\n677   Bei der Konstruktion \"Additiv_Koordinativkompo...\n563   Bei der \"Gegenüberstellung:V2_V2-Konstruktion\"...\n696   Die \"Konjunktiv:V.conj-I-Konstruktion\" gehört ...\n488   Die \"Superlativ:am_meisten/wenigstenADJ-Konstr...\n674   Die \"Kausaler_Konnektor:weil-Konstruktion\" die...\n...                                                 ...\n875   Bei der Konstruktion (Kxn) \"Kategorisierung_Tr...\n1323  Die meist als Prädikativum verwendete Konstruk...\n85    Die \"Reduplikation_Quantifizierung:N1_über_N1-...\n1792  Bei der Konstruktion (Kxn) \"Prädikation_Negati...\n1573  Die \"Reflexive_Bewegung:NP_VP_REFL_PP-Konstruk...\n\n[211 rows x 1 columns]",
      "text/html": "<div>\n<style scoped>\n    .dataframe tbody tr th:only-of-type {\n        vertical-align: middle;\n    }\n\n    .dataframe tbody tr th {\n        vertical-align: top;\n    }\n\n    .dataframe thead th {\n        text-align: right;\n    }\n</style>\n<table border=\"1\" class=\"dataframe\">\n  <thead>\n    <tr style=\"text-align: right;\">\n      <th></th>\n      <th>definition</th>\n    </tr>\n  </thead>\n  <tbody>\n    <tr>\n      <th>677</th>\n      <td>Bei der Konstruktion \"Additiv_Koordinativkompo...</td>\n    </tr>\n    <tr>\n      <th>563</th>\n      <td>Bei der \"Gegenüberstellung:V2_V2-Konstruktion\"...</td>\n    </tr>\n    <tr>\n      <th>696</th>\n      <td>Die \"Konjunktiv:V.conj-I-Konstruktion\" gehört ...</td>\n    </tr>\n    <tr>\n      <th>488</th>\n      <td>Die \"Superlativ:am_meisten/wenigstenADJ-Konstr...</td>\n    </tr>\n    <tr>\n      <th>674</th>\n      <td>Die \"Kausaler_Konnektor:weil-Konstruktion\" die...</td>\n    </tr>\n    <tr>\n      <th>...</th>\n      <td>...</td>\n    </tr>\n    <tr>\n      <th>875</th>\n      <td>Bei der Konstruktion (Kxn) \"Kategorisierung_Tr...</td>\n    </tr>\n    <tr>\n      <th>1323</th>\n      <td>Die meist als Prädikativum verwendete Konstruk...</td>\n    </tr>\n    <tr>\n      <th>85</th>\n      <td>Die \"Reduplikation_Quantifizierung:N1_über_N1-...</td>\n    </tr>\n    <tr>\n      <th>1792</th>\n      <td>Bei der Konstruktion (Kxn) \"Prädikation_Negati...</td>\n    </tr>\n    <tr>\n      <th>1573</th>\n      <td>Die \"Reflexive_Bewegung:NP_VP_REFL_PP-Konstruk...</td>\n    </tr>\n  </tbody>\n</table>\n<p>211 rows × 1 columns</p>\n</div>"
     },
     "execution_count": 15,
     "metadata": {},
     "output_type": "execute_result"
    }
   ],
   "source": [
    "with open(\"../../out/definitions.pickle\", \"rb\") as definitions_file:\n",
    "    definitions = pd.DataFrame.from_dict(pickle.load(definitions_file), orient=\"index\", columns=[\"definition\"])\n",
    "    \n",
    "definitions"
   ],
   "metadata": {
    "collapsed": true,
    "ExecuteTime": {
     "end_time": "2024-01-29T15:38:34.134136471Z",
     "start_time": "2024-01-29T15:38:34.048912907Z"
    }
   },
   "id": "initial_id"
  },
  {
   "cell_type": "code",
   "execution_count": 16,
   "outputs": [
    {
     "data": {
      "text/plain": "                                                                   example  \\\nconstruction pseudoword                                                      \n5            Und5        [Und schon gar nicht mit der Mehrwertsteuer .,...   \n             erst5       [Trainer Lucien Favre hatte schon seine beiden...   \n             gar5        [Es hat Afghanistan nicht stabilisiert und sch...   \n             nicht5      [Es hat Afghanistan nicht stabilisiert und sch...   \n             recht5      [Trainer Lucien Favre hatte schon seine beiden...   \n...                                                                    ...   \n1884         Gold1884    [Schweigen ist Silber , reden ist Gold ., Schw...   \n             Silber1884  [Schweigen ist Silber , reden ist Gold ., Schw...   \n             ist1884     [Schweigen ist Silber , reden ist Gold ., Schw...   \n1986         kaum1986    [Die Vorhut vor 20.000 Jahren war für das Ries...   \n1987         sehr1987    [Solche Menschen können sich sehr wohlfühlen o...   \n\n                                                                       cue  \\\nconstruction pseudoword                                                      \n5            Und5        [Und, Und, Und, Und, Und, Und, Und, Und, Und, ...   \n             erst5       [Trainer Lucien Favre hatte schon seine beiden...   \n             gar5        [Es hat Afghanistan nicht stabilisiert und sch...   \n             nicht5      [Es hat Afghanistan nicht, Dass es in der Fami...   \n             recht5      [Trainer Lucien Favre hatte schon seine beiden...   \n...                                                                    ...   \n1884         Gold1884    [Schweigen ist Silber , reden ist Gold, Schwei...   \n             Silber1884  [Schweigen ist Silber, Schweigen ist Silber, A...   \n             ist1884     [Schweigen ist, Schweigen ist, Angeben ist, Sc...   \n1986         kaum1986    [Die Vorhut vor 20.000 Jahren war für das Ries...   \n1987         sehr1987    [Solche Menschen können sich sehr, \" \" Das hat...   \n\n                                                                definition  \nconstruction pseudoword                                                     \n5            Und5        Die \"Negation:NEG_Xund_schon_gar_nichtY-Konstr...  \n             erst5       Die \"Negation:NEG_Xund_schon_gar_nichtY-Konstr...  \n             gar5        Die \"Negation:NEG_Xund_schon_gar_nichtY-Konstr...  \n             nicht5      Die \"Negation:NEG_Xund_schon_gar_nichtY-Konstr...  \n             recht5      Die \"Negation:NEG_Xund_schon_gar_nichtY-Konstr...  \n...                                                                    ...  \n1884         Gold1884    Die \"Intensivierung_Komparativ:Xist_SilberYist...  \n             Silber1884  Die \"Intensivierung_Komparativ:Xist_SilberYist...  \n             ist1884     Die \"Intensivierung_Komparativ:Xist_SilberYist...  \n1986         kaum1986    Die Konstruktion \"Relativierung:kaumADJ\" gehör...  \n1987         sehr1987    Die Konstruktion \"Intensivierung:sehrV\" gehört...  \n\n[506 rows x 3 columns]",
      "text/html": "<div>\n<style scoped>\n    .dataframe tbody tr th:only-of-type {\n        vertical-align: middle;\n    }\n\n    .dataframe tbody tr th {\n        vertical-align: top;\n    }\n\n    .dataframe thead th {\n        text-align: right;\n    }\n</style>\n<table border=\"1\" class=\"dataframe\">\n  <thead>\n    <tr style=\"text-align: right;\">\n      <th></th>\n      <th></th>\n      <th>example</th>\n      <th>cue</th>\n      <th>definition</th>\n    </tr>\n    <tr>\n      <th>construction</th>\n      <th>pseudoword</th>\n      <th></th>\n      <th></th>\n      <th></th>\n    </tr>\n  </thead>\n  <tbody>\n    <tr>\n      <th rowspan=\"5\" valign=\"top\">5</th>\n      <th>Und5</th>\n      <td>[Und schon gar nicht mit der Mehrwertsteuer .,...</td>\n      <td>[Und, Und, Und, Und, Und, Und, Und, Und, Und, ...</td>\n      <td>Die \"Negation:NEG_Xund_schon_gar_nichtY-Konstr...</td>\n    </tr>\n    <tr>\n      <th>erst5</th>\n      <td>[Trainer Lucien Favre hatte schon seine beiden...</td>\n      <td>[Trainer Lucien Favre hatte schon seine beiden...</td>\n      <td>Die \"Negation:NEG_Xund_schon_gar_nichtY-Konstr...</td>\n    </tr>\n    <tr>\n      <th>gar5</th>\n      <td>[Es hat Afghanistan nicht stabilisiert und sch...</td>\n      <td>[Es hat Afghanistan nicht stabilisiert und sch...</td>\n      <td>Die \"Negation:NEG_Xund_schon_gar_nichtY-Konstr...</td>\n    </tr>\n    <tr>\n      <th>nicht5</th>\n      <td>[Es hat Afghanistan nicht stabilisiert und sch...</td>\n      <td>[Es hat Afghanistan nicht, Dass es in der Fami...</td>\n      <td>Die \"Negation:NEG_Xund_schon_gar_nichtY-Konstr...</td>\n    </tr>\n    <tr>\n      <th>recht5</th>\n      <td>[Trainer Lucien Favre hatte schon seine beiden...</td>\n      <td>[Trainer Lucien Favre hatte schon seine beiden...</td>\n      <td>Die \"Negation:NEG_Xund_schon_gar_nichtY-Konstr...</td>\n    </tr>\n    <tr>\n      <th>...</th>\n      <th>...</th>\n      <td>...</td>\n      <td>...</td>\n      <td>...</td>\n    </tr>\n    <tr>\n      <th rowspan=\"3\" valign=\"top\">1884</th>\n      <th>Gold1884</th>\n      <td>[Schweigen ist Silber , reden ist Gold ., Schw...</td>\n      <td>[Schweigen ist Silber , reden ist Gold, Schwei...</td>\n      <td>Die \"Intensivierung_Komparativ:Xist_SilberYist...</td>\n    </tr>\n    <tr>\n      <th>Silber1884</th>\n      <td>[Schweigen ist Silber , reden ist Gold ., Schw...</td>\n      <td>[Schweigen ist Silber, Schweigen ist Silber, A...</td>\n      <td>Die \"Intensivierung_Komparativ:Xist_SilberYist...</td>\n    </tr>\n    <tr>\n      <th>ist1884</th>\n      <td>[Schweigen ist Silber , reden ist Gold ., Schw...</td>\n      <td>[Schweigen ist, Schweigen ist, Angeben ist, Sc...</td>\n      <td>Die \"Intensivierung_Komparativ:Xist_SilberYist...</td>\n    </tr>\n    <tr>\n      <th>1986</th>\n      <th>kaum1986</th>\n      <td>[Die Vorhut vor 20.000 Jahren war für das Ries...</td>\n      <td>[Die Vorhut vor 20.000 Jahren war für das Ries...</td>\n      <td>Die Konstruktion \"Relativierung:kaumADJ\" gehör...</td>\n    </tr>\n    <tr>\n      <th>1987</th>\n      <th>sehr1987</th>\n      <td>[Solche Menschen können sich sehr wohlfühlen o...</td>\n      <td>[Solche Menschen können sich sehr, \" \" Das hat...</td>\n      <td>Die Konstruktion \"Intensivierung:sehrV\" gehört...</td>\n    </tr>\n  </tbody>\n</table>\n<p>506 rows × 3 columns</p>\n</div>"
     },
     "execution_count": 16,
     "metadata": {},
     "output_type": "execute_result"
    }
   ],
   "source": [
    "examples = pd.merge(result_df, definitions, how=\"inner\", left_on=\"construction\", right_index=True)\n",
    "examples"
   ],
   "metadata": {
    "collapsed": false,
    "ExecuteTime": {
     "end_time": "2024-01-29T15:38:34.134667440Z",
     "start_time": "2024-01-29T15:38:34.091205185Z"
    }
   },
   "id": "238d2238bbdd91d8"
  },
  {
   "cell_type": "markdown",
   "source": [
    "##### Generieren neuer Sätze:"
   ],
   "metadata": {
    "collapsed": false
   },
   "id": "5bc899cb800665fa"
  },
  {
   "cell_type": "markdown",
   "source": [
    "Load the vanilla mbart model:"
   ],
   "metadata": {
    "collapsed": false
   },
   "id": "d1fd4b9029d49e1e"
  },
  {
   "cell_type": "code",
   "execution_count": 17,
   "outputs": [
    {
     "data": {
      "text/plain": "Embedding(250054, 1024, padding_idx=1)"
     },
     "execution_count": 17,
     "metadata": {},
     "output_type": "execute_result"
    }
   ],
   "source": [
    "model = MBartForConditionalGeneration.from_pretrained(\n",
    "    \"facebook/mbart-large-50\", return_dict=True\n",
    ") \n",
    "tokenizer = MBart50TokenizerFast.from_pretrained(\n",
    "    \"facebook/mbart-large-50\", src_lang=\"de_DE\", tgt_lang=\"de_DE\"\n",
    ")\n",
    "model.to(\"cuda:1\")\n",
    "model.model.encoder.embed_tokens"
   ],
   "metadata": {
    "collapsed": false,
    "ExecuteTime": {
     "end_time": "2024-01-29T15:38:45.846501340Z",
     "start_time": "2024-01-29T15:38:34.091314463Z"
    }
   },
   "id": "e82730a36da5ce9c"
  },
  {
   "cell_type": "markdown",
   "source": [
    "Complete the cues:"
   ],
   "metadata": {
    "collapsed": false
   },
   "id": "2b006ebc8aa40484"
  },
  {
   "cell_type": "code",
   "execution_count": 18,
   "outputs": [
    {
     "data": {
      "text/plain": "  0%|          | 0/506 [00:00<?, ?it/s]",
      "application/vnd.jupyter.widget-view+json": {
       "version_major": 2,
       "version_minor": 0,
       "model_id": "f82df61a51f04180aafebf89d9df6c86"
      }
     },
     "metadata": {},
     "output_type": "display_data"
    },
    {
     "name": "stdout",
     "output_type": "stream",
     "text": [
      ".........................................................................................................................................................................................................................................................................................................................................................................................................................................................................................................................."
     ]
    },
    {
     "data": {
      "text/plain": "     construction  pseudoword  \\\n0               5        Und5   \n1               5       erst5   \n2               5        gar5   \n3               5      nicht5   \n4               5      recht5   \n..            ...         ...   \n501          1884    Gold1884   \n502          1884  Silber1884   \n503          1884     ist1884   \n504          1986    kaum1986   \n505          1987    sehr1987   \n\n                                          orig_example  \\\n0    [Und schon gar nicht mit der Mehrwertsteuer .,...   \n1    [Trainer Lucien Favre hatte schon seine beiden...   \n2    [Es hat Afghanistan nicht stabilisiert und sch...   \n3    [Es hat Afghanistan nicht stabilisiert und sch...   \n4    [Trainer Lucien Favre hatte schon seine beiden...   \n..                                                 ...   \n501  [Schweigen ist Silber , reden ist Gold ., Schw...   \n502  [Schweigen ist Silber , reden ist Gold ., Schw...   \n503  [Schweigen ist Silber , reden ist Gold ., Schw...   \n504  [Die Vorhut vor 20.000 Jahren war für das Ries...   \n505  [Solche Menschen können sich sehr wohlfühlen o...   \n\n                                             generated  \\\n0    ['Und...... ', 'Und...... ', 'Und...... ', 'Un...   \n1    ['............', 'Tatsächlich sind wir uns nie...   \n2    ['Es hat Afghanistan nicht stabilisiert und sc...   \n3    ['Es hat Afghanistan nicht ... ', 'Dass es in ...   \n4    ['.............', 'Tatsächlich sind wir uns ni...   \n..                                                 ...   \n501  ['Schweigen ist Silber, reden ist Gold .. ', '...   \n502  ['Schweigen ist Silber....', 'Schweigen ist Si...   \n503  ['Schweigen ist.....', 'Schweigen ist.....', '...   \n504  ['Die Vorhut vor 20.000 Jahren.. ', ', für das...   \n505  ['Solche Menschen können sich sehr  .. ', '\" \"...   \n\n                                                scores  \n0    [0.7355748414993286, 0.7355748414993286, 0.735...  \n1    [0.6372720003128052, 0.8877686858177185, 0.634...  \n2    [0.7870361804962158, 0.8611741065979004, 0.565...  \n3    [0.7713918685913086, 0.8780519366264343, 0.563...  \n4    [0.645953893661499, 0.9032965302467346, 0.5911...  \n..                                                 ...  \n501  [0.8694262504577637, 0.8802860975265503, 0.858...  \n502  [0.844407320022583, 0.844407320022583, 0.82320...  \n503  [0.8271209597587585, 0.8271209597587585, 0.702...  \n504  [0.5729354023933411, 0.5011646151542664, 0.733...  \n505  [0.7609771490097046, 0.7990007400512695, 0.549...  \n\n[506 rows x 5 columns]",
      "text/html": "<div>\n<style scoped>\n    .dataframe tbody tr th:only-of-type {\n        vertical-align: middle;\n    }\n\n    .dataframe tbody tr th {\n        vertical-align: top;\n    }\n\n    .dataframe thead th {\n        text-align: right;\n    }\n</style>\n<table border=\"1\" class=\"dataframe\">\n  <thead>\n    <tr style=\"text-align: right;\">\n      <th></th>\n      <th>construction</th>\n      <th>pseudoword</th>\n      <th>orig_example</th>\n      <th>generated</th>\n      <th>scores</th>\n    </tr>\n  </thead>\n  <tbody>\n    <tr>\n      <th>0</th>\n      <td>5</td>\n      <td>Und5</td>\n      <td>[Und schon gar nicht mit der Mehrwertsteuer .,...</td>\n      <td>['Und...... ', 'Und...... ', 'Und...... ', 'Un...</td>\n      <td>[0.7355748414993286, 0.7355748414993286, 0.735...</td>\n    </tr>\n    <tr>\n      <th>1</th>\n      <td>5</td>\n      <td>erst5</td>\n      <td>[Trainer Lucien Favre hatte schon seine beiden...</td>\n      <td>['............', 'Tatsächlich sind wir uns nie...</td>\n      <td>[0.6372720003128052, 0.8877686858177185, 0.634...</td>\n    </tr>\n    <tr>\n      <th>2</th>\n      <td>5</td>\n      <td>gar5</td>\n      <td>[Es hat Afghanistan nicht stabilisiert und sch...</td>\n      <td>['Es hat Afghanistan nicht stabilisiert und sc...</td>\n      <td>[0.7870361804962158, 0.8611741065979004, 0.565...</td>\n    </tr>\n    <tr>\n      <th>3</th>\n      <td>5</td>\n      <td>nicht5</td>\n      <td>[Es hat Afghanistan nicht stabilisiert und sch...</td>\n      <td>['Es hat Afghanistan nicht ... ', 'Dass es in ...</td>\n      <td>[0.7713918685913086, 0.8780519366264343, 0.563...</td>\n    </tr>\n    <tr>\n      <th>4</th>\n      <td>5</td>\n      <td>recht5</td>\n      <td>[Trainer Lucien Favre hatte schon seine beiden...</td>\n      <td>['.............', 'Tatsächlich sind wir uns ni...</td>\n      <td>[0.645953893661499, 0.9032965302467346, 0.5911...</td>\n    </tr>\n    <tr>\n      <th>...</th>\n      <td>...</td>\n      <td>...</td>\n      <td>...</td>\n      <td>...</td>\n      <td>...</td>\n    </tr>\n    <tr>\n      <th>501</th>\n      <td>1884</td>\n      <td>Gold1884</td>\n      <td>[Schweigen ist Silber , reden ist Gold ., Schw...</td>\n      <td>['Schweigen ist Silber, reden ist Gold .. ', '...</td>\n      <td>[0.8694262504577637, 0.8802860975265503, 0.858...</td>\n    </tr>\n    <tr>\n      <th>502</th>\n      <td>1884</td>\n      <td>Silber1884</td>\n      <td>[Schweigen ist Silber , reden ist Gold ., Schw...</td>\n      <td>['Schweigen ist Silber....', 'Schweigen ist Si...</td>\n      <td>[0.844407320022583, 0.844407320022583, 0.82320...</td>\n    </tr>\n    <tr>\n      <th>503</th>\n      <td>1884</td>\n      <td>ist1884</td>\n      <td>[Schweigen ist Silber , reden ist Gold ., Schw...</td>\n      <td>['Schweigen ist.....', 'Schweigen ist.....', '...</td>\n      <td>[0.8271209597587585, 0.8271209597587585, 0.702...</td>\n    </tr>\n    <tr>\n      <th>504</th>\n      <td>1986</td>\n      <td>kaum1986</td>\n      <td>[Die Vorhut vor 20.000 Jahren war für das Ries...</td>\n      <td>['Die Vorhut vor 20.000 Jahren.. ', ', für das...</td>\n      <td>[0.5729354023933411, 0.5011646151542664, 0.733...</td>\n    </tr>\n    <tr>\n      <th>505</th>\n      <td>1987</td>\n      <td>sehr1987</td>\n      <td>[Solche Menschen können sich sehr wohlfühlen o...</td>\n      <td>['Solche Menschen können sich sehr  .. ', '\" \"...</td>\n      <td>[0.7609771490097046, 0.7990007400512695, 0.549...</td>\n    </tr>\n  </tbody>\n</table>\n<p>506 rows × 5 columns</p>\n</div>"
     },
     "execution_count": 18,
     "metadata": {},
     "output_type": "execute_result"
    }
   ],
   "source": [
    "def complete_cues(row):\n",
    "    try:\n",
    "        output_texts = []\n",
    "        scores = []\n",
    "        for cue, example in zip(row[\"cue\"], row[\"example\"]):\n",
    "            input_text = \"</s> \" + cue + \" <mask> . </s> de_DE\"\n",
    "            \n",
    "            target_length = int(1.5 * len(example))  # allow double the length of the original sentence\n",
    "            \n",
    "            input_ids = tokenizer([input_text], add_special_tokens=False, return_tensors=\"pt\")[\"input_ids\"].to(\"cuda:1\")\n",
    "            outputs = model.generate(input_ids, max_length=target_length, num_return_sequences=1, num_beams=50, output_scores=True, return_dict_in_generate=True)\n",
    "            output_text = tokenizer.batch_decode(outputs.sequences, skip_special_tokens=True, clean_up_tokenization_spaces=True)\n",
    "            score = torch.exp(outputs.sequences_scores)\n",
    "            output_texts += output_text\n",
    "            \n",
    "            scores.append(score)\n",
    "        #print(row[\"pseudoword\"], str(output_texts), str([float(score) for score in scores]))\n",
    "        print(\".\", end=\"\")\n",
    "        return pd.Series({\"construction\": row[\"construction\"], \"pseudoword\": row[\"pseudoword\"].iloc[0], \"orig_example\": row[\"example\"], \"generated\": str(output_texts), \"scores\": str([float(score) for score in scores])})\n",
    "    except Exception as e:\n",
    "        print(\":\", end=\"\")\n",
    "        return pd.Series({\"construction\": row[\"construction\"], \"pseudoword\": row[\"pseudoword\"].iloc[0], \"orig_example\": row[\"example\"], \"generated\": str(e), \"scores\": \"[-1.0]\"})\n",
    "\n",
    "examples_reset = examples.reset_index()\n",
    "pseudoword_output_scores = examples_reset[[\"construction\", \"pseudoword\", \"example\", \"cue\", \"pseudoword\"]].progress_apply(complete_cues, axis=1)\n",
    "pseudoword_output_scores"
   ],
   "metadata": {
    "collapsed": false,
    "ExecuteTime": {
     "end_time": "2024-01-29T16:16:58.583807071Z",
     "start_time": "2024-01-29T15:38:45.836425028Z"
    }
   },
   "id": "b7fc546c4aeb79b2"
  },
  {
   "cell_type": "code",
   "execution_count": 19,
   "outputs": [
    {
     "data": {
      "text/plain": "     pseudoword                                          generated  \\\n0          Und5  ['Und...... ', 'Und...... ', 'Und...... ', 'Un...   \n1         erst5  ['............', 'Tatsächlich sind wir uns nie...   \n2          gar5  ['Es hat Afghanistan nicht stabilisiert und sc...   \n3        nicht5  ['Es hat Afghanistan nicht ... ', 'Dass es in ...   \n4        recht5  ['.............', 'Tatsächlich sind wir uns ni...   \n..          ...                                                ...   \n501    Gold1884  ['Schweigen ist Silber, reden ist Gold .. ', '...   \n502  Silber1884  ['Schweigen ist Silber....', 'Schweigen ist Si...   \n503     ist1884  ['Schweigen ist.....', 'Schweigen ist.....', '...   \n504    kaum1986  ['Die Vorhut vor 20.000 Jahren.. ', ', für das...   \n505    sehr1987  ['Solche Menschen können sich sehr  .. ', '\" \"...   \n\n                                                scores  \n0    [0.7355748414993286, 0.7355748414993286, 0.735...  \n1    [0.6372720003128052, 0.8877686858177185, 0.634...  \n2    [0.7870361804962158, 0.8611741065979004, 0.565...  \n3    [0.7713918685913086, 0.8780519366264343, 0.563...  \n4    [0.645953893661499, 0.9032965302467346, 0.5911...  \n..                                                 ...  \n501  [0.8694262504577637, 0.8802860975265503, 0.858...  \n502  [0.844407320022583, 0.844407320022583, 0.82320...  \n503  [0.8271209597587585, 0.8271209597587585, 0.702...  \n504  [0.5729354023933411, 0.5011646151542664, 0.733...  \n505  [0.7609771490097046, 0.7990007400512695, 0.549...  \n\n[506 rows x 3 columns]",
      "text/html": "<div>\n<style scoped>\n    .dataframe tbody tr th:only-of-type {\n        vertical-align: middle;\n    }\n\n    .dataframe tbody tr th {\n        vertical-align: top;\n    }\n\n    .dataframe thead th {\n        text-align: right;\n    }\n</style>\n<table border=\"1\" class=\"dataframe\">\n  <thead>\n    <tr style=\"text-align: right;\">\n      <th></th>\n      <th>pseudoword</th>\n      <th>generated</th>\n      <th>scores</th>\n    </tr>\n  </thead>\n  <tbody>\n    <tr>\n      <th>0</th>\n      <td>Und5</td>\n      <td>['Und...... ', 'Und...... ', 'Und...... ', 'Un...</td>\n      <td>[0.7355748414993286, 0.7355748414993286, 0.735...</td>\n    </tr>\n    <tr>\n      <th>1</th>\n      <td>erst5</td>\n      <td>['............', 'Tatsächlich sind wir uns nie...</td>\n      <td>[0.6372720003128052, 0.8877686858177185, 0.634...</td>\n    </tr>\n    <tr>\n      <th>2</th>\n      <td>gar5</td>\n      <td>['Es hat Afghanistan nicht stabilisiert und sc...</td>\n      <td>[0.7870361804962158, 0.8611741065979004, 0.565...</td>\n    </tr>\n    <tr>\n      <th>3</th>\n      <td>nicht5</td>\n      <td>['Es hat Afghanistan nicht ... ', 'Dass es in ...</td>\n      <td>[0.7713918685913086, 0.8780519366264343, 0.563...</td>\n    </tr>\n    <tr>\n      <th>4</th>\n      <td>recht5</td>\n      <td>['.............', 'Tatsächlich sind wir uns ni...</td>\n      <td>[0.645953893661499, 0.9032965302467346, 0.5911...</td>\n    </tr>\n    <tr>\n      <th>...</th>\n      <td>...</td>\n      <td>...</td>\n      <td>...</td>\n    </tr>\n    <tr>\n      <th>501</th>\n      <td>Gold1884</td>\n      <td>['Schweigen ist Silber, reden ist Gold .. ', '...</td>\n      <td>[0.8694262504577637, 0.8802860975265503, 0.858...</td>\n    </tr>\n    <tr>\n      <th>502</th>\n      <td>Silber1884</td>\n      <td>['Schweigen ist Silber....', 'Schweigen ist Si...</td>\n      <td>[0.844407320022583, 0.844407320022583, 0.82320...</td>\n    </tr>\n    <tr>\n      <th>503</th>\n      <td>ist1884</td>\n      <td>['Schweigen ist.....', 'Schweigen ist.....', '...</td>\n      <td>[0.8271209597587585, 0.8271209597587585, 0.702...</td>\n    </tr>\n    <tr>\n      <th>504</th>\n      <td>kaum1986</td>\n      <td>['Die Vorhut vor 20.000 Jahren.. ', ', für das...</td>\n      <td>[0.5729354023933411, 0.5011646151542664, 0.733...</td>\n    </tr>\n    <tr>\n      <th>505</th>\n      <td>sehr1987</td>\n      <td>['Solche Menschen können sich sehr  .. ', '\" \"...</td>\n      <td>[0.7609771490097046, 0.7990007400512695, 0.549...</td>\n    </tr>\n  </tbody>\n</table>\n<p>506 rows × 3 columns</p>\n</div>"
     },
     "execution_count": 19,
     "metadata": {},
     "output_type": "execute_result"
    }
   ],
   "source": [
    "examples = pseudoword_output_scores[[\"pseudoword\", \"generated\", \"scores\"]]\n",
    "\n",
    "examples"
   ],
   "metadata": {
    "collapsed": false,
    "ExecuteTime": {
     "end_time": "2024-01-29T16:16:58.589566488Z",
     "start_time": "2024-01-29T16:16:58.584569466Z"
    }
   },
   "id": "14e01733b5a4aeba"
  },
  {
   "cell_type": "markdown",
   "source": [
    "#### Anzahl neuer Sätze"
   ],
   "metadata": {
    "collapsed": false
   },
   "id": "a64a06083f0ccd35"
  },
  {
   "cell_type": "code",
   "execution_count": 21,
   "outputs": [],
   "source": [
    "examples.to_csv(f\"../../out/comapp/mbart/data_mbart_vanilla.tsv\", sep=\"\\t\", decimal=\",\")\n",
    "#examples.to_excel(f\"../../out/comapp/mbart/data_mbart_vanilla.xlsx\")"
   ],
   "metadata": {
    "collapsed": false,
    "ExecuteTime": {
     "end_time": "2024-01-29T16:20:24.163952516Z",
     "start_time": "2024-01-29T16:20:24.120123228Z"
    }
   },
   "id": "93ee2263ebe468ba"
  },
  {
   "cell_type": "code",
   "outputs": [],
   "source": [
    "pseudoword_output_scores.to_csv(\"../../out/comapp/mbart/data_mbart_vanilla_complete.tsv\", sep=\"\\t\", decimal=\",\")"
   ],
   "metadata": {
    "collapsed": false,
    "ExecuteTime": {
     "end_time": "2024-01-29T16:20:26.061782446Z",
     "start_time": "2024-01-29T16:20:26.011240850Z"
    }
   },
   "id": "a890185b466ac02e",
   "execution_count": 22
  }
 ],
 "metadata": {
  "kernelspec": {
   "display_name": "Python 3",
   "language": "python",
   "name": "python3"
  },
  "language_info": {
   "codemirror_mode": {
    "name": "ipython",
    "version": 2
   },
   "file_extension": ".py",
   "mimetype": "text/x-python",
   "name": "python",
   "nbconvert_exporter": "python",
   "pygments_lexer": "ipython2",
   "version": "2.7.6"
  }
 },
 "nbformat": 4,
 "nbformat_minor": 5
}
