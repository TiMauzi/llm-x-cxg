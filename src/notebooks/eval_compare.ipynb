{
 "cells": [
  {
   "cell_type": "code",
   "execution_count": null,
   "id": "initial_id",
   "metadata": {
    "collapsed": true
   },
   "outputs": [],
   "source": [
    "import pandas as pd\n",
    "import numpy as np\n",
    "import matplotlib.pyplot as plt\n",
    "from matplotlib.ticker import FuncFormatter"
   ]
  },
  {
   "cell_type": "code",
   "outputs": [],
   "source": [
    "sims_single = pd.read_csv(\"data/similarities_bsbbert_kelex_only.tsv\", sep=\"\\t\", decimal=\",\")\n",
    "sims_ex = pd.read_csv(\"data/similarities_ex_bsbbert_kelex_only.tsv\", sep=\"\\t\", decimal=\",\")"
   ],
   "metadata": {
    "collapsed": false
   },
   "id": "a65f69000d8f9b14",
   "execution_count": null
  },
  {
   "cell_type": "code",
   "outputs": [],
   "source": [
    "sims_single"
   ],
   "metadata": {
    "collapsed": false
   },
   "id": "532afba2a11a4d87",
   "execution_count": null
  },
  {
   "cell_type": "code",
   "outputs": [],
   "source": [
    "sims_ex"
   ],
   "metadata": {
    "collapsed": false
   },
   "id": "9ef59a92cf9b58c2",
   "execution_count": null
  },
  {
   "cell_type": "code",
   "outputs": [],
   "source": [
    "sims_single[\"sim_diff\"] = sims_single.apply(lambda row: (float(row[\"pseudword_sim\"]) - float(row[\"bert_sim\"]))/float(row[\"bert_sim\"]), axis=1)\n",
    "sims_ex[\"sim_diff\"] = sims_ex.apply(lambda row: (float(row[\"pseudword_sim\"]) - float(row[\"bert_sim\"]))/float(row[\"bert_sim\"]), axis=1)\n",
    "\n",
    "sims_single[\"euclidean_diff\"] = sims_single.apply(lambda row: (float(row[\"bert_euclidean\"]) - float(row[\"pseudword_euclidean\"]))/float(row[\"pseudword_euclidean\"]), axis=1)\n",
    "sims_ex[\"euclidean_diff\"] = sims_ex.apply(lambda row: (float(row[\"bert_euclidean\"]) - float(row[\"pseudword_euclidean\"]))/float(row[\"pseudword_euclidean\"]), axis=1)\n",
    "\n",
    "sims_single[\"manhattan_diff\"] = sims_single.apply(lambda row: (float(row[\"bert_manhattan\"]) - float(row[\"pseudword_manhattan\"]))/float(row[\"pseudword_manhattan\"]), axis=1)\n",
    "sims_ex[\"manhattan_diff\"] = sims_ex.apply(lambda row: (float(row[\"bert_manhattan\"]) - float(row[\"pseudword_manhattan\"]))/float(row[\"pseudword_manhattan\"]), axis=1)"
   ],
   "metadata": {
    "collapsed": false
   },
   "id": "24ad41d0ef2c278b",
   "execution_count": null
  },
  {
   "cell_type": "code",
   "outputs": [],
   "source": [
    "sims_single"
   ],
   "metadata": {
    "collapsed": false
   },
   "id": "37490029cf6ea1c3",
   "execution_count": null
  },
  {
   "cell_type": "code",
   "outputs": [],
   "source": [
    "sims_ex"
   ],
   "metadata": {
    "collapsed": false
   },
   "id": "ab40ce1fc11d7b31",
   "execution_count": null
  },
  {
   "cell_type": "code",
   "outputs": [],
   "source": [
    "constr_avg_sims = sims_single.groupby('constr')[\"sim_diff\"].mean()\n",
    "constr_avg_euclidean = sims_single.groupby('constr')[\"euclidean_diff\"].mean()\n",
    "constr_avg_manhattan = sims_single.groupby('constr')[\"manhattan_diff\"].mean()\n",
    "\n",
    "constr_avg_sims = constr_avg_sims.sort_values(ascending=False)\n",
    "constr_strings = [str(i) for i in list(constr_avg_sims.index)]\n",
    "\n",
    "plt.rcParams['font.family'] = 'Libertinus Serif'\n",
    "fig, ax = plt.subplots(figsize=(8, 3))\n",
    "\n",
    "# Plot the grouped bars\n",
    "bar_width = 0.25\n",
    "bar_positions_sims = np.arange(len(constr_strings))\n",
    "bar_positions_euclidean = bar_positions_sims + bar_width\n",
    "bar_positions_manhattan = bar_positions_sims + 2 * bar_width\n",
    "\n",
    "ax.bar(bar_positions_sims, constr_avg_sims.values, color='dimgrey', width=bar_width, zorder=4)\n",
    "ax.bar(bar_positions_euclidean, constr_avg_euclidean[constr_avg_sims.index], color='tab:blue', width=bar_width, zorder=4)\n",
    "ax.bar(bar_positions_manhattan, constr_avg_manhattan[constr_avg_sims.index], color='tab:orange', width=bar_width, zorder=4)\n",
    "\n",
    "plt.grid(which='major', axis='y', linestyle='-', color='darkgrey', zorder=0)\n",
    "\n",
    "ax.yaxis.set_major_formatter(FuncFormatter(lambda y, _: '{:.0%}'.format(y)))\n",
    "\n",
    "overall_avg = sims_single[['sim_diff', 'euclidean_diff', 'manhattan_diff']].mean().mean()\n",
    "ax.axhline(overall_avg, color='xkcd:almost black', linestyle='--', zorder=3)\n",
    "\n",
    "ax.legend(labels=[f'Mittelwert: {overall_avg:.2%}', 'gemäß Kosinus-Ähnlichkeit', 'gemäß euklidischer Distanz', 'gemäß Manhattan-Distanz'])\n",
    "\n",
    "plt.ylim(-0.35, 0.35)\n",
    "plt.xlabel('Konstruktion (ID)')\n",
    "plt.ylabel('Häufigere Übereinstimmung \\n(Allg. Embedding : Pseudowort)')\n",
    "\n",
    "plt.xticks(bar_positions_sims + bar_width, constr_strings, rotation=90)\n",
    "\n",
    "plt.tight_layout()\n",
    "\n",
    "plt.savefig('ratio_single_in_matches.pdf')\n",
    "plt.show()"
   ],
   "metadata": {
    "collapsed": false
   },
   "id": "98a3ded326677272",
   "execution_count": null
  },
  {
   "cell_type": "code",
   "outputs": [],
   "source": [
    "constr_avg_sims = sims_ex.groupby('constr')[\"sim_diff\"].mean()\n",
    "constr_avg_euclidean = sims_ex.groupby('constr')[\"euclidean_diff\"].mean()\n",
    "constr_avg_manhattan = sims_ex.groupby('constr')[\"manhattan_diff\"].mean()\n",
    "\n",
    "constr_avg_sims = constr_avg_sims.sort_values(ascending=False)\n",
    "constr_strings = [str(i) for i in list(constr_avg_sims.index)]\n",
    "\n",
    "plt.rcParams['font.family'] = 'Libertinus Serif'\n",
    "fig, ax = plt.subplots(figsize=(8, 3))\n",
    "\n",
    "# Plot the grouped bars\n",
    "bar_width = 0.25\n",
    "bar_positions_sims = np.arange(len(constr_strings))\n",
    "bar_positions_euclidean = bar_positions_sims + bar_width\n",
    "bar_positions_manhattan = bar_positions_sims + 2 * bar_width\n",
    "\n",
    "ax.bar(bar_positions_sims, constr_avg_sims.values, color='dimgrey', width=bar_width, zorder=4)\n",
    "ax.bar(bar_positions_euclidean, constr_avg_euclidean[constr_avg_sims.index], color='tab:blue', width=bar_width, zorder=4)\n",
    "ax.bar(bar_positions_manhattan, constr_avg_manhattan[constr_avg_sims.index], color='tab:orange', width=bar_width, zorder=4)\n",
    "\n",
    "plt.grid(which='major', axis='y', linestyle='-', color='darkgrey', zorder=0)\n",
    "\n",
    "ax.yaxis.set_major_formatter(FuncFormatter(lambda y, _: '{:.0%}'.format(y)))\n",
    "\n",
    "overall_avg = sims_ex[['sim_diff', 'euclidean_diff', 'manhattan_diff']].mean() .mean()\n",
    "ax.axhline(overall_avg, color='xkcd:almost black', linestyle='--', zorder=3)\n",
    "\n",
    "ax.legend(labels=[f'Mittelwert: {overall_avg:.2%}', 'gemäß Kosinus-Ähnlichkeit', 'gemäß euklidischer Distanz', 'gemäß Manhattan-Distanz'])\n",
    "\n",
    "plt.ylim(-0.35, 0.35)\n",
    "plt.xlabel('Konstruktion (ID)')\n",
    "plt.ylabel('Häufigere Übereinstimmung \\n(Allg. Embedding : Pseudowort)')\n",
    "\n",
    "plt.xticks(bar_positions_sims + bar_width, constr_strings, rotation=90)\n",
    "\n",
    "plt.tight_layout()\n",
    "\n",
    "plt.savefig('ratio_ex_in_matches.pdf')\n",
    "plt.show()"
   ],
   "metadata": {
    "collapsed": false
   },
   "id": "3c33dcfea917d812",
   "execution_count": null
  },
  {
   "cell_type": "markdown",
   "source": [
    "Display the ratio between pseudo vs. usual embeds better:"
   ],
   "metadata": {
    "collapsed": false
   },
   "id": "7cadbd31457e419b"
  },
  {
   "cell_type": "code",
   "outputs": [],
   "source": [
    "sims_single[\"pseudo_pred_sim\"] = sims_single.apply(lambda row: row[\"sim_diff\"] > 0, axis=1)\n",
    "sims_single[\"pseudo_pred_euclidean\"] = sims_single.apply(lambda row: row[\"euclidean_diff\"] > 0, axis=1)\n",
    "sims_single[\"pseudo_pred_manhattan\"] = sims_single.apply(lambda row: row[\"manhattan_diff\"] > 0, axis=1)\n",
    "sims_single"
   ],
   "metadata": {
    "collapsed": false
   },
   "id": "fb3cb5ae25dae830",
   "execution_count": null
  },
  {
   "cell_type": "code",
   "outputs": [],
   "source": [
    "for sim in [\"sim\", \"euclidean\", \"manhattan\"]:\n",
    "    constr_counts = sims_single[\"pseudo_pred_\" + sim].value_counts().sort_values(ascending=False)\n",
    "    constr_strings = [\"Konstruktion\\nvorhergesagt\" if i else \"keine Konstr.\\nvorhergesagt\" for i in list(constr_counts.index)]\n",
    "    \n",
    "    plt.rcParams['font.family'] = 'Libertinus Serif'\n",
    "    fig, ax = plt.subplots(figsize=(3, 3))\n",
    "    \n",
    "    plt.pie(constr_counts, labels=constr_strings, autopct='%1.1f%%', labeldistance=1.2, colors=[\"darkgrey\", \"grey\"])\n",
    "    \n",
    "    plt.tight_layout()\n",
    "    \n",
    "    plt.savefig(f'pseudo_vs_common_in_matches_{sim}.pdf')\n",
    "    plt.show()"
   ],
   "metadata": {
    "collapsed": false
   },
   "id": "1e0f278f88311e37",
   "execution_count": null
  },
  {
   "cell_type": "code",
   "outputs": [],
   "source": [
    "sims_ex[\"pseudo_pred_sim\"] = sims_ex.apply(lambda row: row[\"sim_diff\"] > 0, axis=1)\n",
    "sims_ex[\"pseudo_pred_euclidean\"] = sims_ex.apply(lambda row: row[\"euclidean_diff\"] > 0, axis=1)\n",
    "sims_ex[\"pseudo_pred_manhattan\"] = sims_ex.apply(lambda row: row[\"manhattan_diff\"] > 0, axis=1)\n",
    "sims_ex"
   ],
   "metadata": {
    "collapsed": false
   },
   "id": "9ff9e4a73e1c975e",
   "execution_count": null
  },
  {
   "cell_type": "code",
   "outputs": [],
   "source": [
    "for sim in [\"sim\", \"euclidean\", \"manhattan\"]:\n",
    "    constr_counts = sims_ex[\"pseudo_pred_\" + sim].value_counts().sort_values(ascending=False)\n",
    "    constr_strings = [\"Konstruktion\\nvorhergesagt\" if i else \"keine Konstr.\\nvorhergesagt\" for i in list(constr_counts.index)]\n",
    "    \n",
    "    fig, ax = plt.subplots(figsize=(3, 3))\n",
    "    \n",
    "    plt.rcParams['font.family'] = 'Libertinus Serif'\n",
    "    \n",
    "    plt.pie(constr_counts, labels=constr_strings, autopct='%1.1f%%', labeldistance=1.2, colors=[\"grey\", \"darkgrey\"], counterclock=False)\n",
    "    \n",
    "    plt.tight_layout()\n",
    "    \n",
    "    plt.savefig(f'pseudo_vs_common_in_matches_{sim}_ex.pdf')\n",
    "    plt.show()"
   ],
   "metadata": {
    "collapsed": false
   },
   "id": "a598049541542cfd",
   "execution_count": null
  },
  {
   "cell_type": "markdown",
   "source": [
    "Finally, get a ranking of example quality per construction $q = m \\cdot \\frac{\\Delta + 1}{2} = m \\cdot \\frac{\\frac{\\Delta_{\\cos} + \\Delta_{2} + \\Delta_{1}}{3} + 1}{2} \\in [0, 1]$:"
   ],
   "metadata": {
    "collapsed": false
   },
   "id": "1fc7c9889cfc04fe"
  },
  {
   "cell_type": "code",
   "outputs": [],
   "source": [
    "sims_single[\"q\"] = sims_single.apply(lambda row: (((row[\"sim_diff\"] + row[\"euclidean_diff\"] + row[\"manhattan_diff\"])/3)+1)/2 * max(float(row[\"m\"]), 0), axis=1)\n",
    "sims_ex[\"q\"] = sims_single.apply(lambda row: (((row[\"sim_diff\"] + row[\"euclidean_diff\"] + row[\"manhattan_diff\"])/3)+1)/2 * max(float(row[\"m\"]), 0), axis=1)"
   ],
   "metadata": {
    "collapsed": false
   },
   "id": "35edcd29c8966f9d",
   "execution_count": null
  },
  {
   "cell_type": "code",
   "outputs": [],
   "source": [
    "sims_single"
   ],
   "metadata": {
    "collapsed": false
   },
   "id": "71c9ced2ae1a96c0",
   "execution_count": null
  },
  {
   "cell_type": "code",
   "outputs": [],
   "source": [
    "sims_ex"
   ],
   "metadata": {
    "collapsed": false
   },
   "id": "f80261a3da49ee90",
   "execution_count": null
  },
  {
   "cell_type": "markdown",
   "source": [
    "Create a pretty output for human annotation:"
   ],
   "metadata": {
    "collapsed": false
   },
   "id": "51d90b73e56b010"
  },
  {
   "cell_type": "code",
   "outputs": [],
   "source": [
    "q_single = sims_single[[\"constr\", \"sentence\", \"q\"]].groupby([\"constr\", \"sentence\"]).mean().sort_values(by=[\"constr\", \"q\"], ascending=[True, False])\n",
    "q_single.to_csv(f\"../../out/matches/q_single.tsv\", sep=\"\\t\", decimal=\",\")\n",
    "q_single"
   ],
   "metadata": {
    "collapsed": false
   },
   "id": "de53493bcefa750",
   "execution_count": null
  },
  {
   "cell_type": "code",
   "outputs": [],
   "source": [
    "q_ex = sims_ex[[\"constr\", \"sentence\", \"q\"]].groupby([\"constr\", \"sentence\"]).mean().sort_values(by=[\"constr\", \"q\"], ascending=[True, False])\n",
    "q_ex.to_csv(f\"../../out/matches/q_ex.tsv\", sep=\"\\t\", decimal=\",\")\n",
    "q_ex"
   ],
   "metadata": {
    "collapsed": false
   },
   "id": "9cd3784508ee8f92",
   "execution_count": null
  },
  {
   "cell_type": "code",
   "outputs": [],
   "source": [
    "q_single_comp = sims_single[[\"constr\", \"sentence\", \"m\", \"q\"]].groupby([\"constr\", \"sentence\", \"m\"]).mean().sort_values(by=[\"constr\", \"q\"], ascending=[True, False])\n",
    "q_single_comp = q_single_comp.reset_index().groupby([\"constr\"]).head(5)\n",
    "q_single_comp = pd.MultiIndex.from_frame(q_single_comp).to_frame().iloc[:, 0:0]\n",
    "#q_single_comp.to_latex(\"latex/matches_single.tex\", multirow=True, column_format=\"clrr\", longtable=True)\n",
    "q_single_comp.to_csv(f\"../../out/matches/q_single_comp.tsv\", sep=\"\\t\", decimal=\",\")\n",
    "q_single_comp"
   ],
   "metadata": {
    "collapsed": false
   },
   "id": "8688770a1f155a0a",
   "execution_count": null
  },
  {
   "cell_type": "code",
   "outputs": [],
   "source": [
    "q_ex_comp = sims_ex[[\"constr\", \"sentence\", \"m\", \"q\"]].groupby([\"constr\", \"sentence\", \"m\"]).mean().sort_values(by=[\"constr\", \"q\"], ascending=[True, False])\n",
    "q_ex_comp = q_ex_comp.reset_index().groupby([\"constr\"]).head(5)\n",
    "q_ex_comp = pd.MultiIndex.from_frame(q_ex_comp).to_frame().iloc[:, 0:0]\n",
    "#q_ex_comp.to_latex(\"latex/matches_ex.tex\", multirow=True, column_format=\"clrr\", longtable=True)\n",
    "q_ex_comp.to_csv(f\"../../out/matches/q_ex_comp.tsv\", sep=\"\\t\", decimal=\",\")\n",
    "q_ex_comp"
   ],
   "metadata": {
    "collapsed": false
   },
   "id": "ef83a175e8f663f2",
   "execution_count": null
  }
 ],
 "metadata": {
  "kernelspec": {
   "display_name": "Python 3",
   "language": "python",
   "name": "python3"
  },
  "language_info": {
   "codemirror_mode": {
    "name": "ipython",
    "version": 2
   },
   "file_extension": ".py",
   "mimetype": "text/x-python",
   "name": "python",
   "nbconvert_exporter": "python",
   "pygments_lexer": "ipython2",
   "version": "2.7.6"
  }
 },
 "nbformat": 4,
 "nbformat_minor": 5
}
