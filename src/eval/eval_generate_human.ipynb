{
 "cells": [
  {
   "cell_type": "code",
   "execution_count": 1,
   "id": "initial_id",
   "metadata": {
    "collapsed": true,
    "ExecuteTime": {
     "end_time": "2024-01-29T01:15:19.505041Z",
     "start_time": "2024-01-29T01:15:18.894022500Z"
    }
   },
   "outputs": [],
   "source": [
    "import pandas as pd\n",
    "import numpy as np"
   ]
  },
  {
   "cell_type": "code",
   "outputs": [],
   "source": [
    "llama_data = {}\n",
    "for i in range(5):\n",
    "    llama_data[i] = pd.read_csv(f\"data/{i}_shot_data.tsv\", sep=\"\\t\", decimal=\",\", index_col=0)\n",
    "    llama_data[i][\"num_unique\"] = llama_data[i].apply(lambda row: int(row[\"num_generated\"] * row[\"unique_generated\"]), axis=1)"
   ],
   "metadata": {
    "collapsed": false,
    "ExecuteTime": {
     "end_time": "2024-01-29T01:15:19.560976600Z",
     "start_time": "2024-01-29T01:15:19.508247800Z"
    }
   },
   "id": "b0e97ccf9346d86f",
   "execution_count": 2
  },
  {
   "cell_type": "code",
   "outputs": [],
   "source": [
    "mbart_data = pd.read_csv(\"data/data_mbart_complete.tsv\", sep=\"\\t\", index_col=0)\n",
    "mbart_vanilla_data = pd.read_csv(\"data/data_mbart_vanilla_complete.tsv\", sep=\"\\t\", index_col=0)"
   ],
   "metadata": {
    "collapsed": false,
    "ExecuteTime": {
     "end_time": "2024-01-29T01:15:19.635729Z",
     "start_time": "2024-01-29T01:15:19.560976600Z"
    }
   },
   "id": "856819a782daf7a8",
   "execution_count": 3
  },
  {
   "cell_type": "code",
   "outputs": [
    {
     "data": {
      "text/plain": "                                             definition  \\\n10    Die \"Negation:NEG_XgeschweigedennY-Konstruktio...   \n100   Die \"Äquativ_Plural-Konstruktion\" gehört zu de...   \n1004  Die \"Superlativ_Klimax:ADJ1_ADJ1-er_NP-Konstru...   \n1006  Die \"Superlativ:PRÄP_ADJ-ster_NP-Konstruktion\"...   \n101   Die \"Äquativ:ADJwieNP-Konstruktion\" gehört zu ...   \n...                                                 ...   \n97    Die \"Komparativ:ADJ1-eralsADJ1-Konstruktion\" g...   \n973   Bei \"Disjunktion_Doppeltitel:XoderY\" handelt e...   \n976   Bei \"Korrelation_Affirmation:WoXist, istY\" han...   \n98    Die \"Äquativ:soADJwieXP-Konstruktion\" gehört z...   \n99    Die \"Komparativ:ADJ-eralsX-Konstruktion\" gehör...   \n\n                                               examples  \\\n10    ['Da merkt kein Mensch , dass wir alle das gle...   \n100   ['Bis auf wenige Millimeter sind die Geräte pr...   \n1004  ['Hoch , höher , Spritpreis : Zurzeit wachsen ...   \n1006  ['Sie erzählen , was sie bislang am häufigsten...   \n101   ['Er ist geprägt von Gewalt , und doch ist er ...   \n...                                                 ...   \n97    ['Hoffentlich naturweiss , denn weisser als we...   \n973   ['Obelix und Asterix oder der Sport und die In...   \n976       ['\" Wo ein Wille ist , ist Umweltschutz . \"']   \n98    ['Die Anzahl der Jägerinnen ist in Deutschland...   \n99    ['An seiner Hand geht ein Mädchen , einen Kopf...   \n\n                                              generated  \\\n10    [\"Da merkt kein Mensch , dass wir alle das gle...   \n100   [\"Die Kaffeetasse mit dem Glas hat eine äquiva...   \n1004               [\"Größter\", \"Größter\", \"Der größte\"]   \n1006  [\"Sie hat das Konzert, das sie am häufigsten b...   \n101   [\"Er ist wie ein Baum im Wind\", \"Ein Mann wie ...   \n...                                                 ...   \n97    [\"Du bist kreativ und gewissenhaft\", \"Du bist ...   \n973   [\"Das Mammut und die Dinosaurier oder das Lebe...   \n976           [\" Wo ein Wille ist, ist Umweltschutz. \"]   \n98    [\"Die Sichtbarkeit im Tunnel war gleichwertig ...   \n99    [\"Er ist höher als sie\", \"Sie ist schlanker al...   \n\n                                    evaluated_generated  num_generated  \\\n10    ['Da merkt kein Mensch , dass wir alle das gle...              1   \n100   ['Die Kaffeetasse mit dem Glas hat eine äquiva...              2   \n1004               ['Größter', 'Größter', 'Der größte']              3   \n1006  ['Sie hat das Konzert, das sie am häufigsten b...              1   \n101   ['Er ist wie ein Baum im Wind', 'Ein Mann wie ...              3   \n...                                                 ...            ...   \n97    ['Du bist kreativ und gewissenhaft', 'Du bist ...              3   \n973   ['Das Mammut und die Dinosaurier oder das Lebe...              3   \n976           [' Wo ein Wille ist, ist Umweltschutz. ']              1   \n98    ['Die Sichtbarkeit im Tunnel war gleichwertig ...              3   \n99    ['Er ist höher als sie', 'Sie ist schlanker al...              4   \n\n      unique_generated  definition_overlap  examples_overlap   overlap  \\\n10            1.000000            0.000000               0.2  0.200000   \n100           1.000000            0.125000               0.0  0.125000   \n1004          0.666667            0.000000               0.0  0.000000   \n1006          1.000000            0.000000               0.0  0.000000   \n101           1.000000            0.000000               0.0  0.000000   \n...                ...                 ...               ...       ...   \n97            1.000000            0.333333               0.0  0.333333   \n973           1.000000            0.000000               0.0  0.000000   \n976           1.000000            0.333333               0.0  0.333333   \n98            1.000000            0.000000               0.0  0.000000   \n99            1.000000            0.000000               0.0  0.000000   \n\n      num_unique  \n10             1  \n100            2  \n1004           2  \n1006           1  \n101            3  \n...          ...  \n97             3  \n973            3  \n976            1  \n98             3  \n99             4  \n\n[211 rows x 10 columns]",
      "text/html": "<div>\n<style scoped>\n    .dataframe tbody tr th:only-of-type {\n        vertical-align: middle;\n    }\n\n    .dataframe tbody tr th {\n        vertical-align: top;\n    }\n\n    .dataframe thead th {\n        text-align: right;\n    }\n</style>\n<table border=\"1\" class=\"dataframe\">\n  <thead>\n    <tr style=\"text-align: right;\">\n      <th></th>\n      <th>definition</th>\n      <th>examples</th>\n      <th>generated</th>\n      <th>evaluated_generated</th>\n      <th>num_generated</th>\n      <th>unique_generated</th>\n      <th>definition_overlap</th>\n      <th>examples_overlap</th>\n      <th>overlap</th>\n      <th>num_unique</th>\n    </tr>\n  </thead>\n  <tbody>\n    <tr>\n      <th>10</th>\n      <td>Die \"Negation:NEG_XgeschweigedennY-Konstruktio...</td>\n      <td>['Da merkt kein Mensch , dass wir alle das gle...</td>\n      <td>[\"Da merkt kein Mensch , dass wir alle das gle...</td>\n      <td>['Da merkt kein Mensch , dass wir alle das gle...</td>\n      <td>1</td>\n      <td>1.000000</td>\n      <td>0.000000</td>\n      <td>0.2</td>\n      <td>0.200000</td>\n      <td>1</td>\n    </tr>\n    <tr>\n      <th>100</th>\n      <td>Die \"Äquativ_Plural-Konstruktion\" gehört zu de...</td>\n      <td>['Bis auf wenige Millimeter sind die Geräte pr...</td>\n      <td>[\"Die Kaffeetasse mit dem Glas hat eine äquiva...</td>\n      <td>['Die Kaffeetasse mit dem Glas hat eine äquiva...</td>\n      <td>2</td>\n      <td>1.000000</td>\n      <td>0.125000</td>\n      <td>0.0</td>\n      <td>0.125000</td>\n      <td>2</td>\n    </tr>\n    <tr>\n      <th>1004</th>\n      <td>Die \"Superlativ_Klimax:ADJ1_ADJ1-er_NP-Konstru...</td>\n      <td>['Hoch , höher , Spritpreis : Zurzeit wachsen ...</td>\n      <td>[\"Größter\", \"Größter\", \"Der größte\"]</td>\n      <td>['Größter', 'Größter', 'Der größte']</td>\n      <td>3</td>\n      <td>0.666667</td>\n      <td>0.000000</td>\n      <td>0.0</td>\n      <td>0.000000</td>\n      <td>2</td>\n    </tr>\n    <tr>\n      <th>1006</th>\n      <td>Die \"Superlativ:PRÄP_ADJ-ster_NP-Konstruktion\"...</td>\n      <td>['Sie erzählen , was sie bislang am häufigsten...</td>\n      <td>[\"Sie hat das Konzert, das sie am häufigsten b...</td>\n      <td>['Sie hat das Konzert, das sie am häufigsten b...</td>\n      <td>1</td>\n      <td>1.000000</td>\n      <td>0.000000</td>\n      <td>0.0</td>\n      <td>0.000000</td>\n      <td>1</td>\n    </tr>\n    <tr>\n      <th>101</th>\n      <td>Die \"Äquativ:ADJwieNP-Konstruktion\" gehört zu ...</td>\n      <td>['Er ist geprägt von Gewalt , und doch ist er ...</td>\n      <td>[\"Er ist wie ein Baum im Wind\", \"Ein Mann wie ...</td>\n      <td>['Er ist wie ein Baum im Wind', 'Ein Mann wie ...</td>\n      <td>3</td>\n      <td>1.000000</td>\n      <td>0.000000</td>\n      <td>0.0</td>\n      <td>0.000000</td>\n      <td>3</td>\n    </tr>\n    <tr>\n      <th>...</th>\n      <td>...</td>\n      <td>...</td>\n      <td>...</td>\n      <td>...</td>\n      <td>...</td>\n      <td>...</td>\n      <td>...</td>\n      <td>...</td>\n      <td>...</td>\n      <td>...</td>\n    </tr>\n    <tr>\n      <th>97</th>\n      <td>Die \"Komparativ:ADJ1-eralsADJ1-Konstruktion\" g...</td>\n      <td>['Hoffentlich naturweiss , denn weisser als we...</td>\n      <td>[\"Du bist kreativ und gewissenhaft\", \"Du bist ...</td>\n      <td>['Du bist kreativ und gewissenhaft', 'Du bist ...</td>\n      <td>3</td>\n      <td>1.000000</td>\n      <td>0.333333</td>\n      <td>0.0</td>\n      <td>0.333333</td>\n      <td>3</td>\n    </tr>\n    <tr>\n      <th>973</th>\n      <td>Bei \"Disjunktion_Doppeltitel:XoderY\" handelt e...</td>\n      <td>['Obelix und Asterix oder der Sport und die In...</td>\n      <td>[\"Das Mammut und die Dinosaurier oder das Lebe...</td>\n      <td>['Das Mammut und die Dinosaurier oder das Lebe...</td>\n      <td>3</td>\n      <td>1.000000</td>\n      <td>0.000000</td>\n      <td>0.0</td>\n      <td>0.000000</td>\n      <td>3</td>\n    </tr>\n    <tr>\n      <th>976</th>\n      <td>Bei \"Korrelation_Affirmation:WoXist, istY\" han...</td>\n      <td>['\" Wo ein Wille ist , ist Umweltschutz . \"']</td>\n      <td>[\" Wo ein Wille ist, ist Umweltschutz. \"]</td>\n      <td>[' Wo ein Wille ist, ist Umweltschutz. ']</td>\n      <td>1</td>\n      <td>1.000000</td>\n      <td>0.333333</td>\n      <td>0.0</td>\n      <td>0.333333</td>\n      <td>1</td>\n    </tr>\n    <tr>\n      <th>98</th>\n      <td>Die \"Äquativ:soADJwieXP-Konstruktion\" gehört z...</td>\n      <td>['Die Anzahl der Jägerinnen ist in Deutschland...</td>\n      <td>[\"Die Sichtbarkeit im Tunnel war gleichwertig ...</td>\n      <td>['Die Sichtbarkeit im Tunnel war gleichwertig ...</td>\n      <td>3</td>\n      <td>1.000000</td>\n      <td>0.000000</td>\n      <td>0.0</td>\n      <td>0.000000</td>\n      <td>3</td>\n    </tr>\n    <tr>\n      <th>99</th>\n      <td>Die \"Komparativ:ADJ-eralsX-Konstruktion\" gehör...</td>\n      <td>['An seiner Hand geht ein Mädchen , einen Kopf...</td>\n      <td>[\"Er ist höher als sie\", \"Sie ist schlanker al...</td>\n      <td>['Er ist höher als sie', 'Sie ist schlanker al...</td>\n      <td>4</td>\n      <td>1.000000</td>\n      <td>0.000000</td>\n      <td>0.0</td>\n      <td>0.000000</td>\n      <td>4</td>\n    </tr>\n  </tbody>\n</table>\n<p>211 rows × 10 columns</p>\n</div>"
     },
     "execution_count": 4,
     "metadata": {},
     "output_type": "execute_result"
    }
   ],
   "source": [
    "llama_data[1]"
   ],
   "metadata": {
    "collapsed": false,
    "ExecuteTime": {
     "end_time": "2024-01-29T01:15:19.658545Z",
     "start_time": "2024-01-29T01:15:19.636842300Z"
    }
   },
   "id": "c5fdcdd33e7c8129",
   "execution_count": 4
  },
  {
   "cell_type": "code",
   "outputs": [],
   "source": [
    "def evaluate_generated(row):\n",
    "    try:\n",
    "        new = eval(row[\"generated\"])\n",
    "    except TypeError:\n",
    "        new = []\n",
    "    return new"
   ],
   "metadata": {
    "collapsed": false
   },
   "id": "cb7237385e4e062e",
   "execution_count": null
  },
  {
   "cell_type": "code",
   "outputs": [
    {
     "data": {
      "text/plain": "     construction  pseudoword  \\\n0               5        Und5   \n1               5       erst5   \n2               5        gar5   \n3               5      nicht5   \n4               5      recht5   \n..            ...         ...   \n557          1884    Gold1884   \n558          1884  Silber1884   \n559          1884     ist1884   \n560          1986    kaum1986   \n561          1987    sehr1987   \n\n                                          orig_example  \\\n0    ['\"\"Nicht herauskaufen\"\", \"\"nicht erpressen la...   \n1    ['Trainer Lucien Favre hatte schon seine beide...   \n2    ['Es hat Afghanistan nicht stabilisiert und sc...   \n3    ['Es hat Afghanistan nicht stabilisiert und sc...   \n4    ['Trainer Lucien Favre hatte schon seine beide...   \n..                                                 ...   \n557  ['Schweigen ist Silber , reden ist Gold .', 'S...   \n558  ['Schweigen ist Silber , reden ist Gold .', 'S...   \n559  ['Schweigen ist Silber , reden ist Gold .', 'S...   \n560  ['Die Vorhut vor 20.000 Jahren war für das Rie...   \n561  ['Solche Menschen können sich sehr wohlfühlen ...   \n\n                                             generated  \\\n0    ['\"\"Nicht herauskaufen\"\", \"\"nicht erpressen la...   \n1    ['Trainer Lucien Favre hatte schon seine beide...   \n2    ['Es hat Afghanistan nicht stabilisiert gar5 -...   \n3                                                  NaN   \n4    ['Trainer Lucien Favre hatte schon seine beide...   \n..                                                 ...   \n557  ['Schweigen ist Silber, reden ist ', 'Schweige...   \n558  ['Schweigen ist   ', 'Schweigen ist   ', 'Ange...   \n559  ['Schweigen ist1884 (Englisch)', 'Schweigen is...   \n560  ['Die Vorhut vor 20.000 Jahren   ', 'Vorhut vo...   \n561  ['Solche Menschen können   ', 'Solche Menschen...   \n\n                                                scores  \\\n0    [0.9136524200439453, 0.44515761733055115, 0.51...   \n1    [0.7875338792800903, 0.7785300612449646, 0.742...   \n2    [0.5824133157730103, 0.6445226073265076, 0.719...   \n3                                               [-1.0]   \n4    [0.7853999733924866, 0.8219645023345947, 0.791...   \n..                                                 ...   \n557  [0.7522048950195312, 0.8172914981842041, 0.784...   \n558  [0.7068747878074646, 0.7068747878074646, 0.643...   \n559  [0.4845588505268097, 0.4845588505268097, 0.498...   \n560  [0.6681877374649048, 0.5497788190841675, 0.670...   \n561  [0.6572356820106506, 0.7008771300315857, 0.700...   \n\n                                   evaluated_generated  \n0    [\"\"Nicht herauskaufen\"\", \"\"nicht erpressen las...  \n1    [Trainer Lucien Favre hatte schon seine beiden...  \n2    [Es hat Afghanistan nicht stabilisiert gar5 - ...  \n3                                                   []  \n4    [Trainer Lucien Favre hatte schon seine beiden...  \n..                                                 ...  \n557  [Schweigen ist Silber, reden ist , Schweigen i...  \n558  [Schweigen ist   , Schweigen ist   , Angeben i...  \n559  [Schweigen ist1884 (Englisch), Schweigen ist18...  \n560  [Die Vorhut vor 20.000 Jahren   , Vorhut vor 2...  \n561  [Solche Menschen können   , Solche Menschen kö...  \n\n[562 rows x 6 columns]",
      "text/html": "<div>\n<style scoped>\n    .dataframe tbody tr th:only-of-type {\n        vertical-align: middle;\n    }\n\n    .dataframe tbody tr th {\n        vertical-align: top;\n    }\n\n    .dataframe thead th {\n        text-align: right;\n    }\n</style>\n<table border=\"1\" class=\"dataframe\">\n  <thead>\n    <tr style=\"text-align: right;\">\n      <th></th>\n      <th>construction</th>\n      <th>pseudoword</th>\n      <th>orig_example</th>\n      <th>generated</th>\n      <th>scores</th>\n      <th>evaluated_generated</th>\n    </tr>\n  </thead>\n  <tbody>\n    <tr>\n      <th>0</th>\n      <td>5</td>\n      <td>Und5</td>\n      <td>['\"\"Nicht herauskaufen\"\", \"\"nicht erpressen la...</td>\n      <td>['\"\"Nicht herauskaufen\"\", \"\"nicht erpressen la...</td>\n      <td>[0.9136524200439453, 0.44515761733055115, 0.51...</td>\n      <td>[\"\"Nicht herauskaufen\"\", \"\"nicht erpressen las...</td>\n    </tr>\n    <tr>\n      <th>1</th>\n      <td>5</td>\n      <td>erst5</td>\n      <td>['Trainer Lucien Favre hatte schon seine beide...</td>\n      <td>['Trainer Lucien Favre hatte schon seine beide...</td>\n      <td>[0.7875338792800903, 0.7785300612449646, 0.742...</td>\n      <td>[Trainer Lucien Favre hatte schon seine beiden...</td>\n    </tr>\n    <tr>\n      <th>2</th>\n      <td>5</td>\n      <td>gar5</td>\n      <td>['Es hat Afghanistan nicht stabilisiert und sc...</td>\n      <td>['Es hat Afghanistan nicht stabilisiert gar5 -...</td>\n      <td>[0.5824133157730103, 0.6445226073265076, 0.719...</td>\n      <td>[Es hat Afghanistan nicht stabilisiert gar5 - ...</td>\n    </tr>\n    <tr>\n      <th>3</th>\n      <td>5</td>\n      <td>nicht5</td>\n      <td>['Es hat Afghanistan nicht stabilisiert und sc...</td>\n      <td>NaN</td>\n      <td>[-1.0]</td>\n      <td>[]</td>\n    </tr>\n    <tr>\n      <th>4</th>\n      <td>5</td>\n      <td>recht5</td>\n      <td>['Trainer Lucien Favre hatte schon seine beide...</td>\n      <td>['Trainer Lucien Favre hatte schon seine beide...</td>\n      <td>[0.7853999733924866, 0.8219645023345947, 0.791...</td>\n      <td>[Trainer Lucien Favre hatte schon seine beiden...</td>\n    </tr>\n    <tr>\n      <th>...</th>\n      <td>...</td>\n      <td>...</td>\n      <td>...</td>\n      <td>...</td>\n      <td>...</td>\n      <td>...</td>\n    </tr>\n    <tr>\n      <th>557</th>\n      <td>1884</td>\n      <td>Gold1884</td>\n      <td>['Schweigen ist Silber , reden ist Gold .', 'S...</td>\n      <td>['Schweigen ist Silber, reden ist ', 'Schweige...</td>\n      <td>[0.7522048950195312, 0.8172914981842041, 0.784...</td>\n      <td>[Schweigen ist Silber, reden ist , Schweigen i...</td>\n    </tr>\n    <tr>\n      <th>558</th>\n      <td>1884</td>\n      <td>Silber1884</td>\n      <td>['Schweigen ist Silber , reden ist Gold .', 'S...</td>\n      <td>['Schweigen ist   ', 'Schweigen ist   ', 'Ange...</td>\n      <td>[0.7068747878074646, 0.7068747878074646, 0.643...</td>\n      <td>[Schweigen ist   , Schweigen ist   , Angeben i...</td>\n    </tr>\n    <tr>\n      <th>559</th>\n      <td>1884</td>\n      <td>ist1884</td>\n      <td>['Schweigen ist Silber , reden ist Gold .', 'S...</td>\n      <td>['Schweigen ist1884 (Englisch)', 'Schweigen is...</td>\n      <td>[0.4845588505268097, 0.4845588505268097, 0.498...</td>\n      <td>[Schweigen ist1884 (Englisch), Schweigen ist18...</td>\n    </tr>\n    <tr>\n      <th>560</th>\n      <td>1986</td>\n      <td>kaum1986</td>\n      <td>['Die Vorhut vor 20.000 Jahren war für das Rie...</td>\n      <td>['Die Vorhut vor 20.000 Jahren   ', 'Vorhut vo...</td>\n      <td>[0.6681877374649048, 0.5497788190841675, 0.670...</td>\n      <td>[Die Vorhut vor 20.000 Jahren   , Vorhut vor 2...</td>\n    </tr>\n    <tr>\n      <th>561</th>\n      <td>1987</td>\n      <td>sehr1987</td>\n      <td>['Solche Menschen können sich sehr wohlfühlen ...</td>\n      <td>['Solche Menschen können   ', 'Solche Menschen...</td>\n      <td>[0.6572356820106506, 0.7008771300315857, 0.700...</td>\n      <td>[Solche Menschen können   , Solche Menschen kö...</td>\n    </tr>\n  </tbody>\n</table>\n<p>562 rows × 6 columns</p>\n</div>"
     },
     "execution_count": 9,
     "metadata": {},
     "output_type": "execute_result"
    }
   ],
   "source": [
    "mbart_data[\"evaluated_generated\"] = mbart_data.apply(evaluate_generated, axis=1)\n",
    "mbart_data"
   ],
   "metadata": {
    "collapsed": false,
    "ExecuteTime": {
     "end_time": "2024-01-29T01:18:57.662367900Z",
     "start_time": "2024-01-29T01:18:57.656936900Z"
    }
   },
   "id": "53482283d857b3b2",
   "execution_count": 9
  },
  {
   "cell_type": "code",
   "outputs": [
    {
     "data": {
      "text/plain": "     construction  pseudoword  \\\n0               5        Und5   \n1               5       erst5   \n2               5        gar5   \n3               5      nicht5   \n4               5      recht5   \n..            ...         ...   \n557          1884    Gold1884   \n558          1884  Silber1884   \n559          1884     ist1884   \n560          1986    kaum1986   \n561          1987    sehr1987   \n\n                                          orig_example  \\\n0    ['\"\"Nicht herauskaufen\"\", \"\"nicht erpressen la...   \n1    ['Trainer Lucien Favre hatte schon seine beide...   \n2    ['Es hat Afghanistan nicht stabilisiert und sc...   \n3    ['Es hat Afghanistan nicht stabilisiert und sc...   \n4    ['Trainer Lucien Favre hatte schon seine beide...   \n..                                                 ...   \n557  ['Schweigen ist Silber , reden ist Gold .', 'S...   \n558  ['Schweigen ist Silber , reden ist Gold .', 'S...   \n559  ['Schweigen ist Silber , reden ist Gold .', 'S...   \n560  ['Die Vorhut vor 20.000 Jahren war für das Rie...   \n561  ['Solche Menschen können sich sehr wohlfühlen ...   \n\n                                             generated  \\\n0    ['\"\"Nicht herauskaufen\"\", \"\"nicht erpressen la...   \n1    ['Trainer Lucien Favre hatte schon seine beide...   \n2    ['Es hat Afghanistan nicht stabilisiert und wi...   \n3    ['Es hat sich nicht gelohnt.', 'Es hat Afghani...   \n4    ['Trainer Lucien Favre hatte schon seine beide...   \n..                                                 ...   \n557  ['Schweigen ist Silber, reden ist Gold - Seite...   \n558  ['Schweigen ist Silber und Gold', 'Schweigen i...   \n559  ['Schweigen ist besser als nichts', 'Schweigen...   \n560  ['Die Vorhut vor 20.000 Jahren war nicht mehr ...   \n561  ['Solche Menschen können sich nicht wehren!', ...   \n\n                                                scores  \\\n0    [0.7326326966285706, 0.3384742736816406, 0.712...   \n1    [0.7867358326911926, 0.8212453126907349, 0.684...   \n2    [0.5909808874130249, 0.6491526365280151, 0.740...   \n3    [0.47445887327194214, 0.4824838936328888, 0.40...   \n4    [0.7321943640708923, 0.8531233072280884, 0.727...   \n..                                                 ...   \n557  [0.648520290851593, 0.6625412106513977, 0.6627...   \n558  [0.5993227362632751, 0.5993227362632751, 0.541...   \n559  [0.4621695280075073, 0.4621695280075073, 0.487...   \n560  [0.5413929224014282, 0.7501695156097412, 0.599...   \n561  [0.562934160232544, 0.637725830078125, 0.70253...   \n\n                                   evaluated_generated  \n0    [\"\"Nicht herauskaufen\"\", \"\"nicht erpressen las...  \n1    [Trainer Lucien Favre hatte schon seine beiden...  \n2    [Es hat Afghanistan nicht stabilisiert und wir...  \n3    [Es hat sich nicht gelohnt., Es hat Afghanista...  \n4    [Trainer Lucien Favre hatte schon seine beiden...  \n..                                                 ...  \n557  [Schweigen ist Silber, reden ist Gold - Seite ...  \n558  [Schweigen ist Silber und Gold, Schweigen ist ...  \n559  [Schweigen ist besser als nichts, Schweigen is...  \n560  [Die Vorhut vor 20.000 Jahren war nicht mehr d...  \n561  [Solche Menschen können sich nicht wehren!, So...  \n\n[562 rows x 6 columns]",
      "text/html": "<div>\n<style scoped>\n    .dataframe tbody tr th:only-of-type {\n        vertical-align: middle;\n    }\n\n    .dataframe tbody tr th {\n        vertical-align: top;\n    }\n\n    .dataframe thead th {\n        text-align: right;\n    }\n</style>\n<table border=\"1\" class=\"dataframe\">\n  <thead>\n    <tr style=\"text-align: right;\">\n      <th></th>\n      <th>construction</th>\n      <th>pseudoword</th>\n      <th>orig_example</th>\n      <th>generated</th>\n      <th>scores</th>\n      <th>evaluated_generated</th>\n    </tr>\n  </thead>\n  <tbody>\n    <tr>\n      <th>0</th>\n      <td>5</td>\n      <td>Und5</td>\n      <td>['\"\"Nicht herauskaufen\"\", \"\"nicht erpressen la...</td>\n      <td>['\"\"Nicht herauskaufen\"\", \"\"nicht erpressen la...</td>\n      <td>[0.7326326966285706, 0.3384742736816406, 0.712...</td>\n      <td>[\"\"Nicht herauskaufen\"\", \"\"nicht erpressen las...</td>\n    </tr>\n    <tr>\n      <th>1</th>\n      <td>5</td>\n      <td>erst5</td>\n      <td>['Trainer Lucien Favre hatte schon seine beide...</td>\n      <td>['Trainer Lucien Favre hatte schon seine beide...</td>\n      <td>[0.7867358326911926, 0.8212453126907349, 0.684...</td>\n      <td>[Trainer Lucien Favre hatte schon seine beiden...</td>\n    </tr>\n    <tr>\n      <th>2</th>\n      <td>5</td>\n      <td>gar5</td>\n      <td>['Es hat Afghanistan nicht stabilisiert und sc...</td>\n      <td>['Es hat Afghanistan nicht stabilisiert und wi...</td>\n      <td>[0.5909808874130249, 0.6491526365280151, 0.740...</td>\n      <td>[Es hat Afghanistan nicht stabilisiert und wir...</td>\n    </tr>\n    <tr>\n      <th>3</th>\n      <td>5</td>\n      <td>nicht5</td>\n      <td>['Es hat Afghanistan nicht stabilisiert und sc...</td>\n      <td>['Es hat sich nicht gelohnt.', 'Es hat Afghani...</td>\n      <td>[0.47445887327194214, 0.4824838936328888, 0.40...</td>\n      <td>[Es hat sich nicht gelohnt., Es hat Afghanista...</td>\n    </tr>\n    <tr>\n      <th>4</th>\n      <td>5</td>\n      <td>recht5</td>\n      <td>['Trainer Lucien Favre hatte schon seine beide...</td>\n      <td>['Trainer Lucien Favre hatte schon seine beide...</td>\n      <td>[0.7321943640708923, 0.8531233072280884, 0.727...</td>\n      <td>[Trainer Lucien Favre hatte schon seine beiden...</td>\n    </tr>\n    <tr>\n      <th>...</th>\n      <td>...</td>\n      <td>...</td>\n      <td>...</td>\n      <td>...</td>\n      <td>...</td>\n      <td>...</td>\n    </tr>\n    <tr>\n      <th>557</th>\n      <td>1884</td>\n      <td>Gold1884</td>\n      <td>['Schweigen ist Silber , reden ist Gold .', 'S...</td>\n      <td>['Schweigen ist Silber, reden ist Gold - Seite...</td>\n      <td>[0.648520290851593, 0.6625412106513977, 0.6627...</td>\n      <td>[Schweigen ist Silber, reden ist Gold - Seite ...</td>\n    </tr>\n    <tr>\n      <th>558</th>\n      <td>1884</td>\n      <td>Silber1884</td>\n      <td>['Schweigen ist Silber , reden ist Gold .', 'S...</td>\n      <td>['Schweigen ist Silber und Gold', 'Schweigen i...</td>\n      <td>[0.5993227362632751, 0.5993227362632751, 0.541...</td>\n      <td>[Schweigen ist Silber und Gold, Schweigen ist ...</td>\n    </tr>\n    <tr>\n      <th>559</th>\n      <td>1884</td>\n      <td>ist1884</td>\n      <td>['Schweigen ist Silber , reden ist Gold .', 'S...</td>\n      <td>['Schweigen ist besser als nichts', 'Schweigen...</td>\n      <td>[0.4621695280075073, 0.4621695280075073, 0.487...</td>\n      <td>[Schweigen ist besser als nichts, Schweigen is...</td>\n    </tr>\n    <tr>\n      <th>560</th>\n      <td>1986</td>\n      <td>kaum1986</td>\n      <td>['Die Vorhut vor 20.000 Jahren war für das Rie...</td>\n      <td>['Die Vorhut vor 20.000 Jahren war nicht mehr ...</td>\n      <td>[0.5413929224014282, 0.7501695156097412, 0.599...</td>\n      <td>[Die Vorhut vor 20.000 Jahren war nicht mehr d...</td>\n    </tr>\n    <tr>\n      <th>561</th>\n      <td>1987</td>\n      <td>sehr1987</td>\n      <td>['Solche Menschen können sich sehr wohlfühlen ...</td>\n      <td>['Solche Menschen können sich nicht wehren!', ...</td>\n      <td>[0.562934160232544, 0.637725830078125, 0.70253...</td>\n      <td>[Solche Menschen können sich nicht wehren!, So...</td>\n    </tr>\n  </tbody>\n</table>\n<p>562 rows × 6 columns</p>\n</div>"
     },
     "execution_count": 10,
     "metadata": {},
     "output_type": "execute_result"
    }
   ],
   "source": [
    "mbart_vanilla_data[\"evaluated_generated\"] = mbart_vanilla_data.apply(evaluate_generated, axis=1)\n",
    "mbart_vanilla_data"
   ],
   "metadata": {
    "collapsed": false,
    "ExecuteTime": {
     "end_time": "2024-01-29T01:19:48.404186800Z",
     "start_time": "2024-01-29T01:19:48.397955100Z"
    }
   },
   "id": "234516575dfe982d",
   "execution_count": 10
  },
  {
   "cell_type": "code",
   "outputs": [
    {
     "data": {
      "text/plain": "                                             definition  \\\n10    Die \"Negation:NEG_XgeschweigedennY-Konstruktio...   \n100   Die \"Äquativ_Plural-Konstruktion\" gehört zu de...   \n1004  Die \"Superlativ_Klimax:ADJ1_ADJ1-er_NP-Konstru...   \n1006  Die \"Superlativ:PRÄP_ADJ-ster_NP-Konstruktion\"...   \n101   Die \"Äquativ:ADJwieNP-Konstruktion\" gehört zu ...   \n...                                                 ...   \n97    Die \"Komparativ:ADJ1-eralsADJ1-Konstruktion\" g...   \n973   Bei \"Disjunktion_Doppeltitel:XoderY\" handelt e...   \n976   Bei \"Korrelation_Affirmation:WoXist, istY\" han...   \n98    Die \"Äquativ:soADJwieXP-Konstruktion\" gehört z...   \n99    Die \"Komparativ:ADJ-eralsX-Konstruktion\" gehör...   \n\n                                    evaluated_generated  \\\n10    ['Die meisten von ihnen haben zuvor noch nie e...   \n100   ['Die beiden Pferde sind gleicher Größe.', 'Di...   \n1004  ['Michael is the tallest', 'John has the short...   \n1006  ['The athlete is the fastest runner on the tea...   \n101   ['Das Auto fährt wie eine Lokomotive', 'Das Ha...   \n...                                                 ...   \n97    ['Ein Mann, der höher ist als der Frau', 'Ein ...   \n973                                      ['Xoder', 'Y']   \n976   ['Wo das Licht ist, ist auch die Dunkelheit', ...   \n98    [\"Die 'äquativ' ist gleich 22\", 'Das Bild ist ...   \n99    ['Das Gemüse ist ungleichwertig', 'Die Mensche...   \n\n                                               examples  \n10    ['Oder man geht ins Studio , wo man Songs aufn...  \n100   ['Sicherheitsgefühl und objektive Sicherheit s...  \n1004  ['Gut , besser , \" \" Les Bleus \" \" :', '23. Ju...  \n1006  ['ZEIT : Die Aufnahmen zu Bowies letzten Platt...  \n101   ['Ein Spiel , von dem sich viele unserer Leser...  \n...                                                 ...  \n97    ['Nämlich cooler als cool , bitteschön .', 'We...  \n973   ['Weinen wie die Holländer , oder : Wenn Angel...  \n976   ['Wo Energie ist , ist Wohlstand .', 'Wo viel ...  \n98    ['Baum : Ich mache das natürlich nicht mehr so...  \n99    ['Lied zu singen ist fast schwerer als Oper , ...  \n\n[211 rows x 3 columns]",
      "text/html": "<div>\n<style scoped>\n    .dataframe tbody tr th:only-of-type {\n        vertical-align: middle;\n    }\n\n    .dataframe tbody tr th {\n        vertical-align: top;\n    }\n\n    .dataframe thead th {\n        text-align: right;\n    }\n</style>\n<table border=\"1\" class=\"dataframe\">\n  <thead>\n    <tr style=\"text-align: right;\">\n      <th></th>\n      <th>definition</th>\n      <th>evaluated_generated</th>\n      <th>examples</th>\n    </tr>\n  </thead>\n  <tbody>\n    <tr>\n      <th>10</th>\n      <td>Die \"Negation:NEG_XgeschweigedennY-Konstruktio...</td>\n      <td>['Die meisten von ihnen haben zuvor noch nie e...</td>\n      <td>['Oder man geht ins Studio , wo man Songs aufn...</td>\n    </tr>\n    <tr>\n      <th>100</th>\n      <td>Die \"Äquativ_Plural-Konstruktion\" gehört zu de...</td>\n      <td>['Die beiden Pferde sind gleicher Größe.', 'Di...</td>\n      <td>['Sicherheitsgefühl und objektive Sicherheit s...</td>\n    </tr>\n    <tr>\n      <th>1004</th>\n      <td>Die \"Superlativ_Klimax:ADJ1_ADJ1-er_NP-Konstru...</td>\n      <td>['Michael is the tallest', 'John has the short...</td>\n      <td>['Gut , besser , \" \" Les Bleus \" \" :', '23. Ju...</td>\n    </tr>\n    <tr>\n      <th>1006</th>\n      <td>Die \"Superlativ:PRÄP_ADJ-ster_NP-Konstruktion\"...</td>\n      <td>['The athlete is the fastest runner on the tea...</td>\n      <td>['ZEIT : Die Aufnahmen zu Bowies letzten Platt...</td>\n    </tr>\n    <tr>\n      <th>101</th>\n      <td>Die \"Äquativ:ADJwieNP-Konstruktion\" gehört zu ...</td>\n      <td>['Das Auto fährt wie eine Lokomotive', 'Das Ha...</td>\n      <td>['Ein Spiel , von dem sich viele unserer Leser...</td>\n    </tr>\n    <tr>\n      <th>...</th>\n      <td>...</td>\n      <td>...</td>\n      <td>...</td>\n    </tr>\n    <tr>\n      <th>97</th>\n      <td>Die \"Komparativ:ADJ1-eralsADJ1-Konstruktion\" g...</td>\n      <td>['Ein Mann, der höher ist als der Frau', 'Ein ...</td>\n      <td>['Nämlich cooler als cool , bitteschön .', 'We...</td>\n    </tr>\n    <tr>\n      <th>973</th>\n      <td>Bei \"Disjunktion_Doppeltitel:XoderY\" handelt e...</td>\n      <td>['Xoder', 'Y']</td>\n      <td>['Weinen wie die Holländer , oder : Wenn Angel...</td>\n    </tr>\n    <tr>\n      <th>976</th>\n      <td>Bei \"Korrelation_Affirmation:WoXist, istY\" han...</td>\n      <td>['Wo das Licht ist, ist auch die Dunkelheit', ...</td>\n      <td>['Wo Energie ist , ist Wohlstand .', 'Wo viel ...</td>\n    </tr>\n    <tr>\n      <th>98</th>\n      <td>Die \"Äquativ:soADJwieXP-Konstruktion\" gehört z...</td>\n      <td>[\"Die 'äquativ' ist gleich 22\", 'Das Bild ist ...</td>\n      <td>['Baum : Ich mache das natürlich nicht mehr so...</td>\n    </tr>\n    <tr>\n      <th>99</th>\n      <td>Die \"Komparativ:ADJ-eralsX-Konstruktion\" gehör...</td>\n      <td>['Das Gemüse ist ungleichwertig', 'Die Mensche...</td>\n      <td>['Lied zu singen ist fast schwerer als Oper , ...</td>\n    </tr>\n  </tbody>\n</table>\n<p>211 rows × 3 columns</p>\n</div>"
     },
     "execution_count": 26,
     "metadata": {},
     "output_type": "execute_result"
    }
   ],
   "source": [
    "llama_subset = pd.concat((llama_data[0][[\"definition\", \"evaluated_generated\"]], llama_data[4][\"examples\"]), axis=1)\n",
    "llama_subset"
   ],
   "metadata": {
    "collapsed": false,
    "ExecuteTime": {
     "end_time": "2024-01-29T01:42:48.302039600Z",
     "start_time": "2024-01-29T01:42:48.287582600Z"
    }
   },
   "id": "561e66da9ccfe634",
   "execution_count": 26
  },
  {
   "cell_type": "code",
   "outputs": [
    {
     "data": {
      "text/plain": "      construction                              evaluated_generated_x  \\\n0                5  [\"\"Nicht herauskaufen\"\", \"\"nicht erpressen las...   \n1                5  [\"\"Nicht herauskaufen\"\", \"\"nicht erpressen las...   \n2                5  [\"\"Nicht herauskaufen\"\", \"\"nicht erpressen las...   \n3                5  [\"\"Nicht herauskaufen\"\", \"\"nicht erpressen las...   \n4                5  [\"\"Nicht herauskaufen\"\", \"\"nicht erpressen las...   \n...            ...                                                ...   \n5191          1884  [Schweigen ist1884 (Englisch), Schweigen ist18...   \n5192          1884  [Schweigen ist1884 (Englisch), Schweigen ist18...   \n5193          1884  [Schweigen ist1884 (Englisch), Schweigen ist18...   \n5194          1986  [Die Vorhut vor 20.000 Jahren   , Vorhut vor 2...   \n5195          1987  [Solche Menschen können   , Solche Menschen kö...   \n\n                                  evaluated_generated_y  \n0     [\"\"Nicht herauskaufen\"\", \"\"nicht erpressen las...  \n1     [Trainer Lucien Favre hatte schon seine beiden...  \n2     [Es hat Afghanistan nicht stabilisiert und wir...  \n3     [Es hat sich nicht gelohnt., Es hat Afghanista...  \n4     [Trainer Lucien Favre hatte schon seine beiden...  \n...                                                 ...  \n5191  [Schweigen ist Silber, reden ist Gold - Seite ...  \n5192  [Schweigen ist Silber und Gold, Schweigen ist ...  \n5193  [Schweigen ist besser als nichts, Schweigen is...  \n5194  [Die Vorhut vor 20.000 Jahren war nicht mehr d...  \n5195  [Solche Menschen können sich nicht wehren!, So...  \n\n[5196 rows x 3 columns]",
      "text/html": "<div>\n<style scoped>\n    .dataframe tbody tr th:only-of-type {\n        vertical-align: middle;\n    }\n\n    .dataframe tbody tr th {\n        vertical-align: top;\n    }\n\n    .dataframe thead th {\n        text-align: right;\n    }\n</style>\n<table border=\"1\" class=\"dataframe\">\n  <thead>\n    <tr style=\"text-align: right;\">\n      <th></th>\n      <th>construction</th>\n      <th>evaluated_generated_x</th>\n      <th>evaluated_generated_y</th>\n    </tr>\n  </thead>\n  <tbody>\n    <tr>\n      <th>0</th>\n      <td>5</td>\n      <td>[\"\"Nicht herauskaufen\"\", \"\"nicht erpressen las...</td>\n      <td>[\"\"Nicht herauskaufen\"\", \"\"nicht erpressen las...</td>\n    </tr>\n    <tr>\n      <th>1</th>\n      <td>5</td>\n      <td>[\"\"Nicht herauskaufen\"\", \"\"nicht erpressen las...</td>\n      <td>[Trainer Lucien Favre hatte schon seine beiden...</td>\n    </tr>\n    <tr>\n      <th>2</th>\n      <td>5</td>\n      <td>[\"\"Nicht herauskaufen\"\", \"\"nicht erpressen las...</td>\n      <td>[Es hat Afghanistan nicht stabilisiert und wir...</td>\n    </tr>\n    <tr>\n      <th>3</th>\n      <td>5</td>\n      <td>[\"\"Nicht herauskaufen\"\", \"\"nicht erpressen las...</td>\n      <td>[Es hat sich nicht gelohnt., Es hat Afghanista...</td>\n    </tr>\n    <tr>\n      <th>4</th>\n      <td>5</td>\n      <td>[\"\"Nicht herauskaufen\"\", \"\"nicht erpressen las...</td>\n      <td>[Trainer Lucien Favre hatte schon seine beiden...</td>\n    </tr>\n    <tr>\n      <th>...</th>\n      <td>...</td>\n      <td>...</td>\n      <td>...</td>\n    </tr>\n    <tr>\n      <th>5191</th>\n      <td>1884</td>\n      <td>[Schweigen ist1884 (Englisch), Schweigen ist18...</td>\n      <td>[Schweigen ist Silber, reden ist Gold - Seite ...</td>\n    </tr>\n    <tr>\n      <th>5192</th>\n      <td>1884</td>\n      <td>[Schweigen ist1884 (Englisch), Schweigen ist18...</td>\n      <td>[Schweigen ist Silber und Gold, Schweigen ist ...</td>\n    </tr>\n    <tr>\n      <th>5193</th>\n      <td>1884</td>\n      <td>[Schweigen ist1884 (Englisch), Schweigen ist18...</td>\n      <td>[Schweigen ist besser als nichts, Schweigen is...</td>\n    </tr>\n    <tr>\n      <th>5194</th>\n      <td>1986</td>\n      <td>[Die Vorhut vor 20.000 Jahren   , Vorhut vor 2...</td>\n      <td>[Die Vorhut vor 20.000 Jahren war nicht mehr d...</td>\n    </tr>\n    <tr>\n      <th>5195</th>\n      <td>1987</td>\n      <td>[Solche Menschen können   , Solche Menschen kö...</td>\n      <td>[Solche Menschen können sich nicht wehren!, So...</td>\n    </tr>\n  </tbody>\n</table>\n<p>5196 rows × 3 columns</p>\n</div>"
     },
     "execution_count": 30,
     "metadata": {},
     "output_type": "execute_result"
    }
   ],
   "source": [
    "mbart_merged = pd.merge(mbart_data[[\"construction\", \"evaluated_generated\"]], mbart_vanilla_data[[\"construction\", \"evaluated_generated\"]], on=\"construction\", how=\"inner\")\n",
    "mbart_merged"
   ],
   "metadata": {
    "collapsed": false,
    "ExecuteTime": {
     "end_time": "2024-01-29T01:44:15.631862100Z",
     "start_time": "2024-01-29T01:44:15.618349100Z"
    }
   },
   "id": "ff54479cbe09e69a",
   "execution_count": 30
  },
  {
   "cell_type": "code",
   "outputs": [
    {
     "data": {
      "text/plain": "                                            definition  \\\n49   Die \"Negation:NEG_XgeschweigedennY-Konstruktio...   \n50   Die \"Negation:NEG_XgeschweigedennY-Konstruktio...   \n51   Die \"Negation:NEG_XgeschweigedennY-Konstruktio...   \n52   Die \"Negation:NEG_XgeschweigedennY-Konstruktio...   \n53   Die \"Negation:NEG_XgeschweigedennY-Konstruktio...   \n..                                                 ...   \n161  Die \"Äquativ:soADJwieXP-Konstruktion\" gehört z...   \n162  Die \"Äquativ:soADJwieXP-Konstruktion\" gehört z...   \n163  Die \"Äquativ:soADJwieXP-Konstruktion\" gehört z...   \n164  Die \"Äquativ:soADJwieXP-Konstruktion\" gehört z...   \n165  Die \"Komparativ:ADJ-eralsX-Konstruktion\" gehör...   \n\n                                   evaluated_generated  \\\n49   ['Die meisten von ihnen haben zuvor noch nie e...   \n50   ['Die meisten von ihnen haben zuvor noch nie e...   \n51   ['Die meisten von ihnen haben zuvor noch nie e...   \n52   ['Die meisten von ihnen haben zuvor noch nie e...   \n53   ['Die meisten von ihnen haben zuvor noch nie e...   \n..                                                 ...   \n161  [\"Die 'äquativ' ist gleich 22\", 'Das Bild ist ...   \n162  [\"Die 'äquativ' ist gleich 22\", 'Das Bild ist ...   \n163  [\"Die 'äquativ' ist gleich 22\", 'Das Bild ist ...   \n164  [\"Die 'äquativ' ist gleich 22\", 'Das Bild ist ...   \n165  ['Das Gemüse ist ungleichwertig', 'Die Mensche...   \n\n                                              examples  construction  \\\n49   ['Oder man geht ins Studio , wo man Songs aufn...            10   \n50   ['Oder man geht ins Studio , wo man Songs aufn...            10   \n51   ['Oder man geht ins Studio , wo man Songs aufn...            10   \n52   ['Oder man geht ins Studio , wo man Songs aufn...            10   \n53   ['Oder man geht ins Studio , wo man Songs aufn...            10   \n..                                                 ...           ...   \n161  ['Baum : Ich mache das natürlich nicht mehr so...            98   \n162  ['Baum : Ich mache das natürlich nicht mehr so...            98   \n163  ['Baum : Ich mache das natürlich nicht mehr so...            98   \n164  ['Baum : Ich mache das natürlich nicht mehr so...            98   \n165  ['Lied zu singen ist fast schwerer als Oper , ...            99   \n\n                                 evaluated_generated_x  \\\n49   [Die Chance dazu haben sie, und sie haben sie ...   \n50   [Die Chance dazu haben sie, und sie haben sie ...   \n51   [Die Chance dazu haben sie, und sie haben sie ...   \n52   [Und dann ist da noch das generelle Problem mi...   \n53   [Und dann ist da noch das generelle Problem mi...   \n..                                                 ...   \n161  [Als Vorstandsvorsitzender verdient er grob 10...   \n162  [Als Vorstandsvorsitzender verdient er grob 10...   \n163  [Als Vorstandsvorsitzender verdient er grob 10...   \n164  [Als Vorstandsvorsitzender verdient er grob 10...   \n165                                                 []   \n\n                                 evaluated_generated_y  \n49   [Die Chance dazu haben sie, und sie haben sie ...  \n50   [Und dann ist da noch das generelle Problem mi...  \n51   [Und dann ist da noch das generelle Problem mi...  \n52   [Die Chance dazu haben sie, und sie haben sie ...  \n53   [Und dann ist da noch das generelle Problem mi...  \n..                                                 ...  \n161  [Nun bleibt die Frage : Wird der Bitcoin - Kur...  \n162  [Der Autorin genügen fein gesetzte Motive, um ...  \n163  [Doch Spirale II, das ebenfalls aus dem Jahr 1...  \n164  [Als Vorstandsvorsitzender verdient er grob 10...  \n165  [Eine low fee Schule ist nicht automatisch bes...  \n\n[5196 rows x 6 columns]",
      "text/html": "<div>\n<style scoped>\n    .dataframe tbody tr th:only-of-type {\n        vertical-align: middle;\n    }\n\n    .dataframe tbody tr th {\n        vertical-align: top;\n    }\n\n    .dataframe thead th {\n        text-align: right;\n    }\n</style>\n<table border=\"1\" class=\"dataframe\">\n  <thead>\n    <tr style=\"text-align: right;\">\n      <th></th>\n      <th>definition</th>\n      <th>evaluated_generated</th>\n      <th>examples</th>\n      <th>construction</th>\n      <th>evaluated_generated_x</th>\n      <th>evaluated_generated_y</th>\n    </tr>\n  </thead>\n  <tbody>\n    <tr>\n      <th>49</th>\n      <td>Die \"Negation:NEG_XgeschweigedennY-Konstruktio...</td>\n      <td>['Die meisten von ihnen haben zuvor noch nie e...</td>\n      <td>['Oder man geht ins Studio , wo man Songs aufn...</td>\n      <td>10</td>\n      <td>[Die Chance dazu haben sie, und sie haben sie ...</td>\n      <td>[Die Chance dazu haben sie, und sie haben sie ...</td>\n    </tr>\n    <tr>\n      <th>50</th>\n      <td>Die \"Negation:NEG_XgeschweigedennY-Konstruktio...</td>\n      <td>['Die meisten von ihnen haben zuvor noch nie e...</td>\n      <td>['Oder man geht ins Studio , wo man Songs aufn...</td>\n      <td>10</td>\n      <td>[Die Chance dazu haben sie, und sie haben sie ...</td>\n      <td>[Und dann ist da noch das generelle Problem mi...</td>\n    </tr>\n    <tr>\n      <th>51</th>\n      <td>Die \"Negation:NEG_XgeschweigedennY-Konstruktio...</td>\n      <td>['Die meisten von ihnen haben zuvor noch nie e...</td>\n      <td>['Oder man geht ins Studio , wo man Songs aufn...</td>\n      <td>10</td>\n      <td>[Die Chance dazu haben sie, und sie haben sie ...</td>\n      <td>[Und dann ist da noch das generelle Problem mi...</td>\n    </tr>\n    <tr>\n      <th>52</th>\n      <td>Die \"Negation:NEG_XgeschweigedennY-Konstruktio...</td>\n      <td>['Die meisten von ihnen haben zuvor noch nie e...</td>\n      <td>['Oder man geht ins Studio , wo man Songs aufn...</td>\n      <td>10</td>\n      <td>[Und dann ist da noch das generelle Problem mi...</td>\n      <td>[Die Chance dazu haben sie, und sie haben sie ...</td>\n    </tr>\n    <tr>\n      <th>53</th>\n      <td>Die \"Negation:NEG_XgeschweigedennY-Konstruktio...</td>\n      <td>['Die meisten von ihnen haben zuvor noch nie e...</td>\n      <td>['Oder man geht ins Studio , wo man Songs aufn...</td>\n      <td>10</td>\n      <td>[Und dann ist da noch das generelle Problem mi...</td>\n      <td>[Und dann ist da noch das generelle Problem mi...</td>\n    </tr>\n    <tr>\n      <th>...</th>\n      <td>...</td>\n      <td>...</td>\n      <td>...</td>\n      <td>...</td>\n      <td>...</td>\n      <td>...</td>\n    </tr>\n    <tr>\n      <th>161</th>\n      <td>Die \"Äquativ:soADJwieXP-Konstruktion\" gehört z...</td>\n      <td>[\"Die 'äquativ' ist gleich 22\", 'Das Bild ist ...</td>\n      <td>['Baum : Ich mache das natürlich nicht mehr so...</td>\n      <td>98</td>\n      <td>[Als Vorstandsvorsitzender verdient er grob 10...</td>\n      <td>[Nun bleibt die Frage : Wird der Bitcoin - Kur...</td>\n    </tr>\n    <tr>\n      <th>162</th>\n      <td>Die \"Äquativ:soADJwieXP-Konstruktion\" gehört z...</td>\n      <td>[\"Die 'äquativ' ist gleich 22\", 'Das Bild ist ...</td>\n      <td>['Baum : Ich mache das natürlich nicht mehr so...</td>\n      <td>98</td>\n      <td>[Als Vorstandsvorsitzender verdient er grob 10...</td>\n      <td>[Der Autorin genügen fein gesetzte Motive, um ...</td>\n    </tr>\n    <tr>\n      <th>163</th>\n      <td>Die \"Äquativ:soADJwieXP-Konstruktion\" gehört z...</td>\n      <td>[\"Die 'äquativ' ist gleich 22\", 'Das Bild ist ...</td>\n      <td>['Baum : Ich mache das natürlich nicht mehr so...</td>\n      <td>98</td>\n      <td>[Als Vorstandsvorsitzender verdient er grob 10...</td>\n      <td>[Doch Spirale II, das ebenfalls aus dem Jahr 1...</td>\n    </tr>\n    <tr>\n      <th>164</th>\n      <td>Die \"Äquativ:soADJwieXP-Konstruktion\" gehört z...</td>\n      <td>[\"Die 'äquativ' ist gleich 22\", 'Das Bild ist ...</td>\n      <td>['Baum : Ich mache das natürlich nicht mehr so...</td>\n      <td>98</td>\n      <td>[Als Vorstandsvorsitzender verdient er grob 10...</td>\n      <td>[Als Vorstandsvorsitzender verdient er grob 10...</td>\n    </tr>\n    <tr>\n      <th>165</th>\n      <td>Die \"Komparativ:ADJ-eralsX-Konstruktion\" gehör...</td>\n      <td>['Das Gemüse ist ungleichwertig', 'Die Mensche...</td>\n      <td>['Lied zu singen ist fast schwerer als Oper , ...</td>\n      <td>99</td>\n      <td>[]</td>\n      <td>[Eine low fee Schule ist nicht automatisch bes...</td>\n    </tr>\n  </tbody>\n</table>\n<p>5196 rows × 6 columns</p>\n</div>"
     },
     "execution_count": 33,
     "metadata": {},
     "output_type": "execute_result"
    }
   ],
   "source": [
    "final_merged = pd.merge(llama_subset, mbart_merged, left_index=True, right_on=\"construction\")\n",
    "\n",
    "final_merged"
   ],
   "metadata": {
    "collapsed": false,
    "ExecuteTime": {
     "end_time": "2024-01-29T01:45:26.162894300Z",
     "start_time": "2024-01-29T01:45:26.142434500Z"
    }
   },
   "id": "ed3f21f350f3e02",
   "execution_count": 33
  }
 ],
 "metadata": {
  "kernelspec": {
   "display_name": "Python 3",
   "language": "python",
   "name": "python3"
  },
  "language_info": {
   "codemirror_mode": {
    "name": "ipython",
    "version": 2
   },
   "file_extension": ".py",
   "mimetype": "text/x-python",
   "name": "python",
   "nbconvert_exporter": "python",
   "pygments_lexer": "ipython2",
   "version": "2.7.6"
  }
 },
 "nbformat": 4,
 "nbformat_minor": 5
}
