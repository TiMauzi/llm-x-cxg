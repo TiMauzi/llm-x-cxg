{
 "cells": [
  {
   "cell_type": "code",
   "execution_count": null,
   "id": "initial_id",
   "metadata": {
    "collapsed": true
   },
   "outputs": [],
   "source": [
    "import itertools\n",
    "import pickle\n",
    "import random\n",
    "import re\n",
    "\n",
    "import numpy as np\n",
    "import pandas as pd\n",
    "import torch\n",
    "from transformers import BertForNextSentencePrediction, BertTokenizer\n",
    "\n",
    "from tqdm.notebook import tqdm\n",
    "tqdm.pandas()"
   ]
  },
  {
   "cell_type": "code",
   "outputs": [],
   "source": [
    "pseudowords = []\n",
    "for i in range(15):\n",
    "    pseudowords.append(np.load(f\"../../data/pseudowords/bert/pseudowords_comapp_bert_{i*37}_{i*37+37}.npy\"))\n",
    "pseudowords = np.concatenate(pseudowords)\n",
    "\n",
    "csv_data = []\n",
    "for i in range(1, 16):\n",
    "    csv_data.append(pd.read_csv(f\"../../data/pseudowords/bert/order_bert_{i}.csv\", sep=\";\", index_col=0, header=None, quotechar=\"|\", names=[\"order\", \"label\"]))\n",
    "csv_data = pd.concat(csv_data)\n",
    "\n",
    "bert_tokens = [d[0] for d in csv_data.values]\n",
    "bert_tokens"
   ],
   "metadata": {
    "collapsed": false
   },
   "id": "c395ff268451a4b2",
   "execution_count": null
  },
  {
   "cell_type": "code",
   "outputs": [],
   "source": [
    "model = BertForNextSentencePrediction.from_pretrained(\"bert-base-german-cased\", return_dict=True)\n",
    "tokenizer = BertTokenizer.from_pretrained('bert-base-german-cased')\n",
    "\n",
    "combined_embeddings = torch.cat((model.bert.embeddings.word_embeddings.weight, torch.tensor(pseudowords)), dim=0)\n",
    "model.bert.embeddings.word_embeddings = torch.nn.Embedding.from_pretrained(combined_embeddings)\n",
    "tokenizer.add_tokens(bert_tokens)\n",
    "model.resize_token_embeddings(len(tokenizer))"
   ],
   "metadata": {
    "collapsed": false
   },
   "id": "737979872a7f76f1",
   "execution_count": null
  },
  {
   "cell_type": "code",
   "outputs": [],
   "source": [
    "with open(\"../../out/definitions.pickle\", \"rb\") as file:\n",
    "    definitions = pickle.load(file)\n",
    "with open(\"../../out/sentences.pickle\", \"rb\") as file:\n",
    "    sentences = pickle.load(file)"
   ],
   "metadata": {
    "collapsed": false
   },
   "id": "eb7917f993cd42d8",
   "execution_count": null
  },
  {
   "cell_type": "code",
   "outputs": [],
   "source": [
    "def find_examples(definition, examples):\n",
    "    predictions = {}\n",
    "    for num, example in enumerate(examples):\n",
    "        len_prompt = len(definition) + len(\" Zum Beispiel: \") + len(example)\n",
    "        if len_prompt > 512:\n",
    "            prompt = definition[:512-len_prompt+len(definition)-1] + \"… Zum Beispiel: \"\n",
    "            if len(prompt) > 512:\n",
    "                prompt = prompt[:511] + \"…\"\n",
    "        else:\n",
    "            prompt = definition + \" Zum Beispiel: \"  # TODO Deutsch\n",
    "        \n",
    "        inputs = tokenizer(prompt, example, return_tensors=\"pt\")\n",
    "        with torch.no_grad():\n",
    "            outputs = model(**inputs)\n",
    "        logits = outputs.logits\n",
    "        predictions[num] = logits[0, 0]  # probability that the next sentence makes sense\n",
    "    res = max(predictions, key=predictions.get)\n",
    "    return examples[res]"
   ],
   "metadata": {
    "collapsed": false
   },
   "id": "693ad2b73bd9bcb",
   "execution_count": null
  },
  {
   "cell_type": "code",
   "outputs": [],
   "source": [
    "random.seed(15)\n",
    "attempts = 10\n",
    "for false_positives in range(2, 8):\n",
    "    result = []\n",
    "    for key, definition in tqdm(definitions.items()):\n",
    "        for attempt in range(attempts):\n",
    "            try:\n",
    "                sentence = random.choice(list(sentences[int(key)]))\n",
    "            except KeyError:\n",
    "                #print(None, None, None)\n",
    "                result.append(pd.Series({\"constr\": key, \"definition\": definition, \"example\": None, \"prediction\": None, \"correct\": None}))\n",
    "                continue\n",
    "            others = itertools.chain.from_iterable([sentence_list for constr, sentence_list in sentences.items() if int(constr) != int(key)])\n",
    "            others = random.choices(list(others), k=false_positives)\n",
    "            examples = list(set(others) | {sentence})\n",
    "            prediction = find_examples(definition, examples)\n",
    "            #print(prediction == sentence, sentence, prediction)\n",
    "            result.append(pd.Series({\"constr\": key, \"definition\": definition, \"example\": sentence, \"prediction\": prediction, \"correct\": prediction == sentence}))\n",
    "    result = pd.DataFrame(result)\n",
    "    result.to_csv(f\"../../out/comapp/result_1_vs_{false_positives}_{attempts}attempts_bert.tsv\", sep=\"\\t\")"
   ],
   "metadata": {
    "collapsed": false
   },
   "id": "ecad5aeec67bfd80",
   "execution_count": null
  },
  {
   "cell_type": "code",
   "outputs": [],
   "source": [
    "kelex = csv_data.copy()\n",
    "kelex['constr'] = csv_data['label'].str.extract('(\\d+)').astype(int)\n",
    "#kelex.set_index('constr', inplace=True)\n",
    "kelex = kelex.groupby('constr')['label'].apply(set).to_dict()\n",
    "kelex"
   ],
   "metadata": {
    "collapsed": false
   },
   "id": "cd5df0ed9a88a378",
   "execution_count": null
  },
  {
   "cell_type": "code",
   "outputs": [
    {
     "data": {
      "text/plain": "  0%|          | 0/211 [00:00<?, ?it/s]",
      "application/vnd.jupyter.widget-view+json": {
       "version_major": 2,
       "version_minor": 0,
       "model_id": "32ba8ff925da4a029f90cbfd6404a575"
      }
     },
     "metadata": {},
     "output_type": "display_data"
    },
    {
     "data": {
      "text/plain": "  0%|          | 0/211 [00:00<?, ?it/s]",
      "application/vnd.jupyter.widget-view+json": {
       "version_major": 2,
       "version_minor": 0,
       "model_id": "5c84887c42664731a2b59a738e8259cc"
      }
     },
     "metadata": {},
     "output_type": "display_data"
    },
    {
     "data": {
      "text/plain": "  0%|          | 0/211 [00:00<?, ?it/s]",
      "application/vnd.jupyter.widget-view+json": {
       "version_major": 2,
       "version_minor": 0,
       "model_id": "1ca38fc827b846fd9451a862212128e8"
      }
     },
     "metadata": {},
     "output_type": "display_data"
    },
    {
     "data": {
      "text/plain": "  0%|          | 0/211 [00:00<?, ?it/s]",
      "application/vnd.jupyter.widget-view+json": {
       "version_major": 2,
       "version_minor": 0,
       "model_id": "a15f7b5181e64bfd8c8fcde316ee6473"
      }
     },
     "metadata": {},
     "output_type": "display_data"
    },
    {
     "data": {
      "text/plain": "  0%|          | 0/211 [00:00<?, ?it/s]",
      "application/vnd.jupyter.widget-view+json": {
       "version_major": 2,
       "version_minor": 0,
       "model_id": "484de2b4c0ab467fa57afa6b283e9974"
      }
     },
     "metadata": {},
     "output_type": "display_data"
    },
    {
     "data": {
      "text/plain": "  0%|          | 0/211 [00:00<?, ?it/s]",
      "application/vnd.jupyter.widget-view+json": {
       "version_major": 2,
       "version_minor": 0,
       "model_id": "c921d29bf2084734b150e47ebb84b53f"
      }
     },
     "metadata": {},
     "output_type": "display_data"
    }
   ],
   "source": [
    "random.seed(15)\n",
    "attempts = 10\n",
    "for false_positives in range(2, 8):\n",
    "    result = []\n",
    "    for key, definition in tqdm(definitions.items()):\n",
    "        for attempt in range(attempts):\n",
    "            try:\n",
    "                sentence = random.choice(list(sentences[int(key)]))\n",
    "            except KeyError:\n",
    "                # print(None, None, None)\n",
    "                result.append(pd.Series({\"constr\": key, \"definition\": definition, \"example\": None, \"prediction\": None, \"correct\": None}))\n",
    "                continue\n",
    "            sentence_kelex = []\n",
    "            if kelex.get(key):\n",
    "                for token in sentence.split():\n",
    "                    new_token = token\n",
    "                    # assert kelex.get(key) is not None\n",
    "                    for pseudoword in kelex[key]:\n",
    "                        if token == re.findall(r'\\D+', pseudoword)[0]:\n",
    "                            new_token = pseudoword\n",
    "                            break\n",
    "                    sentence_kelex.append(new_token)\n",
    "                sentence_kelex = \" \".join(sentence_kelex)\n",
    "            else:\n",
    "                continue  # skip constructions without kelex\n",
    "                # sentence_kelex = sentence\n",
    "            others = itertools.chain.from_iterable([sentence_list for constr, sentence_list in sentences.items() if int(constr) != int(key)])\n",
    "            others = random.choices(list(others), k=false_positives)\n",
    "            examples = list(set(others) | {sentence_kelex})\n",
    "            prediction = find_examples(definition, examples)\n",
    "            # print(prediction == sentence_kelex, sentence, prediction)\n",
    "            result.append(pd.Series({\"constr\": key, \"definition\": definition, \"example\": sentence, \"example_kelex\": sentence_kelex, \"prediction\": prediction, \"correct\": prediction == sentence_kelex}))\n",
    "    result = pd.DataFrame(result)\n",
    "    result.to_csv(f\"../../out/comapp/result_1_vs_{false_positives}_kelex_{attempts}attempts_bert.tsv\", sep=\"\\t\")"
   ],
   "metadata": {
    "collapsed": false,
    "ExecuteTime": {
     "end_time": "2024-01-05T03:05:34.467899800Z",
     "start_time": "2024-01-05T00:07:24.242976900Z"
    }
   },
   "id": "cfdb3dc48dea6759",
   "execution_count": 32
  },
  {
   "cell_type": "code",
   "outputs": [
    {
     "data": {
      "text/plain": "  0%|          | 0/211 [00:00<?, ?it/s]",
      "application/vnd.jupyter.widget-view+json": {
       "version_major": 2,
       "version_minor": 0,
       "model_id": "9cf2772b4046473eb27ff89055199076"
      }
     },
     "metadata": {},
     "output_type": "display_data"
    },
    {
     "data": {
      "text/plain": "  0%|          | 0/211 [00:00<?, ?it/s]",
      "application/vnd.jupyter.widget-view+json": {
       "version_major": 2,
       "version_minor": 0,
       "model_id": "a32ce5803cf3410589f17e5620c5b88b"
      }
     },
     "metadata": {},
     "output_type": "display_data"
    },
    {
     "data": {
      "text/plain": "  0%|          | 0/211 [00:00<?, ?it/s]",
      "application/vnd.jupyter.widget-view+json": {
       "version_major": 2,
       "version_minor": 0,
       "model_id": "ff2ba47a15bb4ad58fadba929320dfea"
      }
     },
     "metadata": {},
     "output_type": "display_data"
    },
    {
     "data": {
      "text/plain": "  0%|          | 0/211 [00:00<?, ?it/s]",
      "application/vnd.jupyter.widget-view+json": {
       "version_major": 2,
       "version_minor": 0,
       "model_id": "54c27870b1af48829e9d6e4d5d8f2237"
      }
     },
     "metadata": {},
     "output_type": "display_data"
    },
    {
     "data": {
      "text/plain": "  0%|          | 0/211 [00:00<?, ?it/s]",
      "application/vnd.jupyter.widget-view+json": {
       "version_major": 2,
       "version_minor": 0,
       "model_id": "a20b603afeeb4170b3ad72a565126e50"
      }
     },
     "metadata": {},
     "output_type": "display_data"
    },
    {
     "data": {
      "text/plain": "  0%|          | 0/211 [00:00<?, ?it/s]",
      "application/vnd.jupyter.widget-view+json": {
       "version_major": 2,
       "version_minor": 0,
       "model_id": "0baa85858cde4671b35787ef5faf42e0"
      }
     },
     "metadata": {},
     "output_type": "display_data"
    }
   ],
   "source": [
    "random.seed(15)\n",
    "attempts = 10\n",
    "for false_positives in range(2, 8):\n",
    "    result = []\n",
    "    for key, definition in tqdm(definitions.items()):\n",
    "        for attempt in range(attempts):\n",
    "            try:\n",
    "                sentence = random.choice(list(sentences[int(key)]))\n",
    "            except KeyError:\n",
    "                # print(None, None, None)\n",
    "                result.append(pd.Series({\"constr\": key, \"definition\": definition, \"example\": None, \"prediction\": None, \"correct\": None}))\n",
    "                continue\n",
    "            sentence_kelex = []\n",
    "            if kelex.get(key):\n",
    "                for token in sentence.split():\n",
    "                    new_token = token\n",
    "                    # assert kelex.get(key) is not None\n",
    "                    for pseudoword in kelex[key]:\n",
    "                        if token == re.findall(r'\\D+', pseudoword)[0]:\n",
    "                            new_token = pseudoword\n",
    "                            break\n",
    "                    sentence_kelex.append(new_token)\n",
    "                sentence_kelex = \" \".join(sentence_kelex)\n",
    "            else:\n",
    "                # continue  # skip constructions without kelex\n",
    "                sentence_kelex = sentence\n",
    "            others = itertools.chain.from_iterable([sentence_list for constr, sentence_list in sentences.items() if int(constr) != int(key)])\n",
    "            others = random.choices(list(others), k=false_positives)\n",
    "            examples = list(set(others) | {sentence_kelex})\n",
    "            prediction = find_examples(definition, examples)\n",
    "            # print(prediction == sentence_kelex, sentence, prediction)\n",
    "            result.append(pd.Series({\"constr\": key, \"definition\": definition, \"example\": sentence, \"example_kelex\": sentence_kelex, \"prediction\": prediction, \"correct\": prediction == sentence_kelex}))\n",
    "    result = pd.DataFrame(result)\n",
    "    result.to_csv(f\"../../out/comapp/result_1_vs_{false_positives}_kelex_all_{attempts}attempts_bert.tsv\", sep=\"\\t\")"
   ],
   "metadata": {
    "collapsed": false,
    "ExecuteTime": {
     "end_time": "2024-01-05T15:10:54.893966200Z",
     "start_time": "2024-01-05T10:15:14.564507300Z"
    }
   },
   "id": "b6a6959b0d4948b3",
   "execution_count": 40
  },
  {
   "cell_type": "code",
   "outputs": [],
   "source": [],
   "metadata": {
    "collapsed": false
   },
   "id": "e1ae91af86700012"
  }
 ],
 "metadata": {
  "kernelspec": {
   "display_name": "Python 3",
   "language": "python",
   "name": "python3"
  },
  "language_info": {
   "codemirror_mode": {
    "name": "ipython",
    "version": 2
   },
   "file_extension": ".py",
   "mimetype": "text/x-python",
   "name": "python",
   "nbconvert_exporter": "python",
   "pygments_lexer": "ipython2",
   "version": "2.7.6"
  }
 },
 "nbformat": 4,
 "nbformat_minor": 5
}
