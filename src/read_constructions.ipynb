{
 "cells": [
  {
   "cell_type": "code",
   "execution_count": 1,
   "id": "initial_id",
   "metadata": {
    "collapsed": true,
    "ExecuteTime": {
     "end_time": "2023-10-24T14:58:03.251651100Z",
     "start_time": "2023-10-24T14:57:58.335153900Z"
    }
   },
   "outputs": [
    {
     "name": "stderr",
     "output_type": "stream",
     "text": [
      "[nltk_data] Downloading package punkt to\n",
      "[nltk_data]     C:\\Users\\Tim\\AppData\\Roaming\\nltk_data...\n",
      "[nltk_data]   Package punkt is already up-to-date!\n"
     ]
    },
    {
     "data": {
      "text/plain": "True"
     },
     "execution_count": 1,
     "metadata": {},
     "output_type": "execute_result"
    }
   ],
   "source": [
    "import json\n",
    "import os\n",
    "import re\n",
    "\n",
    "import numpy as np\n",
    "import pandas as pd\n",
    "import xml.etree.ElementTree as ET\n",
    "from nltk import download\n",
    "from nltk.tokenize import word_tokenize\n",
    "import torch\n",
    "from tqdm.auto import tqdm\n",
    "from transformers import MBart50Tokenizer, MBartForConditionalGeneration\n",
    "\n",
    "download('punkt')"
   ]
  },
  {
   "cell_type": "markdown",
   "source": [
    "### Konstruktikon:"
   ],
   "metadata": {
    "collapsed": false
   },
   "id": "d6b8ae702f33cd2f"
  },
  {
   "cell_type": "code",
   "execution_count": 2,
   "outputs": [
    {
     "data": {
      "text/plain": "                                                                                       text  \\\nuid                                                                                           \n57B9D1BEB68F44E7A51D1920F1EA6951E39469B5  Und dann ist da noch das generelle Problem mit...   \nD86B38CFA5D2458D9F3615EDD55C9308DF423DB0  »Ohne Europa sind viele Fragen nicht mehr seri...   \n7B3FAB8B01ED862D3D3FA18531B0904BCF24DFF0  Dies lässt sich damit begründen , dass vor und...   \nB003E526D0AA301DA46458D32A82CEEFD7ADADA5  Dennoch hat Hamas es nicht geschafft , ihre mi...   \nC3FFF1CA55CA8FF0A806C33E14A0FB331582698E  Abermillionen rings um die Welt , die das Spek...   \n...                                                                                     ...   \nB5CB5D20EFEDAF65D460621CD3D554622B9EE1E9  \" \" Aber da wird geredet und geredet und , sob...   \n32E879397C3BA674F547058D7CB2B781C55FE1AC  Das erfüllt einen mit Stolz \" \" , sagte Neid u...   \nF0F280AA87B32AF6C4122E5B9C7906A31E88E555  Hier wird getankt , und erst in der Morgenfrüh...   \n549AF1E5C1904364885CE7F8DE324A9E6323629F                                Jetzt wird gewartet   \n877AE69E0356C28DF846CEB9F5C68232C26D99DE  Immerhin wird geskypt , auch das ein schönes D...   \n\n                                                                                contextleft  \\\nuid                                                                                           \n57B9D1BEB68F44E7A51D1920F1EA6951E39469B5  \"\"Wir haben die Gaza-Offensive nicht begonnen,...   \nD86B38CFA5D2458D9F3615EDD55C9308DF423DB0  Die Zeit nationaler Alleingänge sei längst vor...   \n7B3FAB8B01ED862D3D3FA18531B0904BCF24DFF0  Wenn Alexander das Heer nicht geführt hätte, d...   \nB003E526D0AA301DA46458D32A82CEEFD7ADADA5  DerCouncil of Foreign Relations schätzt das jä...   \nC3FFF1CA55CA8FF0A806C33E14A0FB331582698E  Nichts hätte die Mär vom Niedergang der Superm...   \n...                                                                                     ...   \nB5CB5D20EFEDAF65D460621CD3D554622B9EE1E9    Zuerst hat er Flirtportale im Netz ausprobiert.   \n32E879397C3BA674F547058D7CB2B781C55FE1AC  Das ist ja das Besondere, wenn man so ein Turn...   \nF0F280AA87B32AF6C4122E5B9C7906A31E88E555  Schließlich schafft es der Wagen wieder auf di...   \n549AF1E5C1904364885CE7F8DE324A9E6323629F  Auch dass man bereits Kompromissmöglichkeiten ...   \n877AE69E0356C28DF846CEB9F5C68232C26D99DE  Das kannst du doch nicht machen, Frau Kommissa...   \n\n                                                                               contextright  \\\nuid                                                                                           \n57B9D1BEB68F44E7A51D1920F1EA6951E39469B5  Der ehemalige Ministerpräsident Hanija gehört ...   \nD86B38CFA5D2458D9F3615EDD55C9308DF423DB0  Die Frage ist: Kann es Europa gelingen, sich i...   \n7B3FAB8B01ED862D3D3FA18531B0904BCF24DFF0  Ganz anders ist die Beweislage für den ersten ...   \nB003E526D0AA301DA46458D32A82CEEFD7ADADA5  Es ist in erster Linie die politische Führung,...   \nC3FFF1CA55CA8FF0A806C33E14A0FB331582698E  Doch wie schon die Wahl Obamas global war, ist...   \n...                                                                                     ...   \nB5CB5D20EFEDAF65D460621CD3D554622B9EE1E9  Also geht er, der Computerfreak, lieber den al...   \n32E879397C3BA674F547058D7CB2B781C55FE1AC  Das taten die Spielerinnen schon im legendären...   \nF0F280AA87B32AF6C4122E5B9C7906A31E88E555  Von dort geht es gleich ins Berchtesgadener La...   \n549AF1E5C1904364885CE7F8DE324A9E6323629F  Doch was genau gesprochen wurde, blieb auch am...   \n877AE69E0356C28DF846CEB9F5C68232C26D99DE  Der Fall entwickelt sich als Reise in die Verg...   \n\n                                          construction_id     category  \\\nuid                                                                      \n57B9D1BEB68F44E7A51D1920F1EA6951E39469B5               10     Negation   \nD86B38CFA5D2458D9F3615EDD55C9308DF423DB0               10     Negation   \n7B3FAB8B01ED862D3D3FA18531B0904BCF24DFF0               10     Negation   \nB003E526D0AA301DA46458D32A82CEEFD7ADADA5               10     Negation   \nC3FFF1CA55CA8FF0A806C33E14A0FB331582698E               10     Negation   \n...                                                   ...          ...   \nB5CB5D20EFEDAF65D460621CD3D554622B9EE1E9              993  Eigenschaft   \n32E879397C3BA674F547058D7CB2B781C55FE1AC              993  Eigenschaft   \nF0F280AA87B32AF6C4122E5B9C7906A31E88E555              993  Eigenschaft   \n549AF1E5C1904364885CE7F8DE324A9E6323629F              993  Eigenschaft   \n877AE69E0356C28DF846CEB9F5C68232C26D99DE              993  Eigenschaft   \n\n                                                             name  \nuid                                                                \n57B9D1BEB68F44E7A51D1920F1EA6951E39469B5  NEG_X_geschweige_denn_Y  \nD86B38CFA5D2458D9F3615EDD55C9308DF423DB0  NEG_X_geschweige_denn_Y  \n7B3FAB8B01ED862D3D3FA18531B0904BCF24DFF0  NEG_X_geschweige_denn_Y  \nB003E526D0AA301DA46458D32A82CEEFD7ADADA5  NEG_X_geschweige_denn_Y  \nC3FFF1CA55CA8FF0A806C33E14A0FB331582698E  NEG_X_geschweige_denn_Y  \n...                                                           ...  \nB5CB5D20EFEDAF65D460621CD3D554622B9EE1E9       Intransitiv_passiv  \n32E879397C3BA674F547058D7CB2B781C55FE1AC       Intransitiv_passiv  \nF0F280AA87B32AF6C4122E5B9C7906A31E88E555       Intransitiv_passiv  \n549AF1E5C1904364885CE7F8DE324A9E6323629F       Intransitiv_passiv  \n877AE69E0356C28DF846CEB9F5C68232C26D99DE       Intransitiv_passiv  \n\n[10268 rows x 6 columns]",
      "text/html": "<div>\n<style scoped>\n    .dataframe tbody tr th:only-of-type {\n        vertical-align: middle;\n    }\n\n    .dataframe tbody tr th {\n        vertical-align: top;\n    }\n\n    .dataframe thead th {\n        text-align: right;\n    }\n</style>\n<table border=\"1\" class=\"dataframe\">\n  <thead>\n    <tr style=\"text-align: right;\">\n      <th></th>\n      <th>text</th>\n      <th>contextleft</th>\n      <th>contextright</th>\n      <th>construction_id</th>\n      <th>category</th>\n      <th>name</th>\n    </tr>\n    <tr>\n      <th>uid</th>\n      <th></th>\n      <th></th>\n      <th></th>\n      <th></th>\n      <th></th>\n      <th></th>\n    </tr>\n  </thead>\n  <tbody>\n    <tr>\n      <th>57B9D1BEB68F44E7A51D1920F1EA6951E39469B5</th>\n      <td>Und dann ist da noch das generelle Problem mit...</td>\n      <td>\"\"Wir haben die Gaza-Offensive nicht begonnen,...</td>\n      <td>Der ehemalige Ministerpräsident Hanija gehört ...</td>\n      <td>10</td>\n      <td>Negation</td>\n      <td>NEG_X_geschweige_denn_Y</td>\n    </tr>\n    <tr>\n      <th>D86B38CFA5D2458D9F3615EDD55C9308DF423DB0</th>\n      <td>»Ohne Europa sind viele Fragen nicht mehr seri...</td>\n      <td>Die Zeit nationaler Alleingänge sei längst vor...</td>\n      <td>Die Frage ist: Kann es Europa gelingen, sich i...</td>\n      <td>10</td>\n      <td>Negation</td>\n      <td>NEG_X_geschweige_denn_Y</td>\n    </tr>\n    <tr>\n      <th>7B3FAB8B01ED862D3D3FA18531B0904BCF24DFF0</th>\n      <td>Dies lässt sich damit begründen , dass vor und...</td>\n      <td>Wenn Alexander das Heer nicht geführt hätte, d...</td>\n      <td>Ganz anders ist die Beweislage für den ersten ...</td>\n      <td>10</td>\n      <td>Negation</td>\n      <td>NEG_X_geschweige_denn_Y</td>\n    </tr>\n    <tr>\n      <th>B003E526D0AA301DA46458D32A82CEEFD7ADADA5</th>\n      <td>Dennoch hat Hamas es nicht geschafft , ihre mi...</td>\n      <td>DerCouncil of Foreign Relations schätzt das jä...</td>\n      <td>Es ist in erster Linie die politische Führung,...</td>\n      <td>10</td>\n      <td>Negation</td>\n      <td>NEG_X_geschweige_denn_Y</td>\n    </tr>\n    <tr>\n      <th>C3FFF1CA55CA8FF0A806C33E14A0FB331582698E</th>\n      <td>Abermillionen rings um die Welt , die das Spek...</td>\n      <td>Nichts hätte die Mär vom Niedergang der Superm...</td>\n      <td>Doch wie schon die Wahl Obamas global war, ist...</td>\n      <td>10</td>\n      <td>Negation</td>\n      <td>NEG_X_geschweige_denn_Y</td>\n    </tr>\n    <tr>\n      <th>...</th>\n      <td>...</td>\n      <td>...</td>\n      <td>...</td>\n      <td>...</td>\n      <td>...</td>\n      <td>...</td>\n    </tr>\n    <tr>\n      <th>B5CB5D20EFEDAF65D460621CD3D554622B9EE1E9</th>\n      <td>\" \" Aber da wird geredet und geredet und , sob...</td>\n      <td>Zuerst hat er Flirtportale im Netz ausprobiert.</td>\n      <td>Also geht er, der Computerfreak, lieber den al...</td>\n      <td>993</td>\n      <td>Eigenschaft</td>\n      <td>Intransitiv_passiv</td>\n    </tr>\n    <tr>\n      <th>32E879397C3BA674F547058D7CB2B781C55FE1AC</th>\n      <td>Das erfüllt einen mit Stolz \" \" , sagte Neid u...</td>\n      <td>Das ist ja das Besondere, wenn man so ein Turn...</td>\n      <td>Das taten die Spielerinnen schon im legendären...</td>\n      <td>993</td>\n      <td>Eigenschaft</td>\n      <td>Intransitiv_passiv</td>\n    </tr>\n    <tr>\n      <th>F0F280AA87B32AF6C4122E5B9C7906A31E88E555</th>\n      <td>Hier wird getankt , und erst in der Morgenfrüh...</td>\n      <td>Schließlich schafft es der Wagen wieder auf di...</td>\n      <td>Von dort geht es gleich ins Berchtesgadener La...</td>\n      <td>993</td>\n      <td>Eigenschaft</td>\n      <td>Intransitiv_passiv</td>\n    </tr>\n    <tr>\n      <th>549AF1E5C1904364885CE7F8DE324A9E6323629F</th>\n      <td>Jetzt wird gewartet</td>\n      <td>Auch dass man bereits Kompromissmöglichkeiten ...</td>\n      <td>Doch was genau gesprochen wurde, blieb auch am...</td>\n      <td>993</td>\n      <td>Eigenschaft</td>\n      <td>Intransitiv_passiv</td>\n    </tr>\n    <tr>\n      <th>877AE69E0356C28DF846CEB9F5C68232C26D99DE</th>\n      <td>Immerhin wird geskypt , auch das ein schönes D...</td>\n      <td>Das kannst du doch nicht machen, Frau Kommissa...</td>\n      <td>Der Fall entwickelt sich als Reise in die Verg...</td>\n      <td>993</td>\n      <td>Eigenschaft</td>\n      <td>Intransitiv_passiv</td>\n    </tr>\n  </tbody>\n</table>\n<p>10268 rows × 6 columns</p>\n</div>"
     },
     "execution_count": 2,
     "metadata": {},
     "output_type": "execute_result"
    }
   ],
   "source": [
    "def parse_sentences(xml_file):\n",
    "    tree = ET.parse(xml_file)\n",
    "    root = tree.getroot()\n",
    "\n",
    "    construction_id = root.attrib.get('id')\n",
    "    try:\n",
    "        category, name = root.attrib.get('name').split(':')\n",
    "    except ValueError:\n",
    "        category = root.attrib.get('name')\n",
    "        name = None\n",
    "\n",
    "    sentences_data = []\n",
    "    \n",
    "    for sentence in root.findall('.//sentence'):\n",
    "        if sentence.attrib.get('uid') is None:\n",
    "            continue\n",
    "        uid = sentence.attrib.get('uid')\n",
    "        text = sentence.find('.//text').text.strip()\n",
    "        contextleft = sentence.find('.//contextleft').text.strip()\n",
    "        contextright = sentence.find('.//contextright').text.strip()\n",
    "        \n",
    "        sentences_data.append({\n",
    "            'uid': uid,\n",
    "            'text': text,\n",
    "            'contextleft': contextleft,\n",
    "            'contextright': contextright,\n",
    "            'construction_id': int(construction_id),\n",
    "            'category': category,\n",
    "            'name': name,\n",
    "        })\n",
    "\n",
    "    return sentences_data\n",
    "\n",
    "kee_list = []\n",
    "xml_directory = '../data/constructicon/construction'\n",
    "\n",
    "for filename in os.listdir(xml_directory):\n",
    "    if filename.endswith('.xml'):\n",
    "        xml_file = os.path.join(xml_directory, filename)\n",
    "        data = parse_sentences(xml_file)\n",
    "        if data:\n",
    "            kee_list += data\n",
    "\n",
    "sentences = pd.DataFrame.from_dict(kee_list)\n",
    "sentences.set_index('uid', inplace=True)\n",
    "sentences"
   ],
   "metadata": {
    "collapsed": false,
    "ExecuteTime": {
     "end_time": "2023-10-24T14:58:11.574472500Z",
     "start_time": "2023-10-24T14:58:03.256836500Z"
    }
   },
   "id": "a90cdfcb72562113"
  },
  {
   "cell_type": "code",
   "execution_count": 3,
   "outputs": [
    {
     "data": {
      "text/plain": "                             category                     name\nconstruction_id                                               \n10                           Negation  NEG_X_geschweige_denn_Y\n100                    Äquativ_Plural               gleich_ADJ\n1004                Superlativ_Klimax          ADJ1_ADJ1-er_NP\n1006                       Superlativ         PRÄP_ADJ-ster_NP\n101                           Äquativ               ADJ_wie_NP\n...                               ...                      ...\n98                            Äquativ            so_ADJ_wie_XP\n980                   Quantifizierung        CARD_KATEGORIE_NP\n985              Relation_zweistellig          Transitiv_aktiv\n99                         Komparativ             ADJ-er_als_X\n993                       Eigenschaft       Intransitiv_passiv\n\n[330 rows x 2 columns]",
      "text/html": "<div>\n<style scoped>\n    .dataframe tbody tr th:only-of-type {\n        vertical-align: middle;\n    }\n\n    .dataframe tbody tr th {\n        vertical-align: top;\n    }\n\n    .dataframe thead th {\n        text-align: right;\n    }\n</style>\n<table border=\"1\" class=\"dataframe\">\n  <thead>\n    <tr style=\"text-align: right;\">\n      <th></th>\n      <th>category</th>\n      <th>name</th>\n    </tr>\n    <tr>\n      <th>construction_id</th>\n      <th></th>\n      <th></th>\n    </tr>\n  </thead>\n  <tbody>\n    <tr>\n      <th>10</th>\n      <td>Negation</td>\n      <td>NEG_X_geschweige_denn_Y</td>\n    </tr>\n    <tr>\n      <th>100</th>\n      <td>Äquativ_Plural</td>\n      <td>gleich_ADJ</td>\n    </tr>\n    <tr>\n      <th>1004</th>\n      <td>Superlativ_Klimax</td>\n      <td>ADJ1_ADJ1-er_NP</td>\n    </tr>\n    <tr>\n      <th>1006</th>\n      <td>Superlativ</td>\n      <td>PRÄP_ADJ-ster_NP</td>\n    </tr>\n    <tr>\n      <th>101</th>\n      <td>Äquativ</td>\n      <td>ADJ_wie_NP</td>\n    </tr>\n    <tr>\n      <th>...</th>\n      <td>...</td>\n      <td>...</td>\n    </tr>\n    <tr>\n      <th>98</th>\n      <td>Äquativ</td>\n      <td>so_ADJ_wie_XP</td>\n    </tr>\n    <tr>\n      <th>980</th>\n      <td>Quantifizierung</td>\n      <td>CARD_KATEGORIE_NP</td>\n    </tr>\n    <tr>\n      <th>985</th>\n      <td>Relation_zweistellig</td>\n      <td>Transitiv_aktiv</td>\n    </tr>\n    <tr>\n      <th>99</th>\n      <td>Komparativ</td>\n      <td>ADJ-er_als_X</td>\n    </tr>\n    <tr>\n      <th>993</th>\n      <td>Eigenschaft</td>\n      <td>Intransitiv_passiv</td>\n    </tr>\n  </tbody>\n</table>\n<p>330 rows × 2 columns</p>\n</div>"
     },
     "execution_count": 3,
     "metadata": {},
     "output_type": "execute_result"
    }
   ],
   "source": [
    "constructions = sentences[['construction_id', 'category', 'name']].drop_duplicates()\n",
    "constructions.set_index('construction_id', inplace=True)\n",
    "constructions"
   ],
   "metadata": {
    "collapsed": false,
    "ExecuteTime": {
     "end_time": "2023-10-24T14:58:11.586004300Z",
     "start_time": "2023-10-24T14:58:11.574472500Z"
    }
   },
   "id": "1a8068e6b81ce76f"
  },
  {
   "cell_type": "code",
   "execution_count": 4,
   "outputs": [
    {
     "data": {
      "text/plain": "category\nQuantifizierung                     14\nIntensivierung                      14\nKategorisierung                     13\nExklamativ                          13\nÄquativ                             12\n                                    ..\nReflexives_Partikelverb              1\nReflexiver_Weg                       1\nKonkretisierung_exhaustiv            1\nKonkretisierung_exemplifizierend     1\nKorrelation_Affirmation              1\nName: count, Length: 181, dtype: int64"
     },
     "execution_count": 4,
     "metadata": {},
     "output_type": "execute_result"
    }
   ],
   "source": [
    "constructions['category'].value_counts()"
   ],
   "metadata": {
    "collapsed": false,
    "ExecuteTime": {
     "end_time": "2023-10-24T14:58:11.592251Z",
     "start_time": "2023-10-24T14:58:11.587002800Z"
    }
   },
   "id": "f31634988893993d"
  },
  {
   "cell_type": "code",
   "execution_count": 5,
   "outputs": [
    {
     "data": {
      "text/plain": "               kee_name  construction_id  ke_id           ke_name ke_coretype  \\\nkee_id                                                                          \n1       geschweige_denn               10      1      Fokuskontext        CORE   \n1       geschweige_denn               10      2   Erstes_Konjunkt        CORE   \n1       geschweige_denn               10      3  Zweites_Konjunkt        CORE   \n1       geschweige_denn               10   2350           Negator        CORE   \n1       geschweige_denn               10      1      Fokuskontext        None   \n...                 ...              ...    ...               ...         ...   \n643                  er               99    336         Dimension        CORE   \n643                  er               99    337        Bezugswert        CORE   \n643                  er               99    338   Quantifizierung     NONCORE   \n643                  er               99    333        Annäherung     NONCORE   \n643                  er               99    334      Verglichenes        CORE   \n\n       ke_attributes  \nkee_id                \n1                     \n1                     \n1                 []  \n1                     \n1               None  \n...              ...  \n643                   \n643                   \n643                   \n643                   \n643                   \n\n[1988 rows x 6 columns]",
      "text/html": "<div>\n<style scoped>\n    .dataframe tbody tr th:only-of-type {\n        vertical-align: middle;\n    }\n\n    .dataframe tbody tr th {\n        vertical-align: top;\n    }\n\n    .dataframe thead th {\n        text-align: right;\n    }\n</style>\n<table border=\"1\" class=\"dataframe\">\n  <thead>\n    <tr style=\"text-align: right;\">\n      <th></th>\n      <th>kee_name</th>\n      <th>construction_id</th>\n      <th>ke_id</th>\n      <th>ke_name</th>\n      <th>ke_coretype</th>\n      <th>ke_attributes</th>\n    </tr>\n    <tr>\n      <th>kee_id</th>\n      <th></th>\n      <th></th>\n      <th></th>\n      <th></th>\n      <th></th>\n      <th></th>\n    </tr>\n  </thead>\n  <tbody>\n    <tr>\n      <th>1</th>\n      <td>geschweige_denn</td>\n      <td>10</td>\n      <td>1</td>\n      <td>Fokuskontext</td>\n      <td>CORE</td>\n      <td></td>\n    </tr>\n    <tr>\n      <th>1</th>\n      <td>geschweige_denn</td>\n      <td>10</td>\n      <td>2</td>\n      <td>Erstes_Konjunkt</td>\n      <td>CORE</td>\n      <td></td>\n    </tr>\n    <tr>\n      <th>1</th>\n      <td>geschweige_denn</td>\n      <td>10</td>\n      <td>3</td>\n      <td>Zweites_Konjunkt</td>\n      <td>CORE</td>\n      <td>[]</td>\n    </tr>\n    <tr>\n      <th>1</th>\n      <td>geschweige_denn</td>\n      <td>10</td>\n      <td>2350</td>\n      <td>Negator</td>\n      <td>CORE</td>\n      <td></td>\n    </tr>\n    <tr>\n      <th>1</th>\n      <td>geschweige_denn</td>\n      <td>10</td>\n      <td>1</td>\n      <td>Fokuskontext</td>\n      <td>None</td>\n      <td>None</td>\n    </tr>\n    <tr>\n      <th>...</th>\n      <td>...</td>\n      <td>...</td>\n      <td>...</td>\n      <td>...</td>\n      <td>...</td>\n      <td>...</td>\n    </tr>\n    <tr>\n      <th>643</th>\n      <td>er</td>\n      <td>99</td>\n      <td>336</td>\n      <td>Dimension</td>\n      <td>CORE</td>\n      <td></td>\n    </tr>\n    <tr>\n      <th>643</th>\n      <td>er</td>\n      <td>99</td>\n      <td>337</td>\n      <td>Bezugswert</td>\n      <td>CORE</td>\n      <td></td>\n    </tr>\n    <tr>\n      <th>643</th>\n      <td>er</td>\n      <td>99</td>\n      <td>338</td>\n      <td>Quantifizierung</td>\n      <td>NONCORE</td>\n      <td></td>\n    </tr>\n    <tr>\n      <th>643</th>\n      <td>er</td>\n      <td>99</td>\n      <td>333</td>\n      <td>Annäherung</td>\n      <td>NONCORE</td>\n      <td></td>\n    </tr>\n    <tr>\n      <th>643</th>\n      <td>er</td>\n      <td>99</td>\n      <td>334</td>\n      <td>Verglichenes</td>\n      <td>CORE</td>\n      <td></td>\n    </tr>\n  </tbody>\n</table>\n<p>1988 rows × 6 columns</p>\n</div>"
     },
     "execution_count": 5,
     "metadata": {},
     "output_type": "execute_result"
    }
   ],
   "source": [
    "def parse_kee(xml_file):\n",
    "    tree = ET.parse(xml_file)\n",
    "    root = tree.getroot()\n",
    "\n",
    "    construction_id = root.attrib.get('id')\n",
    "\n",
    "    ke_data = []\n",
    "    \n",
    "    for ke in root.findall('.//ke'):\n",
    "        ke_data.append({\n",
    "            'ke_id': int(ke.attrib.get(\"id\")),\n",
    "            'ke_name': ke.attrib.get(\"name\"),\n",
    "            'ke_coretype': ke.attrib.get(\"coretype\"),\n",
    "            'ke_attributes': ke.attrib.get(\"attributes\")\n",
    "        })\n",
    "\n",
    "    kee_data = []\n",
    "    \n",
    "    for kee in root.findall('.//kee'):\n",
    "        for ke in ke_data:\n",
    "            kee_data.append({\n",
    "                'kee_id': int(kee.attrib.get(\"id\")),\n",
    "                'kee_name': kee.attrib.get(\"name\"),\n",
    "                'construction_id': int(construction_id)\n",
    "            } | ke)\n",
    "\n",
    "    return kee_data\n",
    "\n",
    "kee_list = []\n",
    "xml_directory = '../data/constructicon/construction'\n",
    "\n",
    "for filename in os.listdir(xml_directory):\n",
    "    if filename.endswith('.xml'):\n",
    "        xml_file = os.path.join(xml_directory, filename)\n",
    "        data = parse_kee(xml_file)\n",
    "        if data:\n",
    "            kee_list += data\n",
    "\n",
    "kees = pd.DataFrame.from_dict(kee_list)\n",
    "kees.set_index('kee_id', inplace=True)\n",
    "kees"
   ],
   "metadata": {
    "collapsed": false,
    "ExecuteTime": {
     "end_time": "2023-10-24T14:58:19.908708200Z",
     "start_time": "2023-10-24T14:58:11.597291900Z"
    }
   },
   "id": "b39ac2bcf3e57d23"
  },
  {
   "cell_type": "code",
   "execution_count": 6,
   "outputs": [
    {
     "data": {
      "text/plain": "ke_name\nVerglichenes        108\nDimension            78\nBezugskontext        78\nBezugswert           77\nAntezedens           64\n                   ... \nZugeordnetes          1\nVon_X_Geäußertes      1\nSprecher_X            1\nSprecher              1\nDirektiv              1\nName: count, Length: 247, dtype: int64"
     },
     "execution_count": 6,
     "metadata": {},
     "output_type": "execute_result"
    }
   ],
   "source": [
    "kees['ke_name'].value_counts()"
   ],
   "metadata": {
    "collapsed": false,
    "ExecuteTime": {
     "end_time": "2023-10-24T14:58:19.908708200Z",
     "start_time": "2023-10-24T14:58:19.903120600Z"
    }
   },
   "id": "4884c67fb347be9b"
  },
  {
   "cell_type": "code",
   "execution_count": 7,
   "outputs": [
    {
     "data": {
      "text/plain": "kee_name\n(_)                      75\nKlammern                 52\nvon                      41\nsein                     38\nund                      36\n                         ..\npar_excellence            1\nwie_es_im_Buche_steht     1\nzu_Tode                   1\nwie_viel_Uhr              1\nnicht_un-                 1\nName: count, Length: 372, dtype: int64"
     },
     "execution_count": 7,
     "metadata": {},
     "output_type": "execute_result"
    }
   ],
   "source": [
    "kees['kee_name'].value_counts()"
   ],
   "metadata": {
    "collapsed": false,
    "ExecuteTime": {
     "end_time": "2023-10-24T14:58:19.924001900Z",
     "start_time": "2023-10-24T14:58:19.908708200Z"
    }
   },
   "id": "8cdb48cc8c9d60a6"
  },
  {
   "cell_type": "markdown",
   "source": [
    "Die KEEs sind markiert wie folgt:\n",
    "\n",
    "```\n",
    "            <annotationset>\n",
    "            ...\n",
    "                <layer name=\"KEE-Negation:NEG_X_geschweige_denn_Y\" descriptor=\"KEE-Negation:NEG_X_geschweige_denn_Y\">\n",
    "                    <label start=\"72\" end=\"87\" name=\"geschweige_denn\" refid=\"GC_KEE:1\" itype=\"null\" groupid=\"0\"></label>\n",
    "                </layer>\n",
    "            ...\n",
    "            </annotationset>\n",
    "```"
   ],
   "metadata": {
    "collapsed": false
   },
   "id": "95c34b3628b665cd"
  },
  {
   "cell_type": "code",
   "execution_count": 8,
   "outputs": [],
   "source": [
    "# TODO Datensatz erstellen gemäß csv bei Pseudowords: KE maskieren, KEE desambiguieren"
   ],
   "metadata": {
    "collapsed": false,
    "ExecuteTime": {
     "end_time": "2023-10-24T14:58:19.924001900Z",
     "start_time": "2023-10-24T14:58:19.918467700Z"
    }
   },
   "id": "de5369dfbf87c48c"
  },
  {
   "cell_type": "code",
   "execution_count": 9,
   "outputs": [
    {
     "data": {
      "text/plain": "                                            uid  constr_id  \\\n0      57B9D1BEB68F44E7A51D1920F1EA6951E39469B5         10   \n1      D86B38CFA5D2458D9F3615EDD55C9308DF423DB0         10   \n2      7B3FAB8B01ED862D3D3FA18531B0904BCF24DFF0         10   \n3      B003E526D0AA301DA46458D32A82CEEFD7ADADA5         10   \n4      C3FFF1CA55CA8FF0A806C33E14A0FB331582698E         10   \n...                                         ...        ...   \n10263  B5CB5D20EFEDAF65D460621CD3D554622B9EE1E9        993   \n10264  32E879397C3BA674F547058D7CB2B781C55FE1AC        993   \n10265  F0F280AA87B32AF6C4122E5B9C7906A31E88E555        993   \n10266  549AF1E5C1904364885CE7F8DE324A9E6323629F        993   \n10267  877AE69E0356C28DF846CEB9F5C68232C26D99DE        993   \n\n                                                    text               kees  \\\n0      Und dann ist da noch das generelle Problem mit...  [geschweige denn]   \n1      »Ohne Europa sind viele Fragen nicht mehr seri...  [geschweige denn]   \n2      Dies lässt sich damit begründen , dass vor und...  [geschweige denn]   \n3      Dennoch hat Hamas es nicht geschafft , ihre mi...  [geschweige denn]   \n4      Abermillionen rings um die Welt , die das Spek...  [geschweige denn]   \n...                                                  ...                ...   \n10263  \" \" Aber da wird geredet und geredet und , sob...                 []   \n10264  Das erfüllt einen mit Stolz \" \" , sagte Neid u...                 []   \n10265  Hier wird getankt , und erst in der Morgenfrüh...                 []   \n10266                                Jetzt wird gewartet                 []   \n10267  Immerhin wird geskypt , auch das ein schönes D...                 []   \n\n           kees_idx                                                kes  \\\n0      [(128, 143)]  [dass, nicht, jeder Sprecher und Führer , der ...   \n1        [(72, 87)]  [»Ohne Europa sind viele Fragen, nicht, mehr s...   \n2      [(126, 141)]  [dass vor und neben Alexander – soweit wir wis...   \n3        [(83, 98)]  [Dennoch hat Hamas es, nicht, geschafft, ihre ...   \n4      [(183, 198)]  [Abermillionen rings um die Welt , die das Spe...   \n...             ...                                                ...   \n10263            []                                     [wird geredet]   \n10264            []                                     [wird getanzt]   \n10265            []                                     [wird getankt]   \n10266            []                                    [wird gewartet]   \n10267            []                                     [wird geskypt]   \n\n                                                 kes_idx  \n0      [(55, 59), (60, 65), (66, 110), (111, 125), (1...  \n1      [(0, 30), (31, 36), (37, 48), (49, 69), (88, 97)]  \n2      [(34, 84), (85, 89), (90, 97), (98, 123), (142...  \n3      [(0, 20), (21, 26), (27, 36), (39, 80), (99, 1...  \n4             [(0, 92), (93, 98), (99, 180), (201, 246)]  \n...                                                  ...  \n10263                                         [(12, 24)]  \n10264                                       [(105, 117)]  \n10265                                          [(5, 17)]  \n10266                                          [(6, 19)]  \n10267                                          [(9, 21)]  \n\n[10268 rows x 7 columns]",
      "text/html": "<div>\n<style scoped>\n    .dataframe tbody tr th:only-of-type {\n        vertical-align: middle;\n    }\n\n    .dataframe tbody tr th {\n        vertical-align: top;\n    }\n\n    .dataframe thead th {\n        text-align: right;\n    }\n</style>\n<table border=\"1\" class=\"dataframe\">\n  <thead>\n    <tr style=\"text-align: right;\">\n      <th></th>\n      <th>uid</th>\n      <th>constr_id</th>\n      <th>text</th>\n      <th>kees</th>\n      <th>kees_idx</th>\n      <th>kes</th>\n      <th>kes_idx</th>\n    </tr>\n  </thead>\n  <tbody>\n    <tr>\n      <th>0</th>\n      <td>57B9D1BEB68F44E7A51D1920F1EA6951E39469B5</td>\n      <td>10</td>\n      <td>Und dann ist da noch das generelle Problem mit...</td>\n      <td>[geschweige denn]</td>\n      <td>[(128, 143)]</td>\n      <td>[dass, nicht, jeder Sprecher und Führer , der ...</td>\n      <td>[(55, 59), (60, 65), (66, 110), (111, 125), (1...</td>\n    </tr>\n    <tr>\n      <th>1</th>\n      <td>D86B38CFA5D2458D9F3615EDD55C9308DF423DB0</td>\n      <td>10</td>\n      <td>»Ohne Europa sind viele Fragen nicht mehr seri...</td>\n      <td>[geschweige denn]</td>\n      <td>[(72, 87)]</td>\n      <td>[»Ohne Europa sind viele Fragen, nicht, mehr s...</td>\n      <td>[(0, 30), (31, 36), (37, 48), (49, 69), (88, 97)]</td>\n    </tr>\n    <tr>\n      <th>2</th>\n      <td>7B3FAB8B01ED862D3D3FA18531B0904BCF24DFF0</td>\n      <td>10</td>\n      <td>Dies lässt sich damit begründen , dass vor und...</td>\n      <td>[geschweige denn]</td>\n      <td>[(126, 141)]</td>\n      <td>[dass vor und neben Alexander – soweit wir wis...</td>\n      <td>[(34, 84), (85, 89), (90, 97), (98, 123), (142...</td>\n    </tr>\n    <tr>\n      <th>3</th>\n      <td>B003E526D0AA301DA46458D32A82CEEFD7ADADA5</td>\n      <td>10</td>\n      <td>Dennoch hat Hamas es nicht geschafft , ihre mi...</td>\n      <td>[geschweige denn]</td>\n      <td>[(83, 98)]</td>\n      <td>[Dennoch hat Hamas es, nicht, geschafft, ihre ...</td>\n      <td>[(0, 20), (21, 26), (27, 36), (39, 80), (99, 1...</td>\n    </tr>\n    <tr>\n      <th>4</th>\n      <td>C3FFF1CA55CA8FF0A806C33E14A0FB331582698E</td>\n      <td>10</td>\n      <td>Abermillionen rings um die Welt , die das Spek...</td>\n      <td>[geschweige denn]</td>\n      <td>[(183, 198)]</td>\n      <td>[Abermillionen rings um die Welt , die das Spe...</td>\n      <td>[(0, 92), (93, 98), (99, 180), (201, 246)]</td>\n    </tr>\n    <tr>\n      <th>...</th>\n      <td>...</td>\n      <td>...</td>\n      <td>...</td>\n      <td>...</td>\n      <td>...</td>\n      <td>...</td>\n      <td>...</td>\n    </tr>\n    <tr>\n      <th>10263</th>\n      <td>B5CB5D20EFEDAF65D460621CD3D554622B9EE1E9</td>\n      <td>993</td>\n      <td>\" \" Aber da wird geredet und geredet und , sob...</td>\n      <td>[]</td>\n      <td>[]</td>\n      <td>[wird geredet]</td>\n      <td>[(12, 24)]</td>\n    </tr>\n    <tr>\n      <th>10264</th>\n      <td>32E879397C3BA674F547058D7CB2B781C55FE1AC</td>\n      <td>993</td>\n      <td>Das erfüllt einen mit Stolz \" \" , sagte Neid u...</td>\n      <td>[]</td>\n      <td>[]</td>\n      <td>[wird getanzt]</td>\n      <td>[(105, 117)]</td>\n    </tr>\n    <tr>\n      <th>10265</th>\n      <td>F0F280AA87B32AF6C4122E5B9C7906A31E88E555</td>\n      <td>993</td>\n      <td>Hier wird getankt , und erst in der Morgenfrüh...</td>\n      <td>[]</td>\n      <td>[]</td>\n      <td>[wird getankt]</td>\n      <td>[(5, 17)]</td>\n    </tr>\n    <tr>\n      <th>10266</th>\n      <td>549AF1E5C1904364885CE7F8DE324A9E6323629F</td>\n      <td>993</td>\n      <td>Jetzt wird gewartet</td>\n      <td>[]</td>\n      <td>[]</td>\n      <td>[wird gewartet]</td>\n      <td>[(6, 19)]</td>\n    </tr>\n    <tr>\n      <th>10267</th>\n      <td>877AE69E0356C28DF846CEB9F5C68232C26D99DE</td>\n      <td>993</td>\n      <td>Immerhin wird geskypt , auch das ein schönes D...</td>\n      <td>[]</td>\n      <td>[]</td>\n      <td>[wird geskypt]</td>\n      <td>[(9, 21)]</td>\n    </tr>\n  </tbody>\n</table>\n<p>10268 rows × 7 columns</p>\n</div>"
     },
     "execution_count": 9,
     "metadata": {},
     "output_type": "execute_result"
    }
   ],
   "source": [
    "def parse_masked_sentences(xml_file):\n",
    "    tree = ET.parse(xml_file)\n",
    "    root = tree.getroot()\n",
    "    \n",
    "    sentences_data = []\n",
    "    \n",
    "    constr_id = int(root.attrib.get('id'))\n",
    "    \n",
    "    for sentence in root.findall('.//sentence'):\n",
    "        if sentence.attrib.get('uid') is None:\n",
    "            continue\n",
    "        \n",
    "        uid = sentence.attrib.get('uid')\n",
    "        text = sentence.find('.//text').text.strip()\n",
    "        \n",
    "        kees = []\n",
    "        kees_idx = []\n",
    "        kes = []\n",
    "        kes_idx = []\n",
    "        \n",
    "        # Loop through annotations:\n",
    "        for layer in sentence.findall('.//layer'):\n",
    "            layer_name = layer.attrib.get('name')\n",
    "            \n",
    "            # Get the KEE annotations:\n",
    "            if \"KE-\" in layer_name or \"KEE-\" in layer_name:\n",
    "                # Loop over all KEEs or KEs:\n",
    "                for label in layer.findall('.//label'):\n",
    "                    start = int(label.attrib.get('start'))\n",
    "                    end = int(label.attrib.get('end'))\n",
    "                    if \"KEE-\" in layer_name:\n",
    "                        kees.append(text[start:end])  # Read the KEE\n",
    "                        kees_idx.append((start, end))  # Log the position of the KEE\n",
    "                    else:\n",
    "                        kes.append(text[start:end])  # Read the KE\n",
    "                        kes_idx.append((start, end))  # Log the position of the KE\n",
    "        \n",
    "        sentences_data.append({\n",
    "            'uid': uid,\n",
    "            'constr_id': constr_id,\n",
    "            'text': text,\n",
    "            'kees': kees,\n",
    "            'kees_idx': kees_idx,\n",
    "            'kes': kes,\n",
    "            'kes_idx': kes_idx\n",
    "        })\n",
    "    return sentences_data\n",
    "    \n",
    "sentence_list = []\n",
    "xml_directory = '../data/constructicon/construction'\n",
    "\n",
    "for filename in os.listdir(xml_directory):\n",
    "    if filename.endswith('.xml'):\n",
    "        xml_file = os.path.join(xml_directory, filename)\n",
    "        data = parse_masked_sentences(xml_file)\n",
    "        if data:\n",
    "            sentence_list += data\n",
    "\n",
    "sentences = pd.DataFrame.from_dict(sentence_list)\n",
    "# sentences.set_index('uid', inplace=True)\n",
    "sentences    "
   ],
   "metadata": {
    "collapsed": false,
    "ExecuteTime": {
     "end_time": "2023-10-24T14:58:28.332100500Z",
     "start_time": "2023-10-24T14:58:19.926014Z"
    }
   },
   "id": "f2d0119da82288b8"
  },
  {
   "cell_type": "code",
   "execution_count": 10,
   "outputs": [
    {
     "data": {
      "text/plain": "                                            uid  constr_id  \\\n0      57B9D1BEB68F44E7A51D1920F1EA6951E39469B5         10   \n1      D86B38CFA5D2458D9F3615EDD55C9308DF423DB0         10   \n2      7B3FAB8B01ED862D3D3FA18531B0904BCF24DFF0         10   \n3      B003E526D0AA301DA46458D32A82CEEFD7ADADA5         10   \n4      C3FFF1CA55CA8FF0A806C33E14A0FB331582698E         10   \n...                                         ...        ...   \n13112  B5CB5D20EFEDAF65D460621CD3D554622B9EE1E9        993   \n13113  32E879397C3BA674F547058D7CB2B781C55FE1AC        993   \n13114  F0F280AA87B32AF6C4122E5B9C7906A31E88E555        993   \n13115  549AF1E5C1904364885CE7F8DE324A9E6323629F        993   \n13116  877AE69E0356C28DF846CEB9F5C68232C26D99DE        993   \n\n                                                    text             kees  \\\n0      Und dann ist da noch das generelle Problem mit...  geschweige denn   \n1      »Ohne Europa sind viele Fragen nicht mehr seri...  geschweige denn   \n2      Dies lässt sich damit begründen , dass vor und...  geschweige denn   \n3      Dennoch hat Hamas es nicht geschafft , ihre mi...  geschweige denn   \n4      Abermillionen rings um die Welt , die das Spek...  geschweige denn   \n...                                                  ...              ...   \n13112  \" \" Aber da wird geredet und geredet und , sob...              NaN   \n13113  Das erfüllt einen mit Stolz \" \" , sagte Neid u...              NaN   \n13114  Hier wird getankt , und erst in der Morgenfrüh...              NaN   \n13115                                Jetzt wird gewartet              NaN   \n13116  Immerhin wird geskypt , auch das ein schönes D...              NaN   \n\n         kees_idx                                                kes  \\\n0      (128, 143)  [dass, nicht, jeder Sprecher und Führer , der ...   \n1        (72, 87)  [»Ohne Europa sind viele Fragen, nicht, mehr s...   \n2      (126, 141)  [dass vor und neben Alexander – soweit wir wis...   \n3        (83, 98)  [Dennoch hat Hamas es, nicht, geschafft, ihre ...   \n4      (183, 198)  [Abermillionen rings um die Welt , die das Spe...   \n...           ...                                                ...   \n13112         NaN                                     [wird geredet]   \n13113         NaN                                     [wird getanzt]   \n13114         NaN                                     [wird getankt]   \n13115         NaN                                    [wird gewartet]   \n13116         NaN                                     [wird geskypt]   \n\n                                                 kes_idx  \n0      [(55, 59), (60, 65), (66, 110), (111, 125), (1...  \n1      [(0, 30), (31, 36), (37, 48), (49, 69), (88, 97)]  \n2      [(34, 84), (85, 89), (90, 97), (98, 123), (142...  \n3      [(0, 20), (21, 26), (27, 36), (39, 80), (99, 1...  \n4             [(0, 92), (93, 98), (99, 180), (201, 246)]  \n...                                                  ...  \n13112                                         [(12, 24)]  \n13113                                       [(105, 117)]  \n13114                                          [(5, 17)]  \n13115                                          [(6, 19)]  \n13116                                          [(9, 21)]  \n\n[13117 rows x 7 columns]",
      "text/html": "<div>\n<style scoped>\n    .dataframe tbody tr th:only-of-type {\n        vertical-align: middle;\n    }\n\n    .dataframe tbody tr th {\n        vertical-align: top;\n    }\n\n    .dataframe thead th {\n        text-align: right;\n    }\n</style>\n<table border=\"1\" class=\"dataframe\">\n  <thead>\n    <tr style=\"text-align: right;\">\n      <th></th>\n      <th>uid</th>\n      <th>constr_id</th>\n      <th>text</th>\n      <th>kees</th>\n      <th>kees_idx</th>\n      <th>kes</th>\n      <th>kes_idx</th>\n    </tr>\n  </thead>\n  <tbody>\n    <tr>\n      <th>0</th>\n      <td>57B9D1BEB68F44E7A51D1920F1EA6951E39469B5</td>\n      <td>10</td>\n      <td>Und dann ist da noch das generelle Problem mit...</td>\n      <td>geschweige denn</td>\n      <td>(128, 143)</td>\n      <td>[dass, nicht, jeder Sprecher und Führer , der ...</td>\n      <td>[(55, 59), (60, 65), (66, 110), (111, 125), (1...</td>\n    </tr>\n    <tr>\n      <th>1</th>\n      <td>D86B38CFA5D2458D9F3615EDD55C9308DF423DB0</td>\n      <td>10</td>\n      <td>»Ohne Europa sind viele Fragen nicht mehr seri...</td>\n      <td>geschweige denn</td>\n      <td>(72, 87)</td>\n      <td>[»Ohne Europa sind viele Fragen, nicht, mehr s...</td>\n      <td>[(0, 30), (31, 36), (37, 48), (49, 69), (88, 97)]</td>\n    </tr>\n    <tr>\n      <th>2</th>\n      <td>7B3FAB8B01ED862D3D3FA18531B0904BCF24DFF0</td>\n      <td>10</td>\n      <td>Dies lässt sich damit begründen , dass vor und...</td>\n      <td>geschweige denn</td>\n      <td>(126, 141)</td>\n      <td>[dass vor und neben Alexander – soweit wir wis...</td>\n      <td>[(34, 84), (85, 89), (90, 97), (98, 123), (142...</td>\n    </tr>\n    <tr>\n      <th>3</th>\n      <td>B003E526D0AA301DA46458D32A82CEEFD7ADADA5</td>\n      <td>10</td>\n      <td>Dennoch hat Hamas es nicht geschafft , ihre mi...</td>\n      <td>geschweige denn</td>\n      <td>(83, 98)</td>\n      <td>[Dennoch hat Hamas es, nicht, geschafft, ihre ...</td>\n      <td>[(0, 20), (21, 26), (27, 36), (39, 80), (99, 1...</td>\n    </tr>\n    <tr>\n      <th>4</th>\n      <td>C3FFF1CA55CA8FF0A806C33E14A0FB331582698E</td>\n      <td>10</td>\n      <td>Abermillionen rings um die Welt , die das Spek...</td>\n      <td>geschweige denn</td>\n      <td>(183, 198)</td>\n      <td>[Abermillionen rings um die Welt , die das Spe...</td>\n      <td>[(0, 92), (93, 98), (99, 180), (201, 246)]</td>\n    </tr>\n    <tr>\n      <th>...</th>\n      <td>...</td>\n      <td>...</td>\n      <td>...</td>\n      <td>...</td>\n      <td>...</td>\n      <td>...</td>\n      <td>...</td>\n    </tr>\n    <tr>\n      <th>13112</th>\n      <td>B5CB5D20EFEDAF65D460621CD3D554622B9EE1E9</td>\n      <td>993</td>\n      <td>\" \" Aber da wird geredet und geredet und , sob...</td>\n      <td>NaN</td>\n      <td>NaN</td>\n      <td>[wird geredet]</td>\n      <td>[(12, 24)]</td>\n    </tr>\n    <tr>\n      <th>13113</th>\n      <td>32E879397C3BA674F547058D7CB2B781C55FE1AC</td>\n      <td>993</td>\n      <td>Das erfüllt einen mit Stolz \" \" , sagte Neid u...</td>\n      <td>NaN</td>\n      <td>NaN</td>\n      <td>[wird getanzt]</td>\n      <td>[(105, 117)]</td>\n    </tr>\n    <tr>\n      <th>13114</th>\n      <td>F0F280AA87B32AF6C4122E5B9C7906A31E88E555</td>\n      <td>993</td>\n      <td>Hier wird getankt , und erst in der Morgenfrüh...</td>\n      <td>NaN</td>\n      <td>NaN</td>\n      <td>[wird getankt]</td>\n      <td>[(5, 17)]</td>\n    </tr>\n    <tr>\n      <th>13115</th>\n      <td>549AF1E5C1904364885CE7F8DE324A9E6323629F</td>\n      <td>993</td>\n      <td>Jetzt wird gewartet</td>\n      <td>NaN</td>\n      <td>NaN</td>\n      <td>[wird gewartet]</td>\n      <td>[(6, 19)]</td>\n    </tr>\n    <tr>\n      <th>13116</th>\n      <td>877AE69E0356C28DF846CEB9F5C68232C26D99DE</td>\n      <td>993</td>\n      <td>Immerhin wird geskypt , auch das ein schönes D...</td>\n      <td>NaN</td>\n      <td>NaN</td>\n      <td>[wird geskypt]</td>\n      <td>[(9, 21)]</td>\n    </tr>\n  </tbody>\n</table>\n<p>13117 rows × 7 columns</p>\n</div>"
     },
     "execution_count": 10,
     "metadata": {},
     "output_type": "execute_result"
    }
   ],
   "source": [
    "sentences = sentences.explode([\"kees\", \"kees_idx\"], ignore_index=True)\n",
    "sentences"
   ],
   "metadata": {
    "collapsed": false,
    "ExecuteTime": {
     "end_time": "2023-10-24T14:58:28.413762700Z",
     "start_time": "2023-10-24T14:58:28.334104600Z"
    }
   },
   "id": "160806e6f09d44b5"
  },
  {
   "cell_type": "code",
   "execution_count": 11,
   "outputs": [
    {
     "data": {
      "text/plain": "                                            uid  constr_id  \\\n0      57B9D1BEB68F44E7A51D1920F1EA6951E39469B5         10   \n1      57B9D1BEB68F44E7A51D1920F1EA6951E39469B5         10   \n2      57B9D1BEB68F44E7A51D1920F1EA6951E39469B5         10   \n3      57B9D1BEB68F44E7A51D1920F1EA6951E39469B5         10   \n4      57B9D1BEB68F44E7A51D1920F1EA6951E39469B5         10   \n...                                         ...        ...   \n31496  B5CB5D20EFEDAF65D460621CD3D554622B9EE1E9        993   \n31497  32E879397C3BA674F547058D7CB2B781C55FE1AC        993   \n31498  F0F280AA87B32AF6C4122E5B9C7906A31E88E555        993   \n31499  549AF1E5C1904364885CE7F8DE324A9E6323629F        993   \n31500  877AE69E0356C28DF846CEB9F5C68232C26D99DE        993   \n\n                                                    text             kees  \\\n0      Und dann ist da noch das generelle Problem mit...  geschweige denn   \n1      Und dann ist da noch das generelle Problem mit...  geschweige denn   \n2      Und dann ist da noch das generelle Problem mit...  geschweige denn   \n3      Und dann ist da noch das generelle Problem mit...  geschweige denn   \n4      Und dann ist da noch das generelle Problem mit...  geschweige denn   \n...                                                  ...              ...   \n31496  \" \" Aber da wird geredet und geredet und , sob...              NaN   \n31497  Das erfüllt einen mit Stolz \" \" , sagte Neid u...              NaN   \n31498  Hier wird getankt , und erst in der Morgenfrüh...              NaN   \n31499                                Jetzt wird gewartet              NaN   \n31500  Immerhin wird geskypt , auch das ein schönes D...              NaN   \n\n         kees_idx                                           kes     kes_idx  \n0      (128, 143)                                          dass    (55, 59)  \n1      (128, 143)                                         nicht    (60, 65)  \n2      (128, 143)  jeder Sprecher und Führer , der redet , auch   (66, 110)  \n3      (128, 143)                                etwas zu sagen  (111, 125)  \n4      (128, 143)                               das letzte Wort  (144, 159)  \n...           ...                                           ...         ...  \n31496         NaN                                  wird geredet    (12, 24)  \n31497         NaN                                  wird getanzt  (105, 117)  \n31498         NaN                                  wird getankt     (5, 17)  \n31499         NaN                                 wird gewartet     (6, 19)  \n31500         NaN                                  wird geskypt     (9, 21)  \n\n[31501 rows x 7 columns]",
      "text/html": "<div>\n<style scoped>\n    .dataframe tbody tr th:only-of-type {\n        vertical-align: middle;\n    }\n\n    .dataframe tbody tr th {\n        vertical-align: top;\n    }\n\n    .dataframe thead th {\n        text-align: right;\n    }\n</style>\n<table border=\"1\" class=\"dataframe\">\n  <thead>\n    <tr style=\"text-align: right;\">\n      <th></th>\n      <th>uid</th>\n      <th>constr_id</th>\n      <th>text</th>\n      <th>kees</th>\n      <th>kees_idx</th>\n      <th>kes</th>\n      <th>kes_idx</th>\n    </tr>\n  </thead>\n  <tbody>\n    <tr>\n      <th>0</th>\n      <td>57B9D1BEB68F44E7A51D1920F1EA6951E39469B5</td>\n      <td>10</td>\n      <td>Und dann ist da noch das generelle Problem mit...</td>\n      <td>geschweige denn</td>\n      <td>(128, 143)</td>\n      <td>dass</td>\n      <td>(55, 59)</td>\n    </tr>\n    <tr>\n      <th>1</th>\n      <td>57B9D1BEB68F44E7A51D1920F1EA6951E39469B5</td>\n      <td>10</td>\n      <td>Und dann ist da noch das generelle Problem mit...</td>\n      <td>geschweige denn</td>\n      <td>(128, 143)</td>\n      <td>nicht</td>\n      <td>(60, 65)</td>\n    </tr>\n    <tr>\n      <th>2</th>\n      <td>57B9D1BEB68F44E7A51D1920F1EA6951E39469B5</td>\n      <td>10</td>\n      <td>Und dann ist da noch das generelle Problem mit...</td>\n      <td>geschweige denn</td>\n      <td>(128, 143)</td>\n      <td>jeder Sprecher und Führer , der redet , auch</td>\n      <td>(66, 110)</td>\n    </tr>\n    <tr>\n      <th>3</th>\n      <td>57B9D1BEB68F44E7A51D1920F1EA6951E39469B5</td>\n      <td>10</td>\n      <td>Und dann ist da noch das generelle Problem mit...</td>\n      <td>geschweige denn</td>\n      <td>(128, 143)</td>\n      <td>etwas zu sagen</td>\n      <td>(111, 125)</td>\n    </tr>\n    <tr>\n      <th>4</th>\n      <td>57B9D1BEB68F44E7A51D1920F1EA6951E39469B5</td>\n      <td>10</td>\n      <td>Und dann ist da noch das generelle Problem mit...</td>\n      <td>geschweige denn</td>\n      <td>(128, 143)</td>\n      <td>das letzte Wort</td>\n      <td>(144, 159)</td>\n    </tr>\n    <tr>\n      <th>...</th>\n      <td>...</td>\n      <td>...</td>\n      <td>...</td>\n      <td>...</td>\n      <td>...</td>\n      <td>...</td>\n      <td>...</td>\n    </tr>\n    <tr>\n      <th>31496</th>\n      <td>B5CB5D20EFEDAF65D460621CD3D554622B9EE1E9</td>\n      <td>993</td>\n      <td>\" \" Aber da wird geredet und geredet und , sob...</td>\n      <td>NaN</td>\n      <td>NaN</td>\n      <td>wird geredet</td>\n      <td>(12, 24)</td>\n    </tr>\n    <tr>\n      <th>31497</th>\n      <td>32E879397C3BA674F547058D7CB2B781C55FE1AC</td>\n      <td>993</td>\n      <td>Das erfüllt einen mit Stolz \" \" , sagte Neid u...</td>\n      <td>NaN</td>\n      <td>NaN</td>\n      <td>wird getanzt</td>\n      <td>(105, 117)</td>\n    </tr>\n    <tr>\n      <th>31498</th>\n      <td>F0F280AA87B32AF6C4122E5B9C7906A31E88E555</td>\n      <td>993</td>\n      <td>Hier wird getankt , und erst in der Morgenfrüh...</td>\n      <td>NaN</td>\n      <td>NaN</td>\n      <td>wird getankt</td>\n      <td>(5, 17)</td>\n    </tr>\n    <tr>\n      <th>31499</th>\n      <td>549AF1E5C1904364885CE7F8DE324A9E6323629F</td>\n      <td>993</td>\n      <td>Jetzt wird gewartet</td>\n      <td>NaN</td>\n      <td>NaN</td>\n      <td>wird gewartet</td>\n      <td>(6, 19)</td>\n    </tr>\n    <tr>\n      <th>31500</th>\n      <td>877AE69E0356C28DF846CEB9F5C68232C26D99DE</td>\n      <td>993</td>\n      <td>Immerhin wird geskypt , auch das ein schönes D...</td>\n      <td>NaN</td>\n      <td>NaN</td>\n      <td>wird geskypt</td>\n      <td>(9, 21)</td>\n    </tr>\n  </tbody>\n</table>\n<p>31501 rows × 7 columns</p>\n</div>"
     },
     "execution_count": 11,
     "metadata": {},
     "output_type": "execute_result"
    }
   ],
   "source": [
    "sentences = sentences.explode([\"kes\", \"kes_idx\"], ignore_index=True)\n",
    "sentences"
   ],
   "metadata": {
    "collapsed": false,
    "ExecuteTime": {
     "end_time": "2023-10-24T14:58:28.452976100Z",
     "start_time": "2023-10-24T14:58:28.373050400Z"
    }
   },
   "id": "201814fb66b7f600"
  },
  {
   "cell_type": "code",
   "execution_count": 23,
   "outputs": [
    {
     "data": {
      "text/plain": "  0%|          | 0/31501 [00:00<?, ?it/s]",
      "application/vnd.jupyter.widget-view+json": {
       "version_major": 2,
       "version_minor": 0,
       "model_id": "f2c85c4e4dae443886fd8c6e5ed1248d"
      }
     },
     "metadata": {},
     "output_type": "display_data"
    },
    {
     "ename": "KeyboardInterrupt",
     "evalue": "",
     "output_type": "error",
     "traceback": [
      "\u001B[1;31m---------------------------------------------------------------------------\u001B[0m",
      "\u001B[1;31mKeyboardInterrupt\u001B[0m                         Traceback (most recent call last)",
      "Cell \u001B[1;32mIn[23], line 33\u001B[0m\n\u001B[0;32m     31\u001B[0m \u001B[38;5;28;01mif\u001B[39;00m tokenized_masked\u001B[38;5;241m.\u001B[39mindex(\u001B[38;5;124m\"\u001B[39m\u001B[38;5;124m<mask>\u001B[39m\u001B[38;5;124m\"\u001B[39m) \u001B[38;5;241m<\u001B[39m i:  \u001B[38;5;66;03m# indicates that the query_idx might have been shifted because the multi-token mask comes first\u001B[39;00m\n\u001B[0;32m     32\u001B[0m     offset \u001B[38;5;241m=\u001B[39m \u001B[38;5;28mlen\u001B[39m(tokenized) \u001B[38;5;241m-\u001B[39m \u001B[38;5;28mlen\u001B[39m(tokenized_masked)\n\u001B[1;32m---> 33\u001B[0m     kee_query_idx\u001B[38;5;241m.\u001B[39mappend(i \u001B[38;5;241m-\u001B[39m offset)\n\u001B[0;32m     34\u001B[0m \u001B[38;5;28;01melse\u001B[39;00m:\n\u001B[0;32m     35\u001B[0m     kee_query_idx\u001B[38;5;241m.\u001B[39mappend(i)\n",
      "File \u001B[1;32m_pydevd_bundle\\pydevd_cython_win32_311_64.pyx:1179\u001B[0m, in \u001B[0;36m_pydevd_bundle.pydevd_cython_win32_311_64.SafeCallWrapper.__call__\u001B[1;34m()\u001B[0m\n",
      "File \u001B[1;32m_pydevd_bundle\\pydevd_cython_win32_311_64.pyx:620\u001B[0m, in \u001B[0;36m_pydevd_bundle.pydevd_cython_win32_311_64.PyDBFrame.trace_dispatch\u001B[1;34m()\u001B[0m\n",
      "File \u001B[1;32m_pydevd_bundle\\pydevd_cython_win32_311_64.pyx:929\u001B[0m, in \u001B[0;36m_pydevd_bundle.pydevd_cython_win32_311_64.PyDBFrame.trace_dispatch\u001B[1;34m()\u001B[0m\n",
      "File \u001B[1;32m_pydevd_bundle\\pydevd_cython_win32_311_64.pyx:920\u001B[0m, in \u001B[0;36m_pydevd_bundle.pydevd_cython_win32_311_64.PyDBFrame.trace_dispatch\u001B[1;34m()\u001B[0m\n",
      "File \u001B[1;32m_pydevd_bundle\\pydevd_cython_win32_311_64.pyx:317\u001B[0m, in \u001B[0;36m_pydevd_bundle.pydevd_cython_win32_311_64.PyDBFrame.do_wait_suspend\u001B[1;34m()\u001B[0m\n",
      "File \u001B[1;32mC:\\Program Files\\JetBrains\\PyCharm 2022.2.1\\plugins\\python\\helpers\\pydev\\pydevd.py:1160\u001B[0m, in \u001B[0;36mPyDB.do_wait_suspend\u001B[1;34m(self, thread, frame, event, arg, send_suspend_message, is_unhandled_exception)\u001B[0m\n\u001B[0;32m   1157\u001B[0m         from_this_thread\u001B[38;5;241m.\u001B[39mappend(frame_id)\n\u001B[0;32m   1159\u001B[0m \u001B[38;5;28;01mwith\u001B[39;00m \u001B[38;5;28mself\u001B[39m\u001B[38;5;241m.\u001B[39m_threads_suspended_single_notification\u001B[38;5;241m.\u001B[39mnotify_thread_suspended(thread_id, stop_reason):\n\u001B[1;32m-> 1160\u001B[0m     \u001B[38;5;28mself\u001B[39m\u001B[38;5;241m.\u001B[39m_do_wait_suspend(thread, frame, event, arg, suspend_type, from_this_thread)\n",
      "File \u001B[1;32mC:\\Program Files\\JetBrains\\PyCharm 2022.2.1\\plugins\\python\\helpers\\pydev\\pydevd.py:1175\u001B[0m, in \u001B[0;36mPyDB._do_wait_suspend\u001B[1;34m(self, thread, frame, event, arg, suspend_type, from_this_thread)\u001B[0m\n\u001B[0;32m   1172\u001B[0m             \u001B[38;5;28mself\u001B[39m\u001B[38;5;241m.\u001B[39m_call_mpl_hook()\n\u001B[0;32m   1174\u001B[0m         \u001B[38;5;28mself\u001B[39m\u001B[38;5;241m.\u001B[39mprocess_internal_commands()\n\u001B[1;32m-> 1175\u001B[0m         time\u001B[38;5;241m.\u001B[39msleep(\u001B[38;5;241m0.01\u001B[39m)\n\u001B[0;32m   1177\u001B[0m \u001B[38;5;28mself\u001B[39m\u001B[38;5;241m.\u001B[39mcancel_async_evaluation(get_current_thread_id(thread), \u001B[38;5;28mstr\u001B[39m(\u001B[38;5;28mid\u001B[39m(frame)))\n\u001B[0;32m   1179\u001B[0m \u001B[38;5;66;03m# process any stepping instructions\u001B[39;00m\n",
      "\u001B[1;31mKeyboardInterrupt\u001B[0m: "
     ]
    }
   ],
   "source": [
    "with open(\"../out/CoMaPP_all.txt\", \"w\") as file:\n",
    "    file.write(\"\")  # delete file content\n",
    "\n",
    "# tokenizer = MBart50Tokenizer.from_pretrained(\"facebook/mbart-large-50\", src_lang=\"de_DE\", tgt_lang=\"de_DE\")\n",
    "\n",
    "all_comapp = []\n",
    "csv_comapp = []\n",
    "\n",
    "for _, row in tqdm(sentences.iterrows(), total=len(sentences)):\n",
    "    tokenized = word_tokenize(row[\"text\"])  # tokenizer.tokenize(...)\n",
    "    \n",
    "    try:\n",
    "        ke_start, ke_end = row[\"kes_idx\"]\n",
    "        tokenized_kees = word_tokenize(row[\"kees\"])  # tokenizer.tokenize(...)\n",
    "    except TypeError:\n",
    "        continue  # If there is nothing to mask or if there is no KEE, we can't use this example.\n",
    "        \n",
    "    masked_text = row[\"text\"][:ke_start] + \"<mask>\" + row[\"text\"][ke_end:]\n",
    "    tokenized_masked = word_tokenize(masked_text)\n",
    "    # Rejoin \"<\", \"mask\" and \">\".\n",
    "    tokenized_masked = [\n",
    "        '<mask>' if tokenized_masked[i] == '<' else tokenized_masked[i]  # add \"<mask>\" back in instead of \"<\"\n",
    "        for i in range(len(tokenized_masked)) \n",
    "        if tokenized_masked[i] != 'mask' and tokenized_masked[i] != '>'  # remove \"mask\" and \">\"\n",
    "    ]\n",
    "    \n",
    "    try:\n",
    "        kee_idx = [tokenized.index(tokenized_kee) for tokenized_kee in tokenized_kees]\n",
    "        kee_query_idx = []\n",
    "        for i in kee_idx:\n",
    "            if tokenized_masked.index(\"<mask>\") < i:  # indicates that the query_idx might have been shifted because the multi-token mask comes first\n",
    "                offset = len(tokenized) - len(tokenized_masked)\n",
    "                kee_query_idx.append(i - offset)\n",
    "            else:\n",
    "                kee_query_idx.append(i)\n",
    "    except ValueError:\n",
    "        continue\n",
    "    \n",
    "    out_dict = [{\n",
    "        \"target1\": row[\"text\"], \n",
    "        \"target1_idx\": i, \n",
    "        \"query\": masked_text,\n",
    "        \"query_idx\": q\n",
    "    } for i, q in zip(kee_idx, kee_query_idx)]  # Split the KEEs if there are multi-word KEEs\n",
    "    \n",
    "    out_csv =  [{\n",
    "        \"query\": row[\"text\"],\n",
    "        \"mask\": row[\"text\"][ke_start:ke_end],\n",
    "        \"ambigous_word\": k,\n",
    "        \"label\": row[\"constr_id\"]\n",
    "    } for k in word_tokenize(row[\"kees\"])]  # Split the KEEs if there are multi-word KEEs\n",
    "    \n",
    "    all_comapp += out_dict\n",
    "    csv_comapp += out_csv\n",
    "    \n",
    "with open(\"../out/CoMaPP_all.json\", \"w\") as file:\n",
    "    json.dump(all_comapp, file, ensure_ascii=False)"
   ],
   "metadata": {
    "collapsed": false,
    "ExecuteTime": {
     "end_time": "2023-10-24T15:01:13.058818100Z",
     "start_time": "2023-10-24T14:59:40.614406500Z"
    }
   },
   "id": "d52b8985dbc98a41"
  },
  {
   "cell_type": "code",
   "execution_count": 13,
   "outputs": [],
   "source": [
    "import csv\n",
    "\n",
    "with open(\"./pseudowords/CoMapp_Dataset.csv\", \"w+\", newline=\"\") as file:\n",
    "    writer = csv.DictWriter(file, fieldnames=[\"query\", \"mask\", \"ambigous_word\", \"label\"])\n",
    "    writer.writeheader()\n",
    "    writer.writerows(csv_comapp)"
   ],
   "metadata": {
    "collapsed": false,
    "ExecuteTime": {
     "end_time": "2023-10-24T14:58:41.183866600Z",
     "start_time": "2023-10-24T14:58:41.017223900Z"
    }
   },
   "id": "ab36bece68b956dd"
  },
  {
   "cell_type": "code",
   "execution_count": 14,
   "outputs": [],
   "source": [
    "# Load the pre-trained MBart-50 model and tokenizer\n",
    "model_name = \"facebook/mbart-large-50\"\n",
    "model = MBartForConditionalGeneration.from_pretrained(model_name)\n",
    "tokenizer = MBart50Tokenizer.from_pretrained(model_name, src_lang=\"de_DE\", tgt_lang=\"de_DE\")"
   ],
   "metadata": {
    "collapsed": false,
    "ExecuteTime": {
     "end_time": "2023-10-24T14:58:52.434072400Z",
     "start_time": "2023-10-24T14:58:41.188528900Z"
    }
   },
   "id": "dda230e1ec31db17"
  },
  {
   "cell_type": "code",
   "execution_count": 15,
   "outputs": [],
   "source": [
    "# Define a masked input sequence and convert it into tokens\n",
    "masked_sequence = \"Ich bin <mask> gegangen.\"\n",
    "input_ids = tokenizer.encode(masked_sequence, return_tensors=\"pt\")"
   ],
   "metadata": {
    "collapsed": false,
    "ExecuteTime": {
     "end_time": "2023-10-24T14:58:52.435070900Z",
     "start_time": "2023-10-24T14:58:52.224493100Z"
    }
   },
   "id": "403ffd601033e1af"
  },
  {
   "cell_type": "code",
   "execution_count": 16,
   "outputs": [],
   "source": [
    "# Generate predictions\n",
    "with torch.no_grad():\n",
    "    outputs = model.generate(input_ids, max_length=100, num_return_sequences=15, num_beams=20)"
   ],
   "metadata": {
    "collapsed": false,
    "ExecuteTime": {
     "end_time": "2023-10-24T14:58:55.901406800Z",
     "start_time": "2023-10-24T14:58:52.228123600Z"
    }
   },
   "id": "7a78138e8e1934be"
  },
  {
   "cell_type": "code",
   "execution_count": 17,
   "outputs": [
    {
     "data": {
      "text/plain": "['Ich bin nach Hause gegangen.',\n 'Ich bin wieder nach Hause gegangen.',\n 'Ich bin ins Bett gegangen.',\n 'Ich bin wieder ins Bett gegangen.',\n 'Ich bin in den Wald gegangen.',\n 'Ich bin aus dem Haus gegangen.',\n 'Ich bin ins Ausland gegangen.',\n 'Ich bin ins Krankenhaus gegangen.',\n 'Ich bin in eine andere Richtung gegangen.',\n 'Ich bin in eine andere Welt gegangen.',\n 'Ich bin gerade ins Bett gegangen.',\n 'Ich bin in die Stadt gegangen.',\n 'Ich bin heute früh gegangen.',\n 'Ich bin wieder ins Leben gegangen.',\n 'Ich bin nicht ins Bett gegangen.']"
     },
     "execution_count": 17,
     "metadata": {},
     "output_type": "execute_result"
    }
   ],
   "source": [
    "predicted_texts = []\n",
    "for output in outputs:\n",
    "    predicted_texts.append(tokenizer.decode(output, skip_special_tokens=True))\n",
    "predicted_texts"
   ],
   "metadata": {
    "collapsed": false,
    "ExecuteTime": {
     "end_time": "2023-10-24T14:58:55.920532400Z",
     "start_time": "2023-10-24T14:58:55.901406800Z"
    }
   },
   "id": "bbe6d677169786cd"
  },
  {
   "cell_type": "code",
   "execution_count": 18,
   "outputs": [
    {
     "data": {
      "text/plain": "     constr_id             kees              category                     name\n0           10  geschweige denn              Negation  NEG_X_geschweige_denn_Y\n1           10  Geschweige denn              Negation  NEG_X_geschweige_denn_Y\n2          100           gleich        Äquativ_Plural               gleich_ADJ\n3         1004               er     Superlativ_Klimax          ADJ1_ADJ1-er_NP\n4         1006               st            Superlativ         PRÄP_ADJ-ster_NP\n..         ...              ...                   ...                      ...\n948         98               So               Äquativ            so_ADJ_wie_XP\n949        980              NaN       Quantifizierung        CARD_KATEGORIE_NP\n950        985              NaN  Relation_zweistellig          Transitiv_aktiv\n951         99               er            Komparativ             ADJ-er_als_X\n952        993              NaN           Eigenschaft       Intransitiv_passiv\n\n[953 rows x 4 columns]",
      "text/html": "<div>\n<style scoped>\n    .dataframe tbody tr th:only-of-type {\n        vertical-align: middle;\n    }\n\n    .dataframe tbody tr th {\n        vertical-align: top;\n    }\n\n    .dataframe thead th {\n        text-align: right;\n    }\n</style>\n<table border=\"1\" class=\"dataframe\">\n  <thead>\n    <tr style=\"text-align: right;\">\n      <th></th>\n      <th>constr_id</th>\n      <th>kees</th>\n      <th>category</th>\n      <th>name</th>\n    </tr>\n  </thead>\n  <tbody>\n    <tr>\n      <th>0</th>\n      <td>10</td>\n      <td>geschweige denn</td>\n      <td>Negation</td>\n      <td>NEG_X_geschweige_denn_Y</td>\n    </tr>\n    <tr>\n      <th>1</th>\n      <td>10</td>\n      <td>Geschweige denn</td>\n      <td>Negation</td>\n      <td>NEG_X_geschweige_denn_Y</td>\n    </tr>\n    <tr>\n      <th>2</th>\n      <td>100</td>\n      <td>gleich</td>\n      <td>Äquativ_Plural</td>\n      <td>gleich_ADJ</td>\n    </tr>\n    <tr>\n      <th>3</th>\n      <td>1004</td>\n      <td>er</td>\n      <td>Superlativ_Klimax</td>\n      <td>ADJ1_ADJ1-er_NP</td>\n    </tr>\n    <tr>\n      <th>4</th>\n      <td>1006</td>\n      <td>st</td>\n      <td>Superlativ</td>\n      <td>PRÄP_ADJ-ster_NP</td>\n    </tr>\n    <tr>\n      <th>...</th>\n      <td>...</td>\n      <td>...</td>\n      <td>...</td>\n      <td>...</td>\n    </tr>\n    <tr>\n      <th>948</th>\n      <td>98</td>\n      <td>So</td>\n      <td>Äquativ</td>\n      <td>so_ADJ_wie_XP</td>\n    </tr>\n    <tr>\n      <th>949</th>\n      <td>980</td>\n      <td>NaN</td>\n      <td>Quantifizierung</td>\n      <td>CARD_KATEGORIE_NP</td>\n    </tr>\n    <tr>\n      <th>950</th>\n      <td>985</td>\n      <td>NaN</td>\n      <td>Relation_zweistellig</td>\n      <td>Transitiv_aktiv</td>\n    </tr>\n    <tr>\n      <th>951</th>\n      <td>99</td>\n      <td>er</td>\n      <td>Komparativ</td>\n      <td>ADJ-er_als_X</td>\n    </tr>\n    <tr>\n      <th>952</th>\n      <td>993</td>\n      <td>NaN</td>\n      <td>Eigenschaft</td>\n      <td>Intransitiv_passiv</td>\n    </tr>\n  </tbody>\n</table>\n<p>953 rows × 4 columns</p>\n</div>"
     },
     "execution_count": 18,
     "metadata": {},
     "output_type": "execute_result"
    }
   ],
   "source": [
    "# Create a dataframe which matches the index of the constructions dataframe and the constr_id of the kees dataframe\n",
    "kee_categories = sentences.join(constructions, on=\"constr_id\")[[\"constr_id\", \"kees\", \"category\", \"name\"]].drop_duplicates().reset_index(drop=True)\n",
    "kee_categories"
   ],
   "metadata": {
    "collapsed": false,
    "ExecuteTime": {
     "end_time": "2023-10-24T14:58:55.948562600Z",
     "start_time": "2023-10-24T14:58:55.923060300Z"
    }
   },
   "id": "b38986199c8b8d87"
  },
  {
   "cell_type": "code",
   "execution_count": 19,
   "outputs": [
    {
     "data": {
      "text/plain": "name\nKlammern                61\nw-VL-Satz               54\nes_gab_eine_Zeit_XP     26\nwer                     19\nIND.PRO_bis_auf_NP      16\n                        ..\nähnlich_ADJ              1\nFarbbez._in_Farbbez.     1\nwie_ADJ                  1\nFrage-Antwort            1\nIntransitiv_passiv       1\nName: count, Length: 270, dtype: int64"
     },
     "execution_count": 19,
     "metadata": {},
     "output_type": "execute_result"
    }
   ],
   "source": [
    "# Count the distinct names:\n",
    "kee_categories[\"name\"].value_counts()"
   ],
   "metadata": {
    "collapsed": false,
    "ExecuteTime": {
     "end_time": "2023-10-24T14:58:55.956194100Z",
     "start_time": "2023-10-24T14:58:55.948562600Z"
    }
   },
   "id": "20a2198fa57892a4"
  },
  {
   "cell_type": "markdown",
   "source": [
    "Vergleiche wie ähnlich sich cased und uncased sind:"
   ],
   "metadata": {
    "collapsed": false
   },
   "id": "3cfd14b8c2dcbbce"
  },
  {
   "cell_type": "code",
   "execution_count": 20,
   "outputs": [
    {
     "data": {
      "text/plain": "tensor([[[250003,   4887,  27325, 206709,    168,  23788,     56,   9146,\n            1011,  17929,      2]],\n\n        [[250003,   1225,  27325, 206709,    168,  23788,     56,   9146,\n            1011,  17929,      2]]])"
     },
     "execution_count": 20,
     "metadata": {},
     "output_type": "execute_result"
    }
   ],
   "source": [
    "input_text_1 = \"Wie Schulbücher den Mauerfall darstellen\"\n",
    "input_text_2 = \"wie Schulbücher den Mauerfall darstellen\"\n",
    "\n",
    "input_tokens_1 = tokenizer(input_text_1, return_tensors=\"pt\", padding=True, truncation=True)\n",
    "input_tokens_2 = tokenizer(input_text_2, return_tensors=\"pt\", padding=True, truncation=True)\n",
    "\n",
    "torch.stack((input_tokens_1.input_ids, input_tokens_2.input_ids))"
   ],
   "metadata": {
    "collapsed": false,
    "ExecuteTime": {
     "end_time": "2023-10-24T14:58:55.964032400Z",
     "start_time": "2023-10-24T14:58:55.959444700Z"
    }
   },
   "id": "31808de966d7d050"
  },
  {
   "cell_type": "code",
   "execution_count": 21,
   "outputs": [
    {
     "data": {
      "text/plain": "(tensor([[-0.2712,  0.2646,  0.1158,  ..., -0.3121, -0.0238,  0.2057]]),\n tensor([[-0.3570,  0.2023,  0.1094,  ..., -0.2422, -0.1210,  0.2481]]))"
     },
     "execution_count": 21,
     "metadata": {},
     "output_type": "execute_result"
    }
   ],
   "source": [
    "with torch.no_grad():\n",
    "    model_output_1 = model(**input_tokens_1)\n",
    "    model_output_2 = model(**input_tokens_2)\n",
    "    \n",
    "hidden_states_1 = model_output_1.encoder_last_hidden_state\n",
    "hidden_states_2 = model_output_2.encoder_last_hidden_state\n",
    "\n",
    "sequence_emb_1 = hidden_states_1[:, 5, :]\n",
    "sequence_emb_2 = hidden_states_2[:, 5, :]\n",
    "\n",
    "sequence_emb_1, sequence_emb_2"
   ],
   "metadata": {
    "collapsed": false,
    "ExecuteTime": {
     "end_time": "2023-10-24T14:58:56.757083500Z",
     "start_time": "2023-10-24T14:58:55.967143Z"
    }
   },
   "id": "15e3c29d9faf4b62"
  },
  {
   "cell_type": "code",
   "execution_count": 22,
   "outputs": [],
   "source": [
    "# TODO Markiere die zu desambiguierenden Wörter\n",
    "# Position ergibt keinen Sinn, weil die maskierten Bereiche beliebig lang sein können (und damit der Index variabel ist in Abhängigkeit der länge der generierten Phrase.\n",
    "# Idee wäre festgelegtes Symbol (z. B. §) oder gar kein Symbol und einfach heuristisch von .index(wort) ausgehen."
   ],
   "metadata": {
    "collapsed": false,
    "ExecuteTime": {
     "end_time": "2023-10-24T14:58:56.760753700Z",
     "start_time": "2023-10-24T14:58:56.759746600Z"
    }
   },
   "id": "7b4ea4a81f68480f"
  }
 ],
 "metadata": {
  "kernelspec": {
   "display_name": "Python 3",
   "language": "python",
   "name": "python3"
  },
  "language_info": {
   "codemirror_mode": {
    "name": "ipython",
    "version": 2
   },
   "file_extension": ".py",
   "mimetype": "text/x-python",
   "name": "python",
   "nbconvert_exporter": "python",
   "pygments_lexer": "ipython2",
   "version": "2.7.6"
  }
 },
 "nbformat": 4,
 "nbformat_minor": 5
}
