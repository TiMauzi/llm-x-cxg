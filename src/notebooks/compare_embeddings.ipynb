{
 "cells": [
  {
   "cell_type": "code",
   "execution_count": 37,
   "id": "initial_id",
   "metadata": {
    "collapsed": true,
    "ExecuteTime": {
     "end_time": "2024-01-02T14:00:43.996919Z",
     "start_time": "2024-01-02T14:00:43.955649100Z"
    }
   },
   "outputs": [],
   "source": [
    "import csv\n",
    "\n",
    "import numpy as np\n",
    "import pandas as pd\n",
    "import torch\n",
    "from tqdm.notebook import tqdm\n",
    "from transformers import BertForMaskedLM, BertTokenizer"
   ]
  },
  {
   "cell_type": "code",
   "outputs": [
    {
     "data": {
      "text/plain": "        constr  fuzziness (common dep)  fuzziness (matches)  \\\n0           12                0.937500             0.857143   \n1           12                0.937500             0.857143   \n2           12                0.937500             0.857143   \n3           15                0.933333             0.857143   \n4           15                0.933333             0.857143   \n...        ...                     ...                  ...   \n402905    1986                0.823529             0.800000   \n402906    1986                0.823529             0.800000   \n402907    1986                0.823529             0.850000   \n402908    1986                0.823529             0.800000   \n402909    1986                0.823529             0.800000   \n\n                                                 sentence  \n0       Dieser hat allerdings weder die Möglichkeit , ...  \n1       Das gestrige Ereignis hatte weder verletzte Pe...  \n2        Möglich werden @-Namen durch eine Funktion de...  \n3       Auch im Cyberspace müsse es Grenzen geben , di...  \n4       Die dritte Möglichkeit wäre , dass sich die Ge...  \n...                                                   ...  \n402905  Da eine Bestätigung per E-Mail folgte , hatte ...  \n402906  Für die Konkurrenz der Deutschen Telekom wird ...  \n402907  Inlandsgespräche waren um 7,9 Prozent billiger...  \n402908  Ohne Hightech und neue Ideen hat auch das trad...  \n402909  Damals hatte der Kunde kaum Möglichkeiten , Pr...  \n\n[402910 rows x 4 columns]",
      "text/html": "<div>\n<style scoped>\n    .dataframe tbody tr th:only-of-type {\n        vertical-align: middle;\n    }\n\n    .dataframe tbody tr th {\n        vertical-align: top;\n    }\n\n    .dataframe thead th {\n        text-align: right;\n    }\n</style>\n<table border=\"1\" class=\"dataframe\">\n  <thead>\n    <tr style=\"text-align: right;\">\n      <th></th>\n      <th>constr</th>\n      <th>fuzziness (common dep)</th>\n      <th>fuzziness (matches)</th>\n      <th>sentence</th>\n    </tr>\n  </thead>\n  <tbody>\n    <tr>\n      <th>0</th>\n      <td>12</td>\n      <td>0.937500</td>\n      <td>0.857143</td>\n      <td>Dieser hat allerdings weder die Möglichkeit , ...</td>\n    </tr>\n    <tr>\n      <th>1</th>\n      <td>12</td>\n      <td>0.937500</td>\n      <td>0.857143</td>\n      <td>Das gestrige Ereignis hatte weder verletzte Pe...</td>\n    </tr>\n    <tr>\n      <th>2</th>\n      <td>12</td>\n      <td>0.937500</td>\n      <td>0.857143</td>\n      <td>Möglich werden @-Namen durch eine Funktion de...</td>\n    </tr>\n    <tr>\n      <th>3</th>\n      <td>15</td>\n      <td>0.933333</td>\n      <td>0.857143</td>\n      <td>Auch im Cyberspace müsse es Grenzen geben , di...</td>\n    </tr>\n    <tr>\n      <th>4</th>\n      <td>15</td>\n      <td>0.933333</td>\n      <td>0.857143</td>\n      <td>Die dritte Möglichkeit wäre , dass sich die Ge...</td>\n    </tr>\n    <tr>\n      <th>...</th>\n      <td>...</td>\n      <td>...</td>\n      <td>...</td>\n      <td>...</td>\n    </tr>\n    <tr>\n      <th>402905</th>\n      <td>1986</td>\n      <td>0.823529</td>\n      <td>0.800000</td>\n      <td>Da eine Bestätigung per E-Mail folgte , hatte ...</td>\n    </tr>\n    <tr>\n      <th>402906</th>\n      <td>1986</td>\n      <td>0.823529</td>\n      <td>0.800000</td>\n      <td>Für die Konkurrenz der Deutschen Telekom wird ...</td>\n    </tr>\n    <tr>\n      <th>402907</th>\n      <td>1986</td>\n      <td>0.823529</td>\n      <td>0.850000</td>\n      <td>Inlandsgespräche waren um 7,9 Prozent billiger...</td>\n    </tr>\n    <tr>\n      <th>402908</th>\n      <td>1986</td>\n      <td>0.823529</td>\n      <td>0.800000</td>\n      <td>Ohne Hightech und neue Ideen hat auch das trad...</td>\n    </tr>\n    <tr>\n      <th>402909</th>\n      <td>1986</td>\n      <td>0.823529</td>\n      <td>0.800000</td>\n      <td>Damals hatte der Kunde kaum Möglichkeiten , Pr...</td>\n    </tr>\n  </tbody>\n</table>\n<p>402910 rows × 4 columns</p>\n</div>"
     },
     "execution_count": 38,
     "metadata": {},
     "output_type": "execute_result"
    }
   ],
   "source": [
    "matches = pd.read_csv(\"../../out/matches/matches_dep_constr_kelex.tsv\", sep=\"\\t\", header=0)\n",
    "matches"
   ],
   "metadata": {
    "collapsed": false,
    "ExecuteTime": {
     "end_time": "2024-01-02T14:00:45.619419500Z",
     "start_time": "2024-01-02T14:00:44.001235400Z"
    }
   },
   "id": "959bd8c58a2b3474",
   "execution_count": 38
  },
  {
   "cell_type": "code",
   "outputs": [
    {
     "data": {
      "text/plain": "{10: {'denn', 'geschweige'},\n 100: {'gleich'},\n 1004: {'er'},\n 1006: {'st'},\n 101: {'wie'},\n 1029: {'Mit', 'wem', 'würden'},\n 103: {'wie'},\n 1033: {'Hauptsache'},\n 1034: {'Von', 'zu'},\n 1035: {'von', 'zu'},\n 104: {'das', 'nämliche'},\n 1043: set(),\n 1051: set(),\n 1054: set(),\n 11: {'kaum', 'und', 'wohl'},\n 111: {'Umso', 'je'},\n 112: set(),\n 1126: {'Generation'},\n 1134: {'Sowohl', 'als', 'auch'},\n 1140: {'und'},\n 1162: {'nicht', 'oder'},\n 12: {'noch', 'weder'},\n 1219: set(),\n 122: {'genauso'},\n 123: {'ähnlich'},\n 125: {'es', 'sei', 'wie'},\n 1257: set(),\n 127: {'ein', 'einem', 'von'},\n 128: {'artig'},\n 1289: {'lassen', 'sein'},\n 129: {'Art', 'eine'},\n 1291: {'Wenn'},\n 13: {'Was', 'für'},\n 130: {'wie', 'wäre'},\n 1300: {'So', 'geht'},\n 1301: {'Augenblick', 'Der'},\n 1313: {'Es', 'war', 'zum'},\n 1315: {'Als', 'ob'},\n 1316: {'Raus', 'aus', 'in', 'rein'},\n 132: {'gleicht'},\n 1320: {'lein'},\n 1322: {'chen'},\n 1323: {'pur'},\n 1324: {'satt'},\n 1329: {'jedermanns'},\n 133: {'als', 'ob'},\n 1337: {'i'},\n 1342: {'excellence', 'par'},\n 1346: {'Buche', 'er', 'im', 'steht', 'wie'},\n 1347: {'Tode', 'zu'},\n 135: {'dass', 'so'},\n 1351: {'her', 'hin'},\n 136: {'wenn', 'wie'},\n 139: {'ähnlich'},\n 14: {'Wie'},\n 1459: {',', 'das', 'früher', 'heute', 'ist', 'war', 'was'},\n 1461: {'Das', 'Leben', 'ist', 'kein'},\n 1462: {'Ponyhof', 'ist', 'kein'},\n 15: {'welch'},\n 1503: {'brutal'},\n 1509: {'Arzt', 'bis', 'der', 'kommen', 'musste'},\n 1511: {'her', 'hin'},\n 1514: {'eln'},\n 1517: set(),\n 1521: {'lich'},\n 1524: {'leinchen'},\n 1525: {'Kein', 'für', 'niemand'},\n 1554: {'Reden', 'gold', 'ist', 'silber', 'sind'},\n 1556: {'schlechthin'},\n 1573: {'sich'},\n 1574: {'uns', 'vor'},\n 1582: {'sich'},\n 1593: {'kann'},\n 1594: {'Muster'},\n 1597: {'(', ')'},\n 16: {'Was'},\n 1600: {'(', ')'},\n 1602: {'(', ')'},\n 1621: {'ding'},\n 1624: {'(', ')'},\n 1629: {'Von', 'wegen'},\n 1630: {'Trotz', 'allen', 'zum'},\n 1631: {'Jetzt', 'es', 'heisst'},\n 1634: set(),\n 1636: set(),\n 1637: {'(', ')'},\n 1639: {'(', ')'},\n 1641: {'(', ')'},\n 1643: {'(', ')'},\n 1645: {'(', ')'},\n 1649: {'lecker'},\n 1660: {'ist', 'kram'},\n 1671: {'Inbegriff'},\n 1681: {'Mutter', 'aller', 'die'},\n 1684: {'Standard'},\n 1690: {'keineswegs', 'un'},\n 1715: {'Keine', 'auch', 'eine', 'ist'},\n 1738: {'wie'},\n 1756: {'en', 'ge', 'hättest'},\n 1760: {'So', 'so'},\n 1762: {'als', 'besser'},\n 1770: {'als', 'noch', 'war'},\n 1772: {'Von', 'wegen'},\n 1777: {'Umfang', 'dem', 'in'},\n 1779: {'Entweder', 'nicht', 'oder'},\n 1792: {'ist', 'niemand'},\n 1802: set(),\n 1831: {'so'},\n 1835: {'Kein', 'auch', 'ein', 'ist'},\n 1842: {'ling'},\n 1846: {'ist', 'mit', 'was'},\n 1849: {'und'},\n 1881: {'ist', 'kein'},\n 1884: {'Gold', 'Silber', 'ist'},\n 19: {'Dieses'},\n 1986: {'kaum'},\n 1987: {'sehr'},\n 20: {'Allein'},\n 21: {'Dass'},\n 22: {'So'},\n 317: set(),\n 318: set(),\n 320: {'wohingegen'},\n 349: {'an'},\n 350: {'um'},\n 374: set(),\n 379: {'(', ')'},\n 381: {'er'},\n 392: {'en', 'würdest'},\n 488: {'Am', 'meisten'},\n 492: {'am', 'meisten'},\n 498: {'häufigst'},\n 5: {'erst', 'nicht', 'recht', 'und'},\n 500: {'am', 'sten'},\n 557: {'im'},\n 559: {'bis', 'vor'},\n 563: set(),\n 571: {'et'},\n 572: set(),\n 579: {'(', ')'},\n 581: {'(', ')'},\n 584: {'(', ')'},\n 590: {'(', ')'},\n 592: {'(', ')'},\n 595: {':'},\n 600: {'(', ')'},\n 605: {'Zeit', 'eine', 'es', 'gab'},\n 618: {'ohnegleichen'},\n 620: set(),\n 623: {'st'},\n 626: set(),\n 628: set(),\n 631: {'st'},\n 639: set(),\n 647: {'\"'},\n 65: {'st'},\n 651: {'Mords'},\n 653: {'sau'},\n 654: {'Riesen'},\n 663: set(),\n 671: {'den', 'unter'},\n 674: {'weil'},\n 675: {'gleich'},\n 676: {'gleichkommt'},\n 677: set(),\n 681: {'Weil'},\n 682: set(),\n 683: {'Abstand', 'mit'},\n 69: set(),\n 696: {'en'},\n 697: {'ganz', 'gar', 'und'},\n 74: {'so'},\n 742: set(),\n 756: set(),\n 757: set(),\n 758: {'aller'},\n 762: {'bisschen', 'ein'},\n 768: set(),\n 777: {'ganz', 'gar', 'und'},\n 778: set(),\n 78: {'Solche'},\n 83: {'gegen'},\n 839: set(),\n 840: set(),\n 85: {'über'},\n 858: {'In'},\n 875: {'-', 'das', 'neue'},\n 877: set(),\n 882: {'anstatt'},\n 886: {'(', ')'},\n 889: {'(', ')'},\n 892: set(),\n 900: {'(', ')'},\n 902: {'Keine', 'sondern'},\n 904: {'nicht', 'und'},\n 905: {'(', ')'},\n 907: {'(', ')'},\n 909: {'(', ')'},\n 911: {'(', ')'},\n 917: {'(', ')'},\n 919: {'(', ')'},\n 921: {'(', ')'},\n 923: {'(', ')'},\n 926: set(),\n 949: {'Kein', 'ohne'},\n 97: {'als'},\n 973: {':', 'oder'},\n 976: {'Wo', 'ist', 'sind'},\n 98: {'so'},\n 99: {'er'}}"
     },
     "execution_count": 50,
     "metadata": {},
     "output_type": "execute_result"
    }
   ],
   "source": [
    "with open(\"../../data/pseudowords/annotations.csv\", \"r\") as csv_file:\n",
    "    data = [row for row in csv.DictReader(csv_file)]\n",
    "    \n",
    "kelex_dict = {}\n",
    "for example in data:\n",
    "    kees = set()\n",
    "    for kee in eval(example[\"kees\"]):\n",
    "        kees |= set(kee.split())\n",
    "    kelex_dict[int(example[\"construction_id\"])] = kees\n",
    "\n",
    "kelex_dict"
   ],
   "metadata": {
    "collapsed": false,
    "ExecuteTime": {
     "end_time": "2024-01-02T14:09:53.209264700Z",
     "start_time": "2024-01-02T14:09:52.940455300Z"
    }
   },
   "id": "e24dcbbb3879f23f",
   "execution_count": 50
  },
  {
   "cell_type": "code",
   "outputs": [
    {
     "data": {
      "text/plain": "['\"\"Was13',\n '\"647',\n '\"Wir-äh-spielen-äh-in-der-äh-Champions-League647',\n '(1597',\n '(1600',\n '(1602',\n '(1624',\n '(1637',\n '(1639',\n '(1641',\n '(1643',\n '(1645',\n '(379',\n '(579',\n '(581',\n '(584',\n '(590',\n '(592',\n '(600',\n '(886',\n '(889',\n '(892',\n '(900',\n '(905',\n '(907',\n '(909',\n '(911',\n '(917',\n '(919',\n '(921',\n '(923',\n ')1597',\n ')1600',\n ')1602',\n ')1624',\n ')1637',\n ')1639',\n ')1641',\n ')1643',\n ')1645',\n ')1792',\n ')379',\n ')579',\n ')581',\n ')584',\n ')590',\n ')592',\n ')600',\n ')886',\n ')889',\n ')892',\n ')900',\n ')905',\n ')907',\n ')909',\n ')911',\n ')917',\n ')919',\n ')921',\n ')923',\n ')«579',\n ',1459',\n ',973',\n '-128',\n '-651',\n '-654',\n '-875',\n '-973',\n ':595',\n ':875',\n ':973',\n 'Abstand683',\n 'Allein20',\n 'Aller1630',\n 'Als1315',\n 'Als133',\n 'Als1770',\n 'Am488',\n 'Am492',\n 'Am500',\n 'Amerika605',\n 'Anstatt320',\n 'Art129',\n 'Arzt1509',\n 'Augenblick1301',\n 'Ausmaß1777',\n 'BRUTAL1503',\n 'Besser1762',\n 'Bis559',\n 'Brutal1503',\n 'Buche1346',\n 'Das1313',\n 'Das1461',\n 'Dass21',\n 'Dasselbe104',\n 'Der1301',\n 'Desto111',\n 'Die1681',\n 'Diese19',\n 'Dieser1301',\n 'Dieser19',\n 'Dieses19',\n 'Entweder1779',\n 'Es1313',\n 'Es605',\n 'Gefühl1301',\n 'Generation1126',\n 'Geschweige10',\n 'Gleiche104',\n 'Gold1554',\n 'Gold1884',\n 'Hauptsache1033',\n 'Im557',\n 'In557',\n 'In858',\n 'Inbegriff1671',\n 'Ist1660',\n 'Je111',\n 'Jedermanns1329',\n 'Jener1301',\n 'Jetzt1631',\n 'Kein1525',\n 'Kein1715',\n 'Kein1835',\n 'Kein949',\n 'Keine(r1792',\n 'Keine1525',\n 'Keine1715',\n 'Keine1792',\n 'Keine1835',\n 'Keine902',\n 'Keine949',\n 'Keiner1792',\n 'Leben1461',\n 'Leben605',\n 'Lecker1649',\n 'Maß1777',\n 'Maße1777',\n 'Mit1029',\n 'Mit683',\n 'Moment1301',\n 'Mords651',\n 'Mutter1681',\n 'Neue875',\n 'Nicht1162',\n 'Nicht902',\n 'Niemand1792',\n 'Ponyhof1462',\n 'Raus1316',\n 'Reden1554',\n 'Riesen654',\n 'Silber1554',\n 'Silber1884',\n 'So1300',\n 'So1760',\n 'So1831',\n 'So22',\n 'So74',\n 'So98',\n 'Solch78',\n 'Solche78',\n 'Sowohl1134',\n 'Statt320',\n 'Tode1347',\n 'Trotz1630',\n 'Umfang1777',\n 'Umso111',\n 'Und11',\n 'Und5',\n 'Von1034',\n 'Von1629',\n 'Von1772',\n 'Warum1029',\n 'Was1029',\n 'Was13',\n 'Was16',\n 'Was1846',\n 'Weder12',\n 'Weil674',\n 'Weil681',\n 'Welch15',\n 'Wem1029',\n 'Wenn1291',\n 'Wer1029',\n 'Wie1029',\n 'Wie14',\n 'Wie1738',\n 'Wo1029',\n 'Wo976',\n 'Während320',\n 'Zeit605',\n 'Zeiten605',\n '[1643',\n ']1643',\n 'ab1574',\n 'aber902',\n 'allen1630',\n 'aller1630',\n 'aller1681',\n 'aller758',\n 'als1134',\n 'als133',\n 'als1762',\n 'als1770',\n 'als97',\n 'am488',\n 'am492',\n 'am500',\n 'an349',\n 'anstatt320',\n 'anstatt882',\n 'artig128',\n 'auch1134',\n 'auch1715',\n 'auch1835',\n 'auf1574',\n 'auf350',\n 'aufhübschen1029',\n 'aus1316',\n 'ausbreiten1029',\n 'auslöste1029',\n 'badete1029',\n 'bedeutet1029',\n 'besser1762',\n 'betreffen1029',\n 'bis1509',\n 'bis559',\n 'bisschen762',\n 'bleibt1660',\n 'braucht1029',\n 'bringt1029',\n 'brutal1503',\n 'darstellen1029',\n 'das104',\n 'das1301',\n 'das1459',\n 'das1461',\n 'das875',\n 'dass135',\n 'dasselbe104',\n 'dem1777',\n 'den557',\n 'den671',\n 'denn10',\n 'der1509',\n 'der1681',\n 'der557',\n 'der875',\n 'desto111',\n 'die1681',\n 'die875',\n 'diese605',\n 'dieses19',\n 'durch1574',\n 'ebenso122',\n 'ebenso98',\n 'ein127',\n 'ein1715',\n 'ein1835',\n 'ein762',\n 'einander1574',\n 'eine129',\n 'eine1715',\n 'eine1835',\n 'eine605',\n 'einem127',\n 'einer127',\n 'entweder1779',\n 'er1004',\n 'er1346',\n 'er99',\n 'erst5',\n 'erzeugt1029',\n 'es125',\n 'es1313',\n 'es1346',\n 'es1631',\n 'es605',\n 'euch1574',\n 'excellence1342',\n 'fahre1029',\n 'früher1459',\n 'für13',\n 'für1525',\n 'für350',\n 'gab605',\n 'ganz697',\n 'ganz777',\n 'gar5',\n 'gar697',\n 'gar777',\n 'geben605',\n 'gegeben605',\n 'gegen83',\n 'gehen1029',\n 'geht1300',\n 'genauso122',\n 'genauso98',\n 'geschweige10',\n 'gewesen1459',\n 'gibt605',\n 'gleich100',\n 'gleich675',\n 'gleich676',\n 'gleich98',\n 'gleiche104',\n 'gleichen1777',\n 'gleichkam676',\n 'gleichkommen676',\n 'gleichkommt676',\n 'gleichkäme676',\n 'gleicht132',\n 'gold1554',\n 'habe605',\n 'haben1029',\n 'haben605',\n 'hat605',\n 'hatte605',\n 'heisst1631',\n 'her1351',\n 'her1511',\n 'herunter1574',\n 'heute1459',\n 'hin1351',\n 'hin1511',\n 'hinaus1574',\n 'hindurch1574',\n 'hinunter1574',\n 'hätte1756',\n 'hätten1756',\n 'hättest1756',\n 'im1346',\n 'im1777',\n 'im557',\n 'in1316',\n 'in1777',\n 'in557',\n 'in605',\n 'in858',\n 'irrte1029',\n 'isst1029',\n 'ist1029',\n 'ist125',\n 'ist130',\n 'ist1313',\n 'ist1459',\n 'ist1461',\n 'ist1462',\n 'ist1554',\n 'ist1660',\n 'ist1715',\n 'ist1792',\n 'ist1835',\n 'ist1846',\n 'ist1881',\n 'ist1884',\n 'ist875',\n 'ist976',\n 'je111',\n 'jedermanns1329',\n 'jetzt1631',\n 'kam676',\n 'kann1593',\n 'kaum11',\n 'kaum1986',\n 'kein1461',\n 'kein1462',\n 'kein1525',\n 'kein1690',\n 'kein1715',\n 'kein1881',\n 'kein902',\n 'kein949',\n 'keine1461',\n 'keine1525',\n 'keine1715',\n 'keine1835',\n 'keine1881',\n 'keine605',\n 'keine902',\n 'keine949',\n 'keiner1792',\n 'kleiden1029',\n 'kommen1509',\n 'kommen676',\n 'kommt1509',\n 'kommt676',\n 'kostet1029',\n 'käme676',\n 'lachen1029',\n 'lassen1029',\n 'lassen1289',\n 'lebte1029',\n 'lecker1649',\n 'ließ1289',\n 'lässt1289',\n 'läuft1029',\n 'macht1029',\n 'machte1029',\n 'mag605',\n 'meinem605',\n 'meisten488',\n 'meisten492',\n 'mich1573',\n 'mich1574',\n 'mir1582',\n 'mit1846',\n 'mit683',\n 'mords651',\n 'muss1300',\n 'musste1509',\n 'müssen1029',\n 'neue875',\n 'neuen875',\n 'nicht.“1779',\n 'nicht1162',\n 'nicht1690',\n 'nicht1779',\n 'nicht5',\n 'nicht902',\n 'nicht904',\n 'niemand1525',\n 'niemand1792',\n 'noch12',\n 'noch1770',\n 'nämliche104',\n 'nützt1029',\n 'ob1315',\n 'ob133',\n 'oder1162',\n 'oder1779',\n 'oder973',\n 'ohne1690',\n 'ohne949',\n 'ohnegleichen618',\n 'par1342',\n 'pur.»1323',\n 'pur1323',\n 'pur«1323',\n 'raus1316',\n 'recht5',\n 'redet1029',\n 'rein1316',\n 'ruiniert1029',\n 'satt1324',\n 'schlechthin1556',\n 'schlechthin»1556',\n 'schon5',\n 'schufen1029',\n 'schützt1029',\n 'sehr1987',\n 'sei125',\n 'seien1660',\n 'sein1289',\n 'selben1777',\n 'sich1573',\n 'sich1574',\n 'sich1582',\n 'sie1346',\n 'silber1554',\n 'sind1029',\n 'sind130',\n 'sind1459',\n 'sind1554',\n 'sind1660',\n 'sind1881',\n 'sind875',\n 'sind976',\n 'so1134',\n 'so135',\n 'so1760',\n 'so1831',\n 'so74',\n 'so98',\n 'solch78',\n 'soll605',\n 'sollten1029',\n 'sondergleichen618',\n 'sondergleichen»618',\n 'sondern902',\n 'sowohl1134',\n 'stand1346',\n 'statt320',\n 'statt882',\n 'steht1346',\n 'um350',\n 'umso111',\n 'und1029',\n 'und11',\n 'und1140',\n 'und1849',\n 'und5',\n 'und697',\n 'und777',\n 'und904',\n 'uns1574',\n 'uns1582',\n 'unter671',\n 'verdient1029',\n 'verändern1029',\n 'von1034',\n 'von1035',\n 'von127',\n 'von1629',\n 'von1772',\n 'vor559',\n 'war1313',\n 'war1459',\n 'war1461',\n 'war1462',\n 'war1660',\n 'war1770',\n 'war1846',\n 'war1881',\n 'waren1459',\n 'waren1770',\n 'waren1881',\n 'was1029',\n 'was13',\n 'was1459',\n 'was1846',\n 'weder12',\n 'wegen1629',\n 'wegen1772',\n 'weil674',\n 'weil681',\n 'welch15',\n 'wem1029',\n 'wenig762',\n 'wenigsten488',\n 'wenigsten492',\n 'wenn1291',\n 'wenn136',\n 'werden1029',\n 'wie101',\n 'wie103',\n 'wie125',\n 'wie130',\n 'wie1346',\n 'wie136',\n 'wie1738',\n 'will1029',\n 'wird1029',\n 'wird1660',\n 'wird605',\n 'wissen1029',\n 'wo1029',\n 'wogegen320',\n 'wohingegen320',\n 'wohl11',\n 'wohl1134',\n 'wollen1029',\n 'wäre130',\n 'wäre1660',\n 'wäre1756']"
     },
     "execution_count": 40,
     "metadata": {},
     "output_type": "execute_result"
    }
   ],
   "source": [
    "# cf. evaluate_comapp_bert.ipynb\n",
    "\n",
    "pseudowords = []\n",
    "for i in range(15):\n",
    "    pseudowords.append(np.load(f\"../../data/pseudowords/bert/pseudowords_comapp_bert_{i*37}_{i*37+37}.npy\"))\n",
    "pseudowords = np.concatenate(pseudowords)\n",
    "\n",
    "csv_data = []\n",
    "for i in range(1, 16):\n",
    "    csv_data.append(pd.read_csv(f\"../../data/pseudowords/bert/order_bert_{i}.csv\", sep=\";\", index_col=0, header=None, quotechar=\"|\", names=[\"order\", \"label\"]))\n",
    "csv_data = pd.concat(csv_data)\n",
    "\n",
    "bert_tokens = [d[0] for d in csv_data.values]\n",
    "bert_tokens"
   ],
   "metadata": {
    "collapsed": false,
    "ExecuteTime": {
     "end_time": "2024-01-02T14:00:45.911694600Z",
     "start_time": "2024-01-02T14:00:45.861488600Z"
    }
   },
   "id": "851b7c703fd02695",
   "execution_count": 40
  },
  {
   "cell_type": "code",
   "outputs": [
    {
     "name": "stderr",
     "output_type": "stream",
     "text": [
      "Some weights of the model checkpoint at bert-base-german-cased were not used when initializing BertForMaskedLM: ['cls.seq_relationship.bias', 'bert.pooler.dense.weight', 'cls.seq_relationship.weight', 'bert.pooler.dense.bias']\n",
      "- This IS expected if you are initializing BertForMaskedLM from the checkpoint of a model trained on another task or with another architecture (e.g. initializing a BertForSequenceClassification model from a BertForPreTraining model).\n",
      "- This IS NOT expected if you are initializing BertForMaskedLM from the checkpoint of a model that you expect to be exactly identical (initializing a BertForSequenceClassification model from a BertForSequenceClassification model).\n"
     ]
    },
    {
     "data": {
      "text/plain": "Embedding(30555, 768)"
     },
     "execution_count": 41,
     "metadata": {},
     "output_type": "execute_result"
    }
   ],
   "source": [
    "model = BertForMaskedLM.from_pretrained('bert-base-german-cased', return_dict=True)\n",
    "tokenizer = BertTokenizer.from_pretrained('bert-base-german-cased')\n",
    "\n",
    "combined_embeddings = torch.cat((model.bert.embeddings.word_embeddings.weight, torch.tensor(pseudowords)), dim=0)\n",
    "model.bert.embeddings.word_embeddings = torch.nn.Embedding.from_pretrained(combined_embeddings)\n",
    "model.bert.embeddings.word_embeddings"
   ],
   "metadata": {
    "collapsed": false,
    "ExecuteTime": {
     "end_time": "2024-01-02T14:00:49.644480800Z",
     "start_time": "2024-01-02T14:00:45.910683200Z"
    }
   },
   "id": "419603064ae92a15",
   "execution_count": 41
  },
  {
   "cell_type": "code",
   "outputs": [
    {
     "name": "stderr",
     "output_type": "stream",
     "text": [
      "You are resizing the embedding layer without providing a `pad_to_multiple_of` parameter. This means that the new embedding dimension will be 30555. This might induce some performance reduction as *Tensor Cores* will not be available. For more details about this, or help on choosing the correct value for resizing, refer to this guide: https://docs.nvidia.com/deeplearning/performance/dl-performance-matrix-multiplication/index.html#requirements-tc\n"
     ]
    },
    {
     "data": {
      "text/plain": "Embedding(30555, 768)"
     },
     "execution_count": 42,
     "metadata": {},
     "output_type": "execute_result"
    }
   ],
   "source": [
    "tokenizer.add_tokens(bert_tokens)\n",
    "model.resize_token_embeddings(len(tokenizer))"
   ],
   "metadata": {
    "collapsed": false,
    "ExecuteTime": {
     "end_time": "2024-01-02T14:00:49.671957900Z",
     "start_time": "2024-01-02T14:00:49.643481600Z"
    }
   },
   "id": "cf5cfc3ca11d6215",
   "execution_count": 42
  },
  {
   "cell_type": "markdown",
   "source": [
    "After everything has been prepared, we can create a list of the contextual embeddings for the standard BERT tokens and the pseudoword tokens."
   ],
   "metadata": {
    "collapsed": false
   },
   "id": "185ba1a6dbb81597"
  },
  {
   "cell_type": "code",
   "outputs": [
    {
     "data": {
      "text/plain": "  0%|          | 0/210 [00:00<?, ?it/s]",
      "application/vnd.jupyter.widget-view+json": {
       "version_major": 2,
       "version_minor": 0,
       "model_id": "6526123bf88b48829b9850b87424cf85"
      }
     },
     "metadata": {},
     "output_type": "display_data"
    },
    {
     "name": "stdout",
     "output_type": "stream",
     "text": [
      "st1006\n",
      "würden1029\n",
      "zu1034\n",
      "zu1035\n",
      "ähnlich123\n",
      "zum1313\n",
      "lein1320\n",
      "chen1322\n",
      "i1337\n",
      "zu1347\n",
      "ähnlich139\n",
      "eln1514\n",
      "lich1521\n",
      "leinchen1524\n",
      "vor1574\n",
      "Muster1594\n",
      "ding1621\n",
      "zum1630\n",
      "kram1660\n",
      "Standard1684\n",
      "un1690\n",
      "keineswegs1690\n",
      "en1756\n",
      "ge1756\n",
      "ling1842\n",
      "er381\n",
      "en392\n",
      "würdest392\n",
      "häufigst498\n",
      "sten500\n",
      "et571\n",
      "st623\n",
      "st631\n",
      "st65\n",
      "sau653\n",
      "en696\n",
      "über85\n"
     ]
    },
    {
     "data": {
      "text/plain": "dict_keys([(10, 'geschweige'), (10, 'denn'), (100, 'gleich'), (1004, 'er'), (101, 'wie'), (1029, 'wem'), (1029, 'Mit'), (103, 'wie'), (1033, 'Hauptsache'), (1034, 'Von'), (1035, 'von'), (104, 'nämliche'), (104, 'das'), (11, 'kaum'), (11, 'wohl'), (11, 'und'), (111, 'Umso'), (111, 'je'), (1126, 'Generation'), (1134, 'Sowohl'), (1134, 'als'), (1134, 'auch'), (1140, 'und'), (1162, 'oder'), (1162, 'nicht'), (12, 'noch'), (12, 'weder'), (122, 'genauso'), (125, 'es'), (125, 'sei'), (125, 'wie'), (127, 'einem'), (127, 'von'), (127, 'ein'), (128, 'artig'), (1289, 'sein'), (1289, 'lassen'), (129, 'Art'), (129, 'eine'), (1291, 'Wenn'), (13, 'Was'), (13, 'für'), (130, 'wäre'), (130, 'wie'), (1300, 'So'), (1300, 'geht'), (1301, 'Augenblick'), (1301, 'Der'), (1313, 'war'), (1313, 'Es'), (1315, 'ob'), (1315, 'Als'), (1316, 'rein'), (1316, 'in'), (1316, 'Raus'), (1316, 'aus'), (132, 'gleicht'), (1323, 'pur'), (1324, 'satt'), (1329, 'jedermanns'), (133, 'ob'), (133, 'als'), (1342, 'excellence'), (1342, 'par'), (1346, 'Buche'), (1346, 'im'), (1346, 'er'), (1346, 'wie'), (1346, 'steht'), (1347, 'Tode'), (135, 'dass'), (135, 'so'), (1351, 'hin'), (1351, 'her'), (136, 'wenn'), (136, 'wie'), (14, 'Wie'), (1459, 'war'), (1459, 'was'), (1459, ','), (1459, 'ist'), (1459, 'das'), (1459, 'heute'), (1459, 'früher'), (1461, 'Leben'), (1461, 'ist'), (1461, 'Das'), (1461, 'kein'), (1462, 'kein'), (1462, 'ist'), (1462, 'Ponyhof'), (15, 'welch'), (1503, 'brutal'), (1509, 'bis'), (1509, 'musste'), (1509, 'Arzt'), (1509, 'der'), (1509, 'kommen'), (1511, 'hin'), (1511, 'her'), (1525, 'für'), (1525, 'niemand'), (1525, 'Kein'), (1554, 'Reden'), (1554, 'ist'), (1554, 'gold'), (1554, 'sind'), (1554, 'silber'), (1556, 'schlechthin'), (1573, 'sich'), (1574, 'uns'), (1582, 'sich'), (1593, 'kann'), (1597, ')'), (1597, '('), (16, 'Was'), (1600, ')'), (1600, '('), (1602, ')'), (1602, '('), (1624, ')'), (1624, '('), (1629, 'Von'), (1629, 'wegen'), (1630, 'Trotz'), (1630, 'allen'), (1631, 'heisst'), (1631, 'es'), (1631, 'Jetzt'), (1637, ')'), (1637, '('), (1639, ')'), (1639, '('), (1641, ')'), (1641, '('), (1643, ')'), (1643, '('), (1645, ')'), (1645, '('), (1649, 'lecker'), (1660, 'ist'), (1671, 'Inbegriff'), (1681, 'aller'), (1681, 'Mutter'), (1681, 'die'), (1715, 'Keine'), (1715, 'ist'), (1715, 'eine'), (1715, 'auch'), (1738, 'wie'), (1756, 'hättest'), (1760, 'So'), (1760, 'so'), (1762, 'als'), (1762, 'besser'), (1770, 'noch'), (1770, 'als'), (1770, 'war'), (1772, 'Von'), (1772, 'wegen'), (1777, 'dem'), (1777, 'Umfang'), (1777, 'in'), (1779, 'oder'), (1779, 'nicht'), (1779, 'Entweder'), (1792, 'ist'), (1792, 'niemand'), (1831, 'so'), (1835, 'ist'), (1835, 'Kein'), (1835, 'auch'), (1835, 'ein'), (1846, 'was'), (1846, 'ist'), (1846, 'mit'), (1849, 'und'), (1881, 'kein'), (1881, 'ist'), (1884, 'Gold'), (1884, 'ist'), (1884, 'Silber'), (19, 'Dieses'), (1986, 'kaum'), (1987, 'sehr'), (20, 'Allein'), (21, 'Dass'), (22, 'So'), (320, 'wohingegen'), (349, 'an'), (350, 'um'), (379, ')'), (379, '('), (488, 'meisten'), (488, 'Am'), (492, 'meisten'), (492, 'am'), (5, 'recht'), (5, 'nicht'), (5, 'und'), (5, 'erst'), (500, 'am'), (557, 'im'), (559, 'vor'), (559, 'bis'), (579, ')'), (579, '('), (581, ')'), (581, '('), (584, ')'), (584, '('), (590, ')'), (590, '('), (592, ')'), (592, '('), (595, ':'), (600, ')'), (600, '('), (605, 'es'), (605, 'Zeit'), (605, 'gab'), (605, 'eine'), (618, 'ohnegleichen'), (647, '\"'), (651, 'Mords'), (654, 'Riesen'), (671, 'den'), (671, 'unter'), (674, 'weil'), (675, 'gleich'), (676, 'gleichkommt'), (681, 'Weil'), (683, 'Abstand'), (683, 'mit'), (697, 'gar'), (697, 'ganz'), (697, 'und'), (74, 'so'), (758, 'aller'), (762, 'bisschen'), (762, 'ein'), (777, 'gar'), (777, 'ganz'), (777, 'und'), (78, 'Solche'), (83, 'gegen'), (858, 'In'), (875, 'neue'), (875, 'das'), (875, '-'), (882, 'anstatt'), (886, ')'), (886, '('), (889, ')'), (889, '('), (900, ')'), (900, '('), (902, 'Keine'), (902, 'sondern'), (904, 'nicht'), (904, 'und'), (905, ')'), (905, '('), (907, ')'), (907, '('), (909, ')'), (909, '('), (911, ')'), (911, '('), (917, ')'), (917, '('), (919, ')'), (919, '('), (921, ')'), (921, '('), (923, ')'), (923, '('), (949, 'Kein'), (949, 'ohne'), (97, 'als'), (973, 'oder'), (973, ':'), (976, 'ist'), (976, 'sind'), (976, 'Wo'), (98, 'so'), (99, 'er')])"
     },
     "execution_count": 61,
     "metadata": {},
     "output_type": "execute_result"
    }
   ],
   "source": [
    "contextual_embeds = {}\n",
    "\n",
    "for constr, kelexes in tqdm(kelex_dict.items()):\n",
    "    for kelex in kelexes:\n",
    "        if kelex + str(constr) in bert_tokens:\n",
    "            original_ids = tokenizer(kelex, return_tensors='pt')['input_ids']\n",
    "            pseudoword_ids = tokenizer(kelex + str(constr), return_tensors='pt')['input_ids']\n",
    "            with torch.no_grad():\n",
    "                original_outputs = model(original_ids, output_hidden_states=True)\n",
    "                pseudoword_outputs = model(pseudoword_ids, output_hidden_states=True)\n",
    "            original_contextual_embed = original_outputs.hidden_states[12][0][1:-1]\n",
    "            pseudoword_contextual_embed = pseudoword_outputs.hidden_states[12][0][1:-1]\n",
    "            contextual_embeds[constr, kelex] = (original_contextual_embed, pseudoword_contextual_embed)\n",
    "        else:\n",
    "            print(kelex + str(constr))\n",
    "\n",
    "contextual_embeds.keys()"
   ],
   "metadata": {
    "collapsed": false,
    "ExecuteTime": {
     "end_time": "2024-01-02T14:25:54.326769900Z",
     "start_time": "2024-01-02T14:25:31.144046100Z"
    }
   },
   "id": "710eba094aee385c",
   "execution_count": 61
  },
  {
   "cell_type": "code",
   "outputs": [
    {
     "data": {
      "text/plain": "(tensor([[-0.1567, -0.2954,  1.1641,  ..., -0.5217,  0.1245, -0.9498],\n         [-0.2695, -0.1156,  0.7473,  ...,  0.0997, -0.4645, -0.5735]]),\n tensor([[-5.9337e-01,  1.8925e-01,  8.8151e-01,  7.6941e-01, -1.0799e-01,\n          -5.4874e-02, -1.1751e+00, -7.0002e-01, -1.0662e-01,  3.7848e-01,\n          -2.2536e-01,  4.8179e-01,  4.9365e-01, -5.8546e-01,  1.5485e-01,\n           3.4184e-01,  2.3076e-01, -8.4451e-02, -1.3702e-01, -1.7958e-01,\n          -3.6692e-01, -5.9974e-01, -2.9299e-01, -2.8951e-01, -1.0670e+00,\n           2.8323e-01, -8.1848e-01, -8.2333e-01,  2.2542e-01,  1.1402e-01,\n           9.8367e-01, -3.2775e-01, -1.6153e-02,  4.4972e-01, -4.7634e-01,\n           3.5021e-01,  4.6307e-01,  8.4411e-02,  9.5915e-01, -8.9424e-01,\n           8.2238e-01,  4.6471e-01, -1.5551e-01, -2.2514e-01,  8.2434e-01,\n           2.2404e-01, -6.1623e-01,  4.6392e-01, -2.3587e-02,  4.7538e-01,\n          -9.8099e-01,  2.8590e-01,  4.8032e-01, -2.5809e-01, -1.6818e-01,\n           4.9187e-01, -3.0922e-01, -2.1858e-01,  7.8022e-01, -9.3906e-01,\n           2.2043e-01, -4.3398e-01,  5.4819e-01,  6.1383e-01, -1.0128e+00,\n           3.7289e-01,  3.7948e-01, -4.9096e-01, -1.0976e+00, -2.2375e-02,\n          -8.9166e-03, -7.5945e-02, -1.5136e+00,  7.3544e-02,  1.2090e-01,\n           2.0943e-01, -1.5084e-01, -3.6502e-01, -1.1762e+00,  5.7465e-01,\n           3.6008e-02, -2.7726e-01, -4.2338e-01, -1.1426e-01, -1.2132e+00,\n          -1.2050e-01,  1.8004e-02, -8.9500e-01, -2.8445e-02, -5.9571e-01,\n          -1.3774e-01, -1.2302e+00, -4.2697e-01,  3.2845e-01,  3.8475e-01,\n          -4.2210e-01, -6.7516e-01,  3.1697e-01,  2.1408e-01,  1.8813e-01,\n          -9.3751e-01, -2.1897e-01, -1.5693e-01, -1.8635e-01,  1.4081e+00,\n           3.6243e-01, -2.4626e-01,  1.1575e+00,  3.6554e-01, -8.5193e-01,\n          -9.4602e-01,  7.9004e-02,  1.9920e-01,  9.5636e-01,  1.5133e-01,\n           2.4743e-01, -7.3509e-02, -7.1963e-01,  4.6676e-01, -2.0845e-01,\n           6.9859e-01, -9.9897e-02,  5.2897e-01,  4.6574e-01, -8.1786e-03,\n           2.6049e-01,  7.9015e-02, -1.2088e+00,  2.8721e-01, -8.4973e-01,\n          -2.6882e-01, -3.4801e-01, -3.3640e-01, -4.4912e-01, -8.2942e-01,\n           3.6677e-01,  6.3148e-01, -4.0554e-01,  2.9154e-01, -1.4447e-02,\n           2.7107e-02, -5.9950e-01, -3.5153e-01,  1.5824e-01,  5.7044e-02,\n           7.8210e-01,  1.3652e-01, -7.0445e-01,  3.5560e-01,  6.4645e-01,\n          -1.0217e+00, -5.8322e-01, -4.4984e-01,  2.2737e-01,  1.2386e+00,\n           2.3921e-01, -3.2685e-01, -3.0819e-02, -4.8991e-01,  7.4911e-02,\n           3.9571e-01,  4.7448e-01,  5.6871e-01, -5.7162e-01,  1.7124e-01,\n          -8.3078e-02,  2.8854e-01, -1.0876e-01, -2.9817e-01,  3.8126e-01,\n          -5.7018e-01,  9.9338e-01, -6.2787e-01,  6.0593e-01, -2.2777e-02,\n          -1.4910e-01,  5.3761e-02,  3.5724e-01,  2.1295e+00, -6.8110e-01,\n          -2.9968e-01, -1.3882e+00, -6.0457e-02, -2.6636e-01,  1.2492e-01,\n          -4.5726e-01, -1.0945e+00,  9.4949e-02,  6.0824e-01,  1.7486e-01,\n          -5.0578e-01, -1.1241e+00,  8.5012e-01,  4.3728e-01, -1.8965e-01,\n          -3.3192e-02, -3.3354e-03, -3.1960e-01, -1.7141e+00,  3.4913e-01,\n          -8.9366e-02,  5.9826e-01,  8.9921e-01, -1.4538e-01,  8.1618e-01,\n           3.3478e-02, -7.8235e-01, -2.5643e-01, -7.6780e-01, -1.1206e+00,\n          -1.0514e+00, -2.1527e-01,  8.9073e-01, -9.0138e-01, -2.8484e-01,\n          -2.8631e-01, -4.6651e-02, -3.9825e-01, -8.8852e-04,  4.1442e-01,\n          -4.0478e-01,  8.1476e-01, -3.2538e-01,  7.3077e-02,  2.4064e-01,\n           8.1525e-01, -7.6364e-01, -8.5782e-01,  4.4362e-01,  4.0925e-01,\n           8.8974e-02, -6.4356e-01,  4.2022e-01, -3.4034e-01, -1.1698e-01,\n          -1.2032e-01,  1.9363e-01, -5.4612e-01,  8.3165e-01, -1.0051e+00,\n           2.3215e-01, -2.5853e-01,  3.2480e-01, -1.6757e-01,  7.5805e-01,\n           8.5651e-02,  6.6516e-01, -7.0333e-01,  1.3989e-01, -5.1393e-01,\n           1.6186e-02, -6.4724e-01,  8.0048e-01, -3.9571e-01,  4.4974e-01,\n           1.8317e-01, -5.7666e-01,  4.0178e-01, -6.3536e-02, -5.7692e-01,\n           3.0468e-02, -1.0275e+00, -3.9905e-01,  5.0795e-02,  3.4344e-01,\n           4.9012e-01, -1.1707e+00, -1.5324e-01, -1.2111e+00,  3.5588e-01,\n          -4.0304e-01, -3.4913e-01, -5.3791e-01,  6.1928e-02,  6.7610e-02,\n          -1.7188e-01,  2.0171e-02, -1.6247e-01,  8.7638e-02,  6.5883e-01,\n          -3.0752e-01,  1.0569e-01, -5.7579e-01, -3.4920e-01,  8.3945e-01,\n          -1.2029e-01, -3.6153e-01, -1.8788e-01,  3.8516e-01, -1.3845e-01,\n           4.0377e-01,  6.5635e-01,  1.5986e-01, -9.6944e-02, -5.1790e-01,\n           8.6940e-01, -1.0669e-01, -7.5189e-01, -3.1966e-01,  5.5383e-01,\n           5.0265e-01, -6.0007e-01,  8.4771e-02,  4.9764e-01,  1.0094e-01,\n          -5.1524e-02, -2.8435e-01,  7.1337e-01,  5.9957e-02, -1.5684e-01,\n          -1.0486e+00,  3.2095e-01, -9.2449e-01, -2.1990e-01,  3.8550e-02,\n           4.5887e-01, -5.2727e-02,  8.4331e-01,  5.9398e-01, -7.5750e-01,\n          -1.6285e+00,  8.2544e-01, -4.2629e-01, -6.7824e-01, -8.8428e-01,\n           3.0969e-01, -1.2001e+00, -3.7366e-01,  1.1412e+00, -3.3581e-01,\n           4.0620e-01, -3.2359e-01,  1.4325e-01,  5.4727e-01, -2.5283e-01,\n           4.4992e-01,  6.9063e-01,  4.5957e-01, -1.7816e-01, -1.0509e+00,\n          -1.0646e-02, -1.3381e+00, -5.2344e-01,  1.5140e-01,  4.6089e-01,\n          -9.7477e-02, -5.4186e-01,  6.1164e-01, -4.0121e-01, -5.8672e-02,\n           5.1117e-01,  2.9858e-01, -5.0909e-01, -4.0572e-01,  8.1338e-02,\n          -7.4369e-01, -3.0824e-01, -5.2488e-02, -1.1811e+00, -3.1639e-01,\n           5.6824e-02,  9.7214e-02, -2.7734e-01, -3.0977e-03, -5.2199e-01,\n          -3.3101e-03, -7.6350e-01,  1.6464e-01, -7.1812e-01,  3.3758e-01,\n          -2.1347e-01,  6.5619e-02, -2.8953e-01, -2.8788e-01,  7.4688e-02,\n          -1.7470e-01,  5.9131e-01,  8.1388e-01,  5.4038e-01, -2.6694e-02,\n          -5.0252e-01,  3.7967e-01,  5.8125e-01, -2.1664e-01, -4.8822e-01,\n          -1.0417e-01, -8.9912e-02, -1.6727e-01, -5.8544e-01, -5.5530e-01,\n          -1.3003e-01, -5.3505e-01,  8.3813e-02, -4.9289e-01, -5.9883e-01,\n           4.8788e-01,  1.2959e+00,  5.0156e-01, -1.3307e-01,  7.3024e-01,\n           4.1437e-01,  3.2204e-01,  1.9667e-01,  5.7877e-01, -3.5515e-01,\n          -2.7297e-01, -3.8503e-01, -7.8219e-01,  4.1422e-01, -5.6362e-01,\n          -2.6246e-01,  1.0369e-01,  1.2683e-01,  2.5396e-01, -3.3957e-01,\n           3.5721e-01,  4.1134e-01,  9.4351e-02,  7.1504e-01,  1.1353e-01,\n           8.7039e-03, -4.0866e-01, -9.9149e-02, -3.3981e-01, -7.2400e-01,\n          -2.4974e-01, -7.1124e-01,  1.4137e-01,  5.9237e-01, -3.4822e-01,\n          -3.6530e-01,  6.7532e-01,  5.9029e-01,  1.4997e-01,  1.2283e-02,\n           4.7353e-01, -1.6097e-03,  9.5271e-02,  1.2667e+00,  5.0407e-01,\n           5.6029e-01,  3.9364e-01,  1.8684e-01,  7.3477e-01,  2.6806e-01,\n          -6.6718e-01, -6.0434e-03, -2.9296e-01, -4.4245e-01,  7.4993e-01,\n           7.5623e-01,  1.2828e+00, -7.0118e-01, -3.0289e-01, -1.8245e-01,\n           1.6663e-03, -2.5939e-01,  7.3035e-01, -3.4439e-01, -3.6545e-01,\n          -4.5349e-01,  1.2712e-01,  1.0143e-01, -1.3811e-01,  4.4315e-01,\n          -5.9013e-01, -2.9894e-01, -1.6592e-01, -2.4264e-01, -7.6756e-01,\n           7.4701e-01,  4.3630e-01, -9.8380e-02, -4.7502e-01,  8.7842e-02,\n           8.6498e-01,  5.2957e-01,  9.3667e-02,  1.8069e-02, -9.2946e-01,\n           6.6038e-01, -7.0195e-01,  3.9515e-02, -4.2199e-01,  4.7890e-01,\n           1.9831e-01,  2.3906e-01,  1.3981e-01,  4.3487e-02, -8.0680e-01,\n          -1.4037e-01,  7.4668e-01,  1.0818e+00, -8.2976e-01, -9.3962e-01,\n           1.7862e-01,  3.9605e-01,  7.2949e-03,  1.1327e+00, -1.4441e-01,\n           8.8674e-02,  2.3101e-01,  1.2693e-01, -4.3397e-01,  4.3502e-01,\n          -8.9690e-02, -4.9671e-01, -5.7331e-01,  1.0279e-01, -6.6818e-01,\n           3.0491e-01, -1.7482e-01, -3.1352e-01,  8.1809e-01, -2.8073e-01,\n           3.6171e-02,  3.5264e-01, -6.9579e-01,  9.2029e-02,  7.1913e-03,\n          -8.4059e-01,  3.4331e-01,  2.3196e-01,  3.9174e-01,  7.6929e-01,\n          -2.1086e-01,  6.4109e-01,  8.4263e-01, -5.5859e-01, -4.7403e-01,\n           8.5694e-01,  8.4480e-01,  4.2182e-01, -2.7799e-01,  4.2308e-01,\n           1.2770e+00, -6.5948e-01, -8.4136e-01,  2.9594e-01, -2.7423e-01,\n          -1.1681e+00, -2.4293e-01, -4.1408e-01, -1.7367e-01, -1.2630e-01,\n          -8.0785e-01,  3.2958e-01,  6.6189e-01, -7.2004e-01, -1.5052e+00,\n           1.9441e-01, -6.2139e-01, -3.4523e-01, -1.8533e-01,  1.3615e+00,\n          -6.6062e-01, -1.3262e-03, -9.2366e-01, -1.3758e-01,  7.6073e-01,\n           7.1914e-01,  1.9552e-01, -8.2923e-01, -8.9717e-03, -3.5660e-01,\n           1.1936e+00, -6.5369e-01,  4.7962e-01,  2.6563e-01,  4.2624e-01,\n          -9.6838e-02, -7.8826e-01, -6.0936e-01, -2.7901e-01, -2.5071e-01,\n           2.2417e-02, -5.4845e-01, -9.6783e-01, -7.1951e-01, -9.2180e-02,\n          -3.4397e-01, -3.9222e-01,  8.2027e-01,  3.7486e-01,  5.0801e-01,\n           1.0126e-01,  4.6442e-01, -6.5013e-01, -3.5689e-01,  5.1706e-01,\n           1.9609e-01, -5.7574e-02,  3.6796e-01, -6.0013e-01,  3.4363e-01,\n          -4.0917e-01,  2.2649e-01, -4.1680e-01, -5.4775e-01, -1.1377e-01,\n           8.6229e-01, -1.3225e-01,  3.3116e-01,  6.0891e-01,  2.8036e-01,\n          -4.8297e-01, -1.3687e+00,  3.7935e-01, -2.0503e-01,  5.7737e-02,\n          -2.1926e-01,  2.6170e-01, -6.9667e-01, -1.1243e+00, -1.5489e-01,\n          -5.6460e-01, -2.9055e-01, -6.3390e-01,  8.2411e-01, -4.6756e-02,\n          -6.0242e-01,  1.7648e-01,  6.7669e-01,  1.6876e-01,  3.5049e-01,\n           1.0600e-01,  7.2982e-01,  4.0130e-01,  5.8142e-01,  3.9273e-01,\n           7.5821e-01, -1.0133e+00,  4.4532e-02,  5.0341e-01,  3.6993e-01,\n           1.5224e+01,  3.6583e-01,  7.1248e-02, -2.6409e-01,  7.0888e-01,\n           7.4276e-01,  7.6124e-01, -6.0629e-01,  3.8633e-01,  1.5290e-02,\n           1.7076e-01, -7.1894e-01,  1.9277e-01,  5.3040e-01, -8.3635e-03,\n           2.1696e-01, -3.3066e-01, -7.0073e-01,  5.3845e-01,  9.9956e-01,\n           8.3462e-01, -3.1332e-01,  5.1215e-01,  3.9710e-01,  5.2235e-01,\n           3.5323e-01, -1.3333e-02, -4.8045e-01,  5.2027e-01, -9.7945e-01,\n          -1.7871e+00, -6.7163e-01,  5.8745e-01, -1.1479e+00,  6.9230e-01,\n           3.5896e-01, -4.0830e-01, -3.1013e-01, -3.8601e-01, -2.9722e-01,\n          -5.3416e-02, -7.4913e-01,  9.2580e-01,  3.4297e-01,  5.0704e-02,\n          -4.8764e-01,  4.3023e-01,  2.2164e-01, -2.8014e-01, -5.6527e-02,\n          -7.2142e-01, -5.8168e-01,  5.7667e-01, -2.3378e-01,  5.2448e-01,\n          -1.0128e-01,  3.7204e-01, -1.0184e+00, -8.3595e-01,  6.1816e-01,\n          -5.6140e-01,  5.7716e-01,  9.8966e-02, -1.4001e-01,  1.0960e-01,\n          -1.2944e+00, -1.4532e-01, -3.3647e-01,  1.4727e+00, -4.6387e-01,\n          -1.5683e-01, -3.6060e-01, -1.0063e-01, -7.6082e-01,  1.0248e+00,\n          -5.2043e-01,  3.7602e-01,  1.1100e+00,  4.0829e-01,  2.9000e-01,\n           6.9899e-02,  6.3267e-01, -1.2496e-01, -2.9233e-01, -5.5601e-01,\n           7.0533e-01,  1.4821e-01, -4.1255e-01, -4.3124e-01,  9.3806e-02,\n           2.1972e+00, -4.6145e-01, -7.6729e-01,  4.7936e-03,  5.9119e-01,\n          -1.1687e-01,  8.5661e-01, -6.2849e-01,  6.3257e-01,  1.3599e+00,\n          -1.6794e-02,  1.0405e+00,  4.1156e-01, -1.4475e+00, -4.1889e-01,\n           6.6942e-01,  1.0971e-01, -2.9211e-01,  5.6318e-01,  2.5241e-01,\n           2.2793e-01, -4.1485e-01, -3.6546e-01,  5.0917e-01, -1.3826e-01,\n          -5.6210e-01, -7.4290e-01,  5.5090e-01,  5.1763e-01,  4.2788e-01,\n           1.4124e+00,  1.2565e+00, -2.3523e-01, -4.0675e-02,  1.3855e-01,\n           3.3233e-01,  1.2718e+00,  6.2038e-01,  1.5430e-01,  2.4454e-01,\n          -2.3608e-03, -7.6283e-01, -1.2250e+00]]))"
     },
     "execution_count": 62,
     "metadata": {},
     "output_type": "execute_result"
    }
   ],
   "source": [
    "contextual_embeds[10, \"geschweige\"]"
   ],
   "metadata": {
    "collapsed": false,
    "ExecuteTime": {
     "end_time": "2024-01-02T14:27:15.207314600Z",
     "start_time": "2024-01-02T14:27:15.194982Z"
    }
   },
   "id": "e667595f81687afe",
   "execution_count": 62
  },
  {
   "cell_type": "markdown",
   "source": [
    "Now we can compare the distance of the pseudowords to a sentence with the distance of the original token(s) to the same sentence. Since one pseudoword token can be equivalent to multiple original tokens, we need to take the average distance from all original tokens to compare this average distance to the distance of the pseudoword token."
   ],
   "metadata": {
    "collapsed": false
   },
   "id": "4f3dcb1fd1bb88c8"
  },
  {
   "cell_type": "code",
   "outputs": [],
   "source": [
    "# TODO"
   ],
   "metadata": {
    "collapsed": false
   },
   "id": "36f0de68c5e5b325"
  }
 ],
 "metadata": {
  "kernelspec": {
   "display_name": "Python 3",
   "language": "python",
   "name": "python3"
  },
  "language_info": {
   "codemirror_mode": {
    "name": "ipython",
    "version": 2
   },
   "file_extension": ".py",
   "mimetype": "text/x-python",
   "name": "python",
   "nbconvert_exporter": "python",
   "pygments_lexer": "ipython2",
   "version": "2.7.6"
  }
 },
 "nbformat": 4,
 "nbformat_minor": 5
}
