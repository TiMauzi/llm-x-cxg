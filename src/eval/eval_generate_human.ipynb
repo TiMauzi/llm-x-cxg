{
 "cells": [
  {
   "cell_type": "code",
   "execution_count": 29,
   "id": "initial_id",
   "metadata": {
    "collapsed": true,
    "ExecuteTime": {
     "end_time": "2024-02-03T22:52:23.939191300Z",
     "start_time": "2024-02-03T22:52:23.918412900Z"
    }
   },
   "outputs": [],
   "source": [
    "import pandas as pd\n",
    "from transformers import BertTokenizer"
   ]
  },
  {
   "cell_type": "code",
   "outputs": [],
   "source": [
    "llama_data = {}\n",
    "for i in range(5):\n",
    "    llama_data[i] = pd.read_csv(f\"data/{i}_shot_data.tsv\", sep=\"\\t\", decimal=\",\", index_col=0)\n",
    "    llama_data[i][\"num_unique\"] = llama_data[i].apply(lambda row: int(row[\"num_generated\"] * row[\"unique_generated\"]), axis=1)"
   ],
   "metadata": {
    "collapsed": false,
    "ExecuteTime": {
     "end_time": "2024-02-03T22:52:24.072984500Z",
     "start_time": "2024-02-03T22:52:23.944891800Z"
    }
   },
   "id": "b0e97ccf9346d86f",
   "execution_count": 30
  },
  {
   "cell_type": "code",
   "outputs": [],
   "source": [
    "mbart_data = pd.read_csv(\"data/data_mbart_complete2.tsv\", sep=\"\\t\", index_col=0)\n",
    "mbart_vanilla_data = pd.read_csv(\"data/data_mbart_vanilla_complete2.tsv\", sep=\"\\t\", index_col=0)"
   ],
   "metadata": {
    "collapsed": false,
    "ExecuteTime": {
     "end_time": "2024-02-03T22:52:24.111093900Z",
     "start_time": "2024-02-03T22:52:24.035435500Z"
    }
   },
   "id": "856819a782daf7a8",
   "execution_count": 31
  },
  {
   "cell_type": "code",
   "outputs": [],
   "source": [
    "bsbbert_data = pd.read_csv(\"data/data_bsbbert_complete.tsv\", sep=\"\\t\", index_col=0)"
   ],
   "metadata": {
    "collapsed": false,
    "ExecuteTime": {
     "end_time": "2024-02-03T22:52:24.575426900Z",
     "start_time": "2024-02-03T22:52:24.113105700Z"
    }
   },
   "id": "b6a64c2938723a99",
   "execution_count": 32
  },
  {
   "cell_type": "code",
   "outputs": [
    {
     "data": {
      "text/plain": "     construction  pseudoword  \\\n0               5        Und5   \n1               5       erst5   \n2               5        gar5   \n3               5      nicht5   \n4               5      recht5   \n..            ...         ...   \n576          1884    Gold1884   \n577          1884  Silber1884   \n578          1884     ist1884   \n579          1986    kaum1986   \n580          1987    sehr1987   \n\n                                               example  \\\n0    ['Und schon gar nicht mit der Mehrwertsteuer ....   \n1    ['Trainer Lucien Favre hatte schon seine beide...   \n2    ['Es hat Afghanistan nicht stabilisiert und sc...   \n3    ['Es hat Afghanistan nicht stabilisiert und sc...   \n4    ['Trainer Lucien Favre hatte schon seine beide...   \n..                                                 ...   \n576  ['Schweigen ist Silber , reden ist Gold .', 'S...   \n577  ['Schweigen ist Silber , reden ist Gold .', 'S...   \n578  ['Schweigen ist Silber , reden ist Gold .', 'S...   \n579  ['Die Vorhut vor 20.000 Jahren war für das Rie...   \n580  ['Solche Menschen können sich sehr wohlfühlen ...   \n\n                                             generated  \\\n0    [['[CLS]', 'Und5', 'schon', 'gar', 'nicht', 'b...   \n1    [['[CLS]', 'Trainer', 'Luc', '##ien', 'Fa', '#...   \n2    [['[CLS]', 'Das', 'hat', 'Afghanistan', 'nicht...   \n3                          [\"'[MASK]' is not in list\"]   \n4    [['[CLS]', 'Trainer', 'Luc', '##ien', 'Fa', '#...   \n..                                                 ...   \n576  [['[CLS]', 'Reden', 'ist', 'Silber', ',', 'red...   \n577  [['[CLS]', 'Reden', 'ist', 'Silber1884', ',', ...   \n578  [['[CLS]', 'Reden', 'ist1884', 'Silber', ',', ...   \n579  [['[CLS]', 'Die', 'Vor', '##hut', 'vor', '20',...   \n580  [['[CLS]', 'Die', 'Menschen', 'können', 'sich'...   \n\n                                                 score  \\\n0    [14.645186424255371, 15.811990737915039, 9.996...   \n1    [15.751483917236328, 11.782296180725098, 9.956...   \n2    [11.360899925231934, 14.937478065490723, 15.68...   \n3                                               [-1.0]   \n4    [15.844961166381836, 11.985773086547852, 10.04...   \n..                                                 ...   \n576  [11.769918441772461, 10.454679489135742, 15.89...   \n577  [12.572469711303711, 9.817983627319336, 14.939...   \n578  [14.046998977661133, 12.147357940673828, 13.26...   \n579  [14.439410209655762, 13.822213172912598, 18.17...   \n580  [12.599824905395508, 12.78843879699707, 16.473...   \n\n                                            definition  \n0    Die \"Negation:NEG_Xund_schon_gar_nichtY-Konstr...  \n1    Die \"Negation:NEG_Xund_schon_gar_nichtY-Konstr...  \n2    Die \"Negation:NEG_Xund_schon_gar_nichtY-Konstr...  \n3    Die \"Negation:NEG_Xund_schon_gar_nichtY-Konstr...  \n4    Die \"Negation:NEG_Xund_schon_gar_nichtY-Konstr...  \n..                                                 ...  \n576  Die \"Intensivierung_Komparativ:Xist_SilberYist...  \n577  Die \"Intensivierung_Komparativ:Xist_SilberYist...  \n578  Die \"Intensivierung_Komparativ:Xist_SilberYist...  \n579  Die Konstruktion \"Relativierung:kaumADJ\" gehör...  \n580  Die Konstruktion \"Intensivierung:sehrV\" gehört...  \n\n[581 rows x 6 columns]",
      "text/html": "<div>\n<style scoped>\n    .dataframe tbody tr th:only-of-type {\n        vertical-align: middle;\n    }\n\n    .dataframe tbody tr th {\n        vertical-align: top;\n    }\n\n    .dataframe thead th {\n        text-align: right;\n    }\n</style>\n<table border=\"1\" class=\"dataframe\">\n  <thead>\n    <tr style=\"text-align: right;\">\n      <th></th>\n      <th>construction</th>\n      <th>pseudoword</th>\n      <th>example</th>\n      <th>generated</th>\n      <th>score</th>\n      <th>definition</th>\n    </tr>\n  </thead>\n  <tbody>\n    <tr>\n      <th>0</th>\n      <td>5</td>\n      <td>Und5</td>\n      <td>['Und schon gar nicht mit der Mehrwertsteuer ....</td>\n      <td>[['[CLS]', 'Und5', 'schon', 'gar', 'nicht', 'b...</td>\n      <td>[14.645186424255371, 15.811990737915039, 9.996...</td>\n      <td>Die \"Negation:NEG_Xund_schon_gar_nichtY-Konstr...</td>\n    </tr>\n    <tr>\n      <th>1</th>\n      <td>5</td>\n      <td>erst5</td>\n      <td>['Trainer Lucien Favre hatte schon seine beide...</td>\n      <td>[['[CLS]', 'Trainer', 'Luc', '##ien', 'Fa', '#...</td>\n      <td>[15.751483917236328, 11.782296180725098, 9.956...</td>\n      <td>Die \"Negation:NEG_Xund_schon_gar_nichtY-Konstr...</td>\n    </tr>\n    <tr>\n      <th>2</th>\n      <td>5</td>\n      <td>gar5</td>\n      <td>['Es hat Afghanistan nicht stabilisiert und sc...</td>\n      <td>[['[CLS]', 'Das', 'hat', 'Afghanistan', 'nicht...</td>\n      <td>[11.360899925231934, 14.937478065490723, 15.68...</td>\n      <td>Die \"Negation:NEG_Xund_schon_gar_nichtY-Konstr...</td>\n    </tr>\n    <tr>\n      <th>3</th>\n      <td>5</td>\n      <td>nicht5</td>\n      <td>['Es hat Afghanistan nicht stabilisiert und sc...</td>\n      <td>[\"'[MASK]' is not in list\"]</td>\n      <td>[-1.0]</td>\n      <td>Die \"Negation:NEG_Xund_schon_gar_nichtY-Konstr...</td>\n    </tr>\n    <tr>\n      <th>4</th>\n      <td>5</td>\n      <td>recht5</td>\n      <td>['Trainer Lucien Favre hatte schon seine beide...</td>\n      <td>[['[CLS]', 'Trainer', 'Luc', '##ien', 'Fa', '#...</td>\n      <td>[15.844961166381836, 11.985773086547852, 10.04...</td>\n      <td>Die \"Negation:NEG_Xund_schon_gar_nichtY-Konstr...</td>\n    </tr>\n    <tr>\n      <th>...</th>\n      <td>...</td>\n      <td>...</td>\n      <td>...</td>\n      <td>...</td>\n      <td>...</td>\n      <td>...</td>\n    </tr>\n    <tr>\n      <th>576</th>\n      <td>1884</td>\n      <td>Gold1884</td>\n      <td>['Schweigen ist Silber , reden ist Gold .', 'S...</td>\n      <td>[['[CLS]', 'Reden', 'ist', 'Silber', ',', 'red...</td>\n      <td>[11.769918441772461, 10.454679489135742, 15.89...</td>\n      <td>Die \"Intensivierung_Komparativ:Xist_SilberYist...</td>\n    </tr>\n    <tr>\n      <th>577</th>\n      <td>1884</td>\n      <td>Silber1884</td>\n      <td>['Schweigen ist Silber , reden ist Gold .', 'S...</td>\n      <td>[['[CLS]', 'Reden', 'ist', 'Silber1884', ',', ...</td>\n      <td>[12.572469711303711, 9.817983627319336, 14.939...</td>\n      <td>Die \"Intensivierung_Komparativ:Xist_SilberYist...</td>\n    </tr>\n    <tr>\n      <th>578</th>\n      <td>1884</td>\n      <td>ist1884</td>\n      <td>['Schweigen ist Silber , reden ist Gold .', 'S...</td>\n      <td>[['[CLS]', 'Reden', 'ist1884', 'Silber', ',', ...</td>\n      <td>[14.046998977661133, 12.147357940673828, 13.26...</td>\n      <td>Die \"Intensivierung_Komparativ:Xist_SilberYist...</td>\n    </tr>\n    <tr>\n      <th>579</th>\n      <td>1986</td>\n      <td>kaum1986</td>\n      <td>['Die Vorhut vor 20.000 Jahren war für das Rie...</td>\n      <td>[['[CLS]', 'Die', 'Vor', '##hut', 'vor', '20',...</td>\n      <td>[14.439410209655762, 13.822213172912598, 18.17...</td>\n      <td>Die Konstruktion \"Relativierung:kaumADJ\" gehör...</td>\n    </tr>\n    <tr>\n      <th>580</th>\n      <td>1987</td>\n      <td>sehr1987</td>\n      <td>['Solche Menschen können sich sehr wohlfühlen ...</td>\n      <td>[['[CLS]', 'Die', 'Menschen', 'können', 'sich'...</td>\n      <td>[12.599824905395508, 12.78843879699707, 16.473...</td>\n      <td>Die Konstruktion \"Intensivierung:sehrV\" gehört...</td>\n    </tr>\n  </tbody>\n</table>\n<p>581 rows × 6 columns</p>\n</div>"
     },
     "execution_count": 33,
     "metadata": {},
     "output_type": "execute_result"
    }
   ],
   "source": [
    "bsbbert_data"
   ],
   "metadata": {
    "collapsed": false,
    "ExecuteTime": {
     "end_time": "2024-02-03T22:52:24.603848200Z",
     "start_time": "2024-02-03T22:52:24.577428900Z"
    }
   },
   "id": "c5fdcdd33e7c8129",
   "execution_count": 33
  },
  {
   "cell_type": "code",
   "outputs": [],
   "source": [
    "def evaluate_generated(row):\n",
    "    try:\n",
    "        new = eval(row[\"generated\"])\n",
    "    except:\n",
    "        new = []\n",
    "    return new"
   ],
   "metadata": {
    "collapsed": false,
    "ExecuteTime": {
     "end_time": "2024-02-03T22:52:24.623266600Z",
     "start_time": "2024-02-03T22:52:24.605710Z"
    }
   },
   "id": "cb7237385e4e062e",
   "execution_count": 34
  },
  {
   "cell_type": "code",
   "outputs": [
    {
     "data": {
      "text/plain": "     construction  pseudoword  \\\n0               5        Und5   \n1               5       erst5   \n2               5        gar5   \n3               5      nicht5   \n4               5      recht5   \n..            ...         ...   \n501          1884    Gold1884   \n502          1884  Silber1884   \n503          1884     ist1884   \n504          1986    kaum1986   \n505          1987    sehr1987   \n\n                                          orig_example  \\\n0    ['\"\"Nicht herauskaufen\"\", \"\"nicht erpressen la...   \n1    ['Trainer Lucien Favre hatte schon seine beide...   \n2    ['Es hat Afghanistan nicht stabilisiert und sc...   \n3    ['Es hat Afghanistan nicht stabilisiert und sc...   \n4    ['Trainer Lucien Favre hatte schon seine beide...   \n..                                                 ...   \n501  ['Schweigen ist Silber , reden ist Gold .', 'S...   \n502  ['Schweigen ist Silber , reden ist Gold .', 'S...   \n503  ['Schweigen ist Silber , reden ist Gold .', 'S...   \n504  ['Die Vorhut vor 20.000 Jahren war für das Rie...   \n505  ['Solche Menschen können sich sehr wohlfühlen ...   \n\n                                             generated  \\\n0    ['... Mehrwertsteuer.......', 'Auf das schnell...   \n1    ['...........', 'Tatsächlich sind wir uns niem...   \n2    ['Es hat Afghanistan nicht stabilisiert und sc...   \n3                                                  NaN   \n4    ['............', 'Tatsächlich sind wir uns nie...   \n..                                                 ...   \n501  ['Schweigen ist Silber, reden ist Gold.....', ...   \n502  ['Schweigen ist... Gold...', 'Schweigen ist Go...   \n503  ['Schweigen... Gold....', 'Schweigen Gold!', '...   \n504  ['Die Vorhut vor 20.000 Jahren war für das Rie...   \n505  ['..........', '\" \" Das hat die Schüler nicht ...   \n\n                                                scores  \\\n0    [0.7702094316482544, 0.9311211109161377, 0.736...   \n1    [0.6238253712654114, 0.7992855310440063, 0.701...   \n2    [0.7928561568260193, 0.8251732587814331, 0.658...   \n3                                               [-1.0]   \n4    [0.6184999942779541, 0.8167852759361267, 0.695...   \n..                                                 ...   \n501  [0.8336131572723389, 0.8371401429176331, 0.801...   \n502  [0.7981865406036377, 0.7699515223503113, 0.754...   \n503  [0.8048365116119385, 0.7254974246025085, 0.690...   \n504  [0.8100022673606873, 0.847483217716217, 0.6762...   \n505  [0.738667368888855, 0.7296292781829834, 0.7682...   \n\n                                   evaluated_generated  \n0    [... Mehrwertsteuer......., Auf das schnelle V...  \n1    [..........., Tatsächlich sind wir uns niemals...  \n2    [Es hat Afghanistan nicht stabilisiert und sch...  \n3                                                   []  \n4    [............, Tatsächlich sind wir uns niemal...  \n..                                                 ...  \n501  [Schweigen ist Silber, reden ist Gold....., Sc...  \n502  [Schweigen ist... Gold..., Schweigen ist Gold!...  \n503  [Schweigen... Gold...., Schweigen Gold!, Angeb...  \n504  [Die Vorhut vor 20.000 Jahren war für das Ries...  \n505  [.........., \" \" Das hat die Schüler nicht rec...  \n\n[506 rows x 6 columns]",
      "text/html": "<div>\n<style scoped>\n    .dataframe tbody tr th:only-of-type {\n        vertical-align: middle;\n    }\n\n    .dataframe tbody tr th {\n        vertical-align: top;\n    }\n\n    .dataframe thead th {\n        text-align: right;\n    }\n</style>\n<table border=\"1\" class=\"dataframe\">\n  <thead>\n    <tr style=\"text-align: right;\">\n      <th></th>\n      <th>construction</th>\n      <th>pseudoword</th>\n      <th>orig_example</th>\n      <th>generated</th>\n      <th>scores</th>\n      <th>evaluated_generated</th>\n    </tr>\n  </thead>\n  <tbody>\n    <tr>\n      <th>0</th>\n      <td>5</td>\n      <td>Und5</td>\n      <td>['\"\"Nicht herauskaufen\"\", \"\"nicht erpressen la...</td>\n      <td>['... Mehrwertsteuer.......', 'Auf das schnell...</td>\n      <td>[0.7702094316482544, 0.9311211109161377, 0.736...</td>\n      <td>[... Mehrwertsteuer......., Auf das schnelle V...</td>\n    </tr>\n    <tr>\n      <th>1</th>\n      <td>5</td>\n      <td>erst5</td>\n      <td>['Trainer Lucien Favre hatte schon seine beide...</td>\n      <td>['...........', 'Tatsächlich sind wir uns niem...</td>\n      <td>[0.6238253712654114, 0.7992855310440063, 0.701...</td>\n      <td>[..........., Tatsächlich sind wir uns niemals...</td>\n    </tr>\n    <tr>\n      <th>2</th>\n      <td>5</td>\n      <td>gar5</td>\n      <td>['Es hat Afghanistan nicht stabilisiert und sc...</td>\n      <td>['Es hat Afghanistan nicht stabilisiert und sc...</td>\n      <td>[0.7928561568260193, 0.8251732587814331, 0.658...</td>\n      <td>[Es hat Afghanistan nicht stabilisiert und sch...</td>\n    </tr>\n    <tr>\n      <th>3</th>\n      <td>5</td>\n      <td>nicht5</td>\n      <td>['Es hat Afghanistan nicht stabilisiert und sc...</td>\n      <td>NaN</td>\n      <td>[-1.0]</td>\n      <td>[]</td>\n    </tr>\n    <tr>\n      <th>4</th>\n      <td>5</td>\n      <td>recht5</td>\n      <td>['Trainer Lucien Favre hatte schon seine beide...</td>\n      <td>['............', 'Tatsächlich sind wir uns nie...</td>\n      <td>[0.6184999942779541, 0.8167852759361267, 0.695...</td>\n      <td>[............, Tatsächlich sind wir uns niemal...</td>\n    </tr>\n    <tr>\n      <th>...</th>\n      <td>...</td>\n      <td>...</td>\n      <td>...</td>\n      <td>...</td>\n      <td>...</td>\n      <td>...</td>\n    </tr>\n    <tr>\n      <th>501</th>\n      <td>1884</td>\n      <td>Gold1884</td>\n      <td>['Schweigen ist Silber , reden ist Gold .', 'S...</td>\n      <td>['Schweigen ist Silber, reden ist Gold.....', ...</td>\n      <td>[0.8336131572723389, 0.8371401429176331, 0.801...</td>\n      <td>[Schweigen ist Silber, reden ist Gold....., Sc...</td>\n    </tr>\n    <tr>\n      <th>502</th>\n      <td>1884</td>\n      <td>Silber1884</td>\n      <td>['Schweigen ist Silber , reden ist Gold .', 'S...</td>\n      <td>['Schweigen ist... Gold...', 'Schweigen ist Go...</td>\n      <td>[0.7981865406036377, 0.7699515223503113, 0.754...</td>\n      <td>[Schweigen ist... Gold..., Schweigen ist Gold!...</td>\n    </tr>\n    <tr>\n      <th>503</th>\n      <td>1884</td>\n      <td>ist1884</td>\n      <td>['Schweigen ist Silber , reden ist Gold .', 'S...</td>\n      <td>['Schweigen... Gold....', 'Schweigen Gold!', '...</td>\n      <td>[0.8048365116119385, 0.7254974246025085, 0.690...</td>\n      <td>[Schweigen... Gold...., Schweigen Gold!, Angeb...</td>\n    </tr>\n    <tr>\n      <th>504</th>\n      <td>1986</td>\n      <td>kaum1986</td>\n      <td>['Die Vorhut vor 20.000 Jahren war für das Rie...</td>\n      <td>['Die Vorhut vor 20.000 Jahren war für das Rie...</td>\n      <td>[0.8100022673606873, 0.847483217716217, 0.6762...</td>\n      <td>[Die Vorhut vor 20.000 Jahren war für das Ries...</td>\n    </tr>\n    <tr>\n      <th>505</th>\n      <td>1987</td>\n      <td>sehr1987</td>\n      <td>['Solche Menschen können sich sehr wohlfühlen ...</td>\n      <td>['..........', '\" \" Das hat die Schüler nicht ...</td>\n      <td>[0.738667368888855, 0.7296292781829834, 0.7682...</td>\n      <td>[.........., \" \" Das hat die Schüler nicht rec...</td>\n    </tr>\n  </tbody>\n</table>\n<p>506 rows × 6 columns</p>\n</div>"
     },
     "execution_count": 35,
     "metadata": {},
     "output_type": "execute_result"
    }
   ],
   "source": [
    "mbart_data[\"evaluated_generated\"] = mbart_data.apply(evaluate_generated, axis=1)\n",
    "mbart_data"
   ],
   "metadata": {
    "collapsed": false,
    "ExecuteTime": {
     "end_time": "2024-02-03T22:52:24.758573Z",
     "start_time": "2024-02-03T22:52:24.613709400Z"
    }
   },
   "id": "53482283d857b3b2",
   "execution_count": 35
  },
  {
   "cell_type": "code",
   "outputs": [
    {
     "data": {
      "text/plain": "     construction  pseudoword  \\\n0               5        Und5   \n1               5       erst5   \n2               5        gar5   \n3               5      nicht5   \n4               5      recht5   \n..            ...         ...   \n501          1884    Gold1884   \n502          1884  Silber1884   \n503          1884     ist1884   \n504          1986    kaum1986   \n505          1987    sehr1987   \n\n                                          orig_example  \\\n0    ['\"\"Nicht herauskaufen\"\", \"\"nicht erpressen la...   \n1    ['Trainer Lucien Favre hatte schon seine beide...   \n2    ['Es hat Afghanistan nicht stabilisiert und sc...   \n3    ['Es hat Afghanistan nicht stabilisiert und sc...   \n4    ['Trainer Lucien Favre hatte schon seine beide...   \n..                                                 ...   \n501  ['Schweigen ist Silber , reden ist Gold .', 'S...   \n502  ['Schweigen ist Silber , reden ist Gold .', 'S...   \n503  ['Schweigen ist Silber , reden ist Gold .', 'S...   \n504  ['Die Vorhut vor 20.000 Jahren war für das Rie...   \n505  ['Solche Menschen können sich sehr wohlfühlen ...   \n\n                                             generated  \\\n0    ['\"\"Nicht herauskaufen\"\", \"\"nicht erpressen la...   \n1    ['Trainer Lucien Favre hat seine beiden Stürme...   \n2    ['Es hat Afghanistan nicht stabilisiert und sc...   \n3    ['Es hat Afghanistan nicht befriedet.', ', abe...   \n4    ['Trainer Lucien Favre hat seine beiden Stürme...   \n..                                                 ...   \n501  ['Schweigen ist Silber, reden ist Gold', 'Schw...   \n502  ['Schweigen ist Silber, Schweigen ist Gold.', ...   \n503  ['Schweigen ist wie Gold.', 'Schweigen ist wie...   \n504  ['Die Vorhut vor 20.000 Jahren war für das Rie...   \n505  ['Solche Menschen können sich sehr', '\" \" Das ...   \n\n                                                scores  \\\n0    [0.623329758644104, 0.7097308039665222, 0.5912...   \n1    [0.4603891670703888, 0.6319332718849182, 0.565...   \n2    [0.9639642238616943, 0.4984430968761444, 0.944...   \n3    [0.7552201747894287, 0.4845995604991913, 0.874...   \n4    [0.4634501338005066, 0.5811089873313904, 0.563...   \n..                                                 ...   \n501  [0.8799072504043579, 0.8578562140464783, 0.912...   \n502  [0.8501437306404114, 0.8222342729568481, 0.793...   \n503  [0.7324506044387817, 0.7599738836288452, 0.599...   \n504  [0.9354256987571716, 0.5056698322296143, 0.492...   \n505  [0.8664955496788025, 0.8348168730735779, 0.584...   \n\n                                   evaluated_generated  \n0    [\"\"Nicht herauskaufen\"\", \"\"nicht erpressen las...  \n1    [Trainer Lucien Favre hat seine beiden Stürmer...  \n2    [Es hat Afghanistan nicht stabilisiert und sch...  \n3    [Es hat Afghanistan nicht befriedet., , aber n...  \n4    [Trainer Lucien Favre hat seine beiden Stürmer...  \n..                                                 ...  \n501  [Schweigen ist Silber, reden ist Gold, Schweig...  \n502  [Schweigen ist Silber, Schweigen ist Gold., Sc...  \n503  [Schweigen ist wie Gold., Schweigen ist wie Go...  \n504  [Die Vorhut vor 20.000 Jahren war für das Ries...  \n505  [Solche Menschen können sich sehr, \" \" Das hat...  \n\n[506 rows x 6 columns]",
      "text/html": "<div>\n<style scoped>\n    .dataframe tbody tr th:only-of-type {\n        vertical-align: middle;\n    }\n\n    .dataframe tbody tr th {\n        vertical-align: top;\n    }\n\n    .dataframe thead th {\n        text-align: right;\n    }\n</style>\n<table border=\"1\" class=\"dataframe\">\n  <thead>\n    <tr style=\"text-align: right;\">\n      <th></th>\n      <th>construction</th>\n      <th>pseudoword</th>\n      <th>orig_example</th>\n      <th>generated</th>\n      <th>scores</th>\n      <th>evaluated_generated</th>\n    </tr>\n  </thead>\n  <tbody>\n    <tr>\n      <th>0</th>\n      <td>5</td>\n      <td>Und5</td>\n      <td>['\"\"Nicht herauskaufen\"\", \"\"nicht erpressen la...</td>\n      <td>['\"\"Nicht herauskaufen\"\", \"\"nicht erpressen la...</td>\n      <td>[0.623329758644104, 0.7097308039665222, 0.5912...</td>\n      <td>[\"\"Nicht herauskaufen\"\", \"\"nicht erpressen las...</td>\n    </tr>\n    <tr>\n      <th>1</th>\n      <td>5</td>\n      <td>erst5</td>\n      <td>['Trainer Lucien Favre hatte schon seine beide...</td>\n      <td>['Trainer Lucien Favre hat seine beiden Stürme...</td>\n      <td>[0.4603891670703888, 0.6319332718849182, 0.565...</td>\n      <td>[Trainer Lucien Favre hat seine beiden Stürmer...</td>\n    </tr>\n    <tr>\n      <th>2</th>\n      <td>5</td>\n      <td>gar5</td>\n      <td>['Es hat Afghanistan nicht stabilisiert und sc...</td>\n      <td>['Es hat Afghanistan nicht stabilisiert und sc...</td>\n      <td>[0.9639642238616943, 0.4984430968761444, 0.944...</td>\n      <td>[Es hat Afghanistan nicht stabilisiert und sch...</td>\n    </tr>\n    <tr>\n      <th>3</th>\n      <td>5</td>\n      <td>nicht5</td>\n      <td>['Es hat Afghanistan nicht stabilisiert und sc...</td>\n      <td>['Es hat Afghanistan nicht befriedet.', ', abe...</td>\n      <td>[0.7552201747894287, 0.4845995604991913, 0.874...</td>\n      <td>[Es hat Afghanistan nicht befriedet., , aber n...</td>\n    </tr>\n    <tr>\n      <th>4</th>\n      <td>5</td>\n      <td>recht5</td>\n      <td>['Trainer Lucien Favre hatte schon seine beide...</td>\n      <td>['Trainer Lucien Favre hat seine beiden Stürme...</td>\n      <td>[0.4634501338005066, 0.5811089873313904, 0.563...</td>\n      <td>[Trainer Lucien Favre hat seine beiden Stürmer...</td>\n    </tr>\n    <tr>\n      <th>...</th>\n      <td>...</td>\n      <td>...</td>\n      <td>...</td>\n      <td>...</td>\n      <td>...</td>\n      <td>...</td>\n    </tr>\n    <tr>\n      <th>501</th>\n      <td>1884</td>\n      <td>Gold1884</td>\n      <td>['Schweigen ist Silber , reden ist Gold .', 'S...</td>\n      <td>['Schweigen ist Silber, reden ist Gold', 'Schw...</td>\n      <td>[0.8799072504043579, 0.8578562140464783, 0.912...</td>\n      <td>[Schweigen ist Silber, reden ist Gold, Schweig...</td>\n    </tr>\n    <tr>\n      <th>502</th>\n      <td>1884</td>\n      <td>Silber1884</td>\n      <td>['Schweigen ist Silber , reden ist Gold .', 'S...</td>\n      <td>['Schweigen ist Silber, Schweigen ist Gold.', ...</td>\n      <td>[0.8501437306404114, 0.8222342729568481, 0.793...</td>\n      <td>[Schweigen ist Silber, Schweigen ist Gold., Sc...</td>\n    </tr>\n    <tr>\n      <th>503</th>\n      <td>1884</td>\n      <td>ist1884</td>\n      <td>['Schweigen ist Silber , reden ist Gold .', 'S...</td>\n      <td>['Schweigen ist wie Gold.', 'Schweigen ist wie...</td>\n      <td>[0.7324506044387817, 0.7599738836288452, 0.599...</td>\n      <td>[Schweigen ist wie Gold., Schweigen ist wie Go...</td>\n    </tr>\n    <tr>\n      <th>504</th>\n      <td>1986</td>\n      <td>kaum1986</td>\n      <td>['Die Vorhut vor 20.000 Jahren war für das Rie...</td>\n      <td>['Die Vorhut vor 20.000 Jahren war für das Rie...</td>\n      <td>[0.9354256987571716, 0.5056698322296143, 0.492...</td>\n      <td>[Die Vorhut vor 20.000 Jahren war für das Ries...</td>\n    </tr>\n    <tr>\n      <th>505</th>\n      <td>1987</td>\n      <td>sehr1987</td>\n      <td>['Solche Menschen können sich sehr wohlfühlen ...</td>\n      <td>['Solche Menschen können sich sehr', '\" \" Das ...</td>\n      <td>[0.8664955496788025, 0.8348168730735779, 0.584...</td>\n      <td>[Solche Menschen können sich sehr, \" \" Das hat...</td>\n    </tr>\n  </tbody>\n</table>\n<p>506 rows × 6 columns</p>\n</div>"
     },
     "execution_count": 36,
     "metadata": {},
     "output_type": "execute_result"
    }
   ],
   "source": [
    "mbart_vanilla_data[\"evaluated_generated\"] = mbart_vanilla_data.apply(evaluate_generated, axis=1)\n",
    "mbart_vanilla_data"
   ],
   "metadata": {
    "collapsed": false,
    "ExecuteTime": {
     "end_time": "2024-02-03T22:52:24.771379900Z",
     "start_time": "2024-02-03T22:52:24.689608100Z"
    }
   },
   "id": "234516575dfe982d",
   "execution_count": 36
  },
  {
   "cell_type": "code",
   "outputs": [
    {
     "data": {
      "text/plain": "                                             definition examples  \\\n10    Die \"Negation:NEG_XgeschweigedennY-Konstruktio...       []   \n100   Die \"Äquativ_Plural-Konstruktion\" gehört zu de...       []   \n1004  Die \"Superlativ_Klimax:ADJ1_ADJ1-er_NP-Konstru...       []   \n1006  Die \"Superlativ:PRÄP_ADJ-ster_NP-Konstruktion\"...       []   \n101   Die \"Äquativ:ADJwieNP-Konstruktion\" gehört zu ...       []   \n...                                                 ...      ...   \n97    Die \"Komparativ:ADJ1-eralsADJ1-Konstruktion\" g...       []   \n973   Bei \"Disjunktion_Doppeltitel:XoderY\" handelt e...       []   \n976   Bei \"Korrelation_Affirmation:WoXist, istY\" han...       []   \n98    Die \"Äquativ:soADJwieXP-Konstruktion\" gehört z...       []   \n99    Die \"Komparativ:ADJ-eralsX-Konstruktion\" gehör...       []   \n\n                                              generated  \\\n10    [\"Die meisten von ihnen haben zuvor noch nie e...   \n100   [\"Die beiden Pferde sind gleicher Größe.\", \"Di...   \n1004  [\"Michael is the tallest\", \"John has the short...   \n1006  [\"The athlete is the fastest runner on the tea...   \n101   [\"Das Auto fährt wie eine Lokomotive\", \"Das Ha...   \n...                                                 ...   \n97    [\"Ein Mann, der höher ist als der Frau\", \"Ein ...   \n973                                      [\"Xoder\", \"Y\"]   \n976   [\"Wo das Licht ist, ist auch die Dunkelheit\", ...   \n98    [\"Die 'äquativ' ist gleich 22\", \"Das Bild ist ...   \n99    [\"Das Gemüse ist ungleichwertig\", \"Die Mensche...   \n\n                                    evaluated_generated  num_generated  \\\n10    [Die meisten von ihnen haben zuvor noch nie ei...              2   \n100   [Die beiden Pferde sind gleicher Größe., Die b...              2   \n1004  [Michael is the tallest, John has the shortest...              3   \n1006   [The athlete is the fastest runner on the team.]              1   \n101   [Das Auto fährt wie eine Lokomotive, Das Haus ...              3   \n...                                                 ...            ...   \n97    [Ein Mann, der höher ist als der Frau, Ein Man...              3   \n973                                          [Xoder, Y]              2   \n976   [Wo das Licht ist, ist auch die Dunkelheit, Wo...              4   \n98    [Die 'äquativ' ist gleich 22, Das Bild ist äqu...              2   \n99    [Das Gemüse ist ungleichwertig, Die Menschen s...              7   \n\n      unique_generated  definition_overlap  examples_overlap   overlap  \\\n10                 1.0            1.000000               0.0  1.000000   \n100                1.0            0.166667               0.0  0.166667   \n1004               1.0            0.000000               0.0  0.000000   \n1006               1.0            0.000000               0.0  0.000000   \n101                1.0            0.000000               0.0  0.000000   \n...                ...                 ...               ...       ...   \n97                 1.0            0.142857               0.0  0.142857   \n973                1.0            0.000000               0.0  0.000000   \n976                1.0            0.222222               0.0  0.222222   \n98                 1.0            0.000000               0.0  0.000000   \n99                 1.0            0.000000               0.0  0.000000   \n\n      num_unique  \n10             2  \n100            2  \n1004           3  \n1006           1  \n101            3  \n...          ...  \n97             3  \n973            2  \n976            4  \n98             2  \n99             7  \n\n[211 rows x 10 columns]",
      "text/html": "<div>\n<style scoped>\n    .dataframe tbody tr th:only-of-type {\n        vertical-align: middle;\n    }\n\n    .dataframe tbody tr th {\n        vertical-align: top;\n    }\n\n    .dataframe thead th {\n        text-align: right;\n    }\n</style>\n<table border=\"1\" class=\"dataframe\">\n  <thead>\n    <tr style=\"text-align: right;\">\n      <th></th>\n      <th>definition</th>\n      <th>examples</th>\n      <th>generated</th>\n      <th>evaluated_generated</th>\n      <th>num_generated</th>\n      <th>unique_generated</th>\n      <th>definition_overlap</th>\n      <th>examples_overlap</th>\n      <th>overlap</th>\n      <th>num_unique</th>\n    </tr>\n  </thead>\n  <tbody>\n    <tr>\n      <th>10</th>\n      <td>Die \"Negation:NEG_XgeschweigedennY-Konstruktio...</td>\n      <td>[]</td>\n      <td>[\"Die meisten von ihnen haben zuvor noch nie e...</td>\n      <td>[Die meisten von ihnen haben zuvor noch nie ei...</td>\n      <td>2</td>\n      <td>1.0</td>\n      <td>1.000000</td>\n      <td>0.0</td>\n      <td>1.000000</td>\n      <td>2</td>\n    </tr>\n    <tr>\n      <th>100</th>\n      <td>Die \"Äquativ_Plural-Konstruktion\" gehört zu de...</td>\n      <td>[]</td>\n      <td>[\"Die beiden Pferde sind gleicher Größe.\", \"Di...</td>\n      <td>[Die beiden Pferde sind gleicher Größe., Die b...</td>\n      <td>2</td>\n      <td>1.0</td>\n      <td>0.166667</td>\n      <td>0.0</td>\n      <td>0.166667</td>\n      <td>2</td>\n    </tr>\n    <tr>\n      <th>1004</th>\n      <td>Die \"Superlativ_Klimax:ADJ1_ADJ1-er_NP-Konstru...</td>\n      <td>[]</td>\n      <td>[\"Michael is the tallest\", \"John has the short...</td>\n      <td>[Michael is the tallest, John has the shortest...</td>\n      <td>3</td>\n      <td>1.0</td>\n      <td>0.000000</td>\n      <td>0.0</td>\n      <td>0.000000</td>\n      <td>3</td>\n    </tr>\n    <tr>\n      <th>1006</th>\n      <td>Die \"Superlativ:PRÄP_ADJ-ster_NP-Konstruktion\"...</td>\n      <td>[]</td>\n      <td>[\"The athlete is the fastest runner on the tea...</td>\n      <td>[The athlete is the fastest runner on the team.]</td>\n      <td>1</td>\n      <td>1.0</td>\n      <td>0.000000</td>\n      <td>0.0</td>\n      <td>0.000000</td>\n      <td>1</td>\n    </tr>\n    <tr>\n      <th>101</th>\n      <td>Die \"Äquativ:ADJwieNP-Konstruktion\" gehört zu ...</td>\n      <td>[]</td>\n      <td>[\"Das Auto fährt wie eine Lokomotive\", \"Das Ha...</td>\n      <td>[Das Auto fährt wie eine Lokomotive, Das Haus ...</td>\n      <td>3</td>\n      <td>1.0</td>\n      <td>0.000000</td>\n      <td>0.0</td>\n      <td>0.000000</td>\n      <td>3</td>\n    </tr>\n    <tr>\n      <th>...</th>\n      <td>...</td>\n      <td>...</td>\n      <td>...</td>\n      <td>...</td>\n      <td>...</td>\n      <td>...</td>\n      <td>...</td>\n      <td>...</td>\n      <td>...</td>\n      <td>...</td>\n    </tr>\n    <tr>\n      <th>97</th>\n      <td>Die \"Komparativ:ADJ1-eralsADJ1-Konstruktion\" g...</td>\n      <td>[]</td>\n      <td>[\"Ein Mann, der höher ist als der Frau\", \"Ein ...</td>\n      <td>[Ein Mann, der höher ist als der Frau, Ein Man...</td>\n      <td>3</td>\n      <td>1.0</td>\n      <td>0.142857</td>\n      <td>0.0</td>\n      <td>0.142857</td>\n      <td>3</td>\n    </tr>\n    <tr>\n      <th>973</th>\n      <td>Bei \"Disjunktion_Doppeltitel:XoderY\" handelt e...</td>\n      <td>[]</td>\n      <td>[\"Xoder\", \"Y\"]</td>\n      <td>[Xoder, Y]</td>\n      <td>2</td>\n      <td>1.0</td>\n      <td>0.000000</td>\n      <td>0.0</td>\n      <td>0.000000</td>\n      <td>2</td>\n    </tr>\n    <tr>\n      <th>976</th>\n      <td>Bei \"Korrelation_Affirmation:WoXist, istY\" han...</td>\n      <td>[]</td>\n      <td>[\"Wo das Licht ist, ist auch die Dunkelheit\", ...</td>\n      <td>[Wo das Licht ist, ist auch die Dunkelheit, Wo...</td>\n      <td>4</td>\n      <td>1.0</td>\n      <td>0.222222</td>\n      <td>0.0</td>\n      <td>0.222222</td>\n      <td>4</td>\n    </tr>\n    <tr>\n      <th>98</th>\n      <td>Die \"Äquativ:soADJwieXP-Konstruktion\" gehört z...</td>\n      <td>[]</td>\n      <td>[\"Die 'äquativ' ist gleich 22\", \"Das Bild ist ...</td>\n      <td>[Die 'äquativ' ist gleich 22, Das Bild ist äqu...</td>\n      <td>2</td>\n      <td>1.0</td>\n      <td>0.000000</td>\n      <td>0.0</td>\n      <td>0.000000</td>\n      <td>2</td>\n    </tr>\n    <tr>\n      <th>99</th>\n      <td>Die \"Komparativ:ADJ-eralsX-Konstruktion\" gehör...</td>\n      <td>[]</td>\n      <td>[\"Das Gemüse ist ungleichwertig\", \"Die Mensche...</td>\n      <td>[Das Gemüse ist ungleichwertig, Die Menschen s...</td>\n      <td>7</td>\n      <td>1.0</td>\n      <td>0.000000</td>\n      <td>0.0</td>\n      <td>0.000000</td>\n      <td>7</td>\n    </tr>\n  </tbody>\n</table>\n<p>211 rows × 10 columns</p>\n</div>"
     },
     "execution_count": 37,
     "metadata": {},
     "output_type": "execute_result"
    }
   ],
   "source": [
    "for llama in llama_data.values():\n",
    "    llama[\"evaluated_generated\"] = llama.apply(evaluate_generated, axis=1)\n",
    "llama_data[0]"
   ],
   "metadata": {
    "collapsed": false,
    "ExecuteTime": {
     "end_time": "2024-02-03T22:52:24.907429700Z",
     "start_time": "2024-02-03T22:52:24.759587500Z"
    }
   },
   "id": "7f1a15e95f3b25ca",
   "execution_count": 37
  },
  {
   "cell_type": "code",
   "outputs": [
    {
     "data": {
      "text/plain": "     construction  pseudoword  \\\n0               5        Und5   \n1               5       erst5   \n2               5        gar5   \n3               5      nicht5   \n4               5      recht5   \n..            ...         ...   \n576          1884    Gold1884   \n577          1884  Silber1884   \n578          1884     ist1884   \n579          1986    kaum1986   \n580          1987    sehr1987   \n\n                                               example  \\\n0    ['Und schon gar nicht mit der Mehrwertsteuer ....   \n1    ['Trainer Lucien Favre hatte schon seine beide...   \n2    ['Es hat Afghanistan nicht stabilisiert und sc...   \n3    ['Es hat Afghanistan nicht stabilisiert und sc...   \n4    ['Trainer Lucien Favre hatte schon seine beide...   \n..                                                 ...   \n576  ['Schweigen ist Silber , reden ist Gold .', 'S...   \n577  ['Schweigen ist Silber , reden ist Gold .', 'S...   \n578  ['Schweigen ist Silber , reden ist Gold .', 'S...   \n579  ['Die Vorhut vor 20.000 Jahren war für das Rie...   \n580  ['Solche Menschen können sich sehr wohlfühlen ...   \n\n                                             generated  \\\n0    [['[CLS]', 'Und5', 'schon', 'gar', 'nicht', 'b...   \n1    [['[CLS]', 'Trainer', 'Luc', '##ien', 'Fa', '#...   \n2    [['[CLS]', 'Das', 'hat', 'Afghanistan', 'nicht...   \n3                          [\"'[MASK]' is not in list\"]   \n4    [['[CLS]', 'Trainer', 'Luc', '##ien', 'Fa', '#...   \n..                                                 ...   \n576  [['[CLS]', 'Reden', 'ist', 'Silber', ',', 'red...   \n577  [['[CLS]', 'Reden', 'ist', 'Silber1884', ',', ...   \n578  [['[CLS]', 'Reden', 'ist1884', 'Silber', ',', ...   \n579  [['[CLS]', 'Die', 'Vor', '##hut', 'vor', '20',...   \n580  [['[CLS]', 'Die', 'Menschen', 'können', 'sich'...   \n\n                                                 score  \\\n0    [14.645186424255371, 15.811990737915039, 9.996...   \n1    [15.751483917236328, 11.782296180725098, 9.956...   \n2    [11.360899925231934, 14.937478065490723, 15.68...   \n3                                               [-1.0]   \n4    [15.844961166381836, 11.985773086547852, 10.04...   \n..                                                 ...   \n576  [11.769918441772461, 10.454679489135742, 15.89...   \n577  [12.572469711303711, 9.817983627319336, 14.939...   \n578  [14.046998977661133, 12.147357940673828, 13.26...   \n579  [14.439410209655762, 13.822213172912598, 18.17...   \n580  [12.599824905395508, 12.78843879699707, 16.473...   \n\n                                            definition  \\\n0    Die \"Negation:NEG_Xund_schon_gar_nichtY-Konstr...   \n1    Die \"Negation:NEG_Xund_schon_gar_nichtY-Konstr...   \n2    Die \"Negation:NEG_Xund_schon_gar_nichtY-Konstr...   \n3    Die \"Negation:NEG_Xund_schon_gar_nichtY-Konstr...   \n4    Die \"Negation:NEG_Xund_schon_gar_nichtY-Konstr...   \n..                                                 ...   \n576  Die \"Intensivierung_Komparativ:Xist_SilberYist...   \n577  Die \"Intensivierung_Komparativ:Xist_SilberYist...   \n578  Die \"Intensivierung_Komparativ:Xist_SilberYist...   \n579  Die Konstruktion \"Relativierung:kaumADJ\" gehör...   \n580  Die Konstruktion \"Intensivierung:sehrV\" gehört...   \n\n                                   evaluated_generated  \n0    [[[CLS], Und5, schon, gar, nicht, bei, der, Me...  \n1    [[[CLS], Trainer, Luc, ##ien, Fa, ##vre, hatte...  \n2    [[[CLS], Das, hat, Afghanistan, nicht, stabil,...  \n3                            ['[MASK]' is not in list]  \n4    [[[CLS], Trainer, Luc, ##ien, Fa, ##vre, hatte...  \n..                                                 ...  \n576  [[[CLS], Reden, ist, Silber, ,, reden, ist, Go...  \n577  [[[CLS], Reden, ist, Silber1884, ,, reden, ist...  \n578  [[[CLS], Reden, ist1884, Silber, ,, reden, ist...  \n579  [[[CLS], Die, Vor, ##hut, vor, 20, ., 000, Jah...  \n580  [[[CLS], Die, Menschen, können, sich, sehr1987...  \n\n[581 rows x 7 columns]",
      "text/html": "<div>\n<style scoped>\n    .dataframe tbody tr th:only-of-type {\n        vertical-align: middle;\n    }\n\n    .dataframe tbody tr th {\n        vertical-align: top;\n    }\n\n    .dataframe thead th {\n        text-align: right;\n    }\n</style>\n<table border=\"1\" class=\"dataframe\">\n  <thead>\n    <tr style=\"text-align: right;\">\n      <th></th>\n      <th>construction</th>\n      <th>pseudoword</th>\n      <th>example</th>\n      <th>generated</th>\n      <th>score</th>\n      <th>definition</th>\n      <th>evaluated_generated</th>\n    </tr>\n  </thead>\n  <tbody>\n    <tr>\n      <th>0</th>\n      <td>5</td>\n      <td>Und5</td>\n      <td>['Und schon gar nicht mit der Mehrwertsteuer ....</td>\n      <td>[['[CLS]', 'Und5', 'schon', 'gar', 'nicht', 'b...</td>\n      <td>[14.645186424255371, 15.811990737915039, 9.996...</td>\n      <td>Die \"Negation:NEG_Xund_schon_gar_nichtY-Konstr...</td>\n      <td>[[[CLS], Und5, schon, gar, nicht, bei, der, Me...</td>\n    </tr>\n    <tr>\n      <th>1</th>\n      <td>5</td>\n      <td>erst5</td>\n      <td>['Trainer Lucien Favre hatte schon seine beide...</td>\n      <td>[['[CLS]', 'Trainer', 'Luc', '##ien', 'Fa', '#...</td>\n      <td>[15.751483917236328, 11.782296180725098, 9.956...</td>\n      <td>Die \"Negation:NEG_Xund_schon_gar_nichtY-Konstr...</td>\n      <td>[[[CLS], Trainer, Luc, ##ien, Fa, ##vre, hatte...</td>\n    </tr>\n    <tr>\n      <th>2</th>\n      <td>5</td>\n      <td>gar5</td>\n      <td>['Es hat Afghanistan nicht stabilisiert und sc...</td>\n      <td>[['[CLS]', 'Das', 'hat', 'Afghanistan', 'nicht...</td>\n      <td>[11.360899925231934, 14.937478065490723, 15.68...</td>\n      <td>Die \"Negation:NEG_Xund_schon_gar_nichtY-Konstr...</td>\n      <td>[[[CLS], Das, hat, Afghanistan, nicht, stabil,...</td>\n    </tr>\n    <tr>\n      <th>3</th>\n      <td>5</td>\n      <td>nicht5</td>\n      <td>['Es hat Afghanistan nicht stabilisiert und sc...</td>\n      <td>[\"'[MASK]' is not in list\"]</td>\n      <td>[-1.0]</td>\n      <td>Die \"Negation:NEG_Xund_schon_gar_nichtY-Konstr...</td>\n      <td>['[MASK]' is not in list]</td>\n    </tr>\n    <tr>\n      <th>4</th>\n      <td>5</td>\n      <td>recht5</td>\n      <td>['Trainer Lucien Favre hatte schon seine beide...</td>\n      <td>[['[CLS]', 'Trainer', 'Luc', '##ien', 'Fa', '#...</td>\n      <td>[15.844961166381836, 11.985773086547852, 10.04...</td>\n      <td>Die \"Negation:NEG_Xund_schon_gar_nichtY-Konstr...</td>\n      <td>[[[CLS], Trainer, Luc, ##ien, Fa, ##vre, hatte...</td>\n    </tr>\n    <tr>\n      <th>...</th>\n      <td>...</td>\n      <td>...</td>\n      <td>...</td>\n      <td>...</td>\n      <td>...</td>\n      <td>...</td>\n      <td>...</td>\n    </tr>\n    <tr>\n      <th>576</th>\n      <td>1884</td>\n      <td>Gold1884</td>\n      <td>['Schweigen ist Silber , reden ist Gold .', 'S...</td>\n      <td>[['[CLS]', 'Reden', 'ist', 'Silber', ',', 'red...</td>\n      <td>[11.769918441772461, 10.454679489135742, 15.89...</td>\n      <td>Die \"Intensivierung_Komparativ:Xist_SilberYist...</td>\n      <td>[[[CLS], Reden, ist, Silber, ,, reden, ist, Go...</td>\n    </tr>\n    <tr>\n      <th>577</th>\n      <td>1884</td>\n      <td>Silber1884</td>\n      <td>['Schweigen ist Silber , reden ist Gold .', 'S...</td>\n      <td>[['[CLS]', 'Reden', 'ist', 'Silber1884', ',', ...</td>\n      <td>[12.572469711303711, 9.817983627319336, 14.939...</td>\n      <td>Die \"Intensivierung_Komparativ:Xist_SilberYist...</td>\n      <td>[[[CLS], Reden, ist, Silber1884, ,, reden, ist...</td>\n    </tr>\n    <tr>\n      <th>578</th>\n      <td>1884</td>\n      <td>ist1884</td>\n      <td>['Schweigen ist Silber , reden ist Gold .', 'S...</td>\n      <td>[['[CLS]', 'Reden', 'ist1884', 'Silber', ',', ...</td>\n      <td>[14.046998977661133, 12.147357940673828, 13.26...</td>\n      <td>Die \"Intensivierung_Komparativ:Xist_SilberYist...</td>\n      <td>[[[CLS], Reden, ist1884, Silber, ,, reden, ist...</td>\n    </tr>\n    <tr>\n      <th>579</th>\n      <td>1986</td>\n      <td>kaum1986</td>\n      <td>['Die Vorhut vor 20.000 Jahren war für das Rie...</td>\n      <td>[['[CLS]', 'Die', 'Vor', '##hut', 'vor', '20',...</td>\n      <td>[14.439410209655762, 13.822213172912598, 18.17...</td>\n      <td>Die Konstruktion \"Relativierung:kaumADJ\" gehör...</td>\n      <td>[[[CLS], Die, Vor, ##hut, vor, 20, ., 000, Jah...</td>\n    </tr>\n    <tr>\n      <th>580</th>\n      <td>1987</td>\n      <td>sehr1987</td>\n      <td>['Solche Menschen können sich sehr wohlfühlen ...</td>\n      <td>[['[CLS]', 'Die', 'Menschen', 'können', 'sich'...</td>\n      <td>[12.599824905395508, 12.78843879699707, 16.473...</td>\n      <td>Die Konstruktion \"Intensivierung:sehrV\" gehört...</td>\n      <td>[[[CLS], Die, Menschen, können, sich, sehr1987...</td>\n    </tr>\n  </tbody>\n</table>\n<p>581 rows × 7 columns</p>\n</div>"
     },
     "execution_count": 38,
     "metadata": {},
     "output_type": "execute_result"
    }
   ],
   "source": [
    "bsbbert_data[\"evaluated_generated\"] = bsbbert_data.apply(evaluate_generated, axis=1)\n",
    "bsbbert_data"
   ],
   "metadata": {
    "collapsed": false,
    "ExecuteTime": {
     "end_time": "2024-02-03T22:52:29.861186100Z",
     "start_time": "2024-02-03T22:52:24.836001800Z"
    }
   },
   "id": "d1eaa353f6052c0d",
   "execution_count": 38
  },
  {
   "cell_type": "code",
   "outputs": [
    {
     "data": {
      "text/plain": "                                             definition  \\\n10    Die \"Negation:NEG_XgeschweigedennY-Konstruktio...   \n100   Die \"Äquativ_Plural-Konstruktion\" gehört zu de...   \n1004  Die \"Superlativ_Klimax:ADJ1_ADJ1-er_NP-Konstru...   \n1006  Die \"Superlativ:PRÄP_ADJ-ster_NP-Konstruktion\"...   \n101   Die \"Äquativ:ADJwieNP-Konstruktion\" gehört zu ...   \n...                                                 ...   \n97    Die \"Komparativ:ADJ1-eralsADJ1-Konstruktion\" g...   \n973   Bei \"Disjunktion_Doppeltitel:XoderY\" handelt e...   \n976   Bei \"Korrelation_Affirmation:WoXist, istY\" han...   \n98    Die \"Äquativ:soADJwieXP-Konstruktion\" gehört z...   \n99    Die \"Komparativ:ADJ-eralsX-Konstruktion\" gehör...   \n\n                                    evaluated_generated  \\\n10    [Die meisten von ihnen haben zuvor noch nie ei...   \n100   [Die beiden Pferde sind gleicher Größe., Die b...   \n1004  [Michael is the tallest, John has the shortest...   \n1006   [The athlete is the fastest runner on the team.]   \n101   [Das Auto fährt wie eine Lokomotive, Das Haus ...   \n...                                                 ...   \n97    [Ein Mann, der höher ist als der Frau, Ein Man...   \n973                                          [Xoder, Y]   \n976   [Wo das Licht ist, ist auch die Dunkelheit, Wo...   \n98    [Die 'äquativ' ist gleich 22, Das Bild ist äqu...   \n99    [Das Gemüse ist ungleichwertig, Die Menschen s...   \n\n                                               examples  \n10    ['Oder man geht ins Studio , wo man Songs aufn...  \n100   ['Sicherheitsgefühl und objektive Sicherheit s...  \n1004  ['Gut , besser , \" \" Les Bleus \" \" :', '23. Ju...  \n1006  ['ZEIT : Die Aufnahmen zu Bowies letzten Platt...  \n101   ['Ein Spiel , von dem sich viele unserer Leser...  \n...                                                 ...  \n97    ['Nämlich cooler als cool , bitteschön .', 'We...  \n973   ['Weinen wie die Holländer , oder : Wenn Angel...  \n976   ['Wo Energie ist , ist Wohlstand .', 'Wo viel ...  \n98    ['Baum : Ich mache das natürlich nicht mehr so...  \n99    ['Lied zu singen ist fast schwerer als Oper , ...  \n\n[211 rows x 3 columns]",
      "text/html": "<div>\n<style scoped>\n    .dataframe tbody tr th:only-of-type {\n        vertical-align: middle;\n    }\n\n    .dataframe tbody tr th {\n        vertical-align: top;\n    }\n\n    .dataframe thead th {\n        text-align: right;\n    }\n</style>\n<table border=\"1\" class=\"dataframe\">\n  <thead>\n    <tr style=\"text-align: right;\">\n      <th></th>\n      <th>definition</th>\n      <th>evaluated_generated</th>\n      <th>examples</th>\n    </tr>\n  </thead>\n  <tbody>\n    <tr>\n      <th>10</th>\n      <td>Die \"Negation:NEG_XgeschweigedennY-Konstruktio...</td>\n      <td>[Die meisten von ihnen haben zuvor noch nie ei...</td>\n      <td>['Oder man geht ins Studio , wo man Songs aufn...</td>\n    </tr>\n    <tr>\n      <th>100</th>\n      <td>Die \"Äquativ_Plural-Konstruktion\" gehört zu de...</td>\n      <td>[Die beiden Pferde sind gleicher Größe., Die b...</td>\n      <td>['Sicherheitsgefühl und objektive Sicherheit s...</td>\n    </tr>\n    <tr>\n      <th>1004</th>\n      <td>Die \"Superlativ_Klimax:ADJ1_ADJ1-er_NP-Konstru...</td>\n      <td>[Michael is the tallest, John has the shortest...</td>\n      <td>['Gut , besser , \" \" Les Bleus \" \" :', '23. Ju...</td>\n    </tr>\n    <tr>\n      <th>1006</th>\n      <td>Die \"Superlativ:PRÄP_ADJ-ster_NP-Konstruktion\"...</td>\n      <td>[The athlete is the fastest runner on the team.]</td>\n      <td>['ZEIT : Die Aufnahmen zu Bowies letzten Platt...</td>\n    </tr>\n    <tr>\n      <th>101</th>\n      <td>Die \"Äquativ:ADJwieNP-Konstruktion\" gehört zu ...</td>\n      <td>[Das Auto fährt wie eine Lokomotive, Das Haus ...</td>\n      <td>['Ein Spiel , von dem sich viele unserer Leser...</td>\n    </tr>\n    <tr>\n      <th>...</th>\n      <td>...</td>\n      <td>...</td>\n      <td>...</td>\n    </tr>\n    <tr>\n      <th>97</th>\n      <td>Die \"Komparativ:ADJ1-eralsADJ1-Konstruktion\" g...</td>\n      <td>[Ein Mann, der höher ist als der Frau, Ein Man...</td>\n      <td>['Nämlich cooler als cool , bitteschön .', 'We...</td>\n    </tr>\n    <tr>\n      <th>973</th>\n      <td>Bei \"Disjunktion_Doppeltitel:XoderY\" handelt e...</td>\n      <td>[Xoder, Y]</td>\n      <td>['Weinen wie die Holländer , oder : Wenn Angel...</td>\n    </tr>\n    <tr>\n      <th>976</th>\n      <td>Bei \"Korrelation_Affirmation:WoXist, istY\" han...</td>\n      <td>[Wo das Licht ist, ist auch die Dunkelheit, Wo...</td>\n      <td>['Wo Energie ist , ist Wohlstand .', 'Wo viel ...</td>\n    </tr>\n    <tr>\n      <th>98</th>\n      <td>Die \"Äquativ:soADJwieXP-Konstruktion\" gehört z...</td>\n      <td>[Die 'äquativ' ist gleich 22, Das Bild ist äqu...</td>\n      <td>['Baum : Ich mache das natürlich nicht mehr so...</td>\n    </tr>\n    <tr>\n      <th>99</th>\n      <td>Die \"Komparativ:ADJ-eralsX-Konstruktion\" gehör...</td>\n      <td>[Das Gemüse ist ungleichwertig, Die Menschen s...</td>\n      <td>['Lied zu singen ist fast schwerer als Oper , ...</td>\n    </tr>\n  </tbody>\n</table>\n<p>211 rows × 3 columns</p>\n</div>"
     },
     "execution_count": 39,
     "metadata": {},
     "output_type": "execute_result"
    }
   ],
   "source": [
    "llama_subset = pd.concat((llama_data[0][[\"definition\", \"evaluated_generated\"]], llama_data[4][\"examples\"]), axis=1)\n",
    "llama_subset"
   ],
   "metadata": {
    "collapsed": false,
    "ExecuteTime": {
     "end_time": "2024-02-03T22:52:29.894919800Z",
     "start_time": "2024-02-03T22:52:29.865578500Z"
    }
   },
   "id": "561e66da9ccfe634",
   "execution_count": 39
  },
  {
   "cell_type": "code",
   "outputs": [
    {
     "data": {
      "text/plain": "                                             definition  \\\n10    Die \"Negation:NEG_XgeschweigedennY-Konstruktio...   \n100   Die \"Äquativ_Plural-Konstruktion\" gehört zu de...   \n1004  Die \"Superlativ_Klimax:ADJ1_ADJ1-er_NP-Konstru...   \n1006  Die \"Superlativ:PRÄP_ADJ-ster_NP-Konstruktion\"...   \n101   Die \"Äquativ:ADJwieNP-Konstruktion\" gehört zu ...   \n...                                                 ...   \n97    Die \"Komparativ:ADJ1-eralsADJ1-Konstruktion\" g...   \n973   Bei \"Disjunktion_Doppeltitel:XoderY\" handelt e...   \n976   Bei \"Korrelation_Affirmation:WoXist, istY\" han...   \n98    Die \"Äquativ:soADJwieXP-Konstruktion\" gehört z...   \n99    Die \"Komparativ:ADJ-eralsX-Konstruktion\" gehör...   \n\n                                    evaluated_generated  \\\n10    [Die meisten von ihnen haben zuvor noch nie ei...   \n100   [Die Schülerzahlen im Jahrgang A und B sind gl...   \n1004  [Besser, Die besten, Groß, Größer, Nie komplex...   \n1006  [Er hat die Sache mit höchster Wichtigkeit erl...   \n101   [Er hat sich hart trainiert, um ein marathonfä...   \n...                                                 ...   \n97    [Habt ihr eine Chance gehabt, in einem warmen ...   \n973   [Nietzsche - oder der Wille zur Macht, Theorie...   \n976                                                  []   \n98    [Ich habe zuvor nur so geschaltet, Ich lese ni...   \n99    [Der Apple-iPhone ist im Vergleich zum Samsung...   \n\n                                               examples  \n10    ['Oder man geht ins Studio , wo man Songs aufn...  \n100   ['Sicherheitsgefühl und objektive Sicherheit s...  \n1004  ['Gut , besser , \" \" Les Bleus \" \" :', '23. Ju...  \n1006  ['ZEIT : Die Aufnahmen zu Bowies letzten Platt...  \n101   ['Ein Spiel , von dem sich viele unserer Leser...  \n...                                                 ...  \n97    ['Nämlich cooler als cool , bitteschön .', 'We...  \n973   ['Weinen wie die Holländer , oder : Wenn Angel...  \n976   ['Wo Energie ist , ist Wohlstand .', 'Wo viel ...  \n98    ['Baum : Ich mache das natürlich nicht mehr so...  \n99    ['Lied zu singen ist fast schwerer als Oper , ...  \n\n[211 rows x 3 columns]",
      "text/html": "<div>\n<style scoped>\n    .dataframe tbody tr th:only-of-type {\n        vertical-align: middle;\n    }\n\n    .dataframe tbody tr th {\n        vertical-align: top;\n    }\n\n    .dataframe thead th {\n        text-align: right;\n    }\n</style>\n<table border=\"1\" class=\"dataframe\">\n  <thead>\n    <tr style=\"text-align: right;\">\n      <th></th>\n      <th>definition</th>\n      <th>evaluated_generated</th>\n      <th>examples</th>\n    </tr>\n  </thead>\n  <tbody>\n    <tr>\n      <th>10</th>\n      <td>Die \"Negation:NEG_XgeschweigedennY-Konstruktio...</td>\n      <td>[Die meisten von ihnen haben zuvor noch nie ei...</td>\n      <td>['Oder man geht ins Studio , wo man Songs aufn...</td>\n    </tr>\n    <tr>\n      <th>100</th>\n      <td>Die \"Äquativ_Plural-Konstruktion\" gehört zu de...</td>\n      <td>[Die Schülerzahlen im Jahrgang A und B sind gl...</td>\n      <td>['Sicherheitsgefühl und objektive Sicherheit s...</td>\n    </tr>\n    <tr>\n      <th>1004</th>\n      <td>Die \"Superlativ_Klimax:ADJ1_ADJ1-er_NP-Konstru...</td>\n      <td>[Besser, Die besten, Groß, Größer, Nie komplex...</td>\n      <td>['Gut , besser , \" \" Les Bleus \" \" :', '23. Ju...</td>\n    </tr>\n    <tr>\n      <th>1006</th>\n      <td>Die \"Superlativ:PRÄP_ADJ-ster_NP-Konstruktion\"...</td>\n      <td>[Er hat die Sache mit höchster Wichtigkeit erl...</td>\n      <td>['ZEIT : Die Aufnahmen zu Bowies letzten Platt...</td>\n    </tr>\n    <tr>\n      <th>101</th>\n      <td>Die \"Äquativ:ADJwieNP-Konstruktion\" gehört zu ...</td>\n      <td>[Er hat sich hart trainiert, um ein marathonfä...</td>\n      <td>['Ein Spiel , von dem sich viele unserer Leser...</td>\n    </tr>\n    <tr>\n      <th>...</th>\n      <td>...</td>\n      <td>...</td>\n      <td>...</td>\n    </tr>\n    <tr>\n      <th>97</th>\n      <td>Die \"Komparativ:ADJ1-eralsADJ1-Konstruktion\" g...</td>\n      <td>[Habt ihr eine Chance gehabt, in einem warmen ...</td>\n      <td>['Nämlich cooler als cool , bitteschön .', 'We...</td>\n    </tr>\n    <tr>\n      <th>973</th>\n      <td>Bei \"Disjunktion_Doppeltitel:XoderY\" handelt e...</td>\n      <td>[Nietzsche - oder der Wille zur Macht, Theorie...</td>\n      <td>['Weinen wie die Holländer , oder : Wenn Angel...</td>\n    </tr>\n    <tr>\n      <th>976</th>\n      <td>Bei \"Korrelation_Affirmation:WoXist, istY\" han...</td>\n      <td>[]</td>\n      <td>['Wo Energie ist , ist Wohlstand .', 'Wo viel ...</td>\n    </tr>\n    <tr>\n      <th>98</th>\n      <td>Die \"Äquativ:soADJwieXP-Konstruktion\" gehört z...</td>\n      <td>[Ich habe zuvor nur so geschaltet, Ich lese ni...</td>\n      <td>['Baum : Ich mache das natürlich nicht mehr so...</td>\n    </tr>\n    <tr>\n      <th>99</th>\n      <td>Die \"Komparativ:ADJ-eralsX-Konstruktion\" gehör...</td>\n      <td>[Der Apple-iPhone ist im Vergleich zum Samsung...</td>\n      <td>['Lied zu singen ist fast schwerer als Oper , ...</td>\n    </tr>\n  </tbody>\n</table>\n<p>211 rows × 3 columns</p>\n</div>"
     },
     "execution_count": 40,
     "metadata": {},
     "output_type": "execute_result"
    }
   ],
   "source": [
    "llama_subset_3 = pd.concat((llama_data[3][[\"definition\", \"evaluated_generated\"]], llama_data[4][\"examples\"]), axis=1)\n",
    "llama_subset_3"
   ],
   "metadata": {
    "collapsed": false,
    "ExecuteTime": {
     "end_time": "2024-02-03T22:52:29.970881300Z",
     "start_time": "2024-02-03T22:52:29.889739900Z"
    }
   },
   "id": "f33d1ff51180f2e4",
   "execution_count": 40
  },
  {
   "cell_type": "code",
   "outputs": [
    {
     "data": {
      "text/plain": "      construction                  evaluated_generated_mbart_vanilla  \\\n0                5  [\"\"Nicht herauskaufen\"\", \"\"nicht erpressen las...   \n1                5  [\"\"Nicht herauskaufen\"\", \"\"nicht erpressen las...   \n2                5  [\"\"Nicht herauskaufen\"\", \"\"nicht erpressen las...   \n3                5  [\"\"Nicht herauskaufen\"\", \"\"nicht erpressen las...   \n4                5  [\"\"Nicht herauskaufen\"\", \"\"nicht erpressen las...   \n...            ...                                                ...   \n2827          1884  [Schweigen ist wie Gold., Schweigen ist wie Go...   \n2828          1884  [Schweigen ist wie Gold., Schweigen ist wie Go...   \n2829          1884  [Schweigen ist wie Gold., Schweigen ist wie Go...   \n2830          1986  [Die Vorhut vor 20.000 Jahren war für das Ries...   \n2831          1987  [Solche Menschen können sich sehr, \" \" Das hat...   \n\n                       evaluated_generated_mbart_pseudo  \n0     [... Mehrwertsteuer......., Auf das schnelle V...  \n1     [..........., Tatsächlich sind wir uns niemals...  \n2     [Es hat Afghanistan nicht stabilisiert und sch...  \n3                                                    []  \n4     [............, Tatsächlich sind wir uns niemal...  \n...                                                 ...  \n2827  [Schweigen ist Silber, reden ist Gold....., Sc...  \n2828  [Schweigen ist... Gold..., Schweigen ist Gold!...  \n2829  [Schweigen... Gold...., Schweigen Gold!, Angeb...  \n2830  [Die Vorhut vor 20.000 Jahren war für das Ries...  \n2831  [.........., \" \" Das hat die Schüler nicht rec...  \n\n[2832 rows x 3 columns]",
      "text/html": "<div>\n<style scoped>\n    .dataframe tbody tr th:only-of-type {\n        vertical-align: middle;\n    }\n\n    .dataframe tbody tr th {\n        vertical-align: top;\n    }\n\n    .dataframe thead th {\n        text-align: right;\n    }\n</style>\n<table border=\"1\" class=\"dataframe\">\n  <thead>\n    <tr style=\"text-align: right;\">\n      <th></th>\n      <th>construction</th>\n      <th>evaluated_generated_mbart_vanilla</th>\n      <th>evaluated_generated_mbart_pseudo</th>\n    </tr>\n  </thead>\n  <tbody>\n    <tr>\n      <th>0</th>\n      <td>5</td>\n      <td>[\"\"Nicht herauskaufen\"\", \"\"nicht erpressen las...</td>\n      <td>[... Mehrwertsteuer......., Auf das schnelle V...</td>\n    </tr>\n    <tr>\n      <th>1</th>\n      <td>5</td>\n      <td>[\"\"Nicht herauskaufen\"\", \"\"nicht erpressen las...</td>\n      <td>[..........., Tatsächlich sind wir uns niemals...</td>\n    </tr>\n    <tr>\n      <th>2</th>\n      <td>5</td>\n      <td>[\"\"Nicht herauskaufen\"\", \"\"nicht erpressen las...</td>\n      <td>[Es hat Afghanistan nicht stabilisiert und sch...</td>\n    </tr>\n    <tr>\n      <th>3</th>\n      <td>5</td>\n      <td>[\"\"Nicht herauskaufen\"\", \"\"nicht erpressen las...</td>\n      <td>[]</td>\n    </tr>\n    <tr>\n      <th>4</th>\n      <td>5</td>\n      <td>[\"\"Nicht herauskaufen\"\", \"\"nicht erpressen las...</td>\n      <td>[............, Tatsächlich sind wir uns niemal...</td>\n    </tr>\n    <tr>\n      <th>...</th>\n      <td>...</td>\n      <td>...</td>\n      <td>...</td>\n    </tr>\n    <tr>\n      <th>2827</th>\n      <td>1884</td>\n      <td>[Schweigen ist wie Gold., Schweigen ist wie Go...</td>\n      <td>[Schweigen ist Silber, reden ist Gold....., Sc...</td>\n    </tr>\n    <tr>\n      <th>2828</th>\n      <td>1884</td>\n      <td>[Schweigen ist wie Gold., Schweigen ist wie Go...</td>\n      <td>[Schweigen ist... Gold..., Schweigen ist Gold!...</td>\n    </tr>\n    <tr>\n      <th>2829</th>\n      <td>1884</td>\n      <td>[Schweigen ist wie Gold., Schweigen ist wie Go...</td>\n      <td>[Schweigen... Gold...., Schweigen Gold!, Angeb...</td>\n    </tr>\n    <tr>\n      <th>2830</th>\n      <td>1986</td>\n      <td>[Die Vorhut vor 20.000 Jahren war für das Ries...</td>\n      <td>[Die Vorhut vor 20.000 Jahren war für das Ries...</td>\n    </tr>\n    <tr>\n      <th>2831</th>\n      <td>1987</td>\n      <td>[Solche Menschen können sich sehr, \" \" Das hat...</td>\n      <td>[.........., \" \" Das hat die Schüler nicht rec...</td>\n    </tr>\n  </tbody>\n</table>\n<p>2832 rows × 3 columns</p>\n</div>"
     },
     "execution_count": 41,
     "metadata": {},
     "output_type": "execute_result"
    }
   ],
   "source": [
    "mbart_merged = pd.merge(mbart_vanilla_data[[\"construction\", \"evaluated_generated\"]], mbart_data[[\"construction\", \"evaluated_generated\"]], on=\"construction\", how=\"inner\", suffixes=[\"_mbart_vanilla\", \"_mbart_pseudo\"])\n",
    "mbart_merged"
   ],
   "metadata": {
    "collapsed": false,
    "ExecuteTime": {
     "end_time": "2024-02-03T22:52:30.028317600Z",
     "start_time": "2024-02-03T22:52:29.910584100Z"
    }
   },
   "id": "ff54479cbe09e69a",
   "execution_count": 41
  },
  {
   "cell_type": "code",
   "outputs": [
    {
     "data": {
      "text/plain": "                                              definition  \\\n0      Die \"Negation:NEG_XgeschweigedennY-Konstruktio...   \n1      Die \"Negation:NEG_XgeschweigedennY-Konstruktio...   \n2      Die \"Negation:NEG_XgeschweigedennY-Konstruktio...   \n3      Die \"Negation:NEG_XgeschweigedennY-Konstruktio...   \n4      Die \"Negation:NEG_XgeschweigedennY-Konstruktio...   \n...                                                  ...   \n28307  Die \"Äquativ:soADJwieXP-Konstruktion\" gehört z...   \n28308  Die \"Äquativ:soADJwieXP-Konstruktion\" gehört z...   \n28309  Die \"Äquativ:soADJwieXP-Konstruktion\" gehört z...   \n28310  Die \"Äquativ:soADJwieXP-Konstruktion\" gehört z...   \n28311  Die \"Komparativ:ADJ-eralsX-Konstruktion\" gehör...   \n\n                               evaluated_generated_llama  \\\n0      [Die meisten von ihnen haben zuvor noch nie ei...   \n1      [Die meisten von ihnen haben zuvor noch nie ei...   \n2      [Die meisten von ihnen haben zuvor noch nie ei...   \n3      [Die meisten von ihnen haben zuvor noch nie ei...   \n4      [Die meisten von ihnen haben zuvor noch nie ei...   \n...                                                  ...   \n28307  [Die 'äquativ' ist gleich 22, Das Bild ist äqu...   \n28308  [Die 'äquativ' ist gleich 22, Das Bild ist äqu...   \n28309  [Die 'äquativ' ist gleich 22, Das Bild ist äqu...   \n28310  [Die 'äquativ' ist gleich 22, Das Bild ist äqu...   \n28311  [Das Gemüse ist ungleichwertig, Die Menschen s...   \n\n                                                examples  construction  \\\n0      ['Oder man geht ins Studio , wo man Songs aufn...            10   \n1      ['Oder man geht ins Studio , wo man Songs aufn...            10   \n2      ['Oder man geht ins Studio , wo man Songs aufn...            10   \n3      ['Oder man geht ins Studio , wo man Songs aufn...            10   \n4      ['Oder man geht ins Studio , wo man Songs aufn...            10   \n...                                                  ...           ...   \n28307  ['Baum : Ich mache das natürlich nicht mehr so...            98   \n28308  ['Baum : Ich mache das natürlich nicht mehr so...            98   \n28309  ['Baum : Ich mache das natürlich nicht mehr so...            98   \n28310  ['Baum : Ich mache das natürlich nicht mehr so...            98   \n28311  ['Lied zu singen ist fast schwerer als Oper , ...            99   \n\n                       evaluated_generated_mbart_vanilla  \\\n0      [Die Chance dazu haben sie, und sie haben sie ...   \n1      [Die Chance dazu haben sie, und sie haben sie ...   \n2      [Die Chance dazu haben sie, und sie haben sie ...   \n3      [Die Chance dazu haben sie, und sie haben sie ...   \n4      [Die Chance dazu haben sie, und sie haben sie ...   \n...                                                  ...   \n28307  [Als Vorstandsvorsitzender verdient er grob 10...   \n28308  [Als Vorstandsvorsitzender verdient er grob 10...   \n28309  [Als Vorstandsvorsitzender verdient er grob 10...   \n28310  [Als Vorstandsvorsitzender verdient er grob 10...   \n28311  [im Gang sieht sie plötzlich Jamie, erkennt ih...   \n\n                        evaluated_generated_mbart_pseudo  \\\n0      [Die Chance dazu haben sie, und sie haben sie ...   \n1      [Die Chance dazu haben sie, und sie haben sie ...   \n2      [Die Chance dazu haben sie, und sie haben sie ...   \n3      [..........., »Ohne Europa sind viele Fragen n...   \n4      [..........., »Ohne Europa sind viele Fragen n...   \n...                                                  ...   \n28307  [Als Vorstandsvorsitzender verdient er grob 10...   \n28308  [Als Vorstandsvorsitzender verdient er grob 10...   \n28309  [Als Vorstandsvorsitzender verdient er grob 10...   \n28310  [Als Vorstandsvorsitzender verdient er grob 10...   \n28311                                                 []   \n\n                                evaluated_generated_bert  \\\n0      [[CLS] Geschweige10 denn , dass sie die Argume...   \n1      [[CLS] Und dann ist da noch das generelle Prob...   \n2      [[CLS] Und dann ist da noch das generelle Prob...   \n3      [[CLS] Geschweige10 denn , dass sie die Argume...   \n4      [[CLS] Und dann ist da noch das generelle Prob...   \n...                                                  ...   \n28307  [[CLS] Nun bleibt die Frage : Wird der Bitcoin...   \n28308  [[CLS] Der Autorin genügen fein gesetzte Motiv...   \n28309  [[CLS] Doch Spirale II , das ebenfalls aus dem...   \n28310  [[CLS] Als Vorstandsvorsitzender verdient er g...   \n28311    [' [ M A S K ] '   i s   n o t   i n   l i s t]   \n\n                              evaluated_generated_llama3  \n0      [Die meisten von ihnen haben zuvor noch nie ei...  \n1      [Die meisten von ihnen haben zuvor noch nie ei...  \n2      [Die meisten von ihnen haben zuvor noch nie ei...  \n3      [Die meisten von ihnen haben zuvor noch nie ei...  \n4      [Die meisten von ihnen haben zuvor noch nie ei...  \n...                                                  ...  \n28307  [Ich habe zuvor nur so geschaltet, Ich lese ni...  \n28308  [Ich habe zuvor nur so geschaltet, Ich lese ni...  \n28309  [Ich habe zuvor nur so geschaltet, Ich lese ni...  \n28310  [Ich habe zuvor nur so geschaltet, Ich lese ni...  \n28311  [Der Apple-iPhone ist im Vergleich zum Samsung...  \n\n[28312 rows x 8 columns]",
      "text/html": "<div>\n<style scoped>\n    .dataframe tbody tr th:only-of-type {\n        vertical-align: middle;\n    }\n\n    .dataframe tbody tr th {\n        vertical-align: top;\n    }\n\n    .dataframe thead th {\n        text-align: right;\n    }\n</style>\n<table border=\"1\" class=\"dataframe\">\n  <thead>\n    <tr style=\"text-align: right;\">\n      <th></th>\n      <th>definition</th>\n      <th>evaluated_generated_llama</th>\n      <th>examples</th>\n      <th>construction</th>\n      <th>evaluated_generated_mbart_vanilla</th>\n      <th>evaluated_generated_mbart_pseudo</th>\n      <th>evaluated_generated_bert</th>\n      <th>evaluated_generated_llama3</th>\n    </tr>\n  </thead>\n  <tbody>\n    <tr>\n      <th>0</th>\n      <td>Die \"Negation:NEG_XgeschweigedennY-Konstruktio...</td>\n      <td>[Die meisten von ihnen haben zuvor noch nie ei...</td>\n      <td>['Oder man geht ins Studio , wo man Songs aufn...</td>\n      <td>10</td>\n      <td>[Die Chance dazu haben sie, und sie haben sie ...</td>\n      <td>[Die Chance dazu haben sie, und sie haben sie ...</td>\n      <td>[[CLS] Geschweige10 denn , dass sie die Argume...</td>\n      <td>[Die meisten von ihnen haben zuvor noch nie ei...</td>\n    </tr>\n    <tr>\n      <th>1</th>\n      <td>Die \"Negation:NEG_XgeschweigedennY-Konstruktio...</td>\n      <td>[Die meisten von ihnen haben zuvor noch nie ei...</td>\n      <td>['Oder man geht ins Studio , wo man Songs aufn...</td>\n      <td>10</td>\n      <td>[Die Chance dazu haben sie, und sie haben sie ...</td>\n      <td>[Die Chance dazu haben sie, und sie haben sie ...</td>\n      <td>[[CLS] Und dann ist da noch das generelle Prob...</td>\n      <td>[Die meisten von ihnen haben zuvor noch nie ei...</td>\n    </tr>\n    <tr>\n      <th>2</th>\n      <td>Die \"Negation:NEG_XgeschweigedennY-Konstruktio...</td>\n      <td>[Die meisten von ihnen haben zuvor noch nie ei...</td>\n      <td>['Oder man geht ins Studio , wo man Songs aufn...</td>\n      <td>10</td>\n      <td>[Die Chance dazu haben sie, und sie haben sie ...</td>\n      <td>[Die Chance dazu haben sie, und sie haben sie ...</td>\n      <td>[[CLS] Und dann ist da noch das generelle Prob...</td>\n      <td>[Die meisten von ihnen haben zuvor noch nie ei...</td>\n    </tr>\n    <tr>\n      <th>3</th>\n      <td>Die \"Negation:NEG_XgeschweigedennY-Konstruktio...</td>\n      <td>[Die meisten von ihnen haben zuvor noch nie ei...</td>\n      <td>['Oder man geht ins Studio , wo man Songs aufn...</td>\n      <td>10</td>\n      <td>[Die Chance dazu haben sie, und sie haben sie ...</td>\n      <td>[..........., »Ohne Europa sind viele Fragen n...</td>\n      <td>[[CLS] Geschweige10 denn , dass sie die Argume...</td>\n      <td>[Die meisten von ihnen haben zuvor noch nie ei...</td>\n    </tr>\n    <tr>\n      <th>4</th>\n      <td>Die \"Negation:NEG_XgeschweigedennY-Konstruktio...</td>\n      <td>[Die meisten von ihnen haben zuvor noch nie ei...</td>\n      <td>['Oder man geht ins Studio , wo man Songs aufn...</td>\n      <td>10</td>\n      <td>[Die Chance dazu haben sie, und sie haben sie ...</td>\n      <td>[..........., »Ohne Europa sind viele Fragen n...</td>\n      <td>[[CLS] Und dann ist da noch das generelle Prob...</td>\n      <td>[Die meisten von ihnen haben zuvor noch nie ei...</td>\n    </tr>\n    <tr>\n      <th>...</th>\n      <td>...</td>\n      <td>...</td>\n      <td>...</td>\n      <td>...</td>\n      <td>...</td>\n      <td>...</td>\n      <td>...</td>\n      <td>...</td>\n    </tr>\n    <tr>\n      <th>28307</th>\n      <td>Die \"Äquativ:soADJwieXP-Konstruktion\" gehört z...</td>\n      <td>[Die 'äquativ' ist gleich 22, Das Bild ist äqu...</td>\n      <td>['Baum : Ich mache das natürlich nicht mehr so...</td>\n      <td>98</td>\n      <td>[Als Vorstandsvorsitzender verdient er grob 10...</td>\n      <td>[Als Vorstandsvorsitzender verdient er grob 10...</td>\n      <td>[[CLS] Nun bleibt die Frage : Wird der Bitcoin...</td>\n      <td>[Ich habe zuvor nur so geschaltet, Ich lese ni...</td>\n    </tr>\n    <tr>\n      <th>28308</th>\n      <td>Die \"Äquativ:soADJwieXP-Konstruktion\" gehört z...</td>\n      <td>[Die 'äquativ' ist gleich 22, Das Bild ist äqu...</td>\n      <td>['Baum : Ich mache das natürlich nicht mehr so...</td>\n      <td>98</td>\n      <td>[Als Vorstandsvorsitzender verdient er grob 10...</td>\n      <td>[Als Vorstandsvorsitzender verdient er grob 10...</td>\n      <td>[[CLS] Der Autorin genügen fein gesetzte Motiv...</td>\n      <td>[Ich habe zuvor nur so geschaltet, Ich lese ni...</td>\n    </tr>\n    <tr>\n      <th>28309</th>\n      <td>Die \"Äquativ:soADJwieXP-Konstruktion\" gehört z...</td>\n      <td>[Die 'äquativ' ist gleich 22, Das Bild ist äqu...</td>\n      <td>['Baum : Ich mache das natürlich nicht mehr so...</td>\n      <td>98</td>\n      <td>[Als Vorstandsvorsitzender verdient er grob 10...</td>\n      <td>[Als Vorstandsvorsitzender verdient er grob 10...</td>\n      <td>[[CLS] Doch Spirale II , das ebenfalls aus dem...</td>\n      <td>[Ich habe zuvor nur so geschaltet, Ich lese ni...</td>\n    </tr>\n    <tr>\n      <th>28310</th>\n      <td>Die \"Äquativ:soADJwieXP-Konstruktion\" gehört z...</td>\n      <td>[Die 'äquativ' ist gleich 22, Das Bild ist äqu...</td>\n      <td>['Baum : Ich mache das natürlich nicht mehr so...</td>\n      <td>98</td>\n      <td>[Als Vorstandsvorsitzender verdient er grob 10...</td>\n      <td>[Als Vorstandsvorsitzender verdient er grob 10...</td>\n      <td>[[CLS] Als Vorstandsvorsitzender verdient er g...</td>\n      <td>[Ich habe zuvor nur so geschaltet, Ich lese ni...</td>\n    </tr>\n    <tr>\n      <th>28311</th>\n      <td>Die \"Komparativ:ADJ-eralsX-Konstruktion\" gehör...</td>\n      <td>[Das Gemüse ist ungleichwertig, Die Menschen s...</td>\n      <td>['Lied zu singen ist fast schwerer als Oper , ...</td>\n      <td>99</td>\n      <td>[im Gang sieht sie plötzlich Jamie, erkennt ih...</td>\n      <td>[]</td>\n      <td>[' [ M A S K ] '   i s   n o t   i n   l i s t]</td>\n      <td>[Der Apple-iPhone ist im Vergleich zum Samsung...</td>\n    </tr>\n  </tbody>\n</table>\n<p>28312 rows × 8 columns</p>\n</div>"
     },
     "execution_count": 42,
     "metadata": {},
     "output_type": "execute_result"
    }
   ],
   "source": [
    "final_merged = pd.merge(llama_subset, mbart_merged, left_index=True, right_on=\"construction\")\n",
    "final_merged = pd.merge(final_merged, bsbbert_data[[\"construction\", \"evaluated_generated\"]], on=\"construction\", suffixes=[\"_llama\", \"_bert\"])\n",
    "final_merged = pd.merge(final_merged, llama_subset_3[\"evaluated_generated\"], left_on=\"construction\", right_index=True)\n",
    "tokenizer = BertTokenizer.from_pretrained(\"dbmdz/bert-base-german-cased\")\n",
    "final_merged[\"evaluated_generated_bert\"] = final_merged.apply(lambda row: [tokenizer.convert_tokens_to_string([\" \".join([str(s) for s in n])]) for n in row[\"evaluated_generated_bert\"]], axis=1)\n",
    "final_merged.rename({\"evaluated_generated\": \"evaluated_generated_llama3\"}, axis=1, inplace=True)\n",
    "\n",
    "final_merged"
   ],
   "metadata": {
    "collapsed": false,
    "ExecuteTime": {
     "end_time": "2024-02-03T22:52:37.295287300Z",
     "start_time": "2024-02-03T22:52:29.948026100Z"
    }
   },
   "id": "ed3f21f350f3e02",
   "execution_count": 42
  },
  {
   "cell_type": "code",
   "outputs": [
    {
     "data": {
      "text/plain": "       construction                          evaluated_generated_llama\n0                10  Die meisten von ihnen haben zuvor noch nie ein...\n0                10  Die meisten von ihnen haben zuvor noch nie ein...\n27              100             Die beiden Pferde sind gleicher Größe.\n27              100      Die beiden Mannschaften sind gleicher Stärke.\n28             1004                             Michael is the tallest\n...             ...                                                ...\n28311            99                   Die Mobilität ist ungleichwertig\n28311            99                   Die Sprachen sind ungleichwertig\n28311            99          Die Wetterbedingungen sind ungleichwertig\n28311            99             Die Lebenserwartung ist ungleichwertig\n28311            99                      Die Arbeit ist ungleichwertig\n\n[412 rows x 2 columns]",
      "text/html": "<div>\n<style scoped>\n    .dataframe tbody tr th:only-of-type {\n        vertical-align: middle;\n    }\n\n    .dataframe tbody tr th {\n        vertical-align: top;\n    }\n\n    .dataframe thead th {\n        text-align: right;\n    }\n</style>\n<table border=\"1\" class=\"dataframe\">\n  <thead>\n    <tr style=\"text-align: right;\">\n      <th></th>\n      <th>construction</th>\n      <th>evaluated_generated_llama</th>\n    </tr>\n  </thead>\n  <tbody>\n    <tr>\n      <th>0</th>\n      <td>10</td>\n      <td>Die meisten von ihnen haben zuvor noch nie ein...</td>\n    </tr>\n    <tr>\n      <th>0</th>\n      <td>10</td>\n      <td>Die meisten von ihnen haben zuvor noch nie ein...</td>\n    </tr>\n    <tr>\n      <th>27</th>\n      <td>100</td>\n      <td>Die beiden Pferde sind gleicher Größe.</td>\n    </tr>\n    <tr>\n      <th>27</th>\n      <td>100</td>\n      <td>Die beiden Mannschaften sind gleicher Stärke.</td>\n    </tr>\n    <tr>\n      <th>28</th>\n      <td>1004</td>\n      <td>Michael is the tallest</td>\n    </tr>\n    <tr>\n      <th>...</th>\n      <td>...</td>\n      <td>...</td>\n    </tr>\n    <tr>\n      <th>28311</th>\n      <td>99</td>\n      <td>Die Mobilität ist ungleichwertig</td>\n    </tr>\n    <tr>\n      <th>28311</th>\n      <td>99</td>\n      <td>Die Sprachen sind ungleichwertig</td>\n    </tr>\n    <tr>\n      <th>28311</th>\n      <td>99</td>\n      <td>Die Wetterbedingungen sind ungleichwertig</td>\n    </tr>\n    <tr>\n      <th>28311</th>\n      <td>99</td>\n      <td>Die Lebenserwartung ist ungleichwertig</td>\n    </tr>\n    <tr>\n      <th>28311</th>\n      <td>99</td>\n      <td>Die Arbeit ist ungleichwertig</td>\n    </tr>\n  </tbody>\n</table>\n<p>412 rows × 2 columns</p>\n</div>"
     },
     "execution_count": 43,
     "metadata": {},
     "output_type": "execute_result"
    }
   ],
   "source": [
    "llama_generated = final_merged[[\"construction\", \"evaluated_generated_llama\"]].explode(\"evaluated_generated_llama\").drop_duplicates()\n",
    "llama_generated.to_csv(f\"../../out/generated/llama_0_shot.tsv\", sep=\"\\t\", decimal=\",\", index=False)\n",
    "llama_generated"
   ],
   "metadata": {
    "collapsed": false,
    "ExecuteTime": {
     "end_time": "2024-02-03T22:52:37.333872400Z",
     "start_time": "2024-02-03T22:52:37.298979700Z"
    }
   },
   "id": "e68854aa2359c4bc",
   "execution_count": 43
  },
  {
   "cell_type": "code",
   "outputs": [
    {
     "data": {
      "text/plain": "       construction                         evaluated_generated_llama3\n0                10  Die meisten von ihnen haben zuvor noch nie ein...\n0                10  Dennoch hat Hamas es nicht geschafft, ihre mil...\n0                10  Reicher, geschweige denn glücklicher, wird ein...\n27              100  Die Schülerzahlen im Jahrgang A und B sind gle...\n28             1004                                             Besser\n...             ...                                                ...\n28186            98             Das Leben ist hier sozusagen wunderbar\n28186            98         Der Anruf war so unerfreulich wie erwartet\n28311            99  Der Apple-iPhone ist im Vergleich zum Samsung-...\n28311            99  Der neue Porsche-911-GT3-R-Sportwagen ist schn...\n28311            99  Die Kosten für eine Dental-Behandlung sind im ...\n\n[504 rows x 2 columns]",
      "text/html": "<div>\n<style scoped>\n    .dataframe tbody tr th:only-of-type {\n        vertical-align: middle;\n    }\n\n    .dataframe tbody tr th {\n        vertical-align: top;\n    }\n\n    .dataframe thead th {\n        text-align: right;\n    }\n</style>\n<table border=\"1\" class=\"dataframe\">\n  <thead>\n    <tr style=\"text-align: right;\">\n      <th></th>\n      <th>construction</th>\n      <th>evaluated_generated_llama3</th>\n    </tr>\n  </thead>\n  <tbody>\n    <tr>\n      <th>0</th>\n      <td>10</td>\n      <td>Die meisten von ihnen haben zuvor noch nie ein...</td>\n    </tr>\n    <tr>\n      <th>0</th>\n      <td>10</td>\n      <td>Dennoch hat Hamas es nicht geschafft, ihre mil...</td>\n    </tr>\n    <tr>\n      <th>0</th>\n      <td>10</td>\n      <td>Reicher, geschweige denn glücklicher, wird ein...</td>\n    </tr>\n    <tr>\n      <th>27</th>\n      <td>100</td>\n      <td>Die Schülerzahlen im Jahrgang A und B sind gle...</td>\n    </tr>\n    <tr>\n      <th>28</th>\n      <td>1004</td>\n      <td>Besser</td>\n    </tr>\n    <tr>\n      <th>...</th>\n      <td>...</td>\n      <td>...</td>\n    </tr>\n    <tr>\n      <th>28186</th>\n      <td>98</td>\n      <td>Das Leben ist hier sozusagen wunderbar</td>\n    </tr>\n    <tr>\n      <th>28186</th>\n      <td>98</td>\n      <td>Der Anruf war so unerfreulich wie erwartet</td>\n    </tr>\n    <tr>\n      <th>28311</th>\n      <td>99</td>\n      <td>Der Apple-iPhone ist im Vergleich zum Samsung-...</td>\n    </tr>\n    <tr>\n      <th>28311</th>\n      <td>99</td>\n      <td>Der neue Porsche-911-GT3-R-Sportwagen ist schn...</td>\n    </tr>\n    <tr>\n      <th>28311</th>\n      <td>99</td>\n      <td>Die Kosten für eine Dental-Behandlung sind im ...</td>\n    </tr>\n  </tbody>\n</table>\n<p>504 rows × 2 columns</p>\n</div>"
     },
     "execution_count": 44,
     "metadata": {},
     "output_type": "execute_result"
    }
   ],
   "source": [
    "llama_generated3 = final_merged[[\"construction\", \"evaluated_generated_llama3\"]].explode(\"evaluated_generated_llama3\").drop_duplicates()\n",
    "llama_generated3.to_csv(f\"../../out/generated/llama_3_shot.tsv\", sep=\"\\t\", decimal=\",\", index=False)\n",
    "llama_generated3"
   ],
   "metadata": {
    "collapsed": false,
    "ExecuteTime": {
     "end_time": "2024-02-03T22:52:37.430434Z",
     "start_time": "2024-02-03T22:52:37.331382100Z"
    }
   },
   "id": "b4020b556c387f32",
   "execution_count": 44
  },
  {
   "cell_type": "code",
   "outputs": [
    {
     "data": {
      "text/plain": "       construction                  evaluated_generated_mbart_vanilla\n0                10  Die Chance dazu haben sie, und sie haben sie i...\n0                10               Sie kennen aber nicht ihre Ausgaben.\n0                10  Ein verbesserter Zugang zu einzelnen Abgeordne...\n9                10  Und dann ist da noch das generelle Problem mit...\n9                10  \"Ohne Europa sind viele Fragen nicht mehr seriös\"\n...             ...                                                ...\n28286            98                   Der Baum, so wie er sein sollte.\n28286            98                     Bei allen Abstimmungen, die so\n28286            98                         Sie machen so , was nützt.\n28311            99  im Gang sieht sie plötzlich Jamie, erkennt ihn...\n28311            99    rund 45. 000 Dollar soll der Byton - SUV kosten\n\n[7992 rows x 2 columns]",
      "text/html": "<div>\n<style scoped>\n    .dataframe tbody tr th:only-of-type {\n        vertical-align: middle;\n    }\n\n    .dataframe tbody tr th {\n        vertical-align: top;\n    }\n\n    .dataframe thead th {\n        text-align: right;\n    }\n</style>\n<table border=\"1\" class=\"dataframe\">\n  <thead>\n    <tr style=\"text-align: right;\">\n      <th></th>\n      <th>construction</th>\n      <th>evaluated_generated_mbart_vanilla</th>\n    </tr>\n  </thead>\n  <tbody>\n    <tr>\n      <th>0</th>\n      <td>10</td>\n      <td>Die Chance dazu haben sie, und sie haben sie i...</td>\n    </tr>\n    <tr>\n      <th>0</th>\n      <td>10</td>\n      <td>Sie kennen aber nicht ihre Ausgaben.</td>\n    </tr>\n    <tr>\n      <th>0</th>\n      <td>10</td>\n      <td>Ein verbesserter Zugang zu einzelnen Abgeordne...</td>\n    </tr>\n    <tr>\n      <th>9</th>\n      <td>10</td>\n      <td>Und dann ist da noch das generelle Problem mit...</td>\n    </tr>\n    <tr>\n      <th>9</th>\n      <td>10</td>\n      <td>\"Ohne Europa sind viele Fragen nicht mehr seriös\"</td>\n    </tr>\n    <tr>\n      <th>...</th>\n      <td>...</td>\n      <td>...</td>\n    </tr>\n    <tr>\n      <th>28286</th>\n      <td>98</td>\n      <td>Der Baum, so wie er sein sollte.</td>\n    </tr>\n    <tr>\n      <th>28286</th>\n      <td>98</td>\n      <td>Bei allen Abstimmungen, die so</td>\n    </tr>\n    <tr>\n      <th>28286</th>\n      <td>98</td>\n      <td>Sie machen so , was nützt.</td>\n    </tr>\n    <tr>\n      <th>28311</th>\n      <td>99</td>\n      <td>im Gang sieht sie plötzlich Jamie, erkennt ihn...</td>\n    </tr>\n    <tr>\n      <th>28311</th>\n      <td>99</td>\n      <td>rund 45. 000 Dollar soll der Byton - SUV kosten</td>\n    </tr>\n  </tbody>\n</table>\n<p>7992 rows × 2 columns</p>\n</div>"
     },
     "execution_count": 45,
     "metadata": {},
     "output_type": "execute_result"
    }
   ],
   "source": [
    "mbart_vanilla_generated = final_merged[[\"construction\", \"evaluated_generated_mbart_vanilla\"]].explode(\"evaluated_generated_mbart_vanilla\").drop_duplicates()\n",
    "mbart_vanilla_generated.to_csv(f\"../../out/generated/mbart_vanilla.tsv\", sep=\"\\t\", decimal=\",\", index=False)\n",
    "mbart_vanilla_generated"
   ],
   "metadata": {
    "collapsed": false,
    "ExecuteTime": {
     "end_time": "2024-02-03T22:52:37.540106500Z",
     "start_time": "2024-02-03T22:52:37.365842600Z"
    }
   },
   "id": "4bc0737b0597d90a",
   "execution_count": 45
  },
  {
   "cell_type": "code",
   "outputs": [
    {
     "data": {
      "text/plain": "       construction                   evaluated_generated_mbart_pseudo\n0                10  Die Chance dazu haben sie, und sie haben sie i...\n0                10            Sie kennen aber nicht ihren Kontostand.\n0                10                                     ..............\n3                10                                        ...........\n3                10  »Ohne Europa sind viele Fragen nicht mehr seri...\n...             ...                                                ...\n28206            98                           Sind die Noaks Marcumar?\n28206            98                           Der Baum,.. sollte......\n28206            98           Bei allen Abstimmungen, die Bevölkerung.\n28206            98                                  Sie machen nützt.\n28311            99                                                NaN\n\n[7073 rows x 2 columns]",
      "text/html": "<div>\n<style scoped>\n    .dataframe tbody tr th:only-of-type {\n        vertical-align: middle;\n    }\n\n    .dataframe tbody tr th {\n        vertical-align: top;\n    }\n\n    .dataframe thead th {\n        text-align: right;\n    }\n</style>\n<table border=\"1\" class=\"dataframe\">\n  <thead>\n    <tr style=\"text-align: right;\">\n      <th></th>\n      <th>construction</th>\n      <th>evaluated_generated_mbart_pseudo</th>\n    </tr>\n  </thead>\n  <tbody>\n    <tr>\n      <th>0</th>\n      <td>10</td>\n      <td>Die Chance dazu haben sie, und sie haben sie i...</td>\n    </tr>\n    <tr>\n      <th>0</th>\n      <td>10</td>\n      <td>Sie kennen aber nicht ihren Kontostand.</td>\n    </tr>\n    <tr>\n      <th>0</th>\n      <td>10</td>\n      <td>..............</td>\n    </tr>\n    <tr>\n      <th>3</th>\n      <td>10</td>\n      <td>...........</td>\n    </tr>\n    <tr>\n      <th>3</th>\n      <td>10</td>\n      <td>»Ohne Europa sind viele Fragen nicht mehr seri...</td>\n    </tr>\n    <tr>\n      <th>...</th>\n      <td>...</td>\n      <td>...</td>\n    </tr>\n    <tr>\n      <th>28206</th>\n      <td>98</td>\n      <td>Sind die Noaks Marcumar?</td>\n    </tr>\n    <tr>\n      <th>28206</th>\n      <td>98</td>\n      <td>Der Baum,.. sollte......</td>\n    </tr>\n    <tr>\n      <th>28206</th>\n      <td>98</td>\n      <td>Bei allen Abstimmungen, die Bevölkerung.</td>\n    </tr>\n    <tr>\n      <th>28206</th>\n      <td>98</td>\n      <td>Sie machen nützt.</td>\n    </tr>\n    <tr>\n      <th>28311</th>\n      <td>99</td>\n      <td>NaN</td>\n    </tr>\n  </tbody>\n</table>\n<p>7073 rows × 2 columns</p>\n</div>"
     },
     "execution_count": 46,
     "metadata": {},
     "output_type": "execute_result"
    }
   ],
   "source": [
    "mbart_pseudo_generated = final_merged[[\"construction\", \"evaluated_generated_mbart_pseudo\"]].explode(\"evaluated_generated_mbart_pseudo\").drop_duplicates()\n",
    "mbart_pseudo_generated.to_csv(f\"../../out/generated/mbart_pseudo.tsv\", sep=\"\\t\", decimal=\",\", index=False)\n",
    "mbart_pseudo_generated"
   ],
   "metadata": {
    "collapsed": false,
    "ExecuteTime": {
     "end_time": "2024-02-03T22:52:37.652895900Z",
     "start_time": "2024-02-03T22:52:37.480827300Z"
    }
   },
   "id": "f68bf61c3412dc20",
   "execution_count": 46
  },
  {
   "cell_type": "code",
   "outputs": [
    {
     "data": {
      "text/plain": "       construction                           evaluated_generated_bert\n0                10  [CLS] Geschweige10 denn , dass sie die Argumen...\n0                10  [CLS] Geschweige10 denn , dass sie ihre Argume...\n0                10  [CLS] Geschweige10 denn , dass sie die Autos e...\n0                10  [CLS] Geschweige10 denn , dass sie die Argumen...\n0                10  [CLS] Geschweige10 denn , dass sie die Argumen...\n...             ...                                                ...\n28190            98  [CLS] Sie machen so98 nicht mit , wie es ihnen...\n28190            98  [CLS] Sie machen so98 lange nichts , wie es ih...\n28190            98  [CLS] Sie machen so98 lange mit , weil es ihne...\n28190            98  [CLS] Sie machen so98 lange mit , wie es ihnen...\n28311            99      ' [ M A S K ] '   i s   n o t   i n   l i s t\n\n[33445 rows x 2 columns]",
      "text/html": "<div>\n<style scoped>\n    .dataframe tbody tr th:only-of-type {\n        vertical-align: middle;\n    }\n\n    .dataframe tbody tr th {\n        vertical-align: top;\n    }\n\n    .dataframe thead th {\n        text-align: right;\n    }\n</style>\n<table border=\"1\" class=\"dataframe\">\n  <thead>\n    <tr style=\"text-align: right;\">\n      <th></th>\n      <th>construction</th>\n      <th>evaluated_generated_bert</th>\n    </tr>\n  </thead>\n  <tbody>\n    <tr>\n      <th>0</th>\n      <td>10</td>\n      <td>[CLS] Geschweige10 denn , dass sie die Argumen...</td>\n    </tr>\n    <tr>\n      <th>0</th>\n      <td>10</td>\n      <td>[CLS] Geschweige10 denn , dass sie ihre Argume...</td>\n    </tr>\n    <tr>\n      <th>0</th>\n      <td>10</td>\n      <td>[CLS] Geschweige10 denn , dass sie die Autos e...</td>\n    </tr>\n    <tr>\n      <th>0</th>\n      <td>10</td>\n      <td>[CLS] Geschweige10 denn , dass sie die Argumen...</td>\n    </tr>\n    <tr>\n      <th>0</th>\n      <td>10</td>\n      <td>[CLS] Geschweige10 denn , dass sie die Argumen...</td>\n    </tr>\n    <tr>\n      <th>...</th>\n      <td>...</td>\n      <td>...</td>\n    </tr>\n    <tr>\n      <th>28190</th>\n      <td>98</td>\n      <td>[CLS] Sie machen so98 nicht mit , wie es ihnen...</td>\n    </tr>\n    <tr>\n      <th>28190</th>\n      <td>98</td>\n      <td>[CLS] Sie machen so98 lange nichts , wie es ih...</td>\n    </tr>\n    <tr>\n      <th>28190</th>\n      <td>98</td>\n      <td>[CLS] Sie machen so98 lange mit , weil es ihne...</td>\n    </tr>\n    <tr>\n      <th>28190</th>\n      <td>98</td>\n      <td>[CLS] Sie machen so98 lange mit , wie es ihnen...</td>\n    </tr>\n    <tr>\n      <th>28311</th>\n      <td>99</td>\n      <td>' [ M A S K ] '   i s   n o t   i n   l i s t</td>\n    </tr>\n  </tbody>\n</table>\n<p>33445 rows × 2 columns</p>\n</div>"
     },
     "execution_count": 47,
     "metadata": {},
     "output_type": "execute_result"
    }
   ],
   "source": [
    "bert_pseudo_generated = final_merged[[\"construction\", \"evaluated_generated_bert\"]].explode(\"evaluated_generated_bert\").drop_duplicates()\n",
    "bert_pseudo_generated.to_csv(f\"../../out/generated/bert_pseudo.tsv\", sep=\"\\t\", decimal=\",\", index=False)\n",
    "bert_pseudo_generated"
   ],
   "metadata": {
    "collapsed": false,
    "ExecuteTime": {
     "end_time": "2024-02-03T22:52:39.570517800Z",
     "start_time": "2024-02-03T22:52:37.596778800Z"
    }
   },
   "id": "c00782cf59be24c4",
   "execution_count": 47
  }
 ],
 "metadata": {
  "kernelspec": {
   "display_name": "Python 3",
   "language": "python",
   "name": "python3"
  },
  "language_info": {
   "codemirror_mode": {
    "name": "ipython",
    "version": 2
   },
   "file_extension": ".py",
   "mimetype": "text/x-python",
   "name": "python",
   "nbconvert_exporter": "python",
   "pygments_lexer": "ipython2",
   "version": "2.7.6"
  }
 },
 "nbformat": 4,
 "nbformat_minor": 5
}
