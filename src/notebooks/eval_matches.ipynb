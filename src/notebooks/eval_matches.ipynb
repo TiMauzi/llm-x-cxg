{
 "cells": [
  {
   "cell_type": "code",
   "execution_count": null,
   "id": "initial_id",
   "metadata": {
    "collapsed": true
   },
   "outputs": [],
   "source": [
    "import pandas as pd\n",
    "import matplotlib.pyplot as plt"
   ]
  },
  {
   "cell_type": "code",
   "outputs": [],
   "source": [
    "matches = pd.read_csv(\"./data/matches_dep_constr.tsv\", sep=\"\\t\")\n",
    "matches"
   ],
   "metadata": {
    "collapsed": false
   },
   "id": "197536b017a79e0e",
   "execution_count": null
  },
  {
   "cell_type": "code",
   "outputs": [],
   "source": [
    "matches[\"m\"] = matches.apply(lambda row: row[\"fuzziness (common dep)\"] * row[\"fuzziness (matches)\"], axis=1)\n",
    "matches"
   ],
   "metadata": {
    "collapsed": false
   },
   "id": "2aad159c81ed136a",
   "execution_count": null
  },
  {
   "cell_type": "code",
   "outputs": [],
   "source": [
    "constr_counts = matches['constr'].value_counts()\n",
    "constr_counts = constr_counts.sort_values(ascending=False)\n",
    "\n",
    "constr_strings = [str(i) for i in list(constr_counts.index)]\n",
    "\n",
    "plt.rcParams['font.family'] = 'Libertinus Serif'\n",
    "fig, ax = plt.subplots(figsize=(8, 3))\n",
    "\n",
    "plt.grid(which='major', axis='y', linestyle='-', color='darkgrey', zorder=0)\n",
    "plt.bar(constr_strings, constr_counts.values, color='dimgrey', zorder=3)\n",
    "\n",
    "plt.yscale('log')\n",
    "plt.xlabel('Konstruktion (ID)')\n",
    "plt.ylabel('Anz. gefundener Sätze \\npro Konstruktion')\n",
    "\n",
    "plt.xticks(rotation=90)\n",
    "\n",
    "plt.tight_layout()\n",
    "\n",
    "plt.savefig('matches_number.pdf')\n",
    "plt.show()"
   ],
   "metadata": {
    "collapsed": false
   },
   "id": "e278246d2b4ce6d2",
   "execution_count": null
  },
  {
   "cell_type": "code",
   "outputs": [],
   "source": [
    "constr_avg_m = matches.groupby('constr')['m'].mean()\n",
    "constr_avg_m = constr_avg_m.sort_values(ascending=False)\n",
    "constr_strings = [str(i) for i in list(constr_avg_m.index)]\n",
    "\n",
    "plt.rcParams['font.family'] = 'Libertinus Serif'\n",
    "fig, ax = plt.subplots(figsize=(8, 3))\n",
    "\n",
    "plt.grid(which='major', axis='y', linestyle='-', color='darkgrey', zorder=0)\n",
    "plt.bar(constr_strings, constr_avg_m.values, color='dimgrey', zorder=3)\n",
    "\n",
    "plt.ylim(0, 1)\n",
    "plt.xlabel('Konstruktion (ID)')\n",
    "plt.ylabel('m', rotation=0, ha=\"right\")\n",
    "\n",
    "plt.xticks(rotation=90)\n",
    "\n",
    "plt.tight_layout()\n",
    "\n",
    "plt.savefig('matches_m_value.pdf')\n",
    "plt.show()"
   ],
   "metadata": {
    "collapsed": false
   },
   "id": "d65bb7f0166e0c7b",
   "execution_count": null
  }
 ],
 "metadata": {
  "kernelspec": {
   "display_name": "Python 3",
   "language": "python",
   "name": "python3"
  },
  "language_info": {
   "codemirror_mode": {
    "name": "ipython",
    "version": 2
   },
   "file_extension": ".py",
   "mimetype": "text/x-python",
   "name": "python",
   "nbconvert_exporter": "python",
   "pygments_lexer": "ipython2",
   "version": "2.7.6"
  }
 },
 "nbformat": 4,
 "nbformat_minor": 5
}
